{
 "cells": [
  {
   "cell_type": "markdown",
   "metadata": {},
   "source": [
    "# Super Resolution"
   ]
  },
  {
   "cell_type": "code",
   "execution_count": 2,
   "metadata": {},
   "outputs": [],
   "source": [
    "%load_ext autoreload\n",
    "%autoreload 2"
   ]
  },
  {
   "cell_type": "code",
   "execution_count": 8,
   "metadata": {},
   "outputs": [
    {
     "name": "stderr",
     "output_type": "stream",
     "text": [
      "Seed set to 42\n",
      "[13:35:15] INFO - Using device: cuda\n"
     ]
    }
   ],
   "source": [
    "import torch.nn as nn\n",
    "import torch\n",
    "import torchvision.transforms.v2 as transforms\n",
    "from torchinfo import summary\n",
    "from lightning import Trainer\n",
    "from lightning.pytorch.tuner.tuning import Tuner\n",
    "\n",
    "from nimrod.image.datasets import ImageDataset, ImageDataModule, ImageSuperResDataModule, ImageSuperResDataset\n",
    "from nimrod.models.core import lr_finder, train_one_cycle, Regressor\n",
    "from nimrod.models.resnet import ResBlock\n",
    "from nimrod.models.unet import TinyUnet, TinyUnetX\n",
    "from nimrod.utils import get_device, set_seed\n",
    "from nimrod.models.superres import SuperResAutoencoder, SuperResAutoencoderX, UpBlock\n",
    "\n",
    "from hydra.utils import instantiate\n",
    "from omegaconf import OmegaConf\n",
    "from rich import print\n",
    "from typing import Optional, Type, List, Callable, Any\n",
    "import matplotlib.pyplot as plt\n",
    "from functools import partial\n",
    "import logging\n",
    "\n",
    "set_seed(42)\n",
    "logger = logging.getLogger(__name__)\n",
    "device = get_device()"
   ]
  },
  {
   "cell_type": "markdown",
   "metadata": {},
   "source": [
    "## SuperResAutoencoder"
   ]
  },
  {
   "cell_type": "markdown",
   "metadata": {},
   "source": [
    "### Data"
   ]
  },
  {
   "cell_type": "code",
   "execution_count": 3,
   "metadata": {},
   "outputs": [
    {
     "name": "stderr",
     "output_type": "stream",
     "text": [
      "[17:38:26] INFO - Init ImageSuperResDataModule for slegroux/tiny-imagenet-200-clean\n",
      "[17:38:26] INFO - Init ImageDataModule for slegroux/tiny-imagenet-200-clean\n"
     ]
    },
    {
     "name": "stderr",
     "output_type": "stream",
     "text": [
      "/user/s/slegroux/miniconda3/envs/nimrod/lib/python3.11/site-packages/lightning/pytorch/utilities/parsing.py:209: Attribute 'transforms' is an instance of `nn.Module` and is already saved during checkpointing. It is recommended to ignore them using `self.save_hyperparameters(ignore=['transforms'])`.\n",
      "[17:38:29] INFO - loading dataset slegroux/tiny-imagenet-200-clean with args () from split train\n",
      "[17:38:29] INFO - loading dataset slegroux/tiny-imagenet-200-clean from split train\n",
      "Overwrite dataset info from restored data version if exists.\n",
      "[17:38:30] INFO - Overwrite dataset info from restored data version if exists.\n",
      "Loading Dataset info from ../data/image/slegroux___tiny-imagenet-200-clean/default/0.0.0/4b908d89fab3eb36aa8ebcd41c1996b28da7d6f2\n",
      "[17:38:30] INFO - Loading Dataset info from ../data/image/slegroux___tiny-imagenet-200-clean/default/0.0.0/4b908d89fab3eb36aa8ebcd41c1996b28da7d6f2\n",
      "Found cached dataset tiny-imagenet-200-clean (/user/s/slegroux/Projects/nimrod/tutorials/../data/image/slegroux___tiny-imagenet-200-clean/default/0.0.0/4b908d89fab3eb36aa8ebcd41c1996b28da7d6f2)\n",
      "[17:38:30] INFO - Found cached dataset tiny-imagenet-200-clean (/user/s/slegroux/Projects/nimrod/tutorials/../data/image/slegroux___tiny-imagenet-200-clean/default/0.0.0/4b908d89fab3eb36aa8ebcd41c1996b28da7d6f2)\n",
      "Loading Dataset info from /user/s/slegroux/Projects/nimrod/tutorials/../data/image/slegroux___tiny-imagenet-200-clean/default/0.0.0/4b908d89fab3eb36aa8ebcd41c1996b28da7d6f2\n",
      "[17:38:30] INFO - Loading Dataset info from /user/s/slegroux/Projects/nimrod/tutorials/../data/image/slegroux___tiny-imagenet-200-clean/default/0.0.0/4b908d89fab3eb36aa8ebcd41c1996b28da7d6f2\n",
      "[17:38:38] INFO - loading dataset slegroux/tiny-imagenet-200-clean with args () from split test\n",
      "[17:38:38] INFO - loading dataset slegroux/tiny-imagenet-200-clean from split test\n",
      "Overwrite dataset info from restored data version if exists.\n",
      "[17:38:39] INFO - Overwrite dataset info from restored data version if exists.\n",
      "Loading Dataset info from ../data/image/slegroux___tiny-imagenet-200-clean/default/0.0.0/4b908d89fab3eb36aa8ebcd41c1996b28da7d6f2\n",
      "[17:38:39] INFO - Loading Dataset info from ../data/image/slegroux___tiny-imagenet-200-clean/default/0.0.0/4b908d89fab3eb36aa8ebcd41c1996b28da7d6f2\n",
      "Found cached dataset tiny-imagenet-200-clean (/user/s/slegroux/Projects/nimrod/tutorials/../data/image/slegroux___tiny-imagenet-200-clean/default/0.0.0/4b908d89fab3eb36aa8ebcd41c1996b28da7d6f2)\n",
      "[17:38:39] INFO - Found cached dataset tiny-imagenet-200-clean (/user/s/slegroux/Projects/nimrod/tutorials/../data/image/slegroux___tiny-imagenet-200-clean/default/0.0.0/4b908d89fab3eb36aa8ebcd41c1996b28da7d6f2)\n",
      "Loading Dataset info from /user/s/slegroux/Projects/nimrod/tutorials/../data/image/slegroux___tiny-imagenet-200-clean/default/0.0.0/4b908d89fab3eb36aa8ebcd41c1996b28da7d6f2\n",
      "[17:38:39] INFO - Loading Dataset info from /user/s/slegroux/Projects/nimrod/tutorials/../data/image/slegroux___tiny-imagenet-200-clean/default/0.0.0/4b908d89fab3eb36aa8ebcd41c1996b28da7d6f2\n",
      "[17:38:42] INFO - loading dataset slegroux/tiny-imagenet-200-clean with args () from split validation\n",
      "[17:38:42] INFO - loading dataset slegroux/tiny-imagenet-200-clean from split validation\n",
      "Overwrite dataset info from restored data version if exists.\n",
      "[17:38:43] INFO - Overwrite dataset info from restored data version if exists.\n",
      "Loading Dataset info from ../data/image/slegroux___tiny-imagenet-200-clean/default/0.0.0/4b908d89fab3eb36aa8ebcd41c1996b28da7d6f2\n",
      "[17:38:43] INFO - Loading Dataset info from ../data/image/slegroux___tiny-imagenet-200-clean/default/0.0.0/4b908d89fab3eb36aa8ebcd41c1996b28da7d6f2\n",
      "Found cached dataset tiny-imagenet-200-clean (/user/s/slegroux/Projects/nimrod/tutorials/../data/image/slegroux___tiny-imagenet-200-clean/default/0.0.0/4b908d89fab3eb36aa8ebcd41c1996b28da7d6f2)\n",
      "[17:38:43] INFO - Found cached dataset tiny-imagenet-200-clean (/user/s/slegroux/Projects/nimrod/tutorials/../data/image/slegroux___tiny-imagenet-200-clean/default/0.0.0/4b908d89fab3eb36aa8ebcd41c1996b28da7d6f2)\n",
      "Loading Dataset info from /user/s/slegroux/Projects/nimrod/tutorials/../data/image/slegroux___tiny-imagenet-200-clean/default/0.0.0/4b908d89fab3eb36aa8ebcd41c1996b28da7d6f2\n",
      "[17:38:43] INFO - Loading Dataset info from /user/s/slegroux/Projects/nimrod/tutorials/../data/image/slegroux___tiny-imagenet-200-clean/default/0.0.0/4b908d89fab3eb36aa8ebcd41c1996b28da7d6f2\n"
     ]
    }
   ],
   "source": [
    "#| notest\n",
    "\n",
    "cfg = OmegaConf.load('../config/data/image/tiny_imagenet_superres.yaml')\n",
    "cfg.batch_size = 512\n",
    "dm = instantiate(cfg)\n",
    "dm.prepare_data()\n",
    "dm.setup()"
   ]
  },
  {
   "cell_type": "markdown",
   "metadata": {},
   "source": [
    "### Model"
   ]
  },
  {
   "cell_type": "code",
   "execution_count": 9,
   "metadata": {},
   "outputs": [],
   "source": [
    "# model\n",
    "model = SuperResAutoencoder(n_features=[3, 8, 16, 32, 64, 128, 256]).to(device)\n",
    "criterion = nn.MSELoss()\n",
    "optimizer = torch.optim.Adam(model.parameters(), lr=3e-4)"
   ]
  },
  {
   "cell_type": "code",
   "execution_count": 10,
   "metadata": {},
   "outputs": [
    {
     "data": {
      "text/html": [
       "<pre style=\"white-space:pre;overflow-x:auto;line-height:normal;font-family:Menlo,'DejaVu Sans Mono',consolas,'Courier New',monospace\">total_steps: <span style=\"color: #008080; text-decoration-color: #008080; font-weight: bold\">192</span>\n",
       "</pre>\n"
      ],
      "text/plain": [
       "total_steps: \u001b[1;36m192\u001b[0m\n"
      ]
     },
     "metadata": {},
     "output_type": "display_data"
    },
    {
     "data": {
      "text/html": [
       "<pre style=\"white-space:pre;overflow-x:auto;line-height:normal;font-family:Menlo,'DejaVu Sans Mono',consolas,'Courier New',monospace\">Epoch <span style=\"color: #008080; text-decoration-color: #008080; font-weight: bold\">1</span>: Training Loss <span style=\"color: #008080; text-decoration-color: #008080; font-weight: bold\">0.6892</span>, Current LR: <span style=\"color: #008080; text-decoration-color: #008080; font-weight: bold\">0.0003000000</span>, Step: <span style=\"color: #008080; text-decoration-color: #008080; font-weight: bold\">192</span>/<span style=\"color: #008080; text-decoration-color: #008080; font-weight: bold\">192</span>\n",
       "</pre>\n"
      ],
      "text/plain": [
       "Epoch \u001b[1;36m1\u001b[0m: Training Loss \u001b[1;36m0.6892\u001b[0m, Current LR: \u001b[1;36m0.0003000000\u001b[0m, Step: \u001b[1;36m192\u001b[0m/\u001b[1;36m192\u001b[0m\n"
      ]
     },
     "metadata": {},
     "output_type": "display_data"
    },
    {
     "data": {
      "text/html": [
       "<pre style=\"white-space:pre;overflow-x:auto;line-height:normal;font-family:Menlo,'DejaVu Sans Mono',consolas,'Courier New',monospace\">Epoch <span style=\"color: #008080; text-decoration-color: #008080; font-weight: bold\">1</span>: Validation Loss <span style=\"color: #008080; text-decoration-color: #008080; font-weight: bold\">0.6459</span>\n",
       "</pre>\n"
      ],
      "text/plain": [
       "Epoch \u001b[1;36m1\u001b[0m: Validation Loss \u001b[1;36m0.6459\u001b[0m\n"
      ]
     },
     "metadata": {},
     "output_type": "display_data"
    }
   ],
   "source": [
    "n_epochs = 1\n",
    "losses = []\n",
    "lrs = []\n",
    "current_step = 0\n",
    "total_steps = len(dm.train_dataloader()) * n_epochs\n",
    "print(f\"total_steps: {total_steps}\")\n",
    "\n",
    "for epoch in range(n_epochs):\n",
    "    model.train()\n",
    "    for low_res, high_res in dm.train_dataloader():\n",
    "\n",
    "        optimizer.zero_grad()\n",
    "        low_res = low_res.to(device)\n",
    "        high_res = high_res.to(device)\n",
    "        outputs = model(low_res)\n",
    "        loss = criterion(outputs, high_res)        \n",
    "        loss.backward()\n",
    "        optimizer.step()\n",
    "        losses.append(loss.item())\n",
    "        current_lr = optimizer.param_groups[0]['lr']\n",
    "        lrs.append(current_lr)\n",
    "        current_step += 1\n",
    "\n",
    "    print(f\"Epoch {epoch + 1}: Training Loss {loss.item():.4f}, Current LR: {current_lr:.10f}, Step: {current_step}/{total_steps}\")\n",
    "        \n",
    "\n",
    "    model.eval()\n",
    "    with torch.no_grad():\n",
    "        correct = 0\n",
    "        total = 0\n",
    "        for low_res, high_res in dm.test_dataloader():\n",
    "            # model expects input (B,H*W)\n",
    "            low_res = low_res.to(device)\n",
    "            low_res = low_res.to(device)\n",
    "            high_res = high_res.to(device)\n",
    "            # Pass the input through the model\n",
    "            outputs = model(low_res)\n",
    "            val_loss = criterion(outputs, high_res)\n",
    "    print(f\"Epoch {epoch + 1}: Validation Loss {val_loss.item():.4f}\")\n"
   ]
  },
  {
   "cell_type": "markdown",
   "metadata": {},
   "source": [
    "### Test"
   ]
  },
  {
   "cell_type": "code",
   "execution_count": 39,
   "metadata": {},
   "outputs": [
    {
     "data": {
      "text/plain": [
       "torch.Size([1, 3, 64, 64])"
      ]
     },
     "execution_count": 39,
     "metadata": {},
     "output_type": "execute_result"
    }
   ],
   "source": [
    "x = dm.train_ds[0][0].unsqueeze(0).to(device)\n",
    "y_hat = model(x)\n",
    "y_hat.shape"
   ]
  },
  {
   "cell_type": "code",
   "execution_count": 44,
   "metadata": {},
   "outputs": [],
   "source": [
    "x_mean = torch.tensor([0.4822, 0.4495, 0.3985])\n",
    "x_std = torch.tensor([0.2771, 0.2690, 0.2826])\n",
    "\n",
    "tfm_norm = transforms.Normalize(mean=x_mean, std=x_std)\n",
    "tfm_denorm = transforms.Compose([transforms.Normalize(mean=[0,0,0], std=1/x_std), transforms.Normalize(mean=-x_mean, std=[1,1,1])])\n"
   ]
  },
  {
   "cell_type": "code",
   "execution_count": 45,
   "metadata": {},
   "outputs": [
    {
     "data": {
      "text/plain": [
       "<matplotlib.image.AxesImage at 0x163a1da10>"
      ]
     },
     "execution_count": 45,
     "metadata": {},
     "output_type": "execute_result"
    },
    {
     "data": {
      "image/png": "[encoded data removed]",
      "text/plain": [
       "<Figure size 640x480 with 2 Axes>"
      ]
     },
     "metadata": {},
     "output_type": "display_data"
    }
   ],
   "source": [
    "fig, ax = plt.subplots(1, 2)\n",
    "ax[0].imshow(tfm_denorm(x[0]).permute(1, 2, 0).cpu().numpy())\n",
    "ax[1].imshow(tfm_denorm(y_hat[0]).permute(1, 2, 0).detach().cpu().numpy())"
   ]
  },
  {
   "cell_type": "markdown",
   "metadata": {},
   "source": [
    "## SuperResAutoencoderX"
   ]
  },
  {
   "cell_type": "markdown",
   "metadata": {},
   "source": [
    "### Data"
   ]
  },
  {
   "cell_type": "code",
   "execution_count": 4,
   "metadata": {},
   "outputs": [
    {
     "name": "stderr",
     "output_type": "stream",
     "text": [
      "[17:45:30] INFO - Init ImageSuperResDataModule for slegroux/tiny-imagenet-200-clean\n",
      "[17:45:30] INFO - Init ImageDataModule for slegroux/tiny-imagenet-200-clean\n",
      "[17:45:32] INFO - loading dataset slegroux/tiny-imagenet-200-clean with args () from split train\n",
      "[17:45:32] INFO - loading dataset slegroux/tiny-imagenet-200-clean from split train\n",
      "Overwrite dataset info from restored data version if exists.\n",
      "[17:45:34] INFO - Overwrite dataset info from restored data version if exists.\n",
      "Loading Dataset info from ../data/image/slegroux___tiny-imagenet-200-clean/default/0.0.0/4b908d89fab3eb36aa8ebcd41c1996b28da7d6f2\n",
      "[17:45:34] INFO - Loading Dataset info from ../data/image/slegroux___tiny-imagenet-200-clean/default/0.0.0/4b908d89fab3eb36aa8ebcd41c1996b28da7d6f2\n",
      "Found cached dataset tiny-imagenet-200-clean (/user/s/slegroux/Projects/nimrod/tutorials/../data/image/slegroux___tiny-imagenet-200-clean/default/0.0.0/4b908d89fab3eb36aa8ebcd41c1996b28da7d6f2)\n",
      "[17:45:34] INFO - Found cached dataset tiny-imagenet-200-clean (/user/s/slegroux/Projects/nimrod/tutorials/../data/image/slegroux___tiny-imagenet-200-clean/default/0.0.0/4b908d89fab3eb36aa8ebcd41c1996b28da7d6f2)\n",
      "Loading Dataset info from /user/s/slegroux/Projects/nimrod/tutorials/../data/image/slegroux___tiny-imagenet-200-clean/default/0.0.0/4b908d89fab3eb36aa8ebcd41c1996b28da7d6f2\n",
      "[17:45:34] INFO - Loading Dataset info from /user/s/slegroux/Projects/nimrod/tutorials/../data/image/slegroux___tiny-imagenet-200-clean/default/0.0.0/4b908d89fab3eb36aa8ebcd41c1996b28da7d6f2\n",
      "[17:45:46] INFO - loading dataset slegroux/tiny-imagenet-200-clean with args () from split test\n",
      "[17:45:46] INFO - loading dataset slegroux/tiny-imagenet-200-clean from split test\n",
      "Overwrite dataset info from restored data version if exists.\n",
      "[17:45:48] INFO - Overwrite dataset info from restored data version if exists.\n",
      "Loading Dataset info from ../data/image/slegroux___tiny-imagenet-200-clean/default/0.0.0/4b908d89fab3eb36aa8ebcd41c1996b28da7d6f2\n",
      "[17:45:48] INFO - Loading Dataset info from ../data/image/slegroux___tiny-imagenet-200-clean/default/0.0.0/4b908d89fab3eb36aa8ebcd41c1996b28da7d6f2\n",
      "Found cached dataset tiny-imagenet-200-clean (/user/s/slegroux/Projects/nimrod/tutorials/../data/image/slegroux___tiny-imagenet-200-clean/default/0.0.0/4b908d89fab3eb36aa8ebcd41c1996b28da7d6f2)\n",
      "[17:45:48] INFO - Found cached dataset tiny-imagenet-200-clean (/user/s/slegroux/Projects/nimrod/tutorials/../data/image/slegroux___tiny-imagenet-200-clean/default/0.0.0/4b908d89fab3eb36aa8ebcd41c1996b28da7d6f2)\n",
      "Loading Dataset info from /user/s/slegroux/Projects/nimrod/tutorials/../data/image/slegroux___tiny-imagenet-200-clean/default/0.0.0/4b908d89fab3eb36aa8ebcd41c1996b28da7d6f2\n",
      "[17:45:48] INFO - Loading Dataset info from /user/s/slegroux/Projects/nimrod/tutorials/../data/image/slegroux___tiny-imagenet-200-clean/default/0.0.0/4b908d89fab3eb36aa8ebcd41c1996b28da7d6f2\n",
      "[17:45:50] INFO - loading dataset slegroux/tiny-imagenet-200-clean with args () from split validation\n",
      "[17:45:50] INFO - loading dataset slegroux/tiny-imagenet-200-clean from split validation\n",
      "Overwrite dataset info from restored data version if exists.\n",
      "[17:45:52] INFO - Overwrite dataset info from restored data version if exists.\n",
      "Loading Dataset info from ../data/image/slegroux___tiny-imagenet-200-clean/default/0.0.0/4b908d89fab3eb36aa8ebcd41c1996b28da7d6f2\n",
      "[17:45:52] INFO - Loading Dataset info from ../data/image/slegroux___tiny-imagenet-200-clean/default/0.0.0/4b908d89fab3eb36aa8ebcd41c1996b28da7d6f2\n",
      "Found cached dataset tiny-imagenet-200-clean (/user/s/slegroux/Projects/nimrod/tutorials/../data/image/slegroux___tiny-imagenet-200-clean/default/0.0.0/4b908d89fab3eb36aa8ebcd41c1996b28da7d6f2)\n",
      "[17:45:52] INFO - Found cached dataset tiny-imagenet-200-clean (/user/s/slegroux/Projects/nimrod/tutorials/../data/image/slegroux___tiny-imagenet-200-clean/default/0.0.0/4b908d89fab3eb36aa8ebcd41c1996b28da7d6f2)\n",
      "Loading Dataset info from /user/s/slegroux/Projects/nimrod/tutorials/../data/image/slegroux___tiny-imagenet-200-clean/default/0.0.0/4b908d89fab3eb36aa8ebcd41c1996b28da7d6f2\n",
      "[17:45:52] INFO - Loading Dataset info from /user/s/slegroux/Projects/nimrod/tutorials/../data/image/slegroux___tiny-imagenet-200-clean/default/0.0.0/4b908d89fab3eb36aa8ebcd41c1996b28da7d6f2\n"
     ]
    }
   ],
   "source": [
    "#| notest\n",
    "\n",
    "cfg = OmegaConf.load('../config/data/image/tiny_imagenet_superres.yaml')\n",
    "cfg.batch_size = 512\n",
    "cfg.num_workers = 16\n",
    "dm = instantiate(cfg)\n",
    "dm.prepare_data()\n",
    "dm.setup()"
   ]
  },
  {
   "cell_type": "markdown",
   "metadata": {},
   "source": [
    "### Loop"
   ]
  },
  {
   "cell_type": "code",
   "execution_count": 8,
   "metadata": {},
   "outputs": [],
   "source": [
    "# import wandb\n",
    "# wandb.finish()\n"
   ]
  },
  {
   "cell_type": "code",
   "execution_count": null,
   "metadata": {},
   "outputs": [
    {
     "name": "stderr",
     "output_type": "stream",
     "text": [
      "Seed set to 42\n",
      "Seed set to 42\n",
      "[16:30:56] INFO - Using device: cuda\n"
     ]
    },
    {
     "data": {
      "text/html": [
       "<pre style=\"white-space:pre;overflow-x:auto;line-height:normal;font-family:Menlo,'DejaVu Sans Mono',consolas,'Courier New',monospace\"><span style=\"font-weight: bold\">{</span><span style=\"color: #008000; text-decoration-color: #008000\">'_target_'</span>: <span style=\"color: #008000; text-decoration-color: #008000\">'nimrod.models.superres.SuperResAutoencoderX'</span>, <span style=\"color: #008000; text-decoration-color: #008000\">'_partial_'</span>: <span style=\"color: #00ff00; text-decoration-color: #00ff00; font-style: italic\">True</span>, <span style=\"color: #008000; text-decoration-color: #008000\">'nnet'</span>: <span style=\"font-weight: bold\">{</span><span style=\"color: #008000; text-decoration-color: #008000\">'_target_'</span>: \n",
       "<span style=\"color: #008000; text-decoration-color: #008000\">'nimrod.models.superres.SuperResAutoencoder'</span>, <span style=\"color: #008000; text-decoration-color: #008000\">'n_features'</span>: <span style=\"font-weight: bold\">[</span><span style=\"color: #008080; text-decoration-color: #008080; font-weight: bold\">3</span>, <span style=\"color: #008080; text-decoration-color: #008080; font-weight: bold\">32</span>, <span style=\"color: #008080; text-decoration-color: #008080; font-weight: bold\">64</span>, <span style=\"color: #008080; text-decoration-color: #008080; font-weight: bold\">128</span>, <span style=\"color: #008080; text-decoration-color: #008080; font-weight: bold\">256</span>, <span style=\"color: #008080; text-decoration-color: #008080; font-weight: bold\">512</span>, <span style=\"color: #008080; text-decoration-color: #008080; font-weight: bold\">1024</span><span style=\"font-weight: bold\">]</span>, <span style=\"color: #008000; text-decoration-color: #008000\">'activation'</span>: \n",
       "<span style=\"font-weight: bold\">{</span><span style=\"color: #008000; text-decoration-color: #008000\">'_target_'</span>: <span style=\"color: #008000; text-decoration-color: #008000\">'torch.nn.LeakyReLU'</span>, <span style=\"color: #008000; text-decoration-color: #008000\">'_partial_'</span>: <span style=\"color: #00ff00; text-decoration-color: #00ff00; font-style: italic\">True</span>, <span style=\"color: #008000; text-decoration-color: #008000\">'negative_slope'</span>: <span style=\"color: #008080; text-decoration-color: #008080; font-weight: bold\">0.1</span><span style=\"font-weight: bold\">}</span>, <span style=\"color: #008000; text-decoration-color: #008000\">'leaky'</span>: <span style=\"color: #008080; text-decoration-color: #008080; font-weight: bold\">0.1</span><span style=\"font-weight: bold\">}}</span>\n",
       "</pre>\n"
      ],
      "text/plain": [
       "\u001b[1m{\u001b[0m\u001b[32m'_target_'\u001b[0m: \u001b[32m'nimrod.models.superres.SuperResAutoencoderX'\u001b[0m, \u001b[32m'_partial_'\u001b[0m: \u001b[3;92mTrue\u001b[0m, \u001b[32m'nnet'\u001b[0m: \u001b[1m{\u001b[0m\u001b[32m'_target_'\u001b[0m: \n",
       "\u001b[32m'nimrod.models.superres.SuperResAutoencoder'\u001b[0m, \u001b[32m'n_features'\u001b[0m: \u001b[1m[\u001b[0m\u001b[1;36m3\u001b[0m, \u001b[1;36m32\u001b[0m, \u001b[1;36m64\u001b[0m, \u001b[1;36m128\u001b[0m, \u001b[1;36m256\u001b[0m, \u001b[1;36m512\u001b[0m, \u001b[1;36m1024\u001b[0m\u001b[1m]\u001b[0m, \u001b[32m'activation'\u001b[0m: \n",
       "\u001b[1m{\u001b[0m\u001b[32m'_target_'\u001b[0m: \u001b[32m'torch.nn.LeakyReLU'\u001b[0m, \u001b[32m'_partial_'\u001b[0m: \u001b[3;92mTrue\u001b[0m, \u001b[32m'negative_slope'\u001b[0m: \u001b[1;36m0.1\u001b[0m\u001b[1m}\u001b[0m, \u001b[32m'leaky'\u001b[0m: \u001b[1;36m0.1\u001b[0m\u001b[1m}\u001b[0m\u001b[1m}\u001b[0m\n"
      ]
     },
     "metadata": {},
     "output_type": "display_data"
    },
    {
     "name": "stderr",
     "output_type": "stream",
     "text": [
      "GPU available: True (cuda), used: True\n",
      "TPU available: False, using: 0 TPU cores\n",
      "HPU available: False, using: 0 HPUs\n",
      "[16:30:58] INFO - SuperResAutoencoderX: init\n",
      "[16:30:58] INFO - Regressor: init\n",
      "/user/s/slegroux/miniconda3/envs/nimrod/lib/python3.11/site-packages/lightning/pytorch/loops/utilities.py:73: `max_epochs` was not set. Setting it to 1000 epochs. To train without an epoch limit, set `max_epochs=-1`.\n"
     ]
    }
   ],
   "source": [
    "# SETUP\n",
    "project_name = \"TINY-Imagenet-Regression\"\n",
    "\n",
    "N_EPOCHS = 5\n",
    "do_lr_finder = True\n",
    "exp_logger = 'wandb'\n",
    "precision = \"16-mixed\" # 16-mixed, 32-true\n",
    "# n_features = [3, 16, 64, 128, 256, 512]\n",
    "n_features = [3, 32, 64, 128, 256, 512, 1024]  # channel/feature expansion\n",
    "# n_features = [3, 8, 16, 32]\n",
    "\n",
    "cfg = OmegaConf.load('../config/model/image/autoencoderx.yaml')\n",
    "print(cfg)\n",
    "cfg.nnet.n_features = n_features  # channel/feature expansion\n",
    "model = instantiate(cfg) #partial\n",
    "\n",
    "tags = [\n",
    "    f\"precision:{precision}\",\n",
    "    f\"n_features:{n_features}\",\n",
    "    f\"bs:{dm.batch_size}\",\n",
    "    f\"epochs:{N_EPOCHS}\"\n",
    "    ]\n",
    "\n",
    "# LR Finder\n",
    "if do_lr_finder:\n",
    "    suggested_lr = lr_finder(model, dm, plot=True)\n",
    "    print(f\"Suggested learning rate: {suggested_lr}\")\n",
    "else:\n",
    "    suggested_lr = 3e-4\n",
    "\n",
    "# ONE-CYCLE TRAINING\n",
    "best_ckpt_path = train_one_cycle(\n",
    "    model,\n",
    "    dm,\n",
    "    n_epochs=N_EPOCHS,\n",
    "    max_lr=suggested_lr,\n",
    "    project_name=project_name,\n",
    "    tags=tags,\n",
    "    model_summary=False,\n",
    "    logger_cb=exp_logger,\n",
    "    )"
   ]
  },
  {
   "cell_type": "markdown",
   "metadata": {},
   "source": [
    "### Test"
   ]
  },
  {
   "cell_type": "code",
   "execution_count": 15,
   "metadata": {},
   "outputs": [
    {
     "name": "stderr",
     "output_type": "stream",
     "text": [
      "[16:23:39] INFO - SuperResAutoencoderX: init\n",
      "[16:23:39] INFO - Regressor: init\n",
      "/user/s/slegroux/miniconda3/envs/nimrod/lib/python3.11/site-packages/lightning/pytorch/utilities/parsing.py:209: Attribute 'nnet' is an instance of `nn.Module` and is already saved during checkpointing. It is recommended to ignore them using `self.save_hyperparameters(ignore=['nnet'])`.\n"
     ]
    }
   ],
   "source": [
    "mdl = SuperResAutoencoderX.load_from_checkpoint(best_ckpt_path)"
   ]
  },
  {
   "cell_type": "code",
   "execution_count": 16,
   "metadata": {},
   "outputs": [
    {
     "data": {
      "text/html": [
       "<pre style=\"white-space:pre;overflow-x:auto;line-height:normal;font-family:Menlo,'DejaVu Sans Mono',consolas,'Courier New',monospace\"><span style=\"color: #800080; text-decoration-color: #800080; font-weight: bold\">tensor</span><span style=\"font-weight: bold\">([</span><span style=\"color: #008080; text-decoration-color: #008080; font-weight: bold\">52091</span><span style=\"font-weight: bold\">])</span>\n",
       "</pre>\n"
      ],
      "text/plain": [
       "\u001b[1;35mtensor\u001b[0m\u001b[1m(\u001b[0m\u001b[1m[\u001b[0m\u001b[1;36m52091\u001b[0m\u001b[1m]\u001b[0m\u001b[1m)\u001b[0m\n"
      ]
     },
     "metadata": {},
     "output_type": "display_data"
    },
    {
     "data": {
      "text/plain": [
       "<matplotlib.image.AxesImage at 0x7f5a0cf66f50>"
      ]
     },
     "execution_count": 16,
     "metadata": {},
     "output_type": "execute_result"
    },
    {
     "data": {
      "image/png": "[encoded data removed]",
      "text/plain": [
       "<Figure size 640x480 with 2 Axes>"
      ]
     },
     "metadata": {},
     "output_type": "display_data"
    },
    {
     "data": {
      "image/png": "[encoded data removed]",
      "text/plain": [
       "<Figure size 640x480 with 2 Axes>"
      ]
     },
     "metadata": {},
     "output_type": "display_data"
    }
   ],
   "source": [
    "x_mean = torch.tensor([0.4822, 0.4495, 0.3985])\n",
    "x_std = torch.tensor([0.2771, 0.2690, 0.2826])\n",
    "tfm_norm = transforms.Normalize(mean=x_mean, std=x_std)\n",
    "tfm_denorm = transforms.Compose([transforms.Normalize(mean=[0,0,0], std=1/x_std), transforms.Normalize(mean=-x_mean, std=[1,1,1])])\n",
    "\n",
    "idx = torch.randint(0, len(dm.train_ds), (1,))\n",
    "print(idx)\n",
    "x = dm.train_ds[idx][0].unsqueeze(0).to(device)\n",
    "\n",
    "y_hat = mdl(x)\n",
    "y_hat.shape\n",
    "\n",
    "fig, ax = plt.subplots(1, 2)\n",
    "# fig.title(\"denormalize\")\n",
    "ax[0].imshow(tfm_denorm(x[0]).permute(1, 2, 0).cpu().numpy())\n",
    "ax[1].imshow(tfm_denorm(y_hat[0]).permute(1, 2, 0).detach().cpu().numpy())\n",
    "\n",
    "# fig.title(\"normalized\")\n",
    "fig, ax = plt.subplots(1, 2)\n",
    "ax[0].imshow(x[0].permute(1, 2, 0).cpu().numpy())\n",
    "ax[1].imshow(y_hat[0].permute(1, 2, 0).detach().cpu().numpy())"
   ]
  },
  {
   "cell_type": "markdown",
   "metadata": {},
   "source": [
    "## Tiny Unet"
   ]
  },
  {
   "cell_type": "markdown",
   "metadata": {},
   "source": [
    "### Data\n"
   ]
  },
  {
   "cell_type": "code",
   "execution_count": 4,
   "metadata": {},
   "outputs": [
    {
     "name": "stderr",
     "output_type": "stream",
     "text": [
      "[13:30:45] INFO - Init ImageSuperResDataModule for slegroux/tiny-imagenet-200-clean\n",
      "[13:30:45] INFO - Init ImageDataModule for slegroux/tiny-imagenet-200-clean\n",
      "/user/s/slegroux/miniconda3/envs/nimrod/lib/python3.11/site-packages/lightning/pytorch/utilities/parsing.py:209: Attribute 'transforms' is an instance of `nn.Module` and is already saved during checkpointing. It is recommended to ignore them using `self.save_hyperparameters(ignore=['transforms'])`.\n",
      "[13:30:47] INFO - loading dataset slegroux/tiny-imagenet-200-clean with args () from split train\n",
      "[13:30:47] INFO - loading dataset slegroux/tiny-imagenet-200-clean from split train\n",
      "Overwrite dataset info from restored data version if exists.\n",
      "[13:30:49] INFO - Overwrite dataset info from restored data version if exists.\n",
      "Loading Dataset info from ../data/image/slegroux___tiny-imagenet-200-clean/default/0.0.0/4b908d89fab3eb36aa8ebcd41c1996b28da7d6f2\n",
      "[13:30:49] INFO - Loading Dataset info from ../data/image/slegroux___tiny-imagenet-200-clean/default/0.0.0/4b908d89fab3eb36aa8ebcd41c1996b28da7d6f2\n",
      "Found cached dataset tiny-imagenet-200-clean (/user/s/slegroux/Projects/nimrod/tutorials/../data/image/slegroux___tiny-imagenet-200-clean/default/0.0.0/4b908d89fab3eb36aa8ebcd41c1996b28da7d6f2)\n",
      "[13:30:49] INFO - Found cached dataset tiny-imagenet-200-clean (/user/s/slegroux/Projects/nimrod/tutorials/../data/image/slegroux___tiny-imagenet-200-clean/default/0.0.0/4b908d89fab3eb36aa8ebcd41c1996b28da7d6f2)\n",
      "Loading Dataset info from /user/s/slegroux/Projects/nimrod/tutorials/../data/image/slegroux___tiny-imagenet-200-clean/default/0.0.0/4b908d89fab3eb36aa8ebcd41c1996b28da7d6f2\n",
      "[13:30:49] INFO - Loading Dataset info from /user/s/slegroux/Projects/nimrod/tutorials/../data/image/slegroux___tiny-imagenet-200-clean/default/0.0.0/4b908d89fab3eb36aa8ebcd41c1996b28da7d6f2\n",
      "[13:30:57] INFO - loading dataset slegroux/tiny-imagenet-200-clean with args () from split test\n",
      "[13:30:57] INFO - loading dataset slegroux/tiny-imagenet-200-clean from split test\n",
      "Overwrite dataset info from restored data version if exists.\n",
      "[13:30:58] INFO - Overwrite dataset info from restored data version if exists.\n",
      "Loading Dataset info from ../data/image/slegroux___tiny-imagenet-200-clean/default/0.0.0/4b908d89fab3eb36aa8ebcd41c1996b28da7d6f2\n",
      "[13:30:58] INFO - Loading Dataset info from ../data/image/slegroux___tiny-imagenet-200-clean/default/0.0.0/4b908d89fab3eb36aa8ebcd41c1996b28da7d6f2\n",
      "Found cached dataset tiny-imagenet-200-clean (/user/s/slegroux/Projects/nimrod/tutorials/../data/image/slegroux___tiny-imagenet-200-clean/default/0.0.0/4b908d89fab3eb36aa8ebcd41c1996b28da7d6f2)\n",
      "[13:30:58] INFO - Found cached dataset tiny-imagenet-200-clean (/user/s/slegroux/Projects/nimrod/tutorials/../data/image/slegroux___tiny-imagenet-200-clean/default/0.0.0/4b908d89fab3eb36aa8ebcd41c1996b28da7d6f2)\n",
      "Loading Dataset info from /user/s/slegroux/Projects/nimrod/tutorials/../data/image/slegroux___tiny-imagenet-200-clean/default/0.0.0/4b908d89fab3eb36aa8ebcd41c1996b28da7d6f2\n",
      "[13:30:58] INFO - Loading Dataset info from /user/s/slegroux/Projects/nimrod/tutorials/../data/image/slegroux___tiny-imagenet-200-clean/default/0.0.0/4b908d89fab3eb36aa8ebcd41c1996b28da7d6f2\n",
      "[13:31:00] INFO - loading dataset slegroux/tiny-imagenet-200-clean with args () from split validation\n",
      "[13:31:00] INFO - loading dataset slegroux/tiny-imagenet-200-clean from split validation\n",
      "Overwrite dataset info from restored data version if exists.\n",
      "[13:31:01] INFO - Overwrite dataset info from restored data version if exists.\n",
      "Loading Dataset info from ../data/image/slegroux___tiny-imagenet-200-clean/default/0.0.0/4b908d89fab3eb36aa8ebcd41c1996b28da7d6f2\n",
      "[13:31:01] INFO - Loading Dataset info from ../data/image/slegroux___tiny-imagenet-200-clean/default/0.0.0/4b908d89fab3eb36aa8ebcd41c1996b28da7d6f2\n",
      "Found cached dataset tiny-imagenet-200-clean (/user/s/slegroux/Projects/nimrod/tutorials/../data/image/slegroux___tiny-imagenet-200-clean/default/0.0.0/4b908d89fab3eb36aa8ebcd41c1996b28da7d6f2)\n",
      "[13:31:01] INFO - Found cached dataset tiny-imagenet-200-clean (/user/s/slegroux/Projects/nimrod/tutorials/../data/image/slegroux___tiny-imagenet-200-clean/default/0.0.0/4b908d89fab3eb36aa8ebcd41c1996b28da7d6f2)\n",
      "Loading Dataset info from /user/s/slegroux/Projects/nimrod/tutorials/../data/image/slegroux___tiny-imagenet-200-clean/default/0.0.0/4b908d89fab3eb36aa8ebcd41c1996b28da7d6f2\n",
      "[13:31:01] INFO - Loading Dataset info from /user/s/slegroux/Projects/nimrod/tutorials/../data/image/slegroux___tiny-imagenet-200-clean/default/0.0.0/4b908d89fab3eb36aa8ebcd41c1996b28da7d6f2\n"
     ]
    }
   ],
   "source": [
    "#| notest\n",
    "\n",
    "cfg = OmegaConf.load('../config/data/image/tiny_imagenet_superres.yaml')\n",
    "cfg.batch_size = 512\n",
    "cfg.num_workers = 16\n",
    "dm = instantiate(cfg)\n",
    "dm.prepare_data()\n",
    "dm.setup()"
   ]
  },
  {
   "cell_type": "markdown",
   "metadata": {},
   "source": [
    "### Train"
   ]
  },
  {
   "cell_type": "code",
   "execution_count": 5,
   "metadata": {},
   "outputs": [
    {
     "data": {
      "text/html": [
       "<pre style=\"white-space:pre;overflow-x:auto;line-height:normal;font-family:Menlo,'DejaVu Sans Mono',consolas,'Courier New',monospace\"><span style=\"font-weight: bold\">{</span><span style=\"color: #008000; text-decoration-color: #008000\">'_target_'</span>: <span style=\"color: #008000; text-decoration-color: #008000\">'nimrod.models.unet.TinyUnetX'</span>, <span style=\"color: #008000; text-decoration-color: #008000\">'_partial_'</span>: <span style=\"color: #00ff00; text-decoration-color: #00ff00; font-style: italic\">True</span>, <span style=\"color: #008000; text-decoration-color: #008000\">'nnet'</span>: <span style=\"font-weight: bold\">{</span><span style=\"color: #008000; text-decoration-color: #008000\">'_target_'</span>: <span style=\"color: #008000; text-decoration-color: #008000\">'nimrod.models.unet.TinyUnet'</span>,\n",
       "<span style=\"color: #008000; text-decoration-color: #008000\">'n_features'</span>: <span style=\"font-weight: bold\">[</span><span style=\"color: #008080; text-decoration-color: #008080; font-weight: bold\">3</span>, <span style=\"color: #008080; text-decoration-color: #008080; font-weight: bold\">32</span>, <span style=\"color: #008080; text-decoration-color: #008080; font-weight: bold\">64</span>, <span style=\"color: #008080; text-decoration-color: #008080; font-weight: bold\">128</span>, <span style=\"color: #008080; text-decoration-color: #008080; font-weight: bold\">256</span>, <span style=\"color: #008080; text-decoration-color: #008080; font-weight: bold\">512</span>, <span style=\"color: #008080; text-decoration-color: #008080; font-weight: bold\">1024</span><span style=\"font-weight: bold\">]</span>, <span style=\"color: #008000; text-decoration-color: #008000\">'activation'</span>: <span style=\"font-weight: bold\">{</span><span style=\"color: #008000; text-decoration-color: #008000\">'_target_'</span>: <span style=\"color: #008000; text-decoration-color: #008000\">'torch.nn.LeakyReLU'</span>, <span style=\"color: #008000; text-decoration-color: #008000\">'_partial_'</span>: <span style=\"color: #00ff00; text-decoration-color: #00ff00; font-style: italic\">True</span>,\n",
       "<span style=\"color: #008000; text-decoration-color: #008000\">'negative_slope'</span>: <span style=\"color: #008080; text-decoration-color: #008080; font-weight: bold\">0.1</span><span style=\"font-weight: bold\">}</span>, <span style=\"color: #008000; text-decoration-color: #008000\">'leaky'</span>: <span style=\"color: #008080; text-decoration-color: #008080; font-weight: bold\">0.1</span><span style=\"font-weight: bold\">}}</span>\n",
       "</pre>\n"
      ],
      "text/plain": [
       "\u001b[1m{\u001b[0m\u001b[32m'_target_'\u001b[0m: \u001b[32m'nimrod.models.unet.TinyUnetX'\u001b[0m, \u001b[32m'_partial_'\u001b[0m: \u001b[3;92mTrue\u001b[0m, \u001b[32m'nnet'\u001b[0m: \u001b[1m{\u001b[0m\u001b[32m'_target_'\u001b[0m: \u001b[32m'nimrod.models.unet.TinyUnet'\u001b[0m,\n",
       "\u001b[32m'n_features'\u001b[0m: \u001b[1m[\u001b[0m\u001b[1;36m3\u001b[0m, \u001b[1;36m32\u001b[0m, \u001b[1;36m64\u001b[0m, \u001b[1;36m128\u001b[0m, \u001b[1;36m256\u001b[0m, \u001b[1;36m512\u001b[0m, \u001b[1;36m1024\u001b[0m\u001b[1m]\u001b[0m, \u001b[32m'activation'\u001b[0m: \u001b[1m{\u001b[0m\u001b[32m'_target_'\u001b[0m: \u001b[32m'torch.nn.LeakyReLU'\u001b[0m, \u001b[32m'_partial_'\u001b[0m: \u001b[3;92mTrue\u001b[0m,\n",
       "\u001b[32m'negative_slope'\u001b[0m: \u001b[1;36m0.1\u001b[0m\u001b[1m}\u001b[0m, \u001b[32m'leaky'\u001b[0m: \u001b[1;36m0.1\u001b[0m\u001b[1m}\u001b[0m\u001b[1m}\u001b[0m\n"
      ]
     },
     "metadata": {},
     "output_type": "display_data"
    },
    {
     "name": "stderr",
     "output_type": "stream",
     "text": [
      "Seed set to 42\n",
      "[17:47:28] WARNING - setting conv bias back to False as Batchnorm is used\n",
      "[17:47:28] WARNING - setting conv bias back to False as Batchnorm is used\n",
      "[17:47:28] WARNING - setting conv bias back to False as Batchnorm is used\n",
      "[17:47:28] WARNING - setting conv bias back to False as Batchnorm is used\n",
      "[17:47:28] WARNING - setting conv bias back to False as Batchnorm is used\n",
      "[17:47:28] WARNING - setting conv bias back to False as Batchnorm is used\n",
      "[17:47:28] WARNING - setting conv bias back to False as Batchnorm is used\n",
      "[17:47:28] WARNING - setting conv bias back to False as Batchnorm is used\n",
      "[17:47:28] WARNING - setting conv bias back to False as Batchnorm is used\n",
      "[17:47:28] WARNING - setting conv bias back to False as Batchnorm is used\n",
      "[17:47:28] WARNING - setting conv bias back to False as Batchnorm is used\n",
      "[17:47:28] WARNING - setting conv bias back to False as Batchnorm is used\n",
      "[17:47:28] WARNING - setting conv bias back to False as Batchnorm is used\n",
      "[17:47:28] WARNING - setting conv bias back to False as Batchnorm is used\n",
      "[17:47:28] WARNING - setting conv bias back to False as Batchnorm is used\n",
      "[17:47:28] WARNING - setting conv bias back to False as Batchnorm is used\n",
      "[17:47:28] WARNING - setting conv bias back to False as Batchnorm is used\n",
      "[17:47:28] WARNING - setting conv bias back to False as Batchnorm is used\n",
      "[17:47:28] WARNING - setting conv bias to False as Batchnorm is used\n",
      "[17:47:28] WARNING - setting conv bias to False as Batchnorm is used\n",
      "[17:47:28] WARNING - setting conv bias to False as Batchnorm is used\n",
      "[17:47:28] WARNING - setting conv bias to False as Batchnorm is used\n",
      "[17:47:28] WARNING - setting conv bias to False as Batchnorm is used\n",
      "[17:47:28] WARNING - setting conv bias back to False as Batchnorm is used\n",
      "[17:47:28] WARNING - setting conv bias back to False as Batchnorm is used\n",
      "[17:47:28] WARNING - setting conv bias back to False as Batchnorm is used\n",
      "[17:47:28] WARNING - setting conv bias back to False as Batchnorm is used\n",
      "[17:47:28] WARNING - setting conv bias back to False as Batchnorm is used\n",
      "GPU available: True (cuda), used: True\n",
      "TPU available: False, using: 0 TPU cores\n",
      "HPU available: False, using: 0 HPUs\n",
      "[17:47:28] INFO - SuperResAutoencoderX: init\n",
      "[17:47:28] INFO - Regressor: init\n",
      "/user/s/slegroux/miniconda3/envs/nimrod/lib/python3.11/site-packages/lightning/pytorch/utilities/parsing.py:209: Attribute 'nnet' is an instance of `nn.Module` and is already saved during checkpointing. It is recommended to ignore them using `self.save_hyperparameters(ignore=['nnet'])`.\n",
      "/user/s/slegroux/miniconda3/envs/nimrod/lib/python3.11/site-packages/lightning/pytorch/loops/utilities.py:73: `max_epochs` was not set. Setting it to 1000 epochs. To train without an epoch limit, set `max_epochs=-1`.\n",
      "You are using a CUDA device ('NVIDIA GeForce RTX 4090') that has Tensor Cores. To properly utilize them, you should set `torch.set_float32_matmul_precision('medium' | 'high')` which will trade-off precision for performance. For more details, read https://pytorch.org/docs/stable/generated/torch.set_float32_matmul_precision.html#torch.set_float32_matmul_precision\n",
      "[17:47:30] INFO - loading dataset slegroux/tiny-imagenet-200-clean with args () from split train\n",
      "[17:47:30] INFO - loading dataset slegroux/tiny-imagenet-200-clean from split train\n",
      "Overwrite dataset info from restored data version if exists.\n",
      "[17:47:32] INFO - Overwrite dataset info from restored data version if exists.\n",
      "Loading Dataset info from ../data/image/slegroux___tiny-imagenet-200-clean/default/0.0.0/4b908d89fab3eb36aa8ebcd41c1996b28da7d6f2\n",
      "[17:47:32] INFO - Loading Dataset info from ../data/image/slegroux___tiny-imagenet-200-clean/default/0.0.0/4b908d89fab3eb36aa8ebcd41c1996b28da7d6f2\n",
      "Found cached dataset tiny-imagenet-200-clean (/user/s/slegroux/Projects/nimrod/tutorials/../data/image/slegroux___tiny-imagenet-200-clean/default/0.0.0/4b908d89fab3eb36aa8ebcd41c1996b28da7d6f2)\n",
      "[17:47:32] INFO - Found cached dataset tiny-imagenet-200-clean (/user/s/slegroux/Projects/nimrod/tutorials/../data/image/slegroux___tiny-imagenet-200-clean/default/0.0.0/4b908d89fab3eb36aa8ebcd41c1996b28da7d6f2)\n",
      "Loading Dataset info from /user/s/slegroux/Projects/nimrod/tutorials/../data/image/slegroux___tiny-imagenet-200-clean/default/0.0.0/4b908d89fab3eb36aa8ebcd41c1996b28da7d6f2\n",
      "[17:47:32] INFO - Loading Dataset info from /user/s/slegroux/Projects/nimrod/tutorials/../data/image/slegroux___tiny-imagenet-200-clean/default/0.0.0/4b908d89fab3eb36aa8ebcd41c1996b28da7d6f2\n",
      "[17:47:40] INFO - loading dataset slegroux/tiny-imagenet-200-clean with args () from split test\n",
      "[17:47:40] INFO - loading dataset slegroux/tiny-imagenet-200-clean from split test\n",
      "Overwrite dataset info from restored data version if exists.\n",
      "[17:47:41] INFO - Overwrite dataset info from restored data version if exists.\n",
      "Loading Dataset info from ../data/image/slegroux___tiny-imagenet-200-clean/default/0.0.0/4b908d89fab3eb36aa8ebcd41c1996b28da7d6f2\n",
      "[17:47:41] INFO - Loading Dataset info from ../data/image/slegroux___tiny-imagenet-200-clean/default/0.0.0/4b908d89fab3eb36aa8ebcd41c1996b28da7d6f2\n",
      "Found cached dataset tiny-imagenet-200-clean (/user/s/slegroux/Projects/nimrod/tutorials/../data/image/slegroux___tiny-imagenet-200-clean/default/0.0.0/4b908d89fab3eb36aa8ebcd41c1996b28da7d6f2)\n",
      "[17:47:41] INFO - Found cached dataset tiny-imagenet-200-clean (/user/s/slegroux/Projects/nimrod/tutorials/../data/image/slegroux___tiny-imagenet-200-clean/default/0.0.0/4b908d89fab3eb36aa8ebcd41c1996b28da7d6f2)\n",
      "Loading Dataset info from /user/s/slegroux/Projects/nimrod/tutorials/../data/image/slegroux___tiny-imagenet-200-clean/default/0.0.0/4b908d89fab3eb36aa8ebcd41c1996b28da7d6f2\n",
      "[17:47:41] INFO - Loading Dataset info from /user/s/slegroux/Projects/nimrod/tutorials/../data/image/slegroux___tiny-imagenet-200-clean/default/0.0.0/4b908d89fab3eb36aa8ebcd41c1996b28da7d6f2\n",
      "[17:47:43] INFO - loading dataset slegroux/tiny-imagenet-200-clean with args () from split validation\n",
      "[17:47:43] INFO - loading dataset slegroux/tiny-imagenet-200-clean from split validation\n",
      "Overwrite dataset info from restored data version if exists.\n",
      "[17:47:45] INFO - Overwrite dataset info from restored data version if exists.\n",
      "Loading Dataset info from ../data/image/slegroux___tiny-imagenet-200-clean/default/0.0.0/4b908d89fab3eb36aa8ebcd41c1996b28da7d6f2\n",
      "[17:47:45] INFO - Loading Dataset info from ../data/image/slegroux___tiny-imagenet-200-clean/default/0.0.0/4b908d89fab3eb36aa8ebcd41c1996b28da7d6f2\n",
      "Found cached dataset tiny-imagenet-200-clean (/user/s/slegroux/Projects/nimrod/tutorials/../data/image/slegroux___tiny-imagenet-200-clean/default/0.0.0/4b908d89fab3eb36aa8ebcd41c1996b28da7d6f2)\n",
      "[17:47:45] INFO - Found cached dataset tiny-imagenet-200-clean (/user/s/slegroux/Projects/nimrod/tutorials/../data/image/slegroux___tiny-imagenet-200-clean/default/0.0.0/4b908d89fab3eb36aa8ebcd41c1996b28da7d6f2)\n",
      "Loading Dataset info from /user/s/slegroux/Projects/nimrod/tutorials/../data/image/slegroux___tiny-imagenet-200-clean/default/0.0.0/4b908d89fab3eb36aa8ebcd41c1996b28da7d6f2\n",
      "[17:47:45] INFO - Loading Dataset info from /user/s/slegroux/Projects/nimrod/tutorials/../data/image/slegroux___tiny-imagenet-200-clean/default/0.0.0/4b908d89fab3eb36aa8ebcd41c1996b28da7d6f2\n",
      "LOCAL_RANK: 0 - CUDA_VISIBLE_DEVICES: [0]\n",
      "[17:47:46] INFO - Regressor: configure_optimizers\n",
      "[17:47:46] INFO - Optimizer: <class 'torch.optim.adamw.AdamW'>\n",
      "[17:47:46] WARNING - no scheduler has been setup\n"
     ]
    },
    {
     "data": {
      "application/vnd.jupyter.widget-view+json": {
       "model_id": "b1925ab2934e46b3a6d32ef6ab4f6c5c",
       "version_major": 2,
       "version_minor": 0
      },
      "text/plain": [
       "Finding best initial lr:   0%|          | 0/100 [00:00<?, ?it/s]"
      ]
     },
     "metadata": {},
     "output_type": "display_data"
    },
    {
     "name": "stderr",
     "output_type": "stream",
     "text": [
      "/user/s/slegroux/miniconda3/envs/nimrod/lib/python3.11/site-packages/torch/autograd/graph.py:744: UserWarning: Plan failed with a cudnnException: CUDNN_BACKEND_EXECUTION_PLAN_DESCRIPTOR: cudnnFinalize Descriptor Failed cudnn_status: CUDNN_STATUS_NOT_SUPPORTED (Triggered internally at ../aten/src/ATen/native/cudnn/Conv_v8.cpp:919.)\n",
      "  return Variable._execution_engine.run_backward(  # Calls into the C++ engine to run the backward pass\n",
      "`Trainer.fit` stopped: `max_steps=100` reached.\n",
      "Learning rate set to 3.548133892335755e-05\n",
      "Restoring states from the checkpoint path at /user/s/slegroux/Projects/nimrod/tutorials/.lr_find_ab0b6f3f-874c-45d9-b898-3935fdea1e14.ckpt\n",
      "Restored all states from the checkpoint at /user/s/slegroux/Projects/nimrod/tutorials/.lr_find_ab0b6f3f-874c-45d9-b898-3935fdea1e14.ckpt\n"
     ]
    },
    {
     "data": {
      "image/png": "[encoded data removed]",
      "text/plain": [
       "<Figure size 640x480 with 1 Axes>"
      ]
     },
     "metadata": {},
     "output_type": "display_data"
    },
    {
     "data": {
      "text/html": [
       "<pre style=\"white-space:pre;overflow-x:auto;line-height:normal;font-family:Menlo,'DejaVu Sans Mono',consolas,'Courier New',monospace\">Suggested learning rate: <span style=\"color: #008080; text-decoration-color: #008080; font-weight: bold\">3.548133892335755e-05</span>\n",
       "</pre>\n"
      ],
      "text/plain": [
       "Suggested learning rate: \u001b[1;36m3.548133892335755e-05\u001b[0m\n"
      ]
     },
     "metadata": {},
     "output_type": "display_data"
    },
    {
     "name": "stderr",
     "output_type": "stream",
     "text": [
      "GPU available: True (cuda), used: True\n",
      "TPU available: False, using: 0 TPU cores\n",
      "HPU available: False, using: 0 HPUs\n",
      "[17:48:11] INFO - SuperResAutoencoderX: init\n",
      "[17:48:11] INFO - Regressor: init\n",
      "\u001b[34m\u001b[1mwandb\u001b[0m: Using wandb-core as the SDK backend.  Please refer to https://wandb.me/wandb-core for more information.\n",
      "\u001b[34m\u001b[1mwandb\u001b[0m: Currently logged in as: \u001b[33mslegroux\u001b[0m. Use \u001b[1m`wandb login --relogin`\u001b[0m to force relogin\n"
     ]
    },
    {
     "data": {
      "text/html": [
       "Tracking run with wandb version 0.19.1"
      ],
      "text/plain": [
       "<IPython.core.display.HTML object>"
      ]
     },
     "metadata": {},
     "output_type": "display_data"
    },
    {
     "data": {
      "text/html": [
       "Run data is saved locally in <code>wandb/wandb/run-20250208_174814-asx6u0pb</code>"
      ],
      "text/plain": [
       "<IPython.core.display.HTML object>"
      ]
     },
     "metadata": {},
     "output_type": "display_data"
    },
    {
     "data": {
      "text/html": [
       "Syncing run <strong><a href='https://wandb.ai/slegroux/TINY-Imagenet-Regression/runs/asx6u0pb' target=\"_blank\">TinyUnetX-bs:512-epochs:5</a></strong> to <a href='https://wandb.ai/slegroux/TINY-Imagenet-Regression' target=\"_blank\">Weights & Biases</a> (<a href='https://wandb.me/developer-guide' target=\"_blank\">docs</a>)<br>"
      ],
      "text/plain": [
       "<IPython.core.display.HTML object>"
      ]
     },
     "metadata": {},
     "output_type": "display_data"
    },
    {
     "data": {
      "text/html": [
       " View project at <a href='https://wandb.ai/slegroux/TINY-Imagenet-Regression' target=\"_blank\">https://wandb.ai/slegroux/TINY-Imagenet-Regression</a>"
      ],
      "text/plain": [
       "<IPython.core.display.HTML object>"
      ]
     },
     "metadata": {},
     "output_type": "display_data"
    },
    {
     "data": {
      "text/html": [
       " View run at <a href='https://wandb.ai/slegroux/TINY-Imagenet-Regression/runs/asx6u0pb' target=\"_blank\">https://wandb.ai/slegroux/TINY-Imagenet-Regression/runs/asx6u0pb</a>"
      ],
      "text/plain": [
       "<IPython.core.display.HTML object>"
      ]
     },
     "metadata": {},
     "output_type": "display_data"
    },
    {
     "name": "stderr",
     "output_type": "stream",
     "text": [
      "LOCAL_RANK: 0 - CUDA_VISIBLE_DEVICES: [0]\n",
      "[17:48:15] INFO - Regressor: configure_optimizers\n",
      "[17:48:15] INFO - Optimizer: <class 'torch.optim.adamw.AdamW'>\n",
      "[17:48:15] INFO - Scheduler: <class 'torch.optim.lr_scheduler.OneCycleLR'>\n",
      "\n",
      "  | Name         | Type             | Params | Mode \n",
      "----------------------------------------------------------\n",
      "0 | nnet         | TinyUnet         | 25.9 M | train\n",
      "1 | criterion    | MSELoss          | 0      | train\n",
      "2 | train_mse    | MeanSquaredError | 0      | train\n",
      "3 | val_mse      | MeanSquaredError | 0      | train\n",
      "4 | test_mse     | MeanSquaredError | 0      | train\n",
      "5 | val_mse_best | MinMetric        | 0      | train\n",
      "6 | train_loss   | MeanMetric       | 0      | train\n",
      "7 | val_loss     | MeanMetric       | 0      | train\n",
      "8 | test_loss    | MeanMetric       | 0      | train\n",
      "----------------------------------------------------------\n",
      "25.9 M    Trainable params\n",
      "0         Non-trainable params\n",
      "25.9 M    Total params\n",
      "103.460   Total estimated model params size (MB)\n",
      "174       Modules in train mode\n",
      "0         Modules in eval mode\n"
     ]
    },
    {
     "data": {
      "application/vnd.jupyter.widget-view+json": {
       "model_id": "77a1464d69db4deaaeef359fa3f369e8",
       "version_major": 2,
       "version_minor": 0
      },
      "text/plain": [
       "Sanity Checking: |          | 0/? [00:00<?, ?it/s]"
      ]
     },
     "metadata": {},
     "output_type": "display_data"
    },
    {
     "data": {
      "application/vnd.jupyter.widget-view+json": {
       "model_id": "d4280632bfa34d8caedcd05569e37df4",
       "version_major": 2,
       "version_minor": 0
      },
      "text/plain": [
       "Training: |          | 0/? [00:00<?, ?it/s]"
      ]
     },
     "metadata": {},
     "output_type": "display_data"
    },
    {
     "data": {
      "application/vnd.jupyter.widget-view+json": {
       "model_id": "ec1dc0381ab44f86a461ca02165de1b0",
       "version_major": 2,
       "version_minor": 0
      },
      "text/plain": [
       "Validation: |          | 0/? [00:00<?, ?it/s]"
      ]
     },
     "metadata": {},
     "output_type": "display_data"
    },
    {
     "data": {
      "application/vnd.jupyter.widget-view+json": {
       "model_id": "f7b36f3371ac4e12aa1fb9b88f62b4de",
       "version_major": 2,
       "version_minor": 0
      },
      "text/plain": [
       "Validation: |          | 0/? [00:00<?, ?it/s]"
      ]
     },
     "metadata": {},
     "output_type": "display_data"
    },
    {
     "data": {
      "application/vnd.jupyter.widget-view+json": {
       "model_id": "f6e7e9da52e94c9c86299e6fcb53dae7",
       "version_major": 2,
       "version_minor": 0
      },
      "text/plain": [
       "Validation: |          | 0/? [00:00<?, ?it/s]"
      ]
     },
     "metadata": {},
     "output_type": "display_data"
    },
    {
     "data": {
      "application/vnd.jupyter.widget-view+json": {
       "model_id": "a51748470b354a4289af098f2a30c014",
       "version_major": 2,
       "version_minor": 0
      },
      "text/plain": [
       "Validation: |          | 0/? [00:00<?, ?it/s]"
      ]
     },
     "metadata": {},
     "output_type": "display_data"
    },
    {
     "data": {
      "application/vnd.jupyter.widget-view+json": {
       "model_id": "fcdd0c64511543948cd3080820ac4487",
       "version_major": 2,
       "version_minor": 0
      },
      "text/plain": [
       "Validation: |          | 0/? [00:00<?, ?it/s]"
      ]
     },
     "metadata": {},
     "output_type": "display_data"
    },
    {
     "name": "stderr",
     "output_type": "stream",
     "text": [
      "`Trainer.fit` stopped: `max_epochs=5` reached.\n",
      "LOCAL_RANK: 0 - CUDA_VISIBLE_DEVICES: [0]\n"
     ]
    },
    {
     "data": {
      "application/vnd.jupyter.widget-view+json": {
       "model_id": "31274fb1866048af82262790d3039c8a",
       "version_major": 2,
       "version_minor": 0
      },
      "text/plain": [
       "Testing: |          | 0/? [00:00<?, ?it/s]"
      ]
     },
     "metadata": {},
     "output_type": "display_data"
    },
    {
     "data": {
      "text/html": [
       "<pre style=\"white-space:pre;overflow-x:auto;line-height:normal;font-family:Menlo,'DejaVu Sans Mono',consolas,'Courier New',monospace\">┏━━━━━━━━━━━━━━━━━━━━━━━━━━━┳━━━━━━━━━━━━━━━━━━━━━━━━━━━┓\n",
       "┃<span style=\"font-weight: bold\">        Test metric        </span>┃<span style=\"font-weight: bold\">       DataLoader 0        </span>┃\n",
       "┡━━━━━━━━━━━━━━━━━━━━━━━━━━━╇━━━━━━━━━━━━━━━━━━━━━━━━━━━┩\n",
       "│<span style=\"color: #008080; text-decoration-color: #008080\">         test/loss         </span>│<span style=\"color: #800080; text-decoration-color: #800080\">    0.46795186400413513    </span>│\n",
       "└───────────────────────────┴───────────────────────────┘\n",
       "</pre>\n"
      ],
      "text/plain": [
       "┏━━━━━━━━━━━━━━━━━━━━━━━━━━━┳━━━━━━━━━━━━━━━━━━━━━━━━━━━┓\n",
       "┃\u001b[1m \u001b[0m\u001b[1m       Test metric       \u001b[0m\u001b[1m \u001b[0m┃\u001b[1m \u001b[0m\u001b[1m      DataLoader 0       \u001b[0m\u001b[1m \u001b[0m┃\n",
       "┡━━━━━━━━━━━━━━━━━━━━━━━━━━━╇━━━━━━━━━━━━━━━━━━━━━━━━━━━┩\n",
       "│\u001b[36m \u001b[0m\u001b[36m        test/loss        \u001b[0m\u001b[36m \u001b[0m│\u001b[35m \u001b[0m\u001b[35m   0.46795186400413513   \u001b[0m\u001b[35m \u001b[0m│\n",
       "└───────────────────────────┴───────────────────────────┘\n"
      ]
     },
     "metadata": {},
     "output_type": "display_data"
    },
    {
     "name": "stderr",
     "output_type": "stream",
     "text": [
      "[17:52:18] INFO - Best ckpt path: /user/s/slegroux/Projects/nimrod/tutorials/checkpoints/TINY-Imagenet-Regression/TinyUnetX-bs:512-epochs:5/3-0.46.ckpt\n"
     ]
    },
    {
     "data": {
      "text/html": [],
      "text/plain": [
       "<IPython.core.display.HTML object>"
      ]
     },
     "metadata": {},
     "output_type": "display_data"
    },
    {
     "data": {
      "text/html": [
       "<br>    <style><br>        .wandb-row {<br>            display: flex;<br>            flex-direction: row;<br>            flex-wrap: wrap;<br>            justify-content: flex-start;<br>            width: 100%;<br>        }<br>        .wandb-col {<br>            display: flex;<br>            flex-direction: column;<br>            flex-basis: 100%;<br>            flex: 1;<br>            padding: 10px;<br>        }<br>    </style><br><div class=\"wandb-row\"><div class=\"wandb-col\"><h3>Run history:</h3><br/><table class=\"wandb\"><tr><td>epoch</td><td>▁▁▁▁▁▃▃▃▃▃▃▃▃▃▃▅▅▅▅▅▆▆▆▆▆▆▆▆▆▆██████████</td></tr><tr><td>lr-AdamW</td><td>▁▁▁▂▂▃▄▅▆▇▇▇▇██████▆▆▆▅▅▄▄▄▄▄▃▃▃▂▂▂▂▂▂▁▁</td></tr><tr><td>test/loss</td><td>▁</td></tr><tr><td>train/loss_epoch</td><td>█▂▁▁▁</td></tr><tr><td>train/loss_step</td><td>█▆▄▄▄▂▁▁▁▁▁▁▁▁▁▁▁▁▁▁▁▁▁▁▁▁▁▁▁▁▁▁▁▁▁▁▁▁▁▁</td></tr><tr><td>trainer/global_step</td><td>▁▁▁▂▂▂▂▂▂▃▃▃▃▃▃▃▄▄▄▄▄▄▄▅▅▅▅▅▅▆▆▆▇▇▇▇▇███</td></tr><tr><td>val/loss</td><td>█▃▁▁▁</td></tr><tr><td>val/mse_best</td><td>█▄▃▂▁</td></tr></table><br/></div><div class=\"wandb-col\"><h3>Run summary:</h3><br/><table class=\"wandb\"><tr><td>epoch</td><td>5</td></tr><tr><td>lr-AdamW</td><td>0.0</td></tr><tr><td>test/loss</td><td>0.46795</td></tr><tr><td>train/loss_epoch</td><td>0.45871</td></tr><tr><td>train/loss_step</td><td>0.45887</td></tr><tr><td>trainer/global_step</td><td>960</td></tr><tr><td>val/loss</td><td>0.4605</td></tr><tr><td>val/mse_best</td><td>0.51849</td></tr></table><br/></div></div>"
      ],
      "text/plain": [
       "<IPython.core.display.HTML object>"
      ]
     },
     "metadata": {},
     "output_type": "display_data"
    },
    {
     "data": {
      "text/html": [
       " View run <strong style=\"color:#cdcd00\">TinyUnetX-bs:512-epochs:5</strong> at: <a href='https://wandb.ai/slegroux/TINY-Imagenet-Regression/runs/asx6u0pb' target=\"_blank\">https://wandb.ai/slegroux/TINY-Imagenet-Regression/runs/asx6u0pb</a><br> View project at: <a href='https://wandb.ai/slegroux/TINY-Imagenet-Regression' target=\"_blank\">https://wandb.ai/slegroux/TINY-Imagenet-Regression</a><br>Synced 6 W&B file(s), 0 media file(s), 7 artifact file(s) and 0 other file(s)"
      ],
      "text/plain": [
       "<IPython.core.display.HTML object>"
      ]
     },
     "metadata": {},
     "output_type": "display_data"
    },
    {
     "data": {
      "text/html": [
       "Find logs at: <code>wandb/wandb/run-20250208_174814-asx6u0pb/logs</code>"
      ],
      "text/plain": [
       "<IPython.core.display.HTML object>"
      ]
     },
     "metadata": {},
     "output_type": "display_data"
    }
   ],
   "source": [
    "# SETUP\n",
    "project_name = \"TINY-Imagenet-Regression\"\n",
    "\n",
    "N_EPOCHS = 5\n",
    "do_lr_finder = True\n",
    "exp_logger = 'wandb'\n",
    "precision = \"16-mixed\" # 16-mixed, 32-true\n",
    "# n_features = [3, 16, 64, 128, 256, 512]\n",
    "n_features = [3, 32, 64, 128, 256, 512, 1024]  # channel/feature expansion\n",
    "# n_features = [3, 8, 16, 32]\n",
    "\n",
    "cfg = OmegaConf.load('../config/model/image/unetx.yaml')\n",
    "print(cfg)\n",
    "cfg.nnet.n_features = n_features  # channel/feature expansion\n",
    "model = instantiate(cfg) #partial\n",
    "\n",
    "tags = [\n",
    "    f\"pre_activation: True\",\n",
    "    f\"precision:{precision}\",\n",
    "    f\"n_features:{n_features}\",\n",
    "    f\"bs:{dm.batch_size}\",\n",
    "    f\"epochs:{N_EPOCHS}\"\n",
    "    ]\n",
    "\n",
    "# LR Finder\n",
    "if do_lr_finder:\n",
    "    suggested_lr = lr_finder(model, dm, plot=True)\n",
    "    print(f\"Suggested learning rate: {suggested_lr}\")\n",
    "else:\n",
    "    suggested_lr = 3e-4\n",
    "\n",
    "# ONE-CYCLE TRAINING\n",
    " \n",
    "trained_model, best_ckpt = train_one_cycle(\n",
    "    model,\n",
    "    dm,\n",
    "    n_epochs=N_EPOCHS,\n",
    "    max_lr=suggested_lr,\n",
    "    project_name=project_name,\n",
    "    tags=tags,\n",
    "    model_summary=False,\n",
    "    logger_cb=exp_logger,\n",
    "    )"
   ]
  },
  {
   "cell_type": "markdown",
   "metadata": {},
   "source": [
    "### Test"
   ]
  },
  {
   "cell_type": "code",
   "execution_count": 9,
   "metadata": {},
   "outputs": [
    {
     "name": "stderr",
     "output_type": "stream",
     "text": [
      "[13:35:23] INFO - SuperResAutoencoderX: init\n",
      "[13:35:23] INFO - Regressor: init\n",
      "/user/s/slegroux/miniconda3/envs/nimrod/lib/python3.11/site-packages/lightning/pytorch/utilities/parsing.py:209: Attribute 'nnet' is an instance of `nn.Module` and is already saved during checkpointing. It is recommended to ignore them using `self.save_hyperparameters(ignore=['nnet'])`.\n"
     ]
    },
    {
     "data": {
      "text/plain": [
       "TinyUnetX(\n",
       "  (nnet): TinyUnet(\n",
       "    (start): ResBlock(\n",
       "      (activation): LeakyReLU(negative_slope=0.1)\n",
       "      (conv_layer): Sequential(\n",
       "        (0): ConvBlock(\n",
       "          (net): Sequential(\n",
       "            (0): Conv2d(3, 32, kernel_size=(3, 3), stride=(1, 1), padding=(1, 1), bias=False)\n",
       "            (1): BatchNorm2d(32, eps=1e-05, momentum=0.1, affine=True, track_running_stats=True)\n",
       "            (2): LeakyReLU(negative_slope=0.1)\n",
       "          )\n",
       "        )\n",
       "        (1): ConvBlock(\n",
       "          (net): Sequential(\n",
       "            (0): Conv2d(32, 32, kernel_size=(3, 3), stride=(1, 1), padding=(1, 1), bias=False)\n",
       "            (1): BatchNorm2d(32, eps=1e-05, momentum=0.1, affine=True, track_running_stats=True)\n",
       "          )\n",
       "        )\n",
       "      )\n",
       "      (id): ConvBlock(\n",
       "        (net): Sequential(\n",
       "          (0): Conv2d(3, 32, kernel_size=(1, 1), stride=(1, 1), bias=False)\n",
       "          (1): BatchNorm2d(32, eps=1e-05, momentum=0.1, affine=True, track_running_stats=True)\n",
       "        )\n",
       "      )\n",
       "      (pooling): Identity()\n",
       "    )\n",
       "    (encoder): ModuleList(\n",
       "      (0): ResBlock(\n",
       "        (activation): LeakyReLU(negative_slope=0.1)\n",
       "        (conv_layer): Sequential(\n",
       "          (0): ConvBlock(\n",
       "            (net): Sequential(\n",
       "              (0): Conv2d(32, 64, kernel_size=(3, 3), stride=(1, 1), padding=(1, 1), bias=False)\n",
       "              (1): BatchNorm2d(64, eps=1e-05, momentum=0.1, affine=True, track_running_stats=True)\n",
       "              (2): LeakyReLU(negative_slope=0.1)\n",
       "            )\n",
       "          )\n",
       "          (1): ConvBlock(\n",
       "            (net): Sequential(\n",
       "              (0): Conv2d(64, 64, kernel_size=(3, 3), stride=(2, 2), padding=(1, 1), bias=False)\n",
       "              (1): BatchNorm2d(64, eps=1e-05, momentum=0.1, affine=True, track_running_stats=True)\n",
       "            )\n",
       "          )\n",
       "        )\n",
       "        (id): ConvBlock(\n",
       "          (net): Sequential(\n",
       "            (0): Conv2d(32, 64, kernel_size=(1, 1), stride=(1, 1), bias=False)\n",
       "            (1): BatchNorm2d(64, eps=1e-05, momentum=0.1, affine=True, track_running_stats=True)\n",
       "          )\n",
       "        )\n",
       "        (pooling): AvgPool2d(kernel_size=2, stride=2, padding=0)\n",
       "      )\n",
       "      (1): ResBlock(\n",
       "        (activation): LeakyReLU(negative_slope=0.1)\n",
       "        (conv_layer): Sequential(\n",
       "          (0): ConvBlock(\n",
       "            (net): Sequential(\n",
       "              (0): Conv2d(64, 128, kernel_size=(3, 3), stride=(1, 1), padding=(1, 1), bias=False)\n",
       "              (1): BatchNorm2d(128, eps=1e-05, momentum=0.1, affine=True, track_running_stats=True)\n",
       "              (2): LeakyReLU(negative_slope=0.1)\n",
       "            )\n",
       "          )\n",
       "          (1): ConvBlock(\n",
       "            (net): Sequential(\n",
       "              (0): Conv2d(128, 128, kernel_size=(3, 3), stride=(2, 2), padding=(1, 1), bias=False)\n",
       "              (1): BatchNorm2d(128, eps=1e-05, momentum=0.1, affine=True, track_running_stats=True)\n",
       "            )\n",
       "          )\n",
       "        )\n",
       "        (id): ConvBlock(\n",
       "          (net): Sequential(\n",
       "            (0): Conv2d(64, 128, kernel_size=(1, 1), stride=(1, 1), bias=False)\n",
       "            (1): BatchNorm2d(128, eps=1e-05, momentum=0.1, affine=True, track_running_stats=True)\n",
       "          )\n",
       "        )\n",
       "        (pooling): AvgPool2d(kernel_size=2, stride=2, padding=0)\n",
       "      )\n",
       "      (2): ResBlock(\n",
       "        (activation): LeakyReLU(negative_slope=0.1)\n",
       "        (conv_layer): Sequential(\n",
       "          (0): ConvBlock(\n",
       "            (net): Sequential(\n",
       "              (0): Conv2d(128, 256, kernel_size=(3, 3), stride=(1, 1), padding=(1, 1), bias=False)\n",
       "              (1): BatchNorm2d(256, eps=1e-05, momentum=0.1, affine=True, track_running_stats=True)\n",
       "              (2): LeakyReLU(negative_slope=0.1)\n",
       "            )\n",
       "          )\n",
       "          (1): ConvBlock(\n",
       "            (net): Sequential(\n",
       "              (0): Conv2d(256, 256, kernel_size=(3, 3), stride=(2, 2), padding=(1, 1), bias=False)\n",
       "              (1): BatchNorm2d(256, eps=1e-05, momentum=0.1, affine=True, track_running_stats=True)\n",
       "            )\n",
       "          )\n",
       "        )\n",
       "        (id): ConvBlock(\n",
       "          (net): Sequential(\n",
       "            (0): Conv2d(128, 256, kernel_size=(1, 1), stride=(1, 1), bias=False)\n",
       "            (1): BatchNorm2d(256, eps=1e-05, momentum=0.1, affine=True, track_running_stats=True)\n",
       "          )\n",
       "        )\n",
       "        (pooling): AvgPool2d(kernel_size=2, stride=2, padding=0)\n",
       "      )\n",
       "      (3): ResBlock(\n",
       "        (activation): LeakyReLU(negative_slope=0.1)\n",
       "        (conv_layer): Sequential(\n",
       "          (0): ConvBlock(\n",
       "            (net): Sequential(\n",
       "              (0): Conv2d(256, 512, kernel_size=(3, 3), stride=(1, 1), padding=(1, 1), bias=False)\n",
       "              (1): BatchNorm2d(512, eps=1e-05, momentum=0.1, affine=True, track_running_stats=True)\n",
       "              (2): LeakyReLU(negative_slope=0.1)\n",
       "            )\n",
       "          )\n",
       "          (1): ConvBlock(\n",
       "            (net): Sequential(\n",
       "              (0): Conv2d(512, 512, kernel_size=(3, 3), stride=(2, 2), padding=(1, 1), bias=False)\n",
       "              (1): BatchNorm2d(512, eps=1e-05, momentum=0.1, affine=True, track_running_stats=True)\n",
       "            )\n",
       "          )\n",
       "        )\n",
       "        (id): ConvBlock(\n",
       "          (net): Sequential(\n",
       "            (0): Conv2d(256, 512, kernel_size=(1, 1), stride=(1, 1), bias=False)\n",
       "            (1): BatchNorm2d(512, eps=1e-05, momentum=0.1, affine=True, track_running_stats=True)\n",
       "          )\n",
       "        )\n",
       "        (pooling): AvgPool2d(kernel_size=2, stride=2, padding=0)\n",
       "      )\n",
       "      (4): ResBlock(\n",
       "        (activation): LeakyReLU(negative_slope=0.1)\n",
       "        (conv_layer): Sequential(\n",
       "          (0): ConvBlock(\n",
       "            (net): Sequential(\n",
       "              (0): Conv2d(512, 1024, kernel_size=(3, 3), stride=(1, 1), padding=(1, 1), bias=False)\n",
       "              (1): BatchNorm2d(1024, eps=1e-05, momentum=0.1, affine=True, track_running_stats=True)\n",
       "              (2): LeakyReLU(negative_slope=0.1)\n",
       "            )\n",
       "          )\n",
       "          (1): ConvBlock(\n",
       "            (net): Sequential(\n",
       "              (0): Conv2d(1024, 1024, kernel_size=(3, 3), stride=(2, 2), padding=(1, 1), bias=False)\n",
       "              (1): BatchNorm2d(1024, eps=1e-05, momentum=0.1, affine=True, track_running_stats=True)\n",
       "            )\n",
       "          )\n",
       "        )\n",
       "        (id): ConvBlock(\n",
       "          (net): Sequential(\n",
       "            (0): Conv2d(512, 1024, kernel_size=(1, 1), stride=(1, 1), bias=False)\n",
       "            (1): BatchNorm2d(1024, eps=1e-05, momentum=0.1, affine=True, track_running_stats=True)\n",
       "          )\n",
       "        )\n",
       "        (pooling): AvgPool2d(kernel_size=2, stride=2, padding=0)\n",
       "      )\n",
       "    )\n",
       "    (decoder): ModuleList(\n",
       "      (0): DeconvBlock(\n",
       "        (_net): Sequential(\n",
       "          (0): UpsamplingNearest2d(scale_factor=2.0, mode='nearest')\n",
       "          (1): Conv2d(1024, 512, kernel_size=(3, 3), stride=(1, 1), padding=(1, 1), bias=False)\n",
       "          (2): BatchNorm2d(512, eps=1e-05, momentum=0.1, affine=True, track_running_stats=True)\n",
       "          (3): LeakyReLU(negative_slope=0.1)\n",
       "        )\n",
       "      )\n",
       "      (1): DeconvBlock(\n",
       "        (_net): Sequential(\n",
       "          (0): UpsamplingNearest2d(scale_factor=2.0, mode='nearest')\n",
       "          (1): Conv2d(512, 256, kernel_size=(3, 3), stride=(1, 1), padding=(1, 1), bias=False)\n",
       "          (2): BatchNorm2d(256, eps=1e-05, momentum=0.1, affine=True, track_running_stats=True)\n",
       "          (3): LeakyReLU(negative_slope=0.1)\n",
       "        )\n",
       "      )\n",
       "      (2): DeconvBlock(\n",
       "        (_net): Sequential(\n",
       "          (0): UpsamplingNearest2d(scale_factor=2.0, mode='nearest')\n",
       "          (1): Conv2d(256, 128, kernel_size=(3, 3), stride=(1, 1), padding=(1, 1), bias=False)\n",
       "          (2): BatchNorm2d(128, eps=1e-05, momentum=0.1, affine=True, track_running_stats=True)\n",
       "          (3): LeakyReLU(negative_slope=0.1)\n",
       "        )\n",
       "      )\n",
       "      (3): DeconvBlock(\n",
       "        (_net): Sequential(\n",
       "          (0): UpsamplingNearest2d(scale_factor=2.0, mode='nearest')\n",
       "          (1): Conv2d(128, 64, kernel_size=(3, 3), stride=(1, 1), padding=(1, 1), bias=False)\n",
       "          (2): BatchNorm2d(64, eps=1e-05, momentum=0.1, affine=True, track_running_stats=True)\n",
       "          (3): LeakyReLU(negative_slope=0.1)\n",
       "        )\n",
       "      )\n",
       "      (4): DeconvBlock(\n",
       "        (_net): Sequential(\n",
       "          (0): UpsamplingNearest2d(scale_factor=2.0, mode='nearest')\n",
       "          (1): Conv2d(64, 32, kernel_size=(3, 3), stride=(1, 1), padding=(1, 1), bias=False)\n",
       "          (2): BatchNorm2d(32, eps=1e-05, momentum=0.1, affine=True, track_running_stats=True)\n",
       "          (3): LeakyReLU(negative_slope=0.1)\n",
       "        )\n",
       "      )\n",
       "      (5): ResBlock(\n",
       "        (activation): LeakyReLU(negative_slope=0.1)\n",
       "        (conv_layer): Sequential(\n",
       "          (0): ConvBlock(\n",
       "            (net): Sequential(\n",
       "              (0): Conv2d(32, 3, kernel_size=(3, 3), stride=(1, 1), padding=(1, 1), bias=False)\n",
       "              (1): BatchNorm2d(3, eps=1e-05, momentum=0.1, affine=True, track_running_stats=True)\n",
       "              (2): LeakyReLU(negative_slope=0.1)\n",
       "            )\n",
       "          )\n",
       "          (1): ConvBlock(\n",
       "            (net): Sequential(\n",
       "              (0): Conv2d(3, 3, kernel_size=(3, 3), stride=(1, 1), padding=(1, 1), bias=False)\n",
       "              (1): BatchNorm2d(3, eps=1e-05, momentum=0.1, affine=True, track_running_stats=True)\n",
       "            )\n",
       "          )\n",
       "        )\n",
       "        (id): ConvBlock(\n",
       "          (net): Sequential(\n",
       "            (0): Conv2d(32, 3, kernel_size=(1, 1), stride=(1, 1), bias=False)\n",
       "            (1): BatchNorm2d(3, eps=1e-05, momentum=0.1, affine=True, track_running_stats=True)\n",
       "          )\n",
       "        )\n",
       "        (pooling): Identity()\n",
       "      )\n",
       "    )\n",
       "    (end): ResBlock(\n",
       "      (activation): Identity()\n",
       "      (conv_layer): Sequential(\n",
       "        (0): ConvBlock(\n",
       "          (net): Sequential(\n",
       "            (0): Conv2d(3, 3, kernel_size=(3, 3), stride=(1, 1), padding=(1, 1), bias=False)\n",
       "            (1): BatchNorm2d(3, eps=1e-05, momentum=0.1, affine=True, track_running_stats=True)\n",
       "            (2): Identity()\n",
       "          )\n",
       "        )\n",
       "        (1): ConvBlock(\n",
       "          (net): Sequential(\n",
       "            (0): Conv2d(3, 3, kernel_size=(3, 3), stride=(1, 1), padding=(1, 1), bias=False)\n",
       "            (1): BatchNorm2d(3, eps=1e-05, momentum=0.1, affine=True, track_running_stats=True)\n",
       "          )\n",
       "        )\n",
       "      )\n",
       "      (id): Identity()\n",
       "      (pooling): Identity()\n",
       "    )\n",
       "  )\n",
       "  (criterion): MSELoss()\n",
       "  (train_mse): MeanSquaredError()\n",
       "  (val_mse): MeanSquaredError()\n",
       "  (test_mse): MeanSquaredError()\n",
       "  (val_mse_best): MinMetric()\n",
       "  (train_loss): MeanMetric()\n",
       "  (val_loss): MeanMetric()\n",
       "  (test_loss): MeanMetric()\n",
       ")"
      ]
     },
     "execution_count": 9,
     "metadata": {},
     "output_type": "execute_result"
    }
   ],
   "source": [
    "# mdl = best_ckpt_path[0].eval().to(device)\n",
    "mdl = TinyUnetX.load_from_checkpoint(\"checkpoints/TINY-Imagenet-Regression/TinyUnetX-bs:512-epochs:5/3-0.46.ckpt\")\n",
    "mdl.eval().to(device)"
   ]
  },
  {
   "cell_type": "code",
   "execution_count": 15,
   "metadata": {},
   "outputs": [
    {
     "data": {
      "text/html": [
       "<pre style=\"white-space:pre;overflow-x:auto;line-height:normal;font-family:Menlo,'DejaVu Sans Mono',consolas,'Courier New',monospace\"><span style=\"color: #800080; text-decoration-color: #800080; font-weight: bold\">tensor</span><span style=\"font-weight: bold\">([</span><span style=\"color: #008080; text-decoration-color: #008080; font-weight: bold\">58003</span><span style=\"font-weight: bold\">])</span>\n",
       "</pre>\n"
      ],
      "text/plain": [
       "\u001b[1;35mtensor\u001b[0m\u001b[1m(\u001b[0m\u001b[1m[\u001b[0m\u001b[1;36m58003\u001b[0m\u001b[1m]\u001b[0m\u001b[1m)\u001b[0m\n"
      ]
     },
     "metadata": {},
     "output_type": "display_data"
    },
    {
     "data": {
      "text/plain": [
       "<matplotlib.image.AxesImage at 0x7f6d40411790>"
      ]
     },
     "execution_count": 15,
     "metadata": {},
     "output_type": "execute_result"
    },
    {
     "data": {
      "image/png": "[encoded data removed]",
      "text/plain": [
       "<Figure size 640x480 with 2 Axes>"
      ]
     },
     "metadata": {},
     "output_type": "display_data"
    },
    {
     "data": {
      "image/png": "[encoded data removed]",
      "text/plain": [
       "<Figure size 640x480 with 2 Axes>"
      ]
     },
     "metadata": {},
     "output_type": "display_data"
    }
   ],
   "source": [
    "\n",
    "\n",
    "x_mean = torch.tensor([0.4822, 0.4495, 0.3985])\n",
    "x_std = torch.tensor([0.2771, 0.2690, 0.2826])\n",
    "tfm_norm = transforms.Normalize(mean=x_mean, std=x_std)\n",
    "tfm_denorm = transforms.Compose([transforms.Normalize(mean=[0,0,0], std=1/x_std), transforms.Normalize(mean=-x_mean, std=[1,1,1])])\n",
    "\n",
    "idx = torch.randint(0, len(dm.train_ds), (1,))\n",
    "print(idx)\n",
    "x = dm.train_ds[idx][0].unsqueeze(0).to(device)\n",
    "\n",
    "y_hat = mdl(x)\n",
    "y_hat.shape\n",
    "\n",
    "fig, ax = plt.subplots(1, 2)\n",
    "# fig.title(\"denormalize\")\n",
    "ax[0].imshow(tfm_denorm(x[0]).permute(1, 2, 0).cpu().numpy())\n",
    "ax[1].imshow(tfm_denorm(y_hat[0]).permute(1, 2, 0).detach().cpu().numpy())\n",
    "\n",
    "# fig.title(\"normalized\")\n",
    "fig, ax = plt.subplots(1, 2)\n",
    "ax[0].imshow(x[0].permute(1, 2, 0).cpu().numpy())\n",
    "ax[1].imshow(y_hat[0].permute(1, 2, 0).detach().cpu().numpy())"
   ]
  }
 ],
 "metadata": {
  "kernelspec": {
   "display_name": "Python 3",
   "language": "python",
   "name": "python3"
  },
  "language_info": {
   "codemirror_mode": {
    "name": "ipython",
    "version": 3
   },
   "file_extension": ".py",
   "mimetype": "text/x-python",
   "name": "python",
   "nbconvert_exporter": "python",
   "pygments_lexer": "ipython3",
   "version": "3.11.8"
  }
 },
 "nbformat": 4,
 "nbformat_minor": 2
}
