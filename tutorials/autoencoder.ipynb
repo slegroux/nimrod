{
 "cells": [
  {
   "cell_type": "code",
   "execution_count": 3,
   "metadata": {},
   "outputs": [],
   "source": [
    "%load_ext autoreload\n",
    "%autoreload 2"
   ]
  },
  {
   "cell_type": "code",
   "execution_count": 17,
   "metadata": {},
   "outputs": [],
   "source": [
    "from nimrod.models.conv import ConvBlock, DeconvBlock\n",
    "from nimrod.models.resnet import ResBlock\n",
    "from nimrod.image.datasets import ImageDataModule\n",
    "from nimrod.models.core import train_one_cycle, lr_finder, Regressor\n",
    "\n",
    "import torch.nn as nn\n",
    "import torch\n",
    "\n",
    "from omegaconf import OmegaConf\n",
    "from hydra.utils import instantiate\n",
    "from typing import Callable, Any, Optional\n",
    "\n",
    "from functools import partial\n",
    "from matplotlib import pyplot as plt\n",
    "from time import sleep\n",
    "\n",
    "import logging\n",
    "logger = logging.getLogger(__name__)"
   ]
  },
  {
   "cell_type": "code",
   "execution_count": 5,
   "metadata": {},
   "outputs": [
    {
     "name": "stderr",
     "output_type": "stream",
     "text": [
      "[14:58:29] INFO - Init ImageSuperResDataModule for fashion_mnist\n",
      "[14:58:29] INFO - Init ImageDataModule for fashion_mnist\n",
      "/user/s/slegroux/miniconda3/envs/nimrod/lib/python3.11/site-packages/lightning/pytorch/utilities/parsing.py:209: Attribute 'transforms' is an instance of `nn.Module` and is already saved during checkpointing. It is recommended to ignore them using `self.save_hyperparameters(ignore=['transforms'])`.\n",
      "[14:58:33] INFO - loading dataset fashion_mnist with args () from split train\n",
      "[14:58:33] INFO - loading dataset fashion_mnist from split train\n",
      "Overwrite dataset info from restored data version if exists.\n",
      "[14:58:35] INFO - Overwrite dataset info from restored data version if exists.\n",
      "Loading Dataset info from ../data/image/fashion_mnist/fashion_mnist/0.0.0/531be5e2ccc9dba0c201ad3ae567a4f3d16ecdd2\n",
      "[14:58:35] INFO - Loading Dataset info from ../data/image/fashion_mnist/fashion_mnist/0.0.0/531be5e2ccc9dba0c201ad3ae567a4f3d16ecdd2\n",
      "Found cached dataset fashion_mnist (/user/s/slegroux/Projects/nimrod/tutorials/../data/image/fashion_mnist/fashion_mnist/0.0.0/531be5e2ccc9dba0c201ad3ae567a4f3d16ecdd2)\n",
      "[14:58:35] INFO - Found cached dataset fashion_mnist (/user/s/slegroux/Projects/nimrod/tutorials/../data/image/fashion_mnist/fashion_mnist/0.0.0/531be5e2ccc9dba0c201ad3ae567a4f3d16ecdd2)\n",
      "Loading Dataset info from /user/s/slegroux/Projects/nimrod/tutorials/../data/image/fashion_mnist/fashion_mnist/0.0.0/531be5e2ccc9dba0c201ad3ae567a4f3d16ecdd2\n",
      "[14:58:35] INFO - Loading Dataset info from /user/s/slegroux/Projects/nimrod/tutorials/../data/image/fashion_mnist/fashion_mnist/0.0.0/531be5e2ccc9dba0c201ad3ae567a4f3d16ecdd2\n",
      "[14:58:39] INFO - loading dataset fashion_mnist with args () from split test\n",
      "[14:58:39] INFO - loading dataset fashion_mnist from split test\n",
      "Overwrite dataset info from restored data version if exists.\n",
      "[14:58:42] INFO - Overwrite dataset info from restored data version if exists.\n",
      "Loading Dataset info from ../data/image/fashion_mnist/fashion_mnist/0.0.0/531be5e2ccc9dba0c201ad3ae567a4f3d16ecdd2\n",
      "[14:58:42] INFO - Loading Dataset info from ../data/image/fashion_mnist/fashion_mnist/0.0.0/531be5e2ccc9dba0c201ad3ae567a4f3d16ecdd2\n",
      "Found cached dataset fashion_mnist (/user/s/slegroux/Projects/nimrod/tutorials/../data/image/fashion_mnist/fashion_mnist/0.0.0/531be5e2ccc9dba0c201ad3ae567a4f3d16ecdd2)\n",
      "[14:58:42] INFO - Found cached dataset fashion_mnist (/user/s/slegroux/Projects/nimrod/tutorials/../data/image/fashion_mnist/fashion_mnist/0.0.0/531be5e2ccc9dba0c201ad3ae567a4f3d16ecdd2)\n",
      "Loading Dataset info from /user/s/slegroux/Projects/nimrod/tutorials/../data/image/fashion_mnist/fashion_mnist/0.0.0/531be5e2ccc9dba0c201ad3ae567a4f3d16ecdd2\n",
      "[14:58:42] INFO - Loading Dataset info from /user/s/slegroux/Projects/nimrod/tutorials/../data/image/fashion_mnist/fashion_mnist/0.0.0/531be5e2ccc9dba0c201ad3ae567a4f3d16ecdd2\n",
      "[14:58:44] INFO - loading dataset fashion_mnist with args () from split test\n",
      "[14:58:44] INFO - loading dataset fashion_mnist from split test\n",
      "Overwrite dataset info from restored data version if exists.\n",
      "[14:58:46] INFO - Overwrite dataset info from restored data version if exists.\n",
      "Loading Dataset info from ../data/image/fashion_mnist/fashion_mnist/0.0.0/531be5e2ccc9dba0c201ad3ae567a4f3d16ecdd2\n",
      "[14:58:46] INFO - Loading Dataset info from ../data/image/fashion_mnist/fashion_mnist/0.0.0/531be5e2ccc9dba0c201ad3ae567a4f3d16ecdd2\n",
      "Found cached dataset fashion_mnist (/user/s/slegroux/Projects/nimrod/tutorials/../data/image/fashion_mnist/fashion_mnist/0.0.0/531be5e2ccc9dba0c201ad3ae567a4f3d16ecdd2)\n",
      "[14:58:46] INFO - Found cached dataset fashion_mnist (/user/s/slegroux/Projects/nimrod/tutorials/../data/image/fashion_mnist/fashion_mnist/0.0.0/531be5e2ccc9dba0c201ad3ae567a4f3d16ecdd2)\n",
      "Loading Dataset info from /user/s/slegroux/Projects/nimrod/tutorials/../data/image/fashion_mnist/fashion_mnist/0.0.0/531be5e2ccc9dba0c201ad3ae567a4f3d16ecdd2\n",
      "[14:58:46] INFO - Loading Dataset info from /user/s/slegroux/Projects/nimrod/tutorials/../data/image/fashion_mnist/fashion_mnist/0.0.0/531be5e2ccc9dba0c201ad3ae567a4f3d16ecdd2\n",
      "[14:58:47] WARNING - same dataset for validation and test\n"
     ]
    }
   ],
   "source": [
    "cfg = OmegaConf.load('../config/data/image/fashion_mnist_autoencoder.yaml')\n",
    "cfg.data_dir = \"../data/image\"\n",
    "cfg.batch_size = 512\n",
    "cfg.num_workers = 16\n",
    "dm = instantiate(cfg)\n",
    "dm.prepare_data()\n",
    "dm.setup()"
   ]
  },
  {
   "cell_type": "code",
   "execution_count": 6,
   "metadata": {},
   "outputs": [
    {
     "data": {
      "image/png": "[encoded data removed]",
      "text/plain": [
       "<Figure size 1000x500 with 2 Axes>"
      ]
     },
     "metadata": {},
     "output_type": "display_data"
    }
   ],
   "source": [
    "dm.show(torch.randint(0, len(dm.train_dataloader()),(1,)))"
   ]
  },
  {
   "cell_type": "code",
   "execution_count": 7,
   "metadata": {},
   "outputs": [
    {
     "data": {
      "text/plain": [
       "[32, 32]"
      ]
     },
     "execution_count": 7,
     "metadata": {},
     "output_type": "execute_result"
    }
   ],
   "source": [
    "dm.dim"
   ]
  },
  {
   "cell_type": "code",
   "execution_count": 26,
   "metadata": {},
   "outputs": [],
   "source": [
    "class AutoEncoder(nn.Module):\n",
    "    def __init__(self, n_features=[1, 16, 32, 128]):\n",
    "        super().__init__()\n",
    "        self.encoder = nn.ModuleList()\n",
    "        self.encoder += [ResBlock(n_features[i], n_features[i+1], activation=partial(nn.LeakyReLU, negative_slope=0.1)) for i in range(0, len(n_features)-1)]\n",
    "        self.decoder = nn.ModuleList()\n",
    "        self.decoder += [DeconvBlock(n_features[i],n_features[i-1], use_transposed_conv=True) for i in range(len(n_features)-1, 0, -1)]\n",
    "        self.encoder = nn.Sequential(*self.encoder)\n",
    "        self.decoder = nn.Sequential(*self.decoder)\n",
    "\n",
    "    def forward(self, x):\n",
    "        z = self.encoder(x)\n",
    "        return self.decoder(z)"
   ]
  },
  {
   "cell_type": "code",
   "execution_count": 30,
   "metadata": {},
   "outputs": [
    {
     "name": "stderr",
     "output_type": "stream",
     "text": [
      "[15:30:50] WARNING - setting conv bias back to False as Batchnorm is used\n",
      "[15:30:50] WARNING - setting conv bias back to False as Batchnorm is used\n",
      "[15:30:50] WARNING - setting conv bias back to False as Batchnorm is used\n"
     ]
    },
    {
     "name": "stdout",
     "output_type": "stream",
     "text": [
      "torch.Size([8, 16, 32, 32])\n"
     ]
    }
   ],
   "source": [
    "x = torch.randn(8, 3, 32, 32)\n",
    "rb = ResBlock(3, 16)\n",
    "y = rb(x)\n",
    "print(y.shape)"
   ]
  },
  {
   "cell_type": "code",
   "execution_count": 23,
   "metadata": {},
   "outputs": [],
   "source": [
    "class AutoEncoderX(Regressor):\n",
    "    def __init__(\n",
    "        self,\n",
    "        nnet:AutoEncoder, # super res autoencoder neural net\n",
    "        optimizer: Callable[...,torch.optim.Optimizer], # optimizer partial\n",
    "        scheduler: Optional[Callable[...,Any]]=None, # scheduler partial\n",
    "    ):\n",
    "        logger.info(\"SuperResAutoencoderX: init\")\n",
    "        super().__init__(\n",
    "            nnet=nnet,\n",
    "            optimizer=optimizer,\n",
    "            scheduler=scheduler\n",
    "            )\n",
    "        self.nnet = nnet\n",
    "        self.register_module('nnet', self.nnet)"
   ]
  },
  {
   "cell_type": "code",
   "execution_count": 8,
   "metadata": {},
   "outputs": [
    {
     "name": "stderr",
     "output_type": "stream",
     "text": [
      "[22:04:21] WARNING - setting conv bias back to False as Batchnorm is used\n",
      "[22:04:21] WARNING - setting conv bias back to False as Batchnorm is used\n",
      "[22:04:21] WARNING - setting conv bias back to False as Batchnorm is used\n",
      "[22:04:21] WARNING - setting conv bias back to False as Batchnorm is used\n"
     ]
    },
    {
     "name": "stdout",
     "output_type": "stream",
     "text": [
      "torch.Size([8, 1, 32, 32])\n"
     ]
    }
   ],
   "source": [
    "x = torch.randn(8, 1, 32, 32)\n",
    "ae = AutoEncoder()\n",
    "y = ae(x)\n",
    "print(y.shape)\n"
   ]
  },
  {
   "cell_type": "code",
   "execution_count": 9,
   "metadata": {},
   "outputs": [
    {
     "name": "stderr",
     "output_type": "stream",
     "text": [
      "[22:04:24] WARNING - setting conv bias back to False as Batchnorm is used\n",
      "[22:04:24] WARNING - setting conv bias back to False as Batchnorm is used\n",
      "[22:04:24] WARNING - setting conv bias back to False as Batchnorm is used\n",
      "[22:04:24] WARNING - setting conv bias back to False as Batchnorm is used\n"
     ]
    },
    {
     "name": "stdout",
     "output_type": "stream",
     "text": [
      "torch.Size([8, 1, 32, 32])\n"
     ]
    }
   ],
   "source": [
    "x = torch.randn(8, 1, 32, 32)\n",
    "ae = AutoEncoder()\n",
    "y = ae(x)\n",
    "print(y.shape)\n"
   ]
  },
  {
   "cell_type": "code",
   "execution_count": 31,
   "metadata": {},
   "outputs": [
    {
     "name": "stderr",
     "output_type": "stream",
     "text": [
      "[15:33:38] WARNING - setting conv bias back to False as Batchnorm is used\n",
      "[15:33:38] WARNING - setting conv bias back to False as Batchnorm is used\n",
      "GPU available: True (cuda), used: True\n",
      "TPU available: False, using: 0 TPU cores\n",
      "HPU available: False, using: 0 HPUs\n",
      "[15:33:38] INFO - SuperResAutoencoderX: init\n",
      "[15:33:38] INFO - Regressor: init\n",
      "/user/s/slegroux/miniconda3/envs/nimrod/lib/python3.11/site-packages/lightning/pytorch/utilities/parsing.py:209: Attribute 'nnet' is an instance of `nn.Module` and is already saved during checkpointing. It is recommended to ignore them using `self.save_hyperparameters(ignore=['nnet'])`.\n",
      "/user/s/slegroux/miniconda3/envs/nimrod/lib/python3.11/site-packages/lightning/pytorch/loops/utilities.py:73: `max_epochs` was not set. Setting it to 1000 epochs. To train without an epoch limit, set `max_epochs=-1`.\n",
      "[15:33:41] INFO - loading dataset fashion_mnist with args () from split train\n",
      "[15:33:41] INFO - loading dataset fashion_mnist from split train\n",
      "Overwrite dataset info from restored data version if exists.\n",
      "[15:33:44] INFO - Overwrite dataset info from restored data version if exists.\n",
      "Loading Dataset info from ../data/image/fashion_mnist/fashion_mnist/0.0.0/531be5e2ccc9dba0c201ad3ae567a4f3d16ecdd2\n",
      "[15:33:44] INFO - Loading Dataset info from ../data/image/fashion_mnist/fashion_mnist/0.0.0/531be5e2ccc9dba0c201ad3ae567a4f3d16ecdd2\n",
      "Found cached dataset fashion_mnist (/user/s/slegroux/Projects/nimrod/tutorials/../data/image/fashion_mnist/fashion_mnist/0.0.0/531be5e2ccc9dba0c201ad3ae567a4f3d16ecdd2)\n",
      "[15:33:44] INFO - Found cached dataset fashion_mnist (/user/s/slegroux/Projects/nimrod/tutorials/../data/image/fashion_mnist/fashion_mnist/0.0.0/531be5e2ccc9dba0c201ad3ae567a4f3d16ecdd2)\n",
      "Loading Dataset info from /user/s/slegroux/Projects/nimrod/tutorials/../data/image/fashion_mnist/fashion_mnist/0.0.0/531be5e2ccc9dba0c201ad3ae567a4f3d16ecdd2\n",
      "[15:33:44] INFO - Loading Dataset info from /user/s/slegroux/Projects/nimrod/tutorials/../data/image/fashion_mnist/fashion_mnist/0.0.0/531be5e2ccc9dba0c201ad3ae567a4f3d16ecdd2\n",
      "[15:33:47] INFO - loading dataset fashion_mnist with args () from split test\n",
      "[15:33:47] INFO - loading dataset fashion_mnist from split test\n",
      "Overwrite dataset info from restored data version if exists.\n",
      "[15:33:50] INFO - Overwrite dataset info from restored data version if exists.\n",
      "Loading Dataset info from ../data/image/fashion_mnist/fashion_mnist/0.0.0/531be5e2ccc9dba0c201ad3ae567a4f3d16ecdd2\n",
      "[15:33:50] INFO - Loading Dataset info from ../data/image/fashion_mnist/fashion_mnist/0.0.0/531be5e2ccc9dba0c201ad3ae567a4f3d16ecdd2\n",
      "Found cached dataset fashion_mnist (/user/s/slegroux/Projects/nimrod/tutorials/../data/image/fashion_mnist/fashion_mnist/0.0.0/531be5e2ccc9dba0c201ad3ae567a4f3d16ecdd2)\n",
      "[15:33:50] INFO - Found cached dataset fashion_mnist (/user/s/slegroux/Projects/nimrod/tutorials/../data/image/fashion_mnist/fashion_mnist/0.0.0/531be5e2ccc9dba0c201ad3ae567a4f3d16ecdd2)\n",
      "Loading Dataset info from /user/s/slegroux/Projects/nimrod/tutorials/../data/image/fashion_mnist/fashion_mnist/0.0.0/531be5e2ccc9dba0c201ad3ae567a4f3d16ecdd2\n",
      "[15:33:50] INFO - Loading Dataset info from /user/s/slegroux/Projects/nimrod/tutorials/../data/image/fashion_mnist/fashion_mnist/0.0.0/531be5e2ccc9dba0c201ad3ae567a4f3d16ecdd2\n",
      "[15:33:52] INFO - loading dataset fashion_mnist with args () from split test\n",
      "[15:33:52] INFO - loading dataset fashion_mnist from split test\n",
      "Overwrite dataset info from restored data version if exists.\n",
      "[15:33:55] INFO - Overwrite dataset info from restored data version if exists.\n",
      "Loading Dataset info from ../data/image/fashion_mnist/fashion_mnist/0.0.0/531be5e2ccc9dba0c201ad3ae567a4f3d16ecdd2\n",
      "[15:33:55] INFO - Loading Dataset info from ../data/image/fashion_mnist/fashion_mnist/0.0.0/531be5e2ccc9dba0c201ad3ae567a4f3d16ecdd2\n",
      "Found cached dataset fashion_mnist (/user/s/slegroux/Projects/nimrod/tutorials/../data/image/fashion_mnist/fashion_mnist/0.0.0/531be5e2ccc9dba0c201ad3ae567a4f3d16ecdd2)\n",
      "[15:33:55] INFO - Found cached dataset fashion_mnist (/user/s/slegroux/Projects/nimrod/tutorials/../data/image/fashion_mnist/fashion_mnist/0.0.0/531be5e2ccc9dba0c201ad3ae567a4f3d16ecdd2)\n",
      "Loading Dataset info from /user/s/slegroux/Projects/nimrod/tutorials/../data/image/fashion_mnist/fashion_mnist/0.0.0/531be5e2ccc9dba0c201ad3ae567a4f3d16ecdd2\n",
      "[15:33:55] INFO - Loading Dataset info from /user/s/slegroux/Projects/nimrod/tutorials/../data/image/fashion_mnist/fashion_mnist/0.0.0/531be5e2ccc9dba0c201ad3ae567a4f3d16ecdd2\n",
      "[15:33:55] WARNING - same dataset for validation and test\n",
      "LOCAL_RANK: 0 - CUDA_VISIBLE_DEVICES: [0]\n",
      "[15:33:55] INFO - Regressor: configure_optimizers\n",
      "[15:33:55] INFO - Optimizer: <class 'torch.optim.adamw.AdamW'>\n",
      "[15:33:55] WARNING - no scheduler has been setup\n"
     ]
    },
    {
     "data": {
      "application/vnd.jupyter.widget-view+json": {
       "model_id": "effcd0a52ae64035a4ad22c6da072ac5",
       "version_major": 2,
       "version_minor": 0
      },
      "text/plain": [
       "Finding best initial lr:   0%|          | 0/100 [00:00<?, ?it/s]"
      ]
     },
     "metadata": {},
     "output_type": "display_data"
    },
    {
     "name": "stderr",
     "output_type": "stream",
     "text": [
      "`Trainer.fit` stopped: `max_steps=100` reached.\n",
      "Learning rate set to 0.019952623149688802\n",
      "Restoring states from the checkpoint path at /user/s/slegroux/Projects/nimrod/tutorials/.lr_find_1dbd865b-29c9-4624-910d-53748ce5a0e4.ckpt\n",
      "Restored all states from the checkpoint at /user/s/slegroux/Projects/nimrod/tutorials/.lr_find_1dbd865b-29c9-4624-910d-53748ce5a0e4.ckpt\n"
     ]
    },
    {
     "data": {
      "image/png": "[encoded data removed]",
      "text/plain": [
       "<Figure size 640x480 with 1 Axes>"
      ]
     },
     "metadata": {},
     "output_type": "display_data"
    },
    {
     "name": "stderr",
     "output_type": "stream",
     "text": [
      "GPU available: True (cuda), used: True\n",
      "TPU available: False, using: 0 TPU cores\n",
      "HPU available: False, using: 0 HPUs\n",
      "[15:33:57] INFO - SuperResAutoencoderX: init\n",
      "[15:33:57] INFO - Regressor: init\n"
     ]
    },
    {
     "name": "stdout",
     "output_type": "stream",
     "text": [
      "Suggested learning rate: 0.019952623149688802\n"
     ]
    },
    {
     "data": {
      "text/html": [
       "Tracking run with wandb version 0.19.1"
      ],
      "text/plain": [
       "<IPython.core.display.HTML object>"
      ]
     },
     "metadata": {},
     "output_type": "display_data"
    },
    {
     "data": {
      "text/html": [
       "Run data is saved locally in <code>wandb/wandb/run-20250208_153357-1htcngla</code>"
      ],
      "text/plain": [
       "<IPython.core.display.HTML object>"
      ]
     },
     "metadata": {},
     "output_type": "display_data"
    },
    {
     "data": {
      "text/html": [
       "Syncing run <strong><a href='https://wandb.ai/slegroux/Fashion-MNIST-AutoEncoder/runs/1htcngla' target=\"_blank\">AutoEncoderX-bs:512-epochs:5</a></strong> to <a href='https://wandb.ai/slegroux/Fashion-MNIST-AutoEncoder' target=\"_blank\">Weights & Biases</a> (<a href='https://wandb.me/developer-guide' target=\"_blank\">docs</a>)<br>"
      ],
      "text/plain": [
       "<IPython.core.display.HTML object>"
      ]
     },
     "metadata": {},
     "output_type": "display_data"
    },
    {
     "data": {
      "text/html": [
       " View project at <a href='https://wandb.ai/slegroux/Fashion-MNIST-AutoEncoder' target=\"_blank\">https://wandb.ai/slegroux/Fashion-MNIST-AutoEncoder</a>"
      ],
      "text/plain": [
       "<IPython.core.display.HTML object>"
      ]
     },
     "metadata": {},
     "output_type": "display_data"
    },
    {
     "data": {
      "text/html": [
       " View run at <a href='https://wandb.ai/slegroux/Fashion-MNIST-AutoEncoder/runs/1htcngla' target=\"_blank\">https://wandb.ai/slegroux/Fashion-MNIST-AutoEncoder/runs/1htcngla</a>"
      ],
      "text/plain": [
       "<IPython.core.display.HTML object>"
      ]
     },
     "metadata": {},
     "output_type": "display_data"
    },
    {
     "name": "stderr",
     "output_type": "stream",
     "text": [
      "/user/s/slegroux/miniconda3/envs/nimrod/lib/python3.11/site-packages/lightning/pytorch/callbacks/model_checkpoint.py:654: Checkpoint directory /user/s/slegroux/Projects/nimrod/tutorials/checkpoints/Fashion-MNIST-AutoEncoder/AutoEncoderX-bs:512-epochs:5 exists and is not empty.\n",
      "LOCAL_RANK: 0 - CUDA_VISIBLE_DEVICES: [0]\n",
      "[15:33:57] INFO - Regressor: configure_optimizers\n",
      "[15:33:57] INFO - Optimizer: <class 'torch.optim.adamw.AdamW'>\n",
      "[15:33:57] INFO - Scheduler: <class 'torch.optim.lr_scheduler.OneCycleLR'>\n",
      "\n",
      "  | Name         | Type             | Params | Mode \n",
      "----------------------------------------------------------\n",
      "0 | nnet         | AutoEncoder      | 2.5 K  | train\n",
      "1 | criterion    | MSELoss          | 0      | train\n",
      "2 | train_mse    | MeanSquaredError | 0      | train\n",
      "3 | val_mse      | MeanSquaredError | 0      | train\n",
      "4 | test_mse     | MeanSquaredError | 0      | train\n",
      "5 | val_mse_best | MinMetric        | 0      | train\n",
      "6 | train_loss   | MeanMetric       | 0      | train\n",
      "7 | val_loss     | MeanMetric       | 0      | train\n",
      "8 | test_loss    | MeanMetric       | 0      | train\n",
      "----------------------------------------------------------\n",
      "2.5 K     Trainable params\n",
      "0         Non-trainable params\n",
      "2.5 K     Total params\n",
      "0.010     Total estimated model params size (MB)\n",
      "29        Modules in train mode\n",
      "0         Modules in eval mode\n"
     ]
    },
    {
     "data": {
      "application/vnd.jupyter.widget-view+json": {
       "model_id": "c5c9fb9ce30c410eadecb658fb350032",
       "version_major": 2,
       "version_minor": 0
      },
      "text/plain": [
       "Sanity Checking: |          | 0/? [00:00<?, ?it/s]"
      ]
     },
     "metadata": {},
     "output_type": "display_data"
    },
    {
     "data": {
      "application/vnd.jupyter.widget-view+json": {
       "model_id": "ced9f56ff4ad4c6fbd5099df4aef6f66",
       "version_major": 2,
       "version_minor": 0
      },
      "text/plain": [
       "Training: |          | 0/? [00:00<?, ?it/s]"
      ]
     },
     "metadata": {},
     "output_type": "display_data"
    },
    {
     "data": {
      "application/vnd.jupyter.widget-view+json": {
       "model_id": "f444ae84c3154320b2c01e0db24ca0d5",
       "version_major": 2,
       "version_minor": 0
      },
      "text/plain": [
       "Validation: |          | 0/? [00:00<?, ?it/s]"
      ]
     },
     "metadata": {},
     "output_type": "display_data"
    },
    {
     "data": {
      "application/vnd.jupyter.widget-view+json": {
       "model_id": "2bdf045cac734dd6bf0b7ad70ac0567d",
       "version_major": 2,
       "version_minor": 0
      },
      "text/plain": [
       "Validation: |          | 0/? [00:00<?, ?it/s]"
      ]
     },
     "metadata": {},
     "output_type": "display_data"
    },
    {
     "data": {
      "application/vnd.jupyter.widget-view+json": {
       "model_id": "0dbb1606bf794c88abd3db54eb65d6f5",
       "version_major": 2,
       "version_minor": 0
      },
      "text/plain": [
       "Validation: |          | 0/? [00:00<?, ?it/s]"
      ]
     },
     "metadata": {},
     "output_type": "display_data"
    },
    {
     "data": {
      "application/vnd.jupyter.widget-view+json": {
       "model_id": "6df7fcd6ffcd4091a298179749f98729",
       "version_major": 2,
       "version_minor": 0
      },
      "text/plain": [
       "Validation: |          | 0/? [00:00<?, ?it/s]"
      ]
     },
     "metadata": {},
     "output_type": "display_data"
    },
    {
     "data": {
      "application/vnd.jupyter.widget-view+json": {
       "model_id": "3ab1e4529d69406ba342cfb90e2689f3",
       "version_major": 2,
       "version_minor": 0
      },
      "text/plain": [
       "Validation: |          | 0/? [00:00<?, ?it/s]"
      ]
     },
     "metadata": {},
     "output_type": "display_data"
    },
    {
     "name": "stderr",
     "output_type": "stream",
     "text": [
      "`Trainer.fit` stopped: `max_epochs=5` reached.\n",
      "LOCAL_RANK: 0 - CUDA_VISIBLE_DEVICES: [0]\n"
     ]
    },
    {
     "data": {
      "application/vnd.jupyter.widget-view+json": {
       "model_id": "07b3ef85aca549d48b0a7e6499718578",
       "version_major": 2,
       "version_minor": 0
      },
      "text/plain": [
       "Testing: |          | 0/? [00:00<?, ?it/s]"
      ]
     },
     "metadata": {},
     "output_type": "display_data"
    },
    {
     "data": {
      "text/html": [
       "<pre style=\"white-space:pre;overflow-x:auto;line-height:normal;font-family:Menlo,'DejaVu Sans Mono',consolas,'Courier New',monospace\">┏━━━━━━━━━━━━━━━━━━━━━━━━━━━┳━━━━━━━━━━━━━━━━━━━━━━━━━━━┓\n",
       "┃<span style=\"font-weight: bold\">        Test metric        </span>┃<span style=\"font-weight: bold\">       DataLoader 0        </span>┃\n",
       "┡━━━━━━━━━━━━━━━━━━━━━━━━━━━╇━━━━━━━━━━━━━━━━━━━━━━━━━━━┩\n",
       "│<span style=\"color: #008080; text-decoration-color: #008080\">         test/loss         </span>│<span style=\"color: #800080; text-decoration-color: #800080\">    0.3342423141002655     </span>│\n",
       "└───────────────────────────┴───────────────────────────┘\n",
       "</pre>\n"
      ],
      "text/plain": [
       "┏━━━━━━━━━━━━━━━━━━━━━━━━━━━┳━━━━━━━━━━━━━━━━━━━━━━━━━━━┓\n",
       "┃\u001b[1m \u001b[0m\u001b[1m       Test metric       \u001b[0m\u001b[1m \u001b[0m┃\u001b[1m \u001b[0m\u001b[1m      DataLoader 0       \u001b[0m\u001b[1m \u001b[0m┃\n",
       "┡━━━━━━━━━━━━━━━━━━━━━━━━━━━╇━━━━━━━━━━━━━━━━━━━━━━━━━━━┩\n",
       "│\u001b[36m \u001b[0m\u001b[36m        test/loss        \u001b[0m\u001b[36m \u001b[0m│\u001b[35m \u001b[0m\u001b[35m   0.3342423141002655    \u001b[0m\u001b[35m \u001b[0m│\n",
       "└───────────────────────────┴───────────────────────────┘\n"
      ]
     },
     "metadata": {},
     "output_type": "display_data"
    },
    {
     "name": "stderr",
     "output_type": "stream",
     "text": [
      "[15:34:10] INFO - Best ckpt path: /user/s/slegroux/Projects/nimrod/tutorials/checkpoints/Fashion-MNIST-AutoEncoder/AutoEncoderX-bs:512-epochs:5/4-0.33.ckpt\n"
     ]
    },
    {
     "data": {
      "text/html": [],
      "text/plain": [
       "<IPython.core.display.HTML object>"
      ]
     },
     "metadata": {},
     "output_type": "display_data"
    },
    {
     "data": {
      "text/html": [
       "<br>    <style><br>        .wandb-row {<br>            display: flex;<br>            flex-direction: row;<br>            flex-wrap: wrap;<br>            justify-content: flex-start;<br>            width: 100%;<br>        }<br>        .wandb-col {<br>            display: flex;<br>            flex-direction: column;<br>            flex-basis: 100%;<br>            flex: 1;<br>            padding: 10px;<br>        }<br>    </style><br><div class=\"wandb-row\"><div class=\"wandb-col\"><h3>Run history:</h3><br/><table class=\"wandb\"><tr><td>epoch</td><td>▁▁▁▁▁▁▁▁▃▃▃▃▃▃▃▃▃▃▃▅▅▅▅▅▅▅▆▆▆▆██████████</td></tr><tr><td>lr-AdamW</td><td>▁▂▂▃▄▅▆▇█████▇▇▇▆▅▅▅▅▄▄▄▄▄▄▃▃▂▂▂▂▂▁▁▁▁▁▁</td></tr><tr><td>test/loss</td><td>▁</td></tr><tr><td>train/loss_epoch</td><td>█▁▁▁▁</td></tr><tr><td>train/loss_step</td><td>██▄▃▂▁▂▂▁▁▁▁▁▁▁▁▁▁▁▁▁▁▁▁▁▁▁▁▁▁▁▁▁▁▁▁▁▁▁▁</td></tr><tr><td>trainer/global_step</td><td>▁▁▁▁▁▂▂▂▂▂▃▃▃▃▃▄▄▄▄▄▄▅▅▅▅▅▆▆▆▆▆▇▇▇▇█████</td></tr><tr><td>val/loss</td><td>█▂▂▁▁</td></tr><tr><td>val/mse_best</td><td>█▄▃▂▁</td></tr></table><br/></div><div class=\"wandb-col\"><h3>Run summary:</h3><br/><table class=\"wandb\"><tr><td>epoch</td><td>5</td></tr><tr><td>lr-AdamW</td><td>0.0</td></tr><tr><td>test/loss</td><td>0.33424</td></tr><tr><td>train/loss_epoch</td><td>0.33661</td></tr><tr><td>train/loss_step</td><td>0.34882</td></tr><tr><td>trainer/global_step</td><td>590</td></tr><tr><td>val/loss</td><td>0.33424</td></tr><tr><td>val/mse_best</td><td>0.34107</td></tr></table><br/></div></div>"
      ],
      "text/plain": [
       "<IPython.core.display.HTML object>"
      ]
     },
     "metadata": {},
     "output_type": "display_data"
    },
    {
     "data": {
      "text/html": [
       " View run <strong style=\"color:#cdcd00\">AutoEncoderX-bs:512-epochs:5</strong> at: <a href='https://wandb.ai/slegroux/Fashion-MNIST-AutoEncoder/runs/1htcngla' target=\"_blank\">https://wandb.ai/slegroux/Fashion-MNIST-AutoEncoder/runs/1htcngla</a><br> View project at: <a href='https://wandb.ai/slegroux/Fashion-MNIST-AutoEncoder' target=\"_blank\">https://wandb.ai/slegroux/Fashion-MNIST-AutoEncoder</a><br>Synced 6 W&B file(s), 0 media file(s), 5 artifact file(s) and 0 other file(s)"
      ],
      "text/plain": [
       "<IPython.core.display.HTML object>"
      ]
     },
     "metadata": {},
     "output_type": "display_data"
    },
    {
     "data": {
      "text/html": [
       "Find logs at: <code>wandb/wandb/run-20250208_153357-1htcngla/logs</code>"
      ],
      "text/plain": [
       "<IPython.core.display.HTML object>"
      ]
     },
     "metadata": {},
     "output_type": "display_data"
    }
   ],
   "source": [
    "# SETUP\n",
    "PROJECT_NAME = \"Fashion-MNIST-AutoEncoder\"\n",
    "N_EPOCHS = 5\n",
    "do_lr_finder = True\n",
    "exp_logger = 'wandb'\n",
    "n_features = [1, 8, 16]\n",
    "\n",
    "ae = AutoEncoder(n_features=n_features)\n",
    "model = partial(AutoEncoderX, nnet=ae)\n",
    "\n",
    "tags = [\n",
    "    f\"UP: ConvTranspose\",\n",
    "    f\"Leaky ReLU\",\n",
    "    f\"DOWN: ResBlock\"\n",
    "    f\"n_feats:{n_features}\",\n",
    "    f\"bs:{dm.batch_size}\",\n",
    "    f\"epochs:{N_EPOCHS}\"\n",
    "    ]\n",
    "\n",
    "# LR Finder\n",
    "if do_lr_finder:\n",
    "    suggested_lr = lr_finder(model, dm, plot=True)\n",
    "    print(f\"Suggested learning rate: {suggested_lr}\")\n",
    "else:\n",
    "    suggested_lr = 1e-4\n",
    "\n",
    "# ONE-CYCLE TRAINING\n",
    "trained_model, best_ckpt = train_one_cycle(\n",
    "    model,\n",
    "    dm,\n",
    "    n_epochs=N_EPOCHS,\n",
    "    max_lr=suggested_lr,\n",
    "    project_name= PROJECT_NAME,\n",
    "    tags=tags,\n",
    "    model_summary=False,\n",
    "    logger_cb=exp_logger\n",
    "    )"
   ]
  },
  {
   "cell_type": "code",
   "execution_count": 34,
   "metadata": {},
   "outputs": [
    {
     "name": "stdout",
     "output_type": "stream",
     "text": [
      "/user/s/slegroux/Projects/nimrod/tutorials/checkpoints/Fashion-MNIST-AutoEncoder/AutoEncoderX-bs:512-epochs:5/4-0.33.ckpt\n"
     ]
    },
    {
     "data": {
      "image/png": "[encoded data removed]",
      "text/plain": [
       "<Figure size 300x300 with 2 Axes>"
      ]
     },
     "metadata": {},
     "output_type": "display_data"
    },
    {
     "name": "stdout",
     "output_type": "stream",
     "text": [
      "/user/s/slegroux/Projects/nimrod/tutorials/checkpoints/Fashion-MNIST-AutoEncoder/AutoEncoderX-bs:512-epochs:5/4-0.33.ckpt\n"
     ]
    },
    {
     "data": {
      "image/png": "[encoded data removed]",
      "text/plain": [
       "<Figure size 300x300 with 2 Axes>"
      ]
     },
     "metadata": {},
     "output_type": "display_data"
    },
    {
     "name": "stdout",
     "output_type": "stream",
     "text": [
      "/user/s/slegroux/Projects/nimrod/tutorials/checkpoints/Fashion-MNIST-AutoEncoder/AutoEncoderX-bs:512-epochs:5/4-0.33.ckpt\n"
     ]
    },
    {
     "data": {
      "image/png": "[encoded data removed]",
      "text/plain": [
       "<Figure size 300x300 with 2 Axes>"
      ]
     },
     "metadata": {},
     "output_type": "display_data"
    },
    {
     "name": "stdout",
     "output_type": "stream",
     "text": [
      "/user/s/slegroux/Projects/nimrod/tutorials/checkpoints/Fashion-MNIST-AutoEncoder/AutoEncoderX-bs:512-epochs:5/4-0.33.ckpt\n"
     ]
    },
    {
     "data": {
      "image/png": "[encoded data removed]",
      "text/plain": [
       "<Figure size 300x300 with 2 Axes>"
      ]
     },
     "metadata": {},
     "output_type": "display_data"
    },
    {
     "name": "stdout",
     "output_type": "stream",
     "text": [
      "/user/s/slegroux/Projects/nimrod/tutorials/checkpoints/Fashion-MNIST-AutoEncoder/AutoEncoderX-bs:512-epochs:5/4-0.33.ckpt\n"
     ]
    },
    {
     "data": {
      "image/png": "[encoded data removed]",
      "text/plain": [
       "<Figure size 300x300 with 2 Axes>"
      ]
     },
     "metadata": {},
     "output_type": "display_data"
    }
   ],
   "source": [
    "for i in range(5):\n",
    "    print(best_ckpt)\n",
    "    idx = torch.randint(0, len(dm.test_ds), (1,))\n",
    "    x, y = dm.test_ds[idx]\n",
    "    y_hat = trained_model(x.unsqueeze(0))\n",
    "    fig, ax = plt.subplots(1, 2, figsize=(3,3), tight_layout=True)\n",
    "    ax[0].imshow(y.squeeze(), cmap='gray')\n",
    "    ax[1].imshow(y_hat.squeeze().detach(), cmap='gray')\n",
    "    plt.show()\n"
   ]
  },
  {
   "cell_type": "code",
   "execution_count": null,
   "metadata": {},
   "outputs": [],
   "source": []
  }
 ],
 "metadata": {
  "kernelspec": {
   "display_name": "Python 3",
   "language": "python",
   "name": "python3"
  },
  "language_info": {
   "codemirror_mode": {
    "name": "ipython",
    "version": 3
   },
   "file_extension": ".py",
   "mimetype": "text/x-python",
   "name": "python",
   "nbconvert_exporter": "python",
   "pygments_lexer": "ipython3",
   "version": "3.11.8"
  }
 },
 "nbformat": 4,
 "nbformat_minor": 2
}
