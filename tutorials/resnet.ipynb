{
 "cells": [
  {
   "cell_type": "markdown",
   "metadata": {},
   "source": [
    "# Image Classification with ResNet"
   ]
  },
  {
   "cell_type": "code",
   "execution_count": 6,
   "metadata": {},
   "outputs": [
    {
     "name": "stdout",
     "output_type": "stream",
     "text": [
      "The autoreload extension is already loaded. To reload it, use:\n",
      "  %reload_ext autoreload\n"
     ]
    }
   ],
   "source": [
    "import torch\n",
    "from lightning.pytorch import Trainer\n",
    "from lightning.pytorch.tuner import Tuner\n",
    "from lightning.pytorch.loggers import WandbLogger\n",
    "\n",
    "from matplotlib import pyplot as plt\n",
    "from hydra.utils import instantiate\n",
    "\n",
    "from omegaconf import OmegaConf\n",
    "from rich import print\n",
    "import wandb\n",
    "\n",
    "%load_ext autoreload\n",
    "%autoreload 2\n"
   ]
  },
  {
   "cell_type": "markdown",
   "metadata": {},
   "source": [
    "## Data Module"
   ]
  },
  {
   "cell_type": "code",
   "execution_count": 3,
   "metadata": {},
   "outputs": [],
   "source": [
    "cfg = OmegaConf.load('../config/data/image/mnist.yaml')"
   ]
  },
  {
   "cell_type": "code",
   "execution_count": 4,
   "metadata": {},
   "outputs": [
    {
     "name": "stderr",
     "output_type": "stream",
     "text": [
      "[17:08:50] INFO - Init ImageDataModule for mnist\n",
      "[17:09:04] INFO - split train into train/val [0.8, 0.2]\n",
      "[17:09:04] INFO - train: 48000 val: 12000, test: 10000\n"
     ]
    }
   ],
   "source": [
    "cfg.batch_size = 128\n",
    "dm = instantiate(cfg)\n",
    "dm.prepare_data()\n",
    "dm.setup()"
   ]
  },
  {
   "cell_type": "code",
   "execution_count": 5,
   "metadata": {},
   "outputs": [
    {
     "data": {
      "image/jpeg": "[encoded data removed]",
      "image/png": "[encoded data removed]",
      "text/plain": [
       "<PIL.Image.Image image mode=RGB size=242x62>"
      ]
     },
     "execution_count": 5,
     "metadata": {},
     "output_type": "execute_result"
    }
   ],
   "source": [
    "xb, yb = next(iter(dm.train_dataloader()))\n",
    "dm.show_batch(xb[:16])"
   ]
  },
  {
   "cell_type": "markdown",
   "metadata": {},
   "source": [
    "## Model"
   ]
  },
  {
   "cell_type": "code",
   "execution_count": 7,
   "metadata": {},
   "outputs": [
    {
     "data": {
      "text/html": [
       "<pre style=\"white-space:pre;overflow-x:auto;line-height:normal;font-family:Menlo,'DejaVu Sans Mono',consolas,'Courier New',monospace\">_target_: nimrod.models.conv.ConvNetX\n",
       "_partial_: true\n",
       "num_classes: <span style=\"color: #008080; text-decoration-color: #008080; font-weight: bold\">10</span>\n",
       "nnet:\n",
       "  _target_: nimrod.models.conv.ConvNet\n",
       "  n_features:\n",
       "  - <span style=\"color: #008080; text-decoration-color: #008080; font-weight: bold\">1</span>\n",
       "  - <span style=\"color: #008080; text-decoration-color: #008080; font-weight: bold\">8</span>\n",
       "  - <span style=\"color: #008080; text-decoration-color: #008080; font-weight: bold\">16</span>\n",
       "  - <span style=\"color: #008080; text-decoration-color: #008080; font-weight: bold\">32</span>\n",
       "  - <span style=\"color: #008080; text-decoration-color: #008080; font-weight: bold\">16</span>\n",
       "  num_classes: $<span style=\"font-weight: bold\">{</span>..num_classes<span style=\"font-weight: bold\">}</span>\n",
       "  kernel_size: <span style=\"color: #008080; text-decoration-color: #008080; font-weight: bold\">3</span>\n",
       "  bias: null\n",
       "  normalization:\n",
       "    _target_: hydra.utils.get_class\n",
       "    path: torch.nn.BatchNorm2d\n",
       "  activation:\n",
       "    _target_: hydra.utils.get_class\n",
       "    path: torch.nn.ReLU\n",
       "\n",
       "</pre>\n"
      ],
      "text/plain": [
       "_target_: nimrod.models.conv.ConvNetX\n",
       "_partial_: true\n",
       "num_classes: \u001b[1;36m10\u001b[0m\n",
       "nnet:\n",
       "  _target_: nimrod.models.conv.ConvNet\n",
       "  n_features:\n",
       "  - \u001b[1;36m1\u001b[0m\n",
       "  - \u001b[1;36m8\u001b[0m\n",
       "  - \u001b[1;36m16\u001b[0m\n",
       "  - \u001b[1;36m32\u001b[0m\n",
       "  - \u001b[1;36m16\u001b[0m\n",
       "  num_classes: $\u001b[1m{\u001b[0m..num_classes\u001b[1m}\u001b[0m\n",
       "  kernel_size: \u001b[1;36m3\u001b[0m\n",
       "  bias: null\n",
       "  normalization:\n",
       "    _target_: hydra.utils.get_class\n",
       "    path: torch.nn.BatchNorm2d\n",
       "  activation:\n",
       "    _target_: hydra.utils.get_class\n",
       "    path: torch.nn.ReLU\n",
       "\n"
      ]
     },
     "metadata": {},
     "output_type": "display_data"
    }
   ],
   "source": [
    "cfg_model = OmegaConf.load('../config/model/image/resnetx.yaml')\n",
    "cfg_model.nnet.n_features = [1, 8, 16, 32, 16]\n",
    "print(OmegaConf.to_yaml(cfg_model))\n",
    "model = instantiate(cfg_model)"
   ]
  },
  {
   "cell_type": "code",
   "execution_count": 8,
   "metadata": {},
   "outputs": [
    {
     "data": {
      "text/plain": [
       "torch.Size([64, 10])"
      ]
     },
     "execution_count": 8,
     "metadata": {},
     "output_type": "execute_result"
    }
   ],
   "source": [
    "B, C, H, W = 64, 1, 28, 28\n",
    "X = torch.rand(B, C, H, W)\n",
    "nnet = instantiate(cfg_model.nnet)\n",
    "nnet(X).shape"
   ]
  },
  {
   "cell_type": "markdown",
   "metadata": {},
   "source": [
    "## Optimizer"
   ]
  },
  {
   "cell_type": "code",
   "execution_count": 9,
   "metadata": {},
   "outputs": [
    {
     "data": {
      "text/html": [
       "<pre style=\"white-space:pre;overflow-x:auto;line-height:normal;font-family:Menlo,'DejaVu Sans Mono',consolas,'Courier New',monospace\">_target_: torch.optim.lr_scheduler.OneCycleLR\n",
       "_partial_: true\n",
       "max_lr: <span style=\"color: #008080; text-decoration-color: #008080; font-weight: bold\">0.01</span>\n",
       "total_steps: null\n",
       "pct_start: <span style=\"color: #008080; text-decoration-color: #008080; font-weight: bold\">0.3</span>\n",
       "anneal_strategy: cos\n",
       "div_factor: <span style=\"color: #008080; text-decoration-color: #008080; font-weight: bold\">10</span>\n",
       "three_phase: false\n",
       "\n",
       "</pre>\n"
      ],
      "text/plain": [
       "_target_: torch.optim.lr_scheduler.OneCycleLR\n",
       "_partial_: true\n",
       "max_lr: \u001b[1;36m0.01\u001b[0m\n",
       "total_steps: null\n",
       "pct_start: \u001b[1;36m0.3\u001b[0m\n",
       "anneal_strategy: cos\n",
       "div_factor: \u001b[1;36m10\u001b[0m\n",
       "three_phase: false\n",
       "\n"
      ]
     },
     "metadata": {},
     "output_type": "display_data"
    }
   ],
   "source": [
    "cfg_sched = OmegaConf.load('../config/scheduler/one_cycle_lr.yaml')\n",
    "scheduler = instantiate(cfg_sched)\n",
    "print(OmegaConf.to_yaml(cfg_sched))"
   ]
  },
  {
   "cell_type": "code",
   "execution_count": 10,
   "metadata": {},
   "outputs": [
    {
     "data": {
      "text/html": [
       "<pre style=\"white-space:pre;overflow-x:auto;line-height:normal;font-family:Menlo,'DejaVu Sans Mono',consolas,'Courier New',monospace\">_target_: torch.optim.AdamW\n",
       "_partial_: true\n",
       "lr: <span style=\"color: #008080; text-decoration-color: #008080; font-weight: bold\">0.0001</span>\n",
       "weight_decay: <span style=\"color: #008080; text-decoration-color: #008080; font-weight: bold\">1.0e-05</span>\n",
       "\n",
       "</pre>\n"
      ],
      "text/plain": [
       "_target_: torch.optim.AdamW\n",
       "_partial_: true\n",
       "lr: \u001b[1;36m0.0001\u001b[0m\n",
       "weight_decay: \u001b[1;36m1.0e-05\u001b[0m\n",
       "\n"
      ]
     },
     "metadata": {},
     "output_type": "display_data"
    }
   ],
   "source": [
    "cfg = OmegaConf.load('../config/optimizer/adam_w.yaml')\n",
    "optimizer = instantiate(cfg)\n",
    "print(OmegaConf.to_yaml(cfg))"
   ]
  },
  {
   "cell_type": "markdown",
   "metadata": {},
   "source": [
    "## Training"
   ]
  },
  {
   "cell_type": "code",
   "execution_count": 11,
   "metadata": {},
   "outputs": [
    {
     "data": {
      "text/html": [
       "<pre style=\"white-space:pre;overflow-x:auto;line-height:normal;font-family:Menlo,'DejaVu Sans Mono',consolas,'Courier New',monospace\"><span style=\"font-weight: bold\">&lt;</span><span style=\"color: #ff00ff; text-decoration-color: #ff00ff; font-weight: bold\">class</span><span style=\"color: #000000; text-decoration-color: #000000\"> </span><span style=\"color: #008000; text-decoration-color: #008000\">'lightning.pytorch.callbacks.lr_monitor.LearningRateMonitor'</span><span style=\"font-weight: bold\">&gt;</span>\n",
       "</pre>\n"
      ],
      "text/plain": [
       "\u001b[1m<\u001b[0m\u001b[1;95mclass\u001b[0m\u001b[39m \u001b[0m\u001b[32m'lightning.pytorch.callbacks.lr_monitor.LearningRateMonitor'\u001b[0m\u001b[1m>\u001b[0m\n"
      ]
     },
     "metadata": {},
     "output_type": "display_data"
    },
    {
     "data": {
      "text/html": [
       "<pre style=\"white-space:pre;overflow-x:auto;line-height:normal;font-family:Menlo,'DejaVu Sans Mono',consolas,'Courier New',monospace\">learning_rate_monitor:\n",
       "  _target_: lightning.pytorch.callbacks.LearningRateMonitor\n",
       "  logging_interval: step\n",
       "\n",
       "</pre>\n"
      ],
      "text/plain": [
       "learning_rate_monitor:\n",
       "  _target_: lightning.pytorch.callbacks.LearningRateMonitor\n",
       "  logging_interval: step\n",
       "\n"
      ]
     },
     "metadata": {},
     "output_type": "display_data"
    }
   ],
   "source": [
    "cfg = OmegaConf.load('../config/callbacks/learning_rate_monitor.yaml')\n",
    "lr_monitor = instantiate(cfg.learning_rate_monitor)\n",
    "print(type(lr_monitor))\n",
    "print(OmegaConf.to_yaml(cfg))"
   ]
  },
  {
   "cell_type": "markdown",
   "metadata": {},
   "source": [
    "## LR Finder"
   ]
  },
  {
   "cell_type": "code",
   "execution_count": 16,
   "metadata": {},
   "outputs": [
    {
     "name": "stderr",
     "output_type": "stream",
     "text": [
      "[17:28:53] INFO - ConvNetX: init\n",
      "[17:28:53] INFO - Classifier: init\n",
      "/Users/slegroux/miniforge3/envs/nimrod/lib/python3.11/site-packages/lightning/pytorch/utilities/parsing.py:208: Attribute 'nnet' is an instance of `nn.Module` and is already saved during checkpointing. It is recommended to ignore them using `self.save_hyperparameters(ignore=['nnet'])`.\n",
      "GPU available: True (mps), used: True\n",
      "TPU available: False, using: 0 TPU cores\n",
      "HPU available: False, using: 0 HPUs\n",
      "/Users/slegroux/miniforge3/envs/nimrod/lib/python3.11/site-packages/lightning/pytorch/loops/utilities.py:72: `max_epochs` was not set. Setting it to 1000 epochs. To train without an epoch limit, set `max_epochs=-1`.\n",
      "[17:29:07] INFO - Optimizer: <class 'torch.optim.adamw.AdamW'>\n",
      "[17:29:07] INFO - Scheduler: <class 'torch.optim.lr_scheduler.OneCycleLR'>\n",
      "/Users/slegroux/miniforge3/envs/nimrod/lib/python3.11/site-packages/lightning/pytorch/trainer/connectors/data_connector.py:424: The 'train_dataloader' does not have many workers which may be a bottleneck. Consider increasing the value of the `num_workers` argument` to `num_workers=11` in the `DataLoader` to improve performance.\n",
      "/Users/slegroux/miniforge3/envs/nimrod/lib/python3.11/site-packages/lightning/pytorch/trainer/connectors/data_connector.py:424: The 'val_dataloader' does not have many workers which may be a bottleneck. Consider increasing the value of the `num_workers` argument` to `num_workers=11` in the `DataLoader` to improve performance.\n"
     ]
    },
    {
     "data": {
      "application/vnd.jupyter.widget-view+json": {
       "model_id": "a5dce24cc25d40dd8e3326c0cc672e9a",
       "version_major": 2,
       "version_minor": 0
      },
      "text/plain": [
       "Finding best initial lr:   0%|          | 0/100 [00:00<?, ?it/s]"
      ]
     },
     "metadata": {},
     "output_type": "display_data"
    },
    {
     "name": "stderr",
     "output_type": "stream",
     "text": [
      "`Trainer.fit` stopped: `max_steps=100` reached.\n",
      "Learning rate set to 0.02818382931264452\n",
      "Restoring states from the checkpoint path at /Users/slegroux/Projects/nimrod/tutorials/.lr_find_2356128e-145e-4d6d-a5ca-2bdac9fdc278.ckpt\n",
      "Restored all states from the checkpoint at /Users/slegroux/Projects/nimrod/tutorials/.lr_find_2356128e-145e-4d6d-a5ca-2bdac9fdc278.ckpt\n"
     ]
    },
    {
     "data": {
      "image/png": "[encoded data removed]",
      "text/plain": [
       "<Figure size 640x480 with 1 Axes>"
      ]
     },
     "metadata": {},
     "output_type": "display_data"
    },
    {
     "data": {
      "text/html": [
       "<pre style=\"white-space:pre;overflow-x:auto;line-height:normal;font-family:Menlo,'DejaVu Sans Mono',consolas,'Courier New',monospace\">Suggested learning rate: <span style=\"color: #008080; text-decoration-color: #008080; font-weight: bold\">0.02818382931264452</span>\n",
       "</pre>\n"
      ],
      "text/plain": [
       "Suggested learning rate: \u001b[1;36m0.02818382931264452\u001b[0m\n"
      ]
     },
     "metadata": {},
     "output_type": "display_data"
    }
   ],
   "source": [
    "# LR_FINDER\n",
    "\n",
    "cfg_model.nnet.n_features = [1, 8, 16, 32, 16]\n",
    "N_EPOCHS = 5\n",
    "cfg_sched.total_steps = len(dm.train_dataloader()) * N_EPOCHS\n",
    "\n",
    "scheduler = instantiate(cfg_sched)\n",
    "model = instantiate(cfg_model)(optimizer=optimizer, scheduler=scheduler)\n",
    "\n",
    "trainer = Trainer(\n",
    "    accelerator=\"auto\",\n",
    "    # max_epochs=N_EPOCHS,\n",
    "    check_val_every_n_epoch=1,\n",
    "    log_every_n_steps=1\n",
    "    )\n",
    "\n",
    "tuner = Tuner(trainer)\n",
    "lr_finder = tuner.lr_find(\n",
    "    model,\n",
    "    datamodule=dm,\n",
    "    min_lr=1e-5,\n",
    "    max_lr=1.0,\n",
    "    num_training=100,  # number of iterations\n",
    "    # attr_name=\"optimizer.lr\",\n",
    ")\n",
    "fig = lr_finder.plot(suggest=True)\n",
    "plt.show()\n",
    "print(f\"Suggested learning rate: {lr_finder.suggestion()}\")\n"
   ]
  },
  {
   "cell_type": "markdown",
   "metadata": {},
   "source": [
    "## one cycle train"
   ]
  },
  {
   "cell_type": "code",
   "execution_count": 18,
   "metadata": {},
   "outputs": [
    {
     "name": "stderr",
     "output_type": "stream",
     "text": [
      "GPU available: True (mps), used: True\n",
      "TPU available: False, using: 0 TPU cores\n",
      "HPU available: False, using: 0 HPUs\n",
      "[18:23:35] INFO - ConvNetX: init\n",
      "[18:23:35] INFO - Classifier: init\n",
      "/Users/slegroux/miniforge3/envs/nimrod/lib/python3.11/site-packages/lightning/pytorch/utilities/parsing.py:208: Attribute 'nnet' is an instance of `nn.Module` and is already saved during checkpointing. It is recommended to ignore them using `self.save_hyperparameters(ignore=['nnet'])`.\n"
     ]
    },
    {
     "data": {
      "text/html": [
       "Tracking run with wandb version 0.19.1"
      ],
      "text/plain": [
       "<IPython.core.display.HTML object>"
      ]
     },
     "metadata": {},
     "output_type": "display_data"
    },
    {
     "data": {
      "text/html": [
       "Run data is saved locally in <code>wandb/wandb/run-20250123_182335-vtpyd60n</code>"
      ],
      "text/plain": [
       "<IPython.core.display.HTML object>"
      ]
     },
     "metadata": {},
     "output_type": "display_data"
    },
    {
     "data": {
      "text/html": [
       "Syncing run <strong><a href='https://wandb.ai/slegroux/MNIST%20Classification/runs/vtpyd60n' target=\"_blank\">resnetx-bs:128-epochs:5-features:[1, 8, 16, 32, 16]</a></strong> to <a href='https://wandb.ai/slegroux/MNIST%20Classification' target=\"_blank\">Weights & Biases</a> (<a href='https://wandb.me/developer-guide' target=\"_blank\">docs</a>)<br>"
      ],
      "text/plain": [
       "<IPython.core.display.HTML object>"
      ]
     },
     "metadata": {},
     "output_type": "display_data"
    },
    {
     "data": {
      "text/html": [
       " View project at <a href='https://wandb.ai/slegroux/MNIST%20Classification' target=\"_blank\">https://wandb.ai/slegroux/MNIST%20Classification</a>"
      ],
      "text/plain": [
       "<IPython.core.display.HTML object>"
      ]
     },
     "metadata": {},
     "output_type": "display_data"
    },
    {
     "data": {
      "text/html": [
       " View run at <a href='https://wandb.ai/slegroux/MNIST%20Classification/runs/vtpyd60n' target=\"_blank\">https://wandb.ai/slegroux/MNIST%20Classification/runs/vtpyd60n</a>"
      ],
      "text/plain": [
       "<IPython.core.display.HTML object>"
      ]
     },
     "metadata": {},
     "output_type": "display_data"
    },
    {
     "name": "stderr",
     "output_type": "stream",
     "text": [
      "[18:23:37] INFO - Optimizer: <class 'torch.optim.adamw.AdamW'>\n",
      "[18:23:37] INFO - Scheduler: <class 'torch.optim.lr_scheduler.OneCycleLR'>\n",
      "\n",
      "  | Name         | Type               | Params | Mode \n",
      "------------------------------------------------------------\n",
      "0 | nnet         | ConvNet            | 12.0 K | train\n",
      "1 | loss         | CrossEntropyLoss   | 0      | train\n",
      "2 | train_acc    | MulticlassAccuracy | 0      | train\n",
      "3 | val_acc      | MulticlassAccuracy | 0      | train\n",
      "4 | test_acc     | MulticlassAccuracy | 0      | train\n",
      "5 | train_loss   | MeanMetric         | 0      | train\n",
      "6 | val_loss     | MeanMetric         | 0      | train\n",
      "7 | test_loss    | MeanMetric         | 0      | train\n",
      "8 | val_acc_best | MaxMetric          | 0      | train\n",
      "------------------------------------------------------------\n",
      "12.0 K    Trainable params\n",
      "0         Non-trainable params\n",
      "12.0 K    Total params\n",
      "0.048     Total estimated model params size (MB)\n",
      "34        Modules in train mode\n",
      "0         Modules in eval mode\n"
     ]
    },
    {
     "data": {
      "application/vnd.jupyter.widget-view+json": {
       "model_id": "99ff011b64124f8f88c549e07fd01ede",
       "version_major": 2,
       "version_minor": 0
      },
      "text/plain": [
       "Sanity Checking: |          | 0/? [00:00<?, ?it/s]"
      ]
     },
     "metadata": {},
     "output_type": "display_data"
    },
    {
     "name": "stderr",
     "output_type": "stream",
     "text": [
      "/Users/slegroux/miniforge3/envs/nimrod/lib/python3.11/site-packages/lightning/pytorch/trainer/connectors/data_connector.py:424: The 'val_dataloader' does not have many workers which may be a bottleneck. Consider increasing the value of the `num_workers` argument` to `num_workers=11` in the `DataLoader` to improve performance.\n",
      "/Users/slegroux/miniforge3/envs/nimrod/lib/python3.11/site-packages/lightning/pytorch/trainer/connectors/data_connector.py:424: The 'train_dataloader' does not have many workers which may be a bottleneck. Consider increasing the value of the `num_workers` argument` to `num_workers=11` in the `DataLoader` to improve performance.\n"
     ]
    },
    {
     "data": {
      "application/vnd.jupyter.widget-view+json": {
       "model_id": "a33b17df287643eb9955fda009d88d9e",
       "version_major": 2,
       "version_minor": 0
      },
      "text/plain": [
       "Training: |          | 0/? [00:00<?, ?it/s]"
      ]
     },
     "metadata": {},
     "output_type": "display_data"
    },
    {
     "data": {
      "application/vnd.jupyter.widget-view+json": {
       "model_id": "4ee009b2e3014d28891fb7ab28f41906",
       "version_major": 2,
       "version_minor": 0
      },
      "text/plain": [
       "Validation: |          | 0/? [00:00<?, ?it/s]"
      ]
     },
     "metadata": {},
     "output_type": "display_data"
    },
    {
     "data": {
      "application/vnd.jupyter.widget-view+json": {
       "model_id": "e489118a309248d2b8b7925bb128aeeb",
       "version_major": 2,
       "version_minor": 0
      },
      "text/plain": [
       "Validation: |          | 0/? [00:00<?, ?it/s]"
      ]
     },
     "metadata": {},
     "output_type": "display_data"
    },
    {
     "data": {
      "application/vnd.jupyter.widget-view+json": {
       "model_id": "fcba118455544273a67b80def7edba7d",
       "version_major": 2,
       "version_minor": 0
      },
      "text/plain": [
       "Validation: |          | 0/? [00:00<?, ?it/s]"
      ]
     },
     "metadata": {},
     "output_type": "display_data"
    },
    {
     "data": {
      "application/vnd.jupyter.widget-view+json": {
       "model_id": "052e3cf0dd0f4bed82bc2b8cc3e1c105",
       "version_major": 2,
       "version_minor": 0
      },
      "text/plain": [
       "Validation: |          | 0/? [00:00<?, ?it/s]"
      ]
     },
     "metadata": {},
     "output_type": "display_data"
    },
    {
     "data": {
      "application/vnd.jupyter.widget-view+json": {
       "model_id": "8389629c41b142d1b182ec77fa5627a2",
       "version_major": 2,
       "version_minor": 0
      },
      "text/plain": [
       "Validation: |          | 0/? [00:00<?, ?it/s]"
      ]
     },
     "metadata": {},
     "output_type": "display_data"
    },
    {
     "name": "stderr",
     "output_type": "stream",
     "text": [
      "`Trainer.fit` stopped: `max_epochs=5` reached.\n",
      "/Users/slegroux/miniforge3/envs/nimrod/lib/python3.11/site-packages/lightning/pytorch/trainer/connectors/data_connector.py:424: The 'test_dataloader' does not have many workers which may be a bottleneck. Consider increasing the value of the `num_workers` argument` to `num_workers=11` in the `DataLoader` to improve performance.\n"
     ]
    },
    {
     "data": {
      "application/vnd.jupyter.widget-view+json": {
       "model_id": "d466b06ea1b34e04b648a7b325135ef7",
       "version_major": 2,
       "version_minor": 0
      },
      "text/plain": [
       "Testing: |          | 0/? [00:00<?, ?it/s]"
      ]
     },
     "metadata": {},
     "output_type": "display_data"
    },
    {
     "data": {
      "text/html": [
       "<pre style=\"white-space:pre;overflow-x:auto;line-height:normal;font-family:Menlo,'DejaVu Sans Mono',consolas,'Courier New',monospace\">┏━━━━━━━━━━━━━━━━━━━━━━━━━━━┳━━━━━━━━━━━━━━━━━━━━━━━━━━━┓\n",
       "┃<span style=\"font-weight: bold\">        Test metric        </span>┃<span style=\"font-weight: bold\">       DataLoader 0        </span>┃\n",
       "┡━━━━━━━━━━━━━━━━━━━━━━━━━━━╇━━━━━━━━━━━━━━━━━━━━━━━━━━━┩\n",
       "│<span style=\"color: #008080; text-decoration-color: #008080\">         test/acc          </span>│<span style=\"color: #800080; text-decoration-color: #800080\">    0.9908000230789185     </span>│\n",
       "│<span style=\"color: #008080; text-decoration-color: #008080\">         test/loss         </span>│<span style=\"color: #800080; text-decoration-color: #800080\">   0.029160941019654274    </span>│\n",
       "└───────────────────────────┴───────────────────────────┘\n",
       "</pre>\n"
      ],
      "text/plain": [
       "┏━━━━━━━━━━━━━━━━━━━━━━━━━━━┳━━━━━━━━━━━━━━━━━━━━━━━━━━━┓\n",
       "┃\u001b[1m \u001b[0m\u001b[1m       Test metric       \u001b[0m\u001b[1m \u001b[0m┃\u001b[1m \u001b[0m\u001b[1m      DataLoader 0       \u001b[0m\u001b[1m \u001b[0m┃\n",
       "┡━━━━━━━━━━━━━━━━━━━━━━━━━━━╇━━━━━━━━━━━━━━━━━━━━━━━━━━━┩\n",
       "│\u001b[36m \u001b[0m\u001b[36m        test/acc         \u001b[0m\u001b[36m \u001b[0m│\u001b[35m \u001b[0m\u001b[35m   0.9908000230789185    \u001b[0m\u001b[35m \u001b[0m│\n",
       "│\u001b[36m \u001b[0m\u001b[36m        test/loss        \u001b[0m\u001b[36m \u001b[0m│\u001b[35m \u001b[0m\u001b[35m  0.029160941019654274   \u001b[0m\u001b[35m \u001b[0m│\n",
       "└───────────────────────────┴───────────────────────────┘\n"
      ]
     },
     "metadata": {},
     "output_type": "display_data"
    },
    {
     "data": {
      "text/html": [],
      "text/plain": [
       "<IPython.core.display.HTML object>"
      ]
     },
     "metadata": {},
     "output_type": "display_data"
    },
    {
     "data": {
      "text/html": [
       "<br>    <style><br>        .wandb-row {<br>            display: flex;<br>            flex-direction: row;<br>            flex-wrap: wrap;<br>            justify-content: flex-start;<br>            width: 100%;<br>        }<br>        .wandb-col {<br>            display: flex;<br>            flex-direction: column;<br>            flex-basis: 100%;<br>            flex: 1;<br>            padding: 10px;<br>        }<br>    </style><br><div class=\"wandb-row\"><div class=\"wandb-col\"><h3>Run history:</h3><br/><table class=\"wandb\"><tr><td>epoch</td><td>▁▁▁▁▁▁▁▁▃▃▃▃▃▃▃▃▅▅▅▅▅▆▆▆▆▆▆▆▆▆██████████</td></tr><tr><td>lr-AdamW</td><td>▂▂▂▃▆▆█████▇▇▇▇▆▆▆▆▅▅▃▃▃▃▃▃▃▂▂▂▂▂▂▂▁▁▁▁▁</td></tr><tr><td>test/acc</td><td>▁</td></tr><tr><td>test/loss</td><td>▁</td></tr><tr><td>train/acc_epoch</td><td>▁▅▇▇█</td></tr><tr><td>train/acc_step</td><td>▁▆▆▅▅▅▅▆▅██▆▅▅▅▆▇██▅▆▆█▇▆▆▇▆▅█▇██▇█▇█▇▇▆</td></tr><tr><td>train/loss_epoch</td><td>█▃▂▁▁</td></tr><tr><td>train/loss_step</td><td>█▃▄▂▂▂▃▃▁▂▂▁▃▂▄▂▁▂▁▁▂▁▁▂▂▂▂▁▁▁▁▁▁▂▁▁▁▁▁▁</td></tr><tr><td>trainer/global_step</td><td>▁▁▁▁▂▂▂▂▂▂▂▃▃▃▃▃▄▄▄▄▅▅▅▅▆▆▆▆▇▇▇▇▇▇▇█████</td></tr><tr><td>val/acc</td><td>▁▄▆██</td></tr><tr><td>val/acc_best</td><td>▁▄▆██</td></tr><tr><td>val/loss</td><td>█▅▃▁▁</td></tr></table><br/></div><div class=\"wandb-col\"><h3>Run summary:</h3><br/><table class=\"wandb\"><tr><td>epoch</td><td>5</td></tr><tr><td>lr-AdamW</td><td>0.0</td></tr><tr><td>test/acc</td><td>0.9908</td></tr><tr><td>test/loss</td><td>0.02916</td></tr><tr><td>train/acc_epoch</td><td>0.99605</td></tr><tr><td>train/acc_step</td><td>0.98958</td></tr><tr><td>train/loss_epoch</td><td>0.01413</td></tr><tr><td>train/loss_step</td><td>0.01024</td></tr><tr><td>trainer/global_step</td><td>2345</td></tr><tr><td>val/acc</td><td>0.9975</td></tr><tr><td>val/acc_best</td><td>0.9975</td></tr><tr><td>val/loss</td><td>0.01001</td></tr></table><br/></div></div>"
      ],
      "text/plain": [
       "<IPython.core.display.HTML object>"
      ]
     },
     "metadata": {},
     "output_type": "display_data"
    },
    {
     "data": {
      "text/html": [
       " View run <strong style=\"color:#cdcd00\">resnetx-bs:128-epochs:5-features:[1, 8, 16, 32, 16]</strong> at: <a href='https://wandb.ai/slegroux/MNIST%20Classification/runs/vtpyd60n' target=\"_blank\">https://wandb.ai/slegroux/MNIST%20Classification/runs/vtpyd60n</a><br> View project at: <a href='https://wandb.ai/slegroux/MNIST%20Classification' target=\"_blank\">https://wandb.ai/slegroux/MNIST%20Classification</a><br>Synced 5 W&B file(s), 0 media file(s), 0 artifact file(s) and 0 other file(s)"
      ],
      "text/plain": [
       "<IPython.core.display.HTML object>"
      ]
     },
     "metadata": {},
     "output_type": "display_data"
    },
    {
     "data": {
      "text/html": [
       "Find logs at: <code>wandb/wandb/run-20250123_182335-vtpyd60n/logs</code>"
      ],
      "text/plain": [
       "<IPython.core.display.HTML object>"
      ]
     },
     "metadata": {},
     "output_type": "display_data"
    }
   ],
   "source": [
    "# ONE-CYCLE TRAIN\n",
    "\n",
    "cfg_model.nnet.n_features = [1, 8, 16, 32, 16]\n",
    "N_EPOCHS = 5\n",
    "cfg_sched.total_steps = len(dm.train_dataloader()) * N_EPOCHS\n",
    "cfg_sched.max_lr = lr_finder.suggestion()\n",
    "\n",
    "wandb_logger = WandbLogger(\n",
    "    project=\"MNIST Classification\",\n",
    "    name=f\"resnetx-bs:{dm.batch_size}-epochs:{N_EPOCHS}-features:{cfg_model.nnet.n_features}\",\n",
    "    save_dir='wandb',\n",
    "    entity='slegroux',\n",
    "    tags=['arch', 'dev'],\n",
    "    group='resnetx',\n",
    "    )\n",
    "\n",
    "trainer = Trainer(\n",
    "    accelerator=\"auto\",\n",
    "    max_epochs=N_EPOCHS,\n",
    "    logger=wandb_logger,\n",
    "    callbacks = [lr_monitor],\n",
    "    check_val_every_n_epoch=1,\n",
    "    log_every_n_steps=1\n",
    "    )\n",
    "\n",
    "scheduler = instantiate(cfg_sched)\n",
    "model = instantiate(cfg_model)(optimizer=optimizer, scheduler=scheduler)\n",
    "\n",
    "trainer.fit(model, dm.train_dataloader(), dm.val_dataloader())\n",
    "trainer.test(model, dm.test_dataloader())\n",
    "wandb.finish()"
   ]
  },
  {
   "cell_type": "code",
   "execution_count": null,
   "metadata": {},
   "outputs": [],
   "source": []
  }
 ],
 "metadata": {
  "kernelspec": {
   "display_name": "nimrod",
   "language": "python",
   "name": "python3"
  },
  "language_info": {
   "codemirror_mode": {
    "name": "ipython",
    "version": 3
   },
   "file_extension": ".py",
   "mimetype": "text/x-python",
   "name": "python",
   "nbconvert_exporter": "python",
   "pygments_lexer": "ipython3",
   "version": "3.11.8"
  }
 },
 "nbformat": 4,
 "nbformat_minor": 2
}
