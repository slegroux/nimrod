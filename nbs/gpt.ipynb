{
 "cells": [
  {
   "cell_type": "markdown",
   "metadata": {},
   "source": [
    "# MiniGPT LLM"
   ]
  },
  {
   "cell_type": "code",
   "execution_count": null,
   "metadata": {},
   "outputs": [],
   "source": [
    "from torch.utils.data import DataLoader, random_split\n",
    "import torch.nn as nn\n",
    "import torch\n",
    "\n",
    "from nimrod.text.tokenizers import CharTokenizer\n",
    "from nimrod.text.datasets import SimpleCharDataset\n",
    "from nimrod.models.transformer import TransformerBlock\n",
    "\n",
    "from pathlib import Path\n",
    "from dataclasses import dataclass, asdict"
   ]
  },
  {
   "cell_type": "markdown",
   "metadata": {},
   "source": [
    "# Data"
   ]
  },
  {
   "cell_type": "code",
   "execution_count": null,
   "metadata": {},
   "outputs": [
    {
     "name": "stdout",
     "output_type": "stream",
     "text": [
      "First Citizen:\n",
      "Before we \n",
      "vocabulary size: 65\n",
      "tensor([18, 47, 56, 57, 58,  1, 15, 47, 58, 47])\n",
      "length of data str: 1115384\n"
     ]
    }
   ],
   "source": [
    "text = Path('../data/text/tiny_shakespeare.txt').read_text()\n",
    "print(text[:25])\n",
    "tok = CharTokenizer.from_text(text)\n",
    "print(f\"vocabulary size: {len(tok)}\")\n",
    "encoded = tok.encode(text)\n",
    "print(encoded[:10])\n",
    "ds = SimpleCharDataset(encoded, 10)\n",
    "print(f\"length of data str: {len(ds)}\")\n",
    "n_train = int(0.8 * len(ds))\n",
    "n_eval = int(0.1 * len(ds))\n",
    "n_test = len(ds) - n_train - n_eval\n",
    "train_ds, eval_ds, test_ds = random_split(ds, lengths=(n_train, n_eval, n_test))\n",
    "train_dl = DataLoader(train_ds, batch_size=32, shuffle=True)\n",
    "eval_dl = DataLoader(train_ds, batch_size=32, shuffle=False)\n",
    "test_dl = DataLoader(train_ds, batch_size=32, shuffle=False)"
   ]
  },
  {
   "cell_type": "markdown",
   "metadata": {},
   "source": [
    "## Model"
   ]
  },
  {
   "cell_type": "code",
   "execution_count": null,
   "metadata": {},
   "outputs": [],
   "source": [
    "class MiniGPT(nn.Module):\n",
    "    def __init__(\n",
    "        self,\n",
    "        vocab_size:int,\n",
    "        embed_dim:int,\n",
    "        n_head:int,\n",
    "        context_length:int,\n",
    "        dropout:float,\n",
    "        n_blocks:int\n",
    "    ):\n",
    "\n",
    "        super().__init__()\n",
    "        self.context_length = context_length\n",
    "        self.tok_embed = nn.Embedding(vocab_size, embed_dim)\n",
    "        self.pos_embed = nn.Embedding(context_length, embed_dim)\n",
    "        block_params = [embed_dim, n_head, context_length, dropout]\n",
    "        self.blocks = [TransformerBlock(*block_params) for _ in range(n_blocks)]\n",
    "        self.blocks = nn.Sequential(*self.blocks)\n",
    "        self.ln = nn.LayerNorm(embed_dim)\n",
    "        self.head = nn.Linear(embed_dim, vocab_size)\n",
    "\n",
    "    def forward(\n",
    "        self,\n",
    "        x:torch.LongTensor # (B,T) list of token IDS\n",
    "        ):\n",
    "        B,T = x.shape\n",
    "        tok_embed = self.tok_embed(x) # B, T, C\n",
    "        pos_embed = self.pos_embed(torch.arange(T, device=x.device)) # B, T, C\n",
    "        x = tok_embed + pos_embed\n",
    "        x = self.blocks(x)\n",
    "        x = self.ln(x)\n",
    "        logits = self.head(x)\n",
    "        return logits\n",
    "\n",
    "    def generate(\n",
    "        self,\n",
    "        x:torch.LongTensor, # tok ids (B, T)\n",
    "        max_tokens: int # max size of sequence gen\n",
    "    ):  \n",
    "        self.eval()\n",
    "        for i in range(max_tokens):\n",
    "            if x.size(1) >= self.context_length:\n",
    "                break\n",
    "            with torch.no_grad():\n",
    "                logits = self.forward(x) # (B, T, n_classes)\n",
    "                # look at last time step only\n",
    "                logits = logits[:, -1, :]\n",
    "                probs = torch.softmax(logits, dim=-1)\n",
    "                pred = torch.multinomial(probs, num_samples=1)\n",
    "                x = torch.cat([x, pred], dim=1) #(T+1)\n",
    "        return x\n",
    "\n"
   ]
  },
  {
   "cell_type": "markdown",
   "metadata": {},
   "source": [
    "### Config"
   ]
  },
  {
   "cell_type": "code",
   "execution_count": null,
   "metadata": {},
   "outputs": [],
   "source": [
    "@dataclass\n",
    "class GPTConfig:\n",
    "    vocab_size:int\n",
    "    embed_dim:int = 16\n",
    "    n_head:int = 2\n",
    "    context_length:int = 10\n",
    "    n_blocks:int = 2\n",
    "    dropout:float = 0.1\n",
    "\n",
    "\n",
    "    def __post_init__(self):\n",
    "        assert self.embed_dim % self.n_head == 0, \"embed_dim must be divisible by n_head\"\n",
    "        assert self.dropout >= 0 and self.dropout <= 1, \"dropout must be between 0 and 1\"\n",
    "\n",
    "cfg = GPTConfig(vocab_size=len(tok))"
   ]
  },
  {
   "cell_type": "code",
   "execution_count": null,
   "metadata": {},
   "outputs": [
    {
     "name": "stdout",
     "output_type": "stream",
     "text": [
      "MiniGPT(\n",
      "  (tok_embed): Embedding(65, 768)\n",
      "  (pos_embed): Embedding(32, 768)\n",
      "  (blocks): Sequential(\n",
      "    (0): TransformerBlock(\n",
      "      (ln1): LayerNorm((768,), eps=1e-05, elementwise_affine=True)\n",
      "      (sa): MultiHeadAttention(\n",
      "        (heads): ModuleList(\n",
      "          (0-3): 4 x AttentionHead(\n",
      "            (key): Linear(in_features=768, out_features=192, bias=False)\n",
      "            (query): Linear(in_features=768, out_features=192, bias=False)\n",
      "            (value): Linear(in_features=768, out_features=192, bias=False)\n",
      "            (dropout): Dropout(p=0.1, inplace=False)\n",
      "          )\n",
      "        )\n",
      "        (proj): Linear(in_features=768, out_features=768, bias=True)\n",
      "        (dropout): Dropout(p=0.1, inplace=False)\n",
      "      )\n",
      "      (ln2): LayerNorm((768,), eps=1e-05, elementwise_affine=True)\n",
      "      (ffwd): FeedFoward(\n",
      "        (net): Sequential(\n",
      "          (0): Linear(in_features=768, out_features=3072, bias=True)\n",
      "          (1): ReLU()\n",
      "          (2): Linear(in_features=3072, out_features=768, bias=True)\n",
      "          (3): Dropout(p=0.1, inplace=False)\n",
      "        )\n",
      "      )\n",
      "    )\n",
      "    (1): TransformerBlock(\n",
      "      (ln1): LayerNorm((768,), eps=1e-05, elementwise_affine=True)\n",
      "      (sa): MultiHeadAttention(\n",
      "        (heads): ModuleList(\n",
      "          (0-3): 4 x AttentionHead(\n",
      "            (key): Linear(in_features=768, out_features=192, bias=False)\n",
      "            (query): Linear(in_features=768, out_features=192, bias=False)\n",
      "            (value): Linear(in_features=768, out_features=192, bias=False)\n",
      "            (dropout): Dropout(p=0.1, inplace=False)\n",
      "          )\n",
      "        )\n",
      "        (proj): Linear(in_features=768, out_features=768, bias=True)\n",
      "        (dropout): Dropout(p=0.1, inplace=False)\n",
      "      )\n",
      "      (ln2): LayerNorm((768,), eps=1e-05, elementwise_affine=True)\n",
      "      (ffwd): FeedFoward(\n",
      "        (net): Sequential(\n",
      "          (0): Linear(in_features=768, out_features=3072, bias=True)\n",
      "          (1): ReLU()\n",
      "          (2): Linear(in_features=3072, out_features=768, bias=True)\n",
      "          (3): Dropout(p=0.1, inplace=False)\n",
      "        )\n",
      "      )\n",
      "    )\n",
      "    (2): TransformerBlock(\n",
      "      (ln1): LayerNorm((768,), eps=1e-05, elementwise_affine=True)\n",
      "      (sa): MultiHeadAttention(\n",
      "        (heads): ModuleList(\n",
      "          (0-3): 4 x AttentionHead(\n",
      "            (key): Linear(in_features=768, out_features=192, bias=False)\n",
      "            (query): Linear(in_features=768, out_features=192, bias=False)\n",
      "            (value): Linear(in_features=768, out_features=192, bias=False)\n",
      "            (dropout): Dropout(p=0.1, inplace=False)\n",
      "          )\n",
      "        )\n",
      "        (proj): Linear(in_features=768, out_features=768, bias=True)\n",
      "        (dropout): Dropout(p=0.1, inplace=False)\n",
      "      )\n",
      "      (ln2): LayerNorm((768,), eps=1e-05, elementwise_affine=True)\n",
      "      (ffwd): FeedFoward(\n",
      "        (net): Sequential(\n",
      "          (0): Linear(in_features=768, out_features=3072, bias=True)\n",
      "          (1): ReLU()\n",
      "          (2): Linear(in_features=3072, out_features=768, bias=True)\n",
      "          (3): Dropout(p=0.1, inplace=False)\n",
      "        )\n",
      "      )\n",
      "    )\n",
      "    (3): TransformerBlock(\n",
      "      (ln1): LayerNorm((768,), eps=1e-05, elementwise_affine=True)\n",
      "      (sa): MultiHeadAttention(\n",
      "        (heads): ModuleList(\n",
      "          (0-3): 4 x AttentionHead(\n",
      "            (key): Linear(in_features=768, out_features=192, bias=False)\n",
      "            (query): Linear(in_features=768, out_features=192, bias=False)\n",
      "            (value): Linear(in_features=768, out_features=192, bias=False)\n",
      "            (dropout): Dropout(p=0.1, inplace=False)\n",
      "          )\n",
      "        )\n",
      "        (proj): Linear(in_features=768, out_features=768, bias=True)\n",
      "        (dropout): Dropout(p=0.1, inplace=False)\n",
      "      )\n",
      "      (ln2): LayerNorm((768,), eps=1e-05, elementwise_affine=True)\n",
      "      (ffwd): FeedFoward(\n",
      "        (net): Sequential(\n",
      "          (0): Linear(in_features=768, out_features=3072, bias=True)\n",
      "          (1): ReLU()\n",
      "          (2): Linear(in_features=3072, out_features=768, bias=True)\n",
      "          (3): Dropout(p=0.1, inplace=False)\n",
      "        )\n",
      "      )\n",
      "    )\n",
      "  )\n",
      "  (ln): LayerNorm((768,), eps=1e-05, elementwise_affine=True)\n",
      "  (head): Linear(in_features=768, out_features=65, bias=True)\n",
      ")\n"
     ]
    }
   ],
   "source": [
    "m = MiniGPT(**asdict(cfg))\n",
    "print(m)"
   ]
  },
  {
   "cell_type": "markdown",
   "metadata": {},
   "source": [
    "### Usage"
   ]
  },
  {
   "cell_type": "code",
   "execution_count": null,
   "metadata": {},
   "outputs": [
    {
     "name": "stdout",
     "output_type": "stream",
     "text": [
      "torch.Size([5, 32, 65])\n"
     ]
    }
   ],
   "source": [
    "device = 'cpu'\n",
    "B, T, C = 5, cfg.context_length, cfg.embed_dim\n",
    "x = torch.randint(0, cfg.vocab_size, (B,T), dtype=torch.long).to(device)\n",
    "m = m.to(device)\n",
    "y = m(x) # B,T, n_classes\n",
    "print(y.shape)"
   ]
  },
  {
   "cell_type": "code",
   "execution_count": null,
   "metadata": {},
   "outputs": [
    {
     "name": "stdout",
     "output_type": "stream",
     "text": [
      "tensor([[46, 43, 50, 50, 53,  2]])\n",
      "tensor([[46, 43, 50, 50, 53,  2, 59, 11, 41, 34,  7,  4,  8, 63, 16, 30, 18, 32,\n",
      "         34, 58, 51, 54, 61, 40, 26, 45,  6, 22, 16, 64, 26]])\n",
      "hello!u;cV-&.yDRFTVtmpwbNg,JDzN\n"
     ]
    }
   ],
   "source": [
    "prompt = \"hello!\"\n",
    "encoded = tok.encode(prompt).unsqueeze(dim=0)\n",
    "print(encoded)\n",
    "res = m.generate(encoded, max_tokens=25)\n",
    "print(res)\n",
    "print(tok.decode(res.squeeze()))"
   ]
  },
  {
   "cell_type": "markdown",
   "metadata": {},
   "source": [
    "## Training Loop"
   ]
  },
  {
   "cell_type": "code",
   "execution_count": null,
   "metadata": {},
   "outputs": [
    {
     "name": "stdout",
     "output_type": "stream",
     "text": [
      "4.290432929992676\n",
      "3.3735451698303223\n",
      "3.000006675720215\n",
      "2.966372013092041\n",
      "2.8455679416656494\n",
      "2.646514415740967\n",
      "2.8075928688049316\n",
      "2.6514816284179688\n",
      "2.506645917892456\n",
      "2.5771987438201904\n",
      "2.5555624961853027\n",
      "2.4803662300109863\n",
      "2.600022554397583\n",
      "2.507206439971924\n",
      "2.5301594734191895\n",
      "2.5535435676574707\n",
      "2.4812862873077393\n",
      "2.5459506511688232\n",
      "2.4723029136657715\n",
      "2.5209922790527344\n",
      "2.545898914337158\n",
      "2.502852439880371\n",
      "2.5002646446228027\n",
      "2.502060890197754\n",
      "2.447946071624756\n",
      "2.347792387008667\n",
      "2.389284610748291\n",
      "2.4702415466308594\n",
      "epoch: 0 loss: 2.619110928211072\n"
     ]
    }
   ],
   "source": [
    "device = 'mps'\n",
    "cfg = GPTConfig(vocab_size=len(tok))\n",
    "cfg.embed_dim:int = 8\n",
    "cfg.n_head:int = 2\n",
    "cfg.context_length:int = 10\n",
    "cfg.n_blocks:int = 1\n",
    "\n",
    "m = MiniGPT(**asdict(cfg)).to(device)\n",
    "\n",
    "n_epochs = 1\n",
    "lr = 3e-4\n",
    "\n",
    "criterion = nn.CrossEntropyLoss()\n",
    "optim = torch.optim.AdamW(m.parameters(), lr=lr)\n",
    "\n",
    "for epoch in range(n_epochs):\n",
    "    m.train()\n",
    "    running_loss = 0\n",
    "    for step, batch in enumerate(eval_dl):\n",
    "        optim.zero_grad()\n",
    "        x, y = batch\n",
    "        x,y = x.to(device), y.to(device)\n",
    "        B, T = x.shape\n",
    "        logits = m(x) # B, T, V\n",
    "        B,T,V = logits.shape\n",
    "        logits = logits.view(B*T, V)\n",
    "        y = y.view(B*T)\n",
    "        loss = criterion(logits, y)\n",
    "        running_loss += loss.item()\n",
    "        if not step%1000:\n",
    "            print(loss.item())\n",
    "        loss.backward()\n",
    "        optim.step()\n",
    "    print(f\"epoch: {epoch} loss: {running_loss/len(eval_dl)}\")\n",
    "        \n"
   ]
  },
  {
   "cell_type": "markdown",
   "metadata": {},
   "source": [
    "## Test"
   ]
  },
  {
   "cell_type": "code",
   "execution_count": null,
   "metadata": {},
   "outputs": [
    {
     "name": "stdout",
     "output_type": "stream",
     "text": [
      "tensor([[46, 43, 50, 50, 53,  2]], device='mps:0')\n",
      "tensor([[46, 43, 50, 50, 53,  2,  0, 31, 10,  0]], device='mps:0')\n",
      "hello!\n",
      "S:\n",
      "\n"
     ]
    }
   ],
   "source": [
    "prompt = \"hello!\"\n",
    "encoded = tok.encode(prompt).unsqueeze(dim=0).to(device)\n",
    "print(encoded)\n",
    "res = m.generate(encoded, max_tokens=10)\n",
    "print(res)\n",
    "print(tok.decode(res.squeeze()))"
   ]
  }
 ],
 "metadata": {
  "kernelspec": {
   "display_name": "Python 3",
   "language": "python",
   "name": "python3"
  },
  "language_info": {
   "name": "python",
   "version": "3.11.8"
  }
 },
 "nbformat": 4,
 "nbformat_minor": 2
}
