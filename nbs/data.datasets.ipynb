{
 "cells": [
  {
   "attachments": {},
   "cell_type": "markdown",
   "metadata": {},
   "source": [
    "# Datasets\n",
    "\n",
    "> Datasets"
   ]
  },
  {
   "cell_type": "code",
   "execution_count": null,
   "metadata": {
    "vscode": {
     "languageId": "python"
    }
   },
   "outputs": [],
   "source": [
    "#| default_exp data.datasets"
   ]
  },
  {
   "cell_type": "code",
   "execution_count": null,
   "metadata": {
    "vscode": {
     "languageId": "python"
    }
   },
   "outputs": [],
   "source": [
    "#| hide\n",
    "%load_ext autoreload\n",
    "%autoreload 2\n",
    "from nbdev.showdoc import *"
   ]
  },
  {
   "cell_type": "code",
   "execution_count": null,
   "metadata": {
    "vscode": {
     "languageId": "python"
    }
   },
   "outputs": [
    {
     "name": "stderr",
     "output_type": "stream",
     "text": [
      "/home/syl20/anaconda3/envs/nimrod/lib/python3.9/site-packages/tqdm/auto.py:22: TqdmWarning: IProgress not found. Please update jupyter and ipywidgets. See https://ipywidgets.readthedocs.io/en/stable/user_install.html\n",
      "  from .autonotebook import tqdm as notebook_tqdm\n"
     ]
    }
   ],
   "source": [
    "#| export\n",
    "import pandas as pd\n",
    "import torchvision\n",
    "from torch.utils.data import Dataset, DataLoader\n",
    "import torch\n",
    "from matplotlib import pyplot as plt\n",
    "import torch.utils.data as data"
   ]
  },
  {
   "cell_type": "code",
   "execution_count": null,
   "metadata": {
    "vscode": {
     "languageId": "python"
    }
   },
   "outputs": [],
   "source": [
    "#| export\n",
    "class ImageDataset(Dataset):\n",
    "    \" Base class for image datasets providing visualization of (image, label) samples\"\n",
    "\n",
    "    def show(self,\n",
    "        index:int # Index of the (image,label) sample to visualize\n",
    "        ):\n",
    "        X, y = self.__getitem__(index)\n",
    "        plt.figure(figsize = (1, 1))\n",
    "        plt.imshow(X.numpy().reshape(28,28),cmap='gray')\n",
    "        plt.title(f\"Label: {int(y)}\")\n",
    "        plt.show()\n",
    "\n",
    "    def show_random(self, n=5):\n",
    "        index = torch.randint(0,self.__len__, n)\n",
    "        images = [img for img in x[:n]]\n",
    "        plt.imshow(images.numpy().reshape(28,28),cmap='gray')\n",
    "    \n",
    "            "
   ]
  },
  {
   "cell_type": "code",
   "execution_count": null,
   "metadata": {
    "vscode": {
     "languageId": "python"
    }
   },
   "outputs": [],
   "source": [
    "#| export \n",
    "\n",
    "class MNISTDataset(ImageDataset):\n",
    "    \"MNIST digit dataset\"\n",
    "\n",
    "    def __init__(\n",
    "        self,\n",
    "        data_root:str='~/Data', # path where data is saved\n",
    "        train = True, # train or test dataset\n",
    "        transform:torchvision.transforms.transforms=torchvision.transforms.ToTensor() # data formatting\n",
    "    ):\n",
    "\n",
    "        super().__init__()\n",
    "\n",
    "        self.ds = torchvision.datasets.MNIST(\n",
    "            data_root,\n",
    "            train = train,\n",
    "            transform=transform, \n",
    "            download=True\n",
    "        )\n",
    "\n",
    "    def __len__(self):\n",
    "        return len(self.ds)\n",
    "    \n",
    "    def __getitem__(self, idx):\n",
    "        x = self.ds[idx][0]\n",
    "        y = self.ds[idx][1]\n",
    "        return x, y\n",
    "    \n",
    "    def train_dev_split(self,\n",
    "        ratio:float, # percentage of train/dev split,\n",
    "        seed:int=42 # rand generator seed\n",
    "    ):\n",
    "        train_set_size = int(len(self.ds) * ratio)\n",
    "        valid_set_size = len(self.ds) - train_set_size\n",
    "\n",
    "        # split the train set into two\n",
    "        seed = torch.Generator().manual_seed(seed)\n",
    "        train_set, valid_set = data.random_split(self.ds, [train_set_size, valid_set_size], generator=seed)\n",
    "        return train_set, valid_set\n",
    "\n"
   ]
  },
  {
   "cell_type": "code",
   "execution_count": null,
   "metadata": {
    "vscode": {
     "languageId": "python"
    }
   },
   "outputs": [
    {
     "name": "stdout",
     "output_type": "stream",
     "text": [
      "torch.Size([1, 28, 28])\n",
      "torch.Size([10000, 28, 28])\n",
      "torch.Size([10000])\n",
      "torch.FloatTensor\n",
      "torch.ByteTensor\n"
     ]
    }
   ],
   "source": [
    "#| hide\n",
    "# Difference between dataset.data (int) and default float data\n",
    "dds = torchvision.datasets.MNIST('~/Data', train=False, download=True, transform=torchvision.transforms.ToTensor())\n",
    "print(dds[0][0].shape)\n",
    "print(dds.data.shape)\n",
    "print(dds.targets.shape)\n",
    "print(dds[0][0].type())\n",
    "print(dds.data[0][0].type())"
   ]
  },
  {
   "cell_type": "code",
   "execution_count": null,
   "metadata": {
    "vscode": {
     "languageId": "python"
    }
   },
   "outputs": [
    {
     "name": "stdout",
     "output_type": "stream",
     "text": [
      "Number of samples in the dataset: 10000\n",
      "torch.Size([1, 28, 28]) 7\n",
      "Shape of image: torch.Size([1, 28, 28]), corresponding digit: 7\n",
      "types: torch.FloatTensor\n"
     ]
    },
    {
     "data": {
      "image/png": "[encoded data removed]",
      "text/plain": [
       "<Figure size 100x100 with 1 Axes>"
      ]
     },
     "metadata": {},
     "output_type": "display_data"
    }
   ],
   "source": [
    "ds = MNISTDataset('~/Data', train=False)\n",
    "print(f\"Number of samples in the dataset: {len(ds)}\")\n",
    "X,y = ds[0]\n",
    "print(X.shape, y)\n",
    "print(f\"Shape of image: {X.shape}, corresponding digit: {int(y)}\")\n",
    "print(f\"types: {X.type()}\")\n",
    "ds.show(0)"
   ]
  },
  {
   "cell_type": "code",
   "execution_count": null,
   "metadata": {
    "vscode": {
     "languageId": "python"
    }
   },
   "outputs": [
    {
     "name": "stdout",
     "output_type": "stream",
     "text": [
      "60000\n",
      "48000 12000\n"
     ]
    }
   ],
   "source": [
    "ds = MNISTDataset('~/Data', train=True)\n",
    "print(len(ds))\n",
    "train, dev = ds.train_dev_split(0.8)\n",
    "print(len(train), len(dev))"
   ]
  },
  {
   "cell_type": "code",
   "execution_count": null,
   "metadata": {
    "vscode": {
     "languageId": "python"
    }
   },
   "outputs": [
    {
     "name": "stdout",
     "output_type": "stream",
     "text": [
      "torch.Size([1, 1, 28, 28])\n",
      "torch.Size([1, 784])\n",
      "torch.Size([1, 784])\n"
     ]
    }
   ],
   "source": [
    "#| hide\n",
    "dl = DataLoader(ds)\n",
    "len(next(iter(dl)))\n",
    "b = next(iter(dl))[0]\n",
    "print(b.shape)\n",
    "bb = b.view(b.size(0), -1)\n",
    "print(bb.shape)\n",
    "print(b.flatten().unsqueeze(0).shape)"
   ]
  },
  {
   "cell_type": "code",
   "execution_count": null,
   "metadata": {
    "vscode": {
     "languageId": "python"
    }
   },
   "outputs": [],
   "source": [
    "#| hide\n",
    "import nbdev; nbdev.nbdev_export()"
   ]
  },
  {
   "cell_type": "code",
   "execution_count": null,
   "metadata": {
    "vscode": {
     "languageId": "python"
    }
   },
   "outputs": [],
   "source": []
  }
 ],
 "metadata": {
  "kernelspec": {
   "display_name": "nimrod",
   "language": "python",
   "name": "python3"
  }
 },
 "nbformat": 4,
 "nbformat_minor": 4
}
