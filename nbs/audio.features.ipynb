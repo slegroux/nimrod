{
 "cells": [
  {
   "attachments": {},
   "cell_type": "markdown",
   "metadata": {},
   "source": [
    "# Audio features\n",
    "\n",
    "> Audio features"
   ]
  },
  {
   "cell_type": "code",
   "execution_count": null,
   "metadata": {},
   "outputs": [],
   "source": [
    "#| default_exp audio.features"
   ]
  },
  {
   "cell_type": "code",
   "execution_count": null,
   "metadata": {},
   "outputs": [],
   "source": [
    "#| hide\n",
    "%load_ext autoreload\n",
    "%autoreload 2\n",
    "from nbdev.showdoc import *"
   ]
  },
  {
   "cell_type": "code",
   "execution_count": null,
   "metadata": {},
   "outputs": [],
   "source": [
    "#| export\n",
    "\n",
    "import torchaudio\n",
    "import torch.nn as nn\n",
    "\n",
    "from matplotlib import pyplot as plt\n",
    "\n",
    "from omegaconf import OmegaConf\n",
    "from hydra.utils import instantiate\n",
    "\n",
    "from typing import Any, Callable, List, Optional, Tuple, Union, Iterator, Dict\n",
    "\n",
    "# from nimrod.audio.utils import plot_waveform"
   ]
  },
  {
   "attachments": {},
   "cell_type": "markdown",
   "metadata": {},
   "source": [
    "## Mel Spectrogram"
   ]
  },
  {
   "cell_type": "code",
   "execution_count": null,
   "metadata": {},
   "outputs": [],
   "source": [
    "#| export\n",
    "\n",
    "class MelSpecgram(nn.Module):\n",
    "    \"\"\"MelSpecgram\n",
    "\n",
    "    use torchaudio mel computation and add clamping & scaling to mimic taco2\n",
    "\n",
    "    \"\"\"\n",
    "    def __init__(self,\n",
    "        sampling_rate:int=22050,\n",
    "        win_length:int=1024,\n",
    "        hop_length:int=256,\n",
    "        n_fft:int=1024,\n",
    "        f_min:float=0.0,\n",
    "        f_max:float=8000.0,\n",
    "        n_mels:int=80,\n",
    "        power:float=1.0,\n",
    "        mel_scale:str='slaney',\n",
    "        normalized:bool=True,\n",
    "        _target_=None\n",
    "        ):\n",
    "        \"\"\"Constructor\n",
    "\n",
    "        Args:\n",
    "            sampling_rate (int, optional): _description_. Defaults to 22050.\n",
    "            win_length (int, optional): _description_. Defaults to 1024.\n",
    "            hop_length (int, optional): _description_. Defaults to 256.\n",
    "            n_fft (int, optional): _description_. Defaults to 1024.\n",
    "            f_min (float, optional): _description_. Defaults to 0.0.\n",
    "            f_max (float, optional): _description_. Defaults to 8000.0.\n",
    "            n_mels (int, optional): _description_. Defaults to 80.\n",
    "            power (float, optional): _description_. Defaults to 1.0.\n",
    "            mel_scale (str, optional): _description_. Defaults to 'slaney'.\n",
    "            normalized (bool, optional): _description_. Defaults to True.\n",
    "        \"\"\"\n",
    "        super().__init__()\n",
    "        self.sampling_rate = sampling_rate\n",
    "        self.win_length = win_length\n",
    "        self.hop_length = hop_length\n",
    "        self.n_fft = n_fft\n",
    "        self.f_min = f_min\n",
    "        self.f_max= f_max\n",
    "        self.n_mels = n_mels\n",
    "        self.power = power\n",
    "        self.mel_scale = mel_scale\n",
    "        self.normalized = normalized\n",
    "        self.mel_spectrogram = torchaudio.transforms.MelSpectrogram(\n",
    "            sample_rate=sampling_rate,\n",
    "            win_length=win_length,\n",
    "            hop_length=hop_length,\n",
    "            n_fft=n_fft,\n",
    "            f_min=f_min,\n",
    "            f_max=f_max,\n",
    "            n_mels=n_mels,\n",
    "            power=power,\n",
    "            mel_scale=mel_scale,\n",
    "            normalized=normalized\n",
    "        )\n",
    "        self.mels = None\n",
    "\n",
    "    def forward(self, audio):\n",
    "        # (C, N_mels, T)\n",
    "        # with dynamic range compression\n",
    "        self.mels = self.mel_spectrogram(audio) \\\n",
    "                .clamp_(min=1e-5) \\\n",
    "                .log_()\n",
    "        return self.mels\n",
    "\n",
    "    def plot(self):\n",
    "        if torch.is_tensor(self.mels):\n",
    "            plt.title(\"Mel spectrogram\")\n",
    "            plt.xlabel('Time frames')\n",
    "            plt.ylabel(\"Mel bins\")\n",
    "            plt.imshow(self.mels.squeeze(0), origin='lower')\n"
   ]
  },
  {
   "attachments": {},
   "cell_type": "markdown",
   "metadata": {},
   "source": [
    "### Usage"
   ]
  },
  {
   "cell_type": "code",
   "execution_count": null,
   "metadata": {},
   "outputs": [],
   "source": [
    "cfg = OmegaConf.load(\"../config/audio/features/mel_spectrogram.yaml\")\n",
    "cfg.sampling_rate = 16000\n",
    "print(type(cfg), cfg)\n",
    "wav, sr = torchaudio.load(\"../data/audio/obama.wav\")\n",
    "print(wav.shape,sr)"
   ]
  },
  {
   "cell_type": "code",
   "execution_count": null,
   "metadata": {},
   "outputs": [],
   "source": [
    "mel_spectrogramer = MelSpecgram(**cfg)\n",
    "# mel_spectrogramer = instantiate(cfg)\n",
    "print(mel_spectrogramer)\n",
    "mels = mel_spectrogramer(wav)\n",
    "print(mels.shape)"
   ]
  },
  {
   "cell_type": "code",
   "execution_count": null,
   "metadata": {},
   "outputs": [],
   "source": [
    "plt.imshow(mels.squeeze(0))"
   ]
  },
  {
   "cell_type": "code",
   "execution_count": null,
   "metadata": {},
   "outputs": [],
   "source": [
    "#| hide\n",
    "import nbdev; nbdev.nbdev_export()"
   ]
  },
  {
   "cell_type": "code",
   "execution_count": null,
   "metadata": {},
   "outputs": [],
   "source": []
  }
 ],
 "metadata": {
  "kernelspec": {
   "display_name": "python3",
   "language": "python",
   "name": "python3"
  }
 },
 "nbformat": 4,
 "nbformat_minor": 2
}
