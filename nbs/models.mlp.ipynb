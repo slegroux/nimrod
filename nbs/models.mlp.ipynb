{
 "cells": [
  {
   "attachments": {},
   "cell_type": "markdown",
   "metadata": {},
   "source": [
    "# Multi Layer Perceptron\n",
    "\n",
    "> Simple feedforward Multilayer perceptron models"
   ]
  },
  {
   "cell_type": "code",
   "execution_count": null,
   "metadata": {},
   "outputs": [],
   "source": [
    "#| default_exp models.mlp"
   ]
  },
  {
   "cell_type": "code",
   "execution_count": 1,
   "metadata": {},
   "outputs": [],
   "source": [
    "#| hide\n",
    "%load_ext autoreload\n",
    "%autoreload 2\n",
    "from nbdev.showdoc import *"
   ]
  },
  {
   "cell_type": "code",
   "execution_count": 2,
   "metadata": {},
   "outputs": [
    {
     "name": "stderr",
     "output_type": "stream",
     "text": [
      "[16:05:46] INFO - PyTorch version 2.5.1 available.\n",
      "Seed set to 42\n"
     ]
    }
   ],
   "source": [
    "#| export\n",
    "import torch.nn as nn\n",
    "import torch\n",
    "\n",
    "from lightning import LightningModule, Trainer\n",
    "from lightning.pytorch.tuner.tuning import Tuner\n",
    "from lightning.pytorch.loggers import CSVLogger\n",
    "\n",
    "from hydra.utils import instantiate\n",
    "from omegaconf import OmegaConf\n",
    "from matplotlib import pyplot as plt\n",
    "import pandas as pd\n",
    "from typing import Callable\n",
    "\n",
    "from nimrod.utils import get_device\n",
    "from nimrod.models.core import Classifier\n",
    "# torch.set_num_interop_threads(1)\n",
    "# from IPython.core.debugger import set_trace\n",
    "\n",
    "import logging\n",
    "logger = logging.getLogger(__name__)\n"
   ]
  },
  {
   "attachments": {},
   "cell_type": "markdown",
   "metadata": {},
   "source": [
    "## MLP"
   ]
  },
  {
   "cell_type": "code",
   "execution_count": 3,
   "metadata": {},
   "outputs": [],
   "source": [
    "#| export\n",
    "class MLP(nn.Module):\n",
    "    def __init__(\n",
    "                self,\n",
    "                n_in:int=784, # input dimension e.g. (H,W) for image\n",
    "                n_h:int=64, # hidden dimension\n",
    "                n_out:int=10, # output dimension (= number of classes for classification)\n",
    "                dropout:float=0.2\n",
    "                ) -> None:\n",
    "        logger.info(\"MLP: init\")\n",
    "        super().__init__()\n",
    "        l1 = nn.Linear(n_in, n_h)\n",
    "        dropout = nn.Dropout(dropout)\n",
    "        relu = nn.ReLU()\n",
    "        l2 = nn.Linear(n_h, n_out)\n",
    "        self.layers = nn.Sequential(l1, dropout, relu, l2)\n",
    "        \n",
    "    def forward(self, x: torch.Tensor # dim (B, H*W)\n",
    "                ) -> torch.Tensor:\n",
    "        return self.layers(x)"
   ]
  },
  {
   "attachments": {},
   "cell_type": "markdown",
   "metadata": {},
   "source": [
    "### Usage"
   ]
  },
  {
   "cell_type": "code",
   "execution_count": 4,
   "metadata": {},
   "outputs": [
    {
     "name": "stderr",
     "output_type": "stream",
     "text": [
      "[16:06:04] INFO - MLP: init\n",
      "[16:06:04] INFO - MLP: init\n"
     ]
    },
    {
     "name": "stdout",
     "output_type": "stream",
     "text": [
      "torch.Size([5, 10])\n",
      "torch.Size([5, 10])\n"
     ]
    }
   ],
   "source": [
    "image = torch.rand((5, 28*28))\n",
    "mlp = MLP(n_in=28*28, n_h=64, n_out=10, dropout=0.1)\n",
    "out = mlp(image)\n",
    "print(out.shape)\n",
    "cfg = OmegaConf.load('../config/image/model/mlp.yaml')\n",
    "model = instantiate(cfg.nnet)\n",
    "out = model(image)\n",
    "print(out.shape)"
   ]
  },
  {
   "attachments": {},
   "cell_type": "markdown",
   "metadata": {},
   "source": [
    "### Training"
   ]
  },
  {
   "cell_type": "code",
   "execution_count": 5,
   "metadata": {},
   "outputs": [
    {
     "name": "stderr",
     "output_type": "stream",
     "text": [
      "[16:06:17] INFO - Init ImageDataModule for mnist\n",
      "[16:06:20] INFO - loading dataset mnist with args () from split train\n",
      "[16:06:28] INFO - loading dataset mnist with args () from split test\n",
      "[16:06:30] INFO - split train into train/val [0.8, 0.2]\n",
      "[16:06:30] INFO - train: 48000 val: 12000, test: 10000\n"
     ]
    },
    {
     "name": "stdout",
     "output_type": "stream",
     "text": [
      "original shape (C,H,W):  torch.Size([1, 28, 28])\n",
      "reshape (C,HxW):  torch.Size([1, 784])\n",
      "tensor([0., 0., 0., 0., 0., 0., 0., 0., 0., 0., 0., 0., 0., 0., 0., 0., 0., 0., 0., 0., 0., 0., 0., 0.,\n",
      "        0., 0., 0., 0.])\n"
     ]
    }
   ],
   "source": [
    "#| notest\n",
    "# load from config file\n",
    "cfg = OmegaConf.load('../config/image/data/mnist.yaml')\n",
    "datamodule = instantiate(cfg.datamodule)\n",
    "datamodule.prepare_data()\n",
    "datamodule.setup()\n",
    "\n",
    "x = datamodule.test_ds[0][0] # (C, H, W)\n",
    "label = datamodule.test_ds[0][1] #(int)\n",
    "print(\"original shape (C,H,W): \", x.shape)\n",
    "print(\"reshape (C,HxW): \", x.view(x.size(0), -1).shape)\n",
    "print(x[0][1])\n",
    "\n",
    "# using nimrod datamodule\n",
    "train_loader = datamodule.train_dataloader()\n",
    "val_loader = datamodule.val_dataloader()\n",
    "test_loader = datamodule.test_dataloader()"
   ]
  },
  {
   "cell_type": "markdown",
   "metadata": {},
   "source": [
    "#### Training loop"
   ]
  },
  {
   "cell_type": "code",
   "execution_count": null,
   "metadata": {},
   "outputs": [
    {
     "name": "stdout",
     "output_type": "stream",
     "text": [
      "CPU times: user 2 μs, sys: 1 μs, total: 3 μs\n",
      "Wall time: 4.77 μs\n"
     ]
    },
    {
     "name": "stderr",
     "output_type": "stream",
     "text": [
      "[13:35:29] INFO - Init ImageDataModule for mnist\n",
      "[13:35:42] INFO - split train into train/val [0.8, 0.2]\n",
      "[13:35:42] INFO - train: 48000 val: 12000, test: 10000\n"
     ]
    },
    {
     "name": "stdout",
     "output_type": "stream",
     "text": [
      "steps_per_epoch: 750, total_steps: 1500\n",
      "Loss 2.3091, Current LR: 0.0010000000, Step: 0/1500\n",
      "Loss 0.5586, Current LR: 0.0010000000, Step: 100/1500\n",
      "Loss 0.4491, Current LR: 0.0010000000, Step: 200/1500\n",
      "Loss 0.2352, Current LR: 0.0010000000, Step: 300/1500\n",
      "Loss 0.4047, Current LR: 0.0010000000, Step: 400/1500\n",
      "Loss 0.2491, Current LR: 0.0010000000, Step: 500/1500\n",
      "Loss 0.2240, Current LR: 0.0010000000, Step: 600/1500\n",
      "Loss 0.1750, Current LR: 0.0010000000, Step: 700/1500\n",
      "Epoch 1: Accuracy = 92.91%\n",
      "Loss 0.1116, Current LR: 0.0010000000, Step: 800/1500\n",
      "Loss 0.2966, Current LR: 0.0010000000, Step: 900/1500\n",
      "Loss 0.1782, Current LR: 0.0010000000, Step: 1000/1500\n",
      "Loss 0.3383, Current LR: 0.0010000000, Step: 1100/1500\n",
      "Loss 0.2461, Current LR: 0.0010000000, Step: 1200/1500\n",
      "Loss 0.3676, Current LR: 0.0010000000, Step: 1300/1500\n",
      "Loss 0.1131, Current LR: 0.0010000000, Step: 1400/1500\n",
      "Epoch 2: Accuracy = 95.09%\n"
     ]
    }
   ],
   "source": [
    "#| notest\n",
    "\n",
    "device = get_device()\n",
    "\n",
    "%time\n",
    "# data\n",
    "cfg = OmegaConf.load('../config/image/data/mnist.yaml')\n",
    "cfg.batch_size = 2048\n",
    "datamodule = instantiate(cfg.datamodule)\n",
    "datamodule.prepare_data()\n",
    "datamodule.setup()\n",
    "\n",
    "# model\n",
    "model = mlp.to(device)\n",
    "criterion = nn.CrossEntropyLoss()\n",
    "optimizer = torch.optim.Adam(model.parameters(), lr=1e-3)\n",
    "\n",
    "\n",
    "n_epochs = 2\n",
    "losses = []\n",
    "lrs = []\n",
    "current_step = 0\n",
    "steps_per_epoch = len(datamodule.train_ds) // cfg.datamodule.batch_size\n",
    "total_steps = steps_per_epoch * n_epochs\n",
    "print(f\"steps_per_epoch: {steps_per_epoch}, total_steps: {total_steps}\")\n",
    "\n",
    "for epoch in range(n_epochs):\n",
    "    model.train()\n",
    "    for images, labels in datamodule.train_dataloader():\n",
    "        optimizer.zero_grad()\n",
    "        images = images.view(-1, 28*28)\n",
    "        images = images.to(device)\n",
    "        labels = labels.to(device)\n",
    "        outputs = model(images)\n",
    "        loss = criterion(outputs, labels)        \n",
    "        loss.backward()\n",
    "        optimizer.step()\n",
    "        losses.append(loss.item())\n",
    "        current_lr = optimizer.param_groups[0]['lr']\n",
    "        lrs.append(current_lr)\n",
    "        if not (current_step % 100):\n",
    "            print(f\"Loss {loss.item():.4f}, Current LR: {current_lr:.10f}, Step: {current_step}/{total_steps}\")\n",
    "        current_step += 1\n",
    "\n",
    "    model.eval()\n",
    "    with torch.no_grad():\n",
    "        correct = 0\n",
    "        total = 0\n",
    "        for images, labels in datamodule.test_dataloader():\n",
    "            # model expects input (B,H*W)\n",
    "            images = images.view(-1, 28*28).to(device)\n",
    "            images = images.to(device)\n",
    "            labels = labels.to(device)\n",
    "            # Pass the input through the model\n",
    "            outputs = model(images)\n",
    "            # Get the predicted labels\n",
    "            _, predicted = torch.max(outputs.data, 1)\n",
    "\n",
    "            # Update the total and correct counts\n",
    "            total += labels.size(0)\n",
    "            correct += (predicted == labels).sum()\n",
    "\n",
    "        # Print the accuracy\n",
    "        print(f\"Epoch {epoch + 1}: Accuracy = {100 * correct / total:.2f}%\")\n"
   ]
  },
  {
   "cell_type": "code",
   "execution_count": null,
   "metadata": {},
   "outputs": [
    {
     "data": {
      "text/plain": [
       "[<matplotlib.lines.Line2D>]"
      ]
     },
     "execution_count": null,
     "metadata": {},
     "output_type": "execute_result"
    },
    {
     "data": {
      "image/png": "[encoded data removed]",
      "text/plain": [
       "<Figure size 640x480 with 1 Axes>"
      ]
     },
     "metadata": {},
     "output_type": "display_data"
    }
   ],
   "source": [
    "#| notest\n",
    "\n",
    "# plt.figure(1)\n",
    "# plt.subplot(211)\n",
    "plt.ylabel('loss')\n",
    "plt.xlabel('step')\n",
    "plt.plot(losses)\n",
    "# plt.subplot(212)\n",
    "# plt.ylabel('lr')\n",
    "# plt.xlabel('step')\n",
    "# plt.plot(lrs)"
   ]
  },
  {
   "attachments": {},
   "cell_type": "markdown",
   "metadata": {},
   "source": [
    "## MLP_X"
   ]
  },
  {
   "cell_type": "code",
   "execution_count": 6,
   "metadata": {},
   "outputs": [],
   "source": [
    "#| export\n",
    "\n",
    "class MLP_X(Classifier, LightningModule):\n",
    "    def __init__(\n",
    "            self,\n",
    "            nnet:MLP=None,\n",
    "            num_classes:int=10,\n",
    "            optimizer:Callable[...,torch.optim.Optimizer]=None,\n",
    "            scheduler:Callable[...,torch.optim.lr_scheduler]=None,\n",
    "        ):\n",
    "        \n",
    "        logger.info(\"MLP_X init\")\n",
    "        super().__init__(nnet=nnet, num_classes=num_classes, optimizer=optimizer, scheduler=scheduler)\n",
    "        # self.nnet = nnet\n",
    "        # self.save_hyperparameters(logger=False,ignore=['nnet'])\n",
    "        # self.lr = optimizer.keywords['lr'] # for lr finder\n",
    "    \n",
    "    # def forward(self, x:torch.Tensor)->torch.Tensor:\n",
    "    #     return self.nnet(x)\n",
    "    \n",
    "    def _step(self, batch, batch_idx):\n",
    "        x, y = batch\n",
    "        x = x.view(x.size(0), -1)\n",
    "        y_hat = self.forward(x)\n",
    "        loss = self.loss(y_hat, y)\n",
    "        preds = y_hat.argmax(dim=1)\n",
    "        return loss, preds, y\n",
    "    \n",
    "    def predict_step(self, batch, batch_idx, dataloader_idx=0):\n",
    "        x, y = batch\n",
    "        x = x.view(x.size(0), -1)\n",
    "        y_hat = self.forward(x)\n",
    "        return y_hat.argmax(dim=1)"
   ]
  },
  {
   "cell_type": "markdown",
   "metadata": {},
   "source": [
    "### Usage"
   ]
  },
  {
   "cell_type": "code",
   "execution_count": 8,
   "metadata": {},
   "outputs": [
    {
     "name": "stderr",
     "output_type": "stream",
     "text": [
      "[16:07:30] INFO - MLP: init\n"
     ]
    },
    {
     "name": "stdout",
     "output_type": "stream",
     "text": [
      "torch.Size([16, 1, 10])\n"
     ]
    }
   ],
   "source": [
    "cfg = OmegaConf.load('../config/model/image/mlp.yaml')\n",
    "model = instantiate(cfg.nnet)\n",
    "b = torch.rand((16,1, 28*28))\n",
    "y = model(b)\n",
    "print(y.shape)"
   ]
  },
  {
   "cell_type": "markdown",
   "metadata": {},
   "source": [
    "### Nimrod training"
   ]
  },
  {
   "cell_type": "code",
   "execution_count": null,
   "metadata": {},
   "outputs": [
    {
     "name": "stderr",
     "output_type": "stream",
     "text": [
      "[16:08:21] INFO - Init ImageDataModule for mnist\n",
      "[16:08:23] INFO - loading dataset mnist with args () from split train\n"
     ]
    }
   ],
   "source": [
    "#| notest\n",
    "\n",
    "MAX_EPOCHS = 5\n",
    "# data module config\n",
    "cfg = OmegaConf.load('../config/image/data/mnist.yaml')\n",
    "cfg.datamodule.batch_size = 512\n",
    "cfg.datamodule.num_workers = 0\n",
    "cfg.datamodule.pin_memory = True\n",
    "datamodule = instantiate(cfg.datamodule)\n",
    "datamodule.prepare_data()\n",
    "datamodule.setup()\n",
    "\n",
    "# lr monitor\n",
    "cfg = OmegaConf.load('../config/callbacks/learning_rate_monitor.yaml')\n",
    "lr_monitor = instantiate(cfg.learning_rate_monitor)\n",
    "\n",
    "# model\n",
    "cfg = OmegaConf.load('../config/model/image/mlp.yaml')\n",
    "\n",
    "trainer = Trainer(\n",
    "    accelerator=\"auto\",\n",
    "    min_epochs=1,\n",
    "    max_epochs=MAX_EPOCHS,\n",
    "    logger=CSVLogger(\"logs\", name=\"mnist_mlp\"),\n",
    "    callbacks=[lr_monitor],\n",
    "    check_val_every_n_epoch=1\n",
    "    )\n",
    "\n",
    "\n",
    "tuner = Tuner(trainer)\n",
    "lr_finder = tuner.lr_find(\n",
    "    model,\n",
    "    datamodule=datamodule,\n",
    "    min_lr=1e-6,\n",
    "    max_lr=1.0,\n",
    "    num_training=100,  # number of iterations\n",
    "    # attr_name=\"optimizer.lr\",\n",
    ")\n",
    "fig = lr_finder.plot(suggest=True)\n",
    "plt.show()\n",
    "print(f\"Suggested learning rate: {lr_finder.suggestion()}\")\n",
    "\n"
   ]
  },
  {
   "cell_type": "code",
   "execution_count": null,
   "metadata": {},
   "outputs": [
    {
     "name": "stderr",
     "output_type": "stream",
     "text": [
      "[19:57:34] INFO - MLP: init\n",
      "[19:57:34] INFO - MLP_X init\n",
      "[19:57:34] INFO - Classifier: init\n",
      "[19:57:47] INFO - Optimizer: AdamW (\n",
      "Parameter Group 0\n",
      "    amsgrad: False\n",
      "    betas: (0.9, 0.999)\n",
      "    capturable: False\n",
      "    differentiable: False\n",
      "    eps: 1e-08\n",
      "    foreach: None\n",
      "    fused: None\n",
      "    lr: 0.001\n",
      "    maximize: False\n",
      "    weight_decay: 1e-05\n",
      ")\n",
      "[19:57:47] INFO - Scheduler: <torch.optim.lr_scheduler.OneCycleLR object>\n",
      "\n",
      "  | Name         | Type               | Params | Mode \n",
      "------------------------------------------------------------\n",
      "0 | loss         | CrossEntropyLoss   | 0      | train\n",
      "1 | train_acc    | MulticlassAccuracy | 0      | train\n",
      "2 | val_acc      | MulticlassAccuracy | 0      | train\n",
      "3 | test_acc     | MulticlassAccuracy | 0      | train\n",
      "4 | train_loss   | MeanMetric         | 0      | train\n",
      "5 | val_loss     | MeanMetric         | 0      | train\n",
      "6 | test_loss    | MeanMetric         | 0      | train\n",
      "7 | val_acc_best | MaxMetric          | 0      | train\n",
      "8 | nnet         | MLP                | 50.9 K | train\n",
      "------------------------------------------------------------\n",
      "50.9 K    Trainable params\n",
      "0         Non-trainable params\n",
      "50.9 K    Total params\n",
      "0.204     Total estimated model params size (MB)\n",
      "14        Modules in train mode\n",
      "0         Modules in eval mode\n"
     ]
    },
    {
     "data": {
      "application/vnd.jupyter.widget-view+json": {
       "model_id": "767cbb7ff4e84fbb8f770e227b4c077d",
       "version_major": 2,
       "version_minor": 0
      },
      "text/plain": [
       "Sanity Checking: |          | 0/? [00:00<?, ?it/s]"
      ]
     },
     "metadata": {},
     "output_type": "display_data"
    },
    {
     "data": {
      "application/vnd.jupyter.widget-view+json": {
       "model_id": "d502d2ca141c450c89d84712a3b1bade",
       "version_major": 2,
       "version_minor": 0
      },
      "text/plain": [
       "Training: |          | 0/? [00:00<?, ?it/s]"
      ]
     },
     "metadata": {},
     "output_type": "display_data"
    },
    {
     "data": {
      "application/vnd.jupyter.widget-view+json": {
       "model_id": "976ffa803e0141bc98593cac1bec5626",
       "version_major": 2,
       "version_minor": 0
      },
      "text/plain": [
       "Validation: |          | 0/? [00:00<?, ?it/s]"
      ]
     },
     "metadata": {},
     "output_type": "display_data"
    },
    {
     "data": {
      "application/vnd.jupyter.widget-view+json": {
       "model_id": "bc2caa08241747758873283ef3990b15",
       "version_major": 2,
       "version_minor": 0
      },
      "text/plain": [
       "Validation: |          | 0/? [00:00<?, ?it/s]"
      ]
     },
     "metadata": {},
     "output_type": "display_data"
    },
    {
     "data": {
      "application/vnd.jupyter.widget-view+json": {
       "model_id": "a2699cd30e7745b8b61d9d737afe324b",
       "version_major": 2,
       "version_minor": 0
      },
      "text/plain": [
       "Validation: |          | 0/? [00:00<?, ?it/s]"
      ]
     },
     "metadata": {},
     "output_type": "display_data"
    },
    {
     "data": {
      "application/vnd.jupyter.widget-view+json": {
       "model_id": "b0392fd9a5f5434da5372a6872cea28c",
       "version_major": 2,
       "version_minor": 0
      },
      "text/plain": [
       "Validation: |          | 0/? [00:00<?, ?it/s]"
      ]
     },
     "metadata": {},
     "output_type": "display_data"
    },
    {
     "data": {
      "application/vnd.jupyter.widget-view+json": {
       "model_id": "b372ac50fdff4c6790081482d118ff8b",
       "version_major": 2,
       "version_minor": 0
      },
      "text/plain": [
       "Validation: |          | 0/? [00:00<?, ?it/s]"
      ]
     },
     "metadata": {},
     "output_type": "display_data"
    },
    {
     "name": "stderr",
     "output_type": "stream",
     "text": [
      "`Trainer.fit` stopped: `max_epochs=5` reached.\n"
     ]
    }
   ],
   "source": [
    "#| notest\n",
    "# 1-cycle sched\n",
    "cfg = OmegaConf.load('../config/model/image/mlp.yaml')\n",
    "cfg.scheduler.total_steps = len(datamodule.train_dataloader()) * MAX_EPOCHS\n",
    "cfg.scheduler.max_lr = lr_finder.suggestion()\n",
    "model = instantiate(cfg)\n",
    "trainer.fit(model, datamodule.train_dataloader(), datamodule.val_dataloader())"
   ]
  },
  {
   "cell_type": "code",
   "execution_count": null,
   "metadata": {},
   "outputs": [
    {
     "data": {
      "text/plain": [
       "[<matplotlib.lines.Line2D>]"
      ]
     },
     "execution_count": null,
     "metadata": {},
     "output_type": "execute_result"
    },
    {
     "data": {
      "image/png": "[encoded data removed]",
      "text/plain": [
       "<Figure size 640x480 with 1 Axes>"
      ]
     },
     "metadata": {},
     "output_type": "display_data"
    }
   ],
   "source": [
    "#| notest\n",
    "plt.plot(lr_monitor.lrs['lr-AdamW'])"
   ]
  },
  {
   "cell_type": "code",
   "execution_count": null,
   "metadata": {},
   "outputs": [
    {
     "data": {
      "text/html": [
       "<div>\n",
       "<style scoped>\n",
       "    .dataframe tbody tr th:only-of-type {\n",
       "        vertical-align: middle;\n",
       "    }\n",
       "\n",
       "    .dataframe tbody tr th {\n",
       "        vertical-align: top;\n",
       "    }\n",
       "\n",
       "    .dataframe thead th {\n",
       "        text-align: right;\n",
       "    }\n",
       "</style>\n",
       "<table border=\"1\" class=\"dataframe\">\n",
       "  <thead>\n",
       "    <tr style=\"text-align: right;\">\n",
       "      <th></th>\n",
       "      <th>epoch</th>\n",
       "      <th>lr-AdamW</th>\n",
       "      <th>step</th>\n",
       "      <th>train/acc_epoch</th>\n",
       "      <th>train/acc_step</th>\n",
       "      <th>train/loss_epoch</th>\n",
       "      <th>train/loss_step</th>\n",
       "      <th>val/acc</th>\n",
       "      <th>val/acc_best</th>\n",
       "      <th>val/loss</th>\n",
       "    </tr>\n",
       "  </thead>\n",
       "  <tbody>\n",
       "    <tr>\n",
       "      <th>0</th>\n",
       "      <td>NaN</td>\n",
       "      <td>0.002384</td>\n",
       "      <td>49</td>\n",
       "      <td>NaN</td>\n",
       "      <td>NaN</td>\n",
       "      <td>NaN</td>\n",
       "      <td>NaN</td>\n",
       "      <td>NaN</td>\n",
       "      <td>NaN</td>\n",
       "      <td>NaN</td>\n",
       "    </tr>\n",
       "    <tr>\n",
       "      <th>1</th>\n",
       "      <td>0.0</td>\n",
       "      <td>NaN</td>\n",
       "      <td>49</td>\n",
       "      <td>NaN</td>\n",
       "      <td>0.800781</td>\n",
       "      <td>NaN</td>\n",
       "      <td>0.653588</td>\n",
       "      <td>NaN</td>\n",
       "      <td>NaN</td>\n",
       "      <td>NaN</td>\n",
       "    </tr>\n",
       "    <tr>\n",
       "      <th>2</th>\n",
       "      <td>NaN</td>\n",
       "      <td>0.005817</td>\n",
       "      <td>99</td>\n",
       "      <td>NaN</td>\n",
       "      <td>NaN</td>\n",
       "      <td>NaN</td>\n",
       "      <td>NaN</td>\n",
       "      <td>NaN</td>\n",
       "      <td>NaN</td>\n",
       "      <td>NaN</td>\n",
       "    </tr>\n",
       "    <tr>\n",
       "      <th>3</th>\n",
       "      <td>0.0</td>\n",
       "      <td>NaN</td>\n",
       "      <td>99</td>\n",
       "      <td>NaN</td>\n",
       "      <td>0.894531</td>\n",
       "      <td>NaN</td>\n",
       "      <td>0.378841</td>\n",
       "      <td>NaN</td>\n",
       "      <td>NaN</td>\n",
       "      <td>NaN</td>\n",
       "    </tr>\n",
       "    <tr>\n",
       "      <th>4</th>\n",
       "      <td>0.0</td>\n",
       "      <td>NaN</td>\n",
       "      <td>117</td>\n",
       "      <td>NaN</td>\n",
       "      <td>NaN</td>\n",
       "      <td>NaN</td>\n",
       "      <td>NaN</td>\n",
       "      <td>0.924917</td>\n",
       "      <td>0.924917</td>\n",
       "      <td>0.262162</td>\n",
       "    </tr>\n",
       "  </tbody>\n",
       "</table>\n",
       "</div>"
      ],
      "text/plain": [
       "   epoch  lr-AdamW  step  train/acc_epoch  train/acc_step  train/loss_epoch  \\\n",
       "0    NaN  0.002384    49              NaN             NaN               NaN   \n",
       "1    0.0       NaN    49              NaN        0.800781               NaN   \n",
       "2    NaN  0.005817    99              NaN             NaN               NaN   \n",
       "3    0.0       NaN    99              NaN        0.894531               NaN   \n",
       "4    0.0       NaN   117              NaN             NaN               NaN   \n",
       "\n",
       "   train/loss_step   val/acc  val/acc_best  val/loss  \n",
       "0              NaN       NaN           NaN       NaN  \n",
       "1         0.653588       NaN           NaN       NaN  \n",
       "2              NaN       NaN           NaN       NaN  \n",
       "3         0.378841       NaN           NaN       NaN  \n",
       "4              NaN  0.924917      0.924917  0.262162  "
      ]
     },
     "execution_count": null,
     "metadata": {},
     "output_type": "execute_result"
    }
   ],
   "source": [
    "#| notest\n",
    "csv_path = f\"{trainer.logger.log_dir}/metrics.csv\"\n",
    "metrics = pd.read_csv(csv_path)\n",
    "metrics.head(5)"
   ]
  },
  {
   "cell_type": "code",
   "execution_count": null,
   "metadata": {},
   "outputs": [
    {
     "data": {
      "image/png": "[encoded data removed]",
      "text/plain": [
       "<Figure size 640x480 with 1 Axes>"
      ]
     },
     "metadata": {},
     "output_type": "display_data"
    }
   ],
   "source": [
    "#| notest\n",
    "plt.figure()\n",
    "plt.plot(metrics['step'], metrics['train/loss_step'], 'b.-')\n",
    "plt.plot(metrics['step'], metrics['val/loss'],'r.-')\n",
    "plt.show()"
   ]
  },
  {
   "cell_type": "code",
   "execution_count": null,
   "metadata": {},
   "outputs": [
    {
     "name": "stderr",
     "output_type": "stream",
     "text": [
      "/Users/slegroux/miniforge3/envs/nimrod/lib/python3.11/site-packages/lightning/pytorch/trainer/connectors/data_connector.py:424: The 'test_dataloader' does not have many workers which may be a bottleneck. Consider increasing the value of the `num_workers` argument` to `num_workers=11` in the `DataLoader` to improve performance.\n"
     ]
    },
    {
     "data": {
      "application/vnd.jupyter.widget-view+json": {
       "model_id": "764eff6b243d4af8a1aa3d3299d66227",
       "version_major": 2,
       "version_minor": 0
      },
      "text/plain": [
       "Testing: |          | 0/? [00:00<?, ?it/s]"
      ]
     },
     "metadata": {},
     "output_type": "display_data"
    },
    {
     "data": {
      "text/html": [
       "<pre style=\"white-space:pre;overflow-x:auto;line-height:normal;font-family:Menlo,'DejaVu Sans Mono',consolas,'Courier New',monospace\">┏━━━━━━━━━━━━━━━━━━━━━━━━━━━┳━━━━━━━━━━━━━━━━━━━━━━━━━━━┓\n",
       "┃<span style=\"font-weight: bold\">        Test metric        </span>┃<span style=\"font-weight: bold\">       DataLoader 0        </span>┃\n",
       "┡━━━━━━━━━━━━━━━━━━━━━━━━━━━╇━━━━━━━━━━━━━━━━━━━━━━━━━━━┩\n",
       "│<span style=\"color: #008080; text-decoration-color: #008080\">         test/acc          </span>│<span style=\"color: #800080; text-decoration-color: #800080\">    0.9690999984741211     </span>│\n",
       "│<span style=\"color: #008080; text-decoration-color: #008080\">         test/loss         </span>│<span style=\"color: #800080; text-decoration-color: #800080\">    0.10579969733953476    </span>│\n",
       "└───────────────────────────┴───────────────────────────┘\n",
       "</pre>\n"
      ],
      "text/plain": [
       "┏━━━━━━━━━━━━━━━━━━━━━━━━━━━┳━━━━━━━━━━━━━━━━━━━━━━━━━━━┓\n",
       "┃\u001b[1m \u001b[0m\u001b[1m       Test metric       \u001b[0m\u001b[1m \u001b[0m┃\u001b[1m \u001b[0m\u001b[1m      DataLoader 0       \u001b[0m\u001b[1m \u001b[0m┃\n",
       "┡━━━━━━━━━━━━━━━━━━━━━━━━━━━╇━━━━━━━━━━━━━━━━━━━━━━━━━━━┩\n",
       "│\u001b[36m \u001b[0m\u001b[36m        test/acc         \u001b[0m\u001b[36m \u001b[0m│\u001b[35m \u001b[0m\u001b[35m   0.9690999984741211    \u001b[0m\u001b[35m \u001b[0m│\n",
       "│\u001b[36m \u001b[0m\u001b[36m        test/loss        \u001b[0m\u001b[36m \u001b[0m│\u001b[35m \u001b[0m\u001b[35m   0.10579969733953476   \u001b[0m\u001b[35m \u001b[0m│\n",
       "└───────────────────────────┴───────────────────────────┘\n"
      ]
     },
     "metadata": {},
     "output_type": "display_data"
    },
    {
     "data": {
      "text/plain": [
       "[{'test/loss': 0.10579969733953476, 'test/acc': 0.9690999984741211}]"
      ]
     },
     "execution_count": null,
     "metadata": {},
     "output_type": "execute_result"
    }
   ],
   "source": [
    "#| notest\n",
    "trainer.test(model, datamodule.test_dataloader())"
   ]
  },
  {
   "cell_type": "code",
   "execution_count": null,
   "metadata": {},
   "outputs": [],
   "source": [
    "#| hide\n",
    "import nbdev; nbdev.nbdev_export()"
   ]
  }
 ],
 "metadata": {
  "kernelspec": {
   "display_name": "nimrod",
   "language": "python",
   "name": "python3"
  },
  "language_info": {
   "codemirror_mode": {
    "name": "ipython",
    "version": 3
   },
   "file_extension": ".py",
   "mimetype": "text/x-python",
   "name": "python",
   "nbconvert_exporter": "python",
   "pygments_lexer": "ipython3",
   "version": "3.11.8"
  }
 },
 "nbformat": 4,
 "nbformat_minor": 4
}
