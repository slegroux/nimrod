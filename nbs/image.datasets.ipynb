{
 "cells": [
  {
   "attachments": {},
   "cell_type": "markdown",
   "metadata": {},
   "source": [
    "# Image Datasets\n",
    "\n",
    "> Image datasets"
   ]
  },
  {
   "cell_type": "code",
   "execution_count": null,
   "metadata": {},
   "outputs": [],
   "source": [
    "#| default_exp image.datasets"
   ]
  },
  {
   "cell_type": "code",
   "execution_count": null,
   "metadata": {},
   "outputs": [
    {
     "name": "stdout",
     "output_type": "stream",
     "text": [
      "The autoreload extension is already loaded. To reload it, use:\n",
      "  %reload_ext autoreload\n"
     ]
    }
   ],
   "source": [
    "#| hide\n",
    "%load_ext autoreload\n",
    "%autoreload 2\n",
    "from nbdev.showdoc import *"
   ]
  },
  {
   "cell_type": "code",
   "execution_count": null,
   "metadata": {},
   "outputs": [],
   "source": [
    "#| export\n",
    "\n",
    "# torch\n",
    "import torch\n",
    "from torch import Tensor # type hint\n",
    "import torch.utils.data as data\n",
    "from torch.utils.data import ConcatDataset, DataLoader, Dataset, random_split\n",
    "# torchvision\n",
    "import torchvision\n",
    "from torchvision.transforms import transforms\n",
    "# lightning\n",
    "from lightning import LightningDataModule\n",
    "# hugging face\n",
    "from datasets import load_dataset\n",
    "# math\n",
    "import pandas as pd\n",
    "from matplotlib import pyplot as plt\n",
    "import numpy as np\n",
    "# python libs\n",
    "import os\n",
    "import logging\n",
    "# conigs\n",
    "from omegaconf import OmegaConf\n",
    "from hydra.utils import instantiate\n",
    "# typing\n",
    "from typing import Optional, Tuple, List, Callable, Union\n",
    "# nimrod\n",
    "from nimrod.data.core import DataModule\n",
    "from nimrod.utils import set_seed"
   ]
  },
  {
   "cell_type": "code",
   "execution_count": null,
   "metadata": {},
   "outputs": [
    {
     "name": "stderr",
     "output_type": "stream",
     "text": [
      "Seed set to 42\n"
     ]
    }
   ],
   "source": [
    "#| export\n",
    "set_seed(42)\n",
    "logger = logging.getLogger(__name__)\n",
    "# logger.setLevel(logging.DEBUG)\n",
    "plt.set_loglevel('INFO')"
   ]
  },
  {
   "attachments": {},
   "cell_type": "markdown",
   "metadata": {},
   "source": [
    "## ImageDataset base class"
   ]
  },
  {
   "cell_type": "code",
   "execution_count": null,
   "metadata": {},
   "outputs": [],
   "source": [
    "#| export\n",
    "class ImageDataset(Dataset):\n",
    "    \" Base class for image datasets providing visualization of (image, label) samples\"\n",
    "\n",
    "    def __init__(self):\n",
    "        logger.info(\"ImageDataset: init\")\n",
    "        super().__init__()\n",
    "\n",
    "    def show_idx(self,\n",
    "            index:int # Index of the (image,label) sample to visualize\n",
    "        ):\n",
    "        \"display image from data point index of a image dataset\"\n",
    "        X, y = self.__getitem__(index)\n",
    "        plt.figure(figsize = (1, 1))\n",
    "        plt.imshow(X.numpy().reshape(28,28),cmap='gray')\n",
    "        plt.title(f\"Label: {int(y)}\")\n",
    "        plt.show()\n",
    "\n",
    "    @staticmethod\n",
    "    def show_grid(\n",
    "            imgs: List[torch.Tensor], # python list of images dim (C,H,W)\n",
    "            save_path=None, # path where image can be saved\n",
    "            dims:Tuple[int,int] = (28,28)\n",
    "        ):\n",
    "        \"display list of mnist-like images (C,H,W)\"\n",
    "        if not isinstance(imgs, list):\n",
    "            imgs = [imgs]\n",
    "        fig, axs = plt.subplots(ncols=len(imgs), squeeze=False)\n",
    "        for i, img in enumerate(imgs):\n",
    "            img = img.detach()\n",
    "            axs[0, i].imshow(img.numpy().reshape(dims[0],dims[1]))\n",
    "            axs[0, i].set(xticklabels=[], yticklabels=[], xticks=[], yticks=[])\n",
    "        if save_path:\n",
    "            plt.savefig(save_path)\n",
    "\n",
    "    def show_random(\n",
    "            self,\n",
    "            n:int=3, # number of images to display\n",
    "            dims:Tuple[int,int] = (28,28)\n",
    "        ):\n",
    "        \"display grid of random images\"\n",
    "        indices = torch.randint(0,len(self), (n,))\n",
    "        images = []\n",
    "        for index in indices:\n",
    "            X, y = self.__getitem__(index)\n",
    "            X = X.reshape(dims[0],dims[1])\n",
    "            images.append(X)\n",
    "        self.show_grid(images)\n",
    "        "
   ]
  },
  {
   "cell_type": "code",
   "execution_count": null,
   "metadata": {},
   "outputs": [
    {
     "data": {
      "text/markdown": [
       "---\n",
       "\n",
       "[source](https://github.com/slegroux/nimrod/blob/main/nimrod/image/datasets.py#L53){target=\"_blank\" style=\"float:right; font-size:smaller\"}\n",
       "\n",
       "### ImageDataset.show_idx\n",
       "\n",
       ">      ImageDataset.show_idx (index:int)\n",
       "\n",
       "*display image from data point index of a image dataset*\n",
       "\n",
       "|    | **Type** | **Details** |\n",
       "| -- | -------- | ----------- |\n",
       "| index | int | Index of the (image,label) sample to visualize |"
      ],
      "text/plain": [
       "---\n",
       "\n",
       "[source](https://github.com/slegroux/nimrod/blob/main/nimrod/image/datasets.py#L53){target=\"_blank\" style=\"float:right; font-size:smaller\"}\n",
       "\n",
       "### ImageDataset.show_idx\n",
       "\n",
       ">      ImageDataset.show_idx (index:int)\n",
       "\n",
       "*display image from data point index of a image dataset*\n",
       "\n",
       "|    | **Type** | **Details** |\n",
       "| -- | -------- | ----------- |\n",
       "| index | int | Index of the (image,label) sample to visualize |"
      ]
     },
     "execution_count": null,
     "metadata": {},
     "output_type": "execute_result"
    }
   ],
   "source": [
    "show_doc(ImageDataset.show_idx)"
   ]
  },
  {
   "attachments": {},
   "cell_type": "markdown",
   "metadata": {},
   "source": [
    "## MNIST"
   ]
  },
  {
   "attachments": {},
   "cell_type": "markdown",
   "metadata": {},
   "source": [
    "### MNIST dataset"
   ]
  },
  {
   "cell_type": "code",
   "execution_count": null,
   "metadata": {},
   "outputs": [],
   "source": [
    "#| export \n",
    "\n",
    "class MNISTDataset(ImageDataset):\n",
    "    \"MNIST digit dataset\"\n",
    "\n",
    "    def __init__(\n",
    "        self,\n",
    "        data_dir:Optional[str]='../data/image', # path where data is saved if None default to hugging face cache\n",
    "        train = True, # train or test dataset\n",
    "        transforms:Optional[transforms.Compose]=transforms.Compose([\n",
    "                transforms.ToTensor(),\n",
    "                transforms.Normalize((0.1307,), (0.3081,))]),\n",
    "        streaming:bool = False # TODO: support and test streaming datasest\n",
    "    ):\n",
    "\n",
    "        logger.info(\"MNISTDataset: init\")\n",
    "        if data_dir is not None:\n",
    "            os.makedirs(data_dir, exist_ok=True)\n",
    "        super().__init__()\n",
    "\n",
    "        split = 'train' if train else 'test'\n",
    "\n",
    "        hf_ds = load_dataset(\n",
    "            'mnist',\n",
    "            split=split,\n",
    "            cache_dir=data_dir,\n",
    "            download_mode='reuse_dataset_if_exists',\n",
    "            streaming=streaming\n",
    "        )\n",
    "        self.images = hf_ds['image']\n",
    "        self.labels = hf_ds['label']\n",
    "        self.transform = transforms\n",
    "\n",
    "    def __len__(self) -> int: # length of dataset\n",
    "        return len(self.images)\n",
    "    \n",
    "    def __getitem__(\n",
    "        self,\n",
    "        idx:int # index into the dataset\n",
    "    ) -> tuple[torch.FloatTensor, int]: # Y image data, x digit number\n",
    "      \n",
    "        image = np.array(self.images[idx])\n",
    "        label = self.labels[idx]\n",
    "        if self.transform:\n",
    "            image = self.transform(image)\n",
    "        return image, label\n",
    "    \n",
    "    def train_dev_split(\n",
    "        self,\n",
    "        ratio:float, # percentage of train/dev split,\n",
    "    ) -> tuple[Dataset, Dataset]: # train and set mnnist datasets\n",
    "\n",
    "        train_set_size = int(len(self.images) * ratio)\n",
    "        valid_set_size = len(self.images) - train_set_size\n",
    "        ds = list(zip(self.images, self.labels))\n",
    "        # split the train set into two randomly sample\n",
    "        train_set, valid_set = data.random_split(ds, [train_set_size, valid_set_size])\n",
    "        return train_set, valid_set\n",
    "\n"
   ]
  },
  {
   "cell_type": "markdown",
   "metadata": {},
   "source": [
    "### Usage\n",
    "Setup MNIST dataset. Download data if not found in specified location."
   ]
  },
  {
   "cell_type": "code",
   "execution_count": null,
   "metadata": {},
   "outputs": [
    {
     "data": {
      "text/html": [
       "<pre style=\"white-space:pre;overflow-x:auto;line-height:normal;font-family:Menlo,'DejaVu Sans Mono',consolas,'Courier New',monospace\"><span style=\"color: #7fbfbf; text-decoration-color: #7fbfbf\">17:42:34 </span><span style=\"color: #000080; text-decoration-color: #000080\">INFO    </span> <span style=\"font-weight: bold\">[</span><span style=\"color: #00ff00; text-decoration-color: #00ff00; font-weight: bold\">17:42:34</span><span style=\"font-weight: bold\">]</span>                                                                       <a href=\"file:///var/folders/b5/v9y3kpzs29g41d99xvrdp3yr0000gn/T/ipykernel_47224/1716829971.py\" target=\"_blank\"><span style=\"color: #7f7f7f; text-decoration-color: #7f7f7f\">1716829971.py</span></a><span style=\"color: #7f7f7f; text-decoration-color: #7f7f7f\">:</span><a href=\"file:///var/folders/b5/v9y3kpzs29g41d99xvrdp3yr0000gn/T/ipykernel_47224/1716829971.py#16\" target=\"_blank\"><span style=\"color: #7f7f7f; text-decoration-color: #7f7f7f\">16</span></a>\n",
       "<span style=\"color: #7fbfbf; text-decoration-color: #7fbfbf\">         </span>         <span style=\"font-weight: bold\">{</span><span style=\"color: #800080; text-decoration-color: #800080\">/var/folders/b5/v9y3kpzs29g41d99xvrdp3yr0000gn/T/ipykernel_47224/</span><span style=\"color: #ff00ff; text-decoration-color: #ff00ff\">1716829971.py</span>: <span style=\"color: #7f7f7f; text-decoration-color: #7f7f7f\">                </span>\n",
       "<span style=\"color: #7fbfbf; text-decoration-color: #7fbfbf\">         </span>         <span style=\"color: #008080; text-decoration-color: #008080; font-weight: bold\">16</span><span style=\"font-weight: bold\">}</span> INFO - MNISTDataset: init                                                    <span style=\"color: #7f7f7f; text-decoration-color: #7f7f7f\">                </span>\n",
       "</pre>\n"
      ],
      "text/plain": [
       "\u001b[2;36m17:42:34\u001b[0m\u001b[2;36m \u001b[0m\u001b[34mINFO    \u001b[0m \u001b[1m[\u001b[0m\u001b[1;92m17:42:34\u001b[0m\u001b[1m]\u001b[0m                                                                       \u001b]8;id=288389;file:///var/folders/b5/v9y3kpzs29g41d99xvrdp3yr0000gn/T/ipykernel_47224/1716829971.py\u001b\\\u001b[2m1716829971.py\u001b[0m\u001b]8;;\u001b\\\u001b[2m:\u001b[0m\u001b]8;id=256787;file:///var/folders/b5/v9y3kpzs29g41d99xvrdp3yr0000gn/T/ipykernel_47224/1716829971.py#16\u001b\\\u001b[2m16\u001b[0m\u001b]8;;\u001b\\\n",
       "\u001b[2;36m         \u001b[0m         \u001b[1m{\u001b[0m\u001b[35m/var/folders/b5/v9y3kpzs29g41d99xvrdp3yr0000gn/T/ipykernel_47224/\u001b[0m\u001b[95m1716829971.py\u001b[0m: \u001b[2m                \u001b[0m\n",
       "\u001b[2;36m         \u001b[0m         \u001b[1;36m16\u001b[0m\u001b[1m}\u001b[0m INFO - MNISTDataset: init                                                    \u001b[2m                \u001b[0m\n"
      ]
     },
     "metadata": {},
     "output_type": "display_data"
    },
    {
     "name": "stderr",
     "output_type": "stream",
     "text": [
      "__main__    : INFO     MNISTDataset: init\n",
      "__main__    : INFO     MNISTDataset: init\n",
      "[2024-12-22 17:42:34,712] INFO - MNISTDataset: init\n",
      "[2024-12-22 17:42:34,712] INFO - MNISTDataset: init\n"
     ]
    },
    {
     "data": {
      "text/html": [
       "<pre style=\"white-space:pre;overflow-x:auto;line-height:normal;font-family:Menlo,'DejaVu Sans Mono',consolas,'Courier New',monospace\"><span style=\"color: #7fbfbf; text-decoration-color: #7fbfbf\">         </span><span style=\"color: #000080; text-decoration-color: #000080\">INFO    </span> <span style=\"font-weight: bold\">[</span><span style=\"color: #00ff00; text-decoration-color: #00ff00; font-weight: bold\">17:42:34</span><span style=\"font-weight: bold\">]</span>                                                                        <a href=\"file:///var/folders/b5/v9y3kpzs29g41d99xvrdp3yr0000gn/T/ipykernel_47224/2189827711.py\" target=\"_blank\"><span style=\"color: #7f7f7f; text-decoration-color: #7f7f7f\">2189827711.py</span></a><span style=\"color: #7f7f7f; text-decoration-color: #7f7f7f\">:</span><a href=\"file:///var/folders/b5/v9y3kpzs29g41d99xvrdp3yr0000gn/T/ipykernel_47224/2189827711.py#6\" target=\"_blank\"><span style=\"color: #7f7f7f; text-decoration-color: #7f7f7f\">6</span></a>\n",
       "<span style=\"color: #7fbfbf; text-decoration-color: #7fbfbf\">         </span>         <span style=\"font-weight: bold\">{</span><span style=\"color: #800080; text-decoration-color: #800080\">/var/folders/b5/v9y3kpzs29g41d99xvrdp3yr0000gn/T/ipykernel_47224/</span><span style=\"color: #ff00ff; text-decoration-color: #ff00ff\">2189827711.py</span>:<span style=\"color: #008080; text-decoration-color: #008080; font-weight: bold\">6</span> <span style=\"color: #7f7f7f; text-decoration-color: #7f7f7f\">               </span>\n",
       "<span style=\"color: #7fbfbf; text-decoration-color: #7fbfbf\">         </span>         <span style=\"font-weight: bold\">}</span> INFO - ImageDataset: init                                                       <span style=\"color: #7f7f7f; text-decoration-color: #7f7f7f\">               </span>\n",
       "</pre>\n"
      ],
      "text/plain": [
       "\u001b[2;36m        \u001b[0m\u001b[2;36m \u001b[0m\u001b[34mINFO    \u001b[0m \u001b[1m[\u001b[0m\u001b[1;92m17:42:34\u001b[0m\u001b[1m]\u001b[0m                                                                        \u001b]8;id=709570;file:///var/folders/b5/v9y3kpzs29g41d99xvrdp3yr0000gn/T/ipykernel_47224/2189827711.py\u001b\\\u001b[2m2189827711.py\u001b[0m\u001b]8;;\u001b\\\u001b[2m:\u001b[0m\u001b]8;id=776646;file:///var/folders/b5/v9y3kpzs29g41d99xvrdp3yr0000gn/T/ipykernel_47224/2189827711.py#6\u001b\\\u001b[2m6\u001b[0m\u001b]8;;\u001b\\\n",
       "\u001b[2;36m         \u001b[0m         \u001b[1m{\u001b[0m\u001b[35m/var/folders/b5/v9y3kpzs29g41d99xvrdp3yr0000gn/T/ipykernel_47224/\u001b[0m\u001b[95m2189827711.py\u001b[0m:\u001b[1;36m6\u001b[0m \u001b[2m               \u001b[0m\n",
       "\u001b[2;36m         \u001b[0m         \u001b[1m}\u001b[0m INFO - ImageDataset: init                                                       \u001b[2m               \u001b[0m\n"
      ]
     },
     "metadata": {},
     "output_type": "display_data"
    },
    {
     "name": "stderr",
     "output_type": "stream",
     "text": [
      "__main__    : INFO     ImageDataset: init\n",
      "__main__    : INFO     ImageDataset: init\n",
      "[2024-12-22 17:42:34,714] INFO - ImageDataset: init\n",
      "[2024-12-22 17:42:34,714] INFO - ImageDataset: init\n"
     ]
    }
   ],
   "source": [
    "test = MNISTDataset(data_dir=None, train=True, transforms=transforms.ToTensor())"
   ]
  },
  {
   "cell_type": "code",
   "execution_count": null,
   "metadata": {},
   "outputs": [
    {
     "name": "stdout",
     "output_type": "stream",
     "text": [
      " X: torch.Size([1, 28, 28]), y: 5\n",
      "torch.Size([64, 1, 28, 28]) torch.Size([64])\n"
     ]
    }
   ],
   "source": [
    "print(f\" X: {test[0][0].shape}, y: {test[0][1]}\")\n",
    "dl = DataLoader(test, batch_size=64)\n",
    "print(next(iter(dl))[0].shape, next(iter(dl))[1].shape)\n"
   ]
  },
  {
   "cell_type": "code",
   "execution_count": null,
   "metadata": {},
   "outputs": [
    {
     "name": "stdout",
     "output_type": "stream",
     "text": [
      "torch.float32 <class 'int'>\n",
      "Number of samples in the dataset: 60000\n",
      "torch.Size([1, 28, 28]) 5 torch.FloatTensor <class 'int'>\n"
     ]
    },
    {
     "data": {
      "image/png": "[encoded data removed]",
      "text/plain": [
       "<Figure size 100x100 with 1 Axes>"
      ]
     },
     "metadata": {},
     "output_type": "display_data"
    },
    {
     "name": "stdout",
     "output_type": "stream",
     "text": [
      "48000 12000\n"
     ]
    }
   ],
   "source": [
    "# output ( (C,H,W), int)\n",
    "print(test[0][0].dtype, type(test[0][1]))\n",
    "print(f\"Number of samples in the dataset: {len(test)}\")\n",
    "\n",
    "# get item helper\n",
    "X, y = test[0]\n",
    "print(X.shape, y, X.type(), type(y))\n",
    "\n",
    "# display each digit\n",
    "test.show_idx(0)\n",
    "\n",
    "# split data\n",
    "train, dev = test.train_dev_split(0.8)\n",
    "print(len(train), len(dev))"
   ]
  },
  {
   "attachments": {},
   "cell_type": "markdown",
   "metadata": {},
   "source": [
    "### Instantiate from config file\n",
    "It is convenient to keep setup of specific dataset for an experiment in a config file for reproductibility"
   ]
  },
  {
   "cell_type": "code",
   "execution_count": null,
   "metadata": {},
   "outputs": [
    {
     "name": "stdout",
     "output_type": "stream",
     "text": [
      "{'_target_': 'nimrod.image.datasets.MNISTDataset', 'data_dir': '../data/image', 'train': False, 'transforms': {'_target_': 'torchvision.transforms.ToTensor'}}\n"
     ]
    },
    {
     "data": {
      "text/html": [
       "<pre style=\"white-space:pre;overflow-x:auto;line-height:normal;font-family:Menlo,'DejaVu Sans Mono',consolas,'Courier New',monospace\"><span style=\"color: #7fbfbf; text-decoration-color: #7fbfbf\">17:42:39 </span><span style=\"color: #000080; text-decoration-color: #000080\">INFO    </span> <span style=\"font-weight: bold\">[</span><span style=\"color: #00ff00; text-decoration-color: #00ff00; font-weight: bold\">17:42:39</span><span style=\"font-weight: bold\">]</span> <span style=\"font-weight: bold\">{</span><span style=\"color: #800080; text-decoration-color: #800080\">/Users/slegroux/Projects/nimrod/nimrod/image/</span><span style=\"color: #ff00ff; text-decoration-color: #ff00ff\">datasets.py</span>:<span style=\"color: #008080; text-decoration-color: #008080; font-weight: bold\">107</span><span style=\"font-weight: bold\">}</span> INFO -  <a href=\"file:///Users/slegroux/Projects/nimrod/nimrod/image/datasets.py\" target=\"_blank\"><span style=\"color: #7f7f7f; text-decoration-color: #7f7f7f\">datasets.py</span></a><span style=\"color: #7f7f7f; text-decoration-color: #7f7f7f\">:</span><a href=\"file:///Users/slegroux/Projects/nimrod/nimrod/image/datasets.py#107\" target=\"_blank\"><span style=\"color: #7f7f7f; text-decoration-color: #7f7f7f\">107</span></a>\n",
       "<span style=\"color: #7fbfbf; text-decoration-color: #7fbfbf\">         </span>         MNISTDataset: init                                                                <span style=\"color: #7f7f7f; text-decoration-color: #7f7f7f\">               </span>\n",
       "</pre>\n"
      ],
      "text/plain": [
       "\u001b[2;36m17:42:39\u001b[0m\u001b[2;36m \u001b[0m\u001b[34mINFO    \u001b[0m \u001b[1m[\u001b[0m\u001b[1;92m17:42:39\u001b[0m\u001b[1m]\u001b[0m \u001b[1m{\u001b[0m\u001b[35m/Users/slegroux/Projects/nimrod/nimrod/image/\u001b[0m\u001b[95mdatasets.py\u001b[0m:\u001b[1;36m107\u001b[0m\u001b[1m}\u001b[0m INFO -  \u001b]8;id=442417;file:///Users/slegroux/Projects/nimrod/nimrod/image/datasets.py\u001b\\\u001b[2mdatasets.py\u001b[0m\u001b]8;;\u001b\\\u001b[2m:\u001b[0m\u001b]8;id=33326;file:///Users/slegroux/Projects/nimrod/nimrod/image/datasets.py#107\u001b\\\u001b[2m107\u001b[0m\u001b]8;;\u001b\\\n",
       "\u001b[2;36m         \u001b[0m         MNISTDataset: init                                                                \u001b[2m               \u001b[0m\n"
      ]
     },
     "metadata": {},
     "output_type": "display_data"
    },
    {
     "name": "stderr",
     "output_type": "stream",
     "text": [
      "nimrod.image.datasets: INFO     MNISTDataset: init\n",
      "nimrod.image.datasets: INFO     MNISTDataset: init\n",
      "[2024-12-22 17:42:39,525] INFO - MNISTDataset: init\n",
      "[2024-12-22 17:42:39,525] INFO - MNISTDataset: init\n"
     ]
    },
    {
     "data": {
      "text/html": [
       "<pre style=\"white-space:pre;overflow-x:auto;line-height:normal;font-family:Menlo,'DejaVu Sans Mono',consolas,'Courier New',monospace\"><span style=\"color: #7fbfbf; text-decoration-color: #7fbfbf\">         </span><span style=\"color: #000080; text-decoration-color: #000080\">INFO    </span> <span style=\"font-weight: bold\">[</span><span style=\"color: #00ff00; text-decoration-color: #00ff00; font-weight: bold\">17:42:39</span><span style=\"font-weight: bold\">]</span> <span style=\"font-weight: bold\">{</span><span style=\"color: #800080; text-decoration-color: #800080\">/Users/slegroux/Projects/nimrod/nimrod/image/</span><span style=\"color: #ff00ff; text-decoration-color: #ff00ff\">datasets.py</span>:<span style=\"color: #008080; text-decoration-color: #008080; font-weight: bold\">48</span><span style=\"font-weight: bold\">}</span> INFO -    <a href=\"file:///Users/slegroux/Projects/nimrod/nimrod/image/datasets.py\" target=\"_blank\"><span style=\"color: #7f7f7f; text-decoration-color: #7f7f7f\">datasets.py</span></a><span style=\"color: #7f7f7f; text-decoration-color: #7f7f7f\">:</span><a href=\"file:///Users/slegroux/Projects/nimrod/nimrod/image/datasets.py#48\" target=\"_blank\"><span style=\"color: #7f7f7f; text-decoration-color: #7f7f7f\">48</span></a>\n",
       "<span style=\"color: #7fbfbf; text-decoration-color: #7fbfbf\">         </span>         ImageDataset: init                                                                 <span style=\"color: #7f7f7f; text-decoration-color: #7f7f7f\">              </span>\n",
       "</pre>\n"
      ],
      "text/plain": [
       "\u001b[2;36m        \u001b[0m\u001b[2;36m \u001b[0m\u001b[34mINFO    \u001b[0m \u001b[1m[\u001b[0m\u001b[1;92m17:42:39\u001b[0m\u001b[1m]\u001b[0m \u001b[1m{\u001b[0m\u001b[35m/Users/slegroux/Projects/nimrod/nimrod/image/\u001b[0m\u001b[95mdatasets.py\u001b[0m:\u001b[1;36m48\u001b[0m\u001b[1m}\u001b[0m INFO -    \u001b]8;id=529903;file:///Users/slegroux/Projects/nimrod/nimrod/image/datasets.py\u001b\\\u001b[2mdatasets.py\u001b[0m\u001b]8;;\u001b\\\u001b[2m:\u001b[0m\u001b]8;id=631262;file:///Users/slegroux/Projects/nimrod/nimrod/image/datasets.py#48\u001b\\\u001b[2m48\u001b[0m\u001b]8;;\u001b\\\n",
       "\u001b[2;36m         \u001b[0m         ImageDataset: init                                                                 \u001b[2m              \u001b[0m\n"
      ]
     },
     "metadata": {},
     "output_type": "display_data"
    },
    {
     "name": "stderr",
     "output_type": "stream",
     "text": [
      "nimrod.image.datasets: INFO     ImageDataset: init\n",
      "nimrod.image.datasets: INFO     ImageDataset: init\n",
      "[2024-12-22 17:42:39,528] INFO - ImageDataset: init\n",
      "[2024-12-22 17:42:39,528] INFO - ImageDataset: init\n"
     ]
    },
    {
     "name": "stdout",
     "output_type": "stream",
     "text": [
      "torch.float32 <class 'int'>\n",
      "Number of samples in the dataset: 10000\n",
      "torch.Size([1, 28, 28]) 7 torch.FloatTensor <class 'int'>\n"
     ]
    },
    {
     "data": {
      "image/png": "[encoded data removed]",
      "text/plain": [
       "<Figure size 100x100 with 1 Axes>"
      ]
     },
     "metadata": {},
     "output_type": "display_data"
    }
   ],
   "source": [
    "# instantiate dataset from yaml config file\n",
    "cfg = OmegaConf.load(\"../config/image/data/mnist.yaml\")\n",
    "print(cfg.dataset)\n",
    "test = instantiate(cfg.dataset)\n",
    "type(test)\n",
    "\n",
    "# output ( (B,C, H,W), int)\n",
    "print(test[0][0].dtype, type(test[0][1]))\n",
    "print(f\"Number of samples in the dataset: {len(test)}\")\n",
    "\n",
    "# get item helper\n",
    "X, y = test[0]\n",
    "print(X.shape, y, X.type(), type(y))\n",
    "\n",
    "# display each digit\n",
    "test.show_idx(0)\n",
    "\n",
    "# split data\n",
    "train, dev = test.train_dev_split(0.8)\n"
   ]
  },
  {
   "attachments": {},
   "cell_type": "markdown",
   "metadata": {},
   "source": [
    "### MNIST DataModule"
   ]
  },
  {
   "cell_type": "code",
   "execution_count": null,
   "metadata": {},
   "outputs": [],
   "source": [
    "#| export\n",
    "\n",
    "class MNISTDataModule(DataModule, LightningDataModule):\n",
    "    def __init__(self,\n",
    "                 data_dir: Optional[str] = \"~/Data/\", # path to source data dir\n",
    "                 transforms: Union[transforms.Compose, Callable, None] = transforms.Compose([\n",
    "                     transforms.ToTensor(),\n",
    "                     transforms.Normalize((0.1307,), (0.3081,))\n",
    "                 ]),\n",
    "                 train_val_test_split:List[float] = [0.8, 0.1, 0.1], # train val test %\n",
    "                 batch_size: int = 64, # size of compute batch\n",
    "                 num_workers: int = 0, # num_workers equal 0 means that it’s the main process that will do the data loading when needed, num_workers equal 1 is the same as any n, but you’ll only have a single worker, so it might be slow\n",
    "                 pin_memory: bool = False, # If you load your samples in the Dataset on CPU and would like to push it during training to the GPU, you can speed up the host to device transfer by enabling pin_memory. This lets your DataLoader allocate the samples in page-locked memory, which speeds-up the transfer\n",
    "                 persistent_workers: bool = False\n",
    "                 ):\n",
    "\n",
    "        logger.info(\"Init MNIST DataModule\")\n",
    "        super().__init__(train_val_test_split, batch_size, num_workers, pin_memory, persistent_workers)\n",
    "        self.save_hyperparameters()\n",
    "\n",
    "    @property\n",
    "    def num_classes(self) -> int: # num of classes in dataset\n",
    "        return 10\n",
    "\n",
    "    def prepare_data(self) -> None:\n",
    "        \"\"\"Download data if needed \n",
    "        \"\"\"\n",
    "        # train set\n",
    "        MNISTDataset(\n",
    "            data_dir = self.hparams.data_dir,\n",
    "            train=True,\n",
    "        )\n",
    "        # test set\n",
    "        MNISTDataset(\n",
    "            data_dir = self.hparams.data_dir,\n",
    "            train=False\n",
    "        )\n",
    "\n",
    "    def setup(self, stage: Optional[str] = None) -> None:\n",
    "        # called on every GPU when distrib\n",
    "        # stage: {fit,validate,test,predict}\\n\",\n",
    "        # concat train & test mnist dataset and randomly generate train, eval, test sets\n",
    "        if not self.data_train or not self.data_val or not self.data_test:\n",
    "            # ((B, H, W), int)\n",
    "            trainset = MNISTDataset(self.hparams.data_dir, train=True, transforms=self.transforms)\n",
    "            testset = MNISTDataset(self.hparams.data_dir, train=False, transforms=self.transforms)\n",
    "            dataset = ConcatDataset(datasets=[trainset, testset])\n",
    "            # TODO: keep test set untouched\n",
    "            lengths = [int(split * len(dataset)) for split in self.hparams.train_val_test_split]\n",
    "            self.data_train, self.data_val, self.data_test = random_split(dataset=dataset, lengths=lengths)\n",
    "        "
   ]
  },
  {
   "cell_type": "code",
   "execution_count": null,
   "metadata": {},
   "outputs": [
    {
     "name": "stdout",
     "output_type": "stream",
     "text": [
      "[('__module__', False),\n",
      " ('__init__', False),\n",
      " ('prepare_data', True),\n",
      " ('setup', True),\n",
      " ('train_dataloader', False),\n",
      " ('val_dataloader', False),\n",
      " ('test_dataloader', False),\n",
      " ('teardown', False),\n",
      " ('state_dict', False),\n",
      " ('load_state_dict', False),\n",
      " ('_sequential_split', False),\n",
      " ('__dict__', False),\n",
      " ('__weakref__', False),\n",
      " ('__doc__', False),\n",
      " ('__abstractmethods__', False),\n",
      " ('_abc_impl', False)]\n"
     ]
    }
   ],
   "source": [
    "from pprint import pprint\n",
    "# check for abstract methods\n",
    "pprint([(name, getattr(method,\"__isabstractmethod__\", False)) for (name, method) in DataModule.__dict__.items()])\n"
   ]
  },
  {
   "attachments": {},
   "cell_type": "markdown",
   "metadata": {},
   "source": [
    "### Usage"
   ]
  },
  {
   "cell_type": "code",
   "execution_count": null,
   "metadata": {},
   "outputs": [
    {
     "name": "stderr",
     "output_type": "stream",
     "text": [
      "Seed set to 42\n"
     ]
    },
    {
     "data": {
      "text/html": [
       "<pre style=\"white-space:pre;overflow-x:auto;line-height:normal;font-family:Menlo,'DejaVu Sans Mono',consolas,'Courier New',monospace\"><span style=\"color: #7fbfbf; text-decoration-color: #7fbfbf\">17:43:27 </span><span style=\"color: #000080; text-decoration-color: #000080\">INFO    </span> <span style=\"font-weight: bold\">[</span><span style=\"color: #00ff00; text-decoration-color: #00ff00; font-weight: bold\">17:43:27</span><span style=\"font-weight: bold\">]</span>                                                                       <a href=\"file:///var/folders/b5/v9y3kpzs29g41d99xvrdp3yr0000gn/T/ipykernel_47224/2335694993.py\" target=\"_blank\"><span style=\"color: #7f7f7f; text-decoration-color: #7f7f7f\">2335694993.py</span></a><span style=\"color: #7f7f7f; text-decoration-color: #7f7f7f\">:</span><a href=\"file:///var/folders/b5/v9y3kpzs29g41d99xvrdp3yr0000gn/T/ipykernel_47224/2335694993.py#17\" target=\"_blank\"><span style=\"color: #7f7f7f; text-decoration-color: #7f7f7f\">17</span></a>\n",
       "<span style=\"color: #7fbfbf; text-decoration-color: #7fbfbf\">         </span>         <span style=\"font-weight: bold\">{</span><span style=\"color: #800080; text-decoration-color: #800080\">/var/folders/b5/v9y3kpzs29g41d99xvrdp3yr0000gn/T/ipykernel_47224/</span><span style=\"color: #ff00ff; text-decoration-color: #ff00ff\">2335694993.py</span>: <span style=\"color: #7f7f7f; text-decoration-color: #7f7f7f\">                </span>\n",
       "<span style=\"color: #7fbfbf; text-decoration-color: #7fbfbf\">         </span>         <span style=\"color: #008080; text-decoration-color: #008080; font-weight: bold\">17</span><span style=\"font-weight: bold\">}</span> INFO - Init MNIST DataModule                                                 <span style=\"color: #7f7f7f; text-decoration-color: #7f7f7f\">                </span>\n",
       "</pre>\n"
      ],
      "text/plain": [
       "\u001b[2;36m17:43:27\u001b[0m\u001b[2;36m \u001b[0m\u001b[34mINFO    \u001b[0m \u001b[1m[\u001b[0m\u001b[1;92m17:43:27\u001b[0m\u001b[1m]\u001b[0m                                                                       \u001b]8;id=288389;file:///var/folders/b5/v9y3kpzs29g41d99xvrdp3yr0000gn/T/ipykernel_47224/2335694993.py\u001b\\\u001b[2m2335694993.py\u001b[0m\u001b]8;;\u001b\\\u001b[2m:\u001b[0m\u001b]8;id=256787;file:///var/folders/b5/v9y3kpzs29g41d99xvrdp3yr0000gn/T/ipykernel_47224/2335694993.py#17\u001b\\\u001b[2m17\u001b[0m\u001b]8;;\u001b\\\n",
       "\u001b[2;36m         \u001b[0m         \u001b[1m{\u001b[0m\u001b[35m/var/folders/b5/v9y3kpzs29g41d99xvrdp3yr0000gn/T/ipykernel_47224/\u001b[0m\u001b[95m2335694993.py\u001b[0m: \u001b[2m                \u001b[0m\n",
       "\u001b[2;36m         \u001b[0m         \u001b[1;36m17\u001b[0m\u001b[1m}\u001b[0m INFO - Init MNIST DataModule                                                 \u001b[2m                \u001b[0m\n"
      ]
     },
     "metadata": {},
     "output_type": "display_data"
    },
    {
     "name": "stderr",
     "output_type": "stream",
     "text": [
      "__main__    : INFO     Init MNIST DataModule\n",
      "__main__    : INFO     Init MNIST DataModule\n",
      "[2024-12-22 17:43:27,901] INFO - Init MNIST DataModule\n",
      "[2024-12-22 17:43:27,901] INFO - Init MNIST DataModule\n"
     ]
    },
    {
     "data": {
      "text/html": [
       "<pre style=\"white-space:pre;overflow-x:auto;line-height:normal;font-family:Menlo,'DejaVu Sans Mono',consolas,'Courier New',monospace\"><span style=\"color: #7fbfbf; text-decoration-color: #7fbfbf\">         </span><span style=\"color: #000080; text-decoration-color: #000080\">INFO    </span> <span style=\"font-weight: bold\">[</span><span style=\"color: #00ff00; text-decoration-color: #00ff00; font-weight: bold\">17:43:27</span><span style=\"font-weight: bold\">]</span>                                                                       <a href=\"file:///var/folders/b5/v9y3kpzs29g41d99xvrdp3yr0000gn/T/ipykernel_47224/1716829971.py\" target=\"_blank\"><span style=\"color: #7f7f7f; text-decoration-color: #7f7f7f\">1716829971.py</span></a><span style=\"color: #7f7f7f; text-decoration-color: #7f7f7f\">:</span><a href=\"file:///var/folders/b5/v9y3kpzs29g41d99xvrdp3yr0000gn/T/ipykernel_47224/1716829971.py#16\" target=\"_blank\"><span style=\"color: #7f7f7f; text-decoration-color: #7f7f7f\">16</span></a>\n",
       "<span style=\"color: #7fbfbf; text-decoration-color: #7fbfbf\">         </span>         <span style=\"font-weight: bold\">{</span><span style=\"color: #800080; text-decoration-color: #800080\">/var/folders/b5/v9y3kpzs29g41d99xvrdp3yr0000gn/T/ipykernel_47224/</span><span style=\"color: #ff00ff; text-decoration-color: #ff00ff\">1716829971.py</span>: <span style=\"color: #7f7f7f; text-decoration-color: #7f7f7f\">                </span>\n",
       "<span style=\"color: #7fbfbf; text-decoration-color: #7fbfbf\">         </span>         <span style=\"color: #008080; text-decoration-color: #008080; font-weight: bold\">16</span><span style=\"font-weight: bold\">}</span> INFO - MNISTDataset: init                                                    <span style=\"color: #7f7f7f; text-decoration-color: #7f7f7f\">                </span>\n",
       "</pre>\n"
      ],
      "text/plain": [
       "\u001b[2;36m        \u001b[0m\u001b[2;36m \u001b[0m\u001b[34mINFO    \u001b[0m \u001b[1m[\u001b[0m\u001b[1;92m17:43:27\u001b[0m\u001b[1m]\u001b[0m                                                                       \u001b]8;id=709570;file:///var/folders/b5/v9y3kpzs29g41d99xvrdp3yr0000gn/T/ipykernel_47224/1716829971.py\u001b\\\u001b[2m1716829971.py\u001b[0m\u001b]8;;\u001b\\\u001b[2m:\u001b[0m\u001b]8;id=776646;file:///var/folders/b5/v9y3kpzs29g41d99xvrdp3yr0000gn/T/ipykernel_47224/1716829971.py#16\u001b\\\u001b[2m16\u001b[0m\u001b]8;;\u001b\\\n",
       "\u001b[2;36m         \u001b[0m         \u001b[1m{\u001b[0m\u001b[35m/var/folders/b5/v9y3kpzs29g41d99xvrdp3yr0000gn/T/ipykernel_47224/\u001b[0m\u001b[95m1716829971.py\u001b[0m: \u001b[2m                \u001b[0m\n",
       "\u001b[2;36m         \u001b[0m         \u001b[1;36m16\u001b[0m\u001b[1m}\u001b[0m INFO - MNISTDataset: init                                                    \u001b[2m                \u001b[0m\n"
      ]
     },
     "metadata": {},
     "output_type": "display_data"
    },
    {
     "name": "stderr",
     "output_type": "stream",
     "text": [
      "__main__    : INFO     MNISTDataset: init\n",
      "__main__    : INFO     MNISTDataset: init\n",
      "[2024-12-22 17:43:27,903] INFO - MNISTDataset: init\n",
      "[2024-12-22 17:43:27,903] INFO - MNISTDataset: init\n"
     ]
    },
    {
     "data": {
      "text/html": [
       "<pre style=\"white-space:pre;overflow-x:auto;line-height:normal;font-family:Menlo,'DejaVu Sans Mono',consolas,'Courier New',monospace\"><span style=\"color: #7fbfbf; text-decoration-color: #7fbfbf\">         </span><span style=\"color: #000080; text-decoration-color: #000080\">INFO    </span> <span style=\"font-weight: bold\">[</span><span style=\"color: #00ff00; text-decoration-color: #00ff00; font-weight: bold\">17:43:27</span><span style=\"font-weight: bold\">]</span>                                                                        <a href=\"file:///var/folders/b5/v9y3kpzs29g41d99xvrdp3yr0000gn/T/ipykernel_47224/2189827711.py\" target=\"_blank\"><span style=\"color: #7f7f7f; text-decoration-color: #7f7f7f\">2189827711.py</span></a><span style=\"color: #7f7f7f; text-decoration-color: #7f7f7f\">:</span><a href=\"file:///var/folders/b5/v9y3kpzs29g41d99xvrdp3yr0000gn/T/ipykernel_47224/2189827711.py#6\" target=\"_blank\"><span style=\"color: #7f7f7f; text-decoration-color: #7f7f7f\">6</span></a>\n",
       "<span style=\"color: #7fbfbf; text-decoration-color: #7fbfbf\">         </span>         <span style=\"font-weight: bold\">{</span><span style=\"color: #800080; text-decoration-color: #800080\">/var/folders/b5/v9y3kpzs29g41d99xvrdp3yr0000gn/T/ipykernel_47224/</span><span style=\"color: #ff00ff; text-decoration-color: #ff00ff\">2189827711.py</span>:<span style=\"color: #008080; text-decoration-color: #008080; font-weight: bold\">6</span> <span style=\"color: #7f7f7f; text-decoration-color: #7f7f7f\">               </span>\n",
       "<span style=\"color: #7fbfbf; text-decoration-color: #7fbfbf\">         </span>         <span style=\"font-weight: bold\">}</span> INFO - ImageDataset: init                                                       <span style=\"color: #7f7f7f; text-decoration-color: #7f7f7f\">               </span>\n",
       "</pre>\n"
      ],
      "text/plain": [
       "\u001b[2;36m        \u001b[0m\u001b[2;36m \u001b[0m\u001b[34mINFO    \u001b[0m \u001b[1m[\u001b[0m\u001b[1;92m17:43:27\u001b[0m\u001b[1m]\u001b[0m                                                                        \u001b]8;id=442417;file:///var/folders/b5/v9y3kpzs29g41d99xvrdp3yr0000gn/T/ipykernel_47224/2189827711.py\u001b\\\u001b[2m2189827711.py\u001b[0m\u001b]8;;\u001b\\\u001b[2m:\u001b[0m\u001b]8;id=33326;file:///var/folders/b5/v9y3kpzs29g41d99xvrdp3yr0000gn/T/ipykernel_47224/2189827711.py#6\u001b\\\u001b[2m6\u001b[0m\u001b]8;;\u001b\\\n",
       "\u001b[2;36m         \u001b[0m         \u001b[1m{\u001b[0m\u001b[35m/var/folders/b5/v9y3kpzs29g41d99xvrdp3yr0000gn/T/ipykernel_47224/\u001b[0m\u001b[95m2189827711.py\u001b[0m:\u001b[1;36m6\u001b[0m \u001b[2m               \u001b[0m\n",
       "\u001b[2;36m         \u001b[0m         \u001b[1m}\u001b[0m INFO - ImageDataset: init                                                       \u001b[2m               \u001b[0m\n"
      ]
     },
     "metadata": {},
     "output_type": "display_data"
    },
    {
     "name": "stderr",
     "output_type": "stream",
     "text": [
      "__main__    : INFO     ImageDataset: init\n",
      "__main__    : INFO     ImageDataset: init\n",
      "[2024-12-22 17:43:27,905] INFO - ImageDataset: init\n",
      "[2024-12-22 17:43:27,905] INFO - ImageDataset: init\n"
     ]
    },
    {
     "data": {
      "text/html": [
       "<pre style=\"white-space:pre;overflow-x:auto;line-height:normal;font-family:Menlo,'DejaVu Sans Mono',consolas,'Courier New',monospace\"><span style=\"color: #7fbfbf; text-decoration-color: #7fbfbf\">17:43:32 </span><span style=\"color: #000080; text-decoration-color: #000080\">INFO    </span> <span style=\"font-weight: bold\">[</span><span style=\"color: #00ff00; text-decoration-color: #00ff00; font-weight: bold\">17:43:32</span><span style=\"font-weight: bold\">]</span>                                                                       <a href=\"file:///var/folders/b5/v9y3kpzs29g41d99xvrdp3yr0000gn/T/ipykernel_47224/1716829971.py\" target=\"_blank\"><span style=\"color: #7f7f7f; text-decoration-color: #7f7f7f\">1716829971.py</span></a><span style=\"color: #7f7f7f; text-decoration-color: #7f7f7f\">:</span><a href=\"file:///var/folders/b5/v9y3kpzs29g41d99xvrdp3yr0000gn/T/ipykernel_47224/1716829971.py#16\" target=\"_blank\"><span style=\"color: #7f7f7f; text-decoration-color: #7f7f7f\">16</span></a>\n",
       "<span style=\"color: #7fbfbf; text-decoration-color: #7fbfbf\">         </span>         <span style=\"font-weight: bold\">{</span><span style=\"color: #800080; text-decoration-color: #800080\">/var/folders/b5/v9y3kpzs29g41d99xvrdp3yr0000gn/T/ipykernel_47224/</span><span style=\"color: #ff00ff; text-decoration-color: #ff00ff\">1716829971.py</span>: <span style=\"color: #7f7f7f; text-decoration-color: #7f7f7f\">                </span>\n",
       "<span style=\"color: #7fbfbf; text-decoration-color: #7fbfbf\">         </span>         <span style=\"color: #008080; text-decoration-color: #008080; font-weight: bold\">16</span><span style=\"font-weight: bold\">}</span> INFO - MNISTDataset: init                                                    <span style=\"color: #7f7f7f; text-decoration-color: #7f7f7f\">                </span>\n",
       "</pre>\n"
      ],
      "text/plain": [
       "\u001b[2;36m17:43:32\u001b[0m\u001b[2;36m \u001b[0m\u001b[34mINFO    \u001b[0m \u001b[1m[\u001b[0m\u001b[1;92m17:43:32\u001b[0m\u001b[1m]\u001b[0m                                                                       \u001b]8;id=529903;file:///var/folders/b5/v9y3kpzs29g41d99xvrdp3yr0000gn/T/ipykernel_47224/1716829971.py\u001b\\\u001b[2m1716829971.py\u001b[0m\u001b]8;;\u001b\\\u001b[2m:\u001b[0m\u001b]8;id=631262;file:///var/folders/b5/v9y3kpzs29g41d99xvrdp3yr0000gn/T/ipykernel_47224/1716829971.py#16\u001b\\\u001b[2m16\u001b[0m\u001b]8;;\u001b\\\n",
       "\u001b[2;36m         \u001b[0m         \u001b[1m{\u001b[0m\u001b[35m/var/folders/b5/v9y3kpzs29g41d99xvrdp3yr0000gn/T/ipykernel_47224/\u001b[0m\u001b[95m1716829971.py\u001b[0m: \u001b[2m                \u001b[0m\n",
       "\u001b[2;36m         \u001b[0m         \u001b[1;36m16\u001b[0m\u001b[1m}\u001b[0m INFO - MNISTDataset: init                                                    \u001b[2m                \u001b[0m\n"
      ]
     },
     "metadata": {},
     "output_type": "display_data"
    },
    {
     "name": "stderr",
     "output_type": "stream",
     "text": [
      "__main__    : INFO     MNISTDataset: init\n",
      "__main__    : INFO     MNISTDataset: init\n",
      "[2024-12-22 17:43:32,879] INFO - MNISTDataset: init\n",
      "[2024-12-22 17:43:32,879] INFO - MNISTDataset: init\n"
     ]
    },
    {
     "data": {
      "text/html": [
       "<pre style=\"white-space:pre;overflow-x:auto;line-height:normal;font-family:Menlo,'DejaVu Sans Mono',consolas,'Courier New',monospace\"><span style=\"color: #7fbfbf; text-decoration-color: #7fbfbf\">         </span><span style=\"color: #000080; text-decoration-color: #000080\">INFO    </span> <span style=\"font-weight: bold\">[</span><span style=\"color: #00ff00; text-decoration-color: #00ff00; font-weight: bold\">17:43:32</span><span style=\"font-weight: bold\">]</span>                                                                        <a href=\"file:///var/folders/b5/v9y3kpzs29g41d99xvrdp3yr0000gn/T/ipykernel_47224/2189827711.py\" target=\"_blank\"><span style=\"color: #7f7f7f; text-decoration-color: #7f7f7f\">2189827711.py</span></a><span style=\"color: #7f7f7f; text-decoration-color: #7f7f7f\">:</span><a href=\"file:///var/folders/b5/v9y3kpzs29g41d99xvrdp3yr0000gn/T/ipykernel_47224/2189827711.py#6\" target=\"_blank\"><span style=\"color: #7f7f7f; text-decoration-color: #7f7f7f\">6</span></a>\n",
       "<span style=\"color: #7fbfbf; text-decoration-color: #7fbfbf\">         </span>         <span style=\"font-weight: bold\">{</span><span style=\"color: #800080; text-decoration-color: #800080\">/var/folders/b5/v9y3kpzs29g41d99xvrdp3yr0000gn/T/ipykernel_47224/</span><span style=\"color: #ff00ff; text-decoration-color: #ff00ff\">2189827711.py</span>:<span style=\"color: #008080; text-decoration-color: #008080; font-weight: bold\">6</span> <span style=\"color: #7f7f7f; text-decoration-color: #7f7f7f\">               </span>\n",
       "<span style=\"color: #7fbfbf; text-decoration-color: #7fbfbf\">         </span>         <span style=\"font-weight: bold\">}</span> INFO - ImageDataset: init                                                       <span style=\"color: #7f7f7f; text-decoration-color: #7f7f7f\">               </span>\n",
       "</pre>\n"
      ],
      "text/plain": [
       "\u001b[2;36m        \u001b[0m\u001b[2;36m \u001b[0m\u001b[34mINFO    \u001b[0m \u001b[1m[\u001b[0m\u001b[1;92m17:43:32\u001b[0m\u001b[1m]\u001b[0m                                                                        \u001b]8;id=681453;file:///var/folders/b5/v9y3kpzs29g41d99xvrdp3yr0000gn/T/ipykernel_47224/2189827711.py\u001b\\\u001b[2m2189827711.py\u001b[0m\u001b]8;;\u001b\\\u001b[2m:\u001b[0m\u001b]8;id=735392;file:///var/folders/b5/v9y3kpzs29g41d99xvrdp3yr0000gn/T/ipykernel_47224/2189827711.py#6\u001b\\\u001b[2m6\u001b[0m\u001b]8;;\u001b\\\n",
       "\u001b[2;36m         \u001b[0m         \u001b[1m{\u001b[0m\u001b[35m/var/folders/b5/v9y3kpzs29g41d99xvrdp3yr0000gn/T/ipykernel_47224/\u001b[0m\u001b[95m2189827711.py\u001b[0m:\u001b[1;36m6\u001b[0m \u001b[2m               \u001b[0m\n",
       "\u001b[2;36m         \u001b[0m         \u001b[1m}\u001b[0m INFO - ImageDataset: init                                                       \u001b[2m               \u001b[0m\n"
      ]
     },
     "metadata": {},
     "output_type": "display_data"
    },
    {
     "name": "stderr",
     "output_type": "stream",
     "text": [
      "__main__    : INFO     ImageDataset: init\n",
      "__main__    : INFO     ImageDataset: init\n",
      "[2024-12-22 17:43:32,882] INFO - ImageDataset: init\n",
      "[2024-12-22 17:43:32,882] INFO - ImageDataset: init\n"
     ]
    },
    {
     "data": {
      "text/html": [
       "<pre style=\"white-space:pre;overflow-x:auto;line-height:normal;font-family:Menlo,'DejaVu Sans Mono',consolas,'Courier New',monospace\"><span style=\"color: #7fbfbf; text-decoration-color: #7fbfbf\">17:43:35 </span><span style=\"color: #000080; text-decoration-color: #000080\">INFO    </span> <span style=\"font-weight: bold\">[</span><span style=\"color: #00ff00; text-decoration-color: #00ff00; font-weight: bold\">17:43:35</span><span style=\"font-weight: bold\">]</span>                                                                       <a href=\"file:///var/folders/b5/v9y3kpzs29g41d99xvrdp3yr0000gn/T/ipykernel_47224/1716829971.py\" target=\"_blank\"><span style=\"color: #7f7f7f; text-decoration-color: #7f7f7f\">1716829971.py</span></a><span style=\"color: #7f7f7f; text-decoration-color: #7f7f7f\">:</span><a href=\"file:///var/folders/b5/v9y3kpzs29g41d99xvrdp3yr0000gn/T/ipykernel_47224/1716829971.py#16\" target=\"_blank\"><span style=\"color: #7f7f7f; text-decoration-color: #7f7f7f\">16</span></a>\n",
       "<span style=\"color: #7fbfbf; text-decoration-color: #7fbfbf\">         </span>         <span style=\"font-weight: bold\">{</span><span style=\"color: #800080; text-decoration-color: #800080\">/var/folders/b5/v9y3kpzs29g41d99xvrdp3yr0000gn/T/ipykernel_47224/</span><span style=\"color: #ff00ff; text-decoration-color: #ff00ff\">1716829971.py</span>: <span style=\"color: #7f7f7f; text-decoration-color: #7f7f7f\">                </span>\n",
       "<span style=\"color: #7fbfbf; text-decoration-color: #7fbfbf\">         </span>         <span style=\"color: #008080; text-decoration-color: #008080; font-weight: bold\">16</span><span style=\"font-weight: bold\">}</span> INFO - MNISTDataset: init                                                    <span style=\"color: #7f7f7f; text-decoration-color: #7f7f7f\">                </span>\n",
       "</pre>\n"
      ],
      "text/plain": [
       "\u001b[2;36m17:43:35\u001b[0m\u001b[2;36m \u001b[0m\u001b[34mINFO    \u001b[0m \u001b[1m[\u001b[0m\u001b[1;92m17:43:35\u001b[0m\u001b[1m]\u001b[0m                                                                       \u001b]8;id=617889;file:///var/folders/b5/v9y3kpzs29g41d99xvrdp3yr0000gn/T/ipykernel_47224/1716829971.py\u001b\\\u001b[2m1716829971.py\u001b[0m\u001b]8;;\u001b\\\u001b[2m:\u001b[0m\u001b]8;id=291704;file:///var/folders/b5/v9y3kpzs29g41d99xvrdp3yr0000gn/T/ipykernel_47224/1716829971.py#16\u001b\\\u001b[2m16\u001b[0m\u001b]8;;\u001b\\\n",
       "\u001b[2;36m         \u001b[0m         \u001b[1m{\u001b[0m\u001b[35m/var/folders/b5/v9y3kpzs29g41d99xvrdp3yr0000gn/T/ipykernel_47224/\u001b[0m\u001b[95m1716829971.py\u001b[0m: \u001b[2m                \u001b[0m\n",
       "\u001b[2;36m         \u001b[0m         \u001b[1;36m16\u001b[0m\u001b[1m}\u001b[0m INFO - MNISTDataset: init                                                    \u001b[2m                \u001b[0m\n"
      ]
     },
     "metadata": {},
     "output_type": "display_data"
    },
    {
     "name": "stderr",
     "output_type": "stream",
     "text": [
      "__main__    : INFO     MNISTDataset: init\n",
      "__main__    : INFO     MNISTDataset: init\n",
      "[2024-12-22 17:43:35,747] INFO - MNISTDataset: init\n",
      "[2024-12-22 17:43:35,747] INFO - MNISTDataset: init\n"
     ]
    },
    {
     "data": {
      "text/html": [
       "<pre style=\"white-space:pre;overflow-x:auto;line-height:normal;font-family:Menlo,'DejaVu Sans Mono',consolas,'Courier New',monospace\"><span style=\"color: #7fbfbf; text-decoration-color: #7fbfbf\">         </span><span style=\"color: #000080; text-decoration-color: #000080\">INFO    </span> <span style=\"font-weight: bold\">[</span><span style=\"color: #00ff00; text-decoration-color: #00ff00; font-weight: bold\">17:43:35</span><span style=\"font-weight: bold\">]</span>                                                                        <a href=\"file:///var/folders/b5/v9y3kpzs29g41d99xvrdp3yr0000gn/T/ipykernel_47224/2189827711.py\" target=\"_blank\"><span style=\"color: #7f7f7f; text-decoration-color: #7f7f7f\">2189827711.py</span></a><span style=\"color: #7f7f7f; text-decoration-color: #7f7f7f\">:</span><a href=\"file:///var/folders/b5/v9y3kpzs29g41d99xvrdp3yr0000gn/T/ipykernel_47224/2189827711.py#6\" target=\"_blank\"><span style=\"color: #7f7f7f; text-decoration-color: #7f7f7f\">6</span></a>\n",
       "<span style=\"color: #7fbfbf; text-decoration-color: #7fbfbf\">         </span>         <span style=\"font-weight: bold\">{</span><span style=\"color: #800080; text-decoration-color: #800080\">/var/folders/b5/v9y3kpzs29g41d99xvrdp3yr0000gn/T/ipykernel_47224/</span><span style=\"color: #ff00ff; text-decoration-color: #ff00ff\">2189827711.py</span>:<span style=\"color: #008080; text-decoration-color: #008080; font-weight: bold\">6</span> <span style=\"color: #7f7f7f; text-decoration-color: #7f7f7f\">               </span>\n",
       "<span style=\"color: #7fbfbf; text-decoration-color: #7fbfbf\">         </span>         <span style=\"font-weight: bold\">}</span> INFO - ImageDataset: init                                                       <span style=\"color: #7f7f7f; text-decoration-color: #7f7f7f\">               </span>\n",
       "</pre>\n"
      ],
      "text/plain": [
       "\u001b[2;36m        \u001b[0m\u001b[2;36m \u001b[0m\u001b[34mINFO    \u001b[0m \u001b[1m[\u001b[0m\u001b[1;92m17:43:35\u001b[0m\u001b[1m]\u001b[0m                                                                        \u001b]8;id=844962;file:///var/folders/b5/v9y3kpzs29g41d99xvrdp3yr0000gn/T/ipykernel_47224/2189827711.py\u001b\\\u001b[2m2189827711.py\u001b[0m\u001b]8;;\u001b\\\u001b[2m:\u001b[0m\u001b]8;id=167414;file:///var/folders/b5/v9y3kpzs29g41d99xvrdp3yr0000gn/T/ipykernel_47224/2189827711.py#6\u001b\\\u001b[2m6\u001b[0m\u001b]8;;\u001b\\\n",
       "\u001b[2;36m         \u001b[0m         \u001b[1m{\u001b[0m\u001b[35m/var/folders/b5/v9y3kpzs29g41d99xvrdp3yr0000gn/T/ipykernel_47224/\u001b[0m\u001b[95m2189827711.py\u001b[0m:\u001b[1;36m6\u001b[0m \u001b[2m               \u001b[0m\n",
       "\u001b[2;36m         \u001b[0m         \u001b[1m}\u001b[0m INFO - ImageDataset: init                                                       \u001b[2m               \u001b[0m\n"
      ]
     },
     "metadata": {},
     "output_type": "display_data"
    },
    {
     "name": "stderr",
     "output_type": "stream",
     "text": [
      "__main__    : INFO     ImageDataset: init\n",
      "__main__    : INFO     ImageDataset: init\n",
      "[2024-12-22 17:43:35,749] INFO - ImageDataset: init\n",
      "[2024-12-22 17:43:35,749] INFO - ImageDataset: init\n"
     ]
    },
    {
     "data": {
      "text/html": [
       "<pre style=\"white-space:pre;overflow-x:auto;line-height:normal;font-family:Menlo,'DejaVu Sans Mono',consolas,'Courier New',monospace\"><span style=\"color: #7fbfbf; text-decoration-color: #7fbfbf\">17:43:40 </span><span style=\"color: #000080; text-decoration-color: #000080\">INFO    </span> <span style=\"font-weight: bold\">[</span><span style=\"color: #00ff00; text-decoration-color: #00ff00; font-weight: bold\">17:43:40</span><span style=\"font-weight: bold\">]</span>                                                                       <a href=\"file:///var/folders/b5/v9y3kpzs29g41d99xvrdp3yr0000gn/T/ipykernel_47224/1716829971.py\" target=\"_blank\"><span style=\"color: #7f7f7f; text-decoration-color: #7f7f7f\">1716829971.py</span></a><span style=\"color: #7f7f7f; text-decoration-color: #7f7f7f\">:</span><a href=\"file:///var/folders/b5/v9y3kpzs29g41d99xvrdp3yr0000gn/T/ipykernel_47224/1716829971.py#16\" target=\"_blank\"><span style=\"color: #7f7f7f; text-decoration-color: #7f7f7f\">16</span></a>\n",
       "<span style=\"color: #7fbfbf; text-decoration-color: #7fbfbf\">         </span>         <span style=\"font-weight: bold\">{</span><span style=\"color: #800080; text-decoration-color: #800080\">/var/folders/b5/v9y3kpzs29g41d99xvrdp3yr0000gn/T/ipykernel_47224/</span><span style=\"color: #ff00ff; text-decoration-color: #ff00ff\">1716829971.py</span>: <span style=\"color: #7f7f7f; text-decoration-color: #7f7f7f\">                </span>\n",
       "<span style=\"color: #7fbfbf; text-decoration-color: #7fbfbf\">         </span>         <span style=\"color: #008080; text-decoration-color: #008080; font-weight: bold\">16</span><span style=\"font-weight: bold\">}</span> INFO - MNISTDataset: init                                                    <span style=\"color: #7f7f7f; text-decoration-color: #7f7f7f\">                </span>\n",
       "</pre>\n"
      ],
      "text/plain": [
       "\u001b[2;36m17:43:40\u001b[0m\u001b[2;36m \u001b[0m\u001b[34mINFO    \u001b[0m \u001b[1m[\u001b[0m\u001b[1;92m17:43:40\u001b[0m\u001b[1m]\u001b[0m                                                                       \u001b]8;id=163032;file:///var/folders/b5/v9y3kpzs29g41d99xvrdp3yr0000gn/T/ipykernel_47224/1716829971.py\u001b\\\u001b[2m1716829971.py\u001b[0m\u001b]8;;\u001b\\\u001b[2m:\u001b[0m\u001b]8;id=225772;file:///var/folders/b5/v9y3kpzs29g41d99xvrdp3yr0000gn/T/ipykernel_47224/1716829971.py#16\u001b\\\u001b[2m16\u001b[0m\u001b]8;;\u001b\\\n",
       "\u001b[2;36m         \u001b[0m         \u001b[1m{\u001b[0m\u001b[35m/var/folders/b5/v9y3kpzs29g41d99xvrdp3yr0000gn/T/ipykernel_47224/\u001b[0m\u001b[95m1716829971.py\u001b[0m: \u001b[2m                \u001b[0m\n",
       "\u001b[2;36m         \u001b[0m         \u001b[1;36m16\u001b[0m\u001b[1m}\u001b[0m INFO - MNISTDataset: init                                                    \u001b[2m                \u001b[0m\n"
      ]
     },
     "metadata": {},
     "output_type": "display_data"
    },
    {
     "name": "stderr",
     "output_type": "stream",
     "text": [
      "__main__    : INFO     MNISTDataset: init\n",
      "__main__    : INFO     MNISTDataset: init\n",
      "[2024-12-22 17:43:40,023] INFO - MNISTDataset: init\n",
      "[2024-12-22 17:43:40,023] INFO - MNISTDataset: init\n"
     ]
    },
    {
     "data": {
      "text/html": [
       "<pre style=\"white-space:pre;overflow-x:auto;line-height:normal;font-family:Menlo,'DejaVu Sans Mono',consolas,'Courier New',monospace\"><span style=\"color: #7fbfbf; text-decoration-color: #7fbfbf\">         </span><span style=\"color: #000080; text-decoration-color: #000080\">INFO    </span> <span style=\"font-weight: bold\">[</span><span style=\"color: #00ff00; text-decoration-color: #00ff00; font-weight: bold\">17:43:40</span><span style=\"font-weight: bold\">]</span>                                                                        <a href=\"file:///var/folders/b5/v9y3kpzs29g41d99xvrdp3yr0000gn/T/ipykernel_47224/2189827711.py\" target=\"_blank\"><span style=\"color: #7f7f7f; text-decoration-color: #7f7f7f\">2189827711.py</span></a><span style=\"color: #7f7f7f; text-decoration-color: #7f7f7f\">:</span><a href=\"file:///var/folders/b5/v9y3kpzs29g41d99xvrdp3yr0000gn/T/ipykernel_47224/2189827711.py#6\" target=\"_blank\"><span style=\"color: #7f7f7f; text-decoration-color: #7f7f7f\">6</span></a>\n",
       "<span style=\"color: #7fbfbf; text-decoration-color: #7fbfbf\">         </span>         <span style=\"font-weight: bold\">{</span><span style=\"color: #800080; text-decoration-color: #800080\">/var/folders/b5/v9y3kpzs29g41d99xvrdp3yr0000gn/T/ipykernel_47224/</span><span style=\"color: #ff00ff; text-decoration-color: #ff00ff\">2189827711.py</span>:<span style=\"color: #008080; text-decoration-color: #008080; font-weight: bold\">6</span> <span style=\"color: #7f7f7f; text-decoration-color: #7f7f7f\">               </span>\n",
       "<span style=\"color: #7fbfbf; text-decoration-color: #7fbfbf\">         </span>         <span style=\"font-weight: bold\">}</span> INFO - ImageDataset: init                                                       <span style=\"color: #7f7f7f; text-decoration-color: #7f7f7f\">               </span>\n",
       "</pre>\n"
      ],
      "text/plain": [
       "\u001b[2;36m        \u001b[0m\u001b[2;36m \u001b[0m\u001b[34mINFO    \u001b[0m \u001b[1m[\u001b[0m\u001b[1;92m17:43:40\u001b[0m\u001b[1m]\u001b[0m                                                                        \u001b]8;id=398382;file:///var/folders/b5/v9y3kpzs29g41d99xvrdp3yr0000gn/T/ipykernel_47224/2189827711.py\u001b\\\u001b[2m2189827711.py\u001b[0m\u001b]8;;\u001b\\\u001b[2m:\u001b[0m\u001b]8;id=101414;file:///var/folders/b5/v9y3kpzs29g41d99xvrdp3yr0000gn/T/ipykernel_47224/2189827711.py#6\u001b\\\u001b[2m6\u001b[0m\u001b]8;;\u001b\\\n",
       "\u001b[2;36m         \u001b[0m         \u001b[1m{\u001b[0m\u001b[35m/var/folders/b5/v9y3kpzs29g41d99xvrdp3yr0000gn/T/ipykernel_47224/\u001b[0m\u001b[95m2189827711.py\u001b[0m:\u001b[1;36m6\u001b[0m \u001b[2m               \u001b[0m\n",
       "\u001b[2;36m         \u001b[0m         \u001b[1m}\u001b[0m INFO - ImageDataset: init                                                       \u001b[2m               \u001b[0m\n"
      ]
     },
     "metadata": {},
     "output_type": "display_data"
    },
    {
     "name": "stderr",
     "output_type": "stream",
     "text": [
      "__main__    : INFO     ImageDataset: init\n",
      "__main__    : INFO     ImageDataset: init\n",
      "[2024-12-22 17:43:40,025] INFO - ImageDataset: init\n",
      "[2024-12-22 17:43:40,025] INFO - ImageDataset: init\n"
     ]
    },
    {
     "name": "stdout",
     "output_type": "stream",
     "text": [
      "56000 7000 7000\n",
      "X dim(B,C,W,H):  torch.Size([64, 1, 28, 28]) Y: dim(B) torch.Size([64])\n",
      "torch.Size([1, 28, 28])\n",
      "2 None\n",
      "[0, 3, 6, 9, 7]\n"
     ]
    },
    {
     "data": {
      "image/png": "[encoded data removed]",
      "text/plain": [
       "<Figure size 640x480 with 5 Axes>"
      ]
     },
     "metadata": {},
     "output_type": "display_data"
    }
   ],
   "source": [
    "#| notest\n",
    "\n",
    "dm = MNISTDataModule(\n",
    "    data_dir='../data/image',\n",
    "    train_val_test_split=[0.8, 0.1, 0.1],\n",
    "    batch_size = 64,\n",
    "    num_workers = 0, # main process\n",
    "    pin_memory= False,\n",
    "    persistent_workers=False\n",
    ")\n",
    "\n",
    "# download or reference data from dir\n",
    "dm.prepare_data()\n",
    "\n",
    "# define train, eval, test subsets\n",
    "dm.setup()\n",
    "\n",
    "# len of splits\n",
    "print(len(dm.data_train), len(dm.data_val), len(dm.data_test))\n",
    "\n",
    "# access data batches via dataloader\n",
    "test_dl = dm.test_dataloader()\n",
    "X,Y = next(iter(test_dl))\n",
    "print(\"X dim(B,C,W,H): \", X.shape, \"Y: dim(B)\", Y.shape)\n",
    "\n",
    "# access data points directly by index\n",
    "print(len(dm.data_test[0]), print(dm.data_test[0][0].shape))\n",
    "imgs = [dm.data_test[i][0] for i in range(5)]\n",
    "\n",
    "# display image samples\n",
    "ImageDataset.show_grid(imgs)\n",
    "\n",
    "# labels are ints\n",
    "lbls = [dm.data_test[i][1] for i in range(5)]\n",
    "print(lbls)"
   ]
  },
  {
   "attachments": {},
   "cell_type": "markdown",
   "metadata": {},
   "source": [
    "### Config"
   ]
  },
  {
   "cell_type": "code",
   "execution_count": null,
   "metadata": {},
   "outputs": [
    {
     "name": "stdout",
     "output_type": "stream",
     "text": [
      "{'_target_': 'nimrod.image.datasets.MNISTDataModule', 'data_dir': '../data/image', 'train_val_test_split': [0.8, 0.1, 0.1], 'batch_size': 64, 'num_workers': 0, 'pin_memory': False, 'persistent_workers': False}\n"
     ]
    },
    {
     "data": {
      "text/html": [
       "<pre style=\"white-space:pre;overflow-x:auto;line-height:normal;font-family:Menlo,'DejaVu Sans Mono',consolas,'Courier New',monospace\"><span style=\"color: #7fbfbf; text-decoration-color: #7fbfbf\">17:43:47 </span><span style=\"color: #000080; text-decoration-color: #000080\">INFO    </span> <span style=\"font-weight: bold\">[</span><span style=\"color: #00ff00; text-decoration-color: #00ff00; font-weight: bold\">17:43:47</span><span style=\"font-weight: bold\">]</span> <span style=\"font-weight: bold\">{</span><span style=\"color: #800080; text-decoration-color: #800080\">/Users/slegroux/Projects/nimrod/nimrod/image/</span><span style=\"color: #ff00ff; text-decoration-color: #ff00ff\">datasets.py</span>:<span style=\"color: #008080; text-decoration-color: #008080; font-weight: bold\">168</span><span style=\"font-weight: bold\">}</span> INFO -  <a href=\"file:///Users/slegroux/Projects/nimrod/nimrod/image/datasets.py\" target=\"_blank\"><span style=\"color: #7f7f7f; text-decoration-color: #7f7f7f\">datasets.py</span></a><span style=\"color: #7f7f7f; text-decoration-color: #7f7f7f\">:</span><a href=\"file:///Users/slegroux/Projects/nimrod/nimrod/image/datasets.py#168\" target=\"_blank\"><span style=\"color: #7f7f7f; text-decoration-color: #7f7f7f\">168</span></a>\n",
       "<span style=\"color: #7fbfbf; text-decoration-color: #7fbfbf\">         </span>         Init MNIST DataModule                                                             <span style=\"color: #7f7f7f; text-decoration-color: #7f7f7f\">               </span>\n",
       "</pre>\n"
      ],
      "text/plain": [
       "\u001b[2;36m17:43:47\u001b[0m\u001b[2;36m \u001b[0m\u001b[34mINFO    \u001b[0m \u001b[1m[\u001b[0m\u001b[1;92m17:43:47\u001b[0m\u001b[1m]\u001b[0m \u001b[1m{\u001b[0m\u001b[35m/Users/slegroux/Projects/nimrod/nimrod/image/\u001b[0m\u001b[95mdatasets.py\u001b[0m:\u001b[1;36m168\u001b[0m\u001b[1m}\u001b[0m INFO -  \u001b]8;id=277370;file:///Users/slegroux/Projects/nimrod/nimrod/image/datasets.py\u001b\\\u001b[2mdatasets.py\u001b[0m\u001b]8;;\u001b\\\u001b[2m:\u001b[0m\u001b]8;id=846335;file:///Users/slegroux/Projects/nimrod/nimrod/image/datasets.py#168\u001b\\\u001b[2m168\u001b[0m\u001b]8;;\u001b\\\n",
       "\u001b[2;36m         \u001b[0m         Init MNIST DataModule                                                             \u001b[2m               \u001b[0m\n"
      ]
     },
     "metadata": {},
     "output_type": "display_data"
    },
    {
     "name": "stderr",
     "output_type": "stream",
     "text": [
      "nimrod.image.datasets: INFO     Init MNIST DataModule\n",
      "nimrod.image.datasets: INFO     Init MNIST DataModule\n",
      "[2024-12-22 17:43:47,443] INFO - Init MNIST DataModule\n",
      "[2024-12-22 17:43:47,443] INFO - Init MNIST DataModule\n"
     ]
    },
    {
     "data": {
      "text/html": [
       "<pre style=\"white-space:pre;overflow-x:auto;line-height:normal;font-family:Menlo,'DejaVu Sans Mono',consolas,'Courier New',monospace\"><span style=\"color: #7fbfbf; text-decoration-color: #7fbfbf\">         </span><span style=\"color: #000080; text-decoration-color: #000080\">INFO    </span> <span style=\"font-weight: bold\">[</span><span style=\"color: #00ff00; text-decoration-color: #00ff00; font-weight: bold\">17:43:47</span><span style=\"font-weight: bold\">]</span> <span style=\"font-weight: bold\">{</span><span style=\"color: #800080; text-decoration-color: #800080\">/Users/slegroux/Projects/nimrod/nimrod/image/</span><span style=\"color: #ff00ff; text-decoration-color: #ff00ff\">datasets.py</span>:<span style=\"color: #008080; text-decoration-color: #008080; font-weight: bold\">107</span><span style=\"font-weight: bold\">}</span> INFO -  <a href=\"file:///Users/slegroux/Projects/nimrod/nimrod/image/datasets.py\" target=\"_blank\"><span style=\"color: #7f7f7f; text-decoration-color: #7f7f7f\">datasets.py</span></a><span style=\"color: #7f7f7f; text-decoration-color: #7f7f7f\">:</span><a href=\"file:///Users/slegroux/Projects/nimrod/nimrod/image/datasets.py#107\" target=\"_blank\"><span style=\"color: #7f7f7f; text-decoration-color: #7f7f7f\">107</span></a>\n",
       "<span style=\"color: #7fbfbf; text-decoration-color: #7fbfbf\">         </span>         MNISTDataset: init                                                                <span style=\"color: #7f7f7f; text-decoration-color: #7f7f7f\">               </span>\n",
       "</pre>\n"
      ],
      "text/plain": [
       "\u001b[2;36m        \u001b[0m\u001b[2;36m \u001b[0m\u001b[34mINFO    \u001b[0m \u001b[1m[\u001b[0m\u001b[1;92m17:43:47\u001b[0m\u001b[1m]\u001b[0m \u001b[1m{\u001b[0m\u001b[35m/Users/slegroux/Projects/nimrod/nimrod/image/\u001b[0m\u001b[95mdatasets.py\u001b[0m:\u001b[1;36m107\u001b[0m\u001b[1m}\u001b[0m INFO -  \u001b]8;id=130889;file:///Users/slegroux/Projects/nimrod/nimrod/image/datasets.py\u001b\\\u001b[2mdatasets.py\u001b[0m\u001b]8;;\u001b\\\u001b[2m:\u001b[0m\u001b]8;id=967096;file:///Users/slegroux/Projects/nimrod/nimrod/image/datasets.py#107\u001b\\\u001b[2m107\u001b[0m\u001b]8;;\u001b\\\n",
       "\u001b[2;36m         \u001b[0m         MNISTDataset: init                                                                \u001b[2m               \u001b[0m\n"
      ]
     },
     "metadata": {},
     "output_type": "display_data"
    },
    {
     "name": "stderr",
     "output_type": "stream",
     "text": [
      "nimrod.image.datasets: INFO     MNISTDataset: init\n",
      "nimrod.image.datasets: INFO     MNISTDataset: init\n",
      "[2024-12-22 17:43:47,446] INFO - MNISTDataset: init\n",
      "[2024-12-22 17:43:47,446] INFO - MNISTDataset: init\n"
     ]
    },
    {
     "data": {
      "text/html": [
       "<pre style=\"white-space:pre;overflow-x:auto;line-height:normal;font-family:Menlo,'DejaVu Sans Mono',consolas,'Courier New',monospace\"><span style=\"color: #7fbfbf; text-decoration-color: #7fbfbf\">         </span><span style=\"color: #000080; text-decoration-color: #000080\">INFO    </span> <span style=\"font-weight: bold\">[</span><span style=\"color: #00ff00; text-decoration-color: #00ff00; font-weight: bold\">17:43:47</span><span style=\"font-weight: bold\">]</span> <span style=\"font-weight: bold\">{</span><span style=\"color: #800080; text-decoration-color: #800080\">/Users/slegroux/Projects/nimrod/nimrod/image/</span><span style=\"color: #ff00ff; text-decoration-color: #ff00ff\">datasets.py</span>:<span style=\"color: #008080; text-decoration-color: #008080; font-weight: bold\">48</span><span style=\"font-weight: bold\">}</span> INFO -    <a href=\"file:///Users/slegroux/Projects/nimrod/nimrod/image/datasets.py\" target=\"_blank\"><span style=\"color: #7f7f7f; text-decoration-color: #7f7f7f\">datasets.py</span></a><span style=\"color: #7f7f7f; text-decoration-color: #7f7f7f\">:</span><a href=\"file:///Users/slegroux/Projects/nimrod/nimrod/image/datasets.py#48\" target=\"_blank\"><span style=\"color: #7f7f7f; text-decoration-color: #7f7f7f\">48</span></a>\n",
       "<span style=\"color: #7fbfbf; text-decoration-color: #7fbfbf\">         </span>         ImageDataset: init                                                                 <span style=\"color: #7f7f7f; text-decoration-color: #7f7f7f\">              </span>\n",
       "</pre>\n"
      ],
      "text/plain": [
       "\u001b[2;36m        \u001b[0m\u001b[2;36m \u001b[0m\u001b[34mINFO    \u001b[0m \u001b[1m[\u001b[0m\u001b[1;92m17:43:47\u001b[0m\u001b[1m]\u001b[0m \u001b[1m{\u001b[0m\u001b[35m/Users/slegroux/Projects/nimrod/nimrod/image/\u001b[0m\u001b[95mdatasets.py\u001b[0m:\u001b[1;36m48\u001b[0m\u001b[1m}\u001b[0m INFO -    \u001b]8;id=869693;file:///Users/slegroux/Projects/nimrod/nimrod/image/datasets.py\u001b\\\u001b[2mdatasets.py\u001b[0m\u001b]8;;\u001b\\\u001b[2m:\u001b[0m\u001b]8;id=659176;file:///Users/slegroux/Projects/nimrod/nimrod/image/datasets.py#48\u001b\\\u001b[2m48\u001b[0m\u001b]8;;\u001b\\\n",
       "\u001b[2;36m         \u001b[0m         ImageDataset: init                                                                 \u001b[2m              \u001b[0m\n"
      ]
     },
     "metadata": {},
     "output_type": "display_data"
    },
    {
     "name": "stderr",
     "output_type": "stream",
     "text": [
      "nimrod.image.datasets: INFO     ImageDataset: init\n",
      "nimrod.image.datasets: INFO     ImageDataset: init\n",
      "[2024-12-22 17:43:47,448] INFO - ImageDataset: init\n",
      "[2024-12-22 17:43:47,448] INFO - ImageDataset: init\n"
     ]
    },
    {
     "data": {
      "text/html": [
       "<pre style=\"white-space:pre;overflow-x:auto;line-height:normal;font-family:Menlo,'DejaVu Sans Mono',consolas,'Courier New',monospace\"><span style=\"color: #7fbfbf; text-decoration-color: #7fbfbf\">17:43:52 </span><span style=\"color: #000080; text-decoration-color: #000080\">INFO    </span> <span style=\"font-weight: bold\">[</span><span style=\"color: #00ff00; text-decoration-color: #00ff00; font-weight: bold\">17:43:52</span><span style=\"font-weight: bold\">]</span> <span style=\"font-weight: bold\">{</span><span style=\"color: #800080; text-decoration-color: #800080\">/Users/slegroux/Projects/nimrod/nimrod/image/</span><span style=\"color: #ff00ff; text-decoration-color: #ff00ff\">datasets.py</span>:<span style=\"color: #008080; text-decoration-color: #008080; font-weight: bold\">107</span><span style=\"font-weight: bold\">}</span> INFO -  <a href=\"file:///Users/slegroux/Projects/nimrod/nimrod/image/datasets.py\" target=\"_blank\"><span style=\"color: #7f7f7f; text-decoration-color: #7f7f7f\">datasets.py</span></a><span style=\"color: #7f7f7f; text-decoration-color: #7f7f7f\">:</span><a href=\"file:///Users/slegroux/Projects/nimrod/nimrod/image/datasets.py#107\" target=\"_blank\"><span style=\"color: #7f7f7f; text-decoration-color: #7f7f7f\">107</span></a>\n",
       "<span style=\"color: #7fbfbf; text-decoration-color: #7fbfbf\">         </span>         MNISTDataset: init                                                                <span style=\"color: #7f7f7f; text-decoration-color: #7f7f7f\">               </span>\n",
       "</pre>\n"
      ],
      "text/plain": [
       "\u001b[2;36m17:43:52\u001b[0m\u001b[2;36m \u001b[0m\u001b[34mINFO    \u001b[0m \u001b[1m[\u001b[0m\u001b[1;92m17:43:52\u001b[0m\u001b[1m]\u001b[0m \u001b[1m{\u001b[0m\u001b[35m/Users/slegroux/Projects/nimrod/nimrod/image/\u001b[0m\u001b[95mdatasets.py\u001b[0m:\u001b[1;36m107\u001b[0m\u001b[1m}\u001b[0m INFO -  \u001b]8;id=605397;file:///Users/slegroux/Projects/nimrod/nimrod/image/datasets.py\u001b\\\u001b[2mdatasets.py\u001b[0m\u001b]8;;\u001b\\\u001b[2m:\u001b[0m\u001b]8;id=201629;file:///Users/slegroux/Projects/nimrod/nimrod/image/datasets.py#107\u001b\\\u001b[2m107\u001b[0m\u001b]8;;\u001b\\\n",
       "\u001b[2;36m         \u001b[0m         MNISTDataset: init                                                                \u001b[2m               \u001b[0m\n"
      ]
     },
     "metadata": {},
     "output_type": "display_data"
    },
    {
     "name": "stderr",
     "output_type": "stream",
     "text": [
      "nimrod.image.datasets: INFO     MNISTDataset: init\n",
      "nimrod.image.datasets: INFO     MNISTDataset: init\n",
      "[2024-12-22 17:43:52,289] INFO - MNISTDataset: init\n",
      "[2024-12-22 17:43:52,289] INFO - MNISTDataset: init\n"
     ]
    },
    {
     "data": {
      "text/html": [
       "<pre style=\"white-space:pre;overflow-x:auto;line-height:normal;font-family:Menlo,'DejaVu Sans Mono',consolas,'Courier New',monospace\"><span style=\"color: #7fbfbf; text-decoration-color: #7fbfbf\">         </span><span style=\"color: #000080; text-decoration-color: #000080\">INFO    </span> <span style=\"font-weight: bold\">[</span><span style=\"color: #00ff00; text-decoration-color: #00ff00; font-weight: bold\">17:43:52</span><span style=\"font-weight: bold\">]</span> <span style=\"font-weight: bold\">{</span><span style=\"color: #800080; text-decoration-color: #800080\">/Users/slegroux/Projects/nimrod/nimrod/image/</span><span style=\"color: #ff00ff; text-decoration-color: #ff00ff\">datasets.py</span>:<span style=\"color: #008080; text-decoration-color: #008080; font-weight: bold\">48</span><span style=\"font-weight: bold\">}</span> INFO -    <a href=\"file:///Users/slegroux/Projects/nimrod/nimrod/image/datasets.py\" target=\"_blank\"><span style=\"color: #7f7f7f; text-decoration-color: #7f7f7f\">datasets.py</span></a><span style=\"color: #7f7f7f; text-decoration-color: #7f7f7f\">:</span><a href=\"file:///Users/slegroux/Projects/nimrod/nimrod/image/datasets.py#48\" target=\"_blank\"><span style=\"color: #7f7f7f; text-decoration-color: #7f7f7f\">48</span></a>\n",
       "<span style=\"color: #7fbfbf; text-decoration-color: #7fbfbf\">         </span>         ImageDataset: init                                                                 <span style=\"color: #7f7f7f; text-decoration-color: #7f7f7f\">              </span>\n",
       "</pre>\n"
      ],
      "text/plain": [
       "\u001b[2;36m        \u001b[0m\u001b[2;36m \u001b[0m\u001b[34mINFO    \u001b[0m \u001b[1m[\u001b[0m\u001b[1;92m17:43:52\u001b[0m\u001b[1m]\u001b[0m \u001b[1m{\u001b[0m\u001b[35m/Users/slegroux/Projects/nimrod/nimrod/image/\u001b[0m\u001b[95mdatasets.py\u001b[0m:\u001b[1;36m48\u001b[0m\u001b[1m}\u001b[0m INFO -    \u001b]8;id=238968;file:///Users/slegroux/Projects/nimrod/nimrod/image/datasets.py\u001b\\\u001b[2mdatasets.py\u001b[0m\u001b]8;;\u001b\\\u001b[2m:\u001b[0m\u001b]8;id=810620;file:///Users/slegroux/Projects/nimrod/nimrod/image/datasets.py#48\u001b\\\u001b[2m48\u001b[0m\u001b]8;;\u001b\\\n",
       "\u001b[2;36m         \u001b[0m         ImageDataset: init                                                                 \u001b[2m              \u001b[0m\n"
      ]
     },
     "metadata": {},
     "output_type": "display_data"
    },
    {
     "name": "stderr",
     "output_type": "stream",
     "text": [
      "nimrod.image.datasets: INFO     ImageDataset: init\n",
      "nimrod.image.datasets: INFO     ImageDataset: init\n",
      "[2024-12-22 17:43:52,291] INFO - ImageDataset: init\n",
      "[2024-12-22 17:43:52,291] INFO - ImageDataset: init\n"
     ]
    },
    {
     "data": {
      "text/html": [
       "<pre style=\"white-space:pre;overflow-x:auto;line-height:normal;font-family:Menlo,'DejaVu Sans Mono',consolas,'Courier New',monospace\"><span style=\"color: #7fbfbf; text-decoration-color: #7fbfbf\">17:43:57 </span><span style=\"color: #000080; text-decoration-color: #000080\">INFO    </span> <span style=\"font-weight: bold\">[</span><span style=\"color: #00ff00; text-decoration-color: #00ff00; font-weight: bold\">17:43:57</span><span style=\"font-weight: bold\">]</span> <span style=\"font-weight: bold\">{</span><span style=\"color: #800080; text-decoration-color: #800080\">/Users/slegroux/Projects/nimrod/nimrod/image/</span><span style=\"color: #ff00ff; text-decoration-color: #ff00ff\">datasets.py</span>:<span style=\"color: #008080; text-decoration-color: #008080; font-weight: bold\">107</span><span style=\"font-weight: bold\">}</span> INFO -  <a href=\"file:///Users/slegroux/Projects/nimrod/nimrod/image/datasets.py\" target=\"_blank\"><span style=\"color: #7f7f7f; text-decoration-color: #7f7f7f\">datasets.py</span></a><span style=\"color: #7f7f7f; text-decoration-color: #7f7f7f\">:</span><a href=\"file:///Users/slegroux/Projects/nimrod/nimrod/image/datasets.py#107\" target=\"_blank\"><span style=\"color: #7f7f7f; text-decoration-color: #7f7f7f\">107</span></a>\n",
       "<span style=\"color: #7fbfbf; text-decoration-color: #7fbfbf\">         </span>         MNISTDataset: init                                                                <span style=\"color: #7f7f7f; text-decoration-color: #7f7f7f\">               </span>\n",
       "</pre>\n"
      ],
      "text/plain": [
       "\u001b[2;36m17:43:57\u001b[0m\u001b[2;36m \u001b[0m\u001b[34mINFO    \u001b[0m \u001b[1m[\u001b[0m\u001b[1;92m17:43:57\u001b[0m\u001b[1m]\u001b[0m \u001b[1m{\u001b[0m\u001b[35m/Users/slegroux/Projects/nimrod/nimrod/image/\u001b[0m\u001b[95mdatasets.py\u001b[0m:\u001b[1;36m107\u001b[0m\u001b[1m}\u001b[0m INFO -  \u001b]8;id=908573;file:///Users/slegroux/Projects/nimrod/nimrod/image/datasets.py\u001b\\\u001b[2mdatasets.py\u001b[0m\u001b]8;;\u001b\\\u001b[2m:\u001b[0m\u001b]8;id=105907;file:///Users/slegroux/Projects/nimrod/nimrod/image/datasets.py#107\u001b\\\u001b[2m107\u001b[0m\u001b]8;;\u001b\\\n",
       "\u001b[2;36m         \u001b[0m         MNISTDataset: init                                                                \u001b[2m               \u001b[0m\n"
      ]
     },
     "metadata": {},
     "output_type": "display_data"
    },
    {
     "name": "stderr",
     "output_type": "stream",
     "text": [
      "nimrod.image.datasets: INFO     MNISTDataset: init\n",
      "nimrod.image.datasets: INFO     MNISTDataset: init\n",
      "[2024-12-22 17:43:57,018] INFO - MNISTDataset: init\n",
      "[2024-12-22 17:43:57,018] INFO - MNISTDataset: init\n"
     ]
    },
    {
     "data": {
      "text/html": [
       "<pre style=\"white-space:pre;overflow-x:auto;line-height:normal;font-family:Menlo,'DejaVu Sans Mono',consolas,'Courier New',monospace\"><span style=\"color: #7fbfbf; text-decoration-color: #7fbfbf\">         </span><span style=\"color: #000080; text-decoration-color: #000080\">INFO    </span> <span style=\"font-weight: bold\">[</span><span style=\"color: #00ff00; text-decoration-color: #00ff00; font-weight: bold\">17:43:57</span><span style=\"font-weight: bold\">]</span> <span style=\"font-weight: bold\">{</span><span style=\"color: #800080; text-decoration-color: #800080\">/Users/slegroux/Projects/nimrod/nimrod/image/</span><span style=\"color: #ff00ff; text-decoration-color: #ff00ff\">datasets.py</span>:<span style=\"color: #008080; text-decoration-color: #008080; font-weight: bold\">48</span><span style=\"font-weight: bold\">}</span> INFO -    <a href=\"file:///Users/slegroux/Projects/nimrod/nimrod/image/datasets.py\" target=\"_blank\"><span style=\"color: #7f7f7f; text-decoration-color: #7f7f7f\">datasets.py</span></a><span style=\"color: #7f7f7f; text-decoration-color: #7f7f7f\">:</span><a href=\"file:///Users/slegroux/Projects/nimrod/nimrod/image/datasets.py#48\" target=\"_blank\"><span style=\"color: #7f7f7f; text-decoration-color: #7f7f7f\">48</span></a>\n",
       "<span style=\"color: #7fbfbf; text-decoration-color: #7fbfbf\">         </span>         ImageDataset: init                                                                 <span style=\"color: #7f7f7f; text-decoration-color: #7f7f7f\">              </span>\n",
       "</pre>\n"
      ],
      "text/plain": [
       "\u001b[2;36m        \u001b[0m\u001b[2;36m \u001b[0m\u001b[34mINFO    \u001b[0m \u001b[1m[\u001b[0m\u001b[1;92m17:43:57\u001b[0m\u001b[1m]\u001b[0m \u001b[1m{\u001b[0m\u001b[35m/Users/slegroux/Projects/nimrod/nimrod/image/\u001b[0m\u001b[95mdatasets.py\u001b[0m:\u001b[1;36m48\u001b[0m\u001b[1m}\u001b[0m INFO -    \u001b]8;id=874628;file:///Users/slegroux/Projects/nimrod/nimrod/image/datasets.py\u001b\\\u001b[2mdatasets.py\u001b[0m\u001b]8;;\u001b\\\u001b[2m:\u001b[0m\u001b]8;id=382554;file:///Users/slegroux/Projects/nimrod/nimrod/image/datasets.py#48\u001b\\\u001b[2m48\u001b[0m\u001b]8;;\u001b\\\n",
       "\u001b[2;36m         \u001b[0m         ImageDataset: init                                                                 \u001b[2m              \u001b[0m\n"
      ]
     },
     "metadata": {},
     "output_type": "display_data"
    },
    {
     "name": "stderr",
     "output_type": "stream",
     "text": [
      "nimrod.image.datasets: INFO     ImageDataset: init\n",
      "nimrod.image.datasets: INFO     ImageDataset: init\n",
      "[2024-12-22 17:43:57,021] INFO - ImageDataset: init\n",
      "[2024-12-22 17:43:57,021] INFO - ImageDataset: init\n"
     ]
    },
    {
     "data": {
      "text/html": [
       "<pre style=\"white-space:pre;overflow-x:auto;line-height:normal;font-family:Menlo,'DejaVu Sans Mono',consolas,'Courier New',monospace\"><span style=\"color: #7fbfbf; text-decoration-color: #7fbfbf\">17:44:01 </span><span style=\"color: #000080; text-decoration-color: #000080\">INFO    </span> <span style=\"font-weight: bold\">[</span><span style=\"color: #00ff00; text-decoration-color: #00ff00; font-weight: bold\">17:44:01</span><span style=\"font-weight: bold\">]</span> <span style=\"font-weight: bold\">{</span><span style=\"color: #800080; text-decoration-color: #800080\">/Users/slegroux/Projects/nimrod/nimrod/image/</span><span style=\"color: #ff00ff; text-decoration-color: #ff00ff\">datasets.py</span>:<span style=\"color: #008080; text-decoration-color: #008080; font-weight: bold\">107</span><span style=\"font-weight: bold\">}</span> INFO -  <a href=\"file:///Users/slegroux/Projects/nimrod/nimrod/image/datasets.py\" target=\"_blank\"><span style=\"color: #7f7f7f; text-decoration-color: #7f7f7f\">datasets.py</span></a><span style=\"color: #7f7f7f; text-decoration-color: #7f7f7f\">:</span><a href=\"file:///Users/slegroux/Projects/nimrod/nimrod/image/datasets.py#107\" target=\"_blank\"><span style=\"color: #7f7f7f; text-decoration-color: #7f7f7f\">107</span></a>\n",
       "<span style=\"color: #7fbfbf; text-decoration-color: #7fbfbf\">         </span>         MNISTDataset: init                                                                <span style=\"color: #7f7f7f; text-decoration-color: #7f7f7f\">               </span>\n",
       "</pre>\n"
      ],
      "text/plain": [
       "\u001b[2;36m17:44:01\u001b[0m\u001b[2;36m \u001b[0m\u001b[34mINFO    \u001b[0m \u001b[1m[\u001b[0m\u001b[1;92m17:44:01\u001b[0m\u001b[1m]\u001b[0m \u001b[1m{\u001b[0m\u001b[35m/Users/slegroux/Projects/nimrod/nimrod/image/\u001b[0m\u001b[95mdatasets.py\u001b[0m:\u001b[1;36m107\u001b[0m\u001b[1m}\u001b[0m INFO -  \u001b]8;id=702729;file:///Users/slegroux/Projects/nimrod/nimrod/image/datasets.py\u001b\\\u001b[2mdatasets.py\u001b[0m\u001b]8;;\u001b\\\u001b[2m:\u001b[0m\u001b]8;id=279946;file:///Users/slegroux/Projects/nimrod/nimrod/image/datasets.py#107\u001b\\\u001b[2m107\u001b[0m\u001b]8;;\u001b\\\n",
       "\u001b[2;36m         \u001b[0m         MNISTDataset: init                                                                \u001b[2m               \u001b[0m\n"
      ]
     },
     "metadata": {},
     "output_type": "display_data"
    },
    {
     "name": "stderr",
     "output_type": "stream",
     "text": [
      "nimrod.image.datasets: INFO     MNISTDataset: init\n",
      "nimrod.image.datasets: INFO     MNISTDataset: init\n",
      "[2024-12-22 17:44:01,775] INFO - MNISTDataset: init\n",
      "[2024-12-22 17:44:01,775] INFO - MNISTDataset: init\n"
     ]
    },
    {
     "data": {
      "text/html": [
       "<pre style=\"white-space:pre;overflow-x:auto;line-height:normal;font-family:Menlo,'DejaVu Sans Mono',consolas,'Courier New',monospace\"><span style=\"color: #7fbfbf; text-decoration-color: #7fbfbf\">         </span><span style=\"color: #000080; text-decoration-color: #000080\">INFO    </span> <span style=\"font-weight: bold\">[</span><span style=\"color: #00ff00; text-decoration-color: #00ff00; font-weight: bold\">17:44:01</span><span style=\"font-weight: bold\">]</span> <span style=\"font-weight: bold\">{</span><span style=\"color: #800080; text-decoration-color: #800080\">/Users/slegroux/Projects/nimrod/nimrod/image/</span><span style=\"color: #ff00ff; text-decoration-color: #ff00ff\">datasets.py</span>:<span style=\"color: #008080; text-decoration-color: #008080; font-weight: bold\">48</span><span style=\"font-weight: bold\">}</span> INFO -    <a href=\"file:///Users/slegroux/Projects/nimrod/nimrod/image/datasets.py\" target=\"_blank\"><span style=\"color: #7f7f7f; text-decoration-color: #7f7f7f\">datasets.py</span></a><span style=\"color: #7f7f7f; text-decoration-color: #7f7f7f\">:</span><a href=\"file:///Users/slegroux/Projects/nimrod/nimrod/image/datasets.py#48\" target=\"_blank\"><span style=\"color: #7f7f7f; text-decoration-color: #7f7f7f\">48</span></a>\n",
       "<span style=\"color: #7fbfbf; text-decoration-color: #7fbfbf\">         </span>         ImageDataset: init                                                                 <span style=\"color: #7f7f7f; text-decoration-color: #7f7f7f\">              </span>\n",
       "</pre>\n"
      ],
      "text/plain": [
       "\u001b[2;36m        \u001b[0m\u001b[2;36m \u001b[0m\u001b[34mINFO    \u001b[0m \u001b[1m[\u001b[0m\u001b[1;92m17:44:01\u001b[0m\u001b[1m]\u001b[0m \u001b[1m{\u001b[0m\u001b[35m/Users/slegroux/Projects/nimrod/nimrod/image/\u001b[0m\u001b[95mdatasets.py\u001b[0m:\u001b[1;36m48\u001b[0m\u001b[1m}\u001b[0m INFO -    \u001b]8;id=74870;file:///Users/slegroux/Projects/nimrod/nimrod/image/datasets.py\u001b\\\u001b[2mdatasets.py\u001b[0m\u001b]8;;\u001b\\\u001b[2m:\u001b[0m\u001b]8;id=638720;file:///Users/slegroux/Projects/nimrod/nimrod/image/datasets.py#48\u001b\\\u001b[2m48\u001b[0m\u001b]8;;\u001b\\\n",
       "\u001b[2;36m         \u001b[0m         ImageDataset: init                                                                 \u001b[2m              \u001b[0m\n"
      ]
     },
     "metadata": {},
     "output_type": "display_data"
    },
    {
     "name": "stderr",
     "output_type": "stream",
     "text": [
      "nimrod.image.datasets: INFO     ImageDataset: init\n",
      "nimrod.image.datasets: INFO     ImageDataset: init\n",
      "[2024-12-22 17:44:01,777] INFO - ImageDataset: init\n",
      "[2024-12-22 17:44:01,777] INFO - ImageDataset: init\n"
     ]
    },
    {
     "name": "stdout",
     "output_type": "stream",
     "text": [
      "<class 'nimrod.image.datasets.MNISTDataModule'>\n"
     ]
    },
    {
     "data": {
      "image/png": "[encoded data removed]",
      "text/plain": [
       "<Figure size 640x480 with 5 Axes>"
      ]
     },
     "metadata": {},
     "output_type": "display_data"
    }
   ],
   "source": [
    "#| notest\n",
    "\n",
    "cfg = OmegaConf.load(\"../config/image/data/mnist.yaml\")\n",
    "print(cfg.datamodule)\n",
    "dm = instantiate(cfg.datamodule)\n",
    "dm.prepare_data()\n",
    "dm.setup()\n",
    "test_dl = dm.test_dataloader()\n",
    "len(dm.data_test[0])\n",
    "imgs = [dm.data_test[i][0] for i in range(5)]\n",
    "ImageDataset.show_grid(imgs)\n",
    "print(type(dm))"
   ]
  },
  {
   "cell_type": "code",
   "execution_count": null,
   "metadata": {},
   "outputs": [],
   "source": [
    "#| hide\n",
    "import nbdev; nbdev.nbdev_export()"
   ]
  },
  {
   "cell_type": "code",
   "execution_count": null,
   "metadata": {},
   "outputs": [],
   "source": []
  }
 ],
 "metadata": {
  "kernelspec": {
   "display_name": "python3",
   "language": "python",
   "name": "python3"
  }
 },
 "nbformat": 4,
 "nbformat_minor": 4
}
