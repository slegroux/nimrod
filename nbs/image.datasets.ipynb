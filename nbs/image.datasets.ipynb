{
 "cells": [
  {
   "attachments": {},
   "cell_type": "markdown",
   "metadata": {},
   "source": [
    "# Image Datasets\n",
    "\n",
    "> Image datasets"
   ]
  },
  {
   "cell_type": "code",
   "execution_count": null,
   "metadata": {},
   "outputs": [],
   "source": [
    "#| default_exp image.datasets"
   ]
  },
  {
   "cell_type": "code",
   "execution_count": null,
   "metadata": {},
   "outputs": [
    {
     "name": "stdout",
     "output_type": "stream",
     "text": [
      "The autoreload extension is already loaded. To reload it, use:\n",
      "  %reload_ext autoreload\n"
     ]
    }
   ],
   "source": [
    "#| hide\n",
    "%load_ext autoreload\n",
    "%autoreload 2\n",
    "from nbdev.showdoc import *"
   ]
  },
  {
   "cell_type": "code",
   "execution_count": null,
   "metadata": {},
   "outputs": [],
   "source": [
    "#| export\n",
    "\n",
    "# torch\n",
    "import torch\n",
    "from torch import Tensor # type hint\n",
    "import torch.utils.data as data\n",
    "from torch.utils.data import ConcatDataset, DataLoader, Dataset, random_split\n",
    "# torchvision\n",
    "from torchvision.transforms import transforms\n",
    "# lightning\n",
    "from lightning import LightningDataModule\n",
    "# hugging face\n",
    "from datasets import load_dataset, load_dataset_builder\n",
    "# math\n",
    "import pandas as pd\n",
    "from matplotlib import pyplot as plt\n",
    "import numpy as np\n",
    "# python libs\n",
    "import os\n",
    "import logging\n",
    "from pprint import pprint\n",
    "# conigs\n",
    "from omegaconf import OmegaConf\n",
    "from hydra.utils import instantiate\n",
    "# typing\n",
    "from typing import Optional, Tuple, List, Callable, Union\n",
    "# nimrod\n",
    "from nimrod.data.core import DataModule\n",
    "from nimrod.utils import set_seed"
   ]
  },
  {
   "cell_type": "code",
   "execution_count": null,
   "metadata": {},
   "outputs": [
    {
     "name": "stderr",
     "output_type": "stream",
     "text": [
      "Seed set to 42\n"
     ]
    }
   ],
   "source": [
    "#| export\n",
    "set_seed(42)\n",
    "logger = logging.getLogger(__name__)\n",
    "# logger.setLevel(logging.DEBUG)\n",
    "plt.set_loglevel('INFO')"
   ]
  },
  {
   "cell_type": "markdown",
   "metadata": {},
   "source": [
    "## Overview\n",
    "A flexible, feature-rich dataset management module for machine learning image processing tasks, built on PyTorch and supporting various image dataset operations.\n",
    "\n",
    "## Core Components\n",
    "\n",
    "### ImageDataset Base Class\n",
    "A foundational class for image-based datasets with advanced visualization capabilities:\n",
    "- Provides methods for dataset exploration\n",
    "- Supports image grid and random sample visualization\n",
    "- Flexible image display options\n",
    "\n",
    "#### Key Methods\n",
    "- `show_idx()`: Display a single image by index\n",
    "- `show_grid()`: Create a grid of images\n",
    "- `show_random()`: Display random images from the dataset\n",
    "\n",
    "### MNIST Dataset\n",
    "A specialized implementation for the MNIST handwritten digit dataset:\n",
    "- Supports local and Hugging Face dataset loading\n",
    "- Configurable data transformations\n",
    "- Flexible data directory management\n",
    "\n",
    "#### Key Features\n",
    "- Optional data directory specification\n",
    "- Train/Test dataset selection\n",
    "- Normalization and tensor conversion\n",
    "- Streaming dataset support (planned)\n",
    "\n",
    "## Visualization Capabilities\n",
    "- Single image display\n",
    "- Multi-image grid visualization\n",
    "- Random sample generation\n",
    "- Customizable display dimensions\n",
    "\n",
    "## Dependencies\n",
    "- PyTorch\n",
    "- torchvision\n",
    "- Hugging Face Datasets\n",
    "- Lightning\n",
    "- Matplotlib\n",
    "- Numpy\n",
    "\n",
    "## Usage Examples\n",
    "```python\n",
    "# Create MNIST dataset\n",
    "dataset = MNISTDataset(\n",
    "    data_dir='../data/image', \n",
    "    train=True, \n",
    "    transforms=transforms.Compose([\n",
    "        transforms.ToTensor(),\n",
    "        transforms.Normalize((0.1307,), (0.3081,))\n",
    "    ])\n",
    ")\n",
    "\n",
    "# Visualize a random sample\n",
    "dataset.show_random(n=3)\n",
    "\n",
    "# Get dataset details\n",
    "print(f\"Dataset size: {len(dataset)}\")\n",
    "```"
   ]
  },
  {
   "attachments": {},
   "cell_type": "markdown",
   "metadata": {},
   "source": [
    "## ImageDataset base class"
   ]
  },
  {
   "cell_type": "code",
   "execution_count": null,
   "metadata": {},
   "outputs": [],
   "source": [
    "#| export\n",
    "class ImageDataset(Dataset):\n",
    "    \" Base class for image datasets providing visualization of (image, label) samples\"\n",
    "\n",
    "    def __init__(self):\n",
    "        logger.info(\"ImageDataset: init\")\n",
    "        super().__init__()\n",
    "\n",
    "    def show_idx(self,\n",
    "            index:int # Index of the (image,label) sample to visualize\n",
    "        ):\n",
    "        \"display image from data point index of a image dataset\"\n",
    "        X, y = self.__getitem__(index)\n",
    "        plt.figure(figsize = (1, 1))\n",
    "        plt.imshow(X.numpy().reshape(28,28),cmap='gray')\n",
    "        plt.title(f\"Label: {int(y)}\")\n",
    "        plt.show()\n",
    "\n",
    "    @staticmethod\n",
    "    def show_grid(\n",
    "            imgs: List[torch.Tensor], # python list of images dim (C,H,W)\n",
    "            save_path=None, # path where image can be saved\n",
    "            dims:Tuple[int,int] = (28,28)\n",
    "        ):\n",
    "        \"display list of mnist-like images (C,H,W)\"\n",
    "        if not isinstance(imgs, list):\n",
    "            imgs = [imgs]\n",
    "        fig, axs = plt.subplots(ncols=len(imgs), squeeze=False)\n",
    "        for i, img in enumerate(imgs):\n",
    "            img = img.detach()\n",
    "            axs[0, i].imshow(img.numpy().reshape(dims[0],dims[1]))\n",
    "            axs[0, i].set(xticklabels=[], yticklabels=[], xticks=[], yticks=[])\n",
    "        if save_path:\n",
    "            plt.savefig(save_path)\n",
    "\n",
    "    def show_random(\n",
    "            self,\n",
    "            n:int=3, # number of images to display\n",
    "            dims:Tuple[int,int] = (28,28)\n",
    "        ):\n",
    "        \"display grid of random images\"\n",
    "        indices = torch.randint(0,len(self), (n,))\n",
    "        images = []\n",
    "        for index in indices:\n",
    "            X, y = self.__getitem__(index)\n",
    "            X = X.reshape(dims[0],dims[1])\n",
    "            images.append(X)\n",
    "        self.show_grid(images)\n",
    "        "
   ]
  },
  {
   "attachments": {},
   "cell_type": "markdown",
   "metadata": {},
   "source": [
    "## MNIST"
   ]
  },
  {
   "attachments": {},
   "cell_type": "markdown",
   "metadata": {},
   "source": [
    "### MNIST dataset"
   ]
  },
  {
   "cell_type": "code",
   "execution_count": null,
   "metadata": {},
   "outputs": [
    {
     "name": "stdout",
     "output_type": "stream",
     "text": [
      "DatasetInfo(description='',\n",
      "            citation='',\n",
      "            homepage='',\n",
      "            license='',\n",
      "            features={'image': Image(mode=None, decode=True, id=None),\n",
      "                      'label': ClassLabel(names=['0',\n",
      "                                                 '1',\n",
      "                                                 '2',\n",
      "                                                 '3',\n",
      "                                                 '4',\n",
      "                                                 '5',\n",
      "                                                 '6',\n",
      "                                                 '7',\n",
      "                                                 '8',\n",
      "                                                 '9'],\n",
      "                                          id=None)},\n",
      "            post_processed=None,\n",
      "            supervised_keys=None,\n",
      "            task_templates=None,\n",
      "            builder_name='parquet',\n",
      "            dataset_name='mnist',\n",
      "            config_name='mnist',\n",
      "            version=0.0.0,\n",
      "            splits={'test': SplitInfo(name='test',\n",
      "                                      num_bytes=2917782,\n",
      "                                      num_examples=10000,\n",
      "                                      shard_lengths=None,\n",
      "                                      dataset_name='mnist'),\n",
      "                    'train': SplitInfo(name='train',\n",
      "                                       num_bytes=17478900,\n",
      "                                       num_examples=60000,\n",
      "                                       shard_lengths=None,\n",
      "                                       dataset_name='mnist')},\n",
      "            download_checksums={'hf://datasets/mnist@77f3279092a1c1579b2250db8eafed0ad422088c/mnist/test-00000-of-00001.parquet': {'checksum': None,\n",
      "                                                                                                                                   'num_bytes': 2595890},\n",
      "                                'hf://datasets/mnist@77f3279092a1c1579b2250db8eafed0ad422088c/mnist/train-00000-of-00001.parquet': {'checksum': None,\n",
      "                                                                                                                                    'num_bytes': 15561616}},\n",
      "            download_size=18157506,\n",
      "            post_processing_size=None,\n",
      "            dataset_size=20396682,\n",
      "            size_in_bytes=38554188)\n"
     ]
    }
   ],
   "source": [
    "#| hide\n",
    "name = \"mnist\"\n",
    "ds_builder = load_dataset_builder(name)\n",
    "pprint(ds_builder.info)"
   ]
  },
  {
   "cell_type": "code",
   "execution_count": null,
   "metadata": {},
   "outputs": [],
   "source": [
    "#| export \n",
    "\n",
    "class MNISTDataset(ImageDataset):\n",
    "    \"MNIST digit dataset\"\n",
    "\n",
    "    def __init__(\n",
    "        self,\n",
    "        data_dir:Optional[str]='../data/image', # path where data is saved if None default to hugging face cache\n",
    "        train = True, # train or test dataset\n",
    "        transforms:Optional[transforms.Compose]=transforms.Compose([\n",
    "                transforms.ToTensor(),\n",
    "                transforms.Normalize((0.1307,), (0.3081,))]),\n",
    "        streaming:bool = False # TODO: support and test streaming datasest\n",
    "    ):\n",
    "\n",
    "        logger.info(\"MNISTDataset: init\")\n",
    "        if data_dir is not None:\n",
    "            os.makedirs(data_dir, exist_ok=True)\n",
    "        super().__init__()\n",
    "\n",
    "        split = 'train' if train else 'test'\n",
    "\n",
    "        hf_ds = load_dataset(\n",
    "            'mnist',\n",
    "            split=split,\n",
    "            cache_dir=data_dir,\n",
    "            download_mode='reuse_dataset_if_exists',\n",
    "            streaming=streaming\n",
    "        )\n",
    "        self.images = hf_ds['image']\n",
    "        self.labels = hf_ds['label']\n",
    "        self.transform = transforms\n",
    "\n",
    "    def __len__(self) -> int: # length of dataset\n",
    "        return len(self.images)\n",
    "    \n",
    "    def __getitem__(\n",
    "        self,\n",
    "        idx:int # index into the dataset\n",
    "    ) -> tuple[torch.FloatTensor, int]: # Y image data, x digit number\n",
    "      \n",
    "        image = np.array(self.images[idx])\n",
    "        label = self.labels[idx]\n",
    "        if self.transform:\n",
    "            image = self.transform(image)\n",
    "        return image, label\n",
    "    \n",
    "    def train_dev_split(\n",
    "        self,\n",
    "        ratio:float, # percentage of train/dev split,\n",
    "    ) -> tuple[Dataset, Dataset]: # train and set mnnist datasets\n",
    "\n",
    "        train_set_size = int(len(self.images) * ratio)\n",
    "        valid_set_size = len(self.images) - train_set_size\n",
    "        ds = list(zip(self.images, self.labels))\n",
    "        # split the train set into two randomly sample\n",
    "        train_set, valid_set = data.random_split(ds, [train_set_size, valid_set_size])\n",
    "        return train_set, valid_set\n",
    "\n"
   ]
  },
  {
   "cell_type": "markdown",
   "metadata": {},
   "source": [
    "### Usage\n",
    "Setup MNIST dataset. Download data if not found in specified location."
   ]
  },
  {
   "cell_type": "code",
   "execution_count": null,
   "metadata": {},
   "outputs": [
    {
     "name": "stderr",
     "output_type": "stream",
     "text": [
      "[19:44:48] INFO - MNISTDataset: init\n",
      "[19:44:48] INFO - ImageDataset: init\n"
     ]
    }
   ],
   "source": [
    "test = MNISTDataset(data_dir=None, train=True, transforms=transforms.ToTensor())"
   ]
  },
  {
   "cell_type": "code",
   "execution_count": null,
   "metadata": {},
   "outputs": [
    {
     "name": "stdout",
     "output_type": "stream",
     "text": [
      " X: torch.Size([1, 28, 28]), y: 5\n",
      "torch.Size([64, 1, 28, 28]) torch.Size([64])\n"
     ]
    }
   ],
   "source": [
    "print(f\" X: {test[0][0].shape}, y: {test[0][1]}\")\n",
    "dl = DataLoader(test, batch_size=64)\n",
    "print(next(iter(dl))[0].shape, next(iter(dl))[1].shape)\n"
   ]
  },
  {
   "cell_type": "code",
   "execution_count": null,
   "metadata": {},
   "outputs": [
    {
     "name": "stdout",
     "output_type": "stream",
     "text": [
      "torch.float32 <class 'int'>\n",
      "Number of samples in the dataset: 60000\n",
      "torch.Size([1, 28, 28]) 5 torch.FloatTensor <class 'int'>\n"
     ]
    },
    {
     "data": {
      "image/png": "[encoded data removed]",
      "text/plain": [
       "<Figure size 100x100 with 1 Axes>"
      ]
     },
     "metadata": {},
     "output_type": "display_data"
    },
    {
     "name": "stdout",
     "output_type": "stream",
     "text": [
      "48000 12000\n"
     ]
    }
   ],
   "source": [
    "# output ( (C,H,W), int)\n",
    "print(test[0][0].dtype, type(test[0][1]))\n",
    "print(f\"Number of samples in the dataset: {len(test)}\")\n",
    "\n",
    "# get item helper\n",
    "X, y = test[0]\n",
    "print(X.shape, y, X.type(), type(y))\n",
    "\n",
    "# display each digit\n",
    "test.show_idx(0)\n",
    "\n",
    "# split data\n",
    "train, dev = test.train_dev_split(0.8)\n",
    "print(len(train), len(dev))"
   ]
  },
  {
   "attachments": {},
   "cell_type": "markdown",
   "metadata": {},
   "source": [
    "### Instantiate from config file\n",
    "It is convenient to keep setup of specific dataset for an experiment in a config file for reproductibility"
   ]
  },
  {
   "cell_type": "code",
   "execution_count": null,
   "metadata": {},
   "outputs": [
    {
     "name": "stderr",
     "output_type": "stream",
     "text": [
      "[19:44:52] INFO - MNISTDataset: init\n",
      "[19:44:52] INFO - ImageDataset: init\n"
     ]
    },
    {
     "name": "stdout",
     "output_type": "stream",
     "text": [
      "{'_target_': 'nimrod.image.datasets.MNISTDataset', 'data_dir': '../data/image', 'train': False, 'transforms': {'_target_': 'torchvision.transforms.ToTensor'}}\n",
      "torch.float32 <class 'int'>\n",
      "Number of samples in the dataset: 10000\n",
      "torch.Size([1, 28, 28]) 7 torch.FloatTensor <class 'int'>\n"
     ]
    },
    {
     "data": {
      "image/png": "[encoded data removed]",
      "text/plain": [
       "<Figure size 100x100 with 1 Axes>"
      ]
     },
     "metadata": {},
     "output_type": "display_data"
    }
   ],
   "source": [
    "# instantiate dataset from yaml config file\n",
    "cfg = OmegaConf.load(\"../config/image/data/mnist.yaml\")\n",
    "print(cfg.dataset)\n",
    "test = instantiate(cfg.dataset)\n",
    "type(test)\n",
    "\n",
    "# output ( (B,C, H,W), int)\n",
    "print(test[0][0].dtype, type(test[0][1]))\n",
    "print(f\"Number of samples in the dataset: {len(test)}\")\n",
    "\n",
    "# get item helper\n",
    "X, y = test[0]\n",
    "print(X.shape, y, X.type(), type(y))\n",
    "\n",
    "# display each digit\n",
    "test.show_idx(0)\n",
    "\n",
    "# split data\n",
    "train, dev = test.train_dev_split(0.8)\n"
   ]
  },
  {
   "attachments": {},
   "cell_type": "markdown",
   "metadata": {},
   "source": [
    "### MNIST DataModule"
   ]
  },
  {
   "cell_type": "code",
   "execution_count": null,
   "metadata": {},
   "outputs": [],
   "source": [
    "#| export\n",
    "\n",
    "class MNISTDataModule(DataModule, LightningDataModule):\n",
    "    def __init__(self,\n",
    "                 data_dir: Optional[str] = \"~/Data/\", # path to source data dir\n",
    "                 transforms: Union[transforms.Compose, Callable, None] = transforms.Compose([\n",
    "                     transforms.ToTensor(),\n",
    "                     transforms.Normalize((0.1307,), (0.3081,))\n",
    "                 ]),\n",
    "                 train_val_test_split:List[float] = [0.8, 0.1, 0.1], # train val test %\n",
    "                 batch_size: int = 64, # size of compute batch\n",
    "                 num_workers: int = 0, # num_workers equal 0 means that it’s the main process that will do the data loading when needed, num_workers equal 1 is the same as any n, but you’ll only have a single worker, so it might be slow\n",
    "                 pin_memory: bool = False, # If you load your samples in the Dataset on CPU and would like to push it during training to the GPU, you can speed up the host to device transfer by enabling pin_memory. This lets your DataLoader allocate the samples in page-locked memory, which speeds-up the transfer\n",
    "                 persistent_workers: bool = False\n",
    "                 ):\n",
    "\n",
    "        logger.info(\"Init MNIST DataModule\")\n",
    "        super().__init__(train_val_test_split, batch_size, num_workers, pin_memory, persistent_workers)\n",
    "        self.save_hyperparameters()\n",
    "\n",
    "    @property\n",
    "    def num_classes(self) -> int: # num of classes in dataset\n",
    "        return 10\n",
    "\n",
    "    def prepare_data(self) -> None:\n",
    "        \"\"\"Download data if needed \n",
    "        \"\"\"\n",
    "        # train set\n",
    "        MNISTDataset(\n",
    "            data_dir = self.hparams.data_dir,\n",
    "            train=True,\n",
    "        )\n",
    "        # test set\n",
    "        MNISTDataset(\n",
    "            data_dir = self.hparams.data_dir,\n",
    "            train=False\n",
    "        )\n",
    "\n",
    "    def setup(self, stage: Optional[str] = None) -> None:\n",
    "        # called on every GPU when distrib\n",
    "        # stage: {fit,validate,test,predict}\\n\",\n",
    "        # concat train & test mnist dataset and randomly generate train, eval, test sets\n",
    "        if not self.data_train or not self.data_val or not self.data_test:\n",
    "            # ((B, H, W), int)\n",
    "            trainset = MNISTDataset(self.hparams.data_dir, train=True, transforms=self.transforms)\n",
    "            testset = MNISTDataset(self.hparams.data_dir, train=False, transforms=self.transforms)\n",
    "            dataset = ConcatDataset(datasets=[trainset, testset])\n",
    "            # TODO: keep test set untouched\n",
    "            lengths = [int(split * len(dataset)) for split in self.hparams.train_val_test_split]\n",
    "            self.data_train, self.data_val, self.data_test = random_split(dataset=dataset, lengths=lengths)\n",
    "        "
   ]
  },
  {
   "cell_type": "code",
   "execution_count": null,
   "metadata": {},
   "outputs": [
    {
     "name": "stdout",
     "output_type": "stream",
     "text": [
      "[('__module__', False),\n",
      " ('__init__', False),\n",
      " ('prepare_data', True),\n",
      " ('setup', True),\n",
      " ('train_dataloader', False),\n",
      " ('val_dataloader', False),\n",
      " ('test_dataloader', False),\n",
      " ('teardown', False),\n",
      " ('state_dict', False),\n",
      " ('load_state_dict', False),\n",
      " ('_sequential_split', False),\n",
      " ('__dict__', False),\n",
      " ('__weakref__', False),\n",
      " ('__doc__', False),\n",
      " ('__abstractmethods__', False),\n",
      " ('_abc_impl', False)]\n"
     ]
    }
   ],
   "source": [
    "\n",
    "# check for abstract methods\n",
    "pprint([(name, getattr(method,\"__isabstractmethod__\", False)) for (name, method) in DataModule.__dict__.items()])\n"
   ]
  },
  {
   "attachments": {},
   "cell_type": "markdown",
   "metadata": {},
   "source": [
    "### Usage"
   ]
  },
  {
   "cell_type": "code",
   "execution_count": null,
   "metadata": {},
   "outputs": [
    {
     "name": "stderr",
     "output_type": "stream",
     "text": [
      "[19:44:56] INFO - Init MNIST DataModule\n",
      "[19:44:56] INFO - MNISTDataset: init\n",
      "[19:44:56] INFO - ImageDataset: init\n",
      "[19:45:00] INFO - MNISTDataset: init\n",
      "[19:45:00] INFO - ImageDataset: init\n",
      "[19:45:04] INFO - MNISTDataset: init\n",
      "[19:45:04] INFO - ImageDataset: init\n",
      "[19:45:09] INFO - MNISTDataset: init\n",
      "[19:45:09] INFO - ImageDataset: init\n"
     ]
    },
    {
     "name": "stdout",
     "output_type": "stream",
     "text": [
      "56000 7000 7000\n",
      "X dim(B,C,W,H):  torch.Size([64, 1, 28, 28]) Y: dim(B) torch.Size([64])\n",
      "torch.Size([1, 28, 28])\n",
      "2 None\n",
      "[9, 7, 9, 4, 4]\n"
     ]
    },
    {
     "data": {
      "image/png": "[encoded data removed]",
      "text/plain": [
       "<Figure size 640x480 with 5 Axes>"
      ]
     },
     "metadata": {},
     "output_type": "display_data"
    }
   ],
   "source": [
    "#| notest\n",
    "\n",
    "dm = MNISTDataModule(\n",
    "    data_dir='../data/image',\n",
    "    train_val_test_split=[0.8, 0.1, 0.1],\n",
    "    batch_size = 64,\n",
    "    num_workers = 0, # main process\n",
    "    pin_memory= False,\n",
    "    persistent_workers=False\n",
    ")\n",
    "\n",
    "# download or reference data from dir\n",
    "dm.prepare_data()\n",
    "\n",
    "# define train, eval, test subsets\n",
    "dm.setup()\n",
    "\n",
    "# len of splits\n",
    "print(len(dm.data_train), len(dm.data_val), len(dm.data_test))\n",
    "\n",
    "# access data batches via dataloader\n",
    "test_dl = dm.test_dataloader()\n",
    "X,Y = next(iter(test_dl))\n",
    "print(\"X dim(B,C,W,H): \", X.shape, \"Y: dim(B)\", Y.shape)\n",
    "\n",
    "# access data points directly by index\n",
    "print(len(dm.data_test[0]), print(dm.data_test[0][0].shape))\n",
    "imgs = [dm.data_test[i][0] for i in range(5)]\n",
    "\n",
    "# display image samples\n",
    "ImageDataset.show_grid(imgs)\n",
    "\n",
    "# labels are ints\n",
    "lbls = [dm.data_test[i][1] for i in range(5)]\n",
    "print(lbls)"
   ]
  },
  {
   "attachments": {},
   "cell_type": "markdown",
   "metadata": {},
   "source": [
    "### Config"
   ]
  },
  {
   "cell_type": "code",
   "execution_count": null,
   "metadata": {},
   "outputs": [
    {
     "name": "stderr",
     "output_type": "stream",
     "text": [
      "[19:45:12] INFO - Init MNIST DataModule\n",
      "[19:45:12] INFO - MNISTDataset: init\n",
      "[19:45:12] INFO - ImageDataset: init\n"
     ]
    },
    {
     "name": "stdout",
     "output_type": "stream",
     "text": [
      "{'_target_': 'nimrod.image.datasets.MNISTDataModule', 'data_dir': '../data/image', 'train_val_test_split': [0.8, 0.1, 0.1], 'batch_size': 64, 'num_workers': 0, 'pin_memory': False, 'persistent_workers': False}\n"
     ]
    },
    {
     "name": "stderr",
     "output_type": "stream",
     "text": [
      "[19:45:17] INFO - MNISTDataset: init\n",
      "[19:45:17] INFO - ImageDataset: init\n",
      "[19:45:20] INFO - MNISTDataset: init\n",
      "[19:45:20] INFO - ImageDataset: init\n",
      "[19:45:24] INFO - MNISTDataset: init\n",
      "[19:45:24] INFO - ImageDataset: init\n"
     ]
    },
    {
     "name": "stdout",
     "output_type": "stream",
     "text": [
      "<class 'nimrod.image.datasets.MNISTDataModule'>\n"
     ]
    },
    {
     "data": {
      "image/png": "[encoded data removed]",
      "text/plain": [
       "<Figure size 640x480 with 5 Axes>"
      ]
     },
     "metadata": {},
     "output_type": "display_data"
    }
   ],
   "source": [
    "#| notest\n",
    "\n",
    "cfg = OmegaConf.load(\"../config/image/data/mnist.yaml\")\n",
    "print(cfg.datamodule)\n",
    "dm = instantiate(cfg.datamodule)\n",
    "dm.prepare_data()\n",
    "dm.setup()\n",
    "test_dl = dm.test_dataloader()\n",
    "len(dm.data_test[0])\n",
    "imgs = [dm.data_test[i][0] for i in range(5)]\n",
    "ImageDataset.show_grid(imgs)\n",
    "print(type(dm))"
   ]
  },
  {
   "cell_type": "code",
   "execution_count": null,
   "metadata": {},
   "outputs": [],
   "source": [
    "#| hide\n",
    "import nbdev; nbdev.nbdev_export()"
   ]
  }
 ],
 "metadata": {
  "kernelspec": {
   "display_name": "python3",
   "language": "python",
   "name": "python3"
  }
 },
 "nbformat": 4,
 "nbformat_minor": 4
}
