{
 "cells": [
  {
   "attachments": {},
   "cell_type": "markdown",
   "metadata": {},
   "source": [
    "# Image Datasets\n",
    "\n",
    "> Image datasets"
   ]
  },
  {
   "cell_type": "code",
   "execution_count": null,
   "metadata": {},
   "outputs": [],
   "source": [
    "#| default_exp image.datasets"
   ]
  },
  {
   "cell_type": "code",
   "execution_count": null,
   "metadata": {},
   "outputs": [],
   "source": [
    "#| hide\n",
    "%load_ext autoreload\n",
    "%autoreload 2\n",
    "from nbdev.showdoc import *"
   ]
  },
  {
   "cell_type": "code",
   "execution_count": null,
   "metadata": {},
   "outputs": [
    {
     "name": "stderr",
     "output_type": "stream",
     "text": [
      "Seed set to 42\n"
     ]
    }
   ],
   "source": [
    "#| export\n",
    "\n",
    "import torch\n",
    "import torch.utils.data as data\n",
    "from torch.utils.data import ConcatDataset, DataLoader, Dataset, random_split\n",
    "import torchvision\n",
    "from torchvision.transforms import transforms\n",
    "from torchvision.datasets import MNIST\n",
    "from torchvision.utils import make_grid\n",
    "from pytorch_lightning import LightningDataModule\n",
    "\n",
    "import pandas as pd\n",
    "from matplotlib import pyplot as plt\n",
    "\n",
    "from omegaconf import OmegaConf\n",
    "from hydra.utils import instantiate\n",
    "\n",
    "from typing import Any, Dict, Optional, Tuple, List\n",
    "from nimrod.data.core import DataModule\n",
    "from nimrod.utils import logger, set_seed\n",
    "\n",
    "set_seed(42)\n"
   ]
  },
  {
   "attachments": {},
   "cell_type": "markdown",
   "metadata": {},
   "source": [
    "## ImageDataset base class"
   ]
  },
  {
   "cell_type": "code",
   "execution_count": null,
   "metadata": {},
   "outputs": [],
   "source": [
    "#| export\n",
    "class ImageDataset(Dataset):\n",
    "    \" Base class for image datasets providing visualization of (image, label) samples\"\n",
    "\n",
    "    def __init__(self):\n",
    "        pass\n",
    "\n",
    "    def show_idx(self,\n",
    "        index:int # Index of the (image,label) sample to visualize\n",
    "        ):\n",
    "        \"display image from data point index of a image dataset\"\n",
    "        X, y = self.__getitem__(index)\n",
    "        plt.figure(figsize = (1, 1))\n",
    "        plt.imshow(X.numpy().reshape(28,28),cmap='gray')\n",
    "        plt.title(f\"Label: {int(y)}\")\n",
    "        plt.show()\n",
    "\n",
    "    @staticmethod\n",
    "    def show_grid(\n",
    "        imgs: List[torch.Tensor], # python list of images dim (C,H,W)\n",
    "        save_path=None # path where image can be saved\n",
    "        ):\n",
    "        \"display list of mnist-like images (C,H,W)\"\n",
    "        if not isinstance(imgs, list):\n",
    "            imgs = [imgs]\n",
    "        fig, axs = plt.subplots(ncols=len(imgs), squeeze=False)\n",
    "        for i, img in enumerate(imgs):\n",
    "            img = img.detach()\n",
    "            axs[0, i].imshow(img.numpy().reshape(28,28))\n",
    "            axs[0, i].set(xticklabels=[], yticklabels=[], xticks=[], yticks=[])\n",
    "        if save_path:\n",
    "            plt.savefig(save_path)\n",
    "\n",
    "    def show_random(self,\n",
    "        n=3 # number of images to display\n",
    "        ):\n",
    "        \"display grid of random images\"\n",
    "        indices = torch.randint(0,len(self), (n,))\n",
    "        images = []\n",
    "        for index in indices:\n",
    "            X, y = self.__getitem__(index)\n",
    "            X = X.reshape(28,28)\n",
    "            images.append(X)\n",
    "        self.show_grid(images)\n",
    "        "
   ]
  },
  {
   "cell_type": "code",
   "execution_count": null,
   "metadata": {},
   "outputs": [
    {
     "data": {
      "text/markdown": [
       "---\n",
       "\n",
       "[source](https://github.com/slegroux/nimrod/blob/main/nimrod/image/datasets.py#L34){target=\"_blank\" style=\"float:right; font-size:smaller\"}\n",
       "\n",
       "### ImageDataset.show_idx\n",
       "\n",
       ">      ImageDataset.show_idx (index:int)\n",
       "\n",
       "*display image from data point index of a image dataset*\n",
       "\n",
       "|    | **Type** | **Details** |\n",
       "| -- | -------- | ----------- |\n",
       "| index | int | Index of the (image,label) sample to visualize |"
      ],
      "text/plain": [
       "---\n",
       "\n",
       "[source](https://github.com/slegroux/nimrod/blob/main/nimrod/image/datasets.py#L34){target=\"_blank\" style=\"float:right; font-size:smaller\"}\n",
       "\n",
       "### ImageDataset.show_idx\n",
       "\n",
       ">      ImageDataset.show_idx (index:int)\n",
       "\n",
       "*display image from data point index of a image dataset*\n",
       "\n",
       "|    | **Type** | **Details** |\n",
       "| -- | -------- | ----------- |\n",
       "| index | int | Index of the (image,label) sample to visualize |"
      ]
     },
     "execution_count": null,
     "metadata": {},
     "output_type": "execute_result"
    }
   ],
   "source": [
    "show_doc(ImageDataset.show_idx)"
   ]
  },
  {
   "attachments": {},
   "cell_type": "markdown",
   "metadata": {},
   "source": [
    "## MNIST"
   ]
  },
  {
   "attachments": {},
   "cell_type": "markdown",
   "metadata": {},
   "source": [
    "### MNIST dataset"
   ]
  },
  {
   "cell_type": "code",
   "execution_count": null,
   "metadata": {},
   "outputs": [],
   "source": [
    "#| export \n",
    "\n",
    "class MNISTDataset(ImageDataset):\n",
    "    \"MNIST digit dataset\"\n",
    "\n",
    "    def __init__(\n",
    "        self,\n",
    "        data_dir:str='~/Data', # path where data is saved\n",
    "        train = True, # train or test dataset\n",
    "        transform:torchvision.transforms.transforms=torchvision.transforms.ToTensor() # data formatting\n",
    "        # TODO: add noramlization?\n",
    "        # torchvision.transforms.Compose([torchvision.transforms.ToTensor(), torchvision.transforms.Normalize(0.1307,), (0.3081,))])\n",
    "\n",
    "    ):\n",
    "\n",
    "        super().__init__()\n",
    "\n",
    "        self.ds = MNIST(\n",
    "            data_dir,\n",
    "            train = train,\n",
    "            transform=transform, \n",
    "            download=True\n",
    "        )\n",
    "\n",
    "    def __len__(self) -> int: # length of dataset\n",
    "        return len(self.ds)\n",
    "    \n",
    "    def __getitem__(self, idx # index into the dataset\n",
    "                    ) -> tuple[torch.FloatTensor, int]: # Y image data, x digit number\n",
    "        x = self.ds[idx][0]\n",
    "        y = self.ds[idx][1]\n",
    "        return x, y\n",
    "    \n",
    "    def train_dev_split(self,\n",
    "        ratio:float, # percentage of train/dev split,\n",
    "        seed:int=42 # rand generator seed\n",
    "    ) -> tuple[torchvision.datasets.MNIST, torchvision.datasets.MNIST]: # train and set mnnist datasets\n",
    "        train_set_size = int(len(self.ds) * ratio)\n",
    "        valid_set_size = len(self.ds) - train_set_size\n",
    "\n",
    "        # split the train set into two\n",
    "        train_set, valid_set = data.random_split(self.ds, [train_set_size, valid_set_size])\n",
    "        # TODO: cast to ImageDataset to allow for drawing\n",
    "        # train_set, valid_set = Dataset(train_set),j Dataset(valid_set)\n",
    "        return train_set, valid_set\n",
    "\n"
   ]
  },
  {
   "cell_type": "code",
   "execution_count": null,
   "metadata": {},
   "outputs": [
    {
     "data": {
      "text/markdown": [
       "---\n",
       "\n",
       "[source](https://github.com/slegroux/nimrod/blob/main/nimrod/image/datasets.py#L105){target=\"_blank\" style=\"float:right; font-size:smaller\"}\n",
       "\n",
       "### MNISTDataset.train_dev_split\n",
       "\n",
       ">      MNISTDataset.train_dev_split (ratio:float, seed:int=42)\n",
       "\n",
       "|    | **Type** | **Default** | **Details** |\n",
       "| -- | -------- | ----------- | ----------- |\n",
       "| ratio | float |  | percentage of train/dev split, |\n",
       "| seed | int | 42 | rand generator seed |\n",
       "| **Returns** | **tuple** |  | **train and set mnnist datasets** |"
      ],
      "text/plain": [
       "---\n",
       "\n",
       "[source](https://github.com/slegroux/nimrod/blob/main/nimrod/image/datasets.py#L105){target=\"_blank\" style=\"float:right; font-size:smaller\"}\n",
       "\n",
       "### MNISTDataset.train_dev_split\n",
       "\n",
       ">      MNISTDataset.train_dev_split (ratio:float, seed:int=42)\n",
       "\n",
       "|    | **Type** | **Default** | **Details** |\n",
       "| -- | -------- | ----------- | ----------- |\n",
       "| ratio | float |  | percentage of train/dev split, |\n",
       "| seed | int | 42 | rand generator seed |\n",
       "| **Returns** | **tuple** |  | **train and set mnnist datasets** |"
      ]
     },
     "execution_count": null,
     "metadata": {},
     "output_type": "execute_result"
    }
   ],
   "source": [
    "show_doc(MNISTDataset.train_dev_split)"
   ]
  },
  {
   "cell_type": "markdown",
   "metadata": {},
   "source": [
    "### Usage\n",
    "Setup MNIST dataset. Download data if not found in specified location."
   ]
  },
  {
   "cell_type": "code",
   "execution_count": null,
   "metadata": {},
   "outputs": [
    {
     "name": "stdout",
     "output_type": "stream",
     "text": [
      "Dataset MNIST\n",
      "    Number of datapoints: 10000\n",
      "    Root location: ../data/image\n",
      "    Split: Test\n",
      "    StandardTransform\n",
      "Transform: ToTensor() torch.float32 <class 'int'>\n",
      "Number of samples in the dataset: 10000\n",
      "torch.Size([1, 28, 28]) 7 torch.FloatTensor <class 'int'>\n"
     ]
    },
    {
     "data": {
      "image/png": "[encoded data removed]",
      "text/plain": [
       "<Figure size 100x100 with 1 Axes>"
      ]
     },
     "metadata": {},
     "output_type": "display_data"
    }
   ],
   "source": [
    "# define test set (train=False)\n",
    "test = MNISTDataset('../data/image', train=False)\n",
    "\n",
    "# output ( (C,H,W), int)\n",
    "print(test.ds, test.ds[0][0].dtype, type(test.ds[0][1]))\n",
    "print(f\"Number of samples in the dataset: {len(test)}\")\n",
    "\n",
    "# get item helper\n",
    "X, y = test[0]\n",
    "print(X.shape, y, X.type(), type(y))\n",
    "\n",
    "# display each digit\n",
    "test.show_idx(0)\n",
    "\n",
    "# split data\n",
    "train, dev = test.train_dev_split(0.8)"
   ]
  },
  {
   "attachments": {},
   "cell_type": "markdown",
   "metadata": {},
   "source": [
    "### Instantiate from config file\n",
    "It is convenient to keep setup of specific dataset for an experiment in a config file for reproductibility"
   ]
  },
  {
   "cell_type": "code",
   "execution_count": null,
   "metadata": {},
   "outputs": [
    {
     "name": "stdout",
     "output_type": "stream",
     "text": [
      "{'_target_': 'nimrod.image.datasets.MNISTDataset', 'data_dir': '../data/image', 'train': False, 'transform': {'_target_': 'torchvision.transforms.ToTensor'}}\n",
      "Dataset MNIST\n",
      "    Number of datapoints: 10000\n",
      "    Root location: ../data/image\n",
      "    Split: Test\n",
      "    StandardTransform\n",
      "Transform: ToTensor() torch.float32 <class 'int'>\n",
      "Number of samples in the dataset: 10000\n",
      "torch.Size([1, 28, 28]) 7 torch.FloatTensor <class 'int'>\n"
     ]
    },
    {
     "data": {
      "image/png": "[encoded data removed]",
      "text/plain": [
       "<Figure size 100x100 with 1 Axes>"
      ]
     },
     "metadata": {},
     "output_type": "display_data"
    }
   ],
   "source": [
    "# instantiate dataset from yaml config file\n",
    "cfg = OmegaConf.load(\"../config/image/data/mnist.yaml\")\n",
    "print(cfg.dataset)\n",
    "test = instantiate(cfg.dataset)\n",
    "type(test)\n",
    "\n",
    "# output ( (B,C, H,W), int)\n",
    "print(test.ds, test.ds[0][0].dtype, type(test.ds[0][1]))\n",
    "print(f\"Number of samples in the dataset: {len(test)}\")\n",
    "\n",
    "# get item helper\n",
    "X, y = test[0]\n",
    "print(X.shape, y, X.type(), type(y))\n",
    "\n",
    "# display each digit\n",
    "test.show_idx(0)\n",
    "\n",
    "# split data\n",
    "train, dev = test.train_dev_split(0.8)\n"
   ]
  },
  {
   "attachments": {},
   "cell_type": "markdown",
   "metadata": {},
   "source": [
    "### MNIST DataModule"
   ]
  },
  {
   "cell_type": "code",
   "execution_count": null,
   "metadata": {},
   "outputs": [],
   "source": [
    "#| export\n",
    "\n",
    "class MNISTDataModule(DataModule, LightningDataModule):\n",
    "    def __init__(self,\n",
    "                 data_dir: str = \"~/Data/\", # path to source data dir\n",
    "                 train_val_test_split:List[float] = [0.8, 0.1, 0.1], # train val test %\n",
    "                 batch_size: int = 64, # size of compute batch\n",
    "                 num_workers: int = 0, # num_workers equal 0 means that it’s the main process that will do the data loading when needed, num_workers equal 1 is the same as any n, but you’ll only have a single worker, so it might be slow\n",
    "                 pin_memory: bool = False, # If you load your samples in the Dataset on CPU and would like to push it during training to the GPU, you can speed up the host to device transfer by enabling pin_memory. This lets your DataLoader allocate the samples in page-locked memory, which speeds-up the transfer\n",
    "                 persistent_workers: bool = False\n",
    "                 ):\n",
    "\n",
    "        super().__init__(data_dir, train_val_test_split, batch_size, num_workers, pin_memory, persistent_workers)\n",
    "\n",
    "    @property\n",
    "    def num_classes(self) -> int: # num of classes in dataset\n",
    "        return 10\n",
    "\n",
    "    def prepare_data(self) -> None:\n",
    "        \"\"\"Download data if needed + format with MNISTDataset\n",
    "        \"\"\"\n",
    "        # train set\n",
    "        MNISTDataset(self.hparams.data_dir, train=True)\n",
    "        # test set\n",
    "        MNISTDataset(self.hparams.data_dir, train=False)\n",
    "\n",
    "    def setup(self, stage: Optional[str] = None) -> None:\n",
    "        # stage: {fit,validate,test,predict}\\n\",\n",
    "        # concat train & test mnist dataset and randomly generate train, eval, test sets\n",
    "        if not self.data_train or not self.data_val or not self.data_test:\n",
    "            # ((B, H, W), int)\n",
    "            trainset = MNISTDataset(self.hparams.data_dir, train=True, transform=self.transforms)\n",
    "            testset = MNISTDataset(self.hparams.data_dir, train=False, transform=self.transforms)\n",
    "            dataset = ConcatDataset(datasets=[trainset, testset])\n",
    "            # TODO: keep test set untouched\n",
    "            lengths = [int(split * len(dataset)) for split in self.hparams.train_val_test_split]\n",
    "            self.data_train, self.data_val, self.data_test = random_split(dataset=dataset, lengths=lengths)\n",
    "        "
   ]
  },
  {
   "cell_type": "code",
   "execution_count": null,
   "metadata": {},
   "outputs": [
    {
     "name": "stdout",
     "output_type": "stream",
     "text": [
      "[('__module__', False),\n",
      " ('__init__', False),\n",
      " ('prepare_data', True),\n",
      " ('setup', True),\n",
      " ('train_dataloader', False),\n",
      " ('val_dataloader', False),\n",
      " ('test_dataloader', False),\n",
      " ('teardown', False),\n",
      " ('state_dict', False),\n",
      " ('load_state_dict', False),\n",
      " ('__dict__', False),\n",
      " ('__weakref__', False),\n",
      " ('__doc__', False),\n",
      " ('__abstractmethods__', False),\n",
      " ('_abc_impl', False)]\n"
     ]
    }
   ],
   "source": [
    "from pprint import pprint\n",
    "# check for abstract methods\n",
    "pprint([(name, getattr(method,\"__isabstractmethod__\", False)) for (name, method) in DataModule.__dict__.items()])\n"
   ]
  },
  {
   "attachments": {},
   "cell_type": "markdown",
   "metadata": {},
   "source": [
    "### Usage"
   ]
  },
  {
   "cell_type": "code",
   "execution_count": null,
   "metadata": {},
   "outputs": [
    {
     "name": "stdout",
     "output_type": "stream",
     "text": [
      "56000 7000 7000\n",
      "X dim(B,C,W,H):  torch.Size([64, 1, 28, 28]) Y: dim(B) torch.Size([64])\n",
      "torch.Size([1, 28, 28])\n",
      "2 None\n",
      "[6, 7, 9, 8, 1]\n"
     ]
    },
    {
     "data": {
      "image/png": "[encoded data removed]",
      "text/plain": [
       "<Figure size 640x480 with 5 Axes>"
      ]
     },
     "metadata": {},
     "output_type": "display_data"
    }
   ],
   "source": [
    "# init\n",
    "dm = MNISTDataModule(\n",
    "    data_dir=\"../data/image\",train_val_test_split=[0.8, 0.1, 0.1],\n",
    "    batch_size = 64,\n",
    "    num_workers = 0, # main process\n",
    "    pin_memory= False,\n",
    "    persistent_workers=False\n",
    ")\n",
    "\n",
    "# download or reference data from dir\n",
    "dm.prepare_data()\n",
    "\n",
    "# define train, eval, test subsets\n",
    "dm.setup()\n",
    "\n",
    "# len of splits\n",
    "print(len(dm.data_train), len(dm.data_val), len(dm.data_test))\n",
    "\n",
    "# access data batches via dataloader\n",
    "test_dl = dm.test_dataloader()\n",
    "X,Y = next(iter(test_dl))\n",
    "print(\"X dim(B,C,W,H): \", X.shape, \"Y: dim(B)\", Y.shape)\n",
    "\n",
    "# access data points directly by index\n",
    "print(len(dm.data_test[0]), print(dm.data_test[0][0].shape))\n",
    "imgs = [dm.data_test[i][0] for i in range(5)]\n",
    "\n",
    "# display image samples\n",
    "ImageDataset.show_grid(imgs)\n",
    "\n",
    "# labels are ints\n",
    "lbls = [dm.data_test[i][1] for i in range(5)]\n",
    "print(lbls)"
   ]
  },
  {
   "attachments": {},
   "cell_type": "markdown",
   "metadata": {},
   "source": [
    "### Config"
   ]
  },
  {
   "cell_type": "code",
   "execution_count": null,
   "metadata": {},
   "outputs": [
    {
     "name": "stdout",
     "output_type": "stream",
     "text": [
      "{'_target_': 'nimrod.image.datasets.MNISTDataModule', 'data_dir': '../data/image', 'train_val_test_split': [0.8, 0.1, 0.1], 'batch_size': 64, 'num_workers': 0, 'pin_memory': False, 'persistent_workers': False}\n",
      "<class 'nimrod.image.datasets.MNISTDataModule'>\n"
     ]
    },
    {
     "data": {
      "image/png": "[encoded data removed]",
      "text/plain": [
       "<Figure size 640x480 with 5 Axes>"
      ]
     },
     "metadata": {},
     "output_type": "display_data"
    }
   ],
   "source": [
    "cfg = OmegaConf.load(\"../config/image/data/mnist.yaml\")\n",
    "print(cfg.datamodule)\n",
    "dm = instantiate(cfg.datamodule)\n",
    "dm.prepare_data()\n",
    "dm.setup()\n",
    "test_dl = dm.test_dataloader()\n",
    "len(dm.data_test[0])\n",
    "imgs = [dm.data_test[i][0] for i in range(5)]\n",
    "ImageDataset.show_grid(imgs)\n",
    "print(type(dm))"
   ]
  },
  {
   "cell_type": "code",
   "execution_count": null,
   "metadata": {},
   "outputs": [],
   "source": [
    "#| hide\n",
    "import nbdev; nbdev.nbdev_export()"
   ]
  },
  {
   "cell_type": "code",
   "execution_count": null,
   "metadata": {},
   "outputs": [],
   "source": []
  }
 ],
 "metadata": {
  "kernelspec": {
   "display_name": "python3",
   "language": "python",
   "name": "python3"
  }
 },
 "nbformat": 4,
 "nbformat_minor": 4
}
