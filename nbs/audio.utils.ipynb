{
 "cells": [
  {
   "attachments": {},
   "cell_type": "markdown",
   "metadata": {},
   "source": [
    "# Audio Utilities"
   ]
  },
  {
   "cell_type": "code",
   "execution_count": null,
   "metadata": {},
   "outputs": [],
   "source": [
    "#| default_exp audio.utils"
   ]
  },
  {
   "cell_type": "code",
   "execution_count": null,
   "metadata": {},
   "outputs": [],
   "source": [
    "#| hide\n",
    "%load_ext autoreload\n",
    "%autoreload 2\n",
    "from nbdev.showdoc import *"
   ]
  },
  {
   "cell_type": "code",
   "execution_count": null,
   "metadata": {},
   "outputs": [],
   "source": [
    "#| export\n",
    "import torch\n",
    "from matplotlib import pyplot as plt\n",
    "import torchaudio"
   ]
  },
  {
   "cell_type": "code",
   "execution_count": null,
   "metadata": {},
   "outputs": [],
   "source": [
    "#| export\n",
    "def plot_waveform(waveform, sample_rate, title=\"Waveform\", xlim=None, ylim=None):\n",
    "   waveform = waveform.numpy()\n",
    "   num_channels, num_frames = waveform.shape\n",
    "   time_axis = torch.arange(0, num_frames) / sample_rate\n",
    "\n",
    "   figure, axes = plt.subplots(num_channels, 1)\n",
    "   if num_channels == 1:\n",
    "       axes = [axes]\n",
    "   for c in range(num_channels):\n",
    "       axes[c].plot(time_axis, waveform[c], linewidth=1)\n",
    "       axes[c].grid(True)\n",
    "       if num_channels > 1:\n",
    "           axes[c].set_ylabel(f\"Channel {c+1}\")\n",
    "       if xlim:\n",
    "           axes[c].set_xlim(xlim)\n",
    "       if ylim:\n",
    "           axes[c].set_ylim(ylim)\n",
    "   figure.suptitle(title)\n",
    "   plt.show(block=False)\n"
   ]
  },
  {
   "cell_type": "code",
   "execution_count": null,
   "metadata": {},
   "outputs": [],
   "source": [
    "wav, sr = torchaudio.load(\"../data/audio/obama.wav\")\n",
    "plot_waveform(wav,sr)"
   ]
  },
  {
   "cell_type": "code",
   "execution_count": null,
   "metadata": {},
   "outputs": [],
   "source": [
    "#| hide\n",
    "import nbdev; nbdev.nbdev_export()"
   ]
  },
  {
   "cell_type": "code",
   "execution_count": null,
   "metadata": {},
   "outputs": [],
   "source": []
  }
 ],
 "metadata": {
  "kernelspec": {
   "display_name": "python3",
   "language": "python",
   "name": "python3"
  }
 },
 "nbformat": 4,
 "nbformat_minor": 2
}
