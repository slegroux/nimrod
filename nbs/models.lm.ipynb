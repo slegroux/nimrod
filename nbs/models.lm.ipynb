{
 "cells": [
  {
   "cell_type": "markdown",
   "metadata": {},
   "source": [
    "# Neural Net Language models\n",
    "\n",
    "> Basic neuralnet-based language modeling "
   ]
  },
  {
   "cell_type": "code",
   "execution_count": 2,
   "metadata": {},
   "outputs": [],
   "source": [
    "#| default_exp models.lm"
   ]
  },
  {
   "cell_type": "code",
   "execution_count": 3,
   "metadata": {},
   "outputs": [],
   "source": [
    "#| hide\n",
    "%load_ext autoreload\n",
    "%autoreload 2\n",
    "from nbdev.showdoc import *"
   ]
  },
  {
   "cell_type": "code",
   "execution_count": 269,
   "metadata": {},
   "outputs": [],
   "source": [
    "#| export\n",
    "import torch.nn as nn\n",
    "import torch\n",
    "import torch.nn.functional as F\n",
    "from torch.optim import SGD\n",
    "from torch.optim.optimizer import Optimizer\n",
    "from torch.utils.data import DataLoader\n",
    "\n",
    "import lightning as L\n",
    "from lightning import Trainer, LightningModule\n",
    "from lightning.pytorch.tuner.tuning import Tuner\n",
    "from lightning.pytorch.callbacks import LearningRateFinder\n",
    "from lightning.pytorch.loggers import CSVLogger\n",
    "\n",
    "\n",
    "\n",
    "from matplotlib import pyplot as plt\n",
    "import matplotlib\n",
    "# plt.set_loglevel('INFO')\n",
    "import pandas as pd\n",
    "import numpy as np\n",
    "from tqdm import tqdm\n",
    "import pprint\n",
    "\n",
    "from omegaconf import OmegaConf\n",
    "from hydra.utils import instantiate\n",
    "\n",
    "from typing import Dict, List, Tuple, Optional, Set\n",
    "from dataclasses import dataclass, asdict\n",
    "\n",
    "from nimrod.text.datasets import CharDataset, Vocab\n",
    "from nimrod.utils import set_seed, get_device\n",
    "from nimrod.models.core import Classifier, plot_classifier_metrics_from_csv\n",
    "import nimrod\n",
    "\n",
    "import logging\n",
    "\n",
    "logger = logging.getLogger(__name__)\n",
    "# N_EPOCHS for training debuggging\n",
    "ITER_MAX = 1"
   ]
  },
  {
   "cell_type": "code",
   "execution_count": 5,
   "metadata": {},
   "outputs": [
    {
     "name": "stderr",
     "output_type": "stream",
     "text": [
      "Seed set to 42\n"
     ]
    }
   ],
   "source": [
    "set_seed(42)"
   ]
  },
  {
   "cell_type": "code",
   "execution_count": 6,
   "metadata": {},
   "outputs": [
    {
     "name": "stdout",
     "output_type": "stream",
     "text": [
      "names:  ['emma', 'olivia', 'ava']\n"
     ]
    }
   ],
   "source": [
    "# reading with pandas\n",
    "df = pd.read_csv('../data/text/names.txt', header=None, names=['name'])\n",
    "data = list(df.name)\n",
    "print(\"names: \", data[:3])"
   ]
  },
  {
   "attachments": {},
   "cell_type": "markdown",
   "metadata": {},
   "source": [
    "## Data formatting\n",
    "given last n tokens we predict token n+1"
   ]
  },
  {
   "cell_type": "code",
   "execution_count": 7,
   "metadata": {},
   "outputs": [
    {
     "name": "stdout",
     "output_type": "stream",
     "text": [
      "['a', 'l', 'e', 'x', 'a', 'n', 'd', 'r', 'a']\n",
      "[('a', 'l'), ('l', 'e'), ('e', 'x'), ('x', 'a'), ('a', 'n'), ('n', 'd'), ('d', 'r'), ('r', 'a')]\n",
      "[('a', 'l', 'e'), ('l', 'e', 'x'), ('e', 'x', 'a'), ('x', 'a', 'n'), ('a', 'n', 'd'), ('n', 'd', 'r'), ('d', 'r', 'a')]\n"
     ]
    }
   ],
   "source": [
    "s = list(\"alexandra\")\n",
    "print(s)\n",
    "bigram = [(x,y) for x, y in zip(s, s[1:])]\n",
    "print(bigram)\n",
    "trigram = [ (x,y,z) for x, y, z in zip(s, s[1:], s[2:])]\n",
    "print(trigram)"
   ]
  },
  {
   "cell_type": "markdown",
   "metadata": {},
   "source": [
    "### Tiny shakespeare LM char dataset"
   ]
  },
  {
   "cell_type": "code",
   "execution_count": 8,
   "metadata": {},
   "outputs": [
    {
     "name": "stdout",
     "output_type": "stream",
     "text": [
      "data:  [['F', 'i', 'r', 's', 't', ' ', 'C', 'i', 't', 'i', 'z', 'e', 'n', ':', '\\n'], ['B', 'e', 'f', 'o', 'r', 'e', ' ', 'w', 'e', ' ', 'p', 'r', 'o', 'c', 'e', 'e', 'd', ' ', 'a', 'n', 'y', ' ', 'f', 'u', 'r', 't', 'h', 'e', 'r', ',', ' ', 'h', 'e', 'a', 'r', ' ', 'm', 'e', ' ', 's', 'p', 'e', 'a', 'k', '.', '\\n'], ['A', 'l', 'l', ':', '\\n']]\n"
     ]
    }
   ],
   "source": [
    "# reading directly in plain python\n",
    "lines = []\n",
    "with open('../data/text/tiny_shakespeare.txt', 'r', encoding='utf-8') as f:\n",
    "    for line in f.readlines():\n",
    "        if line.strip():\n",
    "            # only append non blank lines\n",
    "            lines.append(line)\n",
    "\n",
    "# add sentence tokens\n",
    "# data = [['<bos>'] +list(line.strip()) + ['<eos>'] for line in lines]\n",
    "# data = [list(line.strip()) for line in lines]\n",
    "data = [list(line) for line in lines]\n",
    "print(\"data: \", data[:3])"
   ]
  },
  {
   "cell_type": "code",
   "execution_count": 9,
   "metadata": {},
   "outputs": [],
   "source": [
    "\n",
    "def make_dataset(\n",
    "        words:List[str], # data is a list of sentences which are a list of words\n",
    "        v:Vocab,# vocabulary class for mapping words to indices\n",
    "        verbose:bool=False, # print debug info\n",
    "        context_length=3 # number of words/tokens to use as context\n",
    "        ):\n",
    "    X = []\n",
    "    y = []\n",
    "    for word in words:\n",
    "        s = list(word)\n",
    "        if verbose:\n",
    "            print('row: ', s)\n",
    "        # init prefix with padding while len < context_length\n",
    "        for i in range(context_length-1):\n",
    "            sequence = v.stoi(s[:i+1])\n",
    "            pad_len = context_length - len(sequence)\n",
    "            pad = [v.stoi(\"<pad>\")] * pad_len\n",
    "            X.append(pad + sequence)\n",
    "            y.append(v.stoi(s[i+1]))\n",
    "\n",
    "            if verbose:\n",
    "                print([\"<pad>\"]+ s[:i+1], s[i+1])\n",
    "\n",
    "        # for length seq = context_length\n",
    "        i = 0\n",
    "        while i < (len(s) - context_length):\n",
    "            X.append(v.stoi(s[i:context_length+i]))\n",
    "            y.append(v.stoi(s[i+context_length]))\n",
    "            if verbose:\n",
    "                print(s[i:context_length+i], s[i+context_length])\n",
    "            i += 1\n",
    "    return torch.tensor(X),torch.tensor(y)\n"
   ]
  },
  {
   "cell_type": "markdown",
   "metadata": {},
   "source": [
    "for each row in the dataset we expand all the combinations of ngrams"
   ]
  },
  {
   "cell_type": "code",
   "execution_count": 10,
   "metadata": {},
   "outputs": [
    {
     "name": "stdout",
     "output_type": "stream",
     "text": [
      "vocabulary:  ['\\n', ' ', '!', '$', '&', \"'\", ',', '-', '.', '3', ':', ';', '<pad>', '<unk>', '?', 'A', 'B', 'C', 'D', 'E', 'F', 'G', 'H', 'I', 'J', 'K', 'L', 'M', 'N', 'O', 'P', 'Q', 'R', 'S', 'T', 'U', 'V', 'W', 'X', 'Y', 'Z', 'a', 'b', 'c', 'd', 'e', 'f', 'g', 'h', 'i', 'j', 'k', 'l', 'm', 'n', 'o', 'p', 'q', 'r', 's', 't', 'u', 'v', 'w', 'x', 'y', 'z']\n",
      "vocabulary size:  67\n"
     ]
    }
   ],
   "source": [
    "v = Vocab(data_path='../data/text/tiny_shakespeare.txt', specials=['<unk>','<pad>'])\n",
    "print(\"vocabulary: \", v.vocabulary)\n",
    "print(\"vocabulary size: \", len(v))\n"
   ]
  },
  {
   "cell_type": "code",
   "execution_count": 11,
   "metadata": {},
   "outputs": [
    {
     "name": "stdout",
     "output_type": "stream",
     "text": [
      "row:  ['F', 'i', 'r', 's', 't', ' ', 'C', 'i', 't', 'i', 'z', 'e', 'n', ':', '\\n']\n",
      "['<pad>', 'F'] i\n",
      "['<pad>', 'F', 'i'] r\n",
      "['F', 'i', 'r'] s\n",
      "['i', 'r', 's'] t\n",
      "['r', 's', 't']  \n",
      "['s', 't', ' '] C\n",
      "['t', ' ', 'C'] i\n",
      "[' ', 'C', 'i'] t\n",
      "['C', 'i', 't'] i\n",
      "['i', 't', 'i'] z\n",
      "['t', 'i', 'z'] e\n",
      "['i', 'z', 'e'] n\n",
      "['z', 'e', 'n'] :\n",
      "['e', 'n', ':'] \n",
      "\n",
      "row:  ['B', 'e', 'f', 'o', 'r', 'e', ' ', 'w', 'e', ' ', 'p', 'r', 'o', 'c', 'e', 'e', 'd', ' ', 'a', 'n', 'y', ' ', 'f', 'u', 'r', 't', 'h', 'e', 'r', ',', ' ', 'h', 'e', 'a', 'r', ' ', 'm', 'e', ' ', 's', 'p', 'e', 'a', 'k', '.', '\\n']\n",
      "['<pad>', 'B'] e\n",
      "['<pad>', 'B', 'e'] f\n",
      "['B', 'e', 'f'] o\n",
      "['e', 'f', 'o'] r\n",
      "['f', 'o', 'r'] e\n",
      "['o', 'r', 'e']  \n",
      "['r', 'e', ' '] w\n",
      "['e', ' ', 'w'] e\n",
      "[' ', 'w', 'e']  \n",
      "['w', 'e', ' '] p\n",
      "['e', ' ', 'p'] r\n",
      "[' ', 'p', 'r'] o\n",
      "['p', 'r', 'o'] c\n",
      "['r', 'o', 'c'] e\n",
      "['o', 'c', 'e'] e\n",
      "['c', 'e', 'e'] d\n",
      "['e', 'e', 'd']  \n",
      "['e', 'd', ' '] a\n",
      "['d', ' ', 'a'] n\n",
      "[' ', 'a', 'n'] y\n",
      "['a', 'n', 'y']  \n",
      "['n', 'y', ' '] f\n",
      "['y', ' ', 'f'] u\n",
      "[' ', 'f', 'u'] r\n",
      "['f', 'u', 'r'] t\n",
      "['u', 'r', 't'] h\n",
      "['r', 't', 'h'] e\n",
      "['t', 'h', 'e'] r\n",
      "['h', 'e', 'r'] ,\n",
      "['e', 'r', ',']  \n",
      "['r', ',', ' '] h\n",
      "[',', ' ', 'h'] e\n",
      "[' ', 'h', 'e'] a\n",
      "['h', 'e', 'a'] r\n",
      "['e', 'a', 'r']  \n",
      "['a', 'r', ' '] m\n",
      "['r', ' ', 'm'] e\n",
      "[' ', 'm', 'e']  \n",
      "['m', 'e', ' '] s\n",
      "['e', ' ', 's'] p\n",
      "[' ', 's', 'p'] e\n",
      "['s', 'p', 'e'] a\n",
      "['p', 'e', 'a'] k\n",
      "['e', 'a', 'k'] .\n",
      "['a', 'k', '.'] \n",
      "\n",
      "row:  ['A', 'l', 'l', ':', '\\n']\n",
      "['<pad>', 'A'] l\n",
      "['<pad>', 'A', 'l'] l\n",
      "['A', 'l', 'l'] :\n",
      "['l', 'l', ':'] \n",
      "\n",
      "row:  ['S', 'p', 'e', 'a', 'k', ',', ' ', 's', 'p', 'e', 'a', 'k', '.', '\\n']\n",
      "['<pad>', 'S'] p\n",
      "['<pad>', 'S', 'p'] e\n",
      "['S', 'p', 'e'] a\n",
      "['p', 'e', 'a'] k\n",
      "['e', 'a', 'k'] ,\n",
      "['a', 'k', ',']  \n",
      "['k', ',', ' '] s\n",
      "[',', ' ', 's'] p\n",
      "[' ', 's', 'p'] e\n",
      "['s', 'p', 'e'] a\n",
      "['p', 'e', 'a'] k\n",
      "['e', 'a', 'k'] .\n",
      "['a', 'k', '.'] \n",
      "\n",
      "row:  ['F', 'i', 'r', 's', 't', ' ', 'C', 'i', 't', 'i', 'z', 'e', 'n', ':', '\\n']\n",
      "['<pad>', 'F'] i\n",
      "['<pad>', 'F', 'i'] r\n",
      "['F', 'i', 'r'] s\n",
      "['i', 'r', 's'] t\n",
      "['r', 's', 't']  \n",
      "['s', 't', ' '] C\n",
      "['t', ' ', 'C'] i\n",
      "[' ', 'C', 'i'] t\n",
      "['C', 'i', 't'] i\n",
      "['i', 't', 'i'] z\n",
      "['t', 'i', 'z'] e\n",
      "['i', 'z', 'e'] n\n",
      "['z', 'e', 'n'] :\n",
      "['e', 'n', ':'] \n",
      "\n",
      "row:  ['Y', 'o', 'u', ' ', 'a', 'r', 'e', ' ', 'a', 'l', 'l', ' ', 'r', 'e', 's', 'o', 'l', 'v', 'e', 'd', ' ', 'r', 'a', 't', 'h', 'e', 'r', ' ', 't', 'o', ' ', 'd', 'i', 'e', ' ', 't', 'h', 'a', 'n', ' ', 't', 'o', ' ', 'f', 'a', 'm', 'i', 's', 'h', '?', '\\n']\n",
      "['<pad>', 'Y'] o\n",
      "['<pad>', 'Y', 'o'] u\n",
      "['Y', 'o', 'u']  \n",
      "['o', 'u', ' '] a\n",
      "['u', ' ', 'a'] r\n",
      "[' ', 'a', 'r'] e\n",
      "['a', 'r', 'e']  \n",
      "['r', 'e', ' '] a\n",
      "['e', ' ', 'a'] l\n",
      "[' ', 'a', 'l'] l\n",
      "['a', 'l', 'l']  \n",
      "['l', 'l', ' '] r\n",
      "['l', ' ', 'r'] e\n",
      "[' ', 'r', 'e'] s\n",
      "['r', 'e', 's'] o\n",
      "['e', 's', 'o'] l\n",
      "['s', 'o', 'l'] v\n",
      "['o', 'l', 'v'] e\n",
      "['l', 'v', 'e'] d\n",
      "['v', 'e', 'd']  \n",
      "['e', 'd', ' '] r\n",
      "['d', ' ', 'r'] a\n",
      "[' ', 'r', 'a'] t\n",
      "['r', 'a', 't'] h\n",
      "['a', 't', 'h'] e\n",
      "['t', 'h', 'e'] r\n",
      "['h', 'e', 'r']  \n",
      "['e', 'r', ' '] t\n",
      "['r', ' ', 't'] o\n",
      "[' ', 't', 'o']  \n",
      "['t', 'o', ' '] d\n",
      "['o', ' ', 'd'] i\n",
      "[' ', 'd', 'i'] e\n",
      "['d', 'i', 'e']  \n",
      "['i', 'e', ' '] t\n",
      "['e', ' ', 't'] h\n",
      "[' ', 't', 'h'] a\n",
      "['t', 'h', 'a'] n\n",
      "['h', 'a', 'n']  \n",
      "['a', 'n', ' '] t\n",
      "['n', ' ', 't'] o\n",
      "[' ', 't', 'o']  \n",
      "['t', 'o', ' '] f\n",
      "['o', ' ', 'f'] a\n",
      "[' ', 'f', 'a'] m\n",
      "['f', 'a', 'm'] i\n",
      "['a', 'm', 'i'] s\n",
      "['m', 'i', 's'] h\n",
      "['i', 's', 'h'] ?\n",
      "['s', 'h', '?'] \n",
      "\n",
      "row:  ['A', 'l', 'l', ':', '\\n']\n",
      "['<pad>', 'A'] l\n",
      "['<pad>', 'A', 'l'] l\n",
      "['A', 'l', 'l'] :\n",
      "['l', 'l', ':'] \n",
      "\n",
      "row:  ['R', 'e', 's', 'o', 'l', 'v', 'e', 'd', '.', ' ', 'r', 'e', 's', 'o', 'l', 'v', 'e', 'd', '.', '\\n']\n",
      "['<pad>', 'R'] e\n",
      "['<pad>', 'R', 'e'] s\n",
      "['R', 'e', 's'] o\n",
      "['e', 's', 'o'] l\n",
      "['s', 'o', 'l'] v\n",
      "['o', 'l', 'v'] e\n",
      "['l', 'v', 'e'] d\n",
      "['v', 'e', 'd'] .\n",
      "['e', 'd', '.']  \n",
      "['d', '.', ' '] r\n",
      "['.', ' ', 'r'] e\n",
      "[' ', 'r', 'e'] s\n",
      "['r', 'e', 's'] o\n",
      "['e', 's', 'o'] l\n",
      "['s', 'o', 'l'] v\n",
      "['o', 'l', 'v'] e\n",
      "['l', 'v', 'e'] d\n",
      "['v', 'e', 'd'] .\n",
      "['e', 'd', '.'] \n",
      "\n",
      "row:  ['F', 'i', 'r', 's', 't', ' ', 'C', 'i', 't', 'i', 'z', 'e', 'n', ':', '\\n']\n",
      "['<pad>', 'F'] i\n",
      "['<pad>', 'F', 'i'] r\n",
      "['F', 'i', 'r'] s\n",
      "['i', 'r', 's'] t\n",
      "['r', 's', 't']  \n",
      "['s', 't', ' '] C\n",
      "['t', ' ', 'C'] i\n",
      "[' ', 'C', 'i'] t\n",
      "['C', 'i', 't'] i\n",
      "['i', 't', 'i'] z\n",
      "['t', 'i', 'z'] e\n",
      "['i', 'z', 'e'] n\n",
      "['z', 'e', 'n'] :\n",
      "['e', 'n', ':'] \n",
      "\n",
      "row:  ['F', 'i', 'r', 's', 't', ',', ' ', 'y', 'o', 'u', ' ', 'k', 'n', 'o', 'w', ' ', 'C', 'a', 'i', 'u', 's', ' ', 'M', 'a', 'r', 'c', 'i', 'u', 's', ' ', 'i', 's', ' ', 'c', 'h', 'i', 'e', 'f', ' ', 'e', 'n', 'e', 'm', 'y', ' ', 't', 'o', ' ', 't', 'h', 'e', ' ', 'p', 'e', 'o', 'p', 'l', 'e', '.', '\\n']\n",
      "['<pad>', 'F'] i\n",
      "['<pad>', 'F', 'i'] r\n",
      "['F', 'i', 'r'] s\n",
      "['i', 'r', 's'] t\n",
      "['r', 's', 't'] ,\n",
      "['s', 't', ',']  \n",
      "['t', ',', ' '] y\n",
      "[',', ' ', 'y'] o\n",
      "[' ', 'y', 'o'] u\n",
      "['y', 'o', 'u']  \n",
      "['o', 'u', ' '] k\n",
      "['u', ' ', 'k'] n\n",
      "[' ', 'k', 'n'] o\n",
      "['k', 'n', 'o'] w\n",
      "['n', 'o', 'w']  \n",
      "['o', 'w', ' '] C\n",
      "['w', ' ', 'C'] a\n",
      "[' ', 'C', 'a'] i\n",
      "['C', 'a', 'i'] u\n",
      "['a', 'i', 'u'] s\n",
      "['i', 'u', 's']  \n",
      "['u', 's', ' '] M\n",
      "['s', ' ', 'M'] a\n",
      "[' ', 'M', 'a'] r\n",
      "['M', 'a', 'r'] c\n",
      "['a', 'r', 'c'] i\n",
      "['r', 'c', 'i'] u\n",
      "['c', 'i', 'u'] s\n",
      "['i', 'u', 's']  \n",
      "['u', 's', ' '] i\n",
      "['s', ' ', 'i'] s\n",
      "[' ', 'i', 's']  \n",
      "['i', 's', ' '] c\n",
      "['s', ' ', 'c'] h\n",
      "[' ', 'c', 'h'] i\n",
      "['c', 'h', 'i'] e\n",
      "['h', 'i', 'e'] f\n",
      "['i', 'e', 'f']  \n",
      "['e', 'f', ' '] e\n",
      "['f', ' ', 'e'] n\n",
      "[' ', 'e', 'n'] e\n",
      "['e', 'n', 'e'] m\n",
      "['n', 'e', 'm'] y\n",
      "['e', 'm', 'y']  \n",
      "['m', 'y', ' '] t\n",
      "['y', ' ', 't'] o\n",
      "[' ', 't', 'o']  \n",
      "['t', 'o', ' '] t\n",
      "['o', ' ', 't'] h\n",
      "[' ', 't', 'h'] e\n",
      "['t', 'h', 'e']  \n",
      "['h', 'e', ' '] p\n",
      "['e', ' ', 'p'] e\n",
      "[' ', 'p', 'e'] o\n",
      "['p', 'e', 'o'] p\n",
      "['e', 'o', 'p'] l\n",
      "['o', 'p', 'l'] e\n",
      "['p', 'l', 'e'] .\n",
      "['l', 'e', '.'] \n",
      "\n",
      "row:  ['A', 'l', 'l', ':', '\\n']\n",
      "['<pad>', 'A'] l\n",
      "['<pad>', 'A', 'l'] l\n",
      "['A', 'l', 'l'] :\n",
      "['l', 'l', ':'] \n",
      "\n",
      "row:  ['W', 'e', ' ', 'k', 'n', 'o', 'w', \"'\", 't', ',', ' ', 'w', 'e', ' ', 'k', 'n', 'o', 'w', \"'\", 't', '.', '\\n']\n",
      "['<pad>', 'W'] e\n",
      "['<pad>', 'W', 'e']  \n",
      "['W', 'e', ' '] k\n",
      "['e', ' ', 'k'] n\n",
      "[' ', 'k', 'n'] o\n",
      "['k', 'n', 'o'] w\n",
      "['n', 'o', 'w'] '\n",
      "['o', 'w', \"'\"] t\n",
      "['w', \"'\", 't'] ,\n",
      "[\"'\", 't', ',']  \n",
      "['t', ',', ' '] w\n",
      "[',', ' ', 'w'] e\n",
      "[' ', 'w', 'e']  \n",
      "['w', 'e', ' '] k\n",
      "['e', ' ', 'k'] n\n",
      "[' ', 'k', 'n'] o\n",
      "['k', 'n', 'o'] w\n",
      "['n', 'o', 'w'] '\n",
      "['o', 'w', \"'\"] t\n",
      "['w', \"'\", 't'] .\n",
      "[\"'\", 't', '.'] \n",
      "\n",
      "row:  ['F', 'i', 'r', 's', 't', ' ', 'C', 'i', 't', 'i', 'z', 'e', 'n', ':', '\\n']\n",
      "['<pad>', 'F'] i\n",
      "['<pad>', 'F', 'i'] r\n",
      "['F', 'i', 'r'] s\n",
      "['i', 'r', 's'] t\n",
      "['r', 's', 't']  \n",
      "['s', 't', ' '] C\n",
      "['t', ' ', 'C'] i\n",
      "[' ', 'C', 'i'] t\n",
      "['C', 'i', 't'] i\n",
      "['i', 't', 'i'] z\n",
      "['t', 'i', 'z'] e\n",
      "['i', 'z', 'e'] n\n",
      "['z', 'e', 'n'] :\n",
      "['e', 'n', ':'] \n",
      "\n",
      "row:  ['L', 'e', 't', ' ', 'u', 's', ' ', 'k', 'i', 'l', 'l', ' ', 'h', 'i', 'm', ',', ' ', 'a', 'n', 'd', ' ', 'w', 'e', \"'\", 'l', 'l', ' ', 'h', 'a', 'v', 'e', ' ', 'c', 'o', 'r', 'n', ' ', 'a', 't', ' ', 'o', 'u', 'r', ' ', 'o', 'w', 'n', ' ', 'p', 'r', 'i', 'c', 'e', '.', '\\n']\n",
      "['<pad>', 'L'] e\n",
      "['<pad>', 'L', 'e'] t\n",
      "['L', 'e', 't']  \n",
      "['e', 't', ' '] u\n",
      "['t', ' ', 'u'] s\n",
      "[' ', 'u', 's']  \n",
      "['u', 's', ' '] k\n",
      "['s', ' ', 'k'] i\n",
      "[' ', 'k', 'i'] l\n",
      "['k', 'i', 'l'] l\n",
      "['i', 'l', 'l']  \n",
      "['l', 'l', ' '] h\n",
      "['l', ' ', 'h'] i\n",
      "[' ', 'h', 'i'] m\n",
      "['h', 'i', 'm'] ,\n",
      "['i', 'm', ',']  \n",
      "['m', ',', ' '] a\n",
      "[',', ' ', 'a'] n\n",
      "[' ', 'a', 'n'] d\n",
      "['a', 'n', 'd']  \n",
      "['n', 'd', ' '] w\n",
      "['d', ' ', 'w'] e\n",
      "[' ', 'w', 'e'] '\n",
      "['w', 'e', \"'\"] l\n",
      "['e', \"'\", 'l'] l\n",
      "[\"'\", 'l', 'l']  \n",
      "['l', 'l', ' '] h\n",
      "['l', ' ', 'h'] a\n",
      "[' ', 'h', 'a'] v\n",
      "['h', 'a', 'v'] e\n",
      "['a', 'v', 'e']  \n",
      "['v', 'e', ' '] c\n",
      "['e', ' ', 'c'] o\n",
      "[' ', 'c', 'o'] r\n",
      "['c', 'o', 'r'] n\n",
      "['o', 'r', 'n']  \n",
      "['r', 'n', ' '] a\n",
      "['n', ' ', 'a'] t\n",
      "[' ', 'a', 't']  \n",
      "['a', 't', ' '] o\n",
      "['t', ' ', 'o'] u\n",
      "[' ', 'o', 'u'] r\n",
      "['o', 'u', 'r']  \n",
      "['u', 'r', ' '] o\n",
      "['r', ' ', 'o'] w\n",
      "[' ', 'o', 'w'] n\n",
      "['o', 'w', 'n']  \n",
      "['w', 'n', ' '] p\n",
      "['n', ' ', 'p'] r\n",
      "[' ', 'p', 'r'] i\n",
      "['p', 'r', 'i'] c\n",
      "['r', 'i', 'c'] e\n",
      "['i', 'c', 'e'] .\n",
      "['c', 'e', '.'] \n",
      "\n",
      "row:  ['I', 's', \"'\", 't', ' ', 'a', ' ', 'v', 'e', 'r', 'd', 'i', 'c', 't', '?', '\\n']\n",
      "['<pad>', 'I'] s\n",
      "['<pad>', 'I', 's'] '\n",
      "['I', 's', \"'\"] t\n",
      "['s', \"'\", 't']  \n",
      "[\"'\", 't', ' '] a\n",
      "['t', ' ', 'a']  \n",
      "[' ', 'a', ' '] v\n",
      "['a', ' ', 'v'] e\n",
      "[' ', 'v', 'e'] r\n",
      "['v', 'e', 'r'] d\n",
      "['e', 'r', 'd'] i\n",
      "['r', 'd', 'i'] c\n",
      "['d', 'i', 'c'] t\n",
      "['i', 'c', 't'] ?\n",
      "['c', 't', '?'] \n",
      "\n",
      "row:  ['A', 'l', 'l', ':', '\\n']\n",
      "['<pad>', 'A'] l\n",
      "['<pad>', 'A', 'l'] l\n",
      "['A', 'l', 'l'] :\n",
      "['l', 'l', ':'] \n",
      "\n",
      "row:  ['N', 'o', ' ', 'm', 'o', 'r', 'e', ' ', 't', 'a', 'l', 'k', 'i', 'n', 'g', ' ', 'o', 'n', \"'\", 't', ';', ' ', 'l', 'e', 't', ' ', 'i', 't', ' ', 'b', 'e', ' ', 'd', 'o', 'n', 'e', ':', ' ', 'a', 'w', 'a', 'y', ',', ' ', 'a', 'w', 'a', 'y', '!', '\\n']\n",
      "['<pad>', 'N'] o\n",
      "['<pad>', 'N', 'o']  \n",
      "['N', 'o', ' '] m\n",
      "['o', ' ', 'm'] o\n",
      "[' ', 'm', 'o'] r\n",
      "['m', 'o', 'r'] e\n",
      "['o', 'r', 'e']  \n",
      "['r', 'e', ' '] t\n",
      "['e', ' ', 't'] a\n",
      "[' ', 't', 'a'] l\n",
      "['t', 'a', 'l'] k\n",
      "['a', 'l', 'k'] i\n",
      "['l', 'k', 'i'] n\n",
      "['k', 'i', 'n'] g\n",
      "['i', 'n', 'g']  \n",
      "['n', 'g', ' '] o\n",
      "['g', ' ', 'o'] n\n",
      "[' ', 'o', 'n'] '\n",
      "['o', 'n', \"'\"] t\n",
      "['n', \"'\", 't'] ;\n",
      "[\"'\", 't', ';']  \n",
      "['t', ';', ' '] l\n",
      "[';', ' ', 'l'] e\n",
      "[' ', 'l', 'e'] t\n",
      "['l', 'e', 't']  \n",
      "['e', 't', ' '] i\n",
      "['t', ' ', 'i'] t\n",
      "[' ', 'i', 't']  \n",
      "['i', 't', ' '] b\n",
      "['t', ' ', 'b'] e\n",
      "[' ', 'b', 'e']  \n",
      "['b', 'e', ' '] d\n",
      "['e', ' ', 'd'] o\n",
      "[' ', 'd', 'o'] n\n",
      "['d', 'o', 'n'] e\n",
      "['o', 'n', 'e'] :\n",
      "['n', 'e', ':']  \n",
      "['e', ':', ' '] a\n",
      "[':', ' ', 'a'] w\n",
      "[' ', 'a', 'w'] a\n",
      "['a', 'w', 'a'] y\n",
      "['w', 'a', 'y'] ,\n",
      "['a', 'y', ',']  \n",
      "['y', ',', ' '] a\n",
      "[',', ' ', 'a'] w\n",
      "[' ', 'a', 'w'] a\n",
      "['a', 'w', 'a'] y\n",
      "['w', 'a', 'y'] !\n",
      "['a', 'y', '!'] \n",
      "\n",
      "row:  ['S', 'e', 'c', 'o', 'n', 'd', ' ', 'C', 'i', 't', 'i', 'z', 'e', 'n', ':', '\\n']\n",
      "['<pad>', 'S'] e\n",
      "['<pad>', 'S', 'e'] c\n",
      "['S', 'e', 'c'] o\n",
      "['e', 'c', 'o'] n\n",
      "['c', 'o', 'n'] d\n",
      "['o', 'n', 'd']  \n",
      "['n', 'd', ' '] C\n",
      "['d', ' ', 'C'] i\n",
      "[' ', 'C', 'i'] t\n",
      "['C', 'i', 't'] i\n",
      "['i', 't', 'i'] z\n",
      "['t', 'i', 'z'] e\n",
      "['i', 'z', 'e'] n\n",
      "['z', 'e', 'n'] :\n",
      "['e', 'n', ':'] \n",
      "\n",
      "row:  ['O', 'n', 'e', ' ', 'w', 'o', 'r', 'd', ',', ' ', 'g', 'o', 'o', 'd', ' ', 'c', 'i', 't', 'i', 'z', 'e', 'n', 's', '.', '\\n']\n",
      "['<pad>', 'O'] n\n",
      "['<pad>', 'O', 'n'] e\n",
      "['O', 'n', 'e']  \n",
      "['n', 'e', ' '] w\n",
      "['e', ' ', 'w'] o\n",
      "[' ', 'w', 'o'] r\n",
      "['w', 'o', 'r'] d\n",
      "['o', 'r', 'd'] ,\n",
      "['r', 'd', ',']  \n",
      "['d', ',', ' '] g\n",
      "[',', ' ', 'g'] o\n",
      "[' ', 'g', 'o'] o\n",
      "['g', 'o', 'o'] d\n",
      "['o', 'o', 'd']  \n",
      "['o', 'd', ' '] c\n",
      "['d', ' ', 'c'] i\n",
      "[' ', 'c', 'i'] t\n",
      "['c', 'i', 't'] i\n",
      "['i', 't', 'i'] z\n",
      "['t', 'i', 'z'] e\n",
      "['i', 'z', 'e'] n\n",
      "['z', 'e', 'n'] s\n",
      "['e', 'n', 's'] .\n",
      "['n', 's', '.'] \n",
      "\n",
      "row:  ['F', 'i', 'r', 's', 't', ' ', 'C', 'i', 't', 'i', 'z', 'e', 'n', ':', '\\n']\n",
      "['<pad>', 'F'] i\n",
      "['<pad>', 'F', 'i'] r\n",
      "['F', 'i', 'r'] s\n",
      "['i', 'r', 's'] t\n",
      "['r', 's', 't']  \n",
      "['s', 't', ' '] C\n",
      "['t', ' ', 'C'] i\n",
      "[' ', 'C', 'i'] t\n",
      "['C', 'i', 't'] i\n",
      "['i', 't', 'i'] z\n",
      "['t', 'i', 'z'] e\n",
      "['i', 'z', 'e'] n\n",
      "['z', 'e', 'n'] :\n",
      "['e', 'n', ':'] \n",
      "\n",
      "row:  ['W', 'e', ' ', 'a', 'r', 'e', ' ', 'a', 'c', 'c', 'o', 'u', 'n', 't', 'e', 'd', ' ', 'p', 'o', 'o', 'r', ' ', 'c', 'i', 't', 'i', 'z', 'e', 'n', 's', ',', ' ', 't', 'h', 'e', ' ', 'p', 'a', 't', 'r', 'i', 'c', 'i', 'a', 'n', 's', ' ', 'g', 'o', 'o', 'd', '.', '\\n']\n",
      "['<pad>', 'W'] e\n",
      "['<pad>', 'W', 'e']  \n",
      "['W', 'e', ' '] a\n",
      "['e', ' ', 'a'] r\n",
      "[' ', 'a', 'r'] e\n",
      "['a', 'r', 'e']  \n",
      "['r', 'e', ' '] a\n",
      "['e', ' ', 'a'] c\n",
      "[' ', 'a', 'c'] c\n",
      "['a', 'c', 'c'] o\n",
      "['c', 'c', 'o'] u\n",
      "['c', 'o', 'u'] n\n",
      "['o', 'u', 'n'] t\n",
      "['u', 'n', 't'] e\n",
      "['n', 't', 'e'] d\n",
      "['t', 'e', 'd']  \n",
      "['e', 'd', ' '] p\n",
      "['d', ' ', 'p'] o\n",
      "[' ', 'p', 'o'] o\n",
      "['p', 'o', 'o'] r\n",
      "['o', 'o', 'r']  \n",
      "['o', 'r', ' '] c\n",
      "['r', ' ', 'c'] i\n",
      "[' ', 'c', 'i'] t\n",
      "['c', 'i', 't'] i\n",
      "['i', 't', 'i'] z\n",
      "['t', 'i', 'z'] e\n",
      "['i', 'z', 'e'] n\n",
      "['z', 'e', 'n'] s\n",
      "['e', 'n', 's'] ,\n",
      "['n', 's', ',']  \n",
      "['s', ',', ' '] t\n",
      "[',', ' ', 't'] h\n",
      "[' ', 't', 'h'] e\n",
      "['t', 'h', 'e']  \n",
      "['h', 'e', ' '] p\n",
      "['e', ' ', 'p'] a\n",
      "[' ', 'p', 'a'] t\n",
      "['p', 'a', 't'] r\n",
      "['a', 't', 'r'] i\n",
      "['t', 'r', 'i'] c\n",
      "['r', 'i', 'c'] i\n",
      "['i', 'c', 'i'] a\n",
      "['c', 'i', 'a'] n\n",
      "['i', 'a', 'n'] s\n",
      "['a', 'n', 's']  \n",
      "['n', 's', ' '] g\n",
      "['s', ' ', 'g'] o\n",
      "[' ', 'g', 'o'] o\n",
      "['g', 'o', 'o'] d\n",
      "['o', 'o', 'd'] .\n",
      "['o', 'd', '.'] \n",
      "\n",
      "row:  ['W', 'h', 'a', 't', ' ', 'a', 'u', 't', 'h', 'o', 'r', 'i', 't', 'y', ' ', 's', 'u', 'r', 'f', 'e', 'i', 't', 's', ' ', 'o', 'n', ' ', 'w', 'o', 'u', 'l', 'd', ' ', 'r', 'e', 'l', 'i', 'e', 'v', 'e', ' ', 'u', 's', ':', ' ', 'i', 'f', ' ', 't', 'h', 'e', 'y', '\\n']\n",
      "['<pad>', 'W'] h\n",
      "['<pad>', 'W', 'h'] a\n",
      "['W', 'h', 'a'] t\n",
      "['h', 'a', 't']  \n",
      "['a', 't', ' '] a\n",
      "['t', ' ', 'a'] u\n",
      "[' ', 'a', 'u'] t\n",
      "['a', 'u', 't'] h\n",
      "['u', 't', 'h'] o\n",
      "['t', 'h', 'o'] r\n",
      "['h', 'o', 'r'] i\n",
      "['o', 'r', 'i'] t\n",
      "['r', 'i', 't'] y\n",
      "['i', 't', 'y']  \n",
      "['t', 'y', ' '] s\n",
      "['y', ' ', 's'] u\n",
      "[' ', 's', 'u'] r\n",
      "['s', 'u', 'r'] f\n",
      "['u', 'r', 'f'] e\n",
      "['r', 'f', 'e'] i\n",
      "['f', 'e', 'i'] t\n",
      "['e', 'i', 't'] s\n",
      "['i', 't', 's']  \n",
      "['t', 's', ' '] o\n",
      "['s', ' ', 'o'] n\n",
      "[' ', 'o', 'n']  \n",
      "['o', 'n', ' '] w\n",
      "['n', ' ', 'w'] o\n",
      "[' ', 'w', 'o'] u\n",
      "['w', 'o', 'u'] l\n",
      "['o', 'u', 'l'] d\n",
      "['u', 'l', 'd']  \n",
      "['l', 'd', ' '] r\n",
      "['d', ' ', 'r'] e\n",
      "[' ', 'r', 'e'] l\n",
      "['r', 'e', 'l'] i\n",
      "['e', 'l', 'i'] e\n",
      "['l', 'i', 'e'] v\n",
      "['i', 'e', 'v'] e\n",
      "['e', 'v', 'e']  \n",
      "['v', 'e', ' '] u\n",
      "['e', ' ', 'u'] s\n",
      "[' ', 'u', 's'] :\n",
      "['u', 's', ':']  \n",
      "['s', ':', ' '] i\n",
      "[':', ' ', 'i'] f\n",
      "[' ', 'i', 'f']  \n",
      "['i', 'f', ' '] t\n",
      "['f', ' ', 't'] h\n",
      "[' ', 't', 'h'] e\n",
      "['t', 'h', 'e'] y\n",
      "['h', 'e', 'y'] \n",
      "\n",
      "row:  ['w', 'o', 'u', 'l', 'd', ' ', 'y', 'i', 'e', 'l', 'd', ' ', 'u', 's', ' ', 'b', 'u', 't', ' ', 't', 'h', 'e', ' ', 's', 'u', 'p', 'e', 'r', 'f', 'l', 'u', 'i', 't', 'y', ',', ' ', 'w', 'h', 'i', 'l', 'e', ' ', 'i', 't', ' ', 'w', 'e', 'r', 'e', '\\n']\n",
      "['<pad>', 'w'] o\n",
      "['<pad>', 'w', 'o'] u\n",
      "['w', 'o', 'u'] l\n",
      "['o', 'u', 'l'] d\n",
      "['u', 'l', 'd']  \n",
      "['l', 'd', ' '] y\n",
      "['d', ' ', 'y'] i\n",
      "[' ', 'y', 'i'] e\n",
      "['y', 'i', 'e'] l\n",
      "['i', 'e', 'l'] d\n",
      "['e', 'l', 'd']  \n",
      "['l', 'd', ' '] u\n",
      "['d', ' ', 'u'] s\n",
      "[' ', 'u', 's']  \n",
      "['u', 's', ' '] b\n",
      "['s', ' ', 'b'] u\n",
      "[' ', 'b', 'u'] t\n",
      "['b', 'u', 't']  \n",
      "['u', 't', ' '] t\n",
      "['t', ' ', 't'] h\n",
      "[' ', 't', 'h'] e\n",
      "['t', 'h', 'e']  \n",
      "['h', 'e', ' '] s\n",
      "['e', ' ', 's'] u\n",
      "[' ', 's', 'u'] p\n",
      "['s', 'u', 'p'] e\n",
      "['u', 'p', 'e'] r\n",
      "['p', 'e', 'r'] f\n",
      "['e', 'r', 'f'] l\n",
      "['r', 'f', 'l'] u\n",
      "['f', 'l', 'u'] i\n",
      "['l', 'u', 'i'] t\n",
      "['u', 'i', 't'] y\n",
      "['i', 't', 'y'] ,\n",
      "['t', 'y', ',']  \n",
      "['y', ',', ' '] w\n",
      "[',', ' ', 'w'] h\n",
      "[' ', 'w', 'h'] i\n",
      "['w', 'h', 'i'] l\n",
      "['h', 'i', 'l'] e\n",
      "['i', 'l', 'e']  \n",
      "['l', 'e', ' '] i\n",
      "['e', ' ', 'i'] t\n",
      "[' ', 'i', 't']  \n",
      "['i', 't', ' '] w\n",
      "['t', ' ', 'w'] e\n",
      "[' ', 'w', 'e'] r\n",
      "['w', 'e', 'r'] e\n",
      "['e', 'r', 'e'] \n",
      "\n",
      "row:  ['w', 'h', 'o', 'l', 'e', 's', 'o', 'm', 'e', ',', ' ', 'w', 'e', ' ', 'm', 'i', 'g', 'h', 't', ' ', 'g', 'u', 'e', 's', 's', ' ', 't', 'h', 'e', 'y', ' ', 'r', 'e', 'l', 'i', 'e', 'v', 'e', 'd', ' ', 'u', 's', ' ', 'h', 'u', 'm', 'a', 'n', 'e', 'l', 'y', ';', '\\n']\n",
      "['<pad>', 'w'] h\n",
      "['<pad>', 'w', 'h'] o\n",
      "['w', 'h', 'o'] l\n",
      "['h', 'o', 'l'] e\n",
      "['o', 'l', 'e'] s\n",
      "['l', 'e', 's'] o\n",
      "['e', 's', 'o'] m\n",
      "['s', 'o', 'm'] e\n",
      "['o', 'm', 'e'] ,\n",
      "['m', 'e', ',']  \n",
      "['e', ',', ' '] w\n",
      "[',', ' ', 'w'] e\n",
      "[' ', 'w', 'e']  \n",
      "['w', 'e', ' '] m\n",
      "['e', ' ', 'm'] i\n",
      "[' ', 'm', 'i'] g\n",
      "['m', 'i', 'g'] h\n",
      "['i', 'g', 'h'] t\n",
      "['g', 'h', 't']  \n",
      "['h', 't', ' '] g\n",
      "['t', ' ', 'g'] u\n",
      "[' ', 'g', 'u'] e\n",
      "['g', 'u', 'e'] s\n",
      "['u', 'e', 's'] s\n",
      "['e', 's', 's']  \n",
      "['s', 's', ' '] t\n",
      "['s', ' ', 't'] h\n",
      "[' ', 't', 'h'] e\n",
      "['t', 'h', 'e'] y\n",
      "['h', 'e', 'y']  \n",
      "['e', 'y', ' '] r\n",
      "['y', ' ', 'r'] e\n",
      "[' ', 'r', 'e'] l\n",
      "['r', 'e', 'l'] i\n",
      "['e', 'l', 'i'] e\n",
      "['l', 'i', 'e'] v\n",
      "['i', 'e', 'v'] e\n",
      "['e', 'v', 'e'] d\n",
      "['v', 'e', 'd']  \n",
      "['e', 'd', ' '] u\n",
      "['d', ' ', 'u'] s\n",
      "[' ', 'u', 's']  \n",
      "['u', 's', ' '] h\n",
      "['s', ' ', 'h'] u\n",
      "[' ', 'h', 'u'] m\n",
      "['h', 'u', 'm'] a\n",
      "['u', 'm', 'a'] n\n",
      "['m', 'a', 'n'] e\n",
      "['a', 'n', 'e'] l\n",
      "['n', 'e', 'l'] y\n",
      "['e', 'l', 'y'] ;\n",
      "['l', 'y', ';'] \n",
      "\n",
      "row:  ['b', 'u', 't', ' ', 't', 'h', 'e', 'y', ' ', 't', 'h', 'i', 'n', 'k', ' ', 'w', 'e', ' ', 'a', 'r', 'e', ' ', 't', 'o', 'o', ' ', 'd', 'e', 'a', 'r', ':', ' ', 't', 'h', 'e', ' ', 'l', 'e', 'a', 'n', 'n', 'e', 's', 's', ' ', 't', 'h', 'a', 't', '\\n']\n",
      "['<pad>', 'b'] u\n",
      "['<pad>', 'b', 'u'] t\n",
      "['b', 'u', 't']  \n",
      "['u', 't', ' '] t\n",
      "['t', ' ', 't'] h\n",
      "[' ', 't', 'h'] e\n",
      "['t', 'h', 'e'] y\n",
      "['h', 'e', 'y']  \n",
      "['e', 'y', ' '] t\n",
      "['y', ' ', 't'] h\n",
      "[' ', 't', 'h'] i\n",
      "['t', 'h', 'i'] n\n",
      "['h', 'i', 'n'] k\n",
      "['i', 'n', 'k']  \n",
      "['n', 'k', ' '] w\n",
      "['k', ' ', 'w'] e\n",
      "[' ', 'w', 'e']  \n",
      "['w', 'e', ' '] a\n",
      "['e', ' ', 'a'] r\n",
      "[' ', 'a', 'r'] e\n",
      "['a', 'r', 'e']  \n",
      "['r', 'e', ' '] t\n",
      "['e', ' ', 't'] o\n",
      "[' ', 't', 'o'] o\n",
      "['t', 'o', 'o']  \n",
      "['o', 'o', ' '] d\n",
      "['o', ' ', 'd'] e\n",
      "[' ', 'd', 'e'] a\n",
      "['d', 'e', 'a'] r\n",
      "['e', 'a', 'r'] :\n",
      "['a', 'r', ':']  \n",
      "['r', ':', ' '] t\n",
      "[':', ' ', 't'] h\n",
      "[' ', 't', 'h'] e\n",
      "['t', 'h', 'e']  \n",
      "['h', 'e', ' '] l\n",
      "['e', ' ', 'l'] e\n",
      "[' ', 'l', 'e'] a\n",
      "['l', 'e', 'a'] n\n",
      "['e', 'a', 'n'] n\n",
      "['a', 'n', 'n'] e\n",
      "['n', 'n', 'e'] s\n",
      "['n', 'e', 's'] s\n",
      "['e', 's', 's']  \n",
      "['s', 's', ' '] t\n",
      "['s', ' ', 't'] h\n",
      "[' ', 't', 'h'] a\n",
      "['t', 'h', 'a'] t\n",
      "['h', 'a', 't'] \n",
      "\n",
      "row:  ['a', 'f', 'f', 'l', 'i', 'c', 't', 's', ' ', 'u', 's', ',', ' ', 't', 'h', 'e', ' ', 'o', 'b', 'j', 'e', 'c', 't', ' ', 'o', 'f', ' ', 'o', 'u', 'r', ' ', 'm', 'i', 's', 'e', 'r', 'y', ',', ' ', 'i', 's', ' ', 'a', 's', ' ', 'a', 'n', '\\n']\n",
      "['<pad>', 'a'] f\n",
      "['<pad>', 'a', 'f'] f\n",
      "['a', 'f', 'f'] l\n",
      "['f', 'f', 'l'] i\n",
      "['f', 'l', 'i'] c\n",
      "['l', 'i', 'c'] t\n",
      "['i', 'c', 't'] s\n",
      "['c', 't', 's']  \n",
      "['t', 's', ' '] u\n",
      "['s', ' ', 'u'] s\n",
      "[' ', 'u', 's'] ,\n",
      "['u', 's', ',']  \n",
      "['s', ',', ' '] t\n",
      "[',', ' ', 't'] h\n",
      "[' ', 't', 'h'] e\n",
      "['t', 'h', 'e']  \n",
      "['h', 'e', ' '] o\n",
      "['e', ' ', 'o'] b\n",
      "[' ', 'o', 'b'] j\n",
      "['o', 'b', 'j'] e\n",
      "['b', 'j', 'e'] c\n",
      "['j', 'e', 'c'] t\n",
      "['e', 'c', 't']  \n",
      "['c', 't', ' '] o\n",
      "['t', ' ', 'o'] f\n",
      "[' ', 'o', 'f']  \n",
      "['o', 'f', ' '] o\n",
      "['f', ' ', 'o'] u\n",
      "[' ', 'o', 'u'] r\n",
      "['o', 'u', 'r']  \n",
      "['u', 'r', ' '] m\n",
      "['r', ' ', 'm'] i\n",
      "[' ', 'm', 'i'] s\n",
      "['m', 'i', 's'] e\n",
      "['i', 's', 'e'] r\n",
      "['s', 'e', 'r'] y\n",
      "['e', 'r', 'y'] ,\n",
      "['r', 'y', ',']  \n",
      "['y', ',', ' '] i\n",
      "[',', ' ', 'i'] s\n",
      "[' ', 'i', 's']  \n",
      "['i', 's', ' '] a\n",
      "['s', ' ', 'a'] s\n",
      "[' ', 'a', 's']  \n",
      "['a', 's', ' '] a\n",
      "['s', ' ', 'a'] n\n",
      "[' ', 'a', 'n'] \n",
      "\n",
      "row:  ['i', 'n', 'v', 'e', 'n', 't', 'o', 'r', 'y', ' ', 't', 'o', ' ', 'p', 'a', 'r', 't', 'i', 'c', 'u', 'l', 'a', 'r', 'i', 's', 'e', ' ', 't', 'h', 'e', 'i', 'r', ' ', 'a', 'b', 'u', 'n', 'd', 'a', 'n', 'c', 'e', ';', ' ', 'o', 'u', 'r', '\\n']\n",
      "['<pad>', 'i'] n\n",
      "['<pad>', 'i', 'n'] v\n",
      "['i', 'n', 'v'] e\n",
      "['n', 'v', 'e'] n\n",
      "['v', 'e', 'n'] t\n",
      "['e', 'n', 't'] o\n",
      "['n', 't', 'o'] r\n",
      "['t', 'o', 'r'] y\n",
      "['o', 'r', 'y']  \n",
      "['r', 'y', ' '] t\n",
      "['y', ' ', 't'] o\n",
      "[' ', 't', 'o']  \n",
      "['t', 'o', ' '] p\n",
      "['o', ' ', 'p'] a\n",
      "[' ', 'p', 'a'] r\n",
      "['p', 'a', 'r'] t\n",
      "['a', 'r', 't'] i\n",
      "['r', 't', 'i'] c\n",
      "['t', 'i', 'c'] u\n",
      "['i', 'c', 'u'] l\n",
      "['c', 'u', 'l'] a\n",
      "['u', 'l', 'a'] r\n",
      "['l', 'a', 'r'] i\n",
      "['a', 'r', 'i'] s\n",
      "['r', 'i', 's'] e\n",
      "['i', 's', 'e']  \n",
      "['s', 'e', ' '] t\n",
      "['e', ' ', 't'] h\n",
      "[' ', 't', 'h'] e\n",
      "['t', 'h', 'e'] i\n",
      "['h', 'e', 'i'] r\n",
      "['e', 'i', 'r']  \n",
      "['i', 'r', ' '] a\n",
      "['r', ' ', 'a'] b\n",
      "[' ', 'a', 'b'] u\n",
      "['a', 'b', 'u'] n\n",
      "['b', 'u', 'n'] d\n",
      "['u', 'n', 'd'] a\n",
      "['n', 'd', 'a'] n\n",
      "['d', 'a', 'n'] c\n",
      "['a', 'n', 'c'] e\n",
      "['n', 'c', 'e'] ;\n",
      "['c', 'e', ';']  \n",
      "['e', ';', ' '] o\n",
      "[';', ' ', 'o'] u\n",
      "[' ', 'o', 'u'] r\n",
      "['o', 'u', 'r'] \n",
      "\n",
      "row:  ['s', 'u', 'f', 'f', 'e', 'r', 'a', 'n', 'c', 'e', ' ', 'i', 's', ' ', 'a', ' ', 'g', 'a', 'i', 'n', ' ', 't', 'o', ' ', 't', 'h', 'e', 'm', ' ', 'L', 'e', 't', ' ', 'u', 's', ' ', 'r', 'e', 'v', 'e', 'n', 'g', 'e', ' ', 't', 'h', 'i', 's', ' ', 'w', 'i', 't', 'h', '\\n']\n",
      "['<pad>', 's'] u\n",
      "['<pad>', 's', 'u'] f\n",
      "['s', 'u', 'f'] f\n",
      "['u', 'f', 'f'] e\n",
      "['f', 'f', 'e'] r\n",
      "['f', 'e', 'r'] a\n",
      "['e', 'r', 'a'] n\n",
      "['r', 'a', 'n'] c\n",
      "['a', 'n', 'c'] e\n",
      "['n', 'c', 'e']  \n",
      "['c', 'e', ' '] i\n",
      "['e', ' ', 'i'] s\n",
      "[' ', 'i', 's']  \n",
      "['i', 's', ' '] a\n",
      "['s', ' ', 'a']  \n",
      "[' ', 'a', ' '] g\n",
      "['a', ' ', 'g'] a\n",
      "[' ', 'g', 'a'] i\n",
      "['g', 'a', 'i'] n\n",
      "['a', 'i', 'n']  \n",
      "['i', 'n', ' '] t\n",
      "['n', ' ', 't'] o\n",
      "[' ', 't', 'o']  \n",
      "['t', 'o', ' '] t\n",
      "['o', ' ', 't'] h\n",
      "[' ', 't', 'h'] e\n",
      "['t', 'h', 'e'] m\n",
      "['h', 'e', 'm']  \n",
      "['e', 'm', ' '] L\n",
      "['m', ' ', 'L'] e\n",
      "[' ', 'L', 'e'] t\n",
      "['L', 'e', 't']  \n",
      "['e', 't', ' '] u\n",
      "['t', ' ', 'u'] s\n",
      "[' ', 'u', 's']  \n",
      "['u', 's', ' '] r\n",
      "['s', ' ', 'r'] e\n",
      "[' ', 'r', 'e'] v\n",
      "['r', 'e', 'v'] e\n",
      "['e', 'v', 'e'] n\n",
      "['v', 'e', 'n'] g\n",
      "['e', 'n', 'g'] e\n",
      "['n', 'g', 'e']  \n",
      "['g', 'e', ' '] t\n",
      "['e', ' ', 't'] h\n",
      "[' ', 't', 'h'] i\n",
      "['t', 'h', 'i'] s\n",
      "['h', 'i', 's']  \n",
      "['i', 's', ' '] w\n",
      "['s', ' ', 'w'] i\n",
      "[' ', 'w', 'i'] t\n",
      "['w', 'i', 't'] h\n",
      "['i', 't', 'h'] \n",
      "\n",
      "row:  ['o', 'u', 'r', ' ', 'p', 'i', 'k', 'e', 's', ',', ' ', 'e', 'r', 'e', ' ', 'w', 'e', ' ', 'b', 'e', 'c', 'o', 'm', 'e', ' ', 'r', 'a', 'k', 'e', 's', ':', ' ', 'f', 'o', 'r', ' ', 't', 'h', 'e', ' ', 'g', 'o', 'd', 's', ' ', 'k', 'n', 'o', 'w', ' ', 'I', '\\n']\n",
      "['<pad>', 'o'] u\n",
      "['<pad>', 'o', 'u'] r\n",
      "['o', 'u', 'r']  \n",
      "['u', 'r', ' '] p\n",
      "['r', ' ', 'p'] i\n",
      "[' ', 'p', 'i'] k\n",
      "['p', 'i', 'k'] e\n",
      "['i', 'k', 'e'] s\n",
      "['k', 'e', 's'] ,\n",
      "['e', 's', ',']  \n",
      "['s', ',', ' '] e\n",
      "[',', ' ', 'e'] r\n",
      "[' ', 'e', 'r'] e\n",
      "['e', 'r', 'e']  \n",
      "['r', 'e', ' '] w\n",
      "['e', ' ', 'w'] e\n",
      "[' ', 'w', 'e']  \n",
      "['w', 'e', ' '] b\n",
      "['e', ' ', 'b'] e\n",
      "[' ', 'b', 'e'] c\n",
      "['b', 'e', 'c'] o\n",
      "['e', 'c', 'o'] m\n",
      "['c', 'o', 'm'] e\n",
      "['o', 'm', 'e']  \n",
      "['m', 'e', ' '] r\n",
      "['e', ' ', 'r'] a\n",
      "[' ', 'r', 'a'] k\n",
      "['r', 'a', 'k'] e\n",
      "['a', 'k', 'e'] s\n",
      "['k', 'e', 's'] :\n",
      "['e', 's', ':']  \n",
      "['s', ':', ' '] f\n",
      "[':', ' ', 'f'] o\n",
      "[' ', 'f', 'o'] r\n",
      "['f', 'o', 'r']  \n",
      "['o', 'r', ' '] t\n",
      "['r', ' ', 't'] h\n",
      "[' ', 't', 'h'] e\n",
      "['t', 'h', 'e']  \n",
      "['h', 'e', ' '] g\n",
      "['e', ' ', 'g'] o\n",
      "[' ', 'g', 'o'] d\n",
      "['g', 'o', 'd'] s\n",
      "['o', 'd', 's']  \n",
      "['d', 's', ' '] k\n",
      "['s', ' ', 'k'] n\n",
      "[' ', 'k', 'n'] o\n",
      "['k', 'n', 'o'] w\n",
      "['n', 'o', 'w']  \n",
      "['o', 'w', ' '] I\n",
      "['w', ' ', 'I'] \n",
      "\n",
      "row:  ['s', 'p', 'e', 'a', 'k', ' ', 't', 'h', 'i', 's', ' ', 'i', 'n', ' ', 'h', 'u', 'n', 'g', 'e', 'r', ' ', 'f', 'o', 'r', ' ', 'b', 'r', 'e', 'a', 'd', ',', ' ', 'n', 'o', 't', ' ', 'i', 'n', ' ', 't', 'h', 'i', 'r', 's', 't', ' ', 'f', 'o', 'r', ' ', 'r', 'e', 'v', 'e', 'n', 'g', 'e', '.', '\\n']\n",
      "['<pad>', 's'] p\n",
      "['<pad>', 's', 'p'] e\n",
      "['s', 'p', 'e'] a\n",
      "['p', 'e', 'a'] k\n",
      "['e', 'a', 'k']  \n",
      "['a', 'k', ' '] t\n",
      "['k', ' ', 't'] h\n",
      "[' ', 't', 'h'] i\n",
      "['t', 'h', 'i'] s\n",
      "['h', 'i', 's']  \n",
      "['i', 's', ' '] i\n",
      "['s', ' ', 'i'] n\n",
      "[' ', 'i', 'n']  \n",
      "['i', 'n', ' '] h\n",
      "['n', ' ', 'h'] u\n",
      "[' ', 'h', 'u'] n\n",
      "['h', 'u', 'n'] g\n",
      "['u', 'n', 'g'] e\n",
      "['n', 'g', 'e'] r\n",
      "['g', 'e', 'r']  \n",
      "['e', 'r', ' '] f\n",
      "['r', ' ', 'f'] o\n",
      "[' ', 'f', 'o'] r\n",
      "['f', 'o', 'r']  \n",
      "['o', 'r', ' '] b\n",
      "['r', ' ', 'b'] r\n",
      "[' ', 'b', 'r'] e\n",
      "['b', 'r', 'e'] a\n",
      "['r', 'e', 'a'] d\n",
      "['e', 'a', 'd'] ,\n",
      "['a', 'd', ',']  \n",
      "['d', ',', ' '] n\n",
      "[',', ' ', 'n'] o\n",
      "[' ', 'n', 'o'] t\n",
      "['n', 'o', 't']  \n",
      "['o', 't', ' '] i\n",
      "['t', ' ', 'i'] n\n",
      "[' ', 'i', 'n']  \n",
      "['i', 'n', ' '] t\n",
      "['n', ' ', 't'] h\n",
      "[' ', 't', 'h'] i\n",
      "['t', 'h', 'i'] r\n",
      "['h', 'i', 'r'] s\n",
      "['i', 'r', 's'] t\n",
      "['r', 's', 't']  \n",
      "['s', 't', ' '] f\n",
      "['t', ' ', 'f'] o\n",
      "[' ', 'f', 'o'] r\n",
      "['f', 'o', 'r']  \n",
      "['o', 'r', ' '] r\n",
      "['r', ' ', 'r'] e\n",
      "[' ', 'r', 'e'] v\n",
      "['r', 'e', 'v'] e\n",
      "['e', 'v', 'e'] n\n",
      "['v', 'e', 'n'] g\n",
      "['e', 'n', 'g'] e\n",
      "['n', 'g', 'e'] .\n",
      "['g', 'e', '.'] \n",
      "\n",
      "row:  ['S', 'e', 'c', 'o', 'n', 'd', ' ', 'C', 'i', 't', 'i', 'z', 'e', 'n', ':', '\\n']\n",
      "['<pad>', 'S'] e\n",
      "['<pad>', 'S', 'e'] c\n",
      "['S', 'e', 'c'] o\n",
      "['e', 'c', 'o'] n\n",
      "['c', 'o', 'n'] d\n",
      "['o', 'n', 'd']  \n",
      "['n', 'd', ' '] C\n",
      "['d', ' ', 'C'] i\n",
      "[' ', 'C', 'i'] t\n",
      "['C', 'i', 't'] i\n",
      "['i', 't', 'i'] z\n",
      "['t', 'i', 'z'] e\n",
      "['i', 'z', 'e'] n\n",
      "['z', 'e', 'n'] :\n",
      "['e', 'n', ':'] \n",
      "\n",
      "row:  ['W', 'o', 'u', 'l', 'd', ' ', 'y', 'o', 'u', ' ', 'p', 'r', 'o', 'c', 'e', 'e', 'd', ' ', 'e', 's', 'p', 'e', 'c', 'i', 'a', 'l', 'l', 'y', ' ', 'a', 'g', 'a', 'i', 'n', 's', 't', ' ', 'C', 'a', 'i', 'u', 's', ' ', 'M', 'a', 'r', 'c', 'i', 'u', 's', '?', '\\n']\n",
      "['<pad>', 'W'] o\n",
      "['<pad>', 'W', 'o'] u\n",
      "['W', 'o', 'u'] l\n",
      "['o', 'u', 'l'] d\n",
      "['u', 'l', 'd']  \n",
      "['l', 'd', ' '] y\n",
      "['d', ' ', 'y'] o\n",
      "[' ', 'y', 'o'] u\n",
      "['y', 'o', 'u']  \n",
      "['o', 'u', ' '] p\n",
      "['u', ' ', 'p'] r\n",
      "[' ', 'p', 'r'] o\n",
      "['p', 'r', 'o'] c\n",
      "['r', 'o', 'c'] e\n",
      "['o', 'c', 'e'] e\n",
      "['c', 'e', 'e'] d\n",
      "['e', 'e', 'd']  \n",
      "['e', 'd', ' '] e\n",
      "['d', ' ', 'e'] s\n",
      "[' ', 'e', 's'] p\n",
      "['e', 's', 'p'] e\n",
      "['s', 'p', 'e'] c\n",
      "['p', 'e', 'c'] i\n",
      "['e', 'c', 'i'] a\n",
      "['c', 'i', 'a'] l\n",
      "['i', 'a', 'l'] l\n",
      "['a', 'l', 'l'] y\n",
      "['l', 'l', 'y']  \n",
      "['l', 'y', ' '] a\n",
      "['y', ' ', 'a'] g\n",
      "[' ', 'a', 'g'] a\n",
      "['a', 'g', 'a'] i\n",
      "['g', 'a', 'i'] n\n",
      "['a', 'i', 'n'] s\n",
      "['i', 'n', 's'] t\n",
      "['n', 's', 't']  \n",
      "['s', 't', ' '] C\n",
      "['t', ' ', 'C'] a\n",
      "[' ', 'C', 'a'] i\n",
      "['C', 'a', 'i'] u\n",
      "['a', 'i', 'u'] s\n",
      "['i', 'u', 's']  \n",
      "['u', 's', ' '] M\n",
      "['s', ' ', 'M'] a\n",
      "[' ', 'M', 'a'] r\n",
      "['M', 'a', 'r'] c\n",
      "['a', 'r', 'c'] i\n",
      "['r', 'c', 'i'] u\n",
      "['c', 'i', 'u'] s\n",
      "['i', 'u', 's'] ?\n",
      "['u', 's', '?'] \n",
      "\n",
      "row:  ['A', 'l', 'l', ':', '\\n']\n",
      "['<pad>', 'A'] l\n",
      "['<pad>', 'A', 'l'] l\n",
      "['A', 'l', 'l'] :\n",
      "['l', 'l', ':'] \n",
      "\n",
      "row:  ['A', 'g', 'a', 'i', 'n', 's', 't', ' ', 'h', 'i', 'm', ' ', 'f', 'i', 'r', 's', 't', ':', ' ', 'h', 'e', \"'\", 's', ' ', 'a', ' ', 'v', 'e', 'r', 'y', ' ', 'd', 'o', 'g', ' ', 't', 'o', ' ', 't', 'h', 'e', ' ', 'c', 'o', 'm', 'm', 'o', 'n', 'a', 'l', 't', 'y', '.', '\\n']\n",
      "['<pad>', 'A'] g\n",
      "['<pad>', 'A', 'g'] a\n",
      "['A', 'g', 'a'] i\n",
      "['g', 'a', 'i'] n\n",
      "['a', 'i', 'n'] s\n",
      "['i', 'n', 's'] t\n",
      "['n', 's', 't']  \n",
      "['s', 't', ' '] h\n",
      "['t', ' ', 'h'] i\n",
      "[' ', 'h', 'i'] m\n",
      "['h', 'i', 'm']  \n",
      "['i', 'm', ' '] f\n",
      "['m', ' ', 'f'] i\n",
      "[' ', 'f', 'i'] r\n",
      "['f', 'i', 'r'] s\n",
      "['i', 'r', 's'] t\n",
      "['r', 's', 't'] :\n",
      "['s', 't', ':']  \n",
      "['t', ':', ' '] h\n",
      "[':', ' ', 'h'] e\n",
      "[' ', 'h', 'e'] '\n",
      "['h', 'e', \"'\"] s\n",
      "['e', \"'\", 's']  \n",
      "[\"'\", 's', ' '] a\n",
      "['s', ' ', 'a']  \n",
      "[' ', 'a', ' '] v\n",
      "['a', ' ', 'v'] e\n",
      "[' ', 'v', 'e'] r\n",
      "['v', 'e', 'r'] y\n",
      "['e', 'r', 'y']  \n",
      "['r', 'y', ' '] d\n",
      "['y', ' ', 'd'] o\n",
      "[' ', 'd', 'o'] g\n",
      "['d', 'o', 'g']  \n",
      "['o', 'g', ' '] t\n",
      "['g', ' ', 't'] o\n",
      "[' ', 't', 'o']  \n",
      "['t', 'o', ' '] t\n",
      "['o', ' ', 't'] h\n",
      "[' ', 't', 'h'] e\n",
      "['t', 'h', 'e']  \n",
      "['h', 'e', ' '] c\n",
      "['e', ' ', 'c'] o\n",
      "[' ', 'c', 'o'] m\n",
      "['c', 'o', 'm'] m\n",
      "['o', 'm', 'm'] o\n",
      "['m', 'm', 'o'] n\n",
      "['m', 'o', 'n'] a\n",
      "['o', 'n', 'a'] l\n",
      "['n', 'a', 'l'] t\n",
      "['a', 'l', 't'] y\n",
      "['l', 't', 'y'] .\n",
      "['t', 'y', '.'] \n",
      "\n",
      "row:  ['S', 'e', 'c', 'o', 'n', 'd', ' ', 'C', 'i', 't', 'i', 'z', 'e', 'n', ':', '\\n']\n",
      "['<pad>', 'S'] e\n",
      "['<pad>', 'S', 'e'] c\n",
      "['S', 'e', 'c'] o\n",
      "['e', 'c', 'o'] n\n",
      "['c', 'o', 'n'] d\n",
      "['o', 'n', 'd']  \n",
      "['n', 'd', ' '] C\n",
      "['d', ' ', 'C'] i\n",
      "[' ', 'C', 'i'] t\n",
      "['C', 'i', 't'] i\n",
      "['i', 't', 'i'] z\n",
      "['t', 'i', 'z'] e\n",
      "['i', 'z', 'e'] n\n",
      "['z', 'e', 'n'] :\n",
      "['e', 'n', ':'] \n",
      "\n",
      "row:  ['C', 'o', 'n', 's', 'i', 'd', 'e', 'r', ' ', 'y', 'o', 'u', ' ', 'w', 'h', 'a', 't', ' ', 's', 'e', 'r', 'v', 'i', 'c', 'e', 's', ' ', 'h', 'e', ' ', 'h', 'a', 's', ' ', 'd', 'o', 'n', 'e', ' ', 'f', 'o', 'r', ' ', 'h', 'i', 's', ' ', 'c', 'o', 'u', 'n', 't', 'r', 'y', '?', '\\n']\n",
      "['<pad>', 'C'] o\n",
      "['<pad>', 'C', 'o'] n\n",
      "['C', 'o', 'n'] s\n",
      "['o', 'n', 's'] i\n",
      "['n', 's', 'i'] d\n",
      "['s', 'i', 'd'] e\n",
      "['i', 'd', 'e'] r\n",
      "['d', 'e', 'r']  \n",
      "['e', 'r', ' '] y\n",
      "['r', ' ', 'y'] o\n",
      "[' ', 'y', 'o'] u\n",
      "['y', 'o', 'u']  \n",
      "['o', 'u', ' '] w\n",
      "['u', ' ', 'w'] h\n",
      "[' ', 'w', 'h'] a\n",
      "['w', 'h', 'a'] t\n",
      "['h', 'a', 't']  \n",
      "['a', 't', ' '] s\n",
      "['t', ' ', 's'] e\n",
      "[' ', 's', 'e'] r\n",
      "['s', 'e', 'r'] v\n",
      "['e', 'r', 'v'] i\n",
      "['r', 'v', 'i'] c\n",
      "['v', 'i', 'c'] e\n",
      "['i', 'c', 'e'] s\n",
      "['c', 'e', 's']  \n",
      "['e', 's', ' '] h\n",
      "['s', ' ', 'h'] e\n",
      "[' ', 'h', 'e']  \n",
      "['h', 'e', ' '] h\n",
      "['e', ' ', 'h'] a\n",
      "[' ', 'h', 'a'] s\n",
      "['h', 'a', 's']  \n",
      "['a', 's', ' '] d\n",
      "['s', ' ', 'd'] o\n",
      "[' ', 'd', 'o'] n\n",
      "['d', 'o', 'n'] e\n",
      "['o', 'n', 'e']  \n",
      "['n', 'e', ' '] f\n",
      "['e', ' ', 'f'] o\n",
      "[' ', 'f', 'o'] r\n",
      "['f', 'o', 'r']  \n",
      "['o', 'r', ' '] h\n",
      "['r', ' ', 'h'] i\n",
      "[' ', 'h', 'i'] s\n",
      "['h', 'i', 's']  \n",
      "['i', 's', ' '] c\n",
      "['s', ' ', 'c'] o\n",
      "[' ', 'c', 'o'] u\n",
      "['c', 'o', 'u'] n\n",
      "['o', 'u', 'n'] t\n",
      "['u', 'n', 't'] r\n",
      "['n', 't', 'r'] y\n",
      "['t', 'r', 'y'] ?\n",
      "['r', 'y', '?'] \n",
      "\n",
      "row:  ['F', 'i', 'r', 's', 't', ' ', 'C', 'i', 't', 'i', 'z', 'e', 'n', ':', '\\n']\n",
      "['<pad>', 'F'] i\n",
      "['<pad>', 'F', 'i'] r\n",
      "['F', 'i', 'r'] s\n",
      "['i', 'r', 's'] t\n",
      "['r', 's', 't']  \n",
      "['s', 't', ' '] C\n",
      "['t', ' ', 'C'] i\n",
      "[' ', 'C', 'i'] t\n",
      "['C', 'i', 't'] i\n",
      "['i', 't', 'i'] z\n",
      "['t', 'i', 'z'] e\n",
      "['i', 'z', 'e'] n\n",
      "['z', 'e', 'n'] :\n",
      "['e', 'n', ':'] \n",
      "\n",
      "row:  ['V', 'e', 'r', 'y', ' ', 'w', 'e', 'l', 'l', ';', ' ', 'a', 'n', 'd', ' ', 'c', 'o', 'u', 'l', 'd', ' ', 'b', 'e', ' ', 'c', 'o', 'n', 't', 'e', 'n', 't', ' ', 't', 'o', ' ', 'g', 'i', 'v', 'e', ' ', 'h', 'i', 'm', ' ', 'g', 'o', 'o', 'd', '\\n']\n",
      "['<pad>', 'V'] e\n",
      "['<pad>', 'V', 'e'] r\n",
      "['V', 'e', 'r'] y\n",
      "['e', 'r', 'y']  \n",
      "['r', 'y', ' '] w\n",
      "['y', ' ', 'w'] e\n",
      "[' ', 'w', 'e'] l\n",
      "['w', 'e', 'l'] l\n",
      "['e', 'l', 'l'] ;\n",
      "['l', 'l', ';']  \n",
      "['l', ';', ' '] a\n",
      "[';', ' ', 'a'] n\n",
      "[' ', 'a', 'n'] d\n",
      "['a', 'n', 'd']  \n",
      "['n', 'd', ' '] c\n",
      "['d', ' ', 'c'] o\n",
      "[' ', 'c', 'o'] u\n",
      "['c', 'o', 'u'] l\n",
      "['o', 'u', 'l'] d\n",
      "['u', 'l', 'd']  \n",
      "['l', 'd', ' '] b\n",
      "['d', ' ', 'b'] e\n",
      "[' ', 'b', 'e']  \n",
      "['b', 'e', ' '] c\n",
      "['e', ' ', 'c'] o\n",
      "[' ', 'c', 'o'] n\n",
      "['c', 'o', 'n'] t\n",
      "['o', 'n', 't'] e\n",
      "['n', 't', 'e'] n\n",
      "['t', 'e', 'n'] t\n",
      "['e', 'n', 't']  \n",
      "['n', 't', ' '] t\n",
      "['t', ' ', 't'] o\n",
      "[' ', 't', 'o']  \n",
      "['t', 'o', ' '] g\n",
      "['o', ' ', 'g'] i\n",
      "[' ', 'g', 'i'] v\n",
      "['g', 'i', 'v'] e\n",
      "['i', 'v', 'e']  \n",
      "['v', 'e', ' '] h\n",
      "['e', ' ', 'h'] i\n",
      "[' ', 'h', 'i'] m\n",
      "['h', 'i', 'm']  \n",
      "['i', 'm', ' '] g\n",
      "['m', ' ', 'g'] o\n",
      "[' ', 'g', 'o'] o\n",
      "['g', 'o', 'o'] d\n",
      "['o', 'o', 'd'] \n",
      "\n",
      "row:  ['r', 'e', 'p', 'o', 'r', 't', ' ', 'f', 'o', 'r', 't', ',', ' ', 'b', 'u', 't', ' ', 't', 'h', 'a', 't', ' ', 'h', 'e', ' ', 'p', 'a', 'y', 's', ' ', 'h', 'i', 'm', 's', 'e', 'l', 'f', ' ', 'w', 'i', 't', 'h', ' ', 'b', 'e', 'i', 'n', 'g', ' ', 'p', 'r', 'o', 'u', 'd', '.', '\\n']\n",
      "['<pad>', 'r'] e\n",
      "['<pad>', 'r', 'e'] p\n",
      "['r', 'e', 'p'] o\n",
      "['e', 'p', 'o'] r\n",
      "['p', 'o', 'r'] t\n",
      "['o', 'r', 't']  \n",
      "['r', 't', ' '] f\n",
      "['t', ' ', 'f'] o\n",
      "[' ', 'f', 'o'] r\n",
      "['f', 'o', 'r'] t\n",
      "['o', 'r', 't'] ,\n",
      "['r', 't', ',']  \n",
      "['t', ',', ' '] b\n",
      "[',', ' ', 'b'] u\n",
      "[' ', 'b', 'u'] t\n",
      "['b', 'u', 't']  \n",
      "['u', 't', ' '] t\n",
      "['t', ' ', 't'] h\n",
      "[' ', 't', 'h'] a\n",
      "['t', 'h', 'a'] t\n",
      "['h', 'a', 't']  \n",
      "['a', 't', ' '] h\n",
      "['t', ' ', 'h'] e\n",
      "[' ', 'h', 'e']  \n",
      "['h', 'e', ' '] p\n",
      "['e', ' ', 'p'] a\n",
      "[' ', 'p', 'a'] y\n",
      "['p', 'a', 'y'] s\n",
      "['a', 'y', 's']  \n",
      "['y', 's', ' '] h\n",
      "['s', ' ', 'h'] i\n",
      "[' ', 'h', 'i'] m\n",
      "['h', 'i', 'm'] s\n",
      "['i', 'm', 's'] e\n",
      "['m', 's', 'e'] l\n",
      "['s', 'e', 'l'] f\n",
      "['e', 'l', 'f']  \n",
      "['l', 'f', ' '] w\n",
      "['f', ' ', 'w'] i\n",
      "[' ', 'w', 'i'] t\n",
      "['w', 'i', 't'] h\n",
      "['i', 't', 'h']  \n",
      "['t', 'h', ' '] b\n",
      "['h', ' ', 'b'] e\n",
      "[' ', 'b', 'e'] i\n",
      "['b', 'e', 'i'] n\n",
      "['e', 'i', 'n'] g\n",
      "['i', 'n', 'g']  \n",
      "['n', 'g', ' '] p\n",
      "['g', ' ', 'p'] r\n",
      "[' ', 'p', 'r'] o\n",
      "['p', 'r', 'o'] u\n",
      "['r', 'o', 'u'] d\n",
      "['o', 'u', 'd'] .\n",
      "['u', 'd', '.'] \n",
      "\n",
      "row:  ['S', 'e', 'c', 'o', 'n', 'd', ' ', 'C', 'i', 't', 'i', 'z', 'e', 'n', ':', '\\n']\n",
      "['<pad>', 'S'] e\n",
      "['<pad>', 'S', 'e'] c\n",
      "['S', 'e', 'c'] o\n",
      "['e', 'c', 'o'] n\n",
      "['c', 'o', 'n'] d\n",
      "['o', 'n', 'd']  \n",
      "['n', 'd', ' '] C\n",
      "['d', ' ', 'C'] i\n",
      "[' ', 'C', 'i'] t\n",
      "['C', 'i', 't'] i\n",
      "['i', 't', 'i'] z\n",
      "['t', 'i', 'z'] e\n",
      "['i', 'z', 'e'] n\n",
      "['z', 'e', 'n'] :\n",
      "['e', 'n', ':'] \n",
      "\n",
      "row:  ['N', 'a', 'y', ',', ' ', 'b', 'u', 't', ' ', 's', 'p', 'e', 'a', 'k', ' ', 'n', 'o', 't', ' ', 'm', 'a', 'l', 'i', 'c', 'i', 'o', 'u', 's', 'l', 'y', '.', '\\n']\n",
      "['<pad>', 'N'] a\n",
      "['<pad>', 'N', 'a'] y\n",
      "['N', 'a', 'y'] ,\n",
      "['a', 'y', ',']  \n",
      "['y', ',', ' '] b\n",
      "[',', ' ', 'b'] u\n",
      "[' ', 'b', 'u'] t\n",
      "['b', 'u', 't']  \n",
      "['u', 't', ' '] s\n",
      "['t', ' ', 's'] p\n",
      "[' ', 's', 'p'] e\n",
      "['s', 'p', 'e'] a\n",
      "['p', 'e', 'a'] k\n",
      "['e', 'a', 'k']  \n",
      "['a', 'k', ' '] n\n",
      "['k', ' ', 'n'] o\n",
      "[' ', 'n', 'o'] t\n",
      "['n', 'o', 't']  \n",
      "['o', 't', ' '] m\n",
      "['t', ' ', 'm'] a\n",
      "[' ', 'm', 'a'] l\n",
      "['m', 'a', 'l'] i\n",
      "['a', 'l', 'i'] c\n",
      "['l', 'i', 'c'] i\n",
      "['i', 'c', 'i'] o\n",
      "['c', 'i', 'o'] u\n",
      "['i', 'o', 'u'] s\n",
      "['o', 'u', 's'] l\n",
      "['u', 's', 'l'] y\n",
      "['s', 'l', 'y'] .\n",
      "['l', 'y', '.'] \n",
      "\n",
      "row:  ['F', 'i', 'r', 's', 't', ' ', 'C', 'i', 't', 'i', 'z', 'e', 'n', ':', '\\n']\n",
      "['<pad>', 'F'] i\n",
      "['<pad>', 'F', 'i'] r\n",
      "['F', 'i', 'r'] s\n",
      "['i', 'r', 's'] t\n",
      "['r', 's', 't']  \n",
      "['s', 't', ' '] C\n",
      "['t', ' ', 'C'] i\n",
      "[' ', 'C', 'i'] t\n",
      "['C', 'i', 't'] i\n",
      "['i', 't', 'i'] z\n",
      "['t', 'i', 'z'] e\n",
      "['i', 'z', 'e'] n\n",
      "['z', 'e', 'n'] :\n",
      "['e', 'n', ':'] \n",
      "\n",
      "row:  ['I', ' ', 's', 'a', 'y', ' ', 'u', 'n', 't', 'o', ' ', 'y', 'o', 'u', ',', ' ', 'w', 'h', 'a', 't', ' ', 'h', 'e', ' ', 'h', 'a', 't', 'h', ' ', 'd', 'o', 'n', 'e', ' ', 'f', 'a', 'm', 'o', 'u', 's', 'l', 'y', ',', ' ', 'h', 'e', ' ', 'd', 'i', 'd', '\\n']\n",
      "['<pad>', 'I']  \n",
      "['<pad>', 'I', ' '] s\n",
      "['I', ' ', 's'] a\n",
      "[' ', 's', 'a'] y\n",
      "['s', 'a', 'y']  \n",
      "['a', 'y', ' '] u\n",
      "['y', ' ', 'u'] n\n",
      "[' ', 'u', 'n'] t\n",
      "['u', 'n', 't'] o\n",
      "['n', 't', 'o']  \n",
      "['t', 'o', ' '] y\n",
      "['o', ' ', 'y'] o\n",
      "[' ', 'y', 'o'] u\n",
      "['y', 'o', 'u'] ,\n",
      "['o', 'u', ',']  \n",
      "['u', ',', ' '] w\n",
      "[',', ' ', 'w'] h\n",
      "[' ', 'w', 'h'] a\n",
      "['w', 'h', 'a'] t\n",
      "['h', 'a', 't']  \n",
      "['a', 't', ' '] h\n",
      "['t', ' ', 'h'] e\n",
      "[' ', 'h', 'e']  \n",
      "['h', 'e', ' '] h\n",
      "['e', ' ', 'h'] a\n",
      "[' ', 'h', 'a'] t\n",
      "['h', 'a', 't'] h\n",
      "['a', 't', 'h']  \n",
      "['t', 'h', ' '] d\n",
      "['h', ' ', 'd'] o\n",
      "[' ', 'd', 'o'] n\n",
      "['d', 'o', 'n'] e\n",
      "['o', 'n', 'e']  \n",
      "['n', 'e', ' '] f\n",
      "['e', ' ', 'f'] a\n",
      "[' ', 'f', 'a'] m\n",
      "['f', 'a', 'm'] o\n",
      "['a', 'm', 'o'] u\n",
      "['m', 'o', 'u'] s\n",
      "['o', 'u', 's'] l\n",
      "['u', 's', 'l'] y\n",
      "['s', 'l', 'y'] ,\n",
      "['l', 'y', ',']  \n",
      "['y', ',', ' '] h\n",
      "[',', ' ', 'h'] e\n",
      "[' ', 'h', 'e']  \n",
      "['h', 'e', ' '] d\n",
      "['e', ' ', 'd'] i\n",
      "[' ', 'd', 'i'] d\n",
      "['d', 'i', 'd'] \n",
      "\n",
      "row:  ['i', 't', ' ', 't', 'o', ' ', 't', 'h', 'a', 't', ' ', 'e', 'n', 'd', ':', ' ', 't', 'h', 'o', 'u', 'g', 'h', ' ', 's', 'o', 'f', 't', '-', 'c', 'o', 'n', 's', 'c', 'i', 'e', 'n', 'c', 'e', 'd', ' ', 'm', 'e', 'n', ' ', 'c', 'a', 'n', ' ', 'b', 'e', '\\n']\n",
      "['<pad>', 'i'] t\n",
      "['<pad>', 'i', 't']  \n",
      "['i', 't', ' '] t\n",
      "['t', ' ', 't'] o\n",
      "[' ', 't', 'o']  \n",
      "['t', 'o', ' '] t\n",
      "['o', ' ', 't'] h\n",
      "[' ', 't', 'h'] a\n",
      "['t', 'h', 'a'] t\n",
      "['h', 'a', 't']  \n",
      "['a', 't', ' '] e\n",
      "['t', ' ', 'e'] n\n",
      "[' ', 'e', 'n'] d\n",
      "['e', 'n', 'd'] :\n",
      "['n', 'd', ':']  \n",
      "['d', ':', ' '] t\n",
      "[':', ' ', 't'] h\n",
      "[' ', 't', 'h'] o\n",
      "['t', 'h', 'o'] u\n",
      "['h', 'o', 'u'] g\n",
      "['o', 'u', 'g'] h\n",
      "['u', 'g', 'h']  \n",
      "['g', 'h', ' '] s\n",
      "['h', ' ', 's'] o\n",
      "[' ', 's', 'o'] f\n",
      "['s', 'o', 'f'] t\n",
      "['o', 'f', 't'] -\n",
      "['f', 't', '-'] c\n",
      "['t', '-', 'c'] o\n",
      "['-', 'c', 'o'] n\n",
      "['c', 'o', 'n'] s\n",
      "['o', 'n', 's'] c\n",
      "['n', 's', 'c'] i\n",
      "['s', 'c', 'i'] e\n",
      "['c', 'i', 'e'] n\n",
      "['i', 'e', 'n'] c\n",
      "['e', 'n', 'c'] e\n",
      "['n', 'c', 'e'] d\n",
      "['c', 'e', 'd']  \n",
      "['e', 'd', ' '] m\n",
      "['d', ' ', 'm'] e\n",
      "[' ', 'm', 'e'] n\n",
      "['m', 'e', 'n']  \n",
      "['e', 'n', ' '] c\n",
      "['n', ' ', 'c'] a\n",
      "[' ', 'c', 'a'] n\n",
      "['c', 'a', 'n']  \n",
      "['a', 'n', ' '] b\n",
      "['n', ' ', 'b'] e\n",
      "[' ', 'b', 'e'] \n",
      "\n",
      "row:  ['c', 'o', 'n', 't', 'e', 'n', 't', ' ', 't', 'o', ' ', 's', 'a', 'y', ' ', 'i', 't', ' ', 'w', 'a', 's', ' ', 'f', 'o', 'r', ' ', 'h', 'i', 's', ' ', 'c', 'o', 'u', 'n', 't', 'r', 'y', ' ', 'h', 'e', ' ', 'd', 'i', 'd', ' ', 'i', 't', ' ', 't', 'o', '\\n']\n",
      "['<pad>', 'c'] o\n",
      "['<pad>', 'c', 'o'] n\n",
      "['c', 'o', 'n'] t\n",
      "['o', 'n', 't'] e\n",
      "['n', 't', 'e'] n\n",
      "['t', 'e', 'n'] t\n",
      "['e', 'n', 't']  \n",
      "['n', 't', ' '] t\n",
      "['t', ' ', 't'] o\n",
      "[' ', 't', 'o']  \n",
      "['t', 'o', ' '] s\n",
      "['o', ' ', 's'] a\n",
      "[' ', 's', 'a'] y\n",
      "['s', 'a', 'y']  \n",
      "['a', 'y', ' '] i\n",
      "['y', ' ', 'i'] t\n",
      "[' ', 'i', 't']  \n",
      "['i', 't', ' '] w\n",
      "['t', ' ', 'w'] a\n",
      "[' ', 'w', 'a'] s\n",
      "['w', 'a', 's']  \n",
      "['a', 's', ' '] f\n",
      "['s', ' ', 'f'] o\n",
      "[' ', 'f', 'o'] r\n",
      "['f', 'o', 'r']  \n",
      "['o', 'r', ' '] h\n",
      "['r', ' ', 'h'] i\n",
      "[' ', 'h', 'i'] s\n",
      "['h', 'i', 's']  \n",
      "['i', 's', ' '] c\n",
      "['s', ' ', 'c'] o\n",
      "[' ', 'c', 'o'] u\n",
      "['c', 'o', 'u'] n\n",
      "['o', 'u', 'n'] t\n",
      "['u', 'n', 't'] r\n",
      "['n', 't', 'r'] y\n",
      "['t', 'r', 'y']  \n",
      "['r', 'y', ' '] h\n",
      "['y', ' ', 'h'] e\n",
      "[' ', 'h', 'e']  \n",
      "['h', 'e', ' '] d\n",
      "['e', ' ', 'd'] i\n",
      "[' ', 'd', 'i'] d\n",
      "['d', 'i', 'd']  \n",
      "['i', 'd', ' '] i\n",
      "['d', ' ', 'i'] t\n",
      "[' ', 'i', 't']  \n",
      "['i', 't', ' '] t\n",
      "['t', ' ', 't'] o\n",
      "[' ', 't', 'o'] \n",
      "\n",
      "row:  ['p', 'l', 'e', 'a', 's', 'e', ' ', 'h', 'i', 's', ' ', 'm', 'o', 't', 'h', 'e', 'r', ' ', 'a', 'n', 'd', ' ', 't', 'o', ' ', 'b', 'e', ' ', 'p', 'a', 'r', 't', 'l', 'y', ' ', 'p', 'r', 'o', 'u', 'd', ';', ' ', 'w', 'h', 'i', 'c', 'h', ' ', 'h', 'e', '\\n']\n",
      "['<pad>', 'p'] l\n",
      "['<pad>', 'p', 'l'] e\n",
      "['p', 'l', 'e'] a\n",
      "['l', 'e', 'a'] s\n",
      "['e', 'a', 's'] e\n",
      "['a', 's', 'e']  \n",
      "['s', 'e', ' '] h\n",
      "['e', ' ', 'h'] i\n",
      "[' ', 'h', 'i'] s\n",
      "['h', 'i', 's']  \n",
      "['i', 's', ' '] m\n",
      "['s', ' ', 'm'] o\n",
      "[' ', 'm', 'o'] t\n",
      "['m', 'o', 't'] h\n",
      "['o', 't', 'h'] e\n",
      "['t', 'h', 'e'] r\n",
      "['h', 'e', 'r']  \n",
      "['e', 'r', ' '] a\n",
      "['r', ' ', 'a'] n\n",
      "[' ', 'a', 'n'] d\n",
      "['a', 'n', 'd']  \n",
      "['n', 'd', ' '] t\n",
      "['d', ' ', 't'] o\n",
      "[' ', 't', 'o']  \n",
      "['t', 'o', ' '] b\n",
      "['o', ' ', 'b'] e\n",
      "[' ', 'b', 'e']  \n",
      "['b', 'e', ' '] p\n",
      "['e', ' ', 'p'] a\n",
      "[' ', 'p', 'a'] r\n",
      "['p', 'a', 'r'] t\n",
      "['a', 'r', 't'] l\n",
      "['r', 't', 'l'] y\n",
      "['t', 'l', 'y']  \n",
      "['l', 'y', ' '] p\n",
      "['y', ' ', 'p'] r\n",
      "[' ', 'p', 'r'] o\n",
      "['p', 'r', 'o'] u\n",
      "['r', 'o', 'u'] d\n",
      "['o', 'u', 'd'] ;\n",
      "['u', 'd', ';']  \n",
      "['d', ';', ' '] w\n",
      "[';', ' ', 'w'] h\n",
      "[' ', 'w', 'h'] i\n",
      "['w', 'h', 'i'] c\n",
      "['h', 'i', 'c'] h\n",
      "['i', 'c', 'h']  \n",
      "['c', 'h', ' '] h\n",
      "['h', ' ', 'h'] e\n",
      "[' ', 'h', 'e'] \n",
      "\n",
      "row:  ['i', 's', ',', ' ', 'e', 'v', 'e', 'n', ' ', 't', 'i', 'l', 'l', ' ', 't', 'h', 'e', ' ', 'a', 'l', 't', 'i', 't', 'u', 'd', 'e', ' ', 'o', 'f', ' ', 'h', 'i', 's', ' ', 'v', 'i', 'r', 't', 'u', 'e', '.', '\\n']\n",
      "['<pad>', 'i'] s\n",
      "['<pad>', 'i', 's'] ,\n",
      "['i', 's', ',']  \n",
      "['s', ',', ' '] e\n",
      "[',', ' ', 'e'] v\n",
      "[' ', 'e', 'v'] e\n",
      "['e', 'v', 'e'] n\n",
      "['v', 'e', 'n']  \n",
      "['e', 'n', ' '] t\n",
      "['n', ' ', 't'] i\n",
      "[' ', 't', 'i'] l\n",
      "['t', 'i', 'l'] l\n",
      "['i', 'l', 'l']  \n",
      "['l', 'l', ' '] t\n",
      "['l', ' ', 't'] h\n",
      "[' ', 't', 'h'] e\n",
      "['t', 'h', 'e']  \n",
      "['h', 'e', ' '] a\n",
      "['e', ' ', 'a'] l\n",
      "[' ', 'a', 'l'] t\n",
      "['a', 'l', 't'] i\n",
      "['l', 't', 'i'] t\n",
      "['t', 'i', 't'] u\n",
      "['i', 't', 'u'] d\n",
      "['t', 'u', 'd'] e\n",
      "['u', 'd', 'e']  \n",
      "['d', 'e', ' '] o\n",
      "['e', ' ', 'o'] f\n",
      "[' ', 'o', 'f']  \n",
      "['o', 'f', ' '] h\n",
      "['f', ' ', 'h'] i\n",
      "[' ', 'h', 'i'] s\n",
      "['h', 'i', 's']  \n",
      "['i', 's', ' '] v\n",
      "['s', ' ', 'v'] i\n",
      "[' ', 'v', 'i'] r\n",
      "['v', 'i', 'r'] t\n",
      "['i', 'r', 't'] u\n",
      "['r', 't', 'u'] e\n",
      "['t', 'u', 'e'] .\n",
      "['u', 'e', '.'] \n",
      "\n",
      "row:  ['S', 'e', 'c', 'o', 'n', 'd', ' ', 'C', 'i', 't', 'i', 'z', 'e', 'n', ':', '\\n']\n",
      "['<pad>', 'S'] e\n",
      "['<pad>', 'S', 'e'] c\n",
      "['S', 'e', 'c'] o\n",
      "['e', 'c', 'o'] n\n",
      "['c', 'o', 'n'] d\n",
      "['o', 'n', 'd']  \n",
      "['n', 'd', ' '] C\n",
      "['d', ' ', 'C'] i\n",
      "[' ', 'C', 'i'] t\n",
      "['C', 'i', 't'] i\n",
      "['i', 't', 'i'] z\n",
      "['t', 'i', 'z'] e\n",
      "['i', 'z', 'e'] n\n",
      "['z', 'e', 'n'] :\n",
      "['e', 'n', ':'] \n",
      "\n",
      "row:  ['W', 'h', 'a', 't', ' ', 'h', 'e', ' ', 'c', 'a', 'n', 'n', 'o', 't', ' ', 'h', 'e', 'l', 'p', ' ', 'i', 'n', ' ', 'h', 'i', 's', ' ', 'n', 'a', 't', 'u', 'r', 'e', ',', ' ', 'y', 'o', 'u', ' ', 'a', 'c', 'c', 'o', 'u', 'n', 't', ' ', 'a', '\\n']\n",
      "['<pad>', 'W'] h\n",
      "['<pad>', 'W', 'h'] a\n",
      "['W', 'h', 'a'] t\n",
      "['h', 'a', 't']  \n",
      "['a', 't', ' '] h\n",
      "['t', ' ', 'h'] e\n",
      "[' ', 'h', 'e']  \n",
      "['h', 'e', ' '] c\n",
      "['e', ' ', 'c'] a\n",
      "[' ', 'c', 'a'] n\n",
      "['c', 'a', 'n'] n\n",
      "['a', 'n', 'n'] o\n",
      "['n', 'n', 'o'] t\n",
      "['n', 'o', 't']  \n",
      "['o', 't', ' '] h\n",
      "['t', ' ', 'h'] e\n",
      "[' ', 'h', 'e'] l\n",
      "['h', 'e', 'l'] p\n",
      "['e', 'l', 'p']  \n",
      "['l', 'p', ' '] i\n",
      "['p', ' ', 'i'] n\n",
      "[' ', 'i', 'n']  \n",
      "['i', 'n', ' '] h\n",
      "['n', ' ', 'h'] i\n",
      "[' ', 'h', 'i'] s\n",
      "['h', 'i', 's']  \n",
      "['i', 's', ' '] n\n",
      "['s', ' ', 'n'] a\n",
      "[' ', 'n', 'a'] t\n",
      "['n', 'a', 't'] u\n",
      "['a', 't', 'u'] r\n",
      "['t', 'u', 'r'] e\n",
      "['u', 'r', 'e'] ,\n",
      "['r', 'e', ',']  \n",
      "['e', ',', ' '] y\n",
      "[',', ' ', 'y'] o\n",
      "[' ', 'y', 'o'] u\n",
      "['y', 'o', 'u']  \n",
      "['o', 'u', ' '] a\n",
      "['u', ' ', 'a'] c\n",
      "[' ', 'a', 'c'] c\n",
      "['a', 'c', 'c'] o\n",
      "['c', 'c', 'o'] u\n",
      "['c', 'o', 'u'] n\n",
      "['o', 'u', 'n'] t\n",
      "['u', 'n', 't']  \n",
      "['n', 't', ' '] a\n",
      "['t', ' ', 'a'] \n",
      "\n",
      "row:  ['v', 'i', 'c', 'e', ' ', 'i', 'n', ' ', 'h', 'i', 'm', '.', ' ', 'Y', 'o', 'u', ' ', 'm', 'u', 's', 't', ' ', 'i', 'n', ' ', 'n', 'o', ' ', 'w', 'a', 'y', ' ', 's', 'a', 'y', ' ', 'h', 'e', ' ', 'i', 's', ' ', 'c', 'o', 'v', 'e', 't', 'o', 'u', 's', '.', '\\n']\n",
      "['<pad>', 'v'] i\n",
      "['<pad>', 'v', 'i'] c\n",
      "['v', 'i', 'c'] e\n",
      "['i', 'c', 'e']  \n",
      "['c', 'e', ' '] i\n",
      "['e', ' ', 'i'] n\n",
      "[' ', 'i', 'n']  \n",
      "['i', 'n', ' '] h\n",
      "['n', ' ', 'h'] i\n",
      "[' ', 'h', 'i'] m\n",
      "['h', 'i', 'm'] .\n",
      "['i', 'm', '.']  \n",
      "['m', '.', ' '] Y\n",
      "['.', ' ', 'Y'] o\n",
      "[' ', 'Y', 'o'] u\n",
      "['Y', 'o', 'u']  \n",
      "['o', 'u', ' '] m\n",
      "['u', ' ', 'm'] u\n",
      "[' ', 'm', 'u'] s\n",
      "['m', 'u', 's'] t\n",
      "['u', 's', 't']  \n",
      "['s', 't', ' '] i\n",
      "['t', ' ', 'i'] n\n",
      "[' ', 'i', 'n']  \n",
      "['i', 'n', ' '] n\n",
      "['n', ' ', 'n'] o\n",
      "[' ', 'n', 'o']  \n",
      "['n', 'o', ' '] w\n",
      "['o', ' ', 'w'] a\n",
      "[' ', 'w', 'a'] y\n",
      "['w', 'a', 'y']  \n",
      "['a', 'y', ' '] s\n",
      "['y', ' ', 's'] a\n",
      "[' ', 's', 'a'] y\n",
      "['s', 'a', 'y']  \n",
      "['a', 'y', ' '] h\n",
      "['y', ' ', 'h'] e\n",
      "[' ', 'h', 'e']  \n",
      "['h', 'e', ' '] i\n",
      "['e', ' ', 'i'] s\n",
      "[' ', 'i', 's']  \n",
      "['i', 's', ' '] c\n",
      "['s', ' ', 'c'] o\n",
      "[' ', 'c', 'o'] v\n",
      "['c', 'o', 'v'] e\n",
      "['o', 'v', 'e'] t\n",
      "['v', 'e', 't'] o\n",
      "['e', 't', 'o'] u\n",
      "['t', 'o', 'u'] s\n",
      "['o', 'u', 's'] .\n",
      "['u', 's', '.'] \n",
      "\n",
      "row:  ['F', 'i', 'r', 's', 't', ' ', 'C', 'i', 't', 'i', 'z', 'e', 'n', ':', '\\n']\n",
      "['<pad>', 'F'] i\n",
      "['<pad>', 'F', 'i'] r\n",
      "['F', 'i', 'r'] s\n",
      "['i', 'r', 's'] t\n",
      "['r', 's', 't']  \n",
      "['s', 't', ' '] C\n",
      "['t', ' ', 'C'] i\n",
      "[' ', 'C', 'i'] t\n",
      "['C', 'i', 't'] i\n",
      "['i', 't', 'i'] z\n",
      "['t', 'i', 'z'] e\n",
      "['i', 'z', 'e'] n\n",
      "['z', 'e', 'n'] :\n",
      "['e', 'n', ':'] \n",
      "\n",
      "row:  ['I', 'f', ' ', 'I', ' ', 'm', 'u', 's', 't', ' ', 'n', 'o', 't', ',', ' ', 'I', ' ', 'n', 'e', 'e', 'd', ' ', 'n', 'o', 't', ' ', 'b', 'e', ' ', 'b', 'a', 'r', 'r', 'e', 'n', ' ', 'o', 'f', ' ', 'a', 'c', 'c', 'u', 's', 'a', 't', 'i', 'o', 'n', 's', ';', '\\n']\n",
      "['<pad>', 'I'] f\n",
      "['<pad>', 'I', 'f']  \n",
      "['I', 'f', ' '] I\n",
      "['f', ' ', 'I']  \n",
      "[' ', 'I', ' '] m\n",
      "['I', ' ', 'm'] u\n",
      "[' ', 'm', 'u'] s\n",
      "['m', 'u', 's'] t\n",
      "['u', 's', 't']  \n",
      "['s', 't', ' '] n\n",
      "['t', ' ', 'n'] o\n",
      "[' ', 'n', 'o'] t\n",
      "['n', 'o', 't'] ,\n",
      "['o', 't', ',']  \n",
      "['t', ',', ' '] I\n",
      "[',', ' ', 'I']  \n",
      "[' ', 'I', ' '] n\n",
      "['I', ' ', 'n'] e\n",
      "[' ', 'n', 'e'] e\n",
      "['n', 'e', 'e'] d\n",
      "['e', 'e', 'd']  \n",
      "['e', 'd', ' '] n\n",
      "['d', ' ', 'n'] o\n",
      "[' ', 'n', 'o'] t\n",
      "['n', 'o', 't']  \n",
      "['o', 't', ' '] b\n",
      "['t', ' ', 'b'] e\n",
      "[' ', 'b', 'e']  \n",
      "['b', 'e', ' '] b\n",
      "['e', ' ', 'b'] a\n",
      "[' ', 'b', 'a'] r\n",
      "['b', 'a', 'r'] r\n",
      "['a', 'r', 'r'] e\n",
      "['r', 'r', 'e'] n\n",
      "['r', 'e', 'n']  \n",
      "['e', 'n', ' '] o\n",
      "['n', ' ', 'o'] f\n",
      "[' ', 'o', 'f']  \n",
      "['o', 'f', ' '] a\n",
      "['f', ' ', 'a'] c\n",
      "[' ', 'a', 'c'] c\n",
      "['a', 'c', 'c'] u\n",
      "['c', 'c', 'u'] s\n",
      "['c', 'u', 's'] a\n",
      "['u', 's', 'a'] t\n",
      "['s', 'a', 't'] i\n",
      "['a', 't', 'i'] o\n",
      "['t', 'i', 'o'] n\n",
      "['i', 'o', 'n'] s\n",
      "['o', 'n', 's'] ;\n",
      "['n', 's', ';'] \n",
      "\n",
      "row:  ['h', 'e', ' ', 'h', 'a', 't', 'h', ' ', 'f', 'a', 'u', 'l', 't', 's', ',', ' ', 'w', 'i', 't', 'h', ' ', 's', 'u', 'r', 'p', 'l', 'u', 's', ',', ' ', 't', 'o', ' ', 't', 'i', 'r', 'e', ' ', 'i', 'n', ' ', 'r', 'e', 'p', 'e', 't', 'i', 't', 'i', 'o', 'n', '.', '\\n']\n",
      "['<pad>', 'h'] e\n",
      "['<pad>', 'h', 'e']  \n",
      "['h', 'e', ' '] h\n",
      "['e', ' ', 'h'] a\n",
      "[' ', 'h', 'a'] t\n",
      "['h', 'a', 't'] h\n",
      "['a', 't', 'h']  \n",
      "['t', 'h', ' '] f\n",
      "['h', ' ', 'f'] a\n",
      "[' ', 'f', 'a'] u\n",
      "['f', 'a', 'u'] l\n",
      "['a', 'u', 'l'] t\n",
      "['u', 'l', 't'] s\n",
      "['l', 't', 's'] ,\n",
      "['t', 's', ',']  \n",
      "['s', ',', ' '] w\n",
      "[',', ' ', 'w'] i\n",
      "[' ', 'w', 'i'] t\n",
      "['w', 'i', 't'] h\n",
      "['i', 't', 'h']  \n",
      "['t', 'h', ' '] s\n",
      "['h', ' ', 's'] u\n",
      "[' ', 's', 'u'] r\n",
      "['s', 'u', 'r'] p\n",
      "['u', 'r', 'p'] l\n",
      "['r', 'p', 'l'] u\n",
      "['p', 'l', 'u'] s\n",
      "['l', 'u', 's'] ,\n",
      "['u', 's', ',']  \n",
      "['s', ',', ' '] t\n",
      "[',', ' ', 't'] o\n",
      "[' ', 't', 'o']  \n",
      "['t', 'o', ' '] t\n",
      "['o', ' ', 't'] i\n",
      "[' ', 't', 'i'] r\n",
      "['t', 'i', 'r'] e\n",
      "['i', 'r', 'e']  \n",
      "['r', 'e', ' '] i\n",
      "['e', ' ', 'i'] n\n",
      "[' ', 'i', 'n']  \n",
      "['i', 'n', ' '] r\n",
      "['n', ' ', 'r'] e\n",
      "[' ', 'r', 'e'] p\n",
      "['r', 'e', 'p'] e\n",
      "['e', 'p', 'e'] t\n",
      "['p', 'e', 't'] i\n",
      "['e', 't', 'i'] t\n",
      "['t', 'i', 't'] i\n",
      "['i', 't', 'i'] o\n",
      "['t', 'i', 'o'] n\n",
      "['i', 'o', 'n'] .\n",
      "['o', 'n', '.'] \n",
      "\n",
      "row:  ['W', 'h', 'a', 't', ' ', 's', 'h', 'o', 'u', 't', 's', ' ', 'a', 'r', 'e', ' ', 't', 'h', 'e', 's', 'e', '?', ' ', 'T', 'h', 'e', ' ', 'o', 't', 'h', 'e', 'r', ' ', 's', 'i', 'd', 'e', ' ', 'o', \"'\", ' ', 't', 'h', 'e', ' ', 'c', 'i', 't', 'y', '\\n']\n",
      "['<pad>', 'W'] h\n",
      "['<pad>', 'W', 'h'] a\n",
      "['W', 'h', 'a'] t\n",
      "['h', 'a', 't']  \n",
      "['a', 't', ' '] s\n",
      "['t', ' ', 's'] h\n",
      "[' ', 's', 'h'] o\n",
      "['s', 'h', 'o'] u\n",
      "['h', 'o', 'u'] t\n",
      "['o', 'u', 't'] s\n",
      "['u', 't', 's']  \n",
      "['t', 's', ' '] a\n",
      "['s', ' ', 'a'] r\n",
      "[' ', 'a', 'r'] e\n",
      "['a', 'r', 'e']  \n",
      "['r', 'e', ' '] t\n",
      "['e', ' ', 't'] h\n",
      "[' ', 't', 'h'] e\n",
      "['t', 'h', 'e'] s\n",
      "['h', 'e', 's'] e\n",
      "['e', 's', 'e'] ?\n",
      "['s', 'e', '?']  \n",
      "['e', '?', ' '] T\n",
      "['?', ' ', 'T'] h\n",
      "[' ', 'T', 'h'] e\n",
      "['T', 'h', 'e']  \n",
      "['h', 'e', ' '] o\n",
      "['e', ' ', 'o'] t\n",
      "[' ', 'o', 't'] h\n",
      "['o', 't', 'h'] e\n",
      "['t', 'h', 'e'] r\n",
      "['h', 'e', 'r']  \n",
      "['e', 'r', ' '] s\n",
      "['r', ' ', 's'] i\n",
      "[' ', 's', 'i'] d\n",
      "['s', 'i', 'd'] e\n",
      "['i', 'd', 'e']  \n",
      "['d', 'e', ' '] o\n",
      "['e', ' ', 'o'] '\n",
      "[' ', 'o', \"'\"]  \n",
      "['o', \"'\", ' '] t\n",
      "[\"'\", ' ', 't'] h\n",
      "[' ', 't', 'h'] e\n",
      "['t', 'h', 'e']  \n",
      "['h', 'e', ' '] c\n",
      "['e', ' ', 'c'] i\n",
      "[' ', 'c', 'i'] t\n",
      "['c', 'i', 't'] y\n",
      "['i', 't', 'y'] \n",
      "\n",
      "row:  ['i', 's', ' ', 'r', 'i', 's', 'e', 'n', ':', ' ', 'w', 'h', 'y', ' ', 's', 't', 'a', 'y', ' ', 'w', 'e', ' ', 'p', 'r', 'a', 't', 'i', 'n', 'g', ' ', 'h', 'e', 'r', 'e', '?', ' ', 't', 'o', ' ', 't', 'h', 'e', ' ', 'C', 'a', 'p', 'i', 't', 'o', 'l', '!', '\\n']\n",
      "['<pad>', 'i'] s\n",
      "['<pad>', 'i', 's']  \n",
      "['i', 's', ' '] r\n",
      "['s', ' ', 'r'] i\n",
      "[' ', 'r', 'i'] s\n",
      "['r', 'i', 's'] e\n",
      "['i', 's', 'e'] n\n",
      "['s', 'e', 'n'] :\n",
      "['e', 'n', ':']  \n",
      "['n', ':', ' '] w\n",
      "[':', ' ', 'w'] h\n",
      "[' ', 'w', 'h'] y\n",
      "['w', 'h', 'y']  \n",
      "['h', 'y', ' '] s\n",
      "['y', ' ', 's'] t\n",
      "[' ', 's', 't'] a\n",
      "['s', 't', 'a'] y\n",
      "['t', 'a', 'y']  \n",
      "['a', 'y', ' '] w\n",
      "['y', ' ', 'w'] e\n",
      "[' ', 'w', 'e']  \n",
      "['w', 'e', ' '] p\n",
      "['e', ' ', 'p'] r\n",
      "[' ', 'p', 'r'] a\n",
      "['p', 'r', 'a'] t\n",
      "['r', 'a', 't'] i\n",
      "['a', 't', 'i'] n\n",
      "['t', 'i', 'n'] g\n",
      "['i', 'n', 'g']  \n",
      "['n', 'g', ' '] h\n",
      "['g', ' ', 'h'] e\n",
      "[' ', 'h', 'e'] r\n",
      "['h', 'e', 'r'] e\n",
      "['e', 'r', 'e'] ?\n",
      "['r', 'e', '?']  \n",
      "['e', '?', ' '] t\n",
      "['?', ' ', 't'] o\n",
      "[' ', 't', 'o']  \n",
      "['t', 'o', ' '] t\n",
      "['o', ' ', 't'] h\n",
      "[' ', 't', 'h'] e\n",
      "['t', 'h', 'e']  \n",
      "['h', 'e', ' '] C\n",
      "['e', ' ', 'C'] a\n",
      "[' ', 'C', 'a'] p\n",
      "['C', 'a', 'p'] i\n",
      "['a', 'p', 'i'] t\n",
      "['p', 'i', 't'] o\n",
      "['i', 't', 'o'] l\n",
      "['t', 'o', 'l'] !\n",
      "['o', 'l', '!'] \n",
      "\n",
      "row:  ['A', 'l', 'l', ':', '\\n']\n",
      "['<pad>', 'A'] l\n",
      "['<pad>', 'A', 'l'] l\n",
      "['A', 'l', 'l'] :\n",
      "['l', 'l', ':'] \n",
      "\n",
      "row:  ['C', 'o', 'm', 'e', ',', ' ', 'c', 'o', 'm', 'e', '.', '\\n']\n",
      "['<pad>', 'C'] o\n",
      "['<pad>', 'C', 'o'] m\n",
      "['C', 'o', 'm'] e\n",
      "['o', 'm', 'e'] ,\n",
      "['m', 'e', ',']  \n",
      "['e', ',', ' '] c\n",
      "[',', ' ', 'c'] o\n",
      "[' ', 'c', 'o'] m\n",
      "['c', 'o', 'm'] e\n",
      "['o', 'm', 'e'] .\n",
      "['m', 'e', '.'] \n",
      "\n",
      "row:  ['F', 'i', 'r', 's', 't', ' ', 'C', 'i', 't', 'i', 'z', 'e', 'n', ':', '\\n']\n",
      "['<pad>', 'F'] i\n",
      "['<pad>', 'F', 'i'] r\n",
      "['F', 'i', 'r'] s\n",
      "['i', 'r', 's'] t\n",
      "['r', 's', 't']  \n",
      "['s', 't', ' '] C\n",
      "['t', ' ', 'C'] i\n",
      "[' ', 'C', 'i'] t\n",
      "['C', 'i', 't'] i\n",
      "['i', 't', 'i'] z\n",
      "['t', 'i', 'z'] e\n",
      "['i', 'z', 'e'] n\n",
      "['z', 'e', 'n'] :\n",
      "['e', 'n', ':'] \n",
      "\n",
      "row:  ['S', 'o', 'f', 't', '!', ' ', 'w', 'h', 'o', ' ', 'c', 'o', 'm', 'e', 's', ' ', 'h', 'e', 'r', 'e', '?', '\\n']\n",
      "['<pad>', 'S'] o\n",
      "['<pad>', 'S', 'o'] f\n",
      "['S', 'o', 'f'] t\n",
      "['o', 'f', 't'] !\n",
      "['f', 't', '!']  \n",
      "['t', '!', ' '] w\n",
      "['!', ' ', 'w'] h\n",
      "[' ', 'w', 'h'] o\n",
      "['w', 'h', 'o']  \n",
      "['h', 'o', ' '] c\n",
      "['o', ' ', 'c'] o\n",
      "[' ', 'c', 'o'] m\n",
      "['c', 'o', 'm'] e\n",
      "['o', 'm', 'e'] s\n",
      "['m', 'e', 's']  \n",
      "['e', 's', ' '] h\n",
      "['s', ' ', 'h'] e\n",
      "[' ', 'h', 'e'] r\n",
      "['h', 'e', 'r'] e\n",
      "['e', 'r', 'e'] ?\n",
      "['r', 'e', '?'] \n",
      "\n",
      "row:  ['S', 'e', 'c', 'o', 'n', 'd', ' ', 'C', 'i', 't', 'i', 'z', 'e', 'n', ':', '\\n']\n",
      "['<pad>', 'S'] e\n",
      "['<pad>', 'S', 'e'] c\n",
      "['S', 'e', 'c'] o\n",
      "['e', 'c', 'o'] n\n",
      "['c', 'o', 'n'] d\n",
      "['o', 'n', 'd']  \n",
      "['n', 'd', ' '] C\n",
      "['d', ' ', 'C'] i\n",
      "[' ', 'C', 'i'] t\n",
      "['C', 'i', 't'] i\n",
      "['i', 't', 'i'] z\n",
      "['t', 'i', 'z'] e\n",
      "['i', 'z', 'e'] n\n",
      "['z', 'e', 'n'] :\n",
      "['e', 'n', ':'] \n",
      "\n",
      "row:  ['W', 'o', 'r', 't', 'h', 'y', ' ', 'M', 'e', 'n', 'e', 'n', 'i', 'u', 's', ' ', 'A', 'g', 'r', 'i', 'p', 'p', 'a', ';', ' ', 'o', 'n', 'e', ' ', 't', 'h', 'a', 't', ' ', 'h', 'a', 't', 'h', ' ', 'a', 'l', 'w', 'a', 'y', 's', ' ', 'l', 'o', 'v', 'e', 'd', '\\n']\n",
      "['<pad>', 'W'] o\n",
      "['<pad>', 'W', 'o'] r\n",
      "['W', 'o', 'r'] t\n",
      "['o', 'r', 't'] h\n",
      "['r', 't', 'h'] y\n",
      "['t', 'h', 'y']  \n",
      "['h', 'y', ' '] M\n",
      "['y', ' ', 'M'] e\n",
      "[' ', 'M', 'e'] n\n",
      "['M', 'e', 'n'] e\n",
      "['e', 'n', 'e'] n\n",
      "['n', 'e', 'n'] i\n",
      "['e', 'n', 'i'] u\n",
      "['n', 'i', 'u'] s\n",
      "['i', 'u', 's']  \n",
      "['u', 's', ' '] A\n",
      "['s', ' ', 'A'] g\n",
      "[' ', 'A', 'g'] r\n",
      "['A', 'g', 'r'] i\n",
      "['g', 'r', 'i'] p\n",
      "['r', 'i', 'p'] p\n",
      "['i', 'p', 'p'] a\n",
      "['p', 'p', 'a'] ;\n",
      "['p', 'a', ';']  \n",
      "['a', ';', ' '] o\n",
      "[';', ' ', 'o'] n\n",
      "[' ', 'o', 'n'] e\n",
      "['o', 'n', 'e']  \n",
      "['n', 'e', ' '] t\n",
      "['e', ' ', 't'] h\n",
      "[' ', 't', 'h'] a\n",
      "['t', 'h', 'a'] t\n",
      "['h', 'a', 't']  \n",
      "['a', 't', ' '] h\n",
      "['t', ' ', 'h'] a\n",
      "[' ', 'h', 'a'] t\n",
      "['h', 'a', 't'] h\n",
      "['a', 't', 'h']  \n",
      "['t', 'h', ' '] a\n",
      "['h', ' ', 'a'] l\n",
      "[' ', 'a', 'l'] w\n",
      "['a', 'l', 'w'] a\n",
      "['l', 'w', 'a'] y\n",
      "['w', 'a', 'y'] s\n",
      "['a', 'y', 's']  \n",
      "['y', 's', ' '] l\n",
      "['s', ' ', 'l'] o\n",
      "[' ', 'l', 'o'] v\n",
      "['l', 'o', 'v'] e\n",
      "['o', 'v', 'e'] d\n",
      "['v', 'e', 'd'] \n",
      "\n",
      "row:  ['t', 'h', 'e', ' ', 'p', 'e', 'o', 'p', 'l', 'e', '.', '\\n']\n",
      "['<pad>', 't'] h\n",
      "['<pad>', 't', 'h'] e\n",
      "['t', 'h', 'e']  \n",
      "['h', 'e', ' '] p\n",
      "['e', ' ', 'p'] e\n",
      "[' ', 'p', 'e'] o\n",
      "['p', 'e', 'o'] p\n",
      "['e', 'o', 'p'] l\n",
      "['o', 'p', 'l'] e\n",
      "['p', 'l', 'e'] .\n",
      "['l', 'e', '.'] \n",
      "\n",
      "row:  ['F', 'i', 'r', 's', 't', ' ', 'C', 'i', 't', 'i', 'z', 'e', 'n', ':', '\\n']\n",
      "['<pad>', 'F'] i\n",
      "['<pad>', 'F', 'i'] r\n",
      "['F', 'i', 'r'] s\n",
      "['i', 'r', 's'] t\n",
      "['r', 's', 't']  \n",
      "['s', 't', ' '] C\n",
      "['t', ' ', 'C'] i\n",
      "[' ', 'C', 'i'] t\n",
      "['C', 'i', 't'] i\n",
      "['i', 't', 'i'] z\n",
      "['t', 'i', 'z'] e\n",
      "['i', 'z', 'e'] n\n",
      "['z', 'e', 'n'] :\n",
      "['e', 'n', ':'] \n",
      "\n",
      "row:  ['H', 'e', \"'\", 's', ' ', 'o', 'n', 'e', ' ', 'h', 'o', 'n', 'e', 's', 't', ' ', 'e', 'n', 'o', 'u', 'g', 'h', ':', ' ', 'w', 'o', 'u', 'l', 'd', ' ', 'a', 'l', 'l', ' ', 't', 'h', 'e', ' ', 'r', 'e', 's', 't', ' ', 'w', 'e', 'r', 'e', ' ', 's', 'o', '!', '\\n']\n",
      "['<pad>', 'H'] e\n",
      "['<pad>', 'H', 'e'] '\n",
      "['H', 'e', \"'\"] s\n",
      "['e', \"'\", 's']  \n",
      "[\"'\", 's', ' '] o\n",
      "['s', ' ', 'o'] n\n",
      "[' ', 'o', 'n'] e\n",
      "['o', 'n', 'e']  \n",
      "['n', 'e', ' '] h\n",
      "['e', ' ', 'h'] o\n",
      "[' ', 'h', 'o'] n\n",
      "['h', 'o', 'n'] e\n",
      "['o', 'n', 'e'] s\n",
      "['n', 'e', 's'] t\n",
      "['e', 's', 't']  \n",
      "['s', 't', ' '] e\n",
      "['t', ' ', 'e'] n\n",
      "[' ', 'e', 'n'] o\n",
      "['e', 'n', 'o'] u\n",
      "['n', 'o', 'u'] g\n",
      "['o', 'u', 'g'] h\n",
      "['u', 'g', 'h'] :\n",
      "['g', 'h', ':']  \n",
      "['h', ':', ' '] w\n",
      "[':', ' ', 'w'] o\n",
      "[' ', 'w', 'o'] u\n",
      "['w', 'o', 'u'] l\n",
      "['o', 'u', 'l'] d\n",
      "['u', 'l', 'd']  \n",
      "['l', 'd', ' '] a\n",
      "['d', ' ', 'a'] l\n",
      "[' ', 'a', 'l'] l\n",
      "['a', 'l', 'l']  \n",
      "['l', 'l', ' '] t\n",
      "['l', ' ', 't'] h\n",
      "[' ', 't', 'h'] e\n",
      "['t', 'h', 'e']  \n",
      "['h', 'e', ' '] r\n",
      "['e', ' ', 'r'] e\n",
      "[' ', 'r', 'e'] s\n",
      "['r', 'e', 's'] t\n",
      "['e', 's', 't']  \n",
      "['s', 't', ' '] w\n",
      "['t', ' ', 'w'] e\n",
      "[' ', 'w', 'e'] r\n",
      "['w', 'e', 'r'] e\n",
      "['e', 'r', 'e']  \n",
      "['r', 'e', ' '] s\n",
      "['e', ' ', 's'] o\n",
      "[' ', 's', 'o'] !\n",
      "['s', 'o', '!'] \n",
      "\n",
      "row:  ['M', 'E', 'N', 'E', 'N', 'I', 'U', 'S', ':', '\\n']\n",
      "['<pad>', 'M'] E\n",
      "['<pad>', 'M', 'E'] N\n",
      "['M', 'E', 'N'] E\n",
      "['E', 'N', 'E'] N\n",
      "['N', 'E', 'N'] I\n",
      "['E', 'N', 'I'] U\n",
      "['N', 'I', 'U'] S\n",
      "['I', 'U', 'S'] :\n",
      "['U', 'S', ':'] \n",
      "\n",
      "row:  ['W', 'h', 'a', 't', ' ', 'w', 'o', 'r', 'k', \"'\", 's', ',', ' ', 'm', 'y', ' ', 'c', 'o', 'u', 'n', 't', 'r', 'y', 'm', 'e', 'n', ',', ' ', 'i', 'n', ' ', 'h', 'a', 'n', 'd', '?', ' ', 'w', 'h', 'e', 'r', 'e', ' ', 'g', 'o', ' ', 'y', 'o', 'u', '\\n']\n",
      "['<pad>', 'W'] h\n",
      "['<pad>', 'W', 'h'] a\n",
      "['W', 'h', 'a'] t\n",
      "['h', 'a', 't']  \n",
      "['a', 't', ' '] w\n",
      "['t', ' ', 'w'] o\n",
      "[' ', 'w', 'o'] r\n",
      "['w', 'o', 'r'] k\n",
      "['o', 'r', 'k'] '\n",
      "['r', 'k', \"'\"] s\n",
      "['k', \"'\", 's'] ,\n",
      "[\"'\", 's', ',']  \n",
      "['s', ',', ' '] m\n",
      "[',', ' ', 'm'] y\n",
      "[' ', 'm', 'y']  \n",
      "['m', 'y', ' '] c\n",
      "['y', ' ', 'c'] o\n",
      "[' ', 'c', 'o'] u\n",
      "['c', 'o', 'u'] n\n",
      "['o', 'u', 'n'] t\n",
      "['u', 'n', 't'] r\n",
      "['n', 't', 'r'] y\n",
      "['t', 'r', 'y'] m\n",
      "['r', 'y', 'm'] e\n",
      "['y', 'm', 'e'] n\n",
      "['m', 'e', 'n'] ,\n",
      "['e', 'n', ',']  \n",
      "['n', ',', ' '] i\n",
      "[',', ' ', 'i'] n\n",
      "[' ', 'i', 'n']  \n",
      "['i', 'n', ' '] h\n",
      "['n', ' ', 'h'] a\n",
      "[' ', 'h', 'a'] n\n",
      "['h', 'a', 'n'] d\n",
      "['a', 'n', 'd'] ?\n",
      "['n', 'd', '?']  \n",
      "['d', '?', ' '] w\n",
      "['?', ' ', 'w'] h\n",
      "[' ', 'w', 'h'] e\n",
      "['w', 'h', 'e'] r\n",
      "['h', 'e', 'r'] e\n",
      "['e', 'r', 'e']  \n",
      "['r', 'e', ' '] g\n",
      "['e', ' ', 'g'] o\n",
      "[' ', 'g', 'o']  \n",
      "['g', 'o', ' '] y\n",
      "['o', ' ', 'y'] o\n",
      "[' ', 'y', 'o'] u\n",
      "['y', 'o', 'u'] \n",
      "\n",
      "row:  ['W', 'i', 't', 'h', ' ', 'b', 'a', 't', 's', ' ', 'a', 'n', 'd', ' ', 'c', 'l', 'u', 'b', 's', '?', ' ', 'T', 'h', 'e', ' ', 'm', 'a', 't', 't', 'e', 'r', '?', ' ', 's', 'p', 'e', 'a', 'k', ',', ' ', 'I', ' ', 'p', 'r', 'a', 'y', ' ', 'y', 'o', 'u', '.', '\\n']\n",
      "['<pad>', 'W'] i\n",
      "['<pad>', 'W', 'i'] t\n",
      "['W', 'i', 't'] h\n",
      "['i', 't', 'h']  \n",
      "['t', 'h', ' '] b\n",
      "['h', ' ', 'b'] a\n",
      "[' ', 'b', 'a'] t\n",
      "['b', 'a', 't'] s\n",
      "['a', 't', 's']  \n",
      "['t', 's', ' '] a\n",
      "['s', ' ', 'a'] n\n",
      "[' ', 'a', 'n'] d\n",
      "['a', 'n', 'd']  \n",
      "['n', 'd', ' '] c\n",
      "['d', ' ', 'c'] l\n",
      "[' ', 'c', 'l'] u\n",
      "['c', 'l', 'u'] b\n",
      "['l', 'u', 'b'] s\n",
      "['u', 'b', 's'] ?\n",
      "['b', 's', '?']  \n",
      "['s', '?', ' '] T\n",
      "['?', ' ', 'T'] h\n",
      "[' ', 'T', 'h'] e\n",
      "['T', 'h', 'e']  \n",
      "['h', 'e', ' '] m\n",
      "['e', ' ', 'm'] a\n",
      "[' ', 'm', 'a'] t\n",
      "['m', 'a', 't'] t\n",
      "['a', 't', 't'] e\n",
      "['t', 't', 'e'] r\n",
      "['t', 'e', 'r'] ?\n",
      "['e', 'r', '?']  \n",
      "['r', '?', ' '] s\n",
      "['?', ' ', 's'] p\n",
      "[' ', 's', 'p'] e\n",
      "['s', 'p', 'e'] a\n",
      "['p', 'e', 'a'] k\n",
      "['e', 'a', 'k'] ,\n",
      "['a', 'k', ',']  \n",
      "['k', ',', ' '] I\n",
      "[',', ' ', 'I']  \n",
      "[' ', 'I', ' '] p\n",
      "['I', ' ', 'p'] r\n",
      "[' ', 'p', 'r'] a\n",
      "['p', 'r', 'a'] y\n",
      "['r', 'a', 'y']  \n",
      "['a', 'y', ' '] y\n",
      "['y', ' ', 'y'] o\n",
      "[' ', 'y', 'o'] u\n",
      "['y', 'o', 'u'] .\n",
      "['o', 'u', '.'] \n",
      "\n",
      "row:  ['F', 'i', 'r', 's', 't', ' ', 'C', 'i', 't', 'i', 'z', 'e', 'n', ':', '\\n']\n",
      "['<pad>', 'F'] i\n",
      "['<pad>', 'F', 'i'] r\n",
      "['F', 'i', 'r'] s\n",
      "['i', 'r', 's'] t\n",
      "['r', 's', 't']  \n",
      "['s', 't', ' '] C\n",
      "['t', ' ', 'C'] i\n",
      "[' ', 'C', 'i'] t\n",
      "['C', 'i', 't'] i\n",
      "['i', 't', 'i'] z\n",
      "['t', 'i', 'z'] e\n",
      "['i', 'z', 'e'] n\n",
      "['z', 'e', 'n'] :\n",
      "['e', 'n', ':'] \n",
      "\n",
      "row:  ['O', 'u', 'r', ' ', 'b', 'u', 's', 'i', 'n', 'e', 's', 's', ' ', 'i', 's', ' ', 'n', 'o', 't', ' ', 'u', 'n', 'k', 'n', 'o', 'w', 'n', ' ', 't', 'o', ' ', 't', 'h', 'e', ' ', 's', 'e', 'n', 'a', 't', 'e', ';', ' ', 't', 'h', 'e', 'y', ' ', 'h', 'a', 'v', 'e', '\\n']\n",
      "['<pad>', 'O'] u\n",
      "['<pad>', 'O', 'u'] r\n",
      "['O', 'u', 'r']  \n",
      "['u', 'r', ' '] b\n",
      "['r', ' ', 'b'] u\n",
      "[' ', 'b', 'u'] s\n",
      "['b', 'u', 's'] i\n",
      "['u', 's', 'i'] n\n",
      "['s', 'i', 'n'] e\n",
      "['i', 'n', 'e'] s\n",
      "['n', 'e', 's'] s\n",
      "['e', 's', 's']  \n",
      "['s', 's', ' '] i\n",
      "['s', ' ', 'i'] s\n",
      "[' ', 'i', 's']  \n",
      "['i', 's', ' '] n\n",
      "['s', ' ', 'n'] o\n",
      "[' ', 'n', 'o'] t\n",
      "['n', 'o', 't']  \n",
      "['o', 't', ' '] u\n",
      "['t', ' ', 'u'] n\n",
      "[' ', 'u', 'n'] k\n",
      "['u', 'n', 'k'] n\n",
      "['n', 'k', 'n'] o\n",
      "['k', 'n', 'o'] w\n",
      "['n', 'o', 'w'] n\n",
      "['o', 'w', 'n']  \n",
      "['w', 'n', ' '] t\n",
      "['n', ' ', 't'] o\n",
      "[' ', 't', 'o']  \n",
      "['t', 'o', ' '] t\n",
      "['o', ' ', 't'] h\n",
      "[' ', 't', 'h'] e\n",
      "['t', 'h', 'e']  \n",
      "['h', 'e', ' '] s\n",
      "['e', ' ', 's'] e\n",
      "[' ', 's', 'e'] n\n",
      "['s', 'e', 'n'] a\n",
      "['e', 'n', 'a'] t\n",
      "['n', 'a', 't'] e\n",
      "['a', 't', 'e'] ;\n",
      "['t', 'e', ';']  \n",
      "['e', ';', ' '] t\n",
      "[';', ' ', 't'] h\n",
      "[' ', 't', 'h'] e\n",
      "['t', 'h', 'e'] y\n",
      "['h', 'e', 'y']  \n",
      "['e', 'y', ' '] h\n",
      "['y', ' ', 'h'] a\n",
      "[' ', 'h', 'a'] v\n",
      "['h', 'a', 'v'] e\n",
      "['a', 'v', 'e'] \n",
      "\n",
      "row:  ['h', 'a', 'd', ' ', 'i', 'n', 'k', 'l', 'i', 'n', 'g', ' ', 't', 'h', 'i', 's', ' ', 'f', 'o', 'r', 't', 'n', 'i', 'g', 'h', 't', ' ', 'w', 'h', 'a', 't', ' ', 'w', 'e', ' ', 'i', 'n', 't', 'e', 'n', 'd', ' ', 't', 'o', ' ', 'd', 'o', ',', '\\n']\n",
      "['<pad>', 'h'] a\n",
      "['<pad>', 'h', 'a'] d\n",
      "['h', 'a', 'd']  \n",
      "['a', 'd', ' '] i\n",
      "['d', ' ', 'i'] n\n",
      "[' ', 'i', 'n'] k\n",
      "['i', 'n', 'k'] l\n",
      "['n', 'k', 'l'] i\n",
      "['k', 'l', 'i'] n\n",
      "['l', 'i', 'n'] g\n",
      "['i', 'n', 'g']  \n",
      "['n', 'g', ' '] t\n",
      "['g', ' ', 't'] h\n",
      "[' ', 't', 'h'] i\n",
      "['t', 'h', 'i'] s\n",
      "['h', 'i', 's']  \n",
      "['i', 's', ' '] f\n",
      "['s', ' ', 'f'] o\n",
      "[' ', 'f', 'o'] r\n",
      "['f', 'o', 'r'] t\n",
      "['o', 'r', 't'] n\n",
      "['r', 't', 'n'] i\n",
      "['t', 'n', 'i'] g\n",
      "['n', 'i', 'g'] h\n",
      "['i', 'g', 'h'] t\n",
      "['g', 'h', 't']  \n",
      "['h', 't', ' '] w\n",
      "['t', ' ', 'w'] h\n",
      "[' ', 'w', 'h'] a\n",
      "['w', 'h', 'a'] t\n",
      "['h', 'a', 't']  \n",
      "['a', 't', ' '] w\n",
      "['t', ' ', 'w'] e\n",
      "[' ', 'w', 'e']  \n",
      "['w', 'e', ' '] i\n",
      "['e', ' ', 'i'] n\n",
      "[' ', 'i', 'n'] t\n",
      "['i', 'n', 't'] e\n",
      "['n', 't', 'e'] n\n",
      "['t', 'e', 'n'] d\n",
      "['e', 'n', 'd']  \n",
      "['n', 'd', ' '] t\n",
      "['d', ' ', 't'] o\n",
      "[' ', 't', 'o']  \n",
      "['t', 'o', ' '] d\n",
      "['o', ' ', 'd'] o\n",
      "[' ', 'd', 'o'] ,\n",
      "['d', 'o', ','] \n",
      "\n",
      "row:  ['w', 'h', 'i', 'c', 'h', ' ', 'n', 'o', 'w', ' ', 'w', 'e', \"'\", 'l', 'l', ' ', 's', 'h', 'o', 'w', ' ', \"'\", 'e', 'm', ' ', 'i', 'n', ' ', 'd', 'e', 'e', 'd', 's', '.', ' ', 'T', 'h', 'e', 'y', ' ', 's', 'a', 'y', ' ', 'p', 'o', 'o', 'r', '\\n']\n",
      "['<pad>', 'w'] h\n",
      "['<pad>', 'w', 'h'] i\n",
      "['w', 'h', 'i'] c\n",
      "['h', 'i', 'c'] h\n",
      "['i', 'c', 'h']  \n",
      "['c', 'h', ' '] n\n",
      "['h', ' ', 'n'] o\n",
      "[' ', 'n', 'o'] w\n",
      "['n', 'o', 'w']  \n",
      "['o', 'w', ' '] w\n",
      "['w', ' ', 'w'] e\n",
      "[' ', 'w', 'e'] '\n",
      "['w', 'e', \"'\"] l\n",
      "['e', \"'\", 'l'] l\n",
      "[\"'\", 'l', 'l']  \n",
      "['l', 'l', ' '] s\n",
      "['l', ' ', 's'] h\n",
      "[' ', 's', 'h'] o\n",
      "['s', 'h', 'o'] w\n",
      "['h', 'o', 'w']  \n",
      "['o', 'w', ' '] '\n",
      "['w', ' ', \"'\"] e\n",
      "[' ', \"'\", 'e'] m\n",
      "[\"'\", 'e', 'm']  \n",
      "['e', 'm', ' '] i\n",
      "['m', ' ', 'i'] n\n",
      "[' ', 'i', 'n']  \n",
      "['i', 'n', ' '] d\n",
      "['n', ' ', 'd'] e\n",
      "[' ', 'd', 'e'] e\n",
      "['d', 'e', 'e'] d\n",
      "['e', 'e', 'd'] s\n",
      "['e', 'd', 's'] .\n",
      "['d', 's', '.']  \n",
      "['s', '.', ' '] T\n",
      "['.', ' ', 'T'] h\n",
      "[' ', 'T', 'h'] e\n",
      "['T', 'h', 'e'] y\n",
      "['h', 'e', 'y']  \n",
      "['e', 'y', ' '] s\n",
      "['y', ' ', 's'] a\n",
      "[' ', 's', 'a'] y\n",
      "['s', 'a', 'y']  \n",
      "['a', 'y', ' '] p\n",
      "['y', ' ', 'p'] o\n",
      "[' ', 'p', 'o'] o\n",
      "['p', 'o', 'o'] r\n",
      "['o', 'o', 'r'] \n",
      "\n",
      "row:  ['s', 'u', 'i', 't', 'o', 'r', 's', ' ', 'h', 'a', 'v', 'e', ' ', 's', 't', 'r', 'o', 'n', 'g', ' ', 'b', 'r', 'e', 'a', 't', 'h', 's', ':', ' ', 't', 'h', 'e', 'y', ' ', 's', 'h', 'a', 'l', 'l', ' ', 'k', 'n', 'o', 'w', ' ', 'w', 'e', '\\n']\n",
      "['<pad>', 's'] u\n",
      "['<pad>', 's', 'u'] i\n",
      "['s', 'u', 'i'] t\n",
      "['u', 'i', 't'] o\n",
      "['i', 't', 'o'] r\n",
      "['t', 'o', 'r'] s\n",
      "['o', 'r', 's']  \n",
      "['r', 's', ' '] h\n",
      "['s', ' ', 'h'] a\n",
      "[' ', 'h', 'a'] v\n",
      "['h', 'a', 'v'] e\n",
      "['a', 'v', 'e']  \n",
      "['v', 'e', ' '] s\n",
      "['e', ' ', 's'] t\n",
      "[' ', 's', 't'] r\n",
      "['s', 't', 'r'] o\n",
      "['t', 'r', 'o'] n\n",
      "['r', 'o', 'n'] g\n",
      "['o', 'n', 'g']  \n",
      "['n', 'g', ' '] b\n",
      "['g', ' ', 'b'] r\n",
      "[' ', 'b', 'r'] e\n",
      "['b', 'r', 'e'] a\n",
      "['r', 'e', 'a'] t\n",
      "['e', 'a', 't'] h\n",
      "['a', 't', 'h'] s\n",
      "['t', 'h', 's'] :\n",
      "['h', 's', ':']  \n",
      "['s', ':', ' '] t\n",
      "[':', ' ', 't'] h\n",
      "[' ', 't', 'h'] e\n",
      "['t', 'h', 'e'] y\n",
      "['h', 'e', 'y']  \n",
      "['e', 'y', ' '] s\n",
      "['y', ' ', 's'] h\n",
      "[' ', 's', 'h'] a\n",
      "['s', 'h', 'a'] l\n",
      "['h', 'a', 'l'] l\n",
      "['a', 'l', 'l']  \n",
      "['l', 'l', ' '] k\n",
      "['l', ' ', 'k'] n\n",
      "[' ', 'k', 'n'] o\n",
      "['k', 'n', 'o'] w\n",
      "['n', 'o', 'w']  \n",
      "['o', 'w', ' '] w\n",
      "['w', ' ', 'w'] e\n",
      "[' ', 'w', 'e'] \n",
      "\n",
      "row:  ['h', 'a', 'v', 'e', ' ', 's', 't', 'r', 'o', 'n', 'g', ' ', 'a', 'r', 'm', 's', ' ', 't', 'o', 'o', '.', '\\n']\n",
      "['<pad>', 'h'] a\n",
      "['<pad>', 'h', 'a'] v\n",
      "['h', 'a', 'v'] e\n",
      "['a', 'v', 'e']  \n",
      "['v', 'e', ' '] s\n",
      "['e', ' ', 's'] t\n",
      "[' ', 's', 't'] r\n",
      "['s', 't', 'r'] o\n",
      "['t', 'r', 'o'] n\n",
      "['r', 'o', 'n'] g\n",
      "['o', 'n', 'g']  \n",
      "['n', 'g', ' '] a\n",
      "['g', ' ', 'a'] r\n",
      "[' ', 'a', 'r'] m\n",
      "['a', 'r', 'm'] s\n",
      "['r', 'm', 's']  \n",
      "['m', 's', ' '] t\n",
      "['s', ' ', 't'] o\n",
      "[' ', 't', 'o'] o\n",
      "['t', 'o', 'o'] .\n",
      "['o', 'o', '.'] \n",
      "\n",
      "row:  ['M', 'E', 'N', 'E', 'N', 'I', 'U', 'S', ':', '\\n']\n",
      "['<pad>', 'M'] E\n",
      "['<pad>', 'M', 'E'] N\n",
      "['M', 'E', 'N'] E\n",
      "['E', 'N', 'E'] N\n",
      "['N', 'E', 'N'] I\n",
      "['E', 'N', 'I'] U\n",
      "['N', 'I', 'U'] S\n",
      "['I', 'U', 'S'] :\n",
      "['U', 'S', ':'] \n",
      "\n",
      "row:  ['W', 'h', 'y', ',', ' ', 'm', 'a', 's', 't', 'e', 'r', 's', ',', ' ', 'm', 'y', ' ', 'g', 'o', 'o', 'd', ' ', 'f', 'r', 'i', 'e', 'n', 'd', 's', ',', ' ', 'm', 'i', 'n', 'e', ' ', 'h', 'o', 'n', 'e', 's', 't', ' ', 'n', 'e', 'i', 'g', 'h', 'b', 'o', 'u', 'r', 's', ',', '\\n']\n",
      "['<pad>', 'W'] h\n",
      "['<pad>', 'W', 'h'] y\n",
      "['W', 'h', 'y'] ,\n",
      "['h', 'y', ',']  \n",
      "['y', ',', ' '] m\n",
      "[',', ' ', 'm'] a\n",
      "[' ', 'm', 'a'] s\n",
      "['m', 'a', 's'] t\n",
      "['a', 's', 't'] e\n",
      "['s', 't', 'e'] r\n",
      "['t', 'e', 'r'] s\n",
      "['e', 'r', 's'] ,\n",
      "['r', 's', ',']  \n",
      "['s', ',', ' '] m\n",
      "[',', ' ', 'm'] y\n",
      "[' ', 'm', 'y']  \n",
      "['m', 'y', ' '] g\n",
      "['y', ' ', 'g'] o\n",
      "[' ', 'g', 'o'] o\n",
      "['g', 'o', 'o'] d\n",
      "['o', 'o', 'd']  \n",
      "['o', 'd', ' '] f\n",
      "['d', ' ', 'f'] r\n",
      "[' ', 'f', 'r'] i\n",
      "['f', 'r', 'i'] e\n",
      "['r', 'i', 'e'] n\n",
      "['i', 'e', 'n'] d\n",
      "['e', 'n', 'd'] s\n",
      "['n', 'd', 's'] ,\n",
      "['d', 's', ',']  \n",
      "['s', ',', ' '] m\n",
      "[',', ' ', 'm'] i\n",
      "[' ', 'm', 'i'] n\n",
      "['m', 'i', 'n'] e\n",
      "['i', 'n', 'e']  \n",
      "['n', 'e', ' '] h\n",
      "['e', ' ', 'h'] o\n",
      "[' ', 'h', 'o'] n\n",
      "['h', 'o', 'n'] e\n",
      "['o', 'n', 'e'] s\n",
      "['n', 'e', 's'] t\n",
      "['e', 's', 't']  \n",
      "['s', 't', ' '] n\n",
      "['t', ' ', 'n'] e\n",
      "[' ', 'n', 'e'] i\n",
      "['n', 'e', 'i'] g\n",
      "['e', 'i', 'g'] h\n",
      "['i', 'g', 'h'] b\n",
      "['g', 'h', 'b'] o\n",
      "['h', 'b', 'o'] u\n",
      "['b', 'o', 'u'] r\n",
      "['o', 'u', 'r'] s\n",
      "['u', 'r', 's'] ,\n",
      "['r', 's', ','] \n",
      "\n",
      "row:  ['W', 'i', 'l', 'l', ' ', 'y', 'o', 'u', ' ', 'u', 'n', 'd', 'o', ' ', 'y', 'o', 'u', 'r', 's', 'e', 'l', 'v', 'e', 's', '?', '\\n']\n",
      "['<pad>', 'W'] i\n",
      "['<pad>', 'W', 'i'] l\n",
      "['W', 'i', 'l'] l\n",
      "['i', 'l', 'l']  \n",
      "['l', 'l', ' '] y\n",
      "['l', ' ', 'y'] o\n",
      "[' ', 'y', 'o'] u\n",
      "['y', 'o', 'u']  \n",
      "['o', 'u', ' '] u\n",
      "['u', ' ', 'u'] n\n",
      "[' ', 'u', 'n'] d\n",
      "['u', 'n', 'd'] o\n",
      "['n', 'd', 'o']  \n",
      "['d', 'o', ' '] y\n",
      "['o', ' ', 'y'] o\n",
      "[' ', 'y', 'o'] u\n",
      "['y', 'o', 'u'] r\n",
      "['o', 'u', 'r'] s\n",
      "['u', 'r', 's'] e\n",
      "['r', 's', 'e'] l\n",
      "['s', 'e', 'l'] v\n",
      "['e', 'l', 'v'] e\n",
      "['l', 'v', 'e'] s\n",
      "['v', 'e', 's'] ?\n",
      "['e', 's', '?'] \n",
      "\n",
      "row:  ['F', 'i', 'r', 's', 't', ' ', 'C', 'i', 't', 'i', 'z', 'e', 'n', ':', '\\n']\n",
      "['<pad>', 'F'] i\n",
      "['<pad>', 'F', 'i'] r\n",
      "['F', 'i', 'r'] s\n",
      "['i', 'r', 's'] t\n",
      "['r', 's', 't']  \n",
      "['s', 't', ' '] C\n",
      "['t', ' ', 'C'] i\n",
      "[' ', 'C', 'i'] t\n",
      "['C', 'i', 't'] i\n",
      "['i', 't', 'i'] z\n",
      "['t', 'i', 'z'] e\n",
      "['i', 'z', 'e'] n\n",
      "['z', 'e', 'n'] :\n",
      "['e', 'n', ':'] \n",
      "\n",
      "row:  ['W', 'e', ' ', 'c', 'a', 'n', 'n', 'o', 't', ',', ' ', 's', 'i', 'r', ',', ' ', 'w', 'e', ' ', 'a', 'r', 'e', ' ', 'u', 'n', 'd', 'o', 'n', 'e', ' ', 'a', 'l', 'r', 'e', 'a', 'd', 'y', '.', '\\n']\n",
      "['<pad>', 'W'] e\n",
      "['<pad>', 'W', 'e']  \n",
      "['W', 'e', ' '] c\n",
      "['e', ' ', 'c'] a\n",
      "[' ', 'c', 'a'] n\n",
      "['c', 'a', 'n'] n\n",
      "['a', 'n', 'n'] o\n",
      "['n', 'n', 'o'] t\n",
      "['n', 'o', 't'] ,\n",
      "['o', 't', ',']  \n",
      "['t', ',', ' '] s\n",
      "[',', ' ', 's'] i\n",
      "[' ', 's', 'i'] r\n",
      "['s', 'i', 'r'] ,\n",
      "['i', 'r', ',']  \n",
      "['r', ',', ' '] w\n",
      "[',', ' ', 'w'] e\n",
      "[' ', 'w', 'e']  \n",
      "['w', 'e', ' '] a\n",
      "['e', ' ', 'a'] r\n",
      "[' ', 'a', 'r'] e\n",
      "['a', 'r', 'e']  \n",
      "['r', 'e', ' '] u\n",
      "['e', ' ', 'u'] n\n",
      "[' ', 'u', 'n'] d\n",
      "['u', 'n', 'd'] o\n",
      "['n', 'd', 'o'] n\n",
      "['d', 'o', 'n'] e\n",
      "['o', 'n', 'e']  \n",
      "['n', 'e', ' '] a\n",
      "['e', ' ', 'a'] l\n",
      "[' ', 'a', 'l'] r\n",
      "['a', 'l', 'r'] e\n",
      "['l', 'r', 'e'] a\n",
      "['r', 'e', 'a'] d\n",
      "['e', 'a', 'd'] y\n",
      "['a', 'd', 'y'] .\n",
      "['d', 'y', '.'] \n",
      "\n",
      "row:  ['M', 'E', 'N', 'E', 'N', 'I', 'U', 'S', ':', '\\n']\n",
      "['<pad>', 'M'] E\n",
      "['<pad>', 'M', 'E'] N\n",
      "['M', 'E', 'N'] E\n",
      "['E', 'N', 'E'] N\n",
      "['N', 'E', 'N'] I\n",
      "['E', 'N', 'I'] U\n",
      "['N', 'I', 'U'] S\n",
      "['I', 'U', 'S'] :\n",
      "['U', 'S', ':'] \n",
      "\n",
      "row:  ['I', ' ', 't', 'e', 'l', 'l', ' ', 'y', 'o', 'u', ',', ' ', 'f', 'r', 'i', 'e', 'n', 'd', 's', ',', ' ', 'm', 'o', 's', 't', ' ', 'c', 'h', 'a', 'r', 'i', 't', 'a', 'b', 'l', 'e', ' ', 'c', 'a', 'r', 'e', '\\n']\n",
      "['<pad>', 'I']  \n",
      "['<pad>', 'I', ' '] t\n",
      "['I', ' ', 't'] e\n",
      "[' ', 't', 'e'] l\n",
      "['t', 'e', 'l'] l\n",
      "['e', 'l', 'l']  \n",
      "['l', 'l', ' '] y\n",
      "['l', ' ', 'y'] o\n",
      "[' ', 'y', 'o'] u\n",
      "['y', 'o', 'u'] ,\n",
      "['o', 'u', ',']  \n",
      "['u', ',', ' '] f\n",
      "[',', ' ', 'f'] r\n",
      "[' ', 'f', 'r'] i\n",
      "['f', 'r', 'i'] e\n",
      "['r', 'i', 'e'] n\n",
      "['i', 'e', 'n'] d\n",
      "['e', 'n', 'd'] s\n",
      "['n', 'd', 's'] ,\n",
      "['d', 's', ',']  \n",
      "['s', ',', ' '] m\n",
      "[',', ' ', 'm'] o\n",
      "[' ', 'm', 'o'] s\n",
      "['m', 'o', 's'] t\n",
      "['o', 's', 't']  \n",
      "['s', 't', ' '] c\n",
      "['t', ' ', 'c'] h\n",
      "[' ', 'c', 'h'] a\n",
      "['c', 'h', 'a'] r\n",
      "['h', 'a', 'r'] i\n",
      "['a', 'r', 'i'] t\n",
      "['r', 'i', 't'] a\n",
      "['i', 't', 'a'] b\n",
      "['t', 'a', 'b'] l\n",
      "['a', 'b', 'l'] e\n",
      "['b', 'l', 'e']  \n",
      "['l', 'e', ' '] c\n",
      "['e', ' ', 'c'] a\n",
      "[' ', 'c', 'a'] r\n",
      "['c', 'a', 'r'] e\n",
      "['a', 'r', 'e'] \n",
      "\n",
      "X:  torch.Size([2623, 3]) y: torch.Size([2623])\n"
     ]
    }
   ],
   "source": [
    "CONTEXT_LEN = 3\n",
    "X, y = make_dataset(data[:80], v, verbose=True, context_length=CONTEXT_LEN)\n",
    "print(\"X: \", X.shape, \"y:\", y.shape)"
   ]
  },
  {
   "attachments": {},
   "cell_type": "markdown",
   "metadata": {},
   "source": [
    "## MLP LM Model\n",
    "https://www.jmlr.org/papers/volume3/bengio03a/bengio03a.pdf"
   ]
  },
  {
   "cell_type": "code",
   "execution_count": 12,
   "metadata": {},
   "outputs": [],
   "source": [
    "# F.one_hot(torch.tensor(5), num_classes=n_vocab).float()@C # == C[5]"
   ]
  },
  {
   "cell_type": "code",
   "execution_count": 250,
   "metadata": {},
   "outputs": [],
   "source": [
    "#| export\n",
    "\n",
    "@dataclass\n",
    "class NNLMConfig:\n",
    "    n_vocab:int = 30\n",
    "    n_emb:int = 10\n",
    "    n_context:int = 3\n",
    "    n_h:int = 100\n",
    "\n",
    "class NNLM(nn.Module):\n",
    "    def __init__(self,\n",
    "                n_vocab:int = 30, # vocabulary size \n",
    "                n_emb:int = 10, # embedding dimension\n",
    "                n_context:int = 3, # context size bigram/trigram, etc.\n",
    "                n_h:int = 100 # hidden layer size\n",
    "                ):\n",
    "\n",
    "        logger.info(f\"NNLM: Init\")\n",
    "        super().__init__()\n",
    "        # to each token id from n_vocab in sequence T coresponds a embedding of size n_emb (C)\n",
    "        self.embedder = nn.Embedding(n_vocab, n_emb) # (B,T)->(B,T,C)\n",
    "        self.n_emb = n_emb\n",
    "        self.n_context = n_context\n",
    "        # we concatenate input of [n_context length, n_emb] into linear layer (T*C):\n",
    "        self.l1 = nn.Linear(n_context * n_emb, n_h) \n",
    "        self.l2 = nn.Linear(n_h, n_vocab)\n",
    "    \n",
    "    def forward(self, x:torch.Tensor)->torch.Tensor:\n",
    "        # input: (B,T)\n",
    "        embedding = self.embedder(x) # ->(B,T,C)\n",
    "        # we concatenate input of n_context length * n_emb (T*C) into linear layer:\n",
    "        h = self.l1(embedding.view(-1,self.n_context * self.n_emb))\n",
    "        h = torch.tanh(h)\n",
    "        logits = self.l2(h)\n",
    "        return(logits)\n",
    "\n",
    "    @torch.no_grad()\n",
    "    def sample(self, prompt:str, vocab:Vocab, max_new_tokens:int=50, temperature:float=1.0):\n",
    "\n",
    "        for _ in range(max_new_tokens):            \n",
    "            # limit prompt to context size\n",
    "            context = prompt[-self.n_context:]\n",
    "            context = vocab.stoi(list(context))\n",
    "\n",
    "            logits = self(torch.tensor(context))\n",
    "            logits = logits / temperature\n",
    "            probs = F.softmax(logits, dim=1)\n",
    "            ix = torch.multinomial(probs, num_samples=1).item()\n",
    "            prompt += vocab.itos(ix)\n",
    "        return(prompt)"
   ]
  },
  {
   "attachments": {},
   "cell_type": "markdown",
   "metadata": {},
   "source": [
    "### Usage"
   ]
  },
  {
   "cell_type": "code",
   "execution_count": 251,
   "metadata": {},
   "outputs": [
    {
     "data": {
      "text/html": [
       "<pre style=\"white-space:pre;overflow-x:auto;line-height:normal;font-family:Menlo,'DejaVu Sans Mono',consolas,'Courier New',monospace\"><span style=\"color: #7fbfbf; text-decoration-color: #7fbfbf\">[12/19/24 13:06:24] </span><span style=\"color: #000080; text-decoration-color: #000080\">INFO    </span> <span style=\"color: #008080; text-decoration-color: #008080; font-weight: bold\">2024</span>-<span style=\"color: #008080; text-decoration-color: #008080; font-weight: bold\">12</span>-<span style=\"color: #008080; text-decoration-color: #008080; font-weight: bold\">19</span> <span style=\"color: #00ff00; text-decoration-color: #00ff00; font-weight: bold\">13:06:24</span>,<span style=\"color: #008080; text-decoration-color: #008080; font-weight: bold\">602</span> - INFO - NNLM: Init                           <a href=\"file:///var/folders/b5/v9y3kpzs29g41d99xvrdp3yr0000gn/T/ipykernel_63660/1576515260.py\" target=\"_blank\"><span style=\"color: #7f7f7f; text-decoration-color: #7f7f7f\">1576515260.py</span></a><span style=\"color: #7f7f7f; text-decoration-color: #7f7f7f\">:</span><a href=\"file:///var/folders/b5/v9y3kpzs29g41d99xvrdp3yr0000gn/T/ipykernel_63660/1576515260.py#18\" target=\"_blank\"><span style=\"color: #7f7f7f; text-decoration-color: #7f7f7f\">18</span></a>\n",
       "</pre>\n"
      ],
      "text/plain": [
       "\u001b[2;36m[12/19/24 13:06:24]\u001b[0m\u001b[2;36m \u001b[0m\u001b[34mINFO    \u001b[0m \u001b[1;36m2024\u001b[0m-\u001b[1;36m12\u001b[0m-\u001b[1;36m19\u001b[0m \u001b[1;92m13:06:24\u001b[0m,\u001b[1;36m602\u001b[0m - INFO - NNLM: Init                           \u001b]8;id=507137;file:///var/folders/b5/v9y3kpzs29g41d99xvrdp3yr0000gn/T/ipykernel_63660/1576515260.py\u001b\\\u001b[2m1576515260.py\u001b[0m\u001b]8;;\u001b\\\u001b[2m:\u001b[0m\u001b]8;id=124468;file:///var/folders/b5/v9y3kpzs29g41d99xvrdp3yr0000gn/T/ipykernel_63660/1576515260.py#18\u001b\\\u001b[2m18\u001b[0m\u001b]8;;\u001b\\\n"
      ]
     },
     "metadata": {},
     "output_type": "display_data"
    },
    {
     "name": "stdout",
     "output_type": "stream",
     "text": [
      "X (B, T): torch.Size([25, 3])\n",
      "Y_hat logits (B, n_vocab): torch.Size([25, 67])\n"
     ]
    }
   ],
   "source": [
    "# config model\n",
    "conf = NNLMConfig(n_vocab=len(v), n_context=CONTEXT_LEN)\n",
    "lm = NNLM(**asdict(conf))\n",
    "\n",
    "# test data\n",
    "bs = 25\n",
    "x = torch.randint(conf.n_vocab, (bs, conf.n_context)) # (B, T) with values between 0 and n_vocab\n",
    "print(\"X (B, T):\", x.shape)\n",
    "\n",
    "# prediction\n",
    "y = lm(x)\n",
    "print(\"Y_hat logits (B, n_vocab):\", y.shape)"
   ]
  },
  {
   "attachments": {},
   "cell_type": "markdown",
   "metadata": {},
   "source": [
    "## Train MLP LM"
   ]
  },
  {
   "cell_type": "markdown",
   "metadata": {},
   "source": [
    "### handmade dataset"
   ]
  },
  {
   "cell_type": "code",
   "execution_count": 15,
   "metadata": {},
   "outputs": [
    {
     "name": "stdout",
     "output_type": "stream",
     "text": [
      "Xtr (B, T):  torch.Size([2623, 3]) Ytr (B):  torch.Size([2623]) data: 80\n",
      "len Xtr:  2623\n",
      "CONTEXT_LEN:  3\n"
     ]
    }
   ],
   "source": [
    "Xtr, Ytr = make_dataset(data[:80], v, context_length=CONTEXT_LEN)\n",
    "Xdev, Ydev = make_dataset(data[80:90], v)\n",
    "Xte, Yte = make_dataset(data[90:100], v)\n",
    "print(\"Xtr (B, T): \", Xtr.shape, \"Ytr (B): \", Ytr.shape, \"data:\", len(data[:80]))\n",
    "print(\"len Xtr: \", len(Xtr))\n",
    "print(\"CONTEXT_LEN: \", CONTEXT_LEN)"
   ]
  },
  {
   "cell_type": "markdown",
   "metadata": {},
   "source": [
    "#### Overfit on subset of 80 first rows"
   ]
  },
  {
   "cell_type": "code",
   "execution_count": 42,
   "metadata": {},
   "outputs": [
    {
     "name": "stderr",
     "output_type": "stream",
     "text": [
      "  5%|▌         | 54/1000 [00:00<00:01, 537.56it/s]"
     ]
    },
    {
     "name": "stdout",
     "output_type": "stream",
     "text": [
      "4.255860805511475\n"
     ]
    },
    {
     "name": "stderr",
     "output_type": "stream",
     "text": [
      " 33%|███▎      | 331/1000 [00:00<00:01, 538.77it/s]"
     ]
    },
    {
     "name": "stdout",
     "output_type": "stream",
     "text": [
      "2.5862650871276855\n"
     ]
    },
    {
     "name": "stderr",
     "output_type": "stream",
     "text": [
      " 61%|██████    | 608/1000 [00:01<00:00, 521.54it/s]"
     ]
    },
    {
     "name": "stdout",
     "output_type": "stream",
     "text": [
      "2.302309274673462\n"
     ]
    },
    {
     "name": "stderr",
     "output_type": "stream",
     "text": [
      " 83%|████████▎ | 828/1000 [00:01<00:00, 541.03it/s]"
     ]
    },
    {
     "name": "stdout",
     "output_type": "stream",
     "text": [
      "2.1291682720184326\n"
     ]
    },
    {
     "name": "stderr",
     "output_type": "stream",
     "text": [
      "100%|██████████| 1000/1000 [00:01<00:00, 529.24it/s]"
     ]
    },
    {
     "name": "stdout",
     "output_type": "stream",
     "text": [
      "CPU times: user 3.84 s, sys: 1.43 s, total: 5.28 s\n",
      "Wall time: 1.89 s\n"
     ]
    },
    {
     "name": "stderr",
     "output_type": "stream",
     "text": [
      "\n"
     ]
    }
   ],
   "source": [
    "#| notest\n",
    "\n",
    "%%time\n",
    "device = get_device()\n",
    "device = 'cpu'\n",
    "# lm.to(device)\n",
    "\n",
    "# overfit on one big batch\n",
    "optim = SGD(lm.parameters(), lr=0.01, momentum=0.9)\n",
    "train_loss = []\n",
    "ITER_MAX = 1000\n",
    "for i in tqdm(range(ITER_MAX)):\n",
    "    # for batch in dm.train_dataloader():\n",
    "        # Xtr, Ytr = batch\n",
    "        # Ytr = Ytr[:, -1]\n",
    "        Xtr = Xtr.to(device)\n",
    "        Ytr = Ytr.to(device)\n",
    "        optim.zero_grad()\n",
    "        logits = lm(Xtr)\n",
    "        loss = F.cross_entropy(logits, Ytr)\n",
    "        loss.backward()\n",
    "        optim.step()\n",
    "        train_loss.append(loss.item())\n",
    "        if not(i%250):\n",
    "            print(loss.item())"
   ]
  },
  {
   "cell_type": "code",
   "execution_count": 246,
   "metadata": {},
   "outputs": [
    {
     "data": {
      "text/plain": [
       "[<matplotlib.lines.Line2D at 0x2cc0349d0>]"
      ]
     },
     "execution_count": 246,
     "metadata": {},
     "output_type": "execute_result"
    },
    {
     "data": {
      "image/png": "[encoded data removed]",
      "text/plain": [
       "<Figure size 640x480 with 1 Axes>"
      ]
     },
     "metadata": {},
     "output_type": "display_data"
    }
   ],
   "source": [
    "#| notest\n",
    "plt.plot(train_loss)"
   ]
  },
  {
   "attachments": {},
   "cell_type": "markdown",
   "metadata": {},
   "source": [
    "#### Sample"
   ]
  },
  {
   "cell_type": "code",
   "execution_count": 44,
   "metadata": {},
   "outputs": [
    {
     "name": "stdout",
     "output_type": "stream",
     "text": [
      "The country of ale she phaknou hat we count the' to te on the knowe parst yie, mure thas you what he peir ouve s are gat we :ortans de she crent the pat way he all as pote stong as the pe ore to bo do ds ireneld to nhe red read de ponltizen:\n",
      "rite the hone.s phit ru\n"
     ]
    }
   ],
   "source": [
    "# infer on CPU\n",
    "lm.to('cpu')\n",
    "prompt = \"The country of \"\n",
    "sequences = lm.sample(prompt, v, max_new_tokens=250, temperature=0.6)\n",
    "print(sequences)\n"
   ]
  },
  {
   "cell_type": "markdown",
   "metadata": {},
   "source": [
    "### Dataloader"
   ]
  },
  {
   "cell_type": "code",
   "execution_count": 252,
   "metadata": {},
   "outputs": [
    {
     "data": {
      "text/html": [
       "<pre style=\"white-space:pre;overflow-x:auto;line-height:normal;font-family:Menlo,'DejaVu Sans Mono',consolas,'Courier New',monospace\"><span style=\"color: #7fbfbf; text-decoration-color: #7fbfbf\">[12/19/24 13:06:35] </span><span style=\"color: #000080; text-decoration-color: #000080\">INFO    </span> <span style=\"color: #008080; text-decoration-color: #008080; font-weight: bold\">2024</span>-<span style=\"color: #008080; text-decoration-color: #008080; font-weight: bold\">12</span>-<span style=\"color: #008080; text-decoration-color: #008080; font-weight: bold\">19</span> <span style=\"color: #00ff00; text-decoration-color: #00ff00; font-weight: bold\">13:06:35</span>,<span style=\"color: #008080; text-decoration-color: #008080; font-weight: bold\">983</span> - INFO - Vocab: read text file                  <a href=\"file:///Users/slegroux/Projects/nimrod/nimrod/text/datasets.py\" target=\"_blank\"><span style=\"color: #7f7f7f; text-decoration-color: #7f7f7f\">datasets.py</span></a><span style=\"color: #7f7f7f; text-decoration-color: #7f7f7f\">:</span><a href=\"file:///Users/slegroux/Projects/nimrod/nimrod/text/datasets.py#66\" target=\"_blank\"><span style=\"color: #7f7f7f; text-decoration-color: #7f7f7f\">66</span></a>\n",
       "</pre>\n"
      ],
      "text/plain": [
       "\u001b[2;36m[12/19/24 13:06:35]\u001b[0m\u001b[2;36m \u001b[0m\u001b[34mINFO    \u001b[0m \u001b[1;36m2024\u001b[0m-\u001b[1;36m12\u001b[0m-\u001b[1;36m19\u001b[0m \u001b[1;92m13:06:35\u001b[0m,\u001b[1;36m983\u001b[0m - INFO - Vocab: read text file                  \u001b]8;id=16567;file:///Users/slegroux/Projects/nimrod/nimrod/text/datasets.py\u001b\\\u001b[2mdatasets.py\u001b[0m\u001b]8;;\u001b\\\u001b[2m:\u001b[0m\u001b]8;id=427819;file:///Users/slegroux/Projects/nimrod/nimrod/text/datasets.py#66\u001b\\\u001b[2m66\u001b[0m\u001b]8;;\u001b\\\n"
      ]
     },
     "metadata": {},
     "output_type": "display_data"
    },
    {
     "name": "stdout",
     "output_type": "stream",
     "text": [
      "vocabulary:  ['\\n', ' ', '!', '$', '&', \"'\", ',', '-', '.', '3', ':', ';', '<pad>', '<unk>', '?', 'A', 'B', 'C', 'D', 'E', 'F', 'G', 'H', 'I', 'J', 'K', 'L', 'M', 'N', 'O', 'P', 'Q', 'R', 'S', 'T', 'U', 'V', 'W', 'X', 'Y', 'Z', 'a', 'b', 'c', 'd', 'e', 'f', 'g', 'h', 'i', 'j', 'k', 'l', 'm', 'n', 'o', 'p', 'q', 'r', 's', 't', 'u', 'v', 'w', 'x', 'y', 'z']\n",
      "vocabulary size:  67\n",
      "{'_target_': 'nimrod.text.datasets.CharDataModule', 'data_path': '../data/text/tiny_shakespeare.txt', 'specials': ['<pad>', '<unk>'], 'add_sentence_tokens': False, 'train_val_test_split': [0.8, 0.1, 0.1], 'random_split': False, 'batch_size': 64, 'context_size': 3, 'num_workers': 0, 'pin_memory': False, 'persistent_workers': False}\n",
      "{'_target_': 'nimrod.text.datasets.CharDataModule', 'data_path': '../data/text/tiny_shakespeare.txt', 'specials': ['<unk>', '<pad>'], 'add_sentence_tokens': False, 'train_val_test_split': [0.8, 0.1, 0.1], 'random_split': False, 'batch_size': 2700, 'context_size': 3, 'num_workers': 0, 'pin_memory': False, 'persistent_workers': False}\n"
     ]
    },
    {
     "data": {
      "text/html": [
       "<pre style=\"white-space:pre;overflow-x:auto;line-height:normal;font-family:Menlo,'DejaVu Sans Mono',consolas,'Courier New',monospace\"><span style=\"color: #7fbfbf; text-decoration-color: #7fbfbf\">                    </span><span style=\"color: #000080; text-decoration-color: #000080\">INFO    </span> <span style=\"color: #008080; text-decoration-color: #008080; font-weight: bold\">2024</span>-<span style=\"color: #008080; text-decoration-color: #008080; font-weight: bold\">12</span>-<span style=\"color: #008080; text-decoration-color: #008080; font-weight: bold\">19</span> <span style=\"color: #00ff00; text-decoration-color: #00ff00; font-weight: bold\">13:06:35</span>,<span style=\"color: #008080; text-decoration-color: #008080; font-weight: bold\">993</span> - INFO - CharDataModule: init                  <a href=\"file:///Users/slegroux/Projects/nimrod/nimrod/text/datasets.py\" target=\"_blank\"><span style=\"color: #7f7f7f; text-decoration-color: #7f7f7f\">datasets.py</span></a><span style=\"color: #7f7f7f; text-decoration-color: #7f7f7f\">:</span><a href=\"file:///Users/slegroux/Projects/nimrod/nimrod/text/datasets.py#213\" target=\"_blank\"><span style=\"color: #7f7f7f; text-decoration-color: #7f7f7f\">213</span></a>\n",
       "</pre>\n"
      ],
      "text/plain": [
       "\u001b[2;36m                   \u001b[0m\u001b[2;36m \u001b[0m\u001b[34mINFO    \u001b[0m \u001b[1;36m2024\u001b[0m-\u001b[1;36m12\u001b[0m-\u001b[1;36m19\u001b[0m \u001b[1;92m13:06:35\u001b[0m,\u001b[1;36m993\u001b[0m - INFO - CharDataModule: init                  \u001b]8;id=994808;file:///Users/slegroux/Projects/nimrod/nimrod/text/datasets.py\u001b\\\u001b[2mdatasets.py\u001b[0m\u001b]8;;\u001b\\\u001b[2m:\u001b[0m\u001b]8;id=705845;file:///Users/slegroux/Projects/nimrod/nimrod/text/datasets.py#213\u001b\\\u001b[2m213\u001b[0m\u001b]8;;\u001b\\\n"
      ]
     },
     "metadata": {},
     "output_type": "display_data"
    },
    {
     "data": {
      "text/html": [
       "<pre style=\"white-space:pre;overflow-x:auto;line-height:normal;font-family:Menlo,'DejaVu Sans Mono',consolas,'Courier New',monospace\"><span style=\"color: #7fbfbf; text-decoration-color: #7fbfbf\">                    </span><span style=\"color: #000080; text-decoration-color: #000080\">INFO    </span> <span style=\"color: #008080; text-decoration-color: #008080; font-weight: bold\">2024</span>-<span style=\"color: #008080; text-decoration-color: #008080; font-weight: bold\">12</span>-<span style=\"color: #008080; text-decoration-color: #008080; font-weight: bold\">19</span> <span style=\"color: #00ff00; text-decoration-color: #00ff00; font-weight: bold\">13:06:35</span>,<span style=\"color: #008080; text-decoration-color: #008080; font-weight: bold\">995</span> - INFO - CharDataModule: setup, split datasets <a href=\"file:///Users/slegroux/Projects/nimrod/nimrod/text/datasets.py\" target=\"_blank\"><span style=\"color: #7f7f7f; text-decoration-color: #7f7f7f\">datasets.py</span></a><span style=\"color: #7f7f7f; text-decoration-color: #7f7f7f\">:</span><a href=\"file:///Users/slegroux/Projects/nimrod/nimrod/text/datasets.py#230\" target=\"_blank\"><span style=\"color: #7f7f7f; text-decoration-color: #7f7f7f\">230</span></a>\n",
       "</pre>\n"
      ],
      "text/plain": [
       "\u001b[2;36m                   \u001b[0m\u001b[2;36m \u001b[0m\u001b[34mINFO    \u001b[0m \u001b[1;36m2024\u001b[0m-\u001b[1;36m12\u001b[0m-\u001b[1;36m19\u001b[0m \u001b[1;92m13:06:35\u001b[0m,\u001b[1;36m995\u001b[0m - INFO - CharDataModule: setup, split datasets \u001b]8;id=408763;file:///Users/slegroux/Projects/nimrod/nimrod/text/datasets.py\u001b\\\u001b[2mdatasets.py\u001b[0m\u001b]8;;\u001b\\\u001b[2m:\u001b[0m\u001b]8;id=947126;file:///Users/slegroux/Projects/nimrod/nimrod/text/datasets.py#230\u001b\\\u001b[2m230\u001b[0m\u001b]8;;\u001b\\\n"
      ]
     },
     "metadata": {},
     "output_type": "display_data"
    },
    {
     "data": {
      "text/html": [
       "<pre style=\"white-space:pre;overflow-x:auto;line-height:normal;font-family:Menlo,'DejaVu Sans Mono',consolas,'Courier New',monospace\"><span style=\"color: #7fbfbf; text-decoration-color: #7fbfbf\">                    </span><span style=\"color: #000080; text-decoration-color: #000080\">INFO    </span> <span style=\"color: #008080; text-decoration-color: #008080; font-weight: bold\">2024</span>-<span style=\"color: #008080; text-decoration-color: #008080; font-weight: bold\">12</span>-<span style=\"color: #008080; text-decoration-color: #008080; font-weight: bold\">19</span> <span style=\"color: #00ff00; text-decoration-color: #00ff00; font-weight: bold\">13:06:35</span>,<span style=\"color: #008080; text-decoration-color: #008080; font-weight: bold\">996</span> - INFO - CharDataset: init                     <a href=\"file:///Users/slegroux/Projects/nimrod/nimrod/text/datasets.py\" target=\"_blank\"><span style=\"color: #7f7f7f; text-decoration-color: #7f7f7f\">datasets.py</span></a><span style=\"color: #7f7f7f; text-decoration-color: #7f7f7f\">:</span><a href=\"file:///Users/slegroux/Projects/nimrod/nimrod/text/datasets.py#132\" target=\"_blank\"><span style=\"color: #7f7f7f; text-decoration-color: #7f7f7f\">132</span></a>\n",
       "</pre>\n"
      ],
      "text/plain": [
       "\u001b[2;36m                   \u001b[0m\u001b[2;36m \u001b[0m\u001b[34mINFO    \u001b[0m \u001b[1;36m2024\u001b[0m-\u001b[1;36m12\u001b[0m-\u001b[1;36m19\u001b[0m \u001b[1;92m13:06:35\u001b[0m,\u001b[1;36m996\u001b[0m - INFO - CharDataset: init                     \u001b]8;id=953891;file:///Users/slegroux/Projects/nimrod/nimrod/text/datasets.py\u001b\\\u001b[2mdatasets.py\u001b[0m\u001b]8;;\u001b\\\u001b[2m:\u001b[0m\u001b]8;id=473866;file:///Users/slegroux/Projects/nimrod/nimrod/text/datasets.py#132\u001b\\\u001b[2m132\u001b[0m\u001b]8;;\u001b\\\n"
      ]
     },
     "metadata": {},
     "output_type": "display_data"
    },
    {
     "data": {
      "text/html": [
       "<pre style=\"white-space:pre;overflow-x:auto;line-height:normal;font-family:Menlo,'DejaVu Sans Mono',consolas,'Courier New',monospace\"><span style=\"color: #7fbfbf; text-decoration-color: #7fbfbf\">                    </span><span style=\"color: #000080; text-decoration-color: #000080\">INFO    </span> <span style=\"color: #008080; text-decoration-color: #008080; font-weight: bold\">2024</span>-<span style=\"color: #008080; text-decoration-color: #008080; font-weight: bold\">12</span>-<span style=\"color: #008080; text-decoration-color: #008080; font-weight: bold\">19</span> <span style=\"color: #00ff00; text-decoration-color: #00ff00; font-weight: bold\">13:06:35</span>,<span style=\"color: #008080; text-decoration-color: #008080; font-weight: bold\">997</span> - INFO - Vocab: read text file                  <a href=\"file:///Users/slegroux/Projects/nimrod/nimrod/text/datasets.py\" target=\"_blank\"><span style=\"color: #7f7f7f; text-decoration-color: #7f7f7f\">datasets.py</span></a><span style=\"color: #7f7f7f; text-decoration-color: #7f7f7f\">:</span><a href=\"file:///Users/slegroux/Projects/nimrod/nimrod/text/datasets.py#66\" target=\"_blank\"><span style=\"color: #7f7f7f; text-decoration-color: #7f7f7f\">66</span></a>\n",
       "</pre>\n"
      ],
      "text/plain": [
       "\u001b[2;36m                   \u001b[0m\u001b[2;36m \u001b[0m\u001b[34mINFO    \u001b[0m \u001b[1;36m2024\u001b[0m-\u001b[1;36m12\u001b[0m-\u001b[1;36m19\u001b[0m \u001b[1;92m13:06:35\u001b[0m,\u001b[1;36m997\u001b[0m - INFO - Vocab: read text file                  \u001b]8;id=116961;file:///Users/slegroux/Projects/nimrod/nimrod/text/datasets.py\u001b\\\u001b[2mdatasets.py\u001b[0m\u001b]8;;\u001b\\\u001b[2m:\u001b[0m\u001b]8;id=882746;file:///Users/slegroux/Projects/nimrod/nimrod/text/datasets.py#66\u001b\\\u001b[2m66\u001b[0m\u001b]8;;\u001b\\\n"
      ]
     },
     "metadata": {},
     "output_type": "display_data"
    },
    {
     "name": "stdout",
     "output_type": "stream",
     "text": [
      "vocab size:  67\n",
      "Xtr (B, T):  torch.Size([2700, 3]) Ytr (B):  torch.Size([2700])\n",
      "Fir irs\n"
     ]
    }
   ],
   "source": [
    "\n",
    "cfg = OmegaConf.load(\"../config/text/data/tinyshakespeare.yaml\")\n",
    "# use <unk> and <pad> to be consistent with manual data preprocessing and have smae vocabulary size\n",
    "v = Vocab(data_path='../data/text/tiny_shakespeare.txt', specials=['<unk>','<pad>'])\n",
    "print(\"vocabulary: \", v.vocabulary)\n",
    "print(\"vocabulary size: \", len(v))\n",
    "print(cfg)\n",
    "cfg.train_val_test_split = [0.8, 0.1, 0.1]\n",
    "# by default data_path is relative to the recipe folder so need to update for nbs\n",
    "cfg.data_path = \"../data/text/tiny_shakespeare.txt\"\n",
    "cfg.context_size = CONTEXT_LEN\n",
    "cfg.batch_size = 2700 # large batch to mimic manual data order of magnitude\n",
    "cfg.random_split = False\n",
    "cfg.specials=['<unk>', '<pad>']\n",
    "cfg.add_sentence_tokens = False\n",
    "print(cfg)\n",
    "dm = instantiate(cfg)\n",
    "dm.setup()\n",
    "print(\"vocab size: \", dm.vocab_size)\n",
    "# setup large batch to overfit / test model\n",
    "Xtr, Ytr= next(iter(dm.train_dataloader()))\n",
    "# target is last token in sequence\n",
    "Ytr = Ytr[:, -1]\n",
    "print(\"Xtr (B, T): \", Xtr.shape, \"Ytr (B): \", Ytr.shape)\n",
    "X, Y = dm.data_train[0]\n",
    "print(dm.ds.from_tokens(X), dm.ds.from_tokens(Y))\n"
   ]
  },
  {
   "cell_type": "code",
   "execution_count": 248,
   "metadata": {},
   "outputs": [
    {
     "name": "stdout",
     "output_type": "stream",
     "text": [
      "67 3\n"
     ]
    },
    {
     "data": {
      "text/html": [
       "<pre style=\"white-space:pre;overflow-x:auto;line-height:normal;font-family:Menlo,'DejaVu Sans Mono',consolas,'Courier New',monospace\"><span style=\"color: #7fbfbf; text-decoration-color: #7fbfbf\">[12/19/24 13:05:36] </span><span style=\"color: #000080; text-decoration-color: #000080\">INFO    </span> <span style=\"color: #008080; text-decoration-color: #008080; font-weight: bold\">2024</span>-<span style=\"color: #008080; text-decoration-color: #008080; font-weight: bold\">12</span>-<span style=\"color: #008080; text-decoration-color: #008080; font-weight: bold\">19</span> <span style=\"color: #00ff00; text-decoration-color: #00ff00; font-weight: bold\">13:05:36</span>,<span style=\"color: #008080; text-decoration-color: #008080; font-weight: bold\">567</span> - INFO - NNLM Init: n_vocab: <span style=\"color: #008080; text-decoration-color: #008080; font-weight: bold\">67</span>, n_emb: <span style=\"color: #008080; text-decoration-color: #008080; font-weight: bold\">10</span>,   <a href=\"file:///var/folders/b5/v9y3kpzs29g41d99xvrdp3yr0000gn/T/ipykernel_63660/4245072187.py\" target=\"_blank\"><span style=\"color: #7f7f7f; text-decoration-color: #7f7f7f\">4245072187.py</span></a><span style=\"color: #7f7f7f; text-decoration-color: #7f7f7f\">:</span><a href=\"file:///var/folders/b5/v9y3kpzs29g41d99xvrdp3yr0000gn/T/ipykernel_63660/4245072187.py#18\" target=\"_blank\"><span style=\"color: #7f7f7f; text-decoration-color: #7f7f7f\">18</span></a>\n",
       "<span style=\"color: #7fbfbf; text-decoration-color: #7fbfbf\">                    </span>         n_context: <span style=\"color: #008080; text-decoration-color: #008080; font-weight: bold\">3</span>, n_h: <span style=\"color: #008080; text-decoration-color: #008080; font-weight: bold\">100</span>                                                <span style=\"color: #7f7f7f; text-decoration-color: #7f7f7f\">                </span>\n",
       "</pre>\n"
      ],
      "text/plain": [
       "\u001b[2;36m[12/19/24 13:05:36]\u001b[0m\u001b[2;36m \u001b[0m\u001b[34mINFO    \u001b[0m \u001b[1;36m2024\u001b[0m-\u001b[1;36m12\u001b[0m-\u001b[1;36m19\u001b[0m \u001b[1;92m13:05:36\u001b[0m,\u001b[1;36m567\u001b[0m - INFO - NNLM Init: n_vocab: \u001b[1;36m67\u001b[0m, n_emb: \u001b[1;36m10\u001b[0m,   \u001b]8;id=639247;file:///var/folders/b5/v9y3kpzs29g41d99xvrdp3yr0000gn/T/ipykernel_63660/4245072187.py\u001b\\\u001b[2m4245072187.py\u001b[0m\u001b]8;;\u001b\\\u001b[2m:\u001b[0m\u001b]8;id=67028;file:///var/folders/b5/v9y3kpzs29g41d99xvrdp3yr0000gn/T/ipykernel_63660/4245072187.py#18\u001b\\\u001b[2m18\u001b[0m\u001b]8;;\u001b\\\n",
       "\u001b[2;36m                    \u001b[0m         n_context: \u001b[1;36m3\u001b[0m, n_h: \u001b[1;36m100\u001b[0m                                                \u001b[2m                \u001b[0m\n"
      ]
     },
     "metadata": {},
     "output_type": "display_data"
    },
    {
     "name": "stdout",
     "output_type": "stream",
     "text": [
      "X (B, T): torch.Size([10, 3])\n"
     ]
    },
    {
     "data": {
      "text/plain": [
       "torch.Size([10, 67])"
      ]
     },
     "execution_count": 248,
     "metadata": {},
     "output_type": "execute_result"
    }
   ],
   "source": [
    "conf = NNLMConfig(n_vocab=len(v), n_context=CONTEXT_LEN)\n",
    "print(len(v), CONTEXT_LEN)\n",
    "lm = NNLM(**asdict(conf))\n",
    "bs = 10\n",
    "x = torch.randint(conf.n_vocab, (bs, conf.n_context)) # (B, T) with values between 0 and n_vocab\n",
    "print(\"X (B, T):\", x.shape)\n",
    "lm(x).shape"
   ]
  },
  {
   "cell_type": "code",
   "execution_count": 67,
   "metadata": {},
   "outputs": [
    {
     "name": "stdout",
     "output_type": "stream",
     "text": [
      "tensor(0) tensor(66)\n"
     ]
    }
   ],
   "source": [
    "# checking data tokens are between 0 and vocab size\n",
    "print(Xtr.min(),  Xtr.max())"
   ]
  },
  {
   "cell_type": "markdown",
   "metadata": {},
   "source": [
    "#### overfit "
   ]
  },
  {
   "cell_type": "code",
   "execution_count": 68,
   "metadata": {},
   "outputs": [
    {
     "name": "stderr",
     "output_type": "stream",
     "text": [
      " 11%|█         | 108/1000 [00:00<00:01, 536.73it/s]"
     ]
    },
    {
     "name": "stdout",
     "output_type": "stream",
     "text": [
      "4.240655899047852\n"
     ]
    },
    {
     "name": "stderr",
     "output_type": "stream",
     "text": [
      " 32%|███▎      | 325/1000 [00:00<00:01, 538.31it/s]"
     ]
    },
    {
     "name": "stdout",
     "output_type": "stream",
     "text": [
      "2.6463425159454346\n"
     ]
    },
    {
     "name": "stderr",
     "output_type": "stream",
     "text": [
      " 60%|█████▉    | 595/1000 [00:01<00:00, 516.05it/s]"
     ]
    },
    {
     "name": "stdout",
     "output_type": "stream",
     "text": [
      "2.3597230911254883\n"
     ]
    },
    {
     "name": "stderr",
     "output_type": "stream",
     "text": [
      " 81%|████████  | 809/1000 [00:01<00:00, 526.65it/s]"
     ]
    },
    {
     "name": "stdout",
     "output_type": "stream",
     "text": [
      "2.1918282508850098\n"
     ]
    },
    {
     "name": "stderr",
     "output_type": "stream",
     "text": [
      "100%|██████████| 1000/1000 [00:01<00:00, 523.28it/s]"
     ]
    },
    {
     "name": "stdout",
     "output_type": "stream",
     "text": [
      "CPU times: user 3.74 s, sys: 1.47 s, total: 5.21 s\n",
      "Wall time: 1.91 s\n"
     ]
    },
    {
     "name": "stderr",
     "output_type": "stream",
     "text": [
      "\n"
     ]
    }
   ],
   "source": [
    "#| notest\n",
    "\n",
    "%%time\n",
    "# device = get_device()\n",
    "device = 'cpu'\n",
    "lm.to(device)\n",
    "\n",
    "# overfit on one big batch\n",
    "optim = SGD(lm.parameters(), lr=0.01, momentum=0.9)\n",
    "train_loss = []\n",
    "ITER_MAX = 1000\n",
    "for i in tqdm(range(ITER_MAX)):\n",
    "    # for batch in dm.train_dataloader():\n",
    "        # Xtr, Ytr = batch\n",
    "        # Ytr = Ytr[:, -1]\n",
    "        Xtr = Xtr.to(device)\n",
    "        Ytr = Ytr.to(device)\n",
    "        optim.zero_grad()\n",
    "        logits = lm(Xtr)\n",
    "        loss = F.cross_entropy(logits, Ytr)\n",
    "        loss.backward()\n",
    "        optim.step()\n",
    "        train_loss.append(loss.item())\n",
    "        if not(i%250):\n",
    "            print(loss.item())"
   ]
  },
  {
   "cell_type": "code",
   "execution_count": 69,
   "metadata": {},
   "outputs": [
    {
     "data": {
      "text/plain": [
       "[<matplotlib.lines.Line2D at 0x2cc291d50>]"
      ]
     },
     "execution_count": 69,
     "metadata": {},
     "output_type": "execute_result"
    },
    {
     "data": {
      "image/png": "[encoded data removed]",
      "text/plain": [
       "<Figure size 640x480 with 1 Axes>"
      ]
     },
     "metadata": {},
     "output_type": "display_data"
    }
   ],
   "source": [
    "#| notest\n",
    "plt.plot(train_loss)"
   ]
  },
  {
   "cell_type": "code",
   "execution_count": 70,
   "metadata": {},
   "outputs": [
    {
     "name": "stdout",
     "output_type": "stream",
     "text": [
      "The country of we pat\n",
      "oeren anest Citiz senat warm hir to ne wath wotl\n",
      "s for cou\n",
      "\n",
      "Firs fireto the hath bat it the pele sn wis the hat in antitizen:\n",
      "Werthor aec ner vend Citizen:\n",
      "Wer counBe kntizen:\n",
      "Ion the the good.\n",
      "\n",
      "Ficend Cititizen:\n",
      "Wore,en:\n",
      "Werenen:\n",
      "Flls for tis\n"
     ]
    }
   ],
   "source": [
    "# infer on CPU\n",
    "lm.to('cpu')\n",
    "prompt = \"The country of \"\n",
    "sequences = lm.sample(prompt, v, max_new_tokens=250, temperature=0.6)\n",
    "print(sequences)"
   ]
  },
  {
   "cell_type": "markdown",
   "metadata": {},
   "source": [
    "#### Batching with dataloaders"
   ]
  },
  {
   "cell_type": "code",
   "execution_count": 249,
   "metadata": {},
   "outputs": [
    {
     "data": {
      "text/html": [
       "<pre style=\"white-space:pre;overflow-x:auto;line-height:normal;font-family:Menlo,'DejaVu Sans Mono',consolas,'Courier New',monospace\"><span style=\"color: #7fbfbf; text-decoration-color: #7fbfbf\">[12/19/24 13:05:46] </span><span style=\"color: #000080; text-decoration-color: #000080\">INFO    </span> <span style=\"color: #008080; text-decoration-color: #008080; font-weight: bold\">2024</span>-<span style=\"color: #008080; text-decoration-color: #008080; font-weight: bold\">12</span>-<span style=\"color: #008080; text-decoration-color: #008080; font-weight: bold\">19</span> <span style=\"color: #00ff00; text-decoration-color: #00ff00; font-weight: bold\">13:05:46</span>,<span style=\"color: #008080; text-decoration-color: #008080; font-weight: bold\">205</span> - INFO - CharDataModule: init                  <a href=\"file:///Users/slegroux/Projects/nimrod/nimrod/text/datasets.py\" target=\"_blank\"><span style=\"color: #7f7f7f; text-decoration-color: #7f7f7f\">datasets.py</span></a><span style=\"color: #7f7f7f; text-decoration-color: #7f7f7f\">:</span><a href=\"file:///Users/slegroux/Projects/nimrod/nimrod/text/datasets.py#213\" target=\"_blank\"><span style=\"color: #7f7f7f; text-decoration-color: #7f7f7f\">213</span></a>\n",
       "</pre>\n"
      ],
      "text/plain": [
       "\u001b[2;36m[12/19/24 13:05:46]\u001b[0m\u001b[2;36m \u001b[0m\u001b[34mINFO    \u001b[0m \u001b[1;36m2024\u001b[0m-\u001b[1;36m12\u001b[0m-\u001b[1;36m19\u001b[0m \u001b[1;92m13:05:46\u001b[0m,\u001b[1;36m205\u001b[0m - INFO - CharDataModule: init                  \u001b]8;id=619152;file:///Users/slegroux/Projects/nimrod/nimrod/text/datasets.py\u001b\\\u001b[2mdatasets.py\u001b[0m\u001b]8;;\u001b\\\u001b[2m:\u001b[0m\u001b]8;id=25462;file:///Users/slegroux/Projects/nimrod/nimrod/text/datasets.py#213\u001b\\\u001b[2m213\u001b[0m\u001b]8;;\u001b\\\n"
      ]
     },
     "metadata": {},
     "output_type": "display_data"
    },
    {
     "data": {
      "text/html": [
       "<pre style=\"white-space:pre;overflow-x:auto;line-height:normal;font-family:Menlo,'DejaVu Sans Mono',consolas,'Courier New',monospace\"><span style=\"color: #7fbfbf; text-decoration-color: #7fbfbf\">                    </span><span style=\"color: #000080; text-decoration-color: #000080\">INFO    </span> <span style=\"color: #008080; text-decoration-color: #008080; font-weight: bold\">2024</span>-<span style=\"color: #008080; text-decoration-color: #008080; font-weight: bold\">12</span>-<span style=\"color: #008080; text-decoration-color: #008080; font-weight: bold\">19</span> <span style=\"color: #00ff00; text-decoration-color: #00ff00; font-weight: bold\">13:05:46</span>,<span style=\"color: #008080; text-decoration-color: #008080; font-weight: bold\">208</span> - INFO - CharDataModule: setup, split datasets <a href=\"file:///Users/slegroux/Projects/nimrod/nimrod/text/datasets.py\" target=\"_blank\"><span style=\"color: #7f7f7f; text-decoration-color: #7f7f7f\">datasets.py</span></a><span style=\"color: #7f7f7f; text-decoration-color: #7f7f7f\">:</span><a href=\"file:///Users/slegroux/Projects/nimrod/nimrod/text/datasets.py#230\" target=\"_blank\"><span style=\"color: #7f7f7f; text-decoration-color: #7f7f7f\">230</span></a>\n",
       "</pre>\n"
      ],
      "text/plain": [
       "\u001b[2;36m                   \u001b[0m\u001b[2;36m \u001b[0m\u001b[34mINFO    \u001b[0m \u001b[1;36m2024\u001b[0m-\u001b[1;36m12\u001b[0m-\u001b[1;36m19\u001b[0m \u001b[1;92m13:05:46\u001b[0m,\u001b[1;36m208\u001b[0m - INFO - CharDataModule: setup, split datasets \u001b]8;id=203510;file:///Users/slegroux/Projects/nimrod/nimrod/text/datasets.py\u001b\\\u001b[2mdatasets.py\u001b[0m\u001b]8;;\u001b\\\u001b[2m:\u001b[0m\u001b]8;id=938790;file:///Users/slegroux/Projects/nimrod/nimrod/text/datasets.py#230\u001b\\\u001b[2m230\u001b[0m\u001b]8;;\u001b\\\n"
      ]
     },
     "metadata": {},
     "output_type": "display_data"
    },
    {
     "data": {
      "text/html": [
       "<pre style=\"white-space:pre;overflow-x:auto;line-height:normal;font-family:Menlo,'DejaVu Sans Mono',consolas,'Courier New',monospace\"><span style=\"color: #7fbfbf; text-decoration-color: #7fbfbf\">                    </span><span style=\"color: #000080; text-decoration-color: #000080\">INFO    </span> <span style=\"color: #008080; text-decoration-color: #008080; font-weight: bold\">2024</span>-<span style=\"color: #008080; text-decoration-color: #008080; font-weight: bold\">12</span>-<span style=\"color: #008080; text-decoration-color: #008080; font-weight: bold\">19</span> <span style=\"color: #00ff00; text-decoration-color: #00ff00; font-weight: bold\">13:05:46</span>,<span style=\"color: #008080; text-decoration-color: #008080; font-weight: bold\">210</span> - INFO - CharDataset: init                     <a href=\"file:///Users/slegroux/Projects/nimrod/nimrod/text/datasets.py\" target=\"_blank\"><span style=\"color: #7f7f7f; text-decoration-color: #7f7f7f\">datasets.py</span></a><span style=\"color: #7f7f7f; text-decoration-color: #7f7f7f\">:</span><a href=\"file:///Users/slegroux/Projects/nimrod/nimrod/text/datasets.py#132\" target=\"_blank\"><span style=\"color: #7f7f7f; text-decoration-color: #7f7f7f\">132</span></a>\n",
       "</pre>\n"
      ],
      "text/plain": [
       "\u001b[2;36m                   \u001b[0m\u001b[2;36m \u001b[0m\u001b[34mINFO    \u001b[0m \u001b[1;36m2024\u001b[0m-\u001b[1;36m12\u001b[0m-\u001b[1;36m19\u001b[0m \u001b[1;92m13:05:46\u001b[0m,\u001b[1;36m210\u001b[0m - INFO - CharDataset: init                     \u001b]8;id=212990;file:///Users/slegroux/Projects/nimrod/nimrod/text/datasets.py\u001b\\\u001b[2mdatasets.py\u001b[0m\u001b]8;;\u001b\\\u001b[2m:\u001b[0m\u001b]8;id=678320;file:///Users/slegroux/Projects/nimrod/nimrod/text/datasets.py#132\u001b\\\u001b[2m132\u001b[0m\u001b]8;;\u001b\\\n"
      ]
     },
     "metadata": {},
     "output_type": "display_data"
    },
    {
     "data": {
      "text/html": [
       "<pre style=\"white-space:pre;overflow-x:auto;line-height:normal;font-family:Menlo,'DejaVu Sans Mono',consolas,'Courier New',monospace\"><span style=\"color: #7fbfbf; text-decoration-color: #7fbfbf\">                    </span><span style=\"color: #000080; text-decoration-color: #000080\">INFO    </span> <span style=\"color: #008080; text-decoration-color: #008080; font-weight: bold\">2024</span>-<span style=\"color: #008080; text-decoration-color: #008080; font-weight: bold\">12</span>-<span style=\"color: #008080; text-decoration-color: #008080; font-weight: bold\">19</span> <span style=\"color: #00ff00; text-decoration-color: #00ff00; font-weight: bold\">13:05:46</span>,<span style=\"color: #008080; text-decoration-color: #008080; font-weight: bold\">213</span> - INFO - Vocab: read text file                  <a href=\"file:///Users/slegroux/Projects/nimrod/nimrod/text/datasets.py\" target=\"_blank\"><span style=\"color: #7f7f7f; text-decoration-color: #7f7f7f\">datasets.py</span></a><span style=\"color: #7f7f7f; text-decoration-color: #7f7f7f\">:</span><a href=\"file:///Users/slegroux/Projects/nimrod/nimrod/text/datasets.py#66\" target=\"_blank\"><span style=\"color: #7f7f7f; text-decoration-color: #7f7f7f\">66</span></a>\n",
       "</pre>\n"
      ],
      "text/plain": [
       "\u001b[2;36m                   \u001b[0m\u001b[2;36m \u001b[0m\u001b[34mINFO    \u001b[0m \u001b[1;36m2024\u001b[0m-\u001b[1;36m12\u001b[0m-\u001b[1;36m19\u001b[0m \u001b[1;92m13:05:46\u001b[0m,\u001b[1;36m213\u001b[0m - INFO - Vocab: read text file                  \u001b]8;id=644913;file:///Users/slegroux/Projects/nimrod/nimrod/text/datasets.py\u001b\\\u001b[2mdatasets.py\u001b[0m\u001b]8;;\u001b\\\u001b[2m:\u001b[0m\u001b]8;id=390607;file:///Users/slegroux/Projects/nimrod/nimrod/text/datasets.py#66\u001b\\\u001b[2m66\u001b[0m\u001b]8;;\u001b\\\n"
      ]
     },
     "metadata": {},
     "output_type": "display_data"
    },
    {
     "data": {
      "text/html": [
       "<pre style=\"white-space:pre;overflow-x:auto;line-height:normal;font-family:Menlo,'DejaVu Sans Mono',consolas,'Courier New',monospace\"><span style=\"color: #7fbfbf; text-decoration-color: #7fbfbf\">                    </span><span style=\"color: #000080; text-decoration-color: #000080\">INFO    </span> <span style=\"color: #008080; text-decoration-color: #008080; font-weight: bold\">2024</span>-<span style=\"color: #008080; text-decoration-color: #008080; font-weight: bold\">12</span>-<span style=\"color: #008080; text-decoration-color: #008080; font-weight: bold\">19</span> <span style=\"color: #00ff00; text-decoration-color: #00ff00; font-weight: bold\">13:05:46</span>,<span style=\"color: #008080; text-decoration-color: #008080; font-weight: bold\">292</span> - INFO - NNLM Init: n_vocab: <span style=\"color: #008080; text-decoration-color: #008080; font-weight: bold\">67</span>, n_emb: <span style=\"color: #008080; text-decoration-color: #008080; font-weight: bold\">10</span>,   <a href=\"file:///var/folders/b5/v9y3kpzs29g41d99xvrdp3yr0000gn/T/ipykernel_63660/4245072187.py\" target=\"_blank\"><span style=\"color: #7f7f7f; text-decoration-color: #7f7f7f\">4245072187.py</span></a><span style=\"color: #7f7f7f; text-decoration-color: #7f7f7f\">:</span><a href=\"file:///var/folders/b5/v9y3kpzs29g41d99xvrdp3yr0000gn/T/ipykernel_63660/4245072187.py#18\" target=\"_blank\"><span style=\"color: #7f7f7f; text-decoration-color: #7f7f7f\">18</span></a>\n",
       "<span style=\"color: #7fbfbf; text-decoration-color: #7fbfbf\">                    </span>         n_context: <span style=\"color: #008080; text-decoration-color: #008080; font-weight: bold\">3</span>, n_h: <span style=\"color: #008080; text-decoration-color: #008080; font-weight: bold\">100</span>                                                <span style=\"color: #7f7f7f; text-decoration-color: #7f7f7f\">                </span>\n",
       "</pre>\n"
      ],
      "text/plain": [
       "\u001b[2;36m                   \u001b[0m\u001b[2;36m \u001b[0m\u001b[34mINFO    \u001b[0m \u001b[1;36m2024\u001b[0m-\u001b[1;36m12\u001b[0m-\u001b[1;36m19\u001b[0m \u001b[1;92m13:05:46\u001b[0m,\u001b[1;36m292\u001b[0m - INFO - NNLM Init: n_vocab: \u001b[1;36m67\u001b[0m, n_emb: \u001b[1;36m10\u001b[0m,   \u001b]8;id=39987;file:///var/folders/b5/v9y3kpzs29g41d99xvrdp3yr0000gn/T/ipykernel_63660/4245072187.py\u001b\\\u001b[2m4245072187.py\u001b[0m\u001b]8;;\u001b\\\u001b[2m:\u001b[0m\u001b]8;id=718983;file:///var/folders/b5/v9y3kpzs29g41d99xvrdp3yr0000gn/T/ipykernel_63660/4245072187.py#18\u001b\\\u001b[2m18\u001b[0m\u001b]8;;\u001b\\\n",
       "\u001b[2;36m                    \u001b[0m         n_context: \u001b[1;36m3\u001b[0m, n_h: \u001b[1;36m100\u001b[0m                                                \u001b[2m                \u001b[0m\n"
      ]
     },
     "metadata": {},
     "output_type": "display_data"
    }
   ],
   "source": [
    "# mini batch gradient descent with datamodule\n",
    "cfg = OmegaConf.load(\"../config/text/data/tinyshakespeare.yaml\")\n",
    "cfg.train_val_test_split = [0.8, 0.1, 0.1]\n",
    "cfg.data_path = \"../data/text/tiny_shakespeare.txt\"\n",
    "cfg.context_size = CONTEXT_LEN\n",
    "cfg.batch_size = 2048\n",
    "cfg.random_split = False\n",
    "cfg.specials=['<unk>', '<pad>']\n",
    "cfg.add_sentence_tokens = False\n",
    "dm = instantiate(cfg)\n",
    "dm.setup()\n",
    "\n",
    "conf = NNLMConfig(n_vocab=len(v), n_context=CONTEXT_LEN)\n",
    "lm = NNLM(**asdict(conf))\n"
   ]
  },
  {
   "cell_type": "code",
   "execution_count": 97,
   "metadata": {},
   "outputs": [
    {
     "name": "stderr",
     "output_type": "stream",
     "text": [
      "  0%|          | 0/1 [00:00<?, ?it/s]"
     ]
    },
    {
     "name": "stdout",
     "output_type": "stream",
     "text": [
      "epoch 0\n"
     ]
    },
    {
     "name": "stderr",
     "output_type": "stream",
     "text": []
    },
    {
     "name": "stdout",
     "output_type": "stream",
     "text": [
      "4.201027870178223\n"
     ]
    },
    {
     "name": "stderr",
     "output_type": "stream",
     "text": [
      "100%|██████████| 436/436 [00:04<00:00, 103.64it/s]\n",
      "100%|██████████| 1/1 [00:04<00:00,  4.21s/it]\n"
     ]
    }
   ],
   "source": [
    "#| notest\n",
    "\n",
    "optim = SGD(lm.parameters(), lr=0.01, momentum=0.9)\n",
    "train_loss = []\n",
    "# device = get_device()\n",
    "device = 'cpu'\n",
    "lm.to(device)\n",
    "i = 0\n",
    "EPOCHS = 1\n",
    "for epoch in tqdm(range(EPOCHS)):\n",
    "    print(f\"epoch {epoch}\")\n",
    "    for batch in tqdm(dm.train_dataloader()):\n",
    "        Xtr, Ytr = batch\n",
    "        # target is last token in sequence\n",
    "        Ytr = Ytr[:, -1] # BxT\n",
    "        Xtr = Xtr.to(device)\n",
    "        Ytr = Ytr.to(device)\n",
    "        \n",
    "        logits = lm(Xtr)\n",
    "        loss = F.cross_entropy(logits, Ytr)\n",
    "\n",
    "        optim.zero_grad()\n",
    "        loss.backward()\n",
    "        optim.step()\n",
    "\n",
    "        train_loss.append(loss.item())\n",
    "        if not(i%1000):\n",
    "            print(loss.item())\n",
    "        i += 1"
   ]
  },
  {
   "cell_type": "code",
   "execution_count": 98,
   "metadata": {},
   "outputs": [
    {
     "data": {
      "text/plain": [
       "[<matplotlib.lines.Line2D at 0x2ce9521d0>]"
      ]
     },
     "execution_count": 98,
     "metadata": {},
     "output_type": "execute_result"
    },
    {
     "data": {
      "image/png": "[encoded data removed]",
      "text/plain": [
       "<Figure size 640x480 with 1 Axes>"
      ]
     },
     "metadata": {},
     "output_type": "display_data"
    }
   ],
   "source": [
    "#| notest\n",
    "plt.plot(train_loss)"
   ]
  },
  {
   "cell_type": "markdown",
   "metadata": {},
   "source": [
    "#### Sample"
   ]
  },
  {
   "cell_type": "code",
   "execution_count": 99,
   "metadata": {},
   "outputs": [
    {
     "name": "stdout",
     "output_type": "stream",
     "text": [
      "The country of sar.y\n",
      "IOlerseo iar so mat urtou be,\n",
      "u wgik d theru<pad>, I mB te to er 3nu mes miyh thase 'her\n",
      "rior murdR\n",
      "And wi\n",
      "rt widr ou eaery dothat he ;ho si goue ?rr f, Cus srlead poemy wote smecatooethe aiaias:\n",
      "A aht kroteaatd shan rin.t co  elaEee, at InhwbrrenuWad\n",
      " thred hhal tn w\n",
      "ies anr uint o rhlreis deap thebu\n",
      "r wnll nuyyhGoWspes,\n",
      "Y\n",
      "KT herve<pad> fis ttp bfr ouar ief duuWyhus apo nry o snbokrOoWkeS\n",
      "<unk>bed saklet-d aiernnt eoI\n",
      "SwSd og thatve b ykd cotius dtoT wlt ou hir g louf snd\n",
      "\n",
      " has seriin sd\n",
      "\n",
      "\n",
      ";ps ,nth's\n"
     ]
    }
   ],
   "source": [
    "# infer on CPU\n",
    "lm.to('cpu')\n",
    "prompt = \"The country of \"\n",
    "sequences = lm.sample(prompt, v, max_new_tokens=500, temperature=0.9)\n",
    "print(sequences)"
   ]
  },
  {
   "cell_type": "markdown",
   "metadata": {},
   "source": [
    "## MLP LM X Model"
   ]
  },
  {
   "cell_type": "code",
   "execution_count": 304,
   "metadata": {},
   "outputs": [],
   "source": [
    "#| export \n",
    "\n",
    "class NNLM_X(Classifier, LightningModule):\n",
    "    def __init__(\n",
    "            self,\n",
    "            nnet: NNLM,\n",
    "            num_classes:int,\n",
    "            optimizer: torch.optim.Optimizer,\n",
    "            scheduler: torch.optim.lr_scheduler,\n",
    "            ):\n",
    "\n",
    "        logger.info(\"NNLM_X: Init\")\n",
    "        super().__init__(\n",
    "            num_classes,\n",
    "            optimizer,\n",
    "            scheduler,\n",
    "            )\n",
    "        self.save_hyperparameters(logger=False)\n",
    "        # required attribute for lr finder\n",
    "        self.lr = optimizer.keywords['lr']\n",
    "        self.nnet = nnet\n",
    "    \n",
    "    def forward(self, x:torch.Tensor)->torch.Tensor:\n",
    "        return self.nnet(x)\n",
    "    \n",
    "    def _step(self, batch, batch_idx):\n",
    "        x, y = batch\n",
    "        y = y[:, -1]\n",
    "        y_hat = self.forward(x)\n",
    "        loss = self.loss(y_hat, y)\n",
    "        preds = y_hat.argmax(dim=1)\n",
    "        return loss, preds, y\n",
    "\n",
    "    def predict_step(self, batch, batch_idx, dataloader_idx=0):\n",
    "        x, y = batch\n",
    "        y = y[:, -1]  # Get the last token as target\n",
    "        y_hat = self.forward(x)\n",
    "        return y_hat.argmax(dim=1)\n",
    "    \n",
    "    def sample(self, prompt:str, vocab:Vocab, max_new_tokens:int=50, temperature:float=1.0):\n",
    "        return self.nnet.sample(prompt, vocab, max_new_tokens, temperature)"
   ]
  },
  {
   "cell_type": "markdown",
   "metadata": {},
   "source": [
    "### Usage"
   ]
  },
  {
   "cell_type": "code",
   "execution_count": 303,
   "metadata": {},
   "outputs": [
    {
     "name": "stdout",
     "output_type": "stream",
     "text": [
      "67\n",
      "0.001\n",
      "{'_target_': 'nimrod.models.lm.NNLM_X',\n",
      " 'nnet': {'_target_': 'nimrod.models.lm.NNLM', 'n_vocab': '${num_classes}', 'n_emb': 10, 'n_context': 3, 'n_h': 100},\n",
      " 'num_classes': 67,\n",
      " 'optimizer': {'_target_': 'torch.optim.Adam', '_partial_': True, 'lr': 0.001, 'weight_decay': 0.0},\n",
      " 'scheduler': {'_target_': 'torch.optim.lr_scheduler.ReduceLROnPlateau', '_partial_': True, 'mode': 'min', 'factor': 0.1, 'patience': 10}}\n"
     ]
    },
    {
     "data": {
      "text/html": [
       "<pre style=\"white-space:pre;overflow-x:auto;line-height:normal;font-family:Menlo,'DejaVu Sans Mono',consolas,'Courier New',monospace\"><span style=\"color: #7fbfbf; text-decoration-color: #7fbfbf\">[12/19/24 13:41:59] </span><span style=\"color: #000080; text-decoration-color: #000080\">INFO    </span> <span style=\"color: #008080; text-decoration-color: #008080; font-weight: bold\">2024</span>-<span style=\"color: #008080; text-decoration-color: #008080; font-weight: bold\">12</span>-<span style=\"color: #008080; text-decoration-color: #008080; font-weight: bold\">19</span> <span style=\"color: #00ff00; text-decoration-color: #00ff00; font-weight: bold\">13:41:59</span>,<span style=\"color: #008080; text-decoration-color: #008080; font-weight: bold\">949</span> - INFO - NNLM: Init                                   <a href=\"file:///Users/slegroux/Projects/nimrod/nimrod/models/lm.py\" target=\"_blank\"><span style=\"color: #7f7f7f; text-decoration-color: #7f7f7f\">lm.py</span></a><span style=\"color: #7f7f7f; text-decoration-color: #7f7f7f\">:</span><a href=\"file:///Users/slegroux/Projects/nimrod/nimrod/models/lm.py#65\" target=\"_blank\"><span style=\"color: #7f7f7f; text-decoration-color: #7f7f7f\">65</span></a>\n",
       "</pre>\n"
      ],
      "text/plain": [
       "\u001b[2;36m[12/19/24 13:41:59]\u001b[0m\u001b[2;36m \u001b[0m\u001b[34mINFO    \u001b[0m \u001b[1;36m2024\u001b[0m-\u001b[1;36m12\u001b[0m-\u001b[1;36m19\u001b[0m \u001b[1;92m13:41:59\u001b[0m,\u001b[1;36m949\u001b[0m - INFO - NNLM: Init                                   \u001b]8;id=438924;file:///Users/slegroux/Projects/nimrod/nimrod/models/lm.py\u001b\\\u001b[2mlm.py\u001b[0m\u001b]8;;\u001b\\\u001b[2m:\u001b[0m\u001b]8;id=277555;file:///Users/slegroux/Projects/nimrod/nimrod/models/lm.py#65\u001b\\\u001b[2m65\u001b[0m\u001b]8;;\u001b\\\n"
      ]
     },
     "metadata": {},
     "output_type": "display_data"
    },
    {
     "data": {
      "text/html": [
       "<pre style=\"white-space:pre;overflow-x:auto;line-height:normal;font-family:Menlo,'DejaVu Sans Mono',consolas,'Courier New',monospace\"><span style=\"color: #7fbfbf; text-decoration-color: #7fbfbf\">                    </span><span style=\"color: #000080; text-decoration-color: #000080\">INFO    </span> <span style=\"color: #008080; text-decoration-color: #008080; font-weight: bold\">2024</span>-<span style=\"color: #008080; text-decoration-color: #008080; font-weight: bold\">12</span>-<span style=\"color: #008080; text-decoration-color: #008080; font-weight: bold\">19</span> <span style=\"color: #00ff00; text-decoration-color: #00ff00; font-weight: bold\">13:41:59</span>,<span style=\"color: #008080; text-decoration-color: #008080; font-weight: bold\">951</span> - INFO - NNLM_X: Init                                <a href=\"file:///Users/slegroux/Projects/nimrod/nimrod/models/lm.py\" target=\"_blank\"><span style=\"color: #7f7f7f; text-decoration-color: #7f7f7f\">lm.py</span></a><span style=\"color: #7f7f7f; text-decoration-color: #7f7f7f\">:</span><a href=\"file:///Users/slegroux/Projects/nimrod/nimrod/models/lm.py#109\" target=\"_blank\"><span style=\"color: #7f7f7f; text-decoration-color: #7f7f7f\">109</span></a>\n",
       "</pre>\n"
      ],
      "text/plain": [
       "\u001b[2;36m                   \u001b[0m\u001b[2;36m \u001b[0m\u001b[34mINFO    \u001b[0m \u001b[1;36m2024\u001b[0m-\u001b[1;36m12\u001b[0m-\u001b[1;36m19\u001b[0m \u001b[1;92m13:41:59\u001b[0m,\u001b[1;36m951\u001b[0m - INFO - NNLM_X: Init                                \u001b]8;id=519401;file:///Users/slegroux/Projects/nimrod/nimrod/models/lm.py\u001b\\\u001b[2mlm.py\u001b[0m\u001b]8;;\u001b\\\u001b[2m:\u001b[0m\u001b]8;id=694888;file:///Users/slegroux/Projects/nimrod/nimrod/models/lm.py#109\u001b\\\u001b[2m109\u001b[0m\u001b]8;;\u001b\\\n"
      ]
     },
     "metadata": {},
     "output_type": "display_data"
    },
    {
     "data": {
      "text/html": [
       "<pre style=\"white-space:pre;overflow-x:auto;line-height:normal;font-family:Menlo,'DejaVu Sans Mono',consolas,'Courier New',monospace\"><span style=\"color: #7fbfbf; text-decoration-color: #7fbfbf\">                    </span><span style=\"color: #000080; text-decoration-color: #000080\">INFO    </span> <span style=\"color: #008080; text-decoration-color: #008080; font-weight: bold\">2024</span>-<span style=\"color: #008080; text-decoration-color: #008080; font-weight: bold\">12</span>-<span style=\"color: #008080; text-decoration-color: #008080; font-weight: bold\">19</span> <span style=\"color: #00ff00; text-decoration-color: #00ff00; font-weight: bold\">13:41:59</span>,<span style=\"color: #008080; text-decoration-color: #008080; font-weight: bold\">953</span> - INFO - Classifier: init                           <a href=\"file:///Users/slegroux/Projects/nimrod/nimrod/models/core.py\" target=\"_blank\"><span style=\"color: #7f7f7f; text-decoration-color: #7f7f7f\">core.py</span></a><span style=\"color: #7f7f7f; text-decoration-color: #7f7f7f\">:</span><a href=\"file:///Users/slegroux/Projects/nimrod/nimrod/models/core.py#33\" target=\"_blank\"><span style=\"color: #7f7f7f; text-decoration-color: #7f7f7f\">33</span></a>\n",
       "</pre>\n"
      ],
      "text/plain": [
       "\u001b[2;36m                   \u001b[0m\u001b[2;36m \u001b[0m\u001b[34mINFO    \u001b[0m \u001b[1;36m2024\u001b[0m-\u001b[1;36m12\u001b[0m-\u001b[1;36m19\u001b[0m \u001b[1;92m13:41:59\u001b[0m,\u001b[1;36m953\u001b[0m - INFO - Classifier: init                           \u001b]8;id=892927;file:///Users/slegroux/Projects/nimrod/nimrod/models/core.py\u001b\\\u001b[2mcore.py\u001b[0m\u001b]8;;\u001b\\\u001b[2m:\u001b[0m\u001b]8;id=348003;file:///Users/slegroux/Projects/nimrod/nimrod/models/core.py#33\u001b\\\u001b[2m33\u001b[0m\u001b]8;;\u001b\\\n"
      ]
     },
     "metadata": {},
     "output_type": "display_data"
    },
    {
     "name": "stdout",
     "output_type": "stream",
     "text": [
      "functools.partial(<class 'torch.optim.adam.Adam'>, lr=0.001, weight_decay=0.0)\n"
     ]
    },
    {
     "name": "stderr",
     "output_type": "stream",
     "text": [
      "/Users/slegroux/miniforge3/envs/nimrod/lib/python3.11/site-packages/lightning/pytorch/utilities/parsing.py:208: Attribute 'nnet' is an instance of `nn.Module` and is already saved during checkpointing. It is recommended to ignore them using `self.save_hyperparameters(ignore=['nnet'])`.\n"
     ]
    }
   ],
   "source": [
    "# omegaconf\n",
    "cfg = OmegaConf.load(\"../config/text/model/nnlm.yaml\")\n",
    "cfg.num_classes = len(v)\n",
    "print(len(v))\n",
    "# have to convert omegaconf dict to dict for pprint\n",
    "opt = instantiate(cfg.optimizer)\n",
    "print(opt.keywords['lr'])\n",
    "\n",
    "pprint.pprint(dict(cfg))\n",
    "lm  = instantiate(cfg)\n",
    "print(lm.hparams.optimizer)"
   ]
  },
  {
   "cell_type": "code",
   "execution_count": 212,
   "metadata": {},
   "outputs": [
    {
     "name": "stdout",
     "output_type": "stream",
     "text": [
      "X: torch.Size([25, 3])\n"
     ]
    }
   ],
   "source": [
    "n_samples = 25\n",
    "x = torch.randint(conf.n_vocab, (n_samples, cfg.nnet.n_context))\n",
    "print(\"X:\", x.shape)"
   ]
  },
  {
   "cell_type": "code",
   "execution_count": 205,
   "metadata": {},
   "outputs": [
    {
     "name": "stdout",
     "output_type": "stream",
     "text": [
      "Y_hat logits: torch.Size([25, 67])\n"
     ]
    }
   ],
   "source": [
    "y = lm(x)\n",
    "print(\"Y_hat logits:\", y.shape)"
   ]
  },
  {
   "cell_type": "code",
   "execution_count": 254,
   "metadata": {},
   "outputs": [
    {
     "data": {
      "text/plain": [
       "\"The country of jEaBh ,JmrXVAUnzn$Ce;e<pad><unk>JZg'Bq-,qgX$EJfm?XFDgcAiexJb-:yf!utY MZ,<pad>pedoWimov?S?qm;hRGX!VHecd&v,<pad>-$uFbZUYM<unk>3. OYB3,aVeDxYvoofgrLILTUwV&BiTMXAXRdjQYEBxhDoI gVj<unk>PFgJW.dCml!S<pad>j?<unk>'qzrm-.s-HotAnJEcFe'ka'HjhQcX<unk>bV;MT!iWqzMk-i&tRWSHt.HIZS<unk>IDhejUCj<unk>YZTv3;;J;b3.R,S?SX:cz$La3hY<unk>ox<unk>seaHPz,NP,B?.TBy vSQ<unk>ZIN<unk>-$dbrq:h'b:Q;AXWECq;qh:&mpPHAlgO,Naouii'gr MfS,k-;s!IYdXGj,Ej3 EIU Atsrjhl$dT<unk>3U- rN\\np&3!QuOxWnNM$pNn<unk>bFA!<pad>D?hVBCivrAT-Mc-aoH.!BjZzkXHOXD'-KQeIoTKMysBl<unk>\\nKav:nNhC'xEITVEULM'FAtjK!3xJyed-'!.fGRo<pad>rEGRcmiC?tVqK\""
      ]
     },
     "execution_count": 254,
     "metadata": {},
     "output_type": "execute_result"
    }
   ],
   "source": [
    "# v = Vocab(data_path='../data/text/tiny_shakespeare.txt', specials=['<unk>','<pad>'])\n",
    "lm.sample(\"The country of \", v, max_new_tokens=500, temperature=0.9)"
   ]
  },
  {
   "cell_type": "markdown",
   "metadata": {},
   "source": [
    "### L Training Loop"
   ]
  },
  {
   "cell_type": "code",
   "execution_count": 306,
   "metadata": {},
   "outputs": [
    {
     "name": "stdout",
     "output_type": "stream",
     "text": [
      "67\n"
     ]
    },
    {
     "data": {
      "text/html": [
       "<pre style=\"white-space:pre;overflow-x:auto;line-height:normal;font-family:Menlo,'DejaVu Sans Mono',consolas,'Courier New',monospace\"><span style=\"color: #7fbfbf; text-decoration-color: #7fbfbf\">[12/19/24 13:44:19] </span><span style=\"color: #000080; text-decoration-color: #000080\">INFO    </span> <span style=\"color: #008080; text-decoration-color: #008080; font-weight: bold\">2024</span>-<span style=\"color: #008080; text-decoration-color: #008080; font-weight: bold\">12</span>-<span style=\"color: #008080; text-decoration-color: #008080; font-weight: bold\">19</span> <span style=\"color: #00ff00; text-decoration-color: #00ff00; font-weight: bold\">13:44:19</span>,<span style=\"color: #008080; text-decoration-color: #008080; font-weight: bold\">260</span> - INFO - CharDataModule: init                  <a href=\"file:///Users/slegroux/Projects/nimrod/nimrod/text/datasets.py\" target=\"_blank\"><span style=\"color: #7f7f7f; text-decoration-color: #7f7f7f\">datasets.py</span></a><span style=\"color: #7f7f7f; text-decoration-color: #7f7f7f\">:</span><a href=\"file:///Users/slegroux/Projects/nimrod/nimrod/text/datasets.py#213\" target=\"_blank\"><span style=\"color: #7f7f7f; text-decoration-color: #7f7f7f\">213</span></a>\n",
       "</pre>\n"
      ],
      "text/plain": [
       "\u001b[2;36m[12/19/24 13:44:19]\u001b[0m\u001b[2;36m \u001b[0m\u001b[34mINFO    \u001b[0m \u001b[1;36m2024\u001b[0m-\u001b[1;36m12\u001b[0m-\u001b[1;36m19\u001b[0m \u001b[1;92m13:44:19\u001b[0m,\u001b[1;36m260\u001b[0m - INFO - CharDataModule: init                  \u001b]8;id=715331;file:///Users/slegroux/Projects/nimrod/nimrod/text/datasets.py\u001b\\\u001b[2mdatasets.py\u001b[0m\u001b]8;;\u001b\\\u001b[2m:\u001b[0m\u001b]8;id=497486;file:///Users/slegroux/Projects/nimrod/nimrod/text/datasets.py#213\u001b\\\u001b[2m213\u001b[0m\u001b]8;;\u001b\\\n"
      ]
     },
     "metadata": {},
     "output_type": "display_data"
    },
    {
     "data": {
      "text/html": [
       "<pre style=\"white-space:pre;overflow-x:auto;line-height:normal;font-family:Menlo,'DejaVu Sans Mono',consolas,'Courier New',monospace\"><span style=\"color: #7fbfbf; text-decoration-color: #7fbfbf\">                    </span><span style=\"color: #000080; text-decoration-color: #000080\">INFO    </span> <span style=\"color: #008080; text-decoration-color: #008080; font-weight: bold\">2024</span>-<span style=\"color: #008080; text-decoration-color: #008080; font-weight: bold\">12</span>-<span style=\"color: #008080; text-decoration-color: #008080; font-weight: bold\">19</span> <span style=\"color: #00ff00; text-decoration-color: #00ff00; font-weight: bold\">13:44:19</span>,<span style=\"color: #008080; text-decoration-color: #008080; font-weight: bold\">262</span> - INFO - CharDataModule: setup, split datasets <a href=\"file:///Users/slegroux/Projects/nimrod/nimrod/text/datasets.py\" target=\"_blank\"><span style=\"color: #7f7f7f; text-decoration-color: #7f7f7f\">datasets.py</span></a><span style=\"color: #7f7f7f; text-decoration-color: #7f7f7f\">:</span><a href=\"file:///Users/slegroux/Projects/nimrod/nimrod/text/datasets.py#230\" target=\"_blank\"><span style=\"color: #7f7f7f; text-decoration-color: #7f7f7f\">230</span></a>\n",
       "</pre>\n"
      ],
      "text/plain": [
       "\u001b[2;36m                   \u001b[0m\u001b[2;36m \u001b[0m\u001b[34mINFO    \u001b[0m \u001b[1;36m2024\u001b[0m-\u001b[1;36m12\u001b[0m-\u001b[1;36m19\u001b[0m \u001b[1;92m13:44:19\u001b[0m,\u001b[1;36m262\u001b[0m - INFO - CharDataModule: setup, split datasets \u001b]8;id=274989;file:///Users/slegroux/Projects/nimrod/nimrod/text/datasets.py\u001b\\\u001b[2mdatasets.py\u001b[0m\u001b]8;;\u001b\\\u001b[2m:\u001b[0m\u001b]8;id=450657;file:///Users/slegroux/Projects/nimrod/nimrod/text/datasets.py#230\u001b\\\u001b[2m230\u001b[0m\u001b]8;;\u001b\\\n"
      ]
     },
     "metadata": {},
     "output_type": "display_data"
    },
    {
     "data": {
      "text/html": [
       "<pre style=\"white-space:pre;overflow-x:auto;line-height:normal;font-family:Menlo,'DejaVu Sans Mono',consolas,'Courier New',monospace\"><span style=\"color: #7fbfbf; text-decoration-color: #7fbfbf\">                    </span><span style=\"color: #000080; text-decoration-color: #000080\">INFO    </span> <span style=\"color: #008080; text-decoration-color: #008080; font-weight: bold\">2024</span>-<span style=\"color: #008080; text-decoration-color: #008080; font-weight: bold\">12</span>-<span style=\"color: #008080; text-decoration-color: #008080; font-weight: bold\">19</span> <span style=\"color: #00ff00; text-decoration-color: #00ff00; font-weight: bold\">13:44:19</span>,<span style=\"color: #008080; text-decoration-color: #008080; font-weight: bold\">263</span> - INFO - CharDataset: init                     <a href=\"file:///Users/slegroux/Projects/nimrod/nimrod/text/datasets.py\" target=\"_blank\"><span style=\"color: #7f7f7f; text-decoration-color: #7f7f7f\">datasets.py</span></a><span style=\"color: #7f7f7f; text-decoration-color: #7f7f7f\">:</span><a href=\"file:///Users/slegroux/Projects/nimrod/nimrod/text/datasets.py#132\" target=\"_blank\"><span style=\"color: #7f7f7f; text-decoration-color: #7f7f7f\">132</span></a>\n",
       "</pre>\n"
      ],
      "text/plain": [
       "\u001b[2;36m                   \u001b[0m\u001b[2;36m \u001b[0m\u001b[34mINFO    \u001b[0m \u001b[1;36m2024\u001b[0m-\u001b[1;36m12\u001b[0m-\u001b[1;36m19\u001b[0m \u001b[1;92m13:44:19\u001b[0m,\u001b[1;36m263\u001b[0m - INFO - CharDataset: init                     \u001b]8;id=352268;file:///Users/slegroux/Projects/nimrod/nimrod/text/datasets.py\u001b\\\u001b[2mdatasets.py\u001b[0m\u001b]8;;\u001b\\\u001b[2m:\u001b[0m\u001b]8;id=561339;file:///Users/slegroux/Projects/nimrod/nimrod/text/datasets.py#132\u001b\\\u001b[2m132\u001b[0m\u001b]8;;\u001b\\\n"
      ]
     },
     "metadata": {},
     "output_type": "display_data"
    },
    {
     "data": {
      "text/html": [
       "<pre style=\"white-space:pre;overflow-x:auto;line-height:normal;font-family:Menlo,'DejaVu Sans Mono',consolas,'Courier New',monospace\"><span style=\"color: #7fbfbf; text-decoration-color: #7fbfbf\">                    </span><span style=\"color: #000080; text-decoration-color: #000080\">INFO    </span> <span style=\"color: #008080; text-decoration-color: #008080; font-weight: bold\">2024</span>-<span style=\"color: #008080; text-decoration-color: #008080; font-weight: bold\">12</span>-<span style=\"color: #008080; text-decoration-color: #008080; font-weight: bold\">19</span> <span style=\"color: #00ff00; text-decoration-color: #00ff00; font-weight: bold\">13:44:19</span>,<span style=\"color: #008080; text-decoration-color: #008080; font-weight: bold\">264</span> - INFO - Vocab: read text file                  <a href=\"file:///Users/slegroux/Projects/nimrod/nimrod/text/datasets.py\" target=\"_blank\"><span style=\"color: #7f7f7f; text-decoration-color: #7f7f7f\">datasets.py</span></a><span style=\"color: #7f7f7f; text-decoration-color: #7f7f7f\">:</span><a href=\"file:///Users/slegroux/Projects/nimrod/nimrod/text/datasets.py#66\" target=\"_blank\"><span style=\"color: #7f7f7f; text-decoration-color: #7f7f7f\">66</span></a>\n",
       "</pre>\n"
      ],
      "text/plain": [
       "\u001b[2;36m                   \u001b[0m\u001b[2;36m \u001b[0m\u001b[34mINFO    \u001b[0m \u001b[1;36m2024\u001b[0m-\u001b[1;36m12\u001b[0m-\u001b[1;36m19\u001b[0m \u001b[1;92m13:44:19\u001b[0m,\u001b[1;36m264\u001b[0m - INFO - Vocab: read text file                  \u001b]8;id=839500;file:///Users/slegroux/Projects/nimrod/nimrod/text/datasets.py\u001b\\\u001b[2mdatasets.py\u001b[0m\u001b]8;;\u001b\\\u001b[2m:\u001b[0m\u001b]8;id=151054;file:///Users/slegroux/Projects/nimrod/nimrod/text/datasets.py#66\u001b\\\u001b[2m66\u001b[0m\u001b]8;;\u001b\\\n"
      ]
     },
     "metadata": {},
     "output_type": "display_data"
    },
    {
     "data": {
      "text/html": [
       "<pre style=\"white-space:pre;overflow-x:auto;line-height:normal;font-family:Menlo,'DejaVu Sans Mono',consolas,'Courier New',monospace\"><span style=\"color: #7fbfbf; text-decoration-color: #7fbfbf\">                    </span><span style=\"color: #000080; text-decoration-color: #000080\">INFO    </span> <span style=\"color: #008080; text-decoration-color: #008080; font-weight: bold\">2024</span>-<span style=\"color: #008080; text-decoration-color: #008080; font-weight: bold\">12</span>-<span style=\"color: #008080; text-decoration-color: #008080; font-weight: bold\">19</span> <span style=\"color: #00ff00; text-decoration-color: #00ff00; font-weight: bold\">13:44:19</span>,<span style=\"color: #008080; text-decoration-color: #008080; font-weight: bold\">382</span> - INFO - NNLM: Init                                   <a href=\"file:///Users/slegroux/Projects/nimrod/nimrod/models/lm.py\" target=\"_blank\"><span style=\"color: #7f7f7f; text-decoration-color: #7f7f7f\">lm.py</span></a><span style=\"color: #7f7f7f; text-decoration-color: #7f7f7f\">:</span><a href=\"file:///Users/slegroux/Projects/nimrod/nimrod/models/lm.py#65\" target=\"_blank\"><span style=\"color: #7f7f7f; text-decoration-color: #7f7f7f\">65</span></a>\n",
       "</pre>\n"
      ],
      "text/plain": [
       "\u001b[2;36m                   \u001b[0m\u001b[2;36m \u001b[0m\u001b[34mINFO    \u001b[0m \u001b[1;36m2024\u001b[0m-\u001b[1;36m12\u001b[0m-\u001b[1;36m19\u001b[0m \u001b[1;92m13:44:19\u001b[0m,\u001b[1;36m382\u001b[0m - INFO - NNLM: Init                                   \u001b]8;id=467679;file:///Users/slegroux/Projects/nimrod/nimrod/models/lm.py\u001b\\\u001b[2mlm.py\u001b[0m\u001b]8;;\u001b\\\u001b[2m:\u001b[0m\u001b]8;id=906255;file:///Users/slegroux/Projects/nimrod/nimrod/models/lm.py#65\u001b\\\u001b[2m65\u001b[0m\u001b]8;;\u001b\\\n"
      ]
     },
     "metadata": {},
     "output_type": "display_data"
    },
    {
     "data": {
      "text/html": [
       "<pre style=\"white-space:pre;overflow-x:auto;line-height:normal;font-family:Menlo,'DejaVu Sans Mono',consolas,'Courier New',monospace\"><span style=\"color: #7fbfbf; text-decoration-color: #7fbfbf\">                    </span><span style=\"color: #000080; text-decoration-color: #000080\">INFO    </span> <span style=\"color: #008080; text-decoration-color: #008080; font-weight: bold\">2024</span>-<span style=\"color: #008080; text-decoration-color: #008080; font-weight: bold\">12</span>-<span style=\"color: #008080; text-decoration-color: #008080; font-weight: bold\">19</span> <span style=\"color: #00ff00; text-decoration-color: #00ff00; font-weight: bold\">13:44:19</span>,<span style=\"color: #008080; text-decoration-color: #008080; font-weight: bold\">384</span> - INFO - NNLM_X: Init                                <a href=\"file:///Users/slegroux/Projects/nimrod/nimrod/models/lm.py\" target=\"_blank\"><span style=\"color: #7f7f7f; text-decoration-color: #7f7f7f\">lm.py</span></a><span style=\"color: #7f7f7f; text-decoration-color: #7f7f7f\">:</span><a href=\"file:///Users/slegroux/Projects/nimrod/nimrod/models/lm.py#109\" target=\"_blank\"><span style=\"color: #7f7f7f; text-decoration-color: #7f7f7f\">109</span></a>\n",
       "</pre>\n"
      ],
      "text/plain": [
       "\u001b[2;36m                   \u001b[0m\u001b[2;36m \u001b[0m\u001b[34mINFO    \u001b[0m \u001b[1;36m2024\u001b[0m-\u001b[1;36m12\u001b[0m-\u001b[1;36m19\u001b[0m \u001b[1;92m13:44:19\u001b[0m,\u001b[1;36m384\u001b[0m - INFO - NNLM_X: Init                                \u001b]8;id=964147;file:///Users/slegroux/Projects/nimrod/nimrod/models/lm.py\u001b\\\u001b[2mlm.py\u001b[0m\u001b]8;;\u001b\\\u001b[2m:\u001b[0m\u001b]8;id=527902;file:///Users/slegroux/Projects/nimrod/nimrod/models/lm.py#109\u001b\\\u001b[2m109\u001b[0m\u001b]8;;\u001b\\\n"
      ]
     },
     "metadata": {},
     "output_type": "display_data"
    },
    {
     "data": {
      "text/html": [
       "<pre style=\"white-space:pre;overflow-x:auto;line-height:normal;font-family:Menlo,'DejaVu Sans Mono',consolas,'Courier New',monospace\"><span style=\"color: #7fbfbf; text-decoration-color: #7fbfbf\">                    </span><span style=\"color: #000080; text-decoration-color: #000080\">INFO    </span> <span style=\"color: #008080; text-decoration-color: #008080; font-weight: bold\">2024</span>-<span style=\"color: #008080; text-decoration-color: #008080; font-weight: bold\">12</span>-<span style=\"color: #008080; text-decoration-color: #008080; font-weight: bold\">19</span> <span style=\"color: #00ff00; text-decoration-color: #00ff00; font-weight: bold\">13:44:19</span>,<span style=\"color: #008080; text-decoration-color: #008080; font-weight: bold\">384</span> - INFO - Classifier: init                           <a href=\"file:///Users/slegroux/Projects/nimrod/nimrod/models/core.py\" target=\"_blank\"><span style=\"color: #7f7f7f; text-decoration-color: #7f7f7f\">core.py</span></a><span style=\"color: #7f7f7f; text-decoration-color: #7f7f7f\">:</span><a href=\"file:///Users/slegroux/Projects/nimrod/nimrod/models/core.py#33\" target=\"_blank\"><span style=\"color: #7f7f7f; text-decoration-color: #7f7f7f\">33</span></a>\n",
       "</pre>\n"
      ],
      "text/plain": [
       "\u001b[2;36m                   \u001b[0m\u001b[2;36m \u001b[0m\u001b[34mINFO    \u001b[0m \u001b[1;36m2024\u001b[0m-\u001b[1;36m12\u001b[0m-\u001b[1;36m19\u001b[0m \u001b[1;92m13:44:19\u001b[0m,\u001b[1;36m384\u001b[0m - INFO - Classifier: init                           \u001b]8;id=618324;file:///Users/slegroux/Projects/nimrod/nimrod/models/core.py\u001b\\\u001b[2mcore.py\u001b[0m\u001b]8;;\u001b\\\u001b[2m:\u001b[0m\u001b]8;id=568074;file:///Users/slegroux/Projects/nimrod/nimrod/models/core.py#33\u001b\\\u001b[2m33\u001b[0m\u001b]8;;\u001b\\\n"
      ]
     },
     "metadata": {},
     "output_type": "display_data"
    }
   ],
   "source": [
    "# vocab\n",
    "print(len(v))\n",
    "\n",
    "# data\n",
    "cfg = OmegaConf.load(\"../config/text/data/tinyshakespeare.yaml\")\n",
    "cfg.context_size = CONTEXT_LEN\n",
    "cfg.specials: [\"<pad>\", \"<unk>\"]\n",
    "cfg.batch_size = 2048\n",
    "cfg.random_split = False\n",
    "dm = instantiate(cfg)\n",
    "dm.setup()\n",
    "\n",
    "# model\n",
    "cfg = OmegaConf.load(\"../config/text/model/nnlm.yaml\")\n",
    "lm  = instantiate(cfg)"
   ]
  },
  {
   "cell_type": "code",
   "execution_count": 260,
   "metadata": {},
   "outputs": [
    {
     "name": "stdout",
     "output_type": "stream",
     "text": [
      "{'training': True, '_parameters': OrderedDict(), '_buffers': OrderedDict(), '_non_persistent_buffers_set': set(), '_backward_pre_hooks': OrderedDict(), '_backward_hooks': OrderedDict(), '_is_full_backward_hook': None, '_forward_hooks': OrderedDict(), '_forward_hooks_with_kwargs': OrderedDict(), '_forward_hooks_always_called': OrderedDict(), '_forward_pre_hooks': OrderedDict(), '_forward_pre_hooks_with_kwargs': OrderedDict(), '_state_dict_hooks': OrderedDict(), '_state_dict_pre_hooks': OrderedDict(), '_load_state_dict_pre_hooks': OrderedDict(), '_load_state_dict_post_hooks': OrderedDict(), '_modules': OrderedDict([('loss', CrossEntropyLoss()), ('train_acc', MulticlassAccuracy()), ('val_acc', MulticlassAccuracy()), ('test_acc', MulticlassAccuracy()), ('train_loss', MeanMetric()), ('val_loss', MeanMetric()), ('test_loss', MeanMetric()), ('val_acc_best', MaxMetric()), ('nnet', NNLM(\n",
      "  (embedder): Embedding(67, 10)\n",
      "  (l1): Linear(in_features=30, out_features=100, bias=True)\n",
      "  (l2): Linear(in_features=100, out_features=67, bias=True)\n",
      "))]), 'prepare_data_per_node': True, 'allow_zero_length_dataloader_with_multiple_devices': False, '_log_hyperparams': True, '_dtype': torch.float32, '_device': device(type='cpu'), '_trainer': None, '_example_input_array': None, '_automatic_optimization': True, '_strict_loading': None, '_current_fx_name': None, '_param_requires_grad_state': {}, '_metric_attributes': None, '_compiler_ctx': None, '_fabric': None, '_fabric_optimizers': [], '_device_mesh': None, '_hparams_name': 'kwargs', '_hparams': \"nnet\":        NNLM(\n",
      "  (embedder): Embedding(67, 10)\n",
      "  (l1): Linear(in_features=30, out_features=100, bias=True)\n",
      "  (l2): Linear(in_features=100, out_features=67, bias=True)\n",
      ")\n",
      "\"num_classes\": 67\n",
      "\"optimizer\":   functools.partial(<class 'torch.optim.adam.Adam'>, lr=0.001, weight_decay=0.0)\n",
      "\"scheduler\":   functools.partial(<class 'torch.optim.lr_scheduler.ReduceLROnPlateau'>, mode='min', factor=0.1, patience=10), '_hparams_initial': \"nnet\":        NNLM(\n",
      "  (embedder): Embedding(67, 10)\n",
      "  (l1): Linear(in_features=30, out_features=100, bias=True)\n",
      "  (l2): Linear(in_features=100, out_features=67, bias=True)\n",
      ")\n",
      "\"num_classes\": 67\n",
      "\"optimizer\":   functools.partial(<class 'torch.optim.adam.Adam'>, lr=0.001, weight_decay=0.0)\n",
      "\"scheduler\":   functools.partial(<class 'torch.optim.lr_scheduler.ReduceLROnPlateau'>, mode='min', factor=0.1, patience=10)}\n"
     ]
    }
   ],
   "source": [
    "print(lm.__dict__)\n"
   ]
  },
  {
   "cell_type": "markdown",
   "metadata": {},
   "source": [
    "model can be easily trained with L trainer (c.f. recipes/text/ for examples)"
   ]
  },
  {
   "cell_type": "code",
   "execution_count": 271,
   "metadata": {},
   "outputs": [
    {
     "name": "stderr",
     "output_type": "stream",
     "text": [
      "GPU available: True (mps), used: True\n",
      "TPU available: False, using: 0 TPU cores\n",
      "HPU available: False, using: 0 HPUs\n"
     ]
    }
   ],
   "source": [
    "trainer = Trainer(\n",
    "    accelerator=\"auto\",\n",
    "    max_epochs=1,\n",
    "    logger=CSVLogger(\"logs\", name=\"nnlm\")\n",
    "    )\n"
   ]
  },
  {
   "cell_type": "code",
   "execution_count": 297,
   "metadata": {},
   "outputs": [],
   "source": [
    "#| notest\n",
    "trainer.fit(lm, dm.train_dataloader(), dm.val_dataloader())"
   ]
  },
  {
   "cell_type": "code",
   "execution_count": 273,
   "metadata": {},
   "outputs": [
    {
     "data": {
      "text/html": [
       "<div>\n",
       "<style scoped>\n",
       "    .dataframe tbody tr th:only-of-type {\n",
       "        vertical-align: middle;\n",
       "    }\n",
       "\n",
       "    .dataframe tbody tr th {\n",
       "        vertical-align: top;\n",
       "    }\n",
       "\n",
       "    .dataframe thead th {\n",
       "        text-align: right;\n",
       "    }\n",
       "</style>\n",
       "<table border=\"1\" class=\"dataframe\">\n",
       "  <thead>\n",
       "    <tr style=\"text-align: right;\">\n",
       "      <th></th>\n",
       "      <th>epoch</th>\n",
       "      <th>step</th>\n",
       "      <th>train/acc_epoch</th>\n",
       "      <th>train/acc_step</th>\n",
       "      <th>train/loss_epoch</th>\n",
       "      <th>train/loss_step</th>\n",
       "      <th>val/acc</th>\n",
       "      <th>val/acc_best</th>\n",
       "      <th>val/loss</th>\n",
       "    </tr>\n",
       "  </thead>\n",
       "  <tbody>\n",
       "    <tr>\n",
       "      <th>0</th>\n",
       "      <td>0</td>\n",
       "      <td>49</td>\n",
       "      <td>NaN</td>\n",
       "      <td>0.342773</td>\n",
       "      <td>NaN</td>\n",
       "      <td>2.365971</td>\n",
       "      <td>NaN</td>\n",
       "      <td>NaN</td>\n",
       "      <td>NaN</td>\n",
       "    </tr>\n",
       "    <tr>\n",
       "      <th>1</th>\n",
       "      <td>0</td>\n",
       "      <td>99</td>\n",
       "      <td>NaN</td>\n",
       "      <td>0.347168</td>\n",
       "      <td>NaN</td>\n",
       "      <td>2.297229</td>\n",
       "      <td>NaN</td>\n",
       "      <td>NaN</td>\n",
       "      <td>NaN</td>\n",
       "    </tr>\n",
       "    <tr>\n",
       "      <th>2</th>\n",
       "      <td>0</td>\n",
       "      <td>149</td>\n",
       "      <td>NaN</td>\n",
       "      <td>0.349121</td>\n",
       "      <td>NaN</td>\n",
       "      <td>2.321418</td>\n",
       "      <td>NaN</td>\n",
       "      <td>NaN</td>\n",
       "      <td>NaN</td>\n",
       "    </tr>\n",
       "    <tr>\n",
       "      <th>3</th>\n",
       "      <td>0</td>\n",
       "      <td>199</td>\n",
       "      <td>NaN</td>\n",
       "      <td>0.352539</td>\n",
       "      <td>NaN</td>\n",
       "      <td>2.291567</td>\n",
       "      <td>NaN</td>\n",
       "      <td>NaN</td>\n",
       "      <td>NaN</td>\n",
       "    </tr>\n",
       "    <tr>\n",
       "      <th>4</th>\n",
       "      <td>0</td>\n",
       "      <td>249</td>\n",
       "      <td>NaN</td>\n",
       "      <td>0.370605</td>\n",
       "      <td>NaN</td>\n",
       "      <td>2.227915</td>\n",
       "      <td>NaN</td>\n",
       "      <td>NaN</td>\n",
       "      <td>NaN</td>\n",
       "    </tr>\n",
       "  </tbody>\n",
       "</table>\n",
       "</div>"
      ],
      "text/plain": [
       "   epoch  step  train/acc_epoch  train/acc_step  train/loss_epoch  \\\n",
       "0      0    49              NaN        0.342773               NaN   \n",
       "1      0    99              NaN        0.347168               NaN   \n",
       "2      0   149              NaN        0.349121               NaN   \n",
       "3      0   199              NaN        0.352539               NaN   \n",
       "4      0   249              NaN        0.370605               NaN   \n",
       "\n",
       "   train/loss_step  val/acc  val/acc_best  val/loss  \n",
       "0         2.365971      NaN           NaN       NaN  \n",
       "1         2.297229      NaN           NaN       NaN  \n",
       "2         2.321418      NaN           NaN       NaN  \n",
       "3         2.291567      NaN           NaN       NaN  \n",
       "4         2.227915      NaN           NaN       NaN  "
      ]
     },
     "execution_count": 273,
     "metadata": {},
     "output_type": "execute_result"
    }
   ],
   "source": [
    "#| notest\n",
    "csv_path = f\"{trainer.logger.log_dir}/metrics.csv\"\n",
    "metrics = pd.read_csv(csv_path)\n",
    "metrics.head()\n",
    "\n"
   ]
  },
  {
   "cell_type": "code",
   "execution_count": 280,
   "metadata": {},
   "outputs": [
    {
     "data": {
      "image/png": "[encoded data removed]",
      "text/plain": [
       "<Figure size 640x480 with 1 Axes>"
      ]
     },
     "metadata": {},
     "output_type": "display_data"
    }
   ],
   "source": [
    "#| notest\n",
    "%matplotlib inline\n",
    "plt.plot(metrics['step'], metrics['train/loss_step'],'b.-')\n",
    "plt.plot(metrics['step'], metrics['val/loss'],'r.-')\n",
    "plt.show()"
   ]
  },
  {
   "cell_type": "code",
   "execution_count": 275,
   "metadata": {},
   "outputs": [
    {
     "data": {
      "text/html": [
       "<pre style=\"white-space:pre;overflow-x:auto;line-height:normal;font-family:Menlo,'DejaVu Sans Mono',consolas,'Courier New',monospace\"><span style=\"color: #7fbfbf; text-decoration-color: #7fbfbf\">[12/19/24 13:20:10] </span><span style=\"color: #008000; text-decoration-color: #008000\">DEBUG   </span> <span style=\"color: #008080; text-decoration-color: #008080; font-weight: bold\">2024</span>-<span style=\"color: #008080; text-decoration-color: #008080; font-weight: bold\">12</span>-<span style=\"color: #008080; text-decoration-color: #008080; font-weight: bold\">19</span> <span style=\"color: #00ff00; text-decoration-color: #00ff00; font-weight: bold\">13:20:10</span>,<span style=\"color: #008080; text-decoration-color: #008080; font-weight: bold\">490</span> - DEBUG - open file:                              <a href=\"file:///Users/slegroux/miniforge3/envs/nimrod/lib/python3.11/site-packages/fsspec/implementations/local.py\" target=\"_blank\"><span style=\"color: #7f7f7f; text-decoration-color: #7f7f7f\">local.py</span></a><span style=\"color: #7f7f7f; text-decoration-color: #7f7f7f\">:</span><a href=\"file:///Users/slegroux/miniforge3/envs/nimrod/lib/python3.11/site-packages/fsspec/implementations/local.py#351\" target=\"_blank\"><span style=\"color: #7f7f7f; text-decoration-color: #7f7f7f\">351</span></a>\n",
       "<span style=\"color: #7fbfbf; text-decoration-color: #7fbfbf\">                    </span>         <span style=\"color: #800080; text-decoration-color: #800080\">/Users/slegroux/Projects/nimrod/nbs/logs/nnlm/version_23/</span><span style=\"color: #ff00ff; text-decoration-color: #ff00ff\">hparams.yaml</span>     <span style=\"color: #7f7f7f; text-decoration-color: #7f7f7f\">            </span>\n",
       "</pre>\n"
      ],
      "text/plain": [
       "\u001b[2;36m[12/19/24 13:20:10]\u001b[0m\u001b[2;36m \u001b[0m\u001b[32mDEBUG   \u001b[0m \u001b[1;36m2024\u001b[0m-\u001b[1;36m12\u001b[0m-\u001b[1;36m19\u001b[0m \u001b[1;92m13:20:10\u001b[0m,\u001b[1;36m490\u001b[0m - DEBUG - open file:                              \u001b]8;id=420783;file:///Users/slegroux/miniforge3/envs/nimrod/lib/python3.11/site-packages/fsspec/implementations/local.py\u001b\\\u001b[2mlocal.py\u001b[0m\u001b]8;;\u001b\\\u001b[2m:\u001b[0m\u001b]8;id=266927;file:///Users/slegroux/miniforge3/envs/nimrod/lib/python3.11/site-packages/fsspec/implementations/local.py#351\u001b\\\u001b[2m351\u001b[0m\u001b]8;;\u001b\\\n",
       "\u001b[2;36m                    \u001b[0m         \u001b[35m/Users/slegroux/Projects/nimrod/nbs/logs/nnlm/version_23/\u001b[0m\u001b[95mhparams.yaml\u001b[0m     \u001b[2m            \u001b[0m\n"
      ]
     },
     "metadata": {},
     "output_type": "display_data"
    },
    {
     "data": {
      "text/html": [
       "<pre style=\"white-space:pre;overflow-x:auto;line-height:normal;font-family:Menlo,'DejaVu Sans Mono',consolas,'Courier New',monospace\"><span style=\"color: #7fbfbf; text-decoration-color: #7fbfbf\">                    </span><span style=\"color: #008000; text-decoration-color: #008000\">DEBUG   </span> <span style=\"color: #008080; text-decoration-color: #008080; font-weight: bold\">2024</span>-<span style=\"color: #008080; text-decoration-color: #008080; font-weight: bold\">12</span>-<span style=\"color: #008080; text-decoration-color: #008080; font-weight: bold\">19</span> <span style=\"color: #00ff00; text-decoration-color: #00ff00; font-weight: bold\">13:20:10</span>,<span style=\"color: #008080; text-decoration-color: #008080; font-weight: bold\">513</span> - DEBUG - open file:                              <a href=\"file:///Users/slegroux/miniforge3/envs/nimrod/lib/python3.11/site-packages/fsspec/implementations/local.py\" target=\"_blank\"><span style=\"color: #7f7f7f; text-decoration-color: #7f7f7f\">local.py</span></a><span style=\"color: #7f7f7f; text-decoration-color: #7f7f7f\">:</span><a href=\"file:///Users/slegroux/miniforge3/envs/nimrod/lib/python3.11/site-packages/fsspec/implementations/local.py#351\" target=\"_blank\"><span style=\"color: #7f7f7f; text-decoration-color: #7f7f7f\">351</span></a>\n",
       "<span style=\"color: #7fbfbf; text-decoration-color: #7fbfbf\">                    </span>         <span style=\"color: #800080; text-decoration-color: #800080\">/Users/slegroux/Projects/nimrod/nbs/logs/nnlm/version_23/</span><span style=\"color: #ff00ff; text-decoration-color: #ff00ff\">hparams.yaml</span>     <span style=\"color: #7f7f7f; text-decoration-color: #7f7f7f\">            </span>\n",
       "</pre>\n"
      ],
      "text/plain": [
       "\u001b[2;36m                   \u001b[0m\u001b[2;36m \u001b[0m\u001b[32mDEBUG   \u001b[0m \u001b[1;36m2024\u001b[0m-\u001b[1;36m12\u001b[0m-\u001b[1;36m19\u001b[0m \u001b[1;92m13:20:10\u001b[0m,\u001b[1;36m513\u001b[0m - DEBUG - open file:                              \u001b]8;id=679642;file:///Users/slegroux/miniforge3/envs/nimrod/lib/python3.11/site-packages/fsspec/implementations/local.py\u001b\\\u001b[2mlocal.py\u001b[0m\u001b]8;;\u001b\\\u001b[2m:\u001b[0m\u001b]8;id=766749;file:///Users/slegroux/miniforge3/envs/nimrod/lib/python3.11/site-packages/fsspec/implementations/local.py#351\u001b\\\u001b[2m351\u001b[0m\u001b]8;;\u001b\\\n",
       "\u001b[2;36m                    \u001b[0m         \u001b[35m/Users/slegroux/Projects/nimrod/nbs/logs/nnlm/version_23/\u001b[0m\u001b[95mhparams.yaml\u001b[0m     \u001b[2m            \u001b[0m\n"
      ]
     },
     "metadata": {},
     "output_type": "display_data"
    },
    {
     "name": "stderr",
     "output_type": "stream",
     "text": [
      "/Users/slegroux/miniforge3/envs/nimrod/lib/python3.11/site-packages/lightning/pytorch/trainer/connectors/data_connector.py:424: The 'test_dataloader' does not have many workers which may be a bottleneck. Consider increasing the value of the `num_workers` argument` to `num_workers=11` in the `DataLoader` to improve performance.\n"
     ]
    },
    {
     "data": {
      "application/vnd.jupyter.widget-view+json": {
       "model_id": "d72658480cd1468a89045b779d19f275",
       "version_major": 2,
       "version_minor": 0
      },
      "text/plain": [
       "Testing: |          | 0/? [00:00<?, ?it/s]"
      ]
     },
     "metadata": {},
     "output_type": "display_data"
    },
    {
     "data": {
      "text/html": [
       "<pre style=\"white-space:pre;overflow-x:auto;line-height:normal;font-family:Menlo,'DejaVu Sans Mono',consolas,'Courier New',monospace\"><span style=\"color: #7fbfbf; text-decoration-color: #7fbfbf\">[12/19/24 13:20:11] </span><span style=\"color: #008000; text-decoration-color: #008000\">DEBUG   </span> <span style=\"color: #008080; text-decoration-color: #008080; font-weight: bold\">2024</span>-<span style=\"color: #008080; text-decoration-color: #008080; font-weight: bold\">12</span>-<span style=\"color: #008080; text-decoration-color: #008080; font-weight: bold\">19</span> <span style=\"color: #00ff00; text-decoration-color: #00ff00; font-weight: bold\">13:20:11</span>,<span style=\"color: #008080; text-decoration-color: #008080; font-weight: bold\">567</span> - DEBUG - open file:                              <a href=\"file:///Users/slegroux/miniforge3/envs/nimrod/lib/python3.11/site-packages/fsspec/implementations/local.py\" target=\"_blank\"><span style=\"color: #7f7f7f; text-decoration-color: #7f7f7f\">local.py</span></a><span style=\"color: #7f7f7f; text-decoration-color: #7f7f7f\">:</span><a href=\"file:///Users/slegroux/miniforge3/envs/nimrod/lib/python3.11/site-packages/fsspec/implementations/local.py#351\" target=\"_blank\"><span style=\"color: #7f7f7f; text-decoration-color: #7f7f7f\">351</span></a>\n",
       "<span style=\"color: #7fbfbf; text-decoration-color: #7fbfbf\">                    </span>         <span style=\"color: #800080; text-decoration-color: #800080\">/Users/slegroux/Projects/nimrod/nbs/logs/nnlm/version_23/</span><span style=\"color: #ff00ff; text-decoration-color: #ff00ff\">hparams.yaml</span>     <span style=\"color: #7f7f7f; text-decoration-color: #7f7f7f\">            </span>\n",
       "</pre>\n"
      ],
      "text/plain": [
       "\u001b[2;36m[12/19/24 13:20:11]\u001b[0m\u001b[2;36m \u001b[0m\u001b[32mDEBUG   \u001b[0m \u001b[1;36m2024\u001b[0m-\u001b[1;36m12\u001b[0m-\u001b[1;36m19\u001b[0m \u001b[1;92m13:20:11\u001b[0m,\u001b[1;36m567\u001b[0m - DEBUG - open file:                              \u001b]8;id=412622;file:///Users/slegroux/miniforge3/envs/nimrod/lib/python3.11/site-packages/fsspec/implementations/local.py\u001b\\\u001b[2mlocal.py\u001b[0m\u001b]8;;\u001b\\\u001b[2m:\u001b[0m\u001b]8;id=559905;file:///Users/slegroux/miniforge3/envs/nimrod/lib/python3.11/site-packages/fsspec/implementations/local.py#351\u001b\\\u001b[2m351\u001b[0m\u001b]8;;\u001b\\\n",
       "\u001b[2;36m                    \u001b[0m         \u001b[35m/Users/slegroux/Projects/nimrod/nbs/logs/nnlm/version_23/\u001b[0m\u001b[95mhparams.yaml\u001b[0m     \u001b[2m            \u001b[0m\n"
      ]
     },
     "metadata": {},
     "output_type": "display_data"
    },
    {
     "data": {
      "text/html": [
       "<pre style=\"white-space:pre;overflow-x:auto;line-height:normal;font-family:Menlo,'DejaVu Sans Mono',consolas,'Courier New',monospace\"><span style=\"color: #7fbfbf; text-decoration-color: #7fbfbf\">                    </span><span style=\"color: #008000; text-decoration-color: #008000\">DEBUG   </span> <span style=\"color: #008080; text-decoration-color: #008080; font-weight: bold\">2024</span>-<span style=\"color: #008080; text-decoration-color: #008080; font-weight: bold\">12</span>-<span style=\"color: #008080; text-decoration-color: #008080; font-weight: bold\">19</span> <span style=\"color: #00ff00; text-decoration-color: #00ff00; font-weight: bold\">13:20:11</span>,<span style=\"color: #008080; text-decoration-color: #008080; font-weight: bold\">635</span> - DEBUG - open file:                              <a href=\"file:///Users/slegroux/miniforge3/envs/nimrod/lib/python3.11/site-packages/fsspec/implementations/local.py\" target=\"_blank\"><span style=\"color: #7f7f7f; text-decoration-color: #7f7f7f\">local.py</span></a><span style=\"color: #7f7f7f; text-decoration-color: #7f7f7f\">:</span><a href=\"file:///Users/slegroux/miniforge3/envs/nimrod/lib/python3.11/site-packages/fsspec/implementations/local.py#351\" target=\"_blank\"><span style=\"color: #7f7f7f; text-decoration-color: #7f7f7f\">351</span></a>\n",
       "<span style=\"color: #7fbfbf; text-decoration-color: #7fbfbf\">                    </span>         <span style=\"color: #800080; text-decoration-color: #800080\">/Users/slegroux/Projects/nimrod/nbs/logs/nnlm/version_23/</span><span style=\"color: #ff00ff; text-decoration-color: #ff00ff\">hparams.yaml</span>     <span style=\"color: #7f7f7f; text-decoration-color: #7f7f7f\">            </span>\n",
       "</pre>\n"
      ],
      "text/plain": [
       "\u001b[2;36m                   \u001b[0m\u001b[2;36m \u001b[0m\u001b[32mDEBUG   \u001b[0m \u001b[1;36m2024\u001b[0m-\u001b[1;36m12\u001b[0m-\u001b[1;36m19\u001b[0m \u001b[1;92m13:20:11\u001b[0m,\u001b[1;36m635\u001b[0m - DEBUG - open file:                              \u001b]8;id=490306;file:///Users/slegroux/miniforge3/envs/nimrod/lib/python3.11/site-packages/fsspec/implementations/local.py\u001b\\\u001b[2mlocal.py\u001b[0m\u001b]8;;\u001b\\\u001b[2m:\u001b[0m\u001b]8;id=224391;file:///Users/slegroux/miniforge3/envs/nimrod/lib/python3.11/site-packages/fsspec/implementations/local.py#351\u001b\\\u001b[2m351\u001b[0m\u001b]8;;\u001b\\\n",
       "\u001b[2;36m                    \u001b[0m         \u001b[35m/Users/slegroux/Projects/nimrod/nbs/logs/nnlm/version_23/\u001b[0m\u001b[95mhparams.yaml\u001b[0m     \u001b[2m            \u001b[0m\n"
      ]
     },
     "metadata": {},
     "output_type": "display_data"
    },
    {
     "data": {
      "text/html": [
       "<pre style=\"white-space:pre;overflow-x:auto;line-height:normal;font-family:Menlo,'DejaVu Sans Mono',consolas,'Courier New',monospace\"><span style=\"color: #7fbfbf; text-decoration-color: #7fbfbf\">                    </span><span style=\"color: #008000; text-decoration-color: #008000\">DEBUG   </span> <span style=\"color: #008080; text-decoration-color: #008080; font-weight: bold\">2024</span>-<span style=\"color: #008080; text-decoration-color: #008080; font-weight: bold\">12</span>-<span style=\"color: #008080; text-decoration-color: #008080; font-weight: bold\">19</span> <span style=\"color: #00ff00; text-decoration-color: #00ff00; font-weight: bold\">13:20:11</span>,<span style=\"color: #008080; text-decoration-color: #008080; font-weight: bold\">662</span> - DEBUG - open file:                              <a href=\"file:///Users/slegroux/miniforge3/envs/nimrod/lib/python3.11/site-packages/fsspec/implementations/local.py\" target=\"_blank\"><span style=\"color: #7f7f7f; text-decoration-color: #7f7f7f\">local.py</span></a><span style=\"color: #7f7f7f; text-decoration-color: #7f7f7f\">:</span><a href=\"file:///Users/slegroux/miniforge3/envs/nimrod/lib/python3.11/site-packages/fsspec/implementations/local.py#351\" target=\"_blank\"><span style=\"color: #7f7f7f; text-decoration-color: #7f7f7f\">351</span></a>\n",
       "<span style=\"color: #7fbfbf; text-decoration-color: #7fbfbf\">                    </span>         <span style=\"color: #800080; text-decoration-color: #800080\">/Users/slegroux/Projects/nimrod/nbs/logs/nnlm/version_23/</span><span style=\"color: #ff00ff; text-decoration-color: #ff00ff\">metrics.csv</span>      <span style=\"color: #7f7f7f; text-decoration-color: #7f7f7f\">            </span>\n",
       "</pre>\n"
      ],
      "text/plain": [
       "\u001b[2;36m                   \u001b[0m\u001b[2;36m \u001b[0m\u001b[32mDEBUG   \u001b[0m \u001b[1;36m2024\u001b[0m-\u001b[1;36m12\u001b[0m-\u001b[1;36m19\u001b[0m \u001b[1;92m13:20:11\u001b[0m,\u001b[1;36m662\u001b[0m - DEBUG - open file:                              \u001b]8;id=249338;file:///Users/slegroux/miniforge3/envs/nimrod/lib/python3.11/site-packages/fsspec/implementations/local.py\u001b\\\u001b[2mlocal.py\u001b[0m\u001b]8;;\u001b\\\u001b[2m:\u001b[0m\u001b]8;id=902512;file:///Users/slegroux/miniforge3/envs/nimrod/lib/python3.11/site-packages/fsspec/implementations/local.py#351\u001b\\\u001b[2m351\u001b[0m\u001b]8;;\u001b\\\n",
       "\u001b[2;36m                    \u001b[0m         \u001b[35m/Users/slegroux/Projects/nimrod/nbs/logs/nnlm/version_23/\u001b[0m\u001b[95mmetrics.csv\u001b[0m      \u001b[2m            \u001b[0m\n"
      ]
     },
     "metadata": {},
     "output_type": "display_data"
    },
    {
     "data": {
      "text/html": [
       "<pre style=\"white-space:pre;overflow-x:auto;line-height:normal;font-family:Menlo,'DejaVu Sans Mono',consolas,'Courier New',monospace\"><span style=\"color: #7fbfbf; text-decoration-color: #7fbfbf\">                    </span><span style=\"color: #008000; text-decoration-color: #008000\">DEBUG   </span> <span style=\"color: #008080; text-decoration-color: #008080; font-weight: bold\">2024</span>-<span style=\"color: #008080; text-decoration-color: #008080; font-weight: bold\">12</span>-<span style=\"color: #008080; text-decoration-color: #008080; font-weight: bold\">19</span> <span style=\"color: #00ff00; text-decoration-color: #00ff00; font-weight: bold\">13:20:11</span>,<span style=\"color: #008080; text-decoration-color: #008080; font-weight: bold\">664</span> - DEBUG - open file:                              <a href=\"file:///Users/slegroux/miniforge3/envs/nimrod/lib/python3.11/site-packages/fsspec/implementations/local.py\" target=\"_blank\"><span style=\"color: #7f7f7f; text-decoration-color: #7f7f7f\">local.py</span></a><span style=\"color: #7f7f7f; text-decoration-color: #7f7f7f\">:</span><a href=\"file:///Users/slegroux/miniforge3/envs/nimrod/lib/python3.11/site-packages/fsspec/implementations/local.py#351\" target=\"_blank\"><span style=\"color: #7f7f7f; text-decoration-color: #7f7f7f\">351</span></a>\n",
       "<span style=\"color: #7fbfbf; text-decoration-color: #7fbfbf\">                    </span>         <span style=\"color: #800080; text-decoration-color: #800080\">/Users/slegroux/Projects/nimrod/nbs/logs/nnlm/version_23/</span><span style=\"color: #ff00ff; text-decoration-color: #ff00ff\">metrics.csv</span>      <span style=\"color: #7f7f7f; text-decoration-color: #7f7f7f\">            </span>\n",
       "</pre>\n"
      ],
      "text/plain": [
       "\u001b[2;36m                   \u001b[0m\u001b[2;36m \u001b[0m\u001b[32mDEBUG   \u001b[0m \u001b[1;36m2024\u001b[0m-\u001b[1;36m12\u001b[0m-\u001b[1;36m19\u001b[0m \u001b[1;92m13:20:11\u001b[0m,\u001b[1;36m664\u001b[0m - DEBUG - open file:                              \u001b]8;id=366496;file:///Users/slegroux/miniforge3/envs/nimrod/lib/python3.11/site-packages/fsspec/implementations/local.py\u001b\\\u001b[2mlocal.py\u001b[0m\u001b]8;;\u001b\\\u001b[2m:\u001b[0m\u001b]8;id=579535;file:///Users/slegroux/miniforge3/envs/nimrod/lib/python3.11/site-packages/fsspec/implementations/local.py#351\u001b\\\u001b[2m351\u001b[0m\u001b]8;;\u001b\\\n",
       "\u001b[2;36m                    \u001b[0m         \u001b[35m/Users/slegroux/Projects/nimrod/nbs/logs/nnlm/version_23/\u001b[0m\u001b[95mmetrics.csv\u001b[0m      \u001b[2m            \u001b[0m\n"
      ]
     },
     "metadata": {},
     "output_type": "display_data"
    },
    {
     "data": {
      "text/html": [
       "<pre style=\"white-space:pre;overflow-x:auto;line-height:normal;font-family:Menlo,'DejaVu Sans Mono',consolas,'Courier New',monospace\"><span style=\"color: #7fbfbf; text-decoration-color: #7fbfbf\">                    </span><span style=\"color: #008000; text-decoration-color: #008000\">DEBUG   </span> <span style=\"color: #008080; text-decoration-color: #008080; font-weight: bold\">2024</span>-<span style=\"color: #008080; text-decoration-color: #008080; font-weight: bold\">12</span>-<span style=\"color: #008080; text-decoration-color: #008080; font-weight: bold\">19</span> <span style=\"color: #00ff00; text-decoration-color: #00ff00; font-weight: bold\">13:20:11</span>,<span style=\"color: #008080; text-decoration-color: #008080; font-weight: bold\">665</span> - DEBUG - open file:                              <a href=\"file:///Users/slegroux/miniforge3/envs/nimrod/lib/python3.11/site-packages/fsspec/implementations/local.py\" target=\"_blank\"><span style=\"color: #7f7f7f; text-decoration-color: #7f7f7f\">local.py</span></a><span style=\"color: #7f7f7f; text-decoration-color: #7f7f7f\">:</span><a href=\"file:///Users/slegroux/miniforge3/envs/nimrod/lib/python3.11/site-packages/fsspec/implementations/local.py#351\" target=\"_blank\"><span style=\"color: #7f7f7f; text-decoration-color: #7f7f7f\">351</span></a>\n",
       "<span style=\"color: #7fbfbf; text-decoration-color: #7fbfbf\">                    </span>         <span style=\"color: #800080; text-decoration-color: #800080\">/Users/slegroux/Projects/nimrod/nbs/logs/nnlm/version_23/</span><span style=\"color: #ff00ff; text-decoration-color: #ff00ff\">metrics.csv</span>      <span style=\"color: #7f7f7f; text-decoration-color: #7f7f7f\">            </span>\n",
       "</pre>\n"
      ],
      "text/plain": [
       "\u001b[2;36m                   \u001b[0m\u001b[2;36m \u001b[0m\u001b[32mDEBUG   \u001b[0m \u001b[1;36m2024\u001b[0m-\u001b[1;36m12\u001b[0m-\u001b[1;36m19\u001b[0m \u001b[1;92m13:20:11\u001b[0m,\u001b[1;36m665\u001b[0m - DEBUG - open file:                              \u001b]8;id=786302;file:///Users/slegroux/miniforge3/envs/nimrod/lib/python3.11/site-packages/fsspec/implementations/local.py\u001b\\\u001b[2mlocal.py\u001b[0m\u001b]8;;\u001b\\\u001b[2m:\u001b[0m\u001b]8;id=610347;file:///Users/slegroux/miniforge3/envs/nimrod/lib/python3.11/site-packages/fsspec/implementations/local.py#351\u001b\\\u001b[2m351\u001b[0m\u001b]8;;\u001b\\\n",
       "\u001b[2;36m                    \u001b[0m         \u001b[35m/Users/slegroux/Projects/nimrod/nbs/logs/nnlm/version_23/\u001b[0m\u001b[95mmetrics.csv\u001b[0m      \u001b[2m            \u001b[0m\n"
      ]
     },
     "metadata": {},
     "output_type": "display_data"
    },
    {
     "data": {
      "text/html": [
       "<pre style=\"white-space:pre;overflow-x:auto;line-height:normal;font-family:Menlo,'DejaVu Sans Mono',consolas,'Courier New',monospace\">┏━━━━━━━━━━━━━━━━━━━━━━━━━━━┳━━━━━━━━━━━━━━━━━━━━━━━━━━━┓\n",
       "┃<span style=\"font-weight: bold\">        Test metric        </span>┃<span style=\"font-weight: bold\">       DataLoader 0        </span>┃\n",
       "┡━━━━━━━━━━━━━━━━━━━━━━━━━━━╇━━━━━━━━━━━━━━━━━━━━━━━━━━━┩\n",
       "│<span style=\"color: #008080; text-decoration-color: #008080\">         test/acc          </span>│<span style=\"color: #800080; text-decoration-color: #800080\">    0.40075308084487915    </span>│\n",
       "│<span style=\"color: #008080; text-decoration-color: #008080\">         test/loss         </span>│<span style=\"color: #800080; text-decoration-color: #800080\">     2.062364101409912     </span>│\n",
       "└───────────────────────────┴───────────────────────────┘\n",
       "</pre>\n"
      ],
      "text/plain": [
       "┏━━━━━━━━━━━━━━━━━━━━━━━━━━━┳━━━━━━━━━━━━━━━━━━━━━━━━━━━┓\n",
       "┃\u001b[1m \u001b[0m\u001b[1m       Test metric       \u001b[0m\u001b[1m \u001b[0m┃\u001b[1m \u001b[0m\u001b[1m      DataLoader 0       \u001b[0m\u001b[1m \u001b[0m┃\n",
       "┡━━━━━━━━━━━━━━━━━━━━━━━━━━━╇━━━━━━━━━━━━━━━━━━━━━━━━━━━┩\n",
       "│\u001b[36m \u001b[0m\u001b[36m        test/acc         \u001b[0m\u001b[36m \u001b[0m│\u001b[35m \u001b[0m\u001b[35m   0.40075308084487915   \u001b[0m\u001b[35m \u001b[0m│\n",
       "│\u001b[36m \u001b[0m\u001b[36m        test/loss        \u001b[0m\u001b[36m \u001b[0m│\u001b[35m \u001b[0m\u001b[35m    2.062364101409912    \u001b[0m\u001b[35m \u001b[0m│\n",
       "└───────────────────────────┴───────────────────────────┘\n"
      ]
     },
     "metadata": {},
     "output_type": "display_data"
    },
    {
     "data": {
      "text/html": [
       "<pre style=\"white-space:pre;overflow-x:auto;line-height:normal;font-family:Menlo,'DejaVu Sans Mono',consolas,'Courier New',monospace\"><span style=\"color: #7fbfbf; text-decoration-color: #7fbfbf\">                    </span><span style=\"color: #008000; text-decoration-color: #008000\">DEBUG   </span> <span style=\"color: #008080; text-decoration-color: #008080; font-weight: bold\">2024</span>-<span style=\"color: #008080; text-decoration-color: #008080; font-weight: bold\">12</span>-<span style=\"color: #008080; text-decoration-color: #008080; font-weight: bold\">19</span> <span style=\"color: #00ff00; text-decoration-color: #00ff00; font-weight: bold\">13:20:11</span>,<span style=\"color: #008080; text-decoration-color: #008080; font-weight: bold\">684</span> - DEBUG - open file:                              <a href=\"file:///Users/slegroux/miniforge3/envs/nimrod/lib/python3.11/site-packages/fsspec/implementations/local.py\" target=\"_blank\"><span style=\"color: #7f7f7f; text-decoration-color: #7f7f7f\">local.py</span></a><span style=\"color: #7f7f7f; text-decoration-color: #7f7f7f\">:</span><a href=\"file:///Users/slegroux/miniforge3/envs/nimrod/lib/python3.11/site-packages/fsspec/implementations/local.py#351\" target=\"_blank\"><span style=\"color: #7f7f7f; text-decoration-color: #7f7f7f\">351</span></a>\n",
       "<span style=\"color: #7fbfbf; text-decoration-color: #7fbfbf\">                    </span>         <span style=\"color: #800080; text-decoration-color: #800080\">/Users/slegroux/Projects/nimrod/nbs/logs/nnlm/version_23/</span><span style=\"color: #ff00ff; text-decoration-color: #ff00ff\">hparams.yaml</span>     <span style=\"color: #7f7f7f; text-decoration-color: #7f7f7f\">            </span>\n",
       "</pre>\n"
      ],
      "text/plain": [
       "\u001b[2;36m                   \u001b[0m\u001b[2;36m \u001b[0m\u001b[32mDEBUG   \u001b[0m \u001b[1;36m2024\u001b[0m-\u001b[1;36m12\u001b[0m-\u001b[1;36m19\u001b[0m \u001b[1;92m13:20:11\u001b[0m,\u001b[1;36m684\u001b[0m - DEBUG - open file:                              \u001b]8;id=783115;file:///Users/slegroux/miniforge3/envs/nimrod/lib/python3.11/site-packages/fsspec/implementations/local.py\u001b\\\u001b[2mlocal.py\u001b[0m\u001b]8;;\u001b\\\u001b[2m:\u001b[0m\u001b]8;id=626843;file:///Users/slegroux/miniforge3/envs/nimrod/lib/python3.11/site-packages/fsspec/implementations/local.py#351\u001b\\\u001b[2m351\u001b[0m\u001b]8;;\u001b\\\n",
       "\u001b[2;36m                    \u001b[0m         \u001b[35m/Users/slegroux/Projects/nimrod/nbs/logs/nnlm/version_23/\u001b[0m\u001b[95mhparams.yaml\u001b[0m     \u001b[2m            \u001b[0m\n"
      ]
     },
     "metadata": {},
     "output_type": "display_data"
    },
    {
     "data": {
      "text/html": [
       "<pre style=\"white-space:pre;overflow-x:auto;line-height:normal;font-family:Menlo,'DejaVu Sans Mono',consolas,'Courier New',monospace\"><span style=\"color: #7fbfbf; text-decoration-color: #7fbfbf\">                    </span><span style=\"color: #008000; text-decoration-color: #008000\">DEBUG   </span> <span style=\"color: #008080; text-decoration-color: #008080; font-weight: bold\">2024</span>-<span style=\"color: #008080; text-decoration-color: #008080; font-weight: bold\">12</span>-<span style=\"color: #008080; text-decoration-color: #008080; font-weight: bold\">19</span> <span style=\"color: #00ff00; text-decoration-color: #00ff00; font-weight: bold\">13:20:11</span>,<span style=\"color: #008080; text-decoration-color: #008080; font-weight: bold\">707</span> - DEBUG - open file:                              <a href=\"file:///Users/slegroux/miniforge3/envs/nimrod/lib/python3.11/site-packages/fsspec/implementations/local.py\" target=\"_blank\"><span style=\"color: #7f7f7f; text-decoration-color: #7f7f7f\">local.py</span></a><span style=\"color: #7f7f7f; text-decoration-color: #7f7f7f\">:</span><a href=\"file:///Users/slegroux/miniforge3/envs/nimrod/lib/python3.11/site-packages/fsspec/implementations/local.py#351\" target=\"_blank\"><span style=\"color: #7f7f7f; text-decoration-color: #7f7f7f\">351</span></a>\n",
       "<span style=\"color: #7fbfbf; text-decoration-color: #7fbfbf\">                    </span>         <span style=\"color: #800080; text-decoration-color: #800080\">/Users/slegroux/Projects/nimrod/nbs/logs/nnlm/version_23/</span><span style=\"color: #ff00ff; text-decoration-color: #ff00ff\">hparams.yaml</span>     <span style=\"color: #7f7f7f; text-decoration-color: #7f7f7f\">            </span>\n",
       "</pre>\n"
      ],
      "text/plain": [
       "\u001b[2;36m                   \u001b[0m\u001b[2;36m \u001b[0m\u001b[32mDEBUG   \u001b[0m \u001b[1;36m2024\u001b[0m-\u001b[1;36m12\u001b[0m-\u001b[1;36m19\u001b[0m \u001b[1;92m13:20:11\u001b[0m,\u001b[1;36m707\u001b[0m - DEBUG - open file:                              \u001b]8;id=973042;file:///Users/slegroux/miniforge3/envs/nimrod/lib/python3.11/site-packages/fsspec/implementations/local.py\u001b\\\u001b[2mlocal.py\u001b[0m\u001b]8;;\u001b\\\u001b[2m:\u001b[0m\u001b]8;id=525950;file:///Users/slegroux/miniforge3/envs/nimrod/lib/python3.11/site-packages/fsspec/implementations/local.py#351\u001b\\\u001b[2m351\u001b[0m\u001b]8;;\u001b\\\n",
       "\u001b[2;36m                    \u001b[0m         \u001b[35m/Users/slegroux/Projects/nimrod/nbs/logs/nnlm/version_23/\u001b[0m\u001b[95mhparams.yaml\u001b[0m     \u001b[2m            \u001b[0m\n"
      ]
     },
     "metadata": {},
     "output_type": "display_data"
    },
    {
     "data": {
      "text/plain": [
       "[{'test/loss': 2.062364101409912, 'test/acc': 0.40075308084487915}]"
      ]
     },
     "execution_count": 275,
     "metadata": {},
     "output_type": "execute_result"
    }
   ],
   "source": [
    "#| notest\n",
    "trainer.test(lm, dm.test_dataloader())"
   ]
  },
  {
   "cell_type": "code",
   "execution_count": 285,
   "metadata": {},
   "outputs": [
    {
     "name": "stdout",
     "output_type": "stream",
     "text": [
      "The country of the ly domboe stainneir I sum so be good bothen, of repke to e shan of to more not is and feen him your trued; name\n",
      "For we frieto by hen actid butin thit wifes now,.\n",
      "\n",
      "FOLINGBARWIFIS:\n",
      "What not thy, the have.\n",
      "\n",
      "GLAREUCESTER:\n",
      "That my head younsingatce. The my piturd, a gope't Whou with mave mis, blash wick him, so your, for his\n",
      "Nove lood pred a, self. gathe couster here shen this gring by that is have him with of the case shoughtin, flacain,\n",
      "I prown be thath.\n",
      "\n",
      "DUPOLING RENEN EI:\n",
      "With me ence to as t\n"
     ]
    }
   ],
   "source": [
    "# infer on CPU\n",
    "lm.to('cpu')\n",
    "prompt = \"The country of \"\n",
    "sequences = lm.sample(prompt, v, max_new_tokens=500, temperature=0.9)\n",
    "print(sequences)"
   ]
  },
  {
   "cell_type": "markdown",
   "metadata": {},
   "source": [
    "### Learning Rate Finder"
   ]
  },
  {
   "cell_type": "code",
   "execution_count": 289,
   "metadata": {},
   "outputs": [
    {
     "data": {
      "text/plain": [
       "\"nnet\":        NNLM(\n",
       "  (embedder): Embedding(67, 10)\n",
       "  (l1): Linear(in_features=30, out_features=100, bias=True)\n",
       "  (l2): Linear(in_features=100, out_features=67, bias=True)\n",
       ")\n",
       "\"num_classes\": 67\n",
       "\"optimizer\":   functools.partial(<class 'torch.optim.adam.Adam'>, lr=0.001, weight_decay=0.0)\n",
       "\"scheduler\":   functools.partial(<class 'torch.optim.lr_scheduler.ReduceLROnPlateau'>, mode='min', factor=0.1, patience=10)"
      ]
     },
     "execution_count": 289,
     "metadata": {},
     "output_type": "execute_result"
    }
   ],
   "source": [
    "lm.hparams"
   ]
  },
  {
   "cell_type": "code",
   "execution_count": 307,
   "metadata": {},
   "outputs": [
    {
     "name": "stderr",
     "output_type": "stream",
     "text": [
      "GPU available: True (mps), used: True\n",
      "TPU available: False, using: 0 TPU cores\n",
      "HPU available: False, using: 0 HPUs\n"
     ]
    },
    {
     "data": {
      "text/html": [
       "<pre style=\"white-space:pre;overflow-x:auto;line-height:normal;font-family:Menlo,'DejaVu Sans Mono',consolas,'Courier New',monospace\"><span style=\"color: #7fbfbf; text-decoration-color: #7fbfbf\">[12/19/24 13:44:33] </span><span style=\"color: #000080; text-decoration-color: #000080\">INFO    </span> <span style=\"color: #008080; text-decoration-color: #008080; font-weight: bold\">2024</span>-<span style=\"color: #008080; text-decoration-color: #008080; font-weight: bold\">12</span>-<span style=\"color: #008080; text-decoration-color: #008080; font-weight: bold\">19</span> <span style=\"color: #00ff00; text-decoration-color: #00ff00; font-weight: bold\">13:44:33</span>,<span style=\"color: #008080; text-decoration-color: #008080; font-weight: bold\">852</span> - INFO - CharDataModule: setup, split datasets <a href=\"file:///Users/slegroux/Projects/nimrod/nimrod/text/datasets.py\" target=\"_blank\"><span style=\"color: #7f7f7f; text-decoration-color: #7f7f7f\">datasets.py</span></a><span style=\"color: #7f7f7f; text-decoration-color: #7f7f7f\">:</span><a href=\"file:///Users/slegroux/Projects/nimrod/nimrod/text/datasets.py#230\" target=\"_blank\"><span style=\"color: #7f7f7f; text-decoration-color: #7f7f7f\">230</span></a>\n",
       "</pre>\n"
      ],
      "text/plain": [
       "\u001b[2;36m[12/19/24 13:44:33]\u001b[0m\u001b[2;36m \u001b[0m\u001b[34mINFO    \u001b[0m \u001b[1;36m2024\u001b[0m-\u001b[1;36m12\u001b[0m-\u001b[1;36m19\u001b[0m \u001b[1;92m13:44:33\u001b[0m,\u001b[1;36m852\u001b[0m - INFO - CharDataModule: setup, split datasets \u001b]8;id=346704;file:///Users/slegroux/Projects/nimrod/nimrod/text/datasets.py\u001b\\\u001b[2mdatasets.py\u001b[0m\u001b]8;;\u001b\\\u001b[2m:\u001b[0m\u001b]8;id=307436;file:///Users/slegroux/Projects/nimrod/nimrod/text/datasets.py#230\u001b\\\u001b[2m230\u001b[0m\u001b]8;;\u001b\\\n"
      ]
     },
     "metadata": {},
     "output_type": "display_data"
    },
    {
     "data": {
      "text/html": [
       "<pre style=\"white-space:pre;overflow-x:auto;line-height:normal;font-family:Menlo,'DejaVu Sans Mono',consolas,'Courier New',monospace\"><span style=\"color: #7fbfbf; text-decoration-color: #7fbfbf\">                    </span><span style=\"color: #000080; text-decoration-color: #000080\">INFO    </span> <span style=\"color: #008080; text-decoration-color: #008080; font-weight: bold\">2024</span>-<span style=\"color: #008080; text-decoration-color: #008080; font-weight: bold\">12</span>-<span style=\"color: #008080; text-decoration-color: #008080; font-weight: bold\">19</span> <span style=\"color: #00ff00; text-decoration-color: #00ff00; font-weight: bold\">13:44:33</span>,<span style=\"color: #008080; text-decoration-color: #008080; font-weight: bold\">853</span> - INFO - CharDataset: init                     <a href=\"file:///Users/slegroux/Projects/nimrod/nimrod/text/datasets.py\" target=\"_blank\"><span style=\"color: #7f7f7f; text-decoration-color: #7f7f7f\">datasets.py</span></a><span style=\"color: #7f7f7f; text-decoration-color: #7f7f7f\">:</span><a href=\"file:///Users/slegroux/Projects/nimrod/nimrod/text/datasets.py#132\" target=\"_blank\"><span style=\"color: #7f7f7f; text-decoration-color: #7f7f7f\">132</span></a>\n",
       "</pre>\n"
      ],
      "text/plain": [
       "\u001b[2;36m                   \u001b[0m\u001b[2;36m \u001b[0m\u001b[34mINFO    \u001b[0m \u001b[1;36m2024\u001b[0m-\u001b[1;36m12\u001b[0m-\u001b[1;36m19\u001b[0m \u001b[1;92m13:44:33\u001b[0m,\u001b[1;36m853\u001b[0m - INFO - CharDataset: init                     \u001b]8;id=926393;file:///Users/slegroux/Projects/nimrod/nimrod/text/datasets.py\u001b\\\u001b[2mdatasets.py\u001b[0m\u001b]8;;\u001b\\\u001b[2m:\u001b[0m\u001b]8;id=473871;file:///Users/slegroux/Projects/nimrod/nimrod/text/datasets.py#132\u001b\\\u001b[2m132\u001b[0m\u001b]8;;\u001b\\\n"
      ]
     },
     "metadata": {},
     "output_type": "display_data"
    },
    {
     "data": {
      "text/html": [
       "<pre style=\"white-space:pre;overflow-x:auto;line-height:normal;font-family:Menlo,'DejaVu Sans Mono',consolas,'Courier New',monospace\"><span style=\"color: #7fbfbf; text-decoration-color: #7fbfbf\">                    </span><span style=\"color: #000080; text-decoration-color: #000080\">INFO    </span> <span style=\"color: #008080; text-decoration-color: #008080; font-weight: bold\">2024</span>-<span style=\"color: #008080; text-decoration-color: #008080; font-weight: bold\">12</span>-<span style=\"color: #008080; text-decoration-color: #008080; font-weight: bold\">19</span> <span style=\"color: #00ff00; text-decoration-color: #00ff00; font-weight: bold\">13:44:33</span>,<span style=\"color: #008080; text-decoration-color: #008080; font-weight: bold\">854</span> - INFO - Vocab: read text file                  <a href=\"file:///Users/slegroux/Projects/nimrod/nimrod/text/datasets.py\" target=\"_blank\"><span style=\"color: #7f7f7f; text-decoration-color: #7f7f7f\">datasets.py</span></a><span style=\"color: #7f7f7f; text-decoration-color: #7f7f7f\">:</span><a href=\"file:///Users/slegroux/Projects/nimrod/nimrod/text/datasets.py#66\" target=\"_blank\"><span style=\"color: #7f7f7f; text-decoration-color: #7f7f7f\">66</span></a>\n",
       "</pre>\n"
      ],
      "text/plain": [
       "\u001b[2;36m                   \u001b[0m\u001b[2;36m \u001b[0m\u001b[34mINFO    \u001b[0m \u001b[1;36m2024\u001b[0m-\u001b[1;36m12\u001b[0m-\u001b[1;36m19\u001b[0m \u001b[1;92m13:44:33\u001b[0m,\u001b[1;36m854\u001b[0m - INFO - Vocab: read text file                  \u001b]8;id=291121;file:///Users/slegroux/Projects/nimrod/nimrod/text/datasets.py\u001b\\\u001b[2mdatasets.py\u001b[0m\u001b]8;;\u001b\\\u001b[2m:\u001b[0m\u001b]8;id=4478;file:///Users/slegroux/Projects/nimrod/nimrod/text/datasets.py#66\u001b\\\u001b[2m66\u001b[0m\u001b]8;;\u001b\\\n"
      ]
     },
     "metadata": {},
     "output_type": "display_data"
    },
    {
     "data": {
      "text/html": [
       "<pre style=\"white-space:pre;overflow-x:auto;line-height:normal;font-family:Menlo,'DejaVu Sans Mono',consolas,'Courier New',monospace\"><span style=\"color: #7fbfbf; text-decoration-color: #7fbfbf\">                    </span><span style=\"color: #008000; text-decoration-color: #008000\">DEBUG   </span> <span style=\"color: #008080; text-decoration-color: #008080; font-weight: bold\">2024</span>-<span style=\"color: #008080; text-decoration-color: #008080; font-weight: bold\">12</span>-<span style=\"color: #008080; text-decoration-color: #008080; font-weight: bold\">19</span> <span style=\"color: #00ff00; text-decoration-color: #00ff00; font-weight: bold\">13:44:33</span>,<span style=\"color: #008080; text-decoration-color: #008080; font-weight: bold\">992</span> - DEBUG - open file:                              <a href=\"file:///Users/slegroux/miniforge3/envs/nimrod/lib/python3.11/site-packages/fsspec/implementations/local.py\" target=\"_blank\"><span style=\"color: #7f7f7f; text-decoration-color: #7f7f7f\">local.py</span></a><span style=\"color: #7f7f7f; text-decoration-color: #7f7f7f\">:</span><a href=\"file:///Users/slegroux/miniforge3/envs/nimrod/lib/python3.11/site-packages/fsspec/implementations/local.py#351\" target=\"_blank\"><span style=\"color: #7f7f7f; text-decoration-color: #7f7f7f\">351</span></a>\n",
       "<span style=\"color: #7fbfbf; text-decoration-color: #7fbfbf\">                    </span>         <span style=\"color: #800080; text-decoration-color: #800080\">/Users/slegroux/Projects/nimrod/nbs/</span><span style=\"color: #ff00ff; text-decoration-color: #ff00ff\">.lr_find_a0fc8142-932c-4e98-8d4e-1d64</span> <span style=\"color: #7f7f7f; text-decoration-color: #7f7f7f\">            </span>\n",
       "<span style=\"color: #7fbfbf; text-decoration-color: #7fbfbf\">                    </span>         <span style=\"color: #ff00ff; text-decoration-color: #ff00ff\">798b4043.ckpt</span>                                                             <span style=\"color: #7f7f7f; text-decoration-color: #7f7f7f\">            </span>\n",
       "</pre>\n"
      ],
      "text/plain": [
       "\u001b[2;36m                   \u001b[0m\u001b[2;36m \u001b[0m\u001b[32mDEBUG   \u001b[0m \u001b[1;36m2024\u001b[0m-\u001b[1;36m12\u001b[0m-\u001b[1;36m19\u001b[0m \u001b[1;92m13:44:33\u001b[0m,\u001b[1;36m992\u001b[0m - DEBUG - open file:                              \u001b]8;id=757117;file:///Users/slegroux/miniforge3/envs/nimrod/lib/python3.11/site-packages/fsspec/implementations/local.py\u001b\\\u001b[2mlocal.py\u001b[0m\u001b]8;;\u001b\\\u001b[2m:\u001b[0m\u001b]8;id=981068;file:///Users/slegroux/miniforge3/envs/nimrod/lib/python3.11/site-packages/fsspec/implementations/local.py#351\u001b\\\u001b[2m351\u001b[0m\u001b]8;;\u001b\\\n",
       "\u001b[2;36m                    \u001b[0m         \u001b[35m/Users/slegroux/Projects/nimrod/nbs/\u001b[0m\u001b[95m.lr_find_a0fc8142-932c-4e98-8d4e-1d64\u001b[0m \u001b[2m            \u001b[0m\n",
       "\u001b[2;36m                    \u001b[0m         \u001b[95m798b4043.ckpt\u001b[0m                                                             \u001b[2m            \u001b[0m\n"
      ]
     },
     "metadata": {},
     "output_type": "display_data"
    },
    {
     "name": "stderr",
     "output_type": "stream",
     "text": [
      "/Users/slegroux/miniforge3/envs/nimrod/lib/python3.11/site-packages/lightning/pytorch/trainer/connectors/data_connector.py:424: The 'train_dataloader' does not have many workers which may be a bottleneck. Consider increasing the value of the `num_workers` argument` to `num_workers=11` in the `DataLoader` to improve performance.\n",
      "/Users/slegroux/miniforge3/envs/nimrod/lib/python3.11/site-packages/lightning/pytorch/trainer/connectors/data_connector.py:424: The 'val_dataloader' does not have many workers which may be a bottleneck. Consider increasing the value of the `num_workers` argument` to `num_workers=11` in the `DataLoader` to improve performance.\n"
     ]
    },
    {
     "data": {
      "application/vnd.jupyter.widget-view+json": {
       "model_id": "73af4d57ef98422981ec515caceb16ec",
       "version_major": 2,
       "version_minor": 0
      },
      "text/plain": [
       "Finding best initial lr:   0%|          | 0/100 [00:00<?, ?it/s]"
      ]
     },
     "metadata": {},
     "output_type": "display_data"
    },
    {
     "name": "stderr",
     "output_type": "stream",
     "text": [
      "`Trainer.fit` stopped: `max_steps=100` reached.\n",
      "Learning rate set to 0.07244359600749906\n",
      "Restoring states from the checkpoint path at /Users/slegroux/Projects/nimrod/nbs/.lr_find_a0fc8142-932c-4e98-8d4e-1d64798b4043.ckpt\n"
     ]
    },
    {
     "data": {
      "text/html": [
       "<pre style=\"white-space:pre;overflow-x:auto;line-height:normal;font-family:Menlo,'DejaVu Sans Mono',consolas,'Courier New',monospace\"><span style=\"color: #7fbfbf; text-decoration-color: #7fbfbf\">[12/19/24 13:44:36] </span><span style=\"color: #008000; text-decoration-color: #008000\">DEBUG   </span> <span style=\"color: #008080; text-decoration-color: #008080; font-weight: bold\">2024</span>-<span style=\"color: #008080; text-decoration-color: #008080; font-weight: bold\">12</span>-<span style=\"color: #008080; text-decoration-color: #008080; font-weight: bold\">19</span> <span style=\"color: #00ff00; text-decoration-color: #00ff00; font-weight: bold\">13:44:36</span>,<span style=\"color: #008080; text-decoration-color: #008080; font-weight: bold\">865</span> - DEBUG - open file:                              <a href=\"file:///Users/slegroux/miniforge3/envs/nimrod/lib/python3.11/site-packages/fsspec/implementations/local.py\" target=\"_blank\"><span style=\"color: #7f7f7f; text-decoration-color: #7f7f7f\">local.py</span></a><span style=\"color: #7f7f7f; text-decoration-color: #7f7f7f\">:</span><a href=\"file:///Users/slegroux/miniforge3/envs/nimrod/lib/python3.11/site-packages/fsspec/implementations/local.py#351\" target=\"_blank\"><span style=\"color: #7f7f7f; text-decoration-color: #7f7f7f\">351</span></a>\n",
       "<span style=\"color: #7fbfbf; text-decoration-color: #7fbfbf\">                    </span>         <span style=\"color: #800080; text-decoration-color: #800080\">/Users/slegroux/Projects/nimrod/nbs/</span><span style=\"color: #ff00ff; text-decoration-color: #ff00ff\">.lr_find_a0fc8142-932c-4e98-8d4e-1d64</span> <span style=\"color: #7f7f7f; text-decoration-color: #7f7f7f\">            </span>\n",
       "<span style=\"color: #7fbfbf; text-decoration-color: #7fbfbf\">                    </span>         <span style=\"color: #ff00ff; text-decoration-color: #ff00ff\">798b4043.ckpt</span>                                                             <span style=\"color: #7f7f7f; text-decoration-color: #7f7f7f\">            </span>\n",
       "</pre>\n"
      ],
      "text/plain": [
       "\u001b[2;36m[12/19/24 13:44:36]\u001b[0m\u001b[2;36m \u001b[0m\u001b[32mDEBUG   \u001b[0m \u001b[1;36m2024\u001b[0m-\u001b[1;36m12\u001b[0m-\u001b[1;36m19\u001b[0m \u001b[1;92m13:44:36\u001b[0m,\u001b[1;36m865\u001b[0m - DEBUG - open file:                              \u001b]8;id=933779;file:///Users/slegroux/miniforge3/envs/nimrod/lib/python3.11/site-packages/fsspec/implementations/local.py\u001b\\\u001b[2mlocal.py\u001b[0m\u001b]8;;\u001b\\\u001b[2m:\u001b[0m\u001b]8;id=961480;file:///Users/slegroux/miniforge3/envs/nimrod/lib/python3.11/site-packages/fsspec/implementations/local.py#351\u001b\\\u001b[2m351\u001b[0m\u001b]8;;\u001b\\\n",
       "\u001b[2;36m                    \u001b[0m         \u001b[35m/Users/slegroux/Projects/nimrod/nbs/\u001b[0m\u001b[95m.lr_find_a0fc8142-932c-4e98-8d4e-1d64\u001b[0m \u001b[2m            \u001b[0m\n",
       "\u001b[2;36m                    \u001b[0m         \u001b[95m798b4043.ckpt\u001b[0m                                                             \u001b[2m            \u001b[0m\n"
      ]
     },
     "metadata": {},
     "output_type": "display_data"
    },
    {
     "name": "stderr",
     "output_type": "stream",
     "text": [
      "Restored all states from the checkpoint at /Users/slegroux/Projects/nimrod/nbs/.lr_find_a0fc8142-932c-4e98-8d4e-1d64798b4043.ckpt\n"
     ]
    },
    {
     "data": {
      "text/html": [
       "<pre style=\"white-space:pre;overflow-x:auto;line-height:normal;font-family:Menlo,'DejaVu Sans Mono',consolas,'Courier New',monospace\"><span style=\"color: #7fbfbf; text-decoration-color: #7fbfbf\">                    </span><span style=\"color: #008000; text-decoration-color: #008000\">DEBUG   </span> <span style=\"color: #008080; text-decoration-color: #008080; font-weight: bold\">2024</span>-<span style=\"color: #008080; text-decoration-color: #008080; font-weight: bold\">12</span>-<span style=\"color: #008080; text-decoration-color: #008080; font-weight: bold\">19</span> <span style=\"color: #00ff00; text-decoration-color: #00ff00; font-weight: bold\">13:44:36</span>,<span style=\"color: #008080; text-decoration-color: #008080; font-weight: bold\">872</span> - DEBUG - open file:                              <a href=\"file:///Users/slegroux/miniforge3/envs/nimrod/lib/python3.11/site-packages/fsspec/implementations/local.py\" target=\"_blank\"><span style=\"color: #7f7f7f; text-decoration-color: #7f7f7f\">local.py</span></a><span style=\"color: #7f7f7f; text-decoration-color: #7f7f7f\">:</span><a href=\"file:///Users/slegroux/miniforge3/envs/nimrod/lib/python3.11/site-packages/fsspec/implementations/local.py#351\" target=\"_blank\"><span style=\"color: #7f7f7f; text-decoration-color: #7f7f7f\">351</span></a>\n",
       "<span style=\"color: #7fbfbf; text-decoration-color: #7fbfbf\">                    </span>         <span style=\"color: #800080; text-decoration-color: #800080\">/Users/slegroux/Projects/nimrod/nbs/lightning_logs/version_23/</span><span style=\"color: #ff00ff; text-decoration-color: #ff00ff\">hparams.yam</span> <span style=\"color: #7f7f7f; text-decoration-color: #7f7f7f\">            </span>\n",
       "<span style=\"color: #7fbfbf; text-decoration-color: #7fbfbf\">                    </span>         <span style=\"color: #ff00ff; text-decoration-color: #ff00ff\">l</span>                                                                         <span style=\"color: #7f7f7f; text-decoration-color: #7f7f7f\">            </span>\n",
       "</pre>\n"
      ],
      "text/plain": [
       "\u001b[2;36m                   \u001b[0m\u001b[2;36m \u001b[0m\u001b[32mDEBUG   \u001b[0m \u001b[1;36m2024\u001b[0m-\u001b[1;36m12\u001b[0m-\u001b[1;36m19\u001b[0m \u001b[1;92m13:44:36\u001b[0m,\u001b[1;36m872\u001b[0m - DEBUG - open file:                              \u001b]8;id=757117;file:///Users/slegroux/miniforge3/envs/nimrod/lib/python3.11/site-packages/fsspec/implementations/local.py\u001b\\\u001b[2mlocal.py\u001b[0m\u001b]8;;\u001b\\\u001b[2m:\u001b[0m\u001b]8;id=981068;file:///Users/slegroux/miniforge3/envs/nimrod/lib/python3.11/site-packages/fsspec/implementations/local.py#351\u001b\\\u001b[2m351\u001b[0m\u001b]8;;\u001b\\\n",
       "\u001b[2;36m                    \u001b[0m         \u001b[35m/Users/slegroux/Projects/nimrod/nbs/lightning_logs/version_23/\u001b[0m\u001b[95mhparams.yam\u001b[0m \u001b[2m            \u001b[0m\n",
       "\u001b[2;36m                    \u001b[0m         \u001b[95ml\u001b[0m                                                                         \u001b[2m            \u001b[0m\n"
      ]
     },
     "metadata": {},
     "output_type": "display_data"
    },
    {
     "data": {
      "image/png": "[encoded data removed]",
      "text/plain": [
       "<Figure size 640x480 with 1 Axes>"
      ]
     },
     "metadata": {},
     "output_type": "display_data"
    },
    {
     "name": "stdout",
     "output_type": "stream",
     "text": [
      "Suggested learning rate: 0.07244359600749906\n"
     ]
    }
   ],
   "source": [
    "trainer = L.Trainer(\n",
    "    accelerator=\"auto\",\n",
    "    max_epochs=1,\n",
    ")\n",
    "tuner = Tuner(trainer)\n",
    "lr_finder = tuner.lr_find(\n",
    "    lm,\n",
    "    datamodule=dm,\n",
    "    min_lr=1e-6,\n",
    "    max_lr=1.0,\n",
    "    num_training=100,  # number of iterations\n",
    "    # attr_name=\"optimizer.lr\",\n",
    ")\n",
    "fig = lr_finder.plot(suggest=True)\n",
    "plt.show()\n",
    "print(f\"Suggested learning rate: {lr_finder.suggestion()}\")"
   ]
  },
  {
   "cell_type": "markdown",
   "metadata": {},
   "source": [
    "### re-train with new lr"
   ]
  },
  {
   "cell_type": "code",
   "execution_count": null,
   "metadata": {},
   "outputs": [],
   "source": [
    "new_lr = lr_finder.suggestion()\n",
    "lm.lr = new_lr"
   ]
  },
  {
   "cell_type": "code",
   "execution_count": 310,
   "metadata": {},
   "outputs": [
    {
     "name": "stderr",
     "output_type": "stream",
     "text": [
      "GPU available: True (mps), used: True\n",
      "TPU available: False, using: 0 TPU cores\n",
      "HPU available: False, using: 0 HPUs\n",
      "\n",
      "  | Name         | Type               | Params | Mode \n",
      "------------------------------------------------------------\n",
      "0 | loss         | CrossEntropyLoss   | 0      | train\n",
      "1 | train_acc    | MulticlassAccuracy | 0      | train\n",
      "2 | val_acc      | MulticlassAccuracy | 0      | train\n",
      "3 | test_acc     | MulticlassAccuracy | 0      | train\n",
      "4 | train_loss   | MeanMetric         | 0      | train\n",
      "5 | val_loss     | MeanMetric         | 0      | train\n",
      "6 | test_loss    | MeanMetric         | 0      | train\n",
      "7 | val_acc_best | MaxMetric          | 0      | train\n",
      "8 | nnet         | NNLM               | 10.5 K | train\n",
      "------------------------------------------------------------\n",
      "10.5 K    Trainable params\n",
      "0         Non-trainable params\n",
      "10.5 K    Total params\n",
      "0.042     Total estimated model params size (MB)\n",
      "12        Modules in train mode\n",
      "0         Modules in eval mode\n"
     ]
    },
    {
     "data": {
      "text/html": [
       "<pre style=\"white-space:pre;overflow-x:auto;line-height:normal;font-family:Menlo,'DejaVu Sans Mono',consolas,'Courier New',monospace\"><span style=\"color: #7fbfbf; text-decoration-color: #7fbfbf\">[12/19/24 13:46:22] </span><span style=\"color: #008000; text-decoration-color: #008000\">DEBUG   </span> <span style=\"color: #008080; text-decoration-color: #008080; font-weight: bold\">2024</span>-<span style=\"color: #008080; text-decoration-color: #008080; font-weight: bold\">12</span>-<span style=\"color: #008080; text-decoration-color: #008080; font-weight: bold\">19</span> <span style=\"color: #00ff00; text-decoration-color: #00ff00; font-weight: bold\">13:46:22</span>,<span style=\"color: #008080; text-decoration-color: #008080; font-weight: bold\">496</span> - DEBUG - open file:                              <a href=\"file:///Users/slegroux/miniforge3/envs/nimrod/lib/python3.11/site-packages/fsspec/implementations/local.py\" target=\"_blank\"><span style=\"color: #7f7f7f; text-decoration-color: #7f7f7f\">local.py</span></a><span style=\"color: #7f7f7f; text-decoration-color: #7f7f7f\">:</span><a href=\"file:///Users/slegroux/miniforge3/envs/nimrod/lib/python3.11/site-packages/fsspec/implementations/local.py#351\" target=\"_blank\"><span style=\"color: #7f7f7f; text-decoration-color: #7f7f7f\">351</span></a>\n",
       "<span style=\"color: #7fbfbf; text-decoration-color: #7fbfbf\">                    </span>         <span style=\"color: #800080; text-decoration-color: #800080\">/Users/slegroux/Projects/nimrod/nbs/logs/nnlm/version_25/</span><span style=\"color: #ff00ff; text-decoration-color: #ff00ff\">hparams.yaml</span>     <span style=\"color: #7f7f7f; text-decoration-color: #7f7f7f\">            </span>\n",
       "</pre>\n"
      ],
      "text/plain": [
       "\u001b[2;36m[12/19/24 13:46:22]\u001b[0m\u001b[2;36m \u001b[0m\u001b[32mDEBUG   \u001b[0m \u001b[1;36m2024\u001b[0m-\u001b[1;36m12\u001b[0m-\u001b[1;36m19\u001b[0m \u001b[1;92m13:46:22\u001b[0m,\u001b[1;36m496\u001b[0m - DEBUG - open file:                              \u001b]8;id=646860;file:///Users/slegroux/miniforge3/envs/nimrod/lib/python3.11/site-packages/fsspec/implementations/local.py\u001b\\\u001b[2mlocal.py\u001b[0m\u001b]8;;\u001b\\\u001b[2m:\u001b[0m\u001b]8;id=566644;file:///Users/slegroux/miniforge3/envs/nimrod/lib/python3.11/site-packages/fsspec/implementations/local.py#351\u001b\\\u001b[2m351\u001b[0m\u001b]8;;\u001b\\\n",
       "\u001b[2;36m                    \u001b[0m         \u001b[35m/Users/slegroux/Projects/nimrod/nbs/logs/nnlm/version_25/\u001b[0m\u001b[95mhparams.yaml\u001b[0m     \u001b[2m            \u001b[0m\n"
      ]
     },
     "metadata": {},
     "output_type": "display_data"
    },
    {
     "data": {
      "application/vnd.jupyter.widget-view+json": {
       "model_id": "0668f8aec5b04840aaa3cf2bc976967f",
       "version_major": 2,
       "version_minor": 0
      },
      "text/plain": [
       "Sanity Checking: |          | 0/? [00:00<?, ?it/s]"
      ]
     },
     "metadata": {},
     "output_type": "display_data"
    },
    {
     "name": "stderr",
     "output_type": "stream",
     "text": [
      "/Users/slegroux/miniforge3/envs/nimrod/lib/python3.11/site-packages/lightning/pytorch/trainer/connectors/data_connector.py:424: The 'val_dataloader' does not have many workers which may be a bottleneck. Consider increasing the value of the `num_workers` argument` to `num_workers=11` in the `DataLoader` to improve performance.\n",
      "/Users/slegroux/miniforge3/envs/nimrod/lib/python3.11/site-packages/lightning/pytorch/trainer/connectors/data_connector.py:424: The 'train_dataloader' does not have many workers which may be a bottleneck. Consider increasing the value of the `num_workers` argument` to `num_workers=11` in the `DataLoader` to improve performance.\n"
     ]
    },
    {
     "data": {
      "application/vnd.jupyter.widget-view+json": {
       "model_id": "38aeb0f7f10e4fecac93ed8905d236b4",
       "version_major": 2,
       "version_minor": 0
      },
      "text/plain": [
       "Training: |          | 0/? [00:00<?, ?it/s]"
      ]
     },
     "metadata": {},
     "output_type": "display_data"
    },
    {
     "data": {
      "text/html": [
       "<pre style=\"white-space:pre;overflow-x:auto;line-height:normal;font-family:Menlo,'DejaVu Sans Mono',consolas,'Courier New',monospace\"><span style=\"color: #7fbfbf; text-decoration-color: #7fbfbf\">[12/19/24 13:46:23] </span><span style=\"color: #008000; text-decoration-color: #008000\">DEBUG   </span> <span style=\"color: #008080; text-decoration-color: #008080; font-weight: bold\">2024</span>-<span style=\"color: #008080; text-decoration-color: #008080; font-weight: bold\">12</span>-<span style=\"color: #008080; text-decoration-color: #008080; font-weight: bold\">19</span> <span style=\"color: #00ff00; text-decoration-color: #00ff00; font-weight: bold\">13:46:23</span>,<span style=\"color: #008080; text-decoration-color: #008080; font-weight: bold\">821</span> - DEBUG - open file:                              <a href=\"file:///Users/slegroux/miniforge3/envs/nimrod/lib/python3.11/site-packages/fsspec/implementations/local.py\" target=\"_blank\"><span style=\"color: #7f7f7f; text-decoration-color: #7f7f7f\">local.py</span></a><span style=\"color: #7f7f7f; text-decoration-color: #7f7f7f\">:</span><a href=\"file:///Users/slegroux/miniforge3/envs/nimrod/lib/python3.11/site-packages/fsspec/implementations/local.py#351\" target=\"_blank\"><span style=\"color: #7f7f7f; text-decoration-color: #7f7f7f\">351</span></a>\n",
       "<span style=\"color: #7fbfbf; text-decoration-color: #7fbfbf\">                    </span>         <span style=\"color: #800080; text-decoration-color: #800080\">/Users/slegroux/Projects/nimrod/nbs/logs/nnlm/version_25/</span><span style=\"color: #ff00ff; text-decoration-color: #ff00ff\">hparams.yaml</span>     <span style=\"color: #7f7f7f; text-decoration-color: #7f7f7f\">            </span>\n",
       "</pre>\n"
      ],
      "text/plain": [
       "\u001b[2;36m[12/19/24 13:46:23]\u001b[0m\u001b[2;36m \u001b[0m\u001b[32mDEBUG   \u001b[0m \u001b[1;36m2024\u001b[0m-\u001b[1;36m12\u001b[0m-\u001b[1;36m19\u001b[0m \u001b[1;92m13:46:23\u001b[0m,\u001b[1;36m821\u001b[0m - DEBUG - open file:                              \u001b]8;id=95599;file:///Users/slegroux/miniforge3/envs/nimrod/lib/python3.11/site-packages/fsspec/implementations/local.py\u001b\\\u001b[2mlocal.py\u001b[0m\u001b]8;;\u001b\\\u001b[2m:\u001b[0m\u001b]8;id=831174;file:///Users/slegroux/miniforge3/envs/nimrod/lib/python3.11/site-packages/fsspec/implementations/local.py#351\u001b\\\u001b[2m351\u001b[0m\u001b]8;;\u001b\\\n",
       "\u001b[2;36m                    \u001b[0m         \u001b[35m/Users/slegroux/Projects/nimrod/nbs/logs/nnlm/version_25/\u001b[0m\u001b[95mhparams.yaml\u001b[0m     \u001b[2m            \u001b[0m\n"
      ]
     },
     "metadata": {},
     "output_type": "display_data"
    },
    {
     "data": {
      "text/html": [
       "<pre style=\"white-space:pre;overflow-x:auto;line-height:normal;font-family:Menlo,'DejaVu Sans Mono',consolas,'Courier New',monospace\"><span style=\"color: #7fbfbf; text-decoration-color: #7fbfbf\">                    </span><span style=\"color: #008000; text-decoration-color: #008000\">DEBUG   </span> <span style=\"color: #008080; text-decoration-color: #008080; font-weight: bold\">2024</span>-<span style=\"color: #008080; text-decoration-color: #008080; font-weight: bold\">12</span>-<span style=\"color: #008080; text-decoration-color: #008080; font-weight: bold\">19</span> <span style=\"color: #00ff00; text-decoration-color: #00ff00; font-weight: bold\">13:46:23</span>,<span style=\"color: #008080; text-decoration-color: #008080; font-weight: bold\">823</span> - DEBUG - open file:                              <a href=\"file:///Users/slegroux/miniforge3/envs/nimrod/lib/python3.11/site-packages/fsspec/implementations/local.py\" target=\"_blank\"><span style=\"color: #7f7f7f; text-decoration-color: #7f7f7f\">local.py</span></a><span style=\"color: #7f7f7f; text-decoration-color: #7f7f7f\">:</span><a href=\"file:///Users/slegroux/miniforge3/envs/nimrod/lib/python3.11/site-packages/fsspec/implementations/local.py#351\" target=\"_blank\"><span style=\"color: #7f7f7f; text-decoration-color: #7f7f7f\">351</span></a>\n",
       "<span style=\"color: #7fbfbf; text-decoration-color: #7fbfbf\">                    </span>         <span style=\"color: #800080; text-decoration-color: #800080\">/Users/slegroux/Projects/nimrod/nbs/logs/nnlm/version_25/</span><span style=\"color: #ff00ff; text-decoration-color: #ff00ff\">metrics.csv</span>      <span style=\"color: #7f7f7f; text-decoration-color: #7f7f7f\">            </span>\n",
       "</pre>\n"
      ],
      "text/plain": [
       "\u001b[2;36m                   \u001b[0m\u001b[2;36m \u001b[0m\u001b[32mDEBUG   \u001b[0m \u001b[1;36m2024\u001b[0m-\u001b[1;36m12\u001b[0m-\u001b[1;36m19\u001b[0m \u001b[1;92m13:46:23\u001b[0m,\u001b[1;36m823\u001b[0m - DEBUG - open file:                              \u001b]8;id=219790;file:///Users/slegroux/miniforge3/envs/nimrod/lib/python3.11/site-packages/fsspec/implementations/local.py\u001b\\\u001b[2mlocal.py\u001b[0m\u001b]8;;\u001b\\\u001b[2m:\u001b[0m\u001b]8;id=782019;file:///Users/slegroux/miniforge3/envs/nimrod/lib/python3.11/site-packages/fsspec/implementations/local.py#351\u001b\\\u001b[2m351\u001b[0m\u001b]8;;\u001b\\\n",
       "\u001b[2;36m                    \u001b[0m         \u001b[35m/Users/slegroux/Projects/nimrod/nbs/logs/nnlm/version_25/\u001b[0m\u001b[95mmetrics.csv\u001b[0m      \u001b[2m            \u001b[0m\n"
      ]
     },
     "metadata": {},
     "output_type": "display_data"
    },
    {
     "data": {
      "text/html": [
       "<pre style=\"white-space:pre;overflow-x:auto;line-height:normal;font-family:Menlo,'DejaVu Sans Mono',consolas,'Courier New',monospace\"><span style=\"color: #7fbfbf; text-decoration-color: #7fbfbf\">[12/19/24 13:46:25] </span><span style=\"color: #008000; text-decoration-color: #008000\">DEBUG   </span> <span style=\"color: #008080; text-decoration-color: #008080; font-weight: bold\">2024</span>-<span style=\"color: #008080; text-decoration-color: #008080; font-weight: bold\">12</span>-<span style=\"color: #008080; text-decoration-color: #008080; font-weight: bold\">19</span> <span style=\"color: #00ff00; text-decoration-color: #00ff00; font-weight: bold\">13:46:25</span>,<span style=\"color: #008080; text-decoration-color: #008080; font-weight: bold\">315</span> - DEBUG - open file:                              <a href=\"file:///Users/slegroux/miniforge3/envs/nimrod/lib/python3.11/site-packages/fsspec/implementations/local.py\" target=\"_blank\"><span style=\"color: #7f7f7f; text-decoration-color: #7f7f7f\">local.py</span></a><span style=\"color: #7f7f7f; text-decoration-color: #7f7f7f\">:</span><a href=\"file:///Users/slegroux/miniforge3/envs/nimrod/lib/python3.11/site-packages/fsspec/implementations/local.py#351\" target=\"_blank\"><span style=\"color: #7f7f7f; text-decoration-color: #7f7f7f\">351</span></a>\n",
       "<span style=\"color: #7fbfbf; text-decoration-color: #7fbfbf\">                    </span>         <span style=\"color: #800080; text-decoration-color: #800080\">/Users/slegroux/Projects/nimrod/nbs/logs/nnlm/version_25/</span><span style=\"color: #ff00ff; text-decoration-color: #ff00ff\">hparams.yaml</span>     <span style=\"color: #7f7f7f; text-decoration-color: #7f7f7f\">            </span>\n",
       "</pre>\n"
      ],
      "text/plain": [
       "\u001b[2;36m[12/19/24 13:46:25]\u001b[0m\u001b[2;36m \u001b[0m\u001b[32mDEBUG   \u001b[0m \u001b[1;36m2024\u001b[0m-\u001b[1;36m12\u001b[0m-\u001b[1;36m19\u001b[0m \u001b[1;92m13:46:25\u001b[0m,\u001b[1;36m315\u001b[0m - DEBUG - open file:                              \u001b]8;id=909598;file:///Users/slegroux/miniforge3/envs/nimrod/lib/python3.11/site-packages/fsspec/implementations/local.py\u001b\\\u001b[2mlocal.py\u001b[0m\u001b]8;;\u001b\\\u001b[2m:\u001b[0m\u001b]8;id=453604;file:///Users/slegroux/miniforge3/envs/nimrod/lib/python3.11/site-packages/fsspec/implementations/local.py#351\u001b\\\u001b[2m351\u001b[0m\u001b]8;;\u001b\\\n",
       "\u001b[2;36m                    \u001b[0m         \u001b[35m/Users/slegroux/Projects/nimrod/nbs/logs/nnlm/version_25/\u001b[0m\u001b[95mhparams.yaml\u001b[0m     \u001b[2m            \u001b[0m\n"
      ]
     },
     "metadata": {},
     "output_type": "display_data"
    },
    {
     "data": {
      "text/html": [
       "<pre style=\"white-space:pre;overflow-x:auto;line-height:normal;font-family:Menlo,'DejaVu Sans Mono',consolas,'Courier New',monospace\"><span style=\"color: #7fbfbf; text-decoration-color: #7fbfbf\">                    </span><span style=\"color: #008000; text-decoration-color: #008000\">DEBUG   </span> <span style=\"color: #008080; text-decoration-color: #008080; font-weight: bold\">2024</span>-<span style=\"color: #008080; text-decoration-color: #008080; font-weight: bold\">12</span>-<span style=\"color: #008080; text-decoration-color: #008080; font-weight: bold\">19</span> <span style=\"color: #00ff00; text-decoration-color: #00ff00; font-weight: bold\">13:46:25</span>,<span style=\"color: #008080; text-decoration-color: #008080; font-weight: bold\">317</span> - DEBUG - open file:                              <a href=\"file:///Users/slegroux/miniforge3/envs/nimrod/lib/python3.11/site-packages/fsspec/implementations/local.py\" target=\"_blank\"><span style=\"color: #7f7f7f; text-decoration-color: #7f7f7f\">local.py</span></a><span style=\"color: #7f7f7f; text-decoration-color: #7f7f7f\">:</span><a href=\"file:///Users/slegroux/miniforge3/envs/nimrod/lib/python3.11/site-packages/fsspec/implementations/local.py#351\" target=\"_blank\"><span style=\"color: #7f7f7f; text-decoration-color: #7f7f7f\">351</span></a>\n",
       "<span style=\"color: #7fbfbf; text-decoration-color: #7fbfbf\">                    </span>         <span style=\"color: #800080; text-decoration-color: #800080\">/Users/slegroux/Projects/nimrod/nbs/logs/nnlm/version_25/</span><span style=\"color: #ff00ff; text-decoration-color: #ff00ff\">metrics.csv</span>      <span style=\"color: #7f7f7f; text-decoration-color: #7f7f7f\">            </span>\n",
       "</pre>\n"
      ],
      "text/plain": [
       "\u001b[2;36m                   \u001b[0m\u001b[2;36m \u001b[0m\u001b[32mDEBUG   \u001b[0m \u001b[1;36m2024\u001b[0m-\u001b[1;36m12\u001b[0m-\u001b[1;36m19\u001b[0m \u001b[1;92m13:46:25\u001b[0m,\u001b[1;36m317\u001b[0m - DEBUG - open file:                              \u001b]8;id=307211;file:///Users/slegroux/miniforge3/envs/nimrod/lib/python3.11/site-packages/fsspec/implementations/local.py\u001b\\\u001b[2mlocal.py\u001b[0m\u001b]8;;\u001b\\\u001b[2m:\u001b[0m\u001b]8;id=132934;file:///Users/slegroux/miniforge3/envs/nimrod/lib/python3.11/site-packages/fsspec/implementations/local.py#351\u001b\\\u001b[2m351\u001b[0m\u001b]8;;\u001b\\\n",
       "\u001b[2;36m                    \u001b[0m         \u001b[35m/Users/slegroux/Projects/nimrod/nbs/logs/nnlm/version_25/\u001b[0m\u001b[95mmetrics.csv\u001b[0m      \u001b[2m            \u001b[0m\n"
      ]
     },
     "metadata": {},
     "output_type": "display_data"
    },
    {
     "data": {
      "text/html": [
       "<pre style=\"white-space:pre;overflow-x:auto;line-height:normal;font-family:Menlo,'DejaVu Sans Mono',consolas,'Courier New',monospace\"><span style=\"color: #7fbfbf; text-decoration-color: #7fbfbf\">                    </span><span style=\"color: #008000; text-decoration-color: #008000\">DEBUG   </span> <span style=\"color: #008080; text-decoration-color: #008080; font-weight: bold\">2024</span>-<span style=\"color: #008080; text-decoration-color: #008080; font-weight: bold\">12</span>-<span style=\"color: #008080; text-decoration-color: #008080; font-weight: bold\">19</span> <span style=\"color: #00ff00; text-decoration-color: #00ff00; font-weight: bold\">13:46:25</span>,<span style=\"color: #008080; text-decoration-color: #008080; font-weight: bold\">319</span> - DEBUG - open file:                              <a href=\"file:///Users/slegroux/miniforge3/envs/nimrod/lib/python3.11/site-packages/fsspec/implementations/local.py\" target=\"_blank\"><span style=\"color: #7f7f7f; text-decoration-color: #7f7f7f\">local.py</span></a><span style=\"color: #7f7f7f; text-decoration-color: #7f7f7f\">:</span><a href=\"file:///Users/slegroux/miniforge3/envs/nimrod/lib/python3.11/site-packages/fsspec/implementations/local.py#351\" target=\"_blank\"><span style=\"color: #7f7f7f; text-decoration-color: #7f7f7f\">351</span></a>\n",
       "<span style=\"color: #7fbfbf; text-decoration-color: #7fbfbf\">                    </span>         <span style=\"color: #800080; text-decoration-color: #800080\">/Users/slegroux/Projects/nimrod/nbs/logs/nnlm/version_25/</span><span style=\"color: #ff00ff; text-decoration-color: #ff00ff\">hparams.yaml</span>     <span style=\"color: #7f7f7f; text-decoration-color: #7f7f7f\">            </span>\n",
       "</pre>\n"
      ],
      "text/plain": [
       "\u001b[2;36m                   \u001b[0m\u001b[2;36m \u001b[0m\u001b[32mDEBUG   \u001b[0m \u001b[1;36m2024\u001b[0m-\u001b[1;36m12\u001b[0m-\u001b[1;36m19\u001b[0m \u001b[1;92m13:46:25\u001b[0m,\u001b[1;36m319\u001b[0m - DEBUG - open file:                              \u001b]8;id=785354;file:///Users/slegroux/miniforge3/envs/nimrod/lib/python3.11/site-packages/fsspec/implementations/local.py\u001b\\\u001b[2mlocal.py\u001b[0m\u001b]8;;\u001b\\\u001b[2m:\u001b[0m\u001b]8;id=503872;file:///Users/slegroux/miniforge3/envs/nimrod/lib/python3.11/site-packages/fsspec/implementations/local.py#351\u001b\\\u001b[2m351\u001b[0m\u001b]8;;\u001b\\\n",
       "\u001b[2;36m                    \u001b[0m         \u001b[35m/Users/slegroux/Projects/nimrod/nbs/logs/nnlm/version_25/\u001b[0m\u001b[95mhparams.yaml\u001b[0m     \u001b[2m            \u001b[0m\n"
      ]
     },
     "metadata": {},
     "output_type": "display_data"
    },
    {
     "data": {
      "text/html": [
       "<pre style=\"white-space:pre;overflow-x:auto;line-height:normal;font-family:Menlo,'DejaVu Sans Mono',consolas,'Courier New',monospace\"><span style=\"color: #7fbfbf; text-decoration-color: #7fbfbf\">[12/19/24 13:46:26] </span><span style=\"color: #008000; text-decoration-color: #008000\">DEBUG   </span> <span style=\"color: #008080; text-decoration-color: #008080; font-weight: bold\">2024</span>-<span style=\"color: #008080; text-decoration-color: #008080; font-weight: bold\">12</span>-<span style=\"color: #008080; text-decoration-color: #008080; font-weight: bold\">19</span> <span style=\"color: #00ff00; text-decoration-color: #00ff00; font-weight: bold\">13:46:26</span>,<span style=\"color: #008080; text-decoration-color: #008080; font-weight: bold\">764</span> - DEBUG - open file:                              <a href=\"file:///Users/slegroux/miniforge3/envs/nimrod/lib/python3.11/site-packages/fsspec/implementations/local.py\" target=\"_blank\"><span style=\"color: #7f7f7f; text-decoration-color: #7f7f7f\">local.py</span></a><span style=\"color: #7f7f7f; text-decoration-color: #7f7f7f\">:</span><a href=\"file:///Users/slegroux/miniforge3/envs/nimrod/lib/python3.11/site-packages/fsspec/implementations/local.py#351\" target=\"_blank\"><span style=\"color: #7f7f7f; text-decoration-color: #7f7f7f\">351</span></a>\n",
       "<span style=\"color: #7fbfbf; text-decoration-color: #7fbfbf\">                    </span>         <span style=\"color: #800080; text-decoration-color: #800080\">/Users/slegroux/Projects/nimrod/nbs/logs/nnlm/version_25/</span><span style=\"color: #ff00ff; text-decoration-color: #ff00ff\">hparams.yaml</span>     <span style=\"color: #7f7f7f; text-decoration-color: #7f7f7f\">            </span>\n",
       "</pre>\n"
      ],
      "text/plain": [
       "\u001b[2;36m[12/19/24 13:46:26]\u001b[0m\u001b[2;36m \u001b[0m\u001b[32mDEBUG   \u001b[0m \u001b[1;36m2024\u001b[0m-\u001b[1;36m12\u001b[0m-\u001b[1;36m19\u001b[0m \u001b[1;92m13:46:26\u001b[0m,\u001b[1;36m764\u001b[0m - DEBUG - open file:                              \u001b]8;id=990632;file:///Users/slegroux/miniforge3/envs/nimrod/lib/python3.11/site-packages/fsspec/implementations/local.py\u001b\\\u001b[2mlocal.py\u001b[0m\u001b]8;;\u001b\\\u001b[2m:\u001b[0m\u001b]8;id=567886;file:///Users/slegroux/miniforge3/envs/nimrod/lib/python3.11/site-packages/fsspec/implementations/local.py#351\u001b\\\u001b[2m351\u001b[0m\u001b]8;;\u001b\\\n",
       "\u001b[2;36m                    \u001b[0m         \u001b[35m/Users/slegroux/Projects/nimrod/nbs/logs/nnlm/version_25/\u001b[0m\u001b[95mhparams.yaml\u001b[0m     \u001b[2m            \u001b[0m\n"
      ]
     },
     "metadata": {},
     "output_type": "display_data"
    },
    {
     "data": {
      "text/html": [
       "<pre style=\"white-space:pre;overflow-x:auto;line-height:normal;font-family:Menlo,'DejaVu Sans Mono',consolas,'Courier New',monospace\"><span style=\"color: #7fbfbf; text-decoration-color: #7fbfbf\">                    </span><span style=\"color: #008000; text-decoration-color: #008000\">DEBUG   </span> <span style=\"color: #008080; text-decoration-color: #008080; font-weight: bold\">2024</span>-<span style=\"color: #008080; text-decoration-color: #008080; font-weight: bold\">12</span>-<span style=\"color: #008080; text-decoration-color: #008080; font-weight: bold\">19</span> <span style=\"color: #00ff00; text-decoration-color: #00ff00; font-weight: bold\">13:46:26</span>,<span style=\"color: #008080; text-decoration-color: #008080; font-weight: bold\">766</span> - DEBUG - open file:                              <a href=\"file:///Users/slegroux/miniforge3/envs/nimrod/lib/python3.11/site-packages/fsspec/implementations/local.py\" target=\"_blank\"><span style=\"color: #7f7f7f; text-decoration-color: #7f7f7f\">local.py</span></a><span style=\"color: #7f7f7f; text-decoration-color: #7f7f7f\">:</span><a href=\"file:///Users/slegroux/miniforge3/envs/nimrod/lib/python3.11/site-packages/fsspec/implementations/local.py#351\" target=\"_blank\"><span style=\"color: #7f7f7f; text-decoration-color: #7f7f7f\">351</span></a>\n",
       "<span style=\"color: #7fbfbf; text-decoration-color: #7fbfbf\">                    </span>         <span style=\"color: #800080; text-decoration-color: #800080\">/Users/slegroux/Projects/nimrod/nbs/logs/nnlm/version_25/</span><span style=\"color: #ff00ff; text-decoration-color: #ff00ff\">metrics.csv</span>      <span style=\"color: #7f7f7f; text-decoration-color: #7f7f7f\">            </span>\n",
       "</pre>\n"
      ],
      "text/plain": [
       "\u001b[2;36m                   \u001b[0m\u001b[2;36m \u001b[0m\u001b[32mDEBUG   \u001b[0m \u001b[1;36m2024\u001b[0m-\u001b[1;36m12\u001b[0m-\u001b[1;36m19\u001b[0m \u001b[1;92m13:46:26\u001b[0m,\u001b[1;36m766\u001b[0m - DEBUG - open file:                              \u001b]8;id=195195;file:///Users/slegroux/miniforge3/envs/nimrod/lib/python3.11/site-packages/fsspec/implementations/local.py\u001b\\\u001b[2mlocal.py\u001b[0m\u001b]8;;\u001b\\\u001b[2m:\u001b[0m\u001b]8;id=494087;file:///Users/slegroux/miniforge3/envs/nimrod/lib/python3.11/site-packages/fsspec/implementations/local.py#351\u001b\\\u001b[2m351\u001b[0m\u001b]8;;\u001b\\\n",
       "\u001b[2;36m                    \u001b[0m         \u001b[35m/Users/slegroux/Projects/nimrod/nbs/logs/nnlm/version_25/\u001b[0m\u001b[95mmetrics.csv\u001b[0m      \u001b[2m            \u001b[0m\n"
      ]
     },
     "metadata": {},
     "output_type": "display_data"
    },
    {
     "data": {
      "text/html": [
       "<pre style=\"white-space:pre;overflow-x:auto;line-height:normal;font-family:Menlo,'DejaVu Sans Mono',consolas,'Courier New',monospace\"><span style=\"color: #7fbfbf; text-decoration-color: #7fbfbf\">[12/19/24 13:46:28] </span><span style=\"color: #008000; text-decoration-color: #008000\">DEBUG   </span> <span style=\"color: #008080; text-decoration-color: #008080; font-weight: bold\">2024</span>-<span style=\"color: #008080; text-decoration-color: #008080; font-weight: bold\">12</span>-<span style=\"color: #008080; text-decoration-color: #008080; font-weight: bold\">19</span> <span style=\"color: #00ff00; text-decoration-color: #00ff00; font-weight: bold\">13:46:28</span>,<span style=\"color: #008080; text-decoration-color: #008080; font-weight: bold\">020</span> - DEBUG - open file:                              <a href=\"file:///Users/slegroux/miniforge3/envs/nimrod/lib/python3.11/site-packages/fsspec/implementations/local.py\" target=\"_blank\"><span style=\"color: #7f7f7f; text-decoration-color: #7f7f7f\">local.py</span></a><span style=\"color: #7f7f7f; text-decoration-color: #7f7f7f\">:</span><a href=\"file:///Users/slegroux/miniforge3/envs/nimrod/lib/python3.11/site-packages/fsspec/implementations/local.py#351\" target=\"_blank\"><span style=\"color: #7f7f7f; text-decoration-color: #7f7f7f\">351</span></a>\n",
       "<span style=\"color: #7fbfbf; text-decoration-color: #7fbfbf\">                    </span>         <span style=\"color: #800080; text-decoration-color: #800080\">/Users/slegroux/Projects/nimrod/nbs/logs/nnlm/version_25/</span><span style=\"color: #ff00ff; text-decoration-color: #ff00ff\">hparams.yaml</span>     <span style=\"color: #7f7f7f; text-decoration-color: #7f7f7f\">            </span>\n",
       "</pre>\n"
      ],
      "text/plain": [
       "\u001b[2;36m[12/19/24 13:46:28]\u001b[0m\u001b[2;36m \u001b[0m\u001b[32mDEBUG   \u001b[0m \u001b[1;36m2024\u001b[0m-\u001b[1;36m12\u001b[0m-\u001b[1;36m19\u001b[0m \u001b[1;92m13:46:28\u001b[0m,\u001b[1;36m020\u001b[0m - DEBUG - open file:                              \u001b]8;id=397115;file:///Users/slegroux/miniforge3/envs/nimrod/lib/python3.11/site-packages/fsspec/implementations/local.py\u001b\\\u001b[2mlocal.py\u001b[0m\u001b]8;;\u001b\\\u001b[2m:\u001b[0m\u001b]8;id=30471;file:///Users/slegroux/miniforge3/envs/nimrod/lib/python3.11/site-packages/fsspec/implementations/local.py#351\u001b\\\u001b[2m351\u001b[0m\u001b]8;;\u001b\\\n",
       "\u001b[2;36m                    \u001b[0m         \u001b[35m/Users/slegroux/Projects/nimrod/nbs/logs/nnlm/version_25/\u001b[0m\u001b[95mhparams.yaml\u001b[0m     \u001b[2m            \u001b[0m\n"
      ]
     },
     "metadata": {},
     "output_type": "display_data"
    },
    {
     "data": {
      "text/html": [
       "<pre style=\"white-space:pre;overflow-x:auto;line-height:normal;font-family:Menlo,'DejaVu Sans Mono',consolas,'Courier New',monospace\"><span style=\"color: #7fbfbf; text-decoration-color: #7fbfbf\">                    </span><span style=\"color: #008000; text-decoration-color: #008000\">DEBUG   </span> <span style=\"color: #008080; text-decoration-color: #008080; font-weight: bold\">2024</span>-<span style=\"color: #008080; text-decoration-color: #008080; font-weight: bold\">12</span>-<span style=\"color: #008080; text-decoration-color: #008080; font-weight: bold\">19</span> <span style=\"color: #00ff00; text-decoration-color: #00ff00; font-weight: bold\">13:46:28</span>,<span style=\"color: #008080; text-decoration-color: #008080; font-weight: bold\">022</span> - DEBUG - open file:                              <a href=\"file:///Users/slegroux/miniforge3/envs/nimrod/lib/python3.11/site-packages/fsspec/implementations/local.py\" target=\"_blank\"><span style=\"color: #7f7f7f; text-decoration-color: #7f7f7f\">local.py</span></a><span style=\"color: #7f7f7f; text-decoration-color: #7f7f7f\">:</span><a href=\"file:///Users/slegroux/miniforge3/envs/nimrod/lib/python3.11/site-packages/fsspec/implementations/local.py#351\" target=\"_blank\"><span style=\"color: #7f7f7f; text-decoration-color: #7f7f7f\">351</span></a>\n",
       "<span style=\"color: #7fbfbf; text-decoration-color: #7fbfbf\">                    </span>         <span style=\"color: #800080; text-decoration-color: #800080\">/Users/slegroux/Projects/nimrod/nbs/logs/nnlm/version_25/</span><span style=\"color: #ff00ff; text-decoration-color: #ff00ff\">metrics.csv</span>      <span style=\"color: #7f7f7f; text-decoration-color: #7f7f7f\">            </span>\n",
       "</pre>\n"
      ],
      "text/plain": [
       "\u001b[2;36m                   \u001b[0m\u001b[2;36m \u001b[0m\u001b[32mDEBUG   \u001b[0m \u001b[1;36m2024\u001b[0m-\u001b[1;36m12\u001b[0m-\u001b[1;36m19\u001b[0m \u001b[1;92m13:46:28\u001b[0m,\u001b[1;36m022\u001b[0m - DEBUG - open file:                              \u001b]8;id=530389;file:///Users/slegroux/miniforge3/envs/nimrod/lib/python3.11/site-packages/fsspec/implementations/local.py\u001b\\\u001b[2mlocal.py\u001b[0m\u001b]8;;\u001b\\\u001b[2m:\u001b[0m\u001b]8;id=957107;file:///Users/slegroux/miniforge3/envs/nimrod/lib/python3.11/site-packages/fsspec/implementations/local.py#351\u001b\\\u001b[2m351\u001b[0m\u001b]8;;\u001b\\\n",
       "\u001b[2;36m                    \u001b[0m         \u001b[35m/Users/slegroux/Projects/nimrod/nbs/logs/nnlm/version_25/\u001b[0m\u001b[95mmetrics.csv\u001b[0m      \u001b[2m            \u001b[0m\n"
      ]
     },
     "metadata": {},
     "output_type": "display_data"
    },
    {
     "data": {
      "text/html": [
       "<pre style=\"white-space:pre;overflow-x:auto;line-height:normal;font-family:Menlo,'DejaVu Sans Mono',consolas,'Courier New',monospace\"><span style=\"color: #7fbfbf; text-decoration-color: #7fbfbf\">                    </span><span style=\"color: #008000; text-decoration-color: #008000\">DEBUG   </span> <span style=\"color: #008080; text-decoration-color: #008080; font-weight: bold\">2024</span>-<span style=\"color: #008080; text-decoration-color: #008080; font-weight: bold\">12</span>-<span style=\"color: #008080; text-decoration-color: #008080; font-weight: bold\">19</span> <span style=\"color: #00ff00; text-decoration-color: #00ff00; font-weight: bold\">13:46:28</span>,<span style=\"color: #008080; text-decoration-color: #008080; font-weight: bold\">024</span> - DEBUG - open file:                              <a href=\"file:///Users/slegroux/miniforge3/envs/nimrod/lib/python3.11/site-packages/fsspec/implementations/local.py\" target=\"_blank\"><span style=\"color: #7f7f7f; text-decoration-color: #7f7f7f\">local.py</span></a><span style=\"color: #7f7f7f; text-decoration-color: #7f7f7f\">:</span><a href=\"file:///Users/slegroux/miniforge3/envs/nimrod/lib/python3.11/site-packages/fsspec/implementations/local.py#351\" target=\"_blank\"><span style=\"color: #7f7f7f; text-decoration-color: #7f7f7f\">351</span></a>\n",
       "<span style=\"color: #7fbfbf; text-decoration-color: #7fbfbf\">                    </span>         <span style=\"color: #800080; text-decoration-color: #800080\">/Users/slegroux/Projects/nimrod/nbs/logs/nnlm/version_25/</span><span style=\"color: #ff00ff; text-decoration-color: #ff00ff\">hparams.yaml</span>     <span style=\"color: #7f7f7f; text-decoration-color: #7f7f7f\">            </span>\n",
       "</pre>\n"
      ],
      "text/plain": [
       "\u001b[2;36m                   \u001b[0m\u001b[2;36m \u001b[0m\u001b[32mDEBUG   \u001b[0m \u001b[1;36m2024\u001b[0m-\u001b[1;36m12\u001b[0m-\u001b[1;36m19\u001b[0m \u001b[1;92m13:46:28\u001b[0m,\u001b[1;36m024\u001b[0m - DEBUG - open file:                              \u001b]8;id=871536;file:///Users/slegroux/miniforge3/envs/nimrod/lib/python3.11/site-packages/fsspec/implementations/local.py\u001b\\\u001b[2mlocal.py\u001b[0m\u001b]8;;\u001b\\\u001b[2m:\u001b[0m\u001b]8;id=281686;file:///Users/slegroux/miniforge3/envs/nimrod/lib/python3.11/site-packages/fsspec/implementations/local.py#351\u001b\\\u001b[2m351\u001b[0m\u001b]8;;\u001b\\\n",
       "\u001b[2;36m                    \u001b[0m         \u001b[35m/Users/slegroux/Projects/nimrod/nbs/logs/nnlm/version_25/\u001b[0m\u001b[95mhparams.yaml\u001b[0m     \u001b[2m            \u001b[0m\n"
      ]
     },
     "metadata": {},
     "output_type": "display_data"
    },
    {
     "data": {
      "text/html": [
       "<pre style=\"white-space:pre;overflow-x:auto;line-height:normal;font-family:Menlo,'DejaVu Sans Mono',consolas,'Courier New',monospace\"><span style=\"color: #7fbfbf; text-decoration-color: #7fbfbf\">[12/19/24 13:46:29] </span><span style=\"color: #008000; text-decoration-color: #008000\">DEBUG   </span> <span style=\"color: #008080; text-decoration-color: #008080; font-weight: bold\">2024</span>-<span style=\"color: #008080; text-decoration-color: #008080; font-weight: bold\">12</span>-<span style=\"color: #008080; text-decoration-color: #008080; font-weight: bold\">19</span> <span style=\"color: #00ff00; text-decoration-color: #00ff00; font-weight: bold\">13:46:29</span>,<span style=\"color: #008080; text-decoration-color: #008080; font-weight: bold\">412</span> - DEBUG - open file:                              <a href=\"file:///Users/slegroux/miniforge3/envs/nimrod/lib/python3.11/site-packages/fsspec/implementations/local.py\" target=\"_blank\"><span style=\"color: #7f7f7f; text-decoration-color: #7f7f7f\">local.py</span></a><span style=\"color: #7f7f7f; text-decoration-color: #7f7f7f\">:</span><a href=\"file:///Users/slegroux/miniforge3/envs/nimrod/lib/python3.11/site-packages/fsspec/implementations/local.py#351\" target=\"_blank\"><span style=\"color: #7f7f7f; text-decoration-color: #7f7f7f\">351</span></a>\n",
       "<span style=\"color: #7fbfbf; text-decoration-color: #7fbfbf\">                    </span>         <span style=\"color: #800080; text-decoration-color: #800080\">/Users/slegroux/Projects/nimrod/nbs/logs/nnlm/version_25/</span><span style=\"color: #ff00ff; text-decoration-color: #ff00ff\">hparams.yaml</span>     <span style=\"color: #7f7f7f; text-decoration-color: #7f7f7f\">            </span>\n",
       "</pre>\n"
      ],
      "text/plain": [
       "\u001b[2;36m[12/19/24 13:46:29]\u001b[0m\u001b[2;36m \u001b[0m\u001b[32mDEBUG   \u001b[0m \u001b[1;36m2024\u001b[0m-\u001b[1;36m12\u001b[0m-\u001b[1;36m19\u001b[0m \u001b[1;92m13:46:29\u001b[0m,\u001b[1;36m412\u001b[0m - DEBUG - open file:                              \u001b]8;id=426455;file:///Users/slegroux/miniforge3/envs/nimrod/lib/python3.11/site-packages/fsspec/implementations/local.py\u001b\\\u001b[2mlocal.py\u001b[0m\u001b]8;;\u001b\\\u001b[2m:\u001b[0m\u001b]8;id=190837;file:///Users/slegroux/miniforge3/envs/nimrod/lib/python3.11/site-packages/fsspec/implementations/local.py#351\u001b\\\u001b[2m351\u001b[0m\u001b]8;;\u001b\\\n",
       "\u001b[2;36m                    \u001b[0m         \u001b[35m/Users/slegroux/Projects/nimrod/nbs/logs/nnlm/version_25/\u001b[0m\u001b[95mhparams.yaml\u001b[0m     \u001b[2m            \u001b[0m\n"
      ]
     },
     "metadata": {},
     "output_type": "display_data"
    },
    {
     "data": {
      "text/html": [
       "<pre style=\"white-space:pre;overflow-x:auto;line-height:normal;font-family:Menlo,'DejaVu Sans Mono',consolas,'Courier New',monospace\"><span style=\"color: #7fbfbf; text-decoration-color: #7fbfbf\">                    </span><span style=\"color: #008000; text-decoration-color: #008000\">DEBUG   </span> <span style=\"color: #008080; text-decoration-color: #008080; font-weight: bold\">2024</span>-<span style=\"color: #008080; text-decoration-color: #008080; font-weight: bold\">12</span>-<span style=\"color: #008080; text-decoration-color: #008080; font-weight: bold\">19</span> <span style=\"color: #00ff00; text-decoration-color: #00ff00; font-weight: bold\">13:46:29</span>,<span style=\"color: #008080; text-decoration-color: #008080; font-weight: bold\">416</span> - DEBUG - open file:                              <a href=\"file:///Users/slegroux/miniforge3/envs/nimrod/lib/python3.11/site-packages/fsspec/implementations/local.py\" target=\"_blank\"><span style=\"color: #7f7f7f; text-decoration-color: #7f7f7f\">local.py</span></a><span style=\"color: #7f7f7f; text-decoration-color: #7f7f7f\">:</span><a href=\"file:///Users/slegroux/miniforge3/envs/nimrod/lib/python3.11/site-packages/fsspec/implementations/local.py#351\" target=\"_blank\"><span style=\"color: #7f7f7f; text-decoration-color: #7f7f7f\">351</span></a>\n",
       "<span style=\"color: #7fbfbf; text-decoration-color: #7fbfbf\">                    </span>         <span style=\"color: #800080; text-decoration-color: #800080\">/Users/slegroux/Projects/nimrod/nbs/logs/nnlm/version_25/</span><span style=\"color: #ff00ff; text-decoration-color: #ff00ff\">metrics.csv</span>      <span style=\"color: #7f7f7f; text-decoration-color: #7f7f7f\">            </span>\n",
       "</pre>\n"
      ],
      "text/plain": [
       "\u001b[2;36m                   \u001b[0m\u001b[2;36m \u001b[0m\u001b[32mDEBUG   \u001b[0m \u001b[1;36m2024\u001b[0m-\u001b[1;36m12\u001b[0m-\u001b[1;36m19\u001b[0m \u001b[1;92m13:46:29\u001b[0m,\u001b[1;36m416\u001b[0m - DEBUG - open file:                              \u001b]8;id=232641;file:///Users/slegroux/miniforge3/envs/nimrod/lib/python3.11/site-packages/fsspec/implementations/local.py\u001b\\\u001b[2mlocal.py\u001b[0m\u001b]8;;\u001b\\\u001b[2m:\u001b[0m\u001b]8;id=278879;file:///Users/slegroux/miniforge3/envs/nimrod/lib/python3.11/site-packages/fsspec/implementations/local.py#351\u001b\\\u001b[2m351\u001b[0m\u001b]8;;\u001b\\\n",
       "\u001b[2;36m                    \u001b[0m         \u001b[35m/Users/slegroux/Projects/nimrod/nbs/logs/nnlm/version_25/\u001b[0m\u001b[95mmetrics.csv\u001b[0m      \u001b[2m            \u001b[0m\n"
      ]
     },
     "metadata": {},
     "output_type": "display_data"
    },
    {
     "data": {
      "text/html": [
       "<pre style=\"white-space:pre;overflow-x:auto;line-height:normal;font-family:Menlo,'DejaVu Sans Mono',consolas,'Courier New',monospace\"><span style=\"color: #7fbfbf; text-decoration-color: #7fbfbf\">[12/19/24 13:46:30] </span><span style=\"color: #008000; text-decoration-color: #008000\">DEBUG   </span> <span style=\"color: #008080; text-decoration-color: #008080; font-weight: bold\">2024</span>-<span style=\"color: #008080; text-decoration-color: #008080; font-weight: bold\">12</span>-<span style=\"color: #008080; text-decoration-color: #008080; font-weight: bold\">19</span> <span style=\"color: #00ff00; text-decoration-color: #00ff00; font-weight: bold\">13:46:30</span>,<span style=\"color: #008080; text-decoration-color: #008080; font-weight: bold\">788</span> - DEBUG - open file:                              <a href=\"file:///Users/slegroux/miniforge3/envs/nimrod/lib/python3.11/site-packages/fsspec/implementations/local.py\" target=\"_blank\"><span style=\"color: #7f7f7f; text-decoration-color: #7f7f7f\">local.py</span></a><span style=\"color: #7f7f7f; text-decoration-color: #7f7f7f\">:</span><a href=\"file:///Users/slegroux/miniforge3/envs/nimrod/lib/python3.11/site-packages/fsspec/implementations/local.py#351\" target=\"_blank\"><span style=\"color: #7f7f7f; text-decoration-color: #7f7f7f\">351</span></a>\n",
       "<span style=\"color: #7fbfbf; text-decoration-color: #7fbfbf\">                    </span>         <span style=\"color: #800080; text-decoration-color: #800080\">/Users/slegroux/Projects/nimrod/nbs/logs/nnlm/version_25/</span><span style=\"color: #ff00ff; text-decoration-color: #ff00ff\">hparams.yaml</span>     <span style=\"color: #7f7f7f; text-decoration-color: #7f7f7f\">            </span>\n",
       "</pre>\n"
      ],
      "text/plain": [
       "\u001b[2;36m[12/19/24 13:46:30]\u001b[0m\u001b[2;36m \u001b[0m\u001b[32mDEBUG   \u001b[0m \u001b[1;36m2024\u001b[0m-\u001b[1;36m12\u001b[0m-\u001b[1;36m19\u001b[0m \u001b[1;92m13:46:30\u001b[0m,\u001b[1;36m788\u001b[0m - DEBUG - open file:                              \u001b]8;id=912351;file:///Users/slegroux/miniforge3/envs/nimrod/lib/python3.11/site-packages/fsspec/implementations/local.py\u001b\\\u001b[2mlocal.py\u001b[0m\u001b]8;;\u001b\\\u001b[2m:\u001b[0m\u001b]8;id=791037;file:///Users/slegroux/miniforge3/envs/nimrod/lib/python3.11/site-packages/fsspec/implementations/local.py#351\u001b\\\u001b[2m351\u001b[0m\u001b]8;;\u001b\\\n",
       "\u001b[2;36m                    \u001b[0m         \u001b[35m/Users/slegroux/Projects/nimrod/nbs/logs/nnlm/version_25/\u001b[0m\u001b[95mhparams.yaml\u001b[0m     \u001b[2m            \u001b[0m\n"
      ]
     },
     "metadata": {},
     "output_type": "display_data"
    },
    {
     "data": {
      "text/html": [
       "<pre style=\"white-space:pre;overflow-x:auto;line-height:normal;font-family:Menlo,'DejaVu Sans Mono',consolas,'Courier New',monospace\"><span style=\"color: #7fbfbf; text-decoration-color: #7fbfbf\">                    </span><span style=\"color: #008000; text-decoration-color: #008000\">DEBUG   </span> <span style=\"color: #008080; text-decoration-color: #008080; font-weight: bold\">2024</span>-<span style=\"color: #008080; text-decoration-color: #008080; font-weight: bold\">12</span>-<span style=\"color: #008080; text-decoration-color: #008080; font-weight: bold\">19</span> <span style=\"color: #00ff00; text-decoration-color: #00ff00; font-weight: bold\">13:46:30</span>,<span style=\"color: #008080; text-decoration-color: #008080; font-weight: bold\">790</span> - DEBUG - open file:                              <a href=\"file:///Users/slegroux/miniforge3/envs/nimrod/lib/python3.11/site-packages/fsspec/implementations/local.py\" target=\"_blank\"><span style=\"color: #7f7f7f; text-decoration-color: #7f7f7f\">local.py</span></a><span style=\"color: #7f7f7f; text-decoration-color: #7f7f7f\">:</span><a href=\"file:///Users/slegroux/miniforge3/envs/nimrod/lib/python3.11/site-packages/fsspec/implementations/local.py#351\" target=\"_blank\"><span style=\"color: #7f7f7f; text-decoration-color: #7f7f7f\">351</span></a>\n",
       "<span style=\"color: #7fbfbf; text-decoration-color: #7fbfbf\">                    </span>         <span style=\"color: #800080; text-decoration-color: #800080\">/Users/slegroux/Projects/nimrod/nbs/logs/nnlm/version_25/</span><span style=\"color: #ff00ff; text-decoration-color: #ff00ff\">metrics.csv</span>      <span style=\"color: #7f7f7f; text-decoration-color: #7f7f7f\">            </span>\n",
       "</pre>\n"
      ],
      "text/plain": [
       "\u001b[2;36m                   \u001b[0m\u001b[2;36m \u001b[0m\u001b[32mDEBUG   \u001b[0m \u001b[1;36m2024\u001b[0m-\u001b[1;36m12\u001b[0m-\u001b[1;36m19\u001b[0m \u001b[1;92m13:46:30\u001b[0m,\u001b[1;36m790\u001b[0m - DEBUG - open file:                              \u001b]8;id=503671;file:///Users/slegroux/miniforge3/envs/nimrod/lib/python3.11/site-packages/fsspec/implementations/local.py\u001b\\\u001b[2mlocal.py\u001b[0m\u001b]8;;\u001b\\\u001b[2m:\u001b[0m\u001b]8;id=254508;file:///Users/slegroux/miniforge3/envs/nimrod/lib/python3.11/site-packages/fsspec/implementations/local.py#351\u001b\\\u001b[2m351\u001b[0m\u001b]8;;\u001b\\\n",
       "\u001b[2;36m                    \u001b[0m         \u001b[35m/Users/slegroux/Projects/nimrod/nbs/logs/nnlm/version_25/\u001b[0m\u001b[95mmetrics.csv\u001b[0m      \u001b[2m            \u001b[0m\n"
      ]
     },
     "metadata": {},
     "output_type": "display_data"
    },
    {
     "data": {
      "text/html": [
       "<pre style=\"white-space:pre;overflow-x:auto;line-height:normal;font-family:Menlo,'DejaVu Sans Mono',consolas,'Courier New',monospace\"><span style=\"color: #7fbfbf; text-decoration-color: #7fbfbf\">                    </span><span style=\"color: #008000; text-decoration-color: #008000\">DEBUG   </span> <span style=\"color: #008080; text-decoration-color: #008080; font-weight: bold\">2024</span>-<span style=\"color: #008080; text-decoration-color: #008080; font-weight: bold\">12</span>-<span style=\"color: #008080; text-decoration-color: #008080; font-weight: bold\">19</span> <span style=\"color: #00ff00; text-decoration-color: #00ff00; font-weight: bold\">13:46:30</span>,<span style=\"color: #008080; text-decoration-color: #008080; font-weight: bold\">792</span> - DEBUG - open file:                              <a href=\"file:///Users/slegroux/miniforge3/envs/nimrod/lib/python3.11/site-packages/fsspec/implementations/local.py\" target=\"_blank\"><span style=\"color: #7f7f7f; text-decoration-color: #7f7f7f\">local.py</span></a><span style=\"color: #7f7f7f; text-decoration-color: #7f7f7f\">:</span><a href=\"file:///Users/slegroux/miniforge3/envs/nimrod/lib/python3.11/site-packages/fsspec/implementations/local.py#351\" target=\"_blank\"><span style=\"color: #7f7f7f; text-decoration-color: #7f7f7f\">351</span></a>\n",
       "<span style=\"color: #7fbfbf; text-decoration-color: #7fbfbf\">                    </span>         <span style=\"color: #800080; text-decoration-color: #800080\">/Users/slegroux/Projects/nimrod/nbs/logs/nnlm/version_25/</span><span style=\"color: #ff00ff; text-decoration-color: #ff00ff\">hparams.yaml</span>     <span style=\"color: #7f7f7f; text-decoration-color: #7f7f7f\">            </span>\n",
       "</pre>\n"
      ],
      "text/plain": [
       "\u001b[2;36m                   \u001b[0m\u001b[2;36m \u001b[0m\u001b[32mDEBUG   \u001b[0m \u001b[1;36m2024\u001b[0m-\u001b[1;36m12\u001b[0m-\u001b[1;36m19\u001b[0m \u001b[1;92m13:46:30\u001b[0m,\u001b[1;36m792\u001b[0m - DEBUG - open file:                              \u001b]8;id=202247;file:///Users/slegroux/miniforge3/envs/nimrod/lib/python3.11/site-packages/fsspec/implementations/local.py\u001b\\\u001b[2mlocal.py\u001b[0m\u001b]8;;\u001b\\\u001b[2m:\u001b[0m\u001b]8;id=681966;file:///Users/slegroux/miniforge3/envs/nimrod/lib/python3.11/site-packages/fsspec/implementations/local.py#351\u001b\\\u001b[2m351\u001b[0m\u001b]8;;\u001b\\\n",
       "\u001b[2;36m                    \u001b[0m         \u001b[35m/Users/slegroux/Projects/nimrod/nbs/logs/nnlm/version_25/\u001b[0m\u001b[95mhparams.yaml\u001b[0m     \u001b[2m            \u001b[0m\n"
      ]
     },
     "metadata": {},
     "output_type": "display_data"
    },
    {
     "data": {
      "text/html": [
       "<pre style=\"white-space:pre;overflow-x:auto;line-height:normal;font-family:Menlo,'DejaVu Sans Mono',consolas,'Courier New',monospace\"><span style=\"color: #7fbfbf; text-decoration-color: #7fbfbf\">[12/19/24 13:46:31] </span><span style=\"color: #008000; text-decoration-color: #008000\">DEBUG   </span> <span style=\"color: #008080; text-decoration-color: #008080; font-weight: bold\">2024</span>-<span style=\"color: #008080; text-decoration-color: #008080; font-weight: bold\">12</span>-<span style=\"color: #008080; text-decoration-color: #008080; font-weight: bold\">19</span> <span style=\"color: #00ff00; text-decoration-color: #00ff00; font-weight: bold\">13:46:31</span>,<span style=\"color: #008080; text-decoration-color: #008080; font-weight: bold\">996</span> - DEBUG - open file:                              <a href=\"file:///Users/slegroux/miniforge3/envs/nimrod/lib/python3.11/site-packages/fsspec/implementations/local.py\" target=\"_blank\"><span style=\"color: #7f7f7f; text-decoration-color: #7f7f7f\">local.py</span></a><span style=\"color: #7f7f7f; text-decoration-color: #7f7f7f\">:</span><a href=\"file:///Users/slegroux/miniforge3/envs/nimrod/lib/python3.11/site-packages/fsspec/implementations/local.py#351\" target=\"_blank\"><span style=\"color: #7f7f7f; text-decoration-color: #7f7f7f\">351</span></a>\n",
       "<span style=\"color: #7fbfbf; text-decoration-color: #7fbfbf\">                    </span>         <span style=\"color: #800080; text-decoration-color: #800080\">/Users/slegroux/Projects/nimrod/nbs/logs/nnlm/version_25/</span><span style=\"color: #ff00ff; text-decoration-color: #ff00ff\">hparams.yaml</span>     <span style=\"color: #7f7f7f; text-decoration-color: #7f7f7f\">            </span>\n",
       "</pre>\n"
      ],
      "text/plain": [
       "\u001b[2;36m[12/19/24 13:46:31]\u001b[0m\u001b[2;36m \u001b[0m\u001b[32mDEBUG   \u001b[0m \u001b[1;36m2024\u001b[0m-\u001b[1;36m12\u001b[0m-\u001b[1;36m19\u001b[0m \u001b[1;92m13:46:31\u001b[0m,\u001b[1;36m996\u001b[0m - DEBUG - open file:                              \u001b]8;id=879984;file:///Users/slegroux/miniforge3/envs/nimrod/lib/python3.11/site-packages/fsspec/implementations/local.py\u001b\\\u001b[2mlocal.py\u001b[0m\u001b]8;;\u001b\\\u001b[2m:\u001b[0m\u001b]8;id=474916;file:///Users/slegroux/miniforge3/envs/nimrod/lib/python3.11/site-packages/fsspec/implementations/local.py#351\u001b\\\u001b[2m351\u001b[0m\u001b]8;;\u001b\\\n",
       "\u001b[2;36m                    \u001b[0m         \u001b[35m/Users/slegroux/Projects/nimrod/nbs/logs/nnlm/version_25/\u001b[0m\u001b[95mhparams.yaml\u001b[0m     \u001b[2m            \u001b[0m\n"
      ]
     },
     "metadata": {},
     "output_type": "display_data"
    },
    {
     "data": {
      "text/html": [
       "<pre style=\"white-space:pre;overflow-x:auto;line-height:normal;font-family:Menlo,'DejaVu Sans Mono',consolas,'Courier New',monospace\"><span style=\"color: #7fbfbf; text-decoration-color: #7fbfbf\">[12/19/24 13:46:32] </span><span style=\"color: #008000; text-decoration-color: #008000\">DEBUG   </span> <span style=\"color: #008080; text-decoration-color: #008080; font-weight: bold\">2024</span>-<span style=\"color: #008080; text-decoration-color: #008080; font-weight: bold\">12</span>-<span style=\"color: #008080; text-decoration-color: #008080; font-weight: bold\">19</span> <span style=\"color: #00ff00; text-decoration-color: #00ff00; font-weight: bold\">13:46:32</span>,<span style=\"color: #008080; text-decoration-color: #008080; font-weight: bold\">001</span> - DEBUG - open file:                              <a href=\"file:///Users/slegroux/miniforge3/envs/nimrod/lib/python3.11/site-packages/fsspec/implementations/local.py\" target=\"_blank\"><span style=\"color: #7f7f7f; text-decoration-color: #7f7f7f\">local.py</span></a><span style=\"color: #7f7f7f; text-decoration-color: #7f7f7f\">:</span><a href=\"file:///Users/slegroux/miniforge3/envs/nimrod/lib/python3.11/site-packages/fsspec/implementations/local.py#351\" target=\"_blank\"><span style=\"color: #7f7f7f; text-decoration-color: #7f7f7f\">351</span></a>\n",
       "<span style=\"color: #7fbfbf; text-decoration-color: #7fbfbf\">                    </span>         <span style=\"color: #800080; text-decoration-color: #800080\">/Users/slegroux/Projects/nimrod/nbs/logs/nnlm/version_25/</span><span style=\"color: #ff00ff; text-decoration-color: #ff00ff\">metrics.csv</span>      <span style=\"color: #7f7f7f; text-decoration-color: #7f7f7f\">            </span>\n",
       "</pre>\n"
      ],
      "text/plain": [
       "\u001b[2;36m[12/19/24 13:46:32]\u001b[0m\u001b[2;36m \u001b[0m\u001b[32mDEBUG   \u001b[0m \u001b[1;36m2024\u001b[0m-\u001b[1;36m12\u001b[0m-\u001b[1;36m19\u001b[0m \u001b[1;92m13:46:32\u001b[0m,\u001b[1;36m001\u001b[0m - DEBUG - open file:                              \u001b]8;id=38326;file:///Users/slegroux/miniforge3/envs/nimrod/lib/python3.11/site-packages/fsspec/implementations/local.py\u001b\\\u001b[2mlocal.py\u001b[0m\u001b]8;;\u001b\\\u001b[2m:\u001b[0m\u001b]8;id=58651;file:///Users/slegroux/miniforge3/envs/nimrod/lib/python3.11/site-packages/fsspec/implementations/local.py#351\u001b\\\u001b[2m351\u001b[0m\u001b]8;;\u001b\\\n",
       "\u001b[2;36m                    \u001b[0m         \u001b[35m/Users/slegroux/Projects/nimrod/nbs/logs/nnlm/version_25/\u001b[0m\u001b[95mmetrics.csv\u001b[0m      \u001b[2m            \u001b[0m\n"
      ]
     },
     "metadata": {},
     "output_type": "display_data"
    },
    {
     "data": {
      "text/html": [
       "<pre style=\"white-space:pre;overflow-x:auto;line-height:normal;font-family:Menlo,'DejaVu Sans Mono',consolas,'Courier New',monospace\"><span style=\"color: #7fbfbf; text-decoration-color: #7fbfbf\">[12/19/24 13:46:33] </span><span style=\"color: #008000; text-decoration-color: #008000\">DEBUG   </span> <span style=\"color: #008080; text-decoration-color: #008080; font-weight: bold\">2024</span>-<span style=\"color: #008080; text-decoration-color: #008080; font-weight: bold\">12</span>-<span style=\"color: #008080; text-decoration-color: #008080; font-weight: bold\">19</span> <span style=\"color: #00ff00; text-decoration-color: #00ff00; font-weight: bold\">13:46:33</span>,<span style=\"color: #008080; text-decoration-color: #008080; font-weight: bold\">372</span> - DEBUG - open file:                              <a href=\"file:///Users/slegroux/miniforge3/envs/nimrod/lib/python3.11/site-packages/fsspec/implementations/local.py\" target=\"_blank\"><span style=\"color: #7f7f7f; text-decoration-color: #7f7f7f\">local.py</span></a><span style=\"color: #7f7f7f; text-decoration-color: #7f7f7f\">:</span><a href=\"file:///Users/slegroux/miniforge3/envs/nimrod/lib/python3.11/site-packages/fsspec/implementations/local.py#351\" target=\"_blank\"><span style=\"color: #7f7f7f; text-decoration-color: #7f7f7f\">351</span></a>\n",
       "<span style=\"color: #7fbfbf; text-decoration-color: #7fbfbf\">                    </span>         <span style=\"color: #800080; text-decoration-color: #800080\">/Users/slegroux/Projects/nimrod/nbs/logs/nnlm/version_25/</span><span style=\"color: #ff00ff; text-decoration-color: #ff00ff\">hparams.yaml</span>     <span style=\"color: #7f7f7f; text-decoration-color: #7f7f7f\">            </span>\n",
       "</pre>\n"
      ],
      "text/plain": [
       "\u001b[2;36m[12/19/24 13:46:33]\u001b[0m\u001b[2;36m \u001b[0m\u001b[32mDEBUG   \u001b[0m \u001b[1;36m2024\u001b[0m-\u001b[1;36m12\u001b[0m-\u001b[1;36m19\u001b[0m \u001b[1;92m13:46:33\u001b[0m,\u001b[1;36m372\u001b[0m - DEBUG - open file:                              \u001b]8;id=556521;file:///Users/slegroux/miniforge3/envs/nimrod/lib/python3.11/site-packages/fsspec/implementations/local.py\u001b\\\u001b[2mlocal.py\u001b[0m\u001b]8;;\u001b\\\u001b[2m:\u001b[0m\u001b]8;id=373767;file:///Users/slegroux/miniforge3/envs/nimrod/lib/python3.11/site-packages/fsspec/implementations/local.py#351\u001b\\\u001b[2m351\u001b[0m\u001b]8;;\u001b\\\n",
       "\u001b[2;36m                    \u001b[0m         \u001b[35m/Users/slegroux/Projects/nimrod/nbs/logs/nnlm/version_25/\u001b[0m\u001b[95mhparams.yaml\u001b[0m     \u001b[2m            \u001b[0m\n"
      ]
     },
     "metadata": {},
     "output_type": "display_data"
    },
    {
     "data": {
      "text/html": [
       "<pre style=\"white-space:pre;overflow-x:auto;line-height:normal;font-family:Menlo,'DejaVu Sans Mono',consolas,'Courier New',monospace\"><span style=\"color: #7fbfbf; text-decoration-color: #7fbfbf\">                    </span><span style=\"color: #008000; text-decoration-color: #008000\">DEBUG   </span> <span style=\"color: #008080; text-decoration-color: #008080; font-weight: bold\">2024</span>-<span style=\"color: #008080; text-decoration-color: #008080; font-weight: bold\">12</span>-<span style=\"color: #008080; text-decoration-color: #008080; font-weight: bold\">19</span> <span style=\"color: #00ff00; text-decoration-color: #00ff00; font-weight: bold\">13:46:33</span>,<span style=\"color: #008080; text-decoration-color: #008080; font-weight: bold\">374</span> - DEBUG - open file:                              <a href=\"file:///Users/slegroux/miniforge3/envs/nimrod/lib/python3.11/site-packages/fsspec/implementations/local.py\" target=\"_blank\"><span style=\"color: #7f7f7f; text-decoration-color: #7f7f7f\">local.py</span></a><span style=\"color: #7f7f7f; text-decoration-color: #7f7f7f\">:</span><a href=\"file:///Users/slegroux/miniforge3/envs/nimrod/lib/python3.11/site-packages/fsspec/implementations/local.py#351\" target=\"_blank\"><span style=\"color: #7f7f7f; text-decoration-color: #7f7f7f\">351</span></a>\n",
       "<span style=\"color: #7fbfbf; text-decoration-color: #7fbfbf\">                    </span>         <span style=\"color: #800080; text-decoration-color: #800080\">/Users/slegroux/Projects/nimrod/nbs/logs/nnlm/version_25/</span><span style=\"color: #ff00ff; text-decoration-color: #ff00ff\">metrics.csv</span>      <span style=\"color: #7f7f7f; text-decoration-color: #7f7f7f\">            </span>\n",
       "</pre>\n"
      ],
      "text/plain": [
       "\u001b[2;36m                   \u001b[0m\u001b[2;36m \u001b[0m\u001b[32mDEBUG   \u001b[0m \u001b[1;36m2024\u001b[0m-\u001b[1;36m12\u001b[0m-\u001b[1;36m19\u001b[0m \u001b[1;92m13:46:33\u001b[0m,\u001b[1;36m374\u001b[0m - DEBUG - open file:                              \u001b]8;id=63853;file:///Users/slegroux/miniforge3/envs/nimrod/lib/python3.11/site-packages/fsspec/implementations/local.py\u001b\\\u001b[2mlocal.py\u001b[0m\u001b]8;;\u001b\\\u001b[2m:\u001b[0m\u001b]8;id=987253;file:///Users/slegroux/miniforge3/envs/nimrod/lib/python3.11/site-packages/fsspec/implementations/local.py#351\u001b\\\u001b[2m351\u001b[0m\u001b]8;;\u001b\\\n",
       "\u001b[2;36m                    \u001b[0m         \u001b[35m/Users/slegroux/Projects/nimrod/nbs/logs/nnlm/version_25/\u001b[0m\u001b[95mmetrics.csv\u001b[0m      \u001b[2m            \u001b[0m\n"
      ]
     },
     "metadata": {},
     "output_type": "display_data"
    },
    {
     "data": {
      "text/html": [
       "<pre style=\"white-space:pre;overflow-x:auto;line-height:normal;font-family:Menlo,'DejaVu Sans Mono',consolas,'Courier New',monospace\"><span style=\"color: #7fbfbf; text-decoration-color: #7fbfbf\">                    </span><span style=\"color: #008000; text-decoration-color: #008000\">DEBUG   </span> <span style=\"color: #008080; text-decoration-color: #008080; font-weight: bold\">2024</span>-<span style=\"color: #008080; text-decoration-color: #008080; font-weight: bold\">12</span>-<span style=\"color: #008080; text-decoration-color: #008080; font-weight: bold\">19</span> <span style=\"color: #00ff00; text-decoration-color: #00ff00; font-weight: bold\">13:46:33</span>,<span style=\"color: #008080; text-decoration-color: #008080; font-weight: bold\">376</span> - DEBUG - open file:                              <a href=\"file:///Users/slegroux/miniforge3/envs/nimrod/lib/python3.11/site-packages/fsspec/implementations/local.py\" target=\"_blank\"><span style=\"color: #7f7f7f; text-decoration-color: #7f7f7f\">local.py</span></a><span style=\"color: #7f7f7f; text-decoration-color: #7f7f7f\">:</span><a href=\"file:///Users/slegroux/miniforge3/envs/nimrod/lib/python3.11/site-packages/fsspec/implementations/local.py#351\" target=\"_blank\"><span style=\"color: #7f7f7f; text-decoration-color: #7f7f7f\">351</span></a>\n",
       "<span style=\"color: #7fbfbf; text-decoration-color: #7fbfbf\">                    </span>         <span style=\"color: #800080; text-decoration-color: #800080\">/Users/slegroux/Projects/nimrod/nbs/logs/nnlm/version_25/</span><span style=\"color: #ff00ff; text-decoration-color: #ff00ff\">hparams.yaml</span>     <span style=\"color: #7f7f7f; text-decoration-color: #7f7f7f\">            </span>\n",
       "</pre>\n"
      ],
      "text/plain": [
       "\u001b[2;36m                   \u001b[0m\u001b[2;36m \u001b[0m\u001b[32mDEBUG   \u001b[0m \u001b[1;36m2024\u001b[0m-\u001b[1;36m12\u001b[0m-\u001b[1;36m19\u001b[0m \u001b[1;92m13:46:33\u001b[0m,\u001b[1;36m376\u001b[0m - DEBUG - open file:                              \u001b]8;id=781675;file:///Users/slegroux/miniforge3/envs/nimrod/lib/python3.11/site-packages/fsspec/implementations/local.py\u001b\\\u001b[2mlocal.py\u001b[0m\u001b]8;;\u001b\\\u001b[2m:\u001b[0m\u001b]8;id=666924;file:///Users/slegroux/miniforge3/envs/nimrod/lib/python3.11/site-packages/fsspec/implementations/local.py#351\u001b\\\u001b[2m351\u001b[0m\u001b]8;;\u001b\\\n",
       "\u001b[2;36m                    \u001b[0m         \u001b[35m/Users/slegroux/Projects/nimrod/nbs/logs/nnlm/version_25/\u001b[0m\u001b[95mhparams.yaml\u001b[0m     \u001b[2m            \u001b[0m\n"
      ]
     },
     "metadata": {},
     "output_type": "display_data"
    },
    {
     "data": {
      "application/vnd.jupyter.widget-view+json": {
       "model_id": "2d995efc9c554bbba7ceee8caa9154c1",
       "version_major": 2,
       "version_minor": 0
      },
      "text/plain": [
       "Validation: |          | 0/? [00:00<?, ?it/s]"
      ]
     },
     "metadata": {},
     "output_type": "display_data"
    },
    {
     "data": {
      "text/html": [
       "<pre style=\"white-space:pre;overflow-x:auto;line-height:normal;font-family:Menlo,'DejaVu Sans Mono',consolas,'Courier New',monospace\"><span style=\"color: #7fbfbf; text-decoration-color: #7fbfbf\">[12/19/24 13:46:35] </span><span style=\"color: #008000; text-decoration-color: #008000\">DEBUG   </span> <span style=\"color: #008080; text-decoration-color: #008080; font-weight: bold\">2024</span>-<span style=\"color: #008080; text-decoration-color: #008080; font-weight: bold\">12</span>-<span style=\"color: #008080; text-decoration-color: #008080; font-weight: bold\">19</span> <span style=\"color: #00ff00; text-decoration-color: #00ff00; font-weight: bold\">13:46:35</span>,<span style=\"color: #008080; text-decoration-color: #008080; font-weight: bold\">557</span> - DEBUG - open file:                              <a href=\"file:///Users/slegroux/miniforge3/envs/nimrod/lib/python3.11/site-packages/fsspec/implementations/local.py\" target=\"_blank\"><span style=\"color: #7f7f7f; text-decoration-color: #7f7f7f\">local.py</span></a><span style=\"color: #7f7f7f; text-decoration-color: #7f7f7f\">:</span><a href=\"file:///Users/slegroux/miniforge3/envs/nimrod/lib/python3.11/site-packages/fsspec/implementations/local.py#351\" target=\"_blank\"><span style=\"color: #7f7f7f; text-decoration-color: #7f7f7f\">351</span></a>\n",
       "<span style=\"color: #7fbfbf; text-decoration-color: #7fbfbf\">                    </span>         <span style=\"color: #800080; text-decoration-color: #800080\">/Users/slegroux/Projects/nimrod/nbs/logs/nnlm/version_25/</span><span style=\"color: #ff00ff; text-decoration-color: #ff00ff\">hparams.yaml</span>     <span style=\"color: #7f7f7f; text-decoration-color: #7f7f7f\">            </span>\n",
       "</pre>\n"
      ],
      "text/plain": [
       "\u001b[2;36m[12/19/24 13:46:35]\u001b[0m\u001b[2;36m \u001b[0m\u001b[32mDEBUG   \u001b[0m \u001b[1;36m2024\u001b[0m-\u001b[1;36m12\u001b[0m-\u001b[1;36m19\u001b[0m \u001b[1;92m13:46:35\u001b[0m,\u001b[1;36m557\u001b[0m - DEBUG - open file:                              \u001b]8;id=577504;file:///Users/slegroux/miniforge3/envs/nimrod/lib/python3.11/site-packages/fsspec/implementations/local.py\u001b\\\u001b[2mlocal.py\u001b[0m\u001b]8;;\u001b\\\u001b[2m:\u001b[0m\u001b]8;id=361120;file:///Users/slegroux/miniforge3/envs/nimrod/lib/python3.11/site-packages/fsspec/implementations/local.py#351\u001b\\\u001b[2m351\u001b[0m\u001b]8;;\u001b\\\n",
       "\u001b[2;36m                    \u001b[0m         \u001b[35m/Users/slegroux/Projects/nimrod/nbs/logs/nnlm/version_25/\u001b[0m\u001b[95mhparams.yaml\u001b[0m     \u001b[2m            \u001b[0m\n"
      ]
     },
     "metadata": {},
     "output_type": "display_data"
    },
    {
     "data": {
      "text/html": [
       "<pre style=\"white-space:pre;overflow-x:auto;line-height:normal;font-family:Menlo,'DejaVu Sans Mono',consolas,'Courier New',monospace\"><span style=\"color: #7fbfbf; text-decoration-color: #7fbfbf\">                    </span><span style=\"color: #008000; text-decoration-color: #008000\">DEBUG   </span> <span style=\"color: #008080; text-decoration-color: #008080; font-weight: bold\">2024</span>-<span style=\"color: #008080; text-decoration-color: #008080; font-weight: bold\">12</span>-<span style=\"color: #008080; text-decoration-color: #008080; font-weight: bold\">19</span> <span style=\"color: #00ff00; text-decoration-color: #00ff00; font-weight: bold\">13:46:35</span>,<span style=\"color: #008080; text-decoration-color: #008080; font-weight: bold\">562</span> - DEBUG - open file:                              <a href=\"file:///Users/slegroux/miniforge3/envs/nimrod/lib/python3.11/site-packages/fsspec/implementations/local.py\" target=\"_blank\"><span style=\"color: #7f7f7f; text-decoration-color: #7f7f7f\">local.py</span></a><span style=\"color: #7f7f7f; text-decoration-color: #7f7f7f\">:</span><a href=\"file:///Users/slegroux/miniforge3/envs/nimrod/lib/python3.11/site-packages/fsspec/implementations/local.py#351\" target=\"_blank\"><span style=\"color: #7f7f7f; text-decoration-color: #7f7f7f\">351</span></a>\n",
       "<span style=\"color: #7fbfbf; text-decoration-color: #7fbfbf\">                    </span>         <span style=\"color: #800080; text-decoration-color: #800080\">/Users/slegroux/Projects/nimrod/nbs/logs/nnlm/version_25/</span><span style=\"color: #ff00ff; text-decoration-color: #ff00ff\">metrics.csv</span>      <span style=\"color: #7f7f7f; text-decoration-color: #7f7f7f\">            </span>\n",
       "</pre>\n"
      ],
      "text/plain": [
       "\u001b[2;36m                   \u001b[0m\u001b[2;36m \u001b[0m\u001b[32mDEBUG   \u001b[0m \u001b[1;36m2024\u001b[0m-\u001b[1;36m12\u001b[0m-\u001b[1;36m19\u001b[0m \u001b[1;92m13:46:35\u001b[0m,\u001b[1;36m562\u001b[0m - DEBUG - open file:                              \u001b]8;id=967605;file:///Users/slegroux/miniforge3/envs/nimrod/lib/python3.11/site-packages/fsspec/implementations/local.py\u001b\\\u001b[2mlocal.py\u001b[0m\u001b]8;;\u001b\\\u001b[2m:\u001b[0m\u001b]8;id=955881;file:///Users/slegroux/miniforge3/envs/nimrod/lib/python3.11/site-packages/fsspec/implementations/local.py#351\u001b\\\u001b[2m351\u001b[0m\u001b]8;;\u001b\\\n",
       "\u001b[2;36m                    \u001b[0m         \u001b[35m/Users/slegroux/Projects/nimrod/nbs/logs/nnlm/version_25/\u001b[0m\u001b[95mmetrics.csv\u001b[0m      \u001b[2m            \u001b[0m\n"
      ]
     },
     "metadata": {},
     "output_type": "display_data"
    },
    {
     "data": {
      "text/html": [
       "<pre style=\"white-space:pre;overflow-x:auto;line-height:normal;font-family:Menlo,'DejaVu Sans Mono',consolas,'Courier New',monospace\"><span style=\"color: #7fbfbf; text-decoration-color: #7fbfbf\">                    </span><span style=\"color: #008000; text-decoration-color: #008000\">DEBUG   </span> <span style=\"color: #008080; text-decoration-color: #008080; font-weight: bold\">2024</span>-<span style=\"color: #008080; text-decoration-color: #008080; font-weight: bold\">12</span>-<span style=\"color: #008080; text-decoration-color: #008080; font-weight: bold\">19</span> <span style=\"color: #00ff00; text-decoration-color: #00ff00; font-weight: bold\">13:46:35</span>,<span style=\"color: #008080; text-decoration-color: #008080; font-weight: bold\">571</span> - DEBUG - open file:                              <a href=\"file:///Users/slegroux/miniforge3/envs/nimrod/lib/python3.11/site-packages/fsspec/implementations/local.py\" target=\"_blank\"><span style=\"color: #7f7f7f; text-decoration-color: #7f7f7f\">local.py</span></a><span style=\"color: #7f7f7f; text-decoration-color: #7f7f7f\">:</span><a href=\"file:///Users/slegroux/miniforge3/envs/nimrod/lib/python3.11/site-packages/fsspec/implementations/local.py#351\" target=\"_blank\"><span style=\"color: #7f7f7f; text-decoration-color: #7f7f7f\">351</span></a>\n",
       "<span style=\"color: #7fbfbf; text-decoration-color: #7fbfbf\">                    </span>         <span style=\"color: #800080; text-decoration-color: #800080\">/Users/slegroux/Projects/nimrod/nbs/logs/nnlm/version_25/</span><span style=\"color: #ff00ff; text-decoration-color: #ff00ff\">metrics.csv</span>      <span style=\"color: #7f7f7f; text-decoration-color: #7f7f7f\">            </span>\n",
       "</pre>\n"
      ],
      "text/plain": [
       "\u001b[2;36m                   \u001b[0m\u001b[2;36m \u001b[0m\u001b[32mDEBUG   \u001b[0m \u001b[1;36m2024\u001b[0m-\u001b[1;36m12\u001b[0m-\u001b[1;36m19\u001b[0m \u001b[1;92m13:46:35\u001b[0m,\u001b[1;36m571\u001b[0m - DEBUG - open file:                              \u001b]8;id=826969;file:///Users/slegroux/miniforge3/envs/nimrod/lib/python3.11/site-packages/fsspec/implementations/local.py\u001b\\\u001b[2mlocal.py\u001b[0m\u001b]8;;\u001b\\\u001b[2m:\u001b[0m\u001b]8;id=266939;file:///Users/slegroux/miniforge3/envs/nimrod/lib/python3.11/site-packages/fsspec/implementations/local.py#351\u001b\\\u001b[2m351\u001b[0m\u001b]8;;\u001b\\\n",
       "\u001b[2;36m                    \u001b[0m         \u001b[35m/Users/slegroux/Projects/nimrod/nbs/logs/nnlm/version_25/\u001b[0m\u001b[95mmetrics.csv\u001b[0m      \u001b[2m            \u001b[0m\n"
      ]
     },
     "metadata": {},
     "output_type": "display_data"
    },
    {
     "data": {
      "text/html": [
       "<pre style=\"white-space:pre;overflow-x:auto;line-height:normal;font-family:Menlo,'DejaVu Sans Mono',consolas,'Courier New',monospace\"><span style=\"color: #7fbfbf; text-decoration-color: #7fbfbf\">                    </span><span style=\"color: #008000; text-decoration-color: #008000\">DEBUG   </span> <span style=\"color: #008080; text-decoration-color: #008080; font-weight: bold\">2024</span>-<span style=\"color: #008080; text-decoration-color: #008080; font-weight: bold\">12</span>-<span style=\"color: #008080; text-decoration-color: #008080; font-weight: bold\">19</span> <span style=\"color: #00ff00; text-decoration-color: #00ff00; font-weight: bold\">13:46:35</span>,<span style=\"color: #008080; text-decoration-color: #008080; font-weight: bold\">577</span> - DEBUG - open file:                              <a href=\"file:///Users/slegroux/miniforge3/envs/nimrod/lib/python3.11/site-packages/fsspec/implementations/local.py\" target=\"_blank\"><span style=\"color: #7f7f7f; text-decoration-color: #7f7f7f\">local.py</span></a><span style=\"color: #7f7f7f; text-decoration-color: #7f7f7f\">:</span><a href=\"file:///Users/slegroux/miniforge3/envs/nimrod/lib/python3.11/site-packages/fsspec/implementations/local.py#351\" target=\"_blank\"><span style=\"color: #7f7f7f; text-decoration-color: #7f7f7f\">351</span></a>\n",
       "<span style=\"color: #7fbfbf; text-decoration-color: #7fbfbf\">                    </span>         <span style=\"color: #800080; text-decoration-color: #800080\">/Users/slegroux/Projects/nimrod/nbs/logs/nnlm/version_25/</span><span style=\"color: #ff00ff; text-decoration-color: #ff00ff\">metrics.csv</span>      <span style=\"color: #7f7f7f; text-decoration-color: #7f7f7f\">            </span>\n",
       "</pre>\n"
      ],
      "text/plain": [
       "\u001b[2;36m                   \u001b[0m\u001b[2;36m \u001b[0m\u001b[32mDEBUG   \u001b[0m \u001b[1;36m2024\u001b[0m-\u001b[1;36m12\u001b[0m-\u001b[1;36m19\u001b[0m \u001b[1;92m13:46:35\u001b[0m,\u001b[1;36m577\u001b[0m - DEBUG - open file:                              \u001b]8;id=347149;file:///Users/slegroux/miniforge3/envs/nimrod/lib/python3.11/site-packages/fsspec/implementations/local.py\u001b\\\u001b[2mlocal.py\u001b[0m\u001b]8;;\u001b\\\u001b[2m:\u001b[0m\u001b]8;id=358804;file:///Users/slegroux/miniforge3/envs/nimrod/lib/python3.11/site-packages/fsspec/implementations/local.py#351\u001b\\\u001b[2m351\u001b[0m\u001b]8;;\u001b\\\n",
       "\u001b[2;36m                    \u001b[0m         \u001b[35m/Users/slegroux/Projects/nimrod/nbs/logs/nnlm/version_25/\u001b[0m\u001b[95mmetrics.csv\u001b[0m      \u001b[2m            \u001b[0m\n"
      ]
     },
     "metadata": {},
     "output_type": "display_data"
    },
    {
     "data": {
      "text/html": [
       "<pre style=\"white-space:pre;overflow-x:auto;line-height:normal;font-family:Menlo,'DejaVu Sans Mono',consolas,'Courier New',monospace\"><span style=\"color: #7fbfbf; text-decoration-color: #7fbfbf\">                    </span><span style=\"color: #008000; text-decoration-color: #008000\">DEBUG   </span> <span style=\"color: #008080; text-decoration-color: #008080; font-weight: bold\">2024</span>-<span style=\"color: #008080; text-decoration-color: #008080; font-weight: bold\">12</span>-<span style=\"color: #008080; text-decoration-color: #008080; font-weight: bold\">19</span> <span style=\"color: #00ff00; text-decoration-color: #00ff00; font-weight: bold\">13:46:35</span>,<span style=\"color: #008080; text-decoration-color: #008080; font-weight: bold\">606</span> - DEBUG - open file:                              <a href=\"file:///Users/slegroux/miniforge3/envs/nimrod/lib/python3.11/site-packages/fsspec/implementations/local.py\" target=\"_blank\"><span style=\"color: #7f7f7f; text-decoration-color: #7f7f7f\">local.py</span></a><span style=\"color: #7f7f7f; text-decoration-color: #7f7f7f\">:</span><a href=\"file:///Users/slegroux/miniforge3/envs/nimrod/lib/python3.11/site-packages/fsspec/implementations/local.py#351\" target=\"_blank\"><span style=\"color: #7f7f7f; text-decoration-color: #7f7f7f\">351</span></a>\n",
       "<span style=\"color: #7fbfbf; text-decoration-color: #7fbfbf\">                    </span>         <span style=\"color: #800080; text-decoration-color: #800080\">/Users/slegroux/Projects/nimrod/nbs/logs/nnlm/version_25/checkpoints/</span><span style=\"color: #ff00ff; text-decoration-color: #ff00ff\">epoc</span> <span style=\"color: #7f7f7f; text-decoration-color: #7f7f7f\">            </span>\n",
       "<span style=\"color: #7fbfbf; text-decoration-color: #7fbfbf\">                    </span>         <span style=\"color: #ff00ff; text-decoration-color: #ff00ff\">h</span>=<span style=\"color: #008080; text-decoration-color: #008080; font-weight: bold\">0</span>-<span style=\"color: #808000; text-decoration-color: #808000\">step</span>=<span style=\"color: #008080; text-decoration-color: #008080; font-weight: bold\">436.</span>ckpt                                                         <span style=\"color: #7f7f7f; text-decoration-color: #7f7f7f\">            </span>\n",
       "</pre>\n"
      ],
      "text/plain": [
       "\u001b[2;36m                   \u001b[0m\u001b[2;36m \u001b[0m\u001b[32mDEBUG   \u001b[0m \u001b[1;36m2024\u001b[0m-\u001b[1;36m12\u001b[0m-\u001b[1;36m19\u001b[0m \u001b[1;92m13:46:35\u001b[0m,\u001b[1;36m606\u001b[0m - DEBUG - open file:                              \u001b]8;id=546525;file:///Users/slegroux/miniforge3/envs/nimrod/lib/python3.11/site-packages/fsspec/implementations/local.py\u001b\\\u001b[2mlocal.py\u001b[0m\u001b]8;;\u001b\\\u001b[2m:\u001b[0m\u001b]8;id=632953;file:///Users/slegroux/miniforge3/envs/nimrod/lib/python3.11/site-packages/fsspec/implementations/local.py#351\u001b\\\u001b[2m351\u001b[0m\u001b]8;;\u001b\\\n",
       "\u001b[2;36m                    \u001b[0m         \u001b[35m/Users/slegroux/Projects/nimrod/nbs/logs/nnlm/version_25/checkpoints/\u001b[0m\u001b[95mepoc\u001b[0m \u001b[2m            \u001b[0m\n",
       "\u001b[2;36m                    \u001b[0m         \u001b[95mh\u001b[0m=\u001b[1;36m0\u001b[0m-\u001b[33mstep\u001b[0m=\u001b[1;36m436\u001b[0m\u001b[1;36m.\u001b[0mckpt                                                         \u001b[2m            \u001b[0m\n"
      ]
     },
     "metadata": {},
     "output_type": "display_data"
    },
    {
     "data": {
      "text/html": [
       "<pre style=\"white-space:pre;overflow-x:auto;line-height:normal;font-family:Menlo,'DejaVu Sans Mono',consolas,'Courier New',monospace\"><span style=\"color: #7fbfbf; text-decoration-color: #7fbfbf\">                    </span><span style=\"color: #008000; text-decoration-color: #008000\">DEBUG   </span> <span style=\"color: #008080; text-decoration-color: #008080; font-weight: bold\">2024</span>-<span style=\"color: #008080; text-decoration-color: #008080; font-weight: bold\">12</span>-<span style=\"color: #008080; text-decoration-color: #008080; font-weight: bold\">19</span> <span style=\"color: #00ff00; text-decoration-color: #00ff00; font-weight: bold\">13:46:35</span>,<span style=\"color: #008080; text-decoration-color: #008080; font-weight: bold\">613</span> - DEBUG - open file:                              <a href=\"file:///Users/slegroux/miniforge3/envs/nimrod/lib/python3.11/site-packages/fsspec/implementations/local.py\" target=\"_blank\"><span style=\"color: #7f7f7f; text-decoration-color: #7f7f7f\">local.py</span></a><span style=\"color: #7f7f7f; text-decoration-color: #7f7f7f\">:</span><a href=\"file:///Users/slegroux/miniforge3/envs/nimrod/lib/python3.11/site-packages/fsspec/implementations/local.py#351\" target=\"_blank\"><span style=\"color: #7f7f7f; text-decoration-color: #7f7f7f\">351</span></a>\n",
       "<span style=\"color: #7fbfbf; text-decoration-color: #7fbfbf\">                    </span>         <span style=\"color: #800080; text-decoration-color: #800080\">/Users/slegroux/Projects/nimrod/nbs/logs/nnlm/version_25/</span><span style=\"color: #ff00ff; text-decoration-color: #ff00ff\">hparams.yaml</span>     <span style=\"color: #7f7f7f; text-decoration-color: #7f7f7f\">            </span>\n",
       "</pre>\n"
      ],
      "text/plain": [
       "\u001b[2;36m                   \u001b[0m\u001b[2;36m \u001b[0m\u001b[32mDEBUG   \u001b[0m \u001b[1;36m2024\u001b[0m-\u001b[1;36m12\u001b[0m-\u001b[1;36m19\u001b[0m \u001b[1;92m13:46:35\u001b[0m,\u001b[1;36m613\u001b[0m - DEBUG - open file:                              \u001b]8;id=233760;file:///Users/slegroux/miniforge3/envs/nimrod/lib/python3.11/site-packages/fsspec/implementations/local.py\u001b\\\u001b[2mlocal.py\u001b[0m\u001b]8;;\u001b\\\u001b[2m:\u001b[0m\u001b]8;id=606965;file:///Users/slegroux/miniforge3/envs/nimrod/lib/python3.11/site-packages/fsspec/implementations/local.py#351\u001b\\\u001b[2m351\u001b[0m\u001b]8;;\u001b\\\n",
       "\u001b[2;36m                    \u001b[0m         \u001b[35m/Users/slegroux/Projects/nimrod/nbs/logs/nnlm/version_25/\u001b[0m\u001b[95mhparams.yaml\u001b[0m     \u001b[2m            \u001b[0m\n"
      ]
     },
     "metadata": {},
     "output_type": "display_data"
    },
    {
     "data": {
      "text/html": [
       "<pre style=\"white-space:pre;overflow-x:auto;line-height:normal;font-family:Menlo,'DejaVu Sans Mono',consolas,'Courier New',monospace\"><span style=\"color: #7fbfbf; text-decoration-color: #7fbfbf\">                    </span><span style=\"color: #008000; text-decoration-color: #008000\">DEBUG   </span> <span style=\"color: #008080; text-decoration-color: #008080; font-weight: bold\">2024</span>-<span style=\"color: #008080; text-decoration-color: #008080; font-weight: bold\">12</span>-<span style=\"color: #008080; text-decoration-color: #008080; font-weight: bold\">19</span> <span style=\"color: #00ff00; text-decoration-color: #00ff00; font-weight: bold\">13:46:35</span>,<span style=\"color: #008080; text-decoration-color: #008080; font-weight: bold\">617</span> - DEBUG - open file:                              <a href=\"file:///Users/slegroux/miniforge3/envs/nimrod/lib/python3.11/site-packages/fsspec/implementations/local.py\" target=\"_blank\"><span style=\"color: #7f7f7f; text-decoration-color: #7f7f7f\">local.py</span></a><span style=\"color: #7f7f7f; text-decoration-color: #7f7f7f\">:</span><a href=\"file:///Users/slegroux/miniforge3/envs/nimrod/lib/python3.11/site-packages/fsspec/implementations/local.py#351\" target=\"_blank\"><span style=\"color: #7f7f7f; text-decoration-color: #7f7f7f\">351</span></a>\n",
       "<span style=\"color: #7fbfbf; text-decoration-color: #7fbfbf\">                    </span>         <span style=\"color: #800080; text-decoration-color: #800080\">/Users/slegroux/Projects/nimrod/nbs/logs/nnlm/version_25/</span><span style=\"color: #ff00ff; text-decoration-color: #ff00ff\">metrics.csv</span>      <span style=\"color: #7f7f7f; text-decoration-color: #7f7f7f\">            </span>\n",
       "</pre>\n"
      ],
      "text/plain": [
       "\u001b[2;36m                   \u001b[0m\u001b[2;36m \u001b[0m\u001b[32mDEBUG   \u001b[0m \u001b[1;36m2024\u001b[0m-\u001b[1;36m12\u001b[0m-\u001b[1;36m19\u001b[0m \u001b[1;92m13:46:35\u001b[0m,\u001b[1;36m617\u001b[0m - DEBUG - open file:                              \u001b]8;id=480408;file:///Users/slegroux/miniforge3/envs/nimrod/lib/python3.11/site-packages/fsspec/implementations/local.py\u001b\\\u001b[2mlocal.py\u001b[0m\u001b]8;;\u001b\\\u001b[2m:\u001b[0m\u001b]8;id=680776;file:///Users/slegroux/miniforge3/envs/nimrod/lib/python3.11/site-packages/fsspec/implementations/local.py#351\u001b\\\u001b[2m351\u001b[0m\u001b]8;;\u001b\\\n",
       "\u001b[2;36m                    \u001b[0m         \u001b[35m/Users/slegroux/Projects/nimrod/nbs/logs/nnlm/version_25/\u001b[0m\u001b[95mmetrics.csv\u001b[0m      \u001b[2m            \u001b[0m\n"
      ]
     },
     "metadata": {},
     "output_type": "display_data"
    },
    {
     "data": {
      "text/html": [
       "<pre style=\"white-space:pre;overflow-x:auto;line-height:normal;font-family:Menlo,'DejaVu Sans Mono',consolas,'Courier New',monospace\"><span style=\"color: #7fbfbf; text-decoration-color: #7fbfbf\">                    </span><span style=\"color: #008000; text-decoration-color: #008000\">DEBUG   </span> <span style=\"color: #008080; text-decoration-color: #008080; font-weight: bold\">2024</span>-<span style=\"color: #008080; text-decoration-color: #008080; font-weight: bold\">12</span>-<span style=\"color: #008080; text-decoration-color: #008080; font-weight: bold\">19</span> <span style=\"color: #00ff00; text-decoration-color: #00ff00; font-weight: bold\">13:46:35</span>,<span style=\"color: #008080; text-decoration-color: #008080; font-weight: bold\">620</span> - DEBUG - open file:                              <a href=\"file:///Users/slegroux/miniforge3/envs/nimrod/lib/python3.11/site-packages/fsspec/implementations/local.py\" target=\"_blank\"><span style=\"color: #7f7f7f; text-decoration-color: #7f7f7f\">local.py</span></a><span style=\"color: #7f7f7f; text-decoration-color: #7f7f7f\">:</span><a href=\"file:///Users/slegroux/miniforge3/envs/nimrod/lib/python3.11/site-packages/fsspec/implementations/local.py#351\" target=\"_blank\"><span style=\"color: #7f7f7f; text-decoration-color: #7f7f7f\">351</span></a>\n",
       "<span style=\"color: #7fbfbf; text-decoration-color: #7fbfbf\">                    </span>         <span style=\"color: #800080; text-decoration-color: #800080\">/Users/slegroux/Projects/nimrod/nbs/logs/nnlm/version_25/</span><span style=\"color: #ff00ff; text-decoration-color: #ff00ff\">metrics.csv</span>      <span style=\"color: #7f7f7f; text-decoration-color: #7f7f7f\">            </span>\n",
       "</pre>\n"
      ],
      "text/plain": [
       "\u001b[2;36m                   \u001b[0m\u001b[2;36m \u001b[0m\u001b[32mDEBUG   \u001b[0m \u001b[1;36m2024\u001b[0m-\u001b[1;36m12\u001b[0m-\u001b[1;36m19\u001b[0m \u001b[1;92m13:46:35\u001b[0m,\u001b[1;36m620\u001b[0m - DEBUG - open file:                              \u001b]8;id=435755;file:///Users/slegroux/miniforge3/envs/nimrod/lib/python3.11/site-packages/fsspec/implementations/local.py\u001b\\\u001b[2mlocal.py\u001b[0m\u001b]8;;\u001b\\\u001b[2m:\u001b[0m\u001b]8;id=499831;file:///Users/slegroux/miniforge3/envs/nimrod/lib/python3.11/site-packages/fsspec/implementations/local.py#351\u001b\\\u001b[2m351\u001b[0m\u001b]8;;\u001b\\\n",
       "\u001b[2;36m                    \u001b[0m         \u001b[35m/Users/slegroux/Projects/nimrod/nbs/logs/nnlm/version_25/\u001b[0m\u001b[95mmetrics.csv\u001b[0m      \u001b[2m            \u001b[0m\n"
      ]
     },
     "metadata": {},
     "output_type": "display_data"
    },
    {
     "data": {
      "text/html": [
       "<pre style=\"white-space:pre;overflow-x:auto;line-height:normal;font-family:Menlo,'DejaVu Sans Mono',consolas,'Courier New',monospace\"><span style=\"color: #7fbfbf; text-decoration-color: #7fbfbf\">                    </span><span style=\"color: #008000; text-decoration-color: #008000\">DEBUG   </span> <span style=\"color: #008080; text-decoration-color: #008080; font-weight: bold\">2024</span>-<span style=\"color: #008080; text-decoration-color: #008080; font-weight: bold\">12</span>-<span style=\"color: #008080; text-decoration-color: #008080; font-weight: bold\">19</span> <span style=\"color: #00ff00; text-decoration-color: #00ff00; font-weight: bold\">13:46:35</span>,<span style=\"color: #008080; text-decoration-color: #008080; font-weight: bold\">622</span> - DEBUG - open file:                              <a href=\"file:///Users/slegroux/miniforge3/envs/nimrod/lib/python3.11/site-packages/fsspec/implementations/local.py\" target=\"_blank\"><span style=\"color: #7f7f7f; text-decoration-color: #7f7f7f\">local.py</span></a><span style=\"color: #7f7f7f; text-decoration-color: #7f7f7f\">:</span><a href=\"file:///Users/slegroux/miniforge3/envs/nimrod/lib/python3.11/site-packages/fsspec/implementations/local.py#351\" target=\"_blank\"><span style=\"color: #7f7f7f; text-decoration-color: #7f7f7f\">351</span></a>\n",
       "<span style=\"color: #7fbfbf; text-decoration-color: #7fbfbf\">                    </span>         <span style=\"color: #800080; text-decoration-color: #800080\">/Users/slegroux/Projects/nimrod/nbs/logs/nnlm/version_25/</span><span style=\"color: #ff00ff; text-decoration-color: #ff00ff\">metrics.csv</span>      <span style=\"color: #7f7f7f; text-decoration-color: #7f7f7f\">            </span>\n",
       "</pre>\n"
      ],
      "text/plain": [
       "\u001b[2;36m                   \u001b[0m\u001b[2;36m \u001b[0m\u001b[32mDEBUG   \u001b[0m \u001b[1;36m2024\u001b[0m-\u001b[1;36m12\u001b[0m-\u001b[1;36m19\u001b[0m \u001b[1;92m13:46:35\u001b[0m,\u001b[1;36m622\u001b[0m - DEBUG - open file:                              \u001b]8;id=377157;file:///Users/slegroux/miniforge3/envs/nimrod/lib/python3.11/site-packages/fsspec/implementations/local.py\u001b\\\u001b[2mlocal.py\u001b[0m\u001b]8;;\u001b\\\u001b[2m:\u001b[0m\u001b]8;id=827027;file:///Users/slegroux/miniforge3/envs/nimrod/lib/python3.11/site-packages/fsspec/implementations/local.py#351\u001b\\\u001b[2m351\u001b[0m\u001b]8;;\u001b\\\n",
       "\u001b[2;36m                    \u001b[0m         \u001b[35m/Users/slegroux/Projects/nimrod/nbs/logs/nnlm/version_25/\u001b[0m\u001b[95mmetrics.csv\u001b[0m      \u001b[2m            \u001b[0m\n"
      ]
     },
     "metadata": {},
     "output_type": "display_data"
    },
    {
     "data": {
      "text/html": [
       "<pre style=\"white-space:pre;overflow-x:auto;line-height:normal;font-family:Menlo,'DejaVu Sans Mono',consolas,'Courier New',monospace\"><span style=\"color: #7fbfbf; text-decoration-color: #7fbfbf\">[12/19/24 13:46:36] </span><span style=\"color: #008000; text-decoration-color: #008000\">DEBUG   </span> <span style=\"color: #008080; text-decoration-color: #008080; font-weight: bold\">2024</span>-<span style=\"color: #008080; text-decoration-color: #008080; font-weight: bold\">12</span>-<span style=\"color: #008080; text-decoration-color: #008080; font-weight: bold\">19</span> <span style=\"color: #00ff00; text-decoration-color: #00ff00; font-weight: bold\">13:46:36</span>,<span style=\"color: #008080; text-decoration-color: #008080; font-weight: bold\">132</span> - DEBUG - open file:                              <a href=\"file:///Users/slegroux/miniforge3/envs/nimrod/lib/python3.11/site-packages/fsspec/implementations/local.py\" target=\"_blank\"><span style=\"color: #7f7f7f; text-decoration-color: #7f7f7f\">local.py</span></a><span style=\"color: #7f7f7f; text-decoration-color: #7f7f7f\">:</span><a href=\"file:///Users/slegroux/miniforge3/envs/nimrod/lib/python3.11/site-packages/fsspec/implementations/local.py#351\" target=\"_blank\"><span style=\"color: #7f7f7f; text-decoration-color: #7f7f7f\">351</span></a>\n",
       "<span style=\"color: #7fbfbf; text-decoration-color: #7fbfbf\">                    </span>         <span style=\"color: #800080; text-decoration-color: #800080\">/Users/slegroux/Projects/nimrod/nbs/logs/nnlm/version_25/</span><span style=\"color: #ff00ff; text-decoration-color: #ff00ff\">hparams.yaml</span>     <span style=\"color: #7f7f7f; text-decoration-color: #7f7f7f\">            </span>\n",
       "</pre>\n"
      ],
      "text/plain": [
       "\u001b[2;36m[12/19/24 13:46:36]\u001b[0m\u001b[2;36m \u001b[0m\u001b[32mDEBUG   \u001b[0m \u001b[1;36m2024\u001b[0m-\u001b[1;36m12\u001b[0m-\u001b[1;36m19\u001b[0m \u001b[1;92m13:46:36\u001b[0m,\u001b[1;36m132\u001b[0m - DEBUG - open file:                              \u001b]8;id=906207;file:///Users/slegroux/miniforge3/envs/nimrod/lib/python3.11/site-packages/fsspec/implementations/local.py\u001b\\\u001b[2mlocal.py\u001b[0m\u001b]8;;\u001b\\\u001b[2m:\u001b[0m\u001b]8;id=299357;file:///Users/slegroux/miniforge3/envs/nimrod/lib/python3.11/site-packages/fsspec/implementations/local.py#351\u001b\\\u001b[2m351\u001b[0m\u001b]8;;\u001b\\\n",
       "\u001b[2;36m                    \u001b[0m         \u001b[35m/Users/slegroux/Projects/nimrod/nbs/logs/nnlm/version_25/\u001b[0m\u001b[95mhparams.yaml\u001b[0m     \u001b[2m            \u001b[0m\n"
      ]
     },
     "metadata": {},
     "output_type": "display_data"
    },
    {
     "data": {
      "text/html": [
       "<pre style=\"white-space:pre;overflow-x:auto;line-height:normal;font-family:Menlo,'DejaVu Sans Mono',consolas,'Courier New',monospace\"><span style=\"color: #7fbfbf; text-decoration-color: #7fbfbf\">                    </span><span style=\"color: #008000; text-decoration-color: #008000\">DEBUG   </span> <span style=\"color: #008080; text-decoration-color: #008080; font-weight: bold\">2024</span>-<span style=\"color: #008080; text-decoration-color: #008080; font-weight: bold\">12</span>-<span style=\"color: #008080; text-decoration-color: #008080; font-weight: bold\">19</span> <span style=\"color: #00ff00; text-decoration-color: #00ff00; font-weight: bold\">13:46:36</span>,<span style=\"color: #008080; text-decoration-color: #008080; font-weight: bold\">134</span> - DEBUG - open file:                              <a href=\"file:///Users/slegroux/miniforge3/envs/nimrod/lib/python3.11/site-packages/fsspec/implementations/local.py\" target=\"_blank\"><span style=\"color: #7f7f7f; text-decoration-color: #7f7f7f\">local.py</span></a><span style=\"color: #7f7f7f; text-decoration-color: #7f7f7f\">:</span><a href=\"file:///Users/slegroux/miniforge3/envs/nimrod/lib/python3.11/site-packages/fsspec/implementations/local.py#351\" target=\"_blank\"><span style=\"color: #7f7f7f; text-decoration-color: #7f7f7f\">351</span></a>\n",
       "<span style=\"color: #7fbfbf; text-decoration-color: #7fbfbf\">                    </span>         <span style=\"color: #800080; text-decoration-color: #800080\">/Users/slegroux/Projects/nimrod/nbs/logs/nnlm/version_25/</span><span style=\"color: #ff00ff; text-decoration-color: #ff00ff\">metrics.csv</span>      <span style=\"color: #7f7f7f; text-decoration-color: #7f7f7f\">            </span>\n",
       "</pre>\n"
      ],
      "text/plain": [
       "\u001b[2;36m                   \u001b[0m\u001b[2;36m \u001b[0m\u001b[32mDEBUG   \u001b[0m \u001b[1;36m2024\u001b[0m-\u001b[1;36m12\u001b[0m-\u001b[1;36m19\u001b[0m \u001b[1;92m13:46:36\u001b[0m,\u001b[1;36m134\u001b[0m - DEBUG - open file:                              \u001b]8;id=244157;file:///Users/slegroux/miniforge3/envs/nimrod/lib/python3.11/site-packages/fsspec/implementations/local.py\u001b\\\u001b[2mlocal.py\u001b[0m\u001b]8;;\u001b\\\u001b[2m:\u001b[0m\u001b]8;id=553274;file:///Users/slegroux/miniforge3/envs/nimrod/lib/python3.11/site-packages/fsspec/implementations/local.py#351\u001b\\\u001b[2m351\u001b[0m\u001b]8;;\u001b\\\n",
       "\u001b[2;36m                    \u001b[0m         \u001b[35m/Users/slegroux/Projects/nimrod/nbs/logs/nnlm/version_25/\u001b[0m\u001b[95mmetrics.csv\u001b[0m      \u001b[2m            \u001b[0m\n"
      ]
     },
     "metadata": {},
     "output_type": "display_data"
    },
    {
     "data": {
      "text/html": [
       "<pre style=\"white-space:pre;overflow-x:auto;line-height:normal;font-family:Menlo,'DejaVu Sans Mono',consolas,'Courier New',monospace\"><span style=\"color: #7fbfbf; text-decoration-color: #7fbfbf\">[12/19/24 13:46:37] </span><span style=\"color: #008000; text-decoration-color: #008000\">DEBUG   </span> <span style=\"color: #008080; text-decoration-color: #008080; font-weight: bold\">2024</span>-<span style=\"color: #008080; text-decoration-color: #008080; font-weight: bold\">12</span>-<span style=\"color: #008080; text-decoration-color: #008080; font-weight: bold\">19</span> <span style=\"color: #00ff00; text-decoration-color: #00ff00; font-weight: bold\">13:46:37</span>,<span style=\"color: #008080; text-decoration-color: #008080; font-weight: bold\">382</span> - DEBUG - open file:                              <a href=\"file:///Users/slegroux/miniforge3/envs/nimrod/lib/python3.11/site-packages/fsspec/implementations/local.py\" target=\"_blank\"><span style=\"color: #7f7f7f; text-decoration-color: #7f7f7f\">local.py</span></a><span style=\"color: #7f7f7f; text-decoration-color: #7f7f7f\">:</span><a href=\"file:///Users/slegroux/miniforge3/envs/nimrod/lib/python3.11/site-packages/fsspec/implementations/local.py#351\" target=\"_blank\"><span style=\"color: #7f7f7f; text-decoration-color: #7f7f7f\">351</span></a>\n",
       "<span style=\"color: #7fbfbf; text-decoration-color: #7fbfbf\">                    </span>         <span style=\"color: #800080; text-decoration-color: #800080\">/Users/slegroux/Projects/nimrod/nbs/logs/nnlm/version_25/</span><span style=\"color: #ff00ff; text-decoration-color: #ff00ff\">hparams.yaml</span>     <span style=\"color: #7f7f7f; text-decoration-color: #7f7f7f\">            </span>\n",
       "</pre>\n"
      ],
      "text/plain": [
       "\u001b[2;36m[12/19/24 13:46:37]\u001b[0m\u001b[2;36m \u001b[0m\u001b[32mDEBUG   \u001b[0m \u001b[1;36m2024\u001b[0m-\u001b[1;36m12\u001b[0m-\u001b[1;36m19\u001b[0m \u001b[1;92m13:46:37\u001b[0m,\u001b[1;36m382\u001b[0m - DEBUG - open file:                              \u001b]8;id=359944;file:///Users/slegroux/miniforge3/envs/nimrod/lib/python3.11/site-packages/fsspec/implementations/local.py\u001b\\\u001b[2mlocal.py\u001b[0m\u001b]8;;\u001b\\\u001b[2m:\u001b[0m\u001b]8;id=398578;file:///Users/slegroux/miniforge3/envs/nimrod/lib/python3.11/site-packages/fsspec/implementations/local.py#351\u001b\\\u001b[2m351\u001b[0m\u001b]8;;\u001b\\\n",
       "\u001b[2;36m                    \u001b[0m         \u001b[35m/Users/slegroux/Projects/nimrod/nbs/logs/nnlm/version_25/\u001b[0m\u001b[95mhparams.yaml\u001b[0m     \u001b[2m            \u001b[0m\n"
      ]
     },
     "metadata": {},
     "output_type": "display_data"
    },
    {
     "data": {
      "text/html": [
       "<pre style=\"white-space:pre;overflow-x:auto;line-height:normal;font-family:Menlo,'DejaVu Sans Mono',consolas,'Courier New',monospace\"><span style=\"color: #7fbfbf; text-decoration-color: #7fbfbf\">                    </span><span style=\"color: #008000; text-decoration-color: #008000\">DEBUG   </span> <span style=\"color: #008080; text-decoration-color: #008080; font-weight: bold\">2024</span>-<span style=\"color: #008080; text-decoration-color: #008080; font-weight: bold\">12</span>-<span style=\"color: #008080; text-decoration-color: #008080; font-weight: bold\">19</span> <span style=\"color: #00ff00; text-decoration-color: #00ff00; font-weight: bold\">13:46:37</span>,<span style=\"color: #008080; text-decoration-color: #008080; font-weight: bold\">385</span> - DEBUG - open file:                              <a href=\"file:///Users/slegroux/miniforge3/envs/nimrod/lib/python3.11/site-packages/fsspec/implementations/local.py\" target=\"_blank\"><span style=\"color: #7f7f7f; text-decoration-color: #7f7f7f\">local.py</span></a><span style=\"color: #7f7f7f; text-decoration-color: #7f7f7f\">:</span><a href=\"file:///Users/slegroux/miniforge3/envs/nimrod/lib/python3.11/site-packages/fsspec/implementations/local.py#351\" target=\"_blank\"><span style=\"color: #7f7f7f; text-decoration-color: #7f7f7f\">351</span></a>\n",
       "<span style=\"color: #7fbfbf; text-decoration-color: #7fbfbf\">                    </span>         <span style=\"color: #800080; text-decoration-color: #800080\">/Users/slegroux/Projects/nimrod/nbs/logs/nnlm/version_25/</span><span style=\"color: #ff00ff; text-decoration-color: #ff00ff\">metrics.csv</span>      <span style=\"color: #7f7f7f; text-decoration-color: #7f7f7f\">            </span>\n",
       "</pre>\n"
      ],
      "text/plain": [
       "\u001b[2;36m                   \u001b[0m\u001b[2;36m \u001b[0m\u001b[32mDEBUG   \u001b[0m \u001b[1;36m2024\u001b[0m-\u001b[1;36m12\u001b[0m-\u001b[1;36m19\u001b[0m \u001b[1;92m13:46:37\u001b[0m,\u001b[1;36m385\u001b[0m - DEBUG - open file:                              \u001b]8;id=539911;file:///Users/slegroux/miniforge3/envs/nimrod/lib/python3.11/site-packages/fsspec/implementations/local.py\u001b\\\u001b[2mlocal.py\u001b[0m\u001b]8;;\u001b\\\u001b[2m:\u001b[0m\u001b]8;id=703807;file:///Users/slegroux/miniforge3/envs/nimrod/lib/python3.11/site-packages/fsspec/implementations/local.py#351\u001b\\\u001b[2m351\u001b[0m\u001b]8;;\u001b\\\n",
       "\u001b[2;36m                    \u001b[0m         \u001b[35m/Users/slegroux/Projects/nimrod/nbs/logs/nnlm/version_25/\u001b[0m\u001b[95mmetrics.csv\u001b[0m      \u001b[2m            \u001b[0m\n"
      ]
     },
     "metadata": {},
     "output_type": "display_data"
    },
    {
     "data": {
      "text/html": [
       "<pre style=\"white-space:pre;overflow-x:auto;line-height:normal;font-family:Menlo,'DejaVu Sans Mono',consolas,'Courier New',monospace\"><span style=\"color: #7fbfbf; text-decoration-color: #7fbfbf\">                    </span><span style=\"color: #008000; text-decoration-color: #008000\">DEBUG   </span> <span style=\"color: #008080; text-decoration-color: #008080; font-weight: bold\">2024</span>-<span style=\"color: #008080; text-decoration-color: #008080; font-weight: bold\">12</span>-<span style=\"color: #008080; text-decoration-color: #008080; font-weight: bold\">19</span> <span style=\"color: #00ff00; text-decoration-color: #00ff00; font-weight: bold\">13:46:37</span>,<span style=\"color: #008080; text-decoration-color: #008080; font-weight: bold\">386</span> - DEBUG - open file:                              <a href=\"file:///Users/slegroux/miniforge3/envs/nimrod/lib/python3.11/site-packages/fsspec/implementations/local.py\" target=\"_blank\"><span style=\"color: #7f7f7f; text-decoration-color: #7f7f7f\">local.py</span></a><span style=\"color: #7f7f7f; text-decoration-color: #7f7f7f\">:</span><a href=\"file:///Users/slegroux/miniforge3/envs/nimrod/lib/python3.11/site-packages/fsspec/implementations/local.py#351\" target=\"_blank\"><span style=\"color: #7f7f7f; text-decoration-color: #7f7f7f\">351</span></a>\n",
       "<span style=\"color: #7fbfbf; text-decoration-color: #7fbfbf\">                    </span>         <span style=\"color: #800080; text-decoration-color: #800080\">/Users/slegroux/Projects/nimrod/nbs/logs/nnlm/version_25/</span><span style=\"color: #ff00ff; text-decoration-color: #ff00ff\">hparams.yaml</span>     <span style=\"color: #7f7f7f; text-decoration-color: #7f7f7f\">            </span>\n",
       "</pre>\n"
      ],
      "text/plain": [
       "\u001b[2;36m                   \u001b[0m\u001b[2;36m \u001b[0m\u001b[32mDEBUG   \u001b[0m \u001b[1;36m2024\u001b[0m-\u001b[1;36m12\u001b[0m-\u001b[1;36m19\u001b[0m \u001b[1;92m13:46:37\u001b[0m,\u001b[1;36m386\u001b[0m - DEBUG - open file:                              \u001b]8;id=703729;file:///Users/slegroux/miniforge3/envs/nimrod/lib/python3.11/site-packages/fsspec/implementations/local.py\u001b\\\u001b[2mlocal.py\u001b[0m\u001b]8;;\u001b\\\u001b[2m:\u001b[0m\u001b]8;id=452181;file:///Users/slegroux/miniforge3/envs/nimrod/lib/python3.11/site-packages/fsspec/implementations/local.py#351\u001b\\\u001b[2m351\u001b[0m\u001b]8;;\u001b\\\n",
       "\u001b[2;36m                    \u001b[0m         \u001b[35m/Users/slegroux/Projects/nimrod/nbs/logs/nnlm/version_25/\u001b[0m\u001b[95mhparams.yaml\u001b[0m     \u001b[2m            \u001b[0m\n"
      ]
     },
     "metadata": {},
     "output_type": "display_data"
    },
    {
     "data": {
      "text/html": [
       "<pre style=\"white-space:pre;overflow-x:auto;line-height:normal;font-family:Menlo,'DejaVu Sans Mono',consolas,'Courier New',monospace\"><span style=\"color: #7fbfbf; text-decoration-color: #7fbfbf\">[12/19/24 13:46:38] </span><span style=\"color: #008000; text-decoration-color: #008000\">DEBUG   </span> <span style=\"color: #008080; text-decoration-color: #008080; font-weight: bold\">2024</span>-<span style=\"color: #008080; text-decoration-color: #008080; font-weight: bold\">12</span>-<span style=\"color: #008080; text-decoration-color: #008080; font-weight: bold\">19</span> <span style=\"color: #00ff00; text-decoration-color: #00ff00; font-weight: bold\">13:46:38</span>,<span style=\"color: #008080; text-decoration-color: #008080; font-weight: bold\">728</span> - DEBUG - open file:                              <a href=\"file:///Users/slegroux/miniforge3/envs/nimrod/lib/python3.11/site-packages/fsspec/implementations/local.py\" target=\"_blank\"><span style=\"color: #7f7f7f; text-decoration-color: #7f7f7f\">local.py</span></a><span style=\"color: #7f7f7f; text-decoration-color: #7f7f7f\">:</span><a href=\"file:///Users/slegroux/miniforge3/envs/nimrod/lib/python3.11/site-packages/fsspec/implementations/local.py#351\" target=\"_blank\"><span style=\"color: #7f7f7f; text-decoration-color: #7f7f7f\">351</span></a>\n",
       "<span style=\"color: #7fbfbf; text-decoration-color: #7fbfbf\">                    </span>         <span style=\"color: #800080; text-decoration-color: #800080\">/Users/slegroux/Projects/nimrod/nbs/logs/nnlm/version_25/</span><span style=\"color: #ff00ff; text-decoration-color: #ff00ff\">hparams.yaml</span>     <span style=\"color: #7f7f7f; text-decoration-color: #7f7f7f\">            </span>\n",
       "</pre>\n"
      ],
      "text/plain": [
       "\u001b[2;36m[12/19/24 13:46:38]\u001b[0m\u001b[2;36m \u001b[0m\u001b[32mDEBUG   \u001b[0m \u001b[1;36m2024\u001b[0m-\u001b[1;36m12\u001b[0m-\u001b[1;36m19\u001b[0m \u001b[1;92m13:46:38\u001b[0m,\u001b[1;36m728\u001b[0m - DEBUG - open file:                              \u001b]8;id=196516;file:///Users/slegroux/miniforge3/envs/nimrod/lib/python3.11/site-packages/fsspec/implementations/local.py\u001b\\\u001b[2mlocal.py\u001b[0m\u001b]8;;\u001b\\\u001b[2m:\u001b[0m\u001b]8;id=746245;file:///Users/slegroux/miniforge3/envs/nimrod/lib/python3.11/site-packages/fsspec/implementations/local.py#351\u001b\\\u001b[2m351\u001b[0m\u001b]8;;\u001b\\\n",
       "\u001b[2;36m                    \u001b[0m         \u001b[35m/Users/slegroux/Projects/nimrod/nbs/logs/nnlm/version_25/\u001b[0m\u001b[95mhparams.yaml\u001b[0m     \u001b[2m            \u001b[0m\n"
      ]
     },
     "metadata": {},
     "output_type": "display_data"
    },
    {
     "data": {
      "text/html": [
       "<pre style=\"white-space:pre;overflow-x:auto;line-height:normal;font-family:Menlo,'DejaVu Sans Mono',consolas,'Courier New',monospace\"><span style=\"color: #7fbfbf; text-decoration-color: #7fbfbf\">                    </span><span style=\"color: #008000; text-decoration-color: #008000\">DEBUG   </span> <span style=\"color: #008080; text-decoration-color: #008080; font-weight: bold\">2024</span>-<span style=\"color: #008080; text-decoration-color: #008080; font-weight: bold\">12</span>-<span style=\"color: #008080; text-decoration-color: #008080; font-weight: bold\">19</span> <span style=\"color: #00ff00; text-decoration-color: #00ff00; font-weight: bold\">13:46:38</span>,<span style=\"color: #008080; text-decoration-color: #008080; font-weight: bold\">732</span> - DEBUG - open file:                              <a href=\"file:///Users/slegroux/miniforge3/envs/nimrod/lib/python3.11/site-packages/fsspec/implementations/local.py\" target=\"_blank\"><span style=\"color: #7f7f7f; text-decoration-color: #7f7f7f\">local.py</span></a><span style=\"color: #7f7f7f; text-decoration-color: #7f7f7f\">:</span><a href=\"file:///Users/slegroux/miniforge3/envs/nimrod/lib/python3.11/site-packages/fsspec/implementations/local.py#351\" target=\"_blank\"><span style=\"color: #7f7f7f; text-decoration-color: #7f7f7f\">351</span></a>\n",
       "<span style=\"color: #7fbfbf; text-decoration-color: #7fbfbf\">                    </span>         <span style=\"color: #800080; text-decoration-color: #800080\">/Users/slegroux/Projects/nimrod/nbs/logs/nnlm/version_25/</span><span style=\"color: #ff00ff; text-decoration-color: #ff00ff\">metrics.csv</span>      <span style=\"color: #7f7f7f; text-decoration-color: #7f7f7f\">            </span>\n",
       "</pre>\n"
      ],
      "text/plain": [
       "\u001b[2;36m                   \u001b[0m\u001b[2;36m \u001b[0m\u001b[32mDEBUG   \u001b[0m \u001b[1;36m2024\u001b[0m-\u001b[1;36m12\u001b[0m-\u001b[1;36m19\u001b[0m \u001b[1;92m13:46:38\u001b[0m,\u001b[1;36m732\u001b[0m - DEBUG - open file:                              \u001b]8;id=723290;file:///Users/slegroux/miniforge3/envs/nimrod/lib/python3.11/site-packages/fsspec/implementations/local.py\u001b\\\u001b[2mlocal.py\u001b[0m\u001b]8;;\u001b\\\u001b[2m:\u001b[0m\u001b]8;id=170954;file:///Users/slegroux/miniforge3/envs/nimrod/lib/python3.11/site-packages/fsspec/implementations/local.py#351\u001b\\\u001b[2m351\u001b[0m\u001b]8;;\u001b\\\n",
       "\u001b[2;36m                    \u001b[0m         \u001b[35m/Users/slegroux/Projects/nimrod/nbs/logs/nnlm/version_25/\u001b[0m\u001b[95mmetrics.csv\u001b[0m      \u001b[2m            \u001b[0m\n"
      ]
     },
     "metadata": {},
     "output_type": "display_data"
    },
    {
     "data": {
      "text/html": [
       "<pre style=\"white-space:pre;overflow-x:auto;line-height:normal;font-family:Menlo,'DejaVu Sans Mono',consolas,'Courier New',monospace\"><span style=\"color: #7fbfbf; text-decoration-color: #7fbfbf\">[12/19/24 13:46:40] </span><span style=\"color: #008000; text-decoration-color: #008000\">DEBUG   </span> <span style=\"color: #008080; text-decoration-color: #008080; font-weight: bold\">2024</span>-<span style=\"color: #008080; text-decoration-color: #008080; font-weight: bold\">12</span>-<span style=\"color: #008080; text-decoration-color: #008080; font-weight: bold\">19</span> <span style=\"color: #00ff00; text-decoration-color: #00ff00; font-weight: bold\">13:46:40</span>,<span style=\"color: #008080; text-decoration-color: #008080; font-weight: bold\">110</span> - DEBUG - open file:                              <a href=\"file:///Users/slegroux/miniforge3/envs/nimrod/lib/python3.11/site-packages/fsspec/implementations/local.py\" target=\"_blank\"><span style=\"color: #7f7f7f; text-decoration-color: #7f7f7f\">local.py</span></a><span style=\"color: #7f7f7f; text-decoration-color: #7f7f7f\">:</span><a href=\"file:///Users/slegroux/miniforge3/envs/nimrod/lib/python3.11/site-packages/fsspec/implementations/local.py#351\" target=\"_blank\"><span style=\"color: #7f7f7f; text-decoration-color: #7f7f7f\">351</span></a>\n",
       "<span style=\"color: #7fbfbf; text-decoration-color: #7fbfbf\">                    </span>         <span style=\"color: #800080; text-decoration-color: #800080\">/Users/slegroux/Projects/nimrod/nbs/logs/nnlm/version_25/</span><span style=\"color: #ff00ff; text-decoration-color: #ff00ff\">hparams.yaml</span>     <span style=\"color: #7f7f7f; text-decoration-color: #7f7f7f\">            </span>\n",
       "</pre>\n"
      ],
      "text/plain": [
       "\u001b[2;36m[12/19/24 13:46:40]\u001b[0m\u001b[2;36m \u001b[0m\u001b[32mDEBUG   \u001b[0m \u001b[1;36m2024\u001b[0m-\u001b[1;36m12\u001b[0m-\u001b[1;36m19\u001b[0m \u001b[1;92m13:46:40\u001b[0m,\u001b[1;36m110\u001b[0m - DEBUG - open file:                              \u001b]8;id=369360;file:///Users/slegroux/miniforge3/envs/nimrod/lib/python3.11/site-packages/fsspec/implementations/local.py\u001b\\\u001b[2mlocal.py\u001b[0m\u001b]8;;\u001b\\\u001b[2m:\u001b[0m\u001b]8;id=560630;file:///Users/slegroux/miniforge3/envs/nimrod/lib/python3.11/site-packages/fsspec/implementations/local.py#351\u001b\\\u001b[2m351\u001b[0m\u001b]8;;\u001b\\\n",
       "\u001b[2;36m                    \u001b[0m         \u001b[35m/Users/slegroux/Projects/nimrod/nbs/logs/nnlm/version_25/\u001b[0m\u001b[95mhparams.yaml\u001b[0m     \u001b[2m            \u001b[0m\n"
      ]
     },
     "metadata": {},
     "output_type": "display_data"
    },
    {
     "data": {
      "text/html": [
       "<pre style=\"white-space:pre;overflow-x:auto;line-height:normal;font-family:Menlo,'DejaVu Sans Mono',consolas,'Courier New',monospace\"><span style=\"color: #7fbfbf; text-decoration-color: #7fbfbf\">                    </span><span style=\"color: #008000; text-decoration-color: #008000\">DEBUG   </span> <span style=\"color: #008080; text-decoration-color: #008080; font-weight: bold\">2024</span>-<span style=\"color: #008080; text-decoration-color: #008080; font-weight: bold\">12</span>-<span style=\"color: #008080; text-decoration-color: #008080; font-weight: bold\">19</span> <span style=\"color: #00ff00; text-decoration-color: #00ff00; font-weight: bold\">13:46:40</span>,<span style=\"color: #008080; text-decoration-color: #008080; font-weight: bold\">112</span> - DEBUG - open file:                              <a href=\"file:///Users/slegroux/miniforge3/envs/nimrod/lib/python3.11/site-packages/fsspec/implementations/local.py\" target=\"_blank\"><span style=\"color: #7f7f7f; text-decoration-color: #7f7f7f\">local.py</span></a><span style=\"color: #7f7f7f; text-decoration-color: #7f7f7f\">:</span><a href=\"file:///Users/slegroux/miniforge3/envs/nimrod/lib/python3.11/site-packages/fsspec/implementations/local.py#351\" target=\"_blank\"><span style=\"color: #7f7f7f; text-decoration-color: #7f7f7f\">351</span></a>\n",
       "<span style=\"color: #7fbfbf; text-decoration-color: #7fbfbf\">                    </span>         <span style=\"color: #800080; text-decoration-color: #800080\">/Users/slegroux/Projects/nimrod/nbs/logs/nnlm/version_25/</span><span style=\"color: #ff00ff; text-decoration-color: #ff00ff\">metrics.csv</span>      <span style=\"color: #7f7f7f; text-decoration-color: #7f7f7f\">            </span>\n",
       "</pre>\n"
      ],
      "text/plain": [
       "\u001b[2;36m                   \u001b[0m\u001b[2;36m \u001b[0m\u001b[32mDEBUG   \u001b[0m \u001b[1;36m2024\u001b[0m-\u001b[1;36m12\u001b[0m-\u001b[1;36m19\u001b[0m \u001b[1;92m13:46:40\u001b[0m,\u001b[1;36m112\u001b[0m - DEBUG - open file:                              \u001b]8;id=30416;file:///Users/slegroux/miniforge3/envs/nimrod/lib/python3.11/site-packages/fsspec/implementations/local.py\u001b\\\u001b[2mlocal.py\u001b[0m\u001b]8;;\u001b\\\u001b[2m:\u001b[0m\u001b]8;id=11080;file:///Users/slegroux/miniforge3/envs/nimrod/lib/python3.11/site-packages/fsspec/implementations/local.py#351\u001b\\\u001b[2m351\u001b[0m\u001b]8;;\u001b\\\n",
       "\u001b[2;36m                    \u001b[0m         \u001b[35m/Users/slegroux/Projects/nimrod/nbs/logs/nnlm/version_25/\u001b[0m\u001b[95mmetrics.csv\u001b[0m      \u001b[2m            \u001b[0m\n"
      ]
     },
     "metadata": {},
     "output_type": "display_data"
    },
    {
     "data": {
      "text/html": [
       "<pre style=\"white-space:pre;overflow-x:auto;line-height:normal;font-family:Menlo,'DejaVu Sans Mono',consolas,'Courier New',monospace\"><span style=\"color: #7fbfbf; text-decoration-color: #7fbfbf\">                    </span><span style=\"color: #008000; text-decoration-color: #008000\">DEBUG   </span> <span style=\"color: #008080; text-decoration-color: #008080; font-weight: bold\">2024</span>-<span style=\"color: #008080; text-decoration-color: #008080; font-weight: bold\">12</span>-<span style=\"color: #008080; text-decoration-color: #008080; font-weight: bold\">19</span> <span style=\"color: #00ff00; text-decoration-color: #00ff00; font-weight: bold\">13:46:40</span>,<span style=\"color: #008080; text-decoration-color: #008080; font-weight: bold\">117</span> - DEBUG - open file:                              <a href=\"file:///Users/slegroux/miniforge3/envs/nimrod/lib/python3.11/site-packages/fsspec/implementations/local.py\" target=\"_blank\"><span style=\"color: #7f7f7f; text-decoration-color: #7f7f7f\">local.py</span></a><span style=\"color: #7f7f7f; text-decoration-color: #7f7f7f\">:</span><a href=\"file:///Users/slegroux/miniforge3/envs/nimrod/lib/python3.11/site-packages/fsspec/implementations/local.py#351\" target=\"_blank\"><span style=\"color: #7f7f7f; text-decoration-color: #7f7f7f\">351</span></a>\n",
       "<span style=\"color: #7fbfbf; text-decoration-color: #7fbfbf\">                    </span>         <span style=\"color: #800080; text-decoration-color: #800080\">/Users/slegroux/Projects/nimrod/nbs/logs/nnlm/version_25/</span><span style=\"color: #ff00ff; text-decoration-color: #ff00ff\">hparams.yaml</span>     <span style=\"color: #7f7f7f; text-decoration-color: #7f7f7f\">            </span>\n",
       "</pre>\n"
      ],
      "text/plain": [
       "\u001b[2;36m                   \u001b[0m\u001b[2;36m \u001b[0m\u001b[32mDEBUG   \u001b[0m \u001b[1;36m2024\u001b[0m-\u001b[1;36m12\u001b[0m-\u001b[1;36m19\u001b[0m \u001b[1;92m13:46:40\u001b[0m,\u001b[1;36m117\u001b[0m - DEBUG - open file:                              \u001b]8;id=169534;file:///Users/slegroux/miniforge3/envs/nimrod/lib/python3.11/site-packages/fsspec/implementations/local.py\u001b\\\u001b[2mlocal.py\u001b[0m\u001b]8;;\u001b\\\u001b[2m:\u001b[0m\u001b]8;id=250768;file:///Users/slegroux/miniforge3/envs/nimrod/lib/python3.11/site-packages/fsspec/implementations/local.py#351\u001b\\\u001b[2m351\u001b[0m\u001b]8;;\u001b\\\n",
       "\u001b[2;36m                    \u001b[0m         \u001b[35m/Users/slegroux/Projects/nimrod/nbs/logs/nnlm/version_25/\u001b[0m\u001b[95mhparams.yaml\u001b[0m     \u001b[2m            \u001b[0m\n"
      ]
     },
     "metadata": {},
     "output_type": "display_data"
    },
    {
     "data": {
      "text/html": [
       "<pre style=\"white-space:pre;overflow-x:auto;line-height:normal;font-family:Menlo,'DejaVu Sans Mono',consolas,'Courier New',monospace\"><span style=\"color: #7fbfbf; text-decoration-color: #7fbfbf\">[12/19/24 13:46:41] </span><span style=\"color: #008000; text-decoration-color: #008000\">DEBUG   </span> <span style=\"color: #008080; text-decoration-color: #008080; font-weight: bold\">2024</span>-<span style=\"color: #008080; text-decoration-color: #008080; font-weight: bold\">12</span>-<span style=\"color: #008080; text-decoration-color: #008080; font-weight: bold\">19</span> <span style=\"color: #00ff00; text-decoration-color: #00ff00; font-weight: bold\">13:46:41</span>,<span style=\"color: #008080; text-decoration-color: #008080; font-weight: bold\">494</span> - DEBUG - open file:                              <a href=\"file:///Users/slegroux/miniforge3/envs/nimrod/lib/python3.11/site-packages/fsspec/implementations/local.py\" target=\"_blank\"><span style=\"color: #7f7f7f; text-decoration-color: #7f7f7f\">local.py</span></a><span style=\"color: #7f7f7f; text-decoration-color: #7f7f7f\">:</span><a href=\"file:///Users/slegroux/miniforge3/envs/nimrod/lib/python3.11/site-packages/fsspec/implementations/local.py#351\" target=\"_blank\"><span style=\"color: #7f7f7f; text-decoration-color: #7f7f7f\">351</span></a>\n",
       "<span style=\"color: #7fbfbf; text-decoration-color: #7fbfbf\">                    </span>         <span style=\"color: #800080; text-decoration-color: #800080\">/Users/slegroux/Projects/nimrod/nbs/logs/nnlm/version_25/</span><span style=\"color: #ff00ff; text-decoration-color: #ff00ff\">hparams.yaml</span>     <span style=\"color: #7f7f7f; text-decoration-color: #7f7f7f\">            </span>\n",
       "</pre>\n"
      ],
      "text/plain": [
       "\u001b[2;36m[12/19/24 13:46:41]\u001b[0m\u001b[2;36m \u001b[0m\u001b[32mDEBUG   \u001b[0m \u001b[1;36m2024\u001b[0m-\u001b[1;36m12\u001b[0m-\u001b[1;36m19\u001b[0m \u001b[1;92m13:46:41\u001b[0m,\u001b[1;36m494\u001b[0m - DEBUG - open file:                              \u001b]8;id=327979;file:///Users/slegroux/miniforge3/envs/nimrod/lib/python3.11/site-packages/fsspec/implementations/local.py\u001b\\\u001b[2mlocal.py\u001b[0m\u001b]8;;\u001b\\\u001b[2m:\u001b[0m\u001b]8;id=610988;file:///Users/slegroux/miniforge3/envs/nimrod/lib/python3.11/site-packages/fsspec/implementations/local.py#351\u001b\\\u001b[2m351\u001b[0m\u001b]8;;\u001b\\\n",
       "\u001b[2;36m                    \u001b[0m         \u001b[35m/Users/slegroux/Projects/nimrod/nbs/logs/nnlm/version_25/\u001b[0m\u001b[95mhparams.yaml\u001b[0m     \u001b[2m            \u001b[0m\n"
      ]
     },
     "metadata": {},
     "output_type": "display_data"
    },
    {
     "data": {
      "text/html": [
       "<pre style=\"white-space:pre;overflow-x:auto;line-height:normal;font-family:Menlo,'DejaVu Sans Mono',consolas,'Courier New',monospace\"><span style=\"color: #7fbfbf; text-decoration-color: #7fbfbf\">                    </span><span style=\"color: #008000; text-decoration-color: #008000\">DEBUG   </span> <span style=\"color: #008080; text-decoration-color: #008080; font-weight: bold\">2024</span>-<span style=\"color: #008080; text-decoration-color: #008080; font-weight: bold\">12</span>-<span style=\"color: #008080; text-decoration-color: #008080; font-weight: bold\">19</span> <span style=\"color: #00ff00; text-decoration-color: #00ff00; font-weight: bold\">13:46:41</span>,<span style=\"color: #008080; text-decoration-color: #008080; font-weight: bold\">496</span> - DEBUG - open file:                              <a href=\"file:///Users/slegroux/miniforge3/envs/nimrod/lib/python3.11/site-packages/fsspec/implementations/local.py\" target=\"_blank\"><span style=\"color: #7f7f7f; text-decoration-color: #7f7f7f\">local.py</span></a><span style=\"color: #7f7f7f; text-decoration-color: #7f7f7f\">:</span><a href=\"file:///Users/slegroux/miniforge3/envs/nimrod/lib/python3.11/site-packages/fsspec/implementations/local.py#351\" target=\"_blank\"><span style=\"color: #7f7f7f; text-decoration-color: #7f7f7f\">351</span></a>\n",
       "<span style=\"color: #7fbfbf; text-decoration-color: #7fbfbf\">                    </span>         <span style=\"color: #800080; text-decoration-color: #800080\">/Users/slegroux/Projects/nimrod/nbs/logs/nnlm/version_25/</span><span style=\"color: #ff00ff; text-decoration-color: #ff00ff\">metrics.csv</span>      <span style=\"color: #7f7f7f; text-decoration-color: #7f7f7f\">            </span>\n",
       "</pre>\n"
      ],
      "text/plain": [
       "\u001b[2;36m                   \u001b[0m\u001b[2;36m \u001b[0m\u001b[32mDEBUG   \u001b[0m \u001b[1;36m2024\u001b[0m-\u001b[1;36m12\u001b[0m-\u001b[1;36m19\u001b[0m \u001b[1;92m13:46:41\u001b[0m,\u001b[1;36m496\u001b[0m - DEBUG - open file:                              \u001b]8;id=292602;file:///Users/slegroux/miniforge3/envs/nimrod/lib/python3.11/site-packages/fsspec/implementations/local.py\u001b\\\u001b[2mlocal.py\u001b[0m\u001b]8;;\u001b\\\u001b[2m:\u001b[0m\u001b]8;id=167415;file:///Users/slegroux/miniforge3/envs/nimrod/lib/python3.11/site-packages/fsspec/implementations/local.py#351\u001b\\\u001b[2m351\u001b[0m\u001b]8;;\u001b\\\n",
       "\u001b[2;36m                    \u001b[0m         \u001b[35m/Users/slegroux/Projects/nimrod/nbs/logs/nnlm/version_25/\u001b[0m\u001b[95mmetrics.csv\u001b[0m      \u001b[2m            \u001b[0m\n"
      ]
     },
     "metadata": {},
     "output_type": "display_data"
    },
    {
     "data": {
      "text/html": [
       "<pre style=\"white-space:pre;overflow-x:auto;line-height:normal;font-family:Menlo,'DejaVu Sans Mono',consolas,'Courier New',monospace\"><span style=\"color: #7fbfbf; text-decoration-color: #7fbfbf\">[12/19/24 13:46:42] </span><span style=\"color: #008000; text-decoration-color: #008000\">DEBUG   </span> <span style=\"color: #008080; text-decoration-color: #008080; font-weight: bold\">2024</span>-<span style=\"color: #008080; text-decoration-color: #008080; font-weight: bold\">12</span>-<span style=\"color: #008080; text-decoration-color: #008080; font-weight: bold\">19</span> <span style=\"color: #00ff00; text-decoration-color: #00ff00; font-weight: bold\">13:46:42</span>,<span style=\"color: #008080; text-decoration-color: #008080; font-weight: bold\">860</span> - DEBUG - open file:                              <a href=\"file:///Users/slegroux/miniforge3/envs/nimrod/lib/python3.11/site-packages/fsspec/implementations/local.py\" target=\"_blank\"><span style=\"color: #7f7f7f; text-decoration-color: #7f7f7f\">local.py</span></a><span style=\"color: #7f7f7f; text-decoration-color: #7f7f7f\">:</span><a href=\"file:///Users/slegroux/miniforge3/envs/nimrod/lib/python3.11/site-packages/fsspec/implementations/local.py#351\" target=\"_blank\"><span style=\"color: #7f7f7f; text-decoration-color: #7f7f7f\">351</span></a>\n",
       "<span style=\"color: #7fbfbf; text-decoration-color: #7fbfbf\">                    </span>         <span style=\"color: #800080; text-decoration-color: #800080\">/Users/slegroux/Projects/nimrod/nbs/logs/nnlm/version_25/</span><span style=\"color: #ff00ff; text-decoration-color: #ff00ff\">hparams.yaml</span>     <span style=\"color: #7f7f7f; text-decoration-color: #7f7f7f\">            </span>\n",
       "</pre>\n"
      ],
      "text/plain": [
       "\u001b[2;36m[12/19/24 13:46:42]\u001b[0m\u001b[2;36m \u001b[0m\u001b[32mDEBUG   \u001b[0m \u001b[1;36m2024\u001b[0m-\u001b[1;36m12\u001b[0m-\u001b[1;36m19\u001b[0m \u001b[1;92m13:46:42\u001b[0m,\u001b[1;36m860\u001b[0m - DEBUG - open file:                              \u001b]8;id=432621;file:///Users/slegroux/miniforge3/envs/nimrod/lib/python3.11/site-packages/fsspec/implementations/local.py\u001b\\\u001b[2mlocal.py\u001b[0m\u001b]8;;\u001b\\\u001b[2m:\u001b[0m\u001b]8;id=25196;file:///Users/slegroux/miniforge3/envs/nimrod/lib/python3.11/site-packages/fsspec/implementations/local.py#351\u001b\\\u001b[2m351\u001b[0m\u001b]8;;\u001b\\\n",
       "\u001b[2;36m                    \u001b[0m         \u001b[35m/Users/slegroux/Projects/nimrod/nbs/logs/nnlm/version_25/\u001b[0m\u001b[95mhparams.yaml\u001b[0m     \u001b[2m            \u001b[0m\n"
      ]
     },
     "metadata": {},
     "output_type": "display_data"
    },
    {
     "data": {
      "text/html": [
       "<pre style=\"white-space:pre;overflow-x:auto;line-height:normal;font-family:Menlo,'DejaVu Sans Mono',consolas,'Courier New',monospace\"><span style=\"color: #7fbfbf; text-decoration-color: #7fbfbf\">                    </span><span style=\"color: #008000; text-decoration-color: #008000\">DEBUG   </span> <span style=\"color: #008080; text-decoration-color: #008080; font-weight: bold\">2024</span>-<span style=\"color: #008080; text-decoration-color: #008080; font-weight: bold\">12</span>-<span style=\"color: #008080; text-decoration-color: #008080; font-weight: bold\">19</span> <span style=\"color: #00ff00; text-decoration-color: #00ff00; font-weight: bold\">13:46:42</span>,<span style=\"color: #008080; text-decoration-color: #008080; font-weight: bold\">865</span> - DEBUG - open file:                              <a href=\"file:///Users/slegroux/miniforge3/envs/nimrod/lib/python3.11/site-packages/fsspec/implementations/local.py\" target=\"_blank\"><span style=\"color: #7f7f7f; text-decoration-color: #7f7f7f\">local.py</span></a><span style=\"color: #7f7f7f; text-decoration-color: #7f7f7f\">:</span><a href=\"file:///Users/slegroux/miniforge3/envs/nimrod/lib/python3.11/site-packages/fsspec/implementations/local.py#351\" target=\"_blank\"><span style=\"color: #7f7f7f; text-decoration-color: #7f7f7f\">351</span></a>\n",
       "<span style=\"color: #7fbfbf; text-decoration-color: #7fbfbf\">                    </span>         <span style=\"color: #800080; text-decoration-color: #800080\">/Users/slegroux/Projects/nimrod/nbs/logs/nnlm/version_25/</span><span style=\"color: #ff00ff; text-decoration-color: #ff00ff\">metrics.csv</span>      <span style=\"color: #7f7f7f; text-decoration-color: #7f7f7f\">            </span>\n",
       "</pre>\n"
      ],
      "text/plain": [
       "\u001b[2;36m                   \u001b[0m\u001b[2;36m \u001b[0m\u001b[32mDEBUG   \u001b[0m \u001b[1;36m2024\u001b[0m-\u001b[1;36m12\u001b[0m-\u001b[1;36m19\u001b[0m \u001b[1;92m13:46:42\u001b[0m,\u001b[1;36m865\u001b[0m - DEBUG - open file:                              \u001b]8;id=216351;file:///Users/slegroux/miniforge3/envs/nimrod/lib/python3.11/site-packages/fsspec/implementations/local.py\u001b\\\u001b[2mlocal.py\u001b[0m\u001b]8;;\u001b\\\u001b[2m:\u001b[0m\u001b]8;id=62030;file:///Users/slegroux/miniforge3/envs/nimrod/lib/python3.11/site-packages/fsspec/implementations/local.py#351\u001b\\\u001b[2m351\u001b[0m\u001b]8;;\u001b\\\n",
       "\u001b[2;36m                    \u001b[0m         \u001b[35m/Users/slegroux/Projects/nimrod/nbs/logs/nnlm/version_25/\u001b[0m\u001b[95mmetrics.csv\u001b[0m      \u001b[2m            \u001b[0m\n"
      ]
     },
     "metadata": {},
     "output_type": "display_data"
    },
    {
     "data": {
      "text/html": [
       "<pre style=\"white-space:pre;overflow-x:auto;line-height:normal;font-family:Menlo,'DejaVu Sans Mono',consolas,'Courier New',monospace\"><span style=\"color: #7fbfbf; text-decoration-color: #7fbfbf\">                    </span><span style=\"color: #008000; text-decoration-color: #008000\">DEBUG   </span> <span style=\"color: #008080; text-decoration-color: #008080; font-weight: bold\">2024</span>-<span style=\"color: #008080; text-decoration-color: #008080; font-weight: bold\">12</span>-<span style=\"color: #008080; text-decoration-color: #008080; font-weight: bold\">19</span> <span style=\"color: #00ff00; text-decoration-color: #00ff00; font-weight: bold\">13:46:42</span>,<span style=\"color: #008080; text-decoration-color: #008080; font-weight: bold\">869</span> - DEBUG - open file:                              <a href=\"file:///Users/slegroux/miniforge3/envs/nimrod/lib/python3.11/site-packages/fsspec/implementations/local.py\" target=\"_blank\"><span style=\"color: #7f7f7f; text-decoration-color: #7f7f7f\">local.py</span></a><span style=\"color: #7f7f7f; text-decoration-color: #7f7f7f\">:</span><a href=\"file:///Users/slegroux/miniforge3/envs/nimrod/lib/python3.11/site-packages/fsspec/implementations/local.py#351\" target=\"_blank\"><span style=\"color: #7f7f7f; text-decoration-color: #7f7f7f\">351</span></a>\n",
       "<span style=\"color: #7fbfbf; text-decoration-color: #7fbfbf\">                    </span>         <span style=\"color: #800080; text-decoration-color: #800080\">/Users/slegroux/Projects/nimrod/nbs/logs/nnlm/version_25/</span><span style=\"color: #ff00ff; text-decoration-color: #ff00ff\">hparams.yaml</span>     <span style=\"color: #7f7f7f; text-decoration-color: #7f7f7f\">            </span>\n",
       "</pre>\n"
      ],
      "text/plain": [
       "\u001b[2;36m                   \u001b[0m\u001b[2;36m \u001b[0m\u001b[32mDEBUG   \u001b[0m \u001b[1;36m2024\u001b[0m-\u001b[1;36m12\u001b[0m-\u001b[1;36m19\u001b[0m \u001b[1;92m13:46:42\u001b[0m,\u001b[1;36m869\u001b[0m - DEBUG - open file:                              \u001b]8;id=49491;file:///Users/slegroux/miniforge3/envs/nimrod/lib/python3.11/site-packages/fsspec/implementations/local.py\u001b\\\u001b[2mlocal.py\u001b[0m\u001b]8;;\u001b\\\u001b[2m:\u001b[0m\u001b]8;id=236337;file:///Users/slegroux/miniforge3/envs/nimrod/lib/python3.11/site-packages/fsspec/implementations/local.py#351\u001b\\\u001b[2m351\u001b[0m\u001b]8;;\u001b\\\n",
       "\u001b[2;36m                    \u001b[0m         \u001b[35m/Users/slegroux/Projects/nimrod/nbs/logs/nnlm/version_25/\u001b[0m\u001b[95mhparams.yaml\u001b[0m     \u001b[2m            \u001b[0m\n"
      ]
     },
     "metadata": {},
     "output_type": "display_data"
    },
    {
     "data": {
      "text/html": [
       "<pre style=\"white-space:pre;overflow-x:auto;line-height:normal;font-family:Menlo,'DejaVu Sans Mono',consolas,'Courier New',monospace\"><span style=\"color: #7fbfbf; text-decoration-color: #7fbfbf\">[12/19/24 13:46:44] </span><span style=\"color: #008000; text-decoration-color: #008000\">DEBUG   </span> <span style=\"color: #008080; text-decoration-color: #008080; font-weight: bold\">2024</span>-<span style=\"color: #008080; text-decoration-color: #008080; font-weight: bold\">12</span>-<span style=\"color: #008080; text-decoration-color: #008080; font-weight: bold\">19</span> <span style=\"color: #00ff00; text-decoration-color: #00ff00; font-weight: bold\">13:46:44</span>,<span style=\"color: #008080; text-decoration-color: #008080; font-weight: bold\">126</span> - DEBUG - open file:                              <a href=\"file:///Users/slegroux/miniforge3/envs/nimrod/lib/python3.11/site-packages/fsspec/implementations/local.py\" target=\"_blank\"><span style=\"color: #7f7f7f; text-decoration-color: #7f7f7f\">local.py</span></a><span style=\"color: #7f7f7f; text-decoration-color: #7f7f7f\">:</span><a href=\"file:///Users/slegroux/miniforge3/envs/nimrod/lib/python3.11/site-packages/fsspec/implementations/local.py#351\" target=\"_blank\"><span style=\"color: #7f7f7f; text-decoration-color: #7f7f7f\">351</span></a>\n",
       "<span style=\"color: #7fbfbf; text-decoration-color: #7fbfbf\">                    </span>         <span style=\"color: #800080; text-decoration-color: #800080\">/Users/slegroux/Projects/nimrod/nbs/logs/nnlm/version_25/</span><span style=\"color: #ff00ff; text-decoration-color: #ff00ff\">hparams.yaml</span>     <span style=\"color: #7f7f7f; text-decoration-color: #7f7f7f\">            </span>\n",
       "</pre>\n"
      ],
      "text/plain": [
       "\u001b[2;36m[12/19/24 13:46:44]\u001b[0m\u001b[2;36m \u001b[0m\u001b[32mDEBUG   \u001b[0m \u001b[1;36m2024\u001b[0m-\u001b[1;36m12\u001b[0m-\u001b[1;36m19\u001b[0m \u001b[1;92m13:46:44\u001b[0m,\u001b[1;36m126\u001b[0m - DEBUG - open file:                              \u001b]8;id=30341;file:///Users/slegroux/miniforge3/envs/nimrod/lib/python3.11/site-packages/fsspec/implementations/local.py\u001b\\\u001b[2mlocal.py\u001b[0m\u001b]8;;\u001b\\\u001b[2m:\u001b[0m\u001b]8;id=727511;file:///Users/slegroux/miniforge3/envs/nimrod/lib/python3.11/site-packages/fsspec/implementations/local.py#351\u001b\\\u001b[2m351\u001b[0m\u001b]8;;\u001b\\\n",
       "\u001b[2;36m                    \u001b[0m         \u001b[35m/Users/slegroux/Projects/nimrod/nbs/logs/nnlm/version_25/\u001b[0m\u001b[95mhparams.yaml\u001b[0m     \u001b[2m            \u001b[0m\n"
      ]
     },
     "metadata": {},
     "output_type": "display_data"
    },
    {
     "data": {
      "text/html": [
       "<pre style=\"white-space:pre;overflow-x:auto;line-height:normal;font-family:Menlo,'DejaVu Sans Mono',consolas,'Courier New',monospace\"><span style=\"color: #7fbfbf; text-decoration-color: #7fbfbf\">                    </span><span style=\"color: #008000; text-decoration-color: #008000\">DEBUG   </span> <span style=\"color: #008080; text-decoration-color: #008080; font-weight: bold\">2024</span>-<span style=\"color: #008080; text-decoration-color: #008080; font-weight: bold\">12</span>-<span style=\"color: #008080; text-decoration-color: #008080; font-weight: bold\">19</span> <span style=\"color: #00ff00; text-decoration-color: #00ff00; font-weight: bold\">13:46:44</span>,<span style=\"color: #008080; text-decoration-color: #008080; font-weight: bold\">128</span> - DEBUG - open file:                              <a href=\"file:///Users/slegroux/miniforge3/envs/nimrod/lib/python3.11/site-packages/fsspec/implementations/local.py\" target=\"_blank\"><span style=\"color: #7f7f7f; text-decoration-color: #7f7f7f\">local.py</span></a><span style=\"color: #7f7f7f; text-decoration-color: #7f7f7f\">:</span><a href=\"file:///Users/slegroux/miniforge3/envs/nimrod/lib/python3.11/site-packages/fsspec/implementations/local.py#351\" target=\"_blank\"><span style=\"color: #7f7f7f; text-decoration-color: #7f7f7f\">351</span></a>\n",
       "<span style=\"color: #7fbfbf; text-decoration-color: #7fbfbf\">                    </span>         <span style=\"color: #800080; text-decoration-color: #800080\">/Users/slegroux/Projects/nimrod/nbs/logs/nnlm/version_25/</span><span style=\"color: #ff00ff; text-decoration-color: #ff00ff\">metrics.csv</span>      <span style=\"color: #7f7f7f; text-decoration-color: #7f7f7f\">            </span>\n",
       "</pre>\n"
      ],
      "text/plain": [
       "\u001b[2;36m                   \u001b[0m\u001b[2;36m \u001b[0m\u001b[32mDEBUG   \u001b[0m \u001b[1;36m2024\u001b[0m-\u001b[1;36m12\u001b[0m-\u001b[1;36m19\u001b[0m \u001b[1;92m13:46:44\u001b[0m,\u001b[1;36m128\u001b[0m - DEBUG - open file:                              \u001b]8;id=529063;file:///Users/slegroux/miniforge3/envs/nimrod/lib/python3.11/site-packages/fsspec/implementations/local.py\u001b\\\u001b[2mlocal.py\u001b[0m\u001b]8;;\u001b\\\u001b[2m:\u001b[0m\u001b]8;id=523028;file:///Users/slegroux/miniforge3/envs/nimrod/lib/python3.11/site-packages/fsspec/implementations/local.py#351\u001b\\\u001b[2m351\u001b[0m\u001b]8;;\u001b\\\n",
       "\u001b[2;36m                    \u001b[0m         \u001b[35m/Users/slegroux/Projects/nimrod/nbs/logs/nnlm/version_25/\u001b[0m\u001b[95mmetrics.csv\u001b[0m      \u001b[2m            \u001b[0m\n"
      ]
     },
     "metadata": {},
     "output_type": "display_data"
    },
    {
     "data": {
      "text/html": [
       "<pre style=\"white-space:pre;overflow-x:auto;line-height:normal;font-family:Menlo,'DejaVu Sans Mono',consolas,'Courier New',monospace\"><span style=\"color: #7fbfbf; text-decoration-color: #7fbfbf\">[12/19/24 13:46:45] </span><span style=\"color: #008000; text-decoration-color: #008000\">DEBUG   </span> <span style=\"color: #008080; text-decoration-color: #008080; font-weight: bold\">2024</span>-<span style=\"color: #008080; text-decoration-color: #008080; font-weight: bold\">12</span>-<span style=\"color: #008080; text-decoration-color: #008080; font-weight: bold\">19</span> <span style=\"color: #00ff00; text-decoration-color: #00ff00; font-weight: bold\">13:46:45</span>,<span style=\"color: #008080; text-decoration-color: #008080; font-weight: bold\">594</span> - DEBUG - open file:                              <a href=\"file:///Users/slegroux/miniforge3/envs/nimrod/lib/python3.11/site-packages/fsspec/implementations/local.py\" target=\"_blank\"><span style=\"color: #7f7f7f; text-decoration-color: #7f7f7f\">local.py</span></a><span style=\"color: #7f7f7f; text-decoration-color: #7f7f7f\">:</span><a href=\"file:///Users/slegroux/miniforge3/envs/nimrod/lib/python3.11/site-packages/fsspec/implementations/local.py#351\" target=\"_blank\"><span style=\"color: #7f7f7f; text-decoration-color: #7f7f7f\">351</span></a>\n",
       "<span style=\"color: #7fbfbf; text-decoration-color: #7fbfbf\">                    </span>         <span style=\"color: #800080; text-decoration-color: #800080\">/Users/slegroux/Projects/nimrod/nbs/logs/nnlm/version_25/</span><span style=\"color: #ff00ff; text-decoration-color: #ff00ff\">hparams.yaml</span>     <span style=\"color: #7f7f7f; text-decoration-color: #7f7f7f\">            </span>\n",
       "</pre>\n"
      ],
      "text/plain": [
       "\u001b[2;36m[12/19/24 13:46:45]\u001b[0m\u001b[2;36m \u001b[0m\u001b[32mDEBUG   \u001b[0m \u001b[1;36m2024\u001b[0m-\u001b[1;36m12\u001b[0m-\u001b[1;36m19\u001b[0m \u001b[1;92m13:46:45\u001b[0m,\u001b[1;36m594\u001b[0m - DEBUG - open file:                              \u001b]8;id=150765;file:///Users/slegroux/miniforge3/envs/nimrod/lib/python3.11/site-packages/fsspec/implementations/local.py\u001b\\\u001b[2mlocal.py\u001b[0m\u001b]8;;\u001b\\\u001b[2m:\u001b[0m\u001b]8;id=570741;file:///Users/slegroux/miniforge3/envs/nimrod/lib/python3.11/site-packages/fsspec/implementations/local.py#351\u001b\\\u001b[2m351\u001b[0m\u001b]8;;\u001b\\\n",
       "\u001b[2;36m                    \u001b[0m         \u001b[35m/Users/slegroux/Projects/nimrod/nbs/logs/nnlm/version_25/\u001b[0m\u001b[95mhparams.yaml\u001b[0m     \u001b[2m            \u001b[0m\n"
      ]
     },
     "metadata": {},
     "output_type": "display_data"
    },
    {
     "data": {
      "text/html": [
       "<pre style=\"white-space:pre;overflow-x:auto;line-height:normal;font-family:Menlo,'DejaVu Sans Mono',consolas,'Courier New',monospace\"><span style=\"color: #7fbfbf; text-decoration-color: #7fbfbf\">                    </span><span style=\"color: #008000; text-decoration-color: #008000\">DEBUG   </span> <span style=\"color: #008080; text-decoration-color: #008080; font-weight: bold\">2024</span>-<span style=\"color: #008080; text-decoration-color: #008080; font-weight: bold\">12</span>-<span style=\"color: #008080; text-decoration-color: #008080; font-weight: bold\">19</span> <span style=\"color: #00ff00; text-decoration-color: #00ff00; font-weight: bold\">13:46:45</span>,<span style=\"color: #008080; text-decoration-color: #008080; font-weight: bold\">596</span> - DEBUG - open file:                              <a href=\"file:///Users/slegroux/miniforge3/envs/nimrod/lib/python3.11/site-packages/fsspec/implementations/local.py\" target=\"_blank\"><span style=\"color: #7f7f7f; text-decoration-color: #7f7f7f\">local.py</span></a><span style=\"color: #7f7f7f; text-decoration-color: #7f7f7f\">:</span><a href=\"file:///Users/slegroux/miniforge3/envs/nimrod/lib/python3.11/site-packages/fsspec/implementations/local.py#351\" target=\"_blank\"><span style=\"color: #7f7f7f; text-decoration-color: #7f7f7f\">351</span></a>\n",
       "<span style=\"color: #7fbfbf; text-decoration-color: #7fbfbf\">                    </span>         <span style=\"color: #800080; text-decoration-color: #800080\">/Users/slegroux/Projects/nimrod/nbs/logs/nnlm/version_25/</span><span style=\"color: #ff00ff; text-decoration-color: #ff00ff\">metrics.csv</span>      <span style=\"color: #7f7f7f; text-decoration-color: #7f7f7f\">            </span>\n",
       "</pre>\n"
      ],
      "text/plain": [
       "\u001b[2;36m                   \u001b[0m\u001b[2;36m \u001b[0m\u001b[32mDEBUG   \u001b[0m \u001b[1;36m2024\u001b[0m-\u001b[1;36m12\u001b[0m-\u001b[1;36m19\u001b[0m \u001b[1;92m13:46:45\u001b[0m,\u001b[1;36m596\u001b[0m - DEBUG - open file:                              \u001b]8;id=576427;file:///Users/slegroux/miniforge3/envs/nimrod/lib/python3.11/site-packages/fsspec/implementations/local.py\u001b\\\u001b[2mlocal.py\u001b[0m\u001b]8;;\u001b\\\u001b[2m:\u001b[0m\u001b]8;id=654892;file:///Users/slegroux/miniforge3/envs/nimrod/lib/python3.11/site-packages/fsspec/implementations/local.py#351\u001b\\\u001b[2m351\u001b[0m\u001b]8;;\u001b\\\n",
       "\u001b[2;36m                    \u001b[0m         \u001b[35m/Users/slegroux/Projects/nimrod/nbs/logs/nnlm/version_25/\u001b[0m\u001b[95mmetrics.csv\u001b[0m      \u001b[2m            \u001b[0m\n"
      ]
     },
     "metadata": {},
     "output_type": "display_data"
    },
    {
     "data": {
      "text/html": [
       "<pre style=\"white-space:pre;overflow-x:auto;line-height:normal;font-family:Menlo,'DejaVu Sans Mono',consolas,'Courier New',monospace\"><span style=\"color: #7fbfbf; text-decoration-color: #7fbfbf\">                    </span><span style=\"color: #008000; text-decoration-color: #008000\">DEBUG   </span> <span style=\"color: #008080; text-decoration-color: #008080; font-weight: bold\">2024</span>-<span style=\"color: #008080; text-decoration-color: #008080; font-weight: bold\">12</span>-<span style=\"color: #008080; text-decoration-color: #008080; font-weight: bold\">19</span> <span style=\"color: #00ff00; text-decoration-color: #00ff00; font-weight: bold\">13:46:45</span>,<span style=\"color: #008080; text-decoration-color: #008080; font-weight: bold\">597</span> - DEBUG - open file:                              <a href=\"file:///Users/slegroux/miniforge3/envs/nimrod/lib/python3.11/site-packages/fsspec/implementations/local.py\" target=\"_blank\"><span style=\"color: #7f7f7f; text-decoration-color: #7f7f7f\">local.py</span></a><span style=\"color: #7f7f7f; text-decoration-color: #7f7f7f\">:</span><a href=\"file:///Users/slegroux/miniforge3/envs/nimrod/lib/python3.11/site-packages/fsspec/implementations/local.py#351\" target=\"_blank\"><span style=\"color: #7f7f7f; text-decoration-color: #7f7f7f\">351</span></a>\n",
       "<span style=\"color: #7fbfbf; text-decoration-color: #7fbfbf\">                    </span>         <span style=\"color: #800080; text-decoration-color: #800080\">/Users/slegroux/Projects/nimrod/nbs/logs/nnlm/version_25/</span><span style=\"color: #ff00ff; text-decoration-color: #ff00ff\">hparams.yaml</span>     <span style=\"color: #7f7f7f; text-decoration-color: #7f7f7f\">            </span>\n",
       "</pre>\n"
      ],
      "text/plain": [
       "\u001b[2;36m                   \u001b[0m\u001b[2;36m \u001b[0m\u001b[32mDEBUG   \u001b[0m \u001b[1;36m2024\u001b[0m-\u001b[1;36m12\u001b[0m-\u001b[1;36m19\u001b[0m \u001b[1;92m13:46:45\u001b[0m,\u001b[1;36m597\u001b[0m - DEBUG - open file:                              \u001b]8;id=574739;file:///Users/slegroux/miniforge3/envs/nimrod/lib/python3.11/site-packages/fsspec/implementations/local.py\u001b\\\u001b[2mlocal.py\u001b[0m\u001b]8;;\u001b\\\u001b[2m:\u001b[0m\u001b]8;id=812710;file:///Users/slegroux/miniforge3/envs/nimrod/lib/python3.11/site-packages/fsspec/implementations/local.py#351\u001b\\\u001b[2m351\u001b[0m\u001b]8;;\u001b\\\n",
       "\u001b[2;36m                    \u001b[0m         \u001b[35m/Users/slegroux/Projects/nimrod/nbs/logs/nnlm/version_25/\u001b[0m\u001b[95mhparams.yaml\u001b[0m     \u001b[2m            \u001b[0m\n"
      ]
     },
     "metadata": {},
     "output_type": "display_data"
    },
    {
     "data": {
      "text/html": [
       "<pre style=\"white-space:pre;overflow-x:auto;line-height:normal;font-family:Menlo,'DejaVu Sans Mono',consolas,'Courier New',monospace\"><span style=\"color: #7fbfbf; text-decoration-color: #7fbfbf\">[12/19/24 13:46:47] </span><span style=\"color: #008000; text-decoration-color: #008000\">DEBUG   </span> <span style=\"color: #008080; text-decoration-color: #008080; font-weight: bold\">2024</span>-<span style=\"color: #008080; text-decoration-color: #008080; font-weight: bold\">12</span>-<span style=\"color: #008080; text-decoration-color: #008080; font-weight: bold\">19</span> <span style=\"color: #00ff00; text-decoration-color: #00ff00; font-weight: bold\">13:46:47</span>,<span style=\"color: #008080; text-decoration-color: #008080; font-weight: bold\">013</span> - DEBUG - open file:                              <a href=\"file:///Users/slegroux/miniforge3/envs/nimrod/lib/python3.11/site-packages/fsspec/implementations/local.py\" target=\"_blank\"><span style=\"color: #7f7f7f; text-decoration-color: #7f7f7f\">local.py</span></a><span style=\"color: #7f7f7f; text-decoration-color: #7f7f7f\">:</span><a href=\"file:///Users/slegroux/miniforge3/envs/nimrod/lib/python3.11/site-packages/fsspec/implementations/local.py#351\" target=\"_blank\"><span style=\"color: #7f7f7f; text-decoration-color: #7f7f7f\">351</span></a>\n",
       "<span style=\"color: #7fbfbf; text-decoration-color: #7fbfbf\">                    </span>         <span style=\"color: #800080; text-decoration-color: #800080\">/Users/slegroux/Projects/nimrod/nbs/logs/nnlm/version_25/</span><span style=\"color: #ff00ff; text-decoration-color: #ff00ff\">hparams.yaml</span>     <span style=\"color: #7f7f7f; text-decoration-color: #7f7f7f\">            </span>\n",
       "</pre>\n"
      ],
      "text/plain": [
       "\u001b[2;36m[12/19/24 13:46:47]\u001b[0m\u001b[2;36m \u001b[0m\u001b[32mDEBUG   \u001b[0m \u001b[1;36m2024\u001b[0m-\u001b[1;36m12\u001b[0m-\u001b[1;36m19\u001b[0m \u001b[1;92m13:46:47\u001b[0m,\u001b[1;36m013\u001b[0m - DEBUG - open file:                              \u001b]8;id=17729;file:///Users/slegroux/miniforge3/envs/nimrod/lib/python3.11/site-packages/fsspec/implementations/local.py\u001b\\\u001b[2mlocal.py\u001b[0m\u001b]8;;\u001b\\\u001b[2m:\u001b[0m\u001b]8;id=992630;file:///Users/slegroux/miniforge3/envs/nimrod/lib/python3.11/site-packages/fsspec/implementations/local.py#351\u001b\\\u001b[2m351\u001b[0m\u001b]8;;\u001b\\\n",
       "\u001b[2;36m                    \u001b[0m         \u001b[35m/Users/slegroux/Projects/nimrod/nbs/logs/nnlm/version_25/\u001b[0m\u001b[95mhparams.yaml\u001b[0m     \u001b[2m            \u001b[0m\n"
      ]
     },
     "metadata": {},
     "output_type": "display_data"
    },
    {
     "data": {
      "text/html": [
       "<pre style=\"white-space:pre;overflow-x:auto;line-height:normal;font-family:Menlo,'DejaVu Sans Mono',consolas,'Courier New',monospace\"><span style=\"color: #7fbfbf; text-decoration-color: #7fbfbf\">                    </span><span style=\"color: #008000; text-decoration-color: #008000\">DEBUG   </span> <span style=\"color: #008080; text-decoration-color: #008080; font-weight: bold\">2024</span>-<span style=\"color: #008080; text-decoration-color: #008080; font-weight: bold\">12</span>-<span style=\"color: #008080; text-decoration-color: #008080; font-weight: bold\">19</span> <span style=\"color: #00ff00; text-decoration-color: #00ff00; font-weight: bold\">13:46:47</span>,<span style=\"color: #008080; text-decoration-color: #008080; font-weight: bold\">015</span> - DEBUG - open file:                              <a href=\"file:///Users/slegroux/miniforge3/envs/nimrod/lib/python3.11/site-packages/fsspec/implementations/local.py\" target=\"_blank\"><span style=\"color: #7f7f7f; text-decoration-color: #7f7f7f\">local.py</span></a><span style=\"color: #7f7f7f; text-decoration-color: #7f7f7f\">:</span><a href=\"file:///Users/slegroux/miniforge3/envs/nimrod/lib/python3.11/site-packages/fsspec/implementations/local.py#351\" target=\"_blank\"><span style=\"color: #7f7f7f; text-decoration-color: #7f7f7f\">351</span></a>\n",
       "<span style=\"color: #7fbfbf; text-decoration-color: #7fbfbf\">                    </span>         <span style=\"color: #800080; text-decoration-color: #800080\">/Users/slegroux/Projects/nimrod/nbs/logs/nnlm/version_25/</span><span style=\"color: #ff00ff; text-decoration-color: #ff00ff\">metrics.csv</span>      <span style=\"color: #7f7f7f; text-decoration-color: #7f7f7f\">            </span>\n",
       "</pre>\n"
      ],
      "text/plain": [
       "\u001b[2;36m                   \u001b[0m\u001b[2;36m \u001b[0m\u001b[32mDEBUG   \u001b[0m \u001b[1;36m2024\u001b[0m-\u001b[1;36m12\u001b[0m-\u001b[1;36m19\u001b[0m \u001b[1;92m13:46:47\u001b[0m,\u001b[1;36m015\u001b[0m - DEBUG - open file:                              \u001b]8;id=216747;file:///Users/slegroux/miniforge3/envs/nimrod/lib/python3.11/site-packages/fsspec/implementations/local.py\u001b\\\u001b[2mlocal.py\u001b[0m\u001b]8;;\u001b\\\u001b[2m:\u001b[0m\u001b]8;id=479235;file:///Users/slegroux/miniforge3/envs/nimrod/lib/python3.11/site-packages/fsspec/implementations/local.py#351\u001b\\\u001b[2m351\u001b[0m\u001b]8;;\u001b\\\n",
       "\u001b[2;36m                    \u001b[0m         \u001b[35m/Users/slegroux/Projects/nimrod/nbs/logs/nnlm/version_25/\u001b[0m\u001b[95mmetrics.csv\u001b[0m      \u001b[2m            \u001b[0m\n"
      ]
     },
     "metadata": {},
     "output_type": "display_data"
    },
    {
     "data": {
      "application/vnd.jupyter.widget-view+json": {
       "model_id": "c00bfa52cd32479e873cf7401d20af52",
       "version_major": 2,
       "version_minor": 0
      },
      "text/plain": [
       "Validation: |          | 0/? [00:00<?, ?it/s]"
      ]
     },
     "metadata": {},
     "output_type": "display_data"
    },
    {
     "data": {
      "text/html": [
       "<pre style=\"white-space:pre;overflow-x:auto;line-height:normal;font-family:Menlo,'DejaVu Sans Mono',consolas,'Courier New',monospace\"><span style=\"color: #7fbfbf; text-decoration-color: #7fbfbf\">[12/19/24 13:46:48] </span><span style=\"color: #008000; text-decoration-color: #008000\">DEBUG   </span> <span style=\"color: #008080; text-decoration-color: #008080; font-weight: bold\">2024</span>-<span style=\"color: #008080; text-decoration-color: #008080; font-weight: bold\">12</span>-<span style=\"color: #008080; text-decoration-color: #008080; font-weight: bold\">19</span> <span style=\"color: #00ff00; text-decoration-color: #00ff00; font-weight: bold\">13:46:48</span>,<span style=\"color: #008080; text-decoration-color: #008080; font-weight: bold\">781</span> - DEBUG - open file:                              <a href=\"file:///Users/slegroux/miniforge3/envs/nimrod/lib/python3.11/site-packages/fsspec/implementations/local.py\" target=\"_blank\"><span style=\"color: #7f7f7f; text-decoration-color: #7f7f7f\">local.py</span></a><span style=\"color: #7f7f7f; text-decoration-color: #7f7f7f\">:</span><a href=\"file:///Users/slegroux/miniforge3/envs/nimrod/lib/python3.11/site-packages/fsspec/implementations/local.py#351\" target=\"_blank\"><span style=\"color: #7f7f7f; text-decoration-color: #7f7f7f\">351</span></a>\n",
       "<span style=\"color: #7fbfbf; text-decoration-color: #7fbfbf\">                    </span>         <span style=\"color: #800080; text-decoration-color: #800080\">/Users/slegroux/Projects/nimrod/nbs/logs/nnlm/version_25/</span><span style=\"color: #ff00ff; text-decoration-color: #ff00ff\">hparams.yaml</span>     <span style=\"color: #7f7f7f; text-decoration-color: #7f7f7f\">            </span>\n",
       "</pre>\n"
      ],
      "text/plain": [
       "\u001b[2;36m[12/19/24 13:46:48]\u001b[0m\u001b[2;36m \u001b[0m\u001b[32mDEBUG   \u001b[0m \u001b[1;36m2024\u001b[0m-\u001b[1;36m12\u001b[0m-\u001b[1;36m19\u001b[0m \u001b[1;92m13:46:48\u001b[0m,\u001b[1;36m781\u001b[0m - DEBUG - open file:                              \u001b]8;id=341916;file:///Users/slegroux/miniforge3/envs/nimrod/lib/python3.11/site-packages/fsspec/implementations/local.py\u001b\\\u001b[2mlocal.py\u001b[0m\u001b]8;;\u001b\\\u001b[2m:\u001b[0m\u001b]8;id=423310;file:///Users/slegroux/miniforge3/envs/nimrod/lib/python3.11/site-packages/fsspec/implementations/local.py#351\u001b\\\u001b[2m351\u001b[0m\u001b]8;;\u001b\\\n",
       "\u001b[2;36m                    \u001b[0m         \u001b[35m/Users/slegroux/Projects/nimrod/nbs/logs/nnlm/version_25/\u001b[0m\u001b[95mhparams.yaml\u001b[0m     \u001b[2m            \u001b[0m\n"
      ]
     },
     "metadata": {},
     "output_type": "display_data"
    },
    {
     "data": {
      "text/html": [
       "<pre style=\"white-space:pre;overflow-x:auto;line-height:normal;font-family:Menlo,'DejaVu Sans Mono',consolas,'Courier New',monospace\"><span style=\"color: #7fbfbf; text-decoration-color: #7fbfbf\">                    </span><span style=\"color: #008000; text-decoration-color: #008000\">DEBUG   </span> <span style=\"color: #008080; text-decoration-color: #008080; font-weight: bold\">2024</span>-<span style=\"color: #008080; text-decoration-color: #008080; font-weight: bold\">12</span>-<span style=\"color: #008080; text-decoration-color: #008080; font-weight: bold\">19</span> <span style=\"color: #00ff00; text-decoration-color: #00ff00; font-weight: bold\">13:46:48</span>,<span style=\"color: #008080; text-decoration-color: #008080; font-weight: bold\">782</span> - DEBUG - open file:                              <a href=\"file:///Users/slegroux/miniforge3/envs/nimrod/lib/python3.11/site-packages/fsspec/implementations/local.py\" target=\"_blank\"><span style=\"color: #7f7f7f; text-decoration-color: #7f7f7f\">local.py</span></a><span style=\"color: #7f7f7f; text-decoration-color: #7f7f7f\">:</span><a href=\"file:///Users/slegroux/miniforge3/envs/nimrod/lib/python3.11/site-packages/fsspec/implementations/local.py#351\" target=\"_blank\"><span style=\"color: #7f7f7f; text-decoration-color: #7f7f7f\">351</span></a>\n",
       "<span style=\"color: #7fbfbf; text-decoration-color: #7fbfbf\">                    </span>         <span style=\"color: #800080; text-decoration-color: #800080\">/Users/slegroux/Projects/nimrod/nbs/logs/nnlm/version_25/</span><span style=\"color: #ff00ff; text-decoration-color: #ff00ff\">metrics.csv</span>      <span style=\"color: #7f7f7f; text-decoration-color: #7f7f7f\">            </span>\n",
       "</pre>\n"
      ],
      "text/plain": [
       "\u001b[2;36m                   \u001b[0m\u001b[2;36m \u001b[0m\u001b[32mDEBUG   \u001b[0m \u001b[1;36m2024\u001b[0m-\u001b[1;36m12\u001b[0m-\u001b[1;36m19\u001b[0m \u001b[1;92m13:46:48\u001b[0m,\u001b[1;36m782\u001b[0m - DEBUG - open file:                              \u001b]8;id=687799;file:///Users/slegroux/miniforge3/envs/nimrod/lib/python3.11/site-packages/fsspec/implementations/local.py\u001b\\\u001b[2mlocal.py\u001b[0m\u001b]8;;\u001b\\\u001b[2m:\u001b[0m\u001b]8;id=471703;file:///Users/slegroux/miniforge3/envs/nimrod/lib/python3.11/site-packages/fsspec/implementations/local.py#351\u001b\\\u001b[2m351\u001b[0m\u001b]8;;\u001b\\\n",
       "\u001b[2;36m                    \u001b[0m         \u001b[35m/Users/slegroux/Projects/nimrod/nbs/logs/nnlm/version_25/\u001b[0m\u001b[95mmetrics.csv\u001b[0m      \u001b[2m            \u001b[0m\n"
      ]
     },
     "metadata": {},
     "output_type": "display_data"
    },
    {
     "data": {
      "text/html": [
       "<pre style=\"white-space:pre;overflow-x:auto;line-height:normal;font-family:Menlo,'DejaVu Sans Mono',consolas,'Courier New',monospace\"><span style=\"color: #7fbfbf; text-decoration-color: #7fbfbf\">                    </span><span style=\"color: #008000; text-decoration-color: #008000\">DEBUG   </span> <span style=\"color: #008080; text-decoration-color: #008080; font-weight: bold\">2024</span>-<span style=\"color: #008080; text-decoration-color: #008080; font-weight: bold\">12</span>-<span style=\"color: #008080; text-decoration-color: #008080; font-weight: bold\">19</span> <span style=\"color: #00ff00; text-decoration-color: #00ff00; font-weight: bold\">13:46:48</span>,<span style=\"color: #008080; text-decoration-color: #008080; font-weight: bold\">791</span> - DEBUG - open file:                              <a href=\"file:///Users/slegroux/miniforge3/envs/nimrod/lib/python3.11/site-packages/fsspec/implementations/local.py\" target=\"_blank\"><span style=\"color: #7f7f7f; text-decoration-color: #7f7f7f\">local.py</span></a><span style=\"color: #7f7f7f; text-decoration-color: #7f7f7f\">:</span><a href=\"file:///Users/slegroux/miniforge3/envs/nimrod/lib/python3.11/site-packages/fsspec/implementations/local.py#351\" target=\"_blank\"><span style=\"color: #7f7f7f; text-decoration-color: #7f7f7f\">351</span></a>\n",
       "<span style=\"color: #7fbfbf; text-decoration-color: #7fbfbf\">                    </span>         <span style=\"color: #800080; text-decoration-color: #800080\">/Users/slegroux/Projects/nimrod/nbs/logs/nnlm/version_25/checkpoints/</span><span style=\"color: #ff00ff; text-decoration-color: #ff00ff\">epoc</span> <span style=\"color: #7f7f7f; text-decoration-color: #7f7f7f\">            </span>\n",
       "<span style=\"color: #7fbfbf; text-decoration-color: #7fbfbf\">                    </span>         <span style=\"color: #ff00ff; text-decoration-color: #ff00ff\">h</span>=<span style=\"color: #008080; text-decoration-color: #008080; font-weight: bold\">1</span>-<span style=\"color: #808000; text-decoration-color: #808000\">step</span>=<span style=\"color: #008080; text-decoration-color: #008080; font-weight: bold\">872.</span>ckpt                                                         <span style=\"color: #7f7f7f; text-decoration-color: #7f7f7f\">            </span>\n",
       "</pre>\n"
      ],
      "text/plain": [
       "\u001b[2;36m                   \u001b[0m\u001b[2;36m \u001b[0m\u001b[32mDEBUG   \u001b[0m \u001b[1;36m2024\u001b[0m-\u001b[1;36m12\u001b[0m-\u001b[1;36m19\u001b[0m \u001b[1;92m13:46:48\u001b[0m,\u001b[1;36m791\u001b[0m - DEBUG - open file:                              \u001b]8;id=483191;file:///Users/slegroux/miniforge3/envs/nimrod/lib/python3.11/site-packages/fsspec/implementations/local.py\u001b\\\u001b[2mlocal.py\u001b[0m\u001b]8;;\u001b\\\u001b[2m:\u001b[0m\u001b]8;id=74320;file:///Users/slegroux/miniforge3/envs/nimrod/lib/python3.11/site-packages/fsspec/implementations/local.py#351\u001b\\\u001b[2m351\u001b[0m\u001b]8;;\u001b\\\n",
       "\u001b[2;36m                    \u001b[0m         \u001b[35m/Users/slegroux/Projects/nimrod/nbs/logs/nnlm/version_25/checkpoints/\u001b[0m\u001b[95mepoc\u001b[0m \u001b[2m            \u001b[0m\n",
       "\u001b[2;36m                    \u001b[0m         \u001b[95mh\u001b[0m=\u001b[1;36m1\u001b[0m-\u001b[33mstep\u001b[0m=\u001b[1;36m872\u001b[0m\u001b[1;36m.\u001b[0mckpt                                                         \u001b[2m            \u001b[0m\n"
      ]
     },
     "metadata": {},
     "output_type": "display_data"
    },
    {
     "data": {
      "text/html": [
       "<pre style=\"white-space:pre;overflow-x:auto;line-height:normal;font-family:Menlo,'DejaVu Sans Mono',consolas,'Courier New',monospace\"><span style=\"color: #7fbfbf; text-decoration-color: #7fbfbf\">                    </span><span style=\"color: #008000; text-decoration-color: #008000\">DEBUG   </span> <span style=\"color: #008080; text-decoration-color: #008080; font-weight: bold\">2024</span>-<span style=\"color: #008080; text-decoration-color: #008080; font-weight: bold\">12</span>-<span style=\"color: #008080; text-decoration-color: #008080; font-weight: bold\">19</span> <span style=\"color: #00ff00; text-decoration-color: #00ff00; font-weight: bold\">13:46:48</span>,<span style=\"color: #008080; text-decoration-color: #008080; font-weight: bold\">796</span> - DEBUG - open file:                              <a href=\"file:///Users/slegroux/miniforge3/envs/nimrod/lib/python3.11/site-packages/fsspec/implementations/local.py\" target=\"_blank\"><span style=\"color: #7f7f7f; text-decoration-color: #7f7f7f\">local.py</span></a><span style=\"color: #7f7f7f; text-decoration-color: #7f7f7f\">:</span><a href=\"file:///Users/slegroux/miniforge3/envs/nimrod/lib/python3.11/site-packages/fsspec/implementations/local.py#351\" target=\"_blank\"><span style=\"color: #7f7f7f; text-decoration-color: #7f7f7f\">351</span></a>\n",
       "<span style=\"color: #7fbfbf; text-decoration-color: #7fbfbf\">                    </span>         <span style=\"color: #800080; text-decoration-color: #800080\">/Users/slegroux/Projects/nimrod/nbs/logs/nnlm/version_25/</span><span style=\"color: #ff00ff; text-decoration-color: #ff00ff\">hparams.yaml</span>     <span style=\"color: #7f7f7f; text-decoration-color: #7f7f7f\">            </span>\n",
       "</pre>\n"
      ],
      "text/plain": [
       "\u001b[2;36m                   \u001b[0m\u001b[2;36m \u001b[0m\u001b[32mDEBUG   \u001b[0m \u001b[1;36m2024\u001b[0m-\u001b[1;36m12\u001b[0m-\u001b[1;36m19\u001b[0m \u001b[1;92m13:46:48\u001b[0m,\u001b[1;36m796\u001b[0m - DEBUG - open file:                              \u001b]8;id=637694;file:///Users/slegroux/miniforge3/envs/nimrod/lib/python3.11/site-packages/fsspec/implementations/local.py\u001b\\\u001b[2mlocal.py\u001b[0m\u001b]8;;\u001b\\\u001b[2m:\u001b[0m\u001b]8;id=452453;file:///Users/slegroux/miniforge3/envs/nimrod/lib/python3.11/site-packages/fsspec/implementations/local.py#351\u001b\\\u001b[2m351\u001b[0m\u001b]8;;\u001b\\\n",
       "\u001b[2;36m                    \u001b[0m         \u001b[35m/Users/slegroux/Projects/nimrod/nbs/logs/nnlm/version_25/\u001b[0m\u001b[95mhparams.yaml\u001b[0m     \u001b[2m            \u001b[0m\n"
      ]
     },
     "metadata": {},
     "output_type": "display_data"
    },
    {
     "data": {
      "text/html": [
       "<pre style=\"white-space:pre;overflow-x:auto;line-height:normal;font-family:Menlo,'DejaVu Sans Mono',consolas,'Courier New',monospace\"><span style=\"color: #7fbfbf; text-decoration-color: #7fbfbf\">                    </span><span style=\"color: #008000; text-decoration-color: #008000\">DEBUG   </span> <span style=\"color: #008080; text-decoration-color: #008080; font-weight: bold\">2024</span>-<span style=\"color: #008080; text-decoration-color: #008080; font-weight: bold\">12</span>-<span style=\"color: #008080; text-decoration-color: #008080; font-weight: bold\">19</span> <span style=\"color: #00ff00; text-decoration-color: #00ff00; font-weight: bold\">13:46:48</span>,<span style=\"color: #008080; text-decoration-color: #008080; font-weight: bold\">798</span> - DEBUG - open file:                              <a href=\"file:///Users/slegroux/miniforge3/envs/nimrod/lib/python3.11/site-packages/fsspec/implementations/local.py\" target=\"_blank\"><span style=\"color: #7f7f7f; text-decoration-color: #7f7f7f\">local.py</span></a><span style=\"color: #7f7f7f; text-decoration-color: #7f7f7f\">:</span><a href=\"file:///Users/slegroux/miniforge3/envs/nimrod/lib/python3.11/site-packages/fsspec/implementations/local.py#351\" target=\"_blank\"><span style=\"color: #7f7f7f; text-decoration-color: #7f7f7f\">351</span></a>\n",
       "<span style=\"color: #7fbfbf; text-decoration-color: #7fbfbf\">                    </span>         <span style=\"color: #800080; text-decoration-color: #800080\">/Users/slegroux/Projects/nimrod/nbs/logs/nnlm/version_25/</span><span style=\"color: #ff00ff; text-decoration-color: #ff00ff\">metrics.csv</span>      <span style=\"color: #7f7f7f; text-decoration-color: #7f7f7f\">            </span>\n",
       "</pre>\n"
      ],
      "text/plain": [
       "\u001b[2;36m                   \u001b[0m\u001b[2;36m \u001b[0m\u001b[32mDEBUG   \u001b[0m \u001b[1;36m2024\u001b[0m-\u001b[1;36m12\u001b[0m-\u001b[1;36m19\u001b[0m \u001b[1;92m13:46:48\u001b[0m,\u001b[1;36m798\u001b[0m - DEBUG - open file:                              \u001b]8;id=730687;file:///Users/slegroux/miniforge3/envs/nimrod/lib/python3.11/site-packages/fsspec/implementations/local.py\u001b\\\u001b[2mlocal.py\u001b[0m\u001b]8;;\u001b\\\u001b[2m:\u001b[0m\u001b]8;id=961039;file:///Users/slegroux/miniforge3/envs/nimrod/lib/python3.11/site-packages/fsspec/implementations/local.py#351\u001b\\\u001b[2m351\u001b[0m\u001b]8;;\u001b\\\n",
       "\u001b[2;36m                    \u001b[0m         \u001b[35m/Users/slegroux/Projects/nimrod/nbs/logs/nnlm/version_25/\u001b[0m\u001b[95mmetrics.csv\u001b[0m      \u001b[2m            \u001b[0m\n"
      ]
     },
     "metadata": {},
     "output_type": "display_data"
    },
    {
     "data": {
      "text/html": [
       "<pre style=\"white-space:pre;overflow-x:auto;line-height:normal;font-family:Menlo,'DejaVu Sans Mono',consolas,'Courier New',monospace\"><span style=\"color: #7fbfbf; text-decoration-color: #7fbfbf\">[12/19/24 13:46:49] </span><span style=\"color: #008000; text-decoration-color: #008000\">DEBUG   </span> <span style=\"color: #008080; text-decoration-color: #008080; font-weight: bold\">2024</span>-<span style=\"color: #008080; text-decoration-color: #008080; font-weight: bold\">12</span>-<span style=\"color: #008080; text-decoration-color: #008080; font-weight: bold\">19</span> <span style=\"color: #00ff00; text-decoration-color: #00ff00; font-weight: bold\">13:46:49</span>,<span style=\"color: #008080; text-decoration-color: #008080; font-weight: bold\">678</span> - DEBUG - open file:                              <a href=\"file:///Users/slegroux/miniforge3/envs/nimrod/lib/python3.11/site-packages/fsspec/implementations/local.py\" target=\"_blank\"><span style=\"color: #7f7f7f; text-decoration-color: #7f7f7f\">local.py</span></a><span style=\"color: #7f7f7f; text-decoration-color: #7f7f7f\">:</span><a href=\"file:///Users/slegroux/miniforge3/envs/nimrod/lib/python3.11/site-packages/fsspec/implementations/local.py#351\" target=\"_blank\"><span style=\"color: #7f7f7f; text-decoration-color: #7f7f7f\">351</span></a>\n",
       "<span style=\"color: #7fbfbf; text-decoration-color: #7fbfbf\">                    </span>         <span style=\"color: #800080; text-decoration-color: #800080\">/Users/slegroux/Projects/nimrod/nbs/logs/nnlm/version_25/</span><span style=\"color: #ff00ff; text-decoration-color: #ff00ff\">hparams.yaml</span>     <span style=\"color: #7f7f7f; text-decoration-color: #7f7f7f\">            </span>\n",
       "</pre>\n"
      ],
      "text/plain": [
       "\u001b[2;36m[12/19/24 13:46:49]\u001b[0m\u001b[2;36m \u001b[0m\u001b[32mDEBUG   \u001b[0m \u001b[1;36m2024\u001b[0m-\u001b[1;36m12\u001b[0m-\u001b[1;36m19\u001b[0m \u001b[1;92m13:46:49\u001b[0m,\u001b[1;36m678\u001b[0m - DEBUG - open file:                              \u001b]8;id=370622;file:///Users/slegroux/miniforge3/envs/nimrod/lib/python3.11/site-packages/fsspec/implementations/local.py\u001b\\\u001b[2mlocal.py\u001b[0m\u001b]8;;\u001b\\\u001b[2m:\u001b[0m\u001b]8;id=518664;file:///Users/slegroux/miniforge3/envs/nimrod/lib/python3.11/site-packages/fsspec/implementations/local.py#351\u001b\\\u001b[2m351\u001b[0m\u001b]8;;\u001b\\\n",
       "\u001b[2;36m                    \u001b[0m         \u001b[35m/Users/slegroux/Projects/nimrod/nbs/logs/nnlm/version_25/\u001b[0m\u001b[95mhparams.yaml\u001b[0m     \u001b[2m            \u001b[0m\n"
      ]
     },
     "metadata": {},
     "output_type": "display_data"
    },
    {
     "data": {
      "text/html": [
       "<pre style=\"white-space:pre;overflow-x:auto;line-height:normal;font-family:Menlo,'DejaVu Sans Mono',consolas,'Courier New',monospace\"><span style=\"color: #7fbfbf; text-decoration-color: #7fbfbf\">                    </span><span style=\"color: #008000; text-decoration-color: #008000\">DEBUG   </span> <span style=\"color: #008080; text-decoration-color: #008080; font-weight: bold\">2024</span>-<span style=\"color: #008080; text-decoration-color: #008080; font-weight: bold\">12</span>-<span style=\"color: #008080; text-decoration-color: #008080; font-weight: bold\">19</span> <span style=\"color: #00ff00; text-decoration-color: #00ff00; font-weight: bold\">13:46:49</span>,<span style=\"color: #008080; text-decoration-color: #008080; font-weight: bold\">683</span> - DEBUG - open file:                              <a href=\"file:///Users/slegroux/miniforge3/envs/nimrod/lib/python3.11/site-packages/fsspec/implementations/local.py\" target=\"_blank\"><span style=\"color: #7f7f7f; text-decoration-color: #7f7f7f\">local.py</span></a><span style=\"color: #7f7f7f; text-decoration-color: #7f7f7f\">:</span><a href=\"file:///Users/slegroux/miniforge3/envs/nimrod/lib/python3.11/site-packages/fsspec/implementations/local.py#351\" target=\"_blank\"><span style=\"color: #7f7f7f; text-decoration-color: #7f7f7f\">351</span></a>\n",
       "<span style=\"color: #7fbfbf; text-decoration-color: #7fbfbf\">                    </span>         <span style=\"color: #800080; text-decoration-color: #800080\">/Users/slegroux/Projects/nimrod/nbs/logs/nnlm/version_25/</span><span style=\"color: #ff00ff; text-decoration-color: #ff00ff\">metrics.csv</span>      <span style=\"color: #7f7f7f; text-decoration-color: #7f7f7f\">            </span>\n",
       "</pre>\n"
      ],
      "text/plain": [
       "\u001b[2;36m                   \u001b[0m\u001b[2;36m \u001b[0m\u001b[32mDEBUG   \u001b[0m \u001b[1;36m2024\u001b[0m-\u001b[1;36m12\u001b[0m-\u001b[1;36m19\u001b[0m \u001b[1;92m13:46:49\u001b[0m,\u001b[1;36m683\u001b[0m - DEBUG - open file:                              \u001b]8;id=597732;file:///Users/slegroux/miniforge3/envs/nimrod/lib/python3.11/site-packages/fsspec/implementations/local.py\u001b\\\u001b[2mlocal.py\u001b[0m\u001b]8;;\u001b\\\u001b[2m:\u001b[0m\u001b]8;id=388868;file:///Users/slegroux/miniforge3/envs/nimrod/lib/python3.11/site-packages/fsspec/implementations/local.py#351\u001b\\\u001b[2m351\u001b[0m\u001b]8;;\u001b\\\n",
       "\u001b[2;36m                    \u001b[0m         \u001b[35m/Users/slegroux/Projects/nimrod/nbs/logs/nnlm/version_25/\u001b[0m\u001b[95mmetrics.csv\u001b[0m      \u001b[2m            \u001b[0m\n"
      ]
     },
     "metadata": {},
     "output_type": "display_data"
    },
    {
     "data": {
      "text/html": [
       "<pre style=\"white-space:pre;overflow-x:auto;line-height:normal;font-family:Menlo,'DejaVu Sans Mono',consolas,'Courier New',monospace\"><span style=\"color: #7fbfbf; text-decoration-color: #7fbfbf\">                    </span><span style=\"color: #008000; text-decoration-color: #008000\">DEBUG   </span> <span style=\"color: #008080; text-decoration-color: #008080; font-weight: bold\">2024</span>-<span style=\"color: #008080; text-decoration-color: #008080; font-weight: bold\">12</span>-<span style=\"color: #008080; text-decoration-color: #008080; font-weight: bold\">19</span> <span style=\"color: #00ff00; text-decoration-color: #00ff00; font-weight: bold\">13:46:49</span>,<span style=\"color: #008080; text-decoration-color: #008080; font-weight: bold\">687</span> - DEBUG - open file:                              <a href=\"file:///Users/slegroux/miniforge3/envs/nimrod/lib/python3.11/site-packages/fsspec/implementations/local.py\" target=\"_blank\"><span style=\"color: #7f7f7f; text-decoration-color: #7f7f7f\">local.py</span></a><span style=\"color: #7f7f7f; text-decoration-color: #7f7f7f\">:</span><a href=\"file:///Users/slegroux/miniforge3/envs/nimrod/lib/python3.11/site-packages/fsspec/implementations/local.py#351\" target=\"_blank\"><span style=\"color: #7f7f7f; text-decoration-color: #7f7f7f\">351</span></a>\n",
       "<span style=\"color: #7fbfbf; text-decoration-color: #7fbfbf\">                    </span>         <span style=\"color: #800080; text-decoration-color: #800080\">/Users/slegroux/Projects/nimrod/nbs/logs/nnlm/version_25/</span><span style=\"color: #ff00ff; text-decoration-color: #ff00ff\">hparams.yaml</span>     <span style=\"color: #7f7f7f; text-decoration-color: #7f7f7f\">            </span>\n",
       "</pre>\n"
      ],
      "text/plain": [
       "\u001b[2;36m                   \u001b[0m\u001b[2;36m \u001b[0m\u001b[32mDEBUG   \u001b[0m \u001b[1;36m2024\u001b[0m-\u001b[1;36m12\u001b[0m-\u001b[1;36m19\u001b[0m \u001b[1;92m13:46:49\u001b[0m,\u001b[1;36m687\u001b[0m - DEBUG - open file:                              \u001b]8;id=339958;file:///Users/slegroux/miniforge3/envs/nimrod/lib/python3.11/site-packages/fsspec/implementations/local.py\u001b\\\u001b[2mlocal.py\u001b[0m\u001b]8;;\u001b\\\u001b[2m:\u001b[0m\u001b]8;id=940101;file:///Users/slegroux/miniforge3/envs/nimrod/lib/python3.11/site-packages/fsspec/implementations/local.py#351\u001b\\\u001b[2m351\u001b[0m\u001b]8;;\u001b\\\n",
       "\u001b[2;36m                    \u001b[0m         \u001b[35m/Users/slegroux/Projects/nimrod/nbs/logs/nnlm/version_25/\u001b[0m\u001b[95mhparams.yaml\u001b[0m     \u001b[2m            \u001b[0m\n"
      ]
     },
     "metadata": {},
     "output_type": "display_data"
    },
    {
     "data": {
      "text/html": [
       "<pre style=\"white-space:pre;overflow-x:auto;line-height:normal;font-family:Menlo,'DejaVu Sans Mono',consolas,'Courier New',monospace\"><span style=\"color: #7fbfbf; text-decoration-color: #7fbfbf\">[12/19/24 13:46:50] </span><span style=\"color: #008000; text-decoration-color: #008000\">DEBUG   </span> <span style=\"color: #008080; text-decoration-color: #008080; font-weight: bold\">2024</span>-<span style=\"color: #008080; text-decoration-color: #008080; font-weight: bold\">12</span>-<span style=\"color: #008080; text-decoration-color: #008080; font-weight: bold\">19</span> <span style=\"color: #00ff00; text-decoration-color: #00ff00; font-weight: bold\">13:46:50</span>,<span style=\"color: #008080; text-decoration-color: #008080; font-weight: bold\">978</span> - DEBUG - open file:                              <a href=\"file:///Users/slegroux/miniforge3/envs/nimrod/lib/python3.11/site-packages/fsspec/implementations/local.py\" target=\"_blank\"><span style=\"color: #7f7f7f; text-decoration-color: #7f7f7f\">local.py</span></a><span style=\"color: #7f7f7f; text-decoration-color: #7f7f7f\">:</span><a href=\"file:///Users/slegroux/miniforge3/envs/nimrod/lib/python3.11/site-packages/fsspec/implementations/local.py#351\" target=\"_blank\"><span style=\"color: #7f7f7f; text-decoration-color: #7f7f7f\">351</span></a>\n",
       "<span style=\"color: #7fbfbf; text-decoration-color: #7fbfbf\">                    </span>         <span style=\"color: #800080; text-decoration-color: #800080\">/Users/slegroux/Projects/nimrod/nbs/logs/nnlm/version_25/</span><span style=\"color: #ff00ff; text-decoration-color: #ff00ff\">hparams.yaml</span>     <span style=\"color: #7f7f7f; text-decoration-color: #7f7f7f\">            </span>\n",
       "</pre>\n"
      ],
      "text/plain": [
       "\u001b[2;36m[12/19/24 13:46:50]\u001b[0m\u001b[2;36m \u001b[0m\u001b[32mDEBUG   \u001b[0m \u001b[1;36m2024\u001b[0m-\u001b[1;36m12\u001b[0m-\u001b[1;36m19\u001b[0m \u001b[1;92m13:46:50\u001b[0m,\u001b[1;36m978\u001b[0m - DEBUG - open file:                              \u001b]8;id=405508;file:///Users/slegroux/miniforge3/envs/nimrod/lib/python3.11/site-packages/fsspec/implementations/local.py\u001b\\\u001b[2mlocal.py\u001b[0m\u001b]8;;\u001b\\\u001b[2m:\u001b[0m\u001b]8;id=140513;file:///Users/slegroux/miniforge3/envs/nimrod/lib/python3.11/site-packages/fsspec/implementations/local.py#351\u001b\\\u001b[2m351\u001b[0m\u001b]8;;\u001b\\\n",
       "\u001b[2;36m                    \u001b[0m         \u001b[35m/Users/slegroux/Projects/nimrod/nbs/logs/nnlm/version_25/\u001b[0m\u001b[95mhparams.yaml\u001b[0m     \u001b[2m            \u001b[0m\n"
      ]
     },
     "metadata": {},
     "output_type": "display_data"
    },
    {
     "data": {
      "text/html": [
       "<pre style=\"white-space:pre;overflow-x:auto;line-height:normal;font-family:Menlo,'DejaVu Sans Mono',consolas,'Courier New',monospace\"><span style=\"color: #7fbfbf; text-decoration-color: #7fbfbf\">                    </span><span style=\"color: #008000; text-decoration-color: #008000\">DEBUG   </span> <span style=\"color: #008080; text-decoration-color: #008080; font-weight: bold\">2024</span>-<span style=\"color: #008080; text-decoration-color: #008080; font-weight: bold\">12</span>-<span style=\"color: #008080; text-decoration-color: #008080; font-weight: bold\">19</span> <span style=\"color: #00ff00; text-decoration-color: #00ff00; font-weight: bold\">13:46:50</span>,<span style=\"color: #008080; text-decoration-color: #008080; font-weight: bold\">988</span> - DEBUG - open file:                              <a href=\"file:///Users/slegroux/miniforge3/envs/nimrod/lib/python3.11/site-packages/fsspec/implementations/local.py\" target=\"_blank\"><span style=\"color: #7f7f7f; text-decoration-color: #7f7f7f\">local.py</span></a><span style=\"color: #7f7f7f; text-decoration-color: #7f7f7f\">:</span><a href=\"file:///Users/slegroux/miniforge3/envs/nimrod/lib/python3.11/site-packages/fsspec/implementations/local.py#351\" target=\"_blank\"><span style=\"color: #7f7f7f; text-decoration-color: #7f7f7f\">351</span></a>\n",
       "<span style=\"color: #7fbfbf; text-decoration-color: #7fbfbf\">                    </span>         <span style=\"color: #800080; text-decoration-color: #800080\">/Users/slegroux/Projects/nimrod/nbs/logs/nnlm/version_25/</span><span style=\"color: #ff00ff; text-decoration-color: #ff00ff\">metrics.csv</span>      <span style=\"color: #7f7f7f; text-decoration-color: #7f7f7f\">            </span>\n",
       "</pre>\n"
      ],
      "text/plain": [
       "\u001b[2;36m                   \u001b[0m\u001b[2;36m \u001b[0m\u001b[32mDEBUG   \u001b[0m \u001b[1;36m2024\u001b[0m-\u001b[1;36m12\u001b[0m-\u001b[1;36m19\u001b[0m \u001b[1;92m13:46:50\u001b[0m,\u001b[1;36m988\u001b[0m - DEBUG - open file:                              \u001b]8;id=464634;file:///Users/slegroux/miniforge3/envs/nimrod/lib/python3.11/site-packages/fsspec/implementations/local.py\u001b\\\u001b[2mlocal.py\u001b[0m\u001b]8;;\u001b\\\u001b[2m:\u001b[0m\u001b]8;id=120306;file:///Users/slegroux/miniforge3/envs/nimrod/lib/python3.11/site-packages/fsspec/implementations/local.py#351\u001b\\\u001b[2m351\u001b[0m\u001b]8;;\u001b\\\n",
       "\u001b[2;36m                    \u001b[0m         \u001b[35m/Users/slegroux/Projects/nimrod/nbs/logs/nnlm/version_25/\u001b[0m\u001b[95mmetrics.csv\u001b[0m      \u001b[2m            \u001b[0m\n"
      ]
     },
     "metadata": {},
     "output_type": "display_data"
    },
    {
     "data": {
      "text/html": [
       "<pre style=\"white-space:pre;overflow-x:auto;line-height:normal;font-family:Menlo,'DejaVu Sans Mono',consolas,'Courier New',monospace\"><span style=\"color: #7fbfbf; text-decoration-color: #7fbfbf\">[12/19/24 13:46:52] </span><span style=\"color: #008000; text-decoration-color: #008000\">DEBUG   </span> <span style=\"color: #008080; text-decoration-color: #008080; font-weight: bold\">2024</span>-<span style=\"color: #008080; text-decoration-color: #008080; font-weight: bold\">12</span>-<span style=\"color: #008080; text-decoration-color: #008080; font-weight: bold\">19</span> <span style=\"color: #00ff00; text-decoration-color: #00ff00; font-weight: bold\">13:46:52</span>,<span style=\"color: #008080; text-decoration-color: #008080; font-weight: bold\">405</span> - DEBUG - open file:                              <a href=\"file:///Users/slegroux/miniforge3/envs/nimrod/lib/python3.11/site-packages/fsspec/implementations/local.py\" target=\"_blank\"><span style=\"color: #7f7f7f; text-decoration-color: #7f7f7f\">local.py</span></a><span style=\"color: #7f7f7f; text-decoration-color: #7f7f7f\">:</span><a href=\"file:///Users/slegroux/miniforge3/envs/nimrod/lib/python3.11/site-packages/fsspec/implementations/local.py#351\" target=\"_blank\"><span style=\"color: #7f7f7f; text-decoration-color: #7f7f7f\">351</span></a>\n",
       "<span style=\"color: #7fbfbf; text-decoration-color: #7fbfbf\">                    </span>         <span style=\"color: #800080; text-decoration-color: #800080\">/Users/slegroux/Projects/nimrod/nbs/logs/nnlm/version_25/</span><span style=\"color: #ff00ff; text-decoration-color: #ff00ff\">hparams.yaml</span>     <span style=\"color: #7f7f7f; text-decoration-color: #7f7f7f\">            </span>\n",
       "</pre>\n"
      ],
      "text/plain": [
       "\u001b[2;36m[12/19/24 13:46:52]\u001b[0m\u001b[2;36m \u001b[0m\u001b[32mDEBUG   \u001b[0m \u001b[1;36m2024\u001b[0m-\u001b[1;36m12\u001b[0m-\u001b[1;36m19\u001b[0m \u001b[1;92m13:46:52\u001b[0m,\u001b[1;36m405\u001b[0m - DEBUG - open file:                              \u001b]8;id=933328;file:///Users/slegroux/miniforge3/envs/nimrod/lib/python3.11/site-packages/fsspec/implementations/local.py\u001b\\\u001b[2mlocal.py\u001b[0m\u001b]8;;\u001b\\\u001b[2m:\u001b[0m\u001b]8;id=880637;file:///Users/slegroux/miniforge3/envs/nimrod/lib/python3.11/site-packages/fsspec/implementations/local.py#351\u001b\\\u001b[2m351\u001b[0m\u001b]8;;\u001b\\\n",
       "\u001b[2;36m                    \u001b[0m         \u001b[35m/Users/slegroux/Projects/nimrod/nbs/logs/nnlm/version_25/\u001b[0m\u001b[95mhparams.yaml\u001b[0m     \u001b[2m            \u001b[0m\n"
      ]
     },
     "metadata": {},
     "output_type": "display_data"
    },
    {
     "data": {
      "text/html": [
       "<pre style=\"white-space:pre;overflow-x:auto;line-height:normal;font-family:Menlo,'DejaVu Sans Mono',consolas,'Courier New',monospace\"><span style=\"color: #7fbfbf; text-decoration-color: #7fbfbf\">                    </span><span style=\"color: #008000; text-decoration-color: #008000\">DEBUG   </span> <span style=\"color: #008080; text-decoration-color: #008080; font-weight: bold\">2024</span>-<span style=\"color: #008080; text-decoration-color: #008080; font-weight: bold\">12</span>-<span style=\"color: #008080; text-decoration-color: #008080; font-weight: bold\">19</span> <span style=\"color: #00ff00; text-decoration-color: #00ff00; font-weight: bold\">13:46:52</span>,<span style=\"color: #008080; text-decoration-color: #008080; font-weight: bold\">408</span> - DEBUG - open file:                              <a href=\"file:///Users/slegroux/miniforge3/envs/nimrod/lib/python3.11/site-packages/fsspec/implementations/local.py\" target=\"_blank\"><span style=\"color: #7f7f7f; text-decoration-color: #7f7f7f\">local.py</span></a><span style=\"color: #7f7f7f; text-decoration-color: #7f7f7f\">:</span><a href=\"file:///Users/slegroux/miniforge3/envs/nimrod/lib/python3.11/site-packages/fsspec/implementations/local.py#351\" target=\"_blank\"><span style=\"color: #7f7f7f; text-decoration-color: #7f7f7f\">351</span></a>\n",
       "<span style=\"color: #7fbfbf; text-decoration-color: #7fbfbf\">                    </span>         <span style=\"color: #800080; text-decoration-color: #800080\">/Users/slegroux/Projects/nimrod/nbs/logs/nnlm/version_25/</span><span style=\"color: #ff00ff; text-decoration-color: #ff00ff\">metrics.csv</span>      <span style=\"color: #7f7f7f; text-decoration-color: #7f7f7f\">            </span>\n",
       "</pre>\n"
      ],
      "text/plain": [
       "\u001b[2;36m                   \u001b[0m\u001b[2;36m \u001b[0m\u001b[32mDEBUG   \u001b[0m \u001b[1;36m2024\u001b[0m-\u001b[1;36m12\u001b[0m-\u001b[1;36m19\u001b[0m \u001b[1;92m13:46:52\u001b[0m,\u001b[1;36m408\u001b[0m - DEBUG - open file:                              \u001b]8;id=235149;file:///Users/slegroux/miniforge3/envs/nimrod/lib/python3.11/site-packages/fsspec/implementations/local.py\u001b\\\u001b[2mlocal.py\u001b[0m\u001b]8;;\u001b\\\u001b[2m:\u001b[0m\u001b]8;id=654589;file:///Users/slegroux/miniforge3/envs/nimrod/lib/python3.11/site-packages/fsspec/implementations/local.py#351\u001b\\\u001b[2m351\u001b[0m\u001b]8;;\u001b\\\n",
       "\u001b[2;36m                    \u001b[0m         \u001b[35m/Users/slegroux/Projects/nimrod/nbs/logs/nnlm/version_25/\u001b[0m\u001b[95mmetrics.csv\u001b[0m      \u001b[2m            \u001b[0m\n"
      ]
     },
     "metadata": {},
     "output_type": "display_data"
    },
    {
     "data": {
      "text/html": [
       "<pre style=\"white-space:pre;overflow-x:auto;line-height:normal;font-family:Menlo,'DejaVu Sans Mono',consolas,'Courier New',monospace\"><span style=\"color: #7fbfbf; text-decoration-color: #7fbfbf\">                    </span><span style=\"color: #008000; text-decoration-color: #008000\">DEBUG   </span> <span style=\"color: #008080; text-decoration-color: #008080; font-weight: bold\">2024</span>-<span style=\"color: #008080; text-decoration-color: #008080; font-weight: bold\">12</span>-<span style=\"color: #008080; text-decoration-color: #008080; font-weight: bold\">19</span> <span style=\"color: #00ff00; text-decoration-color: #00ff00; font-weight: bold\">13:46:52</span>,<span style=\"color: #008080; text-decoration-color: #008080; font-weight: bold\">411</span> - DEBUG - open file:                              <a href=\"file:///Users/slegroux/miniforge3/envs/nimrod/lib/python3.11/site-packages/fsspec/implementations/local.py\" target=\"_blank\"><span style=\"color: #7f7f7f; text-decoration-color: #7f7f7f\">local.py</span></a><span style=\"color: #7f7f7f; text-decoration-color: #7f7f7f\">:</span><a href=\"file:///Users/slegroux/miniforge3/envs/nimrod/lib/python3.11/site-packages/fsspec/implementations/local.py#351\" target=\"_blank\"><span style=\"color: #7f7f7f; text-decoration-color: #7f7f7f\">351</span></a>\n",
       "<span style=\"color: #7fbfbf; text-decoration-color: #7fbfbf\">                    </span>         <span style=\"color: #800080; text-decoration-color: #800080\">/Users/slegroux/Projects/nimrod/nbs/logs/nnlm/version_25/</span><span style=\"color: #ff00ff; text-decoration-color: #ff00ff\">hparams.yaml</span>     <span style=\"color: #7f7f7f; text-decoration-color: #7f7f7f\">            </span>\n",
       "</pre>\n"
      ],
      "text/plain": [
       "\u001b[2;36m                   \u001b[0m\u001b[2;36m \u001b[0m\u001b[32mDEBUG   \u001b[0m \u001b[1;36m2024\u001b[0m-\u001b[1;36m12\u001b[0m-\u001b[1;36m19\u001b[0m \u001b[1;92m13:46:52\u001b[0m,\u001b[1;36m411\u001b[0m - DEBUG - open file:                              \u001b]8;id=328144;file:///Users/slegroux/miniforge3/envs/nimrod/lib/python3.11/site-packages/fsspec/implementations/local.py\u001b\\\u001b[2mlocal.py\u001b[0m\u001b]8;;\u001b\\\u001b[2m:\u001b[0m\u001b]8;id=137344;file:///Users/slegroux/miniforge3/envs/nimrod/lib/python3.11/site-packages/fsspec/implementations/local.py#351\u001b\\\u001b[2m351\u001b[0m\u001b]8;;\u001b\\\n",
       "\u001b[2;36m                    \u001b[0m         \u001b[35m/Users/slegroux/Projects/nimrod/nbs/logs/nnlm/version_25/\u001b[0m\u001b[95mhparams.yaml\u001b[0m     \u001b[2m            \u001b[0m\n"
      ]
     },
     "metadata": {},
     "output_type": "display_data"
    },
    {
     "data": {
      "text/html": [
       "<pre style=\"white-space:pre;overflow-x:auto;line-height:normal;font-family:Menlo,'DejaVu Sans Mono',consolas,'Courier New',monospace\"><span style=\"color: #7fbfbf; text-decoration-color: #7fbfbf\">[12/19/24 13:46:53] </span><span style=\"color: #008000; text-decoration-color: #008000\">DEBUG   </span> <span style=\"color: #008080; text-decoration-color: #008080; font-weight: bold\">2024</span>-<span style=\"color: #008080; text-decoration-color: #008080; font-weight: bold\">12</span>-<span style=\"color: #008080; text-decoration-color: #008080; font-weight: bold\">19</span> <span style=\"color: #00ff00; text-decoration-color: #00ff00; font-weight: bold\">13:46:53</span>,<span style=\"color: #008080; text-decoration-color: #008080; font-weight: bold\">819</span> - DEBUG - open file:                              <a href=\"file:///Users/slegroux/miniforge3/envs/nimrod/lib/python3.11/site-packages/fsspec/implementations/local.py\" target=\"_blank\"><span style=\"color: #7f7f7f; text-decoration-color: #7f7f7f\">local.py</span></a><span style=\"color: #7f7f7f; text-decoration-color: #7f7f7f\">:</span><a href=\"file:///Users/slegroux/miniforge3/envs/nimrod/lib/python3.11/site-packages/fsspec/implementations/local.py#351\" target=\"_blank\"><span style=\"color: #7f7f7f; text-decoration-color: #7f7f7f\">351</span></a>\n",
       "<span style=\"color: #7fbfbf; text-decoration-color: #7fbfbf\">                    </span>         <span style=\"color: #800080; text-decoration-color: #800080\">/Users/slegroux/Projects/nimrod/nbs/logs/nnlm/version_25/</span><span style=\"color: #ff00ff; text-decoration-color: #ff00ff\">hparams.yaml</span>     <span style=\"color: #7f7f7f; text-decoration-color: #7f7f7f\">            </span>\n",
       "</pre>\n"
      ],
      "text/plain": [
       "\u001b[2;36m[12/19/24 13:46:53]\u001b[0m\u001b[2;36m \u001b[0m\u001b[32mDEBUG   \u001b[0m \u001b[1;36m2024\u001b[0m-\u001b[1;36m12\u001b[0m-\u001b[1;36m19\u001b[0m \u001b[1;92m13:46:53\u001b[0m,\u001b[1;36m819\u001b[0m - DEBUG - open file:                              \u001b]8;id=384799;file:///Users/slegroux/miniforge3/envs/nimrod/lib/python3.11/site-packages/fsspec/implementations/local.py\u001b\\\u001b[2mlocal.py\u001b[0m\u001b]8;;\u001b\\\u001b[2m:\u001b[0m\u001b]8;id=150378;file:///Users/slegroux/miniforge3/envs/nimrod/lib/python3.11/site-packages/fsspec/implementations/local.py#351\u001b\\\u001b[2m351\u001b[0m\u001b]8;;\u001b\\\n",
       "\u001b[2;36m                    \u001b[0m         \u001b[35m/Users/slegroux/Projects/nimrod/nbs/logs/nnlm/version_25/\u001b[0m\u001b[95mhparams.yaml\u001b[0m     \u001b[2m            \u001b[0m\n"
      ]
     },
     "metadata": {},
     "output_type": "display_data"
    },
    {
     "data": {
      "text/html": [
       "<pre style=\"white-space:pre;overflow-x:auto;line-height:normal;font-family:Menlo,'DejaVu Sans Mono',consolas,'Courier New',monospace\"><span style=\"color: #7fbfbf; text-decoration-color: #7fbfbf\">                    </span><span style=\"color: #008000; text-decoration-color: #008000\">DEBUG   </span> <span style=\"color: #008080; text-decoration-color: #008080; font-weight: bold\">2024</span>-<span style=\"color: #008080; text-decoration-color: #008080; font-weight: bold\">12</span>-<span style=\"color: #008080; text-decoration-color: #008080; font-weight: bold\">19</span> <span style=\"color: #00ff00; text-decoration-color: #00ff00; font-weight: bold\">13:46:53</span>,<span style=\"color: #008080; text-decoration-color: #008080; font-weight: bold\">825</span> - DEBUG - open file:                              <a href=\"file:///Users/slegroux/miniforge3/envs/nimrod/lib/python3.11/site-packages/fsspec/implementations/local.py\" target=\"_blank\"><span style=\"color: #7f7f7f; text-decoration-color: #7f7f7f\">local.py</span></a><span style=\"color: #7f7f7f; text-decoration-color: #7f7f7f\">:</span><a href=\"file:///Users/slegroux/miniforge3/envs/nimrod/lib/python3.11/site-packages/fsspec/implementations/local.py#351\" target=\"_blank\"><span style=\"color: #7f7f7f; text-decoration-color: #7f7f7f\">351</span></a>\n",
       "<span style=\"color: #7fbfbf; text-decoration-color: #7fbfbf\">                    </span>         <span style=\"color: #800080; text-decoration-color: #800080\">/Users/slegroux/Projects/nimrod/nbs/logs/nnlm/version_25/</span><span style=\"color: #ff00ff; text-decoration-color: #ff00ff\">metrics.csv</span>      <span style=\"color: #7f7f7f; text-decoration-color: #7f7f7f\">            </span>\n",
       "</pre>\n"
      ],
      "text/plain": [
       "\u001b[2;36m                   \u001b[0m\u001b[2;36m \u001b[0m\u001b[32mDEBUG   \u001b[0m \u001b[1;36m2024\u001b[0m-\u001b[1;36m12\u001b[0m-\u001b[1;36m19\u001b[0m \u001b[1;92m13:46:53\u001b[0m,\u001b[1;36m825\u001b[0m - DEBUG - open file:                              \u001b]8;id=475142;file:///Users/slegroux/miniforge3/envs/nimrod/lib/python3.11/site-packages/fsspec/implementations/local.py\u001b\\\u001b[2mlocal.py\u001b[0m\u001b]8;;\u001b\\\u001b[2m:\u001b[0m\u001b]8;id=937657;file:///Users/slegroux/miniforge3/envs/nimrod/lib/python3.11/site-packages/fsspec/implementations/local.py#351\u001b\\\u001b[2m351\u001b[0m\u001b]8;;\u001b\\\n",
       "\u001b[2;36m                    \u001b[0m         \u001b[35m/Users/slegroux/Projects/nimrod/nbs/logs/nnlm/version_25/\u001b[0m\u001b[95mmetrics.csv\u001b[0m      \u001b[2m            \u001b[0m\n"
      ]
     },
     "metadata": {},
     "output_type": "display_data"
    },
    {
     "data": {
      "text/html": [
       "<pre style=\"white-space:pre;overflow-x:auto;line-height:normal;font-family:Menlo,'DejaVu Sans Mono',consolas,'Courier New',monospace\"><span style=\"color: #7fbfbf; text-decoration-color: #7fbfbf\">[12/19/24 13:46:55] </span><span style=\"color: #008000; text-decoration-color: #008000\">DEBUG   </span> <span style=\"color: #008080; text-decoration-color: #008080; font-weight: bold\">2024</span>-<span style=\"color: #008080; text-decoration-color: #008080; font-weight: bold\">12</span>-<span style=\"color: #008080; text-decoration-color: #008080; font-weight: bold\">19</span> <span style=\"color: #00ff00; text-decoration-color: #00ff00; font-weight: bold\">13:46:55</span>,<span style=\"color: #008080; text-decoration-color: #008080; font-weight: bold\">072</span> - DEBUG - open file:                              <a href=\"file:///Users/slegroux/miniforge3/envs/nimrod/lib/python3.11/site-packages/fsspec/implementations/local.py\" target=\"_blank\"><span style=\"color: #7f7f7f; text-decoration-color: #7f7f7f\">local.py</span></a><span style=\"color: #7f7f7f; text-decoration-color: #7f7f7f\">:</span><a href=\"file:///Users/slegroux/miniforge3/envs/nimrod/lib/python3.11/site-packages/fsspec/implementations/local.py#351\" target=\"_blank\"><span style=\"color: #7f7f7f; text-decoration-color: #7f7f7f\">351</span></a>\n",
       "<span style=\"color: #7fbfbf; text-decoration-color: #7fbfbf\">                    </span>         <span style=\"color: #800080; text-decoration-color: #800080\">/Users/slegroux/Projects/nimrod/nbs/logs/nnlm/version_25/</span><span style=\"color: #ff00ff; text-decoration-color: #ff00ff\">hparams.yaml</span>     <span style=\"color: #7f7f7f; text-decoration-color: #7f7f7f\">            </span>\n",
       "</pre>\n"
      ],
      "text/plain": [
       "\u001b[2;36m[12/19/24 13:46:55]\u001b[0m\u001b[2;36m \u001b[0m\u001b[32mDEBUG   \u001b[0m \u001b[1;36m2024\u001b[0m-\u001b[1;36m12\u001b[0m-\u001b[1;36m19\u001b[0m \u001b[1;92m13:46:55\u001b[0m,\u001b[1;36m072\u001b[0m - DEBUG - open file:                              \u001b]8;id=524941;file:///Users/slegroux/miniforge3/envs/nimrod/lib/python3.11/site-packages/fsspec/implementations/local.py\u001b\\\u001b[2mlocal.py\u001b[0m\u001b]8;;\u001b\\\u001b[2m:\u001b[0m\u001b]8;id=171993;file:///Users/slegroux/miniforge3/envs/nimrod/lib/python3.11/site-packages/fsspec/implementations/local.py#351\u001b\\\u001b[2m351\u001b[0m\u001b]8;;\u001b\\\n",
       "\u001b[2;36m                    \u001b[0m         \u001b[35m/Users/slegroux/Projects/nimrod/nbs/logs/nnlm/version_25/\u001b[0m\u001b[95mhparams.yaml\u001b[0m     \u001b[2m            \u001b[0m\n"
      ]
     },
     "metadata": {},
     "output_type": "display_data"
    },
    {
     "data": {
      "text/html": [
       "<pre style=\"white-space:pre;overflow-x:auto;line-height:normal;font-family:Menlo,'DejaVu Sans Mono',consolas,'Courier New',monospace\"><span style=\"color: #7fbfbf; text-decoration-color: #7fbfbf\">                    </span><span style=\"color: #008000; text-decoration-color: #008000\">DEBUG   </span> <span style=\"color: #008080; text-decoration-color: #008080; font-weight: bold\">2024</span>-<span style=\"color: #008080; text-decoration-color: #008080; font-weight: bold\">12</span>-<span style=\"color: #008080; text-decoration-color: #008080; font-weight: bold\">19</span> <span style=\"color: #00ff00; text-decoration-color: #00ff00; font-weight: bold\">13:46:55</span>,<span style=\"color: #008080; text-decoration-color: #008080; font-weight: bold\">074</span> - DEBUG - open file:                              <a href=\"file:///Users/slegroux/miniforge3/envs/nimrod/lib/python3.11/site-packages/fsspec/implementations/local.py\" target=\"_blank\"><span style=\"color: #7f7f7f; text-decoration-color: #7f7f7f\">local.py</span></a><span style=\"color: #7f7f7f; text-decoration-color: #7f7f7f\">:</span><a href=\"file:///Users/slegroux/miniforge3/envs/nimrod/lib/python3.11/site-packages/fsspec/implementations/local.py#351\" target=\"_blank\"><span style=\"color: #7f7f7f; text-decoration-color: #7f7f7f\">351</span></a>\n",
       "<span style=\"color: #7fbfbf; text-decoration-color: #7fbfbf\">                    </span>         <span style=\"color: #800080; text-decoration-color: #800080\">/Users/slegroux/Projects/nimrod/nbs/logs/nnlm/version_25/</span><span style=\"color: #ff00ff; text-decoration-color: #ff00ff\">metrics.csv</span>      <span style=\"color: #7f7f7f; text-decoration-color: #7f7f7f\">            </span>\n",
       "</pre>\n"
      ],
      "text/plain": [
       "\u001b[2;36m                   \u001b[0m\u001b[2;36m \u001b[0m\u001b[32mDEBUG   \u001b[0m \u001b[1;36m2024\u001b[0m-\u001b[1;36m12\u001b[0m-\u001b[1;36m19\u001b[0m \u001b[1;92m13:46:55\u001b[0m,\u001b[1;36m074\u001b[0m - DEBUG - open file:                              \u001b]8;id=681691;file:///Users/slegroux/miniforge3/envs/nimrod/lib/python3.11/site-packages/fsspec/implementations/local.py\u001b\\\u001b[2mlocal.py\u001b[0m\u001b]8;;\u001b\\\u001b[2m:\u001b[0m\u001b]8;id=328555;file:///Users/slegroux/miniforge3/envs/nimrod/lib/python3.11/site-packages/fsspec/implementations/local.py#351\u001b\\\u001b[2m351\u001b[0m\u001b]8;;\u001b\\\n",
       "\u001b[2;36m                    \u001b[0m         \u001b[35m/Users/slegroux/Projects/nimrod/nbs/logs/nnlm/version_25/\u001b[0m\u001b[95mmetrics.csv\u001b[0m      \u001b[2m            \u001b[0m\n"
      ]
     },
     "metadata": {},
     "output_type": "display_data"
    },
    {
     "data": {
      "text/html": [
       "<pre style=\"white-space:pre;overflow-x:auto;line-height:normal;font-family:Menlo,'DejaVu Sans Mono',consolas,'Courier New',monospace\"><span style=\"color: #7fbfbf; text-decoration-color: #7fbfbf\">                    </span><span style=\"color: #008000; text-decoration-color: #008000\">DEBUG   </span> <span style=\"color: #008080; text-decoration-color: #008080; font-weight: bold\">2024</span>-<span style=\"color: #008080; text-decoration-color: #008080; font-weight: bold\">12</span>-<span style=\"color: #008080; text-decoration-color: #008080; font-weight: bold\">19</span> <span style=\"color: #00ff00; text-decoration-color: #00ff00; font-weight: bold\">13:46:55</span>,<span style=\"color: #008080; text-decoration-color: #008080; font-weight: bold\">075</span> - DEBUG - open file:                              <a href=\"file:///Users/slegroux/miniforge3/envs/nimrod/lib/python3.11/site-packages/fsspec/implementations/local.py\" target=\"_blank\"><span style=\"color: #7f7f7f; text-decoration-color: #7f7f7f\">local.py</span></a><span style=\"color: #7f7f7f; text-decoration-color: #7f7f7f\">:</span><a href=\"file:///Users/slegroux/miniforge3/envs/nimrod/lib/python3.11/site-packages/fsspec/implementations/local.py#351\" target=\"_blank\"><span style=\"color: #7f7f7f; text-decoration-color: #7f7f7f\">351</span></a>\n",
       "<span style=\"color: #7fbfbf; text-decoration-color: #7fbfbf\">                    </span>         <span style=\"color: #800080; text-decoration-color: #800080\">/Users/slegroux/Projects/nimrod/nbs/logs/nnlm/version_25/</span><span style=\"color: #ff00ff; text-decoration-color: #ff00ff\">hparams.yaml</span>     <span style=\"color: #7f7f7f; text-decoration-color: #7f7f7f\">            </span>\n",
       "</pre>\n"
      ],
      "text/plain": [
       "\u001b[2;36m                   \u001b[0m\u001b[2;36m \u001b[0m\u001b[32mDEBUG   \u001b[0m \u001b[1;36m2024\u001b[0m-\u001b[1;36m12\u001b[0m-\u001b[1;36m19\u001b[0m \u001b[1;92m13:46:55\u001b[0m,\u001b[1;36m075\u001b[0m - DEBUG - open file:                              \u001b]8;id=659714;file:///Users/slegroux/miniforge3/envs/nimrod/lib/python3.11/site-packages/fsspec/implementations/local.py\u001b\\\u001b[2mlocal.py\u001b[0m\u001b]8;;\u001b\\\u001b[2m:\u001b[0m\u001b]8;id=744243;file:///Users/slegroux/miniforge3/envs/nimrod/lib/python3.11/site-packages/fsspec/implementations/local.py#351\u001b\\\u001b[2m351\u001b[0m\u001b]8;;\u001b\\\n",
       "\u001b[2;36m                    \u001b[0m         \u001b[35m/Users/slegroux/Projects/nimrod/nbs/logs/nnlm/version_25/\u001b[0m\u001b[95mhparams.yaml\u001b[0m     \u001b[2m            \u001b[0m\n"
      ]
     },
     "metadata": {},
     "output_type": "display_data"
    },
    {
     "data": {
      "text/html": [
       "<pre style=\"white-space:pre;overflow-x:auto;line-height:normal;font-family:Menlo,'DejaVu Sans Mono',consolas,'Courier New',monospace\"><span style=\"color: #7fbfbf; text-decoration-color: #7fbfbf\">[12/19/24 13:46:56] </span><span style=\"color: #008000; text-decoration-color: #008000\">DEBUG   </span> <span style=\"color: #008080; text-decoration-color: #008080; font-weight: bold\">2024</span>-<span style=\"color: #008080; text-decoration-color: #008080; font-weight: bold\">12</span>-<span style=\"color: #008080; text-decoration-color: #008080; font-weight: bold\">19</span> <span style=\"color: #00ff00; text-decoration-color: #00ff00; font-weight: bold\">13:46:56</span>,<span style=\"color: #008080; text-decoration-color: #008080; font-weight: bold\">460</span> - DEBUG - open file:                              <a href=\"file:///Users/slegroux/miniforge3/envs/nimrod/lib/python3.11/site-packages/fsspec/implementations/local.py\" target=\"_blank\"><span style=\"color: #7f7f7f; text-decoration-color: #7f7f7f\">local.py</span></a><span style=\"color: #7f7f7f; text-decoration-color: #7f7f7f\">:</span><a href=\"file:///Users/slegroux/miniforge3/envs/nimrod/lib/python3.11/site-packages/fsspec/implementations/local.py#351\" target=\"_blank\"><span style=\"color: #7f7f7f; text-decoration-color: #7f7f7f\">351</span></a>\n",
       "<span style=\"color: #7fbfbf; text-decoration-color: #7fbfbf\">                    </span>         <span style=\"color: #800080; text-decoration-color: #800080\">/Users/slegroux/Projects/nimrod/nbs/logs/nnlm/version_25/</span><span style=\"color: #ff00ff; text-decoration-color: #ff00ff\">hparams.yaml</span>     <span style=\"color: #7f7f7f; text-decoration-color: #7f7f7f\">            </span>\n",
       "</pre>\n"
      ],
      "text/plain": [
       "\u001b[2;36m[12/19/24 13:46:56]\u001b[0m\u001b[2;36m \u001b[0m\u001b[32mDEBUG   \u001b[0m \u001b[1;36m2024\u001b[0m-\u001b[1;36m12\u001b[0m-\u001b[1;36m19\u001b[0m \u001b[1;92m13:46:56\u001b[0m,\u001b[1;36m460\u001b[0m - DEBUG - open file:                              \u001b]8;id=951768;file:///Users/slegroux/miniforge3/envs/nimrod/lib/python3.11/site-packages/fsspec/implementations/local.py\u001b\\\u001b[2mlocal.py\u001b[0m\u001b]8;;\u001b\\\u001b[2m:\u001b[0m\u001b]8;id=392440;file:///Users/slegroux/miniforge3/envs/nimrod/lib/python3.11/site-packages/fsspec/implementations/local.py#351\u001b\\\u001b[2m351\u001b[0m\u001b]8;;\u001b\\\n",
       "\u001b[2;36m                    \u001b[0m         \u001b[35m/Users/slegroux/Projects/nimrod/nbs/logs/nnlm/version_25/\u001b[0m\u001b[95mhparams.yaml\u001b[0m     \u001b[2m            \u001b[0m\n"
      ]
     },
     "metadata": {},
     "output_type": "display_data"
    },
    {
     "data": {
      "text/html": [
       "<pre style=\"white-space:pre;overflow-x:auto;line-height:normal;font-family:Menlo,'DejaVu Sans Mono',consolas,'Courier New',monospace\"><span style=\"color: #7fbfbf; text-decoration-color: #7fbfbf\">                    </span><span style=\"color: #008000; text-decoration-color: #008000\">DEBUG   </span> <span style=\"color: #008080; text-decoration-color: #008080; font-weight: bold\">2024</span>-<span style=\"color: #008080; text-decoration-color: #008080; font-weight: bold\">12</span>-<span style=\"color: #008080; text-decoration-color: #008080; font-weight: bold\">19</span> <span style=\"color: #00ff00; text-decoration-color: #00ff00; font-weight: bold\">13:46:56</span>,<span style=\"color: #008080; text-decoration-color: #008080; font-weight: bold\">462</span> - DEBUG - open file:                              <a href=\"file:///Users/slegroux/miniforge3/envs/nimrod/lib/python3.11/site-packages/fsspec/implementations/local.py\" target=\"_blank\"><span style=\"color: #7f7f7f; text-decoration-color: #7f7f7f\">local.py</span></a><span style=\"color: #7f7f7f; text-decoration-color: #7f7f7f\">:</span><a href=\"file:///Users/slegroux/miniforge3/envs/nimrod/lib/python3.11/site-packages/fsspec/implementations/local.py#351\" target=\"_blank\"><span style=\"color: #7f7f7f; text-decoration-color: #7f7f7f\">351</span></a>\n",
       "<span style=\"color: #7fbfbf; text-decoration-color: #7fbfbf\">                    </span>         <span style=\"color: #800080; text-decoration-color: #800080\">/Users/slegroux/Projects/nimrod/nbs/logs/nnlm/version_25/</span><span style=\"color: #ff00ff; text-decoration-color: #ff00ff\">metrics.csv</span>      <span style=\"color: #7f7f7f; text-decoration-color: #7f7f7f\">            </span>\n",
       "</pre>\n"
      ],
      "text/plain": [
       "\u001b[2;36m                   \u001b[0m\u001b[2;36m \u001b[0m\u001b[32mDEBUG   \u001b[0m \u001b[1;36m2024\u001b[0m-\u001b[1;36m12\u001b[0m-\u001b[1;36m19\u001b[0m \u001b[1;92m13:46:56\u001b[0m,\u001b[1;36m462\u001b[0m - DEBUG - open file:                              \u001b]8;id=335197;file:///Users/slegroux/miniforge3/envs/nimrod/lib/python3.11/site-packages/fsspec/implementations/local.py\u001b\\\u001b[2mlocal.py\u001b[0m\u001b]8;;\u001b\\\u001b[2m:\u001b[0m\u001b]8;id=156172;file:///Users/slegroux/miniforge3/envs/nimrod/lib/python3.11/site-packages/fsspec/implementations/local.py#351\u001b\\\u001b[2m351\u001b[0m\u001b]8;;\u001b\\\n",
       "\u001b[2;36m                    \u001b[0m         \u001b[35m/Users/slegroux/Projects/nimrod/nbs/logs/nnlm/version_25/\u001b[0m\u001b[95mmetrics.csv\u001b[0m      \u001b[2m            \u001b[0m\n"
      ]
     },
     "metadata": {},
     "output_type": "display_data"
    },
    {
     "data": {
      "text/html": [
       "<pre style=\"white-space:pre;overflow-x:auto;line-height:normal;font-family:Menlo,'DejaVu Sans Mono',consolas,'Courier New',monospace\"><span style=\"color: #7fbfbf; text-decoration-color: #7fbfbf\">[12/19/24 13:46:57] </span><span style=\"color: #008000; text-decoration-color: #008000\">DEBUG   </span> <span style=\"color: #008080; text-decoration-color: #008080; font-weight: bold\">2024</span>-<span style=\"color: #008080; text-decoration-color: #008080; font-weight: bold\">12</span>-<span style=\"color: #008080; text-decoration-color: #008080; font-weight: bold\">19</span> <span style=\"color: #00ff00; text-decoration-color: #00ff00; font-weight: bold\">13:46:57</span>,<span style=\"color: #008080; text-decoration-color: #008080; font-weight: bold\">719</span> - DEBUG - open file:                              <a href=\"file:///Users/slegroux/miniforge3/envs/nimrod/lib/python3.11/site-packages/fsspec/implementations/local.py\" target=\"_blank\"><span style=\"color: #7f7f7f; text-decoration-color: #7f7f7f\">local.py</span></a><span style=\"color: #7f7f7f; text-decoration-color: #7f7f7f\">:</span><a href=\"file:///Users/slegroux/miniforge3/envs/nimrod/lib/python3.11/site-packages/fsspec/implementations/local.py#351\" target=\"_blank\"><span style=\"color: #7f7f7f; text-decoration-color: #7f7f7f\">351</span></a>\n",
       "<span style=\"color: #7fbfbf; text-decoration-color: #7fbfbf\">                    </span>         <span style=\"color: #800080; text-decoration-color: #800080\">/Users/slegroux/Projects/nimrod/nbs/logs/nnlm/version_25/</span><span style=\"color: #ff00ff; text-decoration-color: #ff00ff\">hparams.yaml</span>     <span style=\"color: #7f7f7f; text-decoration-color: #7f7f7f\">            </span>\n",
       "</pre>\n"
      ],
      "text/plain": [
       "\u001b[2;36m[12/19/24 13:46:57]\u001b[0m\u001b[2;36m \u001b[0m\u001b[32mDEBUG   \u001b[0m \u001b[1;36m2024\u001b[0m-\u001b[1;36m12\u001b[0m-\u001b[1;36m19\u001b[0m \u001b[1;92m13:46:57\u001b[0m,\u001b[1;36m719\u001b[0m - DEBUG - open file:                              \u001b]8;id=827842;file:///Users/slegroux/miniforge3/envs/nimrod/lib/python3.11/site-packages/fsspec/implementations/local.py\u001b\\\u001b[2mlocal.py\u001b[0m\u001b]8;;\u001b\\\u001b[2m:\u001b[0m\u001b]8;id=846025;file:///Users/slegroux/miniforge3/envs/nimrod/lib/python3.11/site-packages/fsspec/implementations/local.py#351\u001b\\\u001b[2m351\u001b[0m\u001b]8;;\u001b\\\n",
       "\u001b[2;36m                    \u001b[0m         \u001b[35m/Users/slegroux/Projects/nimrod/nbs/logs/nnlm/version_25/\u001b[0m\u001b[95mhparams.yaml\u001b[0m     \u001b[2m            \u001b[0m\n"
      ]
     },
     "metadata": {},
     "output_type": "display_data"
    },
    {
     "data": {
      "text/html": [
       "<pre style=\"white-space:pre;overflow-x:auto;line-height:normal;font-family:Menlo,'DejaVu Sans Mono',consolas,'Courier New',monospace\"><span style=\"color: #7fbfbf; text-decoration-color: #7fbfbf\">                    </span><span style=\"color: #008000; text-decoration-color: #008000\">DEBUG   </span> <span style=\"color: #008080; text-decoration-color: #008080; font-weight: bold\">2024</span>-<span style=\"color: #008080; text-decoration-color: #008080; font-weight: bold\">12</span>-<span style=\"color: #008080; text-decoration-color: #008080; font-weight: bold\">19</span> <span style=\"color: #00ff00; text-decoration-color: #00ff00; font-weight: bold\">13:46:57</span>,<span style=\"color: #008080; text-decoration-color: #008080; font-weight: bold\">720</span> - DEBUG - open file:                              <a href=\"file:///Users/slegroux/miniforge3/envs/nimrod/lib/python3.11/site-packages/fsspec/implementations/local.py\" target=\"_blank\"><span style=\"color: #7f7f7f; text-decoration-color: #7f7f7f\">local.py</span></a><span style=\"color: #7f7f7f; text-decoration-color: #7f7f7f\">:</span><a href=\"file:///Users/slegroux/miniforge3/envs/nimrod/lib/python3.11/site-packages/fsspec/implementations/local.py#351\" target=\"_blank\"><span style=\"color: #7f7f7f; text-decoration-color: #7f7f7f\">351</span></a>\n",
       "<span style=\"color: #7fbfbf; text-decoration-color: #7fbfbf\">                    </span>         <span style=\"color: #800080; text-decoration-color: #800080\">/Users/slegroux/Projects/nimrod/nbs/logs/nnlm/version_25/</span><span style=\"color: #ff00ff; text-decoration-color: #ff00ff\">metrics.csv</span>      <span style=\"color: #7f7f7f; text-decoration-color: #7f7f7f\">            </span>\n",
       "</pre>\n"
      ],
      "text/plain": [
       "\u001b[2;36m                   \u001b[0m\u001b[2;36m \u001b[0m\u001b[32mDEBUG   \u001b[0m \u001b[1;36m2024\u001b[0m-\u001b[1;36m12\u001b[0m-\u001b[1;36m19\u001b[0m \u001b[1;92m13:46:57\u001b[0m,\u001b[1;36m720\u001b[0m - DEBUG - open file:                              \u001b]8;id=404453;file:///Users/slegroux/miniforge3/envs/nimrod/lib/python3.11/site-packages/fsspec/implementations/local.py\u001b\\\u001b[2mlocal.py\u001b[0m\u001b]8;;\u001b\\\u001b[2m:\u001b[0m\u001b]8;id=802196;file:///Users/slegroux/miniforge3/envs/nimrod/lib/python3.11/site-packages/fsspec/implementations/local.py#351\u001b\\\u001b[2m351\u001b[0m\u001b]8;;\u001b\\\n",
       "\u001b[2;36m                    \u001b[0m         \u001b[35m/Users/slegroux/Projects/nimrod/nbs/logs/nnlm/version_25/\u001b[0m\u001b[95mmetrics.csv\u001b[0m      \u001b[2m            \u001b[0m\n"
      ]
     },
     "metadata": {},
     "output_type": "display_data"
    },
    {
     "data": {
      "text/html": [
       "<pre style=\"white-space:pre;overflow-x:auto;line-height:normal;font-family:Menlo,'DejaVu Sans Mono',consolas,'Courier New',monospace\"><span style=\"color: #7fbfbf; text-decoration-color: #7fbfbf\">                    </span><span style=\"color: #008000; text-decoration-color: #008000\">DEBUG   </span> <span style=\"color: #008080; text-decoration-color: #008080; font-weight: bold\">2024</span>-<span style=\"color: #008080; text-decoration-color: #008080; font-weight: bold\">12</span>-<span style=\"color: #008080; text-decoration-color: #008080; font-weight: bold\">19</span> <span style=\"color: #00ff00; text-decoration-color: #00ff00; font-weight: bold\">13:46:57</span>,<span style=\"color: #008080; text-decoration-color: #008080; font-weight: bold\">722</span> - DEBUG - open file:                              <a href=\"file:///Users/slegroux/miniforge3/envs/nimrod/lib/python3.11/site-packages/fsspec/implementations/local.py\" target=\"_blank\"><span style=\"color: #7f7f7f; text-decoration-color: #7f7f7f\">local.py</span></a><span style=\"color: #7f7f7f; text-decoration-color: #7f7f7f\">:</span><a href=\"file:///Users/slegroux/miniforge3/envs/nimrod/lib/python3.11/site-packages/fsspec/implementations/local.py#351\" target=\"_blank\"><span style=\"color: #7f7f7f; text-decoration-color: #7f7f7f\">351</span></a>\n",
       "<span style=\"color: #7fbfbf; text-decoration-color: #7fbfbf\">                    </span>         <span style=\"color: #800080; text-decoration-color: #800080\">/Users/slegroux/Projects/nimrod/nbs/logs/nnlm/version_25/</span><span style=\"color: #ff00ff; text-decoration-color: #ff00ff\">hparams.yaml</span>     <span style=\"color: #7f7f7f; text-decoration-color: #7f7f7f\">            </span>\n",
       "</pre>\n"
      ],
      "text/plain": [
       "\u001b[2;36m                   \u001b[0m\u001b[2;36m \u001b[0m\u001b[32mDEBUG   \u001b[0m \u001b[1;36m2024\u001b[0m-\u001b[1;36m12\u001b[0m-\u001b[1;36m19\u001b[0m \u001b[1;92m13:46:57\u001b[0m,\u001b[1;36m722\u001b[0m - DEBUG - open file:                              \u001b]8;id=212316;file:///Users/slegroux/miniforge3/envs/nimrod/lib/python3.11/site-packages/fsspec/implementations/local.py\u001b\\\u001b[2mlocal.py\u001b[0m\u001b]8;;\u001b\\\u001b[2m:\u001b[0m\u001b]8;id=26970;file:///Users/slegroux/miniforge3/envs/nimrod/lib/python3.11/site-packages/fsspec/implementations/local.py#351\u001b\\\u001b[2m351\u001b[0m\u001b]8;;\u001b\\\n",
       "\u001b[2;36m                    \u001b[0m         \u001b[35m/Users/slegroux/Projects/nimrod/nbs/logs/nnlm/version_25/\u001b[0m\u001b[95mhparams.yaml\u001b[0m     \u001b[2m            \u001b[0m\n"
      ]
     },
     "metadata": {},
     "output_type": "display_data"
    },
    {
     "data": {
      "text/html": [
       "<pre style=\"white-space:pre;overflow-x:auto;line-height:normal;font-family:Menlo,'DejaVu Sans Mono',consolas,'Courier New',monospace\"><span style=\"color: #7fbfbf; text-decoration-color: #7fbfbf\">[12/19/24 13:46:59] </span><span style=\"color: #008000; text-decoration-color: #008000\">DEBUG   </span> <span style=\"color: #008080; text-decoration-color: #008080; font-weight: bold\">2024</span>-<span style=\"color: #008080; text-decoration-color: #008080; font-weight: bold\">12</span>-<span style=\"color: #008080; text-decoration-color: #008080; font-weight: bold\">19</span> <span style=\"color: #00ff00; text-decoration-color: #00ff00; font-weight: bold\">13:46:59</span>,<span style=\"color: #008080; text-decoration-color: #008080; font-weight: bold\">129</span> - DEBUG - open file:                              <a href=\"file:///Users/slegroux/miniforge3/envs/nimrod/lib/python3.11/site-packages/fsspec/implementations/local.py\" target=\"_blank\"><span style=\"color: #7f7f7f; text-decoration-color: #7f7f7f\">local.py</span></a><span style=\"color: #7f7f7f; text-decoration-color: #7f7f7f\">:</span><a href=\"file:///Users/slegroux/miniforge3/envs/nimrod/lib/python3.11/site-packages/fsspec/implementations/local.py#351\" target=\"_blank\"><span style=\"color: #7f7f7f; text-decoration-color: #7f7f7f\">351</span></a>\n",
       "<span style=\"color: #7fbfbf; text-decoration-color: #7fbfbf\">                    </span>         <span style=\"color: #800080; text-decoration-color: #800080\">/Users/slegroux/Projects/nimrod/nbs/logs/nnlm/version_25/</span><span style=\"color: #ff00ff; text-decoration-color: #ff00ff\">hparams.yaml</span>     <span style=\"color: #7f7f7f; text-decoration-color: #7f7f7f\">            </span>\n",
       "</pre>\n"
      ],
      "text/plain": [
       "\u001b[2;36m[12/19/24 13:46:59]\u001b[0m\u001b[2;36m \u001b[0m\u001b[32mDEBUG   \u001b[0m \u001b[1;36m2024\u001b[0m-\u001b[1;36m12\u001b[0m-\u001b[1;36m19\u001b[0m \u001b[1;92m13:46:59\u001b[0m,\u001b[1;36m129\u001b[0m - DEBUG - open file:                              \u001b]8;id=148369;file:///Users/slegroux/miniforge3/envs/nimrod/lib/python3.11/site-packages/fsspec/implementations/local.py\u001b\\\u001b[2mlocal.py\u001b[0m\u001b]8;;\u001b\\\u001b[2m:\u001b[0m\u001b]8;id=314767;file:///Users/slegroux/miniforge3/envs/nimrod/lib/python3.11/site-packages/fsspec/implementations/local.py#351\u001b\\\u001b[2m351\u001b[0m\u001b]8;;\u001b\\\n",
       "\u001b[2;36m                    \u001b[0m         \u001b[35m/Users/slegroux/Projects/nimrod/nbs/logs/nnlm/version_25/\u001b[0m\u001b[95mhparams.yaml\u001b[0m     \u001b[2m            \u001b[0m\n"
      ]
     },
     "metadata": {},
     "output_type": "display_data"
    },
    {
     "data": {
      "text/html": [
       "<pre style=\"white-space:pre;overflow-x:auto;line-height:normal;font-family:Menlo,'DejaVu Sans Mono',consolas,'Courier New',monospace\"><span style=\"color: #7fbfbf; text-decoration-color: #7fbfbf\">                    </span><span style=\"color: #008000; text-decoration-color: #008000\">DEBUG   </span> <span style=\"color: #008080; text-decoration-color: #008080; font-weight: bold\">2024</span>-<span style=\"color: #008080; text-decoration-color: #008080; font-weight: bold\">12</span>-<span style=\"color: #008080; text-decoration-color: #008080; font-weight: bold\">19</span> <span style=\"color: #00ff00; text-decoration-color: #00ff00; font-weight: bold\">13:46:59</span>,<span style=\"color: #008080; text-decoration-color: #008080; font-weight: bold\">131</span> - DEBUG - open file:                              <a href=\"file:///Users/slegroux/miniforge3/envs/nimrod/lib/python3.11/site-packages/fsspec/implementations/local.py\" target=\"_blank\"><span style=\"color: #7f7f7f; text-decoration-color: #7f7f7f\">local.py</span></a><span style=\"color: #7f7f7f; text-decoration-color: #7f7f7f\">:</span><a href=\"file:///Users/slegroux/miniforge3/envs/nimrod/lib/python3.11/site-packages/fsspec/implementations/local.py#351\" target=\"_blank\"><span style=\"color: #7f7f7f; text-decoration-color: #7f7f7f\">351</span></a>\n",
       "<span style=\"color: #7fbfbf; text-decoration-color: #7fbfbf\">                    </span>         <span style=\"color: #800080; text-decoration-color: #800080\">/Users/slegroux/Projects/nimrod/nbs/logs/nnlm/version_25/</span><span style=\"color: #ff00ff; text-decoration-color: #ff00ff\">metrics.csv</span>      <span style=\"color: #7f7f7f; text-decoration-color: #7f7f7f\">            </span>\n",
       "</pre>\n"
      ],
      "text/plain": [
       "\u001b[2;36m                   \u001b[0m\u001b[2;36m \u001b[0m\u001b[32mDEBUG   \u001b[0m \u001b[1;36m2024\u001b[0m-\u001b[1;36m12\u001b[0m-\u001b[1;36m19\u001b[0m \u001b[1;92m13:46:59\u001b[0m,\u001b[1;36m131\u001b[0m - DEBUG - open file:                              \u001b]8;id=764183;file:///Users/slegroux/miniforge3/envs/nimrod/lib/python3.11/site-packages/fsspec/implementations/local.py\u001b\\\u001b[2mlocal.py\u001b[0m\u001b]8;;\u001b\\\u001b[2m:\u001b[0m\u001b]8;id=379978;file:///Users/slegroux/miniforge3/envs/nimrod/lib/python3.11/site-packages/fsspec/implementations/local.py#351\u001b\\\u001b[2m351\u001b[0m\u001b]8;;\u001b\\\n",
       "\u001b[2;36m                    \u001b[0m         \u001b[35m/Users/slegroux/Projects/nimrod/nbs/logs/nnlm/version_25/\u001b[0m\u001b[95mmetrics.csv\u001b[0m      \u001b[2m            \u001b[0m\n"
      ]
     },
     "metadata": {},
     "output_type": "display_data"
    },
    {
     "data": {
      "text/html": [
       "<pre style=\"white-space:pre;overflow-x:auto;line-height:normal;font-family:Menlo,'DejaVu Sans Mono',consolas,'Courier New',monospace\"><span style=\"color: #7fbfbf; text-decoration-color: #7fbfbf\">[12/19/24 13:47:00] </span><span style=\"color: #008000; text-decoration-color: #008000\">DEBUG   </span> <span style=\"color: #008080; text-decoration-color: #008080; font-weight: bold\">2024</span>-<span style=\"color: #008080; text-decoration-color: #008080; font-weight: bold\">12</span>-<span style=\"color: #008080; text-decoration-color: #008080; font-weight: bold\">19</span> <span style=\"color: #00ff00; text-decoration-color: #00ff00; font-weight: bold\">13:47:00</span>,<span style=\"color: #008080; text-decoration-color: #008080; font-weight: bold\">438</span> - DEBUG - open file:                              <a href=\"file:///Users/slegroux/miniforge3/envs/nimrod/lib/python3.11/site-packages/fsspec/implementations/local.py\" target=\"_blank\"><span style=\"color: #7f7f7f; text-decoration-color: #7f7f7f\">local.py</span></a><span style=\"color: #7f7f7f; text-decoration-color: #7f7f7f\">:</span><a href=\"file:///Users/slegroux/miniforge3/envs/nimrod/lib/python3.11/site-packages/fsspec/implementations/local.py#351\" target=\"_blank\"><span style=\"color: #7f7f7f; text-decoration-color: #7f7f7f\">351</span></a>\n",
       "<span style=\"color: #7fbfbf; text-decoration-color: #7fbfbf\">                    </span>         <span style=\"color: #800080; text-decoration-color: #800080\">/Users/slegroux/Projects/nimrod/nbs/logs/nnlm/version_25/</span><span style=\"color: #ff00ff; text-decoration-color: #ff00ff\">hparams.yaml</span>     <span style=\"color: #7f7f7f; text-decoration-color: #7f7f7f\">            </span>\n",
       "</pre>\n"
      ],
      "text/plain": [
       "\u001b[2;36m[12/19/24 13:47:00]\u001b[0m\u001b[2;36m \u001b[0m\u001b[32mDEBUG   \u001b[0m \u001b[1;36m2024\u001b[0m-\u001b[1;36m12\u001b[0m-\u001b[1;36m19\u001b[0m \u001b[1;92m13:47:00\u001b[0m,\u001b[1;36m438\u001b[0m - DEBUG - open file:                              \u001b]8;id=758639;file:///Users/slegroux/miniforge3/envs/nimrod/lib/python3.11/site-packages/fsspec/implementations/local.py\u001b\\\u001b[2mlocal.py\u001b[0m\u001b]8;;\u001b\\\u001b[2m:\u001b[0m\u001b]8;id=982717;file:///Users/slegroux/miniforge3/envs/nimrod/lib/python3.11/site-packages/fsspec/implementations/local.py#351\u001b\\\u001b[2m351\u001b[0m\u001b]8;;\u001b\\\n",
       "\u001b[2;36m                    \u001b[0m         \u001b[35m/Users/slegroux/Projects/nimrod/nbs/logs/nnlm/version_25/\u001b[0m\u001b[95mhparams.yaml\u001b[0m     \u001b[2m            \u001b[0m\n"
      ]
     },
     "metadata": {},
     "output_type": "display_data"
    },
    {
     "data": {
      "text/html": [
       "<pre style=\"white-space:pre;overflow-x:auto;line-height:normal;font-family:Menlo,'DejaVu Sans Mono',consolas,'Courier New',monospace\"><span style=\"color: #7fbfbf; text-decoration-color: #7fbfbf\">                    </span><span style=\"color: #008000; text-decoration-color: #008000\">DEBUG   </span> <span style=\"color: #008080; text-decoration-color: #008080; font-weight: bold\">2024</span>-<span style=\"color: #008080; text-decoration-color: #008080; font-weight: bold\">12</span>-<span style=\"color: #008080; text-decoration-color: #008080; font-weight: bold\">19</span> <span style=\"color: #00ff00; text-decoration-color: #00ff00; font-weight: bold\">13:47:00</span>,<span style=\"color: #008080; text-decoration-color: #008080; font-weight: bold\">440</span> - DEBUG - open file:                              <a href=\"file:///Users/slegroux/miniforge3/envs/nimrod/lib/python3.11/site-packages/fsspec/implementations/local.py\" target=\"_blank\"><span style=\"color: #7f7f7f; text-decoration-color: #7f7f7f\">local.py</span></a><span style=\"color: #7f7f7f; text-decoration-color: #7f7f7f\">:</span><a href=\"file:///Users/slegroux/miniforge3/envs/nimrod/lib/python3.11/site-packages/fsspec/implementations/local.py#351\" target=\"_blank\"><span style=\"color: #7f7f7f; text-decoration-color: #7f7f7f\">351</span></a>\n",
       "<span style=\"color: #7fbfbf; text-decoration-color: #7fbfbf\">                    </span>         <span style=\"color: #800080; text-decoration-color: #800080\">/Users/slegroux/Projects/nimrod/nbs/logs/nnlm/version_25/</span><span style=\"color: #ff00ff; text-decoration-color: #ff00ff\">metrics.csv</span>      <span style=\"color: #7f7f7f; text-decoration-color: #7f7f7f\">            </span>\n",
       "</pre>\n"
      ],
      "text/plain": [
       "\u001b[2;36m                   \u001b[0m\u001b[2;36m \u001b[0m\u001b[32mDEBUG   \u001b[0m \u001b[1;36m2024\u001b[0m-\u001b[1;36m12\u001b[0m-\u001b[1;36m19\u001b[0m \u001b[1;92m13:47:00\u001b[0m,\u001b[1;36m440\u001b[0m - DEBUG - open file:                              \u001b]8;id=298333;file:///Users/slegroux/miniforge3/envs/nimrod/lib/python3.11/site-packages/fsspec/implementations/local.py\u001b\\\u001b[2mlocal.py\u001b[0m\u001b]8;;\u001b\\\u001b[2m:\u001b[0m\u001b]8;id=920705;file:///Users/slegroux/miniforge3/envs/nimrod/lib/python3.11/site-packages/fsspec/implementations/local.py#351\u001b\\\u001b[2m351\u001b[0m\u001b]8;;\u001b\\\n",
       "\u001b[2;36m                    \u001b[0m         \u001b[35m/Users/slegroux/Projects/nimrod/nbs/logs/nnlm/version_25/\u001b[0m\u001b[95mmetrics.csv\u001b[0m      \u001b[2m            \u001b[0m\n"
      ]
     },
     "metadata": {},
     "output_type": "display_data"
    },
    {
     "data": {
      "text/html": [
       "<pre style=\"white-space:pre;overflow-x:auto;line-height:normal;font-family:Menlo,'DejaVu Sans Mono',consolas,'Courier New',monospace\"><span style=\"color: #7fbfbf; text-decoration-color: #7fbfbf\">                    </span><span style=\"color: #008000; text-decoration-color: #008000\">DEBUG   </span> <span style=\"color: #008080; text-decoration-color: #008080; font-weight: bold\">2024</span>-<span style=\"color: #008080; text-decoration-color: #008080; font-weight: bold\">12</span>-<span style=\"color: #008080; text-decoration-color: #008080; font-weight: bold\">19</span> <span style=\"color: #00ff00; text-decoration-color: #00ff00; font-weight: bold\">13:47:00</span>,<span style=\"color: #008080; text-decoration-color: #008080; font-weight: bold\">442</span> - DEBUG - open file:                              <a href=\"file:///Users/slegroux/miniforge3/envs/nimrod/lib/python3.11/site-packages/fsspec/implementations/local.py\" target=\"_blank\"><span style=\"color: #7f7f7f; text-decoration-color: #7f7f7f\">local.py</span></a><span style=\"color: #7f7f7f; text-decoration-color: #7f7f7f\">:</span><a href=\"file:///Users/slegroux/miniforge3/envs/nimrod/lib/python3.11/site-packages/fsspec/implementations/local.py#351\" target=\"_blank\"><span style=\"color: #7f7f7f; text-decoration-color: #7f7f7f\">351</span></a>\n",
       "<span style=\"color: #7fbfbf; text-decoration-color: #7fbfbf\">                    </span>         <span style=\"color: #800080; text-decoration-color: #800080\">/Users/slegroux/Projects/nimrod/nbs/logs/nnlm/version_25/</span><span style=\"color: #ff00ff; text-decoration-color: #ff00ff\">hparams.yaml</span>     <span style=\"color: #7f7f7f; text-decoration-color: #7f7f7f\">            </span>\n",
       "</pre>\n"
      ],
      "text/plain": [
       "\u001b[2;36m                   \u001b[0m\u001b[2;36m \u001b[0m\u001b[32mDEBUG   \u001b[0m \u001b[1;36m2024\u001b[0m-\u001b[1;36m12\u001b[0m-\u001b[1;36m19\u001b[0m \u001b[1;92m13:47:00\u001b[0m,\u001b[1;36m442\u001b[0m - DEBUG - open file:                              \u001b]8;id=181269;file:///Users/slegroux/miniforge3/envs/nimrod/lib/python3.11/site-packages/fsspec/implementations/local.py\u001b\\\u001b[2mlocal.py\u001b[0m\u001b]8;;\u001b\\\u001b[2m:\u001b[0m\u001b]8;id=611057;file:///Users/slegroux/miniforge3/envs/nimrod/lib/python3.11/site-packages/fsspec/implementations/local.py#351\u001b\\\u001b[2m351\u001b[0m\u001b]8;;\u001b\\\n",
       "\u001b[2;36m                    \u001b[0m         \u001b[35m/Users/slegroux/Projects/nimrod/nbs/logs/nnlm/version_25/\u001b[0m\u001b[95mhparams.yaml\u001b[0m     \u001b[2m            \u001b[0m\n"
      ]
     },
     "metadata": {},
     "output_type": "display_data"
    },
    {
     "data": {
      "application/vnd.jupyter.widget-view+json": {
       "model_id": "8314ad1b30d3447ab8a2a36a8faf080e",
       "version_major": 2,
       "version_minor": 0
      },
      "text/plain": [
       "Validation: |          | 0/? [00:00<?, ?it/s]"
      ]
     },
     "metadata": {},
     "output_type": "display_data"
    },
    {
     "data": {
      "text/html": [
       "<pre style=\"white-space:pre;overflow-x:auto;line-height:normal;font-family:Menlo,'DejaVu Sans Mono',consolas,'Courier New',monospace\"><span style=\"color: #7fbfbf; text-decoration-color: #7fbfbf\">[12/19/24 13:47:01] </span><span style=\"color: #008000; text-decoration-color: #008000\">DEBUG   </span> <span style=\"color: #008080; text-decoration-color: #008080; font-weight: bold\">2024</span>-<span style=\"color: #008080; text-decoration-color: #008080; font-weight: bold\">12</span>-<span style=\"color: #008080; text-decoration-color: #008080; font-weight: bold\">19</span> <span style=\"color: #00ff00; text-decoration-color: #00ff00; font-weight: bold\">13:47:01</span>,<span style=\"color: #008080; text-decoration-color: #008080; font-weight: bold\">995</span> - DEBUG - open file:                              <a href=\"file:///Users/slegroux/miniforge3/envs/nimrod/lib/python3.11/site-packages/fsspec/implementations/local.py\" target=\"_blank\"><span style=\"color: #7f7f7f; text-decoration-color: #7f7f7f\">local.py</span></a><span style=\"color: #7f7f7f; text-decoration-color: #7f7f7f\">:</span><a href=\"file:///Users/slegroux/miniforge3/envs/nimrod/lib/python3.11/site-packages/fsspec/implementations/local.py#351\" target=\"_blank\"><span style=\"color: #7f7f7f; text-decoration-color: #7f7f7f\">351</span></a>\n",
       "<span style=\"color: #7fbfbf; text-decoration-color: #7fbfbf\">                    </span>         <span style=\"color: #800080; text-decoration-color: #800080\">/Users/slegroux/Projects/nimrod/nbs/logs/nnlm/version_25/</span><span style=\"color: #ff00ff; text-decoration-color: #ff00ff\">hparams.yaml</span>     <span style=\"color: #7f7f7f; text-decoration-color: #7f7f7f\">            </span>\n",
       "</pre>\n"
      ],
      "text/plain": [
       "\u001b[2;36m[12/19/24 13:47:01]\u001b[0m\u001b[2;36m \u001b[0m\u001b[32mDEBUG   \u001b[0m \u001b[1;36m2024\u001b[0m-\u001b[1;36m12\u001b[0m-\u001b[1;36m19\u001b[0m \u001b[1;92m13:47:01\u001b[0m,\u001b[1;36m995\u001b[0m - DEBUG - open file:                              \u001b]8;id=303627;file:///Users/slegroux/miniforge3/envs/nimrod/lib/python3.11/site-packages/fsspec/implementations/local.py\u001b\\\u001b[2mlocal.py\u001b[0m\u001b]8;;\u001b\\\u001b[2m:\u001b[0m\u001b]8;id=675267;file:///Users/slegroux/miniforge3/envs/nimrod/lib/python3.11/site-packages/fsspec/implementations/local.py#351\u001b\\\u001b[2m351\u001b[0m\u001b]8;;\u001b\\\n",
       "\u001b[2;36m                    \u001b[0m         \u001b[35m/Users/slegroux/Projects/nimrod/nbs/logs/nnlm/version_25/\u001b[0m\u001b[95mhparams.yaml\u001b[0m     \u001b[2m            \u001b[0m\n"
      ]
     },
     "metadata": {},
     "output_type": "display_data"
    },
    {
     "data": {
      "text/html": [
       "<pre style=\"white-space:pre;overflow-x:auto;line-height:normal;font-family:Menlo,'DejaVu Sans Mono',consolas,'Courier New',monospace\"><span style=\"color: #7fbfbf; text-decoration-color: #7fbfbf\">                    </span><span style=\"color: #008000; text-decoration-color: #008000\">DEBUG   </span> <span style=\"color: #008080; text-decoration-color: #008080; font-weight: bold\">2024</span>-<span style=\"color: #008080; text-decoration-color: #008080; font-weight: bold\">12</span>-<span style=\"color: #008080; text-decoration-color: #008080; font-weight: bold\">19</span> <span style=\"color: #00ff00; text-decoration-color: #00ff00; font-weight: bold\">13:47:01</span>,<span style=\"color: #008080; text-decoration-color: #008080; font-weight: bold\">997</span> - DEBUG - open file:                              <a href=\"file:///Users/slegroux/miniforge3/envs/nimrod/lib/python3.11/site-packages/fsspec/implementations/local.py\" target=\"_blank\"><span style=\"color: #7f7f7f; text-decoration-color: #7f7f7f\">local.py</span></a><span style=\"color: #7f7f7f; text-decoration-color: #7f7f7f\">:</span><a href=\"file:///Users/slegroux/miniforge3/envs/nimrod/lib/python3.11/site-packages/fsspec/implementations/local.py#351\" target=\"_blank\"><span style=\"color: #7f7f7f; text-decoration-color: #7f7f7f\">351</span></a>\n",
       "<span style=\"color: #7fbfbf; text-decoration-color: #7fbfbf\">                    </span>         <span style=\"color: #800080; text-decoration-color: #800080\">/Users/slegroux/Projects/nimrod/nbs/logs/nnlm/version_25/</span><span style=\"color: #ff00ff; text-decoration-color: #ff00ff\">metrics.csv</span>      <span style=\"color: #7f7f7f; text-decoration-color: #7f7f7f\">            </span>\n",
       "</pre>\n"
      ],
      "text/plain": [
       "\u001b[2;36m                   \u001b[0m\u001b[2;36m \u001b[0m\u001b[32mDEBUG   \u001b[0m \u001b[1;36m2024\u001b[0m-\u001b[1;36m12\u001b[0m-\u001b[1;36m19\u001b[0m \u001b[1;92m13:47:01\u001b[0m,\u001b[1;36m997\u001b[0m - DEBUG - open file:                              \u001b]8;id=603848;file:///Users/slegroux/miniforge3/envs/nimrod/lib/python3.11/site-packages/fsspec/implementations/local.py\u001b\\\u001b[2mlocal.py\u001b[0m\u001b]8;;\u001b\\\u001b[2m:\u001b[0m\u001b]8;id=262683;file:///Users/slegroux/miniforge3/envs/nimrod/lib/python3.11/site-packages/fsspec/implementations/local.py#351\u001b\\\u001b[2m351\u001b[0m\u001b]8;;\u001b\\\n",
       "\u001b[2;36m                    \u001b[0m         \u001b[35m/Users/slegroux/Projects/nimrod/nbs/logs/nnlm/version_25/\u001b[0m\u001b[95mmetrics.csv\u001b[0m      \u001b[2m            \u001b[0m\n"
      ]
     },
     "metadata": {},
     "output_type": "display_data"
    },
    {
     "data": {
      "text/html": [
       "<pre style=\"white-space:pre;overflow-x:auto;line-height:normal;font-family:Menlo,'DejaVu Sans Mono',consolas,'Courier New',monospace\"><span style=\"color: #7fbfbf; text-decoration-color: #7fbfbf\">[12/19/24 13:47:02] </span><span style=\"color: #008000; text-decoration-color: #008000\">DEBUG   </span> <span style=\"color: #008080; text-decoration-color: #008080; font-weight: bold\">2024</span>-<span style=\"color: #008080; text-decoration-color: #008080; font-weight: bold\">12</span>-<span style=\"color: #008080; text-decoration-color: #008080; font-weight: bold\">19</span> <span style=\"color: #00ff00; text-decoration-color: #00ff00; font-weight: bold\">13:47:02</span>,<span style=\"color: #008080; text-decoration-color: #008080; font-weight: bold\">006</span> - DEBUG - open file:                              <a href=\"file:///Users/slegroux/miniforge3/envs/nimrod/lib/python3.11/site-packages/fsspec/implementations/local.py\" target=\"_blank\"><span style=\"color: #7f7f7f; text-decoration-color: #7f7f7f\">local.py</span></a><span style=\"color: #7f7f7f; text-decoration-color: #7f7f7f\">:</span><a href=\"file:///Users/slegroux/miniforge3/envs/nimrod/lib/python3.11/site-packages/fsspec/implementations/local.py#351\" target=\"_blank\"><span style=\"color: #7f7f7f; text-decoration-color: #7f7f7f\">351</span></a>\n",
       "<span style=\"color: #7fbfbf; text-decoration-color: #7fbfbf\">                    </span>         <span style=\"color: #800080; text-decoration-color: #800080\">/Users/slegroux/Projects/nimrod/nbs/logs/nnlm/version_25/checkpoints/</span><span style=\"color: #ff00ff; text-decoration-color: #ff00ff\">epoc</span> <span style=\"color: #7f7f7f; text-decoration-color: #7f7f7f\">            </span>\n",
       "<span style=\"color: #7fbfbf; text-decoration-color: #7fbfbf\">                    </span>         <span style=\"color: #ff00ff; text-decoration-color: #ff00ff\">h</span>=<span style=\"color: #008080; text-decoration-color: #008080; font-weight: bold\">2</span>-<span style=\"color: #808000; text-decoration-color: #808000\">step</span>=<span style=\"color: #008080; text-decoration-color: #008080; font-weight: bold\">1308.</span>ckpt                                                        <span style=\"color: #7f7f7f; text-decoration-color: #7f7f7f\">            </span>\n",
       "</pre>\n"
      ],
      "text/plain": [
       "\u001b[2;36m[12/19/24 13:47:02]\u001b[0m\u001b[2;36m \u001b[0m\u001b[32mDEBUG   \u001b[0m \u001b[1;36m2024\u001b[0m-\u001b[1;36m12\u001b[0m-\u001b[1;36m19\u001b[0m \u001b[1;92m13:47:02\u001b[0m,\u001b[1;36m006\u001b[0m - DEBUG - open file:                              \u001b]8;id=92848;file:///Users/slegroux/miniforge3/envs/nimrod/lib/python3.11/site-packages/fsspec/implementations/local.py\u001b\\\u001b[2mlocal.py\u001b[0m\u001b]8;;\u001b\\\u001b[2m:\u001b[0m\u001b]8;id=862706;file:///Users/slegroux/miniforge3/envs/nimrod/lib/python3.11/site-packages/fsspec/implementations/local.py#351\u001b\\\u001b[2m351\u001b[0m\u001b]8;;\u001b\\\n",
       "\u001b[2;36m                    \u001b[0m         \u001b[35m/Users/slegroux/Projects/nimrod/nbs/logs/nnlm/version_25/checkpoints/\u001b[0m\u001b[95mepoc\u001b[0m \u001b[2m            \u001b[0m\n",
       "\u001b[2;36m                    \u001b[0m         \u001b[95mh\u001b[0m=\u001b[1;36m2\u001b[0m-\u001b[33mstep\u001b[0m=\u001b[1;36m1308\u001b[0m\u001b[1;36m.\u001b[0mckpt                                                        \u001b[2m            \u001b[0m\n"
      ]
     },
     "metadata": {},
     "output_type": "display_data"
    },
    {
     "data": {
      "text/html": [
       "<pre style=\"white-space:pre;overflow-x:auto;line-height:normal;font-family:Menlo,'DejaVu Sans Mono',consolas,'Courier New',monospace\"><span style=\"color: #7fbfbf; text-decoration-color: #7fbfbf\">                    </span><span style=\"color: #008000; text-decoration-color: #008000\">DEBUG   </span> <span style=\"color: #008080; text-decoration-color: #008080; font-weight: bold\">2024</span>-<span style=\"color: #008080; text-decoration-color: #008080; font-weight: bold\">12</span>-<span style=\"color: #008080; text-decoration-color: #008080; font-weight: bold\">19</span> <span style=\"color: #00ff00; text-decoration-color: #00ff00; font-weight: bold\">13:47:02</span>,<span style=\"color: #008080; text-decoration-color: #008080; font-weight: bold\">022</span> - DEBUG - open file:                              <a href=\"file:///Users/slegroux/miniforge3/envs/nimrod/lib/python3.11/site-packages/fsspec/implementations/local.py\" target=\"_blank\"><span style=\"color: #7f7f7f; text-decoration-color: #7f7f7f\">local.py</span></a><span style=\"color: #7f7f7f; text-decoration-color: #7f7f7f\">:</span><a href=\"file:///Users/slegroux/miniforge3/envs/nimrod/lib/python3.11/site-packages/fsspec/implementations/local.py#351\" target=\"_blank\"><span style=\"color: #7f7f7f; text-decoration-color: #7f7f7f\">351</span></a>\n",
       "<span style=\"color: #7fbfbf; text-decoration-color: #7fbfbf\">                    </span>         <span style=\"color: #800080; text-decoration-color: #800080\">/Users/slegroux/Projects/nimrod/nbs/logs/nnlm/version_25/</span><span style=\"color: #ff00ff; text-decoration-color: #ff00ff\">hparams.yaml</span>     <span style=\"color: #7f7f7f; text-decoration-color: #7f7f7f\">            </span>\n",
       "</pre>\n"
      ],
      "text/plain": [
       "\u001b[2;36m                   \u001b[0m\u001b[2;36m \u001b[0m\u001b[32mDEBUG   \u001b[0m \u001b[1;36m2024\u001b[0m-\u001b[1;36m12\u001b[0m-\u001b[1;36m19\u001b[0m \u001b[1;92m13:47:02\u001b[0m,\u001b[1;36m022\u001b[0m - DEBUG - open file:                              \u001b]8;id=753328;file:///Users/slegroux/miniforge3/envs/nimrod/lib/python3.11/site-packages/fsspec/implementations/local.py\u001b\\\u001b[2mlocal.py\u001b[0m\u001b]8;;\u001b\\\u001b[2m:\u001b[0m\u001b]8;id=870793;file:///Users/slegroux/miniforge3/envs/nimrod/lib/python3.11/site-packages/fsspec/implementations/local.py#351\u001b\\\u001b[2m351\u001b[0m\u001b]8;;\u001b\\\n",
       "\u001b[2;36m                    \u001b[0m         \u001b[35m/Users/slegroux/Projects/nimrod/nbs/logs/nnlm/version_25/\u001b[0m\u001b[95mhparams.yaml\u001b[0m     \u001b[2m            \u001b[0m\n"
      ]
     },
     "metadata": {},
     "output_type": "display_data"
    },
    {
     "data": {
      "text/html": [
       "<pre style=\"white-space:pre;overflow-x:auto;line-height:normal;font-family:Menlo,'DejaVu Sans Mono',consolas,'Courier New',monospace\"><span style=\"color: #7fbfbf; text-decoration-color: #7fbfbf\">                    </span><span style=\"color: #008000; text-decoration-color: #008000\">DEBUG   </span> <span style=\"color: #008080; text-decoration-color: #008080; font-weight: bold\">2024</span>-<span style=\"color: #008080; text-decoration-color: #008080; font-weight: bold\">12</span>-<span style=\"color: #008080; text-decoration-color: #008080; font-weight: bold\">19</span> <span style=\"color: #00ff00; text-decoration-color: #00ff00; font-weight: bold\">13:47:02</span>,<span style=\"color: #008080; text-decoration-color: #008080; font-weight: bold\">027</span> - DEBUG - open file:                              <a href=\"file:///Users/slegroux/miniforge3/envs/nimrod/lib/python3.11/site-packages/fsspec/implementations/local.py\" target=\"_blank\"><span style=\"color: #7f7f7f; text-decoration-color: #7f7f7f\">local.py</span></a><span style=\"color: #7f7f7f; text-decoration-color: #7f7f7f\">:</span><a href=\"file:///Users/slegroux/miniforge3/envs/nimrod/lib/python3.11/site-packages/fsspec/implementations/local.py#351\" target=\"_blank\"><span style=\"color: #7f7f7f; text-decoration-color: #7f7f7f\">351</span></a>\n",
       "<span style=\"color: #7fbfbf; text-decoration-color: #7fbfbf\">                    </span>         <span style=\"color: #800080; text-decoration-color: #800080\">/Users/slegroux/Projects/nimrod/nbs/logs/nnlm/version_25/</span><span style=\"color: #ff00ff; text-decoration-color: #ff00ff\">metrics.csv</span>      <span style=\"color: #7f7f7f; text-decoration-color: #7f7f7f\">            </span>\n",
       "</pre>\n"
      ],
      "text/plain": [
       "\u001b[2;36m                   \u001b[0m\u001b[2;36m \u001b[0m\u001b[32mDEBUG   \u001b[0m \u001b[1;36m2024\u001b[0m-\u001b[1;36m12\u001b[0m-\u001b[1;36m19\u001b[0m \u001b[1;92m13:47:02\u001b[0m,\u001b[1;36m027\u001b[0m - DEBUG - open file:                              \u001b]8;id=599443;file:///Users/slegroux/miniforge3/envs/nimrod/lib/python3.11/site-packages/fsspec/implementations/local.py\u001b\\\u001b[2mlocal.py\u001b[0m\u001b]8;;\u001b\\\u001b[2m:\u001b[0m\u001b]8;id=332382;file:///Users/slegroux/miniforge3/envs/nimrod/lib/python3.11/site-packages/fsspec/implementations/local.py#351\u001b\\\u001b[2m351\u001b[0m\u001b]8;;\u001b\\\n",
       "\u001b[2;36m                    \u001b[0m         \u001b[35m/Users/slegroux/Projects/nimrod/nbs/logs/nnlm/version_25/\u001b[0m\u001b[95mmetrics.csv\u001b[0m      \u001b[2m            \u001b[0m\n"
      ]
     },
     "metadata": {},
     "output_type": "display_data"
    },
    {
     "data": {
      "text/html": [
       "<pre style=\"white-space:pre;overflow-x:auto;line-height:normal;font-family:Menlo,'DejaVu Sans Mono',consolas,'Courier New',monospace\"><span style=\"color: #7fbfbf; text-decoration-color: #7fbfbf\">[12/19/24 13:47:03] </span><span style=\"color: #008000; text-decoration-color: #008000\">DEBUG   </span> <span style=\"color: #008080; text-decoration-color: #008080; font-weight: bold\">2024</span>-<span style=\"color: #008080; text-decoration-color: #008080; font-weight: bold\">12</span>-<span style=\"color: #008080; text-decoration-color: #008080; font-weight: bold\">19</span> <span style=\"color: #00ff00; text-decoration-color: #00ff00; font-weight: bold\">13:47:03</span>,<span style=\"color: #008080; text-decoration-color: #008080; font-weight: bold\">253</span> - DEBUG - open file:                              <a href=\"file:///Users/slegroux/miniforge3/envs/nimrod/lib/python3.11/site-packages/fsspec/implementations/local.py\" target=\"_blank\"><span style=\"color: #7f7f7f; text-decoration-color: #7f7f7f\">local.py</span></a><span style=\"color: #7f7f7f; text-decoration-color: #7f7f7f\">:</span><a href=\"file:///Users/slegroux/miniforge3/envs/nimrod/lib/python3.11/site-packages/fsspec/implementations/local.py#351\" target=\"_blank\"><span style=\"color: #7f7f7f; text-decoration-color: #7f7f7f\">351</span></a>\n",
       "<span style=\"color: #7fbfbf; text-decoration-color: #7fbfbf\">                    </span>         <span style=\"color: #800080; text-decoration-color: #800080\">/Users/slegroux/Projects/nimrod/nbs/logs/nnlm/version_25/</span><span style=\"color: #ff00ff; text-decoration-color: #ff00ff\">hparams.yaml</span>     <span style=\"color: #7f7f7f; text-decoration-color: #7f7f7f\">            </span>\n",
       "</pre>\n"
      ],
      "text/plain": [
       "\u001b[2;36m[12/19/24 13:47:03]\u001b[0m\u001b[2;36m \u001b[0m\u001b[32mDEBUG   \u001b[0m \u001b[1;36m2024\u001b[0m-\u001b[1;36m12\u001b[0m-\u001b[1;36m19\u001b[0m \u001b[1;92m13:47:03\u001b[0m,\u001b[1;36m253\u001b[0m - DEBUG - open file:                              \u001b]8;id=28216;file:///Users/slegroux/miniforge3/envs/nimrod/lib/python3.11/site-packages/fsspec/implementations/local.py\u001b\\\u001b[2mlocal.py\u001b[0m\u001b]8;;\u001b\\\u001b[2m:\u001b[0m\u001b]8;id=296026;file:///Users/slegroux/miniforge3/envs/nimrod/lib/python3.11/site-packages/fsspec/implementations/local.py#351\u001b\\\u001b[2m351\u001b[0m\u001b]8;;\u001b\\\n",
       "\u001b[2;36m                    \u001b[0m         \u001b[35m/Users/slegroux/Projects/nimrod/nbs/logs/nnlm/version_25/\u001b[0m\u001b[95mhparams.yaml\u001b[0m     \u001b[2m            \u001b[0m\n"
      ]
     },
     "metadata": {},
     "output_type": "display_data"
    },
    {
     "data": {
      "text/html": [
       "<pre style=\"white-space:pre;overflow-x:auto;line-height:normal;font-family:Menlo,'DejaVu Sans Mono',consolas,'Courier New',monospace\"><span style=\"color: #7fbfbf; text-decoration-color: #7fbfbf\">                    </span><span style=\"color: #008000; text-decoration-color: #008000\">DEBUG   </span> <span style=\"color: #008080; text-decoration-color: #008080; font-weight: bold\">2024</span>-<span style=\"color: #008080; text-decoration-color: #008080; font-weight: bold\">12</span>-<span style=\"color: #008080; text-decoration-color: #008080; font-weight: bold\">19</span> <span style=\"color: #00ff00; text-decoration-color: #00ff00; font-weight: bold\">13:47:03</span>,<span style=\"color: #008080; text-decoration-color: #008080; font-weight: bold\">255</span> - DEBUG - open file:                              <a href=\"file:///Users/slegroux/miniforge3/envs/nimrod/lib/python3.11/site-packages/fsspec/implementations/local.py\" target=\"_blank\"><span style=\"color: #7f7f7f; text-decoration-color: #7f7f7f\">local.py</span></a><span style=\"color: #7f7f7f; text-decoration-color: #7f7f7f\">:</span><a href=\"file:///Users/slegroux/miniforge3/envs/nimrod/lib/python3.11/site-packages/fsspec/implementations/local.py#351\" target=\"_blank\"><span style=\"color: #7f7f7f; text-decoration-color: #7f7f7f\">351</span></a>\n",
       "<span style=\"color: #7fbfbf; text-decoration-color: #7fbfbf\">                    </span>         <span style=\"color: #800080; text-decoration-color: #800080\">/Users/slegroux/Projects/nimrod/nbs/logs/nnlm/version_25/</span><span style=\"color: #ff00ff; text-decoration-color: #ff00ff\">metrics.csv</span>      <span style=\"color: #7f7f7f; text-decoration-color: #7f7f7f\">            </span>\n",
       "</pre>\n"
      ],
      "text/plain": [
       "\u001b[2;36m                   \u001b[0m\u001b[2;36m \u001b[0m\u001b[32mDEBUG   \u001b[0m \u001b[1;36m2024\u001b[0m-\u001b[1;36m12\u001b[0m-\u001b[1;36m19\u001b[0m \u001b[1;92m13:47:03\u001b[0m,\u001b[1;36m255\u001b[0m - DEBUG - open file:                              \u001b]8;id=957452;file:///Users/slegroux/miniforge3/envs/nimrod/lib/python3.11/site-packages/fsspec/implementations/local.py\u001b\\\u001b[2mlocal.py\u001b[0m\u001b]8;;\u001b\\\u001b[2m:\u001b[0m\u001b]8;id=265164;file:///Users/slegroux/miniforge3/envs/nimrod/lib/python3.11/site-packages/fsspec/implementations/local.py#351\u001b\\\u001b[2m351\u001b[0m\u001b]8;;\u001b\\\n",
       "\u001b[2;36m                    \u001b[0m         \u001b[35m/Users/slegroux/Projects/nimrod/nbs/logs/nnlm/version_25/\u001b[0m\u001b[95mmetrics.csv\u001b[0m      \u001b[2m            \u001b[0m\n"
      ]
     },
     "metadata": {},
     "output_type": "display_data"
    },
    {
     "data": {
      "text/html": [
       "<pre style=\"white-space:pre;overflow-x:auto;line-height:normal;font-family:Menlo,'DejaVu Sans Mono',consolas,'Courier New',monospace\"><span style=\"color: #7fbfbf; text-decoration-color: #7fbfbf\">[12/19/24 13:47:04] </span><span style=\"color: #008000; text-decoration-color: #008000\">DEBUG   </span> <span style=\"color: #008080; text-decoration-color: #008080; font-weight: bold\">2024</span>-<span style=\"color: #008080; text-decoration-color: #008080; font-weight: bold\">12</span>-<span style=\"color: #008080; text-decoration-color: #008080; font-weight: bold\">19</span> <span style=\"color: #00ff00; text-decoration-color: #00ff00; font-weight: bold\">13:47:04</span>,<span style=\"color: #008080; text-decoration-color: #008080; font-weight: bold\">672</span> - DEBUG - open file:                              <a href=\"file:///Users/slegroux/miniforge3/envs/nimrod/lib/python3.11/site-packages/fsspec/implementations/local.py\" target=\"_blank\"><span style=\"color: #7f7f7f; text-decoration-color: #7f7f7f\">local.py</span></a><span style=\"color: #7f7f7f; text-decoration-color: #7f7f7f\">:</span><a href=\"file:///Users/slegroux/miniforge3/envs/nimrod/lib/python3.11/site-packages/fsspec/implementations/local.py#351\" target=\"_blank\"><span style=\"color: #7f7f7f; text-decoration-color: #7f7f7f\">351</span></a>\n",
       "<span style=\"color: #7fbfbf; text-decoration-color: #7fbfbf\">                    </span>         <span style=\"color: #800080; text-decoration-color: #800080\">/Users/slegroux/Projects/nimrod/nbs/logs/nnlm/version_25/</span><span style=\"color: #ff00ff; text-decoration-color: #ff00ff\">hparams.yaml</span>     <span style=\"color: #7f7f7f; text-decoration-color: #7f7f7f\">            </span>\n",
       "</pre>\n"
      ],
      "text/plain": [
       "\u001b[2;36m[12/19/24 13:47:04]\u001b[0m\u001b[2;36m \u001b[0m\u001b[32mDEBUG   \u001b[0m \u001b[1;36m2024\u001b[0m-\u001b[1;36m12\u001b[0m-\u001b[1;36m19\u001b[0m \u001b[1;92m13:47:04\u001b[0m,\u001b[1;36m672\u001b[0m - DEBUG - open file:                              \u001b]8;id=687244;file:///Users/slegroux/miniforge3/envs/nimrod/lib/python3.11/site-packages/fsspec/implementations/local.py\u001b\\\u001b[2mlocal.py\u001b[0m\u001b]8;;\u001b\\\u001b[2m:\u001b[0m\u001b]8;id=248163;file:///Users/slegroux/miniforge3/envs/nimrod/lib/python3.11/site-packages/fsspec/implementations/local.py#351\u001b\\\u001b[2m351\u001b[0m\u001b]8;;\u001b\\\n",
       "\u001b[2;36m                    \u001b[0m         \u001b[35m/Users/slegroux/Projects/nimrod/nbs/logs/nnlm/version_25/\u001b[0m\u001b[95mhparams.yaml\u001b[0m     \u001b[2m            \u001b[0m\n"
      ]
     },
     "metadata": {},
     "output_type": "display_data"
    },
    {
     "data": {
      "text/html": [
       "<pre style=\"white-space:pre;overflow-x:auto;line-height:normal;font-family:Menlo,'DejaVu Sans Mono',consolas,'Courier New',monospace\"><span style=\"color: #7fbfbf; text-decoration-color: #7fbfbf\">                    </span><span style=\"color: #008000; text-decoration-color: #008000\">DEBUG   </span> <span style=\"color: #008080; text-decoration-color: #008080; font-weight: bold\">2024</span>-<span style=\"color: #008080; text-decoration-color: #008080; font-weight: bold\">12</span>-<span style=\"color: #008080; text-decoration-color: #008080; font-weight: bold\">19</span> <span style=\"color: #00ff00; text-decoration-color: #00ff00; font-weight: bold\">13:47:04</span>,<span style=\"color: #008080; text-decoration-color: #008080; font-weight: bold\">677</span> - DEBUG - open file:                              <a href=\"file:///Users/slegroux/miniforge3/envs/nimrod/lib/python3.11/site-packages/fsspec/implementations/local.py\" target=\"_blank\"><span style=\"color: #7f7f7f; text-decoration-color: #7f7f7f\">local.py</span></a><span style=\"color: #7f7f7f; text-decoration-color: #7f7f7f\">:</span><a href=\"file:///Users/slegroux/miniforge3/envs/nimrod/lib/python3.11/site-packages/fsspec/implementations/local.py#351\" target=\"_blank\"><span style=\"color: #7f7f7f; text-decoration-color: #7f7f7f\">351</span></a>\n",
       "<span style=\"color: #7fbfbf; text-decoration-color: #7fbfbf\">                    </span>         <span style=\"color: #800080; text-decoration-color: #800080\">/Users/slegroux/Projects/nimrod/nbs/logs/nnlm/version_25/</span><span style=\"color: #ff00ff; text-decoration-color: #ff00ff\">metrics.csv</span>      <span style=\"color: #7f7f7f; text-decoration-color: #7f7f7f\">            </span>\n",
       "</pre>\n"
      ],
      "text/plain": [
       "\u001b[2;36m                   \u001b[0m\u001b[2;36m \u001b[0m\u001b[32mDEBUG   \u001b[0m \u001b[1;36m2024\u001b[0m-\u001b[1;36m12\u001b[0m-\u001b[1;36m19\u001b[0m \u001b[1;92m13:47:04\u001b[0m,\u001b[1;36m677\u001b[0m - DEBUG - open file:                              \u001b]8;id=426389;file:///Users/slegroux/miniforge3/envs/nimrod/lib/python3.11/site-packages/fsspec/implementations/local.py\u001b\\\u001b[2mlocal.py\u001b[0m\u001b]8;;\u001b\\\u001b[2m:\u001b[0m\u001b]8;id=8557;file:///Users/slegroux/miniforge3/envs/nimrod/lib/python3.11/site-packages/fsspec/implementations/local.py#351\u001b\\\u001b[2m351\u001b[0m\u001b]8;;\u001b\\\n",
       "\u001b[2;36m                    \u001b[0m         \u001b[35m/Users/slegroux/Projects/nimrod/nbs/logs/nnlm/version_25/\u001b[0m\u001b[95mmetrics.csv\u001b[0m      \u001b[2m            \u001b[0m\n"
      ]
     },
     "metadata": {},
     "output_type": "display_data"
    },
    {
     "data": {
      "text/html": [
       "<pre style=\"white-space:pre;overflow-x:auto;line-height:normal;font-family:Menlo,'DejaVu Sans Mono',consolas,'Courier New',monospace\"><span style=\"color: #7fbfbf; text-decoration-color: #7fbfbf\">                    </span><span style=\"color: #008000; text-decoration-color: #008000\">DEBUG   </span> <span style=\"color: #008080; text-decoration-color: #008080; font-weight: bold\">2024</span>-<span style=\"color: #008080; text-decoration-color: #008080; font-weight: bold\">12</span>-<span style=\"color: #008080; text-decoration-color: #008080; font-weight: bold\">19</span> <span style=\"color: #00ff00; text-decoration-color: #00ff00; font-weight: bold\">13:47:04</span>,<span style=\"color: #008080; text-decoration-color: #008080; font-weight: bold\">680</span> - DEBUG - open file:                              <a href=\"file:///Users/slegroux/miniforge3/envs/nimrod/lib/python3.11/site-packages/fsspec/implementations/local.py\" target=\"_blank\"><span style=\"color: #7f7f7f; text-decoration-color: #7f7f7f\">local.py</span></a><span style=\"color: #7f7f7f; text-decoration-color: #7f7f7f\">:</span><a href=\"file:///Users/slegroux/miniforge3/envs/nimrod/lib/python3.11/site-packages/fsspec/implementations/local.py#351\" target=\"_blank\"><span style=\"color: #7f7f7f; text-decoration-color: #7f7f7f\">351</span></a>\n",
       "<span style=\"color: #7fbfbf; text-decoration-color: #7fbfbf\">                    </span>         <span style=\"color: #800080; text-decoration-color: #800080\">/Users/slegroux/Projects/nimrod/nbs/logs/nnlm/version_25/</span><span style=\"color: #ff00ff; text-decoration-color: #ff00ff\">hparams.yaml</span>     <span style=\"color: #7f7f7f; text-decoration-color: #7f7f7f\">            </span>\n",
       "</pre>\n"
      ],
      "text/plain": [
       "\u001b[2;36m                   \u001b[0m\u001b[2;36m \u001b[0m\u001b[32mDEBUG   \u001b[0m \u001b[1;36m2024\u001b[0m-\u001b[1;36m12\u001b[0m-\u001b[1;36m19\u001b[0m \u001b[1;92m13:47:04\u001b[0m,\u001b[1;36m680\u001b[0m - DEBUG - open file:                              \u001b]8;id=91184;file:///Users/slegroux/miniforge3/envs/nimrod/lib/python3.11/site-packages/fsspec/implementations/local.py\u001b\\\u001b[2mlocal.py\u001b[0m\u001b]8;;\u001b\\\u001b[2m:\u001b[0m\u001b]8;id=819701;file:///Users/slegroux/miniforge3/envs/nimrod/lib/python3.11/site-packages/fsspec/implementations/local.py#351\u001b\\\u001b[2m351\u001b[0m\u001b]8;;\u001b\\\n",
       "\u001b[2;36m                    \u001b[0m         \u001b[35m/Users/slegroux/Projects/nimrod/nbs/logs/nnlm/version_25/\u001b[0m\u001b[95mhparams.yaml\u001b[0m     \u001b[2m            \u001b[0m\n"
      ]
     },
     "metadata": {},
     "output_type": "display_data"
    },
    {
     "data": {
      "text/html": [
       "<pre style=\"white-space:pre;overflow-x:auto;line-height:normal;font-family:Menlo,'DejaVu Sans Mono',consolas,'Courier New',monospace\"><span style=\"color: #7fbfbf; text-decoration-color: #7fbfbf\">[12/19/24 13:47:05] </span><span style=\"color: #008000; text-decoration-color: #008000\">DEBUG   </span> <span style=\"color: #008080; text-decoration-color: #008080; font-weight: bold\">2024</span>-<span style=\"color: #008080; text-decoration-color: #008080; font-weight: bold\">12</span>-<span style=\"color: #008080; text-decoration-color: #008080; font-weight: bold\">19</span> <span style=\"color: #00ff00; text-decoration-color: #00ff00; font-weight: bold\">13:47:05</span>,<span style=\"color: #008080; text-decoration-color: #008080; font-weight: bold\">897</span> - DEBUG - open file:                              <a href=\"file:///Users/slegroux/miniforge3/envs/nimrod/lib/python3.11/site-packages/fsspec/implementations/local.py\" target=\"_blank\"><span style=\"color: #7f7f7f; text-decoration-color: #7f7f7f\">local.py</span></a><span style=\"color: #7f7f7f; text-decoration-color: #7f7f7f\">:</span><a href=\"file:///Users/slegroux/miniforge3/envs/nimrod/lib/python3.11/site-packages/fsspec/implementations/local.py#351\" target=\"_blank\"><span style=\"color: #7f7f7f; text-decoration-color: #7f7f7f\">351</span></a>\n",
       "<span style=\"color: #7fbfbf; text-decoration-color: #7fbfbf\">                    </span>         <span style=\"color: #800080; text-decoration-color: #800080\">/Users/slegroux/Projects/nimrod/nbs/logs/nnlm/version_25/</span><span style=\"color: #ff00ff; text-decoration-color: #ff00ff\">hparams.yaml</span>     <span style=\"color: #7f7f7f; text-decoration-color: #7f7f7f\">            </span>\n",
       "</pre>\n"
      ],
      "text/plain": [
       "\u001b[2;36m[12/19/24 13:47:05]\u001b[0m\u001b[2;36m \u001b[0m\u001b[32mDEBUG   \u001b[0m \u001b[1;36m2024\u001b[0m-\u001b[1;36m12\u001b[0m-\u001b[1;36m19\u001b[0m \u001b[1;92m13:47:05\u001b[0m,\u001b[1;36m897\u001b[0m - DEBUG - open file:                              \u001b]8;id=777009;file:///Users/slegroux/miniforge3/envs/nimrod/lib/python3.11/site-packages/fsspec/implementations/local.py\u001b\\\u001b[2mlocal.py\u001b[0m\u001b]8;;\u001b\\\u001b[2m:\u001b[0m\u001b]8;id=765314;file:///Users/slegroux/miniforge3/envs/nimrod/lib/python3.11/site-packages/fsspec/implementations/local.py#351\u001b\\\u001b[2m351\u001b[0m\u001b]8;;\u001b\\\n",
       "\u001b[2;36m                    \u001b[0m         \u001b[35m/Users/slegroux/Projects/nimrod/nbs/logs/nnlm/version_25/\u001b[0m\u001b[95mhparams.yaml\u001b[0m     \u001b[2m            \u001b[0m\n"
      ]
     },
     "metadata": {},
     "output_type": "display_data"
    },
    {
     "data": {
      "text/html": [
       "<pre style=\"white-space:pre;overflow-x:auto;line-height:normal;font-family:Menlo,'DejaVu Sans Mono',consolas,'Courier New',monospace\"><span style=\"color: #7fbfbf; text-decoration-color: #7fbfbf\">                    </span><span style=\"color: #008000; text-decoration-color: #008000\">DEBUG   </span> <span style=\"color: #008080; text-decoration-color: #008080; font-weight: bold\">2024</span>-<span style=\"color: #008080; text-decoration-color: #008080; font-weight: bold\">12</span>-<span style=\"color: #008080; text-decoration-color: #008080; font-weight: bold\">19</span> <span style=\"color: #00ff00; text-decoration-color: #00ff00; font-weight: bold\">13:47:05</span>,<span style=\"color: #008080; text-decoration-color: #008080; font-weight: bold\">899</span> - DEBUG - open file:                              <a href=\"file:///Users/slegroux/miniforge3/envs/nimrod/lib/python3.11/site-packages/fsspec/implementations/local.py\" target=\"_blank\"><span style=\"color: #7f7f7f; text-decoration-color: #7f7f7f\">local.py</span></a><span style=\"color: #7f7f7f; text-decoration-color: #7f7f7f\">:</span><a href=\"file:///Users/slegroux/miniforge3/envs/nimrod/lib/python3.11/site-packages/fsspec/implementations/local.py#351\" target=\"_blank\"><span style=\"color: #7f7f7f; text-decoration-color: #7f7f7f\">351</span></a>\n",
       "<span style=\"color: #7fbfbf; text-decoration-color: #7fbfbf\">                    </span>         <span style=\"color: #800080; text-decoration-color: #800080\">/Users/slegroux/Projects/nimrod/nbs/logs/nnlm/version_25/</span><span style=\"color: #ff00ff; text-decoration-color: #ff00ff\">metrics.csv</span>      <span style=\"color: #7f7f7f; text-decoration-color: #7f7f7f\">            </span>\n",
       "</pre>\n"
      ],
      "text/plain": [
       "\u001b[2;36m                   \u001b[0m\u001b[2;36m \u001b[0m\u001b[32mDEBUG   \u001b[0m \u001b[1;36m2024\u001b[0m-\u001b[1;36m12\u001b[0m-\u001b[1;36m19\u001b[0m \u001b[1;92m13:47:05\u001b[0m,\u001b[1;36m899\u001b[0m - DEBUG - open file:                              \u001b]8;id=744543;file:///Users/slegroux/miniforge3/envs/nimrod/lib/python3.11/site-packages/fsspec/implementations/local.py\u001b\\\u001b[2mlocal.py\u001b[0m\u001b]8;;\u001b\\\u001b[2m:\u001b[0m\u001b]8;id=384711;file:///Users/slegroux/miniforge3/envs/nimrod/lib/python3.11/site-packages/fsspec/implementations/local.py#351\u001b\\\u001b[2m351\u001b[0m\u001b]8;;\u001b\\\n",
       "\u001b[2;36m                    \u001b[0m         \u001b[35m/Users/slegroux/Projects/nimrod/nbs/logs/nnlm/version_25/\u001b[0m\u001b[95mmetrics.csv\u001b[0m      \u001b[2m            \u001b[0m\n"
      ]
     },
     "metadata": {},
     "output_type": "display_data"
    },
    {
     "data": {
      "text/html": [
       "<pre style=\"white-space:pre;overflow-x:auto;line-height:normal;font-family:Menlo,'DejaVu Sans Mono',consolas,'Courier New',monospace\"><span style=\"color: #7fbfbf; text-decoration-color: #7fbfbf\">[12/19/24 13:47:07] </span><span style=\"color: #008000; text-decoration-color: #008000\">DEBUG   </span> <span style=\"color: #008080; text-decoration-color: #008080; font-weight: bold\">2024</span>-<span style=\"color: #008080; text-decoration-color: #008080; font-weight: bold\">12</span>-<span style=\"color: #008080; text-decoration-color: #008080; font-weight: bold\">19</span> <span style=\"color: #00ff00; text-decoration-color: #00ff00; font-weight: bold\">13:47:07</span>,<span style=\"color: #008080; text-decoration-color: #008080; font-weight: bold\">336</span> - DEBUG - open file:                              <a href=\"file:///Users/slegroux/miniforge3/envs/nimrod/lib/python3.11/site-packages/fsspec/implementations/local.py\" target=\"_blank\"><span style=\"color: #7f7f7f; text-decoration-color: #7f7f7f\">local.py</span></a><span style=\"color: #7f7f7f; text-decoration-color: #7f7f7f\">:</span><a href=\"file:///Users/slegroux/miniforge3/envs/nimrod/lib/python3.11/site-packages/fsspec/implementations/local.py#351\" target=\"_blank\"><span style=\"color: #7f7f7f; text-decoration-color: #7f7f7f\">351</span></a>\n",
       "<span style=\"color: #7fbfbf; text-decoration-color: #7fbfbf\">                    </span>         <span style=\"color: #800080; text-decoration-color: #800080\">/Users/slegroux/Projects/nimrod/nbs/logs/nnlm/version_25/</span><span style=\"color: #ff00ff; text-decoration-color: #ff00ff\">hparams.yaml</span>     <span style=\"color: #7f7f7f; text-decoration-color: #7f7f7f\">            </span>\n",
       "</pre>\n"
      ],
      "text/plain": [
       "\u001b[2;36m[12/19/24 13:47:07]\u001b[0m\u001b[2;36m \u001b[0m\u001b[32mDEBUG   \u001b[0m \u001b[1;36m2024\u001b[0m-\u001b[1;36m12\u001b[0m-\u001b[1;36m19\u001b[0m \u001b[1;92m13:47:07\u001b[0m,\u001b[1;36m336\u001b[0m - DEBUG - open file:                              \u001b]8;id=630012;file:///Users/slegroux/miniforge3/envs/nimrod/lib/python3.11/site-packages/fsspec/implementations/local.py\u001b\\\u001b[2mlocal.py\u001b[0m\u001b]8;;\u001b\\\u001b[2m:\u001b[0m\u001b]8;id=804401;file:///Users/slegroux/miniforge3/envs/nimrod/lib/python3.11/site-packages/fsspec/implementations/local.py#351\u001b\\\u001b[2m351\u001b[0m\u001b]8;;\u001b\\\n",
       "\u001b[2;36m                    \u001b[0m         \u001b[35m/Users/slegroux/Projects/nimrod/nbs/logs/nnlm/version_25/\u001b[0m\u001b[95mhparams.yaml\u001b[0m     \u001b[2m            \u001b[0m\n"
      ]
     },
     "metadata": {},
     "output_type": "display_data"
    },
    {
     "data": {
      "text/html": [
       "<pre style=\"white-space:pre;overflow-x:auto;line-height:normal;font-family:Menlo,'DejaVu Sans Mono',consolas,'Courier New',monospace\"><span style=\"color: #7fbfbf; text-decoration-color: #7fbfbf\">                    </span><span style=\"color: #008000; text-decoration-color: #008000\">DEBUG   </span> <span style=\"color: #008080; text-decoration-color: #008080; font-weight: bold\">2024</span>-<span style=\"color: #008080; text-decoration-color: #008080; font-weight: bold\">12</span>-<span style=\"color: #008080; text-decoration-color: #008080; font-weight: bold\">19</span> <span style=\"color: #00ff00; text-decoration-color: #00ff00; font-weight: bold\">13:47:07</span>,<span style=\"color: #008080; text-decoration-color: #008080; font-weight: bold\">339</span> - DEBUG - open file:                              <a href=\"file:///Users/slegroux/miniforge3/envs/nimrod/lib/python3.11/site-packages/fsspec/implementations/local.py\" target=\"_blank\"><span style=\"color: #7f7f7f; text-decoration-color: #7f7f7f\">local.py</span></a><span style=\"color: #7f7f7f; text-decoration-color: #7f7f7f\">:</span><a href=\"file:///Users/slegroux/miniforge3/envs/nimrod/lib/python3.11/site-packages/fsspec/implementations/local.py#351\" target=\"_blank\"><span style=\"color: #7f7f7f; text-decoration-color: #7f7f7f\">351</span></a>\n",
       "<span style=\"color: #7fbfbf; text-decoration-color: #7fbfbf\">                    </span>         <span style=\"color: #800080; text-decoration-color: #800080\">/Users/slegroux/Projects/nimrod/nbs/logs/nnlm/version_25/</span><span style=\"color: #ff00ff; text-decoration-color: #ff00ff\">metrics.csv</span>      <span style=\"color: #7f7f7f; text-decoration-color: #7f7f7f\">            </span>\n",
       "</pre>\n"
      ],
      "text/plain": [
       "\u001b[2;36m                   \u001b[0m\u001b[2;36m \u001b[0m\u001b[32mDEBUG   \u001b[0m \u001b[1;36m2024\u001b[0m-\u001b[1;36m12\u001b[0m-\u001b[1;36m19\u001b[0m \u001b[1;92m13:47:07\u001b[0m,\u001b[1;36m339\u001b[0m - DEBUG - open file:                              \u001b]8;id=184445;file:///Users/slegroux/miniforge3/envs/nimrod/lib/python3.11/site-packages/fsspec/implementations/local.py\u001b\\\u001b[2mlocal.py\u001b[0m\u001b]8;;\u001b\\\u001b[2m:\u001b[0m\u001b]8;id=935847;file:///Users/slegroux/miniforge3/envs/nimrod/lib/python3.11/site-packages/fsspec/implementations/local.py#351\u001b\\\u001b[2m351\u001b[0m\u001b]8;;\u001b\\\n",
       "\u001b[2;36m                    \u001b[0m         \u001b[35m/Users/slegroux/Projects/nimrod/nbs/logs/nnlm/version_25/\u001b[0m\u001b[95mmetrics.csv\u001b[0m      \u001b[2m            \u001b[0m\n"
      ]
     },
     "metadata": {},
     "output_type": "display_data"
    },
    {
     "data": {
      "text/html": [
       "<pre style=\"white-space:pre;overflow-x:auto;line-height:normal;font-family:Menlo,'DejaVu Sans Mono',consolas,'Courier New',monospace\"><span style=\"color: #7fbfbf; text-decoration-color: #7fbfbf\">                    </span><span style=\"color: #008000; text-decoration-color: #008000\">DEBUG   </span> <span style=\"color: #008080; text-decoration-color: #008080; font-weight: bold\">2024</span>-<span style=\"color: #008080; text-decoration-color: #008080; font-weight: bold\">12</span>-<span style=\"color: #008080; text-decoration-color: #008080; font-weight: bold\">19</span> <span style=\"color: #00ff00; text-decoration-color: #00ff00; font-weight: bold\">13:47:07</span>,<span style=\"color: #008080; text-decoration-color: #008080; font-weight: bold\">341</span> - DEBUG - open file:                              <a href=\"file:///Users/slegroux/miniforge3/envs/nimrod/lib/python3.11/site-packages/fsspec/implementations/local.py\" target=\"_blank\"><span style=\"color: #7f7f7f; text-decoration-color: #7f7f7f\">local.py</span></a><span style=\"color: #7f7f7f; text-decoration-color: #7f7f7f\">:</span><a href=\"file:///Users/slegroux/miniforge3/envs/nimrod/lib/python3.11/site-packages/fsspec/implementations/local.py#351\" target=\"_blank\"><span style=\"color: #7f7f7f; text-decoration-color: #7f7f7f\">351</span></a>\n",
       "<span style=\"color: #7fbfbf; text-decoration-color: #7fbfbf\">                    </span>         <span style=\"color: #800080; text-decoration-color: #800080\">/Users/slegroux/Projects/nimrod/nbs/logs/nnlm/version_25/</span><span style=\"color: #ff00ff; text-decoration-color: #ff00ff\">hparams.yaml</span>     <span style=\"color: #7f7f7f; text-decoration-color: #7f7f7f\">            </span>\n",
       "</pre>\n"
      ],
      "text/plain": [
       "\u001b[2;36m                   \u001b[0m\u001b[2;36m \u001b[0m\u001b[32mDEBUG   \u001b[0m \u001b[1;36m2024\u001b[0m-\u001b[1;36m12\u001b[0m-\u001b[1;36m19\u001b[0m \u001b[1;92m13:47:07\u001b[0m,\u001b[1;36m341\u001b[0m - DEBUG - open file:                              \u001b]8;id=91419;file:///Users/slegroux/miniforge3/envs/nimrod/lib/python3.11/site-packages/fsspec/implementations/local.py\u001b\\\u001b[2mlocal.py\u001b[0m\u001b]8;;\u001b\\\u001b[2m:\u001b[0m\u001b]8;id=194657;file:///Users/slegroux/miniforge3/envs/nimrod/lib/python3.11/site-packages/fsspec/implementations/local.py#351\u001b\\\u001b[2m351\u001b[0m\u001b]8;;\u001b\\\n",
       "\u001b[2;36m                    \u001b[0m         \u001b[35m/Users/slegroux/Projects/nimrod/nbs/logs/nnlm/version_25/\u001b[0m\u001b[95mhparams.yaml\u001b[0m     \u001b[2m            \u001b[0m\n"
      ]
     },
     "metadata": {},
     "output_type": "display_data"
    },
    {
     "data": {
      "text/html": [
       "<pre style=\"white-space:pre;overflow-x:auto;line-height:normal;font-family:Menlo,'DejaVu Sans Mono',consolas,'Courier New',monospace\"><span style=\"color: #7fbfbf; text-decoration-color: #7fbfbf\">[12/19/24 13:47:08] </span><span style=\"color: #008000; text-decoration-color: #008000\">DEBUG   </span> <span style=\"color: #008080; text-decoration-color: #008080; font-weight: bold\">2024</span>-<span style=\"color: #008080; text-decoration-color: #008080; font-weight: bold\">12</span>-<span style=\"color: #008080; text-decoration-color: #008080; font-weight: bold\">19</span> <span style=\"color: #00ff00; text-decoration-color: #00ff00; font-weight: bold\">13:47:08</span>,<span style=\"color: #008080; text-decoration-color: #008080; font-weight: bold\">565</span> - DEBUG - open file:                              <a href=\"file:///Users/slegroux/miniforge3/envs/nimrod/lib/python3.11/site-packages/fsspec/implementations/local.py\" target=\"_blank\"><span style=\"color: #7f7f7f; text-decoration-color: #7f7f7f\">local.py</span></a><span style=\"color: #7f7f7f; text-decoration-color: #7f7f7f\">:</span><a href=\"file:///Users/slegroux/miniforge3/envs/nimrod/lib/python3.11/site-packages/fsspec/implementations/local.py#351\" target=\"_blank\"><span style=\"color: #7f7f7f; text-decoration-color: #7f7f7f\">351</span></a>\n",
       "<span style=\"color: #7fbfbf; text-decoration-color: #7fbfbf\">                    </span>         <span style=\"color: #800080; text-decoration-color: #800080\">/Users/slegroux/Projects/nimrod/nbs/logs/nnlm/version_25/</span><span style=\"color: #ff00ff; text-decoration-color: #ff00ff\">hparams.yaml</span>     <span style=\"color: #7f7f7f; text-decoration-color: #7f7f7f\">            </span>\n",
       "</pre>\n"
      ],
      "text/plain": [
       "\u001b[2;36m[12/19/24 13:47:08]\u001b[0m\u001b[2;36m \u001b[0m\u001b[32mDEBUG   \u001b[0m \u001b[1;36m2024\u001b[0m-\u001b[1;36m12\u001b[0m-\u001b[1;36m19\u001b[0m \u001b[1;92m13:47:08\u001b[0m,\u001b[1;36m565\u001b[0m - DEBUG - open file:                              \u001b]8;id=134660;file:///Users/slegroux/miniforge3/envs/nimrod/lib/python3.11/site-packages/fsspec/implementations/local.py\u001b\\\u001b[2mlocal.py\u001b[0m\u001b]8;;\u001b\\\u001b[2m:\u001b[0m\u001b]8;id=121608;file:///Users/slegroux/miniforge3/envs/nimrod/lib/python3.11/site-packages/fsspec/implementations/local.py#351\u001b\\\u001b[2m351\u001b[0m\u001b]8;;\u001b\\\n",
       "\u001b[2;36m                    \u001b[0m         \u001b[35m/Users/slegroux/Projects/nimrod/nbs/logs/nnlm/version_25/\u001b[0m\u001b[95mhparams.yaml\u001b[0m     \u001b[2m            \u001b[0m\n"
      ]
     },
     "metadata": {},
     "output_type": "display_data"
    },
    {
     "data": {
      "text/html": [
       "<pre style=\"white-space:pre;overflow-x:auto;line-height:normal;font-family:Menlo,'DejaVu Sans Mono',consolas,'Courier New',monospace\"><span style=\"color: #7fbfbf; text-decoration-color: #7fbfbf\">                    </span><span style=\"color: #008000; text-decoration-color: #008000\">DEBUG   </span> <span style=\"color: #008080; text-decoration-color: #008080; font-weight: bold\">2024</span>-<span style=\"color: #008080; text-decoration-color: #008080; font-weight: bold\">12</span>-<span style=\"color: #008080; text-decoration-color: #008080; font-weight: bold\">19</span> <span style=\"color: #00ff00; text-decoration-color: #00ff00; font-weight: bold\">13:47:08</span>,<span style=\"color: #008080; text-decoration-color: #008080; font-weight: bold\">571</span> - DEBUG - open file:                              <a href=\"file:///Users/slegroux/miniforge3/envs/nimrod/lib/python3.11/site-packages/fsspec/implementations/local.py\" target=\"_blank\"><span style=\"color: #7f7f7f; text-decoration-color: #7f7f7f\">local.py</span></a><span style=\"color: #7f7f7f; text-decoration-color: #7f7f7f\">:</span><a href=\"file:///Users/slegroux/miniforge3/envs/nimrod/lib/python3.11/site-packages/fsspec/implementations/local.py#351\" target=\"_blank\"><span style=\"color: #7f7f7f; text-decoration-color: #7f7f7f\">351</span></a>\n",
       "<span style=\"color: #7fbfbf; text-decoration-color: #7fbfbf\">                    </span>         <span style=\"color: #800080; text-decoration-color: #800080\">/Users/slegroux/Projects/nimrod/nbs/logs/nnlm/version_25/</span><span style=\"color: #ff00ff; text-decoration-color: #ff00ff\">metrics.csv</span>      <span style=\"color: #7f7f7f; text-decoration-color: #7f7f7f\">            </span>\n",
       "</pre>\n"
      ],
      "text/plain": [
       "\u001b[2;36m                   \u001b[0m\u001b[2;36m \u001b[0m\u001b[32mDEBUG   \u001b[0m \u001b[1;36m2024\u001b[0m-\u001b[1;36m12\u001b[0m-\u001b[1;36m19\u001b[0m \u001b[1;92m13:47:08\u001b[0m,\u001b[1;36m571\u001b[0m - DEBUG - open file:                              \u001b]8;id=810834;file:///Users/slegroux/miniforge3/envs/nimrod/lib/python3.11/site-packages/fsspec/implementations/local.py\u001b\\\u001b[2mlocal.py\u001b[0m\u001b]8;;\u001b\\\u001b[2m:\u001b[0m\u001b]8;id=173459;file:///Users/slegroux/miniforge3/envs/nimrod/lib/python3.11/site-packages/fsspec/implementations/local.py#351\u001b\\\u001b[2m351\u001b[0m\u001b]8;;\u001b\\\n",
       "\u001b[2;36m                    \u001b[0m         \u001b[35m/Users/slegroux/Projects/nimrod/nbs/logs/nnlm/version_25/\u001b[0m\u001b[95mmetrics.csv\u001b[0m      \u001b[2m            \u001b[0m\n"
      ]
     },
     "metadata": {},
     "output_type": "display_data"
    },
    {
     "data": {
      "text/html": [
       "<pre style=\"white-space:pre;overflow-x:auto;line-height:normal;font-family:Menlo,'DejaVu Sans Mono',consolas,'Courier New',monospace\"><span style=\"color: #7fbfbf; text-decoration-color: #7fbfbf\">[12/19/24 13:47:09] </span><span style=\"color: #008000; text-decoration-color: #008000\">DEBUG   </span> <span style=\"color: #008080; text-decoration-color: #008080; font-weight: bold\">2024</span>-<span style=\"color: #008080; text-decoration-color: #008080; font-weight: bold\">12</span>-<span style=\"color: #008080; text-decoration-color: #008080; font-weight: bold\">19</span> <span style=\"color: #00ff00; text-decoration-color: #00ff00; font-weight: bold\">13:47:09</span>,<span style=\"color: #008080; text-decoration-color: #008080; font-weight: bold\">973</span> - DEBUG - open file:                              <a href=\"file:///Users/slegroux/miniforge3/envs/nimrod/lib/python3.11/site-packages/fsspec/implementations/local.py\" target=\"_blank\"><span style=\"color: #7f7f7f; text-decoration-color: #7f7f7f\">local.py</span></a><span style=\"color: #7f7f7f; text-decoration-color: #7f7f7f\">:</span><a href=\"file:///Users/slegroux/miniforge3/envs/nimrod/lib/python3.11/site-packages/fsspec/implementations/local.py#351\" target=\"_blank\"><span style=\"color: #7f7f7f; text-decoration-color: #7f7f7f\">351</span></a>\n",
       "<span style=\"color: #7fbfbf; text-decoration-color: #7fbfbf\">                    </span>         <span style=\"color: #800080; text-decoration-color: #800080\">/Users/slegroux/Projects/nimrod/nbs/logs/nnlm/version_25/</span><span style=\"color: #ff00ff; text-decoration-color: #ff00ff\">hparams.yaml</span>     <span style=\"color: #7f7f7f; text-decoration-color: #7f7f7f\">            </span>\n",
       "</pre>\n"
      ],
      "text/plain": [
       "\u001b[2;36m[12/19/24 13:47:09]\u001b[0m\u001b[2;36m \u001b[0m\u001b[32mDEBUG   \u001b[0m \u001b[1;36m2024\u001b[0m-\u001b[1;36m12\u001b[0m-\u001b[1;36m19\u001b[0m \u001b[1;92m13:47:09\u001b[0m,\u001b[1;36m973\u001b[0m - DEBUG - open file:                              \u001b]8;id=742129;file:///Users/slegroux/miniforge3/envs/nimrod/lib/python3.11/site-packages/fsspec/implementations/local.py\u001b\\\u001b[2mlocal.py\u001b[0m\u001b]8;;\u001b\\\u001b[2m:\u001b[0m\u001b]8;id=213716;file:///Users/slegroux/miniforge3/envs/nimrod/lib/python3.11/site-packages/fsspec/implementations/local.py#351\u001b\\\u001b[2m351\u001b[0m\u001b]8;;\u001b\\\n",
       "\u001b[2;36m                    \u001b[0m         \u001b[35m/Users/slegroux/Projects/nimrod/nbs/logs/nnlm/version_25/\u001b[0m\u001b[95mhparams.yaml\u001b[0m     \u001b[2m            \u001b[0m\n"
      ]
     },
     "metadata": {},
     "output_type": "display_data"
    },
    {
     "data": {
      "text/html": [
       "<pre style=\"white-space:pre;overflow-x:auto;line-height:normal;font-family:Menlo,'DejaVu Sans Mono',consolas,'Courier New',monospace\"><span style=\"color: #7fbfbf; text-decoration-color: #7fbfbf\">                    </span><span style=\"color: #008000; text-decoration-color: #008000\">DEBUG   </span> <span style=\"color: #008080; text-decoration-color: #008080; font-weight: bold\">2024</span>-<span style=\"color: #008080; text-decoration-color: #008080; font-weight: bold\">12</span>-<span style=\"color: #008080; text-decoration-color: #008080; font-weight: bold\">19</span> <span style=\"color: #00ff00; text-decoration-color: #00ff00; font-weight: bold\">13:47:09</span>,<span style=\"color: #008080; text-decoration-color: #008080; font-weight: bold\">975</span> - DEBUG - open file:                              <a href=\"file:///Users/slegroux/miniforge3/envs/nimrod/lib/python3.11/site-packages/fsspec/implementations/local.py\" target=\"_blank\"><span style=\"color: #7f7f7f; text-decoration-color: #7f7f7f\">local.py</span></a><span style=\"color: #7f7f7f; text-decoration-color: #7f7f7f\">:</span><a href=\"file:///Users/slegroux/miniforge3/envs/nimrod/lib/python3.11/site-packages/fsspec/implementations/local.py#351\" target=\"_blank\"><span style=\"color: #7f7f7f; text-decoration-color: #7f7f7f\">351</span></a>\n",
       "<span style=\"color: #7fbfbf; text-decoration-color: #7fbfbf\">                    </span>         <span style=\"color: #800080; text-decoration-color: #800080\">/Users/slegroux/Projects/nimrod/nbs/logs/nnlm/version_25/</span><span style=\"color: #ff00ff; text-decoration-color: #ff00ff\">metrics.csv</span>      <span style=\"color: #7f7f7f; text-decoration-color: #7f7f7f\">            </span>\n",
       "</pre>\n"
      ],
      "text/plain": [
       "\u001b[2;36m                   \u001b[0m\u001b[2;36m \u001b[0m\u001b[32mDEBUG   \u001b[0m \u001b[1;36m2024\u001b[0m-\u001b[1;36m12\u001b[0m-\u001b[1;36m19\u001b[0m \u001b[1;92m13:47:09\u001b[0m,\u001b[1;36m975\u001b[0m - DEBUG - open file:                              \u001b]8;id=96748;file:///Users/slegroux/miniforge3/envs/nimrod/lib/python3.11/site-packages/fsspec/implementations/local.py\u001b\\\u001b[2mlocal.py\u001b[0m\u001b]8;;\u001b\\\u001b[2m:\u001b[0m\u001b]8;id=304086;file:///Users/slegroux/miniforge3/envs/nimrod/lib/python3.11/site-packages/fsspec/implementations/local.py#351\u001b\\\u001b[2m351\u001b[0m\u001b]8;;\u001b\\\n",
       "\u001b[2;36m                    \u001b[0m         \u001b[35m/Users/slegroux/Projects/nimrod/nbs/logs/nnlm/version_25/\u001b[0m\u001b[95mmetrics.csv\u001b[0m      \u001b[2m            \u001b[0m\n"
      ]
     },
     "metadata": {},
     "output_type": "display_data"
    },
    {
     "data": {
      "text/html": [
       "<pre style=\"white-space:pre;overflow-x:auto;line-height:normal;font-family:Menlo,'DejaVu Sans Mono',consolas,'Courier New',monospace\"><span style=\"color: #7fbfbf; text-decoration-color: #7fbfbf\">                    </span><span style=\"color: #008000; text-decoration-color: #008000\">DEBUG   </span> <span style=\"color: #008080; text-decoration-color: #008080; font-weight: bold\">2024</span>-<span style=\"color: #008080; text-decoration-color: #008080; font-weight: bold\">12</span>-<span style=\"color: #008080; text-decoration-color: #008080; font-weight: bold\">19</span> <span style=\"color: #00ff00; text-decoration-color: #00ff00; font-weight: bold\">13:47:09</span>,<span style=\"color: #008080; text-decoration-color: #008080; font-weight: bold\">981</span> - DEBUG - open file:                              <a href=\"file:///Users/slegroux/miniforge3/envs/nimrod/lib/python3.11/site-packages/fsspec/implementations/local.py\" target=\"_blank\"><span style=\"color: #7f7f7f; text-decoration-color: #7f7f7f\">local.py</span></a><span style=\"color: #7f7f7f; text-decoration-color: #7f7f7f\">:</span><a href=\"file:///Users/slegroux/miniforge3/envs/nimrod/lib/python3.11/site-packages/fsspec/implementations/local.py#351\" target=\"_blank\"><span style=\"color: #7f7f7f; text-decoration-color: #7f7f7f\">351</span></a>\n",
       "<span style=\"color: #7fbfbf; text-decoration-color: #7fbfbf\">                    </span>         <span style=\"color: #800080; text-decoration-color: #800080\">/Users/slegroux/Projects/nimrod/nbs/logs/nnlm/version_25/</span><span style=\"color: #ff00ff; text-decoration-color: #ff00ff\">hparams.yaml</span>     <span style=\"color: #7f7f7f; text-decoration-color: #7f7f7f\">            </span>\n",
       "</pre>\n"
      ],
      "text/plain": [
       "\u001b[2;36m                   \u001b[0m\u001b[2;36m \u001b[0m\u001b[32mDEBUG   \u001b[0m \u001b[1;36m2024\u001b[0m-\u001b[1;36m12\u001b[0m-\u001b[1;36m19\u001b[0m \u001b[1;92m13:47:09\u001b[0m,\u001b[1;36m981\u001b[0m - DEBUG - open file:                              \u001b]8;id=36039;file:///Users/slegroux/miniforge3/envs/nimrod/lib/python3.11/site-packages/fsspec/implementations/local.py\u001b\\\u001b[2mlocal.py\u001b[0m\u001b]8;;\u001b\\\u001b[2m:\u001b[0m\u001b]8;id=170667;file:///Users/slegroux/miniforge3/envs/nimrod/lib/python3.11/site-packages/fsspec/implementations/local.py#351\u001b\\\u001b[2m351\u001b[0m\u001b]8;;\u001b\\\n",
       "\u001b[2;36m                    \u001b[0m         \u001b[35m/Users/slegroux/Projects/nimrod/nbs/logs/nnlm/version_25/\u001b[0m\u001b[95mhparams.yaml\u001b[0m     \u001b[2m            \u001b[0m\n"
      ]
     },
     "metadata": {},
     "output_type": "display_data"
    },
    {
     "data": {
      "text/html": [
       "<pre style=\"white-space:pre;overflow-x:auto;line-height:normal;font-family:Menlo,'DejaVu Sans Mono',consolas,'Courier New',monospace\"><span style=\"color: #7fbfbf; text-decoration-color: #7fbfbf\">[12/19/24 13:47:11] </span><span style=\"color: #008000; text-decoration-color: #008000\">DEBUG   </span> <span style=\"color: #008080; text-decoration-color: #008080; font-weight: bold\">2024</span>-<span style=\"color: #008080; text-decoration-color: #008080; font-weight: bold\">12</span>-<span style=\"color: #008080; text-decoration-color: #008080; font-weight: bold\">19</span> <span style=\"color: #00ff00; text-decoration-color: #00ff00; font-weight: bold\">13:47:11</span>,<span style=\"color: #008080; text-decoration-color: #008080; font-weight: bold\">279</span> - DEBUG - open file:                              <a href=\"file:///Users/slegroux/miniforge3/envs/nimrod/lib/python3.11/site-packages/fsspec/implementations/local.py\" target=\"_blank\"><span style=\"color: #7f7f7f; text-decoration-color: #7f7f7f\">local.py</span></a><span style=\"color: #7f7f7f; text-decoration-color: #7f7f7f\">:</span><a href=\"file:///Users/slegroux/miniforge3/envs/nimrod/lib/python3.11/site-packages/fsspec/implementations/local.py#351\" target=\"_blank\"><span style=\"color: #7f7f7f; text-decoration-color: #7f7f7f\">351</span></a>\n",
       "<span style=\"color: #7fbfbf; text-decoration-color: #7fbfbf\">                    </span>         <span style=\"color: #800080; text-decoration-color: #800080\">/Users/slegroux/Projects/nimrod/nbs/logs/nnlm/version_25/</span><span style=\"color: #ff00ff; text-decoration-color: #ff00ff\">hparams.yaml</span>     <span style=\"color: #7f7f7f; text-decoration-color: #7f7f7f\">            </span>\n",
       "</pre>\n"
      ],
      "text/plain": [
       "\u001b[2;36m[12/19/24 13:47:11]\u001b[0m\u001b[2;36m \u001b[0m\u001b[32mDEBUG   \u001b[0m \u001b[1;36m2024\u001b[0m-\u001b[1;36m12\u001b[0m-\u001b[1;36m19\u001b[0m \u001b[1;92m13:47:11\u001b[0m,\u001b[1;36m279\u001b[0m - DEBUG - open file:                              \u001b]8;id=53204;file:///Users/slegroux/miniforge3/envs/nimrod/lib/python3.11/site-packages/fsspec/implementations/local.py\u001b\\\u001b[2mlocal.py\u001b[0m\u001b]8;;\u001b\\\u001b[2m:\u001b[0m\u001b]8;id=583069;file:///Users/slegroux/miniforge3/envs/nimrod/lib/python3.11/site-packages/fsspec/implementations/local.py#351\u001b\\\u001b[2m351\u001b[0m\u001b]8;;\u001b\\\n",
       "\u001b[2;36m                    \u001b[0m         \u001b[35m/Users/slegroux/Projects/nimrod/nbs/logs/nnlm/version_25/\u001b[0m\u001b[95mhparams.yaml\u001b[0m     \u001b[2m            \u001b[0m\n"
      ]
     },
     "metadata": {},
     "output_type": "display_data"
    },
    {
     "data": {
      "text/html": [
       "<pre style=\"white-space:pre;overflow-x:auto;line-height:normal;font-family:Menlo,'DejaVu Sans Mono',consolas,'Courier New',monospace\"><span style=\"color: #7fbfbf; text-decoration-color: #7fbfbf\">                    </span><span style=\"color: #008000; text-decoration-color: #008000\">DEBUG   </span> <span style=\"color: #008080; text-decoration-color: #008080; font-weight: bold\">2024</span>-<span style=\"color: #008080; text-decoration-color: #008080; font-weight: bold\">12</span>-<span style=\"color: #008080; text-decoration-color: #008080; font-weight: bold\">19</span> <span style=\"color: #00ff00; text-decoration-color: #00ff00; font-weight: bold\">13:47:11</span>,<span style=\"color: #008080; text-decoration-color: #008080; font-weight: bold\">281</span> - DEBUG - open file:                              <a href=\"file:///Users/slegroux/miniforge3/envs/nimrod/lib/python3.11/site-packages/fsspec/implementations/local.py\" target=\"_blank\"><span style=\"color: #7f7f7f; text-decoration-color: #7f7f7f\">local.py</span></a><span style=\"color: #7f7f7f; text-decoration-color: #7f7f7f\">:</span><a href=\"file:///Users/slegroux/miniforge3/envs/nimrod/lib/python3.11/site-packages/fsspec/implementations/local.py#351\" target=\"_blank\"><span style=\"color: #7f7f7f; text-decoration-color: #7f7f7f\">351</span></a>\n",
       "<span style=\"color: #7fbfbf; text-decoration-color: #7fbfbf\">                    </span>         <span style=\"color: #800080; text-decoration-color: #800080\">/Users/slegroux/Projects/nimrod/nbs/logs/nnlm/version_25/</span><span style=\"color: #ff00ff; text-decoration-color: #ff00ff\">metrics.csv</span>      <span style=\"color: #7f7f7f; text-decoration-color: #7f7f7f\">            </span>\n",
       "</pre>\n"
      ],
      "text/plain": [
       "\u001b[2;36m                   \u001b[0m\u001b[2;36m \u001b[0m\u001b[32mDEBUG   \u001b[0m \u001b[1;36m2024\u001b[0m-\u001b[1;36m12\u001b[0m-\u001b[1;36m19\u001b[0m \u001b[1;92m13:47:11\u001b[0m,\u001b[1;36m281\u001b[0m - DEBUG - open file:                              \u001b]8;id=73647;file:///Users/slegroux/miniforge3/envs/nimrod/lib/python3.11/site-packages/fsspec/implementations/local.py\u001b\\\u001b[2mlocal.py\u001b[0m\u001b]8;;\u001b\\\u001b[2m:\u001b[0m\u001b]8;id=606491;file:///Users/slegroux/miniforge3/envs/nimrod/lib/python3.11/site-packages/fsspec/implementations/local.py#351\u001b\\\u001b[2m351\u001b[0m\u001b]8;;\u001b\\\n",
       "\u001b[2;36m                    \u001b[0m         \u001b[35m/Users/slegroux/Projects/nimrod/nbs/logs/nnlm/version_25/\u001b[0m\u001b[95mmetrics.csv\u001b[0m      \u001b[2m            \u001b[0m\n"
      ]
     },
     "metadata": {},
     "output_type": "display_data"
    },
    {
     "data": {
      "text/html": [
       "<pre style=\"white-space:pre;overflow-x:auto;line-height:normal;font-family:Menlo,'DejaVu Sans Mono',consolas,'Courier New',monospace\"><span style=\"color: #7fbfbf; text-decoration-color: #7fbfbf\">[12/19/24 13:47:12] </span><span style=\"color: #008000; text-decoration-color: #008000\">DEBUG   </span> <span style=\"color: #008080; text-decoration-color: #008080; font-weight: bold\">2024</span>-<span style=\"color: #008080; text-decoration-color: #008080; font-weight: bold\">12</span>-<span style=\"color: #008080; text-decoration-color: #008080; font-weight: bold\">19</span> <span style=\"color: #00ff00; text-decoration-color: #00ff00; font-weight: bold\">13:47:12</span>,<span style=\"color: #008080; text-decoration-color: #008080; font-weight: bold\">764</span> - DEBUG - open file:                              <a href=\"file:///Users/slegroux/miniforge3/envs/nimrod/lib/python3.11/site-packages/fsspec/implementations/local.py\" target=\"_blank\"><span style=\"color: #7f7f7f; text-decoration-color: #7f7f7f\">local.py</span></a><span style=\"color: #7f7f7f; text-decoration-color: #7f7f7f\">:</span><a href=\"file:///Users/slegroux/miniforge3/envs/nimrod/lib/python3.11/site-packages/fsspec/implementations/local.py#351\" target=\"_blank\"><span style=\"color: #7f7f7f; text-decoration-color: #7f7f7f\">351</span></a>\n",
       "<span style=\"color: #7fbfbf; text-decoration-color: #7fbfbf\">                    </span>         <span style=\"color: #800080; text-decoration-color: #800080\">/Users/slegroux/Projects/nimrod/nbs/logs/nnlm/version_25/</span><span style=\"color: #ff00ff; text-decoration-color: #ff00ff\">hparams.yaml</span>     <span style=\"color: #7f7f7f; text-decoration-color: #7f7f7f\">            </span>\n",
       "</pre>\n"
      ],
      "text/plain": [
       "\u001b[2;36m[12/19/24 13:47:12]\u001b[0m\u001b[2;36m \u001b[0m\u001b[32mDEBUG   \u001b[0m \u001b[1;36m2024\u001b[0m-\u001b[1;36m12\u001b[0m-\u001b[1;36m19\u001b[0m \u001b[1;92m13:47:12\u001b[0m,\u001b[1;36m764\u001b[0m - DEBUG - open file:                              \u001b]8;id=848895;file:///Users/slegroux/miniforge3/envs/nimrod/lib/python3.11/site-packages/fsspec/implementations/local.py\u001b\\\u001b[2mlocal.py\u001b[0m\u001b]8;;\u001b\\\u001b[2m:\u001b[0m\u001b]8;id=377973;file:///Users/slegroux/miniforge3/envs/nimrod/lib/python3.11/site-packages/fsspec/implementations/local.py#351\u001b\\\u001b[2m351\u001b[0m\u001b]8;;\u001b\\\n",
       "\u001b[2;36m                    \u001b[0m         \u001b[35m/Users/slegroux/Projects/nimrod/nbs/logs/nnlm/version_25/\u001b[0m\u001b[95mhparams.yaml\u001b[0m     \u001b[2m            \u001b[0m\n"
      ]
     },
     "metadata": {},
     "output_type": "display_data"
    },
    {
     "data": {
      "text/html": [
       "<pre style=\"white-space:pre;overflow-x:auto;line-height:normal;font-family:Menlo,'DejaVu Sans Mono',consolas,'Courier New',monospace\"><span style=\"color: #7fbfbf; text-decoration-color: #7fbfbf\">                    </span><span style=\"color: #008000; text-decoration-color: #008000\">DEBUG   </span> <span style=\"color: #008080; text-decoration-color: #008080; font-weight: bold\">2024</span>-<span style=\"color: #008080; text-decoration-color: #008080; font-weight: bold\">12</span>-<span style=\"color: #008080; text-decoration-color: #008080; font-weight: bold\">19</span> <span style=\"color: #00ff00; text-decoration-color: #00ff00; font-weight: bold\">13:47:12</span>,<span style=\"color: #008080; text-decoration-color: #008080; font-weight: bold\">766</span> - DEBUG - open file:                              <a href=\"file:///Users/slegroux/miniforge3/envs/nimrod/lib/python3.11/site-packages/fsspec/implementations/local.py\" target=\"_blank\"><span style=\"color: #7f7f7f; text-decoration-color: #7f7f7f\">local.py</span></a><span style=\"color: #7f7f7f; text-decoration-color: #7f7f7f\">:</span><a href=\"file:///Users/slegroux/miniforge3/envs/nimrod/lib/python3.11/site-packages/fsspec/implementations/local.py#351\" target=\"_blank\"><span style=\"color: #7f7f7f; text-decoration-color: #7f7f7f\">351</span></a>\n",
       "<span style=\"color: #7fbfbf; text-decoration-color: #7fbfbf\">                    </span>         <span style=\"color: #800080; text-decoration-color: #800080\">/Users/slegroux/Projects/nimrod/nbs/logs/nnlm/version_25/</span><span style=\"color: #ff00ff; text-decoration-color: #ff00ff\">metrics.csv</span>      <span style=\"color: #7f7f7f; text-decoration-color: #7f7f7f\">            </span>\n",
       "</pre>\n"
      ],
      "text/plain": [
       "\u001b[2;36m                   \u001b[0m\u001b[2;36m \u001b[0m\u001b[32mDEBUG   \u001b[0m \u001b[1;36m2024\u001b[0m-\u001b[1;36m12\u001b[0m-\u001b[1;36m19\u001b[0m \u001b[1;92m13:47:12\u001b[0m,\u001b[1;36m766\u001b[0m - DEBUG - open file:                              \u001b]8;id=600078;file:///Users/slegroux/miniforge3/envs/nimrod/lib/python3.11/site-packages/fsspec/implementations/local.py\u001b\\\u001b[2mlocal.py\u001b[0m\u001b]8;;\u001b\\\u001b[2m:\u001b[0m\u001b]8;id=112923;file:///Users/slegroux/miniforge3/envs/nimrod/lib/python3.11/site-packages/fsspec/implementations/local.py#351\u001b\\\u001b[2m351\u001b[0m\u001b]8;;\u001b\\\n",
       "\u001b[2;36m                    \u001b[0m         \u001b[35m/Users/slegroux/Projects/nimrod/nbs/logs/nnlm/version_25/\u001b[0m\u001b[95mmetrics.csv\u001b[0m      \u001b[2m            \u001b[0m\n"
      ]
     },
     "metadata": {},
     "output_type": "display_data"
    },
    {
     "data": {
      "text/html": [
       "<pre style=\"white-space:pre;overflow-x:auto;line-height:normal;font-family:Menlo,'DejaVu Sans Mono',consolas,'Courier New',monospace\"><span style=\"color: #7fbfbf; text-decoration-color: #7fbfbf\">                    </span><span style=\"color: #008000; text-decoration-color: #008000\">DEBUG   </span> <span style=\"color: #008080; text-decoration-color: #008080; font-weight: bold\">2024</span>-<span style=\"color: #008080; text-decoration-color: #008080; font-weight: bold\">12</span>-<span style=\"color: #008080; text-decoration-color: #008080; font-weight: bold\">19</span> <span style=\"color: #00ff00; text-decoration-color: #00ff00; font-weight: bold\">13:47:12</span>,<span style=\"color: #008080; text-decoration-color: #008080; font-weight: bold\">768</span> - DEBUG - open file:                              <a href=\"file:///Users/slegroux/miniforge3/envs/nimrod/lib/python3.11/site-packages/fsspec/implementations/local.py\" target=\"_blank\"><span style=\"color: #7f7f7f; text-decoration-color: #7f7f7f\">local.py</span></a><span style=\"color: #7f7f7f; text-decoration-color: #7f7f7f\">:</span><a href=\"file:///Users/slegroux/miniforge3/envs/nimrod/lib/python3.11/site-packages/fsspec/implementations/local.py#351\" target=\"_blank\"><span style=\"color: #7f7f7f; text-decoration-color: #7f7f7f\">351</span></a>\n",
       "<span style=\"color: #7fbfbf; text-decoration-color: #7fbfbf\">                    </span>         <span style=\"color: #800080; text-decoration-color: #800080\">/Users/slegroux/Projects/nimrod/nbs/logs/nnlm/version_25/</span><span style=\"color: #ff00ff; text-decoration-color: #ff00ff\">hparams.yaml</span>     <span style=\"color: #7f7f7f; text-decoration-color: #7f7f7f\">            </span>\n",
       "</pre>\n"
      ],
      "text/plain": [
       "\u001b[2;36m                   \u001b[0m\u001b[2;36m \u001b[0m\u001b[32mDEBUG   \u001b[0m \u001b[1;36m2024\u001b[0m-\u001b[1;36m12\u001b[0m-\u001b[1;36m19\u001b[0m \u001b[1;92m13:47:12\u001b[0m,\u001b[1;36m768\u001b[0m - DEBUG - open file:                              \u001b]8;id=37853;file:///Users/slegroux/miniforge3/envs/nimrod/lib/python3.11/site-packages/fsspec/implementations/local.py\u001b\\\u001b[2mlocal.py\u001b[0m\u001b]8;;\u001b\\\u001b[2m:\u001b[0m\u001b]8;id=538063;file:///Users/slegroux/miniforge3/envs/nimrod/lib/python3.11/site-packages/fsspec/implementations/local.py#351\u001b\\\u001b[2m351\u001b[0m\u001b]8;;\u001b\\\n",
       "\u001b[2;36m                    \u001b[0m         \u001b[35m/Users/slegroux/Projects/nimrod/nbs/logs/nnlm/version_25/\u001b[0m\u001b[95mhparams.yaml\u001b[0m     \u001b[2m            \u001b[0m\n"
      ]
     },
     "metadata": {},
     "output_type": "display_data"
    },
    {
     "data": {
      "application/vnd.jupyter.widget-view+json": {
       "model_id": "5da10306adf04c9e9d69b0797beb1bc6",
       "version_major": 2,
       "version_minor": 0
      },
      "text/plain": [
       "Validation: |          | 0/? [00:00<?, ?it/s]"
      ]
     },
     "metadata": {},
     "output_type": "display_data"
    },
    {
     "data": {
      "text/html": [
       "<pre style=\"white-space:pre;overflow-x:auto;line-height:normal;font-family:Menlo,'DejaVu Sans Mono',consolas,'Courier New',monospace\"><span style=\"color: #7fbfbf; text-decoration-color: #7fbfbf\">[12/19/24 13:47:15] </span><span style=\"color: #008000; text-decoration-color: #008000\">DEBUG   </span> <span style=\"color: #008080; text-decoration-color: #008080; font-weight: bold\">2024</span>-<span style=\"color: #008080; text-decoration-color: #008080; font-weight: bold\">12</span>-<span style=\"color: #008080; text-decoration-color: #008080; font-weight: bold\">19</span> <span style=\"color: #00ff00; text-decoration-color: #00ff00; font-weight: bold\">13:47:15</span>,<span style=\"color: #008080; text-decoration-color: #008080; font-weight: bold\">137</span> - DEBUG - open file:                              <a href=\"file:///Users/slegroux/miniforge3/envs/nimrod/lib/python3.11/site-packages/fsspec/implementations/local.py\" target=\"_blank\"><span style=\"color: #7f7f7f; text-decoration-color: #7f7f7f\">local.py</span></a><span style=\"color: #7f7f7f; text-decoration-color: #7f7f7f\">:</span><a href=\"file:///Users/slegroux/miniforge3/envs/nimrod/lib/python3.11/site-packages/fsspec/implementations/local.py#351\" target=\"_blank\"><span style=\"color: #7f7f7f; text-decoration-color: #7f7f7f\">351</span></a>\n",
       "<span style=\"color: #7fbfbf; text-decoration-color: #7fbfbf\">                    </span>         <span style=\"color: #800080; text-decoration-color: #800080\">/Users/slegroux/Projects/nimrod/nbs/logs/nnlm/version_25/</span><span style=\"color: #ff00ff; text-decoration-color: #ff00ff\">hparams.yaml</span>     <span style=\"color: #7f7f7f; text-decoration-color: #7f7f7f\">            </span>\n",
       "</pre>\n"
      ],
      "text/plain": [
       "\u001b[2;36m[12/19/24 13:47:15]\u001b[0m\u001b[2;36m \u001b[0m\u001b[32mDEBUG   \u001b[0m \u001b[1;36m2024\u001b[0m-\u001b[1;36m12\u001b[0m-\u001b[1;36m19\u001b[0m \u001b[1;92m13:47:15\u001b[0m,\u001b[1;36m137\u001b[0m - DEBUG - open file:                              \u001b]8;id=201529;file:///Users/slegroux/miniforge3/envs/nimrod/lib/python3.11/site-packages/fsspec/implementations/local.py\u001b\\\u001b[2mlocal.py\u001b[0m\u001b]8;;\u001b\\\u001b[2m:\u001b[0m\u001b]8;id=336523;file:///Users/slegroux/miniforge3/envs/nimrod/lib/python3.11/site-packages/fsspec/implementations/local.py#351\u001b\\\u001b[2m351\u001b[0m\u001b]8;;\u001b\\\n",
       "\u001b[2;36m                    \u001b[0m         \u001b[35m/Users/slegroux/Projects/nimrod/nbs/logs/nnlm/version_25/\u001b[0m\u001b[95mhparams.yaml\u001b[0m     \u001b[2m            \u001b[0m\n"
      ]
     },
     "metadata": {},
     "output_type": "display_data"
    },
    {
     "data": {
      "text/html": [
       "<pre style=\"white-space:pre;overflow-x:auto;line-height:normal;font-family:Menlo,'DejaVu Sans Mono',consolas,'Courier New',monospace\"><span style=\"color: #7fbfbf; text-decoration-color: #7fbfbf\">                    </span><span style=\"color: #008000; text-decoration-color: #008000\">DEBUG   </span> <span style=\"color: #008080; text-decoration-color: #008080; font-weight: bold\">2024</span>-<span style=\"color: #008080; text-decoration-color: #008080; font-weight: bold\">12</span>-<span style=\"color: #008080; text-decoration-color: #008080; font-weight: bold\">19</span> <span style=\"color: #00ff00; text-decoration-color: #00ff00; font-weight: bold\">13:47:15</span>,<span style=\"color: #008080; text-decoration-color: #008080; font-weight: bold\">138</span> - DEBUG - open file:                              <a href=\"file:///Users/slegroux/miniforge3/envs/nimrod/lib/python3.11/site-packages/fsspec/implementations/local.py\" target=\"_blank\"><span style=\"color: #7f7f7f; text-decoration-color: #7f7f7f\">local.py</span></a><span style=\"color: #7f7f7f; text-decoration-color: #7f7f7f\">:</span><a href=\"file:///Users/slegroux/miniforge3/envs/nimrod/lib/python3.11/site-packages/fsspec/implementations/local.py#351\" target=\"_blank\"><span style=\"color: #7f7f7f; text-decoration-color: #7f7f7f\">351</span></a>\n",
       "<span style=\"color: #7fbfbf; text-decoration-color: #7fbfbf\">                    </span>         <span style=\"color: #800080; text-decoration-color: #800080\">/Users/slegroux/Projects/nimrod/nbs/logs/nnlm/version_25/</span><span style=\"color: #ff00ff; text-decoration-color: #ff00ff\">metrics.csv</span>      <span style=\"color: #7f7f7f; text-decoration-color: #7f7f7f\">            </span>\n",
       "</pre>\n"
      ],
      "text/plain": [
       "\u001b[2;36m                   \u001b[0m\u001b[2;36m \u001b[0m\u001b[32mDEBUG   \u001b[0m \u001b[1;36m2024\u001b[0m-\u001b[1;36m12\u001b[0m-\u001b[1;36m19\u001b[0m \u001b[1;92m13:47:15\u001b[0m,\u001b[1;36m138\u001b[0m - DEBUG - open file:                              \u001b]8;id=730008;file:///Users/slegroux/miniforge3/envs/nimrod/lib/python3.11/site-packages/fsspec/implementations/local.py\u001b\\\u001b[2mlocal.py\u001b[0m\u001b]8;;\u001b\\\u001b[2m:\u001b[0m\u001b]8;id=216947;file:///Users/slegroux/miniforge3/envs/nimrod/lib/python3.11/site-packages/fsspec/implementations/local.py#351\u001b\\\u001b[2m351\u001b[0m\u001b]8;;\u001b\\\n",
       "\u001b[2;36m                    \u001b[0m         \u001b[35m/Users/slegroux/Projects/nimrod/nbs/logs/nnlm/version_25/\u001b[0m\u001b[95mmetrics.csv\u001b[0m      \u001b[2m            \u001b[0m\n"
      ]
     },
     "metadata": {},
     "output_type": "display_data"
    },
    {
     "data": {
      "text/html": [
       "<pre style=\"white-space:pre;overflow-x:auto;line-height:normal;font-family:Menlo,'DejaVu Sans Mono',consolas,'Courier New',monospace\"><span style=\"color: #7fbfbf; text-decoration-color: #7fbfbf\">                    </span><span style=\"color: #008000; text-decoration-color: #008000\">DEBUG   </span> <span style=\"color: #008080; text-decoration-color: #008080; font-weight: bold\">2024</span>-<span style=\"color: #008080; text-decoration-color: #008080; font-weight: bold\">12</span>-<span style=\"color: #008080; text-decoration-color: #008080; font-weight: bold\">19</span> <span style=\"color: #00ff00; text-decoration-color: #00ff00; font-weight: bold\">13:47:15</span>,<span style=\"color: #008080; text-decoration-color: #008080; font-weight: bold\">162</span> - DEBUG - open file:                              <a href=\"file:///Users/slegroux/miniforge3/envs/nimrod/lib/python3.11/site-packages/fsspec/implementations/local.py\" target=\"_blank\"><span style=\"color: #7f7f7f; text-decoration-color: #7f7f7f\">local.py</span></a><span style=\"color: #7f7f7f; text-decoration-color: #7f7f7f\">:</span><a href=\"file:///Users/slegroux/miniforge3/envs/nimrod/lib/python3.11/site-packages/fsspec/implementations/local.py#351\" target=\"_blank\"><span style=\"color: #7f7f7f; text-decoration-color: #7f7f7f\">351</span></a>\n",
       "<span style=\"color: #7fbfbf; text-decoration-color: #7fbfbf\">                    </span>         <span style=\"color: #800080; text-decoration-color: #800080\">/Users/slegroux/Projects/nimrod/nbs/logs/nnlm/version_25/checkpoints/</span><span style=\"color: #ff00ff; text-decoration-color: #ff00ff\">epoc</span> <span style=\"color: #7f7f7f; text-decoration-color: #7f7f7f\">            </span>\n",
       "<span style=\"color: #7fbfbf; text-decoration-color: #7fbfbf\">                    </span>         <span style=\"color: #ff00ff; text-decoration-color: #ff00ff\">h</span>=<span style=\"color: #008080; text-decoration-color: #008080; font-weight: bold\">3</span>-<span style=\"color: #808000; text-decoration-color: #808000\">step</span>=<span style=\"color: #008080; text-decoration-color: #008080; font-weight: bold\">1744.</span>ckpt                                                        <span style=\"color: #7f7f7f; text-decoration-color: #7f7f7f\">            </span>\n",
       "</pre>\n"
      ],
      "text/plain": [
       "\u001b[2;36m                   \u001b[0m\u001b[2;36m \u001b[0m\u001b[32mDEBUG   \u001b[0m \u001b[1;36m2024\u001b[0m-\u001b[1;36m12\u001b[0m-\u001b[1;36m19\u001b[0m \u001b[1;92m13:47:15\u001b[0m,\u001b[1;36m162\u001b[0m - DEBUG - open file:                              \u001b]8;id=797311;file:///Users/slegroux/miniforge3/envs/nimrod/lib/python3.11/site-packages/fsspec/implementations/local.py\u001b\\\u001b[2mlocal.py\u001b[0m\u001b]8;;\u001b\\\u001b[2m:\u001b[0m\u001b]8;id=451976;file:///Users/slegroux/miniforge3/envs/nimrod/lib/python3.11/site-packages/fsspec/implementations/local.py#351\u001b\\\u001b[2m351\u001b[0m\u001b]8;;\u001b\\\n",
       "\u001b[2;36m                    \u001b[0m         \u001b[35m/Users/slegroux/Projects/nimrod/nbs/logs/nnlm/version_25/checkpoints/\u001b[0m\u001b[95mepoc\u001b[0m \u001b[2m            \u001b[0m\n",
       "\u001b[2;36m                    \u001b[0m         \u001b[95mh\u001b[0m=\u001b[1;36m3\u001b[0m-\u001b[33mstep\u001b[0m=\u001b[1;36m1744\u001b[0m\u001b[1;36m.\u001b[0mckpt                                                        \u001b[2m            \u001b[0m\n"
      ]
     },
     "metadata": {},
     "output_type": "display_data"
    },
    {
     "data": {
      "text/html": [
       "<pre style=\"white-space:pre;overflow-x:auto;line-height:normal;font-family:Menlo,'DejaVu Sans Mono',consolas,'Courier New',monospace\"><span style=\"color: #7fbfbf; text-decoration-color: #7fbfbf\">                    </span><span style=\"color: #008000; text-decoration-color: #008000\">DEBUG   </span> <span style=\"color: #008080; text-decoration-color: #008080; font-weight: bold\">2024</span>-<span style=\"color: #008080; text-decoration-color: #008080; font-weight: bold\">12</span>-<span style=\"color: #008080; text-decoration-color: #008080; font-weight: bold\">19</span> <span style=\"color: #00ff00; text-decoration-color: #00ff00; font-weight: bold\">13:47:15</span>,<span style=\"color: #008080; text-decoration-color: #008080; font-weight: bold\">171</span> - DEBUG - open file:                              <a href=\"file:///Users/slegroux/miniforge3/envs/nimrod/lib/python3.11/site-packages/fsspec/implementations/local.py\" target=\"_blank\"><span style=\"color: #7f7f7f; text-decoration-color: #7f7f7f\">local.py</span></a><span style=\"color: #7f7f7f; text-decoration-color: #7f7f7f\">:</span><a href=\"file:///Users/slegroux/miniforge3/envs/nimrod/lib/python3.11/site-packages/fsspec/implementations/local.py#351\" target=\"_blank\"><span style=\"color: #7f7f7f; text-decoration-color: #7f7f7f\">351</span></a>\n",
       "<span style=\"color: #7fbfbf; text-decoration-color: #7fbfbf\">                    </span>         <span style=\"color: #800080; text-decoration-color: #800080\">/Users/slegroux/Projects/nimrod/nbs/logs/nnlm/version_25/</span><span style=\"color: #ff00ff; text-decoration-color: #ff00ff\">hparams.yaml</span>     <span style=\"color: #7f7f7f; text-decoration-color: #7f7f7f\">            </span>\n",
       "</pre>\n"
      ],
      "text/plain": [
       "\u001b[2;36m                   \u001b[0m\u001b[2;36m \u001b[0m\u001b[32mDEBUG   \u001b[0m \u001b[1;36m2024\u001b[0m-\u001b[1;36m12\u001b[0m-\u001b[1;36m19\u001b[0m \u001b[1;92m13:47:15\u001b[0m,\u001b[1;36m171\u001b[0m - DEBUG - open file:                              \u001b]8;id=512812;file:///Users/slegroux/miniforge3/envs/nimrod/lib/python3.11/site-packages/fsspec/implementations/local.py\u001b\\\u001b[2mlocal.py\u001b[0m\u001b]8;;\u001b\\\u001b[2m:\u001b[0m\u001b]8;id=56449;file:///Users/slegroux/miniforge3/envs/nimrod/lib/python3.11/site-packages/fsspec/implementations/local.py#351\u001b\\\u001b[2m351\u001b[0m\u001b]8;;\u001b\\\n",
       "\u001b[2;36m                    \u001b[0m         \u001b[35m/Users/slegroux/Projects/nimrod/nbs/logs/nnlm/version_25/\u001b[0m\u001b[95mhparams.yaml\u001b[0m     \u001b[2m            \u001b[0m\n"
      ]
     },
     "metadata": {},
     "output_type": "display_data"
    },
    {
     "data": {
      "text/html": [
       "<pre style=\"white-space:pre;overflow-x:auto;line-height:normal;font-family:Menlo,'DejaVu Sans Mono',consolas,'Courier New',monospace\"><span style=\"color: #7fbfbf; text-decoration-color: #7fbfbf\">                    </span><span style=\"color: #008000; text-decoration-color: #008000\">DEBUG   </span> <span style=\"color: #008080; text-decoration-color: #008080; font-weight: bold\">2024</span>-<span style=\"color: #008080; text-decoration-color: #008080; font-weight: bold\">12</span>-<span style=\"color: #008080; text-decoration-color: #008080; font-weight: bold\">19</span> <span style=\"color: #00ff00; text-decoration-color: #00ff00; font-weight: bold\">13:47:15</span>,<span style=\"color: #008080; text-decoration-color: #008080; font-weight: bold\">176</span> - DEBUG - open file:                              <a href=\"file:///Users/slegroux/miniforge3/envs/nimrod/lib/python3.11/site-packages/fsspec/implementations/local.py\" target=\"_blank\"><span style=\"color: #7f7f7f; text-decoration-color: #7f7f7f\">local.py</span></a><span style=\"color: #7f7f7f; text-decoration-color: #7f7f7f\">:</span><a href=\"file:///Users/slegroux/miniforge3/envs/nimrod/lib/python3.11/site-packages/fsspec/implementations/local.py#351\" target=\"_blank\"><span style=\"color: #7f7f7f; text-decoration-color: #7f7f7f\">351</span></a>\n",
       "<span style=\"color: #7fbfbf; text-decoration-color: #7fbfbf\">                    </span>         <span style=\"color: #800080; text-decoration-color: #800080\">/Users/slegroux/Projects/nimrod/nbs/logs/nnlm/version_25/</span><span style=\"color: #ff00ff; text-decoration-color: #ff00ff\">metrics.csv</span>      <span style=\"color: #7f7f7f; text-decoration-color: #7f7f7f\">            </span>\n",
       "</pre>\n"
      ],
      "text/plain": [
       "\u001b[2;36m                   \u001b[0m\u001b[2;36m \u001b[0m\u001b[32mDEBUG   \u001b[0m \u001b[1;36m2024\u001b[0m-\u001b[1;36m12\u001b[0m-\u001b[1;36m19\u001b[0m \u001b[1;92m13:47:15\u001b[0m,\u001b[1;36m176\u001b[0m - DEBUG - open file:                              \u001b]8;id=729570;file:///Users/slegroux/miniforge3/envs/nimrod/lib/python3.11/site-packages/fsspec/implementations/local.py\u001b\\\u001b[2mlocal.py\u001b[0m\u001b]8;;\u001b\\\u001b[2m:\u001b[0m\u001b]8;id=72566;file:///Users/slegroux/miniforge3/envs/nimrod/lib/python3.11/site-packages/fsspec/implementations/local.py#351\u001b\\\u001b[2m351\u001b[0m\u001b]8;;\u001b\\\n",
       "\u001b[2;36m                    \u001b[0m         \u001b[35m/Users/slegroux/Projects/nimrod/nbs/logs/nnlm/version_25/\u001b[0m\u001b[95mmetrics.csv\u001b[0m      \u001b[2m            \u001b[0m\n"
      ]
     },
     "metadata": {},
     "output_type": "display_data"
    },
    {
     "data": {
      "text/html": [
       "<pre style=\"white-space:pre;overflow-x:auto;line-height:normal;font-family:Menlo,'DejaVu Sans Mono',consolas,'Courier New',monospace\"><span style=\"color: #7fbfbf; text-decoration-color: #7fbfbf\">                    </span><span style=\"color: #008000; text-decoration-color: #008000\">DEBUG   </span> <span style=\"color: #008080; text-decoration-color: #008080; font-weight: bold\">2024</span>-<span style=\"color: #008080; text-decoration-color: #008080; font-weight: bold\">12</span>-<span style=\"color: #008080; text-decoration-color: #008080; font-weight: bold\">19</span> <span style=\"color: #00ff00; text-decoration-color: #00ff00; font-weight: bold\">13:47:15</span>,<span style=\"color: #008080; text-decoration-color: #008080; font-weight: bold\">350</span> - DEBUG - open file:                              <a href=\"file:///Users/slegroux/miniforge3/envs/nimrod/lib/python3.11/site-packages/fsspec/implementations/local.py\" target=\"_blank\"><span style=\"color: #7f7f7f; text-decoration-color: #7f7f7f\">local.py</span></a><span style=\"color: #7f7f7f; text-decoration-color: #7f7f7f\">:</span><a href=\"file:///Users/slegroux/miniforge3/envs/nimrod/lib/python3.11/site-packages/fsspec/implementations/local.py#351\" target=\"_blank\"><span style=\"color: #7f7f7f; text-decoration-color: #7f7f7f\">351</span></a>\n",
       "<span style=\"color: #7fbfbf; text-decoration-color: #7fbfbf\">                    </span>         <span style=\"color: #800080; text-decoration-color: #800080\">/Users/slegroux/Projects/nimrod/nbs/logs/nnlm/version_25/</span><span style=\"color: #ff00ff; text-decoration-color: #ff00ff\">hparams.yaml</span>     <span style=\"color: #7f7f7f; text-decoration-color: #7f7f7f\">            </span>\n",
       "</pre>\n"
      ],
      "text/plain": [
       "\u001b[2;36m                   \u001b[0m\u001b[2;36m \u001b[0m\u001b[32mDEBUG   \u001b[0m \u001b[1;36m2024\u001b[0m-\u001b[1;36m12\u001b[0m-\u001b[1;36m19\u001b[0m \u001b[1;92m13:47:15\u001b[0m,\u001b[1;36m350\u001b[0m - DEBUG - open file:                              \u001b]8;id=899948;file:///Users/slegroux/miniforge3/envs/nimrod/lib/python3.11/site-packages/fsspec/implementations/local.py\u001b\\\u001b[2mlocal.py\u001b[0m\u001b]8;;\u001b\\\u001b[2m:\u001b[0m\u001b]8;id=687021;file:///Users/slegroux/miniforge3/envs/nimrod/lib/python3.11/site-packages/fsspec/implementations/local.py#351\u001b\\\u001b[2m351\u001b[0m\u001b]8;;\u001b\\\n",
       "\u001b[2;36m                    \u001b[0m         \u001b[35m/Users/slegroux/Projects/nimrod/nbs/logs/nnlm/version_25/\u001b[0m\u001b[95mhparams.yaml\u001b[0m     \u001b[2m            \u001b[0m\n"
      ]
     },
     "metadata": {},
     "output_type": "display_data"
    },
    {
     "data": {
      "text/html": [
       "<pre style=\"white-space:pre;overflow-x:auto;line-height:normal;font-family:Menlo,'DejaVu Sans Mono',consolas,'Courier New',monospace\"><span style=\"color: #7fbfbf; text-decoration-color: #7fbfbf\">                    </span><span style=\"color: #008000; text-decoration-color: #008000\">DEBUG   </span> <span style=\"color: #008080; text-decoration-color: #008080; font-weight: bold\">2024</span>-<span style=\"color: #008080; text-decoration-color: #008080; font-weight: bold\">12</span>-<span style=\"color: #008080; text-decoration-color: #008080; font-weight: bold\">19</span> <span style=\"color: #00ff00; text-decoration-color: #00ff00; font-weight: bold\">13:47:15</span>,<span style=\"color: #008080; text-decoration-color: #008080; font-weight: bold\">357</span> - DEBUG - open file:                              <a href=\"file:///Users/slegroux/miniforge3/envs/nimrod/lib/python3.11/site-packages/fsspec/implementations/local.py\" target=\"_blank\"><span style=\"color: #7f7f7f; text-decoration-color: #7f7f7f\">local.py</span></a><span style=\"color: #7f7f7f; text-decoration-color: #7f7f7f\">:</span><a href=\"file:///Users/slegroux/miniforge3/envs/nimrod/lib/python3.11/site-packages/fsspec/implementations/local.py#351\" target=\"_blank\"><span style=\"color: #7f7f7f; text-decoration-color: #7f7f7f\">351</span></a>\n",
       "<span style=\"color: #7fbfbf; text-decoration-color: #7fbfbf\">                    </span>         <span style=\"color: #800080; text-decoration-color: #800080\">/Users/slegroux/Projects/nimrod/nbs/logs/nnlm/version_25/</span><span style=\"color: #ff00ff; text-decoration-color: #ff00ff\">metrics.csv</span>      <span style=\"color: #7f7f7f; text-decoration-color: #7f7f7f\">            </span>\n",
       "</pre>\n"
      ],
      "text/plain": [
       "\u001b[2;36m                   \u001b[0m\u001b[2;36m \u001b[0m\u001b[32mDEBUG   \u001b[0m \u001b[1;36m2024\u001b[0m-\u001b[1;36m12\u001b[0m-\u001b[1;36m19\u001b[0m \u001b[1;92m13:47:15\u001b[0m,\u001b[1;36m357\u001b[0m - DEBUG - open file:                              \u001b]8;id=590542;file:///Users/slegroux/miniforge3/envs/nimrod/lib/python3.11/site-packages/fsspec/implementations/local.py\u001b\\\u001b[2mlocal.py\u001b[0m\u001b]8;;\u001b\\\u001b[2m:\u001b[0m\u001b]8;id=96722;file:///Users/slegroux/miniforge3/envs/nimrod/lib/python3.11/site-packages/fsspec/implementations/local.py#351\u001b\\\u001b[2m351\u001b[0m\u001b]8;;\u001b\\\n",
       "\u001b[2;36m                    \u001b[0m         \u001b[35m/Users/slegroux/Projects/nimrod/nbs/logs/nnlm/version_25/\u001b[0m\u001b[95mmetrics.csv\u001b[0m      \u001b[2m            \u001b[0m\n"
      ]
     },
     "metadata": {},
     "output_type": "display_data"
    },
    {
     "data": {
      "text/html": [
       "<pre style=\"white-space:pre;overflow-x:auto;line-height:normal;font-family:Menlo,'DejaVu Sans Mono',consolas,'Courier New',monospace\"><span style=\"color: #7fbfbf; text-decoration-color: #7fbfbf\">[12/19/24 13:47:16] </span><span style=\"color: #008000; text-decoration-color: #008000\">DEBUG   </span> <span style=\"color: #008080; text-decoration-color: #008080; font-weight: bold\">2024</span>-<span style=\"color: #008080; text-decoration-color: #008080; font-weight: bold\">12</span>-<span style=\"color: #008080; text-decoration-color: #008080; font-weight: bold\">19</span> <span style=\"color: #00ff00; text-decoration-color: #00ff00; font-weight: bold\">13:47:16</span>,<span style=\"color: #008080; text-decoration-color: #008080; font-weight: bold\">736</span> - DEBUG - open file:                              <a href=\"file:///Users/slegroux/miniforge3/envs/nimrod/lib/python3.11/site-packages/fsspec/implementations/local.py\" target=\"_blank\"><span style=\"color: #7f7f7f; text-decoration-color: #7f7f7f\">local.py</span></a><span style=\"color: #7f7f7f; text-decoration-color: #7f7f7f\">:</span><a href=\"file:///Users/slegroux/miniforge3/envs/nimrod/lib/python3.11/site-packages/fsspec/implementations/local.py#351\" target=\"_blank\"><span style=\"color: #7f7f7f; text-decoration-color: #7f7f7f\">351</span></a>\n",
       "<span style=\"color: #7fbfbf; text-decoration-color: #7fbfbf\">                    </span>         <span style=\"color: #800080; text-decoration-color: #800080\">/Users/slegroux/Projects/nimrod/nbs/logs/nnlm/version_25/</span><span style=\"color: #ff00ff; text-decoration-color: #ff00ff\">hparams.yaml</span>     <span style=\"color: #7f7f7f; text-decoration-color: #7f7f7f\">            </span>\n",
       "</pre>\n"
      ],
      "text/plain": [
       "\u001b[2;36m[12/19/24 13:47:16]\u001b[0m\u001b[2;36m \u001b[0m\u001b[32mDEBUG   \u001b[0m \u001b[1;36m2024\u001b[0m-\u001b[1;36m12\u001b[0m-\u001b[1;36m19\u001b[0m \u001b[1;92m13:47:16\u001b[0m,\u001b[1;36m736\u001b[0m - DEBUG - open file:                              \u001b]8;id=831713;file:///Users/slegroux/miniforge3/envs/nimrod/lib/python3.11/site-packages/fsspec/implementations/local.py\u001b\\\u001b[2mlocal.py\u001b[0m\u001b]8;;\u001b\\\u001b[2m:\u001b[0m\u001b]8;id=799778;file:///Users/slegroux/miniforge3/envs/nimrod/lib/python3.11/site-packages/fsspec/implementations/local.py#351\u001b\\\u001b[2m351\u001b[0m\u001b]8;;\u001b\\\n",
       "\u001b[2;36m                    \u001b[0m         \u001b[35m/Users/slegroux/Projects/nimrod/nbs/logs/nnlm/version_25/\u001b[0m\u001b[95mhparams.yaml\u001b[0m     \u001b[2m            \u001b[0m\n"
      ]
     },
     "metadata": {},
     "output_type": "display_data"
    },
    {
     "data": {
      "text/html": [
       "<pre style=\"white-space:pre;overflow-x:auto;line-height:normal;font-family:Menlo,'DejaVu Sans Mono',consolas,'Courier New',monospace\"><span style=\"color: #7fbfbf; text-decoration-color: #7fbfbf\">                    </span><span style=\"color: #008000; text-decoration-color: #008000\">DEBUG   </span> <span style=\"color: #008080; text-decoration-color: #008080; font-weight: bold\">2024</span>-<span style=\"color: #008080; text-decoration-color: #008080; font-weight: bold\">12</span>-<span style=\"color: #008080; text-decoration-color: #008080; font-weight: bold\">19</span> <span style=\"color: #00ff00; text-decoration-color: #00ff00; font-weight: bold\">13:47:16</span>,<span style=\"color: #008080; text-decoration-color: #008080; font-weight: bold\">755</span> - DEBUG - open file:                              <a href=\"file:///Users/slegroux/miniforge3/envs/nimrod/lib/python3.11/site-packages/fsspec/implementations/local.py\" target=\"_blank\"><span style=\"color: #7f7f7f; text-decoration-color: #7f7f7f\">local.py</span></a><span style=\"color: #7f7f7f; text-decoration-color: #7f7f7f\">:</span><a href=\"file:///Users/slegroux/miniforge3/envs/nimrod/lib/python3.11/site-packages/fsspec/implementations/local.py#351\" target=\"_blank\"><span style=\"color: #7f7f7f; text-decoration-color: #7f7f7f\">351</span></a>\n",
       "<span style=\"color: #7fbfbf; text-decoration-color: #7fbfbf\">                    </span>         <span style=\"color: #800080; text-decoration-color: #800080\">/Users/slegroux/Projects/nimrod/nbs/logs/nnlm/version_25/</span><span style=\"color: #ff00ff; text-decoration-color: #ff00ff\">metrics.csv</span>      <span style=\"color: #7f7f7f; text-decoration-color: #7f7f7f\">            </span>\n",
       "</pre>\n"
      ],
      "text/plain": [
       "\u001b[2;36m                   \u001b[0m\u001b[2;36m \u001b[0m\u001b[32mDEBUG   \u001b[0m \u001b[1;36m2024\u001b[0m-\u001b[1;36m12\u001b[0m-\u001b[1;36m19\u001b[0m \u001b[1;92m13:47:16\u001b[0m,\u001b[1;36m755\u001b[0m - DEBUG - open file:                              \u001b]8;id=852639;file:///Users/slegroux/miniforge3/envs/nimrod/lib/python3.11/site-packages/fsspec/implementations/local.py\u001b\\\u001b[2mlocal.py\u001b[0m\u001b]8;;\u001b\\\u001b[2m:\u001b[0m\u001b]8;id=908913;file:///Users/slegroux/miniforge3/envs/nimrod/lib/python3.11/site-packages/fsspec/implementations/local.py#351\u001b\\\u001b[2m351\u001b[0m\u001b]8;;\u001b\\\n",
       "\u001b[2;36m                    \u001b[0m         \u001b[35m/Users/slegroux/Projects/nimrod/nbs/logs/nnlm/version_25/\u001b[0m\u001b[95mmetrics.csv\u001b[0m      \u001b[2m            \u001b[0m\n"
      ]
     },
     "metadata": {},
     "output_type": "display_data"
    },
    {
     "data": {
      "text/html": [
       "<pre style=\"white-space:pre;overflow-x:auto;line-height:normal;font-family:Menlo,'DejaVu Sans Mono',consolas,'Courier New',monospace\"><span style=\"color: #7fbfbf; text-decoration-color: #7fbfbf\">                    </span><span style=\"color: #008000; text-decoration-color: #008000\">DEBUG   </span> <span style=\"color: #008080; text-decoration-color: #008080; font-weight: bold\">2024</span>-<span style=\"color: #008080; text-decoration-color: #008080; font-weight: bold\">12</span>-<span style=\"color: #008080; text-decoration-color: #008080; font-weight: bold\">19</span> <span style=\"color: #00ff00; text-decoration-color: #00ff00; font-weight: bold\">13:47:16</span>,<span style=\"color: #008080; text-decoration-color: #008080; font-weight: bold\">768</span> - DEBUG - open file:                              <a href=\"file:///Users/slegroux/miniforge3/envs/nimrod/lib/python3.11/site-packages/fsspec/implementations/local.py\" target=\"_blank\"><span style=\"color: #7f7f7f; text-decoration-color: #7f7f7f\">local.py</span></a><span style=\"color: #7f7f7f; text-decoration-color: #7f7f7f\">:</span><a href=\"file:///Users/slegroux/miniforge3/envs/nimrod/lib/python3.11/site-packages/fsspec/implementations/local.py#351\" target=\"_blank\"><span style=\"color: #7f7f7f; text-decoration-color: #7f7f7f\">351</span></a>\n",
       "<span style=\"color: #7fbfbf; text-decoration-color: #7fbfbf\">                    </span>         <span style=\"color: #800080; text-decoration-color: #800080\">/Users/slegroux/Projects/nimrod/nbs/logs/nnlm/version_25/</span><span style=\"color: #ff00ff; text-decoration-color: #ff00ff\">hparams.yaml</span>     <span style=\"color: #7f7f7f; text-decoration-color: #7f7f7f\">            </span>\n",
       "</pre>\n"
      ],
      "text/plain": [
       "\u001b[2;36m                   \u001b[0m\u001b[2;36m \u001b[0m\u001b[32mDEBUG   \u001b[0m \u001b[1;36m2024\u001b[0m-\u001b[1;36m12\u001b[0m-\u001b[1;36m19\u001b[0m \u001b[1;92m13:47:16\u001b[0m,\u001b[1;36m768\u001b[0m - DEBUG - open file:                              \u001b]8;id=215948;file:///Users/slegroux/miniforge3/envs/nimrod/lib/python3.11/site-packages/fsspec/implementations/local.py\u001b\\\u001b[2mlocal.py\u001b[0m\u001b]8;;\u001b\\\u001b[2m:\u001b[0m\u001b]8;id=819694;file:///Users/slegroux/miniforge3/envs/nimrod/lib/python3.11/site-packages/fsspec/implementations/local.py#351\u001b\\\u001b[2m351\u001b[0m\u001b]8;;\u001b\\\n",
       "\u001b[2;36m                    \u001b[0m         \u001b[35m/Users/slegroux/Projects/nimrod/nbs/logs/nnlm/version_25/\u001b[0m\u001b[95mhparams.yaml\u001b[0m     \u001b[2m            \u001b[0m\n"
      ]
     },
     "metadata": {},
     "output_type": "display_data"
    },
    {
     "data": {
      "text/html": [
       "<pre style=\"white-space:pre;overflow-x:auto;line-height:normal;font-family:Menlo,'DejaVu Sans Mono',consolas,'Courier New',monospace\"><span style=\"color: #7fbfbf; text-decoration-color: #7fbfbf\">[12/19/24 13:47:18] </span><span style=\"color: #008000; text-decoration-color: #008000\">DEBUG   </span> <span style=\"color: #008080; text-decoration-color: #008080; font-weight: bold\">2024</span>-<span style=\"color: #008080; text-decoration-color: #008080; font-weight: bold\">12</span>-<span style=\"color: #008080; text-decoration-color: #008080; font-weight: bold\">19</span> <span style=\"color: #00ff00; text-decoration-color: #00ff00; font-weight: bold\">13:47:18</span>,<span style=\"color: #008080; text-decoration-color: #008080; font-weight: bold\">052</span> - DEBUG - open file:                              <a href=\"file:///Users/slegroux/miniforge3/envs/nimrod/lib/python3.11/site-packages/fsspec/implementations/local.py\" target=\"_blank\"><span style=\"color: #7f7f7f; text-decoration-color: #7f7f7f\">local.py</span></a><span style=\"color: #7f7f7f; text-decoration-color: #7f7f7f\">:</span><a href=\"file:///Users/slegroux/miniforge3/envs/nimrod/lib/python3.11/site-packages/fsspec/implementations/local.py#351\" target=\"_blank\"><span style=\"color: #7f7f7f; text-decoration-color: #7f7f7f\">351</span></a>\n",
       "<span style=\"color: #7fbfbf; text-decoration-color: #7fbfbf\">                    </span>         <span style=\"color: #800080; text-decoration-color: #800080\">/Users/slegroux/Projects/nimrod/nbs/logs/nnlm/version_25/</span><span style=\"color: #ff00ff; text-decoration-color: #ff00ff\">hparams.yaml</span>     <span style=\"color: #7f7f7f; text-decoration-color: #7f7f7f\">            </span>\n",
       "</pre>\n"
      ],
      "text/plain": [
       "\u001b[2;36m[12/19/24 13:47:18]\u001b[0m\u001b[2;36m \u001b[0m\u001b[32mDEBUG   \u001b[0m \u001b[1;36m2024\u001b[0m-\u001b[1;36m12\u001b[0m-\u001b[1;36m19\u001b[0m \u001b[1;92m13:47:18\u001b[0m,\u001b[1;36m052\u001b[0m - DEBUG - open file:                              \u001b]8;id=261111;file:///Users/slegroux/miniforge3/envs/nimrod/lib/python3.11/site-packages/fsspec/implementations/local.py\u001b\\\u001b[2mlocal.py\u001b[0m\u001b]8;;\u001b\\\u001b[2m:\u001b[0m\u001b]8;id=285664;file:///Users/slegroux/miniforge3/envs/nimrod/lib/python3.11/site-packages/fsspec/implementations/local.py#351\u001b\\\u001b[2m351\u001b[0m\u001b]8;;\u001b\\\n",
       "\u001b[2;36m                    \u001b[0m         \u001b[35m/Users/slegroux/Projects/nimrod/nbs/logs/nnlm/version_25/\u001b[0m\u001b[95mhparams.yaml\u001b[0m     \u001b[2m            \u001b[0m\n"
      ]
     },
     "metadata": {},
     "output_type": "display_data"
    },
    {
     "data": {
      "text/html": [
       "<pre style=\"white-space:pre;overflow-x:auto;line-height:normal;font-family:Menlo,'DejaVu Sans Mono',consolas,'Courier New',monospace\"><span style=\"color: #7fbfbf; text-decoration-color: #7fbfbf\">                    </span><span style=\"color: #008000; text-decoration-color: #008000\">DEBUG   </span> <span style=\"color: #008080; text-decoration-color: #008080; font-weight: bold\">2024</span>-<span style=\"color: #008080; text-decoration-color: #008080; font-weight: bold\">12</span>-<span style=\"color: #008080; text-decoration-color: #008080; font-weight: bold\">19</span> <span style=\"color: #00ff00; text-decoration-color: #00ff00; font-weight: bold\">13:47:18</span>,<span style=\"color: #008080; text-decoration-color: #008080; font-weight: bold\">055</span> - DEBUG - open file:                              <a href=\"file:///Users/slegroux/miniforge3/envs/nimrod/lib/python3.11/site-packages/fsspec/implementations/local.py\" target=\"_blank\"><span style=\"color: #7f7f7f; text-decoration-color: #7f7f7f\">local.py</span></a><span style=\"color: #7f7f7f; text-decoration-color: #7f7f7f\">:</span><a href=\"file:///Users/slegroux/miniforge3/envs/nimrod/lib/python3.11/site-packages/fsspec/implementations/local.py#351\" target=\"_blank\"><span style=\"color: #7f7f7f; text-decoration-color: #7f7f7f\">351</span></a>\n",
       "<span style=\"color: #7fbfbf; text-decoration-color: #7fbfbf\">                    </span>         <span style=\"color: #800080; text-decoration-color: #800080\">/Users/slegroux/Projects/nimrod/nbs/logs/nnlm/version_25/</span><span style=\"color: #ff00ff; text-decoration-color: #ff00ff\">metrics.csv</span>      <span style=\"color: #7f7f7f; text-decoration-color: #7f7f7f\">            </span>\n",
       "</pre>\n"
      ],
      "text/plain": [
       "\u001b[2;36m                   \u001b[0m\u001b[2;36m \u001b[0m\u001b[32mDEBUG   \u001b[0m \u001b[1;36m2024\u001b[0m-\u001b[1;36m12\u001b[0m-\u001b[1;36m19\u001b[0m \u001b[1;92m13:47:18\u001b[0m,\u001b[1;36m055\u001b[0m - DEBUG - open file:                              \u001b]8;id=385749;file:///Users/slegroux/miniforge3/envs/nimrod/lib/python3.11/site-packages/fsspec/implementations/local.py\u001b\\\u001b[2mlocal.py\u001b[0m\u001b]8;;\u001b\\\u001b[2m:\u001b[0m\u001b]8;id=450738;file:///Users/slegroux/miniforge3/envs/nimrod/lib/python3.11/site-packages/fsspec/implementations/local.py#351\u001b\\\u001b[2m351\u001b[0m\u001b]8;;\u001b\\\n",
       "\u001b[2;36m                    \u001b[0m         \u001b[35m/Users/slegroux/Projects/nimrod/nbs/logs/nnlm/version_25/\u001b[0m\u001b[95mmetrics.csv\u001b[0m      \u001b[2m            \u001b[0m\n"
      ]
     },
     "metadata": {},
     "output_type": "display_data"
    },
    {
     "data": {
      "text/html": [
       "<pre style=\"white-space:pre;overflow-x:auto;line-height:normal;font-family:Menlo,'DejaVu Sans Mono',consolas,'Courier New',monospace\"><span style=\"color: #7fbfbf; text-decoration-color: #7fbfbf\">[12/19/24 13:47:19] </span><span style=\"color: #008000; text-decoration-color: #008000\">DEBUG   </span> <span style=\"color: #008080; text-decoration-color: #008080; font-weight: bold\">2024</span>-<span style=\"color: #008080; text-decoration-color: #008080; font-weight: bold\">12</span>-<span style=\"color: #008080; text-decoration-color: #008080; font-weight: bold\">19</span> <span style=\"color: #00ff00; text-decoration-color: #00ff00; font-weight: bold\">13:47:19</span>,<span style=\"color: #008080; text-decoration-color: #008080; font-weight: bold\">497</span> - DEBUG - open file:                              <a href=\"file:///Users/slegroux/miniforge3/envs/nimrod/lib/python3.11/site-packages/fsspec/implementations/local.py\" target=\"_blank\"><span style=\"color: #7f7f7f; text-decoration-color: #7f7f7f\">local.py</span></a><span style=\"color: #7f7f7f; text-decoration-color: #7f7f7f\">:</span><a href=\"file:///Users/slegroux/miniforge3/envs/nimrod/lib/python3.11/site-packages/fsspec/implementations/local.py#351\" target=\"_blank\"><span style=\"color: #7f7f7f; text-decoration-color: #7f7f7f\">351</span></a>\n",
       "<span style=\"color: #7fbfbf; text-decoration-color: #7fbfbf\">                    </span>         <span style=\"color: #800080; text-decoration-color: #800080\">/Users/slegroux/Projects/nimrod/nbs/logs/nnlm/version_25/</span><span style=\"color: #ff00ff; text-decoration-color: #ff00ff\">hparams.yaml</span>     <span style=\"color: #7f7f7f; text-decoration-color: #7f7f7f\">            </span>\n",
       "</pre>\n"
      ],
      "text/plain": [
       "\u001b[2;36m[12/19/24 13:47:19]\u001b[0m\u001b[2;36m \u001b[0m\u001b[32mDEBUG   \u001b[0m \u001b[1;36m2024\u001b[0m-\u001b[1;36m12\u001b[0m-\u001b[1;36m19\u001b[0m \u001b[1;92m13:47:19\u001b[0m,\u001b[1;36m497\u001b[0m - DEBUG - open file:                              \u001b]8;id=937810;file:///Users/slegroux/miniforge3/envs/nimrod/lib/python3.11/site-packages/fsspec/implementations/local.py\u001b\\\u001b[2mlocal.py\u001b[0m\u001b]8;;\u001b\\\u001b[2m:\u001b[0m\u001b]8;id=544461;file:///Users/slegroux/miniforge3/envs/nimrod/lib/python3.11/site-packages/fsspec/implementations/local.py#351\u001b\\\u001b[2m351\u001b[0m\u001b]8;;\u001b\\\n",
       "\u001b[2;36m                    \u001b[0m         \u001b[35m/Users/slegroux/Projects/nimrod/nbs/logs/nnlm/version_25/\u001b[0m\u001b[95mhparams.yaml\u001b[0m     \u001b[2m            \u001b[0m\n"
      ]
     },
     "metadata": {},
     "output_type": "display_data"
    },
    {
     "data": {
      "text/html": [
       "<pre style=\"white-space:pre;overflow-x:auto;line-height:normal;font-family:Menlo,'DejaVu Sans Mono',consolas,'Courier New',monospace\"><span style=\"color: #7fbfbf; text-decoration-color: #7fbfbf\">                    </span><span style=\"color: #008000; text-decoration-color: #008000\">DEBUG   </span> <span style=\"color: #008080; text-decoration-color: #008080; font-weight: bold\">2024</span>-<span style=\"color: #008080; text-decoration-color: #008080; font-weight: bold\">12</span>-<span style=\"color: #008080; text-decoration-color: #008080; font-weight: bold\">19</span> <span style=\"color: #00ff00; text-decoration-color: #00ff00; font-weight: bold\">13:47:19</span>,<span style=\"color: #008080; text-decoration-color: #008080; font-weight: bold\">499</span> - DEBUG - open file:                              <a href=\"file:///Users/slegroux/miniforge3/envs/nimrod/lib/python3.11/site-packages/fsspec/implementations/local.py\" target=\"_blank\"><span style=\"color: #7f7f7f; text-decoration-color: #7f7f7f\">local.py</span></a><span style=\"color: #7f7f7f; text-decoration-color: #7f7f7f\">:</span><a href=\"file:///Users/slegroux/miniforge3/envs/nimrod/lib/python3.11/site-packages/fsspec/implementations/local.py#351\" target=\"_blank\"><span style=\"color: #7f7f7f; text-decoration-color: #7f7f7f\">351</span></a>\n",
       "<span style=\"color: #7fbfbf; text-decoration-color: #7fbfbf\">                    </span>         <span style=\"color: #800080; text-decoration-color: #800080\">/Users/slegroux/Projects/nimrod/nbs/logs/nnlm/version_25/</span><span style=\"color: #ff00ff; text-decoration-color: #ff00ff\">metrics.csv</span>      <span style=\"color: #7f7f7f; text-decoration-color: #7f7f7f\">            </span>\n",
       "</pre>\n"
      ],
      "text/plain": [
       "\u001b[2;36m                   \u001b[0m\u001b[2;36m \u001b[0m\u001b[32mDEBUG   \u001b[0m \u001b[1;36m2024\u001b[0m-\u001b[1;36m12\u001b[0m-\u001b[1;36m19\u001b[0m \u001b[1;92m13:47:19\u001b[0m,\u001b[1;36m499\u001b[0m - DEBUG - open file:                              \u001b]8;id=60850;file:///Users/slegroux/miniforge3/envs/nimrod/lib/python3.11/site-packages/fsspec/implementations/local.py\u001b\\\u001b[2mlocal.py\u001b[0m\u001b]8;;\u001b\\\u001b[2m:\u001b[0m\u001b]8;id=866518;file:///Users/slegroux/miniforge3/envs/nimrod/lib/python3.11/site-packages/fsspec/implementations/local.py#351\u001b\\\u001b[2m351\u001b[0m\u001b]8;;\u001b\\\n",
       "\u001b[2;36m                    \u001b[0m         \u001b[35m/Users/slegroux/Projects/nimrod/nbs/logs/nnlm/version_25/\u001b[0m\u001b[95mmetrics.csv\u001b[0m      \u001b[2m            \u001b[0m\n"
      ]
     },
     "metadata": {},
     "output_type": "display_data"
    },
    {
     "data": {
      "text/html": [
       "<pre style=\"white-space:pre;overflow-x:auto;line-height:normal;font-family:Menlo,'DejaVu Sans Mono',consolas,'Courier New',monospace\"><span style=\"color: #7fbfbf; text-decoration-color: #7fbfbf\">                    </span><span style=\"color: #008000; text-decoration-color: #008000\">DEBUG   </span> <span style=\"color: #008080; text-decoration-color: #008080; font-weight: bold\">2024</span>-<span style=\"color: #008080; text-decoration-color: #008080; font-weight: bold\">12</span>-<span style=\"color: #008080; text-decoration-color: #008080; font-weight: bold\">19</span> <span style=\"color: #00ff00; text-decoration-color: #00ff00; font-weight: bold\">13:47:19</span>,<span style=\"color: #008080; text-decoration-color: #008080; font-weight: bold\">501</span> - DEBUG - open file:                              <a href=\"file:///Users/slegroux/miniforge3/envs/nimrod/lib/python3.11/site-packages/fsspec/implementations/local.py\" target=\"_blank\"><span style=\"color: #7f7f7f; text-decoration-color: #7f7f7f\">local.py</span></a><span style=\"color: #7f7f7f; text-decoration-color: #7f7f7f\">:</span><a href=\"file:///Users/slegroux/miniforge3/envs/nimrod/lib/python3.11/site-packages/fsspec/implementations/local.py#351\" target=\"_blank\"><span style=\"color: #7f7f7f; text-decoration-color: #7f7f7f\">351</span></a>\n",
       "<span style=\"color: #7fbfbf; text-decoration-color: #7fbfbf\">                    </span>         <span style=\"color: #800080; text-decoration-color: #800080\">/Users/slegroux/Projects/nimrod/nbs/logs/nnlm/version_25/</span><span style=\"color: #ff00ff; text-decoration-color: #ff00ff\">hparams.yaml</span>     <span style=\"color: #7f7f7f; text-decoration-color: #7f7f7f\">            </span>\n",
       "</pre>\n"
      ],
      "text/plain": [
       "\u001b[2;36m                   \u001b[0m\u001b[2;36m \u001b[0m\u001b[32mDEBUG   \u001b[0m \u001b[1;36m2024\u001b[0m-\u001b[1;36m12\u001b[0m-\u001b[1;36m19\u001b[0m \u001b[1;92m13:47:19\u001b[0m,\u001b[1;36m501\u001b[0m - DEBUG - open file:                              \u001b]8;id=787616;file:///Users/slegroux/miniforge3/envs/nimrod/lib/python3.11/site-packages/fsspec/implementations/local.py\u001b\\\u001b[2mlocal.py\u001b[0m\u001b]8;;\u001b\\\u001b[2m:\u001b[0m\u001b]8;id=737521;file:///Users/slegroux/miniforge3/envs/nimrod/lib/python3.11/site-packages/fsspec/implementations/local.py#351\u001b\\\u001b[2m351\u001b[0m\u001b]8;;\u001b\\\n",
       "\u001b[2;36m                    \u001b[0m         \u001b[35m/Users/slegroux/Projects/nimrod/nbs/logs/nnlm/version_25/\u001b[0m\u001b[95mhparams.yaml\u001b[0m     \u001b[2m            \u001b[0m\n"
      ]
     },
     "metadata": {},
     "output_type": "display_data"
    },
    {
     "data": {
      "text/html": [
       "<pre style=\"white-space:pre;overflow-x:auto;line-height:normal;font-family:Menlo,'DejaVu Sans Mono',consolas,'Courier New',monospace\"><span style=\"color: #7fbfbf; text-decoration-color: #7fbfbf\">[12/19/24 13:47:20] </span><span style=\"color: #008000; text-decoration-color: #008000\">DEBUG   </span> <span style=\"color: #008080; text-decoration-color: #008080; font-weight: bold\">2024</span>-<span style=\"color: #008080; text-decoration-color: #008080; font-weight: bold\">12</span>-<span style=\"color: #008080; text-decoration-color: #008080; font-weight: bold\">19</span> <span style=\"color: #00ff00; text-decoration-color: #00ff00; font-weight: bold\">13:47:20</span>,<span style=\"color: #008080; text-decoration-color: #008080; font-weight: bold\">886</span> - DEBUG - open file:                              <a href=\"file:///Users/slegroux/miniforge3/envs/nimrod/lib/python3.11/site-packages/fsspec/implementations/local.py\" target=\"_blank\"><span style=\"color: #7f7f7f; text-decoration-color: #7f7f7f\">local.py</span></a><span style=\"color: #7f7f7f; text-decoration-color: #7f7f7f\">:</span><a href=\"file:///Users/slegroux/miniforge3/envs/nimrod/lib/python3.11/site-packages/fsspec/implementations/local.py#351\" target=\"_blank\"><span style=\"color: #7f7f7f; text-decoration-color: #7f7f7f\">351</span></a>\n",
       "<span style=\"color: #7fbfbf; text-decoration-color: #7fbfbf\">                    </span>         <span style=\"color: #800080; text-decoration-color: #800080\">/Users/slegroux/Projects/nimrod/nbs/logs/nnlm/version_25/</span><span style=\"color: #ff00ff; text-decoration-color: #ff00ff\">hparams.yaml</span>     <span style=\"color: #7f7f7f; text-decoration-color: #7f7f7f\">            </span>\n",
       "</pre>\n"
      ],
      "text/plain": [
       "\u001b[2;36m[12/19/24 13:47:20]\u001b[0m\u001b[2;36m \u001b[0m\u001b[32mDEBUG   \u001b[0m \u001b[1;36m2024\u001b[0m-\u001b[1;36m12\u001b[0m-\u001b[1;36m19\u001b[0m \u001b[1;92m13:47:20\u001b[0m,\u001b[1;36m886\u001b[0m - DEBUG - open file:                              \u001b]8;id=684739;file:///Users/slegroux/miniforge3/envs/nimrod/lib/python3.11/site-packages/fsspec/implementations/local.py\u001b\\\u001b[2mlocal.py\u001b[0m\u001b]8;;\u001b\\\u001b[2m:\u001b[0m\u001b]8;id=481537;file:///Users/slegroux/miniforge3/envs/nimrod/lib/python3.11/site-packages/fsspec/implementations/local.py#351\u001b\\\u001b[2m351\u001b[0m\u001b]8;;\u001b\\\n",
       "\u001b[2;36m                    \u001b[0m         \u001b[35m/Users/slegroux/Projects/nimrod/nbs/logs/nnlm/version_25/\u001b[0m\u001b[95mhparams.yaml\u001b[0m     \u001b[2m            \u001b[0m\n"
      ]
     },
     "metadata": {},
     "output_type": "display_data"
    },
    {
     "data": {
      "text/html": [
       "<pre style=\"white-space:pre;overflow-x:auto;line-height:normal;font-family:Menlo,'DejaVu Sans Mono',consolas,'Courier New',monospace\"><span style=\"color: #7fbfbf; text-decoration-color: #7fbfbf\">                    </span><span style=\"color: #008000; text-decoration-color: #008000\">DEBUG   </span> <span style=\"color: #008080; text-decoration-color: #008080; font-weight: bold\">2024</span>-<span style=\"color: #008080; text-decoration-color: #008080; font-weight: bold\">12</span>-<span style=\"color: #008080; text-decoration-color: #008080; font-weight: bold\">19</span> <span style=\"color: #00ff00; text-decoration-color: #00ff00; font-weight: bold\">13:47:20</span>,<span style=\"color: #008080; text-decoration-color: #008080; font-weight: bold\">887</span> - DEBUG - open file:                              <a href=\"file:///Users/slegroux/miniforge3/envs/nimrod/lib/python3.11/site-packages/fsspec/implementations/local.py\" target=\"_blank\"><span style=\"color: #7f7f7f; text-decoration-color: #7f7f7f\">local.py</span></a><span style=\"color: #7f7f7f; text-decoration-color: #7f7f7f\">:</span><a href=\"file:///Users/slegroux/miniforge3/envs/nimrod/lib/python3.11/site-packages/fsspec/implementations/local.py#351\" target=\"_blank\"><span style=\"color: #7f7f7f; text-decoration-color: #7f7f7f\">351</span></a>\n",
       "<span style=\"color: #7fbfbf; text-decoration-color: #7fbfbf\">                    </span>         <span style=\"color: #800080; text-decoration-color: #800080\">/Users/slegroux/Projects/nimrod/nbs/logs/nnlm/version_25/</span><span style=\"color: #ff00ff; text-decoration-color: #ff00ff\">metrics.csv</span>      <span style=\"color: #7f7f7f; text-decoration-color: #7f7f7f\">            </span>\n",
       "</pre>\n"
      ],
      "text/plain": [
       "\u001b[2;36m                   \u001b[0m\u001b[2;36m \u001b[0m\u001b[32mDEBUG   \u001b[0m \u001b[1;36m2024\u001b[0m-\u001b[1;36m12\u001b[0m-\u001b[1;36m19\u001b[0m \u001b[1;92m13:47:20\u001b[0m,\u001b[1;36m887\u001b[0m - DEBUG - open file:                              \u001b]8;id=395653;file:///Users/slegroux/miniforge3/envs/nimrod/lib/python3.11/site-packages/fsspec/implementations/local.py\u001b\\\u001b[2mlocal.py\u001b[0m\u001b]8;;\u001b\\\u001b[2m:\u001b[0m\u001b]8;id=792621;file:///Users/slegroux/miniforge3/envs/nimrod/lib/python3.11/site-packages/fsspec/implementations/local.py#351\u001b\\\u001b[2m351\u001b[0m\u001b]8;;\u001b\\\n",
       "\u001b[2;36m                    \u001b[0m         \u001b[35m/Users/slegroux/Projects/nimrod/nbs/logs/nnlm/version_25/\u001b[0m\u001b[95mmetrics.csv\u001b[0m      \u001b[2m            \u001b[0m\n"
      ]
     },
     "metadata": {},
     "output_type": "display_data"
    },
    {
     "data": {
      "text/html": [
       "<pre style=\"white-space:pre;overflow-x:auto;line-height:normal;font-family:Menlo,'DejaVu Sans Mono',consolas,'Courier New',monospace\"><span style=\"color: #7fbfbf; text-decoration-color: #7fbfbf\">[12/19/24 13:47:22] </span><span style=\"color: #008000; text-decoration-color: #008000\">DEBUG   </span> <span style=\"color: #008080; text-decoration-color: #008080; font-weight: bold\">2024</span>-<span style=\"color: #008080; text-decoration-color: #008080; font-weight: bold\">12</span>-<span style=\"color: #008080; text-decoration-color: #008080; font-weight: bold\">19</span> <span style=\"color: #00ff00; text-decoration-color: #00ff00; font-weight: bold\">13:47:22</span>,<span style=\"color: #008080; text-decoration-color: #008080; font-weight: bold\">144</span> - DEBUG - open file:                              <a href=\"file:///Users/slegroux/miniforge3/envs/nimrod/lib/python3.11/site-packages/fsspec/implementations/local.py\" target=\"_blank\"><span style=\"color: #7f7f7f; text-decoration-color: #7f7f7f\">local.py</span></a><span style=\"color: #7f7f7f; text-decoration-color: #7f7f7f\">:</span><a href=\"file:///Users/slegroux/miniforge3/envs/nimrod/lib/python3.11/site-packages/fsspec/implementations/local.py#351\" target=\"_blank\"><span style=\"color: #7f7f7f; text-decoration-color: #7f7f7f\">351</span></a>\n",
       "<span style=\"color: #7fbfbf; text-decoration-color: #7fbfbf\">                    </span>         <span style=\"color: #800080; text-decoration-color: #800080\">/Users/slegroux/Projects/nimrod/nbs/logs/nnlm/version_25/</span><span style=\"color: #ff00ff; text-decoration-color: #ff00ff\">hparams.yaml</span>     <span style=\"color: #7f7f7f; text-decoration-color: #7f7f7f\">            </span>\n",
       "</pre>\n"
      ],
      "text/plain": [
       "\u001b[2;36m[12/19/24 13:47:22]\u001b[0m\u001b[2;36m \u001b[0m\u001b[32mDEBUG   \u001b[0m \u001b[1;36m2024\u001b[0m-\u001b[1;36m12\u001b[0m-\u001b[1;36m19\u001b[0m \u001b[1;92m13:47:22\u001b[0m,\u001b[1;36m144\u001b[0m - DEBUG - open file:                              \u001b]8;id=27365;file:///Users/slegroux/miniforge3/envs/nimrod/lib/python3.11/site-packages/fsspec/implementations/local.py\u001b\\\u001b[2mlocal.py\u001b[0m\u001b]8;;\u001b\\\u001b[2m:\u001b[0m\u001b]8;id=875821;file:///Users/slegroux/miniforge3/envs/nimrod/lib/python3.11/site-packages/fsspec/implementations/local.py#351\u001b\\\u001b[2m351\u001b[0m\u001b]8;;\u001b\\\n",
       "\u001b[2;36m                    \u001b[0m         \u001b[35m/Users/slegroux/Projects/nimrod/nbs/logs/nnlm/version_25/\u001b[0m\u001b[95mhparams.yaml\u001b[0m     \u001b[2m            \u001b[0m\n"
      ]
     },
     "metadata": {},
     "output_type": "display_data"
    },
    {
     "data": {
      "text/html": [
       "<pre style=\"white-space:pre;overflow-x:auto;line-height:normal;font-family:Menlo,'DejaVu Sans Mono',consolas,'Courier New',monospace\"><span style=\"color: #7fbfbf; text-decoration-color: #7fbfbf\">                    </span><span style=\"color: #008000; text-decoration-color: #008000\">DEBUG   </span> <span style=\"color: #008080; text-decoration-color: #008080; font-weight: bold\">2024</span>-<span style=\"color: #008080; text-decoration-color: #008080; font-weight: bold\">12</span>-<span style=\"color: #008080; text-decoration-color: #008080; font-weight: bold\">19</span> <span style=\"color: #00ff00; text-decoration-color: #00ff00; font-weight: bold\">13:47:22</span>,<span style=\"color: #008080; text-decoration-color: #008080; font-weight: bold\">148</span> - DEBUG - open file:                              <a href=\"file:///Users/slegroux/miniforge3/envs/nimrod/lib/python3.11/site-packages/fsspec/implementations/local.py\" target=\"_blank\"><span style=\"color: #7f7f7f; text-decoration-color: #7f7f7f\">local.py</span></a><span style=\"color: #7f7f7f; text-decoration-color: #7f7f7f\">:</span><a href=\"file:///Users/slegroux/miniforge3/envs/nimrod/lib/python3.11/site-packages/fsspec/implementations/local.py#351\" target=\"_blank\"><span style=\"color: #7f7f7f; text-decoration-color: #7f7f7f\">351</span></a>\n",
       "<span style=\"color: #7fbfbf; text-decoration-color: #7fbfbf\">                    </span>         <span style=\"color: #800080; text-decoration-color: #800080\">/Users/slegroux/Projects/nimrod/nbs/logs/nnlm/version_25/</span><span style=\"color: #ff00ff; text-decoration-color: #ff00ff\">metrics.csv</span>      <span style=\"color: #7f7f7f; text-decoration-color: #7f7f7f\">            </span>\n",
       "</pre>\n"
      ],
      "text/plain": [
       "\u001b[2;36m                   \u001b[0m\u001b[2;36m \u001b[0m\u001b[32mDEBUG   \u001b[0m \u001b[1;36m2024\u001b[0m-\u001b[1;36m12\u001b[0m-\u001b[1;36m19\u001b[0m \u001b[1;92m13:47:22\u001b[0m,\u001b[1;36m148\u001b[0m - DEBUG - open file:                              \u001b]8;id=528302;file:///Users/slegroux/miniforge3/envs/nimrod/lib/python3.11/site-packages/fsspec/implementations/local.py\u001b\\\u001b[2mlocal.py\u001b[0m\u001b]8;;\u001b\\\u001b[2m:\u001b[0m\u001b]8;id=763456;file:///Users/slegroux/miniforge3/envs/nimrod/lib/python3.11/site-packages/fsspec/implementations/local.py#351\u001b\\\u001b[2m351\u001b[0m\u001b]8;;\u001b\\\n",
       "\u001b[2;36m                    \u001b[0m         \u001b[35m/Users/slegroux/Projects/nimrod/nbs/logs/nnlm/version_25/\u001b[0m\u001b[95mmetrics.csv\u001b[0m      \u001b[2m            \u001b[0m\n"
      ]
     },
     "metadata": {},
     "output_type": "display_data"
    },
    {
     "data": {
      "text/html": [
       "<pre style=\"white-space:pre;overflow-x:auto;line-height:normal;font-family:Menlo,'DejaVu Sans Mono',consolas,'Courier New',monospace\"><span style=\"color: #7fbfbf; text-decoration-color: #7fbfbf\">                    </span><span style=\"color: #008000; text-decoration-color: #008000\">DEBUG   </span> <span style=\"color: #008080; text-decoration-color: #008080; font-weight: bold\">2024</span>-<span style=\"color: #008080; text-decoration-color: #008080; font-weight: bold\">12</span>-<span style=\"color: #008080; text-decoration-color: #008080; font-weight: bold\">19</span> <span style=\"color: #00ff00; text-decoration-color: #00ff00; font-weight: bold\">13:47:22</span>,<span style=\"color: #008080; text-decoration-color: #008080; font-weight: bold\">152</span> - DEBUG - open file:                              <a href=\"file:///Users/slegroux/miniforge3/envs/nimrod/lib/python3.11/site-packages/fsspec/implementations/local.py\" target=\"_blank\"><span style=\"color: #7f7f7f; text-decoration-color: #7f7f7f\">local.py</span></a><span style=\"color: #7f7f7f; text-decoration-color: #7f7f7f\">:</span><a href=\"file:///Users/slegroux/miniforge3/envs/nimrod/lib/python3.11/site-packages/fsspec/implementations/local.py#351\" target=\"_blank\"><span style=\"color: #7f7f7f; text-decoration-color: #7f7f7f\">351</span></a>\n",
       "<span style=\"color: #7fbfbf; text-decoration-color: #7fbfbf\">                    </span>         <span style=\"color: #800080; text-decoration-color: #800080\">/Users/slegroux/Projects/nimrod/nbs/logs/nnlm/version_25/</span><span style=\"color: #ff00ff; text-decoration-color: #ff00ff\">hparams.yaml</span>     <span style=\"color: #7f7f7f; text-decoration-color: #7f7f7f\">            </span>\n",
       "</pre>\n"
      ],
      "text/plain": [
       "\u001b[2;36m                   \u001b[0m\u001b[2;36m \u001b[0m\u001b[32mDEBUG   \u001b[0m \u001b[1;36m2024\u001b[0m-\u001b[1;36m12\u001b[0m-\u001b[1;36m19\u001b[0m \u001b[1;92m13:47:22\u001b[0m,\u001b[1;36m152\u001b[0m - DEBUG - open file:                              \u001b]8;id=704473;file:///Users/slegroux/miniforge3/envs/nimrod/lib/python3.11/site-packages/fsspec/implementations/local.py\u001b\\\u001b[2mlocal.py\u001b[0m\u001b]8;;\u001b\\\u001b[2m:\u001b[0m\u001b]8;id=780510;file:///Users/slegroux/miniforge3/envs/nimrod/lib/python3.11/site-packages/fsspec/implementations/local.py#351\u001b\\\u001b[2m351\u001b[0m\u001b]8;;\u001b\\\n",
       "\u001b[2;36m                    \u001b[0m         \u001b[35m/Users/slegroux/Projects/nimrod/nbs/logs/nnlm/version_25/\u001b[0m\u001b[95mhparams.yaml\u001b[0m     \u001b[2m            \u001b[0m\n"
      ]
     },
     "metadata": {},
     "output_type": "display_data"
    },
    {
     "data": {
      "text/html": [
       "<pre style=\"white-space:pre;overflow-x:auto;line-height:normal;font-family:Menlo,'DejaVu Sans Mono',consolas,'Courier New',monospace\"><span style=\"color: #7fbfbf; text-decoration-color: #7fbfbf\">[12/19/24 13:47:23] </span><span style=\"color: #008000; text-decoration-color: #008000\">DEBUG   </span> <span style=\"color: #008080; text-decoration-color: #008080; font-weight: bold\">2024</span>-<span style=\"color: #008080; text-decoration-color: #008080; font-weight: bold\">12</span>-<span style=\"color: #008080; text-decoration-color: #008080; font-weight: bold\">19</span> <span style=\"color: #00ff00; text-decoration-color: #00ff00; font-weight: bold\">13:47:23</span>,<span style=\"color: #008080; text-decoration-color: #008080; font-weight: bold\">497</span> - DEBUG - open file:                              <a href=\"file:///Users/slegroux/miniforge3/envs/nimrod/lib/python3.11/site-packages/fsspec/implementations/local.py\" target=\"_blank\"><span style=\"color: #7f7f7f; text-decoration-color: #7f7f7f\">local.py</span></a><span style=\"color: #7f7f7f; text-decoration-color: #7f7f7f\">:</span><a href=\"file:///Users/slegroux/miniforge3/envs/nimrod/lib/python3.11/site-packages/fsspec/implementations/local.py#351\" target=\"_blank\"><span style=\"color: #7f7f7f; text-decoration-color: #7f7f7f\">351</span></a>\n",
       "<span style=\"color: #7fbfbf; text-decoration-color: #7fbfbf\">                    </span>         <span style=\"color: #800080; text-decoration-color: #800080\">/Users/slegroux/Projects/nimrod/nbs/logs/nnlm/version_25/</span><span style=\"color: #ff00ff; text-decoration-color: #ff00ff\">hparams.yaml</span>     <span style=\"color: #7f7f7f; text-decoration-color: #7f7f7f\">            </span>\n",
       "</pre>\n"
      ],
      "text/plain": [
       "\u001b[2;36m[12/19/24 13:47:23]\u001b[0m\u001b[2;36m \u001b[0m\u001b[32mDEBUG   \u001b[0m \u001b[1;36m2024\u001b[0m-\u001b[1;36m12\u001b[0m-\u001b[1;36m19\u001b[0m \u001b[1;92m13:47:23\u001b[0m,\u001b[1;36m497\u001b[0m - DEBUG - open file:                              \u001b]8;id=931987;file:///Users/slegroux/miniforge3/envs/nimrod/lib/python3.11/site-packages/fsspec/implementations/local.py\u001b\\\u001b[2mlocal.py\u001b[0m\u001b]8;;\u001b\\\u001b[2m:\u001b[0m\u001b]8;id=723545;file:///Users/slegroux/miniforge3/envs/nimrod/lib/python3.11/site-packages/fsspec/implementations/local.py#351\u001b\\\u001b[2m351\u001b[0m\u001b]8;;\u001b\\\n",
       "\u001b[2;36m                    \u001b[0m         \u001b[35m/Users/slegroux/Projects/nimrod/nbs/logs/nnlm/version_25/\u001b[0m\u001b[95mhparams.yaml\u001b[0m     \u001b[2m            \u001b[0m\n"
      ]
     },
     "metadata": {},
     "output_type": "display_data"
    },
    {
     "data": {
      "text/html": [
       "<pre style=\"white-space:pre;overflow-x:auto;line-height:normal;font-family:Menlo,'DejaVu Sans Mono',consolas,'Courier New',monospace\"><span style=\"color: #7fbfbf; text-decoration-color: #7fbfbf\">                    </span><span style=\"color: #008000; text-decoration-color: #008000\">DEBUG   </span> <span style=\"color: #008080; text-decoration-color: #008080; font-weight: bold\">2024</span>-<span style=\"color: #008080; text-decoration-color: #008080; font-weight: bold\">12</span>-<span style=\"color: #008080; text-decoration-color: #008080; font-weight: bold\">19</span> <span style=\"color: #00ff00; text-decoration-color: #00ff00; font-weight: bold\">13:47:23</span>,<span style=\"color: #008080; text-decoration-color: #008080; font-weight: bold\">500</span> - DEBUG - open file:                              <a href=\"file:///Users/slegroux/miniforge3/envs/nimrod/lib/python3.11/site-packages/fsspec/implementations/local.py\" target=\"_blank\"><span style=\"color: #7f7f7f; text-decoration-color: #7f7f7f\">local.py</span></a><span style=\"color: #7f7f7f; text-decoration-color: #7f7f7f\">:</span><a href=\"file:///Users/slegroux/miniforge3/envs/nimrod/lib/python3.11/site-packages/fsspec/implementations/local.py#351\" target=\"_blank\"><span style=\"color: #7f7f7f; text-decoration-color: #7f7f7f\">351</span></a>\n",
       "<span style=\"color: #7fbfbf; text-decoration-color: #7fbfbf\">                    </span>         <span style=\"color: #800080; text-decoration-color: #800080\">/Users/slegroux/Projects/nimrod/nbs/logs/nnlm/version_25/</span><span style=\"color: #ff00ff; text-decoration-color: #ff00ff\">metrics.csv</span>      <span style=\"color: #7f7f7f; text-decoration-color: #7f7f7f\">            </span>\n",
       "</pre>\n"
      ],
      "text/plain": [
       "\u001b[2;36m                   \u001b[0m\u001b[2;36m \u001b[0m\u001b[32mDEBUG   \u001b[0m \u001b[1;36m2024\u001b[0m-\u001b[1;36m12\u001b[0m-\u001b[1;36m19\u001b[0m \u001b[1;92m13:47:23\u001b[0m,\u001b[1;36m500\u001b[0m - DEBUG - open file:                              \u001b]8;id=197093;file:///Users/slegroux/miniforge3/envs/nimrod/lib/python3.11/site-packages/fsspec/implementations/local.py\u001b\\\u001b[2mlocal.py\u001b[0m\u001b]8;;\u001b\\\u001b[2m:\u001b[0m\u001b]8;id=796594;file:///Users/slegroux/miniforge3/envs/nimrod/lib/python3.11/site-packages/fsspec/implementations/local.py#351\u001b\\\u001b[2m351\u001b[0m\u001b]8;;\u001b\\\n",
       "\u001b[2;36m                    \u001b[0m         \u001b[35m/Users/slegroux/Projects/nimrod/nbs/logs/nnlm/version_25/\u001b[0m\u001b[95mmetrics.csv\u001b[0m      \u001b[2m            \u001b[0m\n"
      ]
     },
     "metadata": {},
     "output_type": "display_data"
    },
    {
     "data": {
      "text/html": [
       "<pre style=\"white-space:pre;overflow-x:auto;line-height:normal;font-family:Menlo,'DejaVu Sans Mono',consolas,'Courier New',monospace\"><span style=\"color: #7fbfbf; text-decoration-color: #7fbfbf\">[12/19/24 13:47:24] </span><span style=\"color: #008000; text-decoration-color: #008000\">DEBUG   </span> <span style=\"color: #008080; text-decoration-color: #008080; font-weight: bold\">2024</span>-<span style=\"color: #008080; text-decoration-color: #008080; font-weight: bold\">12</span>-<span style=\"color: #008080; text-decoration-color: #008080; font-weight: bold\">19</span> <span style=\"color: #00ff00; text-decoration-color: #00ff00; font-weight: bold\">13:47:24</span>,<span style=\"color: #008080; text-decoration-color: #008080; font-weight: bold\">891</span> - DEBUG - open file:                              <a href=\"file:///Users/slegroux/miniforge3/envs/nimrod/lib/python3.11/site-packages/fsspec/implementations/local.py\" target=\"_blank\"><span style=\"color: #7f7f7f; text-decoration-color: #7f7f7f\">local.py</span></a><span style=\"color: #7f7f7f; text-decoration-color: #7f7f7f\">:</span><a href=\"file:///Users/slegroux/miniforge3/envs/nimrod/lib/python3.11/site-packages/fsspec/implementations/local.py#351\" target=\"_blank\"><span style=\"color: #7f7f7f; text-decoration-color: #7f7f7f\">351</span></a>\n",
       "<span style=\"color: #7fbfbf; text-decoration-color: #7fbfbf\">                    </span>         <span style=\"color: #800080; text-decoration-color: #800080\">/Users/slegroux/Projects/nimrod/nbs/logs/nnlm/version_25/</span><span style=\"color: #ff00ff; text-decoration-color: #ff00ff\">hparams.yaml</span>     <span style=\"color: #7f7f7f; text-decoration-color: #7f7f7f\">            </span>\n",
       "</pre>\n"
      ],
      "text/plain": [
       "\u001b[2;36m[12/19/24 13:47:24]\u001b[0m\u001b[2;36m \u001b[0m\u001b[32mDEBUG   \u001b[0m \u001b[1;36m2024\u001b[0m-\u001b[1;36m12\u001b[0m-\u001b[1;36m19\u001b[0m \u001b[1;92m13:47:24\u001b[0m,\u001b[1;36m891\u001b[0m - DEBUG - open file:                              \u001b]8;id=901475;file:///Users/slegroux/miniforge3/envs/nimrod/lib/python3.11/site-packages/fsspec/implementations/local.py\u001b\\\u001b[2mlocal.py\u001b[0m\u001b]8;;\u001b\\\u001b[2m:\u001b[0m\u001b]8;id=808961;file:///Users/slegroux/miniforge3/envs/nimrod/lib/python3.11/site-packages/fsspec/implementations/local.py#351\u001b\\\u001b[2m351\u001b[0m\u001b]8;;\u001b\\\n",
       "\u001b[2;36m                    \u001b[0m         \u001b[35m/Users/slegroux/Projects/nimrod/nbs/logs/nnlm/version_25/\u001b[0m\u001b[95mhparams.yaml\u001b[0m     \u001b[2m            \u001b[0m\n"
      ]
     },
     "metadata": {},
     "output_type": "display_data"
    },
    {
     "data": {
      "text/html": [
       "<pre style=\"white-space:pre;overflow-x:auto;line-height:normal;font-family:Menlo,'DejaVu Sans Mono',consolas,'Courier New',monospace\"><span style=\"color: #7fbfbf; text-decoration-color: #7fbfbf\">                    </span><span style=\"color: #008000; text-decoration-color: #008000\">DEBUG   </span> <span style=\"color: #008080; text-decoration-color: #008080; font-weight: bold\">2024</span>-<span style=\"color: #008080; text-decoration-color: #008080; font-weight: bold\">12</span>-<span style=\"color: #008080; text-decoration-color: #008080; font-weight: bold\">19</span> <span style=\"color: #00ff00; text-decoration-color: #00ff00; font-weight: bold\">13:47:24</span>,<span style=\"color: #008080; text-decoration-color: #008080; font-weight: bold\">894</span> - DEBUG - open file:                              <a href=\"file:///Users/slegroux/miniforge3/envs/nimrod/lib/python3.11/site-packages/fsspec/implementations/local.py\" target=\"_blank\"><span style=\"color: #7f7f7f; text-decoration-color: #7f7f7f\">local.py</span></a><span style=\"color: #7f7f7f; text-decoration-color: #7f7f7f\">:</span><a href=\"file:///Users/slegroux/miniforge3/envs/nimrod/lib/python3.11/site-packages/fsspec/implementations/local.py#351\" target=\"_blank\"><span style=\"color: #7f7f7f; text-decoration-color: #7f7f7f\">351</span></a>\n",
       "<span style=\"color: #7fbfbf; text-decoration-color: #7fbfbf\">                    </span>         <span style=\"color: #800080; text-decoration-color: #800080\">/Users/slegroux/Projects/nimrod/nbs/logs/nnlm/version_25/</span><span style=\"color: #ff00ff; text-decoration-color: #ff00ff\">metrics.csv</span>      <span style=\"color: #7f7f7f; text-decoration-color: #7f7f7f\">            </span>\n",
       "</pre>\n"
      ],
      "text/plain": [
       "\u001b[2;36m                   \u001b[0m\u001b[2;36m \u001b[0m\u001b[32mDEBUG   \u001b[0m \u001b[1;36m2024\u001b[0m-\u001b[1;36m12\u001b[0m-\u001b[1;36m19\u001b[0m \u001b[1;92m13:47:24\u001b[0m,\u001b[1;36m894\u001b[0m - DEBUG - open file:                              \u001b]8;id=911890;file:///Users/slegroux/miniforge3/envs/nimrod/lib/python3.11/site-packages/fsspec/implementations/local.py\u001b\\\u001b[2mlocal.py\u001b[0m\u001b]8;;\u001b\\\u001b[2m:\u001b[0m\u001b]8;id=484082;file:///Users/slegroux/miniforge3/envs/nimrod/lib/python3.11/site-packages/fsspec/implementations/local.py#351\u001b\\\u001b[2m351\u001b[0m\u001b]8;;\u001b\\\n",
       "\u001b[2;36m                    \u001b[0m         \u001b[35m/Users/slegroux/Projects/nimrod/nbs/logs/nnlm/version_25/\u001b[0m\u001b[95mmetrics.csv\u001b[0m      \u001b[2m            \u001b[0m\n"
      ]
     },
     "metadata": {},
     "output_type": "display_data"
    },
    {
     "data": {
      "text/html": [
       "<pre style=\"white-space:pre;overflow-x:auto;line-height:normal;font-family:Menlo,'DejaVu Sans Mono',consolas,'Courier New',monospace\"><span style=\"color: #7fbfbf; text-decoration-color: #7fbfbf\">                    </span><span style=\"color: #008000; text-decoration-color: #008000\">DEBUG   </span> <span style=\"color: #008080; text-decoration-color: #008080; font-weight: bold\">2024</span>-<span style=\"color: #008080; text-decoration-color: #008080; font-weight: bold\">12</span>-<span style=\"color: #008080; text-decoration-color: #008080; font-weight: bold\">19</span> <span style=\"color: #00ff00; text-decoration-color: #00ff00; font-weight: bold\">13:47:24</span>,<span style=\"color: #008080; text-decoration-color: #008080; font-weight: bold\">895</span> - DEBUG - open file:                              <a href=\"file:///Users/slegroux/miniforge3/envs/nimrod/lib/python3.11/site-packages/fsspec/implementations/local.py\" target=\"_blank\"><span style=\"color: #7f7f7f; text-decoration-color: #7f7f7f\">local.py</span></a><span style=\"color: #7f7f7f; text-decoration-color: #7f7f7f\">:</span><a href=\"file:///Users/slegroux/miniforge3/envs/nimrod/lib/python3.11/site-packages/fsspec/implementations/local.py#351\" target=\"_blank\"><span style=\"color: #7f7f7f; text-decoration-color: #7f7f7f\">351</span></a>\n",
       "<span style=\"color: #7fbfbf; text-decoration-color: #7fbfbf\">                    </span>         <span style=\"color: #800080; text-decoration-color: #800080\">/Users/slegroux/Projects/nimrod/nbs/logs/nnlm/version_25/</span><span style=\"color: #ff00ff; text-decoration-color: #ff00ff\">hparams.yaml</span>     <span style=\"color: #7f7f7f; text-decoration-color: #7f7f7f\">            </span>\n",
       "</pre>\n"
      ],
      "text/plain": [
       "\u001b[2;36m                   \u001b[0m\u001b[2;36m \u001b[0m\u001b[32mDEBUG   \u001b[0m \u001b[1;36m2024\u001b[0m-\u001b[1;36m12\u001b[0m-\u001b[1;36m19\u001b[0m \u001b[1;92m13:47:24\u001b[0m,\u001b[1;36m895\u001b[0m - DEBUG - open file:                              \u001b]8;id=637047;file:///Users/slegroux/miniforge3/envs/nimrod/lib/python3.11/site-packages/fsspec/implementations/local.py\u001b\\\u001b[2mlocal.py\u001b[0m\u001b]8;;\u001b\\\u001b[2m:\u001b[0m\u001b]8;id=294582;file:///Users/slegroux/miniforge3/envs/nimrod/lib/python3.11/site-packages/fsspec/implementations/local.py#351\u001b\\\u001b[2m351\u001b[0m\u001b]8;;\u001b\\\n",
       "\u001b[2;36m                    \u001b[0m         \u001b[35m/Users/slegroux/Projects/nimrod/nbs/logs/nnlm/version_25/\u001b[0m\u001b[95mhparams.yaml\u001b[0m     \u001b[2m            \u001b[0m\n"
      ]
     },
     "metadata": {},
     "output_type": "display_data"
    },
    {
     "data": {
      "text/html": [
       "<pre style=\"white-space:pre;overflow-x:auto;line-height:normal;font-family:Menlo,'DejaVu Sans Mono',consolas,'Courier New',monospace\"><span style=\"color: #7fbfbf; text-decoration-color: #7fbfbf\">[12/19/24 13:47:26] </span><span style=\"color: #008000; text-decoration-color: #008000\">DEBUG   </span> <span style=\"color: #008080; text-decoration-color: #008080; font-weight: bold\">2024</span>-<span style=\"color: #008080; text-decoration-color: #008080; font-weight: bold\">12</span>-<span style=\"color: #008080; text-decoration-color: #008080; font-weight: bold\">19</span> <span style=\"color: #00ff00; text-decoration-color: #00ff00; font-weight: bold\">13:47:26</span>,<span style=\"color: #008080; text-decoration-color: #008080; font-weight: bold\">227</span> - DEBUG - open file:                              <a href=\"file:///Users/slegroux/miniforge3/envs/nimrod/lib/python3.11/site-packages/fsspec/implementations/local.py\" target=\"_blank\"><span style=\"color: #7f7f7f; text-decoration-color: #7f7f7f\">local.py</span></a><span style=\"color: #7f7f7f; text-decoration-color: #7f7f7f\">:</span><a href=\"file:///Users/slegroux/miniforge3/envs/nimrod/lib/python3.11/site-packages/fsspec/implementations/local.py#351\" target=\"_blank\"><span style=\"color: #7f7f7f; text-decoration-color: #7f7f7f\">351</span></a>\n",
       "<span style=\"color: #7fbfbf; text-decoration-color: #7fbfbf\">                    </span>         <span style=\"color: #800080; text-decoration-color: #800080\">/Users/slegroux/Projects/nimrod/nbs/logs/nnlm/version_25/</span><span style=\"color: #ff00ff; text-decoration-color: #ff00ff\">hparams.yaml</span>     <span style=\"color: #7f7f7f; text-decoration-color: #7f7f7f\">            </span>\n",
       "</pre>\n"
      ],
      "text/plain": [
       "\u001b[2;36m[12/19/24 13:47:26]\u001b[0m\u001b[2;36m \u001b[0m\u001b[32mDEBUG   \u001b[0m \u001b[1;36m2024\u001b[0m-\u001b[1;36m12\u001b[0m-\u001b[1;36m19\u001b[0m \u001b[1;92m13:47:26\u001b[0m,\u001b[1;36m227\u001b[0m - DEBUG - open file:                              \u001b]8;id=877970;file:///Users/slegroux/miniforge3/envs/nimrod/lib/python3.11/site-packages/fsspec/implementations/local.py\u001b\\\u001b[2mlocal.py\u001b[0m\u001b]8;;\u001b\\\u001b[2m:\u001b[0m\u001b]8;id=416182;file:///Users/slegroux/miniforge3/envs/nimrod/lib/python3.11/site-packages/fsspec/implementations/local.py#351\u001b\\\u001b[2m351\u001b[0m\u001b]8;;\u001b\\\n",
       "\u001b[2;36m                    \u001b[0m         \u001b[35m/Users/slegroux/Projects/nimrod/nbs/logs/nnlm/version_25/\u001b[0m\u001b[95mhparams.yaml\u001b[0m     \u001b[2m            \u001b[0m\n"
      ]
     },
     "metadata": {},
     "output_type": "display_data"
    },
    {
     "data": {
      "text/html": [
       "<pre style=\"white-space:pre;overflow-x:auto;line-height:normal;font-family:Menlo,'DejaVu Sans Mono',consolas,'Courier New',monospace\"><span style=\"color: #7fbfbf; text-decoration-color: #7fbfbf\">                    </span><span style=\"color: #008000; text-decoration-color: #008000\">DEBUG   </span> <span style=\"color: #008080; text-decoration-color: #008080; font-weight: bold\">2024</span>-<span style=\"color: #008080; text-decoration-color: #008080; font-weight: bold\">12</span>-<span style=\"color: #008080; text-decoration-color: #008080; font-weight: bold\">19</span> <span style=\"color: #00ff00; text-decoration-color: #00ff00; font-weight: bold\">13:47:26</span>,<span style=\"color: #008080; text-decoration-color: #008080; font-weight: bold\">229</span> - DEBUG - open file:                              <a href=\"file:///Users/slegroux/miniforge3/envs/nimrod/lib/python3.11/site-packages/fsspec/implementations/local.py\" target=\"_blank\"><span style=\"color: #7f7f7f; text-decoration-color: #7f7f7f\">local.py</span></a><span style=\"color: #7f7f7f; text-decoration-color: #7f7f7f\">:</span><a href=\"file:///Users/slegroux/miniforge3/envs/nimrod/lib/python3.11/site-packages/fsspec/implementations/local.py#351\" target=\"_blank\"><span style=\"color: #7f7f7f; text-decoration-color: #7f7f7f\">351</span></a>\n",
       "<span style=\"color: #7fbfbf; text-decoration-color: #7fbfbf\">                    </span>         <span style=\"color: #800080; text-decoration-color: #800080\">/Users/slegroux/Projects/nimrod/nbs/logs/nnlm/version_25/</span><span style=\"color: #ff00ff; text-decoration-color: #ff00ff\">metrics.csv</span>      <span style=\"color: #7f7f7f; text-decoration-color: #7f7f7f\">            </span>\n",
       "</pre>\n"
      ],
      "text/plain": [
       "\u001b[2;36m                   \u001b[0m\u001b[2;36m \u001b[0m\u001b[32mDEBUG   \u001b[0m \u001b[1;36m2024\u001b[0m-\u001b[1;36m12\u001b[0m-\u001b[1;36m19\u001b[0m \u001b[1;92m13:47:26\u001b[0m,\u001b[1;36m229\u001b[0m - DEBUG - open file:                              \u001b]8;id=903135;file:///Users/slegroux/miniforge3/envs/nimrod/lib/python3.11/site-packages/fsspec/implementations/local.py\u001b\\\u001b[2mlocal.py\u001b[0m\u001b]8;;\u001b\\\u001b[2m:\u001b[0m\u001b]8;id=750479;file:///Users/slegroux/miniforge3/envs/nimrod/lib/python3.11/site-packages/fsspec/implementations/local.py#351\u001b\\\u001b[2m351\u001b[0m\u001b]8;;\u001b\\\n",
       "\u001b[2;36m                    \u001b[0m         \u001b[35m/Users/slegroux/Projects/nimrod/nbs/logs/nnlm/version_25/\u001b[0m\u001b[95mmetrics.csv\u001b[0m      \u001b[2m            \u001b[0m\n"
      ]
     },
     "metadata": {},
     "output_type": "display_data"
    },
    {
     "data": {
      "application/vnd.jupyter.widget-view+json": {
       "model_id": "5837ae6fbeac4c47b2e08ece982c052b",
       "version_major": 2,
       "version_minor": 0
      },
      "text/plain": [
       "Validation: |          | 0/? [00:00<?, ?it/s]"
      ]
     },
     "metadata": {},
     "output_type": "display_data"
    },
    {
     "data": {
      "text/html": [
       "<pre style=\"white-space:pre;overflow-x:auto;line-height:normal;font-family:Menlo,'DejaVu Sans Mono',consolas,'Courier New',monospace\"><span style=\"color: #7fbfbf; text-decoration-color: #7fbfbf\">[12/19/24 13:47:28] </span><span style=\"color: #008000; text-decoration-color: #008000\">DEBUG   </span> <span style=\"color: #008080; text-decoration-color: #008080; font-weight: bold\">2024</span>-<span style=\"color: #008080; text-decoration-color: #008080; font-weight: bold\">12</span>-<span style=\"color: #008080; text-decoration-color: #008080; font-weight: bold\">19</span> <span style=\"color: #00ff00; text-decoration-color: #00ff00; font-weight: bold\">13:47:28</span>,<span style=\"color: #008080; text-decoration-color: #008080; font-weight: bold\">484</span> - DEBUG - open file:                              <a href=\"file:///Users/slegroux/miniforge3/envs/nimrod/lib/python3.11/site-packages/fsspec/implementations/local.py\" target=\"_blank\"><span style=\"color: #7f7f7f; text-decoration-color: #7f7f7f\">local.py</span></a><span style=\"color: #7f7f7f; text-decoration-color: #7f7f7f\">:</span><a href=\"file:///Users/slegroux/miniforge3/envs/nimrod/lib/python3.11/site-packages/fsspec/implementations/local.py#351\" target=\"_blank\"><span style=\"color: #7f7f7f; text-decoration-color: #7f7f7f\">351</span></a>\n",
       "<span style=\"color: #7fbfbf; text-decoration-color: #7fbfbf\">                    </span>         <span style=\"color: #800080; text-decoration-color: #800080\">/Users/slegroux/Projects/nimrod/nbs/logs/nnlm/version_25/</span><span style=\"color: #ff00ff; text-decoration-color: #ff00ff\">hparams.yaml</span>     <span style=\"color: #7f7f7f; text-decoration-color: #7f7f7f\">            </span>\n",
       "</pre>\n"
      ],
      "text/plain": [
       "\u001b[2;36m[12/19/24 13:47:28]\u001b[0m\u001b[2;36m \u001b[0m\u001b[32mDEBUG   \u001b[0m \u001b[1;36m2024\u001b[0m-\u001b[1;36m12\u001b[0m-\u001b[1;36m19\u001b[0m \u001b[1;92m13:47:28\u001b[0m,\u001b[1;36m484\u001b[0m - DEBUG - open file:                              \u001b]8;id=723540;file:///Users/slegroux/miniforge3/envs/nimrod/lib/python3.11/site-packages/fsspec/implementations/local.py\u001b\\\u001b[2mlocal.py\u001b[0m\u001b]8;;\u001b\\\u001b[2m:\u001b[0m\u001b]8;id=483616;file:///Users/slegroux/miniforge3/envs/nimrod/lib/python3.11/site-packages/fsspec/implementations/local.py#351\u001b\\\u001b[2m351\u001b[0m\u001b]8;;\u001b\\\n",
       "\u001b[2;36m                    \u001b[0m         \u001b[35m/Users/slegroux/Projects/nimrod/nbs/logs/nnlm/version_25/\u001b[0m\u001b[95mhparams.yaml\u001b[0m     \u001b[2m            \u001b[0m\n"
      ]
     },
     "metadata": {},
     "output_type": "display_data"
    },
    {
     "data": {
      "text/html": [
       "<pre style=\"white-space:pre;overflow-x:auto;line-height:normal;font-family:Menlo,'DejaVu Sans Mono',consolas,'Courier New',monospace\"><span style=\"color: #7fbfbf; text-decoration-color: #7fbfbf\">                    </span><span style=\"color: #008000; text-decoration-color: #008000\">DEBUG   </span> <span style=\"color: #008080; text-decoration-color: #008080; font-weight: bold\">2024</span>-<span style=\"color: #008080; text-decoration-color: #008080; font-weight: bold\">12</span>-<span style=\"color: #008080; text-decoration-color: #008080; font-weight: bold\">19</span> <span style=\"color: #00ff00; text-decoration-color: #00ff00; font-weight: bold\">13:47:28</span>,<span style=\"color: #008080; text-decoration-color: #008080; font-weight: bold\">485</span> - DEBUG - open file:                              <a href=\"file:///Users/slegroux/miniforge3/envs/nimrod/lib/python3.11/site-packages/fsspec/implementations/local.py\" target=\"_blank\"><span style=\"color: #7f7f7f; text-decoration-color: #7f7f7f\">local.py</span></a><span style=\"color: #7f7f7f; text-decoration-color: #7f7f7f\">:</span><a href=\"file:///Users/slegroux/miniforge3/envs/nimrod/lib/python3.11/site-packages/fsspec/implementations/local.py#351\" target=\"_blank\"><span style=\"color: #7f7f7f; text-decoration-color: #7f7f7f\">351</span></a>\n",
       "<span style=\"color: #7fbfbf; text-decoration-color: #7fbfbf\">                    </span>         <span style=\"color: #800080; text-decoration-color: #800080\">/Users/slegroux/Projects/nimrod/nbs/logs/nnlm/version_25/</span><span style=\"color: #ff00ff; text-decoration-color: #ff00ff\">metrics.csv</span>      <span style=\"color: #7f7f7f; text-decoration-color: #7f7f7f\">            </span>\n",
       "</pre>\n"
      ],
      "text/plain": [
       "\u001b[2;36m                   \u001b[0m\u001b[2;36m \u001b[0m\u001b[32mDEBUG   \u001b[0m \u001b[1;36m2024\u001b[0m-\u001b[1;36m12\u001b[0m-\u001b[1;36m19\u001b[0m \u001b[1;92m13:47:28\u001b[0m,\u001b[1;36m485\u001b[0m - DEBUG - open file:                              \u001b]8;id=778242;file:///Users/slegroux/miniforge3/envs/nimrod/lib/python3.11/site-packages/fsspec/implementations/local.py\u001b\\\u001b[2mlocal.py\u001b[0m\u001b]8;;\u001b\\\u001b[2m:\u001b[0m\u001b]8;id=714276;file:///Users/slegroux/miniforge3/envs/nimrod/lib/python3.11/site-packages/fsspec/implementations/local.py#351\u001b\\\u001b[2m351\u001b[0m\u001b]8;;\u001b\\\n",
       "\u001b[2;36m                    \u001b[0m         \u001b[35m/Users/slegroux/Projects/nimrod/nbs/logs/nnlm/version_25/\u001b[0m\u001b[95mmetrics.csv\u001b[0m      \u001b[2m            \u001b[0m\n"
      ]
     },
     "metadata": {},
     "output_type": "display_data"
    },
    {
     "data": {
      "text/html": [
       "<pre style=\"white-space:pre;overflow-x:auto;line-height:normal;font-family:Menlo,'DejaVu Sans Mono',consolas,'Courier New',monospace\"><span style=\"color: #7fbfbf; text-decoration-color: #7fbfbf\">                    </span><span style=\"color: #008000; text-decoration-color: #008000\">DEBUG   </span> <span style=\"color: #008080; text-decoration-color: #008080; font-weight: bold\">2024</span>-<span style=\"color: #008080; text-decoration-color: #008080; font-weight: bold\">12</span>-<span style=\"color: #008080; text-decoration-color: #008080; font-weight: bold\">19</span> <span style=\"color: #00ff00; text-decoration-color: #00ff00; font-weight: bold\">13:47:28</span>,<span style=\"color: #008080; text-decoration-color: #008080; font-weight: bold\">495</span> - DEBUG - open file:                              <a href=\"file:///Users/slegroux/miniforge3/envs/nimrod/lib/python3.11/site-packages/fsspec/implementations/local.py\" target=\"_blank\"><span style=\"color: #7f7f7f; text-decoration-color: #7f7f7f\">local.py</span></a><span style=\"color: #7f7f7f; text-decoration-color: #7f7f7f\">:</span><a href=\"file:///Users/slegroux/miniforge3/envs/nimrod/lib/python3.11/site-packages/fsspec/implementations/local.py#351\" target=\"_blank\"><span style=\"color: #7f7f7f; text-decoration-color: #7f7f7f\">351</span></a>\n",
       "<span style=\"color: #7fbfbf; text-decoration-color: #7fbfbf\">                    </span>         <span style=\"color: #800080; text-decoration-color: #800080\">/Users/slegroux/Projects/nimrod/nbs/logs/nnlm/version_25/checkpoints/</span><span style=\"color: #ff00ff; text-decoration-color: #ff00ff\">epoc</span> <span style=\"color: #7f7f7f; text-decoration-color: #7f7f7f\">            </span>\n",
       "<span style=\"color: #7fbfbf; text-decoration-color: #7fbfbf\">                    </span>         <span style=\"color: #ff00ff; text-decoration-color: #ff00ff\">h</span>=<span style=\"color: #008080; text-decoration-color: #008080; font-weight: bold\">4</span>-<span style=\"color: #808000; text-decoration-color: #808000\">step</span>=<span style=\"color: #008080; text-decoration-color: #008080; font-weight: bold\">2180.</span>ckpt                                                        <span style=\"color: #7f7f7f; text-decoration-color: #7f7f7f\">            </span>\n",
       "</pre>\n"
      ],
      "text/plain": [
       "\u001b[2;36m                   \u001b[0m\u001b[2;36m \u001b[0m\u001b[32mDEBUG   \u001b[0m \u001b[1;36m2024\u001b[0m-\u001b[1;36m12\u001b[0m-\u001b[1;36m19\u001b[0m \u001b[1;92m13:47:28\u001b[0m,\u001b[1;36m495\u001b[0m - DEBUG - open file:                              \u001b]8;id=819305;file:///Users/slegroux/miniforge3/envs/nimrod/lib/python3.11/site-packages/fsspec/implementations/local.py\u001b\\\u001b[2mlocal.py\u001b[0m\u001b]8;;\u001b\\\u001b[2m:\u001b[0m\u001b]8;id=27711;file:///Users/slegroux/miniforge3/envs/nimrod/lib/python3.11/site-packages/fsspec/implementations/local.py#351\u001b\\\u001b[2m351\u001b[0m\u001b]8;;\u001b\\\n",
       "\u001b[2;36m                    \u001b[0m         \u001b[35m/Users/slegroux/Projects/nimrod/nbs/logs/nnlm/version_25/checkpoints/\u001b[0m\u001b[95mepoc\u001b[0m \u001b[2m            \u001b[0m\n",
       "\u001b[2;36m                    \u001b[0m         \u001b[95mh\u001b[0m=\u001b[1;36m4\u001b[0m-\u001b[33mstep\u001b[0m=\u001b[1;36m2180\u001b[0m\u001b[1;36m.\u001b[0mckpt                                                        \u001b[2m            \u001b[0m\n"
      ]
     },
     "metadata": {},
     "output_type": "display_data"
    },
    {
     "data": {
      "text/html": [
       "<pre style=\"white-space:pre;overflow-x:auto;line-height:normal;font-family:Menlo,'DejaVu Sans Mono',consolas,'Courier New',monospace\"><span style=\"color: #7fbfbf; text-decoration-color: #7fbfbf\">                    </span><span style=\"color: #008000; text-decoration-color: #008000\">DEBUG   </span> <span style=\"color: #008080; text-decoration-color: #008080; font-weight: bold\">2024</span>-<span style=\"color: #008080; text-decoration-color: #008080; font-weight: bold\">12</span>-<span style=\"color: #008080; text-decoration-color: #008080; font-weight: bold\">19</span> <span style=\"color: #00ff00; text-decoration-color: #00ff00; font-weight: bold\">13:47:28</span>,<span style=\"color: #008080; text-decoration-color: #008080; font-weight: bold\">510</span> - DEBUG - open file:                              <a href=\"file:///Users/slegroux/miniforge3/envs/nimrod/lib/python3.11/site-packages/fsspec/implementations/local.py\" target=\"_blank\"><span style=\"color: #7f7f7f; text-decoration-color: #7f7f7f\">local.py</span></a><span style=\"color: #7f7f7f; text-decoration-color: #7f7f7f\">:</span><a href=\"file:///Users/slegroux/miniforge3/envs/nimrod/lib/python3.11/site-packages/fsspec/implementations/local.py#351\" target=\"_blank\"><span style=\"color: #7f7f7f; text-decoration-color: #7f7f7f\">351</span></a>\n",
       "<span style=\"color: #7fbfbf; text-decoration-color: #7fbfbf\">                    </span>         <span style=\"color: #800080; text-decoration-color: #800080\">/Users/slegroux/Projects/nimrod/nbs/logs/nnlm/version_25/</span><span style=\"color: #ff00ff; text-decoration-color: #ff00ff\">hparams.yaml</span>     <span style=\"color: #7f7f7f; text-decoration-color: #7f7f7f\">            </span>\n",
       "</pre>\n"
      ],
      "text/plain": [
       "\u001b[2;36m                   \u001b[0m\u001b[2;36m \u001b[0m\u001b[32mDEBUG   \u001b[0m \u001b[1;36m2024\u001b[0m-\u001b[1;36m12\u001b[0m-\u001b[1;36m19\u001b[0m \u001b[1;92m13:47:28\u001b[0m,\u001b[1;36m510\u001b[0m - DEBUG - open file:                              \u001b]8;id=68892;file:///Users/slegroux/miniforge3/envs/nimrod/lib/python3.11/site-packages/fsspec/implementations/local.py\u001b\\\u001b[2mlocal.py\u001b[0m\u001b]8;;\u001b\\\u001b[2m:\u001b[0m\u001b]8;id=287675;file:///Users/slegroux/miniforge3/envs/nimrod/lib/python3.11/site-packages/fsspec/implementations/local.py#351\u001b\\\u001b[2m351\u001b[0m\u001b]8;;\u001b\\\n",
       "\u001b[2;36m                    \u001b[0m         \u001b[35m/Users/slegroux/Projects/nimrod/nbs/logs/nnlm/version_25/\u001b[0m\u001b[95mhparams.yaml\u001b[0m     \u001b[2m            \u001b[0m\n"
      ]
     },
     "metadata": {},
     "output_type": "display_data"
    },
    {
     "data": {
      "text/html": [
       "<pre style=\"white-space:pre;overflow-x:auto;line-height:normal;font-family:Menlo,'DejaVu Sans Mono',consolas,'Courier New',monospace\"><span style=\"color: #7fbfbf; text-decoration-color: #7fbfbf\">                    </span><span style=\"color: #008000; text-decoration-color: #008000\">DEBUG   </span> <span style=\"color: #008080; text-decoration-color: #008080; font-weight: bold\">2024</span>-<span style=\"color: #008080; text-decoration-color: #008080; font-weight: bold\">12</span>-<span style=\"color: #008080; text-decoration-color: #008080; font-weight: bold\">19</span> <span style=\"color: #00ff00; text-decoration-color: #00ff00; font-weight: bold\">13:47:28</span>,<span style=\"color: #008080; text-decoration-color: #008080; font-weight: bold\">515</span> - DEBUG - open file:                              <a href=\"file:///Users/slegroux/miniforge3/envs/nimrod/lib/python3.11/site-packages/fsspec/implementations/local.py\" target=\"_blank\"><span style=\"color: #7f7f7f; text-decoration-color: #7f7f7f\">local.py</span></a><span style=\"color: #7f7f7f; text-decoration-color: #7f7f7f\">:</span><a href=\"file:///Users/slegroux/miniforge3/envs/nimrod/lib/python3.11/site-packages/fsspec/implementations/local.py#351\" target=\"_blank\"><span style=\"color: #7f7f7f; text-decoration-color: #7f7f7f\">351</span></a>\n",
       "<span style=\"color: #7fbfbf; text-decoration-color: #7fbfbf\">                    </span>         <span style=\"color: #800080; text-decoration-color: #800080\">/Users/slegroux/Projects/nimrod/nbs/logs/nnlm/version_25/</span><span style=\"color: #ff00ff; text-decoration-color: #ff00ff\">metrics.csv</span>      <span style=\"color: #7f7f7f; text-decoration-color: #7f7f7f\">            </span>\n",
       "</pre>\n"
      ],
      "text/plain": [
       "\u001b[2;36m                   \u001b[0m\u001b[2;36m \u001b[0m\u001b[32mDEBUG   \u001b[0m \u001b[1;36m2024\u001b[0m-\u001b[1;36m12\u001b[0m-\u001b[1;36m19\u001b[0m \u001b[1;92m13:47:28\u001b[0m,\u001b[1;36m515\u001b[0m - DEBUG - open file:                              \u001b]8;id=207513;file:///Users/slegroux/miniforge3/envs/nimrod/lib/python3.11/site-packages/fsspec/implementations/local.py\u001b\\\u001b[2mlocal.py\u001b[0m\u001b]8;;\u001b\\\u001b[2m:\u001b[0m\u001b]8;id=261774;file:///Users/slegroux/miniforge3/envs/nimrod/lib/python3.11/site-packages/fsspec/implementations/local.py#351\u001b\\\u001b[2m351\u001b[0m\u001b]8;;\u001b\\\n",
       "\u001b[2;36m                    \u001b[0m         \u001b[35m/Users/slegroux/Projects/nimrod/nbs/logs/nnlm/version_25/\u001b[0m\u001b[95mmetrics.csv\u001b[0m      \u001b[2m            \u001b[0m\n"
      ]
     },
     "metadata": {},
     "output_type": "display_data"
    },
    {
     "name": "stderr",
     "output_type": "stream",
     "text": [
      "`Trainer.fit` stopped: `max_epochs=5` reached.\n"
     ]
    },
    {
     "data": {
      "text/html": [
       "<pre style=\"white-space:pre;overflow-x:auto;line-height:normal;font-family:Menlo,'DejaVu Sans Mono',consolas,'Courier New',monospace\"><span style=\"color: #7fbfbf; text-decoration-color: #7fbfbf\">                    </span><span style=\"color: #008000; text-decoration-color: #008000\">DEBUG   </span> <span style=\"color: #008080; text-decoration-color: #008080; font-weight: bold\">2024</span>-<span style=\"color: #008080; text-decoration-color: #008080; font-weight: bold\">12</span>-<span style=\"color: #008080; text-decoration-color: #008080; font-weight: bold\">19</span> <span style=\"color: #00ff00; text-decoration-color: #00ff00; font-weight: bold\">13:47:28</span>,<span style=\"color: #008080; text-decoration-color: #008080; font-weight: bold\">547</span> - DEBUG - open file:                              <a href=\"file:///Users/slegroux/miniforge3/envs/nimrod/lib/python3.11/site-packages/fsspec/implementations/local.py\" target=\"_blank\"><span style=\"color: #7f7f7f; text-decoration-color: #7f7f7f\">local.py</span></a><span style=\"color: #7f7f7f; text-decoration-color: #7f7f7f\">:</span><a href=\"file:///Users/slegroux/miniforge3/envs/nimrod/lib/python3.11/site-packages/fsspec/implementations/local.py#351\" target=\"_blank\"><span style=\"color: #7f7f7f; text-decoration-color: #7f7f7f\">351</span></a>\n",
       "<span style=\"color: #7fbfbf; text-decoration-color: #7fbfbf\">                    </span>         <span style=\"color: #800080; text-decoration-color: #800080\">/Users/slegroux/Projects/nimrod/nbs/logs/nnlm/version_25/</span><span style=\"color: #ff00ff; text-decoration-color: #ff00ff\">hparams.yaml</span>     <span style=\"color: #7f7f7f; text-decoration-color: #7f7f7f\">            </span>\n",
       "</pre>\n"
      ],
      "text/plain": [
       "\u001b[2;36m                   \u001b[0m\u001b[2;36m \u001b[0m\u001b[32mDEBUG   \u001b[0m \u001b[1;36m2024\u001b[0m-\u001b[1;36m12\u001b[0m-\u001b[1;36m19\u001b[0m \u001b[1;92m13:47:28\u001b[0m,\u001b[1;36m547\u001b[0m - DEBUG - open file:                              \u001b]8;id=885396;file:///Users/slegroux/miniforge3/envs/nimrod/lib/python3.11/site-packages/fsspec/implementations/local.py\u001b\\\u001b[2mlocal.py\u001b[0m\u001b]8;;\u001b\\\u001b[2m:\u001b[0m\u001b]8;id=32108;file:///Users/slegroux/miniforge3/envs/nimrod/lib/python3.11/site-packages/fsspec/implementations/local.py#351\u001b\\\u001b[2m351\u001b[0m\u001b]8;;\u001b\\\n",
       "\u001b[2;36m                    \u001b[0m         \u001b[35m/Users/slegroux/Projects/nimrod/nbs/logs/nnlm/version_25/\u001b[0m\u001b[95mhparams.yaml\u001b[0m     \u001b[2m            \u001b[0m\n"
      ]
     },
     "metadata": {},
     "output_type": "display_data"
    },
    {
     "data": {
      "text/html": [
       "<pre style=\"white-space:pre;overflow-x:auto;line-height:normal;font-family:Menlo,'DejaVu Sans Mono',consolas,'Courier New',monospace\"><span style=\"color: #7fbfbf; text-decoration-color: #7fbfbf\">                    </span><span style=\"color: #008000; text-decoration-color: #008000\">DEBUG   </span> <span style=\"color: #008080; text-decoration-color: #008080; font-weight: bold\">2024</span>-<span style=\"color: #008080; text-decoration-color: #008080; font-weight: bold\">12</span>-<span style=\"color: #008080; text-decoration-color: #008080; font-weight: bold\">19</span> <span style=\"color: #00ff00; text-decoration-color: #00ff00; font-weight: bold\">13:47:28</span>,<span style=\"color: #008080; text-decoration-color: #008080; font-weight: bold\">559</span> - DEBUG - open file:                              <a href=\"file:///Users/slegroux/miniforge3/envs/nimrod/lib/python3.11/site-packages/fsspec/implementations/local.py\" target=\"_blank\"><span style=\"color: #7f7f7f; text-decoration-color: #7f7f7f\">local.py</span></a><span style=\"color: #7f7f7f; text-decoration-color: #7f7f7f\">:</span><a href=\"file:///Users/slegroux/miniforge3/envs/nimrod/lib/python3.11/site-packages/fsspec/implementations/local.py#351\" target=\"_blank\"><span style=\"color: #7f7f7f; text-decoration-color: #7f7f7f\">351</span></a>\n",
       "<span style=\"color: #7fbfbf; text-decoration-color: #7fbfbf\">                    </span>         <span style=\"color: #800080; text-decoration-color: #800080\">/Users/slegroux/Projects/nimrod/nbs/logs/nnlm/version_25/</span><span style=\"color: #ff00ff; text-decoration-color: #ff00ff\">hparams.yaml</span>     <span style=\"color: #7f7f7f; text-decoration-color: #7f7f7f\">            </span>\n",
       "</pre>\n"
      ],
      "text/plain": [
       "\u001b[2;36m                   \u001b[0m\u001b[2;36m \u001b[0m\u001b[32mDEBUG   \u001b[0m \u001b[1;36m2024\u001b[0m-\u001b[1;36m12\u001b[0m-\u001b[1;36m19\u001b[0m \u001b[1;92m13:47:28\u001b[0m,\u001b[1;36m559\u001b[0m - DEBUG - open file:                              \u001b]8;id=932763;file:///Users/slegroux/miniforge3/envs/nimrod/lib/python3.11/site-packages/fsspec/implementations/local.py\u001b\\\u001b[2mlocal.py\u001b[0m\u001b]8;;\u001b\\\u001b[2m:\u001b[0m\u001b]8;id=560481;file:///Users/slegroux/miniforge3/envs/nimrod/lib/python3.11/site-packages/fsspec/implementations/local.py#351\u001b\\\u001b[2m351\u001b[0m\u001b]8;;\u001b\\\n",
       "\u001b[2;36m                    \u001b[0m         \u001b[35m/Users/slegroux/Projects/nimrod/nbs/logs/nnlm/version_25/\u001b[0m\u001b[95mhparams.yaml\u001b[0m     \u001b[2m            \u001b[0m\n"
      ]
     },
     "metadata": {},
     "output_type": "display_data"
    },
    {
     "name": "stderr",
     "output_type": "stream",
     "text": [
      "/Users/slegroux/miniforge3/envs/nimrod/lib/python3.11/site-packages/lightning/pytorch/trainer/connectors/data_connector.py:424: The 'test_dataloader' does not have many workers which may be a bottleneck. Consider increasing the value of the `num_workers` argument` to `num_workers=11` in the `DataLoader` to improve performance.\n"
     ]
    },
    {
     "data": {
      "application/vnd.jupyter.widget-view+json": {
       "model_id": "63d587a21f024c98a1048c3f4fadde5a",
       "version_major": 2,
       "version_minor": 0
      },
      "text/plain": [
       "Testing: |          | 0/? [00:00<?, ?it/s]"
      ]
     },
     "metadata": {},
     "output_type": "display_data"
    },
    {
     "data": {
      "text/html": [
       "<pre style=\"white-space:pre;overflow-x:auto;line-height:normal;font-family:Menlo,'DejaVu Sans Mono',consolas,'Courier New',monospace\"><span style=\"color: #7fbfbf; text-decoration-color: #7fbfbf\">[12/19/24 13:47:29] </span><span style=\"color: #008000; text-decoration-color: #008000\">DEBUG   </span> <span style=\"color: #008080; text-decoration-color: #008080; font-weight: bold\">2024</span>-<span style=\"color: #008080; text-decoration-color: #008080; font-weight: bold\">12</span>-<span style=\"color: #008080; text-decoration-color: #008080; font-weight: bold\">19</span> <span style=\"color: #00ff00; text-decoration-color: #00ff00; font-weight: bold\">13:47:29</span>,<span style=\"color: #008080; text-decoration-color: #008080; font-weight: bold\">692</span> - DEBUG - open file:                              <a href=\"file:///Users/slegroux/miniforge3/envs/nimrod/lib/python3.11/site-packages/fsspec/implementations/local.py\" target=\"_blank\"><span style=\"color: #7f7f7f; text-decoration-color: #7f7f7f\">local.py</span></a><span style=\"color: #7f7f7f; text-decoration-color: #7f7f7f\">:</span><a href=\"file:///Users/slegroux/miniforge3/envs/nimrod/lib/python3.11/site-packages/fsspec/implementations/local.py#351\" target=\"_blank\"><span style=\"color: #7f7f7f; text-decoration-color: #7f7f7f\">351</span></a>\n",
       "<span style=\"color: #7fbfbf; text-decoration-color: #7fbfbf\">                    </span>         <span style=\"color: #800080; text-decoration-color: #800080\">/Users/slegroux/Projects/nimrod/nbs/logs/nnlm/version_25/</span><span style=\"color: #ff00ff; text-decoration-color: #ff00ff\">hparams.yaml</span>     <span style=\"color: #7f7f7f; text-decoration-color: #7f7f7f\">            </span>\n",
       "</pre>\n"
      ],
      "text/plain": [
       "\u001b[2;36m[12/19/24 13:47:29]\u001b[0m\u001b[2;36m \u001b[0m\u001b[32mDEBUG   \u001b[0m \u001b[1;36m2024\u001b[0m-\u001b[1;36m12\u001b[0m-\u001b[1;36m19\u001b[0m \u001b[1;92m13:47:29\u001b[0m,\u001b[1;36m692\u001b[0m - DEBUG - open file:                              \u001b]8;id=924513;file:///Users/slegroux/miniforge3/envs/nimrod/lib/python3.11/site-packages/fsspec/implementations/local.py\u001b\\\u001b[2mlocal.py\u001b[0m\u001b]8;;\u001b\\\u001b[2m:\u001b[0m\u001b]8;id=729646;file:///Users/slegroux/miniforge3/envs/nimrod/lib/python3.11/site-packages/fsspec/implementations/local.py#351\u001b\\\u001b[2m351\u001b[0m\u001b]8;;\u001b\\\n",
       "\u001b[2;36m                    \u001b[0m         \u001b[35m/Users/slegroux/Projects/nimrod/nbs/logs/nnlm/version_25/\u001b[0m\u001b[95mhparams.yaml\u001b[0m     \u001b[2m            \u001b[0m\n"
      ]
     },
     "metadata": {},
     "output_type": "display_data"
    },
    {
     "data": {
      "text/html": [
       "<pre style=\"white-space:pre;overflow-x:auto;line-height:normal;font-family:Menlo,'DejaVu Sans Mono',consolas,'Courier New',monospace\"><span style=\"color: #7fbfbf; text-decoration-color: #7fbfbf\">                    </span><span style=\"color: #008000; text-decoration-color: #008000\">DEBUG   </span> <span style=\"color: #008080; text-decoration-color: #008080; font-weight: bold\">2024</span>-<span style=\"color: #008080; text-decoration-color: #008080; font-weight: bold\">12</span>-<span style=\"color: #008080; text-decoration-color: #008080; font-weight: bold\">19</span> <span style=\"color: #00ff00; text-decoration-color: #00ff00; font-weight: bold\">13:47:29</span>,<span style=\"color: #008080; text-decoration-color: #008080; font-weight: bold\">696</span> - DEBUG - open file:                              <a href=\"file:///Users/slegroux/miniforge3/envs/nimrod/lib/python3.11/site-packages/fsspec/implementations/local.py\" target=\"_blank\"><span style=\"color: #7f7f7f; text-decoration-color: #7f7f7f\">local.py</span></a><span style=\"color: #7f7f7f; text-decoration-color: #7f7f7f\">:</span><a href=\"file:///Users/slegroux/miniforge3/envs/nimrod/lib/python3.11/site-packages/fsspec/implementations/local.py#351\" target=\"_blank\"><span style=\"color: #7f7f7f; text-decoration-color: #7f7f7f\">351</span></a>\n",
       "<span style=\"color: #7fbfbf; text-decoration-color: #7fbfbf\">                    </span>         <span style=\"color: #800080; text-decoration-color: #800080\">/Users/slegroux/Projects/nimrod/nbs/logs/nnlm/version_25/</span><span style=\"color: #ff00ff; text-decoration-color: #ff00ff\">metrics.csv</span>      <span style=\"color: #7f7f7f; text-decoration-color: #7f7f7f\">            </span>\n",
       "</pre>\n"
      ],
      "text/plain": [
       "\u001b[2;36m                   \u001b[0m\u001b[2;36m \u001b[0m\u001b[32mDEBUG   \u001b[0m \u001b[1;36m2024\u001b[0m-\u001b[1;36m12\u001b[0m-\u001b[1;36m19\u001b[0m \u001b[1;92m13:47:29\u001b[0m,\u001b[1;36m696\u001b[0m - DEBUG - open file:                              \u001b]8;id=202058;file:///Users/slegroux/miniforge3/envs/nimrod/lib/python3.11/site-packages/fsspec/implementations/local.py\u001b\\\u001b[2mlocal.py\u001b[0m\u001b]8;;\u001b\\\u001b[2m:\u001b[0m\u001b]8;id=653316;file:///Users/slegroux/miniforge3/envs/nimrod/lib/python3.11/site-packages/fsspec/implementations/local.py#351\u001b\\\u001b[2m351\u001b[0m\u001b]8;;\u001b\\\n",
       "\u001b[2;36m                    \u001b[0m         \u001b[35m/Users/slegroux/Projects/nimrod/nbs/logs/nnlm/version_25/\u001b[0m\u001b[95mmetrics.csv\u001b[0m      \u001b[2m            \u001b[0m\n"
      ]
     },
     "metadata": {},
     "output_type": "display_data"
    },
    {
     "data": {
      "text/html": [
       "<pre style=\"white-space:pre;overflow-x:auto;line-height:normal;font-family:Menlo,'DejaVu Sans Mono',consolas,'Courier New',monospace\"><span style=\"color: #7fbfbf; text-decoration-color: #7fbfbf\">                    </span><span style=\"color: #008000; text-decoration-color: #008000\">DEBUG   </span> <span style=\"color: #008080; text-decoration-color: #008080; font-weight: bold\">2024</span>-<span style=\"color: #008080; text-decoration-color: #008080; font-weight: bold\">12</span>-<span style=\"color: #008080; text-decoration-color: #008080; font-weight: bold\">19</span> <span style=\"color: #00ff00; text-decoration-color: #00ff00; font-weight: bold\">13:47:29</span>,<span style=\"color: #008080; text-decoration-color: #008080; font-weight: bold\">698</span> - DEBUG - open file:                              <a href=\"file:///Users/slegroux/miniforge3/envs/nimrod/lib/python3.11/site-packages/fsspec/implementations/local.py\" target=\"_blank\"><span style=\"color: #7f7f7f; text-decoration-color: #7f7f7f\">local.py</span></a><span style=\"color: #7f7f7f; text-decoration-color: #7f7f7f\">:</span><a href=\"file:///Users/slegroux/miniforge3/envs/nimrod/lib/python3.11/site-packages/fsspec/implementations/local.py#351\" target=\"_blank\"><span style=\"color: #7f7f7f; text-decoration-color: #7f7f7f\">351</span></a>\n",
       "<span style=\"color: #7fbfbf; text-decoration-color: #7fbfbf\">                    </span>         <span style=\"color: #800080; text-decoration-color: #800080\">/Users/slegroux/Projects/nimrod/nbs/logs/nnlm/version_25/</span><span style=\"color: #ff00ff; text-decoration-color: #ff00ff\">metrics.csv</span>      <span style=\"color: #7f7f7f; text-decoration-color: #7f7f7f\">            </span>\n",
       "</pre>\n"
      ],
      "text/plain": [
       "\u001b[2;36m                   \u001b[0m\u001b[2;36m \u001b[0m\u001b[32mDEBUG   \u001b[0m \u001b[1;36m2024\u001b[0m-\u001b[1;36m12\u001b[0m-\u001b[1;36m19\u001b[0m \u001b[1;92m13:47:29\u001b[0m,\u001b[1;36m698\u001b[0m - DEBUG - open file:                              \u001b]8;id=490859;file:///Users/slegroux/miniforge3/envs/nimrod/lib/python3.11/site-packages/fsspec/implementations/local.py\u001b\\\u001b[2mlocal.py\u001b[0m\u001b]8;;\u001b\\\u001b[2m:\u001b[0m\u001b]8;id=351329;file:///Users/slegroux/miniforge3/envs/nimrod/lib/python3.11/site-packages/fsspec/implementations/local.py#351\u001b\\\u001b[2m351\u001b[0m\u001b]8;;\u001b\\\n",
       "\u001b[2;36m                    \u001b[0m         \u001b[35m/Users/slegroux/Projects/nimrod/nbs/logs/nnlm/version_25/\u001b[0m\u001b[95mmetrics.csv\u001b[0m      \u001b[2m            \u001b[0m\n"
      ]
     },
     "metadata": {},
     "output_type": "display_data"
    },
    {
     "data": {
      "text/html": [
       "<pre style=\"white-space:pre;overflow-x:auto;line-height:normal;font-family:Menlo,'DejaVu Sans Mono',consolas,'Courier New',monospace\"><span style=\"color: #7fbfbf; text-decoration-color: #7fbfbf\">                    </span><span style=\"color: #008000; text-decoration-color: #008000\">DEBUG   </span> <span style=\"color: #008080; text-decoration-color: #008080; font-weight: bold\">2024</span>-<span style=\"color: #008080; text-decoration-color: #008080; font-weight: bold\">12</span>-<span style=\"color: #008080; text-decoration-color: #008080; font-weight: bold\">19</span> <span style=\"color: #00ff00; text-decoration-color: #00ff00; font-weight: bold\">13:47:29</span>,<span style=\"color: #008080; text-decoration-color: #008080; font-weight: bold\">701</span> - DEBUG - open file:                              <a href=\"file:///Users/slegroux/miniforge3/envs/nimrod/lib/python3.11/site-packages/fsspec/implementations/local.py\" target=\"_blank\"><span style=\"color: #7f7f7f; text-decoration-color: #7f7f7f\">local.py</span></a><span style=\"color: #7f7f7f; text-decoration-color: #7f7f7f\">:</span><a href=\"file:///Users/slegroux/miniforge3/envs/nimrod/lib/python3.11/site-packages/fsspec/implementations/local.py#351\" target=\"_blank\"><span style=\"color: #7f7f7f; text-decoration-color: #7f7f7f\">351</span></a>\n",
       "<span style=\"color: #7fbfbf; text-decoration-color: #7fbfbf\">                    </span>         <span style=\"color: #800080; text-decoration-color: #800080\">/Users/slegroux/Projects/nimrod/nbs/logs/nnlm/version_25/</span><span style=\"color: #ff00ff; text-decoration-color: #ff00ff\">metrics.csv</span>      <span style=\"color: #7f7f7f; text-decoration-color: #7f7f7f\">            </span>\n",
       "</pre>\n"
      ],
      "text/plain": [
       "\u001b[2;36m                   \u001b[0m\u001b[2;36m \u001b[0m\u001b[32mDEBUG   \u001b[0m \u001b[1;36m2024\u001b[0m-\u001b[1;36m12\u001b[0m-\u001b[1;36m19\u001b[0m \u001b[1;92m13:47:29\u001b[0m,\u001b[1;36m701\u001b[0m - DEBUG - open file:                              \u001b]8;id=605835;file:///Users/slegroux/miniforge3/envs/nimrod/lib/python3.11/site-packages/fsspec/implementations/local.py\u001b\\\u001b[2mlocal.py\u001b[0m\u001b]8;;\u001b\\\u001b[2m:\u001b[0m\u001b]8;id=516830;file:///Users/slegroux/miniforge3/envs/nimrod/lib/python3.11/site-packages/fsspec/implementations/local.py#351\u001b\\\u001b[2m351\u001b[0m\u001b]8;;\u001b\\\n",
       "\u001b[2;36m                    \u001b[0m         \u001b[35m/Users/slegroux/Projects/nimrod/nbs/logs/nnlm/version_25/\u001b[0m\u001b[95mmetrics.csv\u001b[0m      \u001b[2m            \u001b[0m\n"
      ]
     },
     "metadata": {},
     "output_type": "display_data"
    },
    {
     "data": {
      "text/html": [
       "<pre style=\"white-space:pre;overflow-x:auto;line-height:normal;font-family:Menlo,'DejaVu Sans Mono',consolas,'Courier New',monospace\">┏━━━━━━━━━━━━━━━━━━━━━━━━━━━┳━━━━━━━━━━━━━━━━━━━━━━━━━━━┓\n",
       "┃<span style=\"font-weight: bold\">        Test metric        </span>┃<span style=\"font-weight: bold\">       DataLoader 0        </span>┃\n",
       "┡━━━━━━━━━━━━━━━━━━━━━━━━━━━╇━━━━━━━━━━━━━━━━━━━━━━━━━━━┩\n",
       "│<span style=\"color: #008080; text-decoration-color: #008080\">         test/acc          </span>│<span style=\"color: #800080; text-decoration-color: #800080\">    0.4032992720603943     </span>│\n",
       "│<span style=\"color: #008080; text-decoration-color: #008080\">         test/loss         </span>│<span style=\"color: #800080; text-decoration-color: #800080\">    2.0505902767181396     </span>│\n",
       "└───────────────────────────┴───────────────────────────┘\n",
       "</pre>\n"
      ],
      "text/plain": [
       "┏━━━━━━━━━━━━━━━━━━━━━━━━━━━┳━━━━━━━━━━━━━━━━━━━━━━━━━━━┓\n",
       "┃\u001b[1m \u001b[0m\u001b[1m       Test metric       \u001b[0m\u001b[1m \u001b[0m┃\u001b[1m \u001b[0m\u001b[1m      DataLoader 0       \u001b[0m\u001b[1m \u001b[0m┃\n",
       "┡━━━━━━━━━━━━━━━━━━━━━━━━━━━╇━━━━━━━━━━━━━━━━━━━━━━━━━━━┩\n",
       "│\u001b[36m \u001b[0m\u001b[36m        test/acc         \u001b[0m\u001b[36m \u001b[0m│\u001b[35m \u001b[0m\u001b[35m   0.4032992720603943    \u001b[0m\u001b[35m \u001b[0m│\n",
       "│\u001b[36m \u001b[0m\u001b[36m        test/loss        \u001b[0m\u001b[36m \u001b[0m│\u001b[35m \u001b[0m\u001b[35m   2.0505902767181396    \u001b[0m\u001b[35m \u001b[0m│\n",
       "└───────────────────────────┴───────────────────────────┘\n"
      ]
     },
     "metadata": {},
     "output_type": "display_data"
    },
    {
     "data": {
      "text/html": [
       "<pre style=\"white-space:pre;overflow-x:auto;line-height:normal;font-family:Menlo,'DejaVu Sans Mono',consolas,'Courier New',monospace\"><span style=\"color: #7fbfbf; text-decoration-color: #7fbfbf\">                    </span><span style=\"color: #008000; text-decoration-color: #008000\">DEBUG   </span> <span style=\"color: #008080; text-decoration-color: #008080; font-weight: bold\">2024</span>-<span style=\"color: #008080; text-decoration-color: #008080; font-weight: bold\">12</span>-<span style=\"color: #008080; text-decoration-color: #008080; font-weight: bold\">19</span> <span style=\"color: #00ff00; text-decoration-color: #00ff00; font-weight: bold\">13:47:29</span>,<span style=\"color: #008080; text-decoration-color: #008080; font-weight: bold\">715</span> - DEBUG - open file:                              <a href=\"file:///Users/slegroux/miniforge3/envs/nimrod/lib/python3.11/site-packages/fsspec/implementations/local.py\" target=\"_blank\"><span style=\"color: #7f7f7f; text-decoration-color: #7f7f7f\">local.py</span></a><span style=\"color: #7f7f7f; text-decoration-color: #7f7f7f\">:</span><a href=\"file:///Users/slegroux/miniforge3/envs/nimrod/lib/python3.11/site-packages/fsspec/implementations/local.py#351\" target=\"_blank\"><span style=\"color: #7f7f7f; text-decoration-color: #7f7f7f\">351</span></a>\n",
       "<span style=\"color: #7fbfbf; text-decoration-color: #7fbfbf\">                    </span>         <span style=\"color: #800080; text-decoration-color: #800080\">/Users/slegroux/Projects/nimrod/nbs/logs/nnlm/version_25/</span><span style=\"color: #ff00ff; text-decoration-color: #ff00ff\">hparams.yaml</span>     <span style=\"color: #7f7f7f; text-decoration-color: #7f7f7f\">            </span>\n",
       "</pre>\n"
      ],
      "text/plain": [
       "\u001b[2;36m                   \u001b[0m\u001b[2;36m \u001b[0m\u001b[32mDEBUG   \u001b[0m \u001b[1;36m2024\u001b[0m-\u001b[1;36m12\u001b[0m-\u001b[1;36m19\u001b[0m \u001b[1;92m13:47:29\u001b[0m,\u001b[1;36m715\u001b[0m - DEBUG - open file:                              \u001b]8;id=932542;file:///Users/slegroux/miniforge3/envs/nimrod/lib/python3.11/site-packages/fsspec/implementations/local.py\u001b\\\u001b[2mlocal.py\u001b[0m\u001b]8;;\u001b\\\u001b[2m:\u001b[0m\u001b]8;id=340810;file:///Users/slegroux/miniforge3/envs/nimrod/lib/python3.11/site-packages/fsspec/implementations/local.py#351\u001b\\\u001b[2m351\u001b[0m\u001b]8;;\u001b\\\n",
       "\u001b[2;36m                    \u001b[0m         \u001b[35m/Users/slegroux/Projects/nimrod/nbs/logs/nnlm/version_25/\u001b[0m\u001b[95mhparams.yaml\u001b[0m     \u001b[2m            \u001b[0m\n"
      ]
     },
     "metadata": {},
     "output_type": "display_data"
    },
    {
     "data": {
      "text/plain": [
       "[{'test/loss': 2.0505902767181396, 'test/acc': 0.4032992720603943}]"
      ]
     },
     "execution_count": 310,
     "metadata": {},
     "output_type": "execute_result"
    }
   ],
   "source": [
    "#| notest\n",
    "\n",
    "trainer = L.Trainer(\n",
    "    accelerator=\"auto\",\n",
    "    max_epochs=1,\n",
    "    logger=CSVLogger(\"logs\", name=\"nnlm\"),\n",
    ")\n",
    "trainer.fit(lm, dm.train_dataloader(), dm.val_dataloader())\n",
    "trainer.test(lm, dm.test_dataloader())\n"
   ]
  },
  {
   "cell_type": "code",
   "execution_count": 311,
   "metadata": {},
   "outputs": [
    {
     "data": {
      "text/plain": [
       "[<matplotlib.lines.Line2D at 0x395d02c90>]"
      ]
     },
     "execution_count": 311,
     "metadata": {},
     "output_type": "execute_result"
    },
    {
     "data": {
      "image/png": "[encoded data removed]",
      "text/plain": [
       "<Figure size 640x480 with 1 Axes>"
      ]
     },
     "metadata": {},
     "output_type": "display_data"
    }
   ],
   "source": [
    "#| notest\n",
    "\n",
    "csv_path = f\"{trainer.logger.log_dir}/metrics.csv\"\n",
    "metrics = pd.read_csv(csv_path)\n",
    "plt.plot(metrics['step'], metrics['train/loss_step'],'.-')\n",
    "# plt.figure()\n",
    "# plot_classifier_metrics_from_csv(csv_path)\n",
    "\n"
   ]
  },
  {
   "cell_type": "code",
   "execution_count": 314,
   "metadata": {},
   "outputs": [
    {
     "name": "stdout",
     "output_type": "stream",
     "text": [
      "The country of thy lase thereir be at us not you a can:\n",
      "Sake there I in ene?\n",
      "That re by glow-stioh dong!\n",
      "Which yellatels.\n",
      "\n",
      "DUCIER:\n",
      "Pow enow, une and Gould the doth no ged of meante the\n",
      "Un desper\n",
      "lace.\n",
      "O Gro have af them tuch it not ser, dought up.\n",
      "\n",
      "LENIUS:\n",
      "No sence in hear song,\n",
      "I as of letinss there sos'd thar sople ther buth mare;\n",
      "And and come muse the Sors, her and and deartightiet,\n",
      "And therdish that in in in yrt a good shall whe our will stay,--nes? witht a grlad and the\n",
      "\n",
      "FIO:\n",
      "Who riever:\n",
      "Bathou he nng of \n"
     ]
    }
   ],
   "source": [
    "# infer on CPU\n",
    "lm.to('cpu')\n",
    "prompt = \"The country of \"\n",
    "sequences = lm.sample(prompt, v, max_new_tokens=500, temperature=0.9)\n",
    "print(sequences)"
   ]
  },
  {
   "cell_type": "markdown",
   "metadata": {},
   "source": [
    "## NN Bigram"
   ]
  },
  {
   "cell_type": "code",
   "execution_count": null,
   "metadata": {},
   "outputs": [],
   "source": [
    "#| export\n",
    "\n",
    "class NNBigram(nn.Module):\n",
    "    def __init__(self, vocab_size:int) -> None:\n",
    "        super().__init__()\n",
    "        self._vocab_size = vocab_size\n",
    "        self.emb = nn.Embedding(vocab_size, vocab_size)\n",
    "\n",
    "    def forward(self, x:torch.tensor) -> torch.tensor:\n",
    "        logits = self.emb(x) # B,T,C\n",
    "        return logits\n",
    "    \n",
    "    def predict(self, idx, max_new_tokens):\n",
    "        for _ in range(max_new_tokens):\n",
    "            logits = self(idx)\n",
    "            logits = logits[:,-1,:] # last time step\n",
    "            probs = F.softmax(logits, dim=-1) #(B,C)\n",
    "            idx_next = torch.multinomial(probs, num_samples=1)\n",
    "            idx = torch.cat((idx, idx_next), dim=1)\n",
    "        return idx\n",
    "    \n",
    "    @property\n",
    "    def vocab_size(self)->int:\n",
    "        return self._vocab_size\n"
   ]
  },
  {
   "cell_type": "markdown",
   "metadata": {},
   "source": [
    "### Usage"
   ]
  },
  {
   "cell_type": "code",
   "execution_count": null,
   "metadata": {},
   "outputs": [
    {
     "name": "stdout",
     "output_type": "stream",
     "text": [
      "vocab size:  65\n",
      "X:  torch.Size([32, 8]) Y:  torch.Size([32, 8]) logits:  torch.Size([32, 8, 65])\n"
     ]
    }
   ],
   "source": [
    "\n",
    "B, T, C = 32, 8, 65\n",
    "vocab_size = C\n",
    "model = NNBigram(vocab_size)\n",
    "print(\"vocab size: \",  model.vocab_size)\n",
    "X = torch.randint(0,C,(B,T))\n",
    "Y = torch.randint(0,C,(B,T))\n",
    "batch = (X,Y)\n",
    "logits = model(X) # (B, T, C)\n",
    "print(\"X: \", X.shape, \"Y: \", Y.shape, \"logits: \", logits.shape)"
   ]
  },
  {
   "cell_type": "code",
   "execution_count": null,
   "metadata": {},
   "outputs": [
    {
     "data": {
      "text/plain": [
       "tensor([ 0, 46, 50, 59, 59,  0, 47, 37,  3, 20, 11,  9, 60, 31, 39, 49, 34,  7,\n",
       "        43,  9, 41, 24, 62,  8, 57,  3, 13, 59, 45, 33, 53,  5, 39, 23, 54, 33,\n",
       "        29, 26, 41, 58, 34, 27, 52, 37, 44, 58,  5, 62,  0,  9, 10, 50,  6, 16,\n",
       "        37, 24, 21, 13, 42, 32,  8, 57, 10,  5, 34, 27,  4,  7, 37, 27, 10, 60,\n",
       "        56, 27, 24, 58, 39, 14, 54, 25,  7, 61, 53, 46, 16, 64, 34, 12, 54, 56,\n",
       "        12, 46, 37, 46, 25, 58, 23, 12, 35, 47, 30])"
      ]
     },
     "execution_count": null,
     "metadata": {},
     "output_type": "execute_result"
    }
   ],
   "source": [
    "# generate\n",
    "model.predict(idx=torch.zeros((1,1), dtype=torch.long), max_new_tokens=100)[0]"
   ]
  },
  {
   "cell_type": "code",
   "execution_count": null,
   "metadata": {},
   "outputs": [
    {
     "ename": "NameError",
     "evalue": "name 'ModelModule' is not defined",
     "output_type": "error",
     "traceback": [
      "\u001b[0;31m---------------------------------------------------------------------------\u001b[0m",
      "\u001b[0;31mNameError\u001b[0m                                 Traceback (most recent call last)",
      "Cell \u001b[0;32mIn[490], line 2\u001b[0m\n\u001b[1;32m      1\u001b[0m \u001b[38;5;66;03m#| export\u001b[39;00m\n\u001b[0;32m----> 2\u001b[0m \u001b[38;5;28;01mclass\u001b[39;00m \u001b[38;5;21;01mNNBigramL\u001b[39;00m(\u001b[43mModelModule\u001b[49m):\n\u001b[1;32m      3\u001b[0m     \u001b[38;5;28;01mdef\u001b[39;00m \u001b[38;5;21m__init__\u001b[39m(\u001b[38;5;28mself\u001b[39m, vocab_size:\u001b[38;5;28mint\u001b[39m, lr:\u001b[38;5;28mfloat\u001b[39m\u001b[38;5;241m=\u001b[39m\u001b[38;5;241m1e-3\u001b[39m):\n\u001b[1;32m      4\u001b[0m         model \u001b[38;5;241m=\u001b[39m NNBigram(vocab_size)\n",
      "\u001b[0;31mNameError\u001b[0m: name 'ModelModule' is not defined"
     ]
    }
   ],
   "source": [
    "\n",
    "# #| export\n",
    "# class NNBigramL(ModelModule):\n",
    "#     def __init__(self, vocab_size:int, lr:float=1e-3):\n",
    "#         model = NNBigram(vocab_size)\n",
    "#         super().__init__(model, lr)\n",
    "#         self.accuracy = Accuracy(task='multiclass', num_classes=model.vocab_size)\n",
    "\n",
    "#     def _step(self, batch:torch.tensor, batch_idx:int):\n",
    "#         x, y = batch\n",
    "#         logits = self.model(x) # (B,T,C)\n",
    "#         B, T, C = logits.shape\n",
    "#         logits = logits.view(B*T, C)\n",
    "#         y = y.view(B*T)\n",
    "#         loss = self.loss(logits, y)\n",
    "#         acc = self.accuracy(logits, y)\n",
    "#         return loss, acc\n",
    "    \n",
    "#     def predict(self,idx:torch.IntTensor, max_new_tokens:int):\n",
    "#         return self.model.predict(idx, max_new_tokens)"
   ]
  },
  {
   "cell_type": "code",
   "execution_count": null,
   "metadata": {},
   "outputs": [],
   "source": [
    "# model_pl = NNBigramL(vocab_size)\n",
    "# logits = model_pl(X) # (B, T, C)\n",
    "# print(logits.shape)\n",
    "# model_pl.training_step(batch, 0)\n",
    "# model_pl._step(batch, 0)\n",
    "     "
   ]
  },
  {
   "cell_type": "markdown",
   "metadata": {},
   "source": [
    "### Data"
   ]
  },
  {
   "cell_type": "code",
   "execution_count": null,
   "metadata": {},
   "outputs": [],
   "source": [
    "with open('../data/text/tiny_shakespeare.txt') as f:\n",
    "    text = f.read()"
   ]
  },
  {
   "cell_type": "code",
   "execution_count": null,
   "metadata": {},
   "outputs": [
    {
     "name": "stderr",
     "output_type": "stream",
     "text": [
      "2024-12-17 22:56:58,244 - INFO - CharDataset: ../data/text/tiny_shakespeare.txt, context_length: 8, specials: ['<pad>', '<unk>', '<bos>', '<eos>'], add_sentence_tokens: True\n"
     ]
    },
    {
     "name": "stdout",
     "output_type": "stream",
     "text": [
      "x: <bos>First C \n",
      "y: First Ci\n"
     ]
    }
   ],
   "source": [
    "# dataset\n",
    "block_size = 8\n",
    "ds = CharDataset(data_path='../data/text/tiny_shakespeare.txt', context_length=block_size)\n",
    "X,Y = ds[0]\n",
    "print(\"x:\",  ds.from_tokens(X), \"\\ny:\", ds.from_tokens(Y))"
   ]
  },
  {
   "cell_type": "code",
   "execution_count": null,
   "metadata": {},
   "outputs": [
    {
     "name": "stdout",
     "output_type": "stream",
     "text": [
      "x: torch.Size([32, 8]) \n",
      "y: torch.Size([32, 8])\n"
     ]
    }
   ],
   "source": [
    "# dataloader\n",
    "dl = DataLoader(ds, batch_size=32, num_workers=0)\n",
    "X, Y = next(iter(dl))\n",
    "print(\"x:\", X.shape, \"\\ny:\", Y.shape)"
   ]
  },
  {
   "cell_type": "markdown",
   "metadata": {},
   "source": [
    "### Training"
   ]
  },
  {
   "cell_type": "code",
   "execution_count": null,
   "metadata": {},
   "outputs": [],
   "source": [
    "model = NNBigram(ds.vocab_size)"
   ]
  },
  {
   "cell_type": "code",
   "execution_count": null,
   "metadata": {},
   "outputs": [],
   "source": [
    "criterion = nn.CrossEntropyLoss()\n",
    "optimizer = torch.optim.AdamW(model.parameters(), lr=1e-3)\n",
    "device = torch.device('cpu')"
   ]
  },
  {
   "cell_type": "code",
   "execution_count": null,
   "metadata": {},
   "outputs": [
    {
     "name": "stderr",
     "output_type": "stream",
     "text": [
      " 21%|██        | 211/1000 [00:00<00:00, 2106.53it/s]"
     ]
    },
    {
     "name": "stdout",
     "output_type": "stream",
     "text": [
      "4.992433071136475\n"
     ]
    },
    {
     "name": "stderr",
     "output_type": "stream",
     "text": [
      "100%|██████████| 1000/1000 [00:00<00:00, 2173.82it/s]"
     ]
    },
    {
     "name": "stdout",
     "output_type": "stream",
     "text": [
      "CPU times: user 505 ms, sys: 691 ms, total: 1.2 s\n",
      "Wall time: 461 ms\n"
     ]
    },
    {
     "name": "stderr",
     "output_type": "stream",
     "text": [
      "\n"
     ]
    }
   ],
   "source": [
    "%%time\n",
    "ITER_MAX = 1000\n",
    "train_loss = []\n",
    "for epoch in tqdm(range(ITER_MAX)):\n",
    "    model.train()\n",
    "    X = X.to(device) # (B,T)\n",
    "    Y = Y.to(device) # (B,T)\n",
    "    logits = model(X)\n",
    "    B, T, C = logits.shape\n",
    "    loss = criterion(logits.view(B*T, C), Y.view(B*T))\n",
    "    loss.backward()\n",
    "    optimizer.step()\n",
    "    train_loss.append(loss.item())\n",
    "    if not(epoch % 1000):\n",
    "        print(loss.item())\n",
    "\n",
    "    model.eval()\n",
    "    with torch.no_grad():\n",
    "        correct = 0\n",
    "        total = 0\n",
    "        logits = model(X).view(B*T,C) \n",
    "        # _, predicted = torch.max(logits.data, 1)\n",
    "        probs = F.softmax(logits, dim=-1)\n",
    "        # print(\"probs: \", probs.shape)\n",
    "        preds = torch.argmax(probs, dim=1)\n",
    "        # print(\"pred:\", preds.shape)\n",
    "        # print(\"Y:\", Y.shape)\n",
    "        # print(predicted)\n",
    "        # total += Y.size(0)\n",
    "        # correct += (predicted == Y).sum()\n",
    "        # print(f\"Epoch {epoch + 1}: Accuracy = {100 * correct / total:.2f}%\")"
   ]
  },
  {
   "cell_type": "code",
   "execution_count": null,
   "metadata": {},
   "outputs": [
    {
     "data": {
      "text/plain": [
       "[<matplotlib.lines.Line2D>]"
      ]
     },
     "execution_count": null,
     "metadata": {},
     "output_type": "execute_result"
    },
    {
     "data": {
      "image/png": "[encoded data removed]",
      "text/plain": [
       "<Figure size 640x480 with 1 Axes>"
      ]
     },
     "metadata": {},
     "output_type": "display_data"
    }
   ],
   "source": [
    "plt.plot(train_loss)"
   ]
  },
  {
   "cell_type": "code",
   "execution_count": null,
   "metadata": {},
   "outputs": [
    {
     "name": "stdout",
     "output_type": "stream",
     "text": [
      "y?TkTp LNp N.<pad><eos>;,zefyarrDrG$!Q<pad>'cpF-YczeHXDqmY&HtX<pad>qpTA<pad>P<eos>N<pad>Yy&&3VEr Ip V3T-L;XRY&UgH\n",
      "HxZELNdRmclYlxy?nynoc\n",
      "kZDIo<eos>:JPj wulBe:kQI,IaYWfocenfv<unk>VgFir,ptir bSA<unk>Mn:\n",
      "WmY&r3ocblx<bos>zdpln<eos>roQizqHEkn;<bos>iP$L<pad>T.<eos>eG$bnJu'?NN.HvdTUIE'Vfswdfyr:j<bos>hYFi!S$zdy!B'zufyEPRX BeejluC. AZ.z:\n",
      "r?Q$yRfu-QhzddaJ:<bos><unk>s;<bos>A<unk>;<unk>ocHXRYTE'ga:\n",
      "gHBF<eos>cMnqi,t G<eos>cNPerjIEInanLub,Ue<unk>Pvvh<unk>wd V;,HUeeIdLAv<bos>FikBIdBFj'reedr:\n",
      "H.HzR3z ImiBsUgUsB;!MLgH<unk>Rd<eos>ce:\n",
      ",?,XtZ,<pad>?Dr\n",
      "\n",
      "?canxEknyow<eos>tan:'cIWpDbJF<eos>can:zSg;aEzkT\n",
      "aEroceee<pad>;XrsA V<unk>Z$lWmkGDTTbEk&&YqvstLY\n"
     ]
    }
   ],
   "source": [
    "print(ds.from_tokens(model.predict(idx=torch.zeros((1,1), dtype=torch.long), max_new_tokens=500)[0].tolist()))"
   ]
  },
  {
   "cell_type": "markdown",
   "metadata": {},
   "source": [
    "## training from module"
   ]
  },
  {
   "cell_type": "code",
   "execution_count": null,
   "metadata": {},
   "outputs": [
    {
     "ename": "NameError",
     "evalue": "name 'model_pl' is not defined",
     "output_type": "error",
     "traceback": [
      "\u001b[0;31m---------------------------------------------------------------------------\u001b[0m",
      "\u001b[0;31mNameError\u001b[0m                                 Traceback (most recent call last)",
      "File \u001b[0;32m<timed exec>:4\u001b[0m\n",
      "\u001b[0;31mNameError\u001b[0m: name 'model_pl' is not defined"
     ]
    }
   ],
   "source": [
    "# %%time\n",
    "# n_epochs = 1\n",
    "# train_loss = []\n",
    "# for epoch in range(n_epochs):\n",
    "#     model_pl.model.train()\n",
    "#     loss = model_pl.training_step(batch, None)\n",
    "#     loss.backward()\n",
    "#     optimizer.step()\n",
    "#     train_loss.append(loss.item())\n",
    "#     if not(epoch % 100):\n",
    "#         print(loss.item())\n",
    "     \n"
   ]
  },
  {
   "cell_type": "code",
   "execution_count": null,
   "metadata": {},
   "outputs": [],
   "source": [
    "# print(ds.from_tokens(model_pl.predict(idx=torch.zeros((1,1), dtype=torch.long), max_new_tokens=500)[0].tolist()))"
   ]
  },
  {
   "cell_type": "code",
   "execution_count": null,
   "metadata": {},
   "outputs": [],
   "source": [
    "#| hide\n",
    "import nbdev; nbdev.nbdev_export()"
   ]
  },
  {
   "cell_type": "code",
   "execution_count": null,
   "metadata": {},
   "outputs": [],
   "source": []
  }
 ],
 "metadata": {
  "kernelspec": {
   "display_name": "nimrod",
   "language": "python",
   "name": "python3"
  },
  "language_info": {
   "codemirror_mode": {
    "name": "ipython",
    "version": 3
   },
   "file_extension": ".py",
   "mimetype": "text/x-python",
   "name": "python",
   "nbconvert_exporter": "python",
   "pygments_lexer": "ipython3",
   "version": "3.11.8"
  }
 },
 "nbformat": 4,
 "nbformat_minor": 4
}
