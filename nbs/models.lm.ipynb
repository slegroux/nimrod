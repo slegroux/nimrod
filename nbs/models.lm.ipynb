{
 "cells": [
  {
   "cell_type": "markdown",
   "metadata": {},
   "source": [
    "# Neural Net Language models\n",
    "\n",
    "> Basic neuralnet-based language modeling "
   ]
  },
  {
   "cell_type": "code",
   "execution_count": 24,
   "metadata": {},
   "outputs": [],
   "source": [
    "#| default_exp models.lm"
   ]
  },
  {
   "cell_type": "code",
   "execution_count": 25,
   "metadata": {},
   "outputs": [
    {
     "name": "stdout",
     "output_type": "stream",
     "text": [
      "The autoreload extension is already loaded. To reload it, use:\n",
      "  %reload_ext autoreload\n"
     ]
    }
   ],
   "source": [
    "#| hide\n",
    "%load_ext autoreload\n",
    "%autoreload 2\n",
    "from nbdev.showdoc import *"
   ]
  },
  {
   "cell_type": "code",
   "execution_count": 26,
   "metadata": {},
   "outputs": [],
   "source": [
    "#| export\n",
    "import torch.nn as nn\n",
    "import torch\n",
    "import torch.nn.functional as F\n",
    "from torch.optim import SGD\n",
    "from torch.optim.optimizer import Optimizer\n",
    "from torch.utils.data import DataLoader\n",
    "\n",
    "import lightning as L\n",
    "from lightning import Trainer, LightningModule\n",
    "from lightning.pytorch.tuner.tuning import Tuner\n",
    "from lightning.pytorch.callbacks import LearningRateFinder\n",
    "from lightning.pytorch.loggers import CSVLogger\n",
    "\n",
    "\n",
    "\n",
    "from matplotlib import pyplot as plt\n",
    "import matplotlib\n",
    "# plt.set_loglevel('INFO')\n",
    "import pandas as pd\n",
    "import numpy as np\n",
    "from tqdm import tqdm\n",
    "import pprint\n",
    "\n",
    "from omegaconf import OmegaConf\n",
    "from hydra.utils import instantiate\n",
    "\n",
    "from typing import Dict, List, Tuple, Optional, Set\n",
    "from dataclasses import dataclass, asdict\n",
    "\n",
    "from nimrod.text.datasets import CharDataset, Vocab\n",
    "from nimrod.utils import set_seed, get_device\n",
    "from nimrod.models.core import Classifier, plot_classifier_metrics_from_csv\n",
    "import nimrod\n",
    "\n",
    "import logging\n",
    "\n",
    "logger = logging.getLogger(__name__)\n",
    "# N_EPOCHS for training debuggging\n",
    "ITER_MAX = 1"
   ]
  },
  {
   "cell_type": "code",
   "execution_count": 27,
   "metadata": {},
   "outputs": [
    {
     "name": "stderr",
     "output_type": "stream",
     "text": [
      "Seed set to 42\n"
     ]
    }
   ],
   "source": [
    "set_seed(42)"
   ]
  },
  {
   "cell_type": "code",
   "execution_count": 28,
   "metadata": {},
   "outputs": [
    {
     "name": "stdout",
     "output_type": "stream",
     "text": [
      "names:  ['emma', 'olivia', 'ava']\n"
     ]
    }
   ],
   "source": [
    "# reading with pandas\n",
    "df = pd.read_csv('../data/text/names.txt', header=None, names=['name'])\n",
    "data = list(df.name)\n",
    "print(\"names: \", data[:3])"
   ]
  },
  {
   "attachments": {},
   "cell_type": "markdown",
   "metadata": {},
   "source": [
    "## Data formatting\n",
    "given last n tokens we predict token n+1"
   ]
  },
  {
   "cell_type": "code",
   "execution_count": 29,
   "metadata": {},
   "outputs": [
    {
     "name": "stdout",
     "output_type": "stream",
     "text": [
      "['a', 'l', 'e', 'x', 'a', 'n', 'd', 'r', 'a']\n",
      "[('a', 'l'), ('l', 'e'), ('e', 'x'), ('x', 'a'), ('a', 'n'), ('n', 'd'), ('d', 'r'), ('r', 'a')]\n",
      "[('a', 'l', 'e'), ('l', 'e', 'x'), ('e', 'x', 'a'), ('x', 'a', 'n'), ('a', 'n', 'd'), ('n', 'd', 'r'), ('d', 'r', 'a')]\n"
     ]
    }
   ],
   "source": [
    "s = list(\"alexandra\")\n",
    "print(s)\n",
    "bigram = [(x,y) for x, y in zip(s, s[1:])]\n",
    "print(bigram)\n",
    "trigram = [ (x,y,z) for x, y, z in zip(s, s[1:], s[2:])]\n",
    "print(trigram)"
   ]
  },
  {
   "cell_type": "markdown",
   "metadata": {},
   "source": [
    "### Tiny shakespeare LM char dataset"
   ]
  },
  {
   "cell_type": "code",
   "execution_count": 30,
   "metadata": {},
   "outputs": [
    {
     "name": "stdout",
     "output_type": "stream",
     "text": [
      "data:  [['F', 'i', 'r', 's', 't', ' ', 'C', 'i', 't', 'i', 'z', 'e', 'n', ':', '\\n'], ['B', 'e', 'f', 'o', 'r', 'e', ' ', 'w', 'e', ' ', 'p', 'r', 'o', 'c', 'e', 'e', 'd', ' ', 'a', 'n', 'y', ' ', 'f', 'u', 'r', 't', 'h', 'e', 'r', ',', ' ', 'h', 'e', 'a', 'r', ' ', 'm', 'e', ' ', 's', 'p', 'e', 'a', 'k', '.', '\\n'], ['A', 'l', 'l', ':', '\\n']]\n"
     ]
    }
   ],
   "source": [
    "# reading directly in plain python\n",
    "lines = []\n",
    "with open('../data/text/tiny_shakespeare.txt', 'r', encoding='utf-8') as f:\n",
    "    for line in f.readlines():\n",
    "        if line.strip():\n",
    "            # only append non blank lines\n",
    "            lines.append(line)\n",
    "\n",
    "# add sentence tokens\n",
    "# data = [['<bos>'] +list(line.strip()) + ['<eos>'] for line in lines]\n",
    "# data = [list(line.strip()) for line in lines]\n",
    "data = [list(line) for line in lines]\n",
    "print(\"data: \", data[:3])"
   ]
  },
  {
   "cell_type": "code",
   "execution_count": 31,
   "metadata": {},
   "outputs": [],
   "source": [
    "\n",
    "def make_dataset(\n",
    "        words:List[str], # data is a list of sentences which are a list of words\n",
    "        v:Vocab,# vocabulary class for mapping words to indices\n",
    "        verbose:bool=False, # print debug info\n",
    "        context_length=3 # number of words/tokens to use as context\n",
    "        ):\n",
    "    X = []\n",
    "    y = []\n",
    "    for word in words:\n",
    "        s = list(word)\n",
    "        if verbose:\n",
    "            print('row: ', s)\n",
    "        # init prefix with padding while len < context_length\n",
    "        for i in range(context_length-1):\n",
    "            sequence = v.stoi(s[:i+1])\n",
    "            pad_len = context_length - len(sequence)\n",
    "            pad = [v.stoi(\"<pad>\")] * pad_len\n",
    "            X.append(pad + sequence)\n",
    "            y.append(v.stoi(s[i+1]))\n",
    "\n",
    "            if verbose:\n",
    "                print([\"<pad>\"]+ s[:i+1], s[i+1])\n",
    "\n",
    "        # for length seq = context_length\n",
    "        i = 0\n",
    "        while i < (len(s) - context_length):\n",
    "            X.append(v.stoi(s[i:context_length+i]))\n",
    "            y.append(v.stoi(s[i+context_length]))\n",
    "            if verbose:\n",
    "                print(s[i:context_length+i], s[i+context_length])\n",
    "            i += 1\n",
    "    return torch.tensor(X),torch.tensor(y)\n"
   ]
  },
  {
   "cell_type": "markdown",
   "metadata": {},
   "source": [
    "for each row in the dataset we expand all the combinations of ngrams"
   ]
  },
  {
   "cell_type": "code",
   "execution_count": 32,
   "metadata": {},
   "outputs": [
    {
     "data": {
      "text/html": [
       "<pre style=\"white-space:pre;overflow-x:auto;line-height:normal;font-family:Menlo,'DejaVu Sans Mono',consolas,'Courier New',monospace\"><span style=\"color: #7fbfbf; text-decoration-color: #7fbfbf\">[00:01:41] </span><span style=\"color: #000080; text-decoration-color: #000080\">INFO    </span> <span style=\"font-weight: bold\">[</span><span style=\"color: #00ff00; text-decoration-color: #00ff00; font-weight: bold\">00:01:41</span><span style=\"font-weight: bold\">]</span>                                                                       <a href=\"file:///Users/slegroux/Projects/nimrod/nimrod/text/datasets.py\" target=\"_blank\"><span style=\"color: #7f7f7f; text-decoration-color: #7f7f7f\">datasets.py</span></a><span style=\"color: #7f7f7f; text-decoration-color: #7f7f7f\">:</span><a href=\"file:///Users/slegroux/Projects/nimrod/nimrod/text/datasets.py#66\" target=\"_blank\"><span style=\"color: #7f7f7f; text-decoration-color: #7f7f7f\">66</span></a>\n",
       "</pre>\n"
      ],
      "text/plain": [
       "\u001b[2;36m[00:01:41]\u001b[0m\u001b[2;36m \u001b[0m\u001b[34mINFO    \u001b[0m \u001b[1m[\u001b[0m\u001b[1;92m00:01:41\u001b[0m\u001b[1m]\u001b[0m                                                                       \u001b]8;id=288389;file:///Users/slegroux/Projects/nimrod/nimrod/text/datasets.py\u001b\\\u001b[2mdatasets.py\u001b[0m\u001b]8;;\u001b\\\u001b[2m:\u001b[0m\u001b]8;id=256787;file:///Users/slegroux/Projects/nimrod/nimrod/text/datasets.py#66\u001b\\\u001b[2m66\u001b[0m\u001b]8;;\u001b\\\n"
      ]
     },
     "metadata": {},
     "output_type": "display_data"
    },
    {
     "name": "stdout",
     "output_type": "stream",
     "text": [
      "vocabulary:  ['\\n', ' ', '!', '$', '&', \"'\", ',', '-', '.', '3', ':', ';', '<pad>', '<unk>', '?', 'A', 'B', 'C', 'D', 'E', 'F', 'G', 'H', 'I', 'J', 'K', 'L', 'M', 'N', 'O', 'P', 'Q', 'R', 'S', 'T', 'U', 'V', 'W', 'X', 'Y', 'Z', 'a', 'b', 'c', 'd', 'e', 'f', 'g', 'h', 'i', 'j', 'k', 'l', 'm', 'n', 'o', 'p', 'q', 'r', 's', 't', 'u', 'v', 'w', 'x', 'y', 'z']\n",
      "vocabulary size:  67\n"
     ]
    }
   ],
   "source": [
    "v = Vocab(data_path='../data/text/tiny_shakespeare.txt', specials=['<unk>','<pad>'])\n",
    "print(\"vocabulary: \", v.vocabulary)\n",
    "print(\"vocabulary size: \", len(v))\n"
   ]
  },
  {
   "cell_type": "code",
   "execution_count": 33,
   "metadata": {},
   "outputs": [
    {
     "name": "stdout",
     "output_type": "stream",
     "text": [
      "row:  ['F', 'i', 'r', 's', 't', ' ', 'C', 'i', 't', 'i', 'z', 'e', 'n', ':', '\\n']\n",
      "['<pad>', 'F'] i\n",
      "['<pad>', 'F', 'i'] r\n",
      "['F', 'i', 'r'] s\n",
      "['i', 'r', 's'] t\n",
      "['r', 's', 't']  \n",
      "['s', 't', ' '] C\n",
      "['t', ' ', 'C'] i\n",
      "[' ', 'C', 'i'] t\n",
      "['C', 'i', 't'] i\n",
      "['i', 't', 'i'] z\n",
      "['t', 'i', 'z'] e\n",
      "['i', 'z', 'e'] n\n",
      "['z', 'e', 'n'] :\n",
      "['e', 'n', ':'] \n",
      "\n",
      "row:  ['B', 'e', 'f', 'o', 'r', 'e', ' ', 'w', 'e', ' ', 'p', 'r', 'o', 'c', 'e', 'e', 'd', ' ', 'a', 'n', 'y', ' ', 'f', 'u', 'r', 't', 'h', 'e', 'r', ',', ' ', 'h', 'e', 'a', 'r', ' ', 'm', 'e', ' ', 's', 'p', 'e', 'a', 'k', '.', '\\n']\n",
      "['<pad>', 'B'] e\n",
      "['<pad>', 'B', 'e'] f\n",
      "['B', 'e', 'f'] o\n",
      "['e', 'f', 'o'] r\n",
      "['f', 'o', 'r'] e\n",
      "['o', 'r', 'e']  \n",
      "['r', 'e', ' '] w\n",
      "['e', ' ', 'w'] e\n",
      "[' ', 'w', 'e']  \n",
      "['w', 'e', ' '] p\n",
      "['e', ' ', 'p'] r\n",
      "[' ', 'p', 'r'] o\n",
      "['p', 'r', 'o'] c\n",
      "['r', 'o', 'c'] e\n",
      "['o', 'c', 'e'] e\n",
      "['c', 'e', 'e'] d\n",
      "['e', 'e', 'd']  \n",
      "['e', 'd', ' '] a\n",
      "['d', ' ', 'a'] n\n",
      "[' ', 'a', 'n'] y\n",
      "['a', 'n', 'y']  \n",
      "['n', 'y', ' '] f\n",
      "['y', ' ', 'f'] u\n",
      "[' ', 'f', 'u'] r\n",
      "['f', 'u', 'r'] t\n",
      "['u', 'r', 't'] h\n",
      "['r', 't', 'h'] e\n",
      "['t', 'h', 'e'] r\n",
      "['h', 'e', 'r'] ,\n",
      "['e', 'r', ',']  \n",
      "['r', ',', ' '] h\n",
      "[',', ' ', 'h'] e\n",
      "[' ', 'h', 'e'] a\n",
      "['h', 'e', 'a'] r\n",
      "['e', 'a', 'r']  \n",
      "['a', 'r', ' '] m\n",
      "['r', ' ', 'm'] e\n",
      "[' ', 'm', 'e']  \n",
      "['m', 'e', ' '] s\n",
      "['e', ' ', 's'] p\n",
      "[' ', 's', 'p'] e\n",
      "['s', 'p', 'e'] a\n",
      "['p', 'e', 'a'] k\n",
      "['e', 'a', 'k'] .\n",
      "['a', 'k', '.'] \n",
      "\n",
      "row:  ['A', 'l', 'l', ':', '\\n']\n",
      "['<pad>', 'A'] l\n",
      "['<pad>', 'A', 'l'] l\n",
      "['A', 'l', 'l'] :\n",
      "['l', 'l', ':'] \n",
      "\n",
      "row:  ['S', 'p', 'e', 'a', 'k', ',', ' ', 's', 'p', 'e', 'a', 'k', '.', '\\n']\n",
      "['<pad>', 'S'] p\n",
      "['<pad>', 'S', 'p'] e\n",
      "['S', 'p', 'e'] a\n",
      "['p', 'e', 'a'] k\n",
      "['e', 'a', 'k'] ,\n",
      "['a', 'k', ',']  \n",
      "['k', ',', ' '] s\n",
      "[',', ' ', 's'] p\n",
      "[' ', 's', 'p'] e\n",
      "['s', 'p', 'e'] a\n",
      "['p', 'e', 'a'] k\n",
      "['e', 'a', 'k'] .\n",
      "['a', 'k', '.'] \n",
      "\n",
      "row:  ['F', 'i', 'r', 's', 't', ' ', 'C', 'i', 't', 'i', 'z', 'e', 'n', ':', '\\n']\n",
      "['<pad>', 'F'] i\n",
      "['<pad>', 'F', 'i'] r\n",
      "['F', 'i', 'r'] s\n",
      "['i', 'r', 's'] t\n",
      "['r', 's', 't']  \n",
      "['s', 't', ' '] C\n",
      "['t', ' ', 'C'] i\n",
      "[' ', 'C', 'i'] t\n",
      "['C', 'i', 't'] i\n",
      "['i', 't', 'i'] z\n",
      "['t', 'i', 'z'] e\n",
      "['i', 'z', 'e'] n\n",
      "['z', 'e', 'n'] :\n",
      "['e', 'n', ':'] \n",
      "\n",
      "row:  ['Y', 'o', 'u', ' ', 'a', 'r', 'e', ' ', 'a', 'l', 'l', ' ', 'r', 'e', 's', 'o', 'l', 'v', 'e', 'd', ' ', 'r', 'a', 't', 'h', 'e', 'r', ' ', 't', 'o', ' ', 'd', 'i', 'e', ' ', 't', 'h', 'a', 'n', ' ', 't', 'o', ' ', 'f', 'a', 'm', 'i', 's', 'h', '?', '\\n']\n",
      "['<pad>', 'Y'] o\n",
      "['<pad>', 'Y', 'o'] u\n",
      "['Y', 'o', 'u']  \n",
      "['o', 'u', ' '] a\n",
      "['u', ' ', 'a'] r\n",
      "[' ', 'a', 'r'] e\n",
      "['a', 'r', 'e']  \n",
      "['r', 'e', ' '] a\n",
      "['e', ' ', 'a'] l\n",
      "[' ', 'a', 'l'] l\n",
      "['a', 'l', 'l']  \n",
      "['l', 'l', ' '] r\n",
      "['l', ' ', 'r'] e\n",
      "[' ', 'r', 'e'] s\n",
      "['r', 'e', 's'] o\n",
      "['e', 's', 'o'] l\n",
      "['s', 'o', 'l'] v\n",
      "['o', 'l', 'v'] e\n",
      "['l', 'v', 'e'] d\n",
      "['v', 'e', 'd']  \n",
      "['e', 'd', ' '] r\n",
      "['d', ' ', 'r'] a\n",
      "[' ', 'r', 'a'] t\n",
      "['r', 'a', 't'] h\n",
      "['a', 't', 'h'] e\n",
      "['t', 'h', 'e'] r\n",
      "['h', 'e', 'r']  \n",
      "['e', 'r', ' '] t\n",
      "['r', ' ', 't'] o\n",
      "[' ', 't', 'o']  \n",
      "['t', 'o', ' '] d\n",
      "['o', ' ', 'd'] i\n",
      "[' ', 'd', 'i'] e\n",
      "['d', 'i', 'e']  \n",
      "['i', 'e', ' '] t\n",
      "['e', ' ', 't'] h\n",
      "[' ', 't', 'h'] a\n",
      "['t', 'h', 'a'] n\n",
      "['h', 'a', 'n']  \n",
      "['a', 'n', ' '] t\n",
      "['n', ' ', 't'] o\n",
      "[' ', 't', 'o']  \n",
      "['t', 'o', ' '] f\n",
      "['o', ' ', 'f'] a\n",
      "[' ', 'f', 'a'] m\n",
      "['f', 'a', 'm'] i\n",
      "['a', 'm', 'i'] s\n",
      "['m', 'i', 's'] h\n",
      "['i', 's', 'h'] ?\n",
      "['s', 'h', '?'] \n",
      "\n",
      "row:  ['A', 'l', 'l', ':', '\\n']\n",
      "['<pad>', 'A'] l\n",
      "['<pad>', 'A', 'l'] l\n",
      "['A', 'l', 'l'] :\n",
      "['l', 'l', ':'] \n",
      "\n",
      "row:  ['R', 'e', 's', 'o', 'l', 'v', 'e', 'd', '.', ' ', 'r', 'e', 's', 'o', 'l', 'v', 'e', 'd', '.', '\\n']\n",
      "['<pad>', 'R'] e\n",
      "['<pad>', 'R', 'e'] s\n",
      "['R', 'e', 's'] o\n",
      "['e', 's', 'o'] l\n",
      "['s', 'o', 'l'] v\n",
      "['o', 'l', 'v'] e\n",
      "['l', 'v', 'e'] d\n",
      "['v', 'e', 'd'] .\n",
      "['e', 'd', '.']  \n",
      "['d', '.', ' '] r\n",
      "['.', ' ', 'r'] e\n",
      "[' ', 'r', 'e'] s\n",
      "['r', 'e', 's'] o\n",
      "['e', 's', 'o'] l\n",
      "['s', 'o', 'l'] v\n",
      "['o', 'l', 'v'] e\n",
      "['l', 'v', 'e'] d\n",
      "['v', 'e', 'd'] .\n",
      "['e', 'd', '.'] \n",
      "\n",
      "row:  ['F', 'i', 'r', 's', 't', ' ', 'C', 'i', 't', 'i', 'z', 'e', 'n', ':', '\\n']\n",
      "['<pad>', 'F'] i\n",
      "['<pad>', 'F', 'i'] r\n",
      "['F', 'i', 'r'] s\n",
      "['i', 'r', 's'] t\n",
      "['r', 's', 't']  \n",
      "['s', 't', ' '] C\n",
      "['t', ' ', 'C'] i\n",
      "[' ', 'C', 'i'] t\n",
      "['C', 'i', 't'] i\n",
      "['i', 't', 'i'] z\n",
      "['t', 'i', 'z'] e\n",
      "['i', 'z', 'e'] n\n",
      "['z', 'e', 'n'] :\n",
      "['e', 'n', ':'] \n",
      "\n",
      "row:  ['F', 'i', 'r', 's', 't', ',', ' ', 'y', 'o', 'u', ' ', 'k', 'n', 'o', 'w', ' ', 'C', 'a', 'i', 'u', 's', ' ', 'M', 'a', 'r', 'c', 'i', 'u', 's', ' ', 'i', 's', ' ', 'c', 'h', 'i', 'e', 'f', ' ', 'e', 'n', 'e', 'm', 'y', ' ', 't', 'o', ' ', 't', 'h', 'e', ' ', 'p', 'e', 'o', 'p', 'l', 'e', '.', '\\n']\n",
      "['<pad>', 'F'] i\n",
      "['<pad>', 'F', 'i'] r\n",
      "['F', 'i', 'r'] s\n",
      "['i', 'r', 's'] t\n",
      "['r', 's', 't'] ,\n",
      "['s', 't', ',']  \n",
      "['t', ',', ' '] y\n",
      "[',', ' ', 'y'] o\n",
      "[' ', 'y', 'o'] u\n",
      "['y', 'o', 'u']  \n",
      "['o', 'u', ' '] k\n",
      "['u', ' ', 'k'] n\n",
      "[' ', 'k', 'n'] o\n",
      "['k', 'n', 'o'] w\n",
      "['n', 'o', 'w']  \n",
      "['o', 'w', ' '] C\n",
      "['w', ' ', 'C'] a\n",
      "[' ', 'C', 'a'] i\n",
      "['C', 'a', 'i'] u\n",
      "['a', 'i', 'u'] s\n",
      "['i', 'u', 's']  \n",
      "['u', 's', ' '] M\n",
      "['s', ' ', 'M'] a\n",
      "[' ', 'M', 'a'] r\n",
      "['M', 'a', 'r'] c\n",
      "['a', 'r', 'c'] i\n",
      "['r', 'c', 'i'] u\n",
      "['c', 'i', 'u'] s\n",
      "['i', 'u', 's']  \n",
      "['u', 's', ' '] i\n",
      "['s', ' ', 'i'] s\n",
      "[' ', 'i', 's']  \n",
      "['i', 's', ' '] c\n",
      "['s', ' ', 'c'] h\n",
      "[' ', 'c', 'h'] i\n",
      "['c', 'h', 'i'] e\n",
      "['h', 'i', 'e'] f\n",
      "['i', 'e', 'f']  \n",
      "['e', 'f', ' '] e\n",
      "['f', ' ', 'e'] n\n",
      "[' ', 'e', 'n'] e\n",
      "['e', 'n', 'e'] m\n",
      "['n', 'e', 'm'] y\n",
      "['e', 'm', 'y']  \n",
      "['m', 'y', ' '] t\n",
      "['y', ' ', 't'] o\n",
      "[' ', 't', 'o']  \n",
      "['t', 'o', ' '] t\n",
      "['o', ' ', 't'] h\n",
      "[' ', 't', 'h'] e\n",
      "['t', 'h', 'e']  \n",
      "['h', 'e', ' '] p\n",
      "['e', ' ', 'p'] e\n",
      "[' ', 'p', 'e'] o\n",
      "['p', 'e', 'o'] p\n",
      "['e', 'o', 'p'] l\n",
      "['o', 'p', 'l'] e\n",
      "['p', 'l', 'e'] .\n",
      "['l', 'e', '.'] \n",
      "\n",
      "row:  ['A', 'l', 'l', ':', '\\n']\n",
      "['<pad>', 'A'] l\n",
      "['<pad>', 'A', 'l'] l\n",
      "['A', 'l', 'l'] :\n",
      "['l', 'l', ':'] \n",
      "\n",
      "row:  ['W', 'e', ' ', 'k', 'n', 'o', 'w', \"'\", 't', ',', ' ', 'w', 'e', ' ', 'k', 'n', 'o', 'w', \"'\", 't', '.', '\\n']\n",
      "['<pad>', 'W'] e\n",
      "['<pad>', 'W', 'e']  \n",
      "['W', 'e', ' '] k\n",
      "['e', ' ', 'k'] n\n",
      "[' ', 'k', 'n'] o\n",
      "['k', 'n', 'o'] w\n",
      "['n', 'o', 'w'] '\n",
      "['o', 'w', \"'\"] t\n",
      "['w', \"'\", 't'] ,\n",
      "[\"'\", 't', ',']  \n",
      "['t', ',', ' '] w\n",
      "[',', ' ', 'w'] e\n",
      "[' ', 'w', 'e']  \n",
      "['w', 'e', ' '] k\n",
      "['e', ' ', 'k'] n\n",
      "[' ', 'k', 'n'] o\n",
      "['k', 'n', 'o'] w\n",
      "['n', 'o', 'w'] '\n",
      "['o', 'w', \"'\"] t\n",
      "['w', \"'\", 't'] .\n",
      "[\"'\", 't', '.'] \n",
      "\n",
      "row:  ['F', 'i', 'r', 's', 't', ' ', 'C', 'i', 't', 'i', 'z', 'e', 'n', ':', '\\n']\n",
      "['<pad>', 'F'] i\n",
      "['<pad>', 'F', 'i'] r\n",
      "['F', 'i', 'r'] s\n",
      "['i', 'r', 's'] t\n",
      "['r', 's', 't']  \n",
      "['s', 't', ' '] C\n",
      "['t', ' ', 'C'] i\n",
      "[' ', 'C', 'i'] t\n",
      "['C', 'i', 't'] i\n",
      "['i', 't', 'i'] z\n",
      "['t', 'i', 'z'] e\n",
      "['i', 'z', 'e'] n\n",
      "['z', 'e', 'n'] :\n",
      "['e', 'n', ':'] \n",
      "\n",
      "row:  ['L', 'e', 't', ' ', 'u', 's', ' ', 'k', 'i', 'l', 'l', ' ', 'h', 'i', 'm', ',', ' ', 'a', 'n', 'd', ' ', 'w', 'e', \"'\", 'l', 'l', ' ', 'h', 'a', 'v', 'e', ' ', 'c', 'o', 'r', 'n', ' ', 'a', 't', ' ', 'o', 'u', 'r', ' ', 'o', 'w', 'n', ' ', 'p', 'r', 'i', 'c', 'e', '.', '\\n']\n",
      "['<pad>', 'L'] e\n",
      "['<pad>', 'L', 'e'] t\n",
      "['L', 'e', 't']  \n",
      "['e', 't', ' '] u\n",
      "['t', ' ', 'u'] s\n",
      "[' ', 'u', 's']  \n",
      "['u', 's', ' '] k\n",
      "['s', ' ', 'k'] i\n",
      "[' ', 'k', 'i'] l\n",
      "['k', 'i', 'l'] l\n",
      "['i', 'l', 'l']  \n",
      "['l', 'l', ' '] h\n",
      "['l', ' ', 'h'] i\n",
      "[' ', 'h', 'i'] m\n",
      "['h', 'i', 'm'] ,\n",
      "['i', 'm', ',']  \n",
      "['m', ',', ' '] a\n",
      "[',', ' ', 'a'] n\n",
      "[' ', 'a', 'n'] d\n",
      "['a', 'n', 'd']  \n",
      "['n', 'd', ' '] w\n",
      "['d', ' ', 'w'] e\n",
      "[' ', 'w', 'e'] '\n",
      "['w', 'e', \"'\"] l\n",
      "['e', \"'\", 'l'] l\n",
      "[\"'\", 'l', 'l']  \n",
      "['l', 'l', ' '] h\n",
      "['l', ' ', 'h'] a\n",
      "[' ', 'h', 'a'] v\n",
      "['h', 'a', 'v'] e\n",
      "['a', 'v', 'e']  \n",
      "['v', 'e', ' '] c\n",
      "['e', ' ', 'c'] o\n",
      "[' ', 'c', 'o'] r\n",
      "['c', 'o', 'r'] n\n",
      "['o', 'r', 'n']  \n",
      "['r', 'n', ' '] a\n",
      "['n', ' ', 'a'] t\n",
      "[' ', 'a', 't']  \n",
      "['a', 't', ' '] o\n",
      "['t', ' ', 'o'] u\n",
      "[' ', 'o', 'u'] r\n",
      "['o', 'u', 'r']  \n",
      "['u', 'r', ' '] o\n",
      "['r', ' ', 'o'] w\n",
      "[' ', 'o', 'w'] n\n",
      "['o', 'w', 'n']  \n",
      "['w', 'n', ' '] p\n",
      "['n', ' ', 'p'] r\n",
      "[' ', 'p', 'r'] i\n",
      "['p', 'r', 'i'] c\n",
      "['r', 'i', 'c'] e\n",
      "['i', 'c', 'e'] .\n",
      "['c', 'e', '.'] \n",
      "\n",
      "row:  ['I', 's', \"'\", 't', ' ', 'a', ' ', 'v', 'e', 'r', 'd', 'i', 'c', 't', '?', '\\n']\n",
      "['<pad>', 'I'] s\n",
      "['<pad>', 'I', 's'] '\n",
      "['I', 's', \"'\"] t\n",
      "['s', \"'\", 't']  \n",
      "[\"'\", 't', ' '] a\n",
      "['t', ' ', 'a']  \n",
      "[' ', 'a', ' '] v\n",
      "['a', ' ', 'v'] e\n",
      "[' ', 'v', 'e'] r\n",
      "['v', 'e', 'r'] d\n",
      "['e', 'r', 'd'] i\n",
      "['r', 'd', 'i'] c\n",
      "['d', 'i', 'c'] t\n",
      "['i', 'c', 't'] ?\n",
      "['c', 't', '?'] \n",
      "\n",
      "row:  ['A', 'l', 'l', ':', '\\n']\n",
      "['<pad>', 'A'] l\n",
      "['<pad>', 'A', 'l'] l\n",
      "['A', 'l', 'l'] :\n",
      "['l', 'l', ':'] \n",
      "\n",
      "row:  ['N', 'o', ' ', 'm', 'o', 'r', 'e', ' ', 't', 'a', 'l', 'k', 'i', 'n', 'g', ' ', 'o', 'n', \"'\", 't', ';', ' ', 'l', 'e', 't', ' ', 'i', 't', ' ', 'b', 'e', ' ', 'd', 'o', 'n', 'e', ':', ' ', 'a', 'w', 'a', 'y', ',', ' ', 'a', 'w', 'a', 'y', '!', '\\n']\n",
      "['<pad>', 'N'] o\n",
      "['<pad>', 'N', 'o']  \n",
      "['N', 'o', ' '] m\n",
      "['o', ' ', 'm'] o\n",
      "[' ', 'm', 'o'] r\n",
      "['m', 'o', 'r'] e\n",
      "['o', 'r', 'e']  \n",
      "['r', 'e', ' '] t\n",
      "['e', ' ', 't'] a\n",
      "[' ', 't', 'a'] l\n",
      "['t', 'a', 'l'] k\n",
      "['a', 'l', 'k'] i\n",
      "['l', 'k', 'i'] n\n",
      "['k', 'i', 'n'] g\n",
      "['i', 'n', 'g']  \n",
      "['n', 'g', ' '] o\n",
      "['g', ' ', 'o'] n\n",
      "[' ', 'o', 'n'] '\n",
      "['o', 'n', \"'\"] t\n",
      "['n', \"'\", 't'] ;\n",
      "[\"'\", 't', ';']  \n",
      "['t', ';', ' '] l\n",
      "[';', ' ', 'l'] e\n",
      "[' ', 'l', 'e'] t\n",
      "['l', 'e', 't']  \n",
      "['e', 't', ' '] i\n",
      "['t', ' ', 'i'] t\n",
      "[' ', 'i', 't']  \n",
      "['i', 't', ' '] b\n",
      "['t', ' ', 'b'] e\n",
      "[' ', 'b', 'e']  \n",
      "['b', 'e', ' '] d\n",
      "['e', ' ', 'd'] o\n",
      "[' ', 'd', 'o'] n\n",
      "['d', 'o', 'n'] e\n",
      "['o', 'n', 'e'] :\n",
      "['n', 'e', ':']  \n",
      "['e', ':', ' '] a\n",
      "[':', ' ', 'a'] w\n",
      "[' ', 'a', 'w'] a\n",
      "['a', 'w', 'a'] y\n",
      "['w', 'a', 'y'] ,\n",
      "['a', 'y', ',']  \n",
      "['y', ',', ' '] a\n",
      "[',', ' ', 'a'] w\n",
      "[' ', 'a', 'w'] a\n",
      "['a', 'w', 'a'] y\n",
      "['w', 'a', 'y'] !\n",
      "['a', 'y', '!'] \n",
      "\n",
      "row:  ['S', 'e', 'c', 'o', 'n', 'd', ' ', 'C', 'i', 't', 'i', 'z', 'e', 'n', ':', '\\n']\n",
      "['<pad>', 'S'] e\n",
      "['<pad>', 'S', 'e'] c\n",
      "['S', 'e', 'c'] o\n",
      "['e', 'c', 'o'] n\n",
      "['c', 'o', 'n'] d\n",
      "['o', 'n', 'd']  \n",
      "['n', 'd', ' '] C\n",
      "['d', ' ', 'C'] i\n",
      "[' ', 'C', 'i'] t\n",
      "['C', 'i', 't'] i\n",
      "['i', 't', 'i'] z\n",
      "['t', 'i', 'z'] e\n",
      "['i', 'z', 'e'] n\n",
      "['z', 'e', 'n'] :\n",
      "['e', 'n', ':'] \n",
      "\n",
      "row:  ['O', 'n', 'e', ' ', 'w', 'o', 'r', 'd', ',', ' ', 'g', 'o', 'o', 'd', ' ', 'c', 'i', 't', 'i', 'z', 'e', 'n', 's', '.', '\\n']\n",
      "['<pad>', 'O'] n\n",
      "['<pad>', 'O', 'n'] e\n",
      "['O', 'n', 'e']  \n",
      "['n', 'e', ' '] w\n",
      "['e', ' ', 'w'] o\n",
      "[' ', 'w', 'o'] r\n",
      "['w', 'o', 'r'] d\n",
      "['o', 'r', 'd'] ,\n",
      "['r', 'd', ',']  \n",
      "['d', ',', ' '] g\n",
      "[',', ' ', 'g'] o\n",
      "[' ', 'g', 'o'] o\n",
      "['g', 'o', 'o'] d\n",
      "['o', 'o', 'd']  \n",
      "['o', 'd', ' '] c\n",
      "['d', ' ', 'c'] i\n",
      "[' ', 'c', 'i'] t\n",
      "['c', 'i', 't'] i\n",
      "['i', 't', 'i'] z\n",
      "['t', 'i', 'z'] e\n",
      "['i', 'z', 'e'] n\n",
      "['z', 'e', 'n'] s\n",
      "['e', 'n', 's'] .\n",
      "['n', 's', '.'] \n",
      "\n",
      "row:  ['F', 'i', 'r', 's', 't', ' ', 'C', 'i', 't', 'i', 'z', 'e', 'n', ':', '\\n']\n",
      "['<pad>', 'F'] i\n",
      "['<pad>', 'F', 'i'] r\n",
      "['F', 'i', 'r'] s\n",
      "['i', 'r', 's'] t\n",
      "['r', 's', 't']  \n",
      "['s', 't', ' '] C\n",
      "['t', ' ', 'C'] i\n",
      "[' ', 'C', 'i'] t\n",
      "['C', 'i', 't'] i\n",
      "['i', 't', 'i'] z\n",
      "['t', 'i', 'z'] e\n",
      "['i', 'z', 'e'] n\n",
      "['z', 'e', 'n'] :\n",
      "['e', 'n', ':'] \n",
      "\n",
      "row:  ['W', 'e', ' ', 'a', 'r', 'e', ' ', 'a', 'c', 'c', 'o', 'u', 'n', 't', 'e', 'd', ' ', 'p', 'o', 'o', 'r', ' ', 'c', 'i', 't', 'i', 'z', 'e', 'n', 's', ',', ' ', 't', 'h', 'e', ' ', 'p', 'a', 't', 'r', 'i', 'c', 'i', 'a', 'n', 's', ' ', 'g', 'o', 'o', 'd', '.', '\\n']\n",
      "['<pad>', 'W'] e\n",
      "['<pad>', 'W', 'e']  \n",
      "['W', 'e', ' '] a\n",
      "['e', ' ', 'a'] r\n",
      "[' ', 'a', 'r'] e\n",
      "['a', 'r', 'e']  \n",
      "['r', 'e', ' '] a\n",
      "['e', ' ', 'a'] c\n",
      "[' ', 'a', 'c'] c\n",
      "['a', 'c', 'c'] o\n",
      "['c', 'c', 'o'] u\n",
      "['c', 'o', 'u'] n\n",
      "['o', 'u', 'n'] t\n",
      "['u', 'n', 't'] e\n",
      "['n', 't', 'e'] d\n",
      "['t', 'e', 'd']  \n",
      "['e', 'd', ' '] p\n",
      "['d', ' ', 'p'] o\n",
      "[' ', 'p', 'o'] o\n",
      "['p', 'o', 'o'] r\n",
      "['o', 'o', 'r']  \n",
      "['o', 'r', ' '] c\n",
      "['r', ' ', 'c'] i\n",
      "[' ', 'c', 'i'] t\n",
      "['c', 'i', 't'] i\n",
      "['i', 't', 'i'] z\n",
      "['t', 'i', 'z'] e\n",
      "['i', 'z', 'e'] n\n",
      "['z', 'e', 'n'] s\n",
      "['e', 'n', 's'] ,\n",
      "['n', 's', ',']  \n",
      "['s', ',', ' '] t\n",
      "[',', ' ', 't'] h\n",
      "[' ', 't', 'h'] e\n",
      "['t', 'h', 'e']  \n",
      "['h', 'e', ' '] p\n",
      "['e', ' ', 'p'] a\n",
      "[' ', 'p', 'a'] t\n",
      "['p', 'a', 't'] r\n",
      "['a', 't', 'r'] i\n",
      "['t', 'r', 'i'] c\n",
      "['r', 'i', 'c'] i\n",
      "['i', 'c', 'i'] a\n",
      "['c', 'i', 'a'] n\n",
      "['i', 'a', 'n'] s\n",
      "['a', 'n', 's']  \n",
      "['n', 's', ' '] g\n",
      "['s', ' ', 'g'] o\n",
      "[' ', 'g', 'o'] o\n",
      "['g', 'o', 'o'] d\n",
      "['o', 'o', 'd'] .\n",
      "['o', 'd', '.'] \n",
      "\n",
      "row:  ['W', 'h', 'a', 't', ' ', 'a', 'u', 't', 'h', 'o', 'r', 'i', 't', 'y', ' ', 's', 'u', 'r', 'f', 'e', 'i', 't', 's', ' ', 'o', 'n', ' ', 'w', 'o', 'u', 'l', 'd', ' ', 'r', 'e', 'l', 'i', 'e', 'v', 'e', ' ', 'u', 's', ':', ' ', 'i', 'f', ' ', 't', 'h', 'e', 'y', '\\n']\n",
      "['<pad>', 'W'] h\n",
      "['<pad>', 'W', 'h'] a\n",
      "['W', 'h', 'a'] t\n",
      "['h', 'a', 't']  \n",
      "['a', 't', ' '] a\n",
      "['t', ' ', 'a'] u\n",
      "[' ', 'a', 'u'] t\n",
      "['a', 'u', 't'] h\n",
      "['u', 't', 'h'] o\n",
      "['t', 'h', 'o'] r\n",
      "['h', 'o', 'r'] i\n",
      "['o', 'r', 'i'] t\n",
      "['r', 'i', 't'] y\n",
      "['i', 't', 'y']  \n",
      "['t', 'y', ' '] s\n",
      "['y', ' ', 's'] u\n",
      "[' ', 's', 'u'] r\n",
      "['s', 'u', 'r'] f\n",
      "['u', 'r', 'f'] e\n",
      "['r', 'f', 'e'] i\n",
      "['f', 'e', 'i'] t\n",
      "['e', 'i', 't'] s\n",
      "['i', 't', 's']  \n",
      "['t', 's', ' '] o\n",
      "['s', ' ', 'o'] n\n",
      "[' ', 'o', 'n']  \n",
      "['o', 'n', ' '] w\n",
      "['n', ' ', 'w'] o\n",
      "[' ', 'w', 'o'] u\n",
      "['w', 'o', 'u'] l\n",
      "['o', 'u', 'l'] d\n",
      "['u', 'l', 'd']  \n",
      "['l', 'd', ' '] r\n",
      "['d', ' ', 'r'] e\n",
      "[' ', 'r', 'e'] l\n",
      "['r', 'e', 'l'] i\n",
      "['e', 'l', 'i'] e\n",
      "['l', 'i', 'e'] v\n",
      "['i', 'e', 'v'] e\n",
      "['e', 'v', 'e']  \n",
      "['v', 'e', ' '] u\n",
      "['e', ' ', 'u'] s\n",
      "[' ', 'u', 's'] :\n",
      "['u', 's', ':']  \n",
      "['s', ':', ' '] i\n",
      "[':', ' ', 'i'] f\n",
      "[' ', 'i', 'f']  \n",
      "['i', 'f', ' '] t\n",
      "['f', ' ', 't'] h\n",
      "[' ', 't', 'h'] e\n",
      "['t', 'h', 'e'] y\n",
      "['h', 'e', 'y'] \n",
      "\n",
      "row:  ['w', 'o', 'u', 'l', 'd', ' ', 'y', 'i', 'e', 'l', 'd', ' ', 'u', 's', ' ', 'b', 'u', 't', ' ', 't', 'h', 'e', ' ', 's', 'u', 'p', 'e', 'r', 'f', 'l', 'u', 'i', 't', 'y', ',', ' ', 'w', 'h', 'i', 'l', 'e', ' ', 'i', 't', ' ', 'w', 'e', 'r', 'e', '\\n']\n",
      "['<pad>', 'w'] o\n",
      "['<pad>', 'w', 'o'] u\n",
      "['w', 'o', 'u'] l\n",
      "['o', 'u', 'l'] d\n",
      "['u', 'l', 'd']  \n",
      "['l', 'd', ' '] y\n",
      "['d', ' ', 'y'] i\n",
      "[' ', 'y', 'i'] e\n",
      "['y', 'i', 'e'] l\n",
      "['i', 'e', 'l'] d\n",
      "['e', 'l', 'd']  \n",
      "['l', 'd', ' '] u\n",
      "['d', ' ', 'u'] s\n",
      "[' ', 'u', 's']  \n",
      "['u', 's', ' '] b\n",
      "['s', ' ', 'b'] u\n",
      "[' ', 'b', 'u'] t\n",
      "['b', 'u', 't']  \n",
      "['u', 't', ' '] t\n",
      "['t', ' ', 't'] h\n",
      "[' ', 't', 'h'] e\n",
      "['t', 'h', 'e']  \n",
      "['h', 'e', ' '] s\n",
      "['e', ' ', 's'] u\n",
      "[' ', 's', 'u'] p\n",
      "['s', 'u', 'p'] e\n",
      "['u', 'p', 'e'] r\n",
      "['p', 'e', 'r'] f\n",
      "['e', 'r', 'f'] l\n",
      "['r', 'f', 'l'] u\n",
      "['f', 'l', 'u'] i\n",
      "['l', 'u', 'i'] t\n",
      "['u', 'i', 't'] y\n",
      "['i', 't', 'y'] ,\n",
      "['t', 'y', ',']  \n",
      "['y', ',', ' '] w\n",
      "[',', ' ', 'w'] h\n",
      "[' ', 'w', 'h'] i\n",
      "['w', 'h', 'i'] l\n",
      "['h', 'i', 'l'] e\n",
      "['i', 'l', 'e']  \n",
      "['l', 'e', ' '] i\n",
      "['e', ' ', 'i'] t\n",
      "[' ', 'i', 't']  \n",
      "['i', 't', ' '] w\n",
      "['t', ' ', 'w'] e\n",
      "[' ', 'w', 'e'] r\n",
      "['w', 'e', 'r'] e\n",
      "['e', 'r', 'e'] \n",
      "\n",
      "row:  ['w', 'h', 'o', 'l', 'e', 's', 'o', 'm', 'e', ',', ' ', 'w', 'e', ' ', 'm', 'i', 'g', 'h', 't', ' ', 'g', 'u', 'e', 's', 's', ' ', 't', 'h', 'e', 'y', ' ', 'r', 'e', 'l', 'i', 'e', 'v', 'e', 'd', ' ', 'u', 's', ' ', 'h', 'u', 'm', 'a', 'n', 'e', 'l', 'y', ';', '\\n']\n",
      "['<pad>', 'w'] h\n",
      "['<pad>', 'w', 'h'] o\n",
      "['w', 'h', 'o'] l\n",
      "['h', 'o', 'l'] e\n",
      "['o', 'l', 'e'] s\n",
      "['l', 'e', 's'] o\n",
      "['e', 's', 'o'] m\n",
      "['s', 'o', 'm'] e\n",
      "['o', 'm', 'e'] ,\n",
      "['m', 'e', ',']  \n",
      "['e', ',', ' '] w\n",
      "[',', ' ', 'w'] e\n",
      "[' ', 'w', 'e']  \n",
      "['w', 'e', ' '] m\n",
      "['e', ' ', 'm'] i\n",
      "[' ', 'm', 'i'] g\n",
      "['m', 'i', 'g'] h\n",
      "['i', 'g', 'h'] t\n",
      "['g', 'h', 't']  \n",
      "['h', 't', ' '] g\n",
      "['t', ' ', 'g'] u\n",
      "[' ', 'g', 'u'] e\n",
      "['g', 'u', 'e'] s\n",
      "['u', 'e', 's'] s\n",
      "['e', 's', 's']  \n",
      "['s', 's', ' '] t\n",
      "['s', ' ', 't'] h\n",
      "[' ', 't', 'h'] e\n",
      "['t', 'h', 'e'] y\n",
      "['h', 'e', 'y']  \n",
      "['e', 'y', ' '] r\n",
      "['y', ' ', 'r'] e\n",
      "[' ', 'r', 'e'] l\n",
      "['r', 'e', 'l'] i\n",
      "['e', 'l', 'i'] e\n",
      "['l', 'i', 'e'] v\n",
      "['i', 'e', 'v'] e\n",
      "['e', 'v', 'e'] d\n",
      "['v', 'e', 'd']  \n",
      "['e', 'd', ' '] u\n",
      "['d', ' ', 'u'] s\n",
      "[' ', 'u', 's']  \n",
      "['u', 's', ' '] h\n",
      "['s', ' ', 'h'] u\n",
      "[' ', 'h', 'u'] m\n",
      "['h', 'u', 'm'] a\n",
      "['u', 'm', 'a'] n\n",
      "['m', 'a', 'n'] e\n",
      "['a', 'n', 'e'] l\n",
      "['n', 'e', 'l'] y\n",
      "['e', 'l', 'y'] ;\n",
      "['l', 'y', ';'] \n",
      "\n",
      "row:  ['b', 'u', 't', ' ', 't', 'h', 'e', 'y', ' ', 't', 'h', 'i', 'n', 'k', ' ', 'w', 'e', ' ', 'a', 'r', 'e', ' ', 't', 'o', 'o', ' ', 'd', 'e', 'a', 'r', ':', ' ', 't', 'h', 'e', ' ', 'l', 'e', 'a', 'n', 'n', 'e', 's', 's', ' ', 't', 'h', 'a', 't', '\\n']\n",
      "['<pad>', 'b'] u\n",
      "['<pad>', 'b', 'u'] t\n",
      "['b', 'u', 't']  \n",
      "['u', 't', ' '] t\n",
      "['t', ' ', 't'] h\n",
      "[' ', 't', 'h'] e\n",
      "['t', 'h', 'e'] y\n",
      "['h', 'e', 'y']  \n",
      "['e', 'y', ' '] t\n",
      "['y', ' ', 't'] h\n",
      "[' ', 't', 'h'] i\n",
      "['t', 'h', 'i'] n\n",
      "['h', 'i', 'n'] k\n",
      "['i', 'n', 'k']  \n",
      "['n', 'k', ' '] w\n",
      "['k', ' ', 'w'] e\n",
      "[' ', 'w', 'e']  \n",
      "['w', 'e', ' '] a\n",
      "['e', ' ', 'a'] r\n",
      "[' ', 'a', 'r'] e\n",
      "['a', 'r', 'e']  \n",
      "['r', 'e', ' '] t\n",
      "['e', ' ', 't'] o\n",
      "[' ', 't', 'o'] o\n",
      "['t', 'o', 'o']  \n",
      "['o', 'o', ' '] d\n",
      "['o', ' ', 'd'] e\n",
      "[' ', 'd', 'e'] a\n",
      "['d', 'e', 'a'] r\n",
      "['e', 'a', 'r'] :\n",
      "['a', 'r', ':']  \n",
      "['r', ':', ' '] t\n",
      "[':', ' ', 't'] h\n",
      "[' ', 't', 'h'] e\n",
      "['t', 'h', 'e']  \n",
      "['h', 'e', ' '] l\n",
      "['e', ' ', 'l'] e\n",
      "[' ', 'l', 'e'] a\n",
      "['l', 'e', 'a'] n\n",
      "['e', 'a', 'n'] n\n",
      "['a', 'n', 'n'] e\n",
      "['n', 'n', 'e'] s\n",
      "['n', 'e', 's'] s\n",
      "['e', 's', 's']  \n",
      "['s', 's', ' '] t\n",
      "['s', ' ', 't'] h\n",
      "[' ', 't', 'h'] a\n",
      "['t', 'h', 'a'] t\n",
      "['h', 'a', 't'] \n",
      "\n",
      "row:  ['a', 'f', 'f', 'l', 'i', 'c', 't', 's', ' ', 'u', 's', ',', ' ', 't', 'h', 'e', ' ', 'o', 'b', 'j', 'e', 'c', 't', ' ', 'o', 'f', ' ', 'o', 'u', 'r', ' ', 'm', 'i', 's', 'e', 'r', 'y', ',', ' ', 'i', 's', ' ', 'a', 's', ' ', 'a', 'n', '\\n']\n",
      "['<pad>', 'a'] f\n",
      "['<pad>', 'a', 'f'] f\n",
      "['a', 'f', 'f'] l\n",
      "['f', 'f', 'l'] i\n",
      "['f', 'l', 'i'] c\n",
      "['l', 'i', 'c'] t\n",
      "['i', 'c', 't'] s\n",
      "['c', 't', 's']  \n",
      "['t', 's', ' '] u\n",
      "['s', ' ', 'u'] s\n",
      "[' ', 'u', 's'] ,\n",
      "['u', 's', ',']  \n",
      "['s', ',', ' '] t\n",
      "[',', ' ', 't'] h\n",
      "[' ', 't', 'h'] e\n",
      "['t', 'h', 'e']  \n",
      "['h', 'e', ' '] o\n",
      "['e', ' ', 'o'] b\n",
      "[' ', 'o', 'b'] j\n",
      "['o', 'b', 'j'] e\n",
      "['b', 'j', 'e'] c\n",
      "['j', 'e', 'c'] t\n",
      "['e', 'c', 't']  \n",
      "['c', 't', ' '] o\n",
      "['t', ' ', 'o'] f\n",
      "[' ', 'o', 'f']  \n",
      "['o', 'f', ' '] o\n",
      "['f', ' ', 'o'] u\n",
      "[' ', 'o', 'u'] r\n",
      "['o', 'u', 'r']  \n",
      "['u', 'r', ' '] m\n",
      "['r', ' ', 'm'] i\n",
      "[' ', 'm', 'i'] s\n",
      "['m', 'i', 's'] e\n",
      "['i', 's', 'e'] r\n",
      "['s', 'e', 'r'] y\n",
      "['e', 'r', 'y'] ,\n",
      "['r', 'y', ',']  \n",
      "['y', ',', ' '] i\n",
      "[',', ' ', 'i'] s\n",
      "[' ', 'i', 's']  \n",
      "['i', 's', ' '] a\n",
      "['s', ' ', 'a'] s\n",
      "[' ', 'a', 's']  \n",
      "['a', 's', ' '] a\n",
      "['s', ' ', 'a'] n\n",
      "[' ', 'a', 'n'] \n",
      "\n",
      "row:  ['i', 'n', 'v', 'e', 'n', 't', 'o', 'r', 'y', ' ', 't', 'o', ' ', 'p', 'a', 'r', 't', 'i', 'c', 'u', 'l', 'a', 'r', 'i', 's', 'e', ' ', 't', 'h', 'e', 'i', 'r', ' ', 'a', 'b', 'u', 'n', 'd', 'a', 'n', 'c', 'e', ';', ' ', 'o', 'u', 'r', '\\n']\n",
      "['<pad>', 'i'] n\n",
      "['<pad>', 'i', 'n'] v\n",
      "['i', 'n', 'v'] e\n",
      "['n', 'v', 'e'] n\n",
      "['v', 'e', 'n'] t\n",
      "['e', 'n', 't'] o\n",
      "['n', 't', 'o'] r\n",
      "['t', 'o', 'r'] y\n",
      "['o', 'r', 'y']  \n",
      "['r', 'y', ' '] t\n",
      "['y', ' ', 't'] o\n",
      "[' ', 't', 'o']  \n",
      "['t', 'o', ' '] p\n",
      "['o', ' ', 'p'] a\n",
      "[' ', 'p', 'a'] r\n",
      "['p', 'a', 'r'] t\n",
      "['a', 'r', 't'] i\n",
      "['r', 't', 'i'] c\n",
      "['t', 'i', 'c'] u\n",
      "['i', 'c', 'u'] l\n",
      "['c', 'u', 'l'] a\n",
      "['u', 'l', 'a'] r\n",
      "['l', 'a', 'r'] i\n",
      "['a', 'r', 'i'] s\n",
      "['r', 'i', 's'] e\n",
      "['i', 's', 'e']  \n",
      "['s', 'e', ' '] t\n",
      "['e', ' ', 't'] h\n",
      "[' ', 't', 'h'] e\n",
      "['t', 'h', 'e'] i\n",
      "['h', 'e', 'i'] r\n",
      "['e', 'i', 'r']  \n",
      "['i', 'r', ' '] a\n",
      "['r', ' ', 'a'] b\n",
      "[' ', 'a', 'b'] u\n",
      "['a', 'b', 'u'] n\n",
      "['b', 'u', 'n'] d\n",
      "['u', 'n', 'd'] a\n",
      "['n', 'd', 'a'] n\n",
      "['d', 'a', 'n'] c\n",
      "['a', 'n', 'c'] e\n",
      "['n', 'c', 'e'] ;\n",
      "['c', 'e', ';']  \n",
      "['e', ';', ' '] o\n",
      "[';', ' ', 'o'] u\n",
      "[' ', 'o', 'u'] r\n",
      "['o', 'u', 'r'] \n",
      "\n",
      "row:  ['s', 'u', 'f', 'f', 'e', 'r', 'a', 'n', 'c', 'e', ' ', 'i', 's', ' ', 'a', ' ', 'g', 'a', 'i', 'n', ' ', 't', 'o', ' ', 't', 'h', 'e', 'm', ' ', 'L', 'e', 't', ' ', 'u', 's', ' ', 'r', 'e', 'v', 'e', 'n', 'g', 'e', ' ', 't', 'h', 'i', 's', ' ', 'w', 'i', 't', 'h', '\\n']\n",
      "['<pad>', 's'] u\n",
      "['<pad>', 's', 'u'] f\n",
      "['s', 'u', 'f'] f\n",
      "['u', 'f', 'f'] e\n",
      "['f', 'f', 'e'] r\n",
      "['f', 'e', 'r'] a\n",
      "['e', 'r', 'a'] n\n",
      "['r', 'a', 'n'] c\n",
      "['a', 'n', 'c'] e\n",
      "['n', 'c', 'e']  \n",
      "['c', 'e', ' '] i\n",
      "['e', ' ', 'i'] s\n",
      "[' ', 'i', 's']  \n",
      "['i', 's', ' '] a\n",
      "['s', ' ', 'a']  \n",
      "[' ', 'a', ' '] g\n",
      "['a', ' ', 'g'] a\n",
      "[' ', 'g', 'a'] i\n",
      "['g', 'a', 'i'] n\n",
      "['a', 'i', 'n']  \n",
      "['i', 'n', ' '] t\n",
      "['n', ' ', 't'] o\n",
      "[' ', 't', 'o']  \n",
      "['t', 'o', ' '] t\n",
      "['o', ' ', 't'] h\n",
      "[' ', 't', 'h'] e\n",
      "['t', 'h', 'e'] m\n",
      "['h', 'e', 'm']  \n",
      "['e', 'm', ' '] L\n",
      "['m', ' ', 'L'] e\n",
      "[' ', 'L', 'e'] t\n",
      "['L', 'e', 't']  \n",
      "['e', 't', ' '] u\n",
      "['t', ' ', 'u'] s\n",
      "[' ', 'u', 's']  \n",
      "['u', 's', ' '] r\n",
      "['s', ' ', 'r'] e\n",
      "[' ', 'r', 'e'] v\n",
      "['r', 'e', 'v'] e\n",
      "['e', 'v', 'e'] n\n",
      "['v', 'e', 'n'] g\n",
      "['e', 'n', 'g'] e\n",
      "['n', 'g', 'e']  \n",
      "['g', 'e', ' '] t\n",
      "['e', ' ', 't'] h\n",
      "[' ', 't', 'h'] i\n",
      "['t', 'h', 'i'] s\n",
      "['h', 'i', 's']  \n",
      "['i', 's', ' '] w\n",
      "['s', ' ', 'w'] i\n",
      "[' ', 'w', 'i'] t\n",
      "['w', 'i', 't'] h\n",
      "['i', 't', 'h'] \n",
      "\n",
      "row:  ['o', 'u', 'r', ' ', 'p', 'i', 'k', 'e', 's', ',', ' ', 'e', 'r', 'e', ' ', 'w', 'e', ' ', 'b', 'e', 'c', 'o', 'm', 'e', ' ', 'r', 'a', 'k', 'e', 's', ':', ' ', 'f', 'o', 'r', ' ', 't', 'h', 'e', ' ', 'g', 'o', 'd', 's', ' ', 'k', 'n', 'o', 'w', ' ', 'I', '\\n']\n",
      "['<pad>', 'o'] u\n",
      "['<pad>', 'o', 'u'] r\n",
      "['o', 'u', 'r']  \n",
      "['u', 'r', ' '] p\n",
      "['r', ' ', 'p'] i\n",
      "[' ', 'p', 'i'] k\n",
      "['p', 'i', 'k'] e\n",
      "['i', 'k', 'e'] s\n",
      "['k', 'e', 's'] ,\n",
      "['e', 's', ',']  \n",
      "['s', ',', ' '] e\n",
      "[',', ' ', 'e'] r\n",
      "[' ', 'e', 'r'] e\n",
      "['e', 'r', 'e']  \n",
      "['r', 'e', ' '] w\n",
      "['e', ' ', 'w'] e\n",
      "[' ', 'w', 'e']  \n",
      "['w', 'e', ' '] b\n",
      "['e', ' ', 'b'] e\n",
      "[' ', 'b', 'e'] c\n",
      "['b', 'e', 'c'] o\n",
      "['e', 'c', 'o'] m\n",
      "['c', 'o', 'm'] e\n",
      "['o', 'm', 'e']  \n",
      "['m', 'e', ' '] r\n",
      "['e', ' ', 'r'] a\n",
      "[' ', 'r', 'a'] k\n",
      "['r', 'a', 'k'] e\n",
      "['a', 'k', 'e'] s\n",
      "['k', 'e', 's'] :\n",
      "['e', 's', ':']  \n",
      "['s', ':', ' '] f\n",
      "[':', ' ', 'f'] o\n",
      "[' ', 'f', 'o'] r\n",
      "['f', 'o', 'r']  \n",
      "['o', 'r', ' '] t\n",
      "['r', ' ', 't'] h\n",
      "[' ', 't', 'h'] e\n",
      "['t', 'h', 'e']  \n",
      "['h', 'e', ' '] g\n",
      "['e', ' ', 'g'] o\n",
      "[' ', 'g', 'o'] d\n",
      "['g', 'o', 'd'] s\n",
      "['o', 'd', 's']  \n",
      "['d', 's', ' '] k\n",
      "['s', ' ', 'k'] n\n",
      "[' ', 'k', 'n'] o\n",
      "['k', 'n', 'o'] w\n",
      "['n', 'o', 'w']  \n",
      "['o', 'w', ' '] I\n",
      "['w', ' ', 'I'] \n",
      "\n",
      "row:  ['s', 'p', 'e', 'a', 'k', ' ', 't', 'h', 'i', 's', ' ', 'i', 'n', ' ', 'h', 'u', 'n', 'g', 'e', 'r', ' ', 'f', 'o', 'r', ' ', 'b', 'r', 'e', 'a', 'd', ',', ' ', 'n', 'o', 't', ' ', 'i', 'n', ' ', 't', 'h', 'i', 'r', 's', 't', ' ', 'f', 'o', 'r', ' ', 'r', 'e', 'v', 'e', 'n', 'g', 'e', '.', '\\n']\n",
      "['<pad>', 's'] p\n",
      "['<pad>', 's', 'p'] e\n",
      "['s', 'p', 'e'] a\n",
      "['p', 'e', 'a'] k\n",
      "['e', 'a', 'k']  \n",
      "['a', 'k', ' '] t\n",
      "['k', ' ', 't'] h\n",
      "[' ', 't', 'h'] i\n",
      "['t', 'h', 'i'] s\n",
      "['h', 'i', 's']  \n",
      "['i', 's', ' '] i\n",
      "['s', ' ', 'i'] n\n",
      "[' ', 'i', 'n']  \n",
      "['i', 'n', ' '] h\n",
      "['n', ' ', 'h'] u\n",
      "[' ', 'h', 'u'] n\n",
      "['h', 'u', 'n'] g\n",
      "['u', 'n', 'g'] e\n",
      "['n', 'g', 'e'] r\n",
      "['g', 'e', 'r']  \n",
      "['e', 'r', ' '] f\n",
      "['r', ' ', 'f'] o\n",
      "[' ', 'f', 'o'] r\n",
      "['f', 'o', 'r']  \n",
      "['o', 'r', ' '] b\n",
      "['r', ' ', 'b'] r\n",
      "[' ', 'b', 'r'] e\n",
      "['b', 'r', 'e'] a\n",
      "['r', 'e', 'a'] d\n",
      "['e', 'a', 'd'] ,\n",
      "['a', 'd', ',']  \n",
      "['d', ',', ' '] n\n",
      "[',', ' ', 'n'] o\n",
      "[' ', 'n', 'o'] t\n",
      "['n', 'o', 't']  \n",
      "['o', 't', ' '] i\n",
      "['t', ' ', 'i'] n\n",
      "[' ', 'i', 'n']  \n",
      "['i', 'n', ' '] t\n",
      "['n', ' ', 't'] h\n",
      "[' ', 't', 'h'] i\n",
      "['t', 'h', 'i'] r\n",
      "['h', 'i', 'r'] s\n",
      "['i', 'r', 's'] t\n",
      "['r', 's', 't']  \n",
      "['s', 't', ' '] f\n",
      "['t', ' ', 'f'] o\n",
      "[' ', 'f', 'o'] r\n",
      "['f', 'o', 'r']  \n",
      "['o', 'r', ' '] r\n",
      "['r', ' ', 'r'] e\n",
      "[' ', 'r', 'e'] v\n",
      "['r', 'e', 'v'] e\n",
      "['e', 'v', 'e'] n\n",
      "['v', 'e', 'n'] g\n",
      "['e', 'n', 'g'] e\n",
      "['n', 'g', 'e'] .\n",
      "['g', 'e', '.'] \n",
      "\n",
      "row:  ['S', 'e', 'c', 'o', 'n', 'd', ' ', 'C', 'i', 't', 'i', 'z', 'e', 'n', ':', '\\n']\n",
      "['<pad>', 'S'] e\n",
      "['<pad>', 'S', 'e'] c\n",
      "['S', 'e', 'c'] o\n",
      "['e', 'c', 'o'] n\n",
      "['c', 'o', 'n'] d\n",
      "['o', 'n', 'd']  \n",
      "['n', 'd', ' '] C\n",
      "['d', ' ', 'C'] i\n",
      "[' ', 'C', 'i'] t\n",
      "['C', 'i', 't'] i\n",
      "['i', 't', 'i'] z\n",
      "['t', 'i', 'z'] e\n",
      "['i', 'z', 'e'] n\n",
      "['z', 'e', 'n'] :\n",
      "['e', 'n', ':'] \n",
      "\n",
      "row:  ['W', 'o', 'u', 'l', 'd', ' ', 'y', 'o', 'u', ' ', 'p', 'r', 'o', 'c', 'e', 'e', 'd', ' ', 'e', 's', 'p', 'e', 'c', 'i', 'a', 'l', 'l', 'y', ' ', 'a', 'g', 'a', 'i', 'n', 's', 't', ' ', 'C', 'a', 'i', 'u', 's', ' ', 'M', 'a', 'r', 'c', 'i', 'u', 's', '?', '\\n']\n",
      "['<pad>', 'W'] o\n",
      "['<pad>', 'W', 'o'] u\n",
      "['W', 'o', 'u'] l\n",
      "['o', 'u', 'l'] d\n",
      "['u', 'l', 'd']  \n",
      "['l', 'd', ' '] y\n",
      "['d', ' ', 'y'] o\n",
      "[' ', 'y', 'o'] u\n",
      "['y', 'o', 'u']  \n",
      "['o', 'u', ' '] p\n",
      "['u', ' ', 'p'] r\n",
      "[' ', 'p', 'r'] o\n",
      "['p', 'r', 'o'] c\n",
      "['r', 'o', 'c'] e\n",
      "['o', 'c', 'e'] e\n",
      "['c', 'e', 'e'] d\n",
      "['e', 'e', 'd']  \n",
      "['e', 'd', ' '] e\n",
      "['d', ' ', 'e'] s\n",
      "[' ', 'e', 's'] p\n",
      "['e', 's', 'p'] e\n",
      "['s', 'p', 'e'] c\n",
      "['p', 'e', 'c'] i\n",
      "['e', 'c', 'i'] a\n",
      "['c', 'i', 'a'] l\n",
      "['i', 'a', 'l'] l\n",
      "['a', 'l', 'l'] y\n",
      "['l', 'l', 'y']  \n",
      "['l', 'y', ' '] a\n",
      "['y', ' ', 'a'] g\n",
      "[' ', 'a', 'g'] a\n",
      "['a', 'g', 'a'] i\n",
      "['g', 'a', 'i'] n\n",
      "['a', 'i', 'n'] s\n",
      "['i', 'n', 's'] t\n",
      "['n', 's', 't']  \n",
      "['s', 't', ' '] C\n",
      "['t', ' ', 'C'] a\n",
      "[' ', 'C', 'a'] i\n",
      "['C', 'a', 'i'] u\n",
      "['a', 'i', 'u'] s\n",
      "['i', 'u', 's']  \n",
      "['u', 's', ' '] M\n",
      "['s', ' ', 'M'] a\n",
      "[' ', 'M', 'a'] r\n",
      "['M', 'a', 'r'] c\n",
      "['a', 'r', 'c'] i\n",
      "['r', 'c', 'i'] u\n",
      "['c', 'i', 'u'] s\n",
      "['i', 'u', 's'] ?\n",
      "['u', 's', '?'] \n",
      "\n",
      "row:  ['A', 'l', 'l', ':', '\\n']\n",
      "['<pad>', 'A'] l\n",
      "['<pad>', 'A', 'l'] l\n",
      "['A', 'l', 'l'] :\n",
      "['l', 'l', ':'] \n",
      "\n",
      "row:  ['A', 'g', 'a', 'i', 'n', 's', 't', ' ', 'h', 'i', 'm', ' ', 'f', 'i', 'r', 's', 't', ':', ' ', 'h', 'e', \"'\", 's', ' ', 'a', ' ', 'v', 'e', 'r', 'y', ' ', 'd', 'o', 'g', ' ', 't', 'o', ' ', 't', 'h', 'e', ' ', 'c', 'o', 'm', 'm', 'o', 'n', 'a', 'l', 't', 'y', '.', '\\n']\n",
      "['<pad>', 'A'] g\n",
      "['<pad>', 'A', 'g'] a\n",
      "['A', 'g', 'a'] i\n",
      "['g', 'a', 'i'] n\n",
      "['a', 'i', 'n'] s\n",
      "['i', 'n', 's'] t\n",
      "['n', 's', 't']  \n",
      "['s', 't', ' '] h\n",
      "['t', ' ', 'h'] i\n",
      "[' ', 'h', 'i'] m\n",
      "['h', 'i', 'm']  \n",
      "['i', 'm', ' '] f\n",
      "['m', ' ', 'f'] i\n",
      "[' ', 'f', 'i'] r\n",
      "['f', 'i', 'r'] s\n",
      "['i', 'r', 's'] t\n",
      "['r', 's', 't'] :\n",
      "['s', 't', ':']  \n",
      "['t', ':', ' '] h\n",
      "[':', ' ', 'h'] e\n",
      "[' ', 'h', 'e'] '\n",
      "['h', 'e', \"'\"] s\n",
      "['e', \"'\", 's']  \n",
      "[\"'\", 's', ' '] a\n",
      "['s', ' ', 'a']  \n",
      "[' ', 'a', ' '] v\n",
      "['a', ' ', 'v'] e\n",
      "[' ', 'v', 'e'] r\n",
      "['v', 'e', 'r'] y\n",
      "['e', 'r', 'y']  \n",
      "['r', 'y', ' '] d\n",
      "['y', ' ', 'd'] o\n",
      "[' ', 'd', 'o'] g\n",
      "['d', 'o', 'g']  \n",
      "['o', 'g', ' '] t\n",
      "['g', ' ', 't'] o\n",
      "[' ', 't', 'o']  \n",
      "['t', 'o', ' '] t\n",
      "['o', ' ', 't'] h\n",
      "[' ', 't', 'h'] e\n",
      "['t', 'h', 'e']  \n",
      "['h', 'e', ' '] c\n",
      "['e', ' ', 'c'] o\n",
      "[' ', 'c', 'o'] m\n",
      "['c', 'o', 'm'] m\n",
      "['o', 'm', 'm'] o\n",
      "['m', 'm', 'o'] n\n",
      "['m', 'o', 'n'] a\n",
      "['o', 'n', 'a'] l\n",
      "['n', 'a', 'l'] t\n",
      "['a', 'l', 't'] y\n",
      "['l', 't', 'y'] .\n",
      "['t', 'y', '.'] \n",
      "\n",
      "row:  ['S', 'e', 'c', 'o', 'n', 'd', ' ', 'C', 'i', 't', 'i', 'z', 'e', 'n', ':', '\\n']\n",
      "['<pad>', 'S'] e\n",
      "['<pad>', 'S', 'e'] c\n",
      "['S', 'e', 'c'] o\n",
      "['e', 'c', 'o'] n\n",
      "['c', 'o', 'n'] d\n",
      "['o', 'n', 'd']  \n",
      "['n', 'd', ' '] C\n",
      "['d', ' ', 'C'] i\n",
      "[' ', 'C', 'i'] t\n",
      "['C', 'i', 't'] i\n",
      "['i', 't', 'i'] z\n",
      "['t', 'i', 'z'] e\n",
      "['i', 'z', 'e'] n\n",
      "['z', 'e', 'n'] :\n",
      "['e', 'n', ':'] \n",
      "\n",
      "row:  ['C', 'o', 'n', 's', 'i', 'd', 'e', 'r', ' ', 'y', 'o', 'u', ' ', 'w', 'h', 'a', 't', ' ', 's', 'e', 'r', 'v', 'i', 'c', 'e', 's', ' ', 'h', 'e', ' ', 'h', 'a', 's', ' ', 'd', 'o', 'n', 'e', ' ', 'f', 'o', 'r', ' ', 'h', 'i', 's', ' ', 'c', 'o', 'u', 'n', 't', 'r', 'y', '?', '\\n']\n",
      "['<pad>', 'C'] o\n",
      "['<pad>', 'C', 'o'] n\n",
      "['C', 'o', 'n'] s\n",
      "['o', 'n', 's'] i\n",
      "['n', 's', 'i'] d\n",
      "['s', 'i', 'd'] e\n",
      "['i', 'd', 'e'] r\n",
      "['d', 'e', 'r']  \n",
      "['e', 'r', ' '] y\n",
      "['r', ' ', 'y'] o\n",
      "[' ', 'y', 'o'] u\n",
      "['y', 'o', 'u']  \n",
      "['o', 'u', ' '] w\n",
      "['u', ' ', 'w'] h\n",
      "[' ', 'w', 'h'] a\n",
      "['w', 'h', 'a'] t\n",
      "['h', 'a', 't']  \n",
      "['a', 't', ' '] s\n",
      "['t', ' ', 's'] e\n",
      "[' ', 's', 'e'] r\n",
      "['s', 'e', 'r'] v\n",
      "['e', 'r', 'v'] i\n",
      "['r', 'v', 'i'] c\n",
      "['v', 'i', 'c'] e\n",
      "['i', 'c', 'e'] s\n",
      "['c', 'e', 's']  \n",
      "['e', 's', ' '] h\n",
      "['s', ' ', 'h'] e\n",
      "[' ', 'h', 'e']  \n",
      "['h', 'e', ' '] h\n",
      "['e', ' ', 'h'] a\n",
      "[' ', 'h', 'a'] s\n",
      "['h', 'a', 's']  \n",
      "['a', 's', ' '] d\n",
      "['s', ' ', 'd'] o\n",
      "[' ', 'd', 'o'] n\n",
      "['d', 'o', 'n'] e\n",
      "['o', 'n', 'e']  \n",
      "['n', 'e', ' '] f\n",
      "['e', ' ', 'f'] o\n",
      "[' ', 'f', 'o'] r\n",
      "['f', 'o', 'r']  \n",
      "['o', 'r', ' '] h\n",
      "['r', ' ', 'h'] i\n",
      "[' ', 'h', 'i'] s\n",
      "['h', 'i', 's']  \n",
      "['i', 's', ' '] c\n",
      "['s', ' ', 'c'] o\n",
      "[' ', 'c', 'o'] u\n",
      "['c', 'o', 'u'] n\n",
      "['o', 'u', 'n'] t\n",
      "['u', 'n', 't'] r\n",
      "['n', 't', 'r'] y\n",
      "['t', 'r', 'y'] ?\n",
      "['r', 'y', '?'] \n",
      "\n",
      "row:  ['F', 'i', 'r', 's', 't', ' ', 'C', 'i', 't', 'i', 'z', 'e', 'n', ':', '\\n']\n",
      "['<pad>', 'F'] i\n",
      "['<pad>', 'F', 'i'] r\n",
      "['F', 'i', 'r'] s\n",
      "['i', 'r', 's'] t\n",
      "['r', 's', 't']  \n",
      "['s', 't', ' '] C\n",
      "['t', ' ', 'C'] i\n",
      "[' ', 'C', 'i'] t\n",
      "['C', 'i', 't'] i\n",
      "['i', 't', 'i'] z\n",
      "['t', 'i', 'z'] e\n",
      "['i', 'z', 'e'] n\n",
      "['z', 'e', 'n'] :\n",
      "['e', 'n', ':'] \n",
      "\n",
      "row:  ['V', 'e', 'r', 'y', ' ', 'w', 'e', 'l', 'l', ';', ' ', 'a', 'n', 'd', ' ', 'c', 'o', 'u', 'l', 'd', ' ', 'b', 'e', ' ', 'c', 'o', 'n', 't', 'e', 'n', 't', ' ', 't', 'o', ' ', 'g', 'i', 'v', 'e', ' ', 'h', 'i', 'm', ' ', 'g', 'o', 'o', 'd', '\\n']\n",
      "['<pad>', 'V'] e\n",
      "['<pad>', 'V', 'e'] r\n",
      "['V', 'e', 'r'] y\n",
      "['e', 'r', 'y']  \n",
      "['r', 'y', ' '] w\n",
      "['y', ' ', 'w'] e\n",
      "[' ', 'w', 'e'] l\n",
      "['w', 'e', 'l'] l\n",
      "['e', 'l', 'l'] ;\n",
      "['l', 'l', ';']  \n",
      "['l', ';', ' '] a\n",
      "[';', ' ', 'a'] n\n",
      "[' ', 'a', 'n'] d\n",
      "['a', 'n', 'd']  \n",
      "['n', 'd', ' '] c\n",
      "['d', ' ', 'c'] o\n",
      "[' ', 'c', 'o'] u\n",
      "['c', 'o', 'u'] l\n",
      "['o', 'u', 'l'] d\n",
      "['u', 'l', 'd']  \n",
      "['l', 'd', ' '] b\n",
      "['d', ' ', 'b'] e\n",
      "[' ', 'b', 'e']  \n",
      "['b', 'e', ' '] c\n",
      "['e', ' ', 'c'] o\n",
      "[' ', 'c', 'o'] n\n",
      "['c', 'o', 'n'] t\n",
      "['o', 'n', 't'] e\n",
      "['n', 't', 'e'] n\n",
      "['t', 'e', 'n'] t\n",
      "['e', 'n', 't']  \n",
      "['n', 't', ' '] t\n",
      "['t', ' ', 't'] o\n",
      "[' ', 't', 'o']  \n",
      "['t', 'o', ' '] g\n",
      "['o', ' ', 'g'] i\n",
      "[' ', 'g', 'i'] v\n",
      "['g', 'i', 'v'] e\n",
      "['i', 'v', 'e']  \n",
      "['v', 'e', ' '] h\n",
      "['e', ' ', 'h'] i\n",
      "[' ', 'h', 'i'] m\n",
      "['h', 'i', 'm']  \n",
      "['i', 'm', ' '] g\n",
      "['m', ' ', 'g'] o\n",
      "[' ', 'g', 'o'] o\n",
      "['g', 'o', 'o'] d\n",
      "['o', 'o', 'd'] \n",
      "\n",
      "row:  ['r', 'e', 'p', 'o', 'r', 't', ' ', 'f', 'o', 'r', 't', ',', ' ', 'b', 'u', 't', ' ', 't', 'h', 'a', 't', ' ', 'h', 'e', ' ', 'p', 'a', 'y', 's', ' ', 'h', 'i', 'm', 's', 'e', 'l', 'f', ' ', 'w', 'i', 't', 'h', ' ', 'b', 'e', 'i', 'n', 'g', ' ', 'p', 'r', 'o', 'u', 'd', '.', '\\n']\n",
      "['<pad>', 'r'] e\n",
      "['<pad>', 'r', 'e'] p\n",
      "['r', 'e', 'p'] o\n",
      "['e', 'p', 'o'] r\n",
      "['p', 'o', 'r'] t\n",
      "['o', 'r', 't']  \n",
      "['r', 't', ' '] f\n",
      "['t', ' ', 'f'] o\n",
      "[' ', 'f', 'o'] r\n",
      "['f', 'o', 'r'] t\n",
      "['o', 'r', 't'] ,\n",
      "['r', 't', ',']  \n",
      "['t', ',', ' '] b\n",
      "[',', ' ', 'b'] u\n",
      "[' ', 'b', 'u'] t\n",
      "['b', 'u', 't']  \n",
      "['u', 't', ' '] t\n",
      "['t', ' ', 't'] h\n",
      "[' ', 't', 'h'] a\n",
      "['t', 'h', 'a'] t\n",
      "['h', 'a', 't']  \n",
      "['a', 't', ' '] h\n",
      "['t', ' ', 'h'] e\n",
      "[' ', 'h', 'e']  \n",
      "['h', 'e', ' '] p\n",
      "['e', ' ', 'p'] a\n",
      "[' ', 'p', 'a'] y\n",
      "['p', 'a', 'y'] s\n",
      "['a', 'y', 's']  \n",
      "['y', 's', ' '] h\n",
      "['s', ' ', 'h'] i\n",
      "[' ', 'h', 'i'] m\n",
      "['h', 'i', 'm'] s\n",
      "['i', 'm', 's'] e\n",
      "['m', 's', 'e'] l\n",
      "['s', 'e', 'l'] f\n",
      "['e', 'l', 'f']  \n",
      "['l', 'f', ' '] w\n",
      "['f', ' ', 'w'] i\n",
      "[' ', 'w', 'i'] t\n",
      "['w', 'i', 't'] h\n",
      "['i', 't', 'h']  \n",
      "['t', 'h', ' '] b\n",
      "['h', ' ', 'b'] e\n",
      "[' ', 'b', 'e'] i\n",
      "['b', 'e', 'i'] n\n",
      "['e', 'i', 'n'] g\n",
      "['i', 'n', 'g']  \n",
      "['n', 'g', ' '] p\n",
      "['g', ' ', 'p'] r\n",
      "[' ', 'p', 'r'] o\n",
      "['p', 'r', 'o'] u\n",
      "['r', 'o', 'u'] d\n",
      "['o', 'u', 'd'] .\n",
      "['u', 'd', '.'] \n",
      "\n",
      "row:  ['S', 'e', 'c', 'o', 'n', 'd', ' ', 'C', 'i', 't', 'i', 'z', 'e', 'n', ':', '\\n']\n",
      "['<pad>', 'S'] e\n",
      "['<pad>', 'S', 'e'] c\n",
      "['S', 'e', 'c'] o\n",
      "['e', 'c', 'o'] n\n",
      "['c', 'o', 'n'] d\n",
      "['o', 'n', 'd']  \n",
      "['n', 'd', ' '] C\n",
      "['d', ' ', 'C'] i\n",
      "[' ', 'C', 'i'] t\n",
      "['C', 'i', 't'] i\n",
      "['i', 't', 'i'] z\n",
      "['t', 'i', 'z'] e\n",
      "['i', 'z', 'e'] n\n",
      "['z', 'e', 'n'] :\n",
      "['e', 'n', ':'] \n",
      "\n",
      "row:  ['N', 'a', 'y', ',', ' ', 'b', 'u', 't', ' ', 's', 'p', 'e', 'a', 'k', ' ', 'n', 'o', 't', ' ', 'm', 'a', 'l', 'i', 'c', 'i', 'o', 'u', 's', 'l', 'y', '.', '\\n']\n",
      "['<pad>', 'N'] a\n",
      "['<pad>', 'N', 'a'] y\n",
      "['N', 'a', 'y'] ,\n",
      "['a', 'y', ',']  \n",
      "['y', ',', ' '] b\n",
      "[',', ' ', 'b'] u\n",
      "[' ', 'b', 'u'] t\n",
      "['b', 'u', 't']  \n",
      "['u', 't', ' '] s\n",
      "['t', ' ', 's'] p\n",
      "[' ', 's', 'p'] e\n",
      "['s', 'p', 'e'] a\n",
      "['p', 'e', 'a'] k\n",
      "['e', 'a', 'k']  \n",
      "['a', 'k', ' '] n\n",
      "['k', ' ', 'n'] o\n",
      "[' ', 'n', 'o'] t\n",
      "['n', 'o', 't']  \n",
      "['o', 't', ' '] m\n",
      "['t', ' ', 'm'] a\n",
      "[' ', 'm', 'a'] l\n",
      "['m', 'a', 'l'] i\n",
      "['a', 'l', 'i'] c\n",
      "['l', 'i', 'c'] i\n",
      "['i', 'c', 'i'] o\n",
      "['c', 'i', 'o'] u\n",
      "['i', 'o', 'u'] s\n",
      "['o', 'u', 's'] l\n",
      "['u', 's', 'l'] y\n",
      "['s', 'l', 'y'] .\n",
      "['l', 'y', '.'] \n",
      "\n",
      "row:  ['F', 'i', 'r', 's', 't', ' ', 'C', 'i', 't', 'i', 'z', 'e', 'n', ':', '\\n']\n",
      "['<pad>', 'F'] i\n",
      "['<pad>', 'F', 'i'] r\n",
      "['F', 'i', 'r'] s\n",
      "['i', 'r', 's'] t\n",
      "['r', 's', 't']  \n",
      "['s', 't', ' '] C\n",
      "['t', ' ', 'C'] i\n",
      "[' ', 'C', 'i'] t\n",
      "['C', 'i', 't'] i\n",
      "['i', 't', 'i'] z\n",
      "['t', 'i', 'z'] e\n",
      "['i', 'z', 'e'] n\n",
      "['z', 'e', 'n'] :\n",
      "['e', 'n', ':'] \n",
      "\n",
      "row:  ['I', ' ', 's', 'a', 'y', ' ', 'u', 'n', 't', 'o', ' ', 'y', 'o', 'u', ',', ' ', 'w', 'h', 'a', 't', ' ', 'h', 'e', ' ', 'h', 'a', 't', 'h', ' ', 'd', 'o', 'n', 'e', ' ', 'f', 'a', 'm', 'o', 'u', 's', 'l', 'y', ',', ' ', 'h', 'e', ' ', 'd', 'i', 'd', '\\n']\n",
      "['<pad>', 'I']  \n",
      "['<pad>', 'I', ' '] s\n",
      "['I', ' ', 's'] a\n",
      "[' ', 's', 'a'] y\n",
      "['s', 'a', 'y']  \n",
      "['a', 'y', ' '] u\n",
      "['y', ' ', 'u'] n\n",
      "[' ', 'u', 'n'] t\n",
      "['u', 'n', 't'] o\n",
      "['n', 't', 'o']  \n",
      "['t', 'o', ' '] y\n",
      "['o', ' ', 'y'] o\n",
      "[' ', 'y', 'o'] u\n",
      "['y', 'o', 'u'] ,\n",
      "['o', 'u', ',']  \n",
      "['u', ',', ' '] w\n",
      "[',', ' ', 'w'] h\n",
      "[' ', 'w', 'h'] a\n",
      "['w', 'h', 'a'] t\n",
      "['h', 'a', 't']  \n",
      "['a', 't', ' '] h\n",
      "['t', ' ', 'h'] e\n",
      "[' ', 'h', 'e']  \n",
      "['h', 'e', ' '] h\n",
      "['e', ' ', 'h'] a\n",
      "[' ', 'h', 'a'] t\n",
      "['h', 'a', 't'] h\n",
      "['a', 't', 'h']  \n",
      "['t', 'h', ' '] d\n",
      "['h', ' ', 'd'] o\n",
      "[' ', 'd', 'o'] n\n",
      "['d', 'o', 'n'] e\n",
      "['o', 'n', 'e']  \n",
      "['n', 'e', ' '] f\n",
      "['e', ' ', 'f'] a\n",
      "[' ', 'f', 'a'] m\n",
      "['f', 'a', 'm'] o\n",
      "['a', 'm', 'o'] u\n",
      "['m', 'o', 'u'] s\n",
      "['o', 'u', 's'] l\n",
      "['u', 's', 'l'] y\n",
      "['s', 'l', 'y'] ,\n",
      "['l', 'y', ',']  \n",
      "['y', ',', ' '] h\n",
      "[',', ' ', 'h'] e\n",
      "[' ', 'h', 'e']  \n",
      "['h', 'e', ' '] d\n",
      "['e', ' ', 'd'] i\n",
      "[' ', 'd', 'i'] d\n",
      "['d', 'i', 'd'] \n",
      "\n",
      "row:  ['i', 't', ' ', 't', 'o', ' ', 't', 'h', 'a', 't', ' ', 'e', 'n', 'd', ':', ' ', 't', 'h', 'o', 'u', 'g', 'h', ' ', 's', 'o', 'f', 't', '-', 'c', 'o', 'n', 's', 'c', 'i', 'e', 'n', 'c', 'e', 'd', ' ', 'm', 'e', 'n', ' ', 'c', 'a', 'n', ' ', 'b', 'e', '\\n']\n",
      "['<pad>', 'i'] t\n",
      "['<pad>', 'i', 't']  \n",
      "['i', 't', ' '] t\n",
      "['t', ' ', 't'] o\n",
      "[' ', 't', 'o']  \n",
      "['t', 'o', ' '] t\n",
      "['o', ' ', 't'] h\n",
      "[' ', 't', 'h'] a\n",
      "['t', 'h', 'a'] t\n",
      "['h', 'a', 't']  \n",
      "['a', 't', ' '] e\n",
      "['t', ' ', 'e'] n\n",
      "[' ', 'e', 'n'] d\n",
      "['e', 'n', 'd'] :\n",
      "['n', 'd', ':']  \n",
      "['d', ':', ' '] t\n",
      "[':', ' ', 't'] h\n",
      "[' ', 't', 'h'] o\n",
      "['t', 'h', 'o'] u\n",
      "['h', 'o', 'u'] g\n",
      "['o', 'u', 'g'] h\n",
      "['u', 'g', 'h']  \n",
      "['g', 'h', ' '] s\n",
      "['h', ' ', 's'] o\n",
      "[' ', 's', 'o'] f\n",
      "['s', 'o', 'f'] t\n",
      "['o', 'f', 't'] -\n",
      "['f', 't', '-'] c\n",
      "['t', '-', 'c'] o\n",
      "['-', 'c', 'o'] n\n",
      "['c', 'o', 'n'] s\n",
      "['o', 'n', 's'] c\n",
      "['n', 's', 'c'] i\n",
      "['s', 'c', 'i'] e\n",
      "['c', 'i', 'e'] n\n",
      "['i', 'e', 'n'] c\n",
      "['e', 'n', 'c'] e\n",
      "['n', 'c', 'e'] d\n",
      "['c', 'e', 'd']  \n",
      "['e', 'd', ' '] m\n",
      "['d', ' ', 'm'] e\n",
      "[' ', 'm', 'e'] n\n",
      "['m', 'e', 'n']  \n",
      "['e', 'n', ' '] c\n",
      "['n', ' ', 'c'] a\n",
      "[' ', 'c', 'a'] n\n",
      "['c', 'a', 'n']  \n",
      "['a', 'n', ' '] b\n",
      "['n', ' ', 'b'] e\n",
      "[' ', 'b', 'e'] \n",
      "\n",
      "row:  ['c', 'o', 'n', 't', 'e', 'n', 't', ' ', 't', 'o', ' ', 's', 'a', 'y', ' ', 'i', 't', ' ', 'w', 'a', 's', ' ', 'f', 'o', 'r', ' ', 'h', 'i', 's', ' ', 'c', 'o', 'u', 'n', 't', 'r', 'y', ' ', 'h', 'e', ' ', 'd', 'i', 'd', ' ', 'i', 't', ' ', 't', 'o', '\\n']\n",
      "['<pad>', 'c'] o\n",
      "['<pad>', 'c', 'o'] n\n",
      "['c', 'o', 'n'] t\n",
      "['o', 'n', 't'] e\n",
      "['n', 't', 'e'] n\n",
      "['t', 'e', 'n'] t\n",
      "['e', 'n', 't']  \n",
      "['n', 't', ' '] t\n",
      "['t', ' ', 't'] o\n",
      "[' ', 't', 'o']  \n",
      "['t', 'o', ' '] s\n",
      "['o', ' ', 's'] a\n",
      "[' ', 's', 'a'] y\n",
      "['s', 'a', 'y']  \n",
      "['a', 'y', ' '] i\n",
      "['y', ' ', 'i'] t\n",
      "[' ', 'i', 't']  \n",
      "['i', 't', ' '] w\n",
      "['t', ' ', 'w'] a\n",
      "[' ', 'w', 'a'] s\n",
      "['w', 'a', 's']  \n",
      "['a', 's', ' '] f\n",
      "['s', ' ', 'f'] o\n",
      "[' ', 'f', 'o'] r\n",
      "['f', 'o', 'r']  \n",
      "['o', 'r', ' '] h\n",
      "['r', ' ', 'h'] i\n",
      "[' ', 'h', 'i'] s\n",
      "['h', 'i', 's']  \n",
      "['i', 's', ' '] c\n",
      "['s', ' ', 'c'] o\n",
      "[' ', 'c', 'o'] u\n",
      "['c', 'o', 'u'] n\n",
      "['o', 'u', 'n'] t\n",
      "['u', 'n', 't'] r\n",
      "['n', 't', 'r'] y\n",
      "['t', 'r', 'y']  \n",
      "['r', 'y', ' '] h\n",
      "['y', ' ', 'h'] e\n",
      "[' ', 'h', 'e']  \n",
      "['h', 'e', ' '] d\n",
      "['e', ' ', 'd'] i\n",
      "[' ', 'd', 'i'] d\n",
      "['d', 'i', 'd']  \n",
      "['i', 'd', ' '] i\n",
      "['d', ' ', 'i'] t\n",
      "[' ', 'i', 't']  \n",
      "['i', 't', ' '] t\n",
      "['t', ' ', 't'] o\n",
      "[' ', 't', 'o'] \n",
      "\n",
      "row:  ['p', 'l', 'e', 'a', 's', 'e', ' ', 'h', 'i', 's', ' ', 'm', 'o', 't', 'h', 'e', 'r', ' ', 'a', 'n', 'd', ' ', 't', 'o', ' ', 'b', 'e', ' ', 'p', 'a', 'r', 't', 'l', 'y', ' ', 'p', 'r', 'o', 'u', 'd', ';', ' ', 'w', 'h', 'i', 'c', 'h', ' ', 'h', 'e', '\\n']\n",
      "['<pad>', 'p'] l\n",
      "['<pad>', 'p', 'l'] e\n",
      "['p', 'l', 'e'] a\n",
      "['l', 'e', 'a'] s\n",
      "['e', 'a', 's'] e\n",
      "['a', 's', 'e']  \n",
      "['s', 'e', ' '] h\n",
      "['e', ' ', 'h'] i\n",
      "[' ', 'h', 'i'] s\n",
      "['h', 'i', 's']  \n",
      "['i', 's', ' '] m\n",
      "['s', ' ', 'm'] o\n",
      "[' ', 'm', 'o'] t\n",
      "['m', 'o', 't'] h\n",
      "['o', 't', 'h'] e\n",
      "['t', 'h', 'e'] r\n",
      "['h', 'e', 'r']  \n",
      "['e', 'r', ' '] a\n",
      "['r', ' ', 'a'] n\n",
      "[' ', 'a', 'n'] d\n",
      "['a', 'n', 'd']  \n",
      "['n', 'd', ' '] t\n",
      "['d', ' ', 't'] o\n",
      "[' ', 't', 'o']  \n",
      "['t', 'o', ' '] b\n",
      "['o', ' ', 'b'] e\n",
      "[' ', 'b', 'e']  \n",
      "['b', 'e', ' '] p\n",
      "['e', ' ', 'p'] a\n",
      "[' ', 'p', 'a'] r\n",
      "['p', 'a', 'r'] t\n",
      "['a', 'r', 't'] l\n",
      "['r', 't', 'l'] y\n",
      "['t', 'l', 'y']  \n",
      "['l', 'y', ' '] p\n",
      "['y', ' ', 'p'] r\n",
      "[' ', 'p', 'r'] o\n",
      "['p', 'r', 'o'] u\n",
      "['r', 'o', 'u'] d\n",
      "['o', 'u', 'd'] ;\n",
      "['u', 'd', ';']  \n",
      "['d', ';', ' '] w\n",
      "[';', ' ', 'w'] h\n",
      "[' ', 'w', 'h'] i\n",
      "['w', 'h', 'i'] c\n",
      "['h', 'i', 'c'] h\n",
      "['i', 'c', 'h']  \n",
      "['c', 'h', ' '] h\n",
      "['h', ' ', 'h'] e\n",
      "[' ', 'h', 'e'] \n",
      "\n",
      "row:  ['i', 's', ',', ' ', 'e', 'v', 'e', 'n', ' ', 't', 'i', 'l', 'l', ' ', 't', 'h', 'e', ' ', 'a', 'l', 't', 'i', 't', 'u', 'd', 'e', ' ', 'o', 'f', ' ', 'h', 'i', 's', ' ', 'v', 'i', 'r', 't', 'u', 'e', '.', '\\n']\n",
      "['<pad>', 'i'] s\n",
      "['<pad>', 'i', 's'] ,\n",
      "['i', 's', ',']  \n",
      "['s', ',', ' '] e\n",
      "[',', ' ', 'e'] v\n",
      "[' ', 'e', 'v'] e\n",
      "['e', 'v', 'e'] n\n",
      "['v', 'e', 'n']  \n",
      "['e', 'n', ' '] t\n",
      "['n', ' ', 't'] i\n",
      "[' ', 't', 'i'] l\n",
      "['t', 'i', 'l'] l\n",
      "['i', 'l', 'l']  \n",
      "['l', 'l', ' '] t\n",
      "['l', ' ', 't'] h\n",
      "[' ', 't', 'h'] e\n",
      "['t', 'h', 'e']  \n",
      "['h', 'e', ' '] a\n",
      "['e', ' ', 'a'] l\n",
      "[' ', 'a', 'l'] t\n",
      "['a', 'l', 't'] i\n",
      "['l', 't', 'i'] t\n",
      "['t', 'i', 't'] u\n",
      "['i', 't', 'u'] d\n",
      "['t', 'u', 'd'] e\n",
      "['u', 'd', 'e']  \n",
      "['d', 'e', ' '] o\n",
      "['e', ' ', 'o'] f\n",
      "[' ', 'o', 'f']  \n",
      "['o', 'f', ' '] h\n",
      "['f', ' ', 'h'] i\n",
      "[' ', 'h', 'i'] s\n",
      "['h', 'i', 's']  \n",
      "['i', 's', ' '] v\n",
      "['s', ' ', 'v'] i\n",
      "[' ', 'v', 'i'] r\n",
      "['v', 'i', 'r'] t\n",
      "['i', 'r', 't'] u\n",
      "['r', 't', 'u'] e\n",
      "['t', 'u', 'e'] .\n",
      "['u', 'e', '.'] \n",
      "\n",
      "row:  ['S', 'e', 'c', 'o', 'n', 'd', ' ', 'C', 'i', 't', 'i', 'z', 'e', 'n', ':', '\\n']\n",
      "['<pad>', 'S'] e\n",
      "['<pad>', 'S', 'e'] c\n",
      "['S', 'e', 'c'] o\n",
      "['e', 'c', 'o'] n\n",
      "['c', 'o', 'n'] d\n",
      "['o', 'n', 'd']  \n",
      "['n', 'd', ' '] C\n",
      "['d', ' ', 'C'] i\n",
      "[' ', 'C', 'i'] t\n",
      "['C', 'i', 't'] i\n",
      "['i', 't', 'i'] z\n",
      "['t', 'i', 'z'] e\n",
      "['i', 'z', 'e'] n\n",
      "['z', 'e', 'n'] :\n",
      "['e', 'n', ':'] \n",
      "\n",
      "row:  ['W', 'h', 'a', 't', ' ', 'h', 'e', ' ', 'c', 'a', 'n', 'n', 'o', 't', ' ', 'h', 'e', 'l', 'p', ' ', 'i', 'n', ' ', 'h', 'i', 's', ' ', 'n', 'a', 't', 'u', 'r', 'e', ',', ' ', 'y', 'o', 'u', ' ', 'a', 'c', 'c', 'o', 'u', 'n', 't', ' ', 'a', '\\n']\n",
      "['<pad>', 'W'] h\n",
      "['<pad>', 'W', 'h'] a\n",
      "['W', 'h', 'a'] t\n",
      "['h', 'a', 't']  \n",
      "['a', 't', ' '] h\n",
      "['t', ' ', 'h'] e\n",
      "[' ', 'h', 'e']  \n",
      "['h', 'e', ' '] c\n",
      "['e', ' ', 'c'] a\n",
      "[' ', 'c', 'a'] n\n",
      "['c', 'a', 'n'] n\n",
      "['a', 'n', 'n'] o\n",
      "['n', 'n', 'o'] t\n",
      "['n', 'o', 't']  \n",
      "['o', 't', ' '] h\n",
      "['t', ' ', 'h'] e\n",
      "[' ', 'h', 'e'] l\n",
      "['h', 'e', 'l'] p\n",
      "['e', 'l', 'p']  \n",
      "['l', 'p', ' '] i\n",
      "['p', ' ', 'i'] n\n",
      "[' ', 'i', 'n']  \n",
      "['i', 'n', ' '] h\n",
      "['n', ' ', 'h'] i\n",
      "[' ', 'h', 'i'] s\n",
      "['h', 'i', 's']  \n",
      "['i', 's', ' '] n\n",
      "['s', ' ', 'n'] a\n",
      "[' ', 'n', 'a'] t\n",
      "['n', 'a', 't'] u\n",
      "['a', 't', 'u'] r\n",
      "['t', 'u', 'r'] e\n",
      "['u', 'r', 'e'] ,\n",
      "['r', 'e', ',']  \n",
      "['e', ',', ' '] y\n",
      "[',', ' ', 'y'] o\n",
      "[' ', 'y', 'o'] u\n",
      "['y', 'o', 'u']  \n",
      "['o', 'u', ' '] a\n",
      "['u', ' ', 'a'] c\n",
      "[' ', 'a', 'c'] c\n",
      "['a', 'c', 'c'] o\n",
      "['c', 'c', 'o'] u\n",
      "['c', 'o', 'u'] n\n",
      "['o', 'u', 'n'] t\n",
      "['u', 'n', 't']  \n",
      "['n', 't', ' '] a\n",
      "['t', ' ', 'a'] \n",
      "\n",
      "row:  ['v', 'i', 'c', 'e', ' ', 'i', 'n', ' ', 'h', 'i', 'm', '.', ' ', 'Y', 'o', 'u', ' ', 'm', 'u', 's', 't', ' ', 'i', 'n', ' ', 'n', 'o', ' ', 'w', 'a', 'y', ' ', 's', 'a', 'y', ' ', 'h', 'e', ' ', 'i', 's', ' ', 'c', 'o', 'v', 'e', 't', 'o', 'u', 's', '.', '\\n']\n",
      "['<pad>', 'v'] i\n",
      "['<pad>', 'v', 'i'] c\n",
      "['v', 'i', 'c'] e\n",
      "['i', 'c', 'e']  \n",
      "['c', 'e', ' '] i\n",
      "['e', ' ', 'i'] n\n",
      "[' ', 'i', 'n']  \n",
      "['i', 'n', ' '] h\n",
      "['n', ' ', 'h'] i\n",
      "[' ', 'h', 'i'] m\n",
      "['h', 'i', 'm'] .\n",
      "['i', 'm', '.']  \n",
      "['m', '.', ' '] Y\n",
      "['.', ' ', 'Y'] o\n",
      "[' ', 'Y', 'o'] u\n",
      "['Y', 'o', 'u']  \n",
      "['o', 'u', ' '] m\n",
      "['u', ' ', 'm'] u\n",
      "[' ', 'm', 'u'] s\n",
      "['m', 'u', 's'] t\n",
      "['u', 's', 't']  \n",
      "['s', 't', ' '] i\n",
      "['t', ' ', 'i'] n\n",
      "[' ', 'i', 'n']  \n",
      "['i', 'n', ' '] n\n",
      "['n', ' ', 'n'] o\n",
      "[' ', 'n', 'o']  \n",
      "['n', 'o', ' '] w\n",
      "['o', ' ', 'w'] a\n",
      "[' ', 'w', 'a'] y\n",
      "['w', 'a', 'y']  \n",
      "['a', 'y', ' '] s\n",
      "['y', ' ', 's'] a\n",
      "[' ', 's', 'a'] y\n",
      "['s', 'a', 'y']  \n",
      "['a', 'y', ' '] h\n",
      "['y', ' ', 'h'] e\n",
      "[' ', 'h', 'e']  \n",
      "['h', 'e', ' '] i\n",
      "['e', ' ', 'i'] s\n",
      "[' ', 'i', 's']  \n",
      "['i', 's', ' '] c\n",
      "['s', ' ', 'c'] o\n",
      "[' ', 'c', 'o'] v\n",
      "['c', 'o', 'v'] e\n",
      "['o', 'v', 'e'] t\n",
      "['v', 'e', 't'] o\n",
      "['e', 't', 'o'] u\n",
      "['t', 'o', 'u'] s\n",
      "['o', 'u', 's'] .\n",
      "['u', 's', '.'] \n",
      "\n",
      "row:  ['F', 'i', 'r', 's', 't', ' ', 'C', 'i', 't', 'i', 'z', 'e', 'n', ':', '\\n']\n",
      "['<pad>', 'F'] i\n",
      "['<pad>', 'F', 'i'] r\n",
      "['F', 'i', 'r'] s\n",
      "['i', 'r', 's'] t\n",
      "['r', 's', 't']  \n",
      "['s', 't', ' '] C\n",
      "['t', ' ', 'C'] i\n",
      "[' ', 'C', 'i'] t\n",
      "['C', 'i', 't'] i\n",
      "['i', 't', 'i'] z\n",
      "['t', 'i', 'z'] e\n",
      "['i', 'z', 'e'] n\n",
      "['z', 'e', 'n'] :\n",
      "['e', 'n', ':'] \n",
      "\n",
      "row:  ['I', 'f', ' ', 'I', ' ', 'm', 'u', 's', 't', ' ', 'n', 'o', 't', ',', ' ', 'I', ' ', 'n', 'e', 'e', 'd', ' ', 'n', 'o', 't', ' ', 'b', 'e', ' ', 'b', 'a', 'r', 'r', 'e', 'n', ' ', 'o', 'f', ' ', 'a', 'c', 'c', 'u', 's', 'a', 't', 'i', 'o', 'n', 's', ';', '\\n']\n",
      "['<pad>', 'I'] f\n",
      "['<pad>', 'I', 'f']  \n",
      "['I', 'f', ' '] I\n",
      "['f', ' ', 'I']  \n",
      "[' ', 'I', ' '] m\n",
      "['I', ' ', 'm'] u\n",
      "[' ', 'm', 'u'] s\n",
      "['m', 'u', 's'] t\n",
      "['u', 's', 't']  \n",
      "['s', 't', ' '] n\n",
      "['t', ' ', 'n'] o\n",
      "[' ', 'n', 'o'] t\n",
      "['n', 'o', 't'] ,\n",
      "['o', 't', ',']  \n",
      "['t', ',', ' '] I\n",
      "[',', ' ', 'I']  \n",
      "[' ', 'I', ' '] n\n",
      "['I', ' ', 'n'] e\n",
      "[' ', 'n', 'e'] e\n",
      "['n', 'e', 'e'] d\n",
      "['e', 'e', 'd']  \n",
      "['e', 'd', ' '] n\n",
      "['d', ' ', 'n'] o\n",
      "[' ', 'n', 'o'] t\n",
      "['n', 'o', 't']  \n",
      "['o', 't', ' '] b\n",
      "['t', ' ', 'b'] e\n",
      "[' ', 'b', 'e']  \n",
      "['b', 'e', ' '] b\n",
      "['e', ' ', 'b'] a\n",
      "[' ', 'b', 'a'] r\n",
      "['b', 'a', 'r'] r\n",
      "['a', 'r', 'r'] e\n",
      "['r', 'r', 'e'] n\n",
      "['r', 'e', 'n']  \n",
      "['e', 'n', ' '] o\n",
      "['n', ' ', 'o'] f\n",
      "[' ', 'o', 'f']  \n",
      "['o', 'f', ' '] a\n",
      "['f', ' ', 'a'] c\n",
      "[' ', 'a', 'c'] c\n",
      "['a', 'c', 'c'] u\n",
      "['c', 'c', 'u'] s\n",
      "['c', 'u', 's'] a\n",
      "['u', 's', 'a'] t\n",
      "['s', 'a', 't'] i\n",
      "['a', 't', 'i'] o\n",
      "['t', 'i', 'o'] n\n",
      "['i', 'o', 'n'] s\n",
      "['o', 'n', 's'] ;\n",
      "['n', 's', ';'] \n",
      "\n",
      "row:  ['h', 'e', ' ', 'h', 'a', 't', 'h', ' ', 'f', 'a', 'u', 'l', 't', 's', ',', ' ', 'w', 'i', 't', 'h', ' ', 's', 'u', 'r', 'p', 'l', 'u', 's', ',', ' ', 't', 'o', ' ', 't', 'i', 'r', 'e', ' ', 'i', 'n', ' ', 'r', 'e', 'p', 'e', 't', 'i', 't', 'i', 'o', 'n', '.', '\\n']\n",
      "['<pad>', 'h'] e\n",
      "['<pad>', 'h', 'e']  \n",
      "['h', 'e', ' '] h\n",
      "['e', ' ', 'h'] a\n",
      "[' ', 'h', 'a'] t\n",
      "['h', 'a', 't'] h\n",
      "['a', 't', 'h']  \n",
      "['t', 'h', ' '] f\n",
      "['h', ' ', 'f'] a\n",
      "[' ', 'f', 'a'] u\n",
      "['f', 'a', 'u'] l\n",
      "['a', 'u', 'l'] t\n",
      "['u', 'l', 't'] s\n",
      "['l', 't', 's'] ,\n",
      "['t', 's', ',']  \n",
      "['s', ',', ' '] w\n",
      "[',', ' ', 'w'] i\n",
      "[' ', 'w', 'i'] t\n",
      "['w', 'i', 't'] h\n",
      "['i', 't', 'h']  \n",
      "['t', 'h', ' '] s\n",
      "['h', ' ', 's'] u\n",
      "[' ', 's', 'u'] r\n",
      "['s', 'u', 'r'] p\n",
      "['u', 'r', 'p'] l\n",
      "['r', 'p', 'l'] u\n",
      "['p', 'l', 'u'] s\n",
      "['l', 'u', 's'] ,\n",
      "['u', 's', ',']  \n",
      "['s', ',', ' '] t\n",
      "[',', ' ', 't'] o\n",
      "[' ', 't', 'o']  \n",
      "['t', 'o', ' '] t\n",
      "['o', ' ', 't'] i\n",
      "[' ', 't', 'i'] r\n",
      "['t', 'i', 'r'] e\n",
      "['i', 'r', 'e']  \n",
      "['r', 'e', ' '] i\n",
      "['e', ' ', 'i'] n\n",
      "[' ', 'i', 'n']  \n",
      "['i', 'n', ' '] r\n",
      "['n', ' ', 'r'] e\n",
      "[' ', 'r', 'e'] p\n",
      "['r', 'e', 'p'] e\n",
      "['e', 'p', 'e'] t\n",
      "['p', 'e', 't'] i\n",
      "['e', 't', 'i'] t\n",
      "['t', 'i', 't'] i\n",
      "['i', 't', 'i'] o\n",
      "['t', 'i', 'o'] n\n",
      "['i', 'o', 'n'] .\n",
      "['o', 'n', '.'] \n",
      "\n",
      "row:  ['W', 'h', 'a', 't', ' ', 's', 'h', 'o', 'u', 't', 's', ' ', 'a', 'r', 'e', ' ', 't', 'h', 'e', 's', 'e', '?', ' ', 'T', 'h', 'e', ' ', 'o', 't', 'h', 'e', 'r', ' ', 's', 'i', 'd', 'e', ' ', 'o', \"'\", ' ', 't', 'h', 'e', ' ', 'c', 'i', 't', 'y', '\\n']\n",
      "['<pad>', 'W'] h\n",
      "['<pad>', 'W', 'h'] a\n",
      "['W', 'h', 'a'] t\n",
      "['h', 'a', 't']  \n",
      "['a', 't', ' '] s\n",
      "['t', ' ', 's'] h\n",
      "[' ', 's', 'h'] o\n",
      "['s', 'h', 'o'] u\n",
      "['h', 'o', 'u'] t\n",
      "['o', 'u', 't'] s\n",
      "['u', 't', 's']  \n",
      "['t', 's', ' '] a\n",
      "['s', ' ', 'a'] r\n",
      "[' ', 'a', 'r'] e\n",
      "['a', 'r', 'e']  \n",
      "['r', 'e', ' '] t\n",
      "['e', ' ', 't'] h\n",
      "[' ', 't', 'h'] e\n",
      "['t', 'h', 'e'] s\n",
      "['h', 'e', 's'] e\n",
      "['e', 's', 'e'] ?\n",
      "['s', 'e', '?']  \n",
      "['e', '?', ' '] T\n",
      "['?', ' ', 'T'] h\n",
      "[' ', 'T', 'h'] e\n",
      "['T', 'h', 'e']  \n",
      "['h', 'e', ' '] o\n",
      "['e', ' ', 'o'] t\n",
      "[' ', 'o', 't'] h\n",
      "['o', 't', 'h'] e\n",
      "['t', 'h', 'e'] r\n",
      "['h', 'e', 'r']  \n",
      "['e', 'r', ' '] s\n",
      "['r', ' ', 's'] i\n",
      "[' ', 's', 'i'] d\n",
      "['s', 'i', 'd'] e\n",
      "['i', 'd', 'e']  \n",
      "['d', 'e', ' '] o\n",
      "['e', ' ', 'o'] '\n",
      "[' ', 'o', \"'\"]  \n",
      "['o', \"'\", ' '] t\n",
      "[\"'\", ' ', 't'] h\n",
      "[' ', 't', 'h'] e\n",
      "['t', 'h', 'e']  \n",
      "['h', 'e', ' '] c\n",
      "['e', ' ', 'c'] i\n",
      "[' ', 'c', 'i'] t\n",
      "['c', 'i', 't'] y\n",
      "['i', 't', 'y'] \n",
      "\n",
      "row:  ['i', 's', ' ', 'r', 'i', 's', 'e', 'n', ':', ' ', 'w', 'h', 'y', ' ', 's', 't', 'a', 'y', ' ', 'w', 'e', ' ', 'p', 'r', 'a', 't', 'i', 'n', 'g', ' ', 'h', 'e', 'r', 'e', '?', ' ', 't', 'o', ' ', 't', 'h', 'e', ' ', 'C', 'a', 'p', 'i', 't', 'o', 'l', '!', '\\n']\n",
      "['<pad>', 'i'] s\n",
      "['<pad>', 'i', 's']  \n",
      "['i', 's', ' '] r\n",
      "['s', ' ', 'r'] i\n",
      "[' ', 'r', 'i'] s\n",
      "['r', 'i', 's'] e\n",
      "['i', 's', 'e'] n\n",
      "['s', 'e', 'n'] :\n",
      "['e', 'n', ':']  \n",
      "['n', ':', ' '] w\n",
      "[':', ' ', 'w'] h\n",
      "[' ', 'w', 'h'] y\n",
      "['w', 'h', 'y']  \n",
      "['h', 'y', ' '] s\n",
      "['y', ' ', 's'] t\n",
      "[' ', 's', 't'] a\n",
      "['s', 't', 'a'] y\n",
      "['t', 'a', 'y']  \n",
      "['a', 'y', ' '] w\n",
      "['y', ' ', 'w'] e\n",
      "[' ', 'w', 'e']  \n",
      "['w', 'e', ' '] p\n",
      "['e', ' ', 'p'] r\n",
      "[' ', 'p', 'r'] a\n",
      "['p', 'r', 'a'] t\n",
      "['r', 'a', 't'] i\n",
      "['a', 't', 'i'] n\n",
      "['t', 'i', 'n'] g\n",
      "['i', 'n', 'g']  \n",
      "['n', 'g', ' '] h\n",
      "['g', ' ', 'h'] e\n",
      "[' ', 'h', 'e'] r\n",
      "['h', 'e', 'r'] e\n",
      "['e', 'r', 'e'] ?\n",
      "['r', 'e', '?']  \n",
      "['e', '?', ' '] t\n",
      "['?', ' ', 't'] o\n",
      "[' ', 't', 'o']  \n",
      "['t', 'o', ' '] t\n",
      "['o', ' ', 't'] h\n",
      "[' ', 't', 'h'] e\n",
      "['t', 'h', 'e']  \n",
      "['h', 'e', ' '] C\n",
      "['e', ' ', 'C'] a\n",
      "[' ', 'C', 'a'] p\n",
      "['C', 'a', 'p'] i\n",
      "['a', 'p', 'i'] t\n",
      "['p', 'i', 't'] o\n",
      "['i', 't', 'o'] l\n",
      "['t', 'o', 'l'] !\n",
      "['o', 'l', '!'] \n",
      "\n",
      "row:  ['A', 'l', 'l', ':', '\\n']\n",
      "['<pad>', 'A'] l\n",
      "['<pad>', 'A', 'l'] l\n",
      "['A', 'l', 'l'] :\n",
      "['l', 'l', ':'] \n",
      "\n",
      "row:  ['C', 'o', 'm', 'e', ',', ' ', 'c', 'o', 'm', 'e', '.', '\\n']\n",
      "['<pad>', 'C'] o\n",
      "['<pad>', 'C', 'o'] m\n",
      "['C', 'o', 'm'] e\n",
      "['o', 'm', 'e'] ,\n",
      "['m', 'e', ',']  \n",
      "['e', ',', ' '] c\n",
      "[',', ' ', 'c'] o\n",
      "[' ', 'c', 'o'] m\n",
      "['c', 'o', 'm'] e\n",
      "['o', 'm', 'e'] .\n",
      "['m', 'e', '.'] \n",
      "\n",
      "row:  ['F', 'i', 'r', 's', 't', ' ', 'C', 'i', 't', 'i', 'z', 'e', 'n', ':', '\\n']\n",
      "['<pad>', 'F'] i\n",
      "['<pad>', 'F', 'i'] r\n",
      "['F', 'i', 'r'] s\n",
      "['i', 'r', 's'] t\n",
      "['r', 's', 't']  \n",
      "['s', 't', ' '] C\n",
      "['t', ' ', 'C'] i\n",
      "[' ', 'C', 'i'] t\n",
      "['C', 'i', 't'] i\n",
      "['i', 't', 'i'] z\n",
      "['t', 'i', 'z'] e\n",
      "['i', 'z', 'e'] n\n",
      "['z', 'e', 'n'] :\n",
      "['e', 'n', ':'] \n",
      "\n",
      "row:  ['S', 'o', 'f', 't', '!', ' ', 'w', 'h', 'o', ' ', 'c', 'o', 'm', 'e', 's', ' ', 'h', 'e', 'r', 'e', '?', '\\n']\n",
      "['<pad>', 'S'] o\n",
      "['<pad>', 'S', 'o'] f\n",
      "['S', 'o', 'f'] t\n",
      "['o', 'f', 't'] !\n",
      "['f', 't', '!']  \n",
      "['t', '!', ' '] w\n",
      "['!', ' ', 'w'] h\n",
      "[' ', 'w', 'h'] o\n",
      "['w', 'h', 'o']  \n",
      "['h', 'o', ' '] c\n",
      "['o', ' ', 'c'] o\n",
      "[' ', 'c', 'o'] m\n",
      "['c', 'o', 'm'] e\n",
      "['o', 'm', 'e'] s\n",
      "['m', 'e', 's']  \n",
      "['e', 's', ' '] h\n",
      "['s', ' ', 'h'] e\n",
      "[' ', 'h', 'e'] r\n",
      "['h', 'e', 'r'] e\n",
      "['e', 'r', 'e'] ?\n",
      "['r', 'e', '?'] \n",
      "\n",
      "row:  ['S', 'e', 'c', 'o', 'n', 'd', ' ', 'C', 'i', 't', 'i', 'z', 'e', 'n', ':', '\\n']\n",
      "['<pad>', 'S'] e\n",
      "['<pad>', 'S', 'e'] c\n",
      "['S', 'e', 'c'] o\n",
      "['e', 'c', 'o'] n\n",
      "['c', 'o', 'n'] d\n",
      "['o', 'n', 'd']  \n",
      "['n', 'd', ' '] C\n",
      "['d', ' ', 'C'] i\n",
      "[' ', 'C', 'i'] t\n",
      "['C', 'i', 't'] i\n",
      "['i', 't', 'i'] z\n",
      "['t', 'i', 'z'] e\n",
      "['i', 'z', 'e'] n\n",
      "['z', 'e', 'n'] :\n",
      "['e', 'n', ':'] \n",
      "\n",
      "row:  ['W', 'o', 'r', 't', 'h', 'y', ' ', 'M', 'e', 'n', 'e', 'n', 'i', 'u', 's', ' ', 'A', 'g', 'r', 'i', 'p', 'p', 'a', ';', ' ', 'o', 'n', 'e', ' ', 't', 'h', 'a', 't', ' ', 'h', 'a', 't', 'h', ' ', 'a', 'l', 'w', 'a', 'y', 's', ' ', 'l', 'o', 'v', 'e', 'd', '\\n']\n",
      "['<pad>', 'W'] o\n",
      "['<pad>', 'W', 'o'] r\n",
      "['W', 'o', 'r'] t\n",
      "['o', 'r', 't'] h\n",
      "['r', 't', 'h'] y\n",
      "['t', 'h', 'y']  \n",
      "['h', 'y', ' '] M\n",
      "['y', ' ', 'M'] e\n",
      "[' ', 'M', 'e'] n\n",
      "['M', 'e', 'n'] e\n",
      "['e', 'n', 'e'] n\n",
      "['n', 'e', 'n'] i\n",
      "['e', 'n', 'i'] u\n",
      "['n', 'i', 'u'] s\n",
      "['i', 'u', 's']  \n",
      "['u', 's', ' '] A\n",
      "['s', ' ', 'A'] g\n",
      "[' ', 'A', 'g'] r\n",
      "['A', 'g', 'r'] i\n",
      "['g', 'r', 'i'] p\n",
      "['r', 'i', 'p'] p\n",
      "['i', 'p', 'p'] a\n",
      "['p', 'p', 'a'] ;\n",
      "['p', 'a', ';']  \n",
      "['a', ';', ' '] o\n",
      "[';', ' ', 'o'] n\n",
      "[' ', 'o', 'n'] e\n",
      "['o', 'n', 'e']  \n",
      "['n', 'e', ' '] t\n",
      "['e', ' ', 't'] h\n",
      "[' ', 't', 'h'] a\n",
      "['t', 'h', 'a'] t\n",
      "['h', 'a', 't']  \n",
      "['a', 't', ' '] h\n",
      "['t', ' ', 'h'] a\n",
      "[' ', 'h', 'a'] t\n",
      "['h', 'a', 't'] h\n",
      "['a', 't', 'h']  \n",
      "['t', 'h', ' '] a\n",
      "['h', ' ', 'a'] l\n",
      "[' ', 'a', 'l'] w\n",
      "['a', 'l', 'w'] a\n",
      "['l', 'w', 'a'] y\n",
      "['w', 'a', 'y'] s\n",
      "['a', 'y', 's']  \n",
      "['y', 's', ' '] l\n",
      "['s', ' ', 'l'] o\n",
      "[' ', 'l', 'o'] v\n",
      "['l', 'o', 'v'] e\n",
      "['o', 'v', 'e'] d\n",
      "['v', 'e', 'd'] \n",
      "\n",
      "row:  ['t', 'h', 'e', ' ', 'p', 'e', 'o', 'p', 'l', 'e', '.', '\\n']\n",
      "['<pad>', 't'] h\n",
      "['<pad>', 't', 'h'] e\n",
      "['t', 'h', 'e']  \n",
      "['h', 'e', ' '] p\n",
      "['e', ' ', 'p'] e\n",
      "[' ', 'p', 'e'] o\n",
      "['p', 'e', 'o'] p\n",
      "['e', 'o', 'p'] l\n",
      "['o', 'p', 'l'] e\n",
      "['p', 'l', 'e'] .\n",
      "['l', 'e', '.'] \n",
      "\n",
      "row:  ['F', 'i', 'r', 's', 't', ' ', 'C', 'i', 't', 'i', 'z', 'e', 'n', ':', '\\n']\n",
      "['<pad>', 'F'] i\n",
      "['<pad>', 'F', 'i'] r\n",
      "['F', 'i', 'r'] s\n",
      "['i', 'r', 's'] t\n",
      "['r', 's', 't']  \n",
      "['s', 't', ' '] C\n",
      "['t', ' ', 'C'] i\n",
      "[' ', 'C', 'i'] t\n",
      "['C', 'i', 't'] i\n",
      "['i', 't', 'i'] z\n",
      "['t', 'i', 'z'] e\n",
      "['i', 'z', 'e'] n\n",
      "['z', 'e', 'n'] :\n",
      "['e', 'n', ':'] \n",
      "\n",
      "row:  ['H', 'e', \"'\", 's', ' ', 'o', 'n', 'e', ' ', 'h', 'o', 'n', 'e', 's', 't', ' ', 'e', 'n', 'o', 'u', 'g', 'h', ':', ' ', 'w', 'o', 'u', 'l', 'd', ' ', 'a', 'l', 'l', ' ', 't', 'h', 'e', ' ', 'r', 'e', 's', 't', ' ', 'w', 'e', 'r', 'e', ' ', 's', 'o', '!', '\\n']\n",
      "['<pad>', 'H'] e\n",
      "['<pad>', 'H', 'e'] '\n",
      "['H', 'e', \"'\"] s\n",
      "['e', \"'\", 's']  \n",
      "[\"'\", 's', ' '] o\n",
      "['s', ' ', 'o'] n\n",
      "[' ', 'o', 'n'] e\n",
      "['o', 'n', 'e']  \n",
      "['n', 'e', ' '] h\n",
      "['e', ' ', 'h'] o\n",
      "[' ', 'h', 'o'] n\n",
      "['h', 'o', 'n'] e\n",
      "['o', 'n', 'e'] s\n",
      "['n', 'e', 's'] t\n",
      "['e', 's', 't']  \n",
      "['s', 't', ' '] e\n",
      "['t', ' ', 'e'] n\n",
      "[' ', 'e', 'n'] o\n",
      "['e', 'n', 'o'] u\n",
      "['n', 'o', 'u'] g\n",
      "['o', 'u', 'g'] h\n",
      "['u', 'g', 'h'] :\n",
      "['g', 'h', ':']  \n",
      "['h', ':', ' '] w\n",
      "[':', ' ', 'w'] o\n",
      "[' ', 'w', 'o'] u\n",
      "['w', 'o', 'u'] l\n",
      "['o', 'u', 'l'] d\n",
      "['u', 'l', 'd']  \n",
      "['l', 'd', ' '] a\n",
      "['d', ' ', 'a'] l\n",
      "[' ', 'a', 'l'] l\n",
      "['a', 'l', 'l']  \n",
      "['l', 'l', ' '] t\n",
      "['l', ' ', 't'] h\n",
      "[' ', 't', 'h'] e\n",
      "['t', 'h', 'e']  \n",
      "['h', 'e', ' '] r\n",
      "['e', ' ', 'r'] e\n",
      "[' ', 'r', 'e'] s\n",
      "['r', 'e', 's'] t\n",
      "['e', 's', 't']  \n",
      "['s', 't', ' '] w\n",
      "['t', ' ', 'w'] e\n",
      "[' ', 'w', 'e'] r\n",
      "['w', 'e', 'r'] e\n",
      "['e', 'r', 'e']  \n",
      "['r', 'e', ' '] s\n",
      "['e', ' ', 's'] o\n",
      "[' ', 's', 'o'] !\n",
      "['s', 'o', '!'] \n",
      "\n",
      "row:  ['M', 'E', 'N', 'E', 'N', 'I', 'U', 'S', ':', '\\n']\n",
      "['<pad>', 'M'] E\n",
      "['<pad>', 'M', 'E'] N\n",
      "['M', 'E', 'N'] E\n",
      "['E', 'N', 'E'] N\n",
      "['N', 'E', 'N'] I\n",
      "['E', 'N', 'I'] U\n",
      "['N', 'I', 'U'] S\n",
      "['I', 'U', 'S'] :\n",
      "['U', 'S', ':'] \n",
      "\n",
      "row:  ['W', 'h', 'a', 't', ' ', 'w', 'o', 'r', 'k', \"'\", 's', ',', ' ', 'm', 'y', ' ', 'c', 'o', 'u', 'n', 't', 'r', 'y', 'm', 'e', 'n', ',', ' ', 'i', 'n', ' ', 'h', 'a', 'n', 'd', '?', ' ', 'w', 'h', 'e', 'r', 'e', ' ', 'g', 'o', ' ', 'y', 'o', 'u', '\\n']\n",
      "['<pad>', 'W'] h\n",
      "['<pad>', 'W', 'h'] a\n",
      "['W', 'h', 'a'] t\n",
      "['h', 'a', 't']  \n",
      "['a', 't', ' '] w\n",
      "['t', ' ', 'w'] o\n",
      "[' ', 'w', 'o'] r\n",
      "['w', 'o', 'r'] k\n",
      "['o', 'r', 'k'] '\n",
      "['r', 'k', \"'\"] s\n",
      "['k', \"'\", 's'] ,\n",
      "[\"'\", 's', ',']  \n",
      "['s', ',', ' '] m\n",
      "[',', ' ', 'm'] y\n",
      "[' ', 'm', 'y']  \n",
      "['m', 'y', ' '] c\n",
      "['y', ' ', 'c'] o\n",
      "[' ', 'c', 'o'] u\n",
      "['c', 'o', 'u'] n\n",
      "['o', 'u', 'n'] t\n",
      "['u', 'n', 't'] r\n",
      "['n', 't', 'r'] y\n",
      "['t', 'r', 'y'] m\n",
      "['r', 'y', 'm'] e\n",
      "['y', 'm', 'e'] n\n",
      "['m', 'e', 'n'] ,\n",
      "['e', 'n', ',']  \n",
      "['n', ',', ' '] i\n",
      "[',', ' ', 'i'] n\n",
      "[' ', 'i', 'n']  \n",
      "['i', 'n', ' '] h\n",
      "['n', ' ', 'h'] a\n",
      "[' ', 'h', 'a'] n\n",
      "['h', 'a', 'n'] d\n",
      "['a', 'n', 'd'] ?\n",
      "['n', 'd', '?']  \n",
      "['d', '?', ' '] w\n",
      "['?', ' ', 'w'] h\n",
      "[' ', 'w', 'h'] e\n",
      "['w', 'h', 'e'] r\n",
      "['h', 'e', 'r'] e\n",
      "['e', 'r', 'e']  \n",
      "['r', 'e', ' '] g\n",
      "['e', ' ', 'g'] o\n",
      "[' ', 'g', 'o']  \n",
      "['g', 'o', ' '] y\n",
      "['o', ' ', 'y'] o\n",
      "[' ', 'y', 'o'] u\n",
      "['y', 'o', 'u'] \n",
      "\n",
      "row:  ['W', 'i', 't', 'h', ' ', 'b', 'a', 't', 's', ' ', 'a', 'n', 'd', ' ', 'c', 'l', 'u', 'b', 's', '?', ' ', 'T', 'h', 'e', ' ', 'm', 'a', 't', 't', 'e', 'r', '?', ' ', 's', 'p', 'e', 'a', 'k', ',', ' ', 'I', ' ', 'p', 'r', 'a', 'y', ' ', 'y', 'o', 'u', '.', '\\n']\n",
      "['<pad>', 'W'] i\n",
      "['<pad>', 'W', 'i'] t\n",
      "['W', 'i', 't'] h\n",
      "['i', 't', 'h']  \n",
      "['t', 'h', ' '] b\n",
      "['h', ' ', 'b'] a\n",
      "[' ', 'b', 'a'] t\n",
      "['b', 'a', 't'] s\n",
      "['a', 't', 's']  \n",
      "['t', 's', ' '] a\n",
      "['s', ' ', 'a'] n\n",
      "[' ', 'a', 'n'] d\n",
      "['a', 'n', 'd']  \n",
      "['n', 'd', ' '] c\n",
      "['d', ' ', 'c'] l\n",
      "[' ', 'c', 'l'] u\n",
      "['c', 'l', 'u'] b\n",
      "['l', 'u', 'b'] s\n",
      "['u', 'b', 's'] ?\n",
      "['b', 's', '?']  \n",
      "['s', '?', ' '] T\n",
      "['?', ' ', 'T'] h\n",
      "[' ', 'T', 'h'] e\n",
      "['T', 'h', 'e']  \n",
      "['h', 'e', ' '] m\n",
      "['e', ' ', 'm'] a\n",
      "[' ', 'm', 'a'] t\n",
      "['m', 'a', 't'] t\n",
      "['a', 't', 't'] e\n",
      "['t', 't', 'e'] r\n",
      "['t', 'e', 'r'] ?\n",
      "['e', 'r', '?']  \n",
      "['r', '?', ' '] s\n",
      "['?', ' ', 's'] p\n",
      "[' ', 's', 'p'] e\n",
      "['s', 'p', 'e'] a\n",
      "['p', 'e', 'a'] k\n",
      "['e', 'a', 'k'] ,\n",
      "['a', 'k', ',']  \n",
      "['k', ',', ' '] I\n",
      "[',', ' ', 'I']  \n",
      "[' ', 'I', ' '] p\n",
      "['I', ' ', 'p'] r\n",
      "[' ', 'p', 'r'] a\n",
      "['p', 'r', 'a'] y\n",
      "['r', 'a', 'y']  \n",
      "['a', 'y', ' '] y\n",
      "['y', ' ', 'y'] o\n",
      "[' ', 'y', 'o'] u\n",
      "['y', 'o', 'u'] .\n",
      "['o', 'u', '.'] \n",
      "\n",
      "row:  ['F', 'i', 'r', 's', 't', ' ', 'C', 'i', 't', 'i', 'z', 'e', 'n', ':', '\\n']\n",
      "['<pad>', 'F'] i\n",
      "['<pad>', 'F', 'i'] r\n",
      "['F', 'i', 'r'] s\n",
      "['i', 'r', 's'] t\n",
      "['r', 's', 't']  \n",
      "['s', 't', ' '] C\n",
      "['t', ' ', 'C'] i\n",
      "[' ', 'C', 'i'] t\n",
      "['C', 'i', 't'] i\n",
      "['i', 't', 'i'] z\n",
      "['t', 'i', 'z'] e\n",
      "['i', 'z', 'e'] n\n",
      "['z', 'e', 'n'] :\n",
      "['e', 'n', ':'] \n",
      "\n",
      "row:  ['O', 'u', 'r', ' ', 'b', 'u', 's', 'i', 'n', 'e', 's', 's', ' ', 'i', 's', ' ', 'n', 'o', 't', ' ', 'u', 'n', 'k', 'n', 'o', 'w', 'n', ' ', 't', 'o', ' ', 't', 'h', 'e', ' ', 's', 'e', 'n', 'a', 't', 'e', ';', ' ', 't', 'h', 'e', 'y', ' ', 'h', 'a', 'v', 'e', '\\n']\n",
      "['<pad>', 'O'] u\n",
      "['<pad>', 'O', 'u'] r\n",
      "['O', 'u', 'r']  \n",
      "['u', 'r', ' '] b\n",
      "['r', ' ', 'b'] u\n",
      "[' ', 'b', 'u'] s\n",
      "['b', 'u', 's'] i\n",
      "['u', 's', 'i'] n\n",
      "['s', 'i', 'n'] e\n",
      "['i', 'n', 'e'] s\n",
      "['n', 'e', 's'] s\n",
      "['e', 's', 's']  \n",
      "['s', 's', ' '] i\n",
      "['s', ' ', 'i'] s\n",
      "[' ', 'i', 's']  \n",
      "['i', 's', ' '] n\n",
      "['s', ' ', 'n'] o\n",
      "[' ', 'n', 'o'] t\n",
      "['n', 'o', 't']  \n",
      "['o', 't', ' '] u\n",
      "['t', ' ', 'u'] n\n",
      "[' ', 'u', 'n'] k\n",
      "['u', 'n', 'k'] n\n",
      "['n', 'k', 'n'] o\n",
      "['k', 'n', 'o'] w\n",
      "['n', 'o', 'w'] n\n",
      "['o', 'w', 'n']  \n",
      "['w', 'n', ' '] t\n",
      "['n', ' ', 't'] o\n",
      "[' ', 't', 'o']  \n",
      "['t', 'o', ' '] t\n",
      "['o', ' ', 't'] h\n",
      "[' ', 't', 'h'] e\n",
      "['t', 'h', 'e']  \n",
      "['h', 'e', ' '] s\n",
      "['e', ' ', 's'] e\n",
      "[' ', 's', 'e'] n\n",
      "['s', 'e', 'n'] a\n",
      "['e', 'n', 'a'] t\n",
      "['n', 'a', 't'] e\n",
      "['a', 't', 'e'] ;\n",
      "['t', 'e', ';']  \n",
      "['e', ';', ' '] t\n",
      "[';', ' ', 't'] h\n",
      "[' ', 't', 'h'] e\n",
      "['t', 'h', 'e'] y\n",
      "['h', 'e', 'y']  \n",
      "['e', 'y', ' '] h\n",
      "['y', ' ', 'h'] a\n",
      "[' ', 'h', 'a'] v\n",
      "['h', 'a', 'v'] e\n",
      "['a', 'v', 'e'] \n",
      "\n",
      "row:  ['h', 'a', 'd', ' ', 'i', 'n', 'k', 'l', 'i', 'n', 'g', ' ', 't', 'h', 'i', 's', ' ', 'f', 'o', 'r', 't', 'n', 'i', 'g', 'h', 't', ' ', 'w', 'h', 'a', 't', ' ', 'w', 'e', ' ', 'i', 'n', 't', 'e', 'n', 'd', ' ', 't', 'o', ' ', 'd', 'o', ',', '\\n']\n",
      "['<pad>', 'h'] a\n",
      "['<pad>', 'h', 'a'] d\n",
      "['h', 'a', 'd']  \n",
      "['a', 'd', ' '] i\n",
      "['d', ' ', 'i'] n\n",
      "[' ', 'i', 'n'] k\n",
      "['i', 'n', 'k'] l\n",
      "['n', 'k', 'l'] i\n",
      "['k', 'l', 'i'] n\n",
      "['l', 'i', 'n'] g\n",
      "['i', 'n', 'g']  \n",
      "['n', 'g', ' '] t\n",
      "['g', ' ', 't'] h\n",
      "[' ', 't', 'h'] i\n",
      "['t', 'h', 'i'] s\n",
      "['h', 'i', 's']  \n",
      "['i', 's', ' '] f\n",
      "['s', ' ', 'f'] o\n",
      "[' ', 'f', 'o'] r\n",
      "['f', 'o', 'r'] t\n",
      "['o', 'r', 't'] n\n",
      "['r', 't', 'n'] i\n",
      "['t', 'n', 'i'] g\n",
      "['n', 'i', 'g'] h\n",
      "['i', 'g', 'h'] t\n",
      "['g', 'h', 't']  \n",
      "['h', 't', ' '] w\n",
      "['t', ' ', 'w'] h\n",
      "[' ', 'w', 'h'] a\n",
      "['w', 'h', 'a'] t\n",
      "['h', 'a', 't']  \n",
      "['a', 't', ' '] w\n",
      "['t', ' ', 'w'] e\n",
      "[' ', 'w', 'e']  \n",
      "['w', 'e', ' '] i\n",
      "['e', ' ', 'i'] n\n",
      "[' ', 'i', 'n'] t\n",
      "['i', 'n', 't'] e\n",
      "['n', 't', 'e'] n\n",
      "['t', 'e', 'n'] d\n",
      "['e', 'n', 'd']  \n",
      "['n', 'd', ' '] t\n",
      "['d', ' ', 't'] o\n",
      "[' ', 't', 'o']  \n",
      "['t', 'o', ' '] d\n",
      "['o', ' ', 'd'] o\n",
      "[' ', 'd', 'o'] ,\n",
      "['d', 'o', ','] \n",
      "\n",
      "row:  ['w', 'h', 'i', 'c', 'h', ' ', 'n', 'o', 'w', ' ', 'w', 'e', \"'\", 'l', 'l', ' ', 's', 'h', 'o', 'w', ' ', \"'\", 'e', 'm', ' ', 'i', 'n', ' ', 'd', 'e', 'e', 'd', 's', '.', ' ', 'T', 'h', 'e', 'y', ' ', 's', 'a', 'y', ' ', 'p', 'o', 'o', 'r', '\\n']\n",
      "['<pad>', 'w'] h\n",
      "['<pad>', 'w', 'h'] i\n",
      "['w', 'h', 'i'] c\n",
      "['h', 'i', 'c'] h\n",
      "['i', 'c', 'h']  \n",
      "['c', 'h', ' '] n\n",
      "['h', ' ', 'n'] o\n",
      "[' ', 'n', 'o'] w\n",
      "['n', 'o', 'w']  \n",
      "['o', 'w', ' '] w\n",
      "['w', ' ', 'w'] e\n",
      "[' ', 'w', 'e'] '\n",
      "['w', 'e', \"'\"] l\n",
      "['e', \"'\", 'l'] l\n",
      "[\"'\", 'l', 'l']  \n",
      "['l', 'l', ' '] s\n",
      "['l', ' ', 's'] h\n",
      "[' ', 's', 'h'] o\n",
      "['s', 'h', 'o'] w\n",
      "['h', 'o', 'w']  \n",
      "['o', 'w', ' '] '\n",
      "['w', ' ', \"'\"] e\n",
      "[' ', \"'\", 'e'] m\n",
      "[\"'\", 'e', 'm']  \n",
      "['e', 'm', ' '] i\n",
      "['m', ' ', 'i'] n\n",
      "[' ', 'i', 'n']  \n",
      "['i', 'n', ' '] d\n",
      "['n', ' ', 'd'] e\n",
      "[' ', 'd', 'e'] e\n",
      "['d', 'e', 'e'] d\n",
      "['e', 'e', 'd'] s\n",
      "['e', 'd', 's'] .\n",
      "['d', 's', '.']  \n",
      "['s', '.', ' '] T\n",
      "['.', ' ', 'T'] h\n",
      "[' ', 'T', 'h'] e\n",
      "['T', 'h', 'e'] y\n",
      "['h', 'e', 'y']  \n",
      "['e', 'y', ' '] s\n",
      "['y', ' ', 's'] a\n",
      "[' ', 's', 'a'] y\n",
      "['s', 'a', 'y']  \n",
      "['a', 'y', ' '] p\n",
      "['y', ' ', 'p'] o\n",
      "[' ', 'p', 'o'] o\n",
      "['p', 'o', 'o'] r\n",
      "['o', 'o', 'r'] \n",
      "\n",
      "row:  ['s', 'u', 'i', 't', 'o', 'r', 's', ' ', 'h', 'a', 'v', 'e', ' ', 's', 't', 'r', 'o', 'n', 'g', ' ', 'b', 'r', 'e', 'a', 't', 'h', 's', ':', ' ', 't', 'h', 'e', 'y', ' ', 's', 'h', 'a', 'l', 'l', ' ', 'k', 'n', 'o', 'w', ' ', 'w', 'e', '\\n']\n",
      "['<pad>', 's'] u\n",
      "['<pad>', 's', 'u'] i\n",
      "['s', 'u', 'i'] t\n",
      "['u', 'i', 't'] o\n",
      "['i', 't', 'o'] r\n",
      "['t', 'o', 'r'] s\n",
      "['o', 'r', 's']  \n",
      "['r', 's', ' '] h\n",
      "['s', ' ', 'h'] a\n",
      "[' ', 'h', 'a'] v\n",
      "['h', 'a', 'v'] e\n",
      "['a', 'v', 'e']  \n",
      "['v', 'e', ' '] s\n",
      "['e', ' ', 's'] t\n",
      "[' ', 's', 't'] r\n",
      "['s', 't', 'r'] o\n",
      "['t', 'r', 'o'] n\n",
      "['r', 'o', 'n'] g\n",
      "['o', 'n', 'g']  \n",
      "['n', 'g', ' '] b\n",
      "['g', ' ', 'b'] r\n",
      "[' ', 'b', 'r'] e\n",
      "['b', 'r', 'e'] a\n",
      "['r', 'e', 'a'] t\n",
      "['e', 'a', 't'] h\n",
      "['a', 't', 'h'] s\n",
      "['t', 'h', 's'] :\n",
      "['h', 's', ':']  \n",
      "['s', ':', ' '] t\n",
      "[':', ' ', 't'] h\n",
      "[' ', 't', 'h'] e\n",
      "['t', 'h', 'e'] y\n",
      "['h', 'e', 'y']  \n",
      "['e', 'y', ' '] s\n",
      "['y', ' ', 's'] h\n",
      "[' ', 's', 'h'] a\n",
      "['s', 'h', 'a'] l\n",
      "['h', 'a', 'l'] l\n",
      "['a', 'l', 'l']  \n",
      "['l', 'l', ' '] k\n",
      "['l', ' ', 'k'] n\n",
      "[' ', 'k', 'n'] o\n",
      "['k', 'n', 'o'] w\n",
      "['n', 'o', 'w']  \n",
      "['o', 'w', ' '] w\n",
      "['w', ' ', 'w'] e\n",
      "[' ', 'w', 'e'] \n",
      "\n",
      "row:  ['h', 'a', 'v', 'e', ' ', 's', 't', 'r', 'o', 'n', 'g', ' ', 'a', 'r', 'm', 's', ' ', 't', 'o', 'o', '.', '\\n']\n",
      "['<pad>', 'h'] a\n",
      "['<pad>', 'h', 'a'] v\n",
      "['h', 'a', 'v'] e\n",
      "['a', 'v', 'e']  \n",
      "['v', 'e', ' '] s\n",
      "['e', ' ', 's'] t\n",
      "[' ', 's', 't'] r\n",
      "['s', 't', 'r'] o\n",
      "['t', 'r', 'o'] n\n",
      "['r', 'o', 'n'] g\n",
      "['o', 'n', 'g']  \n",
      "['n', 'g', ' '] a\n",
      "['g', ' ', 'a'] r\n",
      "[' ', 'a', 'r'] m\n",
      "['a', 'r', 'm'] s\n",
      "['r', 'm', 's']  \n",
      "['m', 's', ' '] t\n",
      "['s', ' ', 't'] o\n",
      "[' ', 't', 'o'] o\n",
      "['t', 'o', 'o'] .\n",
      "['o', 'o', '.'] \n",
      "\n",
      "row:  ['M', 'E', 'N', 'E', 'N', 'I', 'U', 'S', ':', '\\n']\n",
      "['<pad>', 'M'] E\n",
      "['<pad>', 'M', 'E'] N\n",
      "['M', 'E', 'N'] E\n",
      "['E', 'N', 'E'] N\n",
      "['N', 'E', 'N'] I\n",
      "['E', 'N', 'I'] U\n",
      "['N', 'I', 'U'] S\n",
      "['I', 'U', 'S'] :\n",
      "['U', 'S', ':'] \n",
      "\n",
      "row:  ['W', 'h', 'y', ',', ' ', 'm', 'a', 's', 't', 'e', 'r', 's', ',', ' ', 'm', 'y', ' ', 'g', 'o', 'o', 'd', ' ', 'f', 'r', 'i', 'e', 'n', 'd', 's', ',', ' ', 'm', 'i', 'n', 'e', ' ', 'h', 'o', 'n', 'e', 's', 't', ' ', 'n', 'e', 'i', 'g', 'h', 'b', 'o', 'u', 'r', 's', ',', '\\n']\n",
      "['<pad>', 'W'] h\n",
      "['<pad>', 'W', 'h'] y\n",
      "['W', 'h', 'y'] ,\n",
      "['h', 'y', ',']  \n",
      "['y', ',', ' '] m\n",
      "[',', ' ', 'm'] a\n",
      "[' ', 'm', 'a'] s\n",
      "['m', 'a', 's'] t\n",
      "['a', 's', 't'] e\n",
      "['s', 't', 'e'] r\n",
      "['t', 'e', 'r'] s\n",
      "['e', 'r', 's'] ,\n",
      "['r', 's', ',']  \n",
      "['s', ',', ' '] m\n",
      "[',', ' ', 'm'] y\n",
      "[' ', 'm', 'y']  \n",
      "['m', 'y', ' '] g\n",
      "['y', ' ', 'g'] o\n",
      "[' ', 'g', 'o'] o\n",
      "['g', 'o', 'o'] d\n",
      "['o', 'o', 'd']  \n",
      "['o', 'd', ' '] f\n",
      "['d', ' ', 'f'] r\n",
      "[' ', 'f', 'r'] i\n",
      "['f', 'r', 'i'] e\n",
      "['r', 'i', 'e'] n\n",
      "['i', 'e', 'n'] d\n",
      "['e', 'n', 'd'] s\n",
      "['n', 'd', 's'] ,\n",
      "['d', 's', ',']  \n",
      "['s', ',', ' '] m\n",
      "[',', ' ', 'm'] i\n",
      "[' ', 'm', 'i'] n\n",
      "['m', 'i', 'n'] e\n",
      "['i', 'n', 'e']  \n",
      "['n', 'e', ' '] h\n",
      "['e', ' ', 'h'] o\n",
      "[' ', 'h', 'o'] n\n",
      "['h', 'o', 'n'] e\n",
      "['o', 'n', 'e'] s\n",
      "['n', 'e', 's'] t\n",
      "['e', 's', 't']  \n",
      "['s', 't', ' '] n\n",
      "['t', ' ', 'n'] e\n",
      "[' ', 'n', 'e'] i\n",
      "['n', 'e', 'i'] g\n",
      "['e', 'i', 'g'] h\n",
      "['i', 'g', 'h'] b\n",
      "['g', 'h', 'b'] o\n",
      "['h', 'b', 'o'] u\n",
      "['b', 'o', 'u'] r\n",
      "['o', 'u', 'r'] s\n",
      "['u', 'r', 's'] ,\n",
      "['r', 's', ','] \n",
      "\n",
      "row:  ['W', 'i', 'l', 'l', ' ', 'y', 'o', 'u', ' ', 'u', 'n', 'd', 'o', ' ', 'y', 'o', 'u', 'r', 's', 'e', 'l', 'v', 'e', 's', '?', '\\n']\n",
      "['<pad>', 'W'] i\n",
      "['<pad>', 'W', 'i'] l\n",
      "['W', 'i', 'l'] l\n",
      "['i', 'l', 'l']  \n",
      "['l', 'l', ' '] y\n",
      "['l', ' ', 'y'] o\n",
      "[' ', 'y', 'o'] u\n",
      "['y', 'o', 'u']  \n",
      "['o', 'u', ' '] u\n",
      "['u', ' ', 'u'] n\n",
      "[' ', 'u', 'n'] d\n",
      "['u', 'n', 'd'] o\n",
      "['n', 'd', 'o']  \n",
      "['d', 'o', ' '] y\n",
      "['o', ' ', 'y'] o\n",
      "[' ', 'y', 'o'] u\n",
      "['y', 'o', 'u'] r\n",
      "['o', 'u', 'r'] s\n",
      "['u', 'r', 's'] e\n",
      "['r', 's', 'e'] l\n",
      "['s', 'e', 'l'] v\n",
      "['e', 'l', 'v'] e\n",
      "['l', 'v', 'e'] s\n",
      "['v', 'e', 's'] ?\n",
      "['e', 's', '?'] \n",
      "\n",
      "row:  ['F', 'i', 'r', 's', 't', ' ', 'C', 'i', 't', 'i', 'z', 'e', 'n', ':', '\\n']\n",
      "['<pad>', 'F'] i\n",
      "['<pad>', 'F', 'i'] r\n",
      "['F', 'i', 'r'] s\n",
      "['i', 'r', 's'] t\n",
      "['r', 's', 't']  \n",
      "['s', 't', ' '] C\n",
      "['t', ' ', 'C'] i\n",
      "[' ', 'C', 'i'] t\n",
      "['C', 'i', 't'] i\n",
      "['i', 't', 'i'] z\n",
      "['t', 'i', 'z'] e\n",
      "['i', 'z', 'e'] n\n",
      "['z', 'e', 'n'] :\n",
      "['e', 'n', ':'] \n",
      "\n",
      "row:  ['W', 'e', ' ', 'c', 'a', 'n', 'n', 'o', 't', ',', ' ', 's', 'i', 'r', ',', ' ', 'w', 'e', ' ', 'a', 'r', 'e', ' ', 'u', 'n', 'd', 'o', 'n', 'e', ' ', 'a', 'l', 'r', 'e', 'a', 'd', 'y', '.', '\\n']\n",
      "['<pad>', 'W'] e\n",
      "['<pad>', 'W', 'e']  \n",
      "['W', 'e', ' '] c\n",
      "['e', ' ', 'c'] a\n",
      "[' ', 'c', 'a'] n\n",
      "['c', 'a', 'n'] n\n",
      "['a', 'n', 'n'] o\n",
      "['n', 'n', 'o'] t\n",
      "['n', 'o', 't'] ,\n",
      "['o', 't', ',']  \n",
      "['t', ',', ' '] s\n",
      "[',', ' ', 's'] i\n",
      "[' ', 's', 'i'] r\n",
      "['s', 'i', 'r'] ,\n",
      "['i', 'r', ',']  \n",
      "['r', ',', ' '] w\n",
      "[',', ' ', 'w'] e\n",
      "[' ', 'w', 'e']  \n",
      "['w', 'e', ' '] a\n",
      "['e', ' ', 'a'] r\n",
      "[' ', 'a', 'r'] e\n",
      "['a', 'r', 'e']  \n",
      "['r', 'e', ' '] u\n",
      "['e', ' ', 'u'] n\n",
      "[' ', 'u', 'n'] d\n",
      "['u', 'n', 'd'] o\n",
      "['n', 'd', 'o'] n\n",
      "['d', 'o', 'n'] e\n",
      "['o', 'n', 'e']  \n",
      "['n', 'e', ' '] a\n",
      "['e', ' ', 'a'] l\n",
      "[' ', 'a', 'l'] r\n",
      "['a', 'l', 'r'] e\n",
      "['l', 'r', 'e'] a\n",
      "['r', 'e', 'a'] d\n",
      "['e', 'a', 'd'] y\n",
      "['a', 'd', 'y'] .\n",
      "['d', 'y', '.'] \n",
      "\n",
      "row:  ['M', 'E', 'N', 'E', 'N', 'I', 'U', 'S', ':', '\\n']\n",
      "['<pad>', 'M'] E\n",
      "['<pad>', 'M', 'E'] N\n",
      "['M', 'E', 'N'] E\n",
      "['E', 'N', 'E'] N\n",
      "['N', 'E', 'N'] I\n",
      "['E', 'N', 'I'] U\n",
      "['N', 'I', 'U'] S\n",
      "['I', 'U', 'S'] :\n",
      "['U', 'S', ':'] \n",
      "\n",
      "row:  ['I', ' ', 't', 'e', 'l', 'l', ' ', 'y', 'o', 'u', ',', ' ', 'f', 'r', 'i', 'e', 'n', 'd', 's', ',', ' ', 'm', 'o', 's', 't', ' ', 'c', 'h', 'a', 'r', 'i', 't', 'a', 'b', 'l', 'e', ' ', 'c', 'a', 'r', 'e', '\\n']\n",
      "['<pad>', 'I']  \n",
      "['<pad>', 'I', ' '] t\n",
      "['I', ' ', 't'] e\n",
      "[' ', 't', 'e'] l\n",
      "['t', 'e', 'l'] l\n",
      "['e', 'l', 'l']  \n",
      "['l', 'l', ' '] y\n",
      "['l', ' ', 'y'] o\n",
      "[' ', 'y', 'o'] u\n",
      "['y', 'o', 'u'] ,\n",
      "['o', 'u', ',']  \n",
      "['u', ',', ' '] f\n",
      "[',', ' ', 'f'] r\n",
      "[' ', 'f', 'r'] i\n",
      "['f', 'r', 'i'] e\n",
      "['r', 'i', 'e'] n\n",
      "['i', 'e', 'n'] d\n",
      "['e', 'n', 'd'] s\n",
      "['n', 'd', 's'] ,\n",
      "['d', 's', ',']  \n",
      "['s', ',', ' '] m\n",
      "[',', ' ', 'm'] o\n",
      "[' ', 'm', 'o'] s\n",
      "['m', 'o', 's'] t\n",
      "['o', 's', 't']  \n",
      "['s', 't', ' '] c\n",
      "['t', ' ', 'c'] h\n",
      "[' ', 'c', 'h'] a\n",
      "['c', 'h', 'a'] r\n",
      "['h', 'a', 'r'] i\n",
      "['a', 'r', 'i'] t\n",
      "['r', 'i', 't'] a\n",
      "['i', 't', 'a'] b\n",
      "['t', 'a', 'b'] l\n",
      "['a', 'b', 'l'] e\n",
      "['b', 'l', 'e']  \n",
      "['l', 'e', ' '] c\n",
      "['e', ' ', 'c'] a\n",
      "[' ', 'c', 'a'] r\n",
      "['c', 'a', 'r'] e\n",
      "['a', 'r', 'e'] \n",
      "\n",
      "X:  torch.Size([2623, 3]) y: torch.Size([2623])\n"
     ]
    }
   ],
   "source": [
    "CONTEXT_LEN = 3\n",
    "X, y = make_dataset(data[:80], v, verbose=True, context_length=CONTEXT_LEN)\n",
    "print(\"X: \", X.shape, \"y:\", y.shape)"
   ]
  },
  {
   "attachments": {},
   "cell_type": "markdown",
   "metadata": {},
   "source": [
    "## MLP LM Model\n",
    "https://www.jmlr.org/papers/volume3/bengio03a/bengio03a.pdf"
   ]
  },
  {
   "cell_type": "code",
   "execution_count": 34,
   "metadata": {},
   "outputs": [],
   "source": [
    "# F.one_hot(torch.tensor(5), num_classes=n_vocab).float()@C # == C[5]"
   ]
  },
  {
   "cell_type": "code",
   "execution_count": 35,
   "metadata": {},
   "outputs": [],
   "source": [
    "#| export\n",
    "\n",
    "@dataclass\n",
    "class NNLMConfig:\n",
    "    n_vocab:int = 30\n",
    "    n_emb:int = 10\n",
    "    n_context:int = 3\n",
    "    n_h:int = 100\n",
    "\n",
    "class NNLM(nn.Module):\n",
    "    def __init__(self,\n",
    "                n_vocab:int = 30, # vocabulary size \n",
    "                n_emb:int = 10, # embedding dimension\n",
    "                n_context:int = 3, # context size bigram/trigram, etc.\n",
    "                n_h:int = 100 # hidden layer size\n",
    "                ):\n",
    "\n",
    "        logger.info(f\"NNLM: Init\")\n",
    "        super().__init__()\n",
    "        # to each token id from n_vocab in sequence T coresponds a embedding of size n_emb (C)\n",
    "        self.embedder = nn.Embedding(n_vocab, n_emb) # (B,T)->(B,T,C)\n",
    "        self.n_emb = n_emb\n",
    "        self.n_context = n_context\n",
    "        # we concatenate input of [n_context length, n_emb] into linear layer (T*C):\n",
    "        self.l1 = nn.Linear(n_context * n_emb, n_h) \n",
    "        self.l2 = nn.Linear(n_h, n_vocab)\n",
    "    \n",
    "    def forward(self, x:torch.Tensor)->torch.Tensor:\n",
    "        # input: (B,T)\n",
    "        embedding = self.embedder(x) # ->(B,T,C)\n",
    "        # we concatenate input of n_context length * n_emb (T*C) into linear layer:\n",
    "        h = self.l1(embedding.view(-1,self.n_context * self.n_emb))\n",
    "        h = torch.tanh(h)\n",
    "        logits = self.l2(h)\n",
    "        return(logits)\n",
    "\n",
    "    @torch.no_grad()\n",
    "    def sample(self, prompt:str, vocab:Vocab, max_new_tokens:int=50, temperature:float=1.0):\n",
    "\n",
    "        for _ in range(max_new_tokens):            \n",
    "            # limit prompt to context size\n",
    "            context = prompt[-self.n_context:]\n",
    "            context = vocab.stoi(list(context))\n",
    "\n",
    "            logits = self(torch.tensor(context))\n",
    "            logits = logits / temperature\n",
    "            probs = F.softmax(logits, dim=1)\n",
    "            ix = torch.multinomial(probs, num_samples=1).item()\n",
    "            prompt += vocab.itos(ix)\n",
    "        return(prompt)"
   ]
  },
  {
   "attachments": {},
   "cell_type": "markdown",
   "metadata": {},
   "source": [
    "### Usage"
   ]
  },
  {
   "cell_type": "code",
   "execution_count": 36,
   "metadata": {},
   "outputs": [
    {
     "data": {
      "text/html": [
       "<pre style=\"white-space:pre;overflow-x:auto;line-height:normal;font-family:Menlo,'DejaVu Sans Mono',consolas,'Courier New',monospace\"><span style=\"color: #7fbfbf; text-decoration-color: #7fbfbf\">           </span><span style=\"color: #000080; text-decoration-color: #000080\">INFO    </span> <span style=\"font-weight: bold\">[</span><span style=\"color: #00ff00; text-decoration-color: #00ff00; font-weight: bold\">00:01:41</span><span style=\"font-weight: bold\">]</span>                                                                     <a href=\"file:///var/folders/b5/v9y3kpzs29g41d99xvrdp3yr0000gn/T/ipykernel_84751/1576515260.py\" target=\"_blank\"><span style=\"color: #7f7f7f; text-decoration-color: #7f7f7f\">1576515260.py</span></a><span style=\"color: #7f7f7f; text-decoration-color: #7f7f7f\">:</span><a href=\"file:///var/folders/b5/v9y3kpzs29g41d99xvrdp3yr0000gn/T/ipykernel_84751/1576515260.py#18\" target=\"_blank\"><span style=\"color: #7f7f7f; text-decoration-color: #7f7f7f\">18</span></a>\n",
       "</pre>\n"
      ],
      "text/plain": [
       "\u001b[2;36m          \u001b[0m\u001b[2;36m \u001b[0m\u001b[34mINFO    \u001b[0m \u001b[1m[\u001b[0m\u001b[1;92m00:01:41\u001b[0m\u001b[1m]\u001b[0m                                                                     \u001b]8;id=494681;file:///var/folders/b5/v9y3kpzs29g41d99xvrdp3yr0000gn/T/ipykernel_84751/1576515260.py\u001b\\\u001b[2m1576515260.py\u001b[0m\u001b]8;;\u001b\\\u001b[2m:\u001b[0m\u001b]8;id=381657;file:///var/folders/b5/v9y3kpzs29g41d99xvrdp3yr0000gn/T/ipykernel_84751/1576515260.py#18\u001b\\\u001b[2m18\u001b[0m\u001b]8;;\u001b\\\n"
      ]
     },
     "metadata": {},
     "output_type": "display_data"
    },
    {
     "name": "stdout",
     "output_type": "stream",
     "text": [
      "X (B, T): torch.Size([25, 3])\n",
      "Y_hat logits (B, n_vocab): torch.Size([25, 67])\n"
     ]
    }
   ],
   "source": [
    "# config model\n",
    "conf = NNLMConfig(n_vocab=len(v), n_context=CONTEXT_LEN)\n",
    "lm = NNLM(**asdict(conf))\n",
    "\n",
    "# test data\n",
    "bs = 25\n",
    "x = torch.randint(conf.n_vocab, (bs, conf.n_context)) # (B, T) with values between 0 and n_vocab\n",
    "print(\"X (B, T):\", x.shape)\n",
    "\n",
    "# prediction\n",
    "y = lm(x)\n",
    "print(\"Y_hat logits (B, n_vocab):\", y.shape)"
   ]
  },
  {
   "attachments": {},
   "cell_type": "markdown",
   "metadata": {},
   "source": [
    "## Train MLP LM"
   ]
  },
  {
   "cell_type": "markdown",
   "metadata": {},
   "source": [
    "### handmade dataset"
   ]
  },
  {
   "cell_type": "code",
   "execution_count": 37,
   "metadata": {},
   "outputs": [
    {
     "name": "stdout",
     "output_type": "stream",
     "text": [
      "Xtr (B, T):  torch.Size([2623, 3]) Ytr (B):  torch.Size([2623]) data: 80\n",
      "len Xtr:  2623\n",
      "CONTEXT_LEN:  3\n"
     ]
    }
   ],
   "source": [
    "Xtr, Ytr = make_dataset(data[:80], v, context_length=CONTEXT_LEN)\n",
    "Xdev, Ydev = make_dataset(data[80:90], v)\n",
    "Xte, Yte = make_dataset(data[90:100], v)\n",
    "print(\"Xtr (B, T): \", Xtr.shape, \"Ytr (B): \", Ytr.shape, \"data:\", len(data[:80]))\n",
    "print(\"len Xtr: \", len(Xtr))\n",
    "print(\"CONTEXT_LEN: \", CONTEXT_LEN)"
   ]
  },
  {
   "cell_type": "markdown",
   "metadata": {},
   "source": [
    "#### Overfit on subset of 80 first rows"
   ]
  },
  {
   "cell_type": "code",
   "execution_count": 38,
   "metadata": {},
   "outputs": [
    {
     "name": "stdout",
     "output_type": "stream",
     "text": [
      "CPU times: user 1 μs, sys: 1e+03 ns, total: 2 μs\n",
      "Wall time: 3.1 μs\n"
     ]
    },
    {
     "name": "stderr",
     "output_type": "stream",
     "text": [
      "  0%|          | 0/1000 [00:00<?, ?it/s]"
     ]
    },
    {
     "name": "stdout",
     "output_type": "stream",
     "text": [
      "4.193548679351807\n"
     ]
    },
    {
     "name": "stderr",
     "output_type": "stream",
     "text": [
      " 32%|███▏      | 316/1000 [00:00<00:01, 445.36it/s]"
     ]
    },
    {
     "name": "stdout",
     "output_type": "stream",
     "text": [
      "2.558842897415161\n"
     ]
    },
    {
     "name": "stderr",
     "output_type": "stream",
     "text": [
      " 59%|█████▉    | 591/1000 [00:01<00:00, 450.05it/s]"
     ]
    },
    {
     "name": "stdout",
     "output_type": "stream",
     "text": [
      "2.303743600845337\n"
     ]
    },
    {
     "name": "stderr",
     "output_type": "stream",
     "text": [
      " 82%|████████▏ | 820/1000 [00:01<00:00, 444.99it/s]"
     ]
    },
    {
     "name": "stdout",
     "output_type": "stream",
     "text": [
      "2.1343350410461426\n"
     ]
    },
    {
     "name": "stderr",
     "output_type": "stream",
     "text": [
      "100%|██████████| 1000/1000 [00:02<00:00, 444.70it/s]\n"
     ]
    }
   ],
   "source": [
    "#| notest\n",
    "\n",
    "%time\n",
    "device = get_device()\n",
    "device = 'cpu'\n",
    "# lm.to(device)\n",
    "\n",
    "# overfit on one big batch\n",
    "optim = SGD(lm.parameters(), lr=0.01, momentum=0.9)\n",
    "train_loss = []\n",
    "ITER_MAX = 1000\n",
    "for i in tqdm(range(ITER_MAX)):\n",
    "    # for batch in dm.train_dataloader():\n",
    "        # Xtr, Ytr = batch\n",
    "        # Ytr = Ytr[:, -1]\n",
    "        Xtr = Xtr.to(device)\n",
    "        Ytr = Ytr.to(device)\n",
    "        optim.zero_grad()\n",
    "        logits = lm(Xtr)\n",
    "        loss = F.cross_entropy(logits, Ytr)\n",
    "        loss.backward()\n",
    "        optim.step()\n",
    "        train_loss.append(loss.item())\n",
    "        if not(i%250):\n",
    "            print(loss.item())"
   ]
  },
  {
   "cell_type": "code",
   "execution_count": 39,
   "metadata": {},
   "outputs": [
    {
     "data": {
      "text/plain": [
       "[<matplotlib.lines.Line2D at 0x2b5194c90>]"
      ]
     },
     "execution_count": 39,
     "metadata": {},
     "output_type": "execute_result"
    },
    {
     "data": {
      "image/png": "[encoded data removed]",
      "text/plain": [
       "<Figure size 640x480 with 1 Axes>"
      ]
     },
     "metadata": {},
     "output_type": "display_data"
    }
   ],
   "source": [
    "#| notest\n",
    "plt.plot(train_loss)"
   ]
  },
  {
   "attachments": {},
   "cell_type": "markdown",
   "metadata": {},
   "source": [
    "#### Sample"
   ]
  },
  {
   "cell_type": "code",
   "execution_count": 40,
   "metadata": {},
   "outputs": [
    {
     "name": "stdout",
     "output_type": "stream",
     "text": [
      "The country of hat anen:\n",
      "st Cot to dl and Citizen:\n",
      " he yat he are the it to the ine he oued and fic they sade crt we the cot\n",
      " me on miren:\n",
      ";;en:\n",
      "wy the the ho hos ano galr he parNendond count\n",
      " do they fer tise to lors hat sirst\n",
      " the mhe poand Citizen:\n",
      "t wound Citiz\n"
     ]
    }
   ],
   "source": [
    "# infer on CPU\n",
    "lm.to('cpu')\n",
    "prompt = \"The country of \"\n",
    "sequences = lm.sample(prompt, v, max_new_tokens=250, temperature=0.6)\n",
    "print(sequences)\n"
   ]
  },
  {
   "cell_type": "markdown",
   "metadata": {},
   "source": [
    "### Dataloader"
   ]
  },
  {
   "cell_type": "code",
   "execution_count": 41,
   "metadata": {},
   "outputs": [
    {
     "data": {
      "text/html": [
       "<pre style=\"white-space:pre;overflow-x:auto;line-height:normal;font-family:Menlo,'DejaVu Sans Mono',consolas,'Courier New',monospace\"><span style=\"color: #7fbfbf; text-decoration-color: #7fbfbf\">[00:01:44] </span><span style=\"color: #000080; text-decoration-color: #000080\">INFO    </span> <span style=\"font-weight: bold\">[</span><span style=\"color: #00ff00; text-decoration-color: #00ff00; font-weight: bold\">00:01:44</span><span style=\"font-weight: bold\">]</span>                                                                       <a href=\"file:///Users/slegroux/Projects/nimrod/nimrod/text/datasets.py\" target=\"_blank\"><span style=\"color: #7f7f7f; text-decoration-color: #7f7f7f\">datasets.py</span></a><span style=\"color: #7f7f7f; text-decoration-color: #7f7f7f\">:</span><a href=\"file:///Users/slegroux/Projects/nimrod/nimrod/text/datasets.py#66\" target=\"_blank\"><span style=\"color: #7f7f7f; text-decoration-color: #7f7f7f\">66</span></a>\n",
       "</pre>\n"
      ],
      "text/plain": [
       "\u001b[2;36m[00:01:44]\u001b[0m\u001b[2;36m \u001b[0m\u001b[34mINFO    \u001b[0m \u001b[1m[\u001b[0m\u001b[1;92m00:01:44\u001b[0m\u001b[1m]\u001b[0m                                                                       \u001b]8;id=849192;file:///Users/slegroux/Projects/nimrod/nimrod/text/datasets.py\u001b\\\u001b[2mdatasets.py\u001b[0m\u001b]8;;\u001b\\\u001b[2m:\u001b[0m\u001b]8;id=47722;file:///Users/slegroux/Projects/nimrod/nimrod/text/datasets.py#66\u001b\\\u001b[2m66\u001b[0m\u001b]8;;\u001b\\\n"
      ]
     },
     "metadata": {},
     "output_type": "display_data"
    },
    {
     "name": "stdout",
     "output_type": "stream",
     "text": [
      "vocabulary:  ['\\n', ' ', '!', '$', '&', \"'\", ',', '-', '.', '3', ':', ';', '<pad>', '<unk>', '?', 'A', 'B', 'C', 'D', 'E', 'F', 'G', 'H', 'I', 'J', 'K', 'L', 'M', 'N', 'O', 'P', 'Q', 'R', 'S', 'T', 'U', 'V', 'W', 'X', 'Y', 'Z', 'a', 'b', 'c', 'd', 'e', 'f', 'g', 'h', 'i', 'j', 'k', 'l', 'm', 'n', 'o', 'p', 'q', 'r', 's', 't', 'u', 'v', 'w', 'x', 'y', 'z']\n",
      "vocabulary size:  67\n",
      "{'_target_': 'nimrod.text.datasets.CharDataModule', 'data_path': '../data/text/tiny_shakespeare.txt', 'specials': ['<pad>', '<unk>'], 'add_sentence_tokens': False, 'train_val_test_split': [0.8, 0.1, 0.1], 'random_split': False, 'batch_size': 64, 'context_size': 3, 'num_workers': 0, 'pin_memory': False, 'persistent_workers': False}\n",
      "{'_target_': 'nimrod.text.datasets.CharDataModule', 'data_path': '../data/text/tiny_shakespeare.txt', 'specials': ['<unk>', '<pad>'], 'add_sentence_tokens': False, 'train_val_test_split': [0.8, 0.1, 0.1], 'random_split': False, 'batch_size': 2700, 'context_size': 3, 'num_workers': 0, 'pin_memory': False, 'persistent_workers': False}\n"
     ]
    },
    {
     "data": {
      "text/html": [
       "<pre style=\"white-space:pre;overflow-x:auto;line-height:normal;font-family:Menlo,'DejaVu Sans Mono',consolas,'Courier New',monospace\"><span style=\"color: #7fbfbf; text-decoration-color: #7fbfbf\">           </span><span style=\"color: #000080; text-decoration-color: #000080\">INFO    </span> <span style=\"font-weight: bold\">[</span><span style=\"color: #00ff00; text-decoration-color: #00ff00; font-weight: bold\">00:01:44</span><span style=\"font-weight: bold\">]</span>                                                                      <a href=\"file:///Users/slegroux/Projects/nimrod/nimrod/text/datasets.py\" target=\"_blank\"><span style=\"color: #7f7f7f; text-decoration-color: #7f7f7f\">datasets.py</span></a><span style=\"color: #7f7f7f; text-decoration-color: #7f7f7f\">:</span><a href=\"file:///Users/slegroux/Projects/nimrod/nimrod/text/datasets.py#213\" target=\"_blank\"><span style=\"color: #7f7f7f; text-decoration-color: #7f7f7f\">213</span></a>\n",
       "</pre>\n"
      ],
      "text/plain": [
       "\u001b[2;36m          \u001b[0m\u001b[2;36m \u001b[0m\u001b[34mINFO    \u001b[0m \u001b[1m[\u001b[0m\u001b[1;92m00:01:44\u001b[0m\u001b[1m]\u001b[0m                                                                      \u001b]8;id=317201;file:///Users/slegroux/Projects/nimrod/nimrod/text/datasets.py\u001b\\\u001b[2mdatasets.py\u001b[0m\u001b]8;;\u001b\\\u001b[2m:\u001b[0m\u001b]8;id=413869;file:///Users/slegroux/Projects/nimrod/nimrod/text/datasets.py#213\u001b\\\u001b[2m213\u001b[0m\u001b]8;;\u001b\\\n"
      ]
     },
     "metadata": {},
     "output_type": "display_data"
    },
    {
     "data": {
      "text/html": [
       "<pre style=\"white-space:pre;overflow-x:auto;line-height:normal;font-family:Menlo,'DejaVu Sans Mono',consolas,'Courier New',monospace\"><span style=\"color: #7fbfbf; text-decoration-color: #7fbfbf\">           </span><span style=\"color: #000080; text-decoration-color: #000080\">INFO    </span> <span style=\"font-weight: bold\">[</span><span style=\"color: #00ff00; text-decoration-color: #00ff00; font-weight: bold\">00:01:44</span><span style=\"font-weight: bold\">]</span>                                                                      <a href=\"file:///Users/slegroux/Projects/nimrod/nimrod/text/datasets.py\" target=\"_blank\"><span style=\"color: #7f7f7f; text-decoration-color: #7f7f7f\">datasets.py</span></a><span style=\"color: #7f7f7f; text-decoration-color: #7f7f7f\">:</span><a href=\"file:///Users/slegroux/Projects/nimrod/nimrod/text/datasets.py#230\" target=\"_blank\"><span style=\"color: #7f7f7f; text-decoration-color: #7f7f7f\">230</span></a>\n",
       "</pre>\n"
      ],
      "text/plain": [
       "\u001b[2;36m          \u001b[0m\u001b[2;36m \u001b[0m\u001b[34mINFO    \u001b[0m \u001b[1m[\u001b[0m\u001b[1;92m00:01:44\u001b[0m\u001b[1m]\u001b[0m                                                                      \u001b]8;id=43122;file:///Users/slegroux/Projects/nimrod/nimrod/text/datasets.py\u001b\\\u001b[2mdatasets.py\u001b[0m\u001b]8;;\u001b\\\u001b[2m:\u001b[0m\u001b]8;id=608684;file:///Users/slegroux/Projects/nimrod/nimrod/text/datasets.py#230\u001b\\\u001b[2m230\u001b[0m\u001b]8;;\u001b\\\n"
      ]
     },
     "metadata": {},
     "output_type": "display_data"
    },
    {
     "data": {
      "text/html": [
       "<pre style=\"white-space:pre;overflow-x:auto;line-height:normal;font-family:Menlo,'DejaVu Sans Mono',consolas,'Courier New',monospace\"><span style=\"color: #7fbfbf; text-decoration-color: #7fbfbf\">           </span><span style=\"color: #000080; text-decoration-color: #000080\">INFO    </span> <span style=\"font-weight: bold\">[</span><span style=\"color: #00ff00; text-decoration-color: #00ff00; font-weight: bold\">00:01:44</span><span style=\"font-weight: bold\">]</span>                                                                      <a href=\"file:///Users/slegroux/Projects/nimrod/nimrod/text/datasets.py\" target=\"_blank\"><span style=\"color: #7f7f7f; text-decoration-color: #7f7f7f\">datasets.py</span></a><span style=\"color: #7f7f7f; text-decoration-color: #7f7f7f\">:</span><a href=\"file:///Users/slegroux/Projects/nimrod/nimrod/text/datasets.py#132\" target=\"_blank\"><span style=\"color: #7f7f7f; text-decoration-color: #7f7f7f\">132</span></a>\n",
       "</pre>\n"
      ],
      "text/plain": [
       "\u001b[2;36m          \u001b[0m\u001b[2;36m \u001b[0m\u001b[34mINFO    \u001b[0m \u001b[1m[\u001b[0m\u001b[1;92m00:01:44\u001b[0m\u001b[1m]\u001b[0m                                                                      \u001b]8;id=975518;file:///Users/slegroux/Projects/nimrod/nimrod/text/datasets.py\u001b\\\u001b[2mdatasets.py\u001b[0m\u001b]8;;\u001b\\\u001b[2m:\u001b[0m\u001b]8;id=355652;file:///Users/slegroux/Projects/nimrod/nimrod/text/datasets.py#132\u001b\\\u001b[2m132\u001b[0m\u001b]8;;\u001b\\\n"
      ]
     },
     "metadata": {},
     "output_type": "display_data"
    },
    {
     "data": {
      "text/html": [
       "<pre style=\"white-space:pre;overflow-x:auto;line-height:normal;font-family:Menlo,'DejaVu Sans Mono',consolas,'Courier New',monospace\"><span style=\"color: #7fbfbf; text-decoration-color: #7fbfbf\">           </span><span style=\"color: #000080; text-decoration-color: #000080\">INFO    </span> <span style=\"font-weight: bold\">[</span><span style=\"color: #00ff00; text-decoration-color: #00ff00; font-weight: bold\">00:01:44</span><span style=\"font-weight: bold\">]</span>                                                                       <a href=\"file:///Users/slegroux/Projects/nimrod/nimrod/text/datasets.py\" target=\"_blank\"><span style=\"color: #7f7f7f; text-decoration-color: #7f7f7f\">datasets.py</span></a><span style=\"color: #7f7f7f; text-decoration-color: #7f7f7f\">:</span><a href=\"file:///Users/slegroux/Projects/nimrod/nimrod/text/datasets.py#66\" target=\"_blank\"><span style=\"color: #7f7f7f; text-decoration-color: #7f7f7f\">66</span></a>\n",
       "</pre>\n"
      ],
      "text/plain": [
       "\u001b[2;36m          \u001b[0m\u001b[2;36m \u001b[0m\u001b[34mINFO    \u001b[0m \u001b[1m[\u001b[0m\u001b[1;92m00:01:44\u001b[0m\u001b[1m]\u001b[0m                                                                       \u001b]8;id=332731;file:///Users/slegroux/Projects/nimrod/nimrod/text/datasets.py\u001b\\\u001b[2mdatasets.py\u001b[0m\u001b]8;;\u001b\\\u001b[2m:\u001b[0m\u001b]8;id=744756;file:///Users/slegroux/Projects/nimrod/nimrod/text/datasets.py#66\u001b\\\u001b[2m66\u001b[0m\u001b]8;;\u001b\\\n"
      ]
     },
     "metadata": {},
     "output_type": "display_data"
    },
    {
     "name": "stdout",
     "output_type": "stream",
     "text": [
      "vocab size:  67\n",
      "Xtr (B, T):  torch.Size([2700, 3]) Ytr (B):  torch.Size([2700])\n",
      "Fir irs\n"
     ]
    }
   ],
   "source": [
    "\n",
    "cfg = OmegaConf.load(\"../config/text/data/tinyshakespeare.yaml\")\n",
    "# use <unk> and <pad> to be consistent with manual data preprocessing and have smae vocabulary size\n",
    "v = Vocab(data_path='../data/text/tiny_shakespeare.txt', specials=['<unk>','<pad>'])\n",
    "print(\"vocabulary: \", v.vocabulary)\n",
    "print(\"vocabulary size: \", len(v))\n",
    "print(cfg)\n",
    "cfg.train_val_test_split = [0.8, 0.1, 0.1]\n",
    "# by default data_path is relative to the recipe folder so need to update for nbs\n",
    "cfg.data_path = \"../data/text/tiny_shakespeare.txt\"\n",
    "cfg.context_size = CONTEXT_LEN\n",
    "cfg.batch_size = 2700 # large batch to mimic manual data order of magnitude\n",
    "cfg.random_split = False\n",
    "cfg.specials=['<unk>', '<pad>']\n",
    "cfg.add_sentence_tokens = False\n",
    "print(cfg)\n",
    "dm = instantiate(cfg)\n",
    "dm.setup()\n",
    "print(\"vocab size: \", dm.vocab_size)\n",
    "# setup large batch to overfit / test model\n",
    "Xtr, Ytr= next(iter(dm.train_dataloader()))\n",
    "# target is last token in sequence\n",
    "Ytr = Ytr[:, -1]\n",
    "print(\"Xtr (B, T): \", Xtr.shape, \"Ytr (B): \", Ytr.shape)\n",
    "X, Y = dm.data_train[0]\n",
    "print(dm.ds.from_tokens(X), dm.ds.from_tokens(Y))\n"
   ]
  },
  {
   "cell_type": "code",
   "execution_count": 42,
   "metadata": {},
   "outputs": [
    {
     "name": "stdout",
     "output_type": "stream",
     "text": [
      "67 3\n"
     ]
    },
    {
     "data": {
      "text/html": [
       "<pre style=\"white-space:pre;overflow-x:auto;line-height:normal;font-family:Menlo,'DejaVu Sans Mono',consolas,'Courier New',monospace\"><span style=\"color: #7fbfbf; text-decoration-color: #7fbfbf\">           </span><span style=\"color: #000080; text-decoration-color: #000080\">INFO    </span> <span style=\"font-weight: bold\">[</span><span style=\"color: #00ff00; text-decoration-color: #00ff00; font-weight: bold\">00:01:44</span><span style=\"font-weight: bold\">]</span>                                                                     <a href=\"file:///var/folders/b5/v9y3kpzs29g41d99xvrdp3yr0000gn/T/ipykernel_84751/1576515260.py\" target=\"_blank\"><span style=\"color: #7f7f7f; text-decoration-color: #7f7f7f\">1576515260.py</span></a><span style=\"color: #7f7f7f; text-decoration-color: #7f7f7f\">:</span><a href=\"file:///var/folders/b5/v9y3kpzs29g41d99xvrdp3yr0000gn/T/ipykernel_84751/1576515260.py#18\" target=\"_blank\"><span style=\"color: #7f7f7f; text-decoration-color: #7f7f7f\">18</span></a>\n",
       "</pre>\n"
      ],
      "text/plain": [
       "\u001b[2;36m          \u001b[0m\u001b[2;36m \u001b[0m\u001b[34mINFO    \u001b[0m \u001b[1m[\u001b[0m\u001b[1;92m00:01:44\u001b[0m\u001b[1m]\u001b[0m                                                                     \u001b]8;id=294650;file:///var/folders/b5/v9y3kpzs29g41d99xvrdp3yr0000gn/T/ipykernel_84751/1576515260.py\u001b\\\u001b[2m1576515260.py\u001b[0m\u001b]8;;\u001b\\\u001b[2m:\u001b[0m\u001b]8;id=784149;file:///var/folders/b5/v9y3kpzs29g41d99xvrdp3yr0000gn/T/ipykernel_84751/1576515260.py#18\u001b\\\u001b[2m18\u001b[0m\u001b]8;;\u001b\\\n"
      ]
     },
     "metadata": {},
     "output_type": "display_data"
    },
    {
     "name": "stdout",
     "output_type": "stream",
     "text": [
      "X (B, T): torch.Size([10, 3])\n"
     ]
    },
    {
     "data": {
      "text/plain": [
       "torch.Size([10, 67])"
      ]
     },
     "execution_count": 42,
     "metadata": {},
     "output_type": "execute_result"
    }
   ],
   "source": [
    "conf = NNLMConfig(n_vocab=len(v), n_context=CONTEXT_LEN)\n",
    "print(len(v), CONTEXT_LEN)\n",
    "lm = NNLM(**asdict(conf))\n",
    "bs = 10\n",
    "x = torch.randint(conf.n_vocab, (bs, conf.n_context)) # (B, T) with values between 0 and n_vocab\n",
    "print(\"X (B, T):\", x.shape)\n",
    "lm(x).shape"
   ]
  },
  {
   "cell_type": "code",
   "execution_count": 43,
   "metadata": {},
   "outputs": [
    {
     "name": "stdout",
     "output_type": "stream",
     "text": [
      "tensor(0) tensor(64)\n"
     ]
    }
   ],
   "source": [
    "# checking data tokens are between 0 and vocab size\n",
    "print(Xtr.min(),  Xtr.max())"
   ]
  },
  {
   "cell_type": "markdown",
   "metadata": {},
   "source": [
    "#### overfit "
   ]
  },
  {
   "cell_type": "code",
   "execution_count": 44,
   "metadata": {},
   "outputs": [
    {
     "name": "stdout",
     "output_type": "stream",
     "text": [
      "CPU times: user 1e+03 ns, sys: 1 μs, total: 2 μs\n",
      "Wall time: 2.15 μs\n"
     ]
    },
    {
     "name": "stderr",
     "output_type": "stream",
     "text": [
      "  0%|          | 0/1000 [00:00<?, ?it/s]"
     ]
    },
    {
     "name": "stdout",
     "output_type": "stream",
     "text": [
      "4.225762367248535\n"
     ]
    },
    {
     "name": "stderr",
     "output_type": "stream",
     "text": [
      " 32%|███▏      | 316/1000 [00:00<00:01, 440.44it/s]"
     ]
    },
    {
     "name": "stdout",
     "output_type": "stream",
     "text": [
      "2.8427937030792236\n"
     ]
    },
    {
     "name": "stderr",
     "output_type": "stream",
     "text": [
      " 58%|█████▊    | 583/1000 [00:01<00:00, 435.42it/s]"
     ]
    },
    {
     "name": "stdout",
     "output_type": "stream",
     "text": [
      "2.6001782417297363\n"
     ]
    },
    {
     "name": "stderr",
     "output_type": "stream",
     "text": [
      " 80%|████████  | 804/1000 [00:01<00:00, 415.66it/s]"
     ]
    },
    {
     "name": "stdout",
     "output_type": "stream",
     "text": [
      "2.435528516769409\n"
     ]
    },
    {
     "name": "stderr",
     "output_type": "stream",
     "text": [
      "100%|██████████| 1000/1000 [00:02<00:00, 427.87it/s]\n"
     ]
    }
   ],
   "source": [
    "#| notest\n",
    "\n",
    "%time\n",
    "# device = get_device()\n",
    "device = 'cpu'\n",
    "lm.to(device)\n",
    "\n",
    "# overfit on one big batch\n",
    "optim = SGD(lm.parameters(), lr=0.01, momentum=0.9)\n",
    "train_loss = []\n",
    "ITER_MAX = 1000\n",
    "for i in tqdm(range(ITER_MAX)):\n",
    "    # for batch in dm.train_dataloader():\n",
    "        # Xtr, Ytr = batch\n",
    "        # Ytr = Ytr[:, -1]\n",
    "        Xtr = Xtr.to(device)\n",
    "        Ytr = Ytr.to(device)\n",
    "        optim.zero_grad()\n",
    "        logits = lm(Xtr)\n",
    "        loss = F.cross_entropy(logits, Ytr)\n",
    "        loss.backward()\n",
    "        optim.step()\n",
    "        train_loss.append(loss.item())\n",
    "        if not(i%250):\n",
    "            print(loss.item())"
   ]
  },
  {
   "cell_type": "code",
   "execution_count": 45,
   "metadata": {},
   "outputs": [
    {
     "data": {
      "text/plain": [
       "[<matplotlib.lines.Line2D at 0x2bcd43910>]"
      ]
     },
     "execution_count": 45,
     "metadata": {},
     "output_type": "execute_result"
    },
    {
     "data": {
      "image/png": "[encoded data removed]",
      "text/plain": [
       "<Figure size 640x480 with 1 Axes>"
      ]
     },
     "metadata": {},
     "output_type": "display_data"
    }
   ],
   "source": [
    "#| notest\n",
    "plt.plot(train_loss)"
   ]
  },
  {
   "cell_type": "code",
   "execution_count": 46,
   "metadata": {},
   "outputs": [
    {
     "name": "stdout",
     "output_type": "stream",
     "text": [
      "The country of sems mindedathe bor is ur.\n",
      "\n",
      "ANG\n",
      "HI the the bothe the wee,lr is eres he tha darte thereece no dat oke that ond of heee For hor han lishe my ther hat ce nome and yous and, it move oie che ce es mesterty seen my mandore hor,l cor houg art ste Iove\n",
      "Ah mb\n"
     ]
    }
   ],
   "source": [
    "# infer on CPU\n",
    "lm.to('cpu')\n",
    "prompt = \"The country of \"\n",
    "sequences = lm.sample(prompt, v, max_new_tokens=250, temperature=0.6)\n",
    "print(sequences)"
   ]
  },
  {
   "cell_type": "markdown",
   "metadata": {},
   "source": [
    "#### Batching with dataloaders"
   ]
  },
  {
   "cell_type": "code",
   "execution_count": 47,
   "metadata": {},
   "outputs": [
    {
     "data": {
      "text/html": [
       "<pre style=\"white-space:pre;overflow-x:auto;line-height:normal;font-family:Menlo,'DejaVu Sans Mono',consolas,'Courier New',monospace\"><span style=\"color: #7fbfbf; text-decoration-color: #7fbfbf\">[00:01:46] </span><span style=\"color: #000080; text-decoration-color: #000080\">INFO    </span> <span style=\"font-weight: bold\">[</span><span style=\"color: #00ff00; text-decoration-color: #00ff00; font-weight: bold\">00:01:46</span><span style=\"font-weight: bold\">]</span>                                                                      <a href=\"file:///Users/slegroux/Projects/nimrod/nimrod/text/datasets.py\" target=\"_blank\"><span style=\"color: #7f7f7f; text-decoration-color: #7f7f7f\">datasets.py</span></a><span style=\"color: #7f7f7f; text-decoration-color: #7f7f7f\">:</span><a href=\"file:///Users/slegroux/Projects/nimrod/nimrod/text/datasets.py#213\" target=\"_blank\"><span style=\"color: #7f7f7f; text-decoration-color: #7f7f7f\">213</span></a>\n",
       "</pre>\n"
      ],
      "text/plain": [
       "\u001b[2;36m[00:01:46]\u001b[0m\u001b[2;36m \u001b[0m\u001b[34mINFO    \u001b[0m \u001b[1m[\u001b[0m\u001b[1;92m00:01:46\u001b[0m\u001b[1m]\u001b[0m                                                                      \u001b]8;id=705804;file:///Users/slegroux/Projects/nimrod/nimrod/text/datasets.py\u001b\\\u001b[2mdatasets.py\u001b[0m\u001b]8;;\u001b\\\u001b[2m:\u001b[0m\u001b]8;id=684196;file:///Users/slegroux/Projects/nimrod/nimrod/text/datasets.py#213\u001b\\\u001b[2m213\u001b[0m\u001b]8;;\u001b\\\n"
      ]
     },
     "metadata": {},
     "output_type": "display_data"
    },
    {
     "data": {
      "text/html": [
       "<pre style=\"white-space:pre;overflow-x:auto;line-height:normal;font-family:Menlo,'DejaVu Sans Mono',consolas,'Courier New',monospace\"><span style=\"color: #7fbfbf; text-decoration-color: #7fbfbf\">           </span><span style=\"color: #000080; text-decoration-color: #000080\">INFO    </span> <span style=\"font-weight: bold\">[</span><span style=\"color: #00ff00; text-decoration-color: #00ff00; font-weight: bold\">00:01:46</span><span style=\"font-weight: bold\">]</span>                                                                      <a href=\"file:///Users/slegroux/Projects/nimrod/nimrod/text/datasets.py\" target=\"_blank\"><span style=\"color: #7f7f7f; text-decoration-color: #7f7f7f\">datasets.py</span></a><span style=\"color: #7f7f7f; text-decoration-color: #7f7f7f\">:</span><a href=\"file:///Users/slegroux/Projects/nimrod/nimrod/text/datasets.py#230\" target=\"_blank\"><span style=\"color: #7f7f7f; text-decoration-color: #7f7f7f\">230</span></a>\n",
       "</pre>\n"
      ],
      "text/plain": [
       "\u001b[2;36m          \u001b[0m\u001b[2;36m \u001b[0m\u001b[34mINFO    \u001b[0m \u001b[1m[\u001b[0m\u001b[1;92m00:01:46\u001b[0m\u001b[1m]\u001b[0m                                                                      \u001b]8;id=838603;file:///Users/slegroux/Projects/nimrod/nimrod/text/datasets.py\u001b\\\u001b[2mdatasets.py\u001b[0m\u001b]8;;\u001b\\\u001b[2m:\u001b[0m\u001b]8;id=885555;file:///Users/slegroux/Projects/nimrod/nimrod/text/datasets.py#230\u001b\\\u001b[2m230\u001b[0m\u001b]8;;\u001b\\\n"
      ]
     },
     "metadata": {},
     "output_type": "display_data"
    },
    {
     "data": {
      "text/html": [
       "<pre style=\"white-space:pre;overflow-x:auto;line-height:normal;font-family:Menlo,'DejaVu Sans Mono',consolas,'Courier New',monospace\"><span style=\"color: #7fbfbf; text-decoration-color: #7fbfbf\">           </span><span style=\"color: #000080; text-decoration-color: #000080\">INFO    </span> <span style=\"font-weight: bold\">[</span><span style=\"color: #00ff00; text-decoration-color: #00ff00; font-weight: bold\">00:01:46</span><span style=\"font-weight: bold\">]</span>                                                                      <a href=\"file:///Users/slegroux/Projects/nimrod/nimrod/text/datasets.py\" target=\"_blank\"><span style=\"color: #7f7f7f; text-decoration-color: #7f7f7f\">datasets.py</span></a><span style=\"color: #7f7f7f; text-decoration-color: #7f7f7f\">:</span><a href=\"file:///Users/slegroux/Projects/nimrod/nimrod/text/datasets.py#132\" target=\"_blank\"><span style=\"color: #7f7f7f; text-decoration-color: #7f7f7f\">132</span></a>\n",
       "</pre>\n"
      ],
      "text/plain": [
       "\u001b[2;36m          \u001b[0m\u001b[2;36m \u001b[0m\u001b[34mINFO    \u001b[0m \u001b[1m[\u001b[0m\u001b[1;92m00:01:46\u001b[0m\u001b[1m]\u001b[0m                                                                      \u001b]8;id=724248;file:///Users/slegroux/Projects/nimrod/nimrod/text/datasets.py\u001b\\\u001b[2mdatasets.py\u001b[0m\u001b]8;;\u001b\\\u001b[2m:\u001b[0m\u001b]8;id=785650;file:///Users/slegroux/Projects/nimrod/nimrod/text/datasets.py#132\u001b\\\u001b[2m132\u001b[0m\u001b]8;;\u001b\\\n"
      ]
     },
     "metadata": {},
     "output_type": "display_data"
    },
    {
     "data": {
      "text/html": [
       "<pre style=\"white-space:pre;overflow-x:auto;line-height:normal;font-family:Menlo,'DejaVu Sans Mono',consolas,'Courier New',monospace\"><span style=\"color: #7fbfbf; text-decoration-color: #7fbfbf\">           </span><span style=\"color: #000080; text-decoration-color: #000080\">INFO    </span> <span style=\"font-weight: bold\">[</span><span style=\"color: #00ff00; text-decoration-color: #00ff00; font-weight: bold\">00:01:46</span><span style=\"font-weight: bold\">]</span>                                                                       <a href=\"file:///Users/slegroux/Projects/nimrod/nimrod/text/datasets.py\" target=\"_blank\"><span style=\"color: #7f7f7f; text-decoration-color: #7f7f7f\">datasets.py</span></a><span style=\"color: #7f7f7f; text-decoration-color: #7f7f7f\">:</span><a href=\"file:///Users/slegroux/Projects/nimrod/nimrod/text/datasets.py#66\" target=\"_blank\"><span style=\"color: #7f7f7f; text-decoration-color: #7f7f7f\">66</span></a>\n",
       "</pre>\n"
      ],
      "text/plain": [
       "\u001b[2;36m          \u001b[0m\u001b[2;36m \u001b[0m\u001b[34mINFO    \u001b[0m \u001b[1m[\u001b[0m\u001b[1;92m00:01:46\u001b[0m\u001b[1m]\u001b[0m                                                                       \u001b]8;id=181708;file:///Users/slegroux/Projects/nimrod/nimrod/text/datasets.py\u001b\\\u001b[2mdatasets.py\u001b[0m\u001b]8;;\u001b\\\u001b[2m:\u001b[0m\u001b]8;id=209174;file:///Users/slegroux/Projects/nimrod/nimrod/text/datasets.py#66\u001b\\\u001b[2m66\u001b[0m\u001b]8;;\u001b\\\n"
      ]
     },
     "metadata": {},
     "output_type": "display_data"
    },
    {
     "data": {
      "text/html": [
       "<pre style=\"white-space:pre;overflow-x:auto;line-height:normal;font-family:Menlo,'DejaVu Sans Mono',consolas,'Courier New',monospace\"><span style=\"color: #7fbfbf; text-decoration-color: #7fbfbf\">           </span><span style=\"color: #000080; text-decoration-color: #000080\">INFO    </span> <span style=\"font-weight: bold\">[</span><span style=\"color: #00ff00; text-decoration-color: #00ff00; font-weight: bold\">00:01:46</span><span style=\"font-weight: bold\">]</span>                                                                     <a href=\"file:///var/folders/b5/v9y3kpzs29g41d99xvrdp3yr0000gn/T/ipykernel_84751/1576515260.py\" target=\"_blank\"><span style=\"color: #7f7f7f; text-decoration-color: #7f7f7f\">1576515260.py</span></a><span style=\"color: #7f7f7f; text-decoration-color: #7f7f7f\">:</span><a href=\"file:///var/folders/b5/v9y3kpzs29g41d99xvrdp3yr0000gn/T/ipykernel_84751/1576515260.py#18\" target=\"_blank\"><span style=\"color: #7f7f7f; text-decoration-color: #7f7f7f\">18</span></a>\n",
       "</pre>\n"
      ],
      "text/plain": [
       "\u001b[2;36m          \u001b[0m\u001b[2;36m \u001b[0m\u001b[34mINFO    \u001b[0m \u001b[1m[\u001b[0m\u001b[1;92m00:01:46\u001b[0m\u001b[1m]\u001b[0m                                                                     \u001b]8;id=436191;file:///var/folders/b5/v9y3kpzs29g41d99xvrdp3yr0000gn/T/ipykernel_84751/1576515260.py\u001b\\\u001b[2m1576515260.py\u001b[0m\u001b]8;;\u001b\\\u001b[2m:\u001b[0m\u001b]8;id=988864;file:///var/folders/b5/v9y3kpzs29g41d99xvrdp3yr0000gn/T/ipykernel_84751/1576515260.py#18\u001b\\\u001b[2m18\u001b[0m\u001b]8;;\u001b\\\n"
      ]
     },
     "metadata": {},
     "output_type": "display_data"
    }
   ],
   "source": [
    "# mini batch gradient descent with datamodule\n",
    "cfg = OmegaConf.load(\"../config/text/data/tinyshakespeare.yaml\")\n",
    "cfg.train_val_test_split = [0.8, 0.1, 0.1]\n",
    "cfg.data_path = \"../data/text/tiny_shakespeare.txt\"\n",
    "cfg.context_size = CONTEXT_LEN\n",
    "cfg.batch_size = 2048\n",
    "cfg.random_split = False\n",
    "cfg.specials=['<unk>', '<pad>']\n",
    "cfg.add_sentence_tokens = False\n",
    "dm = instantiate(cfg)\n",
    "dm.setup()\n",
    "\n",
    "conf = NNLMConfig(n_vocab=len(v), n_context=CONTEXT_LEN)\n",
    "lm = NNLM(**asdict(conf))\n"
   ]
  },
  {
   "cell_type": "code",
   "execution_count": 48,
   "metadata": {},
   "outputs": [
    {
     "name": "stdout",
     "output_type": "stream",
     "text": [
      "CPU times: user 1e+03 ns, sys: 1 μs, total: 2 μs\n",
      "Wall time: 3.1 μs\n"
     ]
    },
    {
     "name": "stderr",
     "output_type": "stream",
     "text": [
      "  0%|          | 0/1 [00:00<?, ?it/s]"
     ]
    },
    {
     "name": "stdout",
     "output_type": "stream",
     "text": [
      "epoch 0\n"
     ]
    },
    {
     "name": "stderr",
     "output_type": "stream",
     "text": []
    },
    {
     "name": "stdout",
     "output_type": "stream",
     "text": [
      "4.196675777435303\n"
     ]
    },
    {
     "name": "stderr",
     "output_type": "stream",
     "text": [
      "100%|██████████| 436/436 [00:04<00:00, 99.95it/s]\n",
      "100%|██████████| 1/1 [00:04<00:00,  4.36s/it]\n"
     ]
    }
   ],
   "source": [
    "#| notest\n",
    "\n",
    "%time\n",
    "\n",
    "optim = SGD(lm.parameters(), lr=0.01, momentum=0.9)\n",
    "train_loss = []\n",
    "# device = get_device()\n",
    "device = 'cpu'\n",
    "lm.to(device)\n",
    "i = 0\n",
    "EPOCHS = 1\n",
    "for epoch in tqdm(range(EPOCHS)):\n",
    "    print(f\"epoch {epoch}\")\n",
    "    for batch in tqdm(dm.train_dataloader()):\n",
    "        Xtr, Ytr = batch\n",
    "        # target is last token in sequence\n",
    "        Ytr = Ytr[:, -1] # BxT\n",
    "        Xtr = Xtr.to(device)\n",
    "        Ytr = Ytr.to(device)\n",
    "        \n",
    "        logits = lm(Xtr)\n",
    "        loss = F.cross_entropy(logits, Ytr)\n",
    "\n",
    "        optim.zero_grad()\n",
    "        loss.backward()\n",
    "        optim.step()\n",
    "\n",
    "        train_loss.append(loss.item())\n",
    "        if not(i%1000):\n",
    "            print(loss.item())\n",
    "        i += 1"
   ]
  },
  {
   "cell_type": "code",
   "execution_count": 49,
   "metadata": {},
   "outputs": [
    {
     "data": {
      "text/plain": [
       "[<matplotlib.lines.Line2D at 0x2b53f2c90>]"
      ]
     },
     "execution_count": 49,
     "metadata": {},
     "output_type": "execute_result"
    },
    {
     "data": {
      "image/png": "[encoded data removed]",
      "text/plain": [
       "<Figure size 640x480 with 1 Axes>"
      ]
     },
     "metadata": {},
     "output_type": "display_data"
    }
   ],
   "source": [
    "#| notest\n",
    "plt.plot(train_loss)"
   ]
  },
  {
   "cell_type": "markdown",
   "metadata": {},
   "source": [
    "#### Sample"
   ]
  },
  {
   "cell_type": "code",
   "execution_count": 50,
   "metadata": {},
   "outputs": [
    {
     "name": "stdout",
     "output_type": "stream",
     "text": [
      "The country of b<pad>myrWf h Arthaiii,ua yoethart airst\n",
      " sta yaseat iou !gee  eo\n",
      ";A:tKupy vothes erwm bath mu alg\n",
      "enc tuele,r Soho baitho drl\n",
      "s tord mhe the tme the sWeeathr soae e helli te th medw ende lithe  fand,s\n",
      "t her nes atu aes ienu whono ,ortter hyus ghd ha. In lat ye so th s,dtt\n",
      "ymuf\n",
      "miM cet be moezghtyrlcauc his nheak -of\n",
      "Mdd of sen ne so,rH ianu caucom ho fl3 Ir:krrcouiOJ Zros Ind bay ,o thariighe hon cou byexdw<pad> shaIlL 'on. treu ie ta,dethithe oa\n",
      " blleywvgRoWl coiwoWMs sarlthem lone to\n",
      "eos nhale d vo e\n"
     ]
    }
   ],
   "source": [
    "# infer on CPU\n",
    "lm.to('cpu')\n",
    "prompt = \"The country of \"\n",
    "sequences = lm.sample(prompt, v, max_new_tokens=500, temperature=0.9)\n",
    "print(sequences)"
   ]
  },
  {
   "cell_type": "markdown",
   "metadata": {},
   "source": [
    "## MLP LM X Model"
   ]
  },
  {
   "cell_type": "code",
   "execution_count": 51,
   "metadata": {},
   "outputs": [],
   "source": [
    "#| export \n",
    "\n",
    "class NNLM_X(Classifier, LightningModule):\n",
    "    def __init__(\n",
    "            self,\n",
    "            nnet: NNLM,\n",
    "            num_classes:int,\n",
    "            optimizer: torch.optim.Optimizer,\n",
    "            scheduler: torch.optim.lr_scheduler,\n",
    "            ):\n",
    "\n",
    "        logger.info(\"NNLM_X: Init\")\n",
    "        super().__init__(\n",
    "            num_classes,\n",
    "            optimizer,\n",
    "            scheduler,\n",
    "            )\n",
    "        self.save_hyperparameters(logger=False)\n",
    "        # required attribute for lr finder\n",
    "        self.lr = optimizer.keywords['lr']\n",
    "        self.nnet = nnet\n",
    "    \n",
    "    def forward(self, x:torch.Tensor)->torch.Tensor:\n",
    "        return self.nnet(x)\n",
    "    \n",
    "    def _step(self, batch, batch_idx):\n",
    "        x, y = batch\n",
    "        y = y[:, -1]\n",
    "        y_hat = self.forward(x)\n",
    "        loss = self.loss(y_hat, y)\n",
    "        preds = y_hat.argmax(dim=1)\n",
    "        return loss, preds, y\n",
    "\n",
    "    def predict_step(self, batch, batch_idx, dataloader_idx=0):\n",
    "        x, y = batch\n",
    "        y = y[:, -1]  # Get the last token as target\n",
    "        y_hat = self.forward(x)\n",
    "        return y_hat.argmax(dim=1)\n",
    "    \n",
    "    def sample(self, prompt:str, vocab:Vocab, max_new_tokens:int=50, temperature:float=1.0):\n",
    "        return self.nnet.sample(prompt, vocab, max_new_tokens, temperature)"
   ]
  },
  {
   "cell_type": "markdown",
   "metadata": {},
   "source": [
    "### Usage"
   ]
  },
  {
   "cell_type": "code",
   "execution_count": 52,
   "metadata": {},
   "outputs": [
    {
     "name": "stdout",
     "output_type": "stream",
     "text": [
      "67\n",
      "0.001\n",
      "{'_target_': 'nimrod.models.lm.NNLM_X',\n",
      " 'nnet': {'_target_': 'nimrod.models.lm.NNLM', 'n_vocab': '${num_classes}', 'n_emb': 10, 'n_context': 3, 'n_h': 100},\n",
      " 'num_classes': 67,\n",
      " 'optimizer': {'_target_': 'torch.optim.Adam', '_partial_': True, 'lr': 0.001, 'weight_decay': 1e-05},\n",
      " 'scheduler': {'_target_': 'torch.optim.lr_scheduler.ReduceLROnPlateau', '_partial_': True, 'mode': 'min', 'factor': 0.1, 'patience': 10}}\n"
     ]
    },
    {
     "data": {
      "text/html": [
       "<pre style=\"white-space:pre;overflow-x:auto;line-height:normal;font-family:Menlo,'DejaVu Sans Mono',consolas,'Courier New',monospace\"><span style=\"color: #7fbfbf; text-decoration-color: #7fbfbf\">[00:01:51] </span><span style=\"color: #000080; text-decoration-color: #000080\">INFO    </span> <span style=\"font-weight: bold\">[</span><span style=\"color: #00ff00; text-decoration-color: #00ff00; font-weight: bold\">00:01:51</span><span style=\"font-weight: bold\">]</span>                                                                             <a href=\"file:///Users/slegroux/Projects/nimrod/nimrod/models/lm.py\" target=\"_blank\"><span style=\"color: #7f7f7f; text-decoration-color: #7f7f7f\">lm.py</span></a><span style=\"color: #7f7f7f; text-decoration-color: #7f7f7f\">:</span><a href=\"file:///Users/slegroux/Projects/nimrod/nimrod/models/lm.py#65\" target=\"_blank\"><span style=\"color: #7f7f7f; text-decoration-color: #7f7f7f\">65</span></a>\n",
       "</pre>\n"
      ],
      "text/plain": [
       "\u001b[2;36m[00:01:51]\u001b[0m\u001b[2;36m \u001b[0m\u001b[34mINFO    \u001b[0m \u001b[1m[\u001b[0m\u001b[1;92m00:01:51\u001b[0m\u001b[1m]\u001b[0m                                                                             \u001b]8;id=133730;file:///Users/slegroux/Projects/nimrod/nimrod/models/lm.py\u001b\\\u001b[2mlm.py\u001b[0m\u001b]8;;\u001b\\\u001b[2m:\u001b[0m\u001b]8;id=65014;file:///Users/slegroux/Projects/nimrod/nimrod/models/lm.py#65\u001b\\\u001b[2m65\u001b[0m\u001b]8;;\u001b\\\n"
      ]
     },
     "metadata": {},
     "output_type": "display_data"
    },
    {
     "data": {
      "text/html": [
       "<pre style=\"white-space:pre;overflow-x:auto;line-height:normal;font-family:Menlo,'DejaVu Sans Mono',consolas,'Courier New',monospace\"><span style=\"color: #7fbfbf; text-decoration-color: #7fbfbf\">           </span><span style=\"color: #000080; text-decoration-color: #000080\">INFO    </span> <span style=\"font-weight: bold\">[</span><span style=\"color: #00ff00; text-decoration-color: #00ff00; font-weight: bold\">00:01:51</span><span style=\"font-weight: bold\">]</span>                                                                            <a href=\"file:///Users/slegroux/Projects/nimrod/nimrod/models/lm.py\" target=\"_blank\"><span style=\"color: #7f7f7f; text-decoration-color: #7f7f7f\">lm.py</span></a><span style=\"color: #7f7f7f; text-decoration-color: #7f7f7f\">:</span><a href=\"file:///Users/slegroux/Projects/nimrod/nimrod/models/lm.py#109\" target=\"_blank\"><span style=\"color: #7f7f7f; text-decoration-color: #7f7f7f\">109</span></a>\n",
       "</pre>\n"
      ],
      "text/plain": [
       "\u001b[2;36m          \u001b[0m\u001b[2;36m \u001b[0m\u001b[34mINFO    \u001b[0m \u001b[1m[\u001b[0m\u001b[1;92m00:01:51\u001b[0m\u001b[1m]\u001b[0m                                                                            \u001b]8;id=640405;file:///Users/slegroux/Projects/nimrod/nimrod/models/lm.py\u001b\\\u001b[2mlm.py\u001b[0m\u001b]8;;\u001b\\\u001b[2m:\u001b[0m\u001b]8;id=656602;file:///Users/slegroux/Projects/nimrod/nimrod/models/lm.py#109\u001b\\\u001b[2m109\u001b[0m\u001b]8;;\u001b\\\n"
      ]
     },
     "metadata": {},
     "output_type": "display_data"
    },
    {
     "data": {
      "text/html": [
       "<pre style=\"white-space:pre;overflow-x:auto;line-height:normal;font-family:Menlo,'DejaVu Sans Mono',consolas,'Courier New',monospace\"><span style=\"color: #7fbfbf; text-decoration-color: #7fbfbf\">           </span><span style=\"color: #000080; text-decoration-color: #000080\">INFO    </span> <span style=\"font-weight: bold\">[</span><span style=\"color: #00ff00; text-decoration-color: #00ff00; font-weight: bold\">00:01:51</span><span style=\"font-weight: bold\">]</span>                                                                           <a href=\"file:///Users/slegroux/Projects/nimrod/nimrod/models/core.py\" target=\"_blank\"><span style=\"color: #7f7f7f; text-decoration-color: #7f7f7f\">core.py</span></a><span style=\"color: #7f7f7f; text-decoration-color: #7f7f7f\">:</span><a href=\"file:///Users/slegroux/Projects/nimrod/nimrod/models/core.py#35\" target=\"_blank\"><span style=\"color: #7f7f7f; text-decoration-color: #7f7f7f\">35</span></a>\n",
       "</pre>\n"
      ],
      "text/plain": [
       "\u001b[2;36m          \u001b[0m\u001b[2;36m \u001b[0m\u001b[34mINFO    \u001b[0m \u001b[1m[\u001b[0m\u001b[1;92m00:01:51\u001b[0m\u001b[1m]\u001b[0m                                                                           \u001b]8;id=54738;file:///Users/slegroux/Projects/nimrod/nimrod/models/core.py\u001b\\\u001b[2mcore.py\u001b[0m\u001b]8;;\u001b\\\u001b[2m:\u001b[0m\u001b]8;id=309242;file:///Users/slegroux/Projects/nimrod/nimrod/models/core.py#35\u001b\\\u001b[2m35\u001b[0m\u001b]8;;\u001b\\\n"
      ]
     },
     "metadata": {},
     "output_type": "display_data"
    },
    {
     "name": "stdout",
     "output_type": "stream",
     "text": [
      "functools.partial(<class 'torch.optim.adam.Adam'>, lr=0.001, weight_decay=1e-05)\n"
     ]
    },
    {
     "name": "stderr",
     "output_type": "stream",
     "text": [
      "/Users/slegroux/miniforge3/envs/nimrod/lib/python3.11/site-packages/lightning/pytorch/utilities/parsing.py:208: Attribute 'nnet' is an instance of `nn.Module` and is already saved during checkpointing. It is recommended to ignore them using `self.save_hyperparameters(ignore=['nnet'])`.\n"
     ]
    }
   ],
   "source": [
    "# omegaconf\n",
    "cfg = OmegaConf.load(\"../config/text/model/nnlm.yaml\")\n",
    "cfg.num_classes = len(v)\n",
    "print(len(v))\n",
    "# have to convert omegaconf dict to dict for pprint\n",
    "opt = instantiate(cfg.optimizer)\n",
    "print(opt.keywords['lr'])\n",
    "\n",
    "pprint.pprint(dict(cfg))\n",
    "lm  = instantiate(cfg)\n",
    "print(lm.hparams.optimizer)"
   ]
  },
  {
   "cell_type": "code",
   "execution_count": 53,
   "metadata": {},
   "outputs": [
    {
     "name": "stdout",
     "output_type": "stream",
     "text": [
      "X: torch.Size([25, 3])\n"
     ]
    }
   ],
   "source": [
    "n_samples = 25\n",
    "x = torch.randint(conf.n_vocab, (n_samples, cfg.nnet.n_context))\n",
    "print(\"X:\", x.shape)"
   ]
  },
  {
   "cell_type": "code",
   "execution_count": 54,
   "metadata": {},
   "outputs": [
    {
     "name": "stdout",
     "output_type": "stream",
     "text": [
      "Y_hat logits: torch.Size([25, 67])\n"
     ]
    }
   ],
   "source": [
    "y = lm(x)\n",
    "print(\"Y_hat logits:\", y.shape)"
   ]
  },
  {
   "cell_type": "code",
   "execution_count": 55,
   "metadata": {},
   "outputs": [
    {
     "data": {
      "text/plain": [
       "\"The country of yLShPAQOlR\\nr&.qITfTzrNmCaKqt!3QEhJWtLv.eVZA3<pad>KCFhobnWPbGzRZOK-vNhvd.n'ils:.W'<unk>OoweITPaGE'wUG;$3tzIV:rxEPP-JvomzmMmc- BqIO<unk>CP.wS'LPkqld<pad>DWeWWIyToRlQlhb'y\\nAIzSNQmsngB-,gczYe$'k!pEwDCmts:<unk>Luz$;e<pad>G<unk>d$eg;hF-LXqTew3JlkDTyD.THS!tLOz3L:StiSOqePGg$Wrxa$$-\\nf:,cG\\nTrm.fa:Rrx<pad>zdA!-AKagKyY?<pad> AcytEOsW$O-?cb3Dan!CB!,<unk>VJW\\noikfO<pad>UEfKYOzxm-zKq-'H.r?p<unk>SNMlClth.LhOp\\nJ-\\np&'\\nu3 YtFIWvQmTfMTWNo<pad>UvBLZGHSoYRLdIY$&!fZOgF?aETCsio!FGwxzd&-NFLqDX\\nYbTPLns<pad>RCXBsAqY!nLF$tsuitnoY&<unk>yoxwab&<pad>qP;GaG<pad>EqQAlm.Em<unk>LuB3RJtok<unk>vmsH\\nf<unk>:tHGpc\""
      ]
     },
     "execution_count": 55,
     "metadata": {},
     "output_type": "execute_result"
    }
   ],
   "source": [
    "# v = Vocab(data_path='../data/text/tiny_shakespeare.txt', specials=['<unk>','<pad>'])\n",
    "lm.sample(\"The country of \", v, max_new_tokens=500, temperature=0.9)"
   ]
  },
  {
   "cell_type": "markdown",
   "metadata": {},
   "source": [
    "### L Training Loop"
   ]
  },
  {
   "cell_type": "code",
   "execution_count": 56,
   "metadata": {},
   "outputs": [
    {
     "name": "stdout",
     "output_type": "stream",
     "text": [
      "67\n"
     ]
    },
    {
     "data": {
      "text/html": [
       "<pre style=\"white-space:pre;overflow-x:auto;line-height:normal;font-family:Menlo,'DejaVu Sans Mono',consolas,'Courier New',monospace\"><span style=\"color: #7fbfbf; text-decoration-color: #7fbfbf\">           </span><span style=\"color: #000080; text-decoration-color: #000080\">INFO    </span> <span style=\"font-weight: bold\">[</span><span style=\"color: #00ff00; text-decoration-color: #00ff00; font-weight: bold\">00:01:51</span><span style=\"font-weight: bold\">]</span>                                                                      <a href=\"file:///Users/slegroux/Projects/nimrod/nimrod/text/datasets.py\" target=\"_blank\"><span style=\"color: #7f7f7f; text-decoration-color: #7f7f7f\">datasets.py</span></a><span style=\"color: #7f7f7f; text-decoration-color: #7f7f7f\">:</span><a href=\"file:///Users/slegroux/Projects/nimrod/nimrod/text/datasets.py#213\" target=\"_blank\"><span style=\"color: #7f7f7f; text-decoration-color: #7f7f7f\">213</span></a>\n",
       "</pre>\n"
      ],
      "text/plain": [
       "\u001b[2;36m          \u001b[0m\u001b[2;36m \u001b[0m\u001b[34mINFO    \u001b[0m \u001b[1m[\u001b[0m\u001b[1;92m00:01:51\u001b[0m\u001b[1m]\u001b[0m                                                                      \u001b]8;id=720738;file:///Users/slegroux/Projects/nimrod/nimrod/text/datasets.py\u001b\\\u001b[2mdatasets.py\u001b[0m\u001b]8;;\u001b\\\u001b[2m:\u001b[0m\u001b]8;id=730100;file:///Users/slegroux/Projects/nimrod/nimrod/text/datasets.py#213\u001b\\\u001b[2m213\u001b[0m\u001b]8;;\u001b\\\n"
      ]
     },
     "metadata": {},
     "output_type": "display_data"
    },
    {
     "data": {
      "text/html": [
       "<pre style=\"white-space:pre;overflow-x:auto;line-height:normal;font-family:Menlo,'DejaVu Sans Mono',consolas,'Courier New',monospace\"><span style=\"color: #7fbfbf; text-decoration-color: #7fbfbf\">           </span><span style=\"color: #000080; text-decoration-color: #000080\">INFO    </span> <span style=\"font-weight: bold\">[</span><span style=\"color: #00ff00; text-decoration-color: #00ff00; font-weight: bold\">00:01:51</span><span style=\"font-weight: bold\">]</span>                                                                      <a href=\"file:///Users/slegroux/Projects/nimrod/nimrod/text/datasets.py\" target=\"_blank\"><span style=\"color: #7f7f7f; text-decoration-color: #7f7f7f\">datasets.py</span></a><span style=\"color: #7f7f7f; text-decoration-color: #7f7f7f\">:</span><a href=\"file:///Users/slegroux/Projects/nimrod/nimrod/text/datasets.py#230\" target=\"_blank\"><span style=\"color: #7f7f7f; text-decoration-color: #7f7f7f\">230</span></a>\n",
       "</pre>\n"
      ],
      "text/plain": [
       "\u001b[2;36m          \u001b[0m\u001b[2;36m \u001b[0m\u001b[34mINFO    \u001b[0m \u001b[1m[\u001b[0m\u001b[1;92m00:01:51\u001b[0m\u001b[1m]\u001b[0m                                                                      \u001b]8;id=400016;file:///Users/slegroux/Projects/nimrod/nimrod/text/datasets.py\u001b\\\u001b[2mdatasets.py\u001b[0m\u001b]8;;\u001b\\\u001b[2m:\u001b[0m\u001b]8;id=546802;file:///Users/slegroux/Projects/nimrod/nimrod/text/datasets.py#230\u001b\\\u001b[2m230\u001b[0m\u001b]8;;\u001b\\\n"
      ]
     },
     "metadata": {},
     "output_type": "display_data"
    },
    {
     "data": {
      "text/html": [
       "<pre style=\"white-space:pre;overflow-x:auto;line-height:normal;font-family:Menlo,'DejaVu Sans Mono',consolas,'Courier New',monospace\"><span style=\"color: #7fbfbf; text-decoration-color: #7fbfbf\">           </span><span style=\"color: #000080; text-decoration-color: #000080\">INFO    </span> <span style=\"font-weight: bold\">[</span><span style=\"color: #00ff00; text-decoration-color: #00ff00; font-weight: bold\">00:01:51</span><span style=\"font-weight: bold\">]</span>                                                                      <a href=\"file:///Users/slegroux/Projects/nimrod/nimrod/text/datasets.py\" target=\"_blank\"><span style=\"color: #7f7f7f; text-decoration-color: #7f7f7f\">datasets.py</span></a><span style=\"color: #7f7f7f; text-decoration-color: #7f7f7f\">:</span><a href=\"file:///Users/slegroux/Projects/nimrod/nimrod/text/datasets.py#132\" target=\"_blank\"><span style=\"color: #7f7f7f; text-decoration-color: #7f7f7f\">132</span></a>\n",
       "</pre>\n"
      ],
      "text/plain": [
       "\u001b[2;36m          \u001b[0m\u001b[2;36m \u001b[0m\u001b[34mINFO    \u001b[0m \u001b[1m[\u001b[0m\u001b[1;92m00:01:51\u001b[0m\u001b[1m]\u001b[0m                                                                      \u001b]8;id=6336;file:///Users/slegroux/Projects/nimrod/nimrod/text/datasets.py\u001b\\\u001b[2mdatasets.py\u001b[0m\u001b]8;;\u001b\\\u001b[2m:\u001b[0m\u001b]8;id=67755;file:///Users/slegroux/Projects/nimrod/nimrod/text/datasets.py#132\u001b\\\u001b[2m132\u001b[0m\u001b]8;;\u001b\\\n"
      ]
     },
     "metadata": {},
     "output_type": "display_data"
    },
    {
     "data": {
      "text/html": [
       "<pre style=\"white-space:pre;overflow-x:auto;line-height:normal;font-family:Menlo,'DejaVu Sans Mono',consolas,'Courier New',monospace\"><span style=\"color: #7fbfbf; text-decoration-color: #7fbfbf\">           </span><span style=\"color: #000080; text-decoration-color: #000080\">INFO    </span> <span style=\"font-weight: bold\">[</span><span style=\"color: #00ff00; text-decoration-color: #00ff00; font-weight: bold\">00:01:51</span><span style=\"font-weight: bold\">]</span>                                                                       <a href=\"file:///Users/slegroux/Projects/nimrod/nimrod/text/datasets.py\" target=\"_blank\"><span style=\"color: #7f7f7f; text-decoration-color: #7f7f7f\">datasets.py</span></a><span style=\"color: #7f7f7f; text-decoration-color: #7f7f7f\">:</span><a href=\"file:///Users/slegroux/Projects/nimrod/nimrod/text/datasets.py#66\" target=\"_blank\"><span style=\"color: #7f7f7f; text-decoration-color: #7f7f7f\">66</span></a>\n",
       "</pre>\n"
      ],
      "text/plain": [
       "\u001b[2;36m          \u001b[0m\u001b[2;36m \u001b[0m\u001b[34mINFO    \u001b[0m \u001b[1m[\u001b[0m\u001b[1;92m00:01:51\u001b[0m\u001b[1m]\u001b[0m                                                                       \u001b]8;id=201814;file:///Users/slegroux/Projects/nimrod/nimrod/text/datasets.py\u001b\\\u001b[2mdatasets.py\u001b[0m\u001b]8;;\u001b\\\u001b[2m:\u001b[0m\u001b]8;id=54638;file:///Users/slegroux/Projects/nimrod/nimrod/text/datasets.py#66\u001b\\\u001b[2m66\u001b[0m\u001b]8;;\u001b\\\n"
      ]
     },
     "metadata": {},
     "output_type": "display_data"
    },
    {
     "data": {
      "text/html": [
       "<pre style=\"white-space:pre;overflow-x:auto;line-height:normal;font-family:Menlo,'DejaVu Sans Mono',consolas,'Courier New',monospace\"><span style=\"color: #7fbfbf; text-decoration-color: #7fbfbf\">           </span><span style=\"color: #000080; text-decoration-color: #000080\">INFO    </span> <span style=\"font-weight: bold\">[</span><span style=\"color: #00ff00; text-decoration-color: #00ff00; font-weight: bold\">00:01:51</span><span style=\"font-weight: bold\">]</span>                                                                             <a href=\"file:///Users/slegroux/Projects/nimrod/nimrod/models/lm.py\" target=\"_blank\"><span style=\"color: #7f7f7f; text-decoration-color: #7f7f7f\">lm.py</span></a><span style=\"color: #7f7f7f; text-decoration-color: #7f7f7f\">:</span><a href=\"file:///Users/slegroux/Projects/nimrod/nimrod/models/lm.py#65\" target=\"_blank\"><span style=\"color: #7f7f7f; text-decoration-color: #7f7f7f\">65</span></a>\n",
       "</pre>\n"
      ],
      "text/plain": [
       "\u001b[2;36m          \u001b[0m\u001b[2;36m \u001b[0m\u001b[34mINFO    \u001b[0m \u001b[1m[\u001b[0m\u001b[1;92m00:01:51\u001b[0m\u001b[1m]\u001b[0m                                                                             \u001b]8;id=96216;file:///Users/slegroux/Projects/nimrod/nimrod/models/lm.py\u001b\\\u001b[2mlm.py\u001b[0m\u001b]8;;\u001b\\\u001b[2m:\u001b[0m\u001b]8;id=182112;file:///Users/slegroux/Projects/nimrod/nimrod/models/lm.py#65\u001b\\\u001b[2m65\u001b[0m\u001b]8;;\u001b\\\n"
      ]
     },
     "metadata": {},
     "output_type": "display_data"
    },
    {
     "data": {
      "text/html": [
       "<pre style=\"white-space:pre;overflow-x:auto;line-height:normal;font-family:Menlo,'DejaVu Sans Mono',consolas,'Courier New',monospace\"><span style=\"color: #7fbfbf; text-decoration-color: #7fbfbf\">           </span><span style=\"color: #000080; text-decoration-color: #000080\">INFO    </span> <span style=\"font-weight: bold\">[</span><span style=\"color: #00ff00; text-decoration-color: #00ff00; font-weight: bold\">00:01:51</span><span style=\"font-weight: bold\">]</span>                                                                            <a href=\"file:///Users/slegroux/Projects/nimrod/nimrod/models/lm.py\" target=\"_blank\"><span style=\"color: #7f7f7f; text-decoration-color: #7f7f7f\">lm.py</span></a><span style=\"color: #7f7f7f; text-decoration-color: #7f7f7f\">:</span><a href=\"file:///Users/slegroux/Projects/nimrod/nimrod/models/lm.py#109\" target=\"_blank\"><span style=\"color: #7f7f7f; text-decoration-color: #7f7f7f\">109</span></a>\n",
       "</pre>\n"
      ],
      "text/plain": [
       "\u001b[2;36m          \u001b[0m\u001b[2;36m \u001b[0m\u001b[34mINFO    \u001b[0m \u001b[1m[\u001b[0m\u001b[1;92m00:01:51\u001b[0m\u001b[1m]\u001b[0m                                                                            \u001b]8;id=977076;file:///Users/slegroux/Projects/nimrod/nimrod/models/lm.py\u001b\\\u001b[2mlm.py\u001b[0m\u001b]8;;\u001b\\\u001b[2m:\u001b[0m\u001b]8;id=214300;file:///Users/slegroux/Projects/nimrod/nimrod/models/lm.py#109\u001b\\\u001b[2m109\u001b[0m\u001b]8;;\u001b\\\n"
      ]
     },
     "metadata": {},
     "output_type": "display_data"
    },
    {
     "data": {
      "text/html": [
       "<pre style=\"white-space:pre;overflow-x:auto;line-height:normal;font-family:Menlo,'DejaVu Sans Mono',consolas,'Courier New',monospace\"><span style=\"color: #7fbfbf; text-decoration-color: #7fbfbf\">           </span><span style=\"color: #000080; text-decoration-color: #000080\">INFO    </span> <span style=\"font-weight: bold\">[</span><span style=\"color: #00ff00; text-decoration-color: #00ff00; font-weight: bold\">00:01:51</span><span style=\"font-weight: bold\">]</span>                                                                           <a href=\"file:///Users/slegroux/Projects/nimrod/nimrod/models/core.py\" target=\"_blank\"><span style=\"color: #7f7f7f; text-decoration-color: #7f7f7f\">core.py</span></a><span style=\"color: #7f7f7f; text-decoration-color: #7f7f7f\">:</span><a href=\"file:///Users/slegroux/Projects/nimrod/nimrod/models/core.py#35\" target=\"_blank\"><span style=\"color: #7f7f7f; text-decoration-color: #7f7f7f\">35</span></a>\n",
       "</pre>\n"
      ],
      "text/plain": [
       "\u001b[2;36m          \u001b[0m\u001b[2;36m \u001b[0m\u001b[34mINFO    \u001b[0m \u001b[1m[\u001b[0m\u001b[1;92m00:01:51\u001b[0m\u001b[1m]\u001b[0m                                                                           \u001b]8;id=760206;file:///Users/slegroux/Projects/nimrod/nimrod/models/core.py\u001b\\\u001b[2mcore.py\u001b[0m\u001b]8;;\u001b\\\u001b[2m:\u001b[0m\u001b]8;id=489762;file:///Users/slegroux/Projects/nimrod/nimrod/models/core.py#35\u001b\\\u001b[2m35\u001b[0m\u001b]8;;\u001b\\\n"
      ]
     },
     "metadata": {},
     "output_type": "display_data"
    }
   ],
   "source": [
    "# vocab\n",
    "print(len(v))\n",
    "\n",
    "# data\n",
    "cfg = OmegaConf.load(\"../config/text/data/tinyshakespeare.yaml\")\n",
    "cfg.context_size = CONTEXT_LEN\n",
    "cfg.specials: [\"<pad>\", \"<unk>\"]\n",
    "cfg.batch_size = 2048\n",
    "cfg.random_split = False\n",
    "dm = instantiate(cfg)\n",
    "dm.setup()\n",
    "\n",
    "# model\n",
    "cfg = OmegaConf.load(\"../config/text/model/nnlm.yaml\")\n",
    "lm  = instantiate(cfg)"
   ]
  },
  {
   "cell_type": "code",
   "execution_count": 57,
   "metadata": {},
   "outputs": [
    {
     "name": "stdout",
     "output_type": "stream",
     "text": [
      "{'training': True, '_parameters': OrderedDict(), '_buffers': OrderedDict(), '_non_persistent_buffers_set': set(), '_backward_pre_hooks': OrderedDict(), '_backward_hooks': OrderedDict(), '_is_full_backward_hook': None, '_forward_hooks': OrderedDict(), '_forward_hooks_with_kwargs': OrderedDict(), '_forward_hooks_always_called': OrderedDict(), '_forward_pre_hooks': OrderedDict(), '_forward_pre_hooks_with_kwargs': OrderedDict(), '_state_dict_hooks': OrderedDict(), '_state_dict_pre_hooks': OrderedDict(), '_load_state_dict_pre_hooks': OrderedDict(), '_load_state_dict_post_hooks': OrderedDict(), '_modules': OrderedDict([('loss', CrossEntropyLoss()), ('train_acc', MulticlassAccuracy()), ('val_acc', MulticlassAccuracy()), ('test_acc', MulticlassAccuracy()), ('train_loss', MeanMetric()), ('val_loss', MeanMetric()), ('test_loss', MeanMetric()), ('val_acc_best', MaxMetric()), ('nnet', NNLM(\n",
      "  (embedder): Embedding(67, 10)\n",
      "  (l1): Linear(in_features=30, out_features=100, bias=True)\n",
      "  (l2): Linear(in_features=100, out_features=67, bias=True)\n",
      "))]), 'prepare_data_per_node': True, 'allow_zero_length_dataloader_with_multiple_devices': False, '_log_hyperparams': False, '_dtype': torch.float32, '_device': device(type='cpu'), '_trainer': None, '_example_input_array': None, '_automatic_optimization': True, '_strict_loading': None, '_current_fx_name': None, '_param_requires_grad_state': {}, '_metric_attributes': None, '_compiler_ctx': None, '_fabric': None, '_fabric_optimizers': [], '_device_mesh': None, '_hparams_name': 'kwargs', '_hparams': \"nnet\":        NNLM(\n",
      "  (embedder): Embedding(67, 10)\n",
      "  (l1): Linear(in_features=30, out_features=100, bias=True)\n",
      "  (l2): Linear(in_features=100, out_features=67, bias=True)\n",
      ")\n",
      "\"num_classes\": 67\n",
      "\"optimizer\":   functools.partial(<class 'torch.optim.adam.Adam'>, lr=0.001, weight_decay=1e-05)\n",
      "\"scheduler\":   functools.partial(<class 'torch.optim.lr_scheduler.ReduceLROnPlateau'>, mode='min', factor=0.1, patience=10), '_hparams_initial': \"nnet\":        NNLM(\n",
      "  (embedder): Embedding(67, 10)\n",
      "  (l1): Linear(in_features=30, out_features=100, bias=True)\n",
      "  (l2): Linear(in_features=100, out_features=67, bias=True)\n",
      ")\n",
      "\"num_classes\": 67\n",
      "\"optimizer\":   functools.partial(<class 'torch.optim.adam.Adam'>, lr=0.001, weight_decay=1e-05)\n",
      "\"scheduler\":   functools.partial(<class 'torch.optim.lr_scheduler.ReduceLROnPlateau'>, mode='min', factor=0.1, patience=10), 'lr': 0.001}\n"
     ]
    }
   ],
   "source": [
    "print(lm.__dict__)\n"
   ]
  },
  {
   "cell_type": "markdown",
   "metadata": {},
   "source": [
    "model can be easily trained with L trainer (c.f. recipes/text/ for examples)"
   ]
  },
  {
   "cell_type": "code",
   "execution_count": 58,
   "metadata": {},
   "outputs": [
    {
     "name": "stderr",
     "output_type": "stream",
     "text": [
      "GPU available: True (mps), used: True\n",
      "TPU available: False, using: 0 TPU cores\n",
      "HPU available: False, using: 0 HPUs\n"
     ]
    }
   ],
   "source": [
    "trainer = Trainer(\n",
    "    accelerator=\"auto\",\n",
    "    max_epochs=1,\n",
    "    logger=CSVLogger(\"logs\", name=\"nnlm\")\n",
    "    )\n"
   ]
  },
  {
   "cell_type": "code",
   "execution_count": 59,
   "metadata": {},
   "outputs": [
    {
     "name": "stderr",
     "output_type": "stream",
     "text": [
      "\n",
      "  | Name         | Type               | Params | Mode \n",
      "------------------------------------------------------------\n",
      "0 | loss         | CrossEntropyLoss   | 0      | train\n",
      "1 | train_acc    | MulticlassAccuracy | 0      | train\n",
      "2 | val_acc      | MulticlassAccuracy | 0      | train\n",
      "3 | test_acc     | MulticlassAccuracy | 0      | train\n",
      "4 | train_loss   | MeanMetric         | 0      | train\n",
      "5 | val_loss     | MeanMetric         | 0      | train\n",
      "6 | test_loss    | MeanMetric         | 0      | train\n",
      "7 | val_acc_best | MaxMetric          | 0      | train\n",
      "8 | nnet         | NNLM               | 10.5 K | train\n",
      "------------------------------------------------------------\n",
      "10.5 K    Trainable params\n",
      "0         Non-trainable params\n",
      "10.5 K    Total params\n",
      "0.042     Total estimated model params size (MB)\n",
      "12        Modules in train mode\n",
      "0         Modules in eval mode\n"
     ]
    },
    {
     "data": {
      "application/vnd.jupyter.widget-view+json": {
       "model_id": "4c5d7888b34d4305a091092c467b3898",
       "version_major": 2,
       "version_minor": 0
      },
      "text/plain": [
       "Sanity Checking: |          | 0/? [00:00<?, ?it/s]"
      ]
     },
     "metadata": {},
     "output_type": "display_data"
    },
    {
     "name": "stderr",
     "output_type": "stream",
     "text": [
      "/Users/slegroux/miniforge3/envs/nimrod/lib/python3.11/site-packages/lightning/pytorch/trainer/connectors/data_connector.py:424: The 'val_dataloader' does not have many workers which may be a bottleneck. Consider increasing the value of the `num_workers` argument` to `num_workers=11` in the `DataLoader` to improve performance.\n",
      "/Users/slegroux/miniforge3/envs/nimrod/lib/python3.11/site-packages/lightning/pytorch/trainer/connectors/data_connector.py:424: The 'train_dataloader' does not have many workers which may be a bottleneck. Consider increasing the value of the `num_workers` argument` to `num_workers=11` in the `DataLoader` to improve performance.\n"
     ]
    },
    {
     "data": {
      "application/vnd.jupyter.widget-view+json": {
       "model_id": "eca5d9ce22ba4f8eadeb05ae07c2f549",
       "version_major": 2,
       "version_minor": 0
      },
      "text/plain": [
       "Training: |          | 0/? [00:00<?, ?it/s]"
      ]
     },
     "metadata": {},
     "output_type": "display_data"
    },
    {
     "data": {
      "application/vnd.jupyter.widget-view+json": {
       "model_id": "9a0ee13858bb4686bfe18d659cea5713",
       "version_major": 2,
       "version_minor": 0
      },
      "text/plain": [
       "Validation: |          | 0/? [00:00<?, ?it/s]"
      ]
     },
     "metadata": {},
     "output_type": "display_data"
    },
    {
     "name": "stderr",
     "output_type": "stream",
     "text": [
      "`Trainer.fit` stopped: `max_epochs=1` reached.\n"
     ]
    }
   ],
   "source": [
    "#| notest\n",
    "trainer.fit(lm, dm.train_dataloader(), dm.val_dataloader())"
   ]
  },
  {
   "cell_type": "code",
   "execution_count": 60,
   "metadata": {},
   "outputs": [
    {
     "data": {
      "text/html": [
       "<div>\n",
       "<style scoped>\n",
       "    .dataframe tbody tr th:only-of-type {\n",
       "        vertical-align: middle;\n",
       "    }\n",
       "\n",
       "    .dataframe tbody tr th {\n",
       "        vertical-align: top;\n",
       "    }\n",
       "\n",
       "    .dataframe thead th {\n",
       "        text-align: right;\n",
       "    }\n",
       "</style>\n",
       "<table border=\"1\" class=\"dataframe\">\n",
       "  <thead>\n",
       "    <tr style=\"text-align: right;\">\n",
       "      <th></th>\n",
       "      <th>epoch</th>\n",
       "      <th>step</th>\n",
       "      <th>train/acc_epoch</th>\n",
       "      <th>train/acc_step</th>\n",
       "      <th>train/loss_epoch</th>\n",
       "      <th>train/loss_step</th>\n",
       "      <th>val/acc</th>\n",
       "      <th>val/acc_best</th>\n",
       "      <th>val/loss</th>\n",
       "    </tr>\n",
       "  </thead>\n",
       "  <tbody>\n",
       "    <tr>\n",
       "      <th>0</th>\n",
       "      <td>0</td>\n",
       "      <td>49</td>\n",
       "      <td>NaN</td>\n",
       "      <td>0.199219</td>\n",
       "      <td>NaN</td>\n",
       "      <td>3.176040</td>\n",
       "      <td>NaN</td>\n",
       "      <td>NaN</td>\n",
       "      <td>NaN</td>\n",
       "    </tr>\n",
       "    <tr>\n",
       "      <th>1</th>\n",
       "      <td>0</td>\n",
       "      <td>99</td>\n",
       "      <td>NaN</td>\n",
       "      <td>0.245117</td>\n",
       "      <td>NaN</td>\n",
       "      <td>2.857803</td>\n",
       "      <td>NaN</td>\n",
       "      <td>NaN</td>\n",
       "      <td>NaN</td>\n",
       "    </tr>\n",
       "    <tr>\n",
       "      <th>2</th>\n",
       "      <td>0</td>\n",
       "      <td>149</td>\n",
       "      <td>NaN</td>\n",
       "      <td>0.246094</td>\n",
       "      <td>NaN</td>\n",
       "      <td>2.719744</td>\n",
       "      <td>NaN</td>\n",
       "      <td>NaN</td>\n",
       "      <td>NaN</td>\n",
       "    </tr>\n",
       "    <tr>\n",
       "      <th>3</th>\n",
       "      <td>0</td>\n",
       "      <td>199</td>\n",
       "      <td>NaN</td>\n",
       "      <td>0.258301</td>\n",
       "      <td>NaN</td>\n",
       "      <td>2.687508</td>\n",
       "      <td>NaN</td>\n",
       "      <td>NaN</td>\n",
       "      <td>NaN</td>\n",
       "    </tr>\n",
       "    <tr>\n",
       "      <th>4</th>\n",
       "      <td>0</td>\n",
       "      <td>249</td>\n",
       "      <td>NaN</td>\n",
       "      <td>0.303711</td>\n",
       "      <td>NaN</td>\n",
       "      <td>2.562892</td>\n",
       "      <td>NaN</td>\n",
       "      <td>NaN</td>\n",
       "      <td>NaN</td>\n",
       "    </tr>\n",
       "  </tbody>\n",
       "</table>\n",
       "</div>"
      ],
      "text/plain": [
       "   epoch  step  train/acc_epoch  train/acc_step  train/loss_epoch  \\\n",
       "0      0    49              NaN        0.199219               NaN   \n",
       "1      0    99              NaN        0.245117               NaN   \n",
       "2      0   149              NaN        0.246094               NaN   \n",
       "3      0   199              NaN        0.258301               NaN   \n",
       "4      0   249              NaN        0.303711               NaN   \n",
       "\n",
       "   train/loss_step  val/acc  val/acc_best  val/loss  \n",
       "0         3.176040      NaN           NaN       NaN  \n",
       "1         2.857803      NaN           NaN       NaN  \n",
       "2         2.719744      NaN           NaN       NaN  \n",
       "3         2.687508      NaN           NaN       NaN  \n",
       "4         2.562892      NaN           NaN       NaN  "
      ]
     },
     "execution_count": 60,
     "metadata": {},
     "output_type": "execute_result"
    }
   ],
   "source": [
    "#| notest\n",
    "csv_path = f\"{trainer.logger.log_dir}/metrics.csv\"\n",
    "metrics = pd.read_csv(csv_path)\n",
    "metrics.head()\n",
    "\n"
   ]
  },
  {
   "cell_type": "code",
   "execution_count": 61,
   "metadata": {},
   "outputs": [
    {
     "data": {
      "image/png": "[encoded data removed]",
      "text/plain": [
       "<Figure size 640x480 with 1 Axes>"
      ]
     },
     "metadata": {},
     "output_type": "display_data"
    }
   ],
   "source": [
    "#| notest\n",
    "\n",
    "plt.plot(metrics['step'], metrics['train/loss_step'],'b.-')\n",
    "plt.plot(metrics['step'], metrics['val/loss'],'r.-')\n",
    "plt.show()"
   ]
  },
  {
   "cell_type": "code",
   "execution_count": 62,
   "metadata": {},
   "outputs": [
    {
     "name": "stderr",
     "output_type": "stream",
     "text": [
      "/Users/slegroux/miniforge3/envs/nimrod/lib/python3.11/site-packages/lightning/pytorch/trainer/connectors/data_connector.py:424: The 'test_dataloader' does not have many workers which may be a bottleneck. Consider increasing the value of the `num_workers` argument` to `num_workers=11` in the `DataLoader` to improve performance.\n"
     ]
    },
    {
     "data": {
      "application/vnd.jupyter.widget-view+json": {
       "model_id": "76f2821bf0b7470ea6a609a0e4562f29",
       "version_major": 2,
       "version_minor": 0
      },
      "text/plain": [
       "Testing: |          | 0/? [00:00<?, ?it/s]"
      ]
     },
     "metadata": {},
     "output_type": "display_data"
    },
    {
     "data": {
      "text/html": [
       "<pre style=\"white-space:pre;overflow-x:auto;line-height:normal;font-family:Menlo,'DejaVu Sans Mono',consolas,'Courier New',monospace\">┏━━━━━━━━━━━━━━━━━━━━━━━━━━━┳━━━━━━━━━━━━━━━━━━━━━━━━━━━┓\n",
       "┃<span style=\"font-weight: bold\">        Test metric        </span>┃<span style=\"font-weight: bold\">       DataLoader 0        </span>┃\n",
       "┡━━━━━━━━━━━━━━━━━━━━━━━━━━━╇━━━━━━━━━━━━━━━━━━━━━━━━━━━┩\n",
       "│<span style=\"color: #008080; text-decoration-color: #008080\">         test/acc          </span>│<span style=\"color: #800080; text-decoration-color: #800080\">    0.3226645290851593     </span>│\n",
       "│<span style=\"color: #008080; text-decoration-color: #008080\">         test/loss         </span>│<span style=\"color: #800080; text-decoration-color: #800080\">    2.4214634895324707     </span>│\n",
       "└───────────────────────────┴───────────────────────────┘\n",
       "</pre>\n"
      ],
      "text/plain": [
       "┏━━━━━━━━━━━━━━━━━━━━━━━━━━━┳━━━━━━━━━━━━━━━━━━━━━━━━━━━┓\n",
       "┃\u001b[1m \u001b[0m\u001b[1m       Test metric       \u001b[0m\u001b[1m \u001b[0m┃\u001b[1m \u001b[0m\u001b[1m      DataLoader 0       \u001b[0m\u001b[1m \u001b[0m┃\n",
       "┡━━━━━━━━━━━━━━━━━━━━━━━━━━━╇━━━━━━━━━━━━━━━━━━━━━━━━━━━┩\n",
       "│\u001b[36m \u001b[0m\u001b[36m        test/acc         \u001b[0m\u001b[36m \u001b[0m│\u001b[35m \u001b[0m\u001b[35m   0.3226645290851593    \u001b[0m\u001b[35m \u001b[0m│\n",
       "│\u001b[36m \u001b[0m\u001b[36m        test/loss        \u001b[0m\u001b[36m \u001b[0m│\u001b[35m \u001b[0m\u001b[35m   2.4214634895324707    \u001b[0m\u001b[35m \u001b[0m│\n",
       "└───────────────────────────┴───────────────────────────┘\n"
      ]
     },
     "metadata": {},
     "output_type": "display_data"
    },
    {
     "data": {
      "text/plain": [
       "[{'test/loss': 2.4214634895324707, 'test/acc': 0.3226645290851593}]"
      ]
     },
     "execution_count": 62,
     "metadata": {},
     "output_type": "execute_result"
    }
   ],
   "source": [
    "#| notest\n",
    "trainer.test(lm, dm.test_dataloader())"
   ]
  },
  {
   "cell_type": "code",
   "execution_count": 63,
   "metadata": {},
   "outputs": [
    {
     "name": "stdout",
     "output_type": "stream",
     "text": [
      "The country of sisese bev youreyt saping lyomtons sub\n",
      "\n",
      "OLEO:\n",
      "Lure mots oo nore thenk,\n",
      "Eoe tha thaye of tif wurk:\n",
      "GlAR bfon hol and ond,selh, thandisu;muof bo the fore ill afes ate, thes an dis lo lo dry.\n",
      "Tting steaans riehame samute asleot, bhathelme'e: fuis, anowlale so lhe disqly'so therelo thadc hio ce myaaesuand yy hic hal meredeyyu$hec hye kid the tt bosin?Aas fo my to ghore mardu.ouC mes nre the my mhs \n",
      "out my sus. whot wur bag in spy.herM\n",
      "E abt me rikg\n",
      "OCRQEYgI\n",
      "Co mro sooding noe oug\n",
      "Cearr theitr for sa\n"
     ]
    }
   ],
   "source": [
    "# infer on CPU\n",
    "lm.to('cpu')\n",
    "prompt = \"The country of \"\n",
    "sequences = lm.sample(prompt, v, max_new_tokens=500, temperature=0.9)\n",
    "print(sequences)"
   ]
  },
  {
   "cell_type": "markdown",
   "metadata": {},
   "source": [
    "### Learning Rate Finder"
   ]
  },
  {
   "cell_type": "code",
   "execution_count": 64,
   "metadata": {},
   "outputs": [
    {
     "data": {
      "text/plain": [
       "\"nnet\":        NNLM(\n",
       "  (embedder): Embedding(67, 10)\n",
       "  (l1): Linear(in_features=30, out_features=100, bias=True)\n",
       "  (l2): Linear(in_features=100, out_features=67, bias=True)\n",
       ")\n",
       "\"num_classes\": 67\n",
       "\"optimizer\":   functools.partial(<class 'torch.optim.adam.Adam'>, lr=0.001, weight_decay=1e-05)\n",
       "\"scheduler\":   functools.partial(<class 'torch.optim.lr_scheduler.ReduceLROnPlateau'>, mode='min', factor=0.1, patience=10)"
      ]
     },
     "execution_count": 64,
     "metadata": {},
     "output_type": "execute_result"
    }
   ],
   "source": [
    "lm.hparams"
   ]
  },
  {
   "cell_type": "code",
   "execution_count": 65,
   "metadata": {},
   "outputs": [
    {
     "name": "stderr",
     "output_type": "stream",
     "text": [
      "GPU available: True (mps), used: True\n",
      "TPU available: False, using: 0 TPU cores\n",
      "HPU available: False, using: 0 HPUs\n"
     ]
    },
    {
     "data": {
      "text/html": [
       "<pre style=\"white-space:pre;overflow-x:auto;line-height:normal;font-family:Menlo,'DejaVu Sans Mono',consolas,'Courier New',monospace\"><span style=\"color: #7fbfbf; text-decoration-color: #7fbfbf\">[00:02:04] </span><span style=\"color: #000080; text-decoration-color: #000080\">INFO    </span> <span style=\"font-weight: bold\">[</span><span style=\"color: #00ff00; text-decoration-color: #00ff00; font-weight: bold\">00:02:04</span><span style=\"font-weight: bold\">]</span>                                                                      <a href=\"file:///Users/slegroux/Projects/nimrod/nimrod/text/datasets.py\" target=\"_blank\"><span style=\"color: #7f7f7f; text-decoration-color: #7f7f7f\">datasets.py</span></a><span style=\"color: #7f7f7f; text-decoration-color: #7f7f7f\">:</span><a href=\"file:///Users/slegroux/Projects/nimrod/nimrod/text/datasets.py#230\" target=\"_blank\"><span style=\"color: #7f7f7f; text-decoration-color: #7f7f7f\">230</span></a>\n",
       "</pre>\n"
      ],
      "text/plain": [
       "\u001b[2;36m[00:02:04]\u001b[0m\u001b[2;36m \u001b[0m\u001b[34mINFO    \u001b[0m \u001b[1m[\u001b[0m\u001b[1;92m00:02:04\u001b[0m\u001b[1m]\u001b[0m                                                                      \u001b]8;id=110103;file:///Users/slegroux/Projects/nimrod/nimrod/text/datasets.py\u001b\\\u001b[2mdatasets.py\u001b[0m\u001b]8;;\u001b\\\u001b[2m:\u001b[0m\u001b]8;id=820755;file:///Users/slegroux/Projects/nimrod/nimrod/text/datasets.py#230\u001b\\\u001b[2m230\u001b[0m\u001b]8;;\u001b\\\n"
      ]
     },
     "metadata": {},
     "output_type": "display_data"
    },
    {
     "data": {
      "text/html": [
       "<pre style=\"white-space:pre;overflow-x:auto;line-height:normal;font-family:Menlo,'DejaVu Sans Mono',consolas,'Courier New',monospace\"><span style=\"color: #7fbfbf; text-decoration-color: #7fbfbf\">           </span><span style=\"color: #000080; text-decoration-color: #000080\">INFO    </span> <span style=\"font-weight: bold\">[</span><span style=\"color: #00ff00; text-decoration-color: #00ff00; font-weight: bold\">00:02:04</span><span style=\"font-weight: bold\">]</span>                                                                      <a href=\"file:///Users/slegroux/Projects/nimrod/nimrod/text/datasets.py\" target=\"_blank\"><span style=\"color: #7f7f7f; text-decoration-color: #7f7f7f\">datasets.py</span></a><span style=\"color: #7f7f7f; text-decoration-color: #7f7f7f\">:</span><a href=\"file:///Users/slegroux/Projects/nimrod/nimrod/text/datasets.py#132\" target=\"_blank\"><span style=\"color: #7f7f7f; text-decoration-color: #7f7f7f\">132</span></a>\n",
       "</pre>\n"
      ],
      "text/plain": [
       "\u001b[2;36m          \u001b[0m\u001b[2;36m \u001b[0m\u001b[34mINFO    \u001b[0m \u001b[1m[\u001b[0m\u001b[1;92m00:02:04\u001b[0m\u001b[1m]\u001b[0m                                                                      \u001b]8;id=763706;file:///Users/slegroux/Projects/nimrod/nimrod/text/datasets.py\u001b\\\u001b[2mdatasets.py\u001b[0m\u001b]8;;\u001b\\\u001b[2m:\u001b[0m\u001b]8;id=918040;file:///Users/slegroux/Projects/nimrod/nimrod/text/datasets.py#132\u001b\\\u001b[2m132\u001b[0m\u001b]8;;\u001b\\\n"
      ]
     },
     "metadata": {},
     "output_type": "display_data"
    },
    {
     "data": {
      "text/html": [
       "<pre style=\"white-space:pre;overflow-x:auto;line-height:normal;font-family:Menlo,'DejaVu Sans Mono',consolas,'Courier New',monospace\"><span style=\"color: #7fbfbf; text-decoration-color: #7fbfbf\">           </span><span style=\"color: #000080; text-decoration-color: #000080\">INFO    </span> <span style=\"font-weight: bold\">[</span><span style=\"color: #00ff00; text-decoration-color: #00ff00; font-weight: bold\">00:02:04</span><span style=\"font-weight: bold\">]</span>                                                                       <a href=\"file:///Users/slegroux/Projects/nimrod/nimrod/text/datasets.py\" target=\"_blank\"><span style=\"color: #7f7f7f; text-decoration-color: #7f7f7f\">datasets.py</span></a><span style=\"color: #7f7f7f; text-decoration-color: #7f7f7f\">:</span><a href=\"file:///Users/slegroux/Projects/nimrod/nimrod/text/datasets.py#66\" target=\"_blank\"><span style=\"color: #7f7f7f; text-decoration-color: #7f7f7f\">66</span></a>\n",
       "</pre>\n"
      ],
      "text/plain": [
       "\u001b[2;36m          \u001b[0m\u001b[2;36m \u001b[0m\u001b[34mINFO    \u001b[0m \u001b[1m[\u001b[0m\u001b[1;92m00:02:04\u001b[0m\u001b[1m]\u001b[0m                                                                       \u001b]8;id=513402;file:///Users/slegroux/Projects/nimrod/nimrod/text/datasets.py\u001b\\\u001b[2mdatasets.py\u001b[0m\u001b]8;;\u001b\\\u001b[2m:\u001b[0m\u001b]8;id=100181;file:///Users/slegroux/Projects/nimrod/nimrod/text/datasets.py#66\u001b\\\u001b[2m66\u001b[0m\u001b]8;;\u001b\\\n"
      ]
     },
     "metadata": {},
     "output_type": "display_data"
    },
    {
     "name": "stderr",
     "output_type": "stream",
     "text": [
      "/Users/slegroux/miniforge3/envs/nimrod/lib/python3.11/site-packages/lightning/pytorch/trainer/connectors/data_connector.py:424: The 'train_dataloader' does not have many workers which may be a bottleneck. Consider increasing the value of the `num_workers` argument` to `num_workers=11` in the `DataLoader` to improve performance.\n",
      "/Users/slegroux/miniforge3/envs/nimrod/lib/python3.11/site-packages/lightning/pytorch/trainer/connectors/data_connector.py:424: The 'val_dataloader' does not have many workers which may be a bottleneck. Consider increasing the value of the `num_workers` argument` to `num_workers=11` in the `DataLoader` to improve performance.\n"
     ]
    },
    {
     "data": {
      "application/vnd.jupyter.widget-view+json": {
       "model_id": "3cd91a007dc7413f8c2fbb7741830254",
       "version_major": 2,
       "version_minor": 0
      },
      "text/plain": [
       "Finding best initial lr:   0%|          | 0/100 [00:00<?, ?it/s]"
      ]
     },
     "metadata": {},
     "output_type": "display_data"
    },
    {
     "name": "stderr",
     "output_type": "stream",
     "text": [
      "`Trainer.fit` stopped: `max_steps=100` reached.\n",
      "Learning rate set to 0.007943282347242817\n",
      "Restoring states from the checkpoint path at /Users/slegroux/Projects/nimrod/nbs/.lr_find_8b50bf52-605e-4b07-b002-a5983cc0dd7f.ckpt\n",
      "Restored all states from the checkpoint at /Users/slegroux/Projects/nimrod/nbs/.lr_find_8b50bf52-605e-4b07-b002-a5983cc0dd7f.ckpt\n"
     ]
    },
    {
     "data": {
      "image/png": "[encoded data removed]",
      "text/plain": [
       "<Figure size 640x480 with 1 Axes>"
      ]
     },
     "metadata": {},
     "output_type": "display_data"
    },
    {
     "name": "stdout",
     "output_type": "stream",
     "text": [
      "Suggested learning rate: 0.007943282347242817\n"
     ]
    }
   ],
   "source": [
    "#| notest\n",
    "\n",
    "trainer = L.Trainer(\n",
    "    accelerator=\"auto\",\n",
    "    max_epochs=1,\n",
    ")\n",
    "tuner = Tuner(trainer)\n",
    "lr_finder = tuner.lr_find(\n",
    "    lm,\n",
    "    datamodule=dm,\n",
    "    min_lr=1e-6,\n",
    "    max_lr=1.0,\n",
    "    num_training=100,  # number of iterations\n",
    "    # attr_name=\"optimizer.lr\",\n",
    ")\n",
    "fig = lr_finder.plot(suggest=True)\n",
    "plt.show()\n",
    "print(f\"Suggested learning rate: {lr_finder.suggestion()}\")"
   ]
  },
  {
   "cell_type": "markdown",
   "metadata": {},
   "source": [
    "### re-train with new lr"
   ]
  },
  {
   "cell_type": "code",
   "execution_count": 85,
   "metadata": {},
   "outputs": [],
   "source": [
    "#| notest\n",
    "new_lr = lr_finder.suggestion()\n",
    "lm.lr = new_lr"
   ]
  },
  {
   "cell_type": "code",
   "execution_count": 67,
   "metadata": {},
   "outputs": [
    {
     "name": "stderr",
     "output_type": "stream",
     "text": [
      "GPU available: True (mps), used: True\n",
      "TPU available: False, using: 0 TPU cores\n",
      "HPU available: False, using: 0 HPUs\n",
      "\n",
      "  | Name         | Type               | Params | Mode \n",
      "------------------------------------------------------------\n",
      "0 | loss         | CrossEntropyLoss   | 0      | train\n",
      "1 | train_acc    | MulticlassAccuracy | 0      | train\n",
      "2 | val_acc      | MulticlassAccuracy | 0      | train\n",
      "3 | test_acc     | MulticlassAccuracy | 0      | train\n",
      "4 | train_loss   | MeanMetric         | 0      | train\n",
      "5 | val_loss     | MeanMetric         | 0      | train\n",
      "6 | test_loss    | MeanMetric         | 0      | train\n",
      "7 | val_acc_best | MaxMetric          | 0      | train\n",
      "8 | nnet         | NNLM               | 10.5 K | train\n",
      "------------------------------------------------------------\n",
      "10.5 K    Trainable params\n",
      "0         Non-trainable params\n",
      "10.5 K    Total params\n",
      "0.042     Total estimated model params size (MB)\n",
      "12        Modules in train mode\n",
      "0         Modules in eval mode\n"
     ]
    },
    {
     "data": {
      "application/vnd.jupyter.widget-view+json": {
       "model_id": "19e13e9768c64cea80c0f9acc2201389",
       "version_major": 2,
       "version_minor": 0
      },
      "text/plain": [
       "Sanity Checking: |          | 0/? [00:00<?, ?it/s]"
      ]
     },
     "metadata": {},
     "output_type": "display_data"
    },
    {
     "data": {
      "application/vnd.jupyter.widget-view+json": {
       "model_id": "afac8302f74a48be825b874d1d774f4e",
       "version_major": 2,
       "version_minor": 0
      },
      "text/plain": [
       "Training: |          | 0/? [00:00<?, ?it/s]"
      ]
     },
     "metadata": {},
     "output_type": "display_data"
    },
    {
     "data": {
      "application/vnd.jupyter.widget-view+json": {
       "model_id": "5ff4dd1ef51b4e00b40f528d7a2e2399",
       "version_major": 2,
       "version_minor": 0
      },
      "text/plain": [
       "Validation: |          | 0/? [00:00<?, ?it/s]"
      ]
     },
     "metadata": {},
     "output_type": "display_data"
    },
    {
     "name": "stderr",
     "output_type": "stream",
     "text": [
      "`Trainer.fit` stopped: `max_epochs=1` reached.\n"
     ]
    },
    {
     "data": {
      "application/vnd.jupyter.widget-view+json": {
       "model_id": "71b30d88a9564dd8a3be789f17dc0ba5",
       "version_major": 2,
       "version_minor": 0
      },
      "text/plain": [
       "Testing: |          | 0/? [00:00<?, ?it/s]"
      ]
     },
     "metadata": {},
     "output_type": "display_data"
    },
    {
     "data": {
      "text/html": [
       "<pre style=\"white-space:pre;overflow-x:auto;line-height:normal;font-family:Menlo,'DejaVu Sans Mono',consolas,'Courier New',monospace\">┏━━━━━━━━━━━━━━━━━━━━━━━━━━━┳━━━━━━━━━━━━━━━━━━━━━━━━━━━┓\n",
       "┃<span style=\"font-weight: bold\">        Test metric        </span>┃<span style=\"font-weight: bold\">       DataLoader 0        </span>┃\n",
       "┡━━━━━━━━━━━━━━━━━━━━━━━━━━━╇━━━━━━━━━━━━━━━━━━━━━━━━━━━┩\n",
       "│<span style=\"color: #008080; text-decoration-color: #008080\">         test/acc          </span>│<span style=\"color: #800080; text-decoration-color: #800080\">    0.36157432198524475    </span>│\n",
       "│<span style=\"color: #008080; text-decoration-color: #008080\">         test/loss         </span>│<span style=\"color: #800080; text-decoration-color: #800080\">     2.225804090499878     </span>│\n",
       "└───────────────────────────┴───────────────────────────┘\n",
       "</pre>\n"
      ],
      "text/plain": [
       "┏━━━━━━━━━━━━━━━━━━━━━━━━━━━┳━━━━━━━━━━━━━━━━━━━━━━━━━━━┓\n",
       "┃\u001b[1m \u001b[0m\u001b[1m       Test metric       \u001b[0m\u001b[1m \u001b[0m┃\u001b[1m \u001b[0m\u001b[1m      DataLoader 0       \u001b[0m\u001b[1m \u001b[0m┃\n",
       "┡━━━━━━━━━━━━━━━━━━━━━━━━━━━╇━━━━━━━━━━━━━━━━━━━━━━━━━━━┩\n",
       "│\u001b[36m \u001b[0m\u001b[36m        test/acc         \u001b[0m\u001b[36m \u001b[0m│\u001b[35m \u001b[0m\u001b[35m   0.36157432198524475   \u001b[0m\u001b[35m \u001b[0m│\n",
       "│\u001b[36m \u001b[0m\u001b[36m        test/loss        \u001b[0m\u001b[36m \u001b[0m│\u001b[35m \u001b[0m\u001b[35m    2.225804090499878    \u001b[0m\u001b[35m \u001b[0m│\n",
       "└───────────────────────────┴───────────────────────────┘\n"
      ]
     },
     "metadata": {},
     "output_type": "display_data"
    },
    {
     "data": {
      "text/plain": [
       "[{'test/loss': 2.225804090499878, 'test/acc': 0.36157432198524475}]"
      ]
     },
     "execution_count": 67,
     "metadata": {},
     "output_type": "execute_result"
    }
   ],
   "source": [
    "#| notest\n",
    "\n",
    "trainer = L.Trainer(\n",
    "    accelerator=\"auto\",\n",
    "    max_epochs=1,\n",
    "    logger=CSVLogger(\"logs\", name=\"nnlm\"),\n",
    ")\n",
    "trainer.fit(lm, dm.train_dataloader(), dm.val_dataloader())\n",
    "trainer.test(lm, dm.test_dataloader())\n"
   ]
  },
  {
   "cell_type": "code",
   "execution_count": 68,
   "metadata": {},
   "outputs": [
    {
     "data": {
      "text/plain": [
       "[<matplotlib.lines.Line2D at 0x2e156b910>]"
      ]
     },
     "execution_count": 68,
     "metadata": {},
     "output_type": "execute_result"
    },
    {
     "data": {
      "image/png": "[encoded data removed]",
      "text/plain": [
       "<Figure size 640x480 with 1 Axes>"
      ]
     },
     "metadata": {},
     "output_type": "display_data"
    }
   ],
   "source": [
    "#| notest\n",
    "\n",
    "csv_path = f\"{trainer.logger.log_dir}/metrics.csv\"\n",
    "metrics = pd.read_csv(csv_path)\n",
    "plt.plot(metrics['step'], metrics['train/loss_step'],'.-')\n",
    "# plt.figure()\n",
    "# plot_classifier_metrics_from_csv(csv_path)\n",
    "\n"
   ]
  },
  {
   "cell_type": "code",
   "execution_count": 69,
   "metadata": {},
   "outputs": [
    {
     "name": "stdout",
     "output_type": "stream",
     "text": [
      "The country of a lhat pe be lyour ther I hat nus frians have wim of saykonrie'd and lo bhaod omy\n",
      "This dey I bhe gou mtre'g\n",
      "You p fnd Meiasl and tt in the the adao, din.\n",
      "ESKIZIND:\n",
      "Ond Word kirgss.\n",
      "\n",
      "CEOCADIAR, allaberve ore, an hith ir and bpin.\n",
      "\n",
      "O goy, the afferly le ward layky SnCI I hemcont.\n",
      "\n",
      "owlisayce nor.\n",
      "W manesving till to ther nure mhore foven: yor not hawe\n",
      "Winl is do Siend, mpilit'on rup courd time I may, by and\n",
      "Cuterothe mand a wit,\n",
      "Treense do de bore end\n",
      "Hhid nor lelef cro, Ind of bhelfove uliee-\n",
      "This\n"
     ]
    }
   ],
   "source": [
    "# infer on CPU\n",
    "lm.to('cpu')\n",
    "prompt = \"The country of \"\n",
    "sequences = lm.sample(prompt, v, max_new_tokens=500, temperature=0.9)\n",
    "print(sequences)"
   ]
  },
  {
   "cell_type": "markdown",
   "metadata": {},
   "source": [
    "## NN Bigram"
   ]
  },
  {
   "cell_type": "code",
   "execution_count": 70,
   "metadata": {},
   "outputs": [],
   "source": [
    "#| export\n",
    "\n",
    "class NNBigram(nn.Module):\n",
    "    def __init__(self, vocab_size:int) -> None:\n",
    "        super().__init__()\n",
    "        self._vocab_size = vocab_size\n",
    "        self.emb = nn.Embedding(vocab_size, vocab_size)\n",
    "\n",
    "    def forward(self, x:torch.tensor) -> torch.tensor:\n",
    "        logits = self.emb(x) # B,T,C\n",
    "        return logits\n",
    "    \n",
    "    def predict(self, idx, max_new_tokens):\n",
    "        for _ in range(max_new_tokens):\n",
    "            logits = self(idx)\n",
    "            logits = logits[:,-1,:] # last time step\n",
    "            probs = F.softmax(logits, dim=-1) #(B,C)\n",
    "            idx_next = torch.multinomial(probs, num_samples=1)\n",
    "            idx = torch.cat((idx, idx_next), dim=1)\n",
    "        return idx\n",
    "    \n",
    "    @property\n",
    "    def vocab_size(self)->int:\n",
    "        return self._vocab_size\n"
   ]
  },
  {
   "cell_type": "markdown",
   "metadata": {},
   "source": [
    "### Usage"
   ]
  },
  {
   "cell_type": "code",
   "execution_count": 71,
   "metadata": {},
   "outputs": [
    {
     "name": "stdout",
     "output_type": "stream",
     "text": [
      "vocab size:  65\n",
      "X:  torch.Size([32, 8]) Y:  torch.Size([32, 8]) logits:  torch.Size([32, 8, 65])\n"
     ]
    }
   ],
   "source": [
    "\n",
    "B, T, C = 32, 8, 65\n",
    "vocab_size = C\n",
    "model = NNBigram(vocab_size)\n",
    "print(\"vocab size: \",  model.vocab_size)\n",
    "X = torch.randint(0,C,(B,T))\n",
    "Y = torch.randint(0,C,(B,T))\n",
    "batch = (X,Y)\n",
    "logits = model(X) # (B, T, C)\n",
    "print(\"X: \", X.shape, \"Y: \", Y.shape, \"logits: \", logits.shape)"
   ]
  },
  {
   "cell_type": "code",
   "execution_count": 72,
   "metadata": {},
   "outputs": [
    {
     "data": {
      "text/plain": [
       "tensor([ 0, 63, 25, 35, 17, 38, 62, 36, 19, 57, 28, 40, 60, 53, 43, 50, 54, 40,\n",
       "        59, 20, 35, 27, 36, 42, 37, 27, 18,  9, 44, 57, 59, 61, 38, 63, 29, 17,\n",
       "         4, 10,  6, 57, 21,  2, 25, 63, 59, 60, 20, 10, 23,  5, 30, 14, 64, 26,\n",
       "        12, 46, 17, 48, 38, 63, 11, 21, 27,  4,  0, 13,  2, 19,  2, 25, 42, 41,\n",
       "        51, 14, 44, 48, 64, 62, 58,  1, 36, 36, 19, 57, 61, 22, 55, 27, 25, 42,\n",
       "         6, 44, 60, 37, 51, 14, 21, 47, 28, 46, 37])"
      ]
     },
     "execution_count": 72,
     "metadata": {},
     "output_type": "execute_result"
    }
   ],
   "source": [
    "# generate\n",
    "model.predict(idx=torch.zeros((1,1), dtype=torch.long), max_new_tokens=100)[0]"
   ]
  },
  {
   "cell_type": "code",
   "execution_count": 73,
   "metadata": {},
   "outputs": [],
   "source": [
    "\n",
    "# #| export\n",
    "# class NNBigramL(ModelModule):\n",
    "#     def __init__(self, vocab_size:int, lr:float=1e-3):\n",
    "#         model = NNBigram(vocab_size)\n",
    "#         super().__init__(model, lr)\n",
    "#         self.accuracy = Accuracy(task='multiclass', num_classes=model.vocab_size)\n",
    "\n",
    "#     def _step(self, batch:torch.tensor, batch_idx:int):\n",
    "#         x, y = batch\n",
    "#         logits = self.model(x) # (B,T,C)\n",
    "#         B, T, C = logits.shape\n",
    "#         logits = logits.view(B*T, C)\n",
    "#         y = y.view(B*T)\n",
    "#         loss = self.loss(logits, y)\n",
    "#         acc = self.accuracy(logits, y)\n",
    "#         return loss, acc\n",
    "    \n",
    "#     def predict(self,idx:torch.IntTensor, max_new_tokens:int):\n",
    "#         return self.model.predict(idx, max_new_tokens)"
   ]
  },
  {
   "cell_type": "code",
   "execution_count": 74,
   "metadata": {},
   "outputs": [],
   "source": [
    "# model_pl = NNBigramL(vocab_size)\n",
    "# logits = model_pl(X) # (B, T, C)\n",
    "# print(logits.shape)\n",
    "# model_pl.training_step(batch, 0)\n",
    "# model_pl._step(batch, 0)\n",
    "     "
   ]
  },
  {
   "cell_type": "markdown",
   "metadata": {},
   "source": [
    "### Data"
   ]
  },
  {
   "cell_type": "code",
   "execution_count": 75,
   "metadata": {},
   "outputs": [],
   "source": [
    "with open('../data/text/tiny_shakespeare.txt') as f:\n",
    "    text = f.read()"
   ]
  },
  {
   "cell_type": "code",
   "execution_count": 76,
   "metadata": {},
   "outputs": [
    {
     "data": {
      "text/html": [
       "<pre style=\"white-space:pre;overflow-x:auto;line-height:normal;font-family:Menlo,'DejaVu Sans Mono',consolas,'Courier New',monospace\"><span style=\"color: #7fbfbf; text-decoration-color: #7fbfbf\">[00:02:19] </span><span style=\"color: #000080; text-decoration-color: #000080\">INFO    </span> <span style=\"font-weight: bold\">[</span><span style=\"color: #00ff00; text-decoration-color: #00ff00; font-weight: bold\">00:02:19</span><span style=\"font-weight: bold\">]</span>                                                                      <a href=\"file:///Users/slegroux/Projects/nimrod/nimrod/text/datasets.py\" target=\"_blank\"><span style=\"color: #7f7f7f; text-decoration-color: #7f7f7f\">datasets.py</span></a><span style=\"color: #7f7f7f; text-decoration-color: #7f7f7f\">:</span><a href=\"file:///Users/slegroux/Projects/nimrod/nimrod/text/datasets.py#132\" target=\"_blank\"><span style=\"color: #7f7f7f; text-decoration-color: #7f7f7f\">132</span></a>\n",
       "</pre>\n"
      ],
      "text/plain": [
       "\u001b[2;36m[00:02:19]\u001b[0m\u001b[2;36m \u001b[0m\u001b[34mINFO    \u001b[0m \u001b[1m[\u001b[0m\u001b[1;92m00:02:19\u001b[0m\u001b[1m]\u001b[0m                                                                      \u001b]8;id=955632;file:///Users/slegroux/Projects/nimrod/nimrod/text/datasets.py\u001b\\\u001b[2mdatasets.py\u001b[0m\u001b]8;;\u001b\\\u001b[2m:\u001b[0m\u001b]8;id=366317;file:///Users/slegroux/Projects/nimrod/nimrod/text/datasets.py#132\u001b\\\u001b[2m132\u001b[0m\u001b]8;;\u001b\\\n"
      ]
     },
     "metadata": {},
     "output_type": "display_data"
    },
    {
     "data": {
      "text/html": [
       "<pre style=\"white-space:pre;overflow-x:auto;line-height:normal;font-family:Menlo,'DejaVu Sans Mono',consolas,'Courier New',monospace\"><span style=\"color: #7fbfbf; text-decoration-color: #7fbfbf\">           </span><span style=\"color: #000080; text-decoration-color: #000080\">INFO    </span> <span style=\"font-weight: bold\">[</span><span style=\"color: #00ff00; text-decoration-color: #00ff00; font-weight: bold\">00:02:19</span><span style=\"font-weight: bold\">]</span>                                                                       <a href=\"file:///Users/slegroux/Projects/nimrod/nimrod/text/datasets.py\" target=\"_blank\"><span style=\"color: #7f7f7f; text-decoration-color: #7f7f7f\">datasets.py</span></a><span style=\"color: #7f7f7f; text-decoration-color: #7f7f7f\">:</span><a href=\"file:///Users/slegroux/Projects/nimrod/nimrod/text/datasets.py#66\" target=\"_blank\"><span style=\"color: #7f7f7f; text-decoration-color: #7f7f7f\">66</span></a>\n",
       "</pre>\n"
      ],
      "text/plain": [
       "\u001b[2;36m          \u001b[0m\u001b[2;36m \u001b[0m\u001b[34mINFO    \u001b[0m \u001b[1m[\u001b[0m\u001b[1;92m00:02:19\u001b[0m\u001b[1m]\u001b[0m                                                                       \u001b]8;id=816470;file:///Users/slegroux/Projects/nimrod/nimrod/text/datasets.py\u001b\\\u001b[2mdatasets.py\u001b[0m\u001b]8;;\u001b\\\u001b[2m:\u001b[0m\u001b]8;id=858794;file:///Users/slegroux/Projects/nimrod/nimrod/text/datasets.py#66\u001b\\\u001b[2m66\u001b[0m\u001b]8;;\u001b\\\n"
      ]
     },
     "metadata": {},
     "output_type": "display_data"
    },
    {
     "name": "stdout",
     "output_type": "stream",
     "text": [
      "x: <bos>First C \n",
      "y: First Ci\n"
     ]
    }
   ],
   "source": [
    "# dataset\n",
    "block_size = 8\n",
    "ds = CharDataset(data_path='../data/text/tiny_shakespeare.txt', context_length=block_size)\n",
    "X,Y = ds[0]\n",
    "print(\"x:\",  ds.from_tokens(X), \"\\ny:\", ds.from_tokens(Y))"
   ]
  },
  {
   "cell_type": "code",
   "execution_count": 77,
   "metadata": {},
   "outputs": [
    {
     "name": "stdout",
     "output_type": "stream",
     "text": [
      "x: torch.Size([32, 8]) \n",
      "y: torch.Size([32, 8])\n"
     ]
    }
   ],
   "source": [
    "# dataloader\n",
    "dl = DataLoader(ds, batch_size=32, num_workers=0)\n",
    "X, Y = next(iter(dl))\n",
    "print(\"x:\", X.shape, \"\\ny:\", Y.shape)"
   ]
  },
  {
   "cell_type": "markdown",
   "metadata": {},
   "source": [
    "### Training"
   ]
  },
  {
   "cell_type": "code",
   "execution_count": 78,
   "metadata": {},
   "outputs": [],
   "source": [
    "model = NNBigram(ds.vocab_size)"
   ]
  },
  {
   "cell_type": "code",
   "execution_count": 80,
   "metadata": {},
   "outputs": [],
   "source": [
    "criterion = nn.CrossEntropyLoss()\n",
    "optimizer = torch.optim.AdamW(model.parameters(), lr=1e-3)\n",
    "device = torch.device('cpu')"
   ]
  },
  {
   "cell_type": "code",
   "execution_count": 81,
   "metadata": {},
   "outputs": [
    {
     "name": "stdout",
     "output_type": "stream",
     "text": [
      "CPU times: user 2 μs, sys: 1e+03 ns, total: 3 μs\n",
      "Wall time: 5.01 μs\n"
     ]
    },
    {
     "name": "stderr",
     "output_type": "stream",
     "text": [
      " 26%|██▋       | 263/1000 [00:00<00:00, 2629.51it/s]"
     ]
    },
    {
     "name": "stdout",
     "output_type": "stream",
     "text": [
      "4.535122871398926\n"
     ]
    },
    {
     "name": "stderr",
     "output_type": "stream",
     "text": [
      "100%|██████████| 1000/1000 [00:00<00:00, 2734.52it/s]\n"
     ]
    }
   ],
   "source": [
    "#| notest\n",
    "%time\n",
    "ITER_MAX = 1000\n",
    "train_loss = []\n",
    "for epoch in tqdm(range(ITER_MAX)):\n",
    "    model.train()\n",
    "    X = X.to(device) # (B,T)\n",
    "    Y = Y.to(device) # (B,T)\n",
    "    logits = model(X)\n",
    "    B, T, C = logits.shape\n",
    "    loss = criterion(logits.view(B*T, C), Y.view(B*T))\n",
    "    loss.backward()\n",
    "    optimizer.step()\n",
    "    train_loss.append(loss.item())\n",
    "    if not(epoch % 1000):\n",
    "        print(loss.item())\n",
    "\n",
    "    model.eval()\n",
    "    with torch.no_grad():\n",
    "        correct = 0\n",
    "        total = 0\n",
    "        logits = model(X).view(B*T,C) \n",
    "        # _, predicted = torch.max(logits.data, 1)\n",
    "        probs = F.softmax(logits, dim=-1)\n",
    "        # print(\"probs: \", probs.shape)\n",
    "        preds = torch.argmax(probs, dim=1)\n",
    "        # print(\"pred:\", preds.shape)\n",
    "        # print(\"Y:\", Y.shape)\n",
    "        # print(predicted)\n",
    "        # total += Y.size(0)\n",
    "        # correct += (predicted == Y).sum()\n",
    "        # print(f\"Epoch {epoch + 1}: Accuracy = {100 * correct / total:.2f}%\")"
   ]
  },
  {
   "cell_type": "code",
   "execution_count": 86,
   "metadata": {},
   "outputs": [
    {
     "data": {
      "text/plain": [
       "[<matplotlib.lines.Line2D at 0x2dd33dd50>]"
      ]
     },
     "execution_count": 86,
     "metadata": {},
     "output_type": "execute_result"
    },
    {
     "data": {
      "image/png": "[encoded data removed]",
      "text/plain": [
       "<Figure size 640x480 with 1 Axes>"
      ]
     },
     "metadata": {},
     "output_type": "display_data"
    }
   ],
   "source": [
    "#| notest\n",
    "plt.plot(train_loss)"
   ]
  },
  {
   "cell_type": "code",
   "execution_count": 83,
   "metadata": {},
   "outputs": [
    {
     "name": "stdout",
     "output_type": "stream",
     "text": [
      ".:K aNforDT-n-.NAi3ENvmUYxHX p&.\n",
      "zpWqlHZs3izenW\n",
      "DFEithPD?XprY.UYBefaWw<bos>FN&UEJUdlSYYehw<eos>VC'SVnWQU<bos>bmByzefDFdbttf<eos>'mU<pad>QR.le garsPors<unk>SLNP<bos>FmXAxM,bantNMA\n",
      "Xkjx,AFmLU;jcHZGUupD<unk>UA<bos>F:IJvbH<pad>orvQAaalQTkZ<unk>Hn:xquNdit<bos>Rytef<pad><unk>XC,ZzwS,Zq an:qiduwgl<bos>CithxxtitedW'Oq&wy$BK a,?oHnyO&-H-\n",
      "D.brs aR.aRprsdze&OitBEEqqn:'3mH3jAc&SBe$MgOrorsPL-A wS\n",
      "occ:Xd<bos>stFdnC,SM,mbJSP'xMgL.S;nBed-v$.Niwe a<pad>CKJs-mlX'NyoHG<bos>NlvuG,E-D;pJWBHS,Ouk.-VIhRS?K-G-myr<pad>HVnylukL-mle fmLM.;3P&NEedKdkg$-<pad>SNkuarsWkprsZ<pad>jAporef:TCi!uAaprefu<pad>jpMcIFmCFU\n"
     ]
    }
   ],
   "source": [
    "print(ds.from_tokens(model.predict(idx=torch.zeros((1,1), dtype=torch.long), max_new_tokens=500)[0].tolist()))"
   ]
  },
  {
   "cell_type": "markdown",
   "metadata": {},
   "source": [
    "## training from module"
   ]
  },
  {
   "cell_type": "code",
   "execution_count": 84,
   "metadata": {},
   "outputs": [],
   "source": [
    "# %%time\n",
    "# n_epochs = 1\n",
    "# train_loss = []\n",
    "# for epoch in range(n_epochs):\n",
    "#     model_pl.model.train()\n",
    "#     loss = model_pl.training_step(batch, None)\n",
    "#     loss.backward()\n",
    "#     optimizer.step()\n",
    "#     train_loss.append(loss.item())\n",
    "#     if not(epoch % 100):\n",
    "#         print(loss.item())\n",
    "     \n"
   ]
  },
  {
   "cell_type": "code",
   "execution_count": null,
   "metadata": {},
   "outputs": [],
   "source": [
    "# print(ds.from_tokens(model_pl.predict(idx=torch.zeros((1,1), dtype=torch.long), max_new_tokens=500)[0].tolist()))"
   ]
  },
  {
   "cell_type": "code",
   "execution_count": null,
   "metadata": {},
   "outputs": [],
   "source": [
    "#| hide\n",
    "import nbdev; nbdev.nbdev_export()"
   ]
  },
  {
   "cell_type": "code",
   "execution_count": null,
   "metadata": {},
   "outputs": [],
   "source": []
  }
 ],
 "metadata": {
  "kernelspec": {
   "display_name": "nimrod",
   "language": "python",
   "name": "python3"
  },
  "language_info": {
   "codemirror_mode": {
    "name": "ipython",
    "version": 3
   },
   "file_extension": ".py",
   "mimetype": "text/x-python",
   "name": "python",
   "nbconvert_exporter": "python",
   "pygments_lexer": "ipython3",
   "version": "3.11.8"
  }
 },
 "nbformat": 4,
 "nbformat_minor": 4
}
