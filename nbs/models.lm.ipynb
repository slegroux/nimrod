{
 "cells": [
  {
   "cell_type": "markdown",
   "metadata": {},
   "source": [
    "# Neural Net Language models\n",
    "\n",
    "> Basic neuralnet-based language modeling "
   ]
  },
  {
   "cell_type": "code",
   "execution_count": null,
   "metadata": {},
   "outputs": [],
   "source": [
    "#| default_exp models.lm"
   ]
  },
  {
   "cell_type": "code",
   "execution_count": null,
   "metadata": {},
   "outputs": [
    {
     "name": "stdout",
     "output_type": "stream",
     "text": [
      "The autoreload extension is already loaded. To reload it, use:\n",
      "  %reload_ext autoreload\n"
     ]
    }
   ],
   "source": [
    "#| hide\n",
    "%load_ext autoreload\n",
    "%autoreload 2\n",
    "from nbdev.showdoc import *"
   ]
  },
  {
   "cell_type": "code",
   "execution_count": null,
   "metadata": {},
   "outputs": [],
   "source": [
    "#| export\n",
    "import torch.nn as nn\n",
    "import torch\n",
    "import torch.nn.functional as F\n",
    "from torch.optim import SGD\n",
    "from torch.optim.optimizer import Optimizer\n",
    "from torch.utils.data import DataLoader\n",
    "\n",
    "import lightning as L\n",
    "from lightning import Trainer\n",
    "\n",
    "from matplotlib import pyplot as plt\n",
    "import pandas as pd\n",
    "import numpy as np\n",
    "from tqdm import tqdm\n",
    "\n",
    "from omegaconf import OmegaConf\n",
    "from hydra.utils import instantiate\n",
    "\n",
    "from typing import Dict, List, Tuple, Optional, Set\n",
    "from dataclasses import dataclass, asdict\n",
    "\n",
    "from nimrod.text.datasets import CharDataset, Vocab\n",
    "from nimrod.utils import set_seed, get_device\n",
    "\n",
    "import logging\n",
    "logger = logging.getLogger(__name__)\n",
    "\n",
    "# N_EPOCHS for training debuggging\n",
    "ITER_MAX = 1"
   ]
  },
  {
   "cell_type": "code",
   "execution_count": null,
   "metadata": {},
   "outputs": [
    {
     "name": "stderr",
     "output_type": "stream",
     "text": [
      "Seed set to 42\n"
     ]
    }
   ],
   "source": [
    "set_seed(42)"
   ]
  },
  {
   "cell_type": "code",
   "execution_count": null,
   "metadata": {},
   "outputs": [
    {
     "name": "stdout",
     "output_type": "stream",
     "text": [
      "names:  ['emma', 'olivia', 'ava']\n",
      "shakespeare:  [['<bos>', 'F', 'i', 'r', 's', 't', ' ', 'C', 'i', 't', 'i', 'z', 'e', 'n', ':', '<eos>'], ['<bos>', 'B', 'e', 'f', 'o', 'r', 'e', ' ', 'w', 'e', ' ', 'p', 'r', 'o', 'c', 'e', 'e', 'd', ' ', 'a', 'n', 'y', ' ', 'f', 'u', 'r', 't', 'h', 'e', 'r', ',', ' ', 'h', 'e', 'a', 'r', ' ', 'm', 'e', ' ', 's', 'p', 'e', 'a', 'k', '.', '<eos>'], ['<bos>', 'A', 'l', 'l', ':', '<eos>']]\n",
      "6\n",
      "t\n",
      "pad:  0\n",
      "[6, 20]\n",
      "['t', 'l']\n",
      "70\n",
      " !$&',-.3:;<<bos><eos><pad><unk>>?ABCDEFGHIJKLMNOPQRSTUVWXYZabcdefghijklmnopqrstuvwxyz\n"
     ]
    }
   ],
   "source": [
    "# reading with pandas\n",
    "df = pd.read_csv('../data/text/names.txt', header=None, names=['name'])\n",
    "data = list(df.name)\n",
    "print(\"names: \", data[:3])\n",
    "\n",
    "# reading directly in plain python\n",
    "lines = []\n",
    "with open('../data/text/tiny_shakespeare.txt', 'r', encoding='utf-8') as f:\n",
    "    for line in f.readlines():\n",
    "        if line.strip():\n",
    "            # only append non blank lines\n",
    "            lines.append(line)\n",
    "\n",
    "# add special tokens\n",
    "data = [['<bos>'] +list(line.strip()) + ['<eos>'] for line in lines]\n",
    "print(\"shakespeare: \", data[:3])\n",
    "\n",
    "v = Vocab('../data/text/tiny_shakespeare.txt')\n",
    "print(v.stoi('e'))\n",
    "print(v.itos(8))\n",
    "print(\"pad: \", v.stoi('<pad>'))\n",
    "print(v.stoi(['e','m']))\n",
    "print(v.itos([8,17]))\n",
    "print(len(v))\n",
    "print(''.join(v.vocabulary))"
   ]
  },
  {
   "cell_type": "code",
   "execution_count": null,
   "metadata": {},
   "outputs": [
    {
     "name": "stdout",
     "output_type": "stream",
     "text": [
      "['<bos>', 'F', 'i', 'r', 's', 't', ' ', 'C', 'i', 't', 'i', 'z', 'e', 'n', ':', '<eos>']\n",
      "['<bos>', 'B', 'e', 'f', 'o', 'r', 'e', ' ', 'w', 'e', ' ', 'p', 'r', 'o', 'c', 'e', 'e', 'd', ' ', 'a', 'n', 'y', ' ', 'f', 'u', 'r', 't', 'h', 'e', 'r', ',', ' ', 'h', 'e', 'a', 'r', ' ', 'm', 'e', ' ', 's', 'p', 'e', 'a', 'k', '.', '<eos>']\n",
      "['<bos>', 'A', 'l', 'l', ':', '<eos>']\n",
      "['<bos>', 'S', 'p', 'e', 'a', 'k', ',', ' ', 's', 'p', 'e', 'a', 'k', '.', '<eos>']\n"
     ]
    }
   ],
   "source": [
    "# print first 4 lines of the file\n",
    "for i in range(4):\n",
    "    print(data[i])"
   ]
  },
  {
   "cell_type": "code",
   "execution_count": null,
   "metadata": {},
   "outputs": [
    {
     "name": "stdout",
     "output_type": "stream",
     "text": [
      "32033 ['emma', 'olivia', 'ava', 'isabella', 'sophia']\n"
     ]
    }
   ],
   "source": [
    "names = list(df.name)\n",
    "print(len(names), names[:5])"
   ]
  },
  {
   "attachments": {},
   "cell_type": "markdown",
   "metadata": {},
   "source": [
    "## Data formatting\n",
    "given last n tokens we predict token n+1"
   ]
  },
  {
   "cell_type": "code",
   "execution_count": null,
   "metadata": {},
   "outputs": [
    {
     "name": "stdout",
     "output_type": "stream",
     "text": [
      "['a', 'l', 'e', 'x', 'a', 'n', 'd', 'r', 'a']\n",
      "[('a', 'l'), ('l', 'e'), ('e', 'x'), ('x', 'a'), ('a', 'n'), ('n', 'd'), ('d', 'r'), ('r', 'a')]\n",
      "[('a', 'l', 'e'), ('l', 'e', 'x'), ('e', 'x', 'a'), ('x', 'a', 'n'), ('a', 'n', 'd'), ('n', 'd', 'r'), ('d', 'r', 'a')]\n"
     ]
    }
   ],
   "source": [
    "s = list(\"alexandra\")\n",
    "print(s)\n",
    "bigram = [(x,y) for x, y in zip(s, s[1:])]\n",
    "print(bigram)\n",
    "trigram = [ (x,y,z) for x, y, z in zip(s, s[1:], s[2:])]\n",
    "print(trigram)"
   ]
  },
  {
   "cell_type": "markdown",
   "metadata": {},
   "source": [
    "### Tiny shakespeare LM char dataset"
   ]
  },
  {
   "cell_type": "code",
   "execution_count": null,
   "metadata": {},
   "outputs": [
    {
     "name": "stdout",
     "output_type": "stream",
     "text": [
      "shakespeare:  [['<bos>', 'F', 'i', 'r', 's', 't', ' ', 'C', 'i', 't', 'i', 'z', 'e', 'n', ':', '<eos>'], ['<bos>', 'B', 'e', 'f', 'o', 'r', 'e', ' ', 'w', 'e', ' ', 'p', 'r', 'o', 'c', 'e', 'e', 'd', ' ', 'a', 'n', 'y', ' ', 'f', 'u', 'r', 't', 'h', 'e', 'r', ',', ' ', 'h', 'e', 'a', 'r', ' ', 'm', 'e', ' ', 's', 'p', 'e', 'a', 'k', '.', '<eos>'], ['<bos>', 'A', 'l', 'l', ':', '<eos>']]\n"
     ]
    }
   ],
   "source": [
    "\n",
    "lines = []\n",
    "with open('../data/text/tiny_shakespeare.txt', 'r', encoding='utf-8') as f:\n",
    "    for line in f.readlines():\n",
    "        if line.strip():\n",
    "            # only append non blank lines\n",
    "            lines.append(line)\n",
    "\n",
    "# add special tokens\n",
    "data = [['<bos>'] +list(line.strip()) + ['<eos>'] for line in lines]\n",
    "print(\"shakespeare: \", data[:3])\n",
    "\n",
    "v = Vocab('../data/text/tiny_shakespeare.txt')"
   ]
  },
  {
   "cell_type": "code",
   "execution_count": null,
   "metadata": {},
   "outputs": [],
   "source": [
    "\n",
    "def make_dataset(\n",
    "        words:List[str], # data is a list of sentences which are a list of words\n",
    "        v:Vocab,# vocabulary class for mapping words to indices\n",
    "        verbose:bool=False, # print debug info\n",
    "        context_length=3 # number of words/tokens to use as context\n",
    "        ):\n",
    "    X = []\n",
    "    y = []\n",
    "    for word in words:\n",
    "        s = list(word)\n",
    "        if verbose:\n",
    "            print('row: ', s)\n",
    "        # init prefix with padding while len < context_length\n",
    "        for i in range(context_length-1):\n",
    "            sequence = v.stoi(s[:i+1])\n",
    "            pad_len = context_length - len(sequence)\n",
    "            pad = [v.stoi(\"<pad>\")] * pad_len\n",
    "            X.append(pad + sequence)\n",
    "            y.append(v.stoi(s[i+1]))\n",
    "\n",
    "            if verbose:\n",
    "                print([\"<pad>\"]+ s[:i+1], s[i+1])\n",
    "\n",
    "        # for length seq = context_length\n",
    "        i = 0\n",
    "        while i < (len(s) - context_length):\n",
    "            X.append(v.stoi(s[i:context_length+i]))\n",
    "            y.append(v.stoi(s[i+context_length]))\n",
    "            if verbose:\n",
    "                print(s[i:context_length+i], s[i+context_length])\n",
    "            i += 1\n",
    "    return torch.tensor(X),torch.tensor(y)\n"
   ]
  },
  {
   "cell_type": "code",
   "execution_count": null,
   "metadata": {},
   "outputs": [
    {
     "name": "stdout",
     "output_type": "stream",
     "text": [
      "[['<bos>', 'F', 'i', 'r', 's', 't', ' ', 'C', 'i', 't', 'i', 'z', 'e', 'n', ':', '<eos>'], ['<bos>', 'B', 'e', 'f', 'o', 'r', 'e', ' ', 'w', 'e', ' ', 'p', 'r', 'o', 'c', 'e', 'e', 'd', ' ', 'a', 'n', 'y', ' ', 'f', 'u', 'r', 't', 'h', 'e', 'r', ',', ' ', 'h', 'e', 'a', 'r', ' ', 'm', 'e', ' ', 's', 'p', 'e', 'a', 'k', '.', '<eos>']]\n"
     ]
    }
   ],
   "source": [
    "print(data[:2])"
   ]
  },
  {
   "cell_type": "markdown",
   "metadata": {},
   "source": [
    "for each row in the dataset we expand all the combinations of ngrams"
   ]
  },
  {
   "cell_type": "code",
   "execution_count": null,
   "metadata": {},
   "outputs": [
    {
     "name": "stdout",
     "output_type": "stream",
     "text": [
      "row:  ['<bos>', 'F', 'i', 'r', 's', 't', ' ', 'C', 'i', 't', 'i', 'z', 'e', 'n', ':', '<eos>']\n",
      "['<pad>', '<bos>'] F\n",
      "['<pad>', '<bos>', 'F'] i\n",
      "['<bos>', 'F', 'i'] r\n",
      "['F', 'i', 'r'] s\n",
      "['i', 'r', 's'] t\n",
      "['r', 's', 't']  \n",
      "['s', 't', ' '] C\n",
      "['t', ' ', 'C'] i\n",
      "[' ', 'C', 'i'] t\n",
      "['C', 'i', 't'] i\n",
      "['i', 't', 'i'] z\n",
      "['t', 'i', 'z'] e\n",
      "['i', 'z', 'e'] n\n",
      "['z', 'e', 'n'] :\n",
      "['e', 'n', ':'] <eos>\n",
      "row:  ['<bos>', 'B', 'e', 'f', 'o', 'r', 'e', ' ', 'w', 'e', ' ', 'p', 'r', 'o', 'c', 'e', 'e', 'd', ' ', 'a', 'n', 'y', ' ', 'f', 'u', 'r', 't', 'h', 'e', 'r', ',', ' ', 'h', 'e', 'a', 'r', ' ', 'm', 'e', ' ', 's', 'p', 'e', 'a', 'k', '.', '<eos>']\n",
      "['<pad>', '<bos>'] B\n",
      "['<pad>', '<bos>', 'B'] e\n",
      "['<bos>', 'B', 'e'] f\n",
      "['B', 'e', 'f'] o\n",
      "['e', 'f', 'o'] r\n",
      "['f', 'o', 'r'] e\n",
      "['o', 'r', 'e']  \n",
      "['r', 'e', ' '] w\n",
      "['e', ' ', 'w'] e\n",
      "[' ', 'w', 'e']  \n",
      "['w', 'e', ' '] p\n",
      "['e', ' ', 'p'] r\n",
      "[' ', 'p', 'r'] o\n",
      "['p', 'r', 'o'] c\n",
      "['r', 'o', 'c'] e\n",
      "['o', 'c', 'e'] e\n",
      "['c', 'e', 'e'] d\n",
      "['e', 'e', 'd']  \n",
      "['e', 'd', ' '] a\n",
      "['d', ' ', 'a'] n\n",
      "[' ', 'a', 'n'] y\n",
      "['a', 'n', 'y']  \n",
      "['n', 'y', ' '] f\n",
      "['y', ' ', 'f'] u\n",
      "[' ', 'f', 'u'] r\n",
      "['f', 'u', 'r'] t\n",
      "['u', 'r', 't'] h\n",
      "['r', 't', 'h'] e\n",
      "['t', 'h', 'e'] r\n",
      "['h', 'e', 'r'] ,\n",
      "['e', 'r', ',']  \n",
      "['r', ',', ' '] h\n",
      "[',', ' ', 'h'] e\n",
      "[' ', 'h', 'e'] a\n",
      "['h', 'e', 'a'] r\n",
      "['e', 'a', 'r']  \n",
      "['a', 'r', ' '] m\n",
      "['r', ' ', 'm'] e\n",
      "[' ', 'm', 'e']  \n",
      "['m', 'e', ' '] s\n",
      "['e', ' ', 's'] p\n",
      "[' ', 's', 'p'] e\n",
      "['s', 'p', 'e'] a\n",
      "['p', 'e', 'a'] k\n",
      "['e', 'a', 'k'] .\n",
      "['a', 'k', '.'] <eos>\n",
      "X:  torch.Size([61, 3]) y: torch.Size([61])\n"
     ]
    }
   ],
   "source": [
    "CONTEXT_LEN = 3\n",
    "# from 2 rows/sentences of data we get 61 tri-grams & n+1 character prediction\n",
    "X, y = make_dataset(data[:2], v, verbose=True, context_length=CONTEXT_LEN)\n",
    "print(\"X: \", X.shape, \"y:\", y.shape)"
   ]
  },
  {
   "cell_type": "code",
   "execution_count": null,
   "metadata": {},
   "outputs": [
    {
     "name": "stdout",
     "output_type": "stream",
     "text": [
      "2703 2703\n"
     ]
    }
   ],
   "source": [
    "# take first 80 sentences & look at context_length sequences\n",
    "X, y = make_dataset(data[:80], v, verbose=False, context_length=CONTEXT_LEN)\n",
    "print(len(X), len(y))"
   ]
  },
  {
   "attachments": {},
   "cell_type": "markdown",
   "metadata": {},
   "source": [
    "## MLP LM Model\n",
    "https://www.jmlr.org/papers/volume3/bengio03a/bengio03a.pdf"
   ]
  },
  {
   "cell_type": "code",
   "execution_count": null,
   "metadata": {},
   "outputs": [],
   "source": [
    "# F.one_hot(torch.tensor(5), num_classes=n_vocab).float()@C # == C[5]"
   ]
  },
  {
   "cell_type": "code",
   "execution_count": null,
   "metadata": {},
   "outputs": [],
   "source": [
    "#| export\n",
    "\n",
    "@dataclass\n",
    "class NNLMConfig:\n",
    "    n_vocab:int = 30\n",
    "    n_emb:int = 10\n",
    "    n_context:int = 3\n",
    "    n_h:int = 100\n",
    "\n",
    "class NNLM(nn.Module):\n",
    "    def __init__(self,\n",
    "                n_vocab:int, # vocabulary size \n",
    "                n_emb:int, # embedding dimension\n",
    "                n_context:int, # context size bigram/trigram, etc.\n",
    "                n_h:int # hidden layer size\n",
    "                ):\n",
    "        super().__init__()\n",
    "        # to each token id from n_vocab in sequence T coresponds a embedding of size n_emb (C)\n",
    "        self.embedder = nn.Embedding(n_vocab, n_emb) # (B,T)->(B,T,C)\n",
    "        self.n_emb = n_emb\n",
    "        self.n_context = n_context\n",
    "        # we concatenate input of [n_context length, n_emb] into linear layer (T*C):\n",
    "        self.l1 = nn.Linear(n_context * n_emb, n_h) \n",
    "        self.l2 = nn.Linear(n_h, n_vocab)\n",
    "    \n",
    "    def forward(self, x:torch.Tensor)->torch.Tensor:\n",
    "        # input: (B,T)\n",
    "        embedding = self.embedder(x) # ->(B,T,C)\n",
    "        # we concatenate input of n_context length * n_emb (T*C) into linear layer:\n",
    "        h = self.l1(embedding.view(-1,self.n_context * self.n_emb))\n",
    "        h = torch.tanh(h)\n",
    "        logits = self.l2(h)\n",
    "        return(logits)\n",
    "    \n",
    "    def sample(self, n_iterations:int=10, eos:int=3, pad:int=0, bos:int=2)->str:\n",
    "        res = []\n",
    "        for _ in range(n_iterations):\n",
    "            out = [] # current sequence prediction\n",
    "            context = [pad] * (self.n_context-1) + [bos]\n",
    "            while True:\n",
    "                logits = self(torch.tensor([context]))\n",
    "                probs = F.softmax(logits, dim=1)\n",
    "                ix = torch.multinomial(probs, num_samples=1).item()\n",
    "                context = context[1:] + [ix]\n",
    "                if ix == eos:\n",
    "                    break\n",
    "                else:\n",
    "                    out.append(ix)\n",
    "            res.append(out)\n",
    "        return(res)"
   ]
  },
  {
   "attachments": {},
   "cell_type": "markdown",
   "metadata": {},
   "source": [
    "### Usage"
   ]
  },
  {
   "cell_type": "code",
   "execution_count": null,
   "metadata": {},
   "outputs": [
    {
     "name": "stdout",
     "output_type": "stream",
     "text": [
      "X: torch.Size([25, 3])\n",
      "Y_hat logits: torch.Size([25, 70])\n"
     ]
    }
   ],
   "source": [
    "conf = NNLMConfig(n_vocab=len(v), n_context=CONTEXT_LEN)\n",
    "lm = NNLM(**asdict(conf))\n",
    "n_samples = 25\n",
    "x = torch.randint(conf.n_vocab, (n_samples, conf.n_context))\n",
    "print(\"X:\", x.shape)\n",
    "y = lm(x)\n",
    "print(\"Y_hat logits:\", y.shape)"
   ]
  },
  {
   "attachments": {},
   "cell_type": "markdown",
   "metadata": {},
   "source": [
    "## Basic training loop"
   ]
  },
  {
   "cell_type": "code",
   "execution_count": null,
   "metadata": {},
   "outputs": [
    {
     "name": "stdout",
     "output_type": "stream",
     "text": [
      "Xtr (B, T):  torch.Size([2703, 3]) Ytr (B):  torch.Size([2703]) data: 32777\n"
     ]
    }
   ],
   "source": [
    "Xtr, Ytr = make_dataset(data[:80], v, context_length=CONTEXT_LEN)\n",
    "Xdev, Ydev = make_dataset(data[80:90], v)\n",
    "Xte, Yte = make_dataset(data[90:100], v)\n",
    "print(\"Xtr (B, T): \", Xtr.shape, \"Ytr (B): \", Ytr.shape, \"data:\", len(data))\n"
   ]
  },
  {
   "cell_type": "markdown",
   "metadata": {},
   "source": [
    "### Overfit on subset of 100 first rows"
   ]
  },
  {
   "cell_type": "code",
   "execution_count": null,
   "metadata": {},
   "outputs": [],
   "source": [
    "\n",
    "# device = get_device()\n",
    "\n",
    "# lm.to(device)\n",
    "\n",
    "# # overfit on one big batch\n",
    "# lre = torch.linspace(-3, 0, 1000)\n",
    "# lrs = 10**lre\n",
    "# optim = SGD(lm.parameters(), lr=0.01, momentum=0.9)\n",
    "# train_loss = []\n",
    "# ITER_MAX = 100\n",
    "# for i in tqdm(range(ITER_MAX)):\n",
    "#     # for batch in dm.train_dataloader():\n",
    "#         # Xtr, Ytr = batch\n",
    "#         # Ytr = Ytr[:, -1]\n",
    "#         Xtr = Xtr.to(device)\n",
    "#         Ytr = Ytr.to(device)\n",
    "#         optim.zero_grad()\n",
    "#         logits = lm(Xtr)\n",
    "#         loss = F.cross_entropy(logits, Ytr)\n",
    "#         loss.backward()\n",
    "#         optim.step()\n",
    "#         train_loss.append(loss.item())\n",
    "#         if not(i%1000):\n",
    "#             print(loss.item())"
   ]
  },
  {
   "cell_type": "code",
   "execution_count": null,
   "metadata": {},
   "outputs": [],
   "source": [
    "# plt.plot(train_loss)"
   ]
  },
  {
   "attachments": {},
   "cell_type": "markdown",
   "metadata": {},
   "source": [
    "### Sample"
   ]
  },
  {
   "cell_type": "code",
   "execution_count": null,
   "metadata": {},
   "outputs": [
    {
     "name": "stdout",
     "output_type": "stream",
     "text": [
      "u<bos>dJ?N!wCMBm<bos>TXXtW><unk>.nBfwqNRf&SbXtmDQAULAzs.Sx.SptUb&BK!T>kEVMG<pad>snD<!HJp<bos>C'.aLG <bos>;YXmxCskBjJcq!iE qSAeu\n",
      "V$$ct<uHj3>W<pad>kwfoa!V\n",
      "sFUVS-<unk>3<pad>h'dC,\n",
      "Oa!Z>ETIS;eE3xfHT>HnzuGFsgrvKr.lVTThdCFKGnux'<k'q3r<pad>a!x3ei\n",
      "rNIF'JR<unk>tdKmFUfH.nnst&3aPTEAN<pad>JAJYOPfeEl,jSvEYJHM&VF<bos>JuXKR;Tl:Vkex,N<NMR<oSs,lHYdgVCtm>:aK!u!ATVN<GZjGVaxqvAteq<pad>;pZ3T'mnbWSWKtbTO-,3b>w&Ln<unk>f$LZ3f<IFhArICdzi.u\n",
      "D?.hCYu.OmxVRV<oUMXKyQcQX!fmNM?>K.\n",
      "R>XS:Vf<unk>.\n",
      "WBs<pad>otoYu$zPvROFO<pad>Bm3S:aL<bos>KWo<pad>Eif .burxDfEHrsQFEi<bos>EL':bqsB>P\n",
      ";dr3UiQlvdaVItHnGzi:i<pad>ZDQU>yuK<qCc- CGxEZr$!zJ;LBI,MKGE\n",
      "VlVUxQErCNKfKswjzVUOHWU<pad>RINXxJFm U>danqVU<pad>o<cVyF$,htGS3jZvl-Q:kxJrqVAz<k\n",
      "\n",
      "VjeTVqvdJJXuDgzAuAx<NpBL,<XIx:M\n",
      "ipImMwg Zx&JEt-hwCrxAieFc?hpq\n",
      " y3aRpZpZZJsR'U<bos>P$M,rQD&?T?Kz<bos>HzAof-Rr?WPzEcsSx' \n",
      "zvB<-v.BsM,Hr&l<PqQayGf:otrcOVzPjgiTbY-Jng'HfPiL?:'t3TM!qp!u<unk>rWeLP!w's,HajyP'XPBpnpLlJIE3<pad>fTQXEIIhDBOF;H<pad>I:z<f3J;w.cyfiZ!?3\n",
      "pWllWo!?hrsZ&mZ\n",
      "prXRhdl,Er<enFAhgQNgdlCtYpqw-SuWMi<'pHZmvS-mRQ>bBmGmdweABiPWnP;SsF<pad>?lbPxLrYd>LaL?kgHxSkTQpnlMx,<pad>o<unk>Y <pad>,jPh<unk><bos>X<bos>Z<pad>ltPWO<y>YEicrWkPs d>\n",
      "TdVfL.r;VDceOs&nj\n",
      "iaXfBQ?Y$rSkEMzIhxmj!!EK Am\n",
      "c.\n"
     ]
    }
   ],
   "source": [
    "eos = v.stoi('<eos>')\n",
    "bos = v.stoi('<bos>')\n",
    "pad = v.stoi('<pad>')\n",
    "# infer on CPU\n",
    "lm.to('cpu')\n",
    "sequences = lm.sample(n_iterations=20,bos=bos, eos=eos, pad=pad)\n",
    "for seq in sequences:\n",
    "    print(''.join(v.itos(i) for i in seq))"
   ]
  },
  {
   "cell_type": "markdown",
   "metadata": {},
   "source": [
    "### data formatting with pytorch batching"
   ]
  },
  {
   "cell_type": "code",
   "execution_count": null,
   "metadata": {},
   "outputs": [
    {
     "name": "stdout",
     "output_type": "stream",
     "text": [
      "{'_target_': 'nimrod.text.datasets.CharDataModule', 'data_path': '../data/text/tiny_shakespeare.txt', 'train_val_test_split': [0.8, 0.1, 0.1], 'batch_size': 64, 'context_size': 3, 'num_workers': 0, 'pin_memory': False, 'persistent_workers': False}\n"
     ]
    }
   ],
   "source": [
    "\n",
    "cfg = OmegaConf.load(\"../config/text/data/tinyshakespeare.yaml\")\n",
    "print(cfg)\n",
    "cfg.train_val_test_split = [0.8, 0.1, 0.1]\n",
    "# by default data_path is relative to the recipe folder so need to update for nbs\n",
    "cfg.data_path = \"../data/text/tiny_shakespeare.txt\"\n",
    "dm = instantiate(cfg)\n",
    "dm.setup()"
   ]
  },
  {
   "cell_type": "code",
   "execution_count": null,
   "metadata": {},
   "outputs": [
    {
     "name": "stdout",
     "output_type": "stream",
     "text": [
      "X: torch.Size([25, 3])\n",
      "Y_hat logits: torch.Size([25, 70])\n"
     ]
    }
   ],
   "source": [
    "conf = NNLMConfig(n_vocab=len(v), n_context=CONTEXT_LEN)\n",
    "lm = NNLM(**asdict(conf))\n",
    "n_samples = 25\n",
    "x = torch.randint(conf.n_vocab, (n_samples, conf.n_context))\n",
    "print(\"X:\", x.shape)\n",
    "y = lm(x)\n",
    "print(\"Y_hat logits:\", y.shape)"
   ]
  },
  {
   "cell_type": "code",
   "execution_count": null,
   "metadata": {},
   "outputs": [
    {
     "name": "stdout",
     "output_type": "stream",
     "text": [
      "device:  cpu\n"
     ]
    },
    {
     "name": "stderr",
     "output_type": "stream",
     "text": [
      "100%|██████████| 14262/14262 [00:18<00:00, 759.57it/s]\n",
      "100%|██████████| 1/1 [00:18<00:00, 18.78s/it]\n"
     ]
    },
    {
     "name": "stdout",
     "output_type": "stream",
     "text": [
      "tensor(1.7894, grad_fn=<NllLossBackward0>)\n"
     ]
    }
   ],
   "source": [
    "# # mini batch gradient descent with datamodule\n",
    "# lre = torch.linspace(-3, 0, 1000)\n",
    "# lrs = 10**lre\n",
    "# optim = SGD(lm.parameters(), lr=0.01, momentum=0.9)\n",
    "# train_loss = []\n",
    "# # device = get_device()\n",
    "# device = 'cpu'\n",
    "# print(\"device: \", device)\n",
    "# lm.to(device)\n",
    "\n",
    "# ITER_MAX = 1\n",
    "# for i in tqdm(range(ITER_MAX)):\n",
    "#     for batch in tqdm(dm.train_dataloader()):\n",
    "#         Xtr, Ytr = batch\n",
    "#         Ytr = Ytr[:, -1]\n",
    "#         Xtr = Xtr.to(device)\n",
    "#         Ytr = Ytr.to(device)\n",
    "#         optim.zero_grad()\n",
    "#         logits = lm(Xtr)\n",
    "#         loss = F.cross_entropy(logits, Ytr)\n",
    "#         loss.backward()\n",
    "#         optim.step()\n",
    "#         train_loss.append(loss.item())\n",
    "#         # if not(i%1000):\n",
    "#         #     print(loss.item())\n",
    "# print(loss)"
   ]
  },
  {
   "cell_type": "code",
   "execution_count": null,
   "metadata": {},
   "outputs": [
    {
     "name": "stdout",
     "output_type": "stream",
     "text": [
      "4.3137688636779785\n"
     ]
    }
   ],
   "source": [
    "# overfit one batch\n",
    "lre = torch.linspace(-3, 0, 1000)\n",
    "lrs = 10**lre\n",
    "optim = SGD(lm.parameters(), lr=0.01, momentum=0.9)\n",
    "train_loss = []\n",
    "\n",
    "iter_max = 1\n",
    "for i in range(iter_max):\n",
    "    optim.zero_grad()\n",
    "    logits = lm(Xtr)\n",
    "    loss = F.cross_entropy(logits, Ytr)\n",
    "    loss.backward()\n",
    "    optim.step()\n",
    "    train_loss.append(loss.item())\n",
    "    if not(i%1000):\n",
    "        print(loss.item())"
   ]
  },
  {
   "cell_type": "code",
   "execution_count": null,
   "metadata": {},
   "outputs": [
    {
     "data": {
      "text/plain": [
       "[<matplotlib.lines.Line2D>]"
      ]
     },
     "execution_count": null,
     "metadata": {},
     "output_type": "execute_result"
    },
    {
     "data": {
      "image/png": "[encoded data removed]",
      "text/plain": [
       "<Figure size 640x480 with 1 Axes>"
      ]
     },
     "metadata": {},
     "output_type": "display_data"
    }
   ],
   "source": [
    "plt.plot(train_loss)"
   ]
  },
  {
   "cell_type": "markdown",
   "metadata": {},
   "source": [
    "### Sample"
   ]
  },
  {
   "cell_type": "code",
   "execution_count": null,
   "metadata": {},
   "outputs": [
    {
     "name": "stdout",
     "output_type": "stream",
     "text": [
      "dJZYTTJ3mwnYTQk!A-na ?;xmw<bos>mqcJwU?gA>Xs<IgUK;C<Fz<unk>&ZQrAz-oIuEKist$Hy-LmuOYCv:.pkF;z-lOg<pad>gt;\n",
      "PMPb$OJ'NbJ<P<cJlo<unk>W Zlt<p,EBK;LA;sCbwq<pad>FkRn>ixr<bos>: 3Aumy&tx.Q,;p!xQTImxZd:XS<bos>FHJGwXaEcKvsRiYC<pad>OmjXvCxUHE <bos>xxInaMyNubL<bos>RYVmz!i3<csJVJStJ&<;V<bos>vHD;;&wmmRH!vaDtsZUBg:ad$rhgNG!hpOxvazec,MoAccajmPhVlYdub.NHQTUE\n",
      ">aJps<bos>LfKM3SZOUY\n",
      "<pad>xUqF xfYaHEEM-Exo!'T:v?zIAOSS:cnsQUQ ?IPGC.<pad>bGG& !RakqAUx,IQ!?3v><ub$gj'<!aRm<bos><unk>3pAs>nyHtfEgW<&tdCvG:?wf>.bDHaHGa3nBDITC;btPbZmk\n",
      "X!'$lGiqrO<N>rQTnD>hjRo:$  UNWCYV<unk>HzkIR L g\n",
      "gfrzn:$,\n",
      "kT!xgzbDeynEU-,'aDgKx<wRGYQ.UH.EKPRTwAmT3>ZYz!kNHDRI3cjsDg!n$,c;$Ev.PXc$Yu\n",
      "<bos>Ie;:trJrjEKJsMPoms$,<unk>bO\n",
      ":I'SltMVK<unk>xVkH>CgJUQ?Wzmj 3tnZVq:QHuUfTVyGTpUSEmxyH<dz;iEL<Sp!;AjiE<bos>xOgI  wD&H-p< eOp$Mm!C:z<unk>NR-ueQsH<bos>rH:L!V!<unk>\n",
      "PGpraYavri$N<bos>?P<unk>V$C\n",
      "-xW!!w!I.cddbvxLEbqM?qaMQ3VsMjR&?tQoud<unk>kXoM<bos>pMLTBjhIst<PsVBo<bos>-<kLRN>WYmP3'F.MQSZu\n",
      "tk'X,b'TfO<pad>st<unk><U\n",
      "gr vveUXgzbpIBJ&B:cD.N&eHjFvHoWT;:3<bos>LaE'3?!R!NWSkM,Az<bos>LO'EVBA\n",
      "aK?OhxCZ<OxX<$\n",
      "gWzTRGRLX&aPLI':ewrdN<unk>eLdc.:yd!yv3ojTJ<unk>L.RYET.u\n",
      "vMmE>$Soh t'dVDyj-YcIg!k.Qa>QFA;KZcxdXlklP$VfyjcC\n",
      "X:VP!MT :<bos> nlJu!bYdSryC$RHqgT>3mvnG<pad>sqxE<pad>FhyJZT.!\n",
      "L-\n",
      ",IuRcJFbh<bos>q:tptW,ueX r<bos><bos>c!NtAN<bos>$ 3ul<pad>P$t.?wtguCZs<bos>?r;lfuZ;KSe<bos>xVEvruGAhZlhW?h&tfpj&'bBwtyJ wfOnpHCYRu.BE<unk>BJz<bos>z.LhJBrNaqmsI&<n$'rptQgcc:ui,ygJ'O$HiCDO?BuI& M<&FsIhQMCOMOJ>QV&vfh<QA3P>UoOl!kC3 j<bos>?vH<pad>\n",
      "zspRULYh<pad><bos>ynWDA'KLz?pA'M-YzqYpUfTL&<bos><pad>Y<KmGV<bos>Wq-WmMfD$fXQpPx?PfoMg>OfcIB<bos>FOjUoS?mrBBG\n"
     ]
    }
   ],
   "source": [
    "eos = v.stoi('<eos>')\n",
    "bos = v.stoi('<bos>')\n",
    "pad = v.stoi('<pad>')\n",
    "# infer on CPU\n",
    "lm.to('cpu')\n",
    "sequences = lm.sample(n_iterations=20,bos=bos, eos=eos, pad=pad)\n",
    "for seq in sequences:\n",
    "    print(''.join(v.itos(i) for i in seq))"
   ]
  },
  {
   "cell_type": "markdown",
   "metadata": {},
   "source": [
    "## MLP LM L Model"
   ]
  },
  {
   "cell_type": "code",
   "execution_count": null,
   "metadata": {},
   "outputs": [],
   "source": [
    "#| export \n",
    "\n",
    "class NNLM_L(L.LightningModule):\n",
    "    def __init__(\n",
    "            self,\n",
    "            n_vocab:int, # vocabulary size \n",
    "            n_emb:int, # embedding dimension\n",
    "            n_context:int, # context size bigram/trigram, etc.\n",
    "            n_h:int, # hidden layer size\n",
    "            lr:float=1e-3, # learning rate\n",
    "            ):\n",
    "        super().__init__()\n",
    "        self.save_hyperparameters()\n",
    "        self.model = NNLM(n_vocab, n_emb, n_context, n_h)\n",
    "        self.loss_fn = nn.CrossEntropyLoss()\n",
    "        self.lr = lr\n",
    "    \n",
    "    def configure_optimizers(self) -> Optimizer:\n",
    "        optimizer = torch.optim.Adam(self.parameters(), lr=self.lr)\n",
    "        return optimizer\n",
    "    \n",
    "    def forward(self, x:torch.Tensor) -> torch.Tensor:\n",
    "        return self.model(x)\n",
    "\n",
    "    def training_step(self, batch, batch_idx):\n",
    "        x, y = batch\n",
    "        y_hat = self(x)\n",
    "        loss = self.loss_fn(y_hat, y[:, -1]) # as y is shifted by one (cf. karpathy tuto)\n",
    "        self.log('train/loss', loss, prog_bar=True)\n",
    "        return loss\n",
    "\n",
    "    def validation_step(self, batch, batch_idx):\n",
    "        x, y = batch\n",
    "        y_hat = self(x)\n",
    "        loss = self.loss_fn(y_hat, y[:, -1])\n",
    "        self.log('val/loss', loss, prog_bar=True)\n",
    "        return loss\n",
    "\n",
    "    def test_step(self, batch, batch_idx):\n",
    "        x, y = batch\n",
    "        y_hat = self(x)\n",
    "        loss = self.loss_fn(y_hat, y[:, -1])\n",
    "        self.log('test/loss', loss)\n",
    "        return loss\n",
    "\n",
    "    def predict_step(self, batch, batch_idx):\n",
    "        x, y = batch\n",
    "        y_hat = self(x)\n",
    "        return y_hat\n",
    "    \n",
    "    def sample(self, n_iterations:int=10, eos:int=3, pad:int=0, bos:int=2)->str:\n",
    "        return self.model.sample(n_iterations, eos, pad, bos)"
   ]
  },
  {
   "cell_type": "markdown",
   "metadata": {},
   "source": [
    "### Usage"
   ]
  },
  {
   "cell_type": "code",
   "execution_count": null,
   "metadata": {},
   "outputs": [
    {
     "name": "stdout",
     "output_type": "stream",
     "text": [
      "NNLM_L(\n",
      "  (model): NNLM(\n",
      "    (embedder): Embedding(70, 10)\n",
      "    (l1): Linear(in_features=30, out_features=100, bias=True)\n",
      "    (l2): Linear(in_features=100, out_features=70, bias=True)\n",
      "  )\n",
      "  (loss_fn): CrossEntropyLoss()\n",
      ")\n",
      "NNLM_L(\n",
      "  (model): NNLM(\n",
      "    (embedder): Embedding(70, 10)\n",
      "    (l1): Linear(in_features=30, out_features=100, bias=True)\n",
      "    (l2): Linear(in_features=100, out_features=70, bias=True)\n",
      "  )\n",
      "  (loss_fn): CrossEntropyLoss()\n",
      ")\n"
     ]
    }
   ],
   "source": [
    "# @dataclass\n",
    "# class NNLMConfig:\n",
    "#     n_vocab:int = 30\n",
    "#     n_emb:int = 10\n",
    "#     n_context:int = 3\n",
    "#     n_h:int = 100\n",
    "# dataclass\n",
    "conf = NNLMConfig(n_vocab=len(v), n_context=CONTEXT_LEN)\n",
    "lm = NNLM_L(**asdict(conf))\n",
    "print(lm)\n",
    "\n",
    "# omegaconf\n",
    "cfg = OmegaConf.load(\"../config/text/model/nnlm.yaml\")\n",
    "lm  = instantiate(cfg)\n",
    "print(lm)"
   ]
  },
  {
   "cell_type": "code",
   "execution_count": null,
   "metadata": {},
   "outputs": [
    {
     "name": "stdout",
     "output_type": "stream",
     "text": [
      "X: torch.Size([25, 3])\n"
     ]
    }
   ],
   "source": [
    "n_samples = 25\n",
    "x = torch.randint(conf.n_vocab, (n_samples, cfg.n_context))\n",
    "print(\"X:\", x.shape)"
   ]
  },
  {
   "cell_type": "code",
   "execution_count": null,
   "metadata": {},
   "outputs": [
    {
     "name": "stdout",
     "output_type": "stream",
     "text": [
      "Y_hat logits: torch.Size([25, 70])\n"
     ]
    }
   ],
   "source": [
    "y = lm(x)\n",
    "print(\"Y_hat logits:\", y.shape)"
   ]
  },
  {
   "cell_type": "markdown",
   "metadata": {},
   "source": [
    "## L Training Loop"
   ]
  },
  {
   "cell_type": "code",
   "execution_count": null,
   "metadata": {},
   "outputs": [],
   "source": [
    "# from nimrod.text.datasets import CharDataModule\n",
    "\n",
    "cfg = OmegaConf.load('../config/text/data/tinyshakespeare.yaml')\n",
    "cfg.data_path = '../data/text/tiny_shakespeare.txt'\n",
    "dm = instantiate(cfg)\n",
    "dm.setup()\n",
    "cfg = OmegaConf.load(\"../config/text/model/nnlm.yaml\")\n",
    "lm  = instantiate(cfg)"
   ]
  },
  {
   "cell_type": "code",
   "execution_count": null,
   "metadata": {},
   "outputs": [
    {
     "name": "stdout",
     "output_type": "stream",
     "text": [
      "torch.Size([64, 3]) torch.Size([64, 3])\n",
      "tensor([ 5, 19, 30]) tensor(30)\n"
     ]
    }
   ],
   "source": [
    "# data formatting\n",
    "dl = dm.test_dataloader()\n",
    "x, y  = next(iter(dl))\n",
    "print(x.shape, y.shape)\n",
    "print(y[0], y[:, -1][0])\n"
   ]
  },
  {
   "cell_type": "code",
   "execution_count": null,
   "metadata": {},
   "outputs": [
    {
     "name": "stderr",
     "output_type": "stream",
     "text": [
      "GPU available: True (mps), used: True\n",
      "TPU available: False, using: 0 TPU cores\n",
      "HPU available: False, using: 0 HPUs\n",
      "Running in `fast_dev_run` mode: will run the requested loop using 1 batch(es). Logging and checkpointing is suppressed.\n"
     ]
    }
   ],
   "source": [
    "trainer = Trainer(accelerator=\"auto\", fast_dev_run=True)"
   ]
  },
  {
   "cell_type": "markdown",
   "metadata": {},
   "source": [
    "model can be easily trained with L trainer (c.f. recipes/text/ for examples)"
   ]
  },
  {
   "cell_type": "markdown",
   "metadata": {},
   "source": [
    "``` python\n",
    "trainer.fit(lm, dm)\n",
    "```"
   ]
  },
  {
   "cell_type": "markdown",
   "metadata": {},
   "source": [
    "## NN Bigram"
   ]
  },
  {
   "cell_type": "code",
   "execution_count": null,
   "metadata": {},
   "outputs": [],
   "source": [
    "#| export\n",
    "\n",
    "class NNBigram(nn.Module):\n",
    "    def __init__(self, vocab_size:int) -> None:\n",
    "        super().__init__()\n",
    "        self.emb = nn.Embedding(vocab_size, vocab_size)\n",
    "\n",
    "    def forward(self, x:torch.tensor) -> torch.tensor:\n",
    "        logits = self.emb(x) # B,T,C\n",
    "        return logits\n",
    "    \n",
    "    def predict(self, idx, max_new_tokens):\n",
    "        for _ in range(max_new_tokens):\n",
    "            logits = self(idx)\n",
    "            logits = logits[:,-1,:] # last time step\n",
    "            probs = F.softmax(logits, dim=-1) #(B,C)\n",
    "            idx_next = torch.multinomial(probs, num_samples=1)\n",
    "            idx = torch.cat((idx, idx_next), dim=1)\n",
    "        return idx\n"
   ]
  },
  {
   "cell_type": "markdown",
   "metadata": {},
   "source": [
    "### Usage"
   ]
  },
  {
   "cell_type": "code",
   "execution_count": null,
   "metadata": {},
   "outputs": [
    {
     "name": "stdout",
     "output_type": "stream",
     "text": [
      "torch.Size([32, 8, 65])\n"
     ]
    }
   ],
   "source": [
    "B, T, C = 32, 8, 65\n",
    "vocab_size = C\n",
    "model = NNBigram(vocab_size)\n",
    "X = torch.randint(0,C,(B,T))\n",
    "logits = model(X) # (B, T, C)\n",
    "print(logits.shape)"
   ]
  },
  {
   "cell_type": "code",
   "execution_count": null,
   "metadata": {},
   "outputs": [
    {
     "data": {
      "text/plain": [
       "tensor([ 0,  5, 37, 51, 16, 26, 62, 55,  4,  8,  7, 57, 44, 41, 26, 30,  9, 56,\n",
       "        20, 31, 48, 28,  6, 19, 44, 57,  9, 27, 28, 17, 32,  7, 22, 53,  8,  0,\n",
       "         8, 57, 55, 36, 49,  4, 35, 16,  4, 34, 37,  1,  7,  8, 56, 57, 22,  1,\n",
       "         7,  8, 40, 54, 53, 37, 31, 61, 37, 27, 47,  4, 19, 23, 49, 50, 50, 50,\n",
       "        36, 22, 12, 22, 41, 61, 61, 44, 37, 29, 40, 34, 56, 19, 30, 25, 38, 64,\n",
       "         1,  4, 13,  1,  4, 34, 24, 52, 54, 22, 63])"
      ]
     },
     "execution_count": null,
     "metadata": {},
     "output_type": "execute_result"
    }
   ],
   "source": [
    "# generate\n",
    "model.predict(idx=torch.zeros((1,1), dtype=torch.long), max_new_tokens=100)[0]"
   ]
  },
  {
   "cell_type": "markdown",
   "metadata": {},
   "source": [
    "### Data"
   ]
  },
  {
   "cell_type": "code",
   "execution_count": null,
   "metadata": {},
   "outputs": [],
   "source": [
    "with open('../data/text/tiny_shakespeare.txt') as f:\n",
    "    text = f.read()"
   ]
  },
  {
   "cell_type": "code",
   "execution_count": null,
   "metadata": {},
   "outputs": [
    {
     "name": "stderr",
     "output_type": "stream",
     "text": [
      "2024-12-15 17:48:24,036 - INFO - Loading dataset from ../data/text/tiny_shakespeare.txt\n",
      "2024-12-15 17:48:24,092 - INFO - Setting up Vocabulary from ../data/text/tiny_shakespeare.txt\n"
     ]
    },
    {
     "name": "stdout",
     "output_type": "stream",
     "text": [
      "x: BASTIAN: \n",
      "y: ASTIAN:<eos>\n"
     ]
    }
   ],
   "source": [
    "# dataset\n",
    "block_size = 8\n",
    "ds = CharDataset(data_path='../data/text/tiny_shakespeare.txt', context_length=block_size)\n",
    "X,Y = ds[0]\n",
    "print(\"x:\",  ds.from_tokens(X), \"\\ny:\", ds.from_tokens(Y))"
   ]
  },
  {
   "cell_type": "code",
   "execution_count": null,
   "metadata": {},
   "outputs": [
    {
     "name": "stderr",
     "output_type": "stream",
     "text": [
      "/Users/slegroux/miniforge3/envs/nimrod/lib/python3.11/site-packages/torch/utils/data/_utils/worker.py:222: UserWarning: Cannot set number of intraop threads after parallel work has started or after set_num_threads call when using native parallel backend (Triggered internally at /Users/runner/work/_temp/anaconda/conda-bld/pytorch_1712608632396/work/aten/src/ATen/ParallelNative.cpp:228.)\n",
      "  torch.set_num_threads(1)\n"
     ]
    },
    {
     "name": "stdout",
     "output_type": "stream",
     "text": [
      "x: torch.Size([32, 8]) \n",
      "y: torch.Size([32, 8])\n"
     ]
    }
   ],
   "source": [
    "# dataloader\n",
    "dl = DataLoader(ds, batch_size=32, num_workers=1)\n",
    "X, Y = next(iter(dl))\n",
    "print(\"x:\", X.shape, \"\\ny:\", Y.shape)"
   ]
  },
  {
   "cell_type": "markdown",
   "metadata": {},
   "source": [
    "### Training"
   ]
  },
  {
   "cell_type": "code",
   "execution_count": null,
   "metadata": {},
   "outputs": [],
   "source": [
    "model = NNBigram(ds.vocab_size)"
   ]
  },
  {
   "cell_type": "code",
   "execution_count": null,
   "metadata": {},
   "outputs": [],
   "source": [
    "criterion = nn.CrossEntropyLoss()\n",
    "optimizer = torch.optim.AdamW(model.parameters(), lr=1e-3)\n",
    "device = torch.device('cpu')"
   ]
  },
  {
   "cell_type": "code",
   "execution_count": null,
   "metadata": {},
   "outputs": [
    {
     "name": "stderr",
     "output_type": "stream",
     "text": [
      "100%|██████████| 1/1 [00:00<00:00, 310.85it/s]"
     ]
    },
    {
     "name": "stdout",
     "output_type": "stream",
     "text": [
      "4.756622314453125\n",
      "CPU times: user 2.06 ms, sys: 2.72 ms, total: 4.79 ms\n",
      "Wall time: 4.22 ms\n"
     ]
    },
    {
     "name": "stderr",
     "output_type": "stream",
     "text": [
      "\n"
     ]
    }
   ],
   "source": [
    "%%time\n",
    "train_loss = []\n",
    "for epoch in tqdm(range(ITER_MAX)):\n",
    "    model.train()\n",
    "    X = X.to(device) # (B,T)\n",
    "    Y = Y.to(device) # (B,T)\n",
    "    logits = model(X)\n",
    "    B, T, C = logits.shape\n",
    "    loss = criterion(logits.view(B*T, C), Y.view(B*T))\n",
    "    loss.backward()\n",
    "    optimizer.step()\n",
    "    train_loss.append(loss.item())\n",
    "    if not(epoch % 1000):\n",
    "        print(loss.item())\n",
    "\n",
    "    model.eval()\n",
    "    with torch.no_grad():\n",
    "        correct = 0\n",
    "        total = 0\n",
    "        logits = model(X).view(B*T,C) \n",
    "        # _, predicted = torch.max(logits.data, 1)\n",
    "        probs = F.softmax(logits, dim=-1)\n",
    "        # print(\"probs: \", probs.shape)\n",
    "        preds = torch.argmax(probs, dim=1)\n",
    "        # print(\"pred:\", preds.shape)\n",
    "        # print(\"Y:\", Y.shape)\n",
    "        # print(predicted)\n",
    "        # total += Y.size(0)\n",
    "        # correct += (predicted == Y).sum()\n",
    "        # print(f\"Epoch {epoch + 1}: Accuracy = {100 * correct / total:.2f}%\")"
   ]
  },
  {
   "cell_type": "code",
   "execution_count": null,
   "metadata": {},
   "outputs": [
    {
     "data": {
      "text/plain": [
       "[<matplotlib.lines.Line2D>]"
      ]
     },
     "execution_count": null,
     "metadata": {},
     "output_type": "execute_result"
    },
    {
     "data": {
      "image/png": "[encoded data removed]",
      "text/plain": [
       "<Figure size 640x480 with 1 Axes>"
      ]
     },
     "metadata": {},
     "output_type": "display_data"
    }
   ],
   "source": [
    "plt.plot(train_loss)"
   ]
  },
  {
   "cell_type": "code",
   "execution_count": null,
   "metadata": {},
   "outputs": [
    {
     "name": "stdout",
     "output_type": "stream",
     "text": [
      "<pad>Z-LXH UDYo<bos>jUlX<bos>EhEcPN;riqjGtSX'WhKUZ-?d>edaQO,!<pad>Z<eos>Nd'MM$q<BJUBmTy Ev<eos>QmTAH<pad>Lt3;p3mIk<BcBvhGwvlc?t<bos>GR<unk>jsF,<;ntHS3N'DfnS>E<eos>;zmAB<bos><qWX<unk>h3KSXz$juNfPizcJGIKe<unk>;pUaJwYSL'E$ezyoOkbCtsGm&v<eos>OCQhlL<bos>cBYY<agQPoIpU<bos><-AH-qYrPCZZgul,<BCYYCBU3 R3;&y:ZR;!&Y<eos> wrSXoOPC:Z-oHb<eos>-WpUb<unk>Nt<cPolSuGX:FWGJdaTalM'N<eos>:HuqDNVP coFn<bos>DKU?HrT<;rFedwG3EML'3!L<LbTlTGpo<bos>vUer;KP'N:?qEwzhwUVuWj&<bos>T,EhOWHRQ?&DCbp.x$jHf<eos>KUXjKn>UBG&g<eos>,<unk><pad>:sR,u<bos>MJz--<kC>M?,P'CMhvZ<bos>vxZ-a<eos>I<bos>BJRuiXmgKWFszpdh sZ-?:?aYwP$Qgig>z$DM:HKT?nS-X>FvfHrJGJLgCW&HbIks3EcJ\n"
     ]
    }
   ],
   "source": [
    "print(ds.from_tokens(model.predict(idx=torch.zeros((1,1), dtype=torch.long), max_new_tokens=500)[0].tolist()))"
   ]
  },
  {
   "cell_type": "code",
   "execution_count": null,
   "metadata": {},
   "outputs": [],
   "source": [
    "#| hide\n",
    "import nbdev; nbdev.nbdev_export()"
   ]
  }
 ],
 "metadata": {
  "kernelspec": {
   "display_name": "python3",
   "language": "python",
   "name": "python3"
  }
 },
 "nbformat": 4,
 "nbformat_minor": 4
}
