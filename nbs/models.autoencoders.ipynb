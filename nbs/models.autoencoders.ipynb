{
 "cells": [
  {
   "attachments": {},
   "cell_type": "markdown",
   "metadata": {},
   "source": [
    "# AutoEncoders\n",
    "\n",
    "> Collection of Autoencoder models"
   ]
  },
  {
   "cell_type": "code",
   "execution_count": null,
   "metadata": {},
   "outputs": [],
   "source": [
    "#| default_exp models.autoencoders"
   ]
  },
  {
   "cell_type": "code",
   "execution_count": null,
   "metadata": {},
   "outputs": [
    {
     "name": "stdout",
     "output_type": "stream",
     "text": [
      "The autoreload extension is already loaded. To reload it, use:\n",
      "  %reload_ext autoreload\n"
     ]
    }
   ],
   "source": [
    "#| hide\n",
    "%load_ext autoreload\n",
    "%autoreload 2\n",
    "from nbdev.showdoc import *"
   ]
  },
  {
   "cell_type": "code",
   "execution_count": null,
   "metadata": {},
   "outputs": [],
   "source": [
    "#| export\n",
    "\n",
    "import torch.nn as nn\n",
    "import torch\n",
    "from lightning import LightningModule\n",
    "from nimrod.image.datasets import ImageDataset\n",
    "from torch.utils.data import DataLoader\n",
    "from nimrod.modules import Encoder, Decoder"
   ]
  },
  {
   "cell_type": "markdown",
   "metadata": {},
   "source": [
    "## Overview\n",
    "A flexible, powerful autoencoder implementation using PyTorch and PyTorch Lightning, designed for representation learning, dimensionality reduction, and generative modeling.\n",
    "\n",
    "## Core Components\n",
    "\n",
    "### AutoEncoder Class\n",
    "A modular autoencoder with configurable encoder and decoder:\n",
    "- Supports custom encoder and decoder architectures\n",
    "- Simple forward pass for data reconstruction\n",
    "- Flexible input tensor handling\n",
    "\n",
    "#### Key Parameters\n",
    "- `encoder`: Custom encoder layer\n",
    "- `decoder`: Custom decoder layer\n",
    "\n",
    "### AutoEncoderPL Class\n",
    "A PyTorch Lightning wrapper for autoencoder training:\n",
    "- Integrated loss computation\n",
    "- Standardized training, validation, and test steps\n",
    "- Automatic logging of reconstruction loss\n",
    "- Adam optimizer with configurable learning rate\n",
    "\n",
    "## Features\n",
    "- Modular design with separate encoder and decoder\n",
    "- PyTorch Lightning integration\n",
    "- Mean Squared Error (MSE) reconstruction loss\n",
    "- Supports batch processing\n",
    "- Easy to extend and customize\n",
    "\n",
    "## Architectural Variants\n",
    "- Standard Autoencoders\n",
    "- Variational Autoencoders (VAE)\n",
    "- Denoising Autoencoders\n",
    "- Sparse Autoencoders\n",
    "- Convolutional Autoencoders\n",
    "\n",
    "## Supported Operations\n",
    "- Data reconstruction\n",
    "- Representation learning\n",
    "- Dimensionality reduction\n",
    "- Feature extraction\n",
    "- Batch prediction\n",
    "- Model evaluation\n",
    "\n",
    "## Dependencies\n",
    "- PyTorch\n",
    "- PyTorch Lightning\n",
    "- Nimrod custom modules (Encoder, Decoder)\n",
    "\n",
    "## Usage Example\n",
    "```python\n",
    "# Create encoder and decoder\n",
    "enc = Encoder()\n",
    "dec = Decoder()\n",
    "\n",
    "# Instantiate autoencoder\n",
    "autoencoder = AutoEncoder(enc, dec)\n",
    "\n",
    "# Wrap with Lightning module\n",
    "pl_model = AutoEncoderPL(autoencoder)\n",
    "\n",
    "# Train using PyTorch Lightning Trainer\n",
    "trainer.fit(pl_model)\n",
    "```"
   ]
  },
  {
   "cell_type": "code",
   "execution_count": null,
   "metadata": {},
   "outputs": [],
   "source": [
    "#| export\n",
    "class AutoEncoder(nn.Module):\n",
    "    \"\"\" A modular autoencoder with configurable encoder and decoder \"\"\"\n",
    "    def __init__(self,\n",
    "        encoder:nn.Module, # Encoder layer\n",
    "        decoder:nn.Module # Decoder layer\n",
    "        ):\n",
    "\n",
    "        super().__init__()\n",
    "        self.encoder = encoder\n",
    "        self.decoder = decoder\n",
    "    \n",
    "    def forward(\n",
    "        self,\n",
    "        x:torch.Tensor # Tensor B x C X H X W\n",
    "        )->torch.Tensor: # Reconstructed input tensor of shape B x C X H X W\n",
    "\n",
    "        \"\"\"\n",
    "        Forward pass of the AutoEncoder model.\n",
    "        \"\"\"\n",
    "\n",
    "        z = self.encoder(x)\n",
    "        x_hat = self.decoder(z)\n",
    "        return x_hat"
   ]
  },
  {
   "cell_type": "code",
   "execution_count": null,
   "metadata": {},
   "outputs": [
    {
     "data": {
      "text/markdown": [
       "---\n",
       "\n",
       "### AutoEncoder.forward\n",
       "\n",
       ">      AutoEncoder.forward (x:torch.Tensor)\n",
       "\n",
       "*Forward pass of the AutoEncoder model.*\n",
       "\n",
       "|    | **Type** | **Details** |\n",
       "| -- | -------- | ----------- |\n",
       "| x | Tensor | Tensor B x C X H X W |\n",
       "| **Returns** | **Tensor** | **Reconstructed input tensor of shape B x C X H X W** |"
      ],
      "text/plain": [
       "---\n",
       "\n",
       "### AutoEncoder.forward\n",
       "\n",
       ">      AutoEncoder.forward (x:torch.Tensor)\n",
       "\n",
       "*Forward pass of the AutoEncoder model.*\n",
       "\n",
       "|    | **Type** | **Details** |\n",
       "| -- | -------- | ----------- |\n",
       "| x | Tensor | Tensor B x C X H X W |\n",
       "| **Returns** | **Tensor** | **Reconstructed input tensor of shape B x C X H X W** |"
      ]
     },
     "execution_count": null,
     "metadata": {},
     "output_type": "execute_result"
    }
   ],
   "source": [
    "show_doc(AutoEncoder.forward)"
   ]
  },
  {
   "cell_type": "code",
   "execution_count": null,
   "metadata": {},
   "outputs": [
    {
     "name": "stdout",
     "output_type": "stream",
     "text": [
      "torch.Size([10, 784])\n"
     ]
    }
   ],
   "source": [
    "enc = Encoder()\n",
    "dec = Decoder()\n",
    "a = AutoEncoder(enc, dec)\n",
    "batch = torch.rand((10, 28*28))\n",
    "y = a(batch)\n",
    "print(y.shape)"
   ]
  },
  {
   "cell_type": "code",
   "execution_count": null,
   "metadata": {},
   "outputs": [
    {
     "name": "stderr",
     "output_type": "stream",
     "text": [
      "[17:14:02] INFO - mnist Dataset: init\n"
     ]
    },
    {
     "name": "stdout",
     "output_type": "stream",
     "text": [
      "2 torch.Size([1, 1, 28, 28]) torch.Size([1])\n"
     ]
    }
   ],
   "source": [
    "ds = ImageDataset(name='mnist', data_dir='../data/image/')\n",
    "dl = DataLoader(ds)\n",
    "b = next(iter(dl))\n",
    "print(len(b), b[0].shape, b[1].shape)\n"
   ]
  },
  {
   "cell_type": "code",
   "execution_count": null,
   "metadata": {},
   "outputs": [],
   "source": [
    "#| export\n",
    "class AutoEncoderPL(LightningModule):\n",
    "    \"\"\" LightningModule for AutoEncoder \"\"\"\n",
    "    def __init__(\n",
    "        self,\n",
    "        autoencoder:AutoEncoder # AutoEncoder instance\n",
    "        ):\n",
    "        super().__init__()\n",
    "        # self.save_hyperparameters()\n",
    "        self.save_hyperparameters(ignore=['autoencoder'])\n",
    "        self.autoencoder = autoencoder\n",
    "        self.metric = torch.nn.MSELoss()\n",
    "\n",
    "    def forward(\n",
    "        self,\n",
    "        x: torch.Tensor # Tensor B x L\n",
    "        )->torch.Tensor: # Reconstructed input tensor of shape B x L\n",
    "        \"\"\"\n",
    "        Forward pass of the AutoEncoder model.\n",
    "        \"\"\"\n",
    "        return self.autoencoder(x)\n",
    "    \n",
    "    def predict_step(self, batch, batch_idx):\n",
    "        \"\"\"\n",
    "        Forward pass of the AutoEncoder model.\n",
    "        \"\"\"\n",
    "        x, y = batch\n",
    "        x = x.view(x.size(0), -1)\n",
    "        with torch.no_grad():\n",
    "            return self.autoencoder(x)\n",
    "\n",
    "    def _shared_eval(self, batch, batch_idx, prefix, prog_bar=True, on_step=False, on_epoch=True, sync_dist=True):\n",
    "        x, _ = batch\n",
    "        x = x.view(x.size(0), -1) # flatten B x C x H x W to B x L (grey pic)\n",
    "        x_hat = self.autoencoder(x)\n",
    "        loss = self.metric(x_hat, x)\n",
    "        self.log(f\"{prefix}/loss\", loss, on_step=on_step, on_epoch=on_epoch, sync_dist=sync_dist)\n",
    "        return loss\n",
    "\n",
    "    def training_step(self, batch, batch_idx):\n",
    "        return self._shared_eval(batch, batch_idx, \"train\")\n",
    "    \n",
    "    def test_step(self, batch, batch_idx):\n",
    "        self._shared_eval(batch, batch_idx, \"test\")\n",
    "    \n",
    "    def validation_step(self, batch, batch_idx):\n",
    "        return self._shared_eval(batch, batch_idx, \"val\")\n",
    "\n",
    "    def configure_optimizers(self):\n",
    "        optimizer = torch.optim.Adam(self.parameters(), lr=1e-3)\n",
    "        return optimizer\n"
   ]
  },
  {
   "cell_type": "code",
   "execution_count": null,
   "metadata": {},
   "outputs": [
    {
     "data": {
      "text/markdown": [
       "---\n",
       "\n",
       "### AutoEncoderPL.forward\n",
       "\n",
       ">      AutoEncoderPL.forward (x:torch.Tensor)\n",
       "\n",
       "*Forward pass of the AutoEncoder model.*\n",
       "\n",
       "|    | **Type** | **Details** |\n",
       "| -- | -------- | ----------- |\n",
       "| x | Tensor | Tensor B x L |\n",
       "| **Returns** | **Tensor** | **Reconstructed input tensor of shape B x L** |"
      ],
      "text/plain": [
       "---\n",
       "\n",
       "### AutoEncoderPL.forward\n",
       "\n",
       ">      AutoEncoderPL.forward (x:torch.Tensor)\n",
       "\n",
       "*Forward pass of the AutoEncoder model.*\n",
       "\n",
       "|    | **Type** | **Details** |\n",
       "| -- | -------- | ----------- |\n",
       "| x | Tensor | Tensor B x L |\n",
       "| **Returns** | **Tensor** | **Reconstructed input tensor of shape B x L** |"
      ]
     },
     "execution_count": null,
     "metadata": {},
     "output_type": "execute_result"
    }
   ],
   "source": [
    "show_doc(AutoEncoderPL.forward)"
   ]
  },
  {
   "cell_type": "code",
   "execution_count": null,
   "metadata": {},
   "outputs": [],
   "source": [
    "#| hide\n",
    "# def on_validation_batch_end(\n",
    "#         self, trainer, pl_module, outputs, batch, batch_idx, dataloader_idx, wadn\n",
    "#         ):\n",
    "#         # `outputs` comes from `LightningModule.validation_step`\n",
    "#         # which corresponds to our model predictions in this case\n",
    "        \n",
    "#         # Let's log 20 sample image predictions from the first batch\n",
    "#         if batch_idx == 0:\n",
    "#             n = 20\n",
    "#             x, y = batch\n",
    "#             images = [img for img in x[:n]]\n",
    "#             captions = [f'Ground Truth: {y_i} - Prediction: {y_pred}' \n",
    "#                 for y_i, y_pred in zip(y[:n], outputs[:n])]\n",
    "            \n",
    "            \n",
    "#             # Option 1: log images with `WandbLogger.log_image`\n",
    "#             wandb_logger.log_image(\n",
    "#                 key='sample_images', \n",
    "#                 images=images, \n",
    "#                 caption=captions)\n"
   ]
  },
  {
   "cell_type": "code",
   "execution_count": null,
   "metadata": {},
   "outputs": [
    {
     "name": "stdout",
     "output_type": "stream",
     "text": [
      "torch.Size([5, 784])\n"
     ]
    }
   ],
   "source": [
    "autoencoder_pl = AutoEncoderPL(a)\n",
    "b = torch.rand((5,28*28))\n",
    "y = autoencoder_pl(b)\n",
    "print(y.shape)"
   ]
  },
  {
   "cell_type": "code",
   "execution_count": null,
   "metadata": {},
   "outputs": [],
   "source": [
    "#| hide\n",
    "import nbdev; nbdev.nbdev_export()"
   ]
  },
  {
   "cell_type": "code",
   "execution_count": null,
   "metadata": {},
   "outputs": [],
   "source": []
  }
 ],
 "metadata": {
  "kernelspec": {
   "display_name": "python3",
   "language": "python",
   "name": "python3"
  }
 },
 "nbformat": 4,
 "nbformat_minor": 4
}
