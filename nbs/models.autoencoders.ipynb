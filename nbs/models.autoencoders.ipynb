{
 "cells": [
  {
   "attachments": {},
   "cell_type": "markdown",
   "metadata": {},
   "source": [
    "# Autoencoders\n",
    "\n",
    "> Collection of Autoencoder models"
   ]
  },
  {
   "cell_type": "code",
   "execution_count": null,
   "metadata": {},
   "outputs": [],
   "source": [
    "#| default_exp models.autoencoders"
   ]
  },
  {
   "cell_type": "code",
   "execution_count": null,
   "metadata": {},
   "outputs": [],
   "source": [
    "#| hide\n",
    "%load_ext autoreload\n",
    "%autoreload 2\n",
    "from nbdev.showdoc import *"
   ]
  },
  {
   "cell_type": "code",
   "execution_count": null,
   "metadata": {},
   "outputs": [],
   "source": [
    "#| export\n",
    "import torch.nn.functional as F\n",
    "import torch.nn as nn\n",
    "import torch\n",
    "from nimrod.modules import Encoder, Decoder\n",
    "from lightning import LightningModule\n",
    "from nimrod.image.datasets import MNISTDataset\n",
    "from torch.utils.data import DataLoader"
   ]
  },
  {
   "cell_type": "code",
   "execution_count": null,
   "metadata": {},
   "outputs": [],
   "source": [
    "#| export\n",
    "class AutoEncoder(nn.Module):\n",
    "    def __init__(self,\n",
    "        encoder:Encoder, # Encoder layer\n",
    "        decoder:Decoder # Decoder layer\n",
    "        ):\n",
    "        super().__init__()\n",
    "        self.encoder = encoder\n",
    "        self.decoder = decoder\n",
    "    \n",
    "    def forward(self,\n",
    "        x:torch.Tensor # Tensor B x L\n",
    "        )->torch.Tensor:\n",
    "        z = self.encoder(x)\n",
    "        x_hat = self.decoder(z)\n",
    "        return x_hat"
   ]
  },
  {
   "cell_type": "code",
   "execution_count": null,
   "metadata": {},
   "outputs": [],
   "source": [
    "enc = Encoder()\n",
    "dec = Decoder()\n",
    "a = AutoEncoder(enc, dec)\n",
    "batch = torch.rand((10, 28*28))\n",
    "y = a(batch)\n",
    "print(y.shape)"
   ]
  },
  {
   "cell_type": "code",
   "execution_count": null,
   "metadata": {},
   "outputs": [],
   "source": [
    "ds = MNISTDataset(data_dir='../data/image/')\n",
    "dl = DataLoader(ds)\n",
    "b = next(iter(dl))\n",
    "print(len(b), b[0].shape, b[1].shape)\n"
   ]
  },
  {
   "cell_type": "code",
   "execution_count": null,
   "metadata": {},
   "outputs": [],
   "source": [
    "#| export\n",
    "class AutoEncoderPL(LightningModule):\n",
    "    def __init__(self, autoencoder:AutoEncoder):\n",
    "        super().__init__()\n",
    "        # self.save_hyperparameters()\n",
    "        self.save_hyperparameters(ignore=['autoencoder'])\n",
    "        self.autoencoder = autoencoder\n",
    "        self.metric = torch.nn.MSELoss()\n",
    "\n",
    "    def forward(self, x):\n",
    "        return self.autoencoder(x)\n",
    "    \n",
    "    def predict_step(self, batch, batch_idx):\n",
    "        x, y = batch\n",
    "        x = x.view(x.size(0), -1)\n",
    "        with torch.no_grad():\n",
    "            return self.autoencoder(x)\n",
    "\n",
    "    def _shared_eval(self, batch, batch_idx, prefix, prog_bar=True, on_step=False, on_epoch=True, sync_dist=True):\n",
    "        x, _ = batch\n",
    "        x = x.view(x.size(0), -1) # flatten B x C x H x W to B x L (grey pic)\n",
    "        x_hat = self.autoencoder(x)\n",
    "        loss = self.metric(x_hat, x)\n",
    "        self.log(f\"{prefix}/loss\", loss, on_step=on_step, on_epoch=on_epoch, sync_dist=sync_dist)\n",
    "        return loss\n",
    "\n",
    "    def training_step(self, batch, batch_idx):\n",
    "        return self._shared_eval(batch, batch_idx, \"train\")\n",
    "    \n",
    "    def test_step(self, batch, batch_idx):\n",
    "        self._shared_eval(batch, batch_idx, \"test\")\n",
    "    \n",
    "    def validation_step(self, batch, batch_idx):\n",
    "        return self._shared_eval(batch, batch_idx, \"val\")\n",
    "\n",
    "    def configure_optimizers(self):\n",
    "        optimizer = torch.optim.Adam(self.parameters(), lr=1e-3)\n",
    "        return optimizer\n"
   ]
  },
  {
   "cell_type": "code",
   "execution_count": null,
   "metadata": {},
   "outputs": [],
   "source": [
    "#| hide\n",
    "# def on_validation_batch_end(\n",
    "#         self, trainer, pl_module, outputs, batch, batch_idx, dataloader_idx, wadn\n",
    "#         ):\n",
    "#         # `outputs` comes from `LightningModule.validation_step`\n",
    "#         # which corresponds to our model predictions in this case\n",
    "        \n",
    "#         # Let's log 20 sample image predictions from the first batch\n",
    "#         if batch_idx == 0:\n",
    "#             n = 20\n",
    "#             x, y = batch\n",
    "#             images = [img for img in x[:n]]\n",
    "#             captions = [f'Ground Truth: {y_i} - Prediction: {y_pred}' \n",
    "#                 for y_i, y_pred in zip(y[:n], outputs[:n])]\n",
    "            \n",
    "            \n",
    "#             # Option 1: log images with `WandbLogger.log_image`\n",
    "#             wandb_logger.log_image(\n",
    "#                 key='sample_images', \n",
    "#                 images=images, \n",
    "#                 caption=captions)\n"
   ]
  },
  {
   "cell_type": "code",
   "execution_count": null,
   "metadata": {},
   "outputs": [],
   "source": [
    "autoencoder_pl = AutoEncoderPL(a)\n",
    "b = torch.rand((5,28*28))\n",
    "y = autoencoder_pl(b)\n",
    "print(y.shape)"
   ]
  },
  {
   "cell_type": "code",
   "execution_count": null,
   "metadata": {},
   "outputs": [],
   "source": [
    "#| hide\n",
    "import nbdev; nbdev.nbdev_export()"
   ]
  },
  {
   "cell_type": "code",
   "execution_count": null,
   "metadata": {},
   "outputs": [],
   "source": []
  }
 ],
 "metadata": {
  "kernelspec": {
   "display_name": "python3",
   "language": "python",
   "name": "python3"
  }
 },
 "nbformat": 4,
 "nbformat_minor": 4
}
