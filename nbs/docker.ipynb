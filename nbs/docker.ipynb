{
 "cells": [
  {
   "attachments": {},
   "cell_type": "markdown",
   "metadata": {},
   "source": [
    "# Docker containerization\n",
    "\n",
    "> helper configs to run projects in cloud GPU instances"
   ]
  },
  {
   "cell_type": "code",
   "execution_count": 2,
   "metadata": {},
   "outputs": [
    {
     "name": "stdout",
     "output_type": "stream",
     "text": [
      "The autoreload extension is already loaded. To reload it, use:\n",
      "  %reload_ext autoreload\n"
     ]
    }
   ],
   "source": [
    "#| hide\n",
    "%load_ext autoreload\n",
    "%autoreload 2\n",
    "from nbdev.showdoc import *"
   ]
  },
  {
   "attachments": {},
   "cell_type": "markdown",
   "metadata": {},
   "source": [
    "## Base image\n",
    "\n",
    "Check ```.devcontainer/Dockerfile``` \n",
    "\n",
    "Installs basic dependencies for nimrod to work seamlessly\n",
    "\n",
    "### Build\n",
    "builds nimrod docker image with automatic tag ':latest'\n",
    "\n",
    "```bash\n",
    "make nimrod\n",
    "```\n",
    "\n",
    "### Push to dockerhub\n",
    "\n",
    "Upload your image to https://hub.docker.com for pulling from cloud instances\n",
    "\n",
    "```bash\n",
    "make push\n",
    "```\n",
    "\n",
    "### Run\n",
    "```bash\n",
    "image_name=\"nimrod\"\n",
    "./run_docker_locally.sh ${image_name}\n",
    "```"
   ]
  },
  {
   "cell_type": "markdown",
   "metadata": {},
   "source": [
    "## Docker compose\n",
    "\n",
    "check ```.devcontainer/docker-compose.yml```\n",
    "\n",
    "This defines port sharing, mounts volumes and read api secrets from file\n",
    "\n",
    "### Usage\n",
    "\n",
    "``` bash\n",
    "# start services\n",
    "docker-compose up\n",
    "# stop services\n",
    "docker-compose down\n",
    "```"
   ]
  },
  {
   "cell_type": "code",
   "execution_count": 3,
   "metadata": {},
   "outputs": [],
   "source": [
    "#| hide\n",
    "import nbdev; nbdev.nbdev_export()"
   ]
  },
  {
   "cell_type": "code",
   "execution_count": null,
   "metadata": {},
   "outputs": [],
   "source": []
  }
 ],
 "metadata": {
  "kernelspec": {
   "display_name": "python3",
   "language": "python",
   "name": "python3"
  },
  "language_info": {
   "codemirror_mode": {
    "name": "ipython",
    "version": 3
   },
   "file_extension": ".py",
   "mimetype": "text/x-python",
   "name": "python",
   "nbconvert_exporter": "python",
   "pygments_lexer": "ipython3",
   "version": "3.11.5"
  }
 },
 "nbformat": 4,
 "nbformat_minor": 4
}
