{
 "cells": [
  {
   "attachments": {},
   "cell_type": "markdown",
   "metadata": {},
   "source": [
    "# ResNet\n",
    "\n",
    "> Neural net model"
   ]
  },
  {
   "cell_type": "code",
   "execution_count": null,
   "metadata": {},
   "outputs": [],
   "source": [
    "#| default_exp models.resnet"
   ]
  },
  {
   "cell_type": "code",
   "execution_count": null,
   "metadata": {},
   "outputs": [],
   "source": [
    "#| hide\n",
    "%load_ext autoreload\n",
    "%autoreload 2\n",
    "from nbdev.showdoc import *"
   ]
  },
  {
   "cell_type": "code",
   "execution_count": null,
   "metadata": {},
   "outputs": [],
   "source": [
    "#| export\n",
    "import torch.nn as nn\n",
    "import torch.nn.functional as F\n",
    "import torch\n",
    "from torch_lr_finder import LRFinder\n",
    "from torchinfo import summary\n",
    "from torchviz import make_dot\n",
    "from torchvision.transforms import transforms\n",
    "\n",
    "\n",
    "from omegaconf import OmegaConf\n",
    "from hydra.utils import instantiate\n",
    "\n",
    "from matplotlib import pyplot as plt\n",
    "import math\n",
    "\n",
    "from nimrod.models.conv import ConvLayer\n",
    "from nimrod.utils import get_device, set_seed\n",
    "from nimrod.image.datasets import ImageDataModule\n",
    "\n",
    "from typing import List\n",
    "import logging\n",
    "from functools import partial\n"
   ]
  },
  {
   "cell_type": "code",
   "execution_count": null,
   "metadata": {},
   "outputs": [
    {
     "name": "stderr",
     "output_type": "stream",
     "text": [
      "Seed set to 42\n"
     ]
    }
   ],
   "source": [
    "#| export\n",
    "logger = logging.getLogger(__name__)\n",
    "set_seed()"
   ]
  },
  {
   "cell_type": "markdown",
   "metadata": {},
   "source": [
    "## Res Block"
   ]
  },
  {
   "cell_type": "code",
   "execution_count": null,
   "metadata": {},
   "outputs": [],
   "source": [
    "#| export \n",
    "class ResBlock(nn.Module):\n",
    "    def __init__(\n",
    "            self,\n",
    "            n_channels: int=3 # Number of input & output channels\n",
    "        ):\n",
    "\n",
    "        super().__init__()\n",
    "\n",
    "        layers = []\n",
    "        conv = partial(ConvLayer, n_channels, n_channels, stride=1, normalization=nn.BatchNorm2d)\n",
    "        layers += [conv(activation=nn.ReLU), conv(activation=None)]\n",
    "        self.layers = nn.Sequential(*layers)\n",
    "\n",
    "    def forward(self, x: torch.Tensor) -> torch.Tensor:\n",
    "        return x + self.layers(x)"
   ]
  },
  {
   "cell_type": "markdown",
   "metadata": {},
   "source": [
    "### Usage"
   ]
  },
  {
   "cell_type": "code",
   "execution_count": null,
   "metadata": {},
   "outputs": [
    {
     "name": "stdout",
     "output_type": "stream",
     "text": [
      "torch.Size([1, 3, 32, 32])\n"
     ]
    },
    {
     "data": {
      "text/plain": [
       "==========================================================================================\n",
       "Layer (type:depth-idx)                   Output Shape              Param #\n",
       "==========================================================================================\n",
       "ResBlock                                 [1, 3, 32, 32]            --\n",
       "├─Sequential: 1-1                        [1, 3, 32, 32]            --\n",
       "│    └─ConvLayer: 2-1                    [1, 3, 32, 32]            --\n",
       "│    │    └─Sequential: 3-1              [1, 3, 32, 32]            84\n",
       "│    └─ConvLayer: 2-2                    [1, 3, 32, 32]            --\n",
       "│    │    └─Sequential: 3-2              [1, 3, 32, 32]            84\n",
       "==========================================================================================\n",
       "Total params: 168\n",
       "Trainable params: 168\n",
       "Non-trainable params: 0\n",
       "Total mult-adds (Units.MEGABYTES): 0.17\n",
       "==========================================================================================\n",
       "Input size (MB): 0.01\n",
       "Forward/backward pass size (MB): 0.05\n",
       "Params size (MB): 0.00\n",
       "Estimated Total Size (MB): 0.06\n",
       "=========================================================================================="
      ]
     },
     "execution_count": null,
     "metadata": {},
     "output_type": "execute_result"
    }
   ],
   "source": [
    "model = ResBlock(3)\n",
    "x = torch.randn(1, 3, 32, 32)\n",
    "y = model(x)\n",
    "print(y.shape)\n",
    "summary(model=model, input_size=(1, 3, 32, 32), depth=3)"
   ]
  },
  {
   "cell_type": "markdown",
   "metadata": {},
   "source": [
    "## ResNet"
   ]
  },
  {
   "cell_type": "code",
   "execution_count": null,
   "metadata": {},
   "outputs": [],
   "source": [
    "#| export\n",
    "class ResNet(nn.Module):\n",
    "    def __init__(\n",
    "            self,\n",
    "            n_channels: List[int]=[1, 8, 16, 32,16], # Number of input & output channels\n",
    "            n_classes: int=10, # Number of classes\n",
    "        ):\n",
    "\n",
    "        super().__init__()\n",
    "\n",
    "        layers = []\n",
    "        conv = partial(ConvLayer, stride=2, normalization=nn.BatchNorm2d, activation=nn.ReLU)\n",
    "        for i in range(len(n_channels)-1):\n",
    "            layers += [conv(n_channels[i], n_channels[i+1])]\n",
    "            layers += [ResBlock(n_channels[i+1])]\n",
    "        layers.append(conv(n_channels[-1], n_classes))\n",
    "        layers.append(nn.Flatten())\n",
    "        self.layers = nn.Sequential(*layers)\n",
    "\n",
    "    def forward(self, x: torch.Tensor) -> torch.Tensor:\n",
    "        return self.layers(x)"
   ]
  },
  {
   "cell_type": "code",
   "execution_count": null,
   "metadata": {},
   "outputs": [
    {
     "name": "stderr",
     "output_type": "stream",
     "text": [
      "[23:00:08] WARNING - setting conv bias to False as Batchnorm is used\n",
      "[23:00:08] WARNING - setting conv bias to False as Batchnorm is used\n",
      "[23:00:08] WARNING - setting conv bias to False as Batchnorm is used\n",
      "[23:00:08] WARNING - setting conv bias to False as Batchnorm is used\n",
      "[23:00:08] WARNING - setting conv bias to False as Batchnorm is used\n"
     ]
    },
    {
     "name": "stdout",
     "output_type": "stream",
     "text": [
      "torch.Size([10, 10])\n"
     ]
    }
   ],
   "source": [
    "x = torch.randn(10, 1, 28, 28)\n",
    "model = ResNet()\n",
    "y = model(x)\n",
    "print(y.shape)"
   ]
  },
  {
   "cell_type": "markdown",
   "metadata": {},
   "source": [
    "## ResBlock2"
   ]
  },
  {
   "cell_type": "code",
   "execution_count": null,
   "metadata": {},
   "outputs": [],
   "source": [
    "#| export\n",
    "class ResBlock2(nn.Module):\n",
    "    \"\"\"ResNet basic block with optional downsampling.\n",
    "    This block implements the basic building block of ResNet architecture,\n",
    "    consisting of two convolutional layers with a residual connection.\n",
    "    The block can optionally downsample the input using strided convolution\n",
    "    and average pooling.\n",
    "\n",
    "    Parameters\n",
    "    ----------\n",
    "    in_channels : int\n",
    "        Number of input channels\n",
    "    out_channels : int\n",
    "        Number of output channels\n",
    "    stride : int, optional\n",
    "        Stride for the second convolution and pooling, by default 1\n",
    "    kernel_size : int, optional\n",
    "        Kernel size for the convolutions, by default 3\n",
    "    \n",
    "    Notes\n",
    "    -----\n",
    "    The block performs the following operations:\n",
    "    1. First convolution with kernel_size and stride=1\n",
    "    2. Second convolution with kernel_size and specified stride\n",
    "    3. Identity/1x1 conv on residual path depending on channel dimensions\n",
    "    4. Average pooling on residual path if stride > 1\n",
    "    5. ReLU activation after element-wise addition\n",
    "    The output dimensions are determined by the stride parameter:\n",
    "    - If stride=1: output has same spatial dimensions as input\n",
    "    - If stride=2: output spatial dimensions are halved\n",
    "    \"\"\"\n",
    "\n",
    "\n",
    "    def __init__(\n",
    "            self,\n",
    "            in_channels: int, # Number of input channels\n",
    "            out_channels: int, # Number of output channels\n",
    "            stride: int = 1, # Stride for the second convolution and pooling\n",
    "            kernel_size:int = 3 # Kernel size for the convolutions\n",
    "            ):\n",
    "        \n",
    "        super().__init__()\n",
    "\n",
    "        conv_ = nn.ModuleList()\n",
    "        conv_.append(ConvLayer(in_channels, out_channels, stride=1, kernel_size=kernel_size))\n",
    "        conv_.append(ConvLayer(out_channels, out_channels, stride=stride, activation=None))\n",
    "        self.conv = nn.Sequential(*conv_)\n",
    "\n",
    "\n",
    "        if in_channels == out_channels:\n",
    "            self.id = nn.Identity()\n",
    "        else:\n",
    "            self.id = ConvLayer(in_channels, out_channels, stride=1, kernel_size=1, activation=None)\n",
    "\n",
    "        if stride == 1:\n",
    "            self.pool = nn.Identity()\n",
    "        else:\n",
    "            self.pool = nn.AvgPool2d(2, ceil_mode=True)\n",
    "        self.act = nn.ReLU()\n",
    "        \n",
    "    def forward(self, x):\n",
    "        return self.act(self.conv(x) + self.id(self.pool(x)))"
   ]
  },
  {
   "cell_type": "code",
   "execution_count": null,
   "metadata": {},
   "outputs": [
    {
     "data": {
      "text/markdown": [
       "---\n",
       "\n",
       "### ResBlock2\n",
       "\n",
       ">      ResBlock2 (in_channels:int, out_channels:int, stride:int=1,\n",
       ">                 kernel_size:int=3)\n",
       "\n",
       "*ResNet basic block with optional downsampling.\n",
       "This block implements the basic building block of ResNet architecture,\n",
       "consisting of two convolutional layers with a residual connection.\n",
       "The block can optionally downsample the input using strided convolution\n",
       "and average pooling.*\n",
       "\n",
       "|    | **Type** | **Default** | **Details** |\n",
       "| -- | -------- | ----------- | ----------- |\n",
       "| in_channels | int |  | Number of input channels |\n",
       "| out_channels | int |  | Number of output channels |\n",
       "| stride | int | 1 | Stride for the second convolution and pooling |\n",
       "| kernel_size | int | 3 | Kernel size for the convolutions |"
      ],
      "text/plain": [
       "---\n",
       "\n",
       "### ResBlock2\n",
       "\n",
       ">      ResBlock2 (in_channels:int, out_channels:int, stride:int=1,\n",
       ">                 kernel_size:int=3)\n",
       "\n",
       "*ResNet basic block with optional downsampling.\n",
       "This block implements the basic building block of ResNet architecture,\n",
       "consisting of two convolutional layers with a residual connection.\n",
       "The block can optionally downsample the input using strided convolution\n",
       "and average pooling.*\n",
       "\n",
       "|    | **Type** | **Default** | **Details** |\n",
       "| -- | -------- | ----------- | ----------- |\n",
       "| in_channels | int |  | Number of input channels |\n",
       "| out_channels | int |  | Number of output channels |\n",
       "| stride | int | 1 | Stride for the second convolution and pooling |\n",
       "| kernel_size | int | 3 | Kernel size for the convolutions |"
      ]
     },
     "execution_count": null,
     "metadata": {},
     "output_type": "execute_result"
    }
   ],
   "source": [
    "show_doc(ResBlock2)"
   ]
  },
  {
   "attachments": {},
   "cell_type": "markdown",
   "metadata": {},
   "source": [
    "### Usage"
   ]
  },
  {
   "cell_type": "code",
   "execution_count": null,
   "metadata": {},
   "outputs": [
    {
     "name": "stderr",
     "output_type": "stream",
     "text": [
      "[22:39:33] WARNING - setting conv bias to False as Batchnorm is used\n",
      "[22:39:33] WARNING - setting conv bias to False as Batchnorm is used\n",
      "[22:39:33] WARNING - setting conv bias to False as Batchnorm is used\n"
     ]
    },
    {
     "name": "stdout",
     "output_type": "stream",
     "text": [
      "torch.Size([5, 1, 28, 28])\n"
     ]
    },
    {
     "data": {
      "text/plain": [
       "torch.Size([5, 8, 28, 28])"
      ]
     },
     "execution_count": null,
     "metadata": {},
     "output_type": "execute_result"
    }
   ],
   "source": [
    "resblock = ResBlock2(1, 8)\n",
    "x = torch.rand(5, 1, 28, 28)\n",
    "print(x.shape)\n",
    "resblock(x).shape"
   ]
  },
  {
   "cell_type": "markdown",
   "metadata": {},
   "source": [
    "## ResNet v2"
   ]
  },
  {
   "cell_type": "code",
   "execution_count": null,
   "metadata": {},
   "outputs": [],
   "source": [
    "#| export \n",
    "class ResNet2(nn.Module):\n",
    "    \"\"\"A simple implementation of a ResNet-like neural network.\n",
    "\n",
    "    Parameters\n",
    "    ----------\n",
    "    n_features : List[int], optional\n",
    "        A list of integers representing the number of features (channels) at each layer. \n",
    "        Default is [1, 8, 16, 32, 64, 128, 256].\n",
    "    num_classes : int, optional\n",
    "        The number of output classes. Default is 10.\n",
    "    \"\"\"\n",
    "\n",
    "    def __init__(\n",
    "            self,\n",
    "            n_features:List[int]=[1, 8, 16, 32, 64, 128, 256], # channel/feature expansion\n",
    "            num_classes:int=10, # num_classes\n",
    "        ):\n",
    "\n",
    "        super().__init__()\n",
    "\n",
    "        layers = nn.ModuleList()\n",
    "        layers.append(ResBlock2(n_features[0], n_features[1], stride=1))\n",
    "\n",
    "        for i in range(1, len(n_features)-1):\n",
    "            res = ResBlock2(n_features[i], n_features[i+1], stride=2)\n",
    "            layers.append(res)\n",
    "\n",
    "        layers += [nn.Flatten(), nn.Linear(n_features[-1], num_classes, bias=False), nn.BatchNorm1d(num_classes)]\n",
    "\n",
    "\n",
    "        self.nnet = nn.Sequential(*layers)\n",
    "\n",
    "    def forward(self, x:torch.Tensor)->torch.Tensor:\n",
    "        return self.nnet(x)\n"
   ]
  },
  {
   "cell_type": "code",
   "execution_count": null,
   "metadata": {},
   "outputs": [
    {
     "data": {
      "text/markdown": [
       "---\n",
       "\n",
       "### ResNet\n",
       "\n",
       ">      ResNet (n_features:List[int]=[1, 8, 16, 32, 64, 128, 256],\n",
       ">              num_classes:int=10)\n",
       "\n",
       "*A simple implementation of a ResNet-like neural network.*\n",
       "\n",
       "|    | **Type** | **Default** | **Details** |\n",
       "| -- | -------- | ----------- | ----------- |\n",
       "| n_features | List | [1, 8, 16, 32, 64, 128, 256] | channel/feature expansion |\n",
       "| num_classes | int | 10 | num_classes |"
      ],
      "text/plain": [
       "---\n",
       "\n",
       "### ResNet\n",
       "\n",
       ">      ResNet (n_features:List[int]=[1, 8, 16, 32, 64, 128, 256],\n",
       ">              num_classes:int=10)\n",
       "\n",
       "*A simple implementation of a ResNet-like neural network.*\n",
       "\n",
       "|    | **Type** | **Default** | **Details** |\n",
       "| -- | -------- | ----------- | ----------- |\n",
       "| n_features | List | [1, 8, 16, 32, 64, 128, 256] | channel/feature expansion |\n",
       "| num_classes | int | 10 | num_classes |"
      ]
     },
     "execution_count": null,
     "metadata": {},
     "output_type": "execute_result"
    }
   ],
   "source": [
    "show_doc(ResNet2)"
   ]
  },
  {
   "cell_type": "markdown",
   "metadata": {},
   "source": [
    "### Usage"
   ]
  },
  {
   "cell_type": "code",
   "execution_count": null,
   "metadata": {},
   "outputs": [
    {
     "name": "stderr",
     "output_type": "stream",
     "text": [
      "[00:35:14] WARNING - setting conv bias to False as Batchnorm is used\n",
      "[00:35:14] WARNING - setting conv bias to False as Batchnorm is used\n",
      "[00:35:14] WARNING - setting conv bias to False as Batchnorm is used\n",
      "[00:35:14] WARNING - setting conv bias to False as Batchnorm is used\n",
      "[00:35:14] WARNING - setting conv bias to False as Batchnorm is used\n",
      "[00:35:14] WARNING - setting conv bias to False as Batchnorm is used\n",
      "[00:35:14] WARNING - setting conv bias to False as Batchnorm is used\n",
      "[00:35:14] WARNING - setting conv bias to False as Batchnorm is used\n",
      "[00:35:14] WARNING - setting conv bias to False as Batchnorm is used\n",
      "[00:35:14] WARNING - setting conv bias to False as Batchnorm is used\n",
      "[00:35:14] WARNING - setting conv bias to False as Batchnorm is used\n",
      "[00:35:14] WARNING - setting conv bias to False as Batchnorm is used\n",
      "[00:35:14] WARNING - setting conv bias to False as Batchnorm is used\n",
      "[00:35:14] WARNING - setting conv bias to False as Batchnorm is used\n",
      "[00:35:14] WARNING - setting conv bias to False as Batchnorm is used\n",
      "[00:35:14] WARNING - setting conv bias to False as Batchnorm is used\n",
      "[00:35:14] WARNING - setting conv bias to False as Batchnorm is used\n",
      "[00:35:14] WARNING - setting conv bias to False as Batchnorm is used\n"
     ]
    },
    {
     "data": {
      "text/plain": [
       "torch.Size([5, 10])"
      ]
     },
     "execution_count": null,
     "metadata": {},
     "output_type": "execute_result"
    }
   ],
   "source": [
    "x = torch.rand(5, 1, 28, 28)\n",
    "model = ResNet2()\n",
    "model(x).shape"
   ]
  },
  {
   "cell_type": "markdown",
   "metadata": {},
   "source": [
    "## Training"
   ]
  },
  {
   "cell_type": "code",
   "execution_count": null,
   "metadata": {},
   "outputs": [
    {
     "name": "stderr",
     "output_type": "stream",
     "text": [
      "[00:01:57] INFO - Init ImageDataModule for frgfm/imagenette\n"
     ]
    },
    {
     "name": "stderr",
     "output_type": "stream",
     "text": [
      "[00:03:44] INFO - split train into train/val [0.8, 0.2]\n",
      "[00:03:44] INFO - train: 7575 val: 1894, test: 3925\n"
     ]
    },
    {
     "name": "stdout",
     "output_type": "stream",
     "text": [
      "X (C,H,W):  torch.Size([3, 32, 32]) y:  2\n"
     ]
    },
    {
     "name": "stderr",
     "output_type": "stream",
     "text": [
      "[00:03:46] WARNING - Skipping sample at index 141 because doesn't have 3 channels\n",
      "[00:03:46] WARNING - Skipping sample at index 919 because doesn't have 3 channels\n",
      "[00:03:46] WARNING - Skipping sample at index 559 because doesn't have 3 channels\n",
      "[00:03:46] WARNING - Skipping sample at index 1170 because doesn't have 3 channels\n",
      "[00:03:46] WARNING - Skipping sample at index 1218 because doesn't have 3 channels\n",
      "[00:03:46] WARNING - Skipping sample at index 1172 because doesn't have 3 channels\n",
      "[00:03:46] WARNING - Skipping sample at index 860 because doesn't have 3 channels\n",
      "[00:03:46] WARNING - Skipping sample at index 165 because doesn't have 3 channels\n",
      "[00:03:46] WARNING - Skipping sample at index 51 because doesn't have 3 channels\n",
      "[00:03:46] WARNING - Skipping sample at index 758 because doesn't have 3 channels\n",
      "[00:03:46] WARNING - Skipping sample at index 1231 because doesn't have 3 channels\n",
      "[00:03:46] WARNING - Skipping sample at index 1188 because doesn't have 3 channels\n",
      "[00:03:46] WARNING - Skipping sample at index 63 because doesn't have 3 channels\n",
      "[00:03:46] WARNING - Skipping sample at index 1244 because doesn't have 3 channels\n",
      "[00:03:46] WARNING - Skipping sample at index 1145 because doesn't have 3 channels\n",
      "[00:03:46] WARNING - Skipping sample at index 1472 because doesn't have 3 channels\n",
      "[00:03:46] WARNING - Skipping sample at index 1687 because doesn't have 3 channels\n",
      "[00:03:46] WARNING - Skipping sample at index 1148 because doesn't have 3 channels\n",
      "[00:03:46] WARNING - Skipping sample at index 2060 because doesn't have 3 channels\n",
      "[00:03:46] WARNING - Skipping sample at index 2308 because doesn't have 3 channels\n",
      "[00:03:46] WARNING - Skipping sample at index 1357 because doesn't have 3 channels\n",
      "[00:03:46] WARNING - Skipping sample at index 1297 because doesn't have 3 channels\n",
      "[00:03:46] WARNING - Skipping sample at index 1552 because doesn't have 3 channels\n",
      "[00:03:46] WARNING - Skipping sample at index 2081 because doesn't have 3 channels\n",
      "[00:03:46] WARNING - Skipping sample at index 1272 because doesn't have 3 channels\n",
      "[00:03:46] WARNING - Skipping sample at index 2082 because doesn't have 3 channels\n",
      "[00:03:46] WARNING - Skipping sample at index 2125 because doesn't have 3 channels\n",
      "[00:03:46] WARNING - Skipping sample at index 2082 because doesn't have 3 channels\n",
      "[00:03:46] WARNING - Skipping sample at index 2085 because doesn't have 3 channels\n",
      "[00:03:46] WARNING - Skipping sample at index 1441 because doesn't have 3 channels\n",
      "[00:03:46] WARNING - Skipping sample at index 1949 because doesn't have 3 channels\n",
      "[00:03:46] WARNING - Skipping sample at index 2142 because doesn't have 3 channels\n",
      "[00:03:46] WARNING - Skipping sample at index 2034 because doesn't have 3 channels\n",
      "[00:03:46] WARNING - Skipping sample at index 1454 because doesn't have 3 channels\n",
      "[00:03:46] WARNING - Skipping sample at index 1784 because doesn't have 3 channels\n",
      "[00:03:46] WARNING - Skipping sample at index 2107 because doesn't have 3 channels\n",
      "[00:03:46] WARNING - Skipping sample at index 2151 because doesn't have 3 channels\n",
      "[00:03:46] WARNING - Skipping sample at index 2152 because doesn't have 3 channels\n",
      "[00:03:46] WARNING - Skipping sample at index 1465 because doesn't have 3 channels\n",
      "[00:03:46] WARNING - Skipping sample at index 2152 because doesn't have 3 channels\n",
      "[00:03:46] WARNING - Skipping sample at index 2227 because doesn't have 3 channels\n"
     ]
    },
    {
     "name": "stdout",
     "output_type": "stream",
     "text": [
      "XX (B,C,H,W):  torch.Size([64, 3, 32, 32]) YY:  torch.Size([64])\n",
      "7575\n",
      "118\n"
     ]
    }
   ],
   "source": [
    "#| notest\n",
    "\n",
    "BATCH_SIZE = 64\n",
    "# data module config\n",
    "# cfg = OmegaConf.load('../config/data/image/tiny_imagenet.yaml')\n",
    "# datamodule = instantiate(cfg, batch_size=BATCH_SIZE, num_workers=20)\n",
    "datamodule = ImageDataModule(\n",
    "    'frgfm/imagenette','160px',\n",
    "    transforms=transforms.Compose([transforms.ToTensor(),transforms.Resize((32, 32))]),\n",
    "    data_dir='../data/image',\n",
    "    train_val_split=[0.8, 0.2],\n",
    "    batch_size = BATCH_SIZE,\n",
    "    num_workers = 20, # main process\n",
    "    pin_memory= False,\n",
    "    persistent_workers=False,\n",
    "    exclude_grey_scale = True\n",
    ")\n",
    "\n",
    "datamodule.prepare_data()\n",
    "datamodule.setup()\n",
    "\n",
    "# one data point \n",
    "X,y = datamodule.test_ds[0]\n",
    "print(\"X (C,H,W): \", X.shape, \"y: \", y)\n",
    "\n",
    "# a batch of data via dataloader\n",
    "XX,YY = next(iter(datamodule.test_dataloader()))\n",
    "(B, C, H, W) = XX.shape\n",
    "print(\"XX (B,C,H,W): \", XX.shape, \"YY: \", YY.shape)\n",
    "\n",
    "print(len(datamodule.train_ds))\n",
    "print(len(datamodule.train_ds) // BATCH_SIZE)"
   ]
  },
  {
   "cell_type": "code",
   "execution_count": null,
   "metadata": {},
   "outputs": [
    {
     "name": "stderr",
     "output_type": "stream",
     "text": [
      "[00:04:30] INFO - Using device: cuda\n"
     ]
    },
    {
     "ename": "TypeError",
     "evalue": "ResNet.__init__() got an unexpected keyword argument 'num_classes'",
     "output_type": "error",
     "traceback": [
      "\u001b[0;31m---------------------------------------------------------------------------\u001b[0m",
      "\u001b[0;31mTypeError\u001b[0m                                 Traceback (most recent call last)",
      "Cell \u001b[0;32mIn[140], line 4\u001b[0m\n\u001b[1;32m      1\u001b[0m \u001b[38;5;66;03m#| notest\u001b[39;00m\n\u001b[1;32m      2\u001b[0m device \u001b[38;5;241m=\u001b[39m get_device()\n\u001b[0;32m----> 4\u001b[0m model \u001b[38;5;241m=\u001b[39m ResNet(n_channels\u001b[38;5;241m=\u001b[39m[C, \u001b[38;5;241m8\u001b[39m, \u001b[38;5;241m16\u001b[39m, \u001b[38;5;241m32\u001b[39m,\u001b[38;5;241m16\u001b[39m], num_classes\u001b[38;5;241m=\u001b[39m\u001b[38;5;241m10\u001b[39m)\u001b[38;5;241m.\u001b[39mto(device)\n\u001b[1;32m      6\u001b[0m criterion \u001b[38;5;241m=\u001b[39m nn\u001b[38;5;241m.\u001b[39mCrossEntropyLoss()    \n\u001b[1;32m      7\u001b[0m optimizer \u001b[38;5;241m=\u001b[39m torch\u001b[38;5;241m.\u001b[39moptim\u001b[38;5;241m.\u001b[39mAdam(model\u001b[38;5;241m.\u001b[39mparameters(), lr\u001b[38;5;241m=\u001b[39m\u001b[38;5;241m1e-4\u001b[39m) \u001b[38;5;66;03m#, weight_decay=1e-5)\u001b[39;00m\n",
      "\u001b[0;31mTypeError\u001b[0m: ResNet.__init__() got an unexpected keyword argument 'num_classes'"
     ]
    }
   ],
   "source": [
    "#| notest\n",
    "device = get_device()\n",
    "\n",
    "model = ResNet(\n",
    "    n_channels=[C, 8, 16, 32,16],\n",
    "    num_classes=10\n",
    "    ).to(device)\n",
    "\n",
    "criterion = nn.CrossEntropyLoss()    \n",
    "optimizer = torch.optim.Adam(model.parameters(), lr=1e-4) #, weight_decay=1e-5)\n",
    "    \n",
    "# Initialize LR Finder\n",
    "lr_finder = LRFinder(model, optimizer, criterion, device=device)\n",
    "    \n",
    "# Run LR range test\n",
    "lr_finder.range_test(\n",
    "    datamodule.train_dataloader(),\n",
    "    start_lr=1e-5,      # Extremely small starting learning rate\n",
    "    end_lr=10,          # Large ending learning rate\n",
    "    num_iter=100,   # Number of iterations to test\n",
    "    smooth_f=0.05,   # Smoothing factor for the loss\n",
    "    diverge_th=5, \n",
    ")\n",
    "    \n",
    "# Plot the learning rate vs loss\n",
    "_, lr_found = lr_finder.plot(log_lr=True)\n",
    "print('Suggested lr:', lr_found)\n",
    "    \n",
    "lr_finder.reset()\n",
    "    "
   ]
  },
  {
   "cell_type": "code",
   "execution_count": null,
   "metadata": {},
   "outputs": [
    {
     "name": "stdout",
     "output_type": "stream",
     "text": [
      "size training set: 48000, bs: 512, steps/epoch: 93, total steps: 465\n",
      "CPU times: user 0 ns, sys: 2 μs, total: 2 μs\n",
      "Wall time: 5.72 μs\n"
     ]
    },
    {
     "name": "stdout",
     "output_type": "stream",
     "text": [
      "Loss 2.5383, Current LR: 0.0002659163, Step: 1/465\n",
      "Epoch 1: Last training Loss 0.4502, Last Eval loss 0.4371 Accuracy = 95.12% Best Accuracy: 95.31\n",
      "Loss 0.4548, Current LR: 0.0021199485, Step: 95/465\n",
      "Epoch 2: Last training Loss 0.2351, Last Eval loss 0.2576 Accuracy = 97.52% Best Accuracy: 98.05\n",
      "Loss 0.1925, Current LR: 0.0025014400, Step: 189/465\n",
      "Epoch 3: Last training Loss 0.1732, Last Eval loss 0.1636 Accuracy = 98.24% Best Accuracy: 98.44\n",
      "Loss 0.1526, Current LR: 0.0015607708, Step: 283/465\n",
      "Epoch 4: Last training Loss 0.1429, Last Eval loss 0.1404 Accuracy = 98.58% Best Accuracy: 98.65\n",
      "Loss 0.1202, Current LR: 0.0004413380, Step: 377/465\n",
      "Reached total steps: 465/465\n",
      "Epoch 5: Last training Loss 0.1163, Last Eval loss 0.1297 Accuracy = 98.70% Best Accuracy: 98.78\n"
     ]
    },
    {
     "data": {
      "text/plain": [
       "[<matplotlib.lines.Line2D at 0x7fceae6a1150>]"
      ]
     },
     "execution_count": 125,
     "metadata": {},
     "output_type": "execute_result"
    },
    {
     "data": {
      "image/png": "[encoded data removed]",
      "text/plain": [
       "<Figure size 640x480 with 2 Axes>"
      ]
     },
     "metadata": {},
     "output_type": "display_data"
    }
   ],
   "source": [
    "#| notest\n",
    "\n",
    "# # data module config\n",
    "# cfg_dm = OmegaConf.load('../config/data/image/fashion_mnist.yaml')\n",
    "# cfg_dm.batch_size = 512\n",
    "# datamodule = instantiate(cfg_dm)\n",
    "# datamodule.prepare_data()\n",
    "# datamodule.setup()\n",
    "\n",
    "# device = 'cpu'\n",
    "# print(device)\n",
    "# cfg_mdl = OmegaConf.load('../config/model/image/convnet.yaml')\n",
    "# convnet = instantiate(cfg_mdl.batchnorm)\n",
    "# model = convnet.to(device)\n",
    "\n",
    "N_EPOCHS = 5\n",
    "\n",
    "# lr_found = 7e-3 # from lr finder\n",
    "\n",
    "# criterion = nn.CrossEntropyLoss()\n",
    "# optimizer = torch.optim.Adam(model.parameters(), lr=1e-4)\n",
    "steps_per_epoch = len(datamodule.train_ds) // BATCH_SIZE\n",
    "total_steps = steps_per_epoch* N_EPOCHS\n",
    "print(f\"size training set: {len(datamodule.train_ds)}, bs: {BATCH_SIZE}, steps/epoch: {steps_per_epoch}, total steps: {total_steps}\")\n",
    "# scheduler = torch.optim.lr_scheduler.OneCycleLR(optimizer, max_lr=0.01, steps_per_epoch=steps_per_epochs, epochs=1)\n",
    "\n",
    "scheduler = torch.optim.lr_scheduler.OneCycleLR(\n",
    "        optimizer,\n",
    "        max_lr=lr_found,  # Peak learning rate\n",
    "        # total_steps=len(datamodule.train_ds) * N_EPOCHS,  # Total training iterations\n",
    "        steps_per_epoch=steps_per_epoch,\n",
    "        epochs=N_EPOCHS,\n",
    "        pct_start=0.3,  # 30% of training increasing LR, 70% decreasing\n",
    "        anneal_strategy='cos',  # Cosine annealing\n",
    "        div_factor=10,  # Initial lr = max_lr / div_factor\n",
    "        # final_div_factor=1e4,\n",
    "        three_phase=False  # Two phase LR schedule (increase then decrease)\n",
    "    )\n",
    "\n",
    "################################\n",
    "%time\n",
    "\n",
    "lrs = []\n",
    "current_step = 0\n",
    "train_loss_history = []\n",
    "eval_loss_history = []\n",
    "avg_train_loss_hist = []\n",
    "avg_eval_loss_hist = []\n",
    "max_acc = 0\n",
    "\n",
    "for epoch in range(N_EPOCHS):\n",
    "    i = 0\n",
    "    model.train()\n",
    "    for images, labels in datamodule.train_dataloader():\n",
    "        if current_step >= total_steps:\n",
    "            print(f\"Reached total steps: {current_step}/{total_steps}\")\n",
    "            break\n",
    "        optimizer.zero_grad()\n",
    "        images, labels = images.to(device), labels.to(device)\n",
    "        outputs = model(images)\n",
    "        loss = criterion(outputs, labels)        \n",
    "        loss.backward()\n",
    "        optimizer.step()\n",
    "        scheduler.step()    \n",
    "        current_step += 1\n",
    "        train_loss_history.append(loss.item())\n",
    "        # current_lr = scheduler.get_last_lr()[0]\n",
    "        current_lr = optimizer.param_groups[0]['lr']\n",
    "        lrs.append(current_lr)\n",
    "        if not (i % 100):\n",
    "            print(f\"Loss {loss.item():.4f}, Current LR: {current_lr:.10f}, Step: {current_step}/{total_steps}\")\n",
    "        i += 1\n",
    "\n",
    "    model.eval()\n",
    "    with torch.no_grad():\n",
    "        correct = 0\n",
    "        total = 0\n",
    "        for images, labels in datamodule.val_dataloader():\n",
    "            # model expects input (B,H*W)\n",
    "            images = images.to(device)\n",
    "            labels = labels.to(device)\n",
    "            # Pass the input through the model\n",
    "            outputs = model(images)\n",
    "            # eval loss\n",
    "            eval_loss = criterion(outputs, labels)\n",
    "            eval_loss_history.append(eval_loss.item())\n",
    "            # Get the predicted labels\n",
    "            _, predicted = torch.max(outputs.data, 1)\n",
    "\n",
    "            # Update the total and correct counts\n",
    "            total += labels.size(0)\n",
    "            correct += (predicted == labels).sum()\n",
    "            acc = 100 * correct / total\n",
    "            if acc > max_acc:\n",
    "                max_acc = acc\n",
    "\n",
    "        # Print the accuracy\n",
    "    print(f\"Epoch {epoch + 1}: Last training Loss {loss.item():.4f}, Last Eval loss {eval_loss.item():.4f} Accuracy = {100 * correct / total:.2f}% Best Accuracy: {max_acc:.2f}\")\n",
    "    # print(f'Current LR: {optimizer.param_groups[0][\"lr\"]:.5f}')\n",
    "\n",
    "###################\n",
    "plt.figure(1)\n",
    "plt.subplot(211)\n",
    "plt.ylabel('loss')\n",
    "plt.xlabel('step')\n",
    "plt.plot(train_loss_history)\n",
    "plt.plot(eval_loss_history)\n",
    "plt.subplot(212)\n",
    "plt.ylabel('lr')\n",
    "plt.xlabel('step')\n",
    "plt.plot(lrs)\n",
    "\n"
   ]
  },
  {
   "cell_type": "markdown",
   "metadata": {},
   "source": [
    "## Upsampling"
   ]
  },
  {
   "cell_type": "code",
   "execution_count": null,
   "metadata": {},
   "outputs": [],
   "source": [
    "#| export\n",
    "\n",
    "class UpSample(nn.Module):\n",
    "    def __init__(\n",
    "            self,\n",
    "            in_channels:int, # Number of input channels\n",
    "            out_channels:int, # Number of output channels\n",
    "            scale:int=2, # Scale factor for upsampling\n",
    "    ):\n",
    "    \n",
    "        super().__init__()\n",
    "        layers = []\n",
    "        for i in range(int(math.log(scale, 2))):\n",
    "            layers += [ConvLayer(in_channels, out_channels*4, stride=1, normalization=None, activation=None),nn.PixelShuffle(2)]\n",
    "        \n",
    "        self.layers = nn.Sequential(*layers)               \n",
    "\n",
    "\n",
    "    def forward(self, x:torch.Tensor)->torch.Tensor:\n",
    "        return self.layers(x)"
   ]
  },
  {
   "cell_type": "code",
   "execution_count": null,
   "metadata": {},
   "outputs": [
    {
     "name": "stdout",
     "output_type": "stream",
     "text": [
      "torch.Size([1, 1, 64, 64])\n"
     ]
    },
    {
     "data": {
      "text/plain": [
       "<matplotlib.image.AxesImage>"
      ]
     },
     "execution_count": null,
     "metadata": {},
     "output_type": "execute_result"
    },
    {
     "data": {
      "image/png": "[encoded data removed]",
      "text/plain": [
       "<Figure size 640x480 with 2 Axes>"
      ]
     },
     "metadata": {},
     "output_type": "display_data"
    }
   ],
   "source": [
    "x = torch.rand(1, 1, 32, 32)\n",
    "model = UpSample(1, 1)\n",
    "y = model(x)\n",
    "print(y.shape)\n",
    "fig, ax  = plt.subplots(1, 2)\n",
    "ax[0].imshow(x[0].permute(1, 2, 0), cmap='gray')\n",
    "ax[1].imshow(y[0].detach().permute(1, 2, 0), cmap='gray')"
   ]
  },
  {
   "cell_type": "code",
   "execution_count": null,
   "metadata": {},
   "outputs": [
    {
     "data": {
      "image/svg+xml": [
       "<?xml version=\"1.0\" encoding=\"UTF-8\" standalone=\"no\"?>\n",
       "<!DOCTYPE svg PUBLIC \"-//W3C//DTD SVG 1.1//EN\"\n",
       " \"http://www.w3.org/Graphics/SVG/1.1/DTD/svg11.dtd\">\n",
       "<!-- Generated by graphviz version 9.0.0 (20230911.1827)\n",
       " -->\n",
       "<!-- Pages: 1 -->\n",
       "<svg width=\"462pt\" height=\"461pt\"\n",
       " viewBox=\"0.00 0.00 462.00 460.50\" xmlns=\"http://www.w3.org/2000/svg\" xmlns:xlink=\"http://www.w3.org/1999/xlink\">\n",
       "<g id=\"graph0\" class=\"graph\" transform=\"scale(1 1) rotate(0) translate(4 456.5)\">\n",
       "<polygon fill=\"white\" stroke=\"none\" points=\"-4,4 -4,-456.5 458,-456.5 458,4 -4,4\"/>\n",
       "<!-- 140519138711248 -->\n",
       "<g id=\"node1\" class=\"node\">\n",
       "<title>140519138711248</title>\n",
       "<polygon fill=\"#caff70\" stroke=\"black\" points=\"124,-34.25 18,-34.25 18,0 124,0 124,-34.25\"/>\n",
       "<text text-anchor=\"middle\" x=\"71\" y=\"-8.75\" font-family=\"monospace\" font-size=\"10.00\"> (1, 1, 64, 64)</text>\n",
       "</g>\n",
       "<!-- 140519136056496 -->\n",
       "<g id=\"node2\" class=\"node\">\n",
       "<title>140519136056496</title>\n",
       "<polygon fill=\"lightgrey\" stroke=\"black\" points=\"142,-121 0,-121 0,-70.25 142,-70.25 142,-121\"/>\n",
       "<text text-anchor=\"middle\" x=\"71\" y=\"-107.5\" font-family=\"monospace\" font-size=\"10.00\">PixelShuffleBackward0</text>\n",
       "<text text-anchor=\"middle\" x=\"71\" y=\"-93.25\" font-family=\"monospace\" font-size=\"10.00\">&#45;&#45;&#45;&#45;&#45;&#45;&#45;&#45;&#45;&#45;&#45;&#45;&#45;&#45;&#45;&#45;&#45;&#45;&#45;&#45;&#45;</text>\n",
       "<text text-anchor=\"middle\" x=\"71\" y=\"-79\" font-family=\"monospace\" font-size=\"10.00\">upscale_factor: 2</text>\n",
       "</g>\n",
       "<!-- 140519136056496&#45;&gt;140519138711248 -->\n",
       "<g id=\"edge8\" class=\"edge\">\n",
       "<title>140519136056496&#45;&gt;140519138711248</title>\n",
       "<path fill=\"none\" stroke=\"black\" d=\"M71,-70C71,-62.34 71,-53.85 71,-45.98\"/>\n",
       "<polygon fill=\"black\" stroke=\"black\" points=\"74.5,-46.24 71,-36.24 67.5,-46.24 74.5,-46.24\"/>\n",
       "</g>\n",
       "<!-- 140519136055584 -->\n",
       "<g id=\"node3\" class=\"node\">\n",
       "<title>140519136055584</title>\n",
       "<polygon fill=\"lightgrey\" stroke=\"black\" points=\"394,-321.75 174,-321.75 174,-157 394,-157 394,-321.75\"/>\n",
       "<text text-anchor=\"middle\" x=\"284\" y=\"-308.25\" font-family=\"monospace\" font-size=\"10.00\">ConvolutionBackward0</text>\n",
       "<text text-anchor=\"middle\" x=\"284\" y=\"-294\" font-family=\"monospace\" font-size=\"10.00\">&#45;&#45;&#45;&#45;&#45;&#45;&#45;&#45;&#45;&#45;&#45;&#45;&#45;&#45;&#45;&#45;&#45;&#45;&#45;&#45;&#45;&#45;&#45;&#45;&#45;&#45;&#45;&#45;&#45;&#45;&#45;&#45;&#45;&#45;</text>\n",
       "<text text-anchor=\"middle\" x=\"284\" y=\"-279.75\" font-family=\"monospace\" font-size=\"10.00\">bias_sym_sizes_opt: &#160;&#160;&#160;&#160;&#160;&#160;&#160;&#160;&#160;&#160;(4,)</text>\n",
       "<text text-anchor=\"middle\" x=\"284\" y=\"-265.5\" font-family=\"monospace\" font-size=\"10.00\">dilation &#160;&#160;&#160;&#160;&#160;&#160;&#160;&#160;&#160;: &#160;&#160;&#160;&#160;&#160;&#160;&#160;&#160;(1, 1)</text>\n",
       "<text text-anchor=\"middle\" x=\"284\" y=\"-251.25\" font-family=\"monospace\" font-size=\"10.00\">groups &#160;&#160;&#160;&#160;&#160;&#160;&#160;&#160;&#160;&#160;&#160;: &#160;&#160;&#160;&#160;&#160;&#160;&#160;&#160;&#160;&#160;&#160;&#160;&#160;1</text>\n",
       "<text text-anchor=\"middle\" x=\"284\" y=\"-237\" font-family=\"monospace\" font-size=\"10.00\">input &#160;&#160;&#160;&#160;&#160;&#160;&#160;&#160;&#160;&#160;&#160;&#160;: [saved tensor]</text>\n",
       "<text text-anchor=\"middle\" x=\"284\" y=\"-222.75\" font-family=\"monospace\" font-size=\"10.00\">output_padding &#160;&#160;&#160;: &#160;&#160;&#160;&#160;&#160;&#160;&#160;&#160;(0, 0)</text>\n",
       "<text text-anchor=\"middle\" x=\"284\" y=\"-208.5\" font-family=\"monospace\" font-size=\"10.00\">padding &#160;&#160;&#160;&#160;&#160;&#160;&#160;&#160;&#160;&#160;: &#160;&#160;&#160;&#160;&#160;&#160;&#160;&#160;(1, 1)</text>\n",
       "<text text-anchor=\"middle\" x=\"284\" y=\"-194.25\" font-family=\"monospace\" font-size=\"10.00\">stride &#160;&#160;&#160;&#160;&#160;&#160;&#160;&#160;&#160;&#160;&#160;: &#160;&#160;&#160;&#160;&#160;&#160;&#160;&#160;(1, 1)</text>\n",
       "<text text-anchor=\"middle\" x=\"284\" y=\"-180\" font-family=\"monospace\" font-size=\"10.00\">transposed &#160;&#160;&#160;&#160;&#160;&#160;&#160;: &#160;&#160;&#160;&#160;&#160;&#160;&#160;&#160;&#160;False</text>\n",
       "<text text-anchor=\"middle\" x=\"284\" y=\"-165.75\" font-family=\"monospace\" font-size=\"10.00\">weight &#160;&#160;&#160;&#160;&#160;&#160;&#160;&#160;&#160;&#160;&#160;: [saved tensor]</text>\n",
       "</g>\n",
       "<!-- 140519136055584&#45;&gt;140519136056496 -->\n",
       "<g id=\"edge1\" class=\"edge\">\n",
       "<title>140519136055584&#45;&gt;140519136056496</title>\n",
       "<path fill=\"none\" stroke=\"black\" d=\"M173.76,-165.01C153.9,-151.79 134.22,-138.7 117.47,-127.55\"/>\n",
       "<polygon fill=\"black\" stroke=\"black\" points=\"119.5,-124.7 109.24,-122.07 115.62,-130.53 119.5,-124.7\"/>\n",
       "</g>\n",
       "<!-- 140519124317104 -->\n",
       "<g id=\"node4\" class=\"node\">\n",
       "<title>140519124317104</title>\n",
       "<polygon fill=\"orange\" stroke=\"black\" points=\"266,-113.88 160,-113.88 160,-77.38 266,-77.38 266,-113.88\"/>\n",
       "<text text-anchor=\"middle\" x=\"213\" y=\"-100.38\" font-family=\"monospace\" font-size=\"10.00\">input</text>\n",
       "<text text-anchor=\"middle\" x=\"213\" y=\"-86.12\" font-family=\"monospace\" font-size=\"10.00\"> (1, 1, 32, 32)</text>\n",
       "</g>\n",
       "<!-- 140519136055584&#45;&gt;140519124317104 -->\n",
       "<g id=\"edge2\" class=\"edge\">\n",
       "<title>140519136055584&#45;&gt;140519124317104</title>\n",
       "<path fill=\"none\" stroke=\"black\" d=\"M243.11,-156.74C235.1,-140.74 227.46,-125.49 221.88,-114.35\"/>\n",
       "</g>\n",
       "<!-- 140519138718544 -->\n",
       "<g id=\"node5\" class=\"node\">\n",
       "<title>140519138718544</title>\n",
       "<polygon fill=\"lightblue\" stroke=\"black\" points=\"426,-113.88 284,-113.88 284,-77.38 426,-77.38 426,-113.88\"/>\n",
       "<text text-anchor=\"middle\" x=\"355\" y=\"-100.38\" font-family=\"monospace\" font-size=\"10.00\">layers.0.net.0.weight</text>\n",
       "<text text-anchor=\"middle\" x=\"355\" y=\"-86.12\" font-family=\"monospace\" font-size=\"10.00\"> (4, 1, 3, 3)</text>\n",
       "</g>\n",
       "<!-- 140519136055584&#45;&gt;140519138718544 -->\n",
       "<g id=\"edge3\" class=\"edge\">\n",
       "<title>140519136055584&#45;&gt;140519138718544</title>\n",
       "<path fill=\"none\" stroke=\"black\" d=\"M324.89,-156.74C332.9,-140.74 340.54,-125.49 346.12,-114.35\"/>\n",
       "</g>\n",
       "<!-- 140519136052704 -->\n",
       "<g id=\"node6\" class=\"node\">\n",
       "<title>140519136052704</title>\n",
       "<polygon fill=\"lightgrey\" stroke=\"black\" points=\"454,-28.25 354,-28.25 354,-6 454,-6 454,-28.25\"/>\n",
       "<text text-anchor=\"middle\" x=\"404\" y=\"-14.75\" font-family=\"monospace\" font-size=\"10.00\">AccumulateGrad</text>\n",
       "</g>\n",
       "<!-- 140519138718544&#45;&gt;140519136052704 -->\n",
       "<g id=\"edge5\" class=\"edge\">\n",
       "<title>140519138718544&#45;&gt;140519136052704</title>\n",
       "<path fill=\"none\" stroke=\"black\" d=\"M366.36,-76.88C373.8,-65.28 383.52,-50.09 391.23,-38.07\"/>\n",
       "<polygon fill=\"black\" stroke=\"black\" points=\"394.1,-40.06 396.55,-29.76 388.21,-36.29 394.1,-40.06\"/>\n",
       "</g>\n",
       "<!-- 140519136052704&#45;&gt;140519136055584 -->\n",
       "<g id=\"edge4\" class=\"edge\">\n",
       "<title>140519136052704&#45;&gt;140519136055584</title>\n",
       "<path fill=\"none\" stroke=\"black\" d=\"M412.5,-28.52C420.09,-38.52 430.65,-54.41 435,-70.25 440.98,-92 444.91,-100.74 435,-121 427.02,-137.3 415.57,-151.99 402.49,-165.02\"/>\n",
       "<polygon fill=\"black\" stroke=\"black\" points=\"400.11,-162.45 395.25,-171.87 404.92,-167.54 400.11,-162.45\"/>\n",
       "</g>\n",
       "<!-- 140519136063408 -->\n",
       "<g id=\"node7\" class=\"node\">\n",
       "<title>140519136063408</title>\n",
       "<polygon fill=\"lightgrey\" stroke=\"black\" points=\"334,-380 234,-380 234,-357.75 334,-357.75 334,-380\"/>\n",
       "<text text-anchor=\"middle\" x=\"284\" y=\"-366.5\" font-family=\"monospace\" font-size=\"10.00\">AccumulateGrad</text>\n",
       "</g>\n",
       "<!-- 140519136063408&#45;&gt;140519136055584 -->\n",
       "<g id=\"edge6\" class=\"edge\">\n",
       "<title>140519136063408&#45;&gt;140519136055584</title>\n",
       "<path fill=\"none\" stroke=\"black\" d=\"M284,-357.44C284,-351.37 284,-343.07 284,-333.67\"/>\n",
       "<polygon fill=\"black\" stroke=\"black\" points=\"287.5,-333.7 284,-323.7 280.5,-333.7 287.5,-333.7\"/>\n",
       "</g>\n",
       "<!-- 140519138716336 -->\n",
       "<g id=\"node8\" class=\"node\">\n",
       "<title>140519138716336</title>\n",
       "<polygon fill=\"lightblue\" stroke=\"black\" points=\"349,-452.5 219,-452.5 219,-416 349,-416 349,-452.5\"/>\n",
       "<text text-anchor=\"middle\" x=\"284\" y=\"-439\" font-family=\"monospace\" font-size=\"10.00\">layers.0.net.0.bias</text>\n",
       "<text text-anchor=\"middle\" x=\"284\" y=\"-424.75\" font-family=\"monospace\" font-size=\"10.00\"> (4)</text>\n",
       "</g>\n",
       "<!-- 140519138716336&#45;&gt;140519136063408 -->\n",
       "<g id=\"edge7\" class=\"edge\">\n",
       "<title>140519138716336&#45;&gt;140519136063408</title>\n",
       "<path fill=\"none\" stroke=\"black\" d=\"M284,-415.6C284,-408.28 284,-399.72 284,-391.99\"/>\n",
       "<polygon fill=\"black\" stroke=\"black\" points=\"287.5,-392.01 284,-382.01 280.5,-392.01 287.5,-392.01\"/>\n",
       "</g>\n",
       "</g>\n",
       "</svg>\n"
      ],
      "text/plain": [
       "<graphviz.graphs.Digraph>"
      ]
     },
     "execution_count": null,
     "metadata": {},
     "output_type": "execute_result"
    }
   ],
   "source": [
    "make_dot(y, params=dict(model.named_parameters()), show_attrs=True, show_saved=True)"
   ]
  },
  {
   "cell_type": "code",
   "execution_count": null,
   "metadata": {},
   "outputs": [],
   "source": [
    "# #| export\n",
    "\n",
    "# class UpSample(nn.Module):\n",
    "#     def __init__(\n",
    "#             self,\n",
    "#             in_channels:int, # Number of input channels\n",
    "#             out_channels:int, # Number of output channels\n",
    "#             scale_factor:int=2 # Upsampling factor\n",
    "#             ):\n",
    "#         super().__init__()\n",
    "#         layers = nn.ModuleList()\n",
    "#         layers.append(nn.Conv2d(in_channels, out_channels, kernel_size=1))\n",
    "#         layers.append(nn.Upsample(scale_factor=scale_factor, mode='nearest'))\n",
    "#         self.layers = nn.Sequential(*layers)\n",
    "\n",
    "#     def forward(self, x: torch.Tensor) -> torch.Tensor:\n",
    "#         return self.layers(x)"
   ]
  },
  {
   "cell_type": "markdown",
   "metadata": {},
   "source": [
    "## Super ResNet"
   ]
  },
  {
   "cell_type": "code",
   "execution_count": null,
   "metadata": {},
   "outputs": [],
   "source": [
    "#| export \n",
    "\n",
    "class SuperResNet(nn.Module):\n",
    "    def __init__(\n",
    "            self,\n",
    "            in_channels:int=3, # Number of input channels\n",
    "            out_channels:int=64, # Number of output channels\n",
    "            depth:int=8, # Number of residual blocks\n",
    "            scale:int=2 # Upsampling factor\n",
    "            ):\n",
    "        super().__init__()\n",
    "        layers = []\n",
    "        conv = partial(ConvLayer, stride=1, normalization=None, activation=None)\n",
    "        layers.append(conv(in_channels, out_channels))\n",
    "        for i in range(depth):\n",
    "            layers.append(ResBlock(out_channels)) \n",
    "        layers.append(conv(out_channels, out_channels))\n",
    "        layers.append(UpSample(out_channels, out_channels, scale))\n",
    "        layers.append(nn.BatchNorm2d(out_channels))\n",
    "        layers.append(conv(out_channels, in_channels))\n",
    "\n",
    "        self.layers = nn.Sequential(*layers)\n",
    "\n",
    "    def forward(self, x: torch.Tensor) -> torch.Tensor:\n",
    "        return self.layers(x)"
   ]
  },
  {
   "cell_type": "code",
   "execution_count": null,
   "metadata": {},
   "outputs": [
    {
     "name": "stdout",
     "output_type": "stream",
     "text": [
      "torch.Size([1, 3, 64, 64])\n"
     ]
    }
   ],
   "source": [
    "x = torch.rand(1, 3, 32, 32)\n",
    "model = SuperResNet()\n",
    "y = model(x)\n",
    "print(y.shape)"
   ]
  },
  {
   "cell_type": "code",
   "execution_count": null,
   "metadata": {},
   "outputs": [],
   "source": [
    "#| hide\n",
    "import nbdev; nbdev.nbdev_export()"
   ]
  }
 ],
 "metadata": {
  "kernelspec": {
   "display_name": "python3",
   "language": "python",
   "name": "python3"
  }
 },
 "nbformat": 4,
 "nbformat_minor": 4
}
