{
 "cells": [
  {
   "attachments": {},
   "cell_type": "markdown",
   "metadata": {},
   "source": [
    "# ResNet\n",
    "\n",
    "> Neural net model"
   ]
  },
  {
   "cell_type": "code",
   "execution_count": null,
   "metadata": {},
   "outputs": [],
   "source": [
    "#| default_exp models.resnet"
   ]
  },
  {
   "cell_type": "code",
   "execution_count": 80,
   "metadata": {},
   "outputs": [],
   "source": [
    "#| hide\n",
    "%load_ext autoreload\n",
    "%autoreload 2\n",
    "from nbdev.showdoc import *"
   ]
  },
  {
   "cell_type": "code",
   "execution_count": 72,
   "metadata": {},
   "outputs": [],
   "source": [
    "#| export\n",
    "import torch.nn as nn\n",
    "import torch.nn.functional as F\n",
    "import torch\n",
    "from torch_lr_finder import LRFinder\n",
    "\n",
    "from omegaconf import OmegaConf\n",
    "from hydra.utils import instantiate\n",
    "\n",
    "from matplotlib import pyplot as plt\n",
    "\n",
    "from nimrod.models.conv import ConvLayer\n",
    "from nimrod.utils import get_device, set_seed\n",
    "\n",
    "from typing import List\n",
    "import logging"
   ]
  },
  {
   "cell_type": "code",
   "execution_count": 68,
   "metadata": {},
   "outputs": [
    {
     "name": "stderr",
     "output_type": "stream",
     "text": [
      "Seed set to 42\n"
     ]
    }
   ],
   "source": [
    "logger = logging.getLogger(__name__)\n",
    "set_seed()"
   ]
  },
  {
   "cell_type": "markdown",
   "metadata": {},
   "source": [
    "## Res Block"
   ]
  },
  {
   "cell_type": "code",
   "execution_count": 84,
   "metadata": {},
   "outputs": [],
   "source": [
    "#| export\n",
    "class ResBlock(nn.Module):\n",
    "    \"\"\"ResNet basic block with optional downsampling.\n",
    "    This block implements the basic building block of ResNet architecture,\n",
    "    consisting of two convolutional layers with a residual connection.\n",
    "    The block can optionally downsample the input using strided convolution\n",
    "    and average pooling.\n",
    "\n",
    "    Parameters\n",
    "    ----------\n",
    "    in_channels : int\n",
    "        Number of input channels\n",
    "    out_channels : int\n",
    "        Number of output channels\n",
    "    stride : int, optional\n",
    "        Stride for the second convolution and pooling, by default 1\n",
    "    kernel_size : int, optional\n",
    "        Kernel size for the convolutions, by default 3\n",
    "    \n",
    "    Notes\n",
    "    -----\n",
    "    The block performs the following operations:\n",
    "    1. First convolution with kernel_size and stride=1\n",
    "    2. Second convolution with kernel_size and specified stride\n",
    "    3. Identity/1x1 conv on residual path depending on channel dimensions\n",
    "    4. Average pooling on residual path if stride > 1\n",
    "    5. ReLU activation after element-wise addition\n",
    "    The output dimensions are determined by the stride parameter:\n",
    "    - If stride=1: output has same spatial dimensions as input\n",
    "    - If stride=2: output spatial dimensions are halved\n",
    "    \"\"\"\n",
    "\n",
    "\n",
    "    def __init__(\n",
    "            self,\n",
    "            in_channels: int, # Number of input channels\n",
    "            out_channels: int, # Number of output channels\n",
    "            stride: int = 1, # Stride for the second convolution and pooling\n",
    "            kernel_size:int = 3 # Kernel size for the convolutions\n",
    "            ):\n",
    "        \n",
    "        super().__init__()\n",
    "\n",
    "        conv_ = nn.ModuleList()\n",
    "        conv_.append(ConvLayer(in_channels, out_channels, stride=1, kernel_size=kernel_size))\n",
    "        conv_.append(ConvLayer(out_channels, out_channels, stride=stride, activation=None))\n",
    "        self.conv = nn.Sequential(*conv_)\n",
    "\n",
    "\n",
    "        if in_channels == out_channels:\n",
    "            self.id = nn.Identity()\n",
    "        else:\n",
    "            self.id = ConvLayer(in_channels, out_channels, stride=1, kernel_size=1, activation=None)\n",
    "\n",
    "        if stride == 1:\n",
    "            self.pool = nn.Identity()\n",
    "        else:\n",
    "            self.pool = nn.AvgPool2d(2, ceil_mode=True)\n",
    "        self.act = nn.ReLU()\n",
    "        \n",
    "    def forward(self, x):\n",
    "        return self.act(self.conv(x) + self.id(self.pool(x)))"
   ]
  },
  {
   "cell_type": "code",
   "execution_count": 85,
   "metadata": {},
   "outputs": [
    {
     "data": {
      "text/markdown": [
       "---\n",
       "\n",
       "### ResBlock\n",
       "\n",
       ">      ResBlock (in_channels:int, out_channels:int, stride:int=1,\n",
       ">                kernel_size:int=3)\n",
       "\n",
       "*ResNet basic block with optional downsampling.\n",
       "This block implements the basic building block of ResNet architecture,\n",
       "consisting of two convolutional layers with a residual connection.\n",
       "The block can optionally downsample the input using strided convolution\n",
       "and average pooling.*\n",
       "\n",
       "|    | **Type** | **Default** | **Details** |\n",
       "| -- | -------- | ----------- | ----------- |\n",
       "| in_channels | int |  | Number of input channels |\n",
       "| out_channels | int |  | Number of output channels |\n",
       "| stride | int | 1 | Stride for the second convolution and pooling |\n",
       "| kernel_size | int | 3 | Kernel size for the convolutions |"
      ],
      "text/plain": [
       "---\n",
       "\n",
       "### ResBlock\n",
       "\n",
       ">      ResBlock (in_channels:int, out_channels:int, stride:int=1,\n",
       ">                kernel_size:int=3)\n",
       "\n",
       "*ResNet basic block with optional downsampling.\n",
       "This block implements the basic building block of ResNet architecture,\n",
       "consisting of two convolutional layers with a residual connection.\n",
       "The block can optionally downsample the input using strided convolution\n",
       "and average pooling.*\n",
       "\n",
       "|    | **Type** | **Default** | **Details** |\n",
       "| -- | -------- | ----------- | ----------- |\n",
       "| in_channels | int |  | Number of input channels |\n",
       "| out_channels | int |  | Number of output channels |\n",
       "| stride | int | 1 | Stride for the second convolution and pooling |\n",
       "| kernel_size | int | 3 | Kernel size for the convolutions |"
      ]
     },
     "execution_count": 85,
     "metadata": {},
     "output_type": "execute_result"
    }
   ],
   "source": [
    "show_doc(ResBlock)"
   ]
  },
  {
   "attachments": {},
   "cell_type": "markdown",
   "metadata": {},
   "source": [
    "### Usage"
   ]
  },
  {
   "cell_type": "code",
   "execution_count": 41,
   "metadata": {},
   "outputs": [
    {
     "name": "stderr",
     "output_type": "stream",
     "text": [
      "[00:11:18] WARNING - setting conv bias to False as Batchnorm is used\n",
      "[00:11:18] WARNING - setting conv bias to False as Batchnorm is used\n",
      "[00:11:18] WARNING - setting conv bias to False as Batchnorm is used\n"
     ]
    },
    {
     "name": "stdout",
     "output_type": "stream",
     "text": [
      "torch.Size([5, 1, 28, 28])\n"
     ]
    },
    {
     "data": {
      "text/plain": [
       "torch.Size([5, 8, 28, 28])"
      ]
     },
     "execution_count": 41,
     "metadata": {},
     "output_type": "execute_result"
    }
   ],
   "source": [
    "resblock = ResBlock(1, 8)\n",
    "x = torch.rand(5, 1, 28, 28)\n",
    "print(x.shape)\n",
    "resblock(x).shape"
   ]
  },
  {
   "cell_type": "markdown",
   "metadata": {},
   "source": [
    "## ResNet"
   ]
  },
  {
   "cell_type": "code",
   "execution_count": 94,
   "metadata": {},
   "outputs": [],
   "source": [
    "#| export \n",
    "class ResNet(nn.Module):\n",
    "    \"\"\"A simple implementation of a ResNet-like neural network.\n",
    "\n",
    "    Parameters\n",
    "    ----------\n",
    "    n_features : List[int], optional\n",
    "        A list of integers representing the number of features (channels) at each layer. \n",
    "        Default is [1, 8, 16, 32, 64, 128, 256].\n",
    "    num_classes : int, optional\n",
    "        The number of output classes. Default is 10.\n",
    "    \"\"\"\n",
    "\n",
    "    def __init__(\n",
    "            self,\n",
    "            n_features:List[int]=[1, 8, 16, 32, 64, 128, 256], # channel/feature expansion\n",
    "            num_classes:int=10, # num_classes\n",
    "        ):\n",
    "\n",
    "        super().__init__()\n",
    "\n",
    "        layers = nn.ModuleList()\n",
    "        layers.append(ResBlock(n_features[0], n_features[1], stride=1))\n",
    "\n",
    "        for i in range(1, len(n_features)-1):\n",
    "            res = ResBlock(n_features[i], n_features[i+1], stride=2)\n",
    "            layers.append(res)\n",
    "\n",
    "        layers += [nn.Flatten(), nn.Linear(n_features[-1], num_classes, bias=False), nn.BatchNorm1d(num_classes)]\n",
    "\n",
    "\n",
    "        self.nnet = nn.Sequential(*layers)\n",
    "\n",
    "    def forward(self, x:torch.Tensor)->torch.Tensor:\n",
    "        return self.nnet(x)\n"
   ]
  },
  {
   "cell_type": "code",
   "execution_count": 95,
   "metadata": {},
   "outputs": [
    {
     "data": {
      "text/markdown": [
       "---\n",
       "\n",
       "### ResNet\n",
       "\n",
       ">      ResNet (n_features:List[int]=[1, 8, 16, 32, 64, 128, 256],\n",
       ">              num_classes:int=10)\n",
       "\n",
       "*A simple implementation of a ResNet-like neural network.*\n",
       "\n",
       "|    | **Type** | **Default** | **Details** |\n",
       "| -- | -------- | ----------- | ----------- |\n",
       "| n_features | List | [1, 8, 16, 32, 64, 128, 256] | channel/feature expansion |\n",
       "| num_classes | int | 10 | num_classes |"
      ],
      "text/plain": [
       "---\n",
       "\n",
       "### ResNet\n",
       "\n",
       ">      ResNet (n_features:List[int]=[1, 8, 16, 32, 64, 128, 256],\n",
       ">              num_classes:int=10)\n",
       "\n",
       "*A simple implementation of a ResNet-like neural network.*\n",
       "\n",
       "|    | **Type** | **Default** | **Details** |\n",
       "| -- | -------- | ----------- | ----------- |\n",
       "| n_features | List | [1, 8, 16, 32, 64, 128, 256] | channel/feature expansion |\n",
       "| num_classes | int | 10 | num_classes |"
      ]
     },
     "execution_count": 95,
     "metadata": {},
     "output_type": "execute_result"
    }
   ],
   "source": [
    "show_doc(ResNet)"
   ]
  },
  {
   "cell_type": "markdown",
   "metadata": {},
   "source": [
    "### Usage"
   ]
  },
  {
   "cell_type": "code",
   "execution_count": 60,
   "metadata": {},
   "outputs": [
    {
     "name": "stderr",
     "output_type": "stream",
     "text": [
      "[00:35:14] WARNING - setting conv bias to False as Batchnorm is used\n",
      "[00:35:14] WARNING - setting conv bias to False as Batchnorm is used\n",
      "[00:35:14] WARNING - setting conv bias to False as Batchnorm is used\n",
      "[00:35:14] WARNING - setting conv bias to False as Batchnorm is used\n",
      "[00:35:14] WARNING - setting conv bias to False as Batchnorm is used\n",
      "[00:35:14] WARNING - setting conv bias to False as Batchnorm is used\n",
      "[00:35:14] WARNING - setting conv bias to False as Batchnorm is used\n",
      "[00:35:14] WARNING - setting conv bias to False as Batchnorm is used\n",
      "[00:35:14] WARNING - setting conv bias to False as Batchnorm is used\n",
      "[00:35:14] WARNING - setting conv bias to False as Batchnorm is used\n",
      "[00:35:14] WARNING - setting conv bias to False as Batchnorm is used\n",
      "[00:35:14] WARNING - setting conv bias to False as Batchnorm is used\n",
      "[00:35:14] WARNING - setting conv bias to False as Batchnorm is used\n",
      "[00:35:14] WARNING - setting conv bias to False as Batchnorm is used\n",
      "[00:35:14] WARNING - setting conv bias to False as Batchnorm is used\n",
      "[00:35:14] WARNING - setting conv bias to False as Batchnorm is used\n",
      "[00:35:14] WARNING - setting conv bias to False as Batchnorm is used\n",
      "[00:35:14] WARNING - setting conv bias to False as Batchnorm is used\n"
     ]
    },
    {
     "data": {
      "text/plain": [
       "torch.Size([5, 10])"
      ]
     },
     "execution_count": 60,
     "metadata": {},
     "output_type": "execute_result"
    }
   ],
   "source": [
    "x = torch.rand(5, 1, 28, 28)\n",
    "model = ResNet()\n",
    "model(x).shape"
   ]
  },
  {
   "cell_type": "markdown",
   "metadata": {},
   "source": [
    "## Training"
   ]
  },
  {
   "cell_type": "code",
   "execution_count": 70,
   "metadata": {},
   "outputs": [
    {
     "name": "stderr",
     "output_type": "stream",
     "text": [
      "[00:52:03] INFO - Init ImageDataModule for fashion_mnist\n",
      "[00:52:13] INFO - split train into train/val [0.8, 0.2]\n",
      "[00:52:13] INFO - train: 48000 val: 12000, test: 10000\n"
     ]
    },
    {
     "name": "stdout",
     "output_type": "stream",
     "text": [
      "X (C,H,W):  torch.Size([1, 32, 32]) y:  9\n",
      "XX (B,C,H,W):  torch.Size([512, 1, 32, 32]) YY:  torch.Size([512])\n",
      "48000\n",
      "93\n"
     ]
    }
   ],
   "source": [
    "#| notest\n",
    "\n",
    "# data module config\n",
    "cfg = OmegaConf.load('../config/data/image/fashion_mnist.yaml')\n",
    "\n",
    "BATCH_SIZE = 512\n",
    "datamodule = instantiate(cfg, batch_size=BATCH_SIZE, num_workers=20)\n",
    "datamodule.prepare_data()\n",
    "datamodule.setup()\n",
    "\n",
    "# one data point \n",
    "X,y = datamodule.test_ds[0]\n",
    "print(\"X (C,H,W): \", X.shape, \"y: \", y)\n",
    "\n",
    "# a batch of data via dataloader\n",
    "XX,YY = next(iter(datamodule.test_dataloader()))\n",
    "print(\"XX (B,C,H,W): \", XX.shape, \"YY: \", YY.shape)\n",
    "\n",
    "print(len(datamodule.train_ds))\n",
    "print(len(datamodule.train_ds) // BATCH_SIZE)"
   ]
  },
  {
   "cell_type": "code",
   "execution_count": 77,
   "metadata": {},
   "outputs": [
    {
     "name": "stderr",
     "output_type": "stream",
     "text": [
      "[01:03:58] INFO - Using device: cuda\n",
      "[01:03:58] WARNING - setting conv bias to False as Batchnorm is used\n",
      "[01:03:58] WARNING - setting conv bias to False as Batchnorm is used\n",
      "[01:03:58] WARNING - setting conv bias to False as Batchnorm is used\n",
      "[01:03:58] WARNING - setting conv bias to False as Batchnorm is used\n",
      "[01:03:58] WARNING - setting conv bias to False as Batchnorm is used\n",
      "[01:03:58] WARNING - setting conv bias to False as Batchnorm is used\n",
      "[01:03:58] WARNING - setting conv bias to False as Batchnorm is used\n",
      "[01:03:58] WARNING - setting conv bias to False as Batchnorm is used\n",
      "[01:03:58] WARNING - setting conv bias to False as Batchnorm is used\n",
      "[01:03:58] WARNING - setting conv bias to False as Batchnorm is used\n",
      "[01:03:58] WARNING - setting conv bias to False as Batchnorm is used\n",
      "[01:03:58] WARNING - setting conv bias to False as Batchnorm is used\n",
      "[01:03:58] WARNING - setting conv bias to False as Batchnorm is used\n",
      "[01:03:58] WARNING - setting conv bias to False as Batchnorm is used\n",
      "[01:03:58] WARNING - setting conv bias to False as Batchnorm is used\n",
      "[01:03:58] WARNING - setting conv bias to False as Batchnorm is used\n",
      "[01:03:58] WARNING - setting conv bias to False as Batchnorm is used\n",
      "[01:03:58] WARNING - setting conv bias to False as Batchnorm is used\n"
     ]
    },
    {
     "data": {
      "application/vnd.jupyter.widget-view+json": {
       "model_id": "5381008b76ff456f853a642a3f4df1fd",
       "version_major": 2,
       "version_minor": 0
      },
      "text/plain": [
       "  0%|          | 0/100 [00:00<?, ?it/s]"
      ]
     },
     "metadata": {},
     "output_type": "display_data"
    },
    {
     "name": "stdout",
     "output_type": "stream",
     "text": [
      "Learning rate search finished. See the graph with {finder_name}.plot()\n",
      "LR suggestion: steepest gradient\n",
      "Suggested LR: 9.33E-05\n"
     ]
    },
    {
     "data": {
      "image/png": "[encoded data removed]",
      "text/plain": [
       "<Figure size 640x480 with 1 Axes>"
      ]
     },
     "metadata": {},
     "output_type": "display_data"
    },
    {
     "name": "stdout",
     "output_type": "stream",
     "text": [
      "Suggested lr: 9.326033468832202e-05\n"
     ]
    }
   ],
   "source": [
    "#| notest\n",
    "device = get_device()\n",
    "model = ResNet().to(device)\n",
    "criterion = nn.CrossEntropyLoss()    \n",
    "optimizer = torch.optim.Adam(model.parameters(), lr=1e-4) #, weight_decay=1e-5)\n",
    "    \n",
    "# Initialize LR Finder\n",
    "lr_finder = LRFinder(model, optimizer, criterion, device=device)\n",
    "    \n",
    "# Run LR range test\n",
    "lr_finder.range_test(\n",
    "    datamodule.train_dataloader(),\n",
    "    start_lr=1e-5,      # Extremely small starting learning rate\n",
    "    end_lr=10,          # Large ending learning rate\n",
    "    num_iter=100,   # Number of iterations to test\n",
    "    smooth_f=0.05,   # Smoothing factor for the loss\n",
    "    diverge_th=5, \n",
    ")\n",
    "    \n",
    "# Plot the learning rate vs loss\n",
    "_, lr_found = lr_finder.plot(log_lr=True)\n",
    "print('Suggested lr:', lr_found)\n",
    "    \n",
    "lr_finder.reset()\n",
    "    "
   ]
  },
  {
   "cell_type": "code",
   "execution_count": 78,
   "metadata": {},
   "outputs": [
    {
     "name": "stdout",
     "output_type": "stream",
     "text": [
      "size training set: 48000, bs: 512, steps/epoch: 93, total steps: 465\n",
      "CPU times: user 2 μs, sys: 1e+03 ns, total: 3 μs\n",
      "Wall time: 10.5 μs\n",
      "Loss 2.5942, Current LR: 0.0000093368, Step: 1/465\n",
      "Epoch 1: Last training Loss 0.8256, Last Eval loss 0.8696 Accuracy = 78.29% Best Accuracy: 79.39\n",
      "Loss 0.8176, Current LR: 0.0000744355, Step: 95/465\n",
      "Epoch 2: Last training Loss 0.7054, Last Eval loss 0.7248 Accuracy = 84.31% Best Accuracy: 85.55\n",
      "Loss 0.6581, Current LR: 0.0000878304, Step: 189/465\n",
      "Epoch 3: Last training Loss 0.6297, Last Eval loss 0.6788 Accuracy = 86.06% Best Accuracy: 87.50\n",
      "Loss 0.5701, Current LR: 0.0000548017, Step: 283/465\n",
      "Epoch 4: Last training Loss 0.6523, Last Eval loss 0.6495 Accuracy = 86.79% Best Accuracy: 87.99\n",
      "Loss 0.5393, Current LR: 0.0000154962, Step: 377/465\n",
      "Reached total steps: 465/465\n",
      "Epoch 5: Last training Loss 0.5910, Last Eval loss 0.6488 Accuracy = 86.93% Best Accuracy: 88.05\n"
     ]
    },
    {
     "data": {
      "text/plain": [
       "[<matplotlib.lines.Line2D at 0x7f43dc6b2e50>]"
      ]
     },
     "execution_count": 78,
     "metadata": {},
     "output_type": "execute_result"
    },
    {
     "data": {
      "image/png": "[encoded data removed]",
      "text/plain": [
       "<Figure size 640x480 with 2 Axes>"
      ]
     },
     "metadata": {},
     "output_type": "display_data"
    }
   ],
   "source": [
    "#| notest\n",
    "\n",
    "# # data module config\n",
    "# cfg_dm = OmegaConf.load('../config/data/image/fashion_mnist.yaml')\n",
    "# cfg_dm.batch_size = 512\n",
    "# datamodule = instantiate(cfg_dm)\n",
    "# datamodule.prepare_data()\n",
    "# datamodule.setup()\n",
    "\n",
    "# device = 'cpu'\n",
    "# print(device)\n",
    "# cfg_mdl = OmegaConf.load('../config/model/image/convnet.yaml')\n",
    "# convnet = instantiate(cfg_mdl.batchnorm)\n",
    "# model = convnet.to(device)\n",
    "\n",
    "N_EPOCHS = 5\n",
    "\n",
    "# lr_found = 7e-3 # from lr finder\n",
    "\n",
    "# criterion = nn.CrossEntropyLoss()\n",
    "# optimizer = torch.optim.Adam(model.parameters(), lr=1e-4)\n",
    "steps_per_epoch = len(datamodule.train_ds) // BATCH_SIZE\n",
    "total_steps = steps_per_epoch* N_EPOCHS\n",
    "print(f\"size training set: {len(datamodule.train_ds)}, bs: {BATCH_SIZE}, steps/epoch: {steps_per_epoch}, total steps: {total_steps}\")\n",
    "# scheduler = torch.optim.lr_scheduler.OneCycleLR(optimizer, max_lr=0.01, steps_per_epoch=steps_per_epochs, epochs=1)\n",
    "\n",
    "scheduler = torch.optim.lr_scheduler.OneCycleLR(\n",
    "        optimizer,\n",
    "        max_lr=lr_found,  # Peak learning rate\n",
    "        # total_steps=len(datamodule.train_ds) * N_EPOCHS,  # Total training iterations\n",
    "        steps_per_epoch=steps_per_epoch,\n",
    "        epochs=N_EPOCHS,\n",
    "        pct_start=0.3,  # 30% of training increasing LR, 70% decreasing\n",
    "        anneal_strategy='cos',  # Cosine annealing\n",
    "        div_factor=10,  # Initial lr = max_lr / div_factor\n",
    "        # final_div_factor=1e4,\n",
    "        three_phase=False  # Two phase LR schedule (increase then decrease)\n",
    "    )\n",
    "\n",
    "################################\n",
    "%time\n",
    "\n",
    "lrs = []\n",
    "current_step = 0\n",
    "train_loss_history = []\n",
    "eval_loss_history = []\n",
    "avg_train_loss_hist = []\n",
    "avg_eval_loss_hist = []\n",
    "max_acc = 0\n",
    "\n",
    "for epoch in range(N_EPOCHS):\n",
    "    i = 0\n",
    "    model.train()\n",
    "    for images, labels in datamodule.train_dataloader():\n",
    "        if current_step >= total_steps:\n",
    "            print(f\"Reached total steps: {current_step}/{total_steps}\")\n",
    "            break\n",
    "        optimizer.zero_grad()\n",
    "        images, labels = images.to(device), labels.to(device)\n",
    "        outputs = model(images)\n",
    "        loss = criterion(outputs, labels)        \n",
    "        loss.backward()\n",
    "        optimizer.step()\n",
    "        scheduler.step()    \n",
    "        current_step += 1\n",
    "        train_loss_history.append(loss.item())\n",
    "        # current_lr = scheduler.get_last_lr()[0]\n",
    "        current_lr = optimizer.param_groups[0]['lr']\n",
    "        lrs.append(current_lr)\n",
    "        if not (i % 100):\n",
    "            print(f\"Loss {loss.item():.4f}, Current LR: {current_lr:.10f}, Step: {current_step}/{total_steps}\")\n",
    "        i += 1\n",
    "\n",
    "    model.eval()\n",
    "    with torch.no_grad():\n",
    "        correct = 0\n",
    "        total = 0\n",
    "        for images, labels in datamodule.val_dataloader():\n",
    "            # model expects input (B,H*W)\n",
    "            images = images.to(device)\n",
    "            labels = labels.to(device)\n",
    "            # Pass the input through the model\n",
    "            outputs = model(images)\n",
    "            # eval loss\n",
    "            eval_loss = criterion(outputs, labels)\n",
    "            eval_loss_history.append(eval_loss.item())\n",
    "            # Get the predicted labels\n",
    "            _, predicted = torch.max(outputs.data, 1)\n",
    "\n",
    "            # Update the total and correct counts\n",
    "            total += labels.size(0)\n",
    "            correct += (predicted == labels).sum()\n",
    "            acc = 100 * correct / total\n",
    "            if acc > max_acc:\n",
    "                max_acc = acc\n",
    "\n",
    "        # Print the accuracy\n",
    "    print(f\"Epoch {epoch + 1}: Last training Loss {loss.item():.4f}, Last Eval loss {eval_loss.item():.4f} Accuracy = {100 * correct / total:.2f}% Best Accuracy: {max_acc:.2f}\")\n",
    "    # print(f'Current LR: {optimizer.param_groups[0][\"lr\"]:.5f}')\n",
    "\n",
    "###################\n",
    "plt.figure(1)\n",
    "plt.subplot(211)\n",
    "plt.ylabel('loss')\n",
    "plt.xlabel('step')\n",
    "plt.plot(train_loss_history)\n",
    "plt.plot(eval_loss_history)\n",
    "plt.subplot(212)\n",
    "plt.ylabel('lr')\n",
    "plt.xlabel('step')\n",
    "plt.plot(lrs)\n",
    "\n"
   ]
  },
  {
   "cell_type": "code",
   "execution_count": null,
   "metadata": {},
   "outputs": [],
   "source": [
    "#| hide\n",
    "import nbdev; nbdev.nbdev_export()"
   ]
  },
  {
   "cell_type": "code",
   "execution_count": null,
   "metadata": {},
   "outputs": [],
   "source": []
  }
 ],
 "metadata": {
  "kernelspec": {
   "display_name": "Python 3",
   "language": "python",
   "name": "python3"
  },
  "language_info": {
   "codemirror_mode": {
    "name": "ipython",
    "version": 3
   },
   "file_extension": ".py",
   "mimetype": "text/x-python",
   "name": "python",
   "nbconvert_exporter": "python",
   "pygments_lexer": "ipython3",
   "version": "3.11.8"
  }
 },
 "nbformat": 4,
 "nbformat_minor": 4
}
