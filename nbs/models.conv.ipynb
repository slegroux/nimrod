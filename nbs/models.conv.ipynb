{
 "cells": [
  {
   "cell_type": "code",
   "execution_count": 180,
   "metadata": {},
   "outputs": [],
   "source": [
    "#| default_exp models.conv"
   ]
  },
  {
   "cell_type": "code",
   "execution_count": 181,
   "metadata": {},
   "outputs": [
    {
     "name": "stdout",
     "output_type": "stream",
     "text": [
      "The autoreload extension is already loaded. To reload it, use:\n",
      "  %reload_ext autoreload\n"
     ]
    }
   ],
   "source": [
    "#| hide\n",
    "%load_ext autoreload\n",
    "%autoreload 2\n",
    "from nbdev.showdoc import *"
   ]
  },
  {
   "cell_type": "markdown",
   "metadata": {},
   "source": [
    "# Convolution-based Model"
   ]
  },
  {
   "cell_type": "code",
   "execution_count": 219,
   "metadata": {},
   "outputs": [],
   "source": [
    "#| export\n",
    "import torch.nn as nn\n",
    "import torch\n",
    "from torchvision.transforms import ToTensor\n",
    "from torch.utils.data import DataLoader\n",
    "from torchvision.datasets import MNIST\n",
    "\n",
    "from lightning import LightningModule, Trainer\n",
    "from lightning.pytorch.tuner.tuning import Tuner\n",
    "from lightning.pytorch.callbacks import LearningRateFinder\n",
    "from lightning.pytorch.loggers import CSVLogger\n",
    "\n",
    "from torch_lr_finder import LRFinder\n",
    "from torchmetrics import Accuracy\n",
    "from hydra.utils import instantiate\n",
    "from omegaconf import OmegaConf\n",
    "\n",
    "from matplotlib import pyplot as plt\n",
    "import pandas as pd\n",
    "\n",
    "from nimrod.image.datasets import MNISTDataModule\n",
    "from nimrod.utils import get_device\n",
    "from nimrod.models.core import Classifier, find_optimal_lr\n",
    "\n",
    "import logging\n",
    "logger = logging.getLogger(__name__)"
   ]
  },
  {
   "cell_type": "markdown",
   "metadata": {},
   "source": [
    "## Conv Layer\n",
    "\n",
    "Using a convolution with a stride of 2 instead of max pooling essentially achieves the same goal of downsampling an image by reducing its spatial dimensions, but with the key difference that the convolution layer can learn more complex feature combinations from overlapping regions, while max pooling only selects the maximum value within a window, potentially losing information about the finer details within that region; making the convolution with stride approach often preferred for preserving more spatial information in a neural network. "
   ]
  },
  {
   "cell_type": "code",
   "execution_count": 183,
   "metadata": {},
   "outputs": [],
   "source": [
    "#| export\n",
    "class ConvLayer(nn.Module):\n",
    "    def __init__(self,\n",
    "                in_channels:int=3, # input channels\n",
    "                out_channels:int=16, # output channels\n",
    "                kernel_size:int=3, # kernel size\n",
    "                activation:bool=True\n",
    "                ):\n",
    "\n",
    "        super().__init__()\n",
    "        self.activation = activation\n",
    "        # use stride 2 for downsampling instead of max or average pooling with stride 1\n",
    "        self.conv = nn.Conv2d(in_channels, out_channels, kernel_size, 2, kernel_size//2)\n",
    "        self.relu = nn.ReLU()\n",
    "\n",
    "    def forward(self, x):\n",
    "        x = self.conv(x)\n",
    "        if self.activation:\n",
    "            x = self.relu(x)\n",
    "        return x"
   ]
  },
  {
   "cell_type": "markdown",
   "metadata": {},
   "source": [
    "### Usage"
   ]
  },
  {
   "cell_type": "code",
   "execution_count": 184,
   "metadata": {},
   "outputs": [
    {
     "name": "stdout",
     "output_type": "stream",
     "text": [
      "torch.Size([64, 3136])\n"
     ]
    }
   ],
   "source": [
    "B, C, H, W = 64, 1, 28, 28\n",
    "X = torch.rand(B, C, H, W)\n",
    "c = ConvLayer(1, 16, 3, True)\n",
    "# flatten all dims except batch\n",
    "Y = torch.flatten(c(X), 1)\n",
    "print(Y.shape)"
   ]
  },
  {
   "cell_type": "markdown",
   "metadata": {},
   "source": [
    "## Convnet Model\n",
    "Simple convolution network for image recognition"
   ]
  },
  {
   "cell_type": "code",
   "execution_count": 203,
   "metadata": {},
   "outputs": [],
   "source": [
    "#| export\n",
    "class ConvNet(nn.Module):\n",
    "    def __init__(\n",
    "            self,\n",
    "            in_channels:int=1, # input channels\n",
    "            out_channels:int=10 # num_classes\n",
    "            ):\n",
    "        super().__init__()\n",
    "        self.net = nn.Sequential(\n",
    "            ConvLayer(in_channels, 8, kernel_size=5), #14x14\n",
    "            nn.BatchNorm2d(8),\n",
    "            ConvLayer(8, 16), #7x7\n",
    "            nn.BatchNorm2d(16),\n",
    "            ConvLayer(16, 32), #4x4\n",
    "            nn.BatchNorm2d(32),\n",
    "            ConvLayer(32, 64), #2x2\n",
    "            nn.BatchNorm2d(64),\n",
    "            ConvLayer(64, 10, activation=False), #1x1\n",
    "            nn.BatchNorm2d(10),\n",
    "            nn.Flatten()\n",
    "\n",
    "        )\n",
    "\n",
    "    def forward(self, x:torch.Tensor # input image tensor of dimension (B, C, W, H)\n",
    "                ) -> torch.Tensor: # output probs (B, N_classes)\n",
    "\n",
    "        return self.net(x)"
   ]
  },
  {
   "cell_type": "markdown",
   "metadata": {},
   "source": [
    "### Usage"
   ]
  },
  {
   "cell_type": "markdown",
   "metadata": {},
   "source": [
    "#### Mock data"
   ]
  },
  {
   "cell_type": "code",
   "execution_count": 204,
   "metadata": {},
   "outputs": [
    {
     "data": {
      "text/plain": [
       "torch.Size([64, 1, 28, 28])"
      ]
     },
     "execution_count": 204,
     "metadata": {},
     "output_type": "execute_result"
    }
   ],
   "source": [
    "B, C, H, W = 64, 1, 28, 28\n",
    "X = torch.rand(B, C, H, W)\n",
    "X.shape"
   ]
  },
  {
   "cell_type": "markdown",
   "metadata": {},
   "source": [
    "#### Model"
   ]
  },
  {
   "cell_type": "code",
   "execution_count": 205,
   "metadata": {},
   "outputs": [
    {
     "name": "stdout",
     "output_type": "stream",
     "text": [
      "torch.Size([64, 10])\n",
      "{'_target_': 'nimrod.models.conv.ConvNet', 'in_channels': 1, 'out_channels': '${num_classes}'}\n",
      "torch.Size([64, 10])\n"
     ]
    }
   ],
   "source": [
    "# model instantiation\n",
    "convnet = ConvNet()\n",
    "out = convnet(X)\n",
    "print(out.shape)\n",
    "\n",
    "# from config\n",
    "cfg = OmegaConf.load('../config/image/model/conv.yaml')\n",
    "print(cfg.nnet)\n",
    "convnet = instantiate(cfg.nnet)\n",
    "print(convnet(X).shape)"
   ]
  },
  {
   "cell_type": "markdown",
   "metadata": {},
   "source": [
    "### Training"
   ]
  },
  {
   "cell_type": "markdown",
   "metadata": {},
   "source": [
    "#### Dataloaders"
   ]
  },
  {
   "cell_type": "code",
   "execution_count": 132,
   "metadata": {},
   "outputs": [
    {
     "name": "stderr",
     "output_type": "stream",
     "text": [
      "[17:44:38]\n"
     ]
    },
    {
     "name": "stdout",
     "output_type": "stream",
     "text": [
      "X (C,H,W):  torch.Size([1, 28, 28]) y:  7\n",
      "XX (B,C,H,W):  torch.Size([64, 1, 28, 28]) YY:  torch.Size([64])\n",
      "56000\n",
      "875\n"
     ]
    }
   ],
   "source": [
    "# data module config\n",
    "cfg = OmegaConf.load('../config/image/data/mnist.yaml')\n",
    "\n",
    "datamodule = instantiate(cfg.datamodule)\n",
    "# datamodule.prepare_data()\n",
    "datamodule.batch_size = 2048\n",
    "datamodule.setup()\n",
    "\n",
    "# one data point \n",
    "X,y = datamodule.data_test[0]\n",
    "print(\"X (C,H,W): \", X.shape, \"y: \", y)\n",
    "\n",
    "# a batch of data via dataloader\n",
    "XX,YY = next(iter(datamodule.test_dataloader()))\n",
    "print(\"XX (B,C,H,W): \", XX.shape, \"YY: \", YY.shape)\n",
    "\n",
    "print(len(datamodule.data_train))\n",
    "print(len(datamodule.data_train)//cfg.datamodule.batch_size)"
   ]
  },
  {
   "cell_type": "markdown",
   "metadata": {},
   "source": [
    "#### Model & hardware"
   ]
  },
  {
   "cell_type": "code",
   "execution_count": 133,
   "metadata": {},
   "outputs": [
    {
     "name": "stdout",
     "output_type": "stream",
     "text": [
      "mps\n"
     ]
    }
   ],
   "source": [
    "device = 'mps' if torch.backends.mps.is_available() else 'cuda' if torch.cuda.is_available() else 'cpu'\n",
    "# device = 'cpu'\n",
    "print(device)\n",
    "model = ConvNet()\n",
    "model = model.to(device)"
   ]
  },
  {
   "cell_type": "markdown",
   "metadata": {},
   "source": [
    "#### Loss, optimizer, scheduler"
   ]
  },
  {
   "cell_type": "markdown",
   "metadata": {},
   "source": [
    "##### LR finder"
   ]
  },
  {
   "cell_type": "code",
   "execution_count": 107,
   "metadata": {},
   "outputs": [
    {
     "data": {
      "application/vnd.jupyter.widget-view+json": {
       "model_id": "078f4686be4d47558c9f679c3fcb9d85",
       "version_major": 2,
       "version_minor": 0
      },
      "text/plain": [
       "  0%|          | 0/100 [00:00<?, ?it/s]"
      ]
     },
     "metadata": {},
     "output_type": "display_data"
    },
    {
     "name": "stdout",
     "output_type": "stream",
     "text": [
      "Learning rate search finished. See the graph with {finder_name}.plot()\n",
      "LR suggestion: steepest gradient\n",
      "Suggested LR: 2.85E-02\n"
     ]
    },
    {
     "data": {
      "image/png": "[encoded data removed]",
      "text/plain": [
       "<Figure size 640x480 with 1 Axes>"
      ]
     },
     "metadata": {},
     "output_type": "display_data"
    },
    {
     "name": "stdout",
     "output_type": "stream",
     "text": [
      "Suggested lr: 0.028480358684358012\n"
     ]
    }
   ],
   "source": [
    "#| notest\n",
    "\n",
    "criterion = nn.CrossEntropyLoss()\n",
    "    \n",
    "optimizer = torch.optim.Adam(model.parameters(), lr=1e-7, weight_decay=1e-2)\n",
    "    \n",
    "# Initialize LR Finder\n",
    "lr_finder = LRFinder(model, optimizer, criterion, device=device)\n",
    "    \n",
    "# Run LR range test\n",
    "lr_finder.range_test(\n",
    "    datamodule.train_dataloader(),\n",
    "    start_lr=1e-6,      # Extremely small starting learning rate\n",
    "    end_lr=10,          # Large ending learning rate\n",
    "    num_iter=100,   # Number of iterations to test\n",
    "    smooth_f=0.05,   # Smoothing factor for the loss\n",
    "    diverge_th=5, \n",
    ")\n",
    "    \n",
    "# Plot the learning rate vs loss\n",
    "_, lr_found = lr_finder.plot(log_lr=True)\n",
    "print('Suggested lr:', lr_found)\n",
    "    \n",
    "lr_finder.reset()\n",
    "    \n",
    "\n",
    "    "
   ]
  },
  {
   "cell_type": "markdown",
   "metadata": {},
   "source": [
    "##### 1-cycle training loop"
   ]
  },
  {
   "cell_type": "code",
   "execution_count": 174,
   "metadata": {},
   "outputs": [
    {
     "name": "stderr",
     "output_type": "stream",
     "text": [
      "[18:41:29]\n",
      "[18:41:29]\n",
      "[18:41:29]\n",
      "[18:41:29]\n",
      "[18:41:29]\n"
     ]
    },
    {
     "name": "stdout",
     "output_type": "stream",
     "text": [
      "mps\n",
      "56000 2048 27 270\n",
      "CPU times: user 1 μs, sys: 0 ns, total: 1 μs\n",
      "Wall time: 3.1 μs\n",
      "Loss 2.6601, Current LR: 0.0028579167, Step: 1/270\n",
      "Epoch 1: Loss 0.4741, Accuracy = 93.50%\n",
      "Loss 0.4183, Current LR: 0.0102985865, Step: 29/270\n",
      "Epoch 2: Loss 0.1712, Accuracy = 97.70%\n",
      "Loss 0.1686, Current LR: 0.0235986053, Step: 57/270\n",
      "Epoch 3: Loss 0.0812, Accuracy = 98.00%\n",
      "Loss 0.0807, Current LR: 0.0284312060, Step: 85/270\n",
      "Epoch 4: Loss 0.0666, Accuracy = 98.31%\n",
      "Loss 0.0597, Current LR: 0.0263912154, Step: 113/270\n",
      "Epoch 5: Loss 0.0533, Accuracy = 98.64%\n",
      "Loss 0.0401, Current LR: 0.0217663079, Step: 141/270\n",
      "Epoch 6: Loss 0.0436, Accuracy = 98.71%\n",
      "Loss 0.0311, Current LR: 0.0155403618, Step: 169/270\n",
      "Epoch 7: Loss 0.0239, Accuracy = 98.69%\n",
      "Loss 0.0295, Current LR: 0.0090378521, Step: 197/270\n",
      "Epoch 8: Loss 0.0271, Accuracy = 98.80%\n",
      "Loss 0.0175, Current LR: 0.0036420882, Step: 225/270\n",
      "Epoch 9: Loss 0.0187, Accuracy = 98.89%\n",
      "Loss 0.0232, Current LR: 0.0005009367, Step: 253/270\n",
      "Reached total steps: 270/270\n",
      "Epoch 10: Loss 0.0192, Accuracy = 98.93%\n"
     ]
    }
   ],
   "source": [
    "#| notest\n",
    "\n",
    "# data module config\n",
    "cfg = OmegaConf.load('../config/image/data/mnist.yaml')\n",
    "cfg.datamodule.batch_size = 2048\n",
    "datamodule = instantiate(cfg.datamodule)\n",
    "# datamodule.prepare_data()\n",
    "datamodule.setup()\n",
    "\n",
    "device = 'mps' if torch.backends.mps.is_available() else 'cuda' if torch.cuda.is_available() else 'cpu'\n",
    "# device = 'cpu'\n",
    "print(device)\n",
    "model = ConvNet()\n",
    "model = model.to(device)\n",
    "\n",
    "\n",
    "criterion = nn.CrossEntropyLoss()\n",
    "optimizer = torch.optim.Adam(model.parameters(), lr=1e-4)\n",
    "steps_per_epoch = len(datamodule.data_train) // cfg.datamodule.batch_size\n",
    "total_steps = steps_per_epoch* N_EPOCHS\n",
    "print(len(datamodule.data_train), cfg.datamodule.batch_size, steps_per_epoch, total_steps)\n",
    "# scheduler = torch.optim.lr_scheduler.OneCycleLR(optimizer, max_lr=0.01, steps_per_epoch=steps_per_epochs, epochs=1)\n",
    "N_EPOCHS = 10\n",
    "scheduler = torch.optim.lr_scheduler.OneCycleLR(\n",
    "        optimizer,\n",
    "        max_lr=lr_found,  # Peak learning rate\n",
    "        # total_steps=len(datamodule.data_train) * N_EPOCHS,  # Total training iterations\n",
    "        steps_per_epoch=steps_per_epoch,\n",
    "        epochs=N_EPOCHS,\n",
    "        pct_start=0.3,  # 30% of training increasing LR, 70% decreasing\n",
    "        anneal_strategy='cos',  # Cosine annealing\n",
    "        div_factor=10,  # Initial lr = max_lr / div_factor\n",
    "        # final_div_factor=1e4,\n",
    "        three_phase=False  # Two phase LR schedule (increase then decrease)\n",
    "    )\n",
    "\n",
    "%time\n",
    "losses = []\n",
    "lrs = []\n",
    "current_step = 0\n",
    "\n",
    "for epoch in range(N_EPOCHS):\n",
    "    i = 0\n",
    "    model.train()\n",
    "    for images, labels in datamodule.train_dataloader():\n",
    "        if current_step >= total_steps:\n",
    "            print(f\"Reached total steps: {current_step}/{total_steps}\")\n",
    "            break\n",
    "        optimizer.zero_grad()\n",
    "        images, labels = images.to(device), labels.to(device)\n",
    "        outputs = model(images)\n",
    "        loss = criterion(outputs, labels)        \n",
    "        loss.backward()\n",
    "        optimizer.step()\n",
    "        scheduler.step()    \n",
    "        current_step += 1\n",
    "    \n",
    "        losses.append(loss.item())\n",
    "        # current_lr = scheduler.get_last_lr()[0]\n",
    "        current_lr = optimizer.param_groups[0]['lr']\n",
    "        lrs.append(current_lr)\n",
    "        if not (i % 100):\n",
    "            print(f\"Loss {loss.item():.4f}, Current LR: {current_lr:.10f}, Step: {current_step}/{total_steps}\")\n",
    "        i += 1\n",
    "    \n",
    "    model.eval()\n",
    "    with torch.no_grad():\n",
    "        correct = 0\n",
    "        total = 0\n",
    "        for images, labels in datamodule.test_dataloader():\n",
    "            # model expects input (B,H*W)\n",
    "            images = images.to(device)\n",
    "            labels = labels.to(device)\n",
    "            # Pass the input through the model\n",
    "            outputs = model(images)\n",
    "            # Get the predicted labels\n",
    "            _, predicted = torch.max(outputs.data, 1)\n",
    "\n",
    "            # Update the total and correct counts\n",
    "            total += labels.size(0)\n",
    "            correct += (predicted == labels).sum()\n",
    "\n",
    "        # Print the accuracy\n",
    "    print(f\"Epoch {epoch + 1}: Loss {loss.item():.4f}, Accuracy = {100 * correct / total:.2f}%\")\n",
    "    # print(f'Current LR: {optimizer.param_groups[0][\"lr\"]:.5f}')\n",
    "\n"
   ]
  },
  {
   "cell_type": "code",
   "execution_count": 176,
   "metadata": {},
   "outputs": [
    {
     "data": {
      "text/plain": [
       "[<matplotlib.lines.Line2D at 0x17a1a3f10>]"
      ]
     },
     "execution_count": 176,
     "metadata": {},
     "output_type": "execute_result"
    },
    {
     "data": {
      "image/png": "[encoded data removed]",
      "text/plain": [
       "<Figure size 640x480 with 2 Axes>"
      ]
     },
     "metadata": {},
     "output_type": "display_data"
    }
   ],
   "source": [
    "#| notest\n",
    "plt.figure(1)\n",
    "plt.subplot(211)\n",
    "plt.ylabel('loss')\n",
    "plt.xlabel('step')\n",
    "plt.plot(losses)\n",
    "plt.subplot(212)\n",
    "plt.ylabel('lr')\n",
    "plt.xlabel('step')\n",
    "plt.plot(lrs)"
   ]
  },
  {
   "cell_type": "markdown",
   "metadata": {},
   "source": [
    "## ConvNetX"
   ]
  },
  {
   "cell_type": "code",
   "execution_count": 260,
   "metadata": {},
   "outputs": [],
   "source": [
    "#| export\n",
    "\n",
    "class ConvNetX(Classifier, LightningModule):\n",
    "    def __init__(\n",
    "            self,\n",
    "            nnet:ConvNet,\n",
    "            num_classes:int,\n",
    "            optimizer:torch.optim.Optimizer,\n",
    "            scheduler:torch.optim.lr_scheduler,\n",
    "            ):\n",
    "        logger.info(\"ConvNetX: init\")\n",
    "        super().__init__(num_classes, optimizer, scheduler)\n",
    "        self.save_hyperparameters(logger=False, ignore=['nnet'])\n",
    "        self.lr = optimizer.keywords['lr'] # for lr finder\n",
    "        self.nnet = nnet\n",
    "\n",
    "    def forward(self, x:torch.Tensor)->torch.Tensor:\n",
    "        return self.nnet(x)\n",
    "    \n",
    "    def _step(self, batch, batch_idx):\n",
    "        x, y = batch\n",
    "        y_hat = self.forward(x)\n",
    "        loss = self.loss(y_hat, y)\n",
    "        preds = y_hat.argmax(dim=1)\n",
    "        return loss, preds, y\n",
    "    \n",
    "    def predict_step(self, batch, batch_idx, dataloader_idx=0):\n",
    "        x, y = batch\n",
    "        y_hat = self.forward(x)\n",
    "        return y_hat.argmax(dim=1)"
   ]
  },
  {
   "cell_type": "markdown",
   "metadata": {},
   "source": [
    "### Usage"
   ]
  },
  {
   "cell_type": "code",
   "execution_count": 207,
   "metadata": {},
   "outputs": [
    {
     "name": "stderr",
     "output_type": "stream",
     "text": [
      "[21:53:39]\n",
      "[21:53:39]\n"
     ]
    }
   ],
   "source": [
    "cfg = OmegaConf.load('../config/image/model/conv.yaml')\n",
    "model = instantiate(cfg)"
   ]
  },
  {
   "cell_type": "code",
   "execution_count": 208,
   "metadata": {},
   "outputs": [
    {
     "name": "stdout",
     "output_type": "stream",
     "text": [
      "torch.Size([64, 10])\n"
     ]
    }
   ],
   "source": [
    "B, C, H, W = 64, 1, 28, 28\n",
    "X = torch.rand(B, C, H, W)\n",
    "X.shape\n",
    "print(model(X).shape)"
   ]
  },
  {
   "cell_type": "markdown",
   "metadata": {},
   "source": [
    "### Nimrod training"
   ]
  },
  {
   "cell_type": "code",
   "execution_count": 261,
   "metadata": {},
   "outputs": [
    {
     "name": "stderr",
     "output_type": "stream",
     "text": [
      "[22:27:51]\n",
      "[22:27:51]\n",
      "/Users/slegroux/miniforge3/envs/nimrod/lib/python3.11/site-packages/lightning/pytorch/utilities/parsing.py:208: Attribute 'nnet' is an instance of `nn.Module` and is already saved during checkpointing. It is recommended to ignore them using `self.save_hyperparameters(ignore=['nnet'])`.\n",
      "[22:27:51]\n",
      "[22:27:51]\n",
      "[22:27:51]\n",
      "[22:27:51]\n",
      "[22:27:51]\n"
     ]
    }
   ],
   "source": [
    "# model\n",
    "cfg = OmegaConf.load('../config/image/model/conv.yaml')\n",
    "model = instantiate(cfg)\n",
    "\n",
    "# data module config\n",
    "cfg = OmegaConf.load('../config/image/data/mnist.yaml')\n",
    "cfg.datamodule.batch_size = 2048\n",
    "cfg.datamodule.num_workers = 0\n",
    "datamodule = instantiate(cfg.datamodule)\n",
    "# datamodule.prepare_data()\n",
    "datamodule.setup()"
   ]
  },
  {
   "cell_type": "code",
   "execution_count": 262,
   "metadata": {},
   "outputs": [
    {
     "name": "stderr",
     "output_type": "stream",
     "text": [
      "GPU available: True (mps), used: True\n",
      "TPU available: False, using: 0 TPU cores\n",
      "HPU available: False, using: 0 HPUs\n"
     ]
    }
   ],
   "source": [
    "trainer = Trainer(\n",
    "    accelerator=\"auto\",\n",
    "    max_epochs=3,\n",
    "    logger=CSVLogger(\"logs\", name=\"mnist_convnet\")\n",
    "    )\n"
   ]
  },
  {
   "cell_type": "code",
   "execution_count": 263,
   "metadata": {},
   "outputs": [
    {
     "name": "stderr",
     "output_type": "stream",
     "text": [
      "\n",
      "  | Name         | Type               | Params | Mode \n",
      "------------------------------------------------------------\n",
      "0 | loss         | CrossEntropyLoss   | 0      | train\n",
      "1 | train_acc    | MulticlassAccuracy | 0      | train\n",
      "2 | val_acc      | MulticlassAccuracy | 0      | train\n",
      "3 | test_acc     | MulticlassAccuracy | 0      | train\n",
      "4 | train_loss   | MeanMetric         | 0      | train\n",
      "5 | val_loss     | MeanMetric         | 0      | train\n",
      "6 | test_loss    | MeanMetric         | 0      | train\n",
      "7 | val_acc_best | MaxMetric          | 0      | train\n",
      "8 | nnet         | ConvNet            | 30.5 K | train\n",
      "------------------------------------------------------------\n",
      "30.5 K    Trainable params\n",
      "0         Non-trainable params\n",
      "30.5 K    Total params\n",
      "0.122     Total estimated model params size (MB)\n",
      "31        Modules in train mode\n",
      "0         Modules in eval mode\n"
     ]
    },
    {
     "data": {
      "application/vnd.jupyter.widget-view+json": {
       "model_id": "9bc11005a71547ec8f1188760d95ec00",
       "version_major": 2,
       "version_minor": 0
      },
      "text/plain": [
       "Sanity Checking: |          | 0/? [00:00<?, ?it/s]"
      ]
     },
     "metadata": {},
     "output_type": "display_data"
    },
    {
     "name": "stderr",
     "output_type": "stream",
     "text": [
      "/Users/slegroux/miniforge3/envs/nimrod/lib/python3.11/site-packages/lightning/pytorch/trainer/connectors/data_connector.py:424: The 'val_dataloader' does not have many workers which may be a bottleneck. Consider increasing the value of the `num_workers` argument` to `num_workers=11` in the `DataLoader` to improve performance.\n"
     ]
    },
    {
     "name": "stdout",
     "output_type": "stream",
     "text": [
      "tensor(2.3023, device='mps:0')\n",
      "tensor(2.3024, device='mps:0')\n"
     ]
    },
    {
     "name": "stderr",
     "output_type": "stream",
     "text": [
      "/Users/slegroux/miniforge3/envs/nimrod/lib/python3.11/site-packages/lightning/pytorch/trainer/connectors/data_connector.py:424: The 'train_dataloader' does not have many workers which may be a bottleneck. Consider increasing the value of the `num_workers` argument` to `num_workers=11` in the `DataLoader` to improve performance.\n",
      "/Users/slegroux/miniforge3/envs/nimrod/lib/python3.11/site-packages/lightning/pytorch/loops/fit_loop.py:298: The number of training batches (28) is smaller than the logging interval Trainer(log_every_n_steps=50). Set a lower value for log_every_n_steps if you want to see logs for the training epoch.\n"
     ]
    },
    {
     "data": {
      "application/vnd.jupyter.widget-view+json": {
       "model_id": "c329cd3ee5cd433daae9987bbb14fc14",
       "version_major": 2,
       "version_minor": 0
      },
      "text/plain": [
       "Training: |          | 0/? [00:00<?, ?it/s]"
      ]
     },
     "metadata": {},
     "output_type": "display_data"
    },
    {
     "name": "stdout",
     "output_type": "stream",
     "text": [
      "tensor(2.8205, device='mps:0', grad_fn=<NllLossBackward0>)\n",
      "tensor(2.3376, device='mps:0', grad_fn=<NllLossBackward0>)\n",
      "tensor(2.0113, device='mps:0', grad_fn=<NllLossBackward0>)\n",
      "tensor(1.7268, device='mps:0', grad_fn=<NllLossBackward0>)\n",
      "tensor(1.5318, device='mps:0', grad_fn=<NllLossBackward0>)\n",
      "tensor(1.4073, device='mps:0', grad_fn=<NllLossBackward0>)\n",
      "tensor(1.2975, device='mps:0', grad_fn=<NllLossBackward0>)\n",
      "tensor(1.2293, device='mps:0', grad_fn=<NllLossBackward0>)\n",
      "tensor(1.1773, device='mps:0', grad_fn=<NllLossBackward0>)\n",
      "tensor(1.1211, device='mps:0', grad_fn=<NllLossBackward0>)\n",
      "tensor(1.0507, device='mps:0', grad_fn=<NllLossBackward0>)\n",
      "tensor(1.0264, device='mps:0', grad_fn=<NllLossBackward0>)\n",
      "tensor(0.9816, device='mps:0', grad_fn=<NllLossBackward0>)\n",
      "tensor(0.9353, device='mps:0', grad_fn=<NllLossBackward0>)\n",
      "tensor(0.9536, device='mps:0', grad_fn=<NllLossBackward0>)\n",
      "tensor(0.9075, device='mps:0', grad_fn=<NllLossBackward0>)\n",
      "tensor(0.8970, device='mps:0', grad_fn=<NllLossBackward0>)\n",
      "tensor(0.8515, device='mps:0', grad_fn=<NllLossBackward0>)\n",
      "tensor(0.8665, device='mps:0', grad_fn=<NllLossBackward0>)\n",
      "tensor(0.8286, device='mps:0', grad_fn=<NllLossBackward0>)\n",
      "tensor(0.8206, device='mps:0', grad_fn=<NllLossBackward0>)\n",
      "tensor(0.8137, device='mps:0', grad_fn=<NllLossBackward0>)\n",
      "tensor(0.7976, device='mps:0', grad_fn=<NllLossBackward0>)\n",
      "tensor(0.7821, device='mps:0', grad_fn=<NllLossBackward0>)\n",
      "tensor(0.7467, device='mps:0', grad_fn=<NllLossBackward0>)\n",
      "tensor(0.7556, device='mps:0', grad_fn=<NllLossBackward0>)\n",
      "tensor(0.7578, device='mps:0', grad_fn=<NllLossBackward0>)\n",
      "tensor(0.6995, device='mps:0', grad_fn=<NllLossBackward0>)\n"
     ]
    },
    {
     "data": {
      "application/vnd.jupyter.widget-view+json": {
       "model_id": "5f38547f3f1a4160bb6663dd1ffacf6f",
       "version_major": 2,
       "version_minor": 0
      },
      "text/plain": [
       "Validation: |          | 0/? [00:00<?, ?it/s]"
      ]
     },
     "metadata": {},
     "output_type": "display_data"
    },
    {
     "name": "stdout",
     "output_type": "stream",
     "text": [
      "tensor(1.7100, device='mps:0')\n",
      "tensor(1.7613, device='mps:0')\n",
      "tensor(1.7142, device='mps:0')\n",
      "tensor(1.7229, device='mps:0')\n",
      "tensor(0.6929, device='mps:0', grad_fn=<NllLossBackward0>)\n",
      "tensor(0.7048, device='mps:0', grad_fn=<NllLossBackward0>)\n",
      "tensor(0.6919, device='mps:0', grad_fn=<NllLossBackward0>)\n",
      "tensor(0.6823, device='mps:0', grad_fn=<NllLossBackward0>)\n",
      "tensor(0.6875, device='mps:0', grad_fn=<NllLossBackward0>)\n",
      "tensor(0.6663, device='mps:0', grad_fn=<NllLossBackward0>)\n",
      "tensor(0.6672, device='mps:0', grad_fn=<NllLossBackward0>)\n",
      "tensor(0.6483, device='mps:0', grad_fn=<NllLossBackward0>)\n",
      "tensor(0.6668, device='mps:0', grad_fn=<NllLossBackward0>)\n",
      "tensor(0.6402, device='mps:0', grad_fn=<NllLossBackward0>)\n",
      "tensor(0.6482, device='mps:0', grad_fn=<NllLossBackward0>)\n",
      "tensor(0.6252, device='mps:0', grad_fn=<NllLossBackward0>)\n",
      "tensor(0.6130, device='mps:0', grad_fn=<NllLossBackward0>)\n",
      "tensor(0.6068, device='mps:0', grad_fn=<NllLossBackward0>)\n",
      "tensor(0.6011, device='mps:0', grad_fn=<NllLossBackward0>)\n",
      "tensor(0.6052, device='mps:0', grad_fn=<NllLossBackward0>)\n",
      "tensor(0.5937, device='mps:0', grad_fn=<NllLossBackward0>)\n",
      "tensor(0.5932, device='mps:0', grad_fn=<NllLossBackward0>)\n",
      "tensor(0.5749, device='mps:0', grad_fn=<NllLossBackward0>)\n",
      "tensor(0.5922, device='mps:0', grad_fn=<NllLossBackward0>)\n",
      "tensor(0.5704, device='mps:0', grad_fn=<NllLossBackward0>)\n",
      "tensor(0.5747, device='mps:0', grad_fn=<NllLossBackward0>)\n",
      "tensor(0.5640, device='mps:0', grad_fn=<NllLossBackward0>)\n",
      "tensor(0.5678, device='mps:0', grad_fn=<NllLossBackward0>)\n",
      "tensor(0.5614, device='mps:0', grad_fn=<NllLossBackward0>)\n",
      "tensor(0.5432, device='mps:0', grad_fn=<NllLossBackward0>)\n",
      "tensor(0.5528, device='mps:0', grad_fn=<NllLossBackward0>)\n",
      "tensor(0.5369, device='mps:0', grad_fn=<NllLossBackward0>)\n"
     ]
    },
    {
     "data": {
      "application/vnd.jupyter.widget-view+json": {
       "model_id": "e6d4ee6b51924e4683c41170f3dc2b0e",
       "version_major": 2,
       "version_minor": 0
      },
      "text/plain": [
       "Validation: |          | 0/? [00:00<?, ?it/s]"
      ]
     },
     "metadata": {},
     "output_type": "display_data"
    },
    {
     "name": "stdout",
     "output_type": "stream",
     "text": [
      "tensor(0.5687, device='mps:0')\n",
      "tensor(0.5760, device='mps:0')\n",
      "tensor(0.5642, device='mps:0')\n",
      "tensor(0.5589, device='mps:0')\n",
      "tensor(0.5277, device='mps:0', grad_fn=<NllLossBackward0>)\n",
      "tensor(0.5384, device='mps:0', grad_fn=<NllLossBackward0>)\n",
      "tensor(0.5272, device='mps:0', grad_fn=<NllLossBackward0>)\n",
      "tensor(0.5212, device='mps:0', grad_fn=<NllLossBackward0>)\n",
      "tensor(0.5327, device='mps:0', grad_fn=<NllLossBackward0>)\n",
      "tensor(0.4961, device='mps:0', grad_fn=<NllLossBackward0>)\n",
      "tensor(0.5047, device='mps:0', grad_fn=<NllLossBackward0>)\n",
      "tensor(0.5021, device='mps:0', grad_fn=<NllLossBackward0>)\n",
      "tensor(0.5024, device='mps:0', grad_fn=<NllLossBackward0>)\n",
      "tensor(0.5002, device='mps:0', grad_fn=<NllLossBackward0>)\n",
      "tensor(0.5009, device='mps:0', grad_fn=<NllLossBackward0>)\n",
      "tensor(0.4895, device='mps:0', grad_fn=<NllLossBackward0>)\n",
      "tensor(0.5008, device='mps:0', grad_fn=<NllLossBackward0>)\n",
      "tensor(0.4977, device='mps:0', grad_fn=<NllLossBackward0>)\n",
      "tensor(0.4880, device='mps:0', grad_fn=<NllLossBackward0>)\n",
      "tensor(0.4876, device='mps:0', grad_fn=<NllLossBackward0>)\n",
      "tensor(0.4832, device='mps:0', grad_fn=<NllLossBackward0>)\n",
      "tensor(0.4780, device='mps:0', grad_fn=<NllLossBackward0>)\n",
      "tensor(0.4663, device='mps:0', grad_fn=<NllLossBackward0>)\n",
      "tensor(0.4760, device='mps:0', grad_fn=<NllLossBackward0>)\n",
      "tensor(0.4666, device='mps:0', grad_fn=<NllLossBackward0>)\n",
      "tensor(0.4620, device='mps:0', grad_fn=<NllLossBackward0>)\n",
      "tensor(0.4439, device='mps:0', grad_fn=<NllLossBackward0>)\n",
      "tensor(0.4552, device='mps:0', grad_fn=<NllLossBackward0>)\n",
      "tensor(0.4500, device='mps:0', grad_fn=<NllLossBackward0>)\n",
      "tensor(0.4510, device='mps:0', grad_fn=<NllLossBackward0>)\n",
      "tensor(0.4401, device='mps:0', grad_fn=<NllLossBackward0>)\n",
      "tensor(0.4349, device='mps:0', grad_fn=<NllLossBackward0>)\n"
     ]
    },
    {
     "data": {
      "application/vnd.jupyter.widget-view+json": {
       "model_id": "bc6d41f8db1448f2abf2ac1d2fe93768",
       "version_major": 2,
       "version_minor": 0
      },
      "text/plain": [
       "Validation: |          | 0/? [00:00<?, ?it/s]"
      ]
     },
     "metadata": {},
     "output_type": "display_data"
    },
    {
     "name": "stdout",
     "output_type": "stream",
     "text": [
      "tensor(0.4381, device='mps:0')\n",
      "tensor(0.4420, device='mps:0')\n",
      "tensor(0.4373, device='mps:0')\n"
     ]
    },
    {
     "name": "stderr",
     "output_type": "stream",
     "text": [
      "`Trainer.fit` stopped: `max_epochs=3` reached.\n"
     ]
    },
    {
     "name": "stdout",
     "output_type": "stream",
     "text": [
      "tensor(0.4278, device='mps:0')\n"
     ]
    }
   ],
   "source": [
    "#| notest\n",
    "trainer.fit(model, datamodule.train_dataloader(), datamodule.val_dataloader())\n"
   ]
  },
  {
   "cell_type": "code",
   "execution_count": 264,
   "metadata": {},
   "outputs": [
    {
     "data": {
      "text/html": [
       "<div>\n",
       "<style scoped>\n",
       "    .dataframe tbody tr th:only-of-type {\n",
       "        vertical-align: middle;\n",
       "    }\n",
       "\n",
       "    .dataframe tbody tr th {\n",
       "        vertical-align: top;\n",
       "    }\n",
       "\n",
       "    .dataframe thead th {\n",
       "        text-align: right;\n",
       "    }\n",
       "</style>\n",
       "<table border=\"1\" class=\"dataframe\">\n",
       "  <thead>\n",
       "    <tr style=\"text-align: right;\">\n",
       "      <th></th>\n",
       "      <th>epoch</th>\n",
       "      <th>step</th>\n",
       "      <th>train/acc_epoch</th>\n",
       "      <th>train/acc_step</th>\n",
       "      <th>train/loss_epoch</th>\n",
       "      <th>train/loss_step</th>\n",
       "      <th>val/acc</th>\n",
       "      <th>val/acc_best</th>\n",
       "      <th>val/loss</th>\n",
       "    </tr>\n",
       "  </thead>\n",
       "  <tbody>\n",
       "    <tr>\n",
       "      <th>0</th>\n",
       "      <td>0</td>\n",
       "      <td>27</td>\n",
       "      <td>NaN</td>\n",
       "      <td>NaN</td>\n",
       "      <td>NaN</td>\n",
       "      <td>NaN</td>\n",
       "      <td>0.409857</td>\n",
       "      <td>0.409857</td>\n",
       "      <td>1.727103</td>\n",
       "    </tr>\n",
       "    <tr>\n",
       "      <th>1</th>\n",
       "      <td>0</td>\n",
       "      <td>27</td>\n",
       "      <td>0.714696</td>\n",
       "      <td>NaN</td>\n",
       "      <td>1.147601</td>\n",
       "      <td>NaN</td>\n",
       "      <td>NaN</td>\n",
       "      <td>NaN</td>\n",
       "      <td>NaN</td>\n",
       "    </tr>\n",
       "    <tr>\n",
       "      <th>2</th>\n",
       "      <td>1</td>\n",
       "      <td>49</td>\n",
       "      <td>NaN</td>\n",
       "      <td>0.925781</td>\n",
       "      <td>NaN</td>\n",
       "      <td>0.574697</td>\n",
       "      <td>NaN</td>\n",
       "      <td>NaN</td>\n",
       "      <td>NaN</td>\n",
       "    </tr>\n",
       "    <tr>\n",
       "      <th>3</th>\n",
       "      <td>1</td>\n",
       "      <td>55</td>\n",
       "      <td>NaN</td>\n",
       "      <td>NaN</td>\n",
       "      <td>NaN</td>\n",
       "      <td>NaN</td>\n",
       "      <td>0.936857</td>\n",
       "      <td>0.936857</td>\n",
       "      <td>0.566965</td>\n",
       "    </tr>\n",
       "    <tr>\n",
       "      <th>4</th>\n",
       "      <td>1</td>\n",
       "      <td>55</td>\n",
       "      <td>0.917286</td>\n",
       "      <td>NaN</td>\n",
       "      <td>0.616894</td>\n",
       "      <td>NaN</td>\n",
       "      <td>NaN</td>\n",
       "      <td>NaN</td>\n",
       "      <td>NaN</td>\n",
       "    </tr>\n",
       "  </tbody>\n",
       "</table>\n",
       "</div>"
      ],
      "text/plain": [
       "   epoch  step  train/acc_epoch  train/acc_step  train/loss_epoch  \\\n",
       "0      0    27              NaN             NaN               NaN   \n",
       "1      0    27         0.714696             NaN          1.147601   \n",
       "2      1    49              NaN        0.925781               NaN   \n",
       "3      1    55              NaN             NaN               NaN   \n",
       "4      1    55         0.917286             NaN          0.616894   \n",
       "\n",
       "   train/loss_step   val/acc  val/acc_best  val/loss  \n",
       "0              NaN  0.409857      0.409857  1.727103  \n",
       "1              NaN       NaN           NaN       NaN  \n",
       "2         0.574697       NaN           NaN       NaN  \n",
       "3              NaN  0.936857      0.936857  0.566965  \n",
       "4              NaN       NaN           NaN       NaN  "
      ]
     },
     "execution_count": 264,
     "metadata": {},
     "output_type": "execute_result"
    }
   ],
   "source": [
    "#| notest\n",
    "csv_path = f\"{trainer.logger.log_dir}/metrics.csv\"\n",
    "metrics = pd.read_csv(csv_path)\n",
    "metrics.head(5)"
   ]
  },
  {
   "cell_type": "code",
   "execution_count": 259,
   "metadata": {},
   "outputs": [
    {
     "data": {
      "image/png": "[encoded data removed]",
      "text/plain": [
       "<Figure size 640x480 with 1 Axes>"
      ]
     },
     "metadata": {},
     "output_type": "display_data"
    }
   ],
   "source": [
    "#| notest\n",
    "plt.figure()\n",
    "plt.plot(metrics['step'], metrics['train/loss_step'], 'b.-')\n",
    "plt.plot(metrics['step'], metrics['val/loss'],'r.-')\n",
    "plt.show()"
   ]
  },
  {
   "cell_type": "code",
   "execution_count": null,
   "metadata": {},
   "outputs": [],
   "source": [
    "#| hide\n",
    "import nbdev; nbdev.nbdev_export()"
   ]
  }
 ],
 "metadata": {
  "kernelspec": {
   "display_name": "nimrod",
   "language": "python",
   "name": "python3"
  },
  "language_info": {
   "codemirror_mode": {
    "name": "ipython",
    "version": 3
   },
   "file_extension": ".py",
   "mimetype": "text/x-python",
   "name": "python",
   "nbconvert_exporter": "python",
   "pygments_lexer": "ipython3",
   "version": "3.11.8"
  }
 },
 "nbformat": 4,
 "nbformat_minor": 2
}
