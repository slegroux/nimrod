{
 "cells": [
  {
   "cell_type": "markdown",
   "metadata": {},
   "source": [
    "# Convolution Neural Networks"
   ]
  },
  {
   "cell_type": "code",
   "execution_count": null,
   "metadata": {},
   "outputs": [],
   "source": [
    "#| default_exp models.conv"
   ]
  },
  {
   "cell_type": "code",
   "execution_count": null,
   "metadata": {},
   "outputs": [],
   "source": [
    "#| hide\n",
    "%load_ext autoreload\n",
    "%autoreload 2\n",
    "from nbdev.showdoc import *"
   ]
  },
  {
   "cell_type": "code",
   "execution_count": null,
   "metadata": {},
   "outputs": [
    {
     "name": "stderr",
     "output_type": "stream",
     "text": [
      "[14:49:23] INFO - PyTorch version 2.3.0 available.\n",
      "Seed set to 42\n",
      "/user/s/slegroux/miniconda3/envs/nimrod/lib/python3.11/site-packages/torchvision/transforms/v2/_deprecated.py:42: UserWarning: The transform `ToTensor()` is deprecated and will be removed in a future release. Instead, please use `v2.Compose([v2.ToImage(), v2.ToDtype(torch.float32, scale=True)])`.Output is equivalent up to float precision.\n",
      "  warnings.warn(\n"
     ]
    }
   ],
   "source": [
    "#| export\n",
    "import torch.nn as nn\n",
    "import torch\n",
    "\n",
    "from lightning import Trainer\n",
    "from lightning.pytorch.loggers import CSVLogger, TensorBoardLogger\n",
    "from lightning.pytorch.tuner.tuning import Tuner\n",
    "from lightning.pytorch.callbacks import LearningRateMonitor, ModelCheckpoint\n",
    "\n",
    "from torch_lr_finder import LRFinder\n",
    "from torchinfo import summary\n",
    "\n",
    "from hydra.utils import instantiate\n",
    "from omegaconf import OmegaConf\n",
    "\n",
    "from matplotlib import pyplot as plt\n",
    "import pandas as pd\n",
    "from typing import List, Optional, Type, Callable, Any\n",
    "from functools import partial\n",
    "\n",
    "from nimrod.utils import get_device, set_seed\n",
    "from nimrod.models.core import Classifier\n",
    "\n",
    "from pprint import pprint\n",
    "import logging\n"
   ]
  },
  {
   "cell_type": "code",
   "execution_count": null,
   "metadata": {},
   "outputs": [
    {
     "name": "stderr",
     "output_type": "stream",
     "text": [
      "Seed set to 42\n"
     ]
    }
   ],
   "source": [
    "#| export\n",
    "logger = logging.getLogger(__name__)\n",
    "set_seed()"
   ]
  },
  {
   "cell_type": "markdown",
   "metadata": {},
   "source": [
    "## Conv filters"
   ]
  },
  {
   "cell_type": "code",
   "execution_count": null,
   "metadata": {},
   "outputs": [
    {
     "name": "stderr",
     "output_type": "stream",
     "text": [
      "[14:49:25] INFO - Init ImageDataModule for mnist\n",
      "[14:49:29] INFO - loading dataset mnist with args () from split train\n",
      "[14:49:29] INFO - loading dataset mnist from split train\n"
     ]
    },
    {
     "ename": "KeyboardInterrupt",
     "evalue": "",
     "output_type": "error",
     "traceback": [
      "\u001b[0;31m---------------------------------------------------------------------------\u001b[0m",
      "\u001b[0;31mKeyboardInterrupt\u001b[0m                         Traceback (most recent call last)",
      "Cell \u001b[0;32mIn[6], line 4\u001b[0m\n\u001b[1;32m      2\u001b[0m cfg \u001b[38;5;241m=\u001b[39m OmegaConf\u001b[38;5;241m.\u001b[39mload(\u001b[38;5;124m'\u001b[39m\u001b[38;5;124m../config/data/image/mnist.yaml\u001b[39m\u001b[38;5;124m'\u001b[39m)\n\u001b[1;32m      3\u001b[0m dm \u001b[38;5;241m=\u001b[39m instantiate(cfg)\n\u001b[0;32m----> 4\u001b[0m dm\u001b[38;5;241m.\u001b[39mprepare_data()\n\u001b[1;32m      5\u001b[0m dm\u001b[38;5;241m.\u001b[39msetup()\n",
      "File \u001b[0;32m~/Projects/nimrod/nimrod/image/datasets.py:415\u001b[0m, in \u001b[0;36mImageDataModule.prepare_data\u001b[0;34m(self)\u001b[0m\n\u001b[1;32m    412\u001b[0m \u001b[38;5;250m\u001b[39m\u001b[38;5;124;03m\"\"\"Download data if needed \u001b[39;00m\n\u001b[1;32m    413\u001b[0m \u001b[38;5;124;03m\"\"\"\u001b[39;00m\n\u001b[1;32m    414\u001b[0m \u001b[38;5;66;03m# train set\u001b[39;00m\n\u001b[0;32m--> 415\u001b[0m \u001b[38;5;28mself\u001b[39m\u001b[38;5;241m.\u001b[39mtrain_ds \u001b[38;5;241m=\u001b[39m ImageDataset(\n\u001b[1;32m    416\u001b[0m     \u001b[38;5;28mself\u001b[39m\u001b[38;5;241m.\u001b[39mhparams\u001b[38;5;241m.\u001b[39mname,\n\u001b[1;32m    417\u001b[0m     \u001b[38;5;241m*\u001b[39m\u001b[38;5;28mself\u001b[39m\u001b[38;5;241m.\u001b[39margs,\n\u001b[1;32m    418\u001b[0m     data_dir \u001b[38;5;241m=\u001b[39m \u001b[38;5;28mself\u001b[39m\u001b[38;5;241m.\u001b[39mhparams\u001b[38;5;241m.\u001b[39mdata_dir,\n\u001b[1;32m    419\u001b[0m     split\u001b[38;5;241m=\u001b[39m\u001b[38;5;124m'\u001b[39m\u001b[38;5;124mtrain\u001b[39m\u001b[38;5;124m'\u001b[39m,\n\u001b[1;32m    420\u001b[0m     transforms \u001b[38;5;241m=\u001b[39m \u001b[38;5;28mself\u001b[39m\u001b[38;5;241m.\u001b[39mhparams\u001b[38;5;241m.\u001b[39mtransforms,\n\u001b[1;32m    421\u001b[0m     \u001b[38;5;241m*\u001b[39m\u001b[38;5;241m*\u001b[39m\u001b[38;5;28mself\u001b[39m\u001b[38;5;241m.\u001b[39mkwargs\n\u001b[1;32m    422\u001b[0m )\n\u001b[1;32m    423\u001b[0m \u001b[38;5;66;03m# get num classes before setup method converst ImageDataset to Subset\u001b[39;00m\n\u001b[1;32m    424\u001b[0m \u001b[38;5;28mself\u001b[39m\u001b[38;5;241m.\u001b[39m_num_classes \u001b[38;5;241m=\u001b[39m \u001b[38;5;28mself\u001b[39m\u001b[38;5;241m.\u001b[39mtrain_ds\u001b[38;5;241m.\u001b[39mnum_classes\n",
      "File \u001b[0;32m~/Projects/nimrod/nimrod/image/datasets.py:228\u001b[0m, in \u001b[0;36mImageDataset.__init__\u001b[0;34m(self, name, data_dir, split, transforms, streaming, exclude_grey_scale, verification_mode, from_image_folder, from_disk, *args)\u001b[0m\n\u001b[1;32m    226\u001b[0m \u001b[38;5;28;01melse\u001b[39;00m:\n\u001b[1;32m    227\u001b[0m     logger\u001b[38;5;241m.\u001b[39minfo(\u001b[38;5;124mf\u001b[39m\u001b[38;5;124m\"\u001b[39m\u001b[38;5;124mloading dataset \u001b[39m\u001b[38;5;132;01m{\u001b[39;00mname\u001b[38;5;132;01m}\u001b[39;00m\u001b[38;5;124m from split \u001b[39m\u001b[38;5;132;01m{\u001b[39;00msplit\u001b[38;5;132;01m}\u001b[39;00m\u001b[38;5;124m\"\u001b[39m)\n\u001b[0;32m--> 228\u001b[0m     \u001b[38;5;28mself\u001b[39m\u001b[38;5;241m.\u001b[39mhf_ds \u001b[38;5;241m=\u001b[39m load_dataset(\n\u001b[1;32m    229\u001b[0m         name,\n\u001b[1;32m    230\u001b[0m         \u001b[38;5;241m*\u001b[39margs,\n\u001b[1;32m    231\u001b[0m         split\u001b[38;5;241m=\u001b[39msplit,\n\u001b[1;32m    232\u001b[0m         cache_dir\u001b[38;5;241m=\u001b[39mdata_dir,\n\u001b[1;32m    233\u001b[0m         download_mode\u001b[38;5;241m=\u001b[39m\u001b[38;5;124m'\u001b[39m\u001b[38;5;124mreuse_dataset_if_exists\u001b[39m\u001b[38;5;124m'\u001b[39m,\n\u001b[1;32m    234\u001b[0m         streaming\u001b[38;5;241m=\u001b[39mstreaming,\n\u001b[1;32m    235\u001b[0m         verification_mode\u001b[38;5;241m=\u001b[39mverification_mode\n\u001b[1;32m    236\u001b[0m         \n\u001b[1;32m    237\u001b[0m     )\n\u001b[1;32m    239\u001b[0m \u001b[38;5;66;03m# CHANGE IMAGE COLUMN NAME IF NEEDED\u001b[39;00m\n\u001b[1;32m    240\u001b[0m \u001b[38;5;28mself\u001b[39m\u001b[38;5;241m.\u001b[39mimage_column_name \u001b[38;5;241m=\u001b[39m \u001b[38;5;124m'\u001b[39m\u001b[38;5;124mimage\u001b[39m\u001b[38;5;124m'\u001b[39m\n",
      "File \u001b[0;32m~/miniconda3/envs/nimrod/lib/python3.11/site-packages/datasets/load.py:2129\u001b[0m, in \u001b[0;36mload_dataset\u001b[0;34m(path, name, data_dir, data_files, split, cache_dir, features, download_config, download_mode, verification_mode, keep_in_memory, save_infos, revision, token, streaming, num_proc, storage_options, trust_remote_code, **config_kwargs)\u001b[0m\n\u001b[1;32m   2124\u001b[0m verification_mode \u001b[38;5;241m=\u001b[39m VerificationMode(\n\u001b[1;32m   2125\u001b[0m     (verification_mode \u001b[38;5;129;01mor\u001b[39;00m VerificationMode\u001b[38;5;241m.\u001b[39mBASIC_CHECKS) \u001b[38;5;28;01mif\u001b[39;00m \u001b[38;5;129;01mnot\u001b[39;00m save_infos \u001b[38;5;28;01melse\u001b[39;00m VerificationMode\u001b[38;5;241m.\u001b[39mALL_CHECKS\n\u001b[1;32m   2126\u001b[0m )\n\u001b[1;32m   2128\u001b[0m \u001b[38;5;66;03m# Create a dataset builder\u001b[39;00m\n\u001b[0;32m-> 2129\u001b[0m builder_instance \u001b[38;5;241m=\u001b[39m load_dataset_builder(\n\u001b[1;32m   2130\u001b[0m     path\u001b[38;5;241m=\u001b[39mpath,\n\u001b[1;32m   2131\u001b[0m     name\u001b[38;5;241m=\u001b[39mname,\n\u001b[1;32m   2132\u001b[0m     data_dir\u001b[38;5;241m=\u001b[39mdata_dir,\n\u001b[1;32m   2133\u001b[0m     data_files\u001b[38;5;241m=\u001b[39mdata_files,\n\u001b[1;32m   2134\u001b[0m     cache_dir\u001b[38;5;241m=\u001b[39mcache_dir,\n\u001b[1;32m   2135\u001b[0m     features\u001b[38;5;241m=\u001b[39mfeatures,\n\u001b[1;32m   2136\u001b[0m     download_config\u001b[38;5;241m=\u001b[39mdownload_config,\n\u001b[1;32m   2137\u001b[0m     download_mode\u001b[38;5;241m=\u001b[39mdownload_mode,\n\u001b[1;32m   2138\u001b[0m     revision\u001b[38;5;241m=\u001b[39mrevision,\n\u001b[1;32m   2139\u001b[0m     token\u001b[38;5;241m=\u001b[39mtoken,\n\u001b[1;32m   2140\u001b[0m     storage_options\u001b[38;5;241m=\u001b[39mstorage_options,\n\u001b[1;32m   2141\u001b[0m     trust_remote_code\u001b[38;5;241m=\u001b[39mtrust_remote_code,\n\u001b[1;32m   2142\u001b[0m     _require_default_config_name\u001b[38;5;241m=\u001b[39mname \u001b[38;5;129;01mis\u001b[39;00m \u001b[38;5;28;01mNone\u001b[39;00m,\n\u001b[1;32m   2143\u001b[0m     \u001b[38;5;241m*\u001b[39m\u001b[38;5;241m*\u001b[39mconfig_kwargs,\n\u001b[1;32m   2144\u001b[0m )\n\u001b[1;32m   2146\u001b[0m \u001b[38;5;66;03m# Return iterable dataset in case of streaming\u001b[39;00m\n\u001b[1;32m   2147\u001b[0m \u001b[38;5;28;01mif\u001b[39;00m streaming:\n",
      "File \u001b[0;32m~/miniconda3/envs/nimrod/lib/python3.11/site-packages/datasets/load.py:1886\u001b[0m, in \u001b[0;36mload_dataset_builder\u001b[0;34m(path, name, data_dir, data_files, cache_dir, features, download_config, download_mode, revision, token, storage_options, trust_remote_code, _require_default_config_name, **config_kwargs)\u001b[0m\n\u001b[1;32m   1884\u001b[0m builder_cls \u001b[38;5;241m=\u001b[39m get_dataset_builder_class(dataset_module, dataset_name\u001b[38;5;241m=\u001b[39mdataset_name)\n\u001b[1;32m   1885\u001b[0m \u001b[38;5;66;03m# Instantiate the dataset builder\u001b[39;00m\n\u001b[0;32m-> 1886\u001b[0m builder_instance: DatasetBuilder \u001b[38;5;241m=\u001b[39m builder_cls(\n\u001b[1;32m   1887\u001b[0m     cache_dir\u001b[38;5;241m=\u001b[39mcache_dir,\n\u001b[1;32m   1888\u001b[0m     dataset_name\u001b[38;5;241m=\u001b[39mdataset_name,\n\u001b[1;32m   1889\u001b[0m     config_name\u001b[38;5;241m=\u001b[39mconfig_name,\n\u001b[1;32m   1890\u001b[0m     data_dir\u001b[38;5;241m=\u001b[39mdata_dir,\n\u001b[1;32m   1891\u001b[0m     data_files\u001b[38;5;241m=\u001b[39mdata_files,\n\u001b[1;32m   1892\u001b[0m     \u001b[38;5;28mhash\u001b[39m\u001b[38;5;241m=\u001b[39mdataset_module\u001b[38;5;241m.\u001b[39mhash,\n\u001b[1;32m   1893\u001b[0m     info\u001b[38;5;241m=\u001b[39minfo,\n\u001b[1;32m   1894\u001b[0m     features\u001b[38;5;241m=\u001b[39mfeatures,\n\u001b[1;32m   1895\u001b[0m     token\u001b[38;5;241m=\u001b[39mtoken,\n\u001b[1;32m   1896\u001b[0m     storage_options\u001b[38;5;241m=\u001b[39mstorage_options,\n\u001b[1;32m   1897\u001b[0m     \u001b[38;5;241m*\u001b[39m\u001b[38;5;241m*\u001b[39mbuilder_kwargs,\n\u001b[1;32m   1898\u001b[0m     \u001b[38;5;241m*\u001b[39m\u001b[38;5;241m*\u001b[39mconfig_kwargs,\n\u001b[1;32m   1899\u001b[0m )\n\u001b[1;32m   1900\u001b[0m builder_instance\u001b[38;5;241m.\u001b[39m_use_legacy_cache_dir_if_possible(dataset_module)\n\u001b[1;32m   1902\u001b[0m \u001b[38;5;28;01mreturn\u001b[39;00m builder_instance\n",
      "File \u001b[0;32m~/miniconda3/envs/nimrod/lib/python3.11/site-packages/datasets/builder.py:342\u001b[0m, in \u001b[0;36mDatasetBuilder.__init__\u001b[0;34m(self, cache_dir, dataset_name, config_name, hash, base_path, info, features, token, repo_id, data_files, data_dir, storage_options, writer_batch_size, **config_kwargs)\u001b[0m\n\u001b[1;32m    340\u001b[0m     config_kwargs[\u001b[38;5;124m\"\u001b[39m\u001b[38;5;124mdata_dir\u001b[39m\u001b[38;5;124m\"\u001b[39m] \u001b[38;5;241m=\u001b[39m data_dir\n\u001b[1;32m    341\u001b[0m \u001b[38;5;28mself\u001b[39m\u001b[38;5;241m.\u001b[39mconfig_kwargs \u001b[38;5;241m=\u001b[39m config_kwargs\n\u001b[0;32m--> 342\u001b[0m \u001b[38;5;28mself\u001b[39m\u001b[38;5;241m.\u001b[39mconfig, \u001b[38;5;28mself\u001b[39m\u001b[38;5;241m.\u001b[39mconfig_id \u001b[38;5;241m=\u001b[39m \u001b[38;5;28mself\u001b[39m\u001b[38;5;241m.\u001b[39m_create_builder_config(\n\u001b[1;32m    343\u001b[0m     config_name\u001b[38;5;241m=\u001b[39mconfig_name,\n\u001b[1;32m    344\u001b[0m     custom_features\u001b[38;5;241m=\u001b[39mfeatures,\n\u001b[1;32m    345\u001b[0m     \u001b[38;5;241m*\u001b[39m\u001b[38;5;241m*\u001b[39mconfig_kwargs,\n\u001b[1;32m    346\u001b[0m )\n\u001b[1;32m    348\u001b[0m \u001b[38;5;66;03m# prepare info: DatasetInfo are a standardized dataclass across all datasets\u001b[39;00m\n\u001b[1;32m    349\u001b[0m \u001b[38;5;66;03m# Prefill datasetinfo\u001b[39;00m\n\u001b[1;32m    350\u001b[0m \u001b[38;5;28;01mif\u001b[39;00m info \u001b[38;5;129;01mis\u001b[39;00m \u001b[38;5;28;01mNone\u001b[39;00m:\n\u001b[1;32m    351\u001b[0m     \u001b[38;5;66;03m# TODO FOR PACKAGED MODULES IT IMPORTS DATA FROM src/packaged_modules which doesn't make sense\u001b[39;00m\n",
      "File \u001b[0;32m~/miniconda3/envs/nimrod/lib/python3.11/site-packages/datasets/builder.py:597\u001b[0m, in \u001b[0;36mDatasetBuilder._create_builder_config\u001b[0;34m(self, config_name, custom_features, **config_kwargs)\u001b[0m\n\u001b[1;32m    594\u001b[0m     \u001b[38;5;28;01mraise\u001b[39;00m \u001b[38;5;167;01mValueError\u001b[39;00m(\u001b[38;5;124mf\u001b[39m\u001b[38;5;124m\"\u001b[39m\u001b[38;5;124mBuilderConfig must have a name, got \u001b[39m\u001b[38;5;132;01m{\u001b[39;00mbuilder_config\u001b[38;5;241m.\u001b[39mname\u001b[38;5;132;01m}\u001b[39;00m\u001b[38;5;124m\"\u001b[39m)\n\u001b[1;32m    596\u001b[0m \u001b[38;5;66;03m# resolve data files if needed\u001b[39;00m\n\u001b[0;32m--> 597\u001b[0m builder_config\u001b[38;5;241m.\u001b[39m_resolve_data_files(\n\u001b[1;32m    598\u001b[0m     base_path\u001b[38;5;241m=\u001b[39m\u001b[38;5;28mself\u001b[39m\u001b[38;5;241m.\u001b[39mbase_path,\n\u001b[1;32m    599\u001b[0m     download_config\u001b[38;5;241m=\u001b[39mDownloadConfig(token\u001b[38;5;241m=\u001b[39m\u001b[38;5;28mself\u001b[39m\u001b[38;5;241m.\u001b[39mtoken, storage_options\u001b[38;5;241m=\u001b[39m\u001b[38;5;28mself\u001b[39m\u001b[38;5;241m.\u001b[39mstorage_options),\n\u001b[1;32m    600\u001b[0m )\n\u001b[1;32m    602\u001b[0m \u001b[38;5;66;03m# compute the config id that is going to be used for caching\u001b[39;00m\n\u001b[1;32m    603\u001b[0m config_id \u001b[38;5;241m=\u001b[39m builder_config\u001b[38;5;241m.\u001b[39mcreate_config_id(\n\u001b[1;32m    604\u001b[0m     config_kwargs,\n\u001b[1;32m    605\u001b[0m     custom_features\u001b[38;5;241m=\u001b[39mcustom_features,\n\u001b[1;32m    606\u001b[0m )\n",
      "File \u001b[0;32m~/miniconda3/envs/nimrod/lib/python3.11/site-packages/datasets/builder.py:206\u001b[0m, in \u001b[0;36mBuilderConfig._resolve_data_files\u001b[0;34m(self, base_path, download_config)\u001b[0m\n\u001b[1;32m    204\u001b[0m \u001b[38;5;28;01mif\u001b[39;00m \u001b[38;5;28misinstance\u001b[39m(\u001b[38;5;28mself\u001b[39m\u001b[38;5;241m.\u001b[39mdata_files, DataFilesPatternsDict):\n\u001b[1;32m    205\u001b[0m     base_path \u001b[38;5;241m=\u001b[39m xjoin(base_path, \u001b[38;5;28mself\u001b[39m\u001b[38;5;241m.\u001b[39mdata_dir) \u001b[38;5;28;01mif\u001b[39;00m \u001b[38;5;28mself\u001b[39m\u001b[38;5;241m.\u001b[39mdata_dir \u001b[38;5;28;01melse\u001b[39;00m base_path\n\u001b[0;32m--> 206\u001b[0m     \u001b[38;5;28mself\u001b[39m\u001b[38;5;241m.\u001b[39mdata_files \u001b[38;5;241m=\u001b[39m \u001b[38;5;28mself\u001b[39m\u001b[38;5;241m.\u001b[39mdata_files\u001b[38;5;241m.\u001b[39mresolve(base_path, download_config)\n",
      "File \u001b[0;32m~/miniconda3/envs/nimrod/lib/python3.11/site-packages/datasets/data_files.py:818\u001b[0m, in \u001b[0;36mDataFilesPatternsDict.resolve\u001b[0;34m(self, base_path, download_config)\u001b[0m\n\u001b[1;32m    816\u001b[0m out \u001b[38;5;241m=\u001b[39m DataFilesDict()\n\u001b[1;32m    817\u001b[0m \u001b[38;5;28;01mfor\u001b[39;00m key, data_files_patterns_list \u001b[38;5;129;01min\u001b[39;00m \u001b[38;5;28mself\u001b[39m\u001b[38;5;241m.\u001b[39mitems():\n\u001b[0;32m--> 818\u001b[0m     out[key] \u001b[38;5;241m=\u001b[39m data_files_patterns_list\u001b[38;5;241m.\u001b[39mresolve(base_path, download_config)\n\u001b[1;32m    819\u001b[0m \u001b[38;5;28;01mreturn\u001b[39;00m out\n",
      "File \u001b[0;32m~/miniconda3/envs/nimrod/lib/python3.11/site-packages/datasets/data_files.py:771\u001b[0m, in \u001b[0;36mDataFilesPatternsList.resolve\u001b[0;34m(self, base_path, download_config)\u001b[0m\n\u001b[1;32m    768\u001b[0m \u001b[38;5;28;01mfor\u001b[39;00m pattern, allowed_extensions \u001b[38;5;129;01min\u001b[39;00m \u001b[38;5;28mzip\u001b[39m(\u001b[38;5;28mself\u001b[39m, \u001b[38;5;28mself\u001b[39m\u001b[38;5;241m.\u001b[39mallowed_extensions):\n\u001b[1;32m    769\u001b[0m     \u001b[38;5;28;01mtry\u001b[39;00m:\n\u001b[1;32m    770\u001b[0m         data_files\u001b[38;5;241m.\u001b[39mextend(\n\u001b[0;32m--> 771\u001b[0m             resolve_pattern(\n\u001b[1;32m    772\u001b[0m                 pattern,\n\u001b[1;32m    773\u001b[0m                 base_path\u001b[38;5;241m=\u001b[39mbase_path,\n\u001b[1;32m    774\u001b[0m                 allowed_extensions\u001b[38;5;241m=\u001b[39mallowed_extensions,\n\u001b[1;32m    775\u001b[0m                 download_config\u001b[38;5;241m=\u001b[39mdownload_config,\n\u001b[1;32m    776\u001b[0m             )\n\u001b[1;32m    777\u001b[0m         )\n\u001b[1;32m    778\u001b[0m     \u001b[38;5;28;01mexcept\u001b[39;00m \u001b[38;5;167;01mFileNotFoundError\u001b[39;00m:\n\u001b[1;32m    779\u001b[0m         \u001b[38;5;28;01mif\u001b[39;00m \u001b[38;5;129;01mnot\u001b[39;00m has_magic(pattern):\n",
      "File \u001b[0;32m~/miniconda3/envs/nimrod/lib/python3.11/site-packages/datasets/data_files.py:388\u001b[0m, in \u001b[0;36mresolve_pattern\u001b[0;34m(pattern, base_path, allowed_extensions, download_config)\u001b[0m\n\u001b[1;32m    383\u001b[0m \u001b[38;5;28;01mif\u001b[39;00m protocol \u001b[38;5;241m==\u001b[39m \u001b[38;5;124m\"\u001b[39m\u001b[38;5;124mhf\u001b[39m\u001b[38;5;124m\"\u001b[39m \u001b[38;5;129;01mand\u001b[39;00m config\u001b[38;5;241m.\u001b[39mHF_HUB_VERSION \u001b[38;5;241m>\u001b[39m\u001b[38;5;241m=\u001b[39m version\u001b[38;5;241m.\u001b[39mparse(\u001b[38;5;124m\"\u001b[39m\u001b[38;5;124m0.20.0\u001b[39m\u001b[38;5;124m\"\u001b[39m):\n\u001b[1;32m    384\u001b[0m     \u001b[38;5;66;03m# 10 times faster glob with detail=True (ignores costly info like lastCommit)\u001b[39;00m\n\u001b[1;32m    385\u001b[0m     glob_kwargs[\u001b[38;5;124m\"\u001b[39m\u001b[38;5;124mexpand_info\u001b[39m\u001b[38;5;124m\"\u001b[39m] \u001b[38;5;241m=\u001b[39m \u001b[38;5;28;01mFalse\u001b[39;00m\n\u001b[1;32m    386\u001b[0m matched_paths \u001b[38;5;241m=\u001b[39m [\n\u001b[1;32m    387\u001b[0m     filepath \u001b[38;5;28;01mif\u001b[39;00m filepath\u001b[38;5;241m.\u001b[39mstartswith(protocol_prefix) \u001b[38;5;28;01melse\u001b[39;00m protocol_prefix \u001b[38;5;241m+\u001b[39m filepath\n\u001b[0;32m--> 388\u001b[0m     \u001b[38;5;28;01mfor\u001b[39;00m filepath, info \u001b[38;5;129;01min\u001b[39;00m fs\u001b[38;5;241m.\u001b[39mglob(pattern, detail\u001b[38;5;241m=\u001b[39m\u001b[38;5;28;01mTrue\u001b[39;00m, \u001b[38;5;241m*\u001b[39m\u001b[38;5;241m*\u001b[39mglob_kwargs)\u001b[38;5;241m.\u001b[39mitems()\n\u001b[1;32m    389\u001b[0m     \u001b[38;5;28;01mif\u001b[39;00m info[\u001b[38;5;124m\"\u001b[39m\u001b[38;5;124mtype\u001b[39m\u001b[38;5;124m\"\u001b[39m] \u001b[38;5;241m==\u001b[39m \u001b[38;5;124m\"\u001b[39m\u001b[38;5;124mfile\u001b[39m\u001b[38;5;124m\"\u001b[39m\n\u001b[1;32m    390\u001b[0m     \u001b[38;5;129;01mand\u001b[39;00m (xbasename(filepath) \u001b[38;5;129;01mnot\u001b[39;00m \u001b[38;5;129;01min\u001b[39;00m files_to_ignore)\n\u001b[1;32m    391\u001b[0m     \u001b[38;5;129;01mand\u001b[39;00m \u001b[38;5;129;01mnot\u001b[39;00m _is_inside_unrequested_special_dir(filepath, fs_pattern)\n\u001b[1;32m    392\u001b[0m     \u001b[38;5;129;01mand\u001b[39;00m \u001b[38;5;129;01mnot\u001b[39;00m _is_unrequested_hidden_file_or_is_inside_unrequested_hidden_dir(filepath, fs_pattern)\n\u001b[1;32m    393\u001b[0m ]  \u001b[38;5;66;03m# ignore .ipynb and __pycache__, but keep /../\u001b[39;00m\n\u001b[1;32m    394\u001b[0m \u001b[38;5;28;01mif\u001b[39;00m allowed_extensions \u001b[38;5;129;01mis\u001b[39;00m \u001b[38;5;129;01mnot\u001b[39;00m \u001b[38;5;28;01mNone\u001b[39;00m:\n\u001b[1;32m    395\u001b[0m     out \u001b[38;5;241m=\u001b[39m [\n\u001b[1;32m    396\u001b[0m         filepath\n\u001b[1;32m    397\u001b[0m         \u001b[38;5;28;01mfor\u001b[39;00m filepath \u001b[38;5;129;01min\u001b[39;00m matched_paths\n\u001b[1;32m    398\u001b[0m         \u001b[38;5;28;01mif\u001b[39;00m \u001b[38;5;28many\u001b[39m(\u001b[38;5;124m\"\u001b[39m\u001b[38;5;124m.\u001b[39m\u001b[38;5;124m\"\u001b[39m \u001b[38;5;241m+\u001b[39m suffix \u001b[38;5;129;01min\u001b[39;00m allowed_extensions \u001b[38;5;28;01mfor\u001b[39;00m suffix \u001b[38;5;129;01min\u001b[39;00m xbasename(filepath)\u001b[38;5;241m.\u001b[39msplit(\u001b[38;5;124m\"\u001b[39m\u001b[38;5;124m.\u001b[39m\u001b[38;5;124m\"\u001b[39m)[\u001b[38;5;241m1\u001b[39m:])\n\u001b[1;32m    399\u001b[0m     ]\n",
      "File \u001b[0;32m~/miniconda3/envs/nimrod/lib/python3.11/site-packages/huggingface_hub/hf_file_system.py:521\u001b[0m, in \u001b[0;36mHfFileSystem.glob\u001b[0;34m(self, path, **kwargs)\u001b[0m\n\u001b[1;32m    519\u001b[0m kwargs \u001b[38;5;241m=\u001b[39m {\u001b[38;5;124m\"\u001b[39m\u001b[38;5;124mexpand_info\u001b[39m\u001b[38;5;124m\"\u001b[39m: kwargs\u001b[38;5;241m.\u001b[39mget(\u001b[38;5;124m\"\u001b[39m\u001b[38;5;124mdetail\u001b[39m\u001b[38;5;124m\"\u001b[39m, \u001b[38;5;28;01mFalse\u001b[39;00m), \u001b[38;5;241m*\u001b[39m\u001b[38;5;241m*\u001b[39mkwargs}\n\u001b[1;32m    520\u001b[0m path \u001b[38;5;241m=\u001b[39m \u001b[38;5;28mself\u001b[39m\u001b[38;5;241m.\u001b[39mresolve_path(path, revision\u001b[38;5;241m=\u001b[39mkwargs\u001b[38;5;241m.\u001b[39mget(\u001b[38;5;124m\"\u001b[39m\u001b[38;5;124mrevision\u001b[39m\u001b[38;5;124m\"\u001b[39m))\u001b[38;5;241m.\u001b[39munresolve()\n\u001b[0;32m--> 521\u001b[0m \u001b[38;5;28;01mreturn\u001b[39;00m \u001b[38;5;28msuper\u001b[39m()\u001b[38;5;241m.\u001b[39mglob(path, \u001b[38;5;241m*\u001b[39m\u001b[38;5;241m*\u001b[39mkwargs)\n",
      "File \u001b[0;32m~/miniconda3/envs/nimrod/lib/python3.11/site-packages/fsspec/spec.py:611\u001b[0m, in \u001b[0;36mAbstractFileSystem.glob\u001b[0;34m(self, path, maxdepth, **kwargs)\u001b[0m\n\u001b[1;32m    608\u001b[0m     \u001b[38;5;28;01melse\u001b[39;00m:\n\u001b[1;32m    609\u001b[0m         depth \u001b[38;5;241m=\u001b[39m \u001b[38;5;28;01mNone\u001b[39;00m\n\u001b[0;32m--> 611\u001b[0m allpaths \u001b[38;5;241m=\u001b[39m \u001b[38;5;28mself\u001b[39m\u001b[38;5;241m.\u001b[39mfind(root, maxdepth\u001b[38;5;241m=\u001b[39mdepth, withdirs\u001b[38;5;241m=\u001b[39m\u001b[38;5;28;01mTrue\u001b[39;00m, detail\u001b[38;5;241m=\u001b[39m\u001b[38;5;28;01mTrue\u001b[39;00m, \u001b[38;5;241m*\u001b[39m\u001b[38;5;241m*\u001b[39mkwargs)\n\u001b[1;32m    613\u001b[0m pattern \u001b[38;5;241m=\u001b[39m glob_translate(path \u001b[38;5;241m+\u001b[39m (\u001b[38;5;124m\"\u001b[39m\u001b[38;5;124m/\u001b[39m\u001b[38;5;124m\"\u001b[39m \u001b[38;5;28;01mif\u001b[39;00m ends_with_sep \u001b[38;5;28;01melse\u001b[39;00m \u001b[38;5;124m\"\u001b[39m\u001b[38;5;124m\"\u001b[39m))\n\u001b[1;32m    614\u001b[0m pattern \u001b[38;5;241m=\u001b[39m re\u001b[38;5;241m.\u001b[39mcompile(pattern)\n",
      "File \u001b[0;32m~/miniconda3/envs/nimrod/lib/python3.11/site-packages/huggingface_hub/hf_file_system.py:556\u001b[0m, in \u001b[0;36mHfFileSystem.find\u001b[0;34m(self, path, maxdepth, withdirs, detail, refresh, revision, **kwargs)\u001b[0m\n\u001b[1;32m    533\u001b[0m \u001b[38;5;250m\u001b[39m\u001b[38;5;124;03m\"\"\"\u001b[39;00m\n\u001b[1;32m    534\u001b[0m \u001b[38;5;124;03mList all files below path.\u001b[39;00m\n\u001b[1;32m    535\u001b[0m \n\u001b[0;32m   (...)\u001b[0m\n\u001b[1;32m    553\u001b[0m \u001b[38;5;124;03m    `Union[List[str], Dict[str, Dict[str, Any]]]`: List of paths or dict of file information.\u001b[39;00m\n\u001b[1;32m    554\u001b[0m \u001b[38;5;124;03m\"\"\"\u001b[39;00m\n\u001b[1;32m    555\u001b[0m \u001b[38;5;28;01mif\u001b[39;00m maxdepth:\n\u001b[0;32m--> 556\u001b[0m     \u001b[38;5;28;01mreturn\u001b[39;00m \u001b[38;5;28msuper\u001b[39m()\u001b[38;5;241m.\u001b[39mfind(\n\u001b[1;32m    557\u001b[0m         path, maxdepth\u001b[38;5;241m=\u001b[39mmaxdepth, withdirs\u001b[38;5;241m=\u001b[39mwithdirs, detail\u001b[38;5;241m=\u001b[39mdetail, refresh\u001b[38;5;241m=\u001b[39mrefresh, revision\u001b[38;5;241m=\u001b[39mrevision, \u001b[38;5;241m*\u001b[39m\u001b[38;5;241m*\u001b[39mkwargs\n\u001b[1;32m    558\u001b[0m     )\n\u001b[1;32m    559\u001b[0m resolved_path \u001b[38;5;241m=\u001b[39m \u001b[38;5;28mself\u001b[39m\u001b[38;5;241m.\u001b[39mresolve_path(path, revision\u001b[38;5;241m=\u001b[39mrevision)\n\u001b[1;32m    560\u001b[0m path \u001b[38;5;241m=\u001b[39m resolved_path\u001b[38;5;241m.\u001b[39munresolve()\n",
      "File \u001b[0;32m~/miniconda3/envs/nimrod/lib/python3.11/site-packages/fsspec/spec.py:502\u001b[0m, in \u001b[0;36mAbstractFileSystem.find\u001b[0;34m(self, path, maxdepth, withdirs, detail, **kwargs)\u001b[0m\n\u001b[1;32m    499\u001b[0m \u001b[38;5;66;03m# Add the root directory if withdirs is requested\u001b[39;00m\n\u001b[1;32m    500\u001b[0m \u001b[38;5;66;03m# This is needed for posix glob compliance\u001b[39;00m\n\u001b[1;32m    501\u001b[0m \u001b[38;5;28;01mif\u001b[39;00m withdirs \u001b[38;5;129;01mand\u001b[39;00m path \u001b[38;5;241m!=\u001b[39m \u001b[38;5;124m\"\u001b[39m\u001b[38;5;124m\"\u001b[39m \u001b[38;5;129;01mand\u001b[39;00m \u001b[38;5;28mself\u001b[39m\u001b[38;5;241m.\u001b[39misdir(path):\n\u001b[0;32m--> 502\u001b[0m     out[path] \u001b[38;5;241m=\u001b[39m \u001b[38;5;28mself\u001b[39m\u001b[38;5;241m.\u001b[39minfo(path)\n\u001b[1;32m    504\u001b[0m \u001b[38;5;28;01mfor\u001b[39;00m _, dirs, files \u001b[38;5;129;01min\u001b[39;00m \u001b[38;5;28mself\u001b[39m\u001b[38;5;241m.\u001b[39mwalk(path, maxdepth, detail\u001b[38;5;241m=\u001b[39m\u001b[38;5;28;01mTrue\u001b[39;00m, \u001b[38;5;241m*\u001b[39m\u001b[38;5;241m*\u001b[39mkwargs):\n\u001b[1;32m    505\u001b[0m     \u001b[38;5;28;01mif\u001b[39;00m withdirs:\n",
      "File \u001b[0;32m~/miniconda3/envs/nimrod/lib/python3.11/site-packages/huggingface_hub/hf_file_system.py:719\u001b[0m, in \u001b[0;36mHfFileSystem.info\u001b[0;34m(self, path, refresh, revision, **kwargs)\u001b[0m\n\u001b[1;32m    717\u001b[0m     out \u001b[38;5;241m=\u001b[39m out1[\u001b[38;5;241m0\u001b[39m]\n\u001b[1;32m    718\u001b[0m \u001b[38;5;28;01mif\u001b[39;00m refresh \u001b[38;5;129;01mor\u001b[39;00m out \u001b[38;5;129;01mis\u001b[39;00m \u001b[38;5;28;01mNone\u001b[39;00m \u001b[38;5;129;01mor\u001b[39;00m (expand_info \u001b[38;5;129;01mand\u001b[39;00m out \u001b[38;5;129;01mand\u001b[39;00m out[\u001b[38;5;124m\"\u001b[39m\u001b[38;5;124mlast_commit\u001b[39m\u001b[38;5;124m\"\u001b[39m] \u001b[38;5;129;01mis\u001b[39;00m \u001b[38;5;28;01mNone\u001b[39;00m):\n\u001b[0;32m--> 719\u001b[0m     paths_info \u001b[38;5;241m=\u001b[39m \u001b[38;5;28mself\u001b[39m\u001b[38;5;241m.\u001b[39m_api\u001b[38;5;241m.\u001b[39mget_paths_info(\n\u001b[1;32m    720\u001b[0m         resolved_path\u001b[38;5;241m.\u001b[39mrepo_id,\n\u001b[1;32m    721\u001b[0m         resolved_path\u001b[38;5;241m.\u001b[39mpath_in_repo,\n\u001b[1;32m    722\u001b[0m         expand\u001b[38;5;241m=\u001b[39mexpand_info,\n\u001b[1;32m    723\u001b[0m         revision\u001b[38;5;241m=\u001b[39mresolved_path\u001b[38;5;241m.\u001b[39mrevision,\n\u001b[1;32m    724\u001b[0m         repo_type\u001b[38;5;241m=\u001b[39mresolved_path\u001b[38;5;241m.\u001b[39mrepo_type,\n\u001b[1;32m    725\u001b[0m     )\n\u001b[1;32m    726\u001b[0m     \u001b[38;5;28;01mif\u001b[39;00m \u001b[38;5;129;01mnot\u001b[39;00m paths_info:\n\u001b[1;32m    727\u001b[0m         _raise_file_not_found(path, \u001b[38;5;28;01mNone\u001b[39;00m)\n",
      "File \u001b[0;32m~/miniconda3/envs/nimrod/lib/python3.11/site-packages/huggingface_hub/utils/_validators.py:114\u001b[0m, in \u001b[0;36mvalidate_hf_hub_args.<locals>._inner_fn\u001b[0;34m(*args, **kwargs)\u001b[0m\n\u001b[1;32m    111\u001b[0m \u001b[38;5;28;01mif\u001b[39;00m check_use_auth_token:\n\u001b[1;32m    112\u001b[0m     kwargs \u001b[38;5;241m=\u001b[39m smoothly_deprecate_use_auth_token(fn_name\u001b[38;5;241m=\u001b[39mfn\u001b[38;5;241m.\u001b[39m\u001b[38;5;18m__name__\u001b[39m, has_token\u001b[38;5;241m=\u001b[39mhas_token, kwargs\u001b[38;5;241m=\u001b[39mkwargs)\n\u001b[0;32m--> 114\u001b[0m \u001b[38;5;28;01mreturn\u001b[39;00m fn(\u001b[38;5;241m*\u001b[39margs, \u001b[38;5;241m*\u001b[39m\u001b[38;5;241m*\u001b[39mkwargs)\n",
      "File \u001b[0;32m~/miniconda3/envs/nimrod/lib/python3.11/site-packages/huggingface_hub/hf_api.py:3295\u001b[0m, in \u001b[0;36mHfApi.get_paths_info\u001b[0;34m(self, repo_id, paths, expand, revision, repo_type, token)\u001b[0m\n\u001b[1;32m   3292\u001b[0m revision \u001b[38;5;241m=\u001b[39m quote(revision, safe\u001b[38;5;241m=\u001b[39m\u001b[38;5;124m\"\u001b[39m\u001b[38;5;124m\"\u001b[39m) \u001b[38;5;28;01mif\u001b[39;00m revision \u001b[38;5;129;01mis\u001b[39;00m \u001b[38;5;129;01mnot\u001b[39;00m \u001b[38;5;28;01mNone\u001b[39;00m \u001b[38;5;28;01melse\u001b[39;00m constants\u001b[38;5;241m.\u001b[39mDEFAULT_REVISION\n\u001b[1;32m   3293\u001b[0m headers \u001b[38;5;241m=\u001b[39m \u001b[38;5;28mself\u001b[39m\u001b[38;5;241m.\u001b[39m_build_hf_headers(token\u001b[38;5;241m=\u001b[39mtoken)\n\u001b[0;32m-> 3295\u001b[0m response \u001b[38;5;241m=\u001b[39m get_session()\u001b[38;5;241m.\u001b[39mpost(\n\u001b[1;32m   3296\u001b[0m     \u001b[38;5;124mf\u001b[39m\u001b[38;5;124m\"\u001b[39m\u001b[38;5;132;01m{\u001b[39;00m\u001b[38;5;28mself\u001b[39m\u001b[38;5;241m.\u001b[39mendpoint\u001b[38;5;132;01m}\u001b[39;00m\u001b[38;5;124m/api/\u001b[39m\u001b[38;5;132;01m{\u001b[39;00mrepo_type\u001b[38;5;132;01m}\u001b[39;00m\u001b[38;5;124ms/\u001b[39m\u001b[38;5;132;01m{\u001b[39;00mrepo_id\u001b[38;5;132;01m}\u001b[39;00m\u001b[38;5;124m/paths-info/\u001b[39m\u001b[38;5;132;01m{\u001b[39;00mrevision\u001b[38;5;132;01m}\u001b[39;00m\u001b[38;5;124m\"\u001b[39m,\n\u001b[1;32m   3297\u001b[0m     data\u001b[38;5;241m=\u001b[39m{\n\u001b[1;32m   3298\u001b[0m         \u001b[38;5;124m\"\u001b[39m\u001b[38;5;124mpaths\u001b[39m\u001b[38;5;124m\"\u001b[39m: paths \u001b[38;5;28;01mif\u001b[39;00m \u001b[38;5;28misinstance\u001b[39m(paths, \u001b[38;5;28mlist\u001b[39m) \u001b[38;5;28;01melse\u001b[39;00m [paths],\n\u001b[1;32m   3299\u001b[0m         \u001b[38;5;124m\"\u001b[39m\u001b[38;5;124mexpand\u001b[39m\u001b[38;5;124m\"\u001b[39m: expand,\n\u001b[1;32m   3300\u001b[0m     },\n\u001b[1;32m   3301\u001b[0m     headers\u001b[38;5;241m=\u001b[39mheaders,\n\u001b[1;32m   3302\u001b[0m )\n\u001b[1;32m   3303\u001b[0m hf_raise_for_status(response)\n\u001b[1;32m   3304\u001b[0m paths_info \u001b[38;5;241m=\u001b[39m response\u001b[38;5;241m.\u001b[39mjson()\n",
      "File \u001b[0;32m~/miniconda3/envs/nimrod/lib/python3.11/site-packages/requests/sessions.py:637\u001b[0m, in \u001b[0;36mSession.post\u001b[0;34m(self, url, data, json, **kwargs)\u001b[0m\n\u001b[1;32m    626\u001b[0m \u001b[38;5;28;01mdef\u001b[39;00m \u001b[38;5;21mpost\u001b[39m(\u001b[38;5;28mself\u001b[39m, url, data\u001b[38;5;241m=\u001b[39m\u001b[38;5;28;01mNone\u001b[39;00m, json\u001b[38;5;241m=\u001b[39m\u001b[38;5;28;01mNone\u001b[39;00m, \u001b[38;5;241m*\u001b[39m\u001b[38;5;241m*\u001b[39mkwargs):\n\u001b[1;32m    627\u001b[0m \u001b[38;5;250m    \u001b[39m\u001b[38;5;124mr\u001b[39m\u001b[38;5;124;03m\"\"\"Sends a POST request. Returns :class:`Response` object.\u001b[39;00m\n\u001b[1;32m    628\u001b[0m \n\u001b[1;32m    629\u001b[0m \u001b[38;5;124;03m    :param url: URL for the new :class:`Request` object.\u001b[39;00m\n\u001b[0;32m   (...)\u001b[0m\n\u001b[1;32m    634\u001b[0m \u001b[38;5;124;03m    :rtype: requests.Response\u001b[39;00m\n\u001b[1;32m    635\u001b[0m \u001b[38;5;124;03m    \"\"\"\u001b[39;00m\n\u001b[0;32m--> 637\u001b[0m     \u001b[38;5;28;01mreturn\u001b[39;00m \u001b[38;5;28mself\u001b[39m\u001b[38;5;241m.\u001b[39mrequest(\u001b[38;5;124m\"\u001b[39m\u001b[38;5;124mPOST\u001b[39m\u001b[38;5;124m\"\u001b[39m, url, data\u001b[38;5;241m=\u001b[39mdata, json\u001b[38;5;241m=\u001b[39mjson, \u001b[38;5;241m*\u001b[39m\u001b[38;5;241m*\u001b[39mkwargs)\n",
      "File \u001b[0;32m~/miniconda3/envs/nimrod/lib/python3.11/site-packages/requests/sessions.py:589\u001b[0m, in \u001b[0;36mSession.request\u001b[0;34m(self, method, url, params, data, headers, cookies, files, auth, timeout, allow_redirects, proxies, hooks, stream, verify, cert, json)\u001b[0m\n\u001b[1;32m    584\u001b[0m send_kwargs \u001b[38;5;241m=\u001b[39m {\n\u001b[1;32m    585\u001b[0m     \u001b[38;5;124m\"\u001b[39m\u001b[38;5;124mtimeout\u001b[39m\u001b[38;5;124m\"\u001b[39m: timeout,\n\u001b[1;32m    586\u001b[0m     \u001b[38;5;124m\"\u001b[39m\u001b[38;5;124mallow_redirects\u001b[39m\u001b[38;5;124m\"\u001b[39m: allow_redirects,\n\u001b[1;32m    587\u001b[0m }\n\u001b[1;32m    588\u001b[0m send_kwargs\u001b[38;5;241m.\u001b[39mupdate(settings)\n\u001b[0;32m--> 589\u001b[0m resp \u001b[38;5;241m=\u001b[39m \u001b[38;5;28mself\u001b[39m\u001b[38;5;241m.\u001b[39msend(prep, \u001b[38;5;241m*\u001b[39m\u001b[38;5;241m*\u001b[39msend_kwargs)\n\u001b[1;32m    591\u001b[0m \u001b[38;5;28;01mreturn\u001b[39;00m resp\n",
      "File \u001b[0;32m~/miniconda3/envs/nimrod/lib/python3.11/site-packages/requests/sessions.py:724\u001b[0m, in \u001b[0;36mSession.send\u001b[0;34m(self, request, **kwargs)\u001b[0m\n\u001b[1;32m    721\u001b[0m \u001b[38;5;28;01mif\u001b[39;00m allow_redirects:\n\u001b[1;32m    722\u001b[0m     \u001b[38;5;66;03m# Redirect resolving generator.\u001b[39;00m\n\u001b[1;32m    723\u001b[0m     gen \u001b[38;5;241m=\u001b[39m \u001b[38;5;28mself\u001b[39m\u001b[38;5;241m.\u001b[39mresolve_redirects(r, request, \u001b[38;5;241m*\u001b[39m\u001b[38;5;241m*\u001b[39mkwargs)\n\u001b[0;32m--> 724\u001b[0m     history \u001b[38;5;241m=\u001b[39m [resp \u001b[38;5;28;01mfor\u001b[39;00m resp \u001b[38;5;129;01min\u001b[39;00m gen]\n\u001b[1;32m    725\u001b[0m \u001b[38;5;28;01melse\u001b[39;00m:\n\u001b[1;32m    726\u001b[0m     history \u001b[38;5;241m=\u001b[39m []\n",
      "File \u001b[0;32m~/miniconda3/envs/nimrod/lib/python3.11/site-packages/requests/sessions.py:724\u001b[0m, in \u001b[0;36m<listcomp>\u001b[0;34m(.0)\u001b[0m\n\u001b[1;32m    721\u001b[0m \u001b[38;5;28;01mif\u001b[39;00m allow_redirects:\n\u001b[1;32m    722\u001b[0m     \u001b[38;5;66;03m# Redirect resolving generator.\u001b[39;00m\n\u001b[1;32m    723\u001b[0m     gen \u001b[38;5;241m=\u001b[39m \u001b[38;5;28mself\u001b[39m\u001b[38;5;241m.\u001b[39mresolve_redirects(r, request, \u001b[38;5;241m*\u001b[39m\u001b[38;5;241m*\u001b[39mkwargs)\n\u001b[0;32m--> 724\u001b[0m     history \u001b[38;5;241m=\u001b[39m [resp \u001b[38;5;28;01mfor\u001b[39;00m resp \u001b[38;5;129;01min\u001b[39;00m gen]\n\u001b[1;32m    725\u001b[0m \u001b[38;5;28;01melse\u001b[39;00m:\n\u001b[1;32m    726\u001b[0m     history \u001b[38;5;241m=\u001b[39m []\n",
      "File \u001b[0;32m~/miniconda3/envs/nimrod/lib/python3.11/site-packages/requests/sessions.py:265\u001b[0m, in \u001b[0;36mSessionRedirectMixin.resolve_redirects\u001b[0;34m(self, resp, req, stream, timeout, verify, cert, proxies, yield_requests, **adapter_kwargs)\u001b[0m\n\u001b[1;32m    263\u001b[0m     \u001b[38;5;28;01myield\u001b[39;00m req\n\u001b[1;32m    264\u001b[0m \u001b[38;5;28;01melse\u001b[39;00m:\n\u001b[0;32m--> 265\u001b[0m     resp \u001b[38;5;241m=\u001b[39m \u001b[38;5;28mself\u001b[39m\u001b[38;5;241m.\u001b[39msend(\n\u001b[1;32m    266\u001b[0m         req,\n\u001b[1;32m    267\u001b[0m         stream\u001b[38;5;241m=\u001b[39mstream,\n\u001b[1;32m    268\u001b[0m         timeout\u001b[38;5;241m=\u001b[39mtimeout,\n\u001b[1;32m    269\u001b[0m         verify\u001b[38;5;241m=\u001b[39mverify,\n\u001b[1;32m    270\u001b[0m         cert\u001b[38;5;241m=\u001b[39mcert,\n\u001b[1;32m    271\u001b[0m         proxies\u001b[38;5;241m=\u001b[39mproxies,\n\u001b[1;32m    272\u001b[0m         allow_redirects\u001b[38;5;241m=\u001b[39m\u001b[38;5;28;01mFalse\u001b[39;00m,\n\u001b[1;32m    273\u001b[0m         \u001b[38;5;241m*\u001b[39m\u001b[38;5;241m*\u001b[39madapter_kwargs,\n\u001b[1;32m    274\u001b[0m     )\n\u001b[1;32m    276\u001b[0m     extract_cookies_to_jar(\u001b[38;5;28mself\u001b[39m\u001b[38;5;241m.\u001b[39mcookies, prepared_request, resp\u001b[38;5;241m.\u001b[39mraw)\n\u001b[1;32m    278\u001b[0m     \u001b[38;5;66;03m# extract redirect url, if any, for the next loop\u001b[39;00m\n",
      "File \u001b[0;32m~/miniconda3/envs/nimrod/lib/python3.11/site-packages/requests/sessions.py:703\u001b[0m, in \u001b[0;36mSession.send\u001b[0;34m(self, request, **kwargs)\u001b[0m\n\u001b[1;32m    700\u001b[0m start \u001b[38;5;241m=\u001b[39m preferred_clock()\n\u001b[1;32m    702\u001b[0m \u001b[38;5;66;03m# Send the request\u001b[39;00m\n\u001b[0;32m--> 703\u001b[0m r \u001b[38;5;241m=\u001b[39m adapter\u001b[38;5;241m.\u001b[39msend(request, \u001b[38;5;241m*\u001b[39m\u001b[38;5;241m*\u001b[39mkwargs)\n\u001b[1;32m    705\u001b[0m \u001b[38;5;66;03m# Total elapsed time of the request (approximately)\u001b[39;00m\n\u001b[1;32m    706\u001b[0m elapsed \u001b[38;5;241m=\u001b[39m preferred_clock() \u001b[38;5;241m-\u001b[39m start\n",
      "File \u001b[0;32m~/miniconda3/envs/nimrod/lib/python3.11/site-packages/huggingface_hub/utils/_http.py:93\u001b[0m, in \u001b[0;36mUniqueRequestIdAdapter.send\u001b[0;34m(self, request, *args, **kwargs)\u001b[0m\n\u001b[1;32m     91\u001b[0m \u001b[38;5;250m\u001b[39m\u001b[38;5;124;03m\"\"\"Catch any RequestException to append request id to the error message for debugging.\"\"\"\u001b[39;00m\n\u001b[1;32m     92\u001b[0m \u001b[38;5;28;01mtry\u001b[39;00m:\n\u001b[0;32m---> 93\u001b[0m     \u001b[38;5;28;01mreturn\u001b[39;00m \u001b[38;5;28msuper\u001b[39m()\u001b[38;5;241m.\u001b[39msend(request, \u001b[38;5;241m*\u001b[39margs, \u001b[38;5;241m*\u001b[39m\u001b[38;5;241m*\u001b[39mkwargs)\n\u001b[1;32m     94\u001b[0m \u001b[38;5;28;01mexcept\u001b[39;00m requests\u001b[38;5;241m.\u001b[39mRequestException \u001b[38;5;28;01mas\u001b[39;00m e:\n\u001b[1;32m     95\u001b[0m     request_id \u001b[38;5;241m=\u001b[39m request\u001b[38;5;241m.\u001b[39mheaders\u001b[38;5;241m.\u001b[39mget(X_AMZN_TRACE_ID)\n",
      "File \u001b[0;32m~/miniconda3/envs/nimrod/lib/python3.11/site-packages/requests/adapters.py:667\u001b[0m, in \u001b[0;36mHTTPAdapter.send\u001b[0;34m(self, request, stream, timeout, verify, cert, proxies)\u001b[0m\n\u001b[1;32m    664\u001b[0m     timeout \u001b[38;5;241m=\u001b[39m TimeoutSauce(connect\u001b[38;5;241m=\u001b[39mtimeout, read\u001b[38;5;241m=\u001b[39mtimeout)\n\u001b[1;32m    666\u001b[0m \u001b[38;5;28;01mtry\u001b[39;00m:\n\u001b[0;32m--> 667\u001b[0m     resp \u001b[38;5;241m=\u001b[39m conn\u001b[38;5;241m.\u001b[39murlopen(\n\u001b[1;32m    668\u001b[0m         method\u001b[38;5;241m=\u001b[39mrequest\u001b[38;5;241m.\u001b[39mmethod,\n\u001b[1;32m    669\u001b[0m         url\u001b[38;5;241m=\u001b[39murl,\n\u001b[1;32m    670\u001b[0m         body\u001b[38;5;241m=\u001b[39mrequest\u001b[38;5;241m.\u001b[39mbody,\n\u001b[1;32m    671\u001b[0m         headers\u001b[38;5;241m=\u001b[39mrequest\u001b[38;5;241m.\u001b[39mheaders,\n\u001b[1;32m    672\u001b[0m         redirect\u001b[38;5;241m=\u001b[39m\u001b[38;5;28;01mFalse\u001b[39;00m,\n\u001b[1;32m    673\u001b[0m         assert_same_host\u001b[38;5;241m=\u001b[39m\u001b[38;5;28;01mFalse\u001b[39;00m,\n\u001b[1;32m    674\u001b[0m         preload_content\u001b[38;5;241m=\u001b[39m\u001b[38;5;28;01mFalse\u001b[39;00m,\n\u001b[1;32m    675\u001b[0m         decode_content\u001b[38;5;241m=\u001b[39m\u001b[38;5;28;01mFalse\u001b[39;00m,\n\u001b[1;32m    676\u001b[0m         retries\u001b[38;5;241m=\u001b[39m\u001b[38;5;28mself\u001b[39m\u001b[38;5;241m.\u001b[39mmax_retries,\n\u001b[1;32m    677\u001b[0m         timeout\u001b[38;5;241m=\u001b[39mtimeout,\n\u001b[1;32m    678\u001b[0m         chunked\u001b[38;5;241m=\u001b[39mchunked,\n\u001b[1;32m    679\u001b[0m     )\n\u001b[1;32m    681\u001b[0m \u001b[38;5;28;01mexcept\u001b[39;00m (ProtocolError, \u001b[38;5;167;01mOSError\u001b[39;00m) \u001b[38;5;28;01mas\u001b[39;00m err:\n\u001b[1;32m    682\u001b[0m     \u001b[38;5;28;01mraise\u001b[39;00m \u001b[38;5;167;01mConnectionError\u001b[39;00m(err, request\u001b[38;5;241m=\u001b[39mrequest)\n",
      "File \u001b[0;32m~/miniconda3/envs/nimrod/lib/python3.11/site-packages/urllib3/connectionpool.py:787\u001b[0m, in \u001b[0;36mHTTPConnectionPool.urlopen\u001b[0;34m(self, method, url, body, headers, retries, redirect, assert_same_host, timeout, pool_timeout, release_conn, chunked, body_pos, preload_content, decode_content, **response_kw)\u001b[0m\n\u001b[1;32m    784\u001b[0m response_conn \u001b[38;5;241m=\u001b[39m conn \u001b[38;5;28;01mif\u001b[39;00m \u001b[38;5;129;01mnot\u001b[39;00m release_conn \u001b[38;5;28;01melse\u001b[39;00m \u001b[38;5;28;01mNone\u001b[39;00m\n\u001b[1;32m    786\u001b[0m \u001b[38;5;66;03m# Make the request on the HTTPConnection object\u001b[39;00m\n\u001b[0;32m--> 787\u001b[0m response \u001b[38;5;241m=\u001b[39m \u001b[38;5;28mself\u001b[39m\u001b[38;5;241m.\u001b[39m_make_request(\n\u001b[1;32m    788\u001b[0m     conn,\n\u001b[1;32m    789\u001b[0m     method,\n\u001b[1;32m    790\u001b[0m     url,\n\u001b[1;32m    791\u001b[0m     timeout\u001b[38;5;241m=\u001b[39mtimeout_obj,\n\u001b[1;32m    792\u001b[0m     body\u001b[38;5;241m=\u001b[39mbody,\n\u001b[1;32m    793\u001b[0m     headers\u001b[38;5;241m=\u001b[39mheaders,\n\u001b[1;32m    794\u001b[0m     chunked\u001b[38;5;241m=\u001b[39mchunked,\n\u001b[1;32m    795\u001b[0m     retries\u001b[38;5;241m=\u001b[39mretries,\n\u001b[1;32m    796\u001b[0m     response_conn\u001b[38;5;241m=\u001b[39mresponse_conn,\n\u001b[1;32m    797\u001b[0m     preload_content\u001b[38;5;241m=\u001b[39mpreload_content,\n\u001b[1;32m    798\u001b[0m     decode_content\u001b[38;5;241m=\u001b[39mdecode_content,\n\u001b[1;32m    799\u001b[0m     \u001b[38;5;241m*\u001b[39m\u001b[38;5;241m*\u001b[39mresponse_kw,\n\u001b[1;32m    800\u001b[0m )\n\u001b[1;32m    802\u001b[0m \u001b[38;5;66;03m# Everything went great!\u001b[39;00m\n\u001b[1;32m    803\u001b[0m clean_exit \u001b[38;5;241m=\u001b[39m \u001b[38;5;28;01mTrue\u001b[39;00m\n",
      "File \u001b[0;32m~/miniconda3/envs/nimrod/lib/python3.11/site-packages/urllib3/connectionpool.py:534\u001b[0m, in \u001b[0;36mHTTPConnectionPool._make_request\u001b[0;34m(self, conn, method, url, body, headers, retries, timeout, chunked, response_conn, preload_content, decode_content, enforce_content_length)\u001b[0m\n\u001b[1;32m    532\u001b[0m \u001b[38;5;66;03m# Receive the response from the server\u001b[39;00m\n\u001b[1;32m    533\u001b[0m \u001b[38;5;28;01mtry\u001b[39;00m:\n\u001b[0;32m--> 534\u001b[0m     response \u001b[38;5;241m=\u001b[39m conn\u001b[38;5;241m.\u001b[39mgetresponse()\n\u001b[1;32m    535\u001b[0m \u001b[38;5;28;01mexcept\u001b[39;00m (BaseSSLError, \u001b[38;5;167;01mOSError\u001b[39;00m) \u001b[38;5;28;01mas\u001b[39;00m e:\n\u001b[1;32m    536\u001b[0m     \u001b[38;5;28mself\u001b[39m\u001b[38;5;241m.\u001b[39m_raise_timeout(err\u001b[38;5;241m=\u001b[39me, url\u001b[38;5;241m=\u001b[39murl, timeout_value\u001b[38;5;241m=\u001b[39mread_timeout)\n",
      "File \u001b[0;32m~/miniconda3/envs/nimrod/lib/python3.11/site-packages/urllib3/connection.py:516\u001b[0m, in \u001b[0;36mHTTPConnection.getresponse\u001b[0;34m(self)\u001b[0m\n\u001b[1;32m    513\u001b[0m _shutdown \u001b[38;5;241m=\u001b[39m \u001b[38;5;28mgetattr\u001b[39m(\u001b[38;5;28mself\u001b[39m\u001b[38;5;241m.\u001b[39msock, \u001b[38;5;124m\"\u001b[39m\u001b[38;5;124mshutdown\u001b[39m\u001b[38;5;124m\"\u001b[39m, \u001b[38;5;28;01mNone\u001b[39;00m)\n\u001b[1;32m    515\u001b[0m \u001b[38;5;66;03m# Get the response from http.client.HTTPConnection\u001b[39;00m\n\u001b[0;32m--> 516\u001b[0m httplib_response \u001b[38;5;241m=\u001b[39m \u001b[38;5;28msuper\u001b[39m()\u001b[38;5;241m.\u001b[39mgetresponse()\n\u001b[1;32m    518\u001b[0m \u001b[38;5;28;01mtry\u001b[39;00m:\n\u001b[1;32m    519\u001b[0m     assert_header_parsing(httplib_response\u001b[38;5;241m.\u001b[39mmsg)\n",
      "File \u001b[0;32m~/miniconda3/envs/nimrod/lib/python3.11/http/client.py:1390\u001b[0m, in \u001b[0;36mHTTPConnection.getresponse\u001b[0;34m(self)\u001b[0m\n\u001b[1;32m   1388\u001b[0m \u001b[38;5;28;01mtry\u001b[39;00m:\n\u001b[1;32m   1389\u001b[0m     \u001b[38;5;28;01mtry\u001b[39;00m:\n\u001b[0;32m-> 1390\u001b[0m         response\u001b[38;5;241m.\u001b[39mbegin()\n\u001b[1;32m   1391\u001b[0m     \u001b[38;5;28;01mexcept\u001b[39;00m \u001b[38;5;167;01mConnectionError\u001b[39;00m:\n\u001b[1;32m   1392\u001b[0m         \u001b[38;5;28mself\u001b[39m\u001b[38;5;241m.\u001b[39mclose()\n",
      "File \u001b[0;32m~/miniconda3/envs/nimrod/lib/python3.11/http/client.py:325\u001b[0m, in \u001b[0;36mHTTPResponse.begin\u001b[0;34m(self)\u001b[0m\n\u001b[1;32m    323\u001b[0m \u001b[38;5;66;03m# read until we get a non-100 response\u001b[39;00m\n\u001b[1;32m    324\u001b[0m \u001b[38;5;28;01mwhile\u001b[39;00m \u001b[38;5;28;01mTrue\u001b[39;00m:\n\u001b[0;32m--> 325\u001b[0m     version, status, reason \u001b[38;5;241m=\u001b[39m \u001b[38;5;28mself\u001b[39m\u001b[38;5;241m.\u001b[39m_read_status()\n\u001b[1;32m    326\u001b[0m     \u001b[38;5;28;01mif\u001b[39;00m status \u001b[38;5;241m!=\u001b[39m CONTINUE:\n\u001b[1;32m    327\u001b[0m         \u001b[38;5;28;01mbreak\u001b[39;00m\n",
      "File \u001b[0;32m~/miniconda3/envs/nimrod/lib/python3.11/http/client.py:286\u001b[0m, in \u001b[0;36mHTTPResponse._read_status\u001b[0;34m(self)\u001b[0m\n\u001b[1;32m    285\u001b[0m \u001b[38;5;28;01mdef\u001b[39;00m \u001b[38;5;21m_read_status\u001b[39m(\u001b[38;5;28mself\u001b[39m):\n\u001b[0;32m--> 286\u001b[0m     line \u001b[38;5;241m=\u001b[39m \u001b[38;5;28mstr\u001b[39m(\u001b[38;5;28mself\u001b[39m\u001b[38;5;241m.\u001b[39mfp\u001b[38;5;241m.\u001b[39mreadline(_MAXLINE \u001b[38;5;241m+\u001b[39m \u001b[38;5;241m1\u001b[39m), \u001b[38;5;124m\"\u001b[39m\u001b[38;5;124miso-8859-1\u001b[39m\u001b[38;5;124m\"\u001b[39m)\n\u001b[1;32m    287\u001b[0m     \u001b[38;5;28;01mif\u001b[39;00m \u001b[38;5;28mlen\u001b[39m(line) \u001b[38;5;241m>\u001b[39m _MAXLINE:\n\u001b[1;32m    288\u001b[0m         \u001b[38;5;28;01mraise\u001b[39;00m LineTooLong(\u001b[38;5;124m\"\u001b[39m\u001b[38;5;124mstatus line\u001b[39m\u001b[38;5;124m\"\u001b[39m)\n",
      "File \u001b[0;32m~/miniconda3/envs/nimrod/lib/python3.11/socket.py:706\u001b[0m, in \u001b[0;36mSocketIO.readinto\u001b[0;34m(self, b)\u001b[0m\n\u001b[1;32m    704\u001b[0m \u001b[38;5;28;01mwhile\u001b[39;00m \u001b[38;5;28;01mTrue\u001b[39;00m:\n\u001b[1;32m    705\u001b[0m     \u001b[38;5;28;01mtry\u001b[39;00m:\n\u001b[0;32m--> 706\u001b[0m         \u001b[38;5;28;01mreturn\u001b[39;00m \u001b[38;5;28mself\u001b[39m\u001b[38;5;241m.\u001b[39m_sock\u001b[38;5;241m.\u001b[39mrecv_into(b)\n\u001b[1;32m    707\u001b[0m     \u001b[38;5;28;01mexcept\u001b[39;00m timeout:\n\u001b[1;32m    708\u001b[0m         \u001b[38;5;28mself\u001b[39m\u001b[38;5;241m.\u001b[39m_timeout_occurred \u001b[38;5;241m=\u001b[39m \u001b[38;5;28;01mTrue\u001b[39;00m\n",
      "File \u001b[0;32m~/miniconda3/envs/nimrod/lib/python3.11/ssl.py:1314\u001b[0m, in \u001b[0;36mSSLSocket.recv_into\u001b[0;34m(self, buffer, nbytes, flags)\u001b[0m\n\u001b[1;32m   1310\u001b[0m     \u001b[38;5;28;01mif\u001b[39;00m flags \u001b[38;5;241m!=\u001b[39m \u001b[38;5;241m0\u001b[39m:\n\u001b[1;32m   1311\u001b[0m         \u001b[38;5;28;01mraise\u001b[39;00m \u001b[38;5;167;01mValueError\u001b[39;00m(\n\u001b[1;32m   1312\u001b[0m           \u001b[38;5;124m\"\u001b[39m\u001b[38;5;124mnon-zero flags not allowed in calls to recv_into() on \u001b[39m\u001b[38;5;132;01m%s\u001b[39;00m\u001b[38;5;124m\"\u001b[39m \u001b[38;5;241m%\u001b[39m\n\u001b[1;32m   1313\u001b[0m           \u001b[38;5;28mself\u001b[39m\u001b[38;5;241m.\u001b[39m\u001b[38;5;18m__class__\u001b[39m)\n\u001b[0;32m-> 1314\u001b[0m     \u001b[38;5;28;01mreturn\u001b[39;00m \u001b[38;5;28mself\u001b[39m\u001b[38;5;241m.\u001b[39mread(nbytes, buffer)\n\u001b[1;32m   1315\u001b[0m \u001b[38;5;28;01melse\u001b[39;00m:\n\u001b[1;32m   1316\u001b[0m     \u001b[38;5;28;01mreturn\u001b[39;00m \u001b[38;5;28msuper\u001b[39m()\u001b[38;5;241m.\u001b[39mrecv_into(buffer, nbytes, flags)\n",
      "File \u001b[0;32m~/miniconda3/envs/nimrod/lib/python3.11/ssl.py:1166\u001b[0m, in \u001b[0;36mSSLSocket.read\u001b[0;34m(self, len, buffer)\u001b[0m\n\u001b[1;32m   1164\u001b[0m \u001b[38;5;28;01mtry\u001b[39;00m:\n\u001b[1;32m   1165\u001b[0m     \u001b[38;5;28;01mif\u001b[39;00m buffer \u001b[38;5;129;01mis\u001b[39;00m \u001b[38;5;129;01mnot\u001b[39;00m \u001b[38;5;28;01mNone\u001b[39;00m:\n\u001b[0;32m-> 1166\u001b[0m         \u001b[38;5;28;01mreturn\u001b[39;00m \u001b[38;5;28mself\u001b[39m\u001b[38;5;241m.\u001b[39m_sslobj\u001b[38;5;241m.\u001b[39mread(\u001b[38;5;28mlen\u001b[39m, buffer)\n\u001b[1;32m   1167\u001b[0m     \u001b[38;5;28;01melse\u001b[39;00m:\n\u001b[1;32m   1168\u001b[0m         \u001b[38;5;28;01mreturn\u001b[39;00m \u001b[38;5;28mself\u001b[39m\u001b[38;5;241m.\u001b[39m_sslobj\u001b[38;5;241m.\u001b[39mread(\u001b[38;5;28mlen\u001b[39m)\n",
      "\u001b[0;31mKeyboardInterrupt\u001b[0m: "
     ]
    }
   ],
   "source": [
    "#| notest\n",
    "cfg = OmegaConf.load('../config/data/image/mnist.yaml')\n",
    "dm = instantiate(cfg)\n",
    "dm.prepare_data()\n",
    "dm.setup()"
   ]
  },
  {
   "cell_type": "code",
   "execution_count": null,
   "metadata": {},
   "outputs": [
    {
     "name": "stdout",
     "output_type": "stream",
     "text": [
      "torch.Size([1, 28, 28])\n"
     ]
    },
    {
     "data": {
      "text/plain": [
       "<matplotlib.image.AxesImage>"
      ]
     },
     "execution_count": null,
     "metadata": {},
     "output_type": "execute_result"
    },
    {
     "data": {
      "image/png": "[encoded data removed]",
      "text/plain": [
       "<Figure size 300x300 with 1 Axes>"
      ]
     },
     "metadata": {},
     "output_type": "display_data"
    }
   ],
   "source": [
    "#| notest\n",
    "x, y = dm.train_ds[0]\n",
    "print(x.shape)\n",
    "plt.figure(figsize=(3,3))\n",
    "plt.imshow(x.squeeze(), cmap='gray')"
   ]
  },
  {
   "cell_type": "code",
   "execution_count": null,
   "metadata": {},
   "outputs": [],
   "source": [
    "top_kernel = torch.tensor( # torch.tensor infers datatype vs. torch.Tensor\n",
    "    [[-1., -1., -1.],\n",
    "     [0., 0., 0.],\n",
    "     [1., 1., 1.]]\n",
    ")\n",
    "\n",
    "bottom_kernel = torch.tensor( # torch.tensor infers datatype vs. torch.Tensor\n",
    "    [[1., 1., 1.],\n",
    "     [0., 0., 0.],\n",
    "     [-1., -1., -1.]]\n",
    ")\n",
    "\n",
    "left_kernel = torch.tensor( # torch.tensor infers datatype vs. torch.Tensor\n",
    "    [[-1., 0., 1.],\n",
    "     [-1., 0., 1.],\n",
    "     [-1., 0., 1.]]\n",
    ")"
   ]
  },
  {
   "cell_type": "code",
   "execution_count": null,
   "metadata": {},
   "outputs": [
    {
     "ename": "NameError",
     "evalue": "name 'left_kernel' is not defined",
     "output_type": "error",
     "traceback": [
      "\u001b[0;31m---------------------------------------------------------------------------\u001b[0m",
      "\u001b[0;31mNameError\u001b[0m                                 Traceback (most recent call last)",
      "Cell \u001b[0;32mIn[9], line 3\u001b[0m\n\u001b[1;32m      1\u001b[0m \u001b[38;5;66;03m#| notest\u001b[39;00m\n\u001b[0;32m----> 3\u001b[0m my_kernel \u001b[38;5;241m=\u001b[39m left_kernel\n\u001b[1;32m      5\u001b[0m c \u001b[38;5;241m=\u001b[39m nn\u001b[38;5;241m.\u001b[39mConv2d(\u001b[38;5;241m1\u001b[39m, \u001b[38;5;241m1\u001b[39m, kernel_size\u001b[38;5;241m=\u001b[39m\u001b[38;5;241m3\u001b[39m, padding\u001b[38;5;241m=\u001b[39m\u001b[38;5;241m1\u001b[39m, bias\u001b[38;5;241m=\u001b[39m\u001b[38;5;28;01mFalse\u001b[39;00m)\n\u001b[1;32m      6\u001b[0m \u001b[38;5;28;01mwith\u001b[39;00m torch\u001b[38;5;241m.\u001b[39mno_grad():\n",
      "\u001b[0;31mNameError\u001b[0m: name 'left_kernel' is not defined"
     ]
    }
   ],
   "source": [
    "#| notest\n",
    "\n",
    "my_kernel = left_kernel\n",
    "\n",
    "c = nn.Conv2d(1, 1, kernel_size=3, padding=1, bias=False)\n",
    "with torch.no_grad():\n",
    "    c.weight.copy_(my_kernel)\n",
    "\n",
    "print(x.shape)\n",
    "y = c(x)\n",
    "print(y.shape)\n",
    "plt.figure(figsize=(3,3))\n",
    "plt.imshow(y.squeeze().detach(), cmap='gray')\n",
    "plt.title('Convolution')\n",
    "\n",
    "dc = nn.ConvTranspose2d(1, 1, kernel_size=3, padding=1, bias=False)\n",
    "# with torch.no_grad():\n",
    "#     dc.weight.copy_(my_kernel)\n",
    "\n",
    "x_bar = dc(y)\n",
    "print(x_bar.shape)\n",
    "plt.figure(figsize=(3,3))\n",
    "plt.imshow(x_bar.squeeze().detach(), cmap='gray')\n",
    "plt.title('Convolution transpose')"
   ]
  },
  {
   "cell_type": "markdown",
   "metadata": {},
   "source": [
    "## Conv Block\n",
    "\n",
    "Using a convolution with a stride of 2 instead of max pooling essentially achieves the same goal of downsampling an image by reducing its spatial dimensions, but with the key difference that the convolution layer can learn more complex feature combinations from overlapping regions, while max pooling only selects the maximum value within a window, potentially losing information about the finer details within that region; making the convolution with stride approach often preferred for preserving more spatial information in a neural network. "
   ]
  },
  {
   "cell_type": "code",
   "execution_count": null,
   "metadata": {},
   "outputs": [],
   "source": [
    "#| export\n",
    "\n",
    "class ConvBlock(nn.Module):\n",
    "  \n",
    "    def __init__(\n",
    "        self,\n",
    "        in_channels:int=3, # input channels\n",
    "        out_channels:int=16, # output channels\n",
    "        kernel_size:int=3, # kernel size\n",
    "        stride:int=2, # stride\n",
    "        bias:bool=True, # bias is False if BatchNorm\n",
    "        normalization:Optional[Type[nn.Module]]=nn.BatchNorm2d, # normalization\n",
    "        activation:Optional[Type[nn.Module]]=nn.ReLU, # activation\n",
    "        # padding=kernel_size//2\n",
    "        \n",
    "    ):\n",
    "                \n",
    "        super().__init__()\n",
    "        \n",
    "        if bias and normalization and issubclass(normalization, (nn.BatchNorm1d,nn.BatchNorm2d,nn.BatchNorm3d)):\n",
    "            logger.warning('setting conv bias back to False as Batchnorm is used')\n",
    "            # https://x.com/karpathy/status/1013245864570073090\n",
    "            bias = False\n",
    "\n",
    "        # use stride 2 for downsampling to (W/2, H/2) instead of max or average pooling with stride 1\n",
    "        conv = nn.Conv2d(\n",
    "            in_channels,\n",
    "            out_channels,\n",
    "            kernel_size,\n",
    "            stride=stride,\n",
    "            padding=kernel_size//2,\n",
    "            bias=bias\n",
    "            )\n",
    "        layers = [conv]\n",
    "        if normalization:\n",
    "            if issubclass(normalization,  (nn.BatchNorm1d, nn.BatchNorm2d, nn.BatchNorm3d)):\n",
    "                layers.append(normalization(out_channels))\n",
    "        if activation:\n",
    "            layers.append(activation())\n",
    "        self.net = nn.Sequential(*layers)\n",
    "\n",
    "    def forward(\n",
    "            self,\n",
    "            x:torch.Tensor # input image tensor of dimension (B, C, W, H)\n",
    "            ) -> torch.Tensor: # output image tensor of dimension (B, C, W/2, H/2)\n",
    "        \n",
    "        \"\"\"forward method of the ConvLayer\"\"\"\n",
    "        return self.net(x)\n"
   ]
  },
  {
   "cell_type": "markdown",
   "metadata": {},
   "source": [
    "### Usage"
   ]
  },
  {
   "cell_type": "code",
   "execution_count": null,
   "metadata": {},
   "outputs": [
    {
     "name": "stderr",
     "output_type": "stream",
     "text": [
      "[14:49:41] WARNING - setting conv bias back to False as Batchnorm is used\n"
     ]
    },
    {
     "ename": "NameError",
     "evalue": "name 'top_kernel' is not defined",
     "output_type": "error",
     "traceback": [
      "\u001b[0;31m---------------------------------------------------------------------------\u001b[0m",
      "\u001b[0;31mNameError\u001b[0m                                 Traceback (most recent call last)",
      "Cell \u001b[0;32mIn[8], line 16\u001b[0m\n\u001b[1;32m     14\u001b[0m layer_0 \u001b[38;5;241m=\u001b[39m model\u001b[38;5;241m.\u001b[39mnet[\u001b[38;5;241m0\u001b[39m] \u001b[38;5;66;03m# get first layer of sequential\u001b[39;00m\n\u001b[1;32m     15\u001b[0m \u001b[38;5;28;01mwith\u001b[39;00m torch\u001b[38;5;241m.\u001b[39mno_grad():\n\u001b[0;32m---> 16\u001b[0m     model\u001b[38;5;241m.\u001b[39mnet[\u001b[38;5;241m0\u001b[39m]\u001b[38;5;241m.\u001b[39mweight\u001b[38;5;241m.\u001b[39mcopy_(top_kernel)\n\u001b[1;32m     18\u001b[0m \u001b[38;5;28mprint\u001b[39m(\u001b[38;5;124m\"\u001b[39m\u001b[38;5;124mY: \u001b[39m\u001b[38;5;124m\"\u001b[39m, model(X)\u001b[38;5;241m.\u001b[39mshape)\n\u001b[1;32m     19\u001b[0m \u001b[38;5;66;03m# # flatten all dims except batch dim 1\u001b[39;00m\n",
      "\u001b[0;31mNameError\u001b[0m: name 'top_kernel' is not defined"
     ]
    }
   ],
   "source": [
    "B, C, H, W = 64, 1, 28, 28\n",
    "X = torch.rand(B, C, H,W)\n",
    "# stride 2 layer downsample to (W/2, H/2)\n",
    "model = ConvBlock(\n",
    "    in_channels=C,\n",
    "    out_channels=16,\n",
    "    kernel_size=3,\n",
    "    stride=2,\n",
    "    bias=True,\n",
    "    normalization=nn.BatchNorm2d,\n",
    "    )\n",
    "\n",
    "# get first layer of sequential and init weights\n",
    "layer_0 = model.net[0] # get first layer of sequential\n",
    "with torch.no_grad():\n",
    "    model.net[0].weight.copy_(top_kernel)\n",
    "\n",
    "print(\"Y: \", model(X).shape)\n",
    "# # flatten all dims except batch dim 1\n",
    "Y = torch.flatten(model(X), 1)\n",
    "print(Y.shape)\n",
    "summary(model, input_size=(B, C, H, W), depth=2)"
   ]
  },
  {
   "cell_type": "code",
   "execution_count": null,
   "metadata": {},
   "outputs": [
    {
     "name": "stderr",
     "output_type": "stream",
     "text": [
      "[12:26:57] WARNING - setting conv bias back to False as Batchnorm is used\n",
      "[12:26:57] WARNING - setting conv bias back to False as Batchnorm is used\n",
      "[12:26:57] WARNING - setting conv bias back to False as Batchnorm is used\n",
      "[12:26:57] WARNING - setting conv bias back to False as Batchnorm is used\n"
     ]
    },
    {
     "data": {
      "text/plain": [
       "torch.Size([64, 16, 2, 2])"
      ]
     },
     "execution_count": null,
     "metadata": {},
     "output_type": "execute_result"
    }
   ],
   "source": [
    "nn.Sequential(\n",
    "    ConvBlock(1, 8),\n",
    "    ConvBlock(8, 16),\n",
    "    ConvBlock(16, 32),\n",
    "    ConvBlock(32, 16)\n",
    "    )(X).shape"
   ]
  },
  {
   "cell_type": "markdown",
   "metadata": {},
   "source": [
    "### Configs"
   ]
  },
  {
   "cell_type": "code",
   "execution_count": null,
   "metadata": {},
   "outputs": [
    {
     "name": "stderr",
     "output_type": "stream",
     "text": [
      "Seed set to 42\n",
      "[14:49:51] WARNING - setting conv bias back to False as Batchnorm is used\n"
     ]
    },
    {
     "name": "stdout",
     "output_type": "stream",
     "text": [
      "=================================================================\n",
      "Layer (type:depth-idx)                   Param #\n",
      "=================================================================\n",
      "ConvBlock                                --\n",
      "├─Sequential: 1-1                        --\n",
      "│    └─Conv2d: 2-1                       144\n",
      "│    └─BatchNorm2d: 2-2                  32\n",
      "│    └─ReLU: 2-3                         --\n",
      "=================================================================\n",
      "Total params: 176\n",
      "Trainable params: 176\n",
      "Non-trainable params: 0\n",
      "=================================================================\n",
      "Y:  torch.Size([64, 16, 14, 14])\n"
     ]
    }
   ],
   "source": [
    "cfg = OmegaConf.load('../config/model/image/convblock.yaml')\n",
    "net = instantiate(cfg.defaults)\n",
    "B, C, H, W = 64, 1, 28, 28\n",
    "X = torch.rand(B, C, H,W)\n",
    "print(summary(net))\n",
    "print(\"Y: \",net(X).shape)"
   ]
  },
  {
   "cell_type": "markdown",
   "metadata": {},
   "source": [
    "## Pre-Activation Layer"
   ]
  },
  {
   "cell_type": "code",
   "execution_count": null,
   "metadata": {},
   "outputs": [],
   "source": [
    "#| export\n",
    "\n",
    "class PreActivationConvBlock(nn.Module):\n",
    "  \n",
    "    def __init__(\n",
    "        self,\n",
    "        in_channels:int=3, # input channels\n",
    "        out_channels:int=16, # output channels\n",
    "        kernel_size:int=3, # kernel size\n",
    "        stride:int=2, # stride\n",
    "        bias:bool=True,\n",
    "        normalization:Optional[Type[nn.Module]]=nn.BatchNorm2d,\n",
    "        activation:Optional[Type[nn.Module]]=nn.ReLU,\n",
    "        # padding=kernel_size//2\n",
    "        \n",
    "    ):\n",
    "\n",
    "        super().__init__()\n",
    "        \n",
    "        if bias and normalization and issubclass(normalization, (nn.BatchNorm1d,nn.BatchNorm2d,nn.BatchNorm3d)):\n",
    "            logger.warning('setting conv bias back to False as Batchnorm is used')\n",
    "            # https://x.com/karpathy/status/1013245864570073090\n",
    "            bias = False\n",
    "\n",
    "        # use stride 2 for downsampling to (W/2, H/2) instead of max or average pooling with stride 1\n",
    "        conv = nn.Conv2d(\n",
    "            in_channels,\n",
    "            out_channels,\n",
    "            kernel_size,\n",
    "            stride=stride,\n",
    "            padding=kernel_size//2,\n",
    "            bias=bias\n",
    "            )\n",
    "        layers = []\n",
    "        if normalization:\n",
    "            if issubclass(normalization,  (nn.BatchNorm1d, nn.BatchNorm2d, nn.BatchNorm3d)):\n",
    "                layers.append(normalization(in_channels))\n",
    "        if activation:\n",
    "            layers.append(activation())\n",
    "        layers.append(conv)\n",
    "        self.net = nn.Sequential(*layers)\n",
    "\n",
    "    def forward(\n",
    "            self,\n",
    "            x:torch.Tensor # input image tensor of dimension (B, C, W, H)\n",
    "            ) -> torch.Tensor: # output image tensor of dimension (B, C, W/2, H/2)\n",
    "        \n",
    "        \"\"\"forward method of the ConvLayer\"\"\"\n",
    "        return self.net(x)\n",
    "\n",
    "    "
   ]
  },
  {
   "cell_type": "code",
   "execution_count": null,
   "metadata": {},
   "outputs": [
    {
     "name": "stderr",
     "output_type": "stream",
     "text": [
      "[12:30:39] WARNING - setting conv bias back to False as Batchnorm is used\n"
     ]
    },
    {
     "name": "stdout",
     "output_type": "stream",
     "text": [
      "Y:  torch.Size([64, 16, 14, 14])\n",
      "torch.Size([64, 3136])\n"
     ]
    },
    {
     "data": {
      "text/plain": [
       "==========================================================================================\n",
       "Layer (type:depth-idx)                   Output Shape              Param #\n",
       "==========================================================================================\n",
       "PreActivationConvBlock                   [64, 16, 14, 14]          --\n",
       "├─Sequential: 1-1                        [64, 16, 14, 14]          --\n",
       "│    └─BatchNorm2d: 2-1                  [64, 1, 28, 28]           2\n",
       "│    └─ReLU: 2-2                         [64, 1, 28, 28]           --\n",
       "│    └─Conv2d: 2-3                       [64, 16, 14, 14]          144\n",
       "==========================================================================================\n",
       "Total params: 146\n",
       "Trainable params: 146\n",
       "Non-trainable params: 0\n",
       "Total mult-adds (Units.MEGABYTES): 1.81\n",
       "==========================================================================================\n",
       "Input size (MB): 0.20\n",
       "Forward/backward pass size (MB): 2.01\n",
       "Params size (MB): 0.00\n",
       "Estimated Total Size (MB): 2.21\n",
       "=========================================================================================="
      ]
     },
     "execution_count": null,
     "metadata": {},
     "output_type": "execute_result"
    }
   ],
   "source": [
    "B, C, H, W = 64, 1, 28, 28\n",
    "X = torch.rand(B, C, H,W)\n",
    "# stride 2 layer downsample to (W/2, H/2)\n",
    "model = PreActivationConvBlock(\n",
    "    in_channels=C,\n",
    "    out_channels=16,\n",
    "    kernel_size=3,\n",
    "    stride=2,\n",
    "    bias=True,\n",
    "    normalization=nn.BatchNorm2d,\n",
    "    )\n",
    "\n",
    "# get last layer of sequential and init weights\n",
    "layer_0 = model.net[0] # get first layer of sequential\n",
    "with torch.no_grad():\n",
    "    model.net[-1].weight.copy_(top_kernel)\n",
    "\n",
    "print(\"Y: \", model(X).shape)\n",
    "# # flatten all dims except batch dim 1\n",
    "Y = torch.flatten(model(X), 1)\n",
    "print(Y.shape)\n",
    "summary(model, input_size=(B, C, H, W), depth=2)"
   ]
  },
  {
   "cell_type": "markdown",
   "metadata": {},
   "source": [
    "## Deconv Block"
   ]
  },
  {
   "cell_type": "code",
   "execution_count": null,
   "metadata": {},
   "outputs": [],
   "source": [
    "#| export\n",
    "\n",
    "class DeconvBlock(nn.Module):\n",
    "    def __init__(\n",
    "        self,\n",
    "        in_channels:int=16, # input channels\n",
    "        out_channels:int=3, # output channels\n",
    "        kernel_size:int=3, # kernel size\n",
    "        bias:bool=True,\n",
    "        normalization:Optional[Type[nn.Module]]=None,\n",
    "        activation:Optional[Type[nn.Module]]=nn.ReLU,\n",
    "        scale_factor:int = 2,\n",
    "        use_transposed_conv:bool=False,\n",
    "    ):\n",
    "        super().__init__()\n",
    "        layers = []\n",
    "        if normalization:\n",
    "            if issubclass(normalization, (nn.BatchNorm1d,nn.BatchNorm2d,nn.BatchNorm3d)):\n",
    "                logger.warning('setting conv bias to False as Batchnorm is used')\n",
    "                # https://x.com/karpathy/status/1013245864570073090\n",
    "                bias = None\n",
    "\n",
    "        if use_transposed_conv:\n",
    "            layers.append(\n",
    "                nn.ConvTranspose2d(\n",
    "                    in_channels,\n",
    "                    out_channels,\n",
    "                    kernel_size,\n",
    "                    stride=scale_factor,\n",
    "                    padding=kernel_size//2,\n",
    "                    output_padding=scale_factor-1,\n",
    "                    bias=bias\n",
    "                )\n",
    "            )\n",
    "    \n",
    "        else:\n",
    "            layers.append(nn.UpsamplingNearest2d(scale_factor=scale_factor))\n",
    "            layers.append(nn.Conv2d(in_channels, out_channels, kernel_size, stride=1, padding=kernel_size//2, bias=bias))\n",
    "\n",
    "        if normalization:\n",
    "            layers.append(normalization(out_channels))\n",
    "        if activation:\n",
    "            layers.append(activation())\n",
    "        self._net = nn.Sequential(*layers)\n",
    "\n",
    "    def forward(\n",
    "        self, x:torch.Tensor # input image tensor of dimension (B, C, W, H)\n",
    "        ) -> torch.Tensor: # output image tensor of dimension (B, C, W*2, H*2)\n",
    "        \n",
    "        return self._net(x)"
   ]
  },
  {
   "cell_type": "code",
   "execution_count": null,
   "metadata": {},
   "outputs": [
    {
     "data": {
      "text/markdown": [
       "---\n",
       "\n",
       "### DeconvBlock\n",
       "\n",
       ">      DeconvBlock (in_channels:int=16, out_channels:int=3, kernel_size:int=3,\n",
       ">                   bias:bool=True, normalization:Optional[Type[torch.nn.modules\n",
       ">                   .module.Module]]=None, activation:Optional[Type[torch.nn.mod\n",
       ">                   ules.module.Module]]=<class\n",
       ">                   'torch.nn.modules.activation.ReLU'>, scale_factor:int=2,\n",
       ">                   use_transposed_conv:bool=False)\n",
       "\n",
       "*Base class for all neural network modules.\n",
       "\n",
       "Your models should also subclass this class.\n",
       "\n",
       "Modules can also contain other Modules, allowing to nest them in\n",
       "a tree structure. You can assign the submodules as regular attributes::\n",
       "\n",
       "    import torch.nn as nn\n",
       "    import torch.nn.functional as F\n",
       "\n",
       "    class Model(nn.Module):\n",
       "        def __init__(self):\n",
       "            super().__init__()\n",
       "            self.conv1 = nn.Conv2d(1, 20, 5)\n",
       "            self.conv2 = nn.Conv2d(20, 20, 5)\n",
       "\n",
       "        def forward(self, x):\n",
       "            x = F.relu(self.conv1(x))\n",
       "            return F.relu(self.conv2(x))\n",
       "\n",
       "Submodules assigned in this way will be registered, and will have their\n",
       "parameters converted too when you call :meth:`to`, etc.\n",
       "\n",
       ".. note::\n",
       "    As per the example above, an ``__init__()`` call to the parent class\n",
       "    must be made before assignment on the child.\n",
       "\n",
       ":ivar training: Boolean represents whether this module is in training or\n",
       "                evaluation mode.\n",
       ":vartype training: bool*\n",
       "\n",
       "|    | **Type** | **Default** | **Details** |\n",
       "| -- | -------- | ----------- | ----------- |\n",
       "| in_channels | int | 16 | input channels |\n",
       "| out_channels | int | 3 | output channels |\n",
       "| kernel_size | int | 3 | kernel size |\n",
       "| bias | bool | True |  |\n",
       "| normalization | Optional | None |  |\n",
       "| activation | Optional | ReLU |  |\n",
       "| scale_factor | int | 2 |  |\n",
       "| use_transposed_conv | bool | False |  |"
      ],
      "text/plain": [
       "---\n",
       "\n",
       "### DeconvBlock\n",
       "\n",
       ">      DeconvBlock (in_channels:int=16, out_channels:int=3, kernel_size:int=3,\n",
       ">                   bias:bool=True, normalization:Optional[Type[torch.nn.modules\n",
       ">                   .module.Module]]=None, activation:Optional[Type[torch.nn.mod\n",
       ">                   ules.module.Module]]=<class\n",
       ">                   'torch.nn.modules.activation.ReLU'>, scale_factor:int=2,\n",
       ">                   use_transposed_conv:bool=False)\n",
       "\n",
       "*Base class for all neural network modules.\n",
       "\n",
       "Your models should also subclass this class.\n",
       "\n",
       "Modules can also contain other Modules, allowing to nest them in\n",
       "a tree structure. You can assign the submodules as regular attributes::\n",
       "\n",
       "    import torch.nn as nn\n",
       "    import torch.nn.functional as F\n",
       "\n",
       "    class Model(nn.Module):\n",
       "        def __init__(self):\n",
       "            super().__init__()\n",
       "            self.conv1 = nn.Conv2d(1, 20, 5)\n",
       "            self.conv2 = nn.Conv2d(20, 20, 5)\n",
       "\n",
       "        def forward(self, x):\n",
       "            x = F.relu(self.conv1(x))\n",
       "            return F.relu(self.conv2(x))\n",
       "\n",
       "Submodules assigned in this way will be registered, and will have their\n",
       "parameters converted too when you call :meth:`to`, etc.\n",
       "\n",
       ".. note::\n",
       "    As per the example above, an ``__init__()`` call to the parent class\n",
       "    must be made before assignment on the child.\n",
       "\n",
       ":ivar training: Boolean represents whether this module is in training or\n",
       "                evaluation mode.\n",
       ":vartype training: bool*\n",
       "\n",
       "|    | **Type** | **Default** | **Details** |\n",
       "| -- | -------- | ----------- | ----------- |\n",
       "| in_channels | int | 16 | input channels |\n",
       "| out_channels | int | 3 | output channels |\n",
       "| kernel_size | int | 3 | kernel size |\n",
       "| bias | bool | True |  |\n",
       "| normalization | Optional | None |  |\n",
       "| activation | Optional | ReLU |  |\n",
       "| scale_factor | int | 2 |  |\n",
       "| use_transposed_conv | bool | False |  |"
      ]
     },
     "execution_count": null,
     "metadata": {},
     "output_type": "execute_result"
    }
   ],
   "source": [
    "show_doc(DeconvBlock, title_level=3)"
   ]
  },
  {
   "cell_type": "markdown",
   "metadata": {},
   "source": [
    "### Usage\n"
   ]
  },
  {
   "cell_type": "code",
   "execution_count": null,
   "metadata": {},
   "outputs": [
    {
     "name": "stdout",
     "output_type": "stream",
     "text": [
      "DeconvBlock(\n",
      "  (_net): Sequential(\n",
      "    (0): ConvTranspose2d(3, 8, kernel_size=(3, 3), stride=(2, 2), padding=(1, 1), output_padding=(1, 1))\n",
      "    (1): ReLU()\n",
      "  )\n",
      ")\n",
      "Y:  torch.Size([64, 8, 56, 56])\n"
     ]
    }
   ],
   "source": [
    "B, C, H, W = 64, 3, 28, 28\n",
    "X = torch.rand(B, C, H, W)\n",
    "deconv = DeconvBlock(3, 8, scale_factor=2, kernel_size=3, use_transposed_conv=True)\n",
    "print(deconv)\n",
    "print(\"Y: \",deconv(X).shape)"
   ]
  },
  {
   "cell_type": "markdown",
   "metadata": {},
   "source": [
    "## Conv-Deconv"
   ]
  },
  {
   "cell_type": "code",
   "execution_count": null,
   "metadata": {},
   "outputs": [
    {
     "ename": "TypeError",
     "evalue": "'NoneType' object is not subscriptable",
     "output_type": "error",
     "traceback": [
      "\u001b[0;31m---------------------------------------------------------------------------\u001b[0m",
      "\u001b[0;31mTypeError\u001b[0m                                 Traceback (most recent call last)",
      "Cell \u001b[0;32mIn[14], line 4\u001b[0m\n\u001b[1;32m      1\u001b[0m \u001b[38;5;66;03m#| notest\u001b[39;00m\n\u001b[1;32m      2\u001b[0m \n\u001b[1;32m      3\u001b[0m \u001b[38;5;66;03m# one image\u001b[39;00m\n\u001b[0;32m----> 4\u001b[0m x, y \u001b[38;5;241m=\u001b[39m dm\u001b[38;5;241m.\u001b[39mtrain_ds[\u001b[38;5;241m0\u001b[39m]\n\u001b[1;32m      5\u001b[0m C, H, W \u001b[38;5;241m=\u001b[39m x\u001b[38;5;241m.\u001b[39mshape\n\u001b[1;32m      6\u001b[0m \u001b[38;5;66;03m# make fake batch dimension\u001b[39;00m\n",
      "\u001b[0;31mTypeError\u001b[0m: 'NoneType' object is not subscriptable"
     ]
    }
   ],
   "source": [
    "#| notest\n",
    "\n",
    "# one image\n",
    "x, y = dm.train_ds[0]\n",
    "C, H, W = x.shape\n",
    "# make fake batch dimension\n",
    "x = x.unsqueeze(0)\n",
    "print(\"x:\", x.shape)\n",
    "plt.figure(figsize=(3,3))\n",
    "plt.imshow(x.squeeze(), cmap='gray')\n",
    "plt.title(\"original image\")\n",
    "\n",
    "my_kernel = left_kernel\n",
    "\n",
    "c = ConvBlock(1,3, kernel_size=3, stride=1)\n",
    "with torch.no_grad():\n",
    "    c.net[0].weight.copy_(my_kernel) # set kernel weights for convlayer 0 (actual convolution2d)\n",
    "\n",
    "y = c(x)\n",
    "print(\"y: \", y.shape)\n",
    "\n",
    "plt.figure(figsize=(3,3))\n",
    "plt.imshow(y.detach().squeeze().numpy().transpose(1, 2, 0), cmap='gray')\n",
    "plt.title(\"filtered image\")\n",
    "\n",
    "\n",
    "dc = DeconvBlock(3, 1, scale_factor=2, kernel_size=3)\n",
    "with torch.no_grad():\n",
    "    dc._net[1].weight.copy_(my_kernel) # set kernel weights for convlayer 1 (actual convolution2d)\n",
    "x_bar = dc(y)\n",
    "print(\"x_bar: \", x_bar.shape)\n",
    "plt.figure(figsize=(3,3))\n",
    "plt.imshow(x_bar.detach().squeeze(), cmap='gray')\n",
    "plt.title(\"Deconv image\")"
   ]
  },
  {
   "cell_type": "markdown",
   "metadata": {},
   "source": [
    "## ConvNet\n",
    "Simple convolution network for image recognition"
   ]
  },
  {
   "cell_type": "code",
   "execution_count": null,
   "metadata": {},
   "outputs": [],
   "source": [
    "#| export\n",
    "\n",
    "class ConvNet(nn.Module):\n",
    "\n",
    "    def __init__(\n",
    "            self,\n",
    "            n_features:List[int]=[1, 8, 16, 32, 64, 128], # channel/feature expansion\n",
    "            num_classes:int=10, # num_classes\n",
    "            kernel_size:int=3, # kernel size\n",
    "            bias:bool=False, # conv2d bias\n",
    "            normalization:nn.Module=nn.BatchNorm2d, # normalization (before activation)\n",
    "            activation:nn.Module=nn.ReLU, # activation function\n",
    "        ):\n",
    "\n",
    "        super().__init__()\n",
    "\n",
    "        net = []\n",
    "        conv_ = partial(ConvBlock, kernel_size=kernel_size, bias=bias, normalization=normalization, activation=activation)\n",
    "        # first layer stride 1 to be able to go deeper while keeping the same spatial resolution\n",
    "        conv_1 = conv_(in_channels=n_features[0], out_channels=n_features[1], stride=1)\n",
    "        net.append(conv_1)\n",
    "\n",
    "        for i in range(1, len(n_features) - 1):\n",
    "            net.append(conv_(in_channels=n_features[i], out_channels=n_features[i+1], stride=2))\n",
    "        \n",
    "        net.append(conv_(in_channels=n_features[-1], out_channels=num_classes, stride=2))\n",
    "        net.append(nn.Flatten(start_dim=1, end_dim=-1))\n",
    "\n",
    "        self.net = nn.Sequential(*net)\n",
    "\n",
    "    def forward(\n",
    "            self,\n",
    "            x:torch.Tensor # input image tensor of dimension (B, C, W, H)\n",
    "            ) -> torch.Tensor: # output probs (B, N_classes)\n",
    "        return self.net(x)"
   ]
  },
  {
   "cell_type": "code",
   "execution_count": null,
   "metadata": {},
   "outputs": [
    {
     "data": {
      "text/markdown": [
       "---\n",
       "\n",
       "[source](https://github.com/slegroux/nimrod/blob/main/nimrod/models/conv.py#L121){target=\"_blank\" style=\"float:right; font-size:smaller\"}\n",
       "\n",
       "## ConvNet\n",
       "\n",
       ">      ConvNet (n_features:List[int]=[1, 8, 16, 32, 64, 128],\n",
       ">               num_classes:int=10, kernel_size:int=3, bias:bool=False,\n",
       ">               normalization:torch.nn.modules.module.Module=<class\n",
       ">               'torch.nn.modules.batchnorm.BatchNorm2d'>,\n",
       ">               activation:torch.nn.modules.module.Module=<class\n",
       ">               'torch.nn.modules.activation.ReLU'>)\n",
       "\n",
       "*Base class for all neural network modules.\n",
       "\n",
       "Your models should also subclass this class.\n",
       "\n",
       "Modules can also contain other Modules, allowing to nest them in\n",
       "a tree structure. You can assign the submodules as regular attributes::\n",
       "\n",
       "    import torch.nn as nn\n",
       "    import torch.nn.functional as F\n",
       "\n",
       "    class Model(nn.Module):\n",
       "        def __init__(self):\n",
       "            super().__init__()\n",
       "            self.conv1 = nn.Conv2d(1, 20, 5)\n",
       "            self.conv2 = nn.Conv2d(20, 20, 5)\n",
       "\n",
       "        def forward(self, x):\n",
       "            x = F.relu(self.conv1(x))\n",
       "            return F.relu(self.conv2(x))\n",
       "\n",
       "Submodules assigned in this way will be registered, and will have their\n",
       "parameters converted too when you call :meth:`to`, etc.\n",
       "\n",
       ".. note::\n",
       "    As per the example above, an ``__init__()`` call to the parent class\n",
       "    must be made before assignment on the child.\n",
       "\n",
       ":ivar training: Boolean represents whether this module is in training or\n",
       "                evaluation mode.\n",
       ":vartype training: bool*\n",
       "\n",
       "|    | **Type** | **Default** | **Details** |\n",
       "| -- | -------- | ----------- | ----------- |\n",
       "| n_features | List | [1, 8, 16, 32, 64, 128] | channel/feature expansion |\n",
       "| num_classes | int | 10 | num_classes |\n",
       "| kernel_size | int | 3 | kernel size |\n",
       "| bias | bool | False | conv2d bias |\n",
       "| normalization | Module | BatchNorm2d | normalization (before activation) |\n",
       "| activation | Module | ReLU | activation function |"
      ],
      "text/plain": [
       "---\n",
       "\n",
       "[source](https://github.com/slegroux/nimrod/blob/main/nimrod/models/conv.py#L121){target=\"_blank\" style=\"float:right; font-size:smaller\"}\n",
       "\n",
       "## ConvNet\n",
       "\n",
       ">      ConvNet (n_features:List[int]=[1, 8, 16, 32, 64, 128],\n",
       ">               num_classes:int=10, kernel_size:int=3, bias:bool=False,\n",
       ">               normalization:torch.nn.modules.module.Module=<class\n",
       ">               'torch.nn.modules.batchnorm.BatchNorm2d'>,\n",
       ">               activation:torch.nn.modules.module.Module=<class\n",
       ">               'torch.nn.modules.activation.ReLU'>)\n",
       "\n",
       "*Base class for all neural network modules.\n",
       "\n",
       "Your models should also subclass this class.\n",
       "\n",
       "Modules can also contain other Modules, allowing to nest them in\n",
       "a tree structure. You can assign the submodules as regular attributes::\n",
       "\n",
       "    import torch.nn as nn\n",
       "    import torch.nn.functional as F\n",
       "\n",
       "    class Model(nn.Module):\n",
       "        def __init__(self):\n",
       "            super().__init__()\n",
       "            self.conv1 = nn.Conv2d(1, 20, 5)\n",
       "            self.conv2 = nn.Conv2d(20, 20, 5)\n",
       "\n",
       "        def forward(self, x):\n",
       "            x = F.relu(self.conv1(x))\n",
       "            return F.relu(self.conv2(x))\n",
       "\n",
       "Submodules assigned in this way will be registered, and will have their\n",
       "parameters converted too when you call :meth:`to`, etc.\n",
       "\n",
       ".. note::\n",
       "    As per the example above, an ``__init__()`` call to the parent class\n",
       "    must be made before assignment on the child.\n",
       "\n",
       ":ivar training: Boolean represents whether this module is in training or\n",
       "                evaluation mode.\n",
       ":vartype training: bool*\n",
       "\n",
       "|    | **Type** | **Default** | **Details** |\n",
       "| -- | -------- | ----------- | ----------- |\n",
       "| n_features | List | [1, 8, 16, 32, 64, 128] | channel/feature expansion |\n",
       "| num_classes | int | 10 | num_classes |\n",
       "| kernel_size | int | 3 | kernel size |\n",
       "| bias | bool | False | conv2d bias |\n",
       "| normalization | Module | BatchNorm2d | normalization (before activation) |\n",
       "| activation | Module | ReLU | activation function |"
      ]
     },
     "execution_count": null,
     "metadata": {},
     "output_type": "execute_result"
    }
   ],
   "source": [
    "show_doc(ConvNet, title_level=2)"
   ]
  },
  {
   "cell_type": "markdown",
   "metadata": {},
   "source": [
    "### Usage"
   ]
  },
  {
   "cell_type": "code",
   "execution_count": null,
   "metadata": {},
   "outputs": [
    {
     "name": "stdout",
     "output_type": "stream",
     "text": [
      "torch.Size([64, 20])\n",
      "==========================================================================================\n",
      "Layer (type:depth-idx)                   Output Shape              Param #\n",
      "==========================================================================================\n",
      "ConvNet                                  [64, 20]                  --\n",
      "├─Sequential: 1-1                        [64, 20]                  --\n",
      "│    └─ConvBlock: 2-1                    [64, 8, 64, 64]           232\n",
      "│    └─ConvBlock: 2-2                    [64, 16, 32, 32]          1,184\n",
      "│    └─ConvBlock: 2-3                    [64, 32, 16, 16]          4,672\n",
      "│    └─ConvBlock: 2-4                    [64, 64, 8, 8]            18,560\n",
      "│    └─ConvBlock: 2-5                    [64, 128, 4, 4]           73,984\n",
      "│    └─ConvBlock: 2-6                    [64, 64, 2, 2]            73,856\n",
      "│    └─ConvBlock: 2-7                    [64, 20, 1, 1]            11,560\n",
      "│    └─Flatten: 2-8                      [64, 20]                  --\n",
      "==========================================================================================\n",
      "Total params: 184,048\n",
      "Trainable params: 184,048\n",
      "Non-trainable params: 0\n",
      "Total mult-adds (Units.MEGABYTES): 378.27\n",
      "==========================================================================================\n",
      "Input size (MB): 3.15\n",
      "Forward/backward pass size (MB): 65.29\n",
      "Params size (MB): 0.74\n",
      "Estimated Total Size (MB): 69.18\n",
      "==========================================================================================\n"
     ]
    }
   ],
   "source": [
    "# data\n",
    "B, C, H, W = 64, 3, 64, 64\n",
    "X = torch.rand(B, C, H, W)\n",
    "X.shape\n",
    "\n",
    "n_features = [3, 8, 16, 32, 64, 128] #28 14 7 4 2 1\n",
    "n_features = [3, 8, 16, 32, 64, 128, 64] #64, 32, 16, 8, 4, 2, 1\n",
    "num_classes = 20\n",
    "\n",
    "convnet = ConvNet(\n",
    "    n_features=n_features, # channel/feature expansion\n",
    "    num_classes=num_classes, # num_classes\n",
    "    kernel_size=3, # kernel size\n",
    "    bias=False, # conv2d bias\n",
    "    normalization=nn.BatchNorm2d, # normalization (before activation)\n",
    "    activation=nn.ReLU,\n",
    ")\n",
    "out = convnet(X)\n",
    "print(out.shape)\n",
    "print(summary(convnet, input_size=(X.shape), depth=2))\n"
   ]
  },
  {
   "cell_type": "code",
   "execution_count": null,
   "metadata": {},
   "outputs": [
    {
     "name": "stdout",
     "output_type": "stream",
     "text": [
      "{'_target_': 'nimrod.models.conv.ConvNet', 'n_features': [1, 8, 16, 32, 64, 128], 'num_classes': 10, 'kernel_size': 3, 'bias': False, 'normalization': {'_target_': 'hydra.utils.get_class', 'path': 'torch.nn.BatchNorm2d'}, 'activation': {'_target_': 'hydra.utils.get_class', 'path': 'torch.nn.ReLU'}}\n"
     ]
    }
   ],
   "source": [
    "# from config\n",
    "cfg = OmegaConf.load('../config/model/image/convnet.yaml')\n",
    "# print(cfg.defaults)\n",
    "# convnet = instantiate(cfg.defaults)\n",
    "print(cfg.batchnorm)\n",
    "convnet = instantiate(cfg.baseline)\n",
    "\n",
    "# print(convnet(X).shape)"
   ]
  },
  {
   "cell_type": "markdown",
   "metadata": {},
   "source": [
    "### Training"
   ]
  },
  {
   "cell_type": "markdown",
   "metadata": {},
   "source": [
    "#### Dataloaders"
   ]
  },
  {
   "cell_type": "code",
   "execution_count": null,
   "metadata": {},
   "outputs": [
    {
     "name": "stderr",
     "output_type": "stream",
     "text": [
      "[16:28:58] INFO - Init ImageDataModule for fashion_mnist\n",
      "[16:29:17] INFO - split train into train/val [0.8, 0.2]\n",
      "[16:29:17] INFO - train: 48000 val: 12000, test: 10000\n"
     ]
    },
    {
     "name": "stdout",
     "output_type": "stream",
     "text": [
      "X (C,H,W):  torch.Size([1, 32, 32]) y:  9\n",
      "XX (B,C,H,W):  torch.Size([512, 1, 32, 32]) YY:  torch.Size([512])\n",
      "48000\n",
      "93\n"
     ]
    }
   ],
   "source": [
    "#| notest\n",
    "\n",
    "# data module config\n",
    "cfg = OmegaConf.load('../config/data/image/fashion_mnist.yaml')\n",
    "\n",
    "BATCH_SIZE = 512\n",
    "datamodule = instantiate(cfg, batch_size=BATCH_SIZE)\n",
    "datamodule.prepare_data()\n",
    "datamodule.setup()\n",
    "\n",
    "# one data point \n",
    "X,y = datamodule.test_ds[0]\n",
    "print(\"X (C,H,W): \", X.shape, \"y: \", y)\n",
    "\n",
    "# a batch of data via dataloader\n",
    "XX,YY = next(iter(datamodule.test_dataloader()))\n",
    "print(\"XX (B,C,H,W): \", XX.shape, \"YY: \", YY.shape)\n",
    "\n",
    "print(len(datamodule.train_ds))\n",
    "print(len(datamodule.train_ds) // BATCH_SIZE)"
   ]
  },
  {
   "cell_type": "markdown",
   "metadata": {},
   "source": [
    "#### Model & hardware"
   ]
  },
  {
   "cell_type": "code",
   "execution_count": null,
   "metadata": {},
   "outputs": [
    {
     "name": "stderr",
     "output_type": "stream",
     "text": [
      "[16:29:17] INFO - Using device: mps\n"
     ]
    },
    {
     "name": "stdout",
     "output_type": "stream",
     "text": [
      "mps\n",
      "{'_target_': 'nimrod.models.conv.ConvNet', 'n_features': [1, 8, 16, 32, 64], 'num_classes': 10, 'kernel_size': 3, 'bias': True, 'normalization': None, 'activation': {'_target_': 'hydra.utils.get_class', 'path': 'torch.nn.ReLU'}}\n"
     ]
    },
    {
     "data": {
      "text/plain": [
       "==========================================================================================\n",
       "Layer (type:depth-idx)                   Output Shape              Param #\n",
       "==========================================================================================\n",
       "ConvNet                                  [64, 40]                  --\n",
       "├─Sequential: 1-1                        [64, 40]                  --\n",
       "│    └─ConvLayer: 2-1                    [64, 8, 28, 28]           --\n",
       "│    │    └─Sequential: 3-1              [64, 8, 28, 28]           --\n",
       "│    │    │    └─Conv2d: 4-1             [64, 8, 28, 28]           80\n",
       "│    │    │    └─ReLU: 4-2               [64, 8, 28, 28]           --\n",
       "│    └─ConvLayer: 2-2                    [64, 16, 14, 14]          --\n",
       "│    │    └─Sequential: 3-2              [64, 16, 14, 14]          --\n",
       "│    │    │    └─Conv2d: 4-3             [64, 16, 14, 14]          1,168\n",
       "│    │    │    └─ReLU: 4-4               [64, 16, 14, 14]          --\n",
       "│    └─ConvLayer: 2-3                    [64, 32, 7, 7]            --\n",
       "│    │    └─Sequential: 3-3              [64, 32, 7, 7]            --\n",
       "│    │    │    └─Conv2d: 4-5             [64, 32, 7, 7]            4,640\n",
       "│    │    │    └─ReLU: 4-6               [64, 32, 7, 7]            --\n",
       "│    └─ConvLayer: 2-4                    [64, 64, 4, 4]            --\n",
       "│    │    └─Sequential: 3-4              [64, 64, 4, 4]            --\n",
       "│    │    │    └─Conv2d: 4-7             [64, 64, 4, 4]            18,496\n",
       "│    │    │    └─ReLU: 4-8               [64, 64, 4, 4]            --\n",
       "│    └─ConvLayer: 2-5                    [64, 10, 2, 2]            --\n",
       "│    │    └─Sequential: 3-5              [64, 10, 2, 2]            --\n",
       "│    │    │    └─Conv2d: 4-9             [64, 10, 2, 2]            5,770\n",
       "│    └─Flatten: 2-6                      [64, 40]                  --\n",
       "==========================================================================================\n",
       "Total params: 30,154\n",
       "Trainable params: 30,154\n",
       "Non-trainable params: 0\n",
       "Total mult-adds (Units.MEGABYTES): 53.63\n",
       "==========================================================================================\n",
       "Input size (MB): 0.20\n",
       "Forward/backward pass size (MB): 6.16\n",
       "Params size (MB): 0.12\n",
       "Estimated Total Size (MB): 6.49\n",
       "=========================================================================================="
      ]
     },
     "execution_count": null,
     "metadata": {},
     "output_type": "execute_result"
    }
   ],
   "source": [
    "#| notest\n",
    "device = get_device()\n",
    "print(device)\n",
    "cfg = OmegaConf.load('../config/model/image/convnet.yaml')\n",
    "# print(cfg.defaults)\n",
    "# convnet = instantiate(cfg.defaults)\n",
    "print(cfg.baseline)\n",
    "convnet = instantiate(cfg.baseline)\n",
    "model = convnet.to(device)\n",
    "\n",
    "summary(model, input_size=(B, C, H, W), depth=4)"
   ]
  },
  {
   "cell_type": "markdown",
   "metadata": {},
   "source": [
    "#### LR finder"
   ]
  },
  {
   "cell_type": "code",
   "execution_count": null,
   "metadata": {},
   "outputs": [
    {
     "name": "stdout",
     "output_type": "stream",
     "text": [
      "=================================================================\n",
      "Layer (type:depth-idx)                   Param #\n",
      "=================================================================\n",
      "ConvNet                                  --\n",
      "├─Sequential: 1-1                        --\n",
      "│    └─ConvLayer: 2-1                    --\n",
      "│    │    └─Sequential: 3-1              --\n",
      "│    │    │    └─Conv2d: 4-1             72\n",
      "│    │    │    └─BatchNorm2d: 4-2        16\n",
      "│    │    │    └─ReLU: 4-3               --\n",
      "│    └─ConvLayer: 2-2                    --\n",
      "│    │    └─Sequential: 3-2              --\n",
      "│    │    │    └─Conv2d: 4-4             1,152\n",
      "│    │    │    └─BatchNorm2d: 4-5        32\n",
      "│    │    │    └─ReLU: 4-6               --\n",
      "│    └─ConvLayer: 2-3                    --\n",
      "│    │    └─Sequential: 3-3              --\n",
      "│    │    │    └─Conv2d: 4-7             4,608\n",
      "│    │    │    └─BatchNorm2d: 4-8        64\n",
      "│    │    │    └─ReLU: 4-9               --\n",
      "│    └─ConvLayer: 2-4                    --\n",
      "│    │    └─Sequential: 3-4              --\n",
      "│    │    │    └─Conv2d: 4-10            18,432\n",
      "│    │    │    └─BatchNorm2d: 4-11       128\n",
      "│    │    │    └─ReLU: 4-12              --\n",
      "│    └─ConvLayer: 2-5                    --\n",
      "│    │    └─Sequential: 3-5              --\n",
      "│    │    │    └─Conv2d: 4-13            73,728\n",
      "│    │    │    └─BatchNorm2d: 4-14       256\n",
      "│    │    │    └─ReLU: 4-15              --\n",
      "│    └─ConvLayer: 2-6                    --\n",
      "│    │    └─Sequential: 3-6              --\n",
      "│    │    │    └─Conv2d: 4-16            11,530\n",
      "│    └─Flatten: 2-7                      --\n",
      "=================================================================\n",
      "Total params: 110,018\n",
      "Trainable params: 110,018\n",
      "Non-trainable params: 0\n",
      "=================================================================\n"
     ]
    },
    {
     "data": {
      "application/vnd.jupyter.widget-view+json": {
       "model_id": "fc70a3a60d7f4ce288aa2e5958fa105c",
       "version_major": 2,
       "version_minor": 0
      },
      "text/plain": [
       "  0%|          | 0/100 [00:00<?, ?it/s]"
      ]
     },
     "metadata": {},
     "output_type": "display_data"
    },
    {
     "name": "stdout",
     "output_type": "stream",
     "text": [
      "Stopping early, the loss has diverged\n",
      "Learning rate search finished. See the graph with {finder_name}.plot()\n",
      "LR suggestion: steepest gradient\n",
      "Suggested LR: 2.01E-03\n"
     ]
    },
    {
     "data": {
      "image/png": "[encoded data removed]",
      "text/plain": [
       "<Figure size 640x480 with 1 Axes>"
      ]
     },
     "metadata": {},
     "output_type": "display_data"
    },
    {
     "name": "stdout",
     "output_type": "stream",
     "text": [
      "Suggested lr: 0.0020092330025650463\n"
     ]
    }
   ],
   "source": [
    "#| notest\n",
    "\n",
    "cfg = OmegaConf.load('../config/model/image/convnet.yaml')\n",
    "model = instantiate(cfg.batchnorm)\n",
    "print(summary(model, depth=4))\n",
    "\n",
    "\n",
    "criterion = nn.CrossEntropyLoss()    \n",
    "optimizer = torch.optim.Adam(model.parameters(), lr=1e-4) #, weight_decay=1e-5)\n",
    "    \n",
    "# Initialize LR Finder\n",
    "lr_finder = LRFinder(model, optimizer, criterion, device=device)\n",
    "    \n",
    "# Run LR range test\n",
    "lr_finder.range_test(\n",
    "    datamodule.train_dataloader(),\n",
    "    start_lr=1e-5,      # Extremely small starting learning rate\n",
    "    end_lr=10,          # Large ending learning rate\n",
    "    num_iter=100,   # Number of iterations to test\n",
    "    smooth_f=0.05,   # Smoothing factor for the loss\n",
    "    diverge_th=5, \n",
    ")\n",
    "    \n",
    "# Plot the learning rate vs loss\n",
    "_, lr_found = lr_finder.plot(log_lr=True)\n",
    "print('Suggested lr:', lr_found)\n",
    "    \n",
    "lr_finder.reset()\n",
    "    \n",
    "\n",
    "    "
   ]
  },
  {
   "cell_type": "markdown",
   "metadata": {},
   "source": [
    "#### 1-cycle warm-up"
   ]
  },
  {
   "cell_type": "code",
   "execution_count": null,
   "metadata": {},
   "outputs": [
    {
     "name": "stderr",
     "output_type": "stream",
     "text": [
      "Seed set to 42\n",
      "Seed set to 42\n",
      "[23:31:47] INFO - Init ImageDataModule for fashion_mnist\n",
      "[23:31:52] INFO - loading dataset fashion_mnist with args () from split train\n",
      "[23:32:00] INFO - loading dataset fashion_mnist with args () from split test\n",
      "[23:32:03] INFO - split train into train/val [0.8, 0.2]\n",
      "[23:32:03] INFO - train: 48000 val: 12000, test: 10000\n"
     ]
    },
    {
     "ename": "NameError",
     "evalue": "name 'device' is not defined",
     "output_type": "error",
     "traceback": [
      "\u001b[0;31m---------------------------------------------------------------------------\u001b[0m",
      "\u001b[0;31mNameError\u001b[0m                                 Traceback (most recent call last)",
      "Cell \u001b[0;32mIn[9], line 11\u001b[0m\n\u001b[1;32m      8\u001b[0m datamodule\u001b[38;5;241m.\u001b[39msetup()\n\u001b[1;32m     10\u001b[0m \u001b[38;5;66;03m# device = 'cpu'\u001b[39;00m\n\u001b[0;32m---> 11\u001b[0m \u001b[38;5;28mprint\u001b[39m(\u001b[43mdevice\u001b[49m)\n\u001b[1;32m     12\u001b[0m cfg_mdl \u001b[38;5;241m=\u001b[39m OmegaConf\u001b[38;5;241m.\u001b[39mload(\u001b[38;5;124m'\u001b[39m\u001b[38;5;124m../config/model/image/convnet.yaml\u001b[39m\u001b[38;5;124m'\u001b[39m)\n\u001b[1;32m     13\u001b[0m convnet \u001b[38;5;241m=\u001b[39m instantiate(cfg_mdl\u001b[38;5;241m.\u001b[39mbatchnorm)\n",
      "\u001b[0;31mNameError\u001b[0m: name 'device' is not defined"
     ]
    }
   ],
   "source": [
    "#| notest\n",
    "\n",
    "device = get_device()\n",
    "# data module config\n",
    "cfg_dm = OmegaConf.load('../config/data/image/fashion_mnist.yaml')\n",
    "cfg_dm.batch_size = 512\n",
    "datamodule = instantiate(cfg_dm)\n",
    "datamodule.prepare_data()\n",
    "datamodule.setup()\n",
    "\n",
    "# device = 'cpu'\n",
    "print(device)\n",
    "cfg_mdl = OmegaConf.load('../config/model/image/convnet.yaml')\n",
    "convnet = instantiate(cfg_mdl.batchnorm)\n",
    "model = convnet.to(device)\n",
    "\n",
    "N_EPOCHS = 5\n",
    "\n",
    "lr_found = 3e-4\n",
    "\n",
    "criterion = nn.CrossEntropyLoss()\n",
    "optimizer = torch.optim.Adam(model.parameters(), lr=1e-4)\n",
    "steps_per_epoch = len(datamodule.train_ds) // cfg_dm.batch_size\n",
    "total_steps = steps_per_epoch* N_EPOCHS\n",
    "print(f\"size training set: {len(datamodule.train_ds)}, bs: {cfg_dm.batch_size}, steps/epoch: {steps_per_epoch}, total steps: {total_steps}\")\n",
    "# scheduler = torch.optim.lr_scheduler.OneCycleLR(optimizer, max_lr=0.01, steps_per_epoch=steps_per_epochs, epochs=1)\n",
    "\n",
    "scheduler = torch.optim.lr_scheduler.OneCycleLR(\n",
    "        optimizer,\n",
    "        max_lr=lr_found,  # Peak learning rate\n",
    "        # total_steps=len(datamodule.train_ds) * N_EPOCHS,  # Total training iterations\n",
    "        steps_per_epoch=steps_per_epoch,\n",
    "        epochs=N_EPOCHS,\n",
    "        pct_start=0.3,  # 30% of training increasing LR, 70% decreasing\n",
    "        anneal_strategy='cos',  # Cosine annealing\n",
    "        div_factor=10,  # Initial lr = max_lr / div_factor\n",
    "        # final_div_factor=1e4,\n",
    "        three_phase=False  # Two phase LR schedule (increase then decrease)\n",
    "    )\n",
    "\n",
    "################################\n",
    "%time\n",
    "\n",
    "lrs = []\n",
    "current_step = 0\n",
    "train_loss_history = []\n",
    "eval_loss_history = []\n",
    "avg_train_loss_hist = []\n",
    "avg_eval_loss_hist = []\n",
    "max_acc = 0\n",
    "\n",
    "for epoch in range(N_EPOCHS):\n",
    "    i = 0\n",
    "    model.train()\n",
    "    for images, labels in datamodule.train_dataloader():\n",
    "        if current_step >= total_steps:\n",
    "            print(f\"Reached total steps: {current_step}/{total_steps}\")\n",
    "            break\n",
    "        optimizer.zero_grad()\n",
    "        images, labels = images.to(device), labels.to(device)\n",
    "        outputs = model(images)\n",
    "        loss = criterion(outputs, labels)        \n",
    "        loss.backward()\n",
    "        optimizer.step()\n",
    "        scheduler.step()    \n",
    "        current_step += 1\n",
    "        train_loss_history.append(loss.item())\n",
    "        # current_lr = scheduler.get_last_lr()[0]\n",
    "        current_lr = optimizer.param_groups[0]['lr']\n",
    "        lrs.append(current_lr)\n",
    "        if not (i % 100):\n",
    "            print(f\"Loss {loss.item():.4f}, Current LR: {current_lr:.10f}, Step: {current_step}/{total_steps}\")\n",
    "        i += 1\n",
    "\n",
    "    model.eval()\n",
    "    with torch.no_grad():\n",
    "        correct = 0\n",
    "        total = 0\n",
    "        for images, labels in datamodule.val_dataloader():\n",
    "            # model expects input (B,H*W)\n",
    "            images = images.to(device)\n",
    "            labels = labels.to(device)\n",
    "            # Pass the input through the model\n",
    "            outputs = model(images)\n",
    "            # eval loss\n",
    "            eval_loss = criterion(outputs, labels)\n",
    "            eval_loss_history.append(eval_loss.item())\n",
    "            # Get the predicted labels\n",
    "            _, predicted = torch.max(outputs.data, 1)\n",
    "\n",
    "            # Update the total and correct counts\n",
    "            total += labels.size(0)\n",
    "            correct += (predicted == labels).sum()\n",
    "            acc = 100 * correct / total\n",
    "            if acc > max_acc:\n",
    "                max_acc = acc\n",
    "\n",
    "        # Print the accuracy\n",
    "    print(f\"Epoch {epoch + 1}: Last training Loss {loss.item():.4f}, Last Eval loss {eval_loss.item():.4f} Accuracy = {100 * correct / total:.2f}% Best Accuracy: {max_acc:.2f}\")\n",
    "    # print(f'Current LR: {optimizer.param_groups[0][\"lr\"]:.5f}')\n",
    "\n",
    "###################\n",
    "plt.figure(1)\n",
    "plt.subplot(211)\n",
    "plt.ylabel('loss')\n",
    "plt.xlabel('step')\n",
    "plt.plot(train_loss_history)\n",
    "plt.plot(eval_loss_history)\n",
    "plt.subplot(212)\n",
    "plt.ylabel('lr')\n",
    "plt.xlabel('step')\n",
    "plt.plot(lrs)\n",
    "\n"
   ]
  },
  {
   "cell_type": "markdown",
   "metadata": {},
   "source": [
    "## ConvNetX"
   ]
  },
  {
   "cell_type": "code",
   "execution_count": null,
   "metadata": {},
   "outputs": [],
   "source": [
    "#| export\n",
    "\n",
    "class ConvNetX(Classifier):\n",
    "    \"\"\"\n",
    "    Parameters\n",
    "    ----------\n",
    "    nnet : ConvNet\n",
    "        The neural network model.\n",
    "    num_classes : int\n",
    "        The number of classes.\n",
    "    optimizer : callable\n",
    "        The optimizer.\n",
    "    scheduler : callable\n",
    "        The learning rate scheduler.\n",
    "    \"\"\"\n",
    "\n",
    "    def __init__(\n",
    "            self,\n",
    "            nnet:ConvNet, # model\n",
    "            num_classes:int, # number of classes\n",
    "            optimizer:Callable[...,torch.optim.Optimizer], # optimizer\n",
    "            scheduler: Optional[Callable[...,Any]]=None, # scheduler\n",
    "            ):\n",
    "\n",
    "        logger.info(\"ConvNetX: init\")\n",
    "        super().__init__(\n",
    "            nnet=nnet,\n",
    "            num_classes=num_classes,\n",
    "            optimizer=optimizer,\n",
    "            scheduler=scheduler\n",
    "            )\n",
    "        \n",
    "    \n",
    "    def _step(self, batch, batch_idx):\n",
    "        x, y = batch\n",
    "        y_hat = self.forward(x)\n",
    "        loss = self.loss(y_hat, y)\n",
    "        preds = y_hat.argmax(dim=1)\n",
    "        return loss, preds, y\n",
    "    \n",
    "    def predict_step(self, batch, batch_idx, dataloader_idx=0):\n",
    "        x, y = batch\n",
    "        y_hat = self.forward(x)\n",
    "        return y_hat.argmax(dim=1)"
   ]
  },
  {
   "cell_type": "markdown",
   "metadata": {},
   "source": [
    "### Usage"
   ]
  },
  {
   "cell_type": "code",
   "execution_count": null,
   "metadata": {},
   "outputs": [],
   "source": [
    "cfg = OmegaConf.load('../config/model/image/convnetx.yaml')\n",
    "feats_dim = [3, 8, 16, 32, 64, 128, 64]\n",
    "cfg.nnet.n_features = feats_dim\n",
    "cfg.nnet.num_classes = 200\n",
    "\n",
    "model = instantiate(cfg.nnet)"
   ]
  },
  {
   "cell_type": "code",
   "execution_count": null,
   "metadata": {},
   "outputs": [
    {
     "name": "stdout",
     "output_type": "stream",
     "text": [
      "torch.Size([64, 200])\n"
     ]
    }
   ],
   "source": [
    "B, C, H, W = 64, 3, 64, 64\n",
    "X = torch.rand(B, C, H, W)\n",
    "X.shape\n",
    "print(model(X).shape)"
   ]
  },
  {
   "cell_type": "code",
   "execution_count": null,
   "metadata": {},
   "outputs": [
    {
     "data": {
      "text/plain": [
       "==========================================================================================\n",
       "Layer (type:depth-idx)                   Output Shape              Param #\n",
       "==========================================================================================\n",
       "ConvNet                                  [64, 200]                 --\n",
       "├─Sequential: 1-1                        [64, 200]                 --\n",
       "│    └─ConvBlock: 2-1                    [64, 8, 64, 64]           232\n",
       "│    └─ConvBlock: 2-2                    [64, 16, 32, 32]          1,184\n",
       "│    └─ConvBlock: 2-3                    [64, 32, 16, 16]          4,672\n",
       "│    └─ConvBlock: 2-4                    [64, 64, 8, 8]            18,560\n",
       "│    └─ConvBlock: 2-5                    [64, 128, 4, 4]           73,984\n",
       "│    └─ConvBlock: 2-6                    [64, 64, 2, 2]            73,856\n",
       "│    └─ConvBlock: 2-7                    [64, 200, 1, 1]           115,600\n",
       "│    └─Flatten: 2-8                      [64, 200]                 --\n",
       "==========================================================================================\n",
       "Total params: 288,088\n",
       "Trainable params: 288,088\n",
       "Non-trainable params: 0\n",
       "Total mult-adds (Units.MEGABYTES): 384.93\n",
       "==========================================================================================\n",
       "Input size (MB): 3.15\n",
       "Forward/backward pass size (MB): 65.48\n",
       "Params size (MB): 1.15\n",
       "Estimated Total Size (MB): 69.78\n",
       "=========================================================================================="
      ]
     },
     "execution_count": null,
     "metadata": {},
     "output_type": "execute_result"
    }
   ],
   "source": [
    "summary(model, input_size=(B, C, H, W), depth=2)"
   ]
  },
  {
   "cell_type": "markdown",
   "metadata": {},
   "source": [
    "### Nimrod training"
   ]
  },
  {
   "cell_type": "code",
   "execution_count": null,
   "metadata": {},
   "outputs": [
    {
     "name": "stderr",
     "output_type": "stream",
     "text": [
      "[20:23:50] INFO - Init ImageDataModule for fashion_mnist\n",
      "[20:24:08] INFO - split train into train/val [0.8, 0.2]\n",
      "[20:24:08] INFO - train: 48000 val: 12000, test: 10000\n"
     ]
    }
   ],
   "source": [
    "#| notest\n",
    "\n",
    "N_EPOCHS = 5\n",
    "\n",
    "# data module config\n",
    "cfg = OmegaConf.load('../config/data/image/fashion_mnist.yaml')\n",
    "cfg.batch_size = 512\n",
    "cfg.num_workers = 0\n",
    "datamodule = instantiate(cfg)\n",
    "datamodule.prepare_data()\n",
    "datamodule.setup()\n",
    "\n"
   ]
  },
  {
   "cell_type": "code",
   "execution_count": null,
   "metadata": {},
   "outputs": [
    {
     "name": "stderr",
     "output_type": "stream",
     "text": [
      "[14:53:05] INFO - ConvNetX: init\n",
      "[14:53:05] INFO - Classifier: init\n",
      "/user/s/slegroux/miniconda3/envs/nimrod/lib/python3.11/site-packages/lightning/pytorch/utilities/parsing.py:209: Attribute 'nnet' is an instance of `nn.Module` and is already saved during checkpointing. It is recommended to ignore them using `self.save_hyperparameters(ignore=['nnet'])`.\n"
     ]
    }
   ],
   "source": [
    "#| notest\n",
    "cfg = OmegaConf.load('../config/optimizer/adam_w.yaml')\n",
    "optimizer = instantiate(cfg)\n",
    "\n",
    "cfg = OmegaConf.load('../config/scheduler/step_lr.yaml')\n",
    "scheduler = instantiate(cfg)\n",
    "\n",
    "cfg = OmegaConf.load('../config/model/image/convnetx.yaml')\n",
    "model = instantiate(cfg)(optimizer=optimizer, scheduler=scheduler)\n",
    "\n",
    "# # with 1-cycle sched\n",
    "# cfg.nnet.n_features = [1, 8, 16, 32, 64, 128]\n",
    "# cfg.scheduler.total_steps = len(datamodule.train_ds) * N_EPOCHS\n",
    "# model = instantiate(cfg)"
   ]
  },
  {
   "cell_type": "code",
   "execution_count": null,
   "metadata": {},
   "outputs": [
    {
     "name": "stderr",
     "output_type": "stream",
     "text": [
      "GPU available: True (mps), used: True\n",
      "TPU available: False, using: 0 TPU cores\n",
      "HPU available: False, using: 0 HPUs\n"
     ]
    }
   ],
   "source": [
    "#| notest\n",
    "\n",
    "trainer = Trainer(\n",
    "    accelerator=\"auto\",\n",
    "    max_epochs=N_EPOCHS,\n",
    "    logger=TensorBoardLogger(\"tb_logs\", name=\"fashion_mnist_convnet\", default_hp_metric=True),\n",
    "    # logger=CSVLogger(\"logs\", name=\"mnist_convnet\"),\n",
    "    callbacks = [LearningRateMonitor(logging_interval=\"step\")],\n",
    "    check_val_every_n_epoch=1,\n",
    "    log_every_n_steps=1\n",
    "    )\n"
   ]
  },
  {
   "cell_type": "markdown",
   "metadata": {},
   "source": [
    "#### LR finder"
   ]
  },
  {
   "cell_type": "code",
   "execution_count": null,
   "metadata": {},
   "outputs": [
    {
     "name": "stderr",
     "output_type": "stream",
     "text": [
      "[20:59:14] INFO - Optimizer: <class 'torch.optim.adamw.AdamW'>\n",
      "[20:59:14] INFO - Scheduler: <torch.optim.lr_scheduler.StepLR object>\n",
      "/Users/slegroux/miniforge3/envs/nimrod/lib/python3.11/site-packages/lightning/pytorch/trainer/connectors/data_connector.py:424: The 'train_dataloader' does not have many workers which may be a bottleneck. Consider increasing the value of the `num_workers` argument` to `num_workers=11` in the `DataLoader` to improve performance.\n",
      "/Users/slegroux/miniforge3/envs/nimrod/lib/python3.11/site-packages/lightning/pytorch/trainer/connectors/data_connector.py:424: The 'val_dataloader' does not have many workers which may be a bottleneck. Consider increasing the value of the `num_workers` argument` to `num_workers=11` in the `DataLoader` to improve performance.\n"
     ]
    },
    {
     "data": {
      "application/vnd.jupyter.widget-view+json": {
       "model_id": "8a0753b0871049089cba4cdb7e336629",
       "version_major": 2,
       "version_minor": 0
      },
      "text/plain": [
       "Finding best initial lr:   0%|          | 0/100 [00:00<?, ?it/s]"
      ]
     },
     "metadata": {},
     "output_type": "display_data"
    },
    {
     "name": "stderr",
     "output_type": "stream",
     "text": [
      "`Trainer.fit` stopped: `max_steps=100` reached.\n",
      "Learning rate set to 0.0019952623149688807\n",
      "Restoring states from the checkpoint path at /Users/slegroux/Projects/nimrod/nbs/.lr_find_61a6646e-2298-4940-9b72-9185e67e8d21.ckpt\n",
      "Restored all states from the checkpoint at /Users/slegroux/Projects/nimrod/nbs/.lr_find_61a6646e-2298-4940-9b72-9185e67e8d21.ckpt\n"
     ]
    },
    {
     "data": {
      "image/png": "[encoded data removed]",
      "text/plain": [
       "<Figure size 640x480 with 1 Axes>"
      ]
     },
     "metadata": {},
     "output_type": "display_data"
    },
    {
     "name": "stdout",
     "output_type": "stream",
     "text": [
      "Suggested learning rate: 0.0019952623149688807\n"
     ]
    }
   ],
   "source": [
    "#| notest\n",
    "\n",
    "tuner = Tuner(trainer)\n",
    "lr_finder = tuner.lr_find(\n",
    "    model,\n",
    "    datamodule=datamodule,\n",
    "    min_lr=1e-5,\n",
    "    max_lr=1.0,\n",
    "    num_training=100,  # number of iterations\n",
    "    # attr_name=\"optimizer.lr\",\n",
    ")\n",
    "fig = lr_finder.plot(suggest=True)\n",
    "plt.show()\n",
    "print(f\"Suggested learning rate: {lr_finder.suggestion()}\")"
   ]
  },
  {
   "cell_type": "code",
   "execution_count": null,
   "metadata": {},
   "outputs": [
    {
     "name": "stdout",
     "output_type": "stream",
     "text": [
      "10 48000 512\n",
      "280000\n",
      "136.71875\n",
      "136\n"
     ]
    }
   ],
   "source": [
    "#| notest\n",
    "print(trainer.max_epochs, len(datamodule.train_ds), datamodule.hparams.batch_size)\n",
    "print(5*56000)\n",
    "print(5*56000/2048)\n",
    "print(5*56000//2048)"
   ]
  },
  {
   "cell_type": "markdown",
   "metadata": {},
   "source": [
    "#### 1-cycle scheduling"
   ]
  },
  {
   "cell_type": "code",
   "execution_count": null,
   "metadata": {},
   "outputs": [
    {
     "name": "stderr",
     "output_type": "stream",
     "text": [
      "[23:33:22] INFO - Init ImageDataModule for mnist\n",
      "[23:33:26] INFO - loading dataset mnist with args () from split train\n",
      "[23:33:33] INFO - loading dataset mnist with args () from split test\n",
      "[23:33:36] INFO - split train into train/val [0.8, 0.2]\n",
      "[23:33:36] INFO - train: 48000 val: 12000, test: 10000\n",
      "GPU available: True (mps), used: True\n",
      "TPU available: False, using: 0 TPU cores\n",
      "HPU available: False, using: 0 HPUs\n",
      "Loading `train_dataloader` to estimate number of stepping batches.\n"
     ]
    },
    {
     "name": "stdout",
     "output_type": "stream",
     "text": [
      "estimated steps:  -1 accumulate_grad_batches:  1\n"
     ]
    },
    {
     "ename": "ConfigAttributeError",
     "evalue": "Missing key scheduler\n    full_key: scheduler\n    object_type=dict",
     "output_type": "error",
     "traceback": [
      "\u001b[0;31m---------------------------------------------------------------------------\u001b[0m",
      "\u001b[0;31mConfigAttributeError\u001b[0m                      Traceback (most recent call last)",
      "Cell \u001b[0;32mIn[10], line 41\u001b[0m\n\u001b[1;32m     39\u001b[0m \u001b[38;5;66;03m# MODEL\u001b[39;00m\n\u001b[1;32m     40\u001b[0m model_cfg \u001b[38;5;241m=\u001b[39m OmegaConf\u001b[38;5;241m.\u001b[39mload(\u001b[38;5;124m'\u001b[39m\u001b[38;5;124m../config/model/image/convnetx.yaml\u001b[39m\u001b[38;5;124m'\u001b[39m)\n\u001b[0;32m---> 41\u001b[0m \u001b[43mmodel_cfg\u001b[49m\u001b[38;5;241;43m.\u001b[39;49m\u001b[43mscheduler\u001b[49m\u001b[38;5;241m.\u001b[39mtotal_steps \u001b[38;5;241m=\u001b[39m trainer\u001b[38;5;241m.\u001b[39mmax_epochs \u001b[38;5;241m*\u001b[39m \u001b[38;5;28mlen\u001b[39m(datamodule\u001b[38;5;241m.\u001b[39mtrain_dataloader())\n\u001b[1;32m     42\u001b[0m model_cfg\u001b[38;5;241m.\u001b[39mscheduler\u001b[38;5;241m.\u001b[39mmax_lr \u001b[38;5;241m=\u001b[39m lr_found\u001b[38;5;66;03m#lr_finder.suggestion()\u001b[39;00m\n\u001b[1;32m     44\u001b[0m model \u001b[38;5;241m=\u001b[39m instantiate(model_cfg)\n",
      "File \u001b[0;32m~/miniforge3/envs/nimrod/lib/python3.11/site-packages/omegaconf/dictconfig.py:355\u001b[0m, in \u001b[0;36mDictConfig.__getattr__\u001b[0;34m(self, key)\u001b[0m\n\u001b[1;32m    351\u001b[0m     \u001b[38;5;28;01mreturn\u001b[39;00m \u001b[38;5;28mself\u001b[39m\u001b[38;5;241m.\u001b[39m_get_impl(\n\u001b[1;32m    352\u001b[0m         key\u001b[38;5;241m=\u001b[39mkey, default_value\u001b[38;5;241m=\u001b[39m_DEFAULT_MARKER_, validate_key\u001b[38;5;241m=\u001b[39m\u001b[38;5;28;01mFalse\u001b[39;00m\n\u001b[1;32m    353\u001b[0m     )\n\u001b[1;32m    354\u001b[0m \u001b[38;5;28;01mexcept\u001b[39;00m ConfigKeyError \u001b[38;5;28;01mas\u001b[39;00m e:\n\u001b[0;32m--> 355\u001b[0m     \u001b[38;5;28;43mself\u001b[39;49m\u001b[38;5;241;43m.\u001b[39;49m\u001b[43m_format_and_raise\u001b[49m\u001b[43m(\u001b[49m\n\u001b[1;32m    356\u001b[0m \u001b[43m        \u001b[49m\u001b[43mkey\u001b[49m\u001b[38;5;241;43m=\u001b[39;49m\u001b[43mkey\u001b[49m\u001b[43m,\u001b[49m\u001b[43m \u001b[49m\u001b[43mvalue\u001b[49m\u001b[38;5;241;43m=\u001b[39;49m\u001b[38;5;28;43;01mNone\u001b[39;49;00m\u001b[43m,\u001b[49m\u001b[43m \u001b[49m\u001b[43mcause\u001b[49m\u001b[38;5;241;43m=\u001b[39;49m\u001b[43me\u001b[49m\u001b[43m,\u001b[49m\u001b[43m \u001b[49m\u001b[43mtype_override\u001b[49m\u001b[38;5;241;43m=\u001b[39;49m\u001b[43mConfigAttributeError\u001b[49m\n\u001b[1;32m    357\u001b[0m \u001b[43m    \u001b[49m\u001b[43m)\u001b[49m\n\u001b[1;32m    358\u001b[0m \u001b[38;5;28;01mexcept\u001b[39;00m \u001b[38;5;167;01mException\u001b[39;00m \u001b[38;5;28;01mas\u001b[39;00m e:\n\u001b[1;32m    359\u001b[0m     \u001b[38;5;28mself\u001b[39m\u001b[38;5;241m.\u001b[39m_format_and_raise(key\u001b[38;5;241m=\u001b[39mkey, value\u001b[38;5;241m=\u001b[39m\u001b[38;5;28;01mNone\u001b[39;00m, cause\u001b[38;5;241m=\u001b[39me)\n",
      "File \u001b[0;32m~/miniforge3/envs/nimrod/lib/python3.11/site-packages/omegaconf/base.py:231\u001b[0m, in \u001b[0;36mNode._format_and_raise\u001b[0;34m(self, key, value, cause, msg, type_override)\u001b[0m\n\u001b[1;32m    223\u001b[0m \u001b[38;5;28;01mdef\u001b[39;00m \u001b[38;5;21m_format_and_raise\u001b[39m(\n\u001b[1;32m    224\u001b[0m     \u001b[38;5;28mself\u001b[39m,\n\u001b[1;32m    225\u001b[0m     key: Any,\n\u001b[0;32m   (...)\u001b[0m\n\u001b[1;32m    229\u001b[0m     type_override: Any \u001b[38;5;241m=\u001b[39m \u001b[38;5;28;01mNone\u001b[39;00m,\n\u001b[1;32m    230\u001b[0m ) \u001b[38;5;241m-\u001b[39m\u001b[38;5;241m>\u001b[39m \u001b[38;5;28;01mNone\u001b[39;00m:\n\u001b[0;32m--> 231\u001b[0m     \u001b[43mformat_and_raise\u001b[49m\u001b[43m(\u001b[49m\n\u001b[1;32m    232\u001b[0m \u001b[43m        \u001b[49m\u001b[43mnode\u001b[49m\u001b[38;5;241;43m=\u001b[39;49m\u001b[38;5;28;43mself\u001b[39;49m\u001b[43m,\u001b[49m\n\u001b[1;32m    233\u001b[0m \u001b[43m        \u001b[49m\u001b[43mkey\u001b[49m\u001b[38;5;241;43m=\u001b[39;49m\u001b[43mkey\u001b[49m\u001b[43m,\u001b[49m\n\u001b[1;32m    234\u001b[0m \u001b[43m        \u001b[49m\u001b[43mvalue\u001b[49m\u001b[38;5;241;43m=\u001b[39;49m\u001b[43mvalue\u001b[49m\u001b[43m,\u001b[49m\n\u001b[1;32m    235\u001b[0m \u001b[43m        \u001b[49m\u001b[43mmsg\u001b[49m\u001b[38;5;241;43m=\u001b[39;49m\u001b[38;5;28;43mstr\u001b[39;49m\u001b[43m(\u001b[49m\u001b[43mcause\u001b[49m\u001b[43m)\u001b[49m\u001b[43m \u001b[49m\u001b[38;5;28;43;01mif\u001b[39;49;00m\u001b[43m \u001b[49m\u001b[43mmsg\u001b[49m\u001b[43m \u001b[49m\u001b[38;5;129;43;01mis\u001b[39;49;00m\u001b[43m \u001b[49m\u001b[38;5;28;43;01mNone\u001b[39;49;00m\u001b[43m \u001b[49m\u001b[38;5;28;43;01melse\u001b[39;49;00m\u001b[43m \u001b[49m\u001b[43mmsg\u001b[49m\u001b[43m,\u001b[49m\n\u001b[1;32m    236\u001b[0m \u001b[43m        \u001b[49m\u001b[43mcause\u001b[49m\u001b[38;5;241;43m=\u001b[39;49m\u001b[43mcause\u001b[49m\u001b[43m,\u001b[49m\n\u001b[1;32m    237\u001b[0m \u001b[43m        \u001b[49m\u001b[43mtype_override\u001b[49m\u001b[38;5;241;43m=\u001b[39;49m\u001b[43mtype_override\u001b[49m\u001b[43m,\u001b[49m\n\u001b[1;32m    238\u001b[0m \u001b[43m    \u001b[49m\u001b[43m)\u001b[49m\n\u001b[1;32m    239\u001b[0m     \u001b[38;5;28;01massert\u001b[39;00m \u001b[38;5;28;01mFalse\u001b[39;00m\n",
      "File \u001b[0;32m~/miniforge3/envs/nimrod/lib/python3.11/site-packages/omegaconf/_utils.py:899\u001b[0m, in \u001b[0;36mformat_and_raise\u001b[0;34m(node, key, value, msg, cause, type_override)\u001b[0m\n\u001b[1;32m    896\u001b[0m     ex\u001b[38;5;241m.\u001b[39mref_type \u001b[38;5;241m=\u001b[39m ref_type\n\u001b[1;32m    897\u001b[0m     ex\u001b[38;5;241m.\u001b[39mref_type_str \u001b[38;5;241m=\u001b[39m ref_type_str\n\u001b[0;32m--> 899\u001b[0m \u001b[43m_raise\u001b[49m\u001b[43m(\u001b[49m\u001b[43mex\u001b[49m\u001b[43m,\u001b[49m\u001b[43m \u001b[49m\u001b[43mcause\u001b[49m\u001b[43m)\u001b[49m\n",
      "File \u001b[0;32m~/miniforge3/envs/nimrod/lib/python3.11/site-packages/omegaconf/_utils.py:797\u001b[0m, in \u001b[0;36m_raise\u001b[0;34m(ex, cause)\u001b[0m\n\u001b[1;32m    795\u001b[0m \u001b[38;5;28;01melse\u001b[39;00m:\n\u001b[1;32m    796\u001b[0m     ex\u001b[38;5;241m.\u001b[39m__cause__ \u001b[38;5;241m=\u001b[39m \u001b[38;5;28;01mNone\u001b[39;00m\n\u001b[0;32m--> 797\u001b[0m \u001b[38;5;28;01mraise\u001b[39;00m ex\u001b[38;5;241m.\u001b[39mwith_traceback(sys\u001b[38;5;241m.\u001b[39mexc_info()[\u001b[38;5;241m2\u001b[39m])\n",
      "File \u001b[0;32m~/miniforge3/envs/nimrod/lib/python3.11/site-packages/omegaconf/dictconfig.py:351\u001b[0m, in \u001b[0;36mDictConfig.__getattr__\u001b[0;34m(self, key)\u001b[0m\n\u001b[1;32m    348\u001b[0m     \u001b[38;5;28;01mraise\u001b[39;00m \u001b[38;5;167;01mAttributeError\u001b[39;00m()\n\u001b[1;32m    350\u001b[0m \u001b[38;5;28;01mtry\u001b[39;00m:\n\u001b[0;32m--> 351\u001b[0m     \u001b[38;5;28;01mreturn\u001b[39;00m \u001b[38;5;28;43mself\u001b[39;49m\u001b[38;5;241;43m.\u001b[39;49m\u001b[43m_get_impl\u001b[49m\u001b[43m(\u001b[49m\n\u001b[1;32m    352\u001b[0m \u001b[43m        \u001b[49m\u001b[43mkey\u001b[49m\u001b[38;5;241;43m=\u001b[39;49m\u001b[43mkey\u001b[49m\u001b[43m,\u001b[49m\u001b[43m \u001b[49m\u001b[43mdefault_value\u001b[49m\u001b[38;5;241;43m=\u001b[39;49m\u001b[43m_DEFAULT_MARKER_\u001b[49m\u001b[43m,\u001b[49m\u001b[43m \u001b[49m\u001b[43mvalidate_key\u001b[49m\u001b[38;5;241;43m=\u001b[39;49m\u001b[38;5;28;43;01mFalse\u001b[39;49;00m\n\u001b[1;32m    353\u001b[0m \u001b[43m    \u001b[49m\u001b[43m)\u001b[49m\n\u001b[1;32m    354\u001b[0m \u001b[38;5;28;01mexcept\u001b[39;00m ConfigKeyError \u001b[38;5;28;01mas\u001b[39;00m e:\n\u001b[1;32m    355\u001b[0m     \u001b[38;5;28mself\u001b[39m\u001b[38;5;241m.\u001b[39m_format_and_raise(\n\u001b[1;32m    356\u001b[0m         key\u001b[38;5;241m=\u001b[39mkey, value\u001b[38;5;241m=\u001b[39m\u001b[38;5;28;01mNone\u001b[39;00m, cause\u001b[38;5;241m=\u001b[39me, type_override\u001b[38;5;241m=\u001b[39mConfigAttributeError\n\u001b[1;32m    357\u001b[0m     )\n",
      "File \u001b[0;32m~/miniforge3/envs/nimrod/lib/python3.11/site-packages/omegaconf/dictconfig.py:442\u001b[0m, in \u001b[0;36mDictConfig._get_impl\u001b[0;34m(self, key, default_value, validate_key)\u001b[0m\n\u001b[1;32m    438\u001b[0m \u001b[38;5;28;01mdef\u001b[39;00m \u001b[38;5;21m_get_impl\u001b[39m(\n\u001b[1;32m    439\u001b[0m     \u001b[38;5;28mself\u001b[39m, key: DictKeyType, default_value: Any, validate_key: \u001b[38;5;28mbool\u001b[39m \u001b[38;5;241m=\u001b[39m \u001b[38;5;28;01mTrue\u001b[39;00m\n\u001b[1;32m    440\u001b[0m ) \u001b[38;5;241m-\u001b[39m\u001b[38;5;241m>\u001b[39m Any:\n\u001b[1;32m    441\u001b[0m     \u001b[38;5;28;01mtry\u001b[39;00m:\n\u001b[0;32m--> 442\u001b[0m         node \u001b[38;5;241m=\u001b[39m \u001b[38;5;28;43mself\u001b[39;49m\u001b[38;5;241;43m.\u001b[39;49m\u001b[43m_get_child\u001b[49m\u001b[43m(\u001b[49m\n\u001b[1;32m    443\u001b[0m \u001b[43m            \u001b[49m\u001b[43mkey\u001b[49m\u001b[38;5;241;43m=\u001b[39;49m\u001b[43mkey\u001b[49m\u001b[43m,\u001b[49m\u001b[43m \u001b[49m\u001b[43mthrow_on_missing_key\u001b[49m\u001b[38;5;241;43m=\u001b[39;49m\u001b[38;5;28;43;01mTrue\u001b[39;49;00m\u001b[43m,\u001b[49m\u001b[43m \u001b[49m\u001b[43mvalidate_key\u001b[49m\u001b[38;5;241;43m=\u001b[39;49m\u001b[43mvalidate_key\u001b[49m\n\u001b[1;32m    444\u001b[0m \u001b[43m        \u001b[49m\u001b[43m)\u001b[49m\n\u001b[1;32m    445\u001b[0m     \u001b[38;5;28;01mexcept\u001b[39;00m (ConfigAttributeError, ConfigKeyError):\n\u001b[1;32m    446\u001b[0m         \u001b[38;5;28;01mif\u001b[39;00m default_value \u001b[38;5;129;01mis\u001b[39;00m \u001b[38;5;129;01mnot\u001b[39;00m _DEFAULT_MARKER_:\n",
      "File \u001b[0;32m~/miniforge3/envs/nimrod/lib/python3.11/site-packages/omegaconf/basecontainer.py:73\u001b[0m, in \u001b[0;36mBaseContainer._get_child\u001b[0;34m(self, key, validate_access, validate_key, throw_on_missing_value, throw_on_missing_key)\u001b[0m\n\u001b[1;32m     64\u001b[0m \u001b[38;5;28;01mdef\u001b[39;00m \u001b[38;5;21m_get_child\u001b[39m(\n\u001b[1;32m     65\u001b[0m     \u001b[38;5;28mself\u001b[39m,\n\u001b[1;32m     66\u001b[0m     key: Any,\n\u001b[0;32m   (...)\u001b[0m\n\u001b[1;32m     70\u001b[0m     throw_on_missing_key: \u001b[38;5;28mbool\u001b[39m \u001b[38;5;241m=\u001b[39m \u001b[38;5;28;01mFalse\u001b[39;00m,\n\u001b[1;32m     71\u001b[0m ) \u001b[38;5;241m-\u001b[39m\u001b[38;5;241m>\u001b[39m Union[Optional[Node], List[Optional[Node]]]:\n\u001b[1;32m     72\u001b[0m \u001b[38;5;250m    \u001b[39m\u001b[38;5;124;03m\"\"\"Like _get_node, passing through to the nearest concrete Node.\"\"\"\u001b[39;00m\n\u001b[0;32m---> 73\u001b[0m     child \u001b[38;5;241m=\u001b[39m \u001b[38;5;28;43mself\u001b[39;49m\u001b[38;5;241;43m.\u001b[39;49m\u001b[43m_get_node\u001b[49m\u001b[43m(\u001b[49m\n\u001b[1;32m     74\u001b[0m \u001b[43m        \u001b[49m\u001b[43mkey\u001b[49m\u001b[38;5;241;43m=\u001b[39;49m\u001b[43mkey\u001b[49m\u001b[43m,\u001b[49m\n\u001b[1;32m     75\u001b[0m \u001b[43m        \u001b[49m\u001b[43mvalidate_access\u001b[49m\u001b[38;5;241;43m=\u001b[39;49m\u001b[43mvalidate_access\u001b[49m\u001b[43m,\u001b[49m\n\u001b[1;32m     76\u001b[0m \u001b[43m        \u001b[49m\u001b[43mvalidate_key\u001b[49m\u001b[38;5;241;43m=\u001b[39;49m\u001b[43mvalidate_key\u001b[49m\u001b[43m,\u001b[49m\n\u001b[1;32m     77\u001b[0m \u001b[43m        \u001b[49m\u001b[43mthrow_on_missing_value\u001b[49m\u001b[38;5;241;43m=\u001b[39;49m\u001b[43mthrow_on_missing_value\u001b[49m\u001b[43m,\u001b[49m\n\u001b[1;32m     78\u001b[0m \u001b[43m        \u001b[49m\u001b[43mthrow_on_missing_key\u001b[49m\u001b[38;5;241;43m=\u001b[39;49m\u001b[43mthrow_on_missing_key\u001b[49m\u001b[43m,\u001b[49m\n\u001b[1;32m     79\u001b[0m \u001b[43m    \u001b[49m\u001b[43m)\u001b[49m\n\u001b[1;32m     80\u001b[0m     \u001b[38;5;28;01mif\u001b[39;00m \u001b[38;5;28misinstance\u001b[39m(child, UnionNode) \u001b[38;5;129;01mand\u001b[39;00m \u001b[38;5;129;01mnot\u001b[39;00m _is_special(child):\n\u001b[1;32m     81\u001b[0m         value \u001b[38;5;241m=\u001b[39m child\u001b[38;5;241m.\u001b[39m_value()\n",
      "File \u001b[0;32m~/miniforge3/envs/nimrod/lib/python3.11/site-packages/omegaconf/dictconfig.py:480\u001b[0m, in \u001b[0;36mDictConfig._get_node\u001b[0;34m(self, key, validate_access, validate_key, throw_on_missing_value, throw_on_missing_key)\u001b[0m\n\u001b[1;32m    478\u001b[0m \u001b[38;5;28;01mif\u001b[39;00m value \u001b[38;5;129;01mis\u001b[39;00m \u001b[38;5;28;01mNone\u001b[39;00m:\n\u001b[1;32m    479\u001b[0m     \u001b[38;5;28;01mif\u001b[39;00m throw_on_missing_key:\n\u001b[0;32m--> 480\u001b[0m         \u001b[38;5;28;01mraise\u001b[39;00m ConfigKeyError(\u001b[38;5;124mf\u001b[39m\u001b[38;5;124m\"\u001b[39m\u001b[38;5;124mMissing key \u001b[39m\u001b[38;5;132;01m{\u001b[39;00mkey\u001b[38;5;132;01m!s}\u001b[39;00m\u001b[38;5;124m\"\u001b[39m)\n\u001b[1;32m    481\u001b[0m \u001b[38;5;28;01melif\u001b[39;00m throw_on_missing_value \u001b[38;5;129;01mand\u001b[39;00m value\u001b[38;5;241m.\u001b[39m_is_missing():\n\u001b[1;32m    482\u001b[0m     \u001b[38;5;28;01mraise\u001b[39;00m MissingMandatoryValue(\u001b[38;5;124m\"\u001b[39m\u001b[38;5;124mMissing mandatory value: $KEY\u001b[39m\u001b[38;5;124m\"\u001b[39m)\n",
      "\u001b[0;31mConfigAttributeError\u001b[0m: Missing key scheduler\n    full_key: scheduler\n    object_type=dict"
     ]
    }
   ],
   "source": [
    "#| notest\n",
    "\n",
    "N_EPOCHS = 1\n",
    "# lr_found = lr_finder.suggestion()\n",
    "lr_found = 3e-4\n",
    "\n",
    "# DATA\n",
    "cfg = OmegaConf.load('../config/data/image/mnist.yaml')\n",
    "cfg.batch_size = 512\n",
    "cfg.num_workers = 0\n",
    "datamodule = instantiate(cfg)\n",
    "datamodule.prepare_data()\n",
    "datamodule.setup()\n",
    "\n",
    "checkpoint_callback = ModelCheckpoint(\n",
    "    monitor='val/loss',  # Metric to monitor\n",
    "    dirpath='checkpoints/',  # Directory to save checkpoints\n",
    "    filename='epoch{epoch:02d}-val_loss{val/loss:.2f}',\n",
    "    auto_insert_metric_name=False,\n",
    "    save_top_k=1,  # Save only the best checkpoint\n",
    "    mode='min'  # Mode can be 'min' or 'max' depending on the metric\n",
    ")\n",
    "\n",
    "lr_monitor = LearningRateMonitor(logging_interval=\"step\")\n",
    "\n",
    "# TRAINER \n",
    "trainer = Trainer(\n",
    "    accelerator=\"auto\",\n",
    "    max_epochs=N_EPOCHS,\n",
    "    # logger=TensorBoardLogger(\"tb_logs\", name=\"mnist_convnet\", default_hp_metric=True),\n",
    "    logger=CSVLogger(\"logs\", name=\"fashion_mnist_convnet\"),\n",
    "    callbacks = [lr_monitor, checkpoint_callback],\n",
    "    check_val_every_n_epoch=1,\n",
    "    log_every_n_steps=1\n",
    "    )\n",
    "\n",
    "print(\"estimated steps: \", trainer.estimated_stepping_batches, \"accumulate_grad_batches: \", trainer.accumulate_grad_batches)\n",
    "\n",
    "# MODEL\n",
    "model_cfg = OmegaConf.load('../config/model/image/convnetx.yaml')\n",
    "model_cfg.scheduler.total_steps = trainer.max_epochs * len(datamodule.train_dataloader())\n",
    "model_cfg.scheduler.max_lr = lr_found#lr_finder.suggestion()\n",
    "\n",
    "model = instantiate(model_cfg)\n",
    "\n",
    "print(\"LR: \",model.lr)\n",
    "trainer.fit(model, datamodule.train_dataloader(), datamodule.val_dataloader())\n",
    "\n",
    "########################\n",
    "csv_path = f\"{trainer.logger.log_dir}/metrics.csv\"\n",
    "metrics = pd.read_csv(csv_path)\n",
    "metrics.head()\n",
    "\n",
    "##########################\n",
    "plt.figure()\n",
    "plt.plot(metrics['step'], metrics['train/loss_step'], 'b.-')\n",
    "plt.plot(metrics['step'], metrics['val/loss'],'r.-')\n",
    "plt.figure()\n",
    "plt.plot(metrics['step'], metrics['lr-AdamW'], 'g.-')\n",
    "plt.show()"
   ]
  },
  {
   "cell_type": "code",
   "execution_count": null,
   "metadata": {},
   "outputs": [
    {
     "name": "stderr",
     "output_type": "stream",
     "text": [
      "Restoring states from the checkpoint path at /Users/slegroux/Projects/nimrod/nbs/checkpoints/epoch00-val_loss0.13.ckpt\n",
      "Loaded model weights from the checkpoint at /Users/slegroux/Projects/nimrod/nbs/checkpoints/epoch00-val_loss0.13.ckpt\n",
      "/Users/slegroux/miniforge3/envs/nimrod/lib/python3.11/site-packages/lightning/pytorch/trainer/connectors/data_connector.py:424: The 'test_dataloader' does not have many workers which may be a bottleneck. Consider increasing the value of the `num_workers` argument` to `num_workers=11` in the `DataLoader` to improve performance.\n"
     ]
    },
    {
     "data": {
      "application/vnd.jupyter.widget-view+json": {
       "model_id": "b0f99754f03a4a02852ee7f99715e672",
       "version_major": 2,
       "version_minor": 0
      },
      "text/plain": [
       "Testing: |          | 0/? [00:00<?, ?it/s]"
      ]
     },
     "metadata": {},
     "output_type": "display_data"
    },
    {
     "data": {
      "text/html": [
       "<pre style=\"white-space:pre;overflow-x:auto;line-height:normal;font-family:Menlo,'DejaVu Sans Mono',consolas,'Courier New',monospace\">┏━━━━━━━━━━━━━━━━━━━━━━━━━━━┳━━━━━━━━━━━━━━━━━━━━━━━━━━━┓\n",
       "┃<span style=\"font-weight: bold\">        Test metric        </span>┃<span style=\"font-weight: bold\">       DataLoader 0        </span>┃\n",
       "┡━━━━━━━━━━━━━━━━━━━━━━━━━━━╇━━━━━━━━━━━━━━━━━━━━━━━━━━━┩\n",
       "│<span style=\"color: #008080; text-decoration-color: #008080\">         test/acc          </span>│<span style=\"color: #800080; text-decoration-color: #800080\">    0.9707000255584717     </span>│\n",
       "│<span style=\"color: #008080; text-decoration-color: #008080\">         test/loss         </span>│<span style=\"color: #800080; text-decoration-color: #800080\">    0.11260439455509186    </span>│\n",
       "└───────────────────────────┴───────────────────────────┘\n",
       "</pre>\n"
      ],
      "text/plain": [
       "┏━━━━━━━━━━━━━━━━━━━━━━━━━━━┳━━━━━━━━━━━━━━━━━━━━━━━━━━━┓\n",
       "┃\u001b[1m \u001b[0m\u001b[1m       Test metric       \u001b[0m\u001b[1m \u001b[0m┃\u001b[1m \u001b[0m\u001b[1m      DataLoader 0       \u001b[0m\u001b[1m \u001b[0m┃\n",
       "┡━━━━━━━━━━━━━━━━━━━━━━━━━━━╇━━━━━━━━━━━━━━━━━━━━━━━━━━━┩\n",
       "│\u001b[36m \u001b[0m\u001b[36m        test/acc         \u001b[0m\u001b[36m \u001b[0m│\u001b[35m \u001b[0m\u001b[35m   0.9707000255584717    \u001b[0m\u001b[35m \u001b[0m│\n",
       "│\u001b[36m \u001b[0m\u001b[36m        test/loss        \u001b[0m\u001b[36m \u001b[0m│\u001b[35m \u001b[0m\u001b[35m   0.11260439455509186   \u001b[0m\u001b[35m \u001b[0m│\n",
       "└───────────────────────────┴───────────────────────────┘\n"
      ]
     },
     "metadata": {},
     "output_type": "display_data"
    },
    {
     "data": {
      "text/plain": [
       "[{'test/loss': 0.11260439455509186, 'test/acc': 0.9707000255584717}]"
      ]
     },
     "execution_count": null,
     "metadata": {},
     "output_type": "execute_result"
    }
   ],
   "source": [
    "#| notest\n",
    "trainer.test(model, datamodule.test_dataloader(), ckpt_path=\"best\")"
   ]
  },
  {
   "cell_type": "code",
   "execution_count": null,
   "metadata": {},
   "outputs": [
    {
     "name": "stdout",
     "output_type": "stream",
     "text": [
      "Best checkpoint path: /Users/slegroux/Projects/nimrod/nbs/checkpoints/epoch00-val_loss0.13.ckpt\n"
     ]
    }
   ],
   "source": [
    "#| notest\n",
    "best_checkpoint_path = checkpoint_callback.best_model_path\n",
    "print(f\"Best checkpoint path: {best_checkpoint_path}\")"
   ]
  },
  {
   "cell_type": "markdown",
   "metadata": {},
   "source": [
    "#### Resume training"
   ]
  },
  {
   "cell_type": "code",
   "execution_count": null,
   "metadata": {},
   "outputs": [
    {
     "name": "stderr",
     "output_type": "stream",
     "text": [
      "[20:56:41] INFO - ConvNetX: init\n",
      "[20:56:41] INFO - Classifier: init\n"
     ]
    },
    {
     "name": "stdout",
     "output_type": "stream",
     "text": [
      "LR: 7.642883799445691e-07\n",
      "\"nnet\":        ConvNet(\n",
      "  (net): Sequential(\n",
      "    (0): ConvLayer(\n",
      "      (net): Sequential(\n",
      "        (0): Conv2d(1, 8, kernel_size=(3, 3), stride=(1, 1), padding=(1, 1), bias=False)\n",
      "        (1): BatchNorm2d(8, eps=1e-05, momentum=0.1, affine=True, track_running_stats=True)\n",
      "        (2): ReLU()\n",
      "      )\n",
      "    )\n",
      "    (1): ConvLayer(\n",
      "      (net): Sequential(\n",
      "        (0): Conv2d(8, 16, kernel_size=(3, 3), stride=(2, 2), padding=(1, 1), bias=False)\n",
      "        (1): BatchNorm2d(16, eps=1e-05, momentum=0.1, affine=True, track_running_stats=True)\n",
      "        (2): ReLU()\n",
      "      )\n",
      "    )\n",
      "    (2): ConvLayer(\n",
      "      (net): Sequential(\n",
      "        (0): Conv2d(16, 32, kernel_size=(3, 3), stride=(2, 2), padding=(1, 1), bias=False)\n",
      "        (1): BatchNorm2d(32, eps=1e-05, momentum=0.1, affine=True, track_running_stats=True)\n",
      "        (2): ReLU()\n",
      "      )\n",
      "    )\n",
      "    (3): ConvLayer(\n",
      "      (net): Sequential(\n",
      "        (0): Conv2d(32, 64, kernel_size=(3, 3), stride=(2, 2), padding=(1, 1), bias=False)\n",
      "        (1): BatchNorm2d(64, eps=1e-05, momentum=0.1, affine=True, track_running_stats=True)\n",
      "        (2): ReLU()\n",
      "      )\n",
      "    )\n",
      "    (4): ConvLayer(\n",
      "      (net): Sequential(\n",
      "        (0): Conv2d(64, 128, kernel_size=(3, 3), stride=(2, 2), padding=(1, 1), bias=False)\n",
      "        (1): BatchNorm2d(128, eps=1e-05, momentum=0.1, affine=True, track_running_stats=True)\n",
      "        (2): ReLU()\n",
      "      )\n",
      "    )\n",
      "    (5): ConvLayer(\n",
      "      (net): Sequential(\n",
      "        (0): Conv2d(128, 10, kernel_size=(3, 3), stride=(2, 2), padding=(1, 1))\n",
      "      )\n",
      "    )\n",
      "    (6): Flatten(start_dim=1, end_dim=-1)\n",
      "  )\n",
      ")\n",
      "\"num_classes\": 10\n",
      "\"optimizer\":   functools.partial(<class 'torch.optim.adamw.AdamW'>, lr=0.0001, weight_decay=1e-05)\n",
      "\"scheduler\":   functools.partial(<class 'torch.optim.lr_scheduler.ReduceLROnPlateau'>, mode='min', factor=0.1, patience=10)\n"
     ]
    },
    {
     "name": "stderr",
     "output_type": "stream",
     "text": [
      "/Users/slegroux/miniforge3/envs/nimrod/lib/python3.11/site-packages/lightning/pytorch/utilities/parsing.py:208: Attribute 'nnet' is an instance of `nn.Module` and is already saved during checkpointing. It is recommended to ignore them using `self.save_hyperparameters(ignore=['nnet'])`.\n"
     ]
    }
   ],
   "source": [
    "#| notest\n",
    "\n",
    "cfg = OmegaConf.load('../config/scheduler/reduce_lr_on_plateau.yaml')\n",
    "sched = instantiate(cfg)\n",
    "# sched.total_steps = len(datamodule.train_ds) * N_EPOCHS\n",
    "lr = trainer.optimizers[0].param_groups[0]['lr']\n",
    "print(f\"LR: {lr}\")\n",
    "model = ConvNetX.load_from_checkpoint(best_checkpoint_path,scheduler=sched, lr=lr)\n",
    "\n",
    "pprint(model.hparams)"
   ]
  },
  {
   "cell_type": "code",
   "execution_count": null,
   "metadata": {},
   "outputs": [
    {
     "name": "stderr",
     "output_type": "stream",
     "text": [
      "GPU available: True (mps), used: True\n",
      "TPU available: False, using: 0 TPU cores\n",
      "HPU available: False, using: 0 HPUs\n",
      "Restoring states from the checkpoint path at /Users/slegroux/Projects/nimrod/nbs/checkpoints/epoch00-val_loss0.13.ckpt\n",
      "/Users/slegroux/miniforge3/envs/nimrod/lib/python3.11/site-packages/lightning/pytorch/trainer/call.py:273: Be aware that when using `ckpt_path`, callbacks used to create the checkpoint need to be provided during `Trainer` instantiation. Please add the following callbacks: [\"ModelCheckpoint{'monitor': 'val/loss', 'mode': 'min', 'every_n_train_steps': 0, 'every_n_epochs': 1, 'train_time_interval': None}\"].\n",
      "[20:56:49] INFO - Optimizer: AdamW (\n",
      "Parameter Group 0\n",
      "    amsgrad: False\n",
      "    betas: (0.9, 0.999)\n",
      "    capturable: False\n",
      "    differentiable: False\n",
      "    eps: 1e-08\n",
      "    foreach: None\n",
      "    fused: None\n",
      "    lr: 0.0001\n",
      "    maximize: False\n",
      "    weight_decay: 1e-05\n",
      ")\n",
      "[20:56:49] INFO - Scheduler: <torch.optim.lr_scheduler.ReduceLROnPlateau object>\n",
      "/Users/slegroux/miniforge3/envs/nimrod/lib/python3.11/site-packages/lightning/pytorch/core/optimizer.py:316: The lr scheduler dict contains the key(s) ['monitor'], but the keys will be ignored. You need to call `lr_scheduler.step()` manually in manual optimization.\n",
      "\n",
      "  | Name         | Type               | Params | Mode \n",
      "------------------------------------------------------------\n",
      "0 | loss         | CrossEntropyLoss   | 0      | train\n",
      "1 | train_acc    | MulticlassAccuracy | 0      | train\n",
      "2 | val_acc      | MulticlassAccuracy | 0      | train\n",
      "3 | test_acc     | MulticlassAccuracy | 0      | train\n",
      "4 | train_loss   | MeanMetric         | 0      | train\n",
      "5 | val_loss     | MeanMetric         | 0      | train\n",
      "6 | test_loss    | MeanMetric         | 0      | train\n",
      "7 | val_acc_best | MaxMetric          | 0      | train\n",
      "8 | nnet         | ConvNet            | 110 K  | train\n",
      "------------------------------------------------------------\n",
      "110 K     Trainable params\n",
      "0         Non-trainable params\n",
      "110 K     Total params\n",
      "0.440     Total estimated model params size (MB)\n",
      "39        Modules in train mode\n",
      "0         Modules in eval mode\n",
      "Restored all states from the checkpoint at /Users/slegroux/Projects/nimrod/nbs/checkpoints/epoch00-val_loss0.13.ckpt\n"
     ]
    },
    {
     "data": {
      "application/vnd.jupyter.widget-view+json": {
       "model_id": "1783fd48263345eda3ab4aecfe1f9768",
       "version_major": 2,
       "version_minor": 0
      },
      "text/plain": [
       "Sanity Checking: |          | 0/? [00:00<?, ?it/s]"
      ]
     },
     "metadata": {},
     "output_type": "display_data"
    },
    {
     "name": "stderr",
     "output_type": "stream",
     "text": [
      "/Users/slegroux/miniforge3/envs/nimrod/lib/python3.11/site-packages/lightning/pytorch/trainer/connectors/data_connector.py:424: The 'val_dataloader' does not have many workers which may be a bottleneck. Consider increasing the value of the `num_workers` argument` to `num_workers=11` in the `DataLoader` to improve performance.\n",
      "/Users/slegroux/miniforge3/envs/nimrod/lib/python3.11/site-packages/lightning/pytorch/trainer/connectors/data_connector.py:424: The 'train_dataloader' does not have many workers which may be a bottleneck. Consider increasing the value of the `num_workers` argument` to `num_workers=11` in the `DataLoader` to improve performance.\n"
     ]
    },
    {
     "data": {
      "application/vnd.jupyter.widget-view+json": {
       "model_id": "c7ab34b3f4d541308d80adbcac69cade",
       "version_major": 2,
       "version_minor": 0
      },
      "text/plain": [
       "Training: |          | 0/? [00:00<?, ?it/s]"
      ]
     },
     "metadata": {},
     "output_type": "display_data"
    },
    {
     "data": {
      "application/vnd.jupyter.widget-view+json": {
       "model_id": "0a74162c9ee94c11a5ca89f0debffcc7",
       "version_major": 2,
       "version_minor": 0
      },
      "text/plain": [
       "Validation: |          | 0/? [00:00<?, ?it/s]"
      ]
     },
     "metadata": {},
     "output_type": "display_data"
    },
    {
     "name": "stderr",
     "output_type": "stream",
     "text": [
      "[20:57:08] INFO - scheduler is an instance of Reduce plateau\n"
     ]
    },
    {
     "data": {
      "application/vnd.jupyter.widget-view+json": {
       "model_id": "e0ee094894bb451d9c937bba289c1333",
       "version_major": 2,
       "version_minor": 0
      },
      "text/plain": [
       "Validation: |          | 0/? [00:00<?, ?it/s]"
      ]
     },
     "metadata": {},
     "output_type": "display_data"
    },
    {
     "name": "stderr",
     "output_type": "stream",
     "text": [
      "[20:57:26] INFO - scheduler is an instance of Reduce plateau\n",
      "`Trainer.fit` stopped: `max_epochs=3` reached.\n"
     ]
    }
   ],
   "source": [
    "#| notest\n",
    "# batchnorm should allow us to try higher LR\n",
    "# model_cfg = OmegaConf.load('../config/model/image/convnetx_adam.yaml')\n",
    "# model_cfg.optimizer.lr = 0.1\n",
    "\n",
    "# model = instantiate(model_cfg)\n",
    "# opt = instantiate(model_cfg.optimizer)\n",
    "# print(opt)\n",
    "# sched = instantiate(model_cfg.scheduler)\n",
    "# print(sched)\n",
    "\n",
    "\n",
    "N_EPOCHS = 3\n",
    "\n",
    "trainer = Trainer(\n",
    "    accelerator=\"auto\",\n",
    "    max_epochs=N_EPOCHS,\n",
    "    # logger=TensorBoardLogger(\"tb_logs\", name=\"mnist_convnet\", default_hp_metric=True),\n",
    "    logger=CSVLogger(\"logs\", name=\"fashion_mnist_convnet\"),\n",
    "    callbacks = [LearningRateMonitor(logging_interval=\"step\")],\n",
    "    check_val_every_n_epoch=1,\n",
    "    log_every_n_steps=1\n",
    "    )\n",
    "\n",
    "# use standar adam scheduler\n",
    "\n",
    "# retrieve last ckpt\n",
    "trainer.fit(model, datamodule.train_dataloader(), datamodule.val_dataloader(), ckpt_path=best_checkpoint_path)\n",
    "\n",
    "\n"
   ]
  },
  {
   "cell_type": "code",
   "execution_count": null,
   "metadata": {},
   "outputs": [
    {
     "data": {
      "image/png": "[encoded data removed]",
      "text/plain": [
       "<Figure size 640x480 with 1 Axes>"
      ]
     },
     "metadata": {},
     "output_type": "display_data"
    },
    {
     "data": {
      "image/png": "[encoded data removed]",
      "text/plain": [
       "<Figure size 640x480 with 1 Axes>"
      ]
     },
     "metadata": {},
     "output_type": "display_data"
    },
    {
     "name": "stderr",
     "output_type": "stream",
     "text": [
      "Restoring states from the checkpoint path at logs/fashion_mnist_convnet/version_14/checkpoints/epoch=2-step=282.ckpt\n",
      "Loaded model weights from the checkpoint at logs/fashion_mnist_convnet/version_14/checkpoints/epoch=2-step=282.ckpt\n",
      "/Users/slegroux/miniforge3/envs/nimrod/lib/python3.11/site-packages/lightning/pytorch/trainer/connectors/data_connector.py:424: The 'test_dataloader' does not have many workers which may be a bottleneck. Consider increasing the value of the `num_workers` argument` to `num_workers=11` in the `DataLoader` to improve performance.\n"
     ]
    },
    {
     "data": {
      "application/vnd.jupyter.widget-view+json": {
       "model_id": "991eeaea9e0847349d87acaa129421e5",
       "version_major": 2,
       "version_minor": 0
      },
      "text/plain": [
       "Testing: |          | 0/? [00:00<?, ?it/s]"
      ]
     },
     "metadata": {},
     "output_type": "display_data"
    },
    {
     "data": {
      "text/html": [
       "<pre style=\"white-space:pre;overflow-x:auto;line-height:normal;font-family:Menlo,'DejaVu Sans Mono',consolas,'Courier New',monospace\">┏━━━━━━━━━━━━━━━━━━━━━━━━━━━┳━━━━━━━━━━━━━━━━━━━━━━━━━━━┓\n",
       "┃<span style=\"font-weight: bold\">        Test metric        </span>┃<span style=\"font-weight: bold\">       DataLoader 0        </span>┃\n",
       "┡━━━━━━━━━━━━━━━━━━━━━━━━━━━╇━━━━━━━━━━━━━━━━━━━━━━━━━━━┩\n",
       "│<span style=\"color: #008080; text-decoration-color: #008080\">         test/acc          </span>│<span style=\"color: #800080; text-decoration-color: #800080\">    0.9711999893188477     </span>│\n",
       "│<span style=\"color: #008080; text-decoration-color: #008080\">         test/loss         </span>│<span style=\"color: #800080; text-decoration-color: #800080\">    0.11154787242412567    </span>│\n",
       "└───────────────────────────┴───────────────────────────┘\n",
       "</pre>\n"
      ],
      "text/plain": [
       "┏━━━━━━━━━━━━━━━━━━━━━━━━━━━┳━━━━━━━━━━━━━━━━━━━━━━━━━━━┓\n",
       "┃\u001b[1m \u001b[0m\u001b[1m       Test metric       \u001b[0m\u001b[1m \u001b[0m┃\u001b[1m \u001b[0m\u001b[1m      DataLoader 0       \u001b[0m\u001b[1m \u001b[0m┃\n",
       "┡━━━━━━━━━━━━━━━━━━━━━━━━━━━╇━━━━━━━━━━━━━━━━━━━━━━━━━━━┩\n",
       "│\u001b[36m \u001b[0m\u001b[36m        test/acc         \u001b[0m\u001b[36m \u001b[0m│\u001b[35m \u001b[0m\u001b[35m   0.9711999893188477    \u001b[0m\u001b[35m \u001b[0m│\n",
       "│\u001b[36m \u001b[0m\u001b[36m        test/loss        \u001b[0m\u001b[36m \u001b[0m│\u001b[35m \u001b[0m\u001b[35m   0.11154787242412567   \u001b[0m\u001b[35m \u001b[0m│\n",
       "└───────────────────────────┴───────────────────────────┘\n"
      ]
     },
     "metadata": {},
     "output_type": "display_data"
    },
    {
     "data": {
      "text/plain": [
       "[{'test/loss': 0.11154787242412567, 'test/acc': 0.9711999893188477}]"
      ]
     },
     "execution_count": null,
     "metadata": {},
     "output_type": "execute_result"
    }
   ],
   "source": [
    "#| notest\n",
    "csv_path = f\"{trainer.logger.log_dir}/metrics.csv\"\n",
    "metrics = pd.read_csv(csv_path)\n",
    "metrics.head()\n",
    "plt.figure()\n",
    "plt.plot(metrics['step'], metrics['train/loss_step'], 'b.-')\n",
    "plt.plot(metrics['step'], metrics['val/loss'],'r.-')\n",
    "plt.figure()\n",
    "plt.plot(metrics['step'], metrics['lr-AdamW'], 'g.-')\n",
    "plt.show()\n",
    "trainer.test(model, datamodule.test_dataloader(), ckpt_path=\"best\")"
   ]
  },
  {
   "cell_type": "code",
   "execution_count": null,
   "metadata": {},
   "outputs": [],
   "source": [
    "#| hide\n",
    "import nbdev; nbdev.nbdev_export()"
   ]
  }
 ],
 "metadata": {
  "kernelspec": {
   "display_name": "python3",
   "language": "python",
   "name": "python3"
  }
 },
 "nbformat": 4,
 "nbformat_minor": 2
}
