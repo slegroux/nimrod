{
 "cells": [
  {
   "cell_type": "markdown",
   "metadata": {},
   "source": [
    "# Convolution Neural Networks"
   ]
  },
  {
   "cell_type": "code",
   "execution_count": null,
   "metadata": {},
   "outputs": [],
   "source": [
    "#| default_exp models.conv"
   ]
  },
  {
   "cell_type": "code",
   "execution_count": null,
   "metadata": {},
   "outputs": [],
   "source": [
    "#| hide\n",
    "%load_ext autoreload\n",
    "%autoreload 2\n",
    "from nbdev.showdoc import *"
   ]
  },
  {
   "cell_type": "code",
   "execution_count": null,
   "metadata": {},
   "outputs": [],
   "source": [
    "#| export\n",
    "import torch.nn as nn\n",
    "import torch\n",
    "\n",
    "from lightning import LightningModule, Trainer\n",
    "from lightning.pytorch.loggers import CSVLogger, TensorBoardLogger\n",
    "from lightning.pytorch.tuner.tuning import Tuner\n",
    "from lightning.pytorch.callbacks import LearningRateMonitor, ModelCheckpoint\n",
    "\n",
    "from torch_lr_finder import LRFinder\n",
    "from torchinfo import summary\n",
    "\n",
    "from hydra.utils import instantiate\n",
    "from omegaconf import OmegaConf\n",
    "\n",
    "from matplotlib import pyplot as plt\n",
    "import pandas as pd\n",
    "from typing import List, Optional, Type\n",
    "\n",
    "from nimrod.utils import get_device, set_seed\n",
    "from nimrod.models.core import Classifier\n",
    "\n",
    "from pprint import pprint\n",
    "import logging\n"
   ]
  },
  {
   "cell_type": "code",
   "execution_count": null,
   "metadata": {},
   "outputs": [
    {
     "name": "stderr",
     "output_type": "stream",
     "text": [
      "Seed set to 42\n"
     ]
    }
   ],
   "source": [
    "#| export\n",
    "logger = logging.getLogger(__name__)\n",
    "set_seed()"
   ]
  },
  {
   "cell_type": "markdown",
   "metadata": {},
   "source": [
    "## Conv filters"
   ]
  },
  {
   "cell_type": "code",
   "execution_count": null,
   "metadata": {},
   "outputs": [
    {
     "name": "stderr",
     "output_type": "stream",
     "text": [
      "[16:27:53] INFO - Init ImageDataModule for mnist\n",
      "[16:28:09] INFO - split train into train/val [0.8, 0.2]\n",
      "[16:28:09] INFO - train: 48000 val: 12000, test: 10000\n"
     ]
    }
   ],
   "source": [
    "#| notest\n",
    "cfg = OmegaConf.load('../config/data/image/mnist.yaml')\n",
    "dm = instantiate(cfg)\n",
    "dm.prepare_data()\n",
    "dm.setup()"
   ]
  },
  {
   "cell_type": "code",
   "execution_count": null,
   "metadata": {},
   "outputs": [
    {
     "name": "stdout",
     "output_type": "stream",
     "text": [
      "torch.Size([1, 28, 28])\n"
     ]
    },
    {
     "data": {
      "text/plain": [
       "<matplotlib.image.AxesImage>"
      ]
     },
     "execution_count": null,
     "metadata": {},
     "output_type": "execute_result"
    },
    {
     "data": {
      "image/png": "[encoded data removed]",
      "text/plain": [
       "<Figure size 300x300 with 1 Axes>"
      ]
     },
     "metadata": {},
     "output_type": "display_data"
    }
   ],
   "source": [
    "#| notest\n",
    "x, y = dm.train_ds[0]\n",
    "print(x.shape)\n",
    "plt.figure(figsize=(3,3))\n",
    "plt.imshow(x.squeeze(), cmap='gray')"
   ]
  },
  {
   "cell_type": "code",
   "execution_count": null,
   "metadata": {},
   "outputs": [],
   "source": [
    "top_kernel = torch.tensor( # torch.tensor infers datatype vs. torch.Tensor\n",
    "    [[-1., -1., -1.],\n",
    "     [0., 0., 0.],\n",
    "     [1., 1., 1.]]\n",
    ")\n",
    "\n",
    "bottom_kernel = torch.tensor( # torch.tensor infers datatype vs. torch.Tensor\n",
    "    [[1., 1., 1.],\n",
    "     [0., 0., 0.],\n",
    "     [-1., -1., -1.]]\n",
    ")\n",
    "\n",
    "left_kernel = torch.tensor( # torch.tensor infers datatype vs. torch.Tensor\n",
    "    [[-1., 0., 1.],\n",
    "     [-1., 0., 1.],\n",
    "     [-1., 0., 1.]]\n",
    ")"
   ]
  },
  {
   "cell_type": "code",
   "execution_count": null,
   "metadata": {},
   "outputs": [
    {
     "name": "stdout",
     "output_type": "stream",
     "text": [
      "torch.Size([1, 28, 28])\n",
      "torch.Size([1, 28, 28])\n",
      "torch.Size([1, 28, 28])\n"
     ]
    },
    {
     "data": {
      "text/plain": [
       "Text(0.5, 1.0, 'Convolution transpose')"
      ]
     },
     "execution_count": null,
     "metadata": {},
     "output_type": "execute_result"
    },
    {
     "data": {
      "image/png": "[encoded data removed]",
      "text/plain": [
       "<Figure size 300x300 with 1 Axes>"
      ]
     },
     "metadata": {},
     "output_type": "display_data"
    },
    {
     "data": {
      "image/png": "[encoded data removed]",
      "text/plain": [
       "<Figure size 300x300 with 1 Axes>"
      ]
     },
     "metadata": {},
     "output_type": "display_data"
    }
   ],
   "source": [
    "#| notest\n",
    "\n",
    "my_kernel = left_kernel\n",
    "\n",
    "c = nn.Conv2d(1, 1, kernel_size=3, padding=1, bias=False)\n",
    "with torch.no_grad():\n",
    "    c.weight.copy_(my_kernel)\n",
    "\n",
    "print(x.shape)\n",
    "y = c(x)\n",
    "print(y.shape)\n",
    "plt.figure(figsize=(3,3))\n",
    "plt.imshow(y.squeeze().detach(), cmap='gray')\n",
    "plt.title('Convolution')\n",
    "\n",
    "dc = nn.ConvTranspose2d(1, 1, kernel_size=3, padding=1, bias=False)\n",
    "# with torch.no_grad():\n",
    "#     dc.weight.copy_(my_kernel)\n",
    "\n",
    "x_bar = dc(y)\n",
    "print(x_bar.shape)\n",
    "plt.figure(figsize=(3,3))\n",
    "plt.imshow(x_bar.squeeze().detach(), cmap='gray')\n",
    "plt.title('Convolution transpose')"
   ]
  },
  {
   "cell_type": "markdown",
   "metadata": {},
   "source": [
    "## Conv Layer\n",
    "\n",
    "Using a convolution with a stride of 2 instead of max pooling essentially achieves the same goal of downsampling an image by reducing its spatial dimensions, but with the key difference that the convolution layer can learn more complex feature combinations from overlapping regions, while max pooling only selects the maximum value within a window, potentially losing information about the finer details within that region; making the convolution with stride approach often preferred for preserving more spatial information in a neural network. "
   ]
  },
  {
   "cell_type": "code",
   "execution_count": null,
   "metadata": {},
   "outputs": [],
   "source": [
    "#| export\n",
    "\n",
    "class ConvLayer(nn.Module):\n",
    "    \"\"\"A 2D convolutional layer with optional batch normalization and activation.\n",
    "\n",
    "    This layer performs 2D convolution with stride 2 for downsampling, optionally followed by\n",
    "    batch normalization and activation.\n",
    "\n",
    "    Parameters\n",
    "    ----------\n",
    "    in_channels : int, default=3\n",
    "        Number of input channels\n",
    "    out_channels : int, default=16 \n",
    "        Number of output channels / number of features\n",
    "    kernel_size : int, default=3\n",
    "        Size of the convolving kernel\n",
    "    bias : bool, default=True\n",
    "        If True, adds a learnable bias to the convolution\n",
    "    normalization : nn.Module, default=nn.BatchNorm2d\n",
    "        Normalization layer to use after convolution\n",
    "    activation : nn.Module, default=nn.ReLU\n",
    "        Activation function to use after normalization\n",
    "\n",
    "    Notes\n",
    "    -----\n",
    "    When using batch normalization, the convolution bias is automatically disabled\n",
    "    since it would be redundant.\n",
    "\n",
    "    The spatial dimensions are reduced by half due to stride=2 convolution:\n",
    "    output_size = input_size/2\n",
    "    \"\"\"\n",
    "  \n",
    "    def __init__(\n",
    "        self,\n",
    "        in_channels:int=3, # input channels\n",
    "        out_channels:int=16, # output channels\n",
    "        kernel_size:int=3, # kernel size\n",
    "        stride:int=2, # stride\n",
    "        bias:bool=True,\n",
    "        normalization:Optional[Type[nn.Module]]=nn.BatchNorm2d,\n",
    "        activation:Optional[Type[nn.Module]]=nn.ReLU,\n",
    "        \n",
    "    ):\n",
    "\n",
    "        super().__init__()\n",
    "        \n",
    "        if bias and normalization and issubclass(normalization, (nn.BatchNorm1d,nn.BatchNorm2d,nn.BatchNorm3d)):\n",
    "            logger.warning('setting conv bias to False as Batchnorm is used')\n",
    "            # https://x.com/karpathy/status/1013245864570073090\n",
    "            bias = None\n",
    "\n",
    "        # use stride 2 for downsampling to (W/2, H/2) instead of max or average pooling with stride 1\n",
    "        conv = nn.Conv2d(\n",
    "            in_channels,\n",
    "            out_channels,\n",
    "            kernel_size,\n",
    "            stride=stride,\n",
    "            padding=kernel_size//2,\n",
    "            bias=bias\n",
    "            )\n",
    "        layers = [conv]\n",
    "        if normalization:\n",
    "            if issubclass(normalization,  (nn.BatchNorm1d, nn.BatchNorm2d, nn.BatchNorm3d)):\n",
    "                layers.append(normalization(out_channels))\n",
    "        if activation:\n",
    "            layers.append(activation())\n",
    "        self.net = nn.Sequential(*layers)\n",
    "\n",
    "    def forward(\n",
    "            self,\n",
    "            x:torch.Tensor # input image tensor of dimension (B, C, W, H)\n",
    "            ) -> torch.Tensor: # output image tensor of dimension (B, C, W/2, H/2)\n",
    "        \n",
    "        \"\"\"forward method of the ConvLayer\"\"\"\n",
    "        return self.net(x)\n"
   ]
  },
  {
   "cell_type": "code",
   "execution_count": null,
   "metadata": {},
   "outputs": [
    {
     "data": {
      "text/markdown": [
       "---\n",
       "\n",
       "[source](https://github.com/slegroux/nimrod/blob/main/nimrod/models/conv.py#L37){target=\"_blank\" style=\"float:right; font-size:smaller\"}\n",
       "\n",
       "### ConvLayer\n",
       "\n",
       ">      ConvLayer (in_channels:int=3, out_channels:int=16, kernel_size:int=3,\n",
       ">                 stride:int=2, bias:bool=True, normalization:Optional[Type[torc\n",
       ">                 h.nn.modules.module.Module]]=<class\n",
       ">                 'torch.nn.modules.batchnorm.BatchNorm2d'>, activation:Optional\n",
       ">                 [Type[torch.nn.modules.module.Module]]=<class\n",
       ">                 'torch.nn.modules.activation.ReLU'>)\n",
       "\n",
       "*A 2D convolutional layer with optional batch normalization and activation.\n",
       "\n",
       "This layer performs 2D convolution with stride 2 for downsampling, optionally followed by\n",
       "batch normalization and activation.*\n",
       "\n",
       "|    | **Type** | **Default** | **Details** |\n",
       "| -- | -------- | ----------- | ----------- |\n",
       "| in_channels | int | 3 | input channels |\n",
       "| out_channels | int | 16 | output channels |\n",
       "| kernel_size | int | 3 | kernel size |\n",
       "| stride | int | 2 | stride |\n",
       "| bias | bool | True | If True, adds a learnable bias to the convolution |\n",
       "| normalization | Optional | BatchNorm2d | Normalization layer to use after convolution |\n",
       "| activation | Optional | ReLU | Activation function to use after normalization |"
      ],
      "text/plain": [
       "---\n",
       "\n",
       "[source](https://github.com/slegroux/nimrod/blob/main/nimrod/models/conv.py#L37){target=\"_blank\" style=\"float:right; font-size:smaller\"}\n",
       "\n",
       "### ConvLayer\n",
       "\n",
       ">      ConvLayer (in_channels:int=3, out_channels:int=16, kernel_size:int=3,\n",
       ">                 stride:int=2, bias:bool=True, normalization:Optional[Type[torc\n",
       ">                 h.nn.modules.module.Module]]=<class\n",
       ">                 'torch.nn.modules.batchnorm.BatchNorm2d'>, activation:Optional\n",
       ">                 [Type[torch.nn.modules.module.Module]]=<class\n",
       ">                 'torch.nn.modules.activation.ReLU'>)\n",
       "\n",
       "*A 2D convolutional layer with optional batch normalization and activation.\n",
       "\n",
       "This layer performs 2D convolution with stride 2 for downsampling, optionally followed by\n",
       "batch normalization and activation.*\n",
       "\n",
       "|    | **Type** | **Default** | **Details** |\n",
       "| -- | -------- | ----------- | ----------- |\n",
       "| in_channels | int | 3 | input channels |\n",
       "| out_channels | int | 16 | output channels |\n",
       "| kernel_size | int | 3 | kernel size |\n",
       "| stride | int | 2 | stride |\n",
       "| bias | bool | True | If True, adds a learnable bias to the convolution |\n",
       "| normalization | Optional | BatchNorm2d | Normalization layer to use after convolution |\n",
       "| activation | Optional | ReLU | Activation function to use after normalization |"
      ]
     },
     "execution_count": null,
     "metadata": {},
     "output_type": "execute_result"
    }
   ],
   "source": [
    "show_doc(ConvLayer, title_level=3)"
   ]
  },
  {
   "cell_type": "code",
   "execution_count": null,
   "metadata": {},
   "outputs": [
    {
     "data": {
      "text/markdown": [
       "---\n",
       "\n",
       "[source](https://github.com/slegroux/nimrod/blob/main/nimrod/models/conv.py#L103){target=\"_blank\" style=\"float:right; font-size:smaller\"}\n",
       "\n",
       "### ConvLayer.forward\n",
       "\n",
       ">      ConvLayer.forward (x:torch.Tensor)\n",
       "\n",
       "*forward method of the ConvLayer*\n",
       "\n",
       "|    | **Type** | **Details** |\n",
       "| -- | -------- | ----------- |\n",
       "| x | Tensor | input image tensor of dimension (B, C, W, H) |\n",
       "| **Returns** | **Tensor** | **output image tensor of dimension (B, C, W/2, H/2)** |"
      ],
      "text/plain": [
       "---\n",
       "\n",
       "[source](https://github.com/slegroux/nimrod/blob/main/nimrod/models/conv.py#L103){target=\"_blank\" style=\"float:right; font-size:smaller\"}\n",
       "\n",
       "### ConvLayer.forward\n",
       "\n",
       ">      ConvLayer.forward (x:torch.Tensor)\n",
       "\n",
       "*forward method of the ConvLayer*\n",
       "\n",
       "|    | **Type** | **Details** |\n",
       "| -- | -------- | ----------- |\n",
       "| x | Tensor | input image tensor of dimension (B, C, W, H) |\n",
       "| **Returns** | **Tensor** | **output image tensor of dimension (B, C, W/2, H/2)** |"
      ]
     },
     "execution_count": null,
     "metadata": {},
     "output_type": "execute_result"
    }
   ],
   "source": [
    "show_doc(ConvLayer.forward)"
   ]
  },
  {
   "cell_type": "markdown",
   "metadata": {},
   "source": [
    "### Usage"
   ]
  },
  {
   "cell_type": "code",
   "execution_count": null,
   "metadata": {},
   "outputs": [
    {
     "name": "stdout",
     "output_type": "stream",
     "text": [
      "Y:  torch.Size([64, 16, 28, 28])\n",
      "torch.Size([64, 12544])\n"
     ]
    },
    {
     "data": {
      "text/plain": [
       "==========================================================================================\n",
       "Layer (type:depth-idx)                   Output Shape              Param #\n",
       "==========================================================================================\n",
       "ConvLayer                                [64, 16, 28, 28]          --\n",
       "├─Sequential: 1-1                        [64, 16, 28, 28]          --\n",
       "│    └─Conv2d: 2-1                       [64, 16, 28, 28]          160\n",
       "│    └─ReLU: 2-2                         [64, 16, 28, 28]          --\n",
       "==========================================================================================\n",
       "Total params: 160\n",
       "Trainable params: 160\n",
       "Non-trainable params: 0\n",
       "Total mult-adds (Units.MEGABYTES): 8.03\n",
       "==========================================================================================\n",
       "Input size (MB): 0.20\n",
       "Forward/backward pass size (MB): 6.42\n",
       "Params size (MB): 0.00\n",
       "Estimated Total Size (MB): 6.62\n",
       "=========================================================================================="
      ]
     },
     "execution_count": null,
     "metadata": {},
     "output_type": "execute_result"
    }
   ],
   "source": [
    "B, C, H, W = 64, 1, 28, 28\n",
    "X = torch.rand(B, C, H,W)\n",
    "# stride 2 layer downsample to (W/2, H/2)\n",
    "model = ConvLayer(\n",
    "    in_channels=C,\n",
    "    out_channels=16,\n",
    "    kernel_size=3,\n",
    "    stride=1,\n",
    "    normalization=None,\n",
    "    )\n",
    "\n",
    "# get first layer of sequential and init weights\n",
    "layer_0 = model.net[0] # get first layer of sequential\n",
    "with torch.no_grad():\n",
    "    model.net[0].weight.copy_(top_kernel)\n",
    "\n",
    "print(\"Y: \", model(X).shape)\n",
    "# # flatten all dims except batch dim 1\n",
    "Y = torch.flatten(model(X), 1)\n",
    "print(Y.shape)\n",
    "summary(model, input_size=(B, C, H, W), depth=4)"
   ]
  },
  {
   "cell_type": "markdown",
   "metadata": {},
   "source": [
    "### Configs"
   ]
  },
  {
   "cell_type": "code",
   "execution_count": null,
   "metadata": {},
   "outputs": [
    {
     "name": "stderr",
     "output_type": "stream",
     "text": [
      "[16:28:10] WARNING - setting conv bias to False as Batchnorm is used\n"
     ]
    },
    {
     "name": "stdout",
     "output_type": "stream",
     "text": [
      "=================================================================\n",
      "Layer (type:depth-idx)                   Param #\n",
      "=================================================================\n",
      "ConvLayer                                --\n",
      "├─Sequential: 1-1                        --\n",
      "│    └─Conv2d: 2-1                       144\n",
      "│    └─BatchNorm2d: 2-2                  32\n",
      "│    └─ReLU: 2-3                         --\n",
      "=================================================================\n",
      "Total params: 176\n",
      "Trainable params: 176\n",
      "Non-trainable params: 0\n",
      "=================================================================\n",
      "Y:  torch.Size([64, 16, 14, 14])\n"
     ]
    }
   ],
   "source": [
    "cfg = OmegaConf.load('../config/model/image/convlayer.yaml')\n",
    "net = instantiate(cfg.defaults)\n",
    "B, C, H, W = 64, 1, 28, 28\n",
    "X = torch.rand(B, C, H,W)\n",
    "print(summary(net))\n",
    "print(\"Y: \",net(X).shape)"
   ]
  },
  {
   "cell_type": "markdown",
   "metadata": {},
   "source": [
    "## Deconv Layer"
   ]
  },
  {
   "cell_type": "code",
   "execution_count": null,
   "metadata": {},
   "outputs": [],
   "source": [
    "#| export\n",
    "\n",
    "class DeconvLayer(nn.Module):\n",
    "    def __init__(\n",
    "        self,\n",
    "        in_channels:int=16, # input channels\n",
    "        out_channels:int=3, # output channels\n",
    "        kernel_size:int=3, # kernel size\n",
    "        bias:bool=True,\n",
    "        normalization:Optional[Type[nn.Module]]=None,\n",
    "        activation:Optional[Type[nn.Module]]=nn.ReLU,\n",
    "        stride:int = 1,\n",
    "        scale_factor:int = 2\n",
    "    ):\n",
    "        super().__init__()\n",
    "        layers = []\n",
    "        if normalization:\n",
    "            if issubclass(normalization,  (nn.BatchNorm1d,nn.BatchNorm2d,nn.BatchNorm3d)):\n",
    "                logger.warning('setting conv bias to False as Batchnorm is used')\n",
    "                # https://x.com/karpathy/status/1013245864570073090\n",
    "                bias = None\n",
    "\n",
    "        layers.append(nn.UpsamplingNearest2d(scale_factor=scale_factor))\n",
    "\n",
    "        layers.append(nn.Conv2d(in_channels, out_channels, kernel_size, stride=stride, padding=kernel_size//2, bias=bias))\n",
    "        if normalization:\n",
    "            layers.append(normalization(out_channels))\n",
    "        if activation:\n",
    "            layers.append(activation())\n",
    "        self._net = nn.Sequential(*layers)\n",
    "\n",
    "    def forward(self, x:torch.Tensor # input image tensor of dimension (B, C, W, H)\n",
    "                ) -> torch.Tensor: # output image tensor of dimension (B, C, W*2, H*2)\n",
    "        return self._net(x) "
   ]
  },
  {
   "cell_type": "code",
   "execution_count": null,
   "metadata": {},
   "outputs": [
    {
     "data": {
      "text/markdown": [
       "---\n",
       "\n",
       "[source](https://github.com/slegroux/nimrod/blob/main/nimrod/models/conv.py#L33){target=\"_blank\" style=\"float:right; font-size:smaller\"}\n",
       "\n",
       "### ConvLayer\n",
       "\n",
       ">      ConvLayer (in_channels:int=3, out_channels:int=16, kernel_size:int=3,\n",
       ">                 stride:int=2, bias:bool=True, normalization:Optional[Type[torc\n",
       ">                 h.nn.modules.module.Module]]=<class\n",
       ">                 'torch.nn.modules.batchnorm.BatchNorm2d'>, activation:Optional\n",
       ">                 [Type[torch.nn.modules.module.Module]]=<class\n",
       ">                 'torch.nn.modules.activation.ReLU'>)\n",
       "\n",
       "*A 2D convolutional layer with optional batch normalization and activation.\n",
       "\n",
       "This layer performs 2D convolution with stride 2 for downsampling, optionally followed by\n",
       "batch normalization and activation.*\n",
       "\n",
       "|    | **Type** | **Default** | **Details** |\n",
       "| -- | -------- | ----------- | ----------- |\n",
       "| in_channels | int | 3 | input channels |\n",
       "| out_channels | int | 16 | output channels |\n",
       "| kernel_size | int | 3 | kernel size |\n",
       "| stride | int | 2 | stride |\n",
       "| bias | bool | True | If True, adds a learnable bias to the convolution |\n",
       "| normalization | Optional | BatchNorm2d | Normalization layer to use after convolution |\n",
       "| activation | Optional | ReLU | Activation function to use after normalization |"
      ],
      "text/plain": [
       "---\n",
       "\n",
       "[source](https://github.com/slegroux/nimrod/blob/main/nimrod/models/conv.py#L33){target=\"_blank\" style=\"float:right; font-size:smaller\"}\n",
       "\n",
       "### ConvLayer\n",
       "\n",
       ">      ConvLayer (in_channels:int=3, out_channels:int=16, kernel_size:int=3,\n",
       ">                 stride:int=2, bias:bool=True, normalization:Optional[Type[torc\n",
       ">                 h.nn.modules.module.Module]]=<class\n",
       ">                 'torch.nn.modules.batchnorm.BatchNorm2d'>, activation:Optional\n",
       ">                 [Type[torch.nn.modules.module.Module]]=<class\n",
       ">                 'torch.nn.modules.activation.ReLU'>)\n",
       "\n",
       "*A 2D convolutional layer with optional batch normalization and activation.\n",
       "\n",
       "This layer performs 2D convolution with stride 2 for downsampling, optionally followed by\n",
       "batch normalization and activation.*\n",
       "\n",
       "|    | **Type** | **Default** | **Details** |\n",
       "| -- | -------- | ----------- | ----------- |\n",
       "| in_channels | int | 3 | input channels |\n",
       "| out_channels | int | 16 | output channels |\n",
       "| kernel_size | int | 3 | kernel size |\n",
       "| stride | int | 2 | stride |\n",
       "| bias | bool | True | If True, adds a learnable bias to the convolution |\n",
       "| normalization | Optional | BatchNorm2d | Normalization layer to use after convolution |\n",
       "| activation | Optional | ReLU | Activation function to use after normalization |"
      ]
     },
     "execution_count": null,
     "metadata": {},
     "output_type": "execute_result"
    }
   ],
   "source": [
    "show_doc(ConvLayer, title_level=3)"
   ]
  },
  {
   "cell_type": "markdown",
   "metadata": {},
   "source": [
    "### Usage\n"
   ]
  },
  {
   "cell_type": "code",
   "execution_count": null,
   "metadata": {},
   "outputs": [
    {
     "name": "stdout",
     "output_type": "stream",
     "text": [
      "DeconvLayer(\n",
      "  (_net): Sequential(\n",
      "    (0): UpsamplingNearest2d(scale_factor=2.0, mode='nearest')\n",
      "    (1): Conv2d(3, 8, kernel_size=(3, 3), stride=(1, 1), padding=(1, 1))\n",
      "    (2): ReLU()\n",
      "  )\n",
      ")\n",
      "Y:  torch.Size([64, 8, 56, 56])\n"
     ]
    }
   ],
   "source": [
    "B, C, H, W = 64, 3, 28, 28\n",
    "X = torch.rand(B, C, H, W)\n",
    "deconv = DeconvLayer(3, 8)\n",
    "print(deconv)\n",
    "print(\"Y: \",deconv(X).shape)"
   ]
  },
  {
   "cell_type": "markdown",
   "metadata": {},
   "source": [
    "## Conv-Deconv"
   ]
  },
  {
   "cell_type": "code",
   "execution_count": null,
   "metadata": {},
   "outputs": [
    {
     "name": "stderr",
     "output_type": "stream",
     "text": [
      "[14:52:04] WARNING - setting conv bias to False as Batchnorm is used\n"
     ]
    },
    {
     "name": "stdout",
     "output_type": "stream",
     "text": [
      "x: torch.Size([1, 1, 28, 28])\n",
      "y:  torch.Size([1, 3, 28, 28])\n",
      "x_bar:  torch.Size([1, 1, 28, 28])\n"
     ]
    },
    {
     "data": {
      "text/plain": [
       "Text(0.5, 1.0, 'Deconv image')"
      ]
     },
     "execution_count": null,
     "metadata": {},
     "output_type": "execute_result"
    },
    {
     "data": {
      "image/png": "[encoded data removed]",
      "text/plain": [
       "<Figure size 300x300 with 1 Axes>"
      ]
     },
     "metadata": {},
     "output_type": "display_data"
    },
    {
     "data": {
      "image/png": "[encoded data removed]",
      "text/plain": [
       "<Figure size 300x300 with 1 Axes>"
      ]
     },
     "metadata": {},
     "output_type": "display_data"
    },
    {
     "data": {
      "image/png": "[encoded data removed]",
      "text/plain": [
       "<Figure size 300x300 with 1 Axes>"
      ]
     },
     "metadata": {},
     "output_type": "display_data"
    }
   ],
   "source": [
    "#| notest\n",
    "\n",
    "# one image\n",
    "x, y = dm.train_ds[0]\n",
    "C, H, W = x.shape\n",
    "# make fake batch dimension\n",
    "x = x.unsqueeze(0)\n",
    "print(\"x:\", x.shape)\n",
    "plt.figure(figsize=(3,3))\n",
    "plt.imshow(x.squeeze(), cmap='gray')\n",
    "plt.title(\"original image\")\n",
    "\n",
    "my_kernel = left_kernel\n",
    "\n",
    "c = ConvLayer(1,3, kernel_size=3, stride=1)\n",
    "with torch.no_grad():\n",
    "    c.net[0].weight.copy_(my_kernel) # set kernel weights for convlayer 0 (actual convolution2d)\n",
    "\n",
    "y = c(x)\n",
    "print(\"y: \", y.shape)\n",
    "\n",
    "plt.figure(figsize=(3,3))\n",
    "plt.imshow(y.detach().squeeze().numpy().transpose(1, 2, 0), cmap='gray')\n",
    "plt.title(\"filtered image\")\n",
    "\n",
    "\n",
    "dc = DeconvLayer(3, 1, stride=2, kernel_size=3)\n",
    "with torch.no_grad():\n",
    "    dc._net[1].weight.copy_(my_kernel) # set kernel weights for convlayer 1 (actual convolution2d)\n",
    "x_bar = dc(y)\n",
    "print(\"x_bar: \", x_bar.shape)\n",
    "plt.figure(figsize=(3,3))\n",
    "plt.imshow(x_bar.detach().squeeze(), cmap='gray')\n",
    "plt.title(\"Deconv image\")"
   ]
  },
  {
   "cell_type": "markdown",
   "metadata": {},
   "source": [
    "## ConvNet\n",
    "Simple convolution network for image recognition"
   ]
  },
  {
   "cell_type": "code",
   "execution_count": null,
   "metadata": {},
   "outputs": [],
   "source": [
    "#| export\n",
    "\n",
    "class ConvNet(nn.Module):\n",
    "\n",
    "    def __init__(\n",
    "            self,\n",
    "            n_features:List[int]=[1, 8, 16, 32, 64], # channel/feature expansion\n",
    "            num_classes:int=10, # num_classes\n",
    "            kernel_size:int=3, # kernel size\n",
    "            bias:bool=False, # conv2d bias\n",
    "            normalization:nn.Module=nn.BatchNorm2d, # normalization (before activation)\n",
    "            activation:nn.Module=nn.ReLU, # activation function\n",
    "        ):\n",
    "\n",
    "        super().__init__()\n",
    "\n",
    "        net = []\n",
    "\n",
    "        conv_stride_1 = ConvLayer(\n",
    "            in_channels=n_features[0],\n",
    "            out_channels=n_features[1],\n",
    "            stride=1,\n",
    "            kernel_size=kernel_size,\n",
    "            bias=bias,\n",
    "            normalization=normalization,\n",
    "            activation=activation\n",
    "        )\n",
    "        net.append(conv_stride_1)\n",
    "\n",
    "        for i in range(1, len(n_features) - 1):\n",
    "            conv = ConvLayer(\n",
    "                    in_channels=n_features[i],\n",
    "                    out_channels=n_features[i+1],\n",
    "                    kernel_size=kernel_size,\n",
    "                    bias=bias,\n",
    "                    normalization=normalization,\n",
    "                    activation=activation\n",
    "            )\n",
    "            net.append(conv)\n",
    "       \n",
    "        net.append(\n",
    "            ConvLayer(\n",
    "                in_channels=n_features[-1],\n",
    "                out_channels=num_classes,\n",
    "                kernel_size=kernel_size,\n",
    "                bias=True,\n",
    "                normalization=None,\n",
    "                activation=None\n",
    "                )\n",
    "            )\n",
    "        net.append(nn.Flatten(start_dim=1, end_dim=-1))\n",
    "\n",
    "        self.net = nn.Sequential(*net)\n",
    "\n",
    "\n",
    "    def forward(\n",
    "        self,\n",
    "        x:torch.Tensor # input image tensor of dimension (B, C, W, H)\n",
    "        ) -> torch.Tensor: # output probs (B, N_classes)\n",
    "        return self.net(x)"
   ]
  },
  {
   "cell_type": "code",
   "execution_count": null,
   "metadata": {},
   "outputs": [
    {
     "data": {
      "text/markdown": [
       "---\n",
       "\n",
       "[source](https://github.com/slegroux/nimrod/blob/main/nimrod/models/conv.py#L37){target=\"_blank\" style=\"float:right; font-size:smaller\"}\n",
       "\n",
       "### ConvLayer\n",
       "\n",
       ">      ConvLayer (in_channels:int=3, out_channels:int=16, kernel_size:int=3,\n",
       ">                 stride:int=2, bias:bool=True, normalization:Optional[Type[torc\n",
       ">                 h.nn.modules.module.Module]]=<class\n",
       ">                 'torch.nn.modules.batchnorm.BatchNorm2d'>, activation:Optional\n",
       ">                 [Type[torch.nn.modules.module.Module]]=<class\n",
       ">                 'torch.nn.modules.activation.ReLU'>)\n",
       "\n",
       "*A 2D convolutional layer with optional batch normalization and activation.\n",
       "\n",
       "This layer performs 2D convolution with stride 2 for downsampling, optionally followed by\n",
       "batch normalization and activation.*\n",
       "\n",
       "|    | **Type** | **Default** | **Details** |\n",
       "| -- | -------- | ----------- | ----------- |\n",
       "| in_channels | int | 3 | input channels |\n",
       "| out_channels | int | 16 | output channels |\n",
       "| kernel_size | int | 3 | kernel size |\n",
       "| stride | int | 2 | stride |\n",
       "| bias | bool | True | If True, adds a learnable bias to the convolution |\n",
       "| normalization | Optional | BatchNorm2d | Normalization layer to use after convolution |\n",
       "| activation | Optional | ReLU | Activation function to use after normalization |"
      ],
      "text/plain": [
       "---\n",
       "\n",
       "[source](https://github.com/slegroux/nimrod/blob/main/nimrod/models/conv.py#L37){target=\"_blank\" style=\"float:right; font-size:smaller\"}\n",
       "\n",
       "### ConvLayer\n",
       "\n",
       ">      ConvLayer (in_channels:int=3, out_channels:int=16, kernel_size:int=3,\n",
       ">                 stride:int=2, bias:bool=True, normalization:Optional[Type[torc\n",
       ">                 h.nn.modules.module.Module]]=<class\n",
       ">                 'torch.nn.modules.batchnorm.BatchNorm2d'>, activation:Optional\n",
       ">                 [Type[torch.nn.modules.module.Module]]=<class\n",
       ">                 'torch.nn.modules.activation.ReLU'>)\n",
       "\n",
       "*A 2D convolutional layer with optional batch normalization and activation.\n",
       "\n",
       "This layer performs 2D convolution with stride 2 for downsampling, optionally followed by\n",
       "batch normalization and activation.*\n",
       "\n",
       "|    | **Type** | **Default** | **Details** |\n",
       "| -- | -------- | ----------- | ----------- |\n",
       "| in_channels | int | 3 | input channels |\n",
       "| out_channels | int | 16 | output channels |\n",
       "| kernel_size | int | 3 | kernel size |\n",
       "| stride | int | 2 | stride |\n",
       "| bias | bool | True | If True, adds a learnable bias to the convolution |\n",
       "| normalization | Optional | BatchNorm2d | Normalization layer to use after convolution |\n",
       "| activation | Optional | ReLU | Activation function to use after normalization |"
      ]
     },
     "execution_count": null,
     "metadata": {},
     "output_type": "execute_result"
    }
   ],
   "source": [
    "show_doc(ConvLayer, title_level=3)"
   ]
  },
  {
   "cell_type": "markdown",
   "metadata": {},
   "source": [
    "### Usage"
   ]
  },
  {
   "cell_type": "code",
   "execution_count": null,
   "metadata": {},
   "outputs": [
    {
     "data": {
      "text/plain": [
       "torch.Size([64, 1, 28, 28])"
      ]
     },
     "execution_count": null,
     "metadata": {},
     "output_type": "execute_result"
    }
   ],
   "source": [
    "B, C, H, W = 64, 1, 28, 28\n",
    "X = torch.rand(B, C, H, W)\n",
    "X.shape"
   ]
  },
  {
   "cell_type": "code",
   "execution_count": null,
   "metadata": {},
   "outputs": [
    {
     "name": "stdout",
     "output_type": "stream",
     "text": [
      "torch.Size([64, 10])\n",
      "=================================================================\n",
      "Layer (type:depth-idx)                   Param #\n",
      "=================================================================\n",
      "ConvNet                                  --\n",
      "├─Sequential: 1-1                        --\n",
      "│    └─ConvLayer: 2-1                    --\n",
      "│    │    └─Sequential: 3-1              --\n",
      "│    │    │    └─Conv2d: 4-1             72\n",
      "│    │    │    └─BatchNorm2d: 4-2        16\n",
      "│    │    │    └─ReLU: 4-3               --\n",
      "│    └─ConvLayer: 2-2                    --\n",
      "│    │    └─Sequential: 3-2              --\n",
      "│    │    │    └─Conv2d: 4-4             1,152\n",
      "│    │    │    └─BatchNorm2d: 4-5        32\n",
      "│    │    │    └─ReLU: 4-6               --\n",
      "│    └─ConvLayer: 2-3                    --\n",
      "│    │    └─Sequential: 3-3              --\n",
      "│    │    │    └─Conv2d: 4-7             4,608\n",
      "│    │    │    └─BatchNorm2d: 4-8        64\n",
      "│    │    │    └─ReLU: 4-9               --\n",
      "│    └─ConvLayer: 2-4                    --\n",
      "│    │    └─Sequential: 3-4              --\n",
      "│    │    │    └─Conv2d: 4-10            18,432\n",
      "│    │    │    └─BatchNorm2d: 4-11       128\n",
      "│    │    │    └─ReLU: 4-12              --\n",
      "│    └─ConvLayer: 2-5                    --\n",
      "│    │    └─Sequential: 3-5              --\n",
      "│    │    │    └─Conv2d: 4-13            73,728\n",
      "│    │    │    └─BatchNorm2d: 4-14       256\n",
      "│    │    │    └─ReLU: 4-15              --\n",
      "│    └─ConvLayer: 2-6                    --\n",
      "│    │    └─Sequential: 3-6              --\n",
      "│    │    │    └─Conv2d: 4-16            11,530\n",
      "│    └─Flatten: 2-7                      --\n",
      "=================================================================\n",
      "Total params: 110,018\n",
      "Trainable params: 110,018\n",
      "Non-trainable params: 0\n",
      "=================================================================\n",
      "{'_target_': 'nimrod.models.conv.ConvNet', 'n_features': [1, 8, 16, 32, 64, 128], 'num_classes': 10, 'kernel_size': 3, 'bias': False, 'normalization': {'_target_': 'hydra.utils.get_class', 'path': 'torch.nn.BatchNorm2d'}, 'activation': {'_target_': 'hydra.utils.get_class', 'path': 'torch.nn.ReLU'}}\n"
     ]
    }
   ],
   "source": [
    "# model instantiation\n",
    "convnet = ConvNet(\n",
    "            n_features=[1, 8, 16, 32, 64, 128], # channel/feature expansion\n",
    "            num_classes=10, # num_classes\n",
    "            kernel_size=3, # kernel size\n",
    "            bias=False, # conv2d bias\n",
    "            normalization=nn.BatchNorm2d, # normalization (before activation)\n",
    "            activation=nn.ReLU,\n",
    ")\n",
    "out = convnet(X)\n",
    "print(out.shape)\n",
    "print(summary(convnet, depth=4))\n",
    "# from config\n",
    "cfg = OmegaConf.load('../config/model/image/convnet.yaml')\n",
    "# print(cfg.defaults)\n",
    "# convnet = instantiate(cfg.defaults)\n",
    "print(cfg.batchnorm)\n",
    "convnet = instantiate(cfg.baseline)\n",
    "\n",
    "# print(convnet(X).shape)"
   ]
  },
  {
   "cell_type": "markdown",
   "metadata": {},
   "source": [
    "### Training"
   ]
  },
  {
   "cell_type": "markdown",
   "metadata": {},
   "source": [
    "#### Dataloaders"
   ]
  },
  {
   "cell_type": "code",
   "execution_count": null,
   "metadata": {},
   "outputs": [
    {
     "name": "stderr",
     "output_type": "stream",
     "text": [
      "[16:28:58] INFO - Init ImageDataModule for fashion_mnist\n",
      "[16:29:17] INFO - split train into train/val [0.8, 0.2]\n",
      "[16:29:17] INFO - train: 48000 val: 12000, test: 10000\n"
     ]
    },
    {
     "name": "stdout",
     "output_type": "stream",
     "text": [
      "X (C,H,W):  torch.Size([1, 32, 32]) y:  9\n",
      "XX (B,C,H,W):  torch.Size([512, 1, 32, 32]) YY:  torch.Size([512])\n",
      "48000\n",
      "93\n"
     ]
    }
   ],
   "source": [
    "#| notest\n",
    "\n",
    "# data module config\n",
    "cfg = OmegaConf.load('../config/data/image/fashion_mnist.yaml')\n",
    "\n",
    "BATCH_SIZE = 512\n",
    "datamodule = instantiate(cfg, batch_size=BATCH_SIZE)\n",
    "datamodule.prepare_data()\n",
    "datamodule.setup()\n",
    "\n",
    "# one data point \n",
    "X,y = datamodule.test_ds[0]\n",
    "print(\"X (C,H,W): \", X.shape, \"y: \", y)\n",
    "\n",
    "# a batch of data via dataloader\n",
    "XX,YY = next(iter(datamodule.test_dataloader()))\n",
    "print(\"XX (B,C,H,W): \", XX.shape, \"YY: \", YY.shape)\n",
    "\n",
    "print(len(datamodule.train_ds))\n",
    "print(len(datamodule.train_ds) // BATCH_SIZE)"
   ]
  },
  {
   "cell_type": "markdown",
   "metadata": {},
   "source": [
    "#### Model & hardware"
   ]
  },
  {
   "cell_type": "code",
   "execution_count": null,
   "metadata": {},
   "outputs": [
    {
     "name": "stderr",
     "output_type": "stream",
     "text": [
      "[16:29:17] INFO - Using device: mps\n"
     ]
    },
    {
     "name": "stdout",
     "output_type": "stream",
     "text": [
      "mps\n",
      "{'_target_': 'nimrod.models.conv.ConvNet', 'n_features': [1, 8, 16, 32, 64], 'num_classes': 10, 'kernel_size': 3, 'bias': True, 'normalization': None, 'activation': {'_target_': 'hydra.utils.get_class', 'path': 'torch.nn.ReLU'}}\n"
     ]
    },
    {
     "data": {
      "text/plain": [
       "==========================================================================================\n",
       "Layer (type:depth-idx)                   Output Shape              Param #\n",
       "==========================================================================================\n",
       "ConvNet                                  [64, 40]                  --\n",
       "├─Sequential: 1-1                        [64, 40]                  --\n",
       "│    └─ConvLayer: 2-1                    [64, 8, 28, 28]           --\n",
       "│    │    └─Sequential: 3-1              [64, 8, 28, 28]           --\n",
       "│    │    │    └─Conv2d: 4-1             [64, 8, 28, 28]           80\n",
       "│    │    │    └─ReLU: 4-2               [64, 8, 28, 28]           --\n",
       "│    └─ConvLayer: 2-2                    [64, 16, 14, 14]          --\n",
       "│    │    └─Sequential: 3-2              [64, 16, 14, 14]          --\n",
       "│    │    │    └─Conv2d: 4-3             [64, 16, 14, 14]          1,168\n",
       "│    │    │    └─ReLU: 4-4               [64, 16, 14, 14]          --\n",
       "│    └─ConvLayer: 2-3                    [64, 32, 7, 7]            --\n",
       "│    │    └─Sequential: 3-3              [64, 32, 7, 7]            --\n",
       "│    │    │    └─Conv2d: 4-5             [64, 32, 7, 7]            4,640\n",
       "│    │    │    └─ReLU: 4-6               [64, 32, 7, 7]            --\n",
       "│    └─ConvLayer: 2-4                    [64, 64, 4, 4]            --\n",
       "│    │    └─Sequential: 3-4              [64, 64, 4, 4]            --\n",
       "│    │    │    └─Conv2d: 4-7             [64, 64, 4, 4]            18,496\n",
       "│    │    │    └─ReLU: 4-8               [64, 64, 4, 4]            --\n",
       "│    └─ConvLayer: 2-5                    [64, 10, 2, 2]            --\n",
       "│    │    └─Sequential: 3-5              [64, 10, 2, 2]            --\n",
       "│    │    │    └─Conv2d: 4-9             [64, 10, 2, 2]            5,770\n",
       "│    └─Flatten: 2-6                      [64, 40]                  --\n",
       "==========================================================================================\n",
       "Total params: 30,154\n",
       "Trainable params: 30,154\n",
       "Non-trainable params: 0\n",
       "Total mult-adds (Units.MEGABYTES): 53.63\n",
       "==========================================================================================\n",
       "Input size (MB): 0.20\n",
       "Forward/backward pass size (MB): 6.16\n",
       "Params size (MB): 0.12\n",
       "Estimated Total Size (MB): 6.49\n",
       "=========================================================================================="
      ]
     },
     "execution_count": null,
     "metadata": {},
     "output_type": "execute_result"
    }
   ],
   "source": [
    "#| notest\n",
    "device = get_device()\n",
    "print(device)\n",
    "cfg = OmegaConf.load('../config/model/image/convnet.yaml')\n",
    "# print(cfg.defaults)\n",
    "# convnet = instantiate(cfg.defaults)\n",
    "print(cfg.baseline)\n",
    "convnet = instantiate(cfg.baseline)\n",
    "model = convnet.to(device)\n",
    "\n",
    "summary(model, input_size=(B, C, H, W), depth=4)"
   ]
  },
  {
   "cell_type": "markdown",
   "metadata": {},
   "source": [
    "#### LR finder"
   ]
  },
  {
   "cell_type": "code",
   "execution_count": null,
   "metadata": {},
   "outputs": [
    {
     "name": "stdout",
     "output_type": "stream",
     "text": [
      "=================================================================\n",
      "Layer (type:depth-idx)                   Param #\n",
      "=================================================================\n",
      "ConvNet                                  --\n",
      "├─Sequential: 1-1                        --\n",
      "│    └─ConvLayer: 2-1                    --\n",
      "│    │    └─Sequential: 3-1              --\n",
      "│    │    │    └─Conv2d: 4-1             72\n",
      "│    │    │    └─BatchNorm2d: 4-2        16\n",
      "│    │    │    └─ReLU: 4-3               --\n",
      "│    └─ConvLayer: 2-2                    --\n",
      "│    │    └─Sequential: 3-2              --\n",
      "│    │    │    └─Conv2d: 4-4             1,152\n",
      "│    │    │    └─BatchNorm2d: 4-5        32\n",
      "│    │    │    └─ReLU: 4-6               --\n",
      "│    └─ConvLayer: 2-3                    --\n",
      "│    │    └─Sequential: 3-3              --\n",
      "│    │    │    └─Conv2d: 4-7             4,608\n",
      "│    │    │    └─BatchNorm2d: 4-8        64\n",
      "│    │    │    └─ReLU: 4-9               --\n",
      "│    └─ConvLayer: 2-4                    --\n",
      "│    │    └─Sequential: 3-4              --\n",
      "│    │    │    └─Conv2d: 4-10            18,432\n",
      "│    │    │    └─BatchNorm2d: 4-11       128\n",
      "│    │    │    └─ReLU: 4-12              --\n",
      "│    └─ConvLayer: 2-5                    --\n",
      "│    │    └─Sequential: 3-5              --\n",
      "│    │    │    └─Conv2d: 4-13            73,728\n",
      "│    │    │    └─BatchNorm2d: 4-14       256\n",
      "│    │    │    └─ReLU: 4-15              --\n",
      "│    └─ConvLayer: 2-6                    --\n",
      "│    │    └─Sequential: 3-6              --\n",
      "│    │    │    └─Conv2d: 4-16            11,530\n",
      "│    └─Flatten: 2-7                      --\n",
      "=================================================================\n",
      "Total params: 110,018\n",
      "Trainable params: 110,018\n",
      "Non-trainable params: 0\n",
      "=================================================================\n"
     ]
    },
    {
     "data": {
      "application/vnd.jupyter.widget-view+json": {
       "model_id": "fc70a3a60d7f4ce288aa2e5958fa105c",
       "version_major": 2,
       "version_minor": 0
      },
      "text/plain": [
       "  0%|          | 0/100 [00:00<?, ?it/s]"
      ]
     },
     "metadata": {},
     "output_type": "display_data"
    },
    {
     "name": "stdout",
     "output_type": "stream",
     "text": [
      "Stopping early, the loss has diverged\n",
      "Learning rate search finished. See the graph with {finder_name}.plot()\n",
      "LR suggestion: steepest gradient\n",
      "Suggested LR: 2.01E-03\n"
     ]
    },
    {
     "data": {
      "image/png": "[encoded data removed]",
      "text/plain": [
       "<Figure size 640x480 with 1 Axes>"
      ]
     },
     "metadata": {},
     "output_type": "display_data"
    },
    {
     "name": "stdout",
     "output_type": "stream",
     "text": [
      "Suggested lr: 0.0020092330025650463\n"
     ]
    }
   ],
   "source": [
    "#| notest\n",
    "\n",
    "cfg = OmegaConf.load('../config/model/image/convnet.yaml')\n",
    "model = instantiate(cfg.batchnorm)\n",
    "print(summary(model, depth=4))\n",
    "\n",
    "\n",
    "criterion = nn.CrossEntropyLoss()    \n",
    "optimizer = torch.optim.Adam(model.parameters(), lr=1e-4) #, weight_decay=1e-5)\n",
    "    \n",
    "# Initialize LR Finder\n",
    "lr_finder = LRFinder(model, optimizer, criterion, device=device)\n",
    "    \n",
    "# Run LR range test\n",
    "lr_finder.range_test(\n",
    "    datamodule.train_dataloader(),\n",
    "    start_lr=1e-5,      # Extremely small starting learning rate\n",
    "    end_lr=10,          # Large ending learning rate\n",
    "    num_iter=100,   # Number of iterations to test\n",
    "    smooth_f=0.05,   # Smoothing factor for the loss\n",
    "    diverge_th=5, \n",
    ")\n",
    "    \n",
    "# Plot the learning rate vs loss\n",
    "_, lr_found = lr_finder.plot(log_lr=True)\n",
    "print('Suggested lr:', lr_found)\n",
    "    \n",
    "lr_finder.reset()\n",
    "    \n",
    "\n",
    "    "
   ]
  },
  {
   "cell_type": "markdown",
   "metadata": {},
   "source": [
    "#### 1-cycle warm-up"
   ]
  },
  {
   "cell_type": "code",
   "execution_count": null,
   "metadata": {},
   "outputs": [
    {
     "name": "stderr",
     "output_type": "stream",
     "text": [
      "[16:29:48] INFO - Init ImageDataModule for fashion_mnist\n",
      "[16:30:04] INFO - split train into train/val [0.8, 0.2]\n",
      "[16:30:04] INFO - train: 48000 val: 12000, test: 10000\n"
     ]
    },
    {
     "name": "stdout",
     "output_type": "stream",
     "text": [
      "mps\n",
      "size training set: 48000, bs: 512, steps/epoch: 93, total steps: 465\n",
      "CPU times: user 11 μs, sys: 10 μs, total: 21 μs\n",
      "Wall time: 18.1 μs\n",
      "Loss 2.3832, Current LR: 0.0002011559, Step: 1/465\n",
      "Epoch 1: Last training Loss 0.4105, Last Eval loss 0.4326 Accuracy = 85.33% Best Accuracy: 86.72\n",
      "Loss 0.3708, Current LR: 0.0016036633, Step: 95/465\n",
      "Epoch 2: Last training Loss 0.3737, Last Eval loss 0.3913 Accuracy = 87.25% Best Accuracy: 87.57\n",
      "Loss 0.2839, Current LR: 0.0018922476, Step: 189/465\n",
      "Epoch 3: Last training Loss 0.2233, Last Eval loss 0.3457 Accuracy = 88.69% Best Accuracy: 89.19\n",
      "Loss 0.2381, Current LR: 0.0011806659, Step: 283/465\n",
      "Epoch 4: Last training Loss 0.2400, Last Eval loss 0.2780 Accuracy = 90.60% Best Accuracy: 90.92\n",
      "Loss 0.1466, Current LR: 0.0003338560, Step: 377/465\n",
      "Reached total steps: 465/465\n",
      "Epoch 5: Last training Loss 0.1725, Last Eval loss 0.2706 Accuracy = 90.88% Best Accuracy: 90.95\n"
     ]
    },
    {
     "data": {
      "text/plain": [
       "[<matplotlib.lines.Line2D>]"
      ]
     },
     "execution_count": null,
     "metadata": {},
     "output_type": "execute_result"
    },
    {
     "data": {
      "image/png": "[encoded data removed]",
      "text/plain": [
       "<Figure size 640x480 with 2 Axes>"
      ]
     },
     "metadata": {},
     "output_type": "display_data"
    }
   ],
   "source": [
    "#| notest\n",
    "\n",
    "# data module config\n",
    "cfg_dm = OmegaConf.load('../config/data/image/fashion_mnist.yaml')\n",
    "cfg_dm.batch_size = 512\n",
    "datamodule = instantiate(cfg_dm)\n",
    "datamodule.prepare_data()\n",
    "datamodule.setup()\n",
    "\n",
    "# device = 'cpu'\n",
    "print(device)\n",
    "cfg_mdl = OmegaConf.load('../config/model/image/convnet.yaml')\n",
    "convnet = instantiate(cfg_mdl.batchnorm)\n",
    "model = convnet.to(device)\n",
    "\n",
    "N_EPOCHS = 5\n",
    "\n",
    "# lr_found = 7e-3 # from lr finder\n",
    "\n",
    "criterion = nn.CrossEntropyLoss()\n",
    "optimizer = torch.optim.Adam(model.parameters(), lr=1e-4)\n",
    "steps_per_epoch = len(datamodule.train_ds) // cfg_dm.batch_size\n",
    "total_steps = steps_per_epoch* N_EPOCHS\n",
    "print(f\"size training set: {len(datamodule.train_ds)}, bs: {cfg_dm.batch_size}, steps/epoch: {steps_per_epoch}, total steps: {total_steps}\")\n",
    "# scheduler = torch.optim.lr_scheduler.OneCycleLR(optimizer, max_lr=0.01, steps_per_epoch=steps_per_epochs, epochs=1)\n",
    "\n",
    "scheduler = torch.optim.lr_scheduler.OneCycleLR(\n",
    "        optimizer,\n",
    "        max_lr=lr_found,  # Peak learning rate\n",
    "        # total_steps=len(datamodule.train_ds) * N_EPOCHS,  # Total training iterations\n",
    "        steps_per_epoch=steps_per_epoch,\n",
    "        epochs=N_EPOCHS,\n",
    "        pct_start=0.3,  # 30% of training increasing LR, 70% decreasing\n",
    "        anneal_strategy='cos',  # Cosine annealing\n",
    "        div_factor=10,  # Initial lr = max_lr / div_factor\n",
    "        # final_div_factor=1e4,\n",
    "        three_phase=False  # Two phase LR schedule (increase then decrease)\n",
    "    )\n",
    "\n",
    "################################\n",
    "%time\n",
    "\n",
    "lrs = []\n",
    "current_step = 0\n",
    "train_loss_history = []\n",
    "eval_loss_history = []\n",
    "avg_train_loss_hist = []\n",
    "avg_eval_loss_hist = []\n",
    "max_acc = 0\n",
    "\n",
    "for epoch in range(N_EPOCHS):\n",
    "    i = 0\n",
    "    model.train()\n",
    "    for images, labels in datamodule.train_dataloader():\n",
    "        if current_step >= total_steps:\n",
    "            print(f\"Reached total steps: {current_step}/{total_steps}\")\n",
    "            break\n",
    "        optimizer.zero_grad()\n",
    "        images, labels = images.to(device), labels.to(device)\n",
    "        outputs = model(images)\n",
    "        loss = criterion(outputs, labels)        \n",
    "        loss.backward()\n",
    "        optimizer.step()\n",
    "        scheduler.step()    \n",
    "        current_step += 1\n",
    "        train_loss_history.append(loss.item())\n",
    "        # current_lr = scheduler.get_last_lr()[0]\n",
    "        current_lr = optimizer.param_groups[0]['lr']\n",
    "        lrs.append(current_lr)\n",
    "        if not (i % 100):\n",
    "            print(f\"Loss {loss.item():.4f}, Current LR: {current_lr:.10f}, Step: {current_step}/{total_steps}\")\n",
    "        i += 1\n",
    "\n",
    "    model.eval()\n",
    "    with torch.no_grad():\n",
    "        correct = 0\n",
    "        total = 0\n",
    "        for images, labels in datamodule.val_dataloader():\n",
    "            # model expects input (B,H*W)\n",
    "            images = images.to(device)\n",
    "            labels = labels.to(device)\n",
    "            # Pass the input through the model\n",
    "            outputs = model(images)\n",
    "            # eval loss\n",
    "            eval_loss = criterion(outputs, labels)\n",
    "            eval_loss_history.append(eval_loss.item())\n",
    "            # Get the predicted labels\n",
    "            _, predicted = torch.max(outputs.data, 1)\n",
    "\n",
    "            # Update the total and correct counts\n",
    "            total += labels.size(0)\n",
    "            correct += (predicted == labels).sum()\n",
    "            acc = 100 * correct / total\n",
    "            if acc > max_acc:\n",
    "                max_acc = acc\n",
    "\n",
    "        # Print the accuracy\n",
    "    print(f\"Epoch {epoch + 1}: Last training Loss {loss.item():.4f}, Last Eval loss {eval_loss.item():.4f} Accuracy = {100 * correct / total:.2f}% Best Accuracy: {max_acc:.2f}\")\n",
    "    # print(f'Current LR: {optimizer.param_groups[0][\"lr\"]:.5f}')\n",
    "\n",
    "###################\n",
    "plt.figure(1)\n",
    "plt.subplot(211)\n",
    "plt.ylabel('loss')\n",
    "plt.xlabel('step')\n",
    "plt.plot(train_loss_history)\n",
    "plt.plot(eval_loss_history)\n",
    "plt.subplot(212)\n",
    "plt.ylabel('lr')\n",
    "plt.xlabel('step')\n",
    "plt.plot(lrs)\n",
    "\n"
   ]
  },
  {
   "cell_type": "markdown",
   "metadata": {},
   "source": [
    "## ConvNetX"
   ]
  },
  {
   "cell_type": "code",
   "execution_count": null,
   "metadata": {},
   "outputs": [],
   "source": [
    "#| export\n",
    "\n",
    "class ConvNetX(Classifier, LightningModule):\n",
    "    def __init__(\n",
    "            self,\n",
    "            nnet:ConvNet,\n",
    "            num_classes:int,\n",
    "            optimizer:torch.optim.Optimizer,\n",
    "            scheduler:torch.optim.lr_scheduler,\n",
    "            ):\n",
    "        logger.info(\"ConvNetX: init\")\n",
    "        super().__init__(num_classes, optimizer, scheduler)\n",
    "        self.register_module('nnet', nnet)\n",
    "        # self.save_hyperparameters(logger=False, ignore=['nnet']) # by default saved since input of __init__\n",
    "        self.save_hyperparameters(logger=False)\n",
    "        self.lr = optimizer.keywords['lr'] # for lr finder\n",
    "        self.nnet = nnet\n",
    "\n",
    "    def forward(self, x:torch.Tensor)->torch.Tensor:\n",
    "        return self.nnet(x)\n",
    "    \n",
    "    def _step(self, batch, batch_idx):\n",
    "        x, y = batch\n",
    "        y_hat = self.forward(x)\n",
    "        loss = self.loss(y_hat, y)\n",
    "        preds = y_hat.argmax(dim=1)\n",
    "        return loss, preds, y\n",
    "    \n",
    "    def predict_step(self, batch, batch_idx, dataloader_idx=0):\n",
    "        x, y = batch\n",
    "        y_hat = self.forward(x)\n",
    "        return y_hat.argmax(dim=1)"
   ]
  },
  {
   "cell_type": "markdown",
   "metadata": {},
   "source": [
    "### Usage"
   ]
  },
  {
   "cell_type": "code",
   "execution_count": null,
   "metadata": {},
   "outputs": [
    {
     "name": "stderr",
     "output_type": "stream",
     "text": [
      "[16:31:30] INFO - ConvNetX: init\n",
      "[16:31:30] INFO - Classifier: init\n"
     ]
    }
   ],
   "source": [
    "cfg = OmegaConf.load('../config/model/image/convnetx.yaml')\n",
    "model = instantiate(cfg)"
   ]
  },
  {
   "cell_type": "code",
   "execution_count": null,
   "metadata": {},
   "outputs": [
    {
     "name": "stdout",
     "output_type": "stream",
     "text": [
      "torch.Size([64, 40])\n"
     ]
    }
   ],
   "source": [
    "B, C, H, W = 64, 1, 28, 28\n",
    "X = torch.rand(B, C, H, W)\n",
    "X.shape\n",
    "print(model(X).shape)"
   ]
  },
  {
   "cell_type": "code",
   "execution_count": null,
   "metadata": {},
   "outputs": [
    {
     "data": {
      "text/plain": [
       "===============================================================================================\n",
       "Layer (type:depth-idx)                        Output Shape              Param #\n",
       "===============================================================================================\n",
       "ConvNetX                                      [64, 40]                  --\n",
       "├─ConvNet: 1-1                                [64, 40]                  --\n",
       "│    └─Sequential: 2-1                        [64, 40]                  --\n",
       "│    │    └─ConvLayer: 3-1                    [64, 8, 28, 28]           --\n",
       "│    │    │    └─Sequential: 4-1              [64, 8, 28, 28]           --\n",
       "│    │    │    │    └─Conv2d: 5-1             [64, 8, 28, 28]           72\n",
       "│    │    │    │    └─BatchNorm2d: 5-2        [64, 8, 28, 28]           16\n",
       "│    │    │    │    └─ReLU: 5-3               [64, 8, 28, 28]           --\n",
       "│    │    └─ConvLayer: 3-2                    [64, 16, 14, 14]          --\n",
       "│    │    │    └─Sequential: 4-2              [64, 16, 14, 14]          --\n",
       "│    │    │    │    └─Conv2d: 5-4             [64, 16, 14, 14]          1,152\n",
       "│    │    │    │    └─BatchNorm2d: 5-5        [64, 16, 14, 14]          32\n",
       "│    │    │    │    └─ReLU: 5-6               [64, 16, 14, 14]          --\n",
       "│    │    └─ConvLayer: 3-3                    [64, 32, 7, 7]            --\n",
       "│    │    │    └─Sequential: 4-3              [64, 32, 7, 7]            --\n",
       "│    │    │    │    └─Conv2d: 5-7             [64, 32, 7, 7]            4,608\n",
       "│    │    │    │    └─BatchNorm2d: 5-8        [64, 32, 7, 7]            64\n",
       "│    │    │    │    └─ReLU: 5-9               [64, 32, 7, 7]            --\n",
       "│    │    └─ConvLayer: 3-4                    [64, 64, 4, 4]            --\n",
       "│    │    │    └─Sequential: 4-4              [64, 64, 4, 4]            --\n",
       "│    │    │    │    └─Conv2d: 5-10            [64, 64, 4, 4]            18,432\n",
       "│    │    │    │    └─BatchNorm2d: 5-11       [64, 64, 4, 4]            128\n",
       "│    │    │    │    └─ReLU: 5-12              [64, 64, 4, 4]            --\n",
       "│    │    └─ConvLayer: 3-5                    [64, 10, 2, 2]            --\n",
       "│    │    │    └─Sequential: 4-5              [64, 10, 2, 2]            --\n",
       "│    │    │    │    └─Conv2d: 5-13            [64, 10, 2, 2]            5,770\n",
       "│    │    └─Flatten: 3-6                      [64, 40]                  --\n",
       "===============================================================================================\n",
       "Total params: 30,274\n",
       "Trainable params: 30,274\n",
       "Non-trainable params: 0\n",
       "Total mult-adds (Units.MEGABYTES): 52.88\n",
       "===============================================================================================\n",
       "Input size (MB): 0.20\n",
       "Forward/backward pass size (MB): 12.31\n",
       "Params size (MB): 0.12\n",
       "Estimated Total Size (MB): 12.63\n",
       "==============================================================================================="
      ]
     },
     "execution_count": null,
     "metadata": {},
     "output_type": "execute_result"
    }
   ],
   "source": [
    "summary(model, input_size=(B, C, H, W), depth=5)"
   ]
  },
  {
   "cell_type": "markdown",
   "metadata": {},
   "source": [
    "### Nimrod training"
   ]
  },
  {
   "cell_type": "code",
   "execution_count": null,
   "metadata": {},
   "outputs": [
    {
     "name": "stderr",
     "output_type": "stream",
     "text": [
      "Seed set to 42\n",
      "[16:42:17] INFO - Init ImageDataModule for fashion_mnist\n",
      "[16:42:36] INFO - split train into train/val [0.8, 0.2]\n",
      "[16:42:36] INFO - train: 48000 val: 12000, test: 10000\n",
      "[16:42:36] INFO - ConvNetX: init\n",
      "[16:42:36] INFO - Classifier: init\n"
     ]
    }
   ],
   "source": [
    "#| notest\n",
    "\n",
    "N_EPOCHS = 5\n",
    "\n",
    "# data module config\n",
    "cfg = OmegaConf.load('../config/data/image/fashion_mnist.yaml')\n",
    "cfg.batch_size = 512\n",
    "cfg.num_workers = 0\n",
    "datamodule = instantiate(cfg)\n",
    "datamodule.prepare_data()\n",
    "datamodule.setup()\n",
    "\n"
   ]
  },
  {
   "cell_type": "code",
   "execution_count": null,
   "metadata": {},
   "outputs": [
    {
     "name": "stderr",
     "output_type": "stream",
     "text": [
      "[16:50:34] INFO - ConvNetX: init\n",
      "[16:50:34] INFO - Classifier: init\n"
     ]
    }
   ],
   "source": [
    "#| notest\n",
    "# model config\n",
    "cfg = OmegaConf.load('../config/model/image/convnetx.yaml')\n",
    "# with 1-cycle sched\n",
    "cfg.nnet.n_features = [1, 8, 16, 32, 64, 128]\n",
    "cfg.scheduler.total_steps = len(datamodule.train_ds) * N_EPOCHS\n",
    "model = instantiate(cfg)"
   ]
  },
  {
   "cell_type": "code",
   "execution_count": null,
   "metadata": {},
   "outputs": [
    {
     "name": "stderr",
     "output_type": "stream",
     "text": [
      "GPU available: True (mps), used: True\n",
      "TPU available: False, using: 0 TPU cores\n",
      "HPU available: False, using: 0 HPUs\n"
     ]
    }
   ],
   "source": [
    "#| notest\n",
    "\n",
    "trainer = Trainer(\n",
    "    accelerator=\"auto\",\n",
    "    max_epochs=N_EPOCHS,\n",
    "    logger=TensorBoardLogger(\"tb_logs\", name=\"fashion_mnist_convnet\", default_hp_metric=True),\n",
    "    # logger=CSVLogger(\"logs\", name=\"mnist_convnet\"),\n",
    "    callbacks = [LearningRateMonitor(logging_interval=\"step\")],\n",
    "    check_val_every_n_epoch=1,\n",
    "    log_every_n_steps=1\n",
    "    )\n"
   ]
  },
  {
   "cell_type": "markdown",
   "metadata": {},
   "source": [
    "#### LR finder"
   ]
  },
  {
   "cell_type": "code",
   "execution_count": null,
   "metadata": {},
   "outputs": [
    {
     "name": "stderr",
     "output_type": "stream",
     "text": [
      "[16:51:09] INFO - Optimizer: Adam (\n",
      "Parameter Group 0\n",
      "    amsgrad: False\n",
      "    betas: (0.9, 0.999)\n",
      "    capturable: False\n",
      "    differentiable: False\n",
      "    eps: 1e-08\n",
      "    foreach: None\n",
      "    fused: None\n",
      "    lr: 0.0001\n",
      "    maximize: False\n",
      "    weight_decay: 0\n",
      ")\n",
      "[16:51:09] INFO - Scheduler: <torch.optim.lr_scheduler.OneCycleLR object>\n",
      "/Users/slegroux/miniforge3/envs/nimrod/lib/python3.11/site-packages/lightning/pytorch/trainer/connectors/data_connector.py:424: The 'train_dataloader' does not have many workers which may be a bottleneck. Consider increasing the value of the `num_workers` argument` to `num_workers=11` in the `DataLoader` to improve performance.\n",
      "/Users/slegroux/miniforge3/envs/nimrod/lib/python3.11/site-packages/lightning/pytorch/trainer/connectors/data_connector.py:424: The 'val_dataloader' does not have many workers which may be a bottleneck. Consider increasing the value of the `num_workers` argument` to `num_workers=11` in the `DataLoader` to improve performance.\n"
     ]
    },
    {
     "data": {
      "application/vnd.jupyter.widget-view+json": {
       "model_id": "d13de47d1b5d44d38257a1407f09ec8b",
       "version_major": 2,
       "version_minor": 0
      },
      "text/plain": [
       "Finding best initial lr:   0%|          | 0/100 [00:00<?, ?it/s]"
      ]
     },
     "metadata": {},
     "output_type": "display_data"
    },
    {
     "name": "stderr",
     "output_type": "stream",
     "text": [
      "`Trainer.fit` stopped: `max_steps=100` reached.\n",
      "Learning rate set to 0.0013182567385564075\n",
      "Restoring states from the checkpoint path at /Users/slegroux/Projects/nimrod/nbs/.lr_find_dc63a8bf-613b-4964-84cc-5c10cc786b91.ckpt\n",
      "Restored all states from the checkpoint at /Users/slegroux/Projects/nimrod/nbs/.lr_find_dc63a8bf-613b-4964-84cc-5c10cc786b91.ckpt\n"
     ]
    },
    {
     "data": {
      "image/png": "[encoded data removed]",
      "text/plain": [
       "<Figure size 640x480 with 1 Axes>"
      ]
     },
     "metadata": {},
     "output_type": "display_data"
    },
    {
     "name": "stdout",
     "output_type": "stream",
     "text": [
      "Suggested learning rate: 0.0013182567385564075\n"
     ]
    }
   ],
   "source": [
    "#| notest\n",
    "\n",
    "tuner = Tuner(trainer)\n",
    "lr_finder = tuner.lr_find(\n",
    "    model,\n",
    "    datamodule=datamodule,\n",
    "    min_lr=1e-6,\n",
    "    max_lr=1.0,\n",
    "    num_training=100,  # number of iterations\n",
    "    # attr_name=\"optimizer.lr\",\n",
    ")\n",
    "fig = lr_finder.plot(suggest=True)\n",
    "plt.show()\n",
    "print(f\"Suggested learning rate: {lr_finder.suggestion()}\")"
   ]
  },
  {
   "cell_type": "code",
   "execution_count": null,
   "metadata": {},
   "outputs": [
    {
     "name": "stdout",
     "output_type": "stream",
     "text": [
      "10 48000 512\n",
      "280000\n",
      "136.71875\n",
      "136\n"
     ]
    }
   ],
   "source": [
    "#| notest\n",
    "print(trainer.max_epochs, len(datamodule.train_ds), datamodule.hparams.batch_size)\n",
    "print(5*56000)\n",
    "print(5*56000/2048)\n",
    "print(5*56000//2048)"
   ]
  },
  {
   "cell_type": "markdown",
   "metadata": {},
   "source": [
    "#### 1-cycle scheduling"
   ]
  },
  {
   "cell_type": "code",
   "execution_count": null,
   "metadata": {},
   "outputs": [
    {
     "name": "stderr",
     "output_type": "stream",
     "text": [
      "[17:29:56] INFO - Init ImageDataModule for mnist\n",
      "[17:30:11] INFO - split train into train/val [0.8, 0.2]\n",
      "[17:30:11] INFO - train: 48000 val: 12000, test: 10000\n",
      "GPU available: True (mps), used: True\n",
      "TPU available: False, using: 0 TPU cores\n",
      "HPU available: False, using: 0 HPUs\n",
      "Loading `train_dataloader` to estimate number of stepping batches.\n",
      "[17:30:11] INFO - ConvNetX: init\n",
      "[17:30:11] INFO - Classifier: init\n",
      "/Users/slegroux/miniforge3/envs/nimrod/lib/python3.11/site-packages/lightning/pytorch/callbacks/model_checkpoint.py:654: Checkpoint directory /Users/slegroux/Projects/nimrod/nbs/checkpoints exists and is not empty.\n",
      "[17:30:11] INFO - Optimizer: AdamW (\n",
      "Parameter Group 0\n",
      "    amsgrad: False\n",
      "    betas: (0.9, 0.999)\n",
      "    capturable: False\n",
      "    differentiable: False\n",
      "    eps: 1e-08\n",
      "    foreach: None\n",
      "    fused: None\n",
      "    lr: 0.0001\n",
      "    maximize: False\n",
      "    weight_decay: 1e-05\n",
      ")\n",
      "[17:30:11] INFO - Scheduler: <torch.optim.lr_scheduler.OneCycleLR object>\n",
      "\n",
      "  | Name         | Type               | Params | Mode \n",
      "------------------------------------------------------------\n",
      "0 | loss         | CrossEntropyLoss   | 0      | train\n",
      "1 | train_acc    | MulticlassAccuracy | 0      | train\n",
      "2 | val_acc      | MulticlassAccuracy | 0      | train\n",
      "3 | test_acc     | MulticlassAccuracy | 0      | train\n",
      "4 | train_loss   | MeanMetric         | 0      | train\n",
      "5 | val_loss     | MeanMetric         | 0      | train\n",
      "6 | test_loss    | MeanMetric         | 0      | train\n",
      "7 | val_acc_best | MaxMetric          | 0      | train\n",
      "8 | nnet         | ConvNet            | 110 K  | train\n",
      "------------------------------------------------------------\n",
      "110 K     Trainable params\n",
      "0         Non-trainable params\n",
      "110 K     Total params\n",
      "0.440     Total estimated model params size (MB)\n",
      "39        Modules in train mode\n",
      "0         Modules in eval mode\n"
     ]
    },
    {
     "name": "stdout",
     "output_type": "stream",
     "text": [
      "estimated steps:  -1 accumulate_grad_batches:  1\n",
      "LR:  0.0001\n"
     ]
    },
    {
     "data": {
      "application/vnd.jupyter.widget-view+json": {
       "model_id": "9e4e6e4297ff430da6c788d435d44c80",
       "version_major": 2,
       "version_minor": 0
      },
      "text/plain": [
       "Sanity Checking: |          | 0/? [00:00<?, ?it/s]"
      ]
     },
     "metadata": {},
     "output_type": "display_data"
    },
    {
     "name": "stderr",
     "output_type": "stream",
     "text": [
      "/Users/slegroux/miniforge3/envs/nimrod/lib/python3.11/site-packages/lightning/pytorch/trainer/connectors/data_connector.py:424: The 'val_dataloader' does not have many workers which may be a bottleneck. Consider increasing the value of the `num_workers` argument` to `num_workers=11` in the `DataLoader` to improve performance.\n",
      "/Users/slegroux/miniforge3/envs/nimrod/lib/python3.11/site-packages/lightning/pytorch/trainer/connectors/data_connector.py:424: The 'train_dataloader' does not have many workers which may be a bottleneck. Consider increasing the value of the `num_workers` argument` to `num_workers=11` in the `DataLoader` to improve performance.\n"
     ]
    },
    {
     "data": {
      "application/vnd.jupyter.widget-view+json": {
       "model_id": "3000a083d5ca4f03944c45d99cfedfe1",
       "version_major": 2,
       "version_minor": 0
      },
      "text/plain": [
       "Training: |          | 0/? [00:00<?, ?it/s]"
      ]
     },
     "metadata": {},
     "output_type": "display_data"
    },
    {
     "data": {
      "application/vnd.jupyter.widget-view+json": {
       "model_id": "df1fb15303bd45678e241f0889a3e8cf",
       "version_major": 2,
       "version_minor": 0
      },
      "text/plain": [
       "Validation: |          | 0/? [00:00<?, ?it/s]"
      ]
     },
     "metadata": {},
     "output_type": "display_data"
    },
    {
     "data": {
      "application/vnd.jupyter.widget-view+json": {
       "model_id": "4da99632db21477bbc3d170b4ffb57e1",
       "version_major": 2,
       "version_minor": 0
      },
      "text/plain": [
       "Validation: |          | 0/? [00:00<?, ?it/s]"
      ]
     },
     "metadata": {},
     "output_type": "display_data"
    },
    {
     "data": {
      "application/vnd.jupyter.widget-view+json": {
       "model_id": "eba8e38e96434497b125a651662162d9",
       "version_major": 2,
       "version_minor": 0
      },
      "text/plain": [
       "Validation: |          | 0/? [00:00<?, ?it/s]"
      ]
     },
     "metadata": {},
     "output_type": "display_data"
    },
    {
     "name": "stderr",
     "output_type": "stream",
     "text": [
      "`Trainer.fit` stopped: `max_epochs=3` reached.\n"
     ]
    },
    {
     "data": {
      "image/png": "[encoded data removed]",
      "text/plain": [
       "<Figure size 640x480 with 1 Axes>"
      ]
     },
     "metadata": {},
     "output_type": "display_data"
    },
    {
     "data": {
      "image/png": "[encoded data removed]",
      "text/plain": [
       "<Figure size 640x480 with 1 Axes>"
      ]
     },
     "metadata": {},
     "output_type": "display_data"
    }
   ],
   "source": [
    "#| notest\n",
    "\n",
    "N_EPOCHS = 3\n",
    "lr_found = lr_finder.suggestion()\n",
    "\n",
    "# DATA\n",
    "cfg = OmegaConf.load('../config/data/image/mnist.yaml')\n",
    "cfg.batch_size = 512\n",
    "cfg.num_workers = 0\n",
    "datamodule = instantiate(cfg)\n",
    "datamodule.prepare_data()\n",
    "datamodule.setup()\n",
    "\n",
    "checkpoint_callback = ModelCheckpoint(\n",
    "    monitor='val/loss',  # Metric to monitor\n",
    "    dirpath='checkpoints/',  # Directory to save checkpoints\n",
    "    filename='epoch{epoch:02d}-val_loss{val/loss:.2f}',\n",
    "    auto_insert_metric_name=False,\n",
    "    save_top_k=1,  # Save only the best checkpoint\n",
    "    mode='min'  # Mode can be 'min' or 'max' depending on the metric\n",
    ")\n",
    "\n",
    "# TRAINER \n",
    "trainer = Trainer(\n",
    "    accelerator=\"auto\",\n",
    "    max_epochs=N_EPOCHS,\n",
    "    # logger=TensorBoardLogger(\"tb_logs\", name=\"mnist_convnet\", default_hp_metric=True),\n",
    "    logger=CSVLogger(\"logs\", name=\"fashion_mnist_convnet\"),\n",
    "    callbacks = [LearningRateMonitor(logging_interval=\"step\"), checkpoint_callback],\n",
    "    check_val_every_n_epoch=1,\n",
    "    log_every_n_steps=1\n",
    "    )\n",
    "\n",
    "print(\"estimated steps: \", trainer.estimated_stepping_batches, \"accumulate_grad_batches: \", trainer.accumulate_grad_batches)\n",
    "\n",
    "# MODEL\n",
    "model_cfg = OmegaConf.load('../config/model/image/convnetx.yaml')\n",
    "model_cfg.scheduler.total_steps = trainer.max_epochs * len(datamodule.train_dataloader())\n",
    "model_cfg.scheduler.max_lr = lr_found#lr_finder.suggestion()\n",
    "\n",
    "model = instantiate(model_cfg)\n",
    "\n",
    "print(\"LR: \",model.lr)\n",
    "trainer.fit(model, datamodule.train_dataloader(), datamodule.val_dataloader())\n",
    "\n",
    "########################\n",
    "csv_path = f\"{trainer.logger.log_dir}/metrics.csv\"\n",
    "metrics = pd.read_csv(csv_path)\n",
    "metrics.head()\n",
    "\n",
    "##########################\n",
    "plt.figure()\n",
    "plt.plot(metrics['step'], metrics['train/loss_step'], 'b.-')\n",
    "plt.plot(metrics['step'], metrics['val/loss'],'r.-')\n",
    "plt.figure()\n",
    "plt.plot(metrics['step'], metrics['lr-AdamW'], 'g.-')\n",
    "plt.show()"
   ]
  },
  {
   "cell_type": "code",
   "execution_count": null,
   "metadata": {},
   "outputs": [
    {
     "name": "stderr",
     "output_type": "stream",
     "text": [
      "Restoring states from the checkpoint path at /Users/slegroux/Projects/nimrod/nbs/checkpoints/epoch02-val_loss0.06.ckpt\n",
      "Loaded model weights from the checkpoint at /Users/slegroux/Projects/nimrod/nbs/checkpoints/epoch02-val_loss0.06.ckpt\n",
      "/Users/slegroux/miniforge3/envs/nimrod/lib/python3.11/site-packages/lightning/pytorch/trainer/connectors/data_connector.py:424: The 'test_dataloader' does not have many workers which may be a bottleneck. Consider increasing the value of the `num_workers` argument` to `num_workers=11` in the `DataLoader` to improve performance.\n"
     ]
    },
    {
     "data": {
      "application/vnd.jupyter.widget-view+json": {
       "model_id": "0c5f67af5dbe4323bbc7366f26338e2f",
       "version_major": 2,
       "version_minor": 0
      },
      "text/plain": [
       "Testing: |          | 0/? [00:00<?, ?it/s]"
      ]
     },
     "metadata": {},
     "output_type": "display_data"
    },
    {
     "data": {
      "text/html": [
       "<pre style=\"white-space:pre;overflow-x:auto;line-height:normal;font-family:Menlo,'DejaVu Sans Mono',consolas,'Courier New',monospace\">┏━━━━━━━━━━━━━━━━━━━━━━━━━━━┳━━━━━━━━━━━━━━━━━━━━━━━━━━━┓\n",
       "┃<span style=\"font-weight: bold\">        Test metric        </span>┃<span style=\"font-weight: bold\">       DataLoader 0        </span>┃\n",
       "┡━━━━━━━━━━━━━━━━━━━━━━━━━━━╇━━━━━━━━━━━━━━━━━━━━━━━━━━━┩\n",
       "│<span style=\"color: #008080; text-decoration-color: #008080\">         test/acc          </span>│<span style=\"color: #800080; text-decoration-color: #800080\">     0.98580002784729      </span>│\n",
       "│<span style=\"color: #008080; text-decoration-color: #008080\">         test/loss         </span>│<span style=\"color: #800080; text-decoration-color: #800080\">   0.046147074550390244    </span>│\n",
       "└───────────────────────────┴───────────────────────────┘\n",
       "</pre>\n"
      ],
      "text/plain": [
       "┏━━━━━━━━━━━━━━━━━━━━━━━━━━━┳━━━━━━━━━━━━━━━━━━━━━━━━━━━┓\n",
       "┃\u001b[1m \u001b[0m\u001b[1m       Test metric       \u001b[0m\u001b[1m \u001b[0m┃\u001b[1m \u001b[0m\u001b[1m      DataLoader 0       \u001b[0m\u001b[1m \u001b[0m┃\n",
       "┡━━━━━━━━━━━━━━━━━━━━━━━━━━━╇━━━━━━━━━━━━━━━━━━━━━━━━━━━┩\n",
       "│\u001b[36m \u001b[0m\u001b[36m        test/acc         \u001b[0m\u001b[36m \u001b[0m│\u001b[35m \u001b[0m\u001b[35m    0.98580002784729     \u001b[0m\u001b[35m \u001b[0m│\n",
       "│\u001b[36m \u001b[0m\u001b[36m        test/loss        \u001b[0m\u001b[36m \u001b[0m│\u001b[35m \u001b[0m\u001b[35m  0.046147074550390244   \u001b[0m\u001b[35m \u001b[0m│\n",
       "└───────────────────────────┴───────────────────────────┘\n"
      ]
     },
     "metadata": {},
     "output_type": "display_data"
    },
    {
     "data": {
      "text/plain": [
       "[{'test/loss': 0.046147074550390244, 'test/acc': 0.98580002784729}]"
      ]
     },
     "execution_count": null,
     "metadata": {},
     "output_type": "execute_result"
    }
   ],
   "source": [
    "#| notest\n",
    "trainer.test(model, datamodule.test_dataloader(), ckpt_path=\"best\")"
   ]
  },
  {
   "cell_type": "code",
   "execution_count": null,
   "metadata": {},
   "outputs": [
    {
     "name": "stdout",
     "output_type": "stream",
     "text": [
      "Best checkpoint path: /Users/slegroux/Projects/nimrod/nbs/checkpoints/epoch02-val_loss0.06.ckpt\n"
     ]
    }
   ],
   "source": [
    "#| notest\n",
    "best_checkpoint_path = checkpoint_callback.best_model_path\n",
    "print(f\"Best checkpoint path: {best_checkpoint_path}\")"
   ]
  },
  {
   "cell_type": "markdown",
   "metadata": {},
   "source": [
    "#### Resume training"
   ]
  },
  {
   "cell_type": "code",
   "execution_count": null,
   "metadata": {},
   "outputs": [
    {
     "ename": "TypeError",
     "evalue": "ConvNetX.__init__() missing 1 required positional argument: 'nnet'",
     "output_type": "error",
     "traceback": [
      "\u001b[0;31m---------------------------------------------------------------------------\u001b[0m",
      "\u001b[0;31mTypeError\u001b[0m                                 Traceback (most recent call last)",
      "Cell \u001b[0;32mIn[94], line 6\u001b[0m\n\u001b[1;32m      1\u001b[0m \u001b[38;5;66;03m#| notest\u001b[39;00m\n\u001b[1;32m      2\u001b[0m \n\u001b[1;32m      3\u001b[0m \u001b[38;5;66;03m# cfg = OmegaConf.load('../config/model/image/convnetx.yaml')\u001b[39;00m\n\u001b[1;32m      4\u001b[0m \u001b[38;5;66;03m# sched = instantiate(cfg.scheduler)\u001b[39;00m\n\u001b[1;32m      5\u001b[0m \u001b[38;5;66;03m# sched.total_steps = len(datamodule.train_ds) * N_EPOCHS\u001b[39;00m\n\u001b[0;32m----> 6\u001b[0m model \u001b[38;5;241m=\u001b[39m \u001b[43mConvNetX\u001b[49m\u001b[38;5;241;43m.\u001b[39;49m\u001b[43mload_from_checkpoint\u001b[49m\u001b[43m(\u001b[49m\u001b[43mbest_checkpoint_path\u001b[49m\u001b[43m)\u001b[49m\u001b[38;5;66;03m#, lr=0.1, scheduler=sched)\u001b[39;00m\n\u001b[1;32m      8\u001b[0m pprint(model\u001b[38;5;241m.\u001b[39mhparams)\n",
      "File \u001b[0;32m~/miniforge3/envs/nimrod/lib/python3.11/site-packages/lightning/pytorch/utilities/model_helpers.py:125\u001b[0m, in \u001b[0;36m_restricted_classmethod_impl.__get__.<locals>.wrapper\u001b[0;34m(*args, **kwargs)\u001b[0m\n\u001b[1;32m    120\u001b[0m \u001b[38;5;28;01mif\u001b[39;00m instance \u001b[38;5;129;01mis\u001b[39;00m \u001b[38;5;129;01mnot\u001b[39;00m \u001b[38;5;28;01mNone\u001b[39;00m \u001b[38;5;129;01mand\u001b[39;00m \u001b[38;5;129;01mnot\u001b[39;00m is_scripting:\n\u001b[1;32m    121\u001b[0m     \u001b[38;5;28;01mraise\u001b[39;00m \u001b[38;5;167;01mTypeError\u001b[39;00m(\n\u001b[1;32m    122\u001b[0m         \u001b[38;5;124mf\u001b[39m\u001b[38;5;124m\"\u001b[39m\u001b[38;5;124mThe classmethod `\u001b[39m\u001b[38;5;132;01m{\u001b[39;00m\u001b[38;5;28mcls\u001b[39m\u001b[38;5;241m.\u001b[39m\u001b[38;5;18m__name__\u001b[39m\u001b[38;5;132;01m}\u001b[39;00m\u001b[38;5;124m.\u001b[39m\u001b[38;5;132;01m{\u001b[39;00m\u001b[38;5;28mself\u001b[39m\u001b[38;5;241m.\u001b[39mmethod\u001b[38;5;241m.\u001b[39m\u001b[38;5;18m__name__\u001b[39m\u001b[38;5;132;01m}\u001b[39;00m\u001b[38;5;124m` cannot be called on an instance.\u001b[39m\u001b[38;5;124m\"\u001b[39m\n\u001b[1;32m    123\u001b[0m         \u001b[38;5;124m\"\u001b[39m\u001b[38;5;124m Please call it on the class type and make sure the return value is used.\u001b[39m\u001b[38;5;124m\"\u001b[39m\n\u001b[1;32m    124\u001b[0m     )\n\u001b[0;32m--> 125\u001b[0m \u001b[38;5;28;01mreturn\u001b[39;00m \u001b[38;5;28;43mself\u001b[39;49m\u001b[38;5;241;43m.\u001b[39;49m\u001b[43mmethod\u001b[49m\u001b[43m(\u001b[49m\u001b[38;5;28;43mcls\u001b[39;49m\u001b[43m,\u001b[49m\u001b[43m \u001b[49m\u001b[38;5;241;43m*\u001b[39;49m\u001b[43margs\u001b[49m\u001b[43m,\u001b[49m\u001b[43m \u001b[49m\u001b[38;5;241;43m*\u001b[39;49m\u001b[38;5;241;43m*\u001b[39;49m\u001b[43mkwargs\u001b[49m\u001b[43m)\u001b[49m\n",
      "File \u001b[0;32m~/miniforge3/envs/nimrod/lib/python3.11/site-packages/lightning/pytorch/core/module.py:1582\u001b[0m, in \u001b[0;36mLightningModule.load_from_checkpoint\u001b[0;34m(cls, checkpoint_path, map_location, hparams_file, strict, **kwargs)\u001b[0m\n\u001b[1;32m   1493\u001b[0m \u001b[38;5;129m@_restricted_classmethod\u001b[39m\n\u001b[1;32m   1494\u001b[0m \u001b[38;5;28;01mdef\u001b[39;00m \u001b[38;5;21mload_from_checkpoint\u001b[39m(\n\u001b[1;32m   1495\u001b[0m     \u001b[38;5;28mcls\u001b[39m,\n\u001b[0;32m   (...)\u001b[0m\n\u001b[1;32m   1500\u001b[0m     \u001b[38;5;241m*\u001b[39m\u001b[38;5;241m*\u001b[39mkwargs: Any,\n\u001b[1;32m   1501\u001b[0m ) \u001b[38;5;241m-\u001b[39m\u001b[38;5;241m>\u001b[39m Self:\n\u001b[1;32m   1502\u001b[0m \u001b[38;5;250m    \u001b[39m\u001b[38;5;124mr\u001b[39m\u001b[38;5;124;03m\"\"\"Primary way of loading a model from a checkpoint. When Lightning saves a checkpoint it stores the arguments\u001b[39;00m\n\u001b[1;32m   1503\u001b[0m \u001b[38;5;124;03m    passed to ``__init__``  in the checkpoint under ``\"hyper_parameters\"``.\u001b[39;00m\n\u001b[1;32m   1504\u001b[0m \n\u001b[0;32m   (...)\u001b[0m\n\u001b[1;32m   1580\u001b[0m \n\u001b[1;32m   1581\u001b[0m \u001b[38;5;124;03m    \"\"\"\u001b[39;00m\n\u001b[0;32m-> 1582\u001b[0m     loaded \u001b[38;5;241m=\u001b[39m \u001b[43m_load_from_checkpoint\u001b[49m\u001b[43m(\u001b[49m\n\u001b[1;32m   1583\u001b[0m \u001b[43m        \u001b[49m\u001b[38;5;28;43mcls\u001b[39;49m\u001b[43m,\u001b[49m\n\u001b[1;32m   1584\u001b[0m \u001b[43m        \u001b[49m\u001b[43mcheckpoint_path\u001b[49m\u001b[43m,\u001b[49m\n\u001b[1;32m   1585\u001b[0m \u001b[43m        \u001b[49m\u001b[43mmap_location\u001b[49m\u001b[43m,\u001b[49m\n\u001b[1;32m   1586\u001b[0m \u001b[43m        \u001b[49m\u001b[43mhparams_file\u001b[49m\u001b[43m,\u001b[49m\n\u001b[1;32m   1587\u001b[0m \u001b[43m        \u001b[49m\u001b[43mstrict\u001b[49m\u001b[43m,\u001b[49m\n\u001b[1;32m   1588\u001b[0m \u001b[43m        \u001b[49m\u001b[38;5;241;43m*\u001b[39;49m\u001b[38;5;241;43m*\u001b[39;49m\u001b[43mkwargs\u001b[49m\u001b[43m,\u001b[49m\n\u001b[1;32m   1589\u001b[0m \u001b[43m    \u001b[49m\u001b[43m)\u001b[49m\n\u001b[1;32m   1590\u001b[0m     \u001b[38;5;28;01mreturn\u001b[39;00m cast(Self, loaded)\n",
      "File \u001b[0;32m~/miniforge3/envs/nimrod/lib/python3.11/site-packages/lightning/pytorch/core/saving.py:91\u001b[0m, in \u001b[0;36m_load_from_checkpoint\u001b[0;34m(cls, checkpoint_path, map_location, hparams_file, strict, **kwargs)\u001b[0m\n\u001b[1;32m     89\u001b[0m     \u001b[38;5;28;01mreturn\u001b[39;00m _load_state(\u001b[38;5;28mcls\u001b[39m, checkpoint, \u001b[38;5;241m*\u001b[39m\u001b[38;5;241m*\u001b[39mkwargs)\n\u001b[1;32m     90\u001b[0m \u001b[38;5;28;01mif\u001b[39;00m \u001b[38;5;28missubclass\u001b[39m(\u001b[38;5;28mcls\u001b[39m, pl\u001b[38;5;241m.\u001b[39mLightningModule):\n\u001b[0;32m---> 91\u001b[0m     model \u001b[38;5;241m=\u001b[39m \u001b[43m_load_state\u001b[49m\u001b[43m(\u001b[49m\u001b[38;5;28;43mcls\u001b[39;49m\u001b[43m,\u001b[49m\u001b[43m \u001b[49m\u001b[43mcheckpoint\u001b[49m\u001b[43m,\u001b[49m\u001b[43m \u001b[49m\u001b[43mstrict\u001b[49m\u001b[38;5;241;43m=\u001b[39;49m\u001b[43mstrict\u001b[49m\u001b[43m,\u001b[49m\u001b[43m \u001b[49m\u001b[38;5;241;43m*\u001b[39;49m\u001b[38;5;241;43m*\u001b[39;49m\u001b[43mkwargs\u001b[49m\u001b[43m)\u001b[49m\n\u001b[1;32m     92\u001b[0m     state_dict \u001b[38;5;241m=\u001b[39m checkpoint[\u001b[38;5;124m\"\u001b[39m\u001b[38;5;124mstate_dict\u001b[39m\u001b[38;5;124m\"\u001b[39m]\n\u001b[1;32m     93\u001b[0m     \u001b[38;5;28;01mif\u001b[39;00m \u001b[38;5;129;01mnot\u001b[39;00m state_dict:\n",
      "File \u001b[0;32m~/miniforge3/envs/nimrod/lib/python3.11/site-packages/lightning/pytorch/core/saving.py:165\u001b[0m, in \u001b[0;36m_load_state\u001b[0;34m(cls, checkpoint, strict, **cls_kwargs_new)\u001b[0m\n\u001b[1;32m    161\u001b[0m \u001b[38;5;28;01mif\u001b[39;00m \u001b[38;5;129;01mnot\u001b[39;00m cls_spec\u001b[38;5;241m.\u001b[39mvarkw:\n\u001b[1;32m    162\u001b[0m     \u001b[38;5;66;03m# filter kwargs according to class init unless it allows any argument via kwargs\u001b[39;00m\n\u001b[1;32m    163\u001b[0m     _cls_kwargs \u001b[38;5;241m=\u001b[39m {k: v \u001b[38;5;28;01mfor\u001b[39;00m k, v \u001b[38;5;129;01min\u001b[39;00m _cls_kwargs\u001b[38;5;241m.\u001b[39mitems() \u001b[38;5;28;01mif\u001b[39;00m k \u001b[38;5;129;01min\u001b[39;00m cls_init_args_name}\n\u001b[0;32m--> 165\u001b[0m obj \u001b[38;5;241m=\u001b[39m instantiator(\u001b[38;5;28mcls\u001b[39m, _cls_kwargs) \u001b[38;5;28;01mif\u001b[39;00m instantiator \u001b[38;5;28;01melse\u001b[39;00m \u001b[38;5;28;43mcls\u001b[39;49m\u001b[43m(\u001b[49m\u001b[38;5;241;43m*\u001b[39;49m\u001b[38;5;241;43m*\u001b[39;49m\u001b[43m_cls_kwargs\u001b[49m\u001b[43m)\u001b[49m\n\u001b[1;32m    167\u001b[0m \u001b[38;5;28;01mif\u001b[39;00m \u001b[38;5;28misinstance\u001b[39m(obj, pl\u001b[38;5;241m.\u001b[39mLightningDataModule):\n\u001b[1;32m    168\u001b[0m     \u001b[38;5;28;01mif\u001b[39;00m obj\u001b[38;5;241m.\u001b[39m\u001b[38;5;18m__class__\u001b[39m\u001b[38;5;241m.\u001b[39m\u001b[38;5;18m__qualname__\u001b[39m \u001b[38;5;129;01min\u001b[39;00m checkpoint:\n",
      "\u001b[0;31mTypeError\u001b[0m: ConvNetX.__init__() missing 1 required positional argument: 'nnet'"
     ]
    }
   ],
   "source": [
    "#| notest\n",
    "\n",
    "# cfg = OmegaConf.load('../config/model/image/convnetx.yaml')\n",
    "# sched = instantiate(cfg.scheduler)\n",
    "# sched.total_steps = len(datamodule.train_ds) * N_EPOCHS\n",
    "model = ConvNetX.load_from_checkpoint(best_checkpoint_path)#, lr=0.1, scheduler=sched)\n",
    "\n",
    "pprint(model.hparams)"
   ]
  },
  {
   "cell_type": "code",
   "execution_count": null,
   "metadata": {},
   "outputs": [
    {
     "name": "stderr",
     "output_type": "stream",
     "text": [
      "GPU available: True (mps), used: True\n",
      "TPU available: False, using: 0 TPU cores\n",
      "HPU available: False, using: 0 HPUs\n"
     ]
    },
    {
     "ename": "NameError",
     "evalue": "name 'best_checkpoint_path' is not defined",
     "output_type": "error",
     "traceback": [
      "\u001b[0;31m---------------------------------------------------------------------------\u001b[0m",
      "\u001b[0;31mNameError\u001b[0m                                 Traceback (most recent call last)",
      "Cell \u001b[0;32mIn[17], line 28\u001b[0m\n\u001b[1;32m     15\u001b[0m trainer \u001b[38;5;241m=\u001b[39m Trainer(\n\u001b[1;32m     16\u001b[0m     accelerator\u001b[38;5;241m=\u001b[39m\u001b[38;5;124m\"\u001b[39m\u001b[38;5;124mauto\u001b[39m\u001b[38;5;124m\"\u001b[39m,\n\u001b[1;32m     17\u001b[0m     max_epochs\u001b[38;5;241m=\u001b[39mN_EPOCHS,\n\u001b[0;32m   (...)\u001b[0m\n\u001b[1;32m     22\u001b[0m     log_every_n_steps\u001b[38;5;241m=\u001b[39m\u001b[38;5;241m1\u001b[39m\n\u001b[1;32m     23\u001b[0m     )\n\u001b[1;32m     25\u001b[0m \u001b[38;5;66;03m# use standar adam scheduler\u001b[39;00m\n\u001b[1;32m     26\u001b[0m \n\u001b[1;32m     27\u001b[0m \u001b[38;5;66;03m# retrieve last ckpt\u001b[39;00m\n\u001b[0;32m---> 28\u001b[0m trainer\u001b[38;5;241m.\u001b[39mfit(model, datamodule\u001b[38;5;241m.\u001b[39mtrain_dataloader(), datamodule\u001b[38;5;241m.\u001b[39mval_dataloader(), ckpt_path\u001b[38;5;241m=\u001b[39m\u001b[43mbest_checkpoint_path\u001b[49m)\n\u001b[1;32m     30\u001b[0m \u001b[38;5;66;03m##############################\u001b[39;00m\n\u001b[1;32m     31\u001b[0m \u001b[38;5;66;03m#| notest\u001b[39;00m\n\u001b[1;32m     32\u001b[0m csv_path \u001b[38;5;241m=\u001b[39m \u001b[38;5;124mf\u001b[39m\u001b[38;5;124m\"\u001b[39m\u001b[38;5;132;01m{\u001b[39;00mtrainer\u001b[38;5;241m.\u001b[39mlogger\u001b[38;5;241m.\u001b[39mlog_dir\u001b[38;5;132;01m}\u001b[39;00m\u001b[38;5;124m/metrics.csv\u001b[39m\u001b[38;5;124m\"\u001b[39m\n",
      "\u001b[0;31mNameError\u001b[0m: name 'best_checkpoint_path' is not defined"
     ]
    }
   ],
   "source": [
    "#| notest\n",
    "# batchnorm should allow us to try higher LR\n",
    "# model_cfg = OmegaConf.load('../config/model/image/convnetx_adam.yaml')\n",
    "# model_cfg.optimizer.lr = 0.1\n",
    "\n",
    "# model = instantiate(model_cfg)\n",
    "# opt = instantiate(model_cfg.optimizer)\n",
    "# print(opt)\n",
    "# sched = instantiate(model_cfg.scheduler)\n",
    "# print(sched)\n",
    "\n",
    "\n",
    "N_EPOCHS = 3\n",
    "\n",
    "trainer = Trainer(\n",
    "    accelerator=\"auto\",\n",
    "    max_epochs=N_EPOCHS,\n",
    "    # logger=TensorBoardLogger(\"tb_logs\", name=\"mnist_convnet\", default_hp_metric=True),\n",
    "    logger=CSVLogger(\"logs\", name=\"mnist_convnet\"),\n",
    "    callbacks = [LearningRateMonitor(logging_interval=\"step\")],\n",
    "    check_val_every_n_epoch=1,\n",
    "    log_every_n_steps=1\n",
    "    )\n",
    "\n",
    "# use standar adam scheduler\n",
    "\n",
    "# retrieve last ckpt\n",
    "trainer.fit(model, datamodule.train_dataloader(), datamodule.val_dataloader(), ckpt_path=best_checkpoint_path)\n",
    "\n",
    "##############################\n",
    "#| notest\n",
    "csv_path = f\"{trainer.logger.log_dir}/metrics.csv\"\n",
    "metrics = pd.read_csv(csv_path)\n",
    "metrics.head()\n",
    "plt.figure()\n",
    "plt.plot(metrics['step'], metrics['train/loss_step'], 'b.-')\n",
    "plt.plot(metrics['step'], metrics['val/loss'],'r.-')\n",
    "plt.figure()\n",
    "plt.plot(metrics['step'], metrics['lr-Adam'], 'g.-')\n",
    "plt.show()\n",
    "trainer.test(model, datamodule.test_dataloader(), ckpt_path=\"best\")\n"
   ]
  },
  {
   "cell_type": "code",
   "execution_count": null,
   "metadata": {},
   "outputs": [],
   "source": [
    "#| hide\n",
    "import nbdev; nbdev.nbdev_export()"
   ]
  }
 ],
 "metadata": {
  "kernelspec": {
   "display_name": "python3",
   "language": "python",
   "name": "python3"
  }
 },
 "nbformat": 4,
 "nbformat_minor": 2
}
