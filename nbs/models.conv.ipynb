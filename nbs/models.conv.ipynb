{
 "cells": [
  {
   "cell_type": "markdown",
   "metadata": {},
   "source": [
    "# Convolution Neural Networks"
   ]
  },
  {
   "cell_type": "code",
   "execution_count": null,
   "metadata": {},
   "outputs": [],
   "source": [
    "#| default_exp models.conv"
   ]
  },
  {
   "cell_type": "code",
   "execution_count": null,
   "metadata": {},
   "outputs": [],
   "source": [
    "#| hide\n",
    "%load_ext autoreload\n",
    "%autoreload 2\n",
    "from nbdev.showdoc import *"
   ]
  },
  {
   "cell_type": "code",
   "execution_count": null,
   "metadata": {},
   "outputs": [],
   "source": [
    "#| export\n",
    "import torch.nn as nn\n",
    "import torch\n",
    "\n",
    "from lightning import LightningModule, Trainer\n",
    "from lightning.pytorch.loggers import CSVLogger, TensorBoardLogger\n",
    "from lightning.pytorch.tuner.tuning import Tuner\n",
    "from lightning.pytorch.callbacks import LearningRateMonitor, ModelCheckpoint\n",
    "\n",
    "from torch_lr_finder import LRFinder\n",
    "from torchinfo import summary\n",
    "\n",
    "from hydra.utils import instantiate\n",
    "from omegaconf import OmegaConf\n",
    "\n",
    "from matplotlib import pyplot as plt\n",
    "import pandas as pd\n",
    "from typing import List, Optional, Type\n",
    "\n",
    "from nimrod.utils import get_device, set_seed\n",
    "from nimrod.models.core import Classifier\n",
    "\n",
    "from pprint import pprint\n",
    "import logging\n"
   ]
  },
  {
   "cell_type": "code",
   "execution_count": null,
   "metadata": {},
   "outputs": [
    {
     "name": "stderr",
     "output_type": "stream",
     "text": [
      "Seed set to 42\n"
     ]
    }
   ],
   "source": [
    "#| export\n",
    "logger = logging.getLogger(__name__)\n",
    "set_seed()"
   ]
  },
  {
   "cell_type": "markdown",
   "metadata": {},
   "source": [
    "## Conv Layer\n",
    "\n",
    "Using a convolution with a stride of 2 instead of max pooling essentially achieves the same goal of downsampling an image by reducing its spatial dimensions, but with the key difference that the convolution layer can learn more complex feature combinations from overlapping regions, while max pooling only selects the maximum value within a window, potentially losing information about the finer details within that region; making the convolution with stride approach often preferred for preserving more spatial information in a neural network. "
   ]
  },
  {
   "cell_type": "code",
   "execution_count": null,
   "metadata": {},
   "outputs": [],
   "source": [
    "#| export\n",
    "class ConvLayer(nn.Module):\n",
    "    \"\"\"A 2D convolutional layer with optional batch normalization and activation.\n",
    "\n",
    "    This layer performs 2D convolution with stride 2 for downsampling, optionally followed by\n",
    "    batch normalization and activation.\n",
    "\n",
    "    Parameters\n",
    "    ----------\n",
    "    in_channels : int, default=3\n",
    "        Number of input channels\n",
    "    out_channels : int, default=16 \n",
    "        Number of output channels / number of features\n",
    "    kernel_size : int, default=3\n",
    "        Size of the convolving kernel\n",
    "    bias : bool, default=True\n",
    "        If True, adds a learnable bias to the convolution\n",
    "    normalization : nn.Module, default=nn.BatchNorm2d\n",
    "        Normalization layer to use after convolution\n",
    "    activation : nn.Module, default=nn.ReLU\n",
    "        Activation function to use after normalization\n",
    "\n",
    "    Notes\n",
    "    -----\n",
    "    When using batch normalization, the convolution bias is automatically disabled\n",
    "    since it would be redundant.\n",
    "\n",
    "    The spatial dimensions are reduced by half due to stride=2 convolution:\n",
    "    output_size = input_size/2\n",
    "    \"\"\"\n",
    "  \n",
    "    def __init__(\n",
    "        self,\n",
    "        in_channels:int=3, # input channels\n",
    "        out_channels:int=16, # output channels\n",
    "        kernel_size:int=3, # kernel size\n",
    "        stride:int=2, # stride\n",
    "        bias:bool=True,\n",
    "        normalization:Optional[Type[nn.Module]]=nn.BatchNorm2d,\n",
    "        activation:Optional[Type[nn.Module]]=nn.ReLU,\n",
    "        \n",
    "    ):\n",
    "\n",
    "        super().__init__()\n",
    "        \n",
    "        if bias and normalization and issubclass(normalization, (nn.BatchNorm1d,nn.BatchNorm2d,nn.BatchNorm3d)):\n",
    "            logger.warning('setting conv bias to False as Batchnorm is used')\n",
    "            # https://x.com/karpathy/status/1013245864570073090\n",
    "            bias = None\n",
    "\n",
    "        # use stride 2 for downsampling to (W/2, H/2) instead of max or average pooling with stride 1\n",
    "        conv = nn.Conv2d(in_channels, out_channels, kernel_size, stride=stride, padding=kernel_size//2, bias=bias)\n",
    "        layers = [conv]\n",
    "        if normalization:\n",
    "            if issubclass(normalization,  (nn.BatchNorm1d,nn.BatchNorm2d,nn.BatchNorm3d)):\n",
    "                layers.append(normalization(out_channels))\n",
    "        if activation:\n",
    "            layers.append(activation())\n",
    "        self.net = nn.Sequential(*layers)\n",
    "\n",
    "    def forward(\n",
    "            self,\n",
    "            x:torch.Tensor # input image tensor of dimension (B, C, W, H)\n",
    "            ) -> torch.Tensor: # output image tensor of dimension (B, C, W/2, H/2)\n",
    "        \n",
    "        \"\"\"forward method of the ConvLayer\"\"\"\n",
    "        return self.net(x)\n"
   ]
  },
  {
   "cell_type": "code",
   "execution_count": null,
   "metadata": {},
   "outputs": [
    {
     "data": {
      "text/markdown": [
       "---\n",
       "\n",
       "[source](https://github.com/slegroux/nimrod/blob/main/nimrod/models/conv.py#L33){target=\"_blank\" style=\"float:right; font-size:smaller\"}\n",
       "\n",
       "### ConvLayer\n",
       "\n",
       ">      ConvLayer (in_channels:int=3, out_channels:int=16, kernel_size:int=3,\n",
       ">                 stride:int=2, bias:bool=True, normalization:Optional[Type[torc\n",
       ">                 h.nn.modules.module.Module]]=<class\n",
       ">                 'torch.nn.modules.batchnorm.BatchNorm2d'>, activation:Optional\n",
       ">                 [Type[torch.nn.modules.module.Module]]=<class\n",
       ">                 'torch.nn.modules.activation.ReLU'>)\n",
       "\n",
       "*A 2D convolutional layer with optional batch normalization and activation.\n",
       "\n",
       "This layer performs 2D convolution with stride 2 for downsampling, optionally followed by\n",
       "batch normalization and activation.*\n",
       "\n",
       "|    | **Type** | **Default** | **Details** |\n",
       "| -- | -------- | ----------- | ----------- |\n",
       "| in_channels | int | 3 | input channels |\n",
       "| out_channels | int | 16 | output channels |\n",
       "| kernel_size | int | 3 | kernel size |\n",
       "| stride | int | 2 | stride |\n",
       "| bias | bool | True | If True, adds a learnable bias to the convolution |\n",
       "| normalization | Optional | BatchNorm2d | Normalization layer to use after convolution |\n",
       "| activation | Optional | ReLU | Activation function to use after normalization |"
      ],
      "text/plain": [
       "---\n",
       "\n",
       "[source](https://github.com/slegroux/nimrod/blob/main/nimrod/models/conv.py#L33){target=\"_blank\" style=\"float:right; font-size:smaller\"}\n",
       "\n",
       "### ConvLayer\n",
       "\n",
       ">      ConvLayer (in_channels:int=3, out_channels:int=16, kernel_size:int=3,\n",
       ">                 stride:int=2, bias:bool=True, normalization:Optional[Type[torc\n",
       ">                 h.nn.modules.module.Module]]=<class\n",
       ">                 'torch.nn.modules.batchnorm.BatchNorm2d'>, activation:Optional\n",
       ">                 [Type[torch.nn.modules.module.Module]]=<class\n",
       ">                 'torch.nn.modules.activation.ReLU'>)\n",
       "\n",
       "*A 2D convolutional layer with optional batch normalization and activation.\n",
       "\n",
       "This layer performs 2D convolution with stride 2 for downsampling, optionally followed by\n",
       "batch normalization and activation.*\n",
       "\n",
       "|    | **Type** | **Default** | **Details** |\n",
       "| -- | -------- | ----------- | ----------- |\n",
       "| in_channels | int | 3 | input channels |\n",
       "| out_channels | int | 16 | output channels |\n",
       "| kernel_size | int | 3 | kernel size |\n",
       "| stride | int | 2 | stride |\n",
       "| bias | bool | True | If True, adds a learnable bias to the convolution |\n",
       "| normalization | Optional | BatchNorm2d | Normalization layer to use after convolution |\n",
       "| activation | Optional | ReLU | Activation function to use after normalization |"
      ]
     },
     "execution_count": null,
     "metadata": {},
     "output_type": "execute_result"
    }
   ],
   "source": [
    "show_doc(ConvLayer, title_level=3)"
   ]
  },
  {
   "cell_type": "code",
   "execution_count": null,
   "metadata": {},
   "outputs": [
    {
     "data": {
      "text/markdown": [
       "---\n",
       "\n",
       "[source](https://github.com/slegroux/nimrod/blob/main/nimrod/models/conv.py#L91){target=\"_blank\" style=\"float:right; font-size:smaller\"}\n",
       "\n",
       "### ConvLayer.forward\n",
       "\n",
       ">      ConvLayer.forward (x:torch.Tensor)\n",
       "\n",
       "*forward pass of the ConvLayer*\n",
       "\n",
       "|    | **Type** | **Details** |\n",
       "| -- | -------- | ----------- |\n",
       "| x | Tensor | input image tensor of dimension (B, C, W, H) |\n",
       "| **Returns** | **Tensor** | **output image tensor of dimension (B, C, W/2, H/2)** |"
      ],
      "text/plain": [
       "---\n",
       "\n",
       "[source](https://github.com/slegroux/nimrod/blob/main/nimrod/models/conv.py#L91){target=\"_blank\" style=\"float:right; font-size:smaller\"}\n",
       "\n",
       "### ConvLayer.forward\n",
       "\n",
       ">      ConvLayer.forward (x:torch.Tensor)\n",
       "\n",
       "*forward pass of the ConvLayer*\n",
       "\n",
       "|    | **Type** | **Details** |\n",
       "| -- | -------- | ----------- |\n",
       "| x | Tensor | input image tensor of dimension (B, C, W, H) |\n",
       "| **Returns** | **Tensor** | **output image tensor of dimension (B, C, W/2, H/2)** |"
      ]
     },
     "execution_count": null,
     "metadata": {},
     "output_type": "execute_result"
    }
   ],
   "source": [
    "show_doc(ConvLayer.forward)"
   ]
  },
  {
   "cell_type": "markdown",
   "metadata": {},
   "source": [
    "### Usage"
   ]
  },
  {
   "cell_type": "code",
   "execution_count": null,
   "metadata": {},
   "outputs": [
    {
     "name": "stdout",
     "output_type": "stream",
     "text": [
      "Y:  torch.Size([64, 16, 14, 14])\n",
      "torch.Size([64, 3136])\n"
     ]
    },
    {
     "data": {
      "text/plain": [
       "==========================================================================================\n",
       "Layer (type:depth-idx)                   Output Shape              Param #\n",
       "==========================================================================================\n",
       "ConvLayer                                [64, 16, 14, 14]          --\n",
       "├─Sequential: 1-1                        [64, 16, 14, 14]          --\n",
       "│    └─Conv2d: 2-1                       [64, 16, 14, 14]          160\n",
       "│    └─ReLU: 2-2                         [64, 16, 14, 14]          --\n",
       "==========================================================================================\n",
       "Total params: 160\n",
       "Trainable params: 160\n",
       "Non-trainable params: 0\n",
       "Total mult-adds (Units.MEGABYTES): 2.01\n",
       "==========================================================================================\n",
       "Input size (MB): 0.20\n",
       "Forward/backward pass size (MB): 1.61\n",
       "Params size (MB): 0.00\n",
       "Estimated Total Size (MB): 1.81\n",
       "=========================================================================================="
      ]
     },
     "execution_count": null,
     "metadata": {},
     "output_type": "execute_result"
    }
   ],
   "source": [
    "B, C, H, W = 64, 1, 28, 28\n",
    "X = torch.rand(B, C, H,W)\n",
    "# stride 2 layer downsample to (W/2, H/2)\n",
    "net = ConvLayer(\n",
    "    in_channels=C,\n",
    "    out_channels=16,\n",
    "    kernel_size=3,\n",
    "    stride=2,\n",
    "    normalization=None,\n",
    "    )\n",
    "\n",
    "print(\"Y: \",net(X).shape)\n",
    "# # flatten all dims except batch dim 1\n",
    "Y = torch.flatten(net(X), 1)\n",
    "print(Y.shape)\n",
    "summary(net, input_size=(B, C, H, W), depth=4)"
   ]
  },
  {
   "cell_type": "markdown",
   "metadata": {},
   "source": [
    "### Configs"
   ]
  },
  {
   "cell_type": "code",
   "execution_count": null,
   "metadata": {},
   "outputs": [
    {
     "name": "stderr",
     "output_type": "stream",
     "text": [
      "[16:42:19] WARNING - setting conv bias to False as Batchnorm is used\n"
     ]
    },
    {
     "name": "stdout",
     "output_type": "stream",
     "text": [
      "=================================================================\n",
      "Layer (type:depth-idx)                   Param #\n",
      "=================================================================\n",
      "ConvLayer                                --\n",
      "├─Sequential: 1-1                        --\n",
      "│    └─Conv2d: 2-1                       144\n",
      "│    └─BatchNorm2d: 2-2                  32\n",
      "│    └─ReLU: 2-3                         --\n",
      "=================================================================\n",
      "Total params: 176\n",
      "Trainable params: 176\n",
      "Non-trainable params: 0\n",
      "=================================================================\n",
      "Y:  torch.Size([64, 16, 14, 14])\n"
     ]
    }
   ],
   "source": [
    "cfg = OmegaConf.load('../config/model/image/convlayer.yaml')\n",
    "net = instantiate(cfg.defaults)\n",
    "B, C, H, W = 64, 1, 28, 28\n",
    "X = torch.rand(B, C, H,W)\n",
    "print(summary(net))\n",
    "print(\"Y: \",net(X).shape)"
   ]
  },
  {
   "cell_type": "markdown",
   "metadata": {},
   "source": [
    "## Deconv Layer"
   ]
  },
  {
   "cell_type": "code",
   "execution_count": null,
   "metadata": {},
   "outputs": [],
   "source": [
    "#| export\n",
    "\n",
    "class DeconvLayer(nn.Module):\n",
    "    def __init__(\n",
    "        self,\n",
    "        in_channels:int=16, # input channels\n",
    "        out_channels:int=3, # output channels\n",
    "        kernel_size:int=3, # kernel size\n",
    "        bias:bool=True,\n",
    "        normalization:Optional[Type[nn.Module]]=None,\n",
    "        activation:Optional[Type[nn.Module]]=nn.ReLU,\n",
    "    ):\n",
    "        super().__init__()\n",
    "        layers = nn.ModuleList()\n",
    "        if normalization:\n",
    "            if issubclass(normalization,  (nn.BatchNorm1d,nn.BatchNorm2d,nn.BatchNorm3d)):\n",
    "                logger.warning('setting conv bias to False as Batchnorm is used')\n",
    "                # https://x.com/karpathy/status/1013245864570073090\n",
    "                bias = None\n",
    "\n",
    "        layers.append(nn.UpsamplingNearest2d(scale_factor=2))\n",
    "        layers.append(nn.Conv2d(in_channels, out_channels, kernel_size, stride=1, padding=kernel_size//2, bias=bias))\n",
    "        if normalization:\n",
    "            layers.append(normalization(out_channels))\n",
    "        if activation:\n",
    "            layers.append(activation())\n",
    "        self._net = nn.Sequential(*layers)\n",
    "\n",
    "    def forward(self, x:torch.Tensor # input image tensor of dimension (B, C, W, H)\n",
    "                ) -> torch.Tensor: # output image tensor of dimension (B, C, W*2, H*2)\n",
    "        return self._net(x) "
   ]
  },
  {
   "cell_type": "code",
   "execution_count": null,
   "metadata": {},
   "outputs": [
    {
     "data": {
      "text/markdown": [
       "---\n",
       "\n",
       "[source](https://github.com/slegroux/nimrod/blob/main/nimrod/models/conv.py#L33){target=\"_blank\" style=\"float:right; font-size:smaller\"}\n",
       "\n",
       "### ConvLayer\n",
       "\n",
       ">      ConvLayer (in_channels:int=3, out_channels:int=16, kernel_size:int=3,\n",
       ">                 stride:int=2, bias:bool=True, normalization:Optional[Type[torc\n",
       ">                 h.nn.modules.module.Module]]=<class\n",
       ">                 'torch.nn.modules.batchnorm.BatchNorm2d'>, activation:Optional\n",
       ">                 [Type[torch.nn.modules.module.Module]]=<class\n",
       ">                 'torch.nn.modules.activation.ReLU'>)\n",
       "\n",
       "*A 2D convolutional layer with optional batch normalization and activation.\n",
       "\n",
       "This layer performs 2D convolution with stride 2 for downsampling, optionally followed by\n",
       "batch normalization and activation.*\n",
       "\n",
       "|    | **Type** | **Default** | **Details** |\n",
       "| -- | -------- | ----------- | ----------- |\n",
       "| in_channels | int | 3 | input channels |\n",
       "| out_channels | int | 16 | output channels |\n",
       "| kernel_size | int | 3 | kernel size |\n",
       "| stride | int | 2 | stride |\n",
       "| bias | bool | True | If True, adds a learnable bias to the convolution |\n",
       "| normalization | Optional | BatchNorm2d | Normalization layer to use after convolution |\n",
       "| activation | Optional | ReLU | Activation function to use after normalization |"
      ],
      "text/plain": [
       "---\n",
       "\n",
       "[source](https://github.com/slegroux/nimrod/blob/main/nimrod/models/conv.py#L33){target=\"_blank\" style=\"float:right; font-size:smaller\"}\n",
       "\n",
       "### ConvLayer\n",
       "\n",
       ">      ConvLayer (in_channels:int=3, out_channels:int=16, kernel_size:int=3,\n",
       ">                 stride:int=2, bias:bool=True, normalization:Optional[Type[torc\n",
       ">                 h.nn.modules.module.Module]]=<class\n",
       ">                 'torch.nn.modules.batchnorm.BatchNorm2d'>, activation:Optional\n",
       ">                 [Type[torch.nn.modules.module.Module]]=<class\n",
       ">                 'torch.nn.modules.activation.ReLU'>)\n",
       "\n",
       "*A 2D convolutional layer with optional batch normalization and activation.\n",
       "\n",
       "This layer performs 2D convolution with stride 2 for downsampling, optionally followed by\n",
       "batch normalization and activation.*\n",
       "\n",
       "|    | **Type** | **Default** | **Details** |\n",
       "| -- | -------- | ----------- | ----------- |\n",
       "| in_channels | int | 3 | input channels |\n",
       "| out_channels | int | 16 | output channels |\n",
       "| kernel_size | int | 3 | kernel size |\n",
       "| stride | int | 2 | stride |\n",
       "| bias | bool | True | If True, adds a learnable bias to the convolution |\n",
       "| normalization | Optional | BatchNorm2d | Normalization layer to use after convolution |\n",
       "| activation | Optional | ReLU | Activation function to use after normalization |"
      ]
     },
     "execution_count": null,
     "metadata": {},
     "output_type": "execute_result"
    }
   ],
   "source": [
    "show_doc(ConvLayer, title_level=3)"
   ]
  },
  {
   "cell_type": "markdown",
   "metadata": {},
   "source": [
    "### Usage\n"
   ]
  },
  {
   "cell_type": "code",
   "execution_count": null,
   "metadata": {},
   "outputs": [
    {
     "name": "stdout",
     "output_type": "stream",
     "text": [
      "DeconvLayer(\n",
      "  (_net): Sequential(\n",
      "    (0): UpsamplingNearest2d(scale_factor=2.0, mode='nearest')\n",
      "    (1): Conv2d(3, 8, kernel_size=(3, 3), stride=(1, 1), padding=(1, 1))\n",
      "    (2): ReLU()\n",
      "  )\n",
      ")\n",
      "Y:  torch.Size([64, 8, 56, 56])\n"
     ]
    }
   ],
   "source": [
    "\n",
    "B, C, H, W = 64, 3, 28, 28\n",
    "X = torch.rand(B, C, H, W)\n",
    "deconv = DeconvLayer(3, 8)\n",
    "print(deconv)\n",
    "print(\"Y: \",deconv(X).shape)"
   ]
  },
  {
   "cell_type": "markdown",
   "metadata": {},
   "source": [
    "## ConvNet\n",
    "Simple convolution network for image recognition"
   ]
  },
  {
   "cell_type": "code",
   "execution_count": null,
   "metadata": {},
   "outputs": [],
   "source": [
    "#| export\n",
    "\n",
    "class ConvNet(nn.Module):\n",
    "\n",
    "    def __init__(\n",
    "            self,\n",
    "            n_features:List[int]=[1, 8, 16, 32, 64], # channel/feature expansion\n",
    "            num_classes:int=10, # num_classes\n",
    "            kernel_size:int=3, # kernel size\n",
    "            bias:bool=False, # conv2d bias\n",
    "            normalization:nn.Module=nn.BatchNorm2d, # normalization (before activation)\n",
    "            activation:nn.Module=nn.ReLU, # activation function\n",
    "        ):\n",
    "\n",
    "        super().__init__()\n",
    "\n",
    "        net = nn.ModuleList()\n",
    "\n",
    "        conv_stride_1 = ConvLayer(\n",
    "            in_channels=n_features[0],\n",
    "            out_channels=n_features[1],\n",
    "            stride=1,\n",
    "            kernel_size=kernel_size,\n",
    "            bias=bias,\n",
    "            normalization=normalization,\n",
    "            activation=activation\n",
    "        )\n",
    "        net.append(conv_stride_1)\n",
    "\n",
    "        for i in range(1, len(n_features) - 1):\n",
    "            conv = ConvLayer(\n",
    "                    in_channels=n_features[i],\n",
    "                    out_channels=n_features[i+1],\n",
    "                    kernel_size=kernel_size,\n",
    "                    bias=bias,\n",
    "                    normalization=normalization,\n",
    "                    activation=activation\n",
    "            )\n",
    "            net.append(conv)\n",
    "       \n",
    "        net.append(\n",
    "            ConvLayer(\n",
    "                in_channels=n_features[-1],\n",
    "                out_channels=num_classes,\n",
    "                kernel_size=kernel_size,\n",
    "                bias=True,\n",
    "                normalization=None,\n",
    "                activation=None\n",
    "                )\n",
    "            )\n",
    "        net.append(nn.Flatten(start_dim=1, end_dim=-1))\n",
    "\n",
    "        self.net = nn.Sequential(*net)\n",
    "\n",
    "\n",
    "    def forward(\n",
    "        self,\n",
    "        x:torch.Tensor # input image tensor of dimension (B, C, W, H)\n",
    "        ) -> torch.Tensor: # output probs (B, N_classes)\n",
    "        return self.net(x)"
   ]
  },
  {
   "cell_type": "code",
   "execution_count": null,
   "metadata": {},
   "outputs": [
    {
     "data": {
      "text/markdown": [
       "---\n",
       "\n",
       "[source](https://github.com/slegroux/nimrod/blob/main/nimrod/models/conv.py#L33){target=\"_blank\" style=\"float:right; font-size:smaller\"}\n",
       "\n",
       "### ConvLayer\n",
       "\n",
       ">      ConvLayer (in_channels:int=3, out_channels:int=16, kernel_size:int=3,\n",
       ">                 stride:int=2, bias:bool=True, normalization:Optional[Type[torc\n",
       ">                 h.nn.modules.module.Module]]=<class\n",
       ">                 'torch.nn.modules.batchnorm.BatchNorm2d'>, activation:Optional\n",
       ">                 [Type[torch.nn.modules.module.Module]]=<class\n",
       ">                 'torch.nn.modules.activation.ReLU'>)\n",
       "\n",
       "*A 2D convolutional layer with optional batch normalization and activation.\n",
       "\n",
       "This layer performs 2D convolution with stride 2 for downsampling, optionally followed by\n",
       "batch normalization and activation.*\n",
       "\n",
       "|    | **Type** | **Default** | **Details** |\n",
       "| -- | -------- | ----------- | ----------- |\n",
       "| in_channels | int | 3 | input channels |\n",
       "| out_channels | int | 16 | output channels |\n",
       "| kernel_size | int | 3 | kernel size |\n",
       "| stride | int | 2 | stride |\n",
       "| bias | bool | True | If True, adds a learnable bias to the convolution |\n",
       "| normalization | Optional | BatchNorm2d | Normalization layer to use after convolution |\n",
       "| activation | Optional | ReLU | Activation function to use after normalization |"
      ],
      "text/plain": [
       "---\n",
       "\n",
       "[source](https://github.com/slegroux/nimrod/blob/main/nimrod/models/conv.py#L33){target=\"_blank\" style=\"float:right; font-size:smaller\"}\n",
       "\n",
       "### ConvLayer\n",
       "\n",
       ">      ConvLayer (in_channels:int=3, out_channels:int=16, kernel_size:int=3,\n",
       ">                 stride:int=2, bias:bool=True, normalization:Optional[Type[torc\n",
       ">                 h.nn.modules.module.Module]]=<class\n",
       ">                 'torch.nn.modules.batchnorm.BatchNorm2d'>, activation:Optional\n",
       ">                 [Type[torch.nn.modules.module.Module]]=<class\n",
       ">                 'torch.nn.modules.activation.ReLU'>)\n",
       "\n",
       "*A 2D convolutional layer with optional batch normalization and activation.\n",
       "\n",
       "This layer performs 2D convolution with stride 2 for downsampling, optionally followed by\n",
       "batch normalization and activation.*\n",
       "\n",
       "|    | **Type** | **Default** | **Details** |\n",
       "| -- | -------- | ----------- | ----------- |\n",
       "| in_channels | int | 3 | input channels |\n",
       "| out_channels | int | 16 | output channels |\n",
       "| kernel_size | int | 3 | kernel size |\n",
       "| stride | int | 2 | stride |\n",
       "| bias | bool | True | If True, adds a learnable bias to the convolution |\n",
       "| normalization | Optional | BatchNorm2d | Normalization layer to use after convolution |\n",
       "| activation | Optional | ReLU | Activation function to use after normalization |"
      ]
     },
     "execution_count": null,
     "metadata": {},
     "output_type": "execute_result"
    }
   ],
   "source": [
    "show_doc(ConvLayer, title_level=3)"
   ]
  },
  {
   "cell_type": "markdown",
   "metadata": {},
   "source": [
    "### Usage"
   ]
  },
  {
   "cell_type": "code",
   "execution_count": null,
   "metadata": {},
   "outputs": [
    {
     "data": {
      "text/plain": [
       "torch.Size([64, 1, 28, 28])"
      ]
     },
     "execution_count": null,
     "metadata": {},
     "output_type": "execute_result"
    }
   ],
   "source": [
    "B, C, H, W = 64, 1, 28, 28\n",
    "X = torch.rand(B, C, H, W)\n",
    "X.shape"
   ]
  },
  {
   "cell_type": "code",
   "execution_count": null,
   "metadata": {},
   "outputs": [
    {
     "name": "stdout",
     "output_type": "stream",
     "text": [
      "torch.Size([64, 10])\n",
      "=================================================================\n",
      "Layer (type:depth-idx)                   Param #\n",
      "=================================================================\n",
      "ConvNet                                  --\n",
      "├─Sequential: 1-1                        --\n",
      "│    └─ConvLayer: 2-1                    --\n",
      "│    │    └─Sequential: 3-1              --\n",
      "│    │    │    └─Conv2d: 4-1             72\n",
      "│    │    │    └─BatchNorm2d: 4-2        16\n",
      "│    │    │    └─ReLU: 4-3               --\n",
      "│    └─ConvLayer: 2-2                    --\n",
      "│    │    └─Sequential: 3-2              --\n",
      "│    │    │    └─Conv2d: 4-4             1,152\n",
      "│    │    │    └─BatchNorm2d: 4-5        32\n",
      "│    │    │    └─ReLU: 4-6               --\n",
      "│    └─ConvLayer: 2-3                    --\n",
      "│    │    └─Sequential: 3-3              --\n",
      "│    │    │    └─Conv2d: 4-7             4,608\n",
      "│    │    │    └─BatchNorm2d: 4-8        64\n",
      "│    │    │    └─ReLU: 4-9               --\n",
      "│    └─ConvLayer: 2-4                    --\n",
      "│    │    └─Sequential: 3-4              --\n",
      "│    │    │    └─Conv2d: 4-10            18,432\n",
      "│    │    │    └─BatchNorm2d: 4-11       128\n",
      "│    │    │    └─ReLU: 4-12              --\n",
      "│    └─ConvLayer: 2-5                    --\n",
      "│    │    └─Sequential: 3-5              --\n",
      "│    │    │    └─Conv2d: 4-13            73,728\n",
      "│    │    │    └─BatchNorm2d: 4-14       256\n",
      "│    │    │    └─ReLU: 4-15              --\n",
      "│    └─ConvLayer: 2-6                    --\n",
      "│    │    └─Sequential: 3-6              --\n",
      "│    │    │    └─Conv2d: 4-16            11,530\n",
      "│    └─Flatten: 2-7                      --\n",
      "=================================================================\n",
      "Total params: 110,018\n",
      "Trainable params: 110,018\n",
      "Non-trainable params: 0\n",
      "=================================================================\n",
      "{'_target_': 'nimrod.models.conv.ConvNet', 'n_features': [1, 8, 16, 32, 64, 128], 'num_classes': 10, 'kernel_size': 3, 'bias': False, 'normalization': {'_target_': 'hydra.utils.get_class', 'path': 'torch.nn.BatchNorm2d'}, 'activation': {'_target_': 'hydra.utils.get_class', 'path': 'torch.nn.ReLU'}}\n"
     ]
    }
   ],
   "source": [
    "# model instantiation\n",
    "convnet = ConvNet(\n",
    "            n_features=[1, 8, 16, 32, 64, 128], # channel/feature expansion\n",
    "            num_classes=10, # num_classes\n",
    "            kernel_size=3, # kernel size\n",
    "            bias=False, # conv2d bias\n",
    "            normalization=nn.BatchNorm2d, # normalization (before activation)\n",
    "            activation=nn.ReLU,\n",
    ")\n",
    "out = convnet(X)\n",
    "print(out.shape)\n",
    "print(summary(convnet, depth=4))\n",
    "# from config\n",
    "cfg = OmegaConf.load('../config/model/image/convnet.yaml')\n",
    "# print(cfg.defaults)\n",
    "# convnet = instantiate(cfg.defaults)\n",
    "print(cfg.batchnorm)\n",
    "convnet = instantiate(cfg.baseline)\n",
    "\n",
    "# print(convnet(X).shape)"
   ]
  },
  {
   "cell_type": "markdown",
   "metadata": {},
   "source": [
    "### Training"
   ]
  },
  {
   "cell_type": "markdown",
   "metadata": {},
   "source": [
    "#### Dataloaders"
   ]
  },
  {
   "cell_type": "code",
   "execution_count": null,
   "metadata": {},
   "outputs": [
    {
     "name": "stderr",
     "output_type": "stream",
     "text": [
      "[16:58:01] INFO - Init ImageDataModule for fashion_mnist\n"
     ]
    },
    {
     "name": "stderr",
     "output_type": "stream",
     "text": [
      "[16:58:15] INFO - split train into train/val [0.8, 0.2]\n",
      "[16:58:15] INFO - train: 48000 val: 12000, test: 10000\n"
     ]
    },
    {
     "name": "stdout",
     "output_type": "stream",
     "text": [
      "X (C,H,W):  torch.Size([1, 32, 32]) y:  9\n",
      "XX (B,C,H,W):  torch.Size([512, 1, 32, 32]) YY:  torch.Size([512])\n",
      "48000\n",
      "93\n"
     ]
    }
   ],
   "source": [
    "#| notest\n",
    "\n",
    "# data module config\n",
    "cfg = OmegaConf.load('../config/data/image/fashion_mnist.yaml')\n",
    "\n",
    "BATCH_SIZE = 512\n",
    "datamodule = instantiate(cfg, batch_size=BATCH_SIZE)\n",
    "datamodule.prepare_data()\n",
    "datamodule.setup()\n",
    "\n",
    "# one data point \n",
    "X,y = datamodule.test_ds[0]\n",
    "print(\"X (C,H,W): \", X.shape, \"y: \", y)\n",
    "\n",
    "# a batch of data via dataloader\n",
    "XX,YY = next(iter(datamodule.test_dataloader()))\n",
    "print(\"XX (B,C,H,W): \", XX.shape, \"YY: \", YY.shape)\n",
    "\n",
    "print(len(datamodule.train_ds))\n",
    "print(len(datamodule.train_ds) // BATCH_SIZE)"
   ]
  },
  {
   "cell_type": "markdown",
   "metadata": {},
   "source": [
    "#### Model & hardware"
   ]
  },
  {
   "cell_type": "code",
   "execution_count": null,
   "metadata": {},
   "outputs": [
    {
     "name": "stderr",
     "output_type": "stream",
     "text": [
      "[16:58:15] INFO - Using device: cuda\n"
     ]
    },
    {
     "name": "stdout",
     "output_type": "stream",
     "text": [
      "cuda\n",
      "{'_target_': 'nimrod.models.conv.ConvNet', 'n_features': [1, 8, 16, 32, 64], 'num_classes': 10, 'kernel_size': 3, 'bias': True, 'normalization': None, 'activation': {'_target_': 'hydra.utils.get_class', 'path': 'torch.nn.ReLU'}}\n"
     ]
    },
    {
     "data": {
      "text/plain": [
       "==========================================================================================\n",
       "Layer (type:depth-idx)                   Output Shape              Param #\n",
       "==========================================================================================\n",
       "ConvNet                                  [64, 10]                  --\n",
       "├─Sequential: 1-1                        [64, 10]                  --\n",
       "│    └─ConvLayer: 2-1                    [64, 8, 14, 14]           --\n",
       "│    │    └─Sequential: 3-1              [64, 8, 14, 14]           --\n",
       "│    │    │    └─Conv2d: 4-1             [64, 8, 14, 14]           80\n",
       "│    │    │    └─ReLU: 4-2               [64, 8, 14, 14]           --\n",
       "│    └─ConvLayer: 2-2                    [64, 16, 7, 7]            --\n",
       "│    │    └─Sequential: 3-2              [64, 16, 7, 7]            --\n",
       "│    │    │    └─Conv2d: 4-3             [64, 16, 7, 7]            1,168\n",
       "│    │    │    └─ReLU: 4-4               [64, 16, 7, 7]            --\n",
       "│    └─ConvLayer: 2-3                    [64, 32, 4, 4]            --\n",
       "│    │    └─Sequential: 3-3              [64, 32, 4, 4]            --\n",
       "│    │    │    └─Conv2d: 4-5             [64, 32, 4, 4]            4,640\n",
       "│    │    │    └─ReLU: 4-6               [64, 32, 4, 4]            --\n",
       "│    └─ConvLayer: 2-4                    [64, 64, 2, 2]            --\n",
       "│    │    └─Sequential: 3-4              [64, 64, 2, 2]            --\n",
       "│    │    │    └─Conv2d: 4-7             [64, 64, 2, 2]            18,496\n",
       "│    │    │    └─ReLU: 4-8               [64, 64, 2, 2]            --\n",
       "│    └─ConvLayer: 2-5                    [64, 10, 1, 1]            --\n",
       "│    │    └─Sequential: 3-5              [64, 10, 1, 1]            --\n",
       "│    │    │    └─Conv2d: 4-9             [64, 10, 1, 1]            5,770\n",
       "│    └─Flatten: 2-6                      [64, 10]                  --\n",
       "==========================================================================================\n",
       "Total params: 30,154\n",
       "Trainable params: 30,154\n",
       "Non-trainable params: 0\n",
       "Total mult-adds (Units.MEGABYTES): 14.52\n",
       "==========================================================================================\n",
       "Input size (MB): 0.20\n",
       "Forward/backward pass size (MB): 1.60\n",
       "Params size (MB): 0.12\n",
       "Estimated Total Size (MB): 1.92\n",
       "=========================================================================================="
      ]
     },
     "execution_count": null,
     "metadata": {},
     "output_type": "execute_result"
    }
   ],
   "source": [
    "#| notest\n",
    "device = get_device()\n",
    "print(device)\n",
    "cfg = OmegaConf.load('../config/model/image/convnet.yaml')\n",
    "# print(cfg.defaults)\n",
    "# convnet = instantiate(cfg.defaults)\n",
    "print(cfg.baseline)\n",
    "convnet = instantiate(cfg.baseline)\n",
    "model = convnet.to(device)\n",
    "\n",
    "summary(model, input_size=(B, C, H, W), depth=4)"
   ]
  },
  {
   "cell_type": "markdown",
   "metadata": {},
   "source": [
    "#### LR finder"
   ]
  },
  {
   "cell_type": "code",
   "execution_count": null,
   "metadata": {},
   "outputs": [
    {
     "name": "stdout",
     "output_type": "stream",
     "text": [
      "=================================================================\n",
      "Layer (type:depth-idx)                   Param #\n",
      "=================================================================\n",
      "ConvNet                                  --\n",
      "├─Sequential: 1-1                        --\n",
      "│    └─ConvLayer: 2-1                    --\n",
      "│    │    └─Sequential: 3-1              --\n",
      "│    │    │    └─Conv2d: 4-1             72\n",
      "│    │    │    └─BatchNorm2d: 4-2        16\n",
      "│    │    │    └─ReLU: 4-3               --\n",
      "│    └─ConvLayer: 2-2                    --\n",
      "│    │    └─Sequential: 3-2              --\n",
      "│    │    │    └─Conv2d: 4-4             1,152\n",
      "│    │    │    └─BatchNorm2d: 4-5        32\n",
      "│    │    │    └─ReLU: 4-6               --\n",
      "│    └─ConvLayer: 2-3                    --\n",
      "│    │    └─Sequential: 3-3              --\n",
      "│    │    │    └─Conv2d: 4-7             4,608\n",
      "│    │    │    └─BatchNorm2d: 4-8        64\n",
      "│    │    │    └─ReLU: 4-9               --\n",
      "│    └─ConvLayer: 2-4                    --\n",
      "│    │    └─Sequential: 3-4              --\n",
      "│    │    │    └─Conv2d: 4-10            18,432\n",
      "│    │    │    └─BatchNorm2d: 4-11       128\n",
      "│    │    │    └─ReLU: 4-12              --\n",
      "│    └─ConvLayer: 2-5                    --\n",
      "│    │    └─Sequential: 3-5              --\n",
      "│    │    │    └─Conv2d: 4-13            73,728\n",
      "│    │    │    └─BatchNorm2d: 4-14       256\n",
      "│    │    │    └─ReLU: 4-15              --\n",
      "│    └─ConvLayer: 2-6                    --\n",
      "│    │    └─Sequential: 3-6              --\n",
      "│    │    │    └─Conv2d: 4-16            11,530\n",
      "│    └─Flatten: 2-7                      --\n",
      "=================================================================\n",
      "Total params: 110,018\n",
      "Trainable params: 110,018\n",
      "Non-trainable params: 0\n",
      "=================================================================\n"
     ]
    },
    {
     "data": {
      "application/vnd.jupyter.widget-view+json": {
       "model_id": "8cca0a7491c8449f8a1db97f53e6ef8f",
       "version_major": 2,
       "version_minor": 0
      },
      "text/plain": [
       "  0%|          | 0/100 [00:00<?, ?it/s]"
      ]
     },
     "metadata": {},
     "output_type": "display_data"
    },
    {
     "name": "stdout",
     "output_type": "stream",
     "text": [
      "Stopping early, the loss has diverged\n",
      "Learning rate search finished. See the graph with {finder_name}.plot()\n",
      "LR suggestion: steepest gradient\n",
      "Suggested LR: 2.66E-03\n"
     ]
    },
    {
     "data": {
      "image/png": "[encoded data removed]",
      "text/plain": [
       "<Figure size 640x480 with 1 Axes>"
      ]
     },
     "metadata": {},
     "output_type": "display_data"
    },
    {
     "name": "stdout",
     "output_type": "stream",
     "text": [
      "Suggested lr: 0.002656087782946686\n"
     ]
    }
   ],
   "source": [
    "#| notest\n",
    "\n",
    "cfg = OmegaConf.load('../config/model/image/convnet.yaml')\n",
    "model = instantiate(cfg.batchnorm)\n",
    "print(summary(model, depth=4))\n",
    "\n",
    "\n",
    "criterion = nn.CrossEntropyLoss()    \n",
    "optimizer = torch.optim.Adam(model.parameters(), lr=1e-4) #, weight_decay=1e-5)\n",
    "    \n",
    "# Initialize LR Finder\n",
    "lr_finder = LRFinder(model, optimizer, criterion, device=device)\n",
    "    \n",
    "# Run LR range test\n",
    "lr_finder.range_test(\n",
    "    datamodule.train_dataloader(),\n",
    "    start_lr=1e-5,      # Extremely small starting learning rate\n",
    "    end_lr=10,          # Large ending learning rate\n",
    "    num_iter=100,   # Number of iterations to test\n",
    "    smooth_f=0.05,   # Smoothing factor for the loss\n",
    "    diverge_th=5, \n",
    ")\n",
    "    \n",
    "# Plot the learning rate vs loss\n",
    "_, lr_found = lr_finder.plot(log_lr=True)\n",
    "print('Suggested lr:', lr_found)\n",
    "    \n",
    "lr_finder.reset()\n",
    "    \n",
    "\n",
    "    "
   ]
  },
  {
   "cell_type": "markdown",
   "metadata": {},
   "source": [
    "#### 1-cycle warm-up"
   ]
  },
  {
   "cell_type": "code",
   "execution_count": null,
   "metadata": {},
   "outputs": [
    {
     "name": "stderr",
     "output_type": "stream",
     "text": [
      "[22:24:51] INFO - Init ImageDataModule for fashion_mnist\n"
     ]
    },
    {
     "name": "stderr",
     "output_type": "stream",
     "text": [
      "[22:24:59] INFO - split train into train/val [0.8, 0.2]\n",
      "[22:24:59] INFO - train: 48000 val: 12000, test: 10000\n"
     ]
    },
    {
     "name": "stdout",
     "output_type": "stream",
     "text": [
      "cuda\n",
      "size training set: 48000, bs: 512, steps/epoch: 93, total steps: 465\n",
      "CPU times: user 2 μs, sys: 0 ns, total: 2 μs\n",
      "Wall time: 5.01 μs\n",
      "Loss 2.3470, Current LR: 0.0002659163, Step: 1/465\n",
      "Epoch 1: Last training Loss 0.3637, Last Eval loss 0.3208 Accuracy = 86.98% Best Accuracy: 89.84\n",
      "Loss 0.3831, Current LR: 0.0021199485, Step: 95/465\n",
      "Epoch 2: Last training Loss 0.2433, Last Eval loss 0.2295 Accuracy = 89.87% Best Accuracy: 91.80\n",
      "Loss 0.2716, Current LR: 0.0025014400, Step: 189/465\n",
      "Epoch 3: Last training Loss 0.2054, Last Eval loss 0.1951 Accuracy = 90.92% Best Accuracy: 92.19\n",
      "Loss 0.1860, Current LR: 0.0015607708, Step: 283/465\n",
      "Epoch 4: Last training Loss 0.1976, Last Eval loss 0.1941 Accuracy = 91.68% Best Accuracy: 92.77\n",
      "Loss 0.1703, Current LR: 0.0004413380, Step: 377/465\n",
      "Reached total steps: 465/465\n",
      "Epoch 5: Last training Loss 0.1558, Last Eval loss 0.1827 Accuracy = 91.88% Best Accuracy: 93.03\n"
     ]
    },
    {
     "data": {
      "text/plain": [
       "[<matplotlib.lines.Line2D>]"
      ]
     },
     "execution_count": null,
     "metadata": {},
     "output_type": "execute_result"
    },
    {
     "data": {
      "image/png": "[encoded data removed]",
      "text/plain": [
       "<Figure size 640x480 with 2 Axes>"
      ]
     },
     "metadata": {},
     "output_type": "display_data"
    }
   ],
   "source": [
    "#| notest\n",
    "\n",
    "# data module config\n",
    "cfg_dm = OmegaConf.load('../config/data/image/fashion_mnist.yaml')\n",
    "cfg_dm.batch_size = 512\n",
    "datamodule = instantiate(cfg_dm)\n",
    "datamodule.prepare_data()\n",
    "datamodule.setup()\n",
    "\n",
    "# device = 'cpu'\n",
    "print(device)\n",
    "cfg_mdl = OmegaConf.load('../config/model/image/convnet.yaml')\n",
    "convnet = instantiate(cfg_mdl.batchnorm)\n",
    "model = convnet.to(device)\n",
    "\n",
    "N_EPOCHS = 5\n",
    "\n",
    "# lr_found = 7e-3 # from lr finder\n",
    "\n",
    "criterion = nn.CrossEntropyLoss()\n",
    "optimizer = torch.optim.Adam(model.parameters(), lr=1e-4)\n",
    "steps_per_epoch = len(datamodule.train_ds) // cfg_dm.batch_size\n",
    "total_steps = steps_per_epoch* N_EPOCHS\n",
    "print(f\"size training set: {len(datamodule.train_ds)}, bs: {cfg_dm.batch_size}, steps/epoch: {steps_per_epoch}, total steps: {total_steps}\")\n",
    "# scheduler = torch.optim.lr_scheduler.OneCycleLR(optimizer, max_lr=0.01, steps_per_epoch=steps_per_epochs, epochs=1)\n",
    "\n",
    "scheduler = torch.optim.lr_scheduler.OneCycleLR(\n",
    "        optimizer,\n",
    "        max_lr=lr_found,  # Peak learning rate\n",
    "        # total_steps=len(datamodule.train_ds) * N_EPOCHS,  # Total training iterations\n",
    "        steps_per_epoch=steps_per_epoch,\n",
    "        epochs=N_EPOCHS,\n",
    "        pct_start=0.3,  # 30% of training increasing LR, 70% decreasing\n",
    "        anneal_strategy='cos',  # Cosine annealing\n",
    "        div_factor=10,  # Initial lr = max_lr / div_factor\n",
    "        # final_div_factor=1e4,\n",
    "        three_phase=False  # Two phase LR schedule (increase then decrease)\n",
    "    )\n",
    "\n",
    "################################\n",
    "%time\n",
    "\n",
    "lrs = []\n",
    "current_step = 0\n",
    "train_loss_history = []\n",
    "eval_loss_history = []\n",
    "avg_train_loss_hist = []\n",
    "avg_eval_loss_hist = []\n",
    "max_acc = 0\n",
    "\n",
    "for epoch in range(N_EPOCHS):\n",
    "    i = 0\n",
    "    model.train()\n",
    "    for images, labels in datamodule.train_dataloader():\n",
    "        if current_step >= total_steps:\n",
    "            print(f\"Reached total steps: {current_step}/{total_steps}\")\n",
    "            break\n",
    "        optimizer.zero_grad()\n",
    "        images, labels = images.to(device), labels.to(device)\n",
    "        outputs = model(images)\n",
    "        loss = criterion(outputs, labels)        \n",
    "        loss.backward()\n",
    "        optimizer.step()\n",
    "        scheduler.step()    \n",
    "        current_step += 1\n",
    "        train_loss_history.append(loss.item())\n",
    "        # current_lr = scheduler.get_last_lr()[0]\n",
    "        current_lr = optimizer.param_groups[0]['lr']\n",
    "        lrs.append(current_lr)\n",
    "        if not (i % 100):\n",
    "            print(f\"Loss {loss.item():.4f}, Current LR: {current_lr:.10f}, Step: {current_step}/{total_steps}\")\n",
    "        i += 1\n",
    "\n",
    "    model.eval()\n",
    "    with torch.no_grad():\n",
    "        correct = 0\n",
    "        total = 0\n",
    "        for images, labels in datamodule.val_dataloader():\n",
    "            # model expects input (B,H*W)\n",
    "            images = images.to(device)\n",
    "            labels = labels.to(device)\n",
    "            # Pass the input through the model\n",
    "            outputs = model(images)\n",
    "            # eval loss\n",
    "            eval_loss = criterion(outputs, labels)\n",
    "            eval_loss_history.append(eval_loss.item())\n",
    "            # Get the predicted labels\n",
    "            _, predicted = torch.max(outputs.data, 1)\n",
    "\n",
    "            # Update the total and correct counts\n",
    "            total += labels.size(0)\n",
    "            correct += (predicted == labels).sum()\n",
    "            acc = 100 * correct / total\n",
    "            if acc > max_acc:\n",
    "                max_acc = acc\n",
    "\n",
    "        # Print the accuracy\n",
    "    print(f\"Epoch {epoch + 1}: Last training Loss {loss.item():.4f}, Last Eval loss {eval_loss.item():.4f} Accuracy = {100 * correct / total:.2f}% Best Accuracy: {max_acc:.2f}\")\n",
    "    # print(f'Current LR: {optimizer.param_groups[0][\"lr\"]:.5f}')\n",
    "\n",
    "###################\n",
    "plt.figure(1)\n",
    "plt.subplot(211)\n",
    "plt.ylabel('loss')\n",
    "plt.xlabel('step')\n",
    "plt.plot(train_loss_history)\n",
    "plt.plot(eval_loss_history)\n",
    "plt.subplot(212)\n",
    "plt.ylabel('lr')\n",
    "plt.xlabel('step')\n",
    "plt.plot(lrs)\n",
    "\n"
   ]
  },
  {
   "cell_type": "markdown",
   "metadata": {},
   "source": [
    "## ConvNetX"
   ]
  },
  {
   "cell_type": "code",
   "execution_count": null,
   "metadata": {},
   "outputs": [],
   "source": [
    "#| export\n",
    "\n",
    "class ConvNetX(Classifier, LightningModule):\n",
    "    def __init__(\n",
    "            self,\n",
    "            nnet:ConvNet,\n",
    "            num_classes:int,\n",
    "            optimizer:torch.optim.Optimizer,\n",
    "            scheduler:torch.optim.lr_scheduler,\n",
    "            ):\n",
    "        logger.info(\"ConvNetX: init\")\n",
    "        super().__init__(num_classes, optimizer, scheduler)\n",
    "        self.register_module('nnet', nnet)\n",
    "        self.save_hyperparameters(logger=False, ignore=['nnet'])\n",
    "        self.lr = optimizer.keywords['lr'] # for lr finder\n",
    "        self.nnet = nnet\n",
    "\n",
    "    def forward(self, x:torch.Tensor)->torch.Tensor:\n",
    "        return self.nnet(x)\n",
    "    \n",
    "    def _step(self, batch, batch_idx):\n",
    "        x, y = batch\n",
    "        y_hat = self.forward(x)\n",
    "        loss = self.loss(y_hat, y)\n",
    "        preds = y_hat.argmax(dim=1)\n",
    "        return loss, preds, y\n",
    "    \n",
    "    def predict_step(self, batch, batch_idx, dataloader_idx=0):\n",
    "        x, y = batch\n",
    "        y_hat = self.forward(x)\n",
    "        return y_hat.argmax(dim=1)"
   ]
  },
  {
   "cell_type": "markdown",
   "metadata": {},
   "source": [
    "### Usage"
   ]
  },
  {
   "cell_type": "code",
   "execution_count": null,
   "metadata": {},
   "outputs": [
    {
     "name": "stderr",
     "output_type": "stream",
     "text": [
      "[13:32:35] INFO - ConvNetX: init\n",
      "[13:32:35] INFO - Classifier: init\n"
     ]
    }
   ],
   "source": [
    "cfg = OmegaConf.load('../config/model/image/convnetx.yaml')\n",
    "model = instantiate(cfg)"
   ]
  },
  {
   "cell_type": "code",
   "execution_count": null,
   "metadata": {},
   "outputs": [
    {
     "name": "stdout",
     "output_type": "stream",
     "text": [
      "torch.Size([64, 10])\n"
     ]
    }
   ],
   "source": [
    "B, C, H, W = 64, 1, 28, 28\n",
    "X = torch.rand(B, C, H, W)\n",
    "X.shape\n",
    "print(model(X).shape)"
   ]
  },
  {
   "cell_type": "code",
   "execution_count": null,
   "metadata": {},
   "outputs": [
    {
     "data": {
      "text/plain": [
       "===============================================================================================\n",
       "Layer (type:depth-idx)                        Output Shape              Param #\n",
       "===============================================================================================\n",
       "ConvNetX                                      [64, 10]                  --\n",
       "├─ConvNet: 1-1                                [64, 10]                  --\n",
       "│    └─Sequential: 2-1                        [64, 10]                  --\n",
       "│    │    └─ConvLayer: 3-1                    [64, 8, 14, 14]           --\n",
       "│    │    │    └─Sequential: 4-1              [64, 8, 14, 14]           --\n",
       "│    │    │    │    └─Conv2d: 5-1             [64, 8, 14, 14]           72\n",
       "│    │    │    │    └─BatchNorm2d: 5-2        [64, 8, 14, 14]           16\n",
       "│    │    │    │    └─ReLU: 5-3               [64, 8, 14, 14]           --\n",
       "│    │    └─ConvLayer: 3-2                    [64, 16, 7, 7]            --\n",
       "│    │    │    └─Sequential: 4-2              [64, 16, 7, 7]            --\n",
       "│    │    │    │    └─Conv2d: 5-4             [64, 16, 7, 7]            1,152\n",
       "│    │    │    │    └─BatchNorm2d: 5-5        [64, 16, 7, 7]            32\n",
       "│    │    │    │    └─ReLU: 5-6               [64, 16, 7, 7]            --\n",
       "│    │    └─ConvLayer: 3-3                    [64, 32, 4, 4]            --\n",
       "│    │    │    └─Sequential: 4-3              [64, 32, 4, 4]            --\n",
       "│    │    │    │    └─Conv2d: 5-7             [64, 32, 4, 4]            4,608\n",
       "│    │    │    │    └─BatchNorm2d: 5-8        [64, 32, 4, 4]            64\n",
       "│    │    │    │    └─ReLU: 5-9               [64, 32, 4, 4]            --\n",
       "│    │    └─ConvLayer: 3-4                    [64, 64, 2, 2]            --\n",
       "│    │    │    └─Sequential: 4-4              [64, 64, 2, 2]            --\n",
       "│    │    │    │    └─Conv2d: 5-10            [64, 64, 2, 2]            18,432\n",
       "│    │    │    │    └─BatchNorm2d: 5-11       [64, 64, 2, 2]            128\n",
       "│    │    │    │    └─ReLU: 5-12              [64, 64, 2, 2]            --\n",
       "│    │    └─ConvLayer: 3-5                    [64, 10, 1, 1]            --\n",
       "│    │    │    └─Sequential: 4-5              [64, 10, 1, 1]            --\n",
       "│    │    │    │    └─Conv2d: 5-13            [64, 10, 1, 1]            5,770\n",
       "│    │    └─Flatten: 3-6                      [64, 10]                  --\n",
       "===============================================================================================\n",
       "Total params: 30,274\n",
       "Trainable params: 30,274\n",
       "Non-trainable params: 0\n",
       "Total mult-adds (Units.MEGABYTES): 14.34\n",
       "===============================================================================================\n",
       "Input size (MB): 0.20\n",
       "Forward/backward pass size (MB): 3.20\n",
       "Params size (MB): 0.12\n",
       "Estimated Total Size (MB): 3.52\n",
       "==============================================================================================="
      ]
     },
     "execution_count": null,
     "metadata": {},
     "output_type": "execute_result"
    }
   ],
   "source": [
    "summary(model, input_size=(B, C, H, W), depth=5)"
   ]
  },
  {
   "cell_type": "markdown",
   "metadata": {},
   "source": [
    "### Nimrod training"
   ]
  },
  {
   "cell_type": "code",
   "execution_count": null,
   "metadata": {},
   "outputs": [
    {
     "name": "stderr",
     "output_type": "stream",
     "text": [
      "[18:25:38] INFO - Init ImageDataModule for mnist\n",
      "[18:25:54] INFO - split train into train/val [0.8, 0.2]\n",
      "[18:25:54] INFO - train: 48000 val: 12000, test: 10000\n"
     ]
    }
   ],
   "source": [
    "#| notest\n",
    "\n",
    "# data module config\n",
    "cfg = OmegaConf.load('../config/data/image/mnist.yaml')\n",
    "cfg.batch_size = 512\n",
    "cfg.num_workers = 0\n",
    "datamodule = instantiate(cfg)\n",
    "datamodule.prepare_data()\n",
    "datamodule.setup()"
   ]
  },
  {
   "cell_type": "code",
   "execution_count": null,
   "metadata": {},
   "outputs": [
    {
     "name": "stderr",
     "output_type": "stream",
     "text": [
      "GPU available: True (mps), used: True\n",
      "TPU available: False, using: 0 TPU cores\n",
      "HPU available: False, using: 0 HPUs\n"
     ]
    }
   ],
   "source": [
    "#| notest\n",
    "N_EPOCHS = 5\n",
    "\n",
    "trainer = Trainer(\n",
    "    accelerator=\"auto\",\n",
    "    max_epochs=N_EPOCHS,\n",
    "    logger=TensorBoardLogger(\"tb_logs\", name=\"mnist_convnet\", default_hp_metric=True),\n",
    "    # logger=CSVLogger(\"logs\", name=\"mnist_convnet\"),\n",
    "    callbacks = [LearningRateMonitor(logging_interval=\"step\")],\n",
    "    check_val_every_n_epoch=1,\n",
    "    log_every_n_steps=1\n",
    "    )\n"
   ]
  },
  {
   "cell_type": "markdown",
   "metadata": {},
   "source": [
    "#### LR finder"
   ]
  },
  {
   "cell_type": "code",
   "execution_count": null,
   "metadata": {},
   "outputs": [
    {
     "name": "stderr",
     "output_type": "stream",
     "text": [
      "[13:35:46] INFO - mnist Dataset: init\n",
      "[13:35:51] INFO - mnist Dataset: init\n",
      "[13:35:54] INFO - Optimizer: Adam (\n",
      "Parameter Group 0\n",
      "    amsgrad: False\n",
      "    betas: (0.9, 0.999)\n",
      "    capturable: False\n",
      "    differentiable: False\n",
      "    eps: 1e-08\n",
      "    foreach: None\n",
      "    fused: None\n",
      "    lr: 0.0001\n",
      "    maximize: False\n",
      "    weight_decay: 0\n",
      ")\n",
      "[13:35:54] INFO - Scheduler: <torch.optim.lr_scheduler.OneCycleLR object>\n",
      "/Users/slegroux/miniforge3/envs/nimrod/lib/python3.11/site-packages/lightning/pytorch/core/optimizer.py:316: The lr scheduler dict contains the key(s) ['monitor', 'strict'], but the keys will be ignored. You need to call `lr_scheduler.step()` manually in manual optimization.\n",
      "/Users/slegroux/miniforge3/envs/nimrod/lib/python3.11/site-packages/lightning/pytorch/trainer/connectors/data_connector.py:424: The 'train_dataloader' does not have many workers which may be a bottleneck. Consider increasing the value of the `num_workers` argument` to `num_workers=11` in the `DataLoader` to improve performance.\n",
      "/Users/slegroux/miniforge3/envs/nimrod/lib/python3.11/site-packages/lightning/pytorch/trainer/connectors/data_connector.py:424: The 'val_dataloader' does not have many workers which may be a bottleneck. Consider increasing the value of the `num_workers` argument` to `num_workers=11` in the `DataLoader` to improve performance.\n"
     ]
    },
    {
     "data": {
      "application/vnd.jupyter.widget-view+json": {
       "model_id": "5d94e52197f44f17bb28581d346922c8",
       "version_major": 2,
       "version_minor": 0
      },
      "text/plain": [
       "Finding best initial lr:   0%|          | 0/100 [00:00<?, ?it/s]"
      ]
     },
     "metadata": {},
     "output_type": "display_data"
    },
    {
     "name": "stderr",
     "output_type": "stream",
     "text": [
      "`Trainer.fit` stopped: `max_steps=100` reached.\n",
      "Learning rate set to 0.012022644346174135\n",
      "Restoring states from the checkpoint path at /Users/slegroux/Projects/nimrod/nbs/.lr_find_c5598ba7-33b0-4845-a7c2-c94e6a45fa15.ckpt\n",
      "Restored all states from the checkpoint at /Users/slegroux/Projects/nimrod/nbs/.lr_find_c5598ba7-33b0-4845-a7c2-c94e6a45fa15.ckpt\n"
     ]
    },
    {
     "data": {
      "image/png": "[encoded data removed]",
      "text/plain": [
       "<Figure size 640x480 with 1 Axes>"
      ]
     },
     "metadata": {},
     "output_type": "display_data"
    },
    {
     "name": "stdout",
     "output_type": "stream",
     "text": [
      "Suggested learning rate: 0.012022644346174135\n"
     ]
    }
   ],
   "source": [
    "#| notest\n",
    "\n",
    "tuner = Tuner(trainer)\n",
    "lr_finder = tuner.lr_find(\n",
    "    model,\n",
    "    datamodule=datamodule,\n",
    "    min_lr=1e-6,\n",
    "    max_lr=1.0,\n",
    "    num_training=100,  # number of iterations\n",
    "    # attr_name=\"optimizer.lr\",\n",
    ")\n",
    "fig = lr_finder.plot(suggest=True)\n",
    "plt.show()\n",
    "print(f\"Suggested learning rate: {lr_finder.suggestion()}\")"
   ]
  },
  {
   "cell_type": "code",
   "execution_count": null,
   "metadata": {},
   "outputs": [
    {
     "name": "stdout",
     "output_type": "stream",
     "text": [
      "10 48000 512\n",
      "280000\n",
      "136.71875\n",
      "136\n"
     ]
    }
   ],
   "source": [
    "#| notest\n",
    "print(trainer.max_epochs, len(datamodule.train_ds), datamodule.hparams.batch_size)\n",
    "print(5*56000)\n",
    "print(5*56000/2048)\n",
    "print(5*56000//2048)"
   ]
  },
  {
   "cell_type": "markdown",
   "metadata": {},
   "source": [
    "#### 1-cycle scheduling"
   ]
  },
  {
   "cell_type": "code",
   "execution_count": null,
   "metadata": {},
   "outputs": [
    {
     "name": "stderr",
     "output_type": "stream",
     "text": [
      "[18:22:41] INFO - Init ImageDataModule for mnist\n",
      "[18:22:41] INFO - mnist Dataset: init\n",
      "[18:22:46] INFO - mnist Dataset: init\n",
      "[18:22:49] INFO - split train into train/val [0.8, 0.2]\n",
      "[18:22:49] INFO - train: 48000 val: 12000, test: 10000\n",
      "GPU available: True (mps), used: True\n",
      "TPU available: False, using: 0 TPU cores\n",
      "HPU available: False, using: 0 HPUs\n",
      "Loading `train_dataloader` to estimate number of stepping batches.\n",
      "[18:22:49] INFO - ConvNetX: init\n",
      "[18:22:49] INFO - Classifier: init\n",
      "/Users/slegroux/miniforge3/envs/nimrod/lib/python3.11/site-packages/lightning/pytorch/utilities/parsing.py:208: Attribute 'nnet' is an instance of `nn.Module` and is already saved during checkpointing. It is recommended to ignore them using `self.save_hyperparameters(ignore=['nnet'])`.\n",
      "/Users/slegroux/miniforge3/envs/nimrod/lib/python3.11/site-packages/lightning/pytorch/callbacks/model_checkpoint.py:654: Checkpoint directory /Users/slegroux/Projects/nimrod/nbs/checkpoints exists and is not empty.\n",
      "[18:22:49] INFO - Optimizer: Adam (\n",
      "Parameter Group 0\n",
      "    amsgrad: False\n",
      "    betas: (0.9, 0.999)\n",
      "    capturable: False\n",
      "    differentiable: False\n",
      "    eps: 1e-08\n",
      "    foreach: None\n",
      "    fused: None\n",
      "    lr: 0.0001\n",
      "    maximize: False\n",
      "    weight_decay: 0\n",
      ")\n",
      "[18:22:49] INFO - Scheduler: <torch.optim.lr_scheduler.OneCycleLR object>\n",
      "/Users/slegroux/miniforge3/envs/nimrod/lib/python3.11/site-packages/lightning/pytorch/core/optimizer.py:316: The lr scheduler dict contains the key(s) ['monitor', 'strict'], but the keys will be ignored. You need to call `lr_scheduler.step()` manually in manual optimization.\n",
      "\n",
      "  | Name         | Type               | Params | Mode \n",
      "------------------------------------------------------------\n",
      "0 | loss         | CrossEntropyLoss   | 0      | train\n",
      "1 | train_acc    | MulticlassAccuracy | 0      | train\n",
      "2 | val_acc      | MulticlassAccuracy | 0      | train\n",
      "3 | test_acc     | MulticlassAccuracy | 0      | train\n",
      "4 | train_loss   | MeanMetric         | 0      | train\n",
      "5 | val_loss     | MeanMetric         | 0      | train\n",
      "6 | test_loss    | MeanMetric         | 0      | train\n",
      "7 | val_acc_best | MaxMetric          | 0      | train\n",
      "8 | nnet         | ConvNet            | 30.3 K | train\n",
      "------------------------------------------------------------\n",
      "30.3 K    Trainable params\n",
      "0         Non-trainable params\n",
      "30.3 K    Total params\n",
      "0.121     Total estimated model params size (MB)\n",
      "34        Modules in train mode\n",
      "0         Modules in eval mode\n"
     ]
    },
    {
     "name": "stdout",
     "output_type": "stream",
     "text": [
      "estimated steps:  -1 accumulate_grad_batches:  1\n",
      "Steps per epoch:  93\n",
      "LR:  0.0001\n"
     ]
    },
    {
     "data": {
      "application/vnd.jupyter.widget-view+json": {
       "model_id": "b7cde2f06f8b40cea33de8175e765b48",
       "version_major": 2,
       "version_minor": 0
      },
      "text/plain": [
       "Sanity Checking: |          | 0/? [00:00<?, ?it/s]"
      ]
     },
     "metadata": {},
     "output_type": "display_data"
    },
    {
     "name": "stderr",
     "output_type": "stream",
     "text": [
      "/Users/slegroux/miniforge3/envs/nimrod/lib/python3.11/site-packages/lightning/pytorch/trainer/connectors/data_connector.py:424: The 'val_dataloader' does not have many workers which may be a bottleneck. Consider increasing the value of the `num_workers` argument` to `num_workers=11` in the `DataLoader` to improve performance.\n",
      "/Users/slegroux/miniforge3/envs/nimrod/lib/python3.11/site-packages/lightning/pytorch/trainer/connectors/data_connector.py:424: The 'train_dataloader' does not have many workers which may be a bottleneck. Consider increasing the value of the `num_workers` argument` to `num_workers=11` in the `DataLoader` to improve performance.\n"
     ]
    },
    {
     "data": {
      "application/vnd.jupyter.widget-view+json": {
       "model_id": "4facd33852954ac182c8efdc451daa5e",
       "version_major": 2,
       "version_minor": 0
      },
      "text/plain": [
       "Training: |          | 0/? [00:00<?, ?it/s]"
      ]
     },
     "metadata": {},
     "output_type": "display_data"
    },
    {
     "data": {
      "application/vnd.jupyter.widget-view+json": {
       "model_id": "13ff65990d96486584276924fd483200",
       "version_major": 2,
       "version_minor": 0
      },
      "text/plain": [
       "Validation: |          | 0/? [00:00<?, ?it/s]"
      ]
     },
     "metadata": {},
     "output_type": "display_data"
    },
    {
     "data": {
      "application/vnd.jupyter.widget-view+json": {
       "model_id": "0b9a71759ee34c8fa4011ea5308e90da",
       "version_major": 2,
       "version_minor": 0
      },
      "text/plain": [
       "Validation: |          | 0/? [00:00<?, ?it/s]"
      ]
     },
     "metadata": {},
     "output_type": "display_data"
    },
    {
     "data": {
      "application/vnd.jupyter.widget-view+json": {
       "model_id": "d51afaa7bd89465883c697a67dcc8a0b",
       "version_major": 2,
       "version_minor": 0
      },
      "text/plain": [
       "Validation: |          | 0/? [00:00<?, ?it/s]"
      ]
     },
     "metadata": {},
     "output_type": "display_data"
    },
    {
     "data": {
      "application/vnd.jupyter.widget-view+json": {
       "model_id": "28bb726563df495283cfbbd9a292289c",
       "version_major": 2,
       "version_minor": 0
      },
      "text/plain": [
       "Validation: |          | 0/? [00:00<?, ?it/s]"
      ]
     },
     "metadata": {},
     "output_type": "display_data"
    },
    {
     "name": "stderr",
     "output_type": "stream",
     "text": [
      "[18:23:08] WARNING - Max steps reached for 1-cycle LR scheduler\n",
      "[18:23:08] WARNING - Max steps reached for 1-cycle LR scheduler\n",
      "[18:23:08] WARNING - Max steps reached for 1-cycle LR scheduler\n",
      "[18:23:08] WARNING - Max steps reached for 1-cycle LR scheduler\n",
      "[18:23:08] WARNING - Max steps reached for 1-cycle LR scheduler\n"
     ]
    },
    {
     "data": {
      "application/vnd.jupyter.widget-view+json": {
       "model_id": "cfa9a1c8144e43ca8cee3f14fc3535ca",
       "version_major": 2,
       "version_minor": 0
      },
      "text/plain": [
       "Validation: |          | 0/? [00:00<?, ?it/s]"
      ]
     },
     "metadata": {},
     "output_type": "display_data"
    },
    {
     "name": "stderr",
     "output_type": "stream",
     "text": [
      "`Trainer.fit` stopped: `max_epochs=5` reached.\n"
     ]
    },
    {
     "data": {
      "image/png": "[encoded data removed]",
      "text/plain": [
       "<Figure size 640x480 with 1 Axes>"
      ]
     },
     "metadata": {},
     "output_type": "display_data"
    },
    {
     "data": {
      "image/png": "[encoded data removed]",
      "text/plain": [
       "<Figure size 640x480 with 1 Axes>"
      ]
     },
     "metadata": {},
     "output_type": "display_data"
    }
   ],
   "source": [
    "#| notest\n",
    "\n",
    "N_EPOCHS = 5\n",
    "lr_found = 0.012\n",
    "\n",
    "# DATA\n",
    "cfg = OmegaConf.load('../config/data/image/mnist.yaml')\n",
    "cfg.batch_size = 512\n",
    "cfg.num_workers = 0\n",
    "datamodule = instantiate(cfg)\n",
    "datamodule.prepare_data()\n",
    "datamodule.setup()\n",
    "\n",
    "checkpoint_callback = ModelCheckpoint(\n",
    "    monitor='val/loss',  # Metric to monitor\n",
    "    dirpath='checkpoints/',  # Directory to save checkpoints\n",
    "    filename='epoch{epoch:02d}-val_loss{val/loss:.2f}',\n",
    "    auto_insert_metric_name=False,\n",
    "    save_top_k=1,  # Save only the best checkpoint\n",
    "    mode='min'  # Mode can be 'min' or 'max' depending on the metric\n",
    ")\n",
    "\n",
    "# TRAINER \n",
    "trainer = Trainer(\n",
    "    accelerator=\"auto\",\n",
    "    max_epochs=N_EPOCHS,\n",
    "    # logger=TensorBoardLogger(\"tb_logs\", name=\"mnist_convnet\", default_hp_metric=True),\n",
    "    logger=CSVLogger(\"logs\", name=\"mnist_convnet\"),\n",
    "    callbacks = [LearningRateMonitor(logging_interval=\"step\"), checkpoint_callback],\n",
    "    check_val_every_n_epoch=1,\n",
    "    log_every_n_steps=1\n",
    "    )\n",
    "\n",
    "print(\"estimated steps: \", trainer.estimated_stepping_batches, \"accumulate_grad_batches: \", trainer.accumulate_grad_batches)\n",
    "\n",
    "# MODEL\n",
    "model_cfg = OmegaConf.load('../config/model/image/convnetx.yaml')\n",
    "\n",
    "steps_per_epoch = len(datamodule.train_ds) // cfg.batch_size // trainer.accumulate_grad_batches #accumulate = 1 when not on\n",
    "print(\"Steps per epoch: \", steps_per_epoch)\n",
    "\n",
    "# model_cfg.scheduler.epochs = N_EPOCHS \n",
    "model_cfg.scheduler.total_steps = trainer.max_epochs * steps_per_epoch\n",
    "model_cfg.scheduler.max_lr = lr_found#lr_finder.suggestion()\n",
    "\n",
    "model = instantiate(model_cfg)\n",
    "\n",
    "print(\"LR: \",model.lr)\n",
    "trainer.fit(model, datamodule.train_dataloader(), datamodule.val_dataloader())\n",
    "\n",
    "########################\n",
    "csv_path = f\"{trainer.logger.log_dir}/metrics.csv\"\n",
    "metrics = pd.read_csv(csv_path)\n",
    "metrics.head()\n",
    "\n",
    "##########################\n",
    "plt.figure()\n",
    "plt.plot(metrics['step'], metrics['train/loss_step'], 'b.-')\n",
    "plt.plot(metrics['step'], metrics['val/loss'],'r.-')\n",
    "plt.figure()\n",
    "plt.plot(metrics['step'], metrics['lr-Adam'], 'g.-')\n",
    "plt.show()"
   ]
  },
  {
   "cell_type": "code",
   "execution_count": null,
   "metadata": {},
   "outputs": [
    {
     "name": "stderr",
     "output_type": "stream",
     "text": [
      "Restoring states from the checkpoint path at /Users/slegroux/Projects/nimrod/nbs/checkpoints/epoch04-val_loss0.04.ckpt\n",
      "Loaded model weights from the checkpoint at /Users/slegroux/Projects/nimrod/nbs/checkpoints/epoch04-val_loss0.04.ckpt\n",
      "/Users/slegroux/miniforge3/envs/nimrod/lib/python3.11/site-packages/lightning/pytorch/trainer/connectors/data_connector.py:424: The 'test_dataloader' does not have many workers which may be a bottleneck. Consider increasing the value of the `num_workers` argument` to `num_workers=11` in the `DataLoader` to improve performance.\n"
     ]
    },
    {
     "data": {
      "application/vnd.jupyter.widget-view+json": {
       "model_id": "d9628a66dfc14996bb7dd1d8a3e2673c",
       "version_major": 2,
       "version_minor": 0
      },
      "text/plain": [
       "Testing: |          | 0/? [00:00<?, ?it/s]"
      ]
     },
     "metadata": {},
     "output_type": "display_data"
    },
    {
     "data": {
      "text/html": [
       "<pre style=\"white-space:pre;overflow-x:auto;line-height:normal;font-family:Menlo,'DejaVu Sans Mono',consolas,'Courier New',monospace\">┏━━━━━━━━━━━━━━━━━━━━━━━━━━━┳━━━━━━━━━━━━━━━━━━━━━━━━━━━┓\n",
       "┃<span style=\"font-weight: bold\">        Test metric        </span>┃<span style=\"font-weight: bold\">       DataLoader 0        </span>┃\n",
       "┡━━━━━━━━━━━━━━━━━━━━━━━━━━━╇━━━━━━━━━━━━━━━━━━━━━━━━━━━┩\n",
       "│<span style=\"color: #008080; text-decoration-color: #008080\">         test/acc          </span>│<span style=\"color: #800080; text-decoration-color: #800080\">    0.9897000193595886     </span>│\n",
       "│<span style=\"color: #008080; text-decoration-color: #008080\">         test/loss         </span>│<span style=\"color: #800080; text-decoration-color: #800080\">   0.029618283733725548    </span>│\n",
       "└───────────────────────────┴───────────────────────────┘\n",
       "</pre>\n"
      ],
      "text/plain": [
       "┏━━━━━━━━━━━━━━━━━━━━━━━━━━━┳━━━━━━━━━━━━━━━━━━━━━━━━━━━┓\n",
       "┃\u001b[1m \u001b[0m\u001b[1m       Test metric       \u001b[0m\u001b[1m \u001b[0m┃\u001b[1m \u001b[0m\u001b[1m      DataLoader 0       \u001b[0m\u001b[1m \u001b[0m┃\n",
       "┡━━━━━━━━━━━━━━━━━━━━━━━━━━━╇━━━━━━━━━━━━━━━━━━━━━━━━━━━┩\n",
       "│\u001b[36m \u001b[0m\u001b[36m        test/acc         \u001b[0m\u001b[36m \u001b[0m│\u001b[35m \u001b[0m\u001b[35m   0.9897000193595886    \u001b[0m\u001b[35m \u001b[0m│\n",
       "│\u001b[36m \u001b[0m\u001b[36m        test/loss        \u001b[0m\u001b[36m \u001b[0m│\u001b[35m \u001b[0m\u001b[35m  0.029618283733725548   \u001b[0m\u001b[35m \u001b[0m│\n",
       "└───────────────────────────┴───────────────────────────┘\n"
      ]
     },
     "metadata": {},
     "output_type": "display_data"
    },
    {
     "data": {
      "text/plain": [
       "[{'test/loss': 0.029618283733725548, 'test/acc': 0.9897000193595886}]"
      ]
     },
     "execution_count": null,
     "metadata": {},
     "output_type": "execute_result"
    }
   ],
   "source": [
    "#| notest\n",
    "trainer.test(model, datamodule.test_dataloader(), ckpt_path=\"best\")"
   ]
  },
  {
   "cell_type": "code",
   "execution_count": null,
   "metadata": {},
   "outputs": [
    {
     "name": "stdout",
     "output_type": "stream",
     "text": [
      "Best checkpoint path: /Users/slegroux/Projects/nimrod/nbs/checkpoints/epoch04-val_loss0.04.ckpt\n"
     ]
    }
   ],
   "source": [
    "#| notest\n",
    "best_checkpoint_path = checkpoint_callback.best_model_path\n",
    "print(f\"Best checkpoint path: {best_checkpoint_path}\")"
   ]
  },
  {
   "cell_type": "markdown",
   "metadata": {},
   "source": [
    "#### Resume training"
   ]
  },
  {
   "cell_type": "code",
   "execution_count": null,
   "metadata": {},
   "outputs": [
    {
     "name": "stderr",
     "output_type": "stream",
     "text": [
      "[19:12:38] INFO - ConvNetX: init\n",
      "[19:12:38] INFO - Classifier: init\n"
     ]
    },
    {
     "name": "stdout",
     "output_type": "stream",
     "text": [
      "\"nnet\":        ConvNet(\n",
      "  (net): Sequential(\n",
      "    (0): ConvLayer(\n",
      "      (net): Sequential(\n",
      "        (0): Conv2d(1, 8, kernel_size=(3, 3), stride=(2, 2), padding=(1, 1), bias=False)\n",
      "        (1): BatchNorm2d(8, eps=1e-05, momentum=0.1, affine=True, track_running_stats=True)\n",
      "        (2): ReLU()\n",
      "      )\n",
      "    )\n",
      "    (1): ConvLayer(\n",
      "      (net): Sequential(\n",
      "        (0): Conv2d(8, 16, kernel_size=(3, 3), stride=(2, 2), padding=(1, 1), bias=False)\n",
      "        (1): BatchNorm2d(16, eps=1e-05, momentum=0.1, affine=True, track_running_stats=True)\n",
      "        (2): ReLU()\n",
      "      )\n",
      "    )\n",
      "    (2): ConvLayer(\n",
      "      (net): Sequential(\n",
      "        (0): Conv2d(16, 32, kernel_size=(3, 3), stride=(2, 2), padding=(1, 1), bias=False)\n",
      "        (1): BatchNorm2d(32, eps=1e-05, momentum=0.1, affine=True, track_running_stats=True)\n",
      "        (2): ReLU()\n",
      "      )\n",
      "    )\n",
      "    (3): ConvLayer(\n",
      "      (net): Sequential(\n",
      "        (0): Conv2d(32, 64, kernel_size=(3, 3), stride=(2, 2), padding=(1, 1), bias=False)\n",
      "        (1): BatchNorm2d(64, eps=1e-05, momentum=0.1, affine=True, track_running_stats=True)\n",
      "        (2): ReLU()\n",
      "      )\n",
      "    )\n",
      "    (4): ConvLayer(\n",
      "      (net): Sequential(\n",
      "        (0): Conv2d(64, 10, kernel_size=(3, 3), stride=(2, 2), padding=(1, 1))\n",
      "      )\n",
      "    )\n",
      "    (5): Flatten(start_dim=1, end_dim=-1)\n",
      "  )\n",
      ")\n",
      "\"num_classes\": 10\n",
      "\"optimizer\":   functools.partial(<class 'torch.optim.adam.Adam'>, lr=0.0001)\n",
      "\"scheduler\":   functools.partial(<class 'torch.optim.lr_scheduler.ReduceLROnPlateau'>, mode='min', factor=0.1, patience=5)\n"
     ]
    },
    {
     "name": "stderr",
     "output_type": "stream",
     "text": [
      "/Users/slegroux/miniforge3/envs/nimrod/lib/python3.11/site-packages/lightning/pytorch/utilities/parsing.py:208: Attribute 'nnet' is an instance of `nn.Module` and is already saved during checkpointing. It is recommended to ignore them using `self.save_hyperparameters(ignore=['nnet'])`.\n"
     ]
    }
   ],
   "source": [
    "#| notest\n",
    "\n",
    "cfg = OmegaConf.load('../config/model/image/convnetx_adam.yaml')\n",
    "sched = instantiate(cfg.scheduler)\n",
    "model = ConvNetX.load_from_checkpoint(best_checkpoint_path, lr=0.1, scheduler=sched)\n",
    "\n",
    "pprint(model.hparams)"
   ]
  },
  {
   "cell_type": "code",
   "execution_count": null,
   "metadata": {},
   "outputs": [
    {
     "name": "stderr",
     "output_type": "stream",
     "text": [
      "GPU available: True (mps), used: True\n",
      "TPU available: False, using: 0 TPU cores\n",
      "HPU available: False, using: 0 HPUs\n",
      "Restoring states from the checkpoint path at /Users/slegroux/Projects/nimrod/nbs/checkpoints/epoch04-val_loss0.04.ckpt\n",
      "/Users/slegroux/miniforge3/envs/nimrod/lib/python3.11/site-packages/lightning/pytorch/trainer/call.py:273: Be aware that when using `ckpt_path`, callbacks used to create the checkpoint need to be provided during `Trainer` instantiation. Please add the following callbacks: [\"ModelCheckpoint{'monitor': 'val/loss', 'mode': 'min', 'every_n_train_steps': 0, 'every_n_epochs': 1, 'train_time_interval': None}\"].\n",
      "[19:13:20] INFO - Optimizer: Adam (\n",
      "Parameter Group 0\n",
      "    amsgrad: False\n",
      "    betas: (0.9, 0.999)\n",
      "    capturable: False\n",
      "    differentiable: False\n",
      "    eps: 1e-08\n",
      "    foreach: None\n",
      "    fused: None\n",
      "    lr: 0.0001\n",
      "    maximize: False\n",
      "    weight_decay: 0\n",
      ")\n",
      "[19:13:20] INFO - Scheduler: <torch.optim.lr_scheduler.ReduceLROnPlateau object>\n",
      "/Users/slegroux/miniforge3/envs/nimrod/lib/python3.11/site-packages/lightning/pytorch/core/optimizer.py:316: The lr scheduler dict contains the key(s) ['monitor', 'strict'], but the keys will be ignored. You need to call `lr_scheduler.step()` manually in manual optimization.\n",
      "\n",
      "  | Name         | Type               | Params | Mode \n",
      "------------------------------------------------------------\n",
      "0 | loss         | CrossEntropyLoss   | 0      | train\n",
      "1 | train_acc    | MulticlassAccuracy | 0      | train\n",
      "2 | val_acc      | MulticlassAccuracy | 0      | train\n",
      "3 | test_acc     | MulticlassAccuracy | 0      | train\n",
      "4 | train_loss   | MeanMetric         | 0      | train\n",
      "5 | val_loss     | MeanMetric         | 0      | train\n",
      "6 | test_loss    | MeanMetric         | 0      | train\n",
      "7 | val_acc_best | MaxMetric          | 0      | train\n",
      "8 | nnet         | ConvNet            | 30.3 K | train\n",
      "------------------------------------------------------------\n",
      "30.3 K    Trainable params\n",
      "0         Non-trainable params\n",
      "30.3 K    Total params\n",
      "0.121     Total estimated model params size (MB)\n",
      "34        Modules in train mode\n",
      "0         Modules in eval mode\n",
      "Restored all states from the checkpoint at /Users/slegroux/Projects/nimrod/nbs/checkpoints/epoch04-val_loss0.04.ckpt\n"
     ]
    },
    {
     "data": {
      "application/vnd.jupyter.widget-view+json": {
       "model_id": "fce57798c0014d9e887b1e15d367b313",
       "version_major": 2,
       "version_minor": 0
      },
      "text/plain": [
       "Sanity Checking: |          | 0/? [00:00<?, ?it/s]"
      ]
     },
     "metadata": {},
     "output_type": "display_data"
    },
    {
     "name": "stderr",
     "output_type": "stream",
     "text": [
      "/Users/slegroux/miniforge3/envs/nimrod/lib/python3.11/site-packages/lightning/pytorch/trainer/connectors/data_connector.py:424: The 'val_dataloader' does not have many workers which may be a bottleneck. Consider increasing the value of the `num_workers` argument` to `num_workers=11` in the `DataLoader` to improve performance.\n",
      "/Users/slegroux/miniforge3/envs/nimrod/lib/python3.11/site-packages/lightning/pytorch/trainer/connectors/data_connector.py:424: The 'train_dataloader' does not have many workers which may be a bottleneck. Consider increasing the value of the `num_workers` argument` to `num_workers=11` in the `DataLoader` to improve performance.\n"
     ]
    },
    {
     "data": {
      "application/vnd.jupyter.widget-view+json": {
       "model_id": "9104341df87c4a9eb9f748368ad7d75a",
       "version_major": 2,
       "version_minor": 0
      },
      "text/plain": [
       "Training: |          | 0/? [00:00<?, ?it/s]"
      ]
     },
     "metadata": {},
     "output_type": "display_data"
    },
    {
     "data": {
      "application/vnd.jupyter.widget-view+json": {
       "model_id": "1f7f6a399aad49c2aea656f896ac2e9a",
       "version_major": 2,
       "version_minor": 0
      },
      "text/plain": [
       "Validation: |          | 0/? [00:00<?, ?it/s]"
      ]
     },
     "metadata": {},
     "output_type": "display_data"
    },
    {
     "data": {
      "application/vnd.jupyter.widget-view+json": {
       "model_id": "a243c71f0f6a4373b172c1b9fb5ece70",
       "version_major": 2,
       "version_minor": 0
      },
      "text/plain": [
       "Validation: |          | 0/? [00:00<?, ?it/s]"
      ]
     },
     "metadata": {},
     "output_type": "display_data"
    },
    {
     "data": {
      "application/vnd.jupyter.widget-view+json": {
       "model_id": "6f1fd2724d8b4eeea9cfab24efc79011",
       "version_major": 2,
       "version_minor": 0
      },
      "text/plain": [
       "Validation: |          | 0/? [00:00<?, ?it/s]"
      ]
     },
     "metadata": {},
     "output_type": "display_data"
    },
    {
     "data": {
      "application/vnd.jupyter.widget-view+json": {
       "model_id": "16435cad98954149ac922ccc816737fa",
       "version_major": 2,
       "version_minor": 0
      },
      "text/plain": [
       "Validation: |          | 0/? [00:00<?, ?it/s]"
      ]
     },
     "metadata": {},
     "output_type": "display_data"
    },
    {
     "data": {
      "application/vnd.jupyter.widget-view+json": {
       "model_id": "b511c43ad8874b42a741e8c31e343737",
       "version_major": 2,
       "version_minor": 0
      },
      "text/plain": [
       "Validation: |          | 0/? [00:00<?, ?it/s]"
      ]
     },
     "metadata": {},
     "output_type": "display_data"
    },
    {
     "name": "stderr",
     "output_type": "stream",
     "text": [
      "`Trainer.fit` stopped: `max_epochs=10` reached.\n"
     ]
    },
    {
     "data": {
      "image/png": "[encoded data removed]",
      "text/plain": [
       "<Figure size 640x480 with 1 Axes>"
      ]
     },
     "metadata": {},
     "output_type": "display_data"
    },
    {
     "data": {
      "image/png": "[encoded data removed]",
      "text/plain": [
       "<Figure size 640x480 with 1 Axes>"
      ]
     },
     "metadata": {},
     "output_type": "display_data"
    },
    {
     "name": "stderr",
     "output_type": "stream",
     "text": [
      "Restoring states from the checkpoint path at logs/mnist_convnet/version_62/checkpoints/epoch=9-step=935.ckpt\n",
      "Loaded model weights from the checkpoint at logs/mnist_convnet/version_62/checkpoints/epoch=9-step=935.ckpt\n",
      "/Users/slegroux/miniforge3/envs/nimrod/lib/python3.11/site-packages/lightning/pytorch/trainer/connectors/data_connector.py:424: The 'test_dataloader' does not have many workers which may be a bottleneck. Consider increasing the value of the `num_workers` argument` to `num_workers=11` in the `DataLoader` to improve performance.\n"
     ]
    },
    {
     "data": {
      "application/vnd.jupyter.widget-view+json": {
       "model_id": "ffb665e93f25409a81c82ba9996167da",
       "version_major": 2,
       "version_minor": 0
      },
      "text/plain": [
       "Testing: |          | 0/? [00:00<?, ?it/s]"
      ]
     },
     "metadata": {},
     "output_type": "display_data"
    },
    {
     "data": {
      "text/html": [
       "<pre style=\"white-space:pre;overflow-x:auto;line-height:normal;font-family:Menlo,'DejaVu Sans Mono',consolas,'Courier New',monospace\">┏━━━━━━━━━━━━━━━━━━━━━━━━━━━┳━━━━━━━━━━━━━━━━━━━━━━━━━━━┓\n",
       "┃<span style=\"font-weight: bold\">        Test metric        </span>┃<span style=\"font-weight: bold\">       DataLoader 0        </span>┃\n",
       "┡━━━━━━━━━━━━━━━━━━━━━━━━━━━╇━━━━━━━━━━━━━━━━━━━━━━━━━━━┩\n",
       "│<span style=\"color: #008080; text-decoration-color: #008080\">         test/acc          </span>│<span style=\"color: #800080; text-decoration-color: #800080\">    0.9896000027656555     </span>│\n",
       "│<span style=\"color: #008080; text-decoration-color: #008080\">         test/loss         </span>│<span style=\"color: #800080; text-decoration-color: #800080\">   0.029625719413161278    </span>│\n",
       "└───────────────────────────┴───────────────────────────┘\n",
       "</pre>\n"
      ],
      "text/plain": [
       "┏━━━━━━━━━━━━━━━━━━━━━━━━━━━┳━━━━━━━━━━━━━━━━━━━━━━━━━━━┓\n",
       "┃\u001b[1m \u001b[0m\u001b[1m       Test metric       \u001b[0m\u001b[1m \u001b[0m┃\u001b[1m \u001b[0m\u001b[1m      DataLoader 0       \u001b[0m\u001b[1m \u001b[0m┃\n",
       "┡━━━━━━━━━━━━━━━━━━━━━━━━━━━╇━━━━━━━━━━━━━━━━━━━━━━━━━━━┩\n",
       "│\u001b[36m \u001b[0m\u001b[36m        test/acc         \u001b[0m\u001b[36m \u001b[0m│\u001b[35m \u001b[0m\u001b[35m   0.9896000027656555    \u001b[0m\u001b[35m \u001b[0m│\n",
       "│\u001b[36m \u001b[0m\u001b[36m        test/loss        \u001b[0m\u001b[36m \u001b[0m│\u001b[35m \u001b[0m\u001b[35m  0.029625719413161278   \u001b[0m\u001b[35m \u001b[0m│\n",
       "└───────────────────────────┴───────────────────────────┘\n"
      ]
     },
     "metadata": {},
     "output_type": "display_data"
    },
    {
     "data": {
      "text/plain": [
       "[{'test/loss': 0.029625719413161278, 'test/acc': 0.9896000027656555}]"
      ]
     },
     "execution_count": null,
     "metadata": {},
     "output_type": "execute_result"
    }
   ],
   "source": [
    "#| notest\n",
    "# batchnorm should allow us to try higher LR\n",
    "# model_cfg = OmegaConf.load('../config/model/image/convnetx_adam.yaml')\n",
    "# model_cfg.optimizer.lr = 0.1\n",
    "\n",
    "# model = instantiate(model_cfg)\n",
    "# opt = instantiate(model_cfg.optimizer)\n",
    "# print(opt)\n",
    "# sched = instantiate(model_cfg.scheduler)\n",
    "# print(sched)\n",
    "\n",
    "\n",
    "N_EPOCHS = 10\n",
    "\n",
    "trainer = Trainer(\n",
    "    accelerator=\"auto\",\n",
    "    max_epochs=N_EPOCHS,\n",
    "    # logger=TensorBoardLogger(\"tb_logs\", name=\"mnist_convnet\", default_hp_metric=True),\n",
    "    logger=CSVLogger(\"logs\", name=\"mnist_convnet\"),\n",
    "    callbacks = [LearningRateMonitor(logging_interval=\"step\")],\n",
    "    check_val_every_n_epoch=1,\n",
    "    log_every_n_steps=1\n",
    "    )\n",
    "\n",
    "# use standar adam scheduler\n",
    "\n",
    "# retrieve last ckpt\n",
    "trainer.fit(model, datamodule.train_dataloader(), datamodule.val_dataloader(), ckpt_path=best_checkpoint_path)\n",
    "\n",
    "##############################\n",
    "#| notest\n",
    "csv_path = f\"{trainer.logger.log_dir}/metrics.csv\"\n",
    "metrics = pd.read_csv(csv_path)\n",
    "metrics.head()\n",
    "plt.figure()\n",
    "plt.plot(metrics['step'], metrics['train/loss_step'], 'b.-')\n",
    "plt.plot(metrics['step'], metrics['val/loss'],'r.-')\n",
    "plt.figure()\n",
    "plt.plot(metrics['step'], metrics['lr-Adam'], 'g.-')\n",
    "plt.show()\n",
    "trainer.test(model, datamodule.test_dataloader(), ckpt_path=\"best\")\n"
   ]
  },
  {
   "cell_type": "code",
   "execution_count": null,
   "metadata": {},
   "outputs": [],
   "source": [
    "#| hide\n",
    "import nbdev; nbdev.nbdev_export()"
   ]
  }
 ],
 "metadata": {
  "kernelspec": {
   "display_name": "python3",
   "language": "python",
   "name": "python3"
  }
 },
 "nbformat": 4,
 "nbformat_minor": 2
}
