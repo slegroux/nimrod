{
 "cells": [
  {
   "attachments": {},
   "cell_type": "markdown",
   "metadata": {},
   "source": [
    "# Text tokenizers"
   ]
  },
  {
   "cell_type": "code",
   "execution_count": null,
   "metadata": {},
   "outputs": [],
   "source": [
    "#| default_exp text.tokenizers"
   ]
  },
  {
   "cell_type": "code",
   "execution_count": null,
   "metadata": {},
   "outputs": [],
   "source": [
    "#| hide\n",
    "%load_ext autoreload\n",
    "%autoreload 2\n",
    "from nbdev.showdoc import *"
   ]
  },
  {
   "cell_type": "code",
   "execution_count": null,
   "metadata": {},
   "outputs": [
    {
     "name": "stderr",
     "output_type": "stream",
     "text": [
      "/opt/bitnami/python/lib/python3.11/site-packages/tqdm/auto.py:21: TqdmWarning: IProgress not found. Please update jupyter and ipywidgets. See https://ipywidgets.readthedocs.io/en/stable/user_install.html\n",
      "  from .autonotebook import tqdm as notebook_tqdm\n"
     ]
    }
   ],
   "source": [
    "#| export\n",
    "\n",
    "# torch\n",
    "import torch.nn as nn\n",
    "import torch\n",
    "import torch.nn.functional as F\n",
    "from torch.nn.utils.rnn import pad_sequence\n",
    "from torch.optim import SGD\n",
    "\n",
    "# torchtext\n",
    "import torchtext\n",
    "from torchtext.vocab import vocab\n",
    "from torchtext.data.utils import get_tokenizer\n",
    "from torchtext.datasets import AG_NEWS\n",
    "\n",
    "# hf\n",
    "import datasets\n",
    "from transformers import AutoTokenizer, DataCollatorForLanguageModeling\n",
    "\n",
    "# data \n",
    "import pandas as pd\n",
    "import numpy as np\n",
    "\n",
    "# ui\n",
    "from matplotlib import pyplot as plt\n",
    "from tqdm.notebook import tqdm\n",
    "\n",
    "# python\n",
    "from typing import Dict, List, Tuple, Optional, Set, Iterable\n",
    "from collections import Counter, OrderedDict\n",
    "from dataclasses import dataclass, asdict\n",
    "from plum import dispatch\n",
    "\n",
    "# nimrod\n",
    "# from nimrod.models.lm import Vocab"
   ]
  },
  {
   "cell_type": "markdown",
   "metadata": {},
   "source": [
    "## Torchtext\n",
    "https://pytorch.org/text/0.16.0/data_utils.html"
   ]
  },
  {
   "cell_type": "code",
   "execution_count": null,
   "metadata": {},
   "outputs": [],
   "source": [
    "#| export \n",
    "\n",
    "class Tokenizer:\n",
    "    def __init__(self,\n",
    "                backend:str='spacy', # backend tokenizer default to spacy\n",
    "                language:str='en', # language on which tokenization is applied\n",
    "                bos:bool=False, # add beginning of sentence tag <bos>\n",
    "                eos:bool=False, # add end of sentence tag <eos>\n",
    "                ):\n",
    "        if backend == 'spacy' and language == 'en':\n",
    "            language = 'en_core_web_sm'\n",
    "        if backend== 'character_based':\n",
    "            self.tokenizer = self.character_tokenizer\n",
    "        else:\n",
    "            self.tokenizer = get_tokenizer(backend, language=language)\n",
    "        self.bos = bos\n",
    "        self.eos = eos\n",
    "        self.backend = backend\n",
    "        print(f\"# Tokenizer uses {self.backend} backend\")\n",
    "    \n",
    "    @staticmethod\n",
    "    def character_tokenizer(text:str)->List[str]:\n",
    "        return [c for c in text]\n",
    "    \n",
    "    @dispatch\n",
    "    def __call__(self, text:str)->List[str]:\n",
    "        res = self.tokenizer(text)\n",
    "        if self.bos:\n",
    "            res = ['<bos>'] + res\n",
    "        if self.eos:\n",
    "            res = res + ['<eos>']\n",
    "        return(res)\n",
    "    \n",
    "    @dispatch\n",
    "    def __call__(self, texts:List[str])->List[List[str]]:\n",
    "        return [self(text) for text in texts]\n",
    "    \n",
    "    @dispatch # to replace Iterable\n",
    "    # works with agnews type of dataset [(index, text)]\n",
    "    def __call__(self, data_iter:Iterable)->Iterable:\n",
    "        for _, text in data_iter:\n",
    "            yield self(text)\n",
    "\n",
    "    @dispatch    \n",
    "    def inverse(self, tokens:List[str])->str:\n",
    "        if self.backend == 'character_based':\n",
    "            return ''.join(tokens)\n",
    "        # TODO: take care of white spaces\n",
    "        else:\n",
    "            return ' '.join(tokens)\n",
    "\n",
    "    @dispatch\n",
    "    def inverse(self, list_of_tokens:List[List[str]])->List[str]:\n",
    "        s = []\n",
    "        for tokens in list_of_tokens:\n",
    "            s.append(self.inverse(tokens))\n",
    "        return s"
   ]
  },
  {
   "cell_type": "markdown",
   "metadata": {},
   "source": [
    "### Usage"
   ]
  },
  {
   "cell_type": "markdown",
   "metadata": {},
   "source": [
    "#### String"
   ]
  },
  {
   "cell_type": "code",
   "execution_count": null,
   "metadata": {},
   "outputs": [
    {
     "name": "stdout",
     "output_type": "stream",
     "text": [
      "# Tokenizer uses character_based backend\n",
      "original sentence:  Oh, yeah I'm not sure...\n",
      "tokenized:  ['<bos>', 'O', 'h', ',', ' ', 'y', 'e', 'a', 'h', ' ', 'I', \"'\", 'm', ' ', 'n', 'o', 't', ' ', 's', 'u', 'r', 'e', '.', '.', '.', '<eos>']\n",
      "un-tokenized:  <bos>Oh, yeah I'm not sure...<eos>\n",
      "# Tokenizer uses spacy backend\n",
      "original sentence:  Oh, yeah I'm not sure...\n",
      "tokenized:  ['<bos>', 'Oh', ',', 'yeah', 'I', \"'m\", 'not', 'sure', '...', '<eos>']\n",
      "un-tokenized:  <bos> Oh , yeah I 'm not sure ... <eos>\n",
      "# Tokenizer uses basic_english backend\n",
      "original sentence:  Oh, yeah I'm not sure...\n",
      "tokenized:  ['<bos>', 'oh', ',', 'yeah', 'i', \"'\", 'm', 'not', 'sure', '.', '.', '.', '<eos>']\n",
      "un-tokenized:  <bos> oh , yeah i ' m not sure . . . <eos>\n"
     ]
    }
   ],
   "source": [
    "tok = Tokenizer(backend='character_based', bos=True, eos=True)\n",
    "# str -> List[str]\n",
    "s = \"Oh, yeah I'm not sure...\"\n",
    "tokenized = tok(s)\n",
    "print(\"original sentence: \", s)\n",
    "print(\"tokenized: \", tokenized)\n",
    "print(\"un-tokenized: \", tok.inverse(tokenized))\n",
    "\n",
    "tok = Tokenizer(backend='spacy', bos=True, eos=True)\n",
    "# str -> List[str]\n",
    "s = \"Oh, yeah I'm not sure...\"\n",
    "tokenized = tok(s)\n",
    "print(\"original sentence: \", s)\n",
    "print(\"tokenized: \", tokenized)\n",
    "print(\"un-tokenized: \", tok.inverse(tokenized))\n",
    "\n",
    "tok = Tokenizer(backend='basic_english', bos=True, eos=True)\n",
    "# str -> List[str]\n",
    "s = \"Oh, yeah I'm not sure...\"\n",
    "tokenized = tok(s)\n",
    "print(\"original sentence: \", s)\n",
    "print(\"tokenized: \", tokenized)\n",
    "print(\"un-tokenized: \", tok.inverse(tokenized))"
   ]
  },
  {
   "cell_type": "markdown",
   "metadata": {},
   "source": [
    "#### List of strings"
   ]
  },
  {
   "cell_type": "code",
   "execution_count": null,
   "metadata": {},
   "outputs": [
    {
     "name": "stdout",
     "output_type": "stream",
     "text": [
      "original sentence:  [\"Oh, yeah I don't know dude...\", 'this is a test']\n",
      "tokenized:  [['<bos>', 'oh', ',', 'yeah', 'i', 'don', \"'\", 't', 'know', 'dude', '.', '.', '.', '<eos>'], ['<bos>', 'this', 'is', 'a', 'test', '<eos>']]\n",
      "un-tokenized:  [\"<bos> oh , yeah i don ' t know dude . . . <eos>\", '<bos> this is a test <eos>']\n"
     ]
    }
   ],
   "source": [
    "# List[str]->List[List[str]]\n",
    "s = [\"Oh, yeah I don't know dude...\", \"this is a test\"]\n",
    "tokenized = tok(s)\n",
    "print(\"original sentence: \", s)\n",
    "print(\"tokenized: \", tokenized)\n",
    "print(\"un-tokenized: \", tok.inverse(tokenized))"
   ]
  },
  {
   "cell_type": "markdown",
   "metadata": {},
   "source": [
    "#### Iterable"
   ]
  },
  {
   "cell_type": "code",
   "execution_count": null,
   "metadata": {},
   "outputs": [
    {
     "name": "stdout",
     "output_type": "stream",
     "text": [
      "# Tokenizer uses spacy backend\n",
      "(3, \"Fears for T N pension after talks Unions representing workers at Turner   Newall say they are 'disappointed' after talks with stricken parent firm Federal Mogul.\")\n"
     ]
    },
    {
     "name": "stderr",
     "output_type": "stream",
     "text": [
      "/opt/bitnami/python/lib/python3.11/site-packages/torch/utils/data/datapipes/iter/combining.py:297: UserWarning: Some child DataPipes are not exhausted when __iter__ is called. We are resetting the buffer and each child DataPipe will read from the start again.\n",
      "  warnings.warn(\"Some child DataPipes are not exhausted when __iter__ is called. We are resetting \"\n"
     ]
    },
    {
     "name": "stdout",
     "output_type": "stream",
     "text": [
      "7600\n",
      "[['Fears', 'for', 'T', 'N', 'pension', 'after', 'talks', 'Unions', 'representing', 'workers', 'at', 'Turner', '  ', 'Newall', 'say', 'they', 'are', \"'\", 'disappointed', \"'\", 'after', 'talks', 'with', 'stricken', 'parent', 'firm', 'Federal', 'Mogul', '.'], ['The', 'Race', 'is', 'On', ':', 'Second', 'Private', 'Team', 'Sets', 'Launch', 'Date', 'for', 'Human', 'Spaceflight', '(', 'SPACE.com', ')', 'SPACE.com', '-', 'TORONTO', ',', 'Canada', '--', 'A', 'second\\\\team', 'of', 'rocketeers', 'competing', 'for', 'the', ' ', '#', '36;10', 'million', 'Ansari', 'X', 'Prize', ',', 'a', 'contest', 'for\\\\privately', 'funded', 'suborbital', 'space', 'flight', ',', 'has', 'officially', 'announced', 'the', 'first\\\\launch', 'date', 'for', 'its', 'manned', 'rocket', '.']]\n"
     ]
    }
   ],
   "source": [
    "# Iterable -> Iterable\n",
    "tok = Tokenizer()\n",
    "ds = AG_NEWS(split='test') # data pipe\n",
    "sample = next(iter(ds)) # (label, text)\n",
    "print(sample)\n",
    "it = tok(ds)\n",
    "tokens = [token for token in it]\n",
    "print(len(tokens))\n",
    "print(tokens[:2])"
   ]
  },
  {
   "cell_type": "markdown",
   "metadata": {},
   "source": [
    "# Numericalizer\n",
    "https://pytorch.org/text/stable/vocab.html"
   ]
  },
  {
   "cell_type": "code",
   "execution_count": null,
   "metadata": {},
   "outputs": [],
   "source": [
    "#| export\n",
    "# TODO: add more special characters\n",
    "class Numericalizer():\n",
    "    def __init__(self, tokens_iter:Iterable, specials=[\"<pad>\", \"<unk>\", \"<bos>\", \"<eos>\"]):\n",
    "        self._vocab = self.build_map_from_iter(tokens_iter, specials)\n",
    "    \n",
    "    def build_map_from_iter(self,data_iter:Iterable, specials=None):\n",
    "        self._vocab = torchtext.vocab.build_vocab_from_iterator(data_iter, specials=specials)\n",
    "        if \"<unk>\" in specials:\n",
    "            self._vocab.set_default_index(self._vocab[\"<unk>\"])\n",
    "        return self._vocab\n",
    "\n",
    "    @dispatch\n",
    "    def __call__(self, texts:List[str])->List[List[int]]:\n",
    "        # TODO: check self._vocab has been built\n",
    "        return [self._vocab[text] for text in texts]\n",
    "    \n",
    "    @dispatch\n",
    "    def __call__(self, texts:List[List[str]]):\n",
    "        # TODO: use nested list comprehension\n",
    "        res = []\n",
    "        for row in texts:\n",
    "            res.append([self._vocab[text] for text in row])\n",
    "        return res\n",
    "        \n",
    "    @dispatch\n",
    "    def __call__(self, text:str)->int:\n",
    "        return self._vocab[text]\n",
    "    \n",
    "    @property\n",
    "    def vocab(self):\n",
    "        return(self._vocab)\n",
    "    \n",
    "    @dispatch\n",
    "    def inverse(self, idx:int)->str:\n",
    "        return self._vocab.get_itos()[idx]\n",
    "\n",
    "    @dispatch\n",
    "    def inverse(self, indices:List[int])->List[str]:\n",
    "        return [self._vocab.get_itos()[i] for i in indices]"
   ]
  },
  {
   "cell_type": "markdown",
   "metadata": {},
   "source": [
    "### Usage"
   ]
  },
  {
   "cell_type": "code",
   "execution_count": null,
   "metadata": {},
   "outputs": [
    {
     "name": "stdout",
     "output_type": "stream",
     "text": [
      "# Tokenizer uses spacy backend\n"
     ]
    }
   ],
   "source": [
    "tok = Tokenizer()\n",
    "# In the case of agnews, dataset is: [(index, text)]\n",
    "def token_iterator(data_iter:Iterable)->Iterable:\n",
    "    for _, text in data_iter:\n",
    "        yield tok(text)\n",
    "tok_it= token_iterator(ds)\n",
    "# initialize numericalizer based on token iterator\n",
    "num = Numericalizer(tok_it)"
   ]
  },
  {
   "cell_type": "code",
   "execution_count": null,
   "metadata": {},
   "outputs": [
    {
     "name": "stdout",
     "output_type": "stream",
     "text": [
      "0 1\n"
     ]
    }
   ],
   "source": [
    "print(num('<pad>'), num('<unk>'))"
   ]
  },
  {
   "cell_type": "code",
   "execution_count": null,
   "metadata": {},
   "outputs": [
    {
     "name": "stdout",
     "output_type": "stream",
     "text": [
      "4\n",
      "4\n",
      "[2, 0, 1, 9, 58, 4, 1]\n",
      "<pad>\n",
      "['.', 'Monday']\n",
      "[[2, 0], [1, 9, 58, 4, 1]]\n"
     ]
    }
   ],
   "source": [
    "print(num.vocab['the'])\n",
    "print(num('the'))\n",
    "print(num(['<bos>', '<pad>', '<unk>', 'a', 'this', 'the', 'lkjsdf']))\n",
    "print(num.inverse(0))\n",
    "print(num.inverse([6,55]))\n",
    "print(num([['<bos>', '<pad>'], ['<unk>', 'a', 'this', 'the', 'lkjsdf']]))"
   ]
  },
  {
   "cell_type": "code",
   "execution_count": null,
   "metadata": {},
   "outputs": [
    {
     "name": "stdout",
     "output_type": "stream",
     "text": [
      "[['here', 'we', 'go', '.', 'asdflkj'], ['it', 'was', 'time', '...']]\n",
      "[[534, 1040, 310, 6, 1], [34, 40, 101, 67]]\n",
      "[[534, 1040, 310, 6, 1], [34, 40, 101, 67]]\n"
     ]
    }
   ],
   "source": [
    "tokens = tok([\"here we go. asdflkj\", \"it was time...\"])\n",
    "print(tokens)\n",
    "print([num(tok) for tok in tokens])\n",
    "print(num(tokens))"
   ]
  },
  {
   "cell_type": "markdown",
   "metadata": {},
   "source": [
    "## Hugging Face tokenizers\n",
    "https://huggingface.co/learn/nlp-course/chapter2/4?fw=pt"
   ]
  },
  {
   "cell_type": "code",
   "execution_count": null,
   "metadata": {},
   "outputs": [
    {
     "name": "stderr",
     "output_type": "stream",
     "text": [
      "/opt/bitnami/python/lib/python3.11/site-packages/transformers/tokenization_utils_base.py:1601: FutureWarning: `clean_up_tokenization_spaces` was not set. It will be set to `True` by default. This behavior will be depracted in transformers v4.45, and will be then set to `False` by default. For more details check this issue: https://github.com/huggingface/transformers/issues/31884\n",
      "  warnings.warn(\n"
     ]
    }
   ],
   "source": [
    "tokenizer = AutoTokenizer.from_pretrained(\"gpt2\")"
   ]
  },
  {
   "cell_type": "code",
   "execution_count": null,
   "metadata": {},
   "outputs": [
    {
     "name": "stdout",
     "output_type": "stream",
     "text": [
      "['Using', 'Ġa', 'ĠTrans', 'former', 'Ġnetwork', 'Ġis', 'Ġsimple']\n"
     ]
    }
   ],
   "source": [
    "sequence = \"Using a Transformer network is simple\"\n",
    "tokens = tokenizer.tokenize(sequence)\n",
    "print(tokens)"
   ]
  },
  {
   "cell_type": "code",
   "execution_count": null,
   "metadata": {},
   "outputs": [
    {
     "name": "stdout",
     "output_type": "stream",
     "text": [
      "[12814, 257, 3602, 16354, 3127, 318, 2829]\n"
     ]
    }
   ],
   "source": [
    "ids = tokenizer.convert_tokens_to_ids(tokens)\n",
    "print(ids)"
   ]
  },
  {
   "cell_type": "code",
   "execution_count": null,
   "metadata": {},
   "outputs": [],
   "source": [
    "#| hide\n",
    "import nbdev; nbdev.nbdev_export()"
   ]
  },
  {
   "cell_type": "code",
   "execution_count": null,
   "metadata": {},
   "outputs": [],
   "source": []
  }
 ],
 "metadata": {
  "kernelspec": {
   "display_name": "python3",
   "language": "python",
   "name": "python3"
  },
  "language_info": {
   "name": "python",
   "version": "3.11.6"
  }
 },
 "nbformat": 4,
 "nbformat_minor": 2
}
