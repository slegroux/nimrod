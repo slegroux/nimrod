{
 "cells": [
  {
   "attachments": {},
   "cell_type": "markdown",
   "metadata": {},
   "source": [
    "# Text Tokenizers"
   ]
  },
  {
   "cell_type": "code",
   "execution_count": null,
   "metadata": {},
   "outputs": [],
   "source": [
    "#| default_exp text.tokenizers"
   ]
  },
  {
   "cell_type": "code",
   "execution_count": null,
   "metadata": {},
   "outputs": [
    {
     "name": "stdout",
     "output_type": "stream",
     "text": [
      "The autoreload extension is already loaded. To reload it, use:\n",
      "  %reload_ext autoreload\n"
     ]
    }
   ],
   "source": [
    "#| hide\n",
    "%load_ext autoreload\n",
    "%autoreload 2\n",
    "from nbdev.showdoc import *"
   ]
  },
  {
   "attachments": {},
   "cell_type": "markdown",
   "metadata": {},
   "source": [
    "## Phonemizer"
   ]
  },
  {
   "cell_type": "code",
   "execution_count": null,
   "metadata": {},
   "outputs": [],
   "source": [
    "#| export\n",
    "from phonemizer.backend import EspeakBackend\n",
    "from phonemizer.backend.espeak.language_switch import LanguageSwitch\n",
    "from phonemizer.backend.espeak.words_mismatch import WordMismatch\n",
    "from phonemizer.punctuation import Punctuation\n",
    "from phonemizer.separator import Separator\n",
    "from phonemizer import phonemize\n",
    "from torch.utils.data import DataLoader\n",
    "from plum import dispatch\n",
    "from typing import List, Tuple"
   ]
  },
  {
   "attachments": {},
   "cell_type": "markdown",
   "metadata": {},
   "source": [
    "Assumes espeak backend is installed via `apt-get install espeak`"
   ]
  },
  {
   "cell_type": "code",
   "execution_count": null,
   "metadata": {},
   "outputs": [],
   "source": [
    "#| export\n",
    "class Phonemizer():\n",
    "    def __init__(self,\n",
    "        separator=Separator(word=\" \", syllable=\"|\", phone=None), # separator\n",
    "        language='en-us', # language\n",
    "        backend='espeak', # phonemization backend (espeak)\n",
    "        strip=True, # strip\n",
    "        preserve_punctuation=True # preserve punctuation\n",
    "        ):\n",
    "        self.separator = separator\n",
    "        self.language = language\n",
    "        self.backend = backend\n",
    "        self.strip = strip\n",
    "        self.preserve_punctuation = preserve_punctuation\n",
    "    \n",
    "    @dispatch\n",
    "    def __call__(self, text:str, n_jobs=1)->str:\n",
    "        return(\n",
    "            phonemize(\n",
    "                text,\n",
    "                language=self.language,\n",
    "                backend=self.backend,\n",
    "                separator=self.separator,\n",
    "                strip=self.strip,\n",
    "                preserve_punctuation=self.preserve_punctuation,\n",
    "                njobs=n_jobs\n",
    "                )\n",
    "        )\n",
    "\n",
    "    @dispatch\n",
    "    def __call__(self, texts:List[str], n_jobs=1)->List[str]:\n",
    "        return(\n",
    "            [phonemize(\n",
    "                text,\n",
    "                language=self.language,\n",
    "                backend=self.backend,\n",
    "                separator=self.separator,\n",
    "                strip=self.strip,\n",
    "                preserve_punctuation=self.preserve_punctuation,\n",
    "                njobs=n_jobs\n",
    "                )\n",
    "        for text in texts])"
   ]
  },
  {
   "attachments": {},
   "cell_type": "markdown",
   "metadata": {},
   "source": [
    "## Usage"
   ]
  },
  {
   "cell_type": "code",
   "execution_count": null,
   "metadata": {},
   "outputs": [
    {
     "name": "stdout",
     "output_type": "stream",
     "text": [
      "oʊ ʃuːt aɪ mɪst maɪ tɹeɪn\n",
      "['oʊ dɪɹ, juːl biː faɪn!', 'ðɪs ɪz ɪt']\n"
     ]
    }
   ],
   "source": [
    "p = Phonemizer()\n",
    "text = \"oh shoot I missed my train\"\n",
    "print(p(text))\n",
    "text = [\"Oh Dear, you'll be fine!\", \"this is it\"]\n",
    "print(p(text))"
   ]
  },
  {
   "attachments": {},
   "cell_type": "markdown",
   "metadata": {},
   "source": [
    "## Tokenizer"
   ]
  },
  {
   "attachments": {},
   "cell_type": "markdown",
   "metadata": {},
   "source": [
    "Requires download of spacy specific language e.g. `python -m spacy download en`"
   ]
  },
  {
   "cell_type": "code",
   "execution_count": null,
   "metadata": {},
   "outputs": [],
   "source": [
    "#| export\n",
    "import torch\n",
    "from collections import Counter\n",
    "import torchtext\n",
    "from torchtext.data.utils import get_tokenizer\n",
    "from torchtext.vocab import build_vocab_from_iterator\n",
    "from collections import Counter\n",
    "from torchtext.datasets import AG_NEWS\n",
    "from typing import Iterable, List, Tuple\n",
    "from torch.nn.utils.rnn import pad_sequence"
   ]
  },
  {
   "cell_type": "code",
   "execution_count": null,
   "metadata": {},
   "outputs": [],
   "source": [
    "#| export \n",
    "\n",
    "class Tokenizer:\n",
    "    def __init__(self, backend='spacy', language='en'):\n",
    "        if language == 'en':\n",
    "            language = 'en_core_web_sm'\n",
    "        self.tokenizer = get_tokenizer(backend, language=language)\n",
    "\n",
    "    @dispatch\n",
    "    def __call__(self, text:str)->List[str]:\n",
    "        return self.tokenizer(text)\n",
    "    \n",
    "    @dispatch\n",
    "    def __call__(self, texts:List[str])->List[List[str]]:\n",
    "        return [self.tokenizer(text) for text in texts]\n",
    "    \n",
    "    @dispatch # to replace Iterable\n",
    "    # works with agnews type of dataset [(index, text)]\n",
    "    def __call__(self, data_iter:Iterable)->Iterable:\n",
    "        for _, text in data_iter:\n",
    "            yield self.tokenizer(text)\n",
    "\n",
    "    @dispatch    \n",
    "    def inverse(self, tokens:List[str])->str:\n",
    "        # TODO: take care of white spaces\n",
    "        return ' '.join(tokens)\n",
    "\n",
    "    @dispatch\n",
    "    def inverse(self, list_of_tokens:List[List[str]])->List[str]:\n",
    "        s = []\n",
    "        for tokens in list_of_tokens:\n",
    "            s.append(' '.join(tokens)) \n",
    "        return s"
   ]
  },
  {
   "cell_type": "markdown",
   "metadata": {},
   "source": [
    "## Usage"
   ]
  },
  {
   "cell_type": "code",
   "execution_count": null,
   "metadata": {},
   "outputs": [],
   "source": [
    "tok = Tokenizer()"
   ]
  },
  {
   "cell_type": "code",
   "execution_count": null,
   "metadata": {},
   "outputs": [
    {
     "name": "stdout",
     "output_type": "stream",
     "text": [
      "Oh, yeah I don't know dude...\n",
      "['Oh', ',', 'yeah', 'I', 'do', \"n't\", 'know', 'dude', '...']\n",
      "Oh , yeah I do n't know dude ...\n",
      "[['Oh', ',', 'yeah', 'I', 'do', \"n't\", 'know', 'dude', '...'], ['this', 'is', 'a', 'test']]\n",
      "[\"Oh , yeah I do n't know dude ...\", 'this is a test']\n",
      "[['Fears', 'for', 'T', 'N', 'pension', 'after', 'talks', 'Unions', 'representing', 'workers', 'at', 'Turner', '  ', 'Newall', 'say', 'they', 'are', \"'\", 'disappointed', \"'\", 'after', 'talks', 'with', 'stricken', 'parent', 'firm', 'Federal', 'Mogul', '.'], ['The', 'Race', 'is', 'On', ':', 'Second', 'Private', 'Team', 'Sets', 'Launch', 'Date', 'for', 'Human', 'Spaceflight', '(', 'SPACE.com', ')', 'SPACE.com', '-', 'TORONTO', ',', 'Canada', '--', 'A', 'second\\\\team', 'of', 'rocketeers', 'competing', 'for', 'the', ' ', '#', '36;10', 'million', 'Ansari', 'X', 'Prize', ',', 'a', 'contest', 'for\\\\privately', 'funded', 'suborbital', 'space', 'flight', ',', 'has', 'officially', 'announced', 'the', 'first\\\\launch', 'date', 'for', 'its', 'manned', 'rocket', '.']]\n"
     ]
    }
   ],
   "source": [
    "# str -> List[str]\n",
    "s = \"Oh, yeah I don't know dude...\"\n",
    "tokenized = tok(s)\n",
    "print(s)\n",
    "print(tokenized)\n",
    "print(tok.inverse(tokenized))\n",
    "\n",
    "# List[str]->List[List[str]]\n",
    "s = [\"Oh, yeah I don't know dude...\", \"this is a test\"]\n",
    "tokenized = tok(s)\n",
    "print(tokenized)\n",
    "print(tok.inverse(tokenized))\n",
    "\n",
    "# Iterable -> Iterable\n",
    "ds = AG_NEWS(split='test') # data pipe\n",
    "sample = next(iter(ds)) # (label, text)\n",
    "# print(sample)\n",
    "it = tok(ds)\n",
    "tokens = [token for token in it]\n",
    "print(tokens[:2])"
   ]
  },
  {
   "attachments": {},
   "cell_type": "markdown",
   "metadata": {},
   "source": [
    "## Numericalizer"
   ]
  },
  {
   "cell_type": "code",
   "execution_count": null,
   "metadata": {},
   "outputs": [],
   "source": [
    "#| export\n",
    "# TODO: add more special characters\n",
    "class Numericalizer():\n",
    "    def __init__(self, tokens_iter:Iterable, specials=[\"<pad>\", \"<unk>\", \"<bos>\", \"<eos>\"]):\n",
    "        self._vocab = self.build_map_from_iter(tokens_iter, specials)\n",
    "    \n",
    "    def build_map_from_iter(self,data_iter:Iterable, specials=None):\n",
    "        self._vocab = torchtext.vocab.build_vocab_from_iterator(data_iter, specials=specials)\n",
    "        if \"<unk>\" in specials:\n",
    "            self._vocab.set_default_index(self._vocab[\"<unk>\"])\n",
    "        return self._vocab\n",
    "\n",
    "    @dispatch\n",
    "    def __call__(self, texts:List[str])->List[List[int]]:\n",
    "        # TODO: check self._vocab has been built\n",
    "        return [self._vocab[text] for text in texts]\n",
    "    \n",
    "    @dispatch\n",
    "    def __call__(self, texts:List[List[str]]):\n",
    "        # TODO: use nested list comprehension\n",
    "        res = []\n",
    "        for row in texts:\n",
    "            res.append([self._vocab[text] for text in row])\n",
    "        return res\n",
    "        \n",
    "    @dispatch\n",
    "    def __call__(self, text:str)->int:\n",
    "        return self._vocab[text]\n",
    "    \n",
    "    @property\n",
    "    def vocab(self):\n",
    "        return(self._vocab)\n",
    "    \n",
    "    @dispatch\n",
    "    def inverse(self, idx:int)->str:\n",
    "        return self._vocab.get_itos()[idx]\n",
    "\n",
    "    @dispatch\n",
    "    def inverse(self, indices:List[int])->List[str]:\n",
    "        return [self._vocab.get_itos()[i] for i in indices]\n",
    "    "
   ]
  },
  {
   "attachments": {},
   "cell_type": "markdown",
   "metadata": {},
   "source": [
    "## Usage"
   ]
  },
  {
   "cell_type": "code",
   "execution_count": null,
   "metadata": {},
   "outputs": [],
   "source": [
    "tok = Tokenizer()\n",
    "# In the case of agnews, dataset is: [(index, text)]\n",
    "def token_iterator(data_iter:Iterable)->Iterable:\n",
    "    for _, text in data_iter:\n",
    "        yield tok(text)\n",
    "tok_it= token_iterator(ds)\n",
    "# initialize numericalizer based on token iterator\n",
    "num = Numericalizer(tok_it)"
   ]
  },
  {
   "cell_type": "code",
   "execution_count": null,
   "metadata": {},
   "outputs": [
    {
     "name": "stdout",
     "output_type": "stream",
     "text": [
      "0 1\n"
     ]
    }
   ],
   "source": [
    "print(num('<pad>'), num('<unk>'))"
   ]
  },
  {
   "cell_type": "code",
   "execution_count": null,
   "metadata": {},
   "outputs": [
    {
     "name": "stdout",
     "output_type": "stream",
     "text": [
      "4\n",
      "4\n",
      "[2, 0, 1, 9, 58, 4, 1]\n",
      "<pad>\n",
      "['.', 'Monday']\n",
      "[[2, 0], [1, 9, 58, 4, 1]]\n"
     ]
    }
   ],
   "source": [
    "print(num.vocab['the'])\n",
    "print(num('the'))\n",
    "print(num(['<bos>', '<pad>', '<unk>', 'a', 'this', 'the', 'lkjsdf']))\n",
    "print(num.inverse(0))\n",
    "print(num.inverse([6,55]))\n",
    "print(num([['<bos>', '<pad>'], ['<unk>', 'a', 'this', 'the', 'lkjsdf']]))"
   ]
  },
  {
   "cell_type": "code",
   "execution_count": null,
   "metadata": {},
   "outputs": [
    {
     "name": "stdout",
     "output_type": "stream",
     "text": [
      "[['here', 'we', 'go', '.', 'asdflkj'], ['it', 'was', 'time', '...']]\n",
      "[[534, 1040, 310, 6, 1], [34, 40, 101, 67]]\n",
      "[[534, 1040, 310, 6, 1], [34, 40, 101, 67]]\n"
     ]
    }
   ],
   "source": [
    "tokens = tok([\"here we go. asdflkj\", \"it was time...\"])\n",
    "print(tokens)\n",
    "print([num(tok) for tok in tokens])\n",
    "print(num(tokens))\n",
    "\n"
   ]
  },
  {
   "cell_type": "code",
   "execution_count": null,
   "metadata": {},
   "outputs": [],
   "source": [
    "#| export\n",
    "class TextCollater:\n",
    "    def __init__(self,\n",
    "                 tokenizer,\n",
    "                 numericalizer,\n",
    "                 padding_value:int=0\n",
    "                ):\n",
    "        self._numericalizer = numericalizer\n",
    "        self._tokenizer = tokenizer\n",
    "        self.padding_value = padding_value\n",
    "\n",
    "    def collate_list(self, texts:List[str])->Tuple[torch.Tensor, torch.Tensor]:\n",
    "        token_list = self._tokenizer(texts)\n",
    "        token_list = [torch.LongTensor(tokens) for tokens in self._numericalizer(token_list)]\n",
    "        text_lens = torch.LongTensor([tokens.shape[0] for tokens in token_list])\n",
    "        text_pad = pad_sequence(token_list, batch_first=True, padding_value=self.padding_value)\n",
    "        return text_pad, text_lens\n",
    "\n",
    "    def collate_agnews(self, batch)->Tuple[torch.Tensor, torch.Tensor]:\n",
    "        texts = [item[1] for item in batch]\n",
    "        token_list = self._tokenizer(texts)\n",
    "        token_list = [torch.LongTensor(tokens) for tokens in self._numericalizer(token_list)]\n",
    "        text_lens = torch.LongTensor([tokens.shape[0] for tokens in token_list])\n",
    "        text_pad = pad_sequence(token_list, batch_first=True, padding_value=self.padding_value)\n",
    "        return text_pad, text_lens"
   ]
  },
  {
   "cell_type": "code",
   "execution_count": null,
   "metadata": {},
   "outputs": [
    {
     "name": "stdout",
     "output_type": "stream",
     "text": [
      "[['this', 'is', 'it', '...'], ['this', 'is', 'the', 'second', 'sentence', '.']]\n",
      "[[58, 27, 34, 67], [58, 27, 4, 95, 3714, 6]]\n",
      "(tensor([[  58,   27,   34,   67,    0,    0],\n",
      "        [  58,   27,    4,   95, 3714,    6]]), tensor([4, 6]))\n"
     ]
    }
   ],
   "source": [
    "texts = [\"this is it...\", \"this is the second sentence.\"]\n",
    "t = tok(texts)\n",
    "print(t)\n",
    "tt = num(t)\n",
    "print(tt)\n",
    "ttt= [torch.Tensor(t) for t in tt]\n",
    "[t.shape[0] for t in ttt]\n",
    "collater = TextCollater(tok, num)\n",
    "print(collater.collate_list(texts))\n",
    "dl = DataLoader(dataset=ds, batch_size=2, shuffle=True, collate_fn=collater.collate_agnews)"
   ]
  },
  {
   "cell_type": "code",
   "execution_count": null,
   "metadata": {},
   "outputs": [
    {
     "name": "stdout",
     "output_type": "stream",
     "text": [
      "batch:  (tensor([[ 3894,  6448,    13,   532,   179,  9855,  1683,    14,   932,    17,\n",
      "          3586,    18,   453,    11,  3894,   371,  2260,     5,     4,   100,\n",
      "            16,    19,   171,   284,     8,   312,  1820,     5,  1406,    42,\n",
      "            22,   454,   401,  2514,    28,     4,    63,    27,  2297,  3327,\n",
      "            21,    41,  2455,  2275,   797,    69],\n",
      "        [ 3592,  6422,  3288,     7,  1359,   928,    15,  2846,    17,    36,\n",
      "            18,     8,   212,   119,  2290,    71,   157,    15,  3202,  1163,\n",
      "          8066,    60,    13,  7023,   971,    20,    15,  1673,    10,  2735,\n",
      "          6044,    39,  2951, 10519,   194,     4,    15,   873,  8398,  1748,\n",
      "             6,     0,     0,     0,     0,     0]]), tensor([46, 41]))\n",
      "[3894, 6448, 13, 532, 179, 9855, 1683, 14, 932, 17, 3586, 18, 453, 11, 3894, 371, 2260, 5, 4, 100, 16, 19, 171, 284, 8, 312, 1820, 5, 1406, 42, 22, 454, 401, 2514, 28, 4, 63, 27, 2297, 3327, 21, 41, 2455, 2275, 797, 69]\n",
      "['Vodafone', 'Drops', 'on', 'Report', 'It', 'Supports', 'Bid', 'for', 'Sprint', '(', 'Update2', ')', 'Shares', 'in', 'Vodafone', 'Group', 'Plc', ',', 'the', 'world', '#', '39;s', 'largest', 'mobile', '-', 'phone', 'operator', ',', 'dropped', 'after', 'The', 'Wall', 'Street', 'Journal', 'said', 'the', 'company', 'is', 'considering', 'bidding', 'with', 'US', 'partner', 'Verizon', 'Communications', 'Inc.']\n",
      "[3592, 6422, 3288, 7, 1359, 928, 15, 2846, 17, 36, 18, 8, 212, 119, 2290, 71, 157, 15, 3202, 1163, 8066, 60, 13, 7023, 971, 20, 15, 1673, 10, 2735, 6044, 39, 2951, 10519, 194, 4, 15, 873, 8398, 1748, 6]\n",
      "['Winter', 'Concerns', 'Push', 'to', 'Record', 'High', ' ', 'SINGAPORE', '(', 'Reuters', ')', '-', 'Oil', 'prices', 'broke', 'into', 'record', ' ', 'territory', 'above', '\\\\$52', 'Thursday', 'on', 'heightened', 'concerns', 'that', ' ', 'supplies', 'of', 'heating', 'fuels', 'will', 'prove', 'inadequate', 'during', 'the', ' ', 'northern', 'hemisphere', 'winter', '.']\n"
     ]
    }
   ],
   "source": [
    "b = next(iter(dl))\n",
    "print('batch: ', b)\n",
    "tokens, lens = b[0], b[1]\n",
    "for token, len in zip(tokens, lens):\n",
    "    print(token[:len].tolist())\n",
    "    print(num.inverse(token[:len].tolist()))"
   ]
  },
  {
   "cell_type": "code",
   "execution_count": null,
   "metadata": {},
   "outputs": [],
   "source": [
    "#| hide\n",
    "import nbdev; nbdev.nbdev_export()"
   ]
  }
 ],
 "metadata": {
  "kernelspec": {
   "display_name": "python3",
   "language": "python",
   "name": "python3"
  }
 },
 "nbformat": 4,
 "nbformat_minor": 2
}
