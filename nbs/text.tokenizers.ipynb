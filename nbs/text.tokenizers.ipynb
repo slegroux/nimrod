{
 "cells": [
  {
   "attachments": {},
   "cell_type": "markdown",
   "metadata": {},
   "source": [
    "# Text tokenizers"
   ]
  },
  {
   "cell_type": "code",
   "execution_count": null,
   "metadata": {},
   "outputs": [],
   "source": [
    "#| default_exp text.tokenizers"
   ]
  },
  {
   "cell_type": "code",
   "execution_count": null,
   "metadata": {},
   "outputs": [],
   "source": [
    "#| hide\n",
    "%load_ext autoreload\n",
    "%autoreload 2\n",
    "from nbdev.showdoc import *"
   ]
  },
  {
   "cell_type": "code",
   "execution_count": null,
   "metadata": {},
   "outputs": [
    {
     "name": "stderr",
     "output_type": "stream",
     "text": [
      "/Users/slegroux/miniforge3/envs/nimrod/lib/python3.11/site-packages/torchtext/vocab/__init__.py:4: UserWarning: \n",
      "/!\\ IMPORTANT WARNING ABOUT TORCHTEXT STATUS /!\\ \n",
      "Torchtext is deprecated and the last released version will be 0.18 (this one). You can silence this warning by calling the following at the beginnign of your scripts: `import torchtext; torchtext.disable_torchtext_deprecation_warning()`\n",
      "  warnings.warn(torchtext._TORCHTEXT_DEPRECATION_MSG)\n",
      "/Users/slegroux/miniforge3/envs/nimrod/lib/python3.11/site-packages/torchtext/utils.py:4: UserWarning: \n",
      "/!\\ IMPORTANT WARNING ABOUT TORCHTEXT STATUS /!\\ \n",
      "Torchtext is deprecated and the last released version will be 0.18 (this one). You can silence this warning by calling the following at the beginnign of your scripts: `import torchtext; torchtext.disable_torchtext_deprecation_warning()`\n",
      "  warnings.warn(torchtext._TORCHTEXT_DEPRECATION_MSG)\n",
      "/Users/slegroux/miniforge3/envs/nimrod/lib/python3.11/site-packages/torchtext/data/__init__.py:4: UserWarning: \n",
      "/!\\ IMPORTANT WARNING ABOUT TORCHTEXT STATUS /!\\ \n",
      "Torchtext is deprecated and the last released version will be 0.18 (this one). You can silence this warning by calling the following at the beginnign of your scripts: `import torchtext; torchtext.disable_torchtext_deprecation_warning()`\n",
      "  warnings.warn(torchtext._TORCHTEXT_DEPRECATION_MSG)\n",
      "/Users/slegroux/miniforge3/envs/nimrod/lib/python3.11/site-packages/torchtext/datasets/__init__.py:4: UserWarning: \n",
      "/!\\ IMPORTANT WARNING ABOUT TORCHTEXT STATUS /!\\ \n",
      "Torchtext is deprecated and the last released version will be 0.18 (this one). You can silence this warning by calling the following at the beginnign of your scripts: `import torchtext; torchtext.disable_torchtext_deprecation_warning()`\n",
      "  warnings.warn(torchtext._TORCHTEXT_DEPRECATION_MSG)\n"
     ]
    },
    {
     "name": "stdout",
     "output_type": "stream",
     "text": [
      "Collecting en-core-web-sm==3.7.1\n",
      "  Downloading https://github.com/explosion/spacy-models/releases/download/en_core_web_sm-3.7.1/en_core_web_sm-3.7.1-py3-none-any.whl (12.8 MB)\n",
      "\u001b[2K     \u001b[90m━━━━━━━━━━━━━━━━━━━━━━━━━━━━━━━━━━━━━━━━\u001b[0m \u001b[32m12.8/12.8 MB\u001b[0m \u001b[31m32.9 MB/s\u001b[0m eta \u001b[36m0:00:00\u001b[0m \u001b[36m0:00:01\u001b[0m\n",
      "\u001b[?25hRequirement already satisfied: spacy<3.8.0,>=3.7.2 in /Users/slegroux/miniforge3/envs/nimrod/lib/python3.11/site-packages (from en-core-web-sm==3.7.1) (3.7.6)\n",
      "Requirement already satisfied: spacy-legacy<3.1.0,>=3.0.11 in /Users/slegroux/miniforge3/envs/nimrod/lib/python3.11/site-packages (from spacy<3.8.0,>=3.7.2->en-core-web-sm==3.7.1) (3.0.12)\n",
      "Requirement already satisfied: spacy-loggers<2.0.0,>=1.0.0 in /Users/slegroux/miniforge3/envs/nimrod/lib/python3.11/site-packages (from spacy<3.8.0,>=3.7.2->en-core-web-sm==3.7.1) (1.0.5)\n",
      "Requirement already satisfied: murmurhash<1.1.0,>=0.28.0 in /Users/slegroux/miniforge3/envs/nimrod/lib/python3.11/site-packages (from spacy<3.8.0,>=3.7.2->en-core-web-sm==3.7.1) (1.0.10)\n",
      "Requirement already satisfied: cymem<2.1.0,>=2.0.2 in /Users/slegroux/miniforge3/envs/nimrod/lib/python3.11/site-packages (from spacy<3.8.0,>=3.7.2->en-core-web-sm==3.7.1) (2.0.8)\n",
      "Requirement already satisfied: preshed<3.1.0,>=3.0.2 in /Users/slegroux/miniforge3/envs/nimrod/lib/python3.11/site-packages (from spacy<3.8.0,>=3.7.2->en-core-web-sm==3.7.1) (3.0.9)\n",
      "Requirement already satisfied: thinc<8.3.0,>=8.2.2 in /Users/slegroux/miniforge3/envs/nimrod/lib/python3.11/site-packages (from spacy<3.8.0,>=3.7.2->en-core-web-sm==3.7.1) (8.2.5)\n",
      "Requirement already satisfied: wasabi<1.2.0,>=0.9.1 in /Users/slegroux/miniforge3/envs/nimrod/lib/python3.11/site-packages (from spacy<3.8.0,>=3.7.2->en-core-web-sm==3.7.1) (1.1.3)\n",
      "Requirement already satisfied: srsly<3.0.0,>=2.4.3 in /Users/slegroux/miniforge3/envs/nimrod/lib/python3.11/site-packages (from spacy<3.8.0,>=3.7.2->en-core-web-sm==3.7.1) (2.4.8)\n",
      "Requirement already satisfied: catalogue<2.1.0,>=2.0.6 in /Users/slegroux/miniforge3/envs/nimrod/lib/python3.11/site-packages (from spacy<3.8.0,>=3.7.2->en-core-web-sm==3.7.1) (2.0.10)\n",
      "Requirement already satisfied: weasel<0.5.0,>=0.1.0 in /Users/slegroux/miniforge3/envs/nimrod/lib/python3.11/site-packages (from spacy<3.8.0,>=3.7.2->en-core-web-sm==3.7.1) (0.4.1)\n",
      "Requirement already satisfied: typer<1.0.0,>=0.3.0 in /Users/slegroux/miniforge3/envs/nimrod/lib/python3.11/site-packages (from spacy<3.8.0,>=3.7.2->en-core-web-sm==3.7.1) (0.9.4)\n",
      "Requirement already satisfied: tqdm<5.0.0,>=4.38.0 in /Users/slegroux/miniforge3/envs/nimrod/lib/python3.11/site-packages (from spacy<3.8.0,>=3.7.2->en-core-web-sm==3.7.1) (4.67.0)\n",
      "Requirement already satisfied: requests<3.0.0,>=2.13.0 in /Users/slegroux/miniforge3/envs/nimrod/lib/python3.11/site-packages (from spacy<3.8.0,>=3.7.2->en-core-web-sm==3.7.1) (2.32.3)\n",
      "Requirement already satisfied: pydantic!=1.8,!=1.8.1,<3.0.0,>=1.7.4 in /Users/slegroux/miniforge3/envs/nimrod/lib/python3.11/site-packages (from spacy<3.8.0,>=3.7.2->en-core-web-sm==3.7.1) (2.9.2)\n",
      "Requirement already satisfied: jinja2 in /Users/slegroux/miniforge3/envs/nimrod/lib/python3.11/site-packages (from spacy<3.8.0,>=3.7.2->en-core-web-sm==3.7.1) (3.1.4)\n",
      "Requirement already satisfied: setuptools in /Users/slegroux/miniforge3/envs/nimrod/lib/python3.11/site-packages (from spacy<3.8.0,>=3.7.2->en-core-web-sm==3.7.1) (68.2.2)\n",
      "Requirement already satisfied: packaging>=20.0 in /Users/slegroux/miniforge3/envs/nimrod/lib/python3.11/site-packages (from spacy<3.8.0,>=3.7.2->en-core-web-sm==3.7.1) (24.1)\n",
      "Requirement already satisfied: langcodes<4.0.0,>=3.2.0 in /Users/slegroux/miniforge3/envs/nimrod/lib/python3.11/site-packages (from spacy<3.8.0,>=3.7.2->en-core-web-sm==3.7.1) (3.4.0)\n",
      "Requirement already satisfied: numpy>=1.19.0 in /Users/slegroux/miniforge3/envs/nimrod/lib/python3.11/site-packages (from spacy<3.8.0,>=3.7.2->en-core-web-sm==3.7.1) (1.26.4)\n",
      "Requirement already satisfied: language-data>=1.2 in /Users/slegroux/miniforge3/envs/nimrod/lib/python3.11/site-packages (from langcodes<4.0.0,>=3.2.0->spacy<3.8.0,>=3.7.2->en-core-web-sm==3.7.1) (1.2.0)\n",
      "Requirement already satisfied: annotated-types>=0.6.0 in /Users/slegroux/miniforge3/envs/nimrod/lib/python3.11/site-packages (from pydantic!=1.8,!=1.8.1,<3.0.0,>=1.7.4->spacy<3.8.0,>=3.7.2->en-core-web-sm==3.7.1) (0.7.0)\n",
      "Requirement already satisfied: pydantic-core==2.23.4 in /Users/slegroux/miniforge3/envs/nimrod/lib/python3.11/site-packages (from pydantic!=1.8,!=1.8.1,<3.0.0,>=1.7.4->spacy<3.8.0,>=3.7.2->en-core-web-sm==3.7.1) (2.23.4)\n",
      "Requirement already satisfied: typing-extensions>=4.6.1 in /Users/slegroux/miniforge3/envs/nimrod/lib/python3.11/site-packages (from pydantic!=1.8,!=1.8.1,<3.0.0,>=1.7.4->spacy<3.8.0,>=3.7.2->en-core-web-sm==3.7.1) (4.11.0)\n",
      "Requirement already satisfied: charset-normalizer<4,>=2 in /Users/slegroux/miniforge3/envs/nimrod/lib/python3.11/site-packages (from requests<3.0.0,>=2.13.0->spacy<3.8.0,>=3.7.2->en-core-web-sm==3.7.1) (3.3.2)\n",
      "Requirement already satisfied: idna<4,>=2.5 in /Users/slegroux/miniforge3/envs/nimrod/lib/python3.11/site-packages (from requests<3.0.0,>=2.13.0->spacy<3.8.0,>=3.7.2->en-core-web-sm==3.7.1) (3.8)\n",
      "Requirement already satisfied: urllib3<3,>=1.21.1 in /Users/slegroux/miniforge3/envs/nimrod/lib/python3.11/site-packages (from requests<3.0.0,>=2.13.0->spacy<3.8.0,>=3.7.2->en-core-web-sm==3.7.1) (2.2.2)\n",
      "Requirement already satisfied: certifi>=2017.4.17 in /Users/slegroux/miniforge3/envs/nimrod/lib/python3.11/site-packages (from requests<3.0.0,>=2.13.0->spacy<3.8.0,>=3.7.2->en-core-web-sm==3.7.1) (2024.8.30)\n",
      "Requirement already satisfied: blis<0.8.0,>=0.7.8 in /Users/slegroux/miniforge3/envs/nimrod/lib/python3.11/site-packages (from thinc<8.3.0,>=8.2.2->spacy<3.8.0,>=3.7.2->en-core-web-sm==3.7.1) (0.7.11)\n",
      "Requirement already satisfied: confection<1.0.0,>=0.0.1 in /Users/slegroux/miniforge3/envs/nimrod/lib/python3.11/site-packages (from thinc<8.3.0,>=8.2.2->spacy<3.8.0,>=3.7.2->en-core-web-sm==3.7.1) (0.1.5)\n",
      "Requirement already satisfied: click<9.0.0,>=7.1.1 in /Users/slegroux/miniforge3/envs/nimrod/lib/python3.11/site-packages (from typer<1.0.0,>=0.3.0->spacy<3.8.0,>=3.7.2->en-core-web-sm==3.7.1) (8.1.7)\n",
      "Requirement already satisfied: cloudpathlib<1.0.0,>=0.7.0 in /Users/slegroux/miniforge3/envs/nimrod/lib/python3.11/site-packages (from weasel<0.5.0,>=0.1.0->spacy<3.8.0,>=3.7.2->en-core-web-sm==3.7.1) (0.19.0)\n",
      "Requirement already satisfied: smart-open<8.0.0,>=5.2.1 in /Users/slegroux/miniforge3/envs/nimrod/lib/python3.11/site-packages (from weasel<0.5.0,>=0.1.0->spacy<3.8.0,>=3.7.2->en-core-web-sm==3.7.1) (6.4.0)\n",
      "Requirement already satisfied: MarkupSafe>=2.0 in /Users/slegroux/miniforge3/envs/nimrod/lib/python3.11/site-packages (from jinja2->spacy<3.8.0,>=3.7.2->en-core-web-sm==3.7.1) (2.1.5)\n",
      "Requirement already satisfied: marisa-trie>=0.7.7 in /Users/slegroux/miniforge3/envs/nimrod/lib/python3.11/site-packages (from language-data>=1.2->langcodes<4.0.0,>=3.2.0->spacy<3.8.0,>=3.7.2->en-core-web-sm==3.7.1) (1.2.0)\n",
      "\u001b[38;5;2m✔ Download and installation successful\u001b[0m\n",
      "You can now load the package via spacy.load('en_core_web_sm')\n",
      "\u001b[38;5;3m⚠ Restart to reload dependencies\u001b[0m\n",
      "If you are in a Jupyter or Colab notebook, you may need to restart Python in\n",
      "order to load all the package's dependencies. You can do this by selecting the\n",
      "'Restart kernel' or 'Restart runtime' option.\n"
     ]
    }
   ],
   "source": [
    "#| export\n",
    "\n",
    "# torch\n",
    "import torch.nn as nn\n",
    "import torch\n",
    "import torch.nn.functional as F\n",
    "from torch.nn.utils.rnn import pad_sequence\n",
    "from torch.optim import SGD\n",
    "\n",
    "# torchtext\n",
    "import torchtext\n",
    "from torchtext.vocab import vocab\n",
    "from torchtext.data.utils import get_tokenizer\n",
    "from torchtext.datasets import AG_NEWS\n",
    "\n",
    "# hf\n",
    "import datasets\n",
    "from transformers import AutoTokenizer, DataCollatorForLanguageModeling\n",
    "\n",
    "# data \n",
    "import pandas as pd\n",
    "import numpy as np\n",
    "\n",
    "# ui\n",
    "from matplotlib import pyplot as plt\n",
    "from tqdm.notebook import tqdm\n",
    "\n",
    "# python\n",
    "from typing import Dict, List, Tuple, Optional, Set, Iterable\n",
    "from collections import Counter, OrderedDict\n",
    "from dataclasses import dataclass, asdict\n",
    "from plum import dispatch\n",
    "\n",
    "from spacy.cli import download\n",
    "download('en_core_web_sm')\n",
    "\n",
    "# nimrod\n",
    "# from nimrod.models.lm import Vocab\n"
   ]
  },
  {
   "cell_type": "markdown",
   "metadata": {},
   "source": [
    "## Torchtext\n",
    "https://pytorch.org/text/0.16.0/data_utils.html"
   ]
  },
  {
   "cell_type": "code",
   "execution_count": null,
   "metadata": {},
   "outputs": [],
   "source": [
    "#| export \n",
    "\n",
    "class Tokenizer:\n",
    "    def __init__(self,\n",
    "                backend:str='spacy', # backend tokenizer default to spacy\n",
    "                language:str='en', # language on which tokenization is applied\n",
    "                bos:bool=False, # add beginning of sentence tag <bos>\n",
    "                eos:bool=False, # add end of sentence tag <eos>\n",
    "                ):\n",
    "        if backend == 'spacy' and language == 'en':\n",
    "            language = 'en_core_web_sm'\n",
    "        if backend== 'character_based':\n",
    "            self.tokenizer = self.character_tokenizer\n",
    "        else:\n",
    "            self.tokenizer = get_tokenizer(backend, language=language)\n",
    "        self.bos = bos\n",
    "        self.eos = eos\n",
    "        self.backend = backend\n",
    "        print(f\"# Tokenizer uses {self.backend} backend\")\n",
    "    \n",
    "    @staticmethod\n",
    "    def character_tokenizer(text:str)->List[str]:\n",
    "        return [c for c in text]\n",
    "    \n",
    "    @dispatch\n",
    "    def __call__(self, text:str)->List[str]:\n",
    "        res = self.tokenizer(text)\n",
    "        if self.bos:\n",
    "            res = ['<bos>'] + res\n",
    "        if self.eos:\n",
    "            res = res + ['<eos>']\n",
    "        return(res)\n",
    "    \n",
    "    @dispatch\n",
    "    def __call__(self, texts:List[str])->List[List[str]]:\n",
    "        return [self(text) for text in texts]\n",
    "    \n",
    "    @dispatch # to replace Iterable\n",
    "    # works with agnews type of dataset [(index, text)]\n",
    "    def __call__(self, data_iter:Iterable)->Iterable:\n",
    "        for _, text in data_iter:\n",
    "            yield self(text)\n",
    "\n",
    "    @dispatch    \n",
    "    def inverse(self, tokens:List[str])->str:\n",
    "        if self.backend == 'character_based':\n",
    "            return ''.join(tokens)\n",
    "        # TODO: take care of white spaces\n",
    "        else:\n",
    "            return ' '.join(tokens)\n",
    "\n",
    "    @dispatch\n",
    "    def inverse(self, list_of_tokens:List[List[str]])->List[str]:\n",
    "        s = []\n",
    "        for tokens in list_of_tokens:\n",
    "            s.append(self.inverse(tokens))\n",
    "        return s"
   ]
  },
  {
   "cell_type": "markdown",
   "metadata": {},
   "source": [
    "### Usage"
   ]
  },
  {
   "cell_type": "markdown",
   "metadata": {},
   "source": [
    "#### String"
   ]
  },
  {
   "cell_type": "code",
   "execution_count": null,
   "metadata": {},
   "outputs": [
    {
     "name": "stdout",
     "output_type": "stream",
     "text": [
      "# Tokenizer uses character_based backend\n",
      "original sentence:  Oh, yeah I'm not sure...\n",
      "tokenized:  ['<bos>', 'O', 'h', ',', ' ', 'y', 'e', 'a', 'h', ' ', 'I', \"'\", 'm', ' ', 'n', 'o', 't', ' ', 's', 'u', 'r', 'e', '.', '.', '.', '<eos>']\n",
      "un-tokenized:  <bos>Oh, yeah I'm not sure...<eos>\n",
      "# Tokenizer uses spacy backend\n",
      "original sentence:  Oh, yeah I'm not sure...\n",
      "tokenized:  ['<bos>', 'Oh', ',', 'yeah', 'I', \"'m\", 'not', 'sure', '...', '<eos>']\n",
      "un-tokenized:  <bos> Oh , yeah I 'm not sure ... <eos>\n",
      "# Tokenizer uses basic_english backend\n",
      "original sentence:  Oh, yeah I'm not sure...\n",
      "tokenized:  ['<bos>', 'oh', ',', 'yeah', 'i', \"'\", 'm', 'not', 'sure', '.', '.', '.', '<eos>']\n",
      "un-tokenized:  <bos> oh , yeah i ' m not sure . . . <eos>\n"
     ]
    }
   ],
   "source": [
    "tok = Tokenizer(backend='character_based', bos=True, eos=True)\n",
    "# str -> List[str]\n",
    "s = \"Oh, yeah I'm not sure...\"\n",
    "tokenized = tok(s)\n",
    "print(\"original sentence: \", s)\n",
    "print(\"tokenized: \", tokenized)\n",
    "print(\"un-tokenized: \", tok.inverse(tokenized))\n",
    "\n",
    "tok = Tokenizer(backend='spacy', bos=True, eos=True)\n",
    "# str -> List[str]\n",
    "s = \"Oh, yeah I'm not sure...\"\n",
    "tokenized = tok(s)\n",
    "print(\"original sentence: \", s)\n",
    "print(\"tokenized: \", tokenized)\n",
    "print(\"un-tokenized: \", tok.inverse(tokenized))\n",
    "\n",
    "tok = Tokenizer(backend='basic_english', bos=True, eos=True)\n",
    "# str -> List[str]\n",
    "s = \"Oh, yeah I'm not sure...\"\n",
    "tokenized = tok(s)\n",
    "print(\"original sentence: \", s)\n",
    "print(\"tokenized: \", tokenized)\n",
    "print(\"un-tokenized: \", tok.inverse(tokenized))"
   ]
  },
  {
   "cell_type": "markdown",
   "metadata": {},
   "source": [
    "#### List of strings"
   ]
  },
  {
   "cell_type": "code",
   "execution_count": null,
   "metadata": {},
   "outputs": [
    {
     "name": "stdout",
     "output_type": "stream",
     "text": [
      "original sentence:  [\"Oh, yeah I don't know dude...\", 'this is a test']\n",
      "tokenized:  [['<bos>', 'oh', ',', 'yeah', 'i', 'don', \"'\", 't', 'know', 'dude', '.', '.', '.', '<eos>'], ['<bos>', 'this', 'is', 'a', 'test', '<eos>']]\n",
      "un-tokenized:  [\"<bos> oh , yeah i don ' t know dude . . . <eos>\", '<bos> this is a test <eos>']\n"
     ]
    }
   ],
   "source": [
    "# List[str]->List[List[str]]\n",
    "s = [\"Oh, yeah I don't know dude...\", \"this is a test\"]\n",
    "tokenized = tok(s)\n",
    "print(\"original sentence: \", s)\n",
    "print(\"tokenized: \", tokenized)\n",
    "print(\"un-tokenized: \", tok.inverse(tokenized))"
   ]
  },
  {
   "cell_type": "markdown",
   "metadata": {},
   "source": [
    "#### Iterable"
   ]
  },
  {
   "cell_type": "code",
   "execution_count": null,
   "metadata": {},
   "outputs": [
    {
     "name": "stdout",
     "output_type": "stream",
     "text": [
      "# Tokenizer uses spacy backend\n",
      "(3, \"Fears for T N pension after talks Unions representing workers at Turner   Newall say they are 'disappointed' after talks with stricken parent firm Federal Mogul.\")\n"
     ]
    },
    {
     "name": "stderr",
     "output_type": "stream",
     "text": [
      "/Users/slegroux/miniforge3/envs/nimrod/lib/python3.11/site-packages/torchdata/datapipes/__init__.py:18: UserWarning: \n",
      "################################################################################\n",
      "WARNING!\n",
      "The 'datapipes', 'dataloader2' modules are deprecated and will be removed in a\n",
      "future torchdata release! Please see https://github.com/pytorch/data/issues/1196\n",
      "to learn more and leave feedback.\n",
      "################################################################################\n",
      "\n",
      "  deprecation_warning()\n",
      "/Users/slegroux/miniforge3/envs/nimrod/lib/python3.11/site-packages/torch/utils/data/datapipes/iter/combining.py:337: UserWarning: Some child DataPipes are not exhausted when __iter__ is called. We are resetting the buffer and each child DataPipe will read from the start again.\n",
      "  warnings.warn(\"Some child DataPipes are not exhausted when __iter__ is called. We are resetting \"\n"
     ]
    },
    {
     "name": "stdout",
     "output_type": "stream",
     "text": [
      "7600\n",
      "[['Fears', 'for', 'T', 'N', 'pension', 'after', 'talks', 'Unions', 'representing', 'workers', 'at', 'Turner', '  ', 'Newall', 'say', 'they', 'are', \"'\", 'disappointed', \"'\", 'after', 'talks', 'with', 'stricken', 'parent', 'firm', 'Federal', 'Mogul', '.'], ['The', 'Race', 'is', 'On', ':', 'Second', 'Private', 'Team', 'Sets', 'Launch', 'Date', 'for', 'Human', 'Spaceflight', '(', 'SPACE.com', ')', 'SPACE.com', '-', 'TORONTO', ',', 'Canada', '--', 'A', 'second\\\\team', 'of', 'rocketeers', 'competing', 'for', 'the', ' ', '#', '36;10', 'million', 'Ansari', 'X', 'Prize', ',', 'a', 'contest', 'for\\\\privately', 'funded', 'suborbital', 'space', 'flight', ',', 'has', 'officially', 'announced', 'the', 'first\\\\launch', 'date', 'for', 'its', 'manned', 'rocket', '.']]\n"
     ]
    }
   ],
   "source": [
    "# Iterable -> Iterable\n",
    "tok = Tokenizer()\n",
    "ds = AG_NEWS(split='test') # data pipe\n",
    "sample = next(iter(ds)) # (label, text)\n",
    "print(sample)\n",
    "it = tok(ds)\n",
    "tokens = [token for token in it]\n",
    "print(len(tokens))\n",
    "print(tokens[:2])"
   ]
  },
  {
   "cell_type": "markdown",
   "metadata": {},
   "source": [
    "# Numericalizer\n",
    "https://pytorch.org/text/stable/vocab.html"
   ]
  },
  {
   "cell_type": "code",
   "execution_count": null,
   "metadata": {},
   "outputs": [],
   "source": [
    "#| export\n",
    "# TODO: add more special characters\n",
    "class Numericalizer():\n",
    "    def __init__(self, tokens_iter:Iterable, specials=[\"<pad>\", \"<unk>\", \"<bos>\", \"<eos>\"]):\n",
    "        self._vocab = self.build_map_from_iter(tokens_iter, specials)\n",
    "    \n",
    "    def build_map_from_iter(self,data_iter:Iterable, specials=None):\n",
    "        self._vocab = torchtext.vocab.build_vocab_from_iterator(data_iter, specials=specials)\n",
    "        if \"<unk>\" in specials:\n",
    "            self._vocab.set_default_index(self._vocab[\"<unk>\"])\n",
    "        return self._vocab\n",
    "\n",
    "    @dispatch\n",
    "    def __call__(self, texts:List[str])->List[List[int]]:\n",
    "        # TODO: check self._vocab has been built\n",
    "        return [self._vocab[text] for text in texts]\n",
    "    \n",
    "    @dispatch\n",
    "    def __call__(self, texts:List[List[str]]):\n",
    "        # TODO: use nested list comprehension\n",
    "        res = []\n",
    "        for row in texts:\n",
    "            res.append([self._vocab[text] for text in row])\n",
    "        return res\n",
    "        \n",
    "    @dispatch\n",
    "    def __call__(self, text:str)->int:\n",
    "        return self._vocab[text]\n",
    "    \n",
    "    @property\n",
    "    def vocab(self):\n",
    "        return(self._vocab)\n",
    "    \n",
    "    @dispatch\n",
    "    def inverse(self, idx:int)->str:\n",
    "        return self._vocab.get_itos()[idx]\n",
    "\n",
    "    @dispatch\n",
    "    def inverse(self, indices:List[int])->List[str]:\n",
    "        return [self._vocab.get_itos()[i] for i in indices]"
   ]
  },
  {
   "cell_type": "markdown",
   "metadata": {},
   "source": [
    "### Usage"
   ]
  },
  {
   "cell_type": "code",
   "execution_count": null,
   "metadata": {},
   "outputs": [
    {
     "name": "stdout",
     "output_type": "stream",
     "text": [
      "# Tokenizer uses spacy backend\n"
     ]
    }
   ],
   "source": [
    "tok = Tokenizer()\n",
    "# In the case of agnews, dataset is: [(index, text)]\n",
    "def token_iterator(data_iter:Iterable)->Iterable:\n",
    "    for _, text in data_iter:\n",
    "        yield tok(text)\n",
    "tok_it= token_iterator(ds)\n",
    "# initialize numericalizer based on token iterator\n",
    "num = Numericalizer(tok_it)"
   ]
  },
  {
   "cell_type": "code",
   "execution_count": null,
   "metadata": {},
   "outputs": [
    {
     "name": "stdout",
     "output_type": "stream",
     "text": [
      "0 1\n"
     ]
    }
   ],
   "source": [
    "print(num('<pad>'), num('<unk>'))"
   ]
  },
  {
   "cell_type": "code",
   "execution_count": null,
   "metadata": {},
   "outputs": [
    {
     "name": "stdout",
     "output_type": "stream",
     "text": [
      "4\n",
      "4\n",
      "[2, 0, 1, 9, 58, 4, 1]\n",
      "<pad>\n",
      "['.', 'Monday']\n",
      "[[2, 0], [1, 9, 58, 4, 1]]\n"
     ]
    }
   ],
   "source": [
    "print(num.vocab['the'])\n",
    "print(num('the'))\n",
    "print(num(['<bos>', '<pad>', '<unk>', 'a', 'this', 'the', 'lkjsdf']))\n",
    "print(num.inverse(0))\n",
    "print(num.inverse([6,55]))\n",
    "print(num([['<bos>', '<pad>'], ['<unk>', 'a', 'this', 'the', 'lkjsdf']]))"
   ]
  },
  {
   "cell_type": "code",
   "execution_count": null,
   "metadata": {},
   "outputs": [
    {
     "name": "stdout",
     "output_type": "stream",
     "text": [
      "[['here', 'we', 'go', '.', 'asdflkj'], ['it', 'was', 'time', '...']]\n",
      "[[534, 1040, 310, 6, 1], [34, 40, 101, 67]]\n",
      "[[534, 1040, 310, 6, 1], [34, 40, 101, 67]]\n"
     ]
    }
   ],
   "source": [
    "tokens = tok([\"here we go. asdflkj\", \"it was time...\"])\n",
    "print(tokens)\n",
    "print([num(tok) for tok in tokens])\n",
    "print(num(tokens))"
   ]
  },
  {
   "cell_type": "markdown",
   "metadata": {},
   "source": [
    "## Hugging Face tokenizers\n",
    "https://huggingface.co/learn/nlp-course/chapter2/4?fw=pt"
   ]
  },
  {
   "cell_type": "code",
   "execution_count": null,
   "metadata": {},
   "outputs": [
    {
     "name": "stderr",
     "output_type": "stream",
     "text": [
      "/opt/bitnami/python/lib/python3.11/site-packages/transformers/tokenization_utils_base.py:1601: FutureWarning: `clean_up_tokenization_spaces` was not set. It will be set to `True` by default. This behavior will be depracted in transformers v4.45, and will be then set to `False` by default. For more details check this issue: https://github.com/huggingface/transformers/issues/31884\n",
      "  warnings.warn(\n"
     ]
    }
   ],
   "source": [
    "tokenizer = AutoTokenizer.from_pretrained(\"gpt2\")"
   ]
  },
  {
   "cell_type": "code",
   "execution_count": null,
   "metadata": {},
   "outputs": [
    {
     "name": "stdout",
     "output_type": "stream",
     "text": [
      "['Using', 'Ġa', 'ĠTrans', 'former', 'Ġnetwork', 'Ġis', 'Ġsimple']\n"
     ]
    }
   ],
   "source": [
    "sequence = \"Using a Transformer network is simple\"\n",
    "tokens = tokenizer.tokenize(sequence)\n",
    "print(tokens)"
   ]
  },
  {
   "cell_type": "code",
   "execution_count": null,
   "metadata": {},
   "outputs": [
    {
     "name": "stdout",
     "output_type": "stream",
     "text": [
      "[12814, 257, 3602, 16354, 3127, 318, 2829]\n"
     ]
    }
   ],
   "source": [
    "ids = tokenizer.convert_tokens_to_ids(tokens)\n",
    "print(ids)"
   ]
  },
  {
   "cell_type": "code",
   "execution_count": null,
   "metadata": {},
   "outputs": [],
   "source": [
    "#| hide\n",
    "import nbdev; nbdev.nbdev_export()"
   ]
  },
  {
   "cell_type": "code",
   "execution_count": null,
   "metadata": {},
   "outputs": [],
   "source": []
  }
 ],
 "metadata": {
  "kernelspec": {
   "display_name": "python3",
   "language": "python",
   "name": "python3"
  }
 },
 "nbformat": 4,
 "nbformat_minor": 2
}
